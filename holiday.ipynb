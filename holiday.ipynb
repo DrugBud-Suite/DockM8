{
 "cells": [
  {
   "cell_type": "code",
   "execution_count": null,
   "metadata": {},
   "outputs": [],
   "source": [
    "import os\n",
    "import subprocess\n",
    "\n",
    "dirs = os.listdir(\"/home/mario/holiday\")\n",
    "\n",
    "print(dirs)"
   ]
  },
  {
   "cell_type": "code",
   "execution_count": 1,
   "metadata": {},
   "outputs": [
    {
     "name": "stdout",
     "output_type": "stream",
     "text": [
      "/home/mario/holiday/dyr/temp has been deleted.\n"
     ]
    }
   ],
   "source": [
    "import os\n",
    "import shutil\n",
    "\n",
    "# Walk through the directory tree starting from \"/home/mario/holiday/\"\n",
    "for root, dirs, files in os.walk('/home/mario/holiday/'):\n",
    "    # Iterate over each directory in \"dirs\"\n",
    "    for dir in dirs:\n",
    "        # Check if the directory name is \"temp\"\n",
    "        if dir == 'temp':\n",
    "            # Create the full path of the directory to be deleted\n",
    "            dir_path = os.path.join(root, dir)\n",
    "            # Use shutil.rmtree to delete the directory and its contents recursively\n",
    "            shutil.rmtree(dir_path)\n",
    "            # Print a message to confirm the deletion\n",
    "            print(f'{dir_path} has been deleted.')"
   ]
  },
  {
   "cell_type": "code",
   "execution_count": null,
   "metadata": {},
   "outputs": [],
   "source": [
    "ncpus = int(os.cpu_count()-2)\n",
    "dir = 'dyr'\n",
    "dockm8_cmd = f'python /home/mario/DockM8/wocondock.py --software /home/mario/DockM8/software/ --proteinfile /home/mario/holiday/{dir}/receptor_protoss_prepared.pdb --pocket reference --reffile /home/mario/holiday/{dir}/crystal_ligand_protoss.sdf --dockinglibrary /home/mario/holiday/{dir}/merged_actives_decoys.sdf --idcolumn \"ID\" --protonation pkasolver --docking GNINA SMINA PLANTS --metric RMSD spyRMSD espsim 3DScore bestpose bestpose_GNINA bestpose_SMINA bestpose_PLANTS --nposes 10 --exhaustiveness 8 --parallel 1 --ncpus '+str(ncpus)+' --clustering KMedoids --rescoring gnina AD4 vinardo LinF9 rfscorevs chemplp'\n",
    "subprocess.call(dockm8_cmd, shell=True)"
   ]
  },
  {
   "cell_type": "code",
   "execution_count": null,
   "metadata": {},
   "outputs": [],
   "source": [
    "for dir in dirs:\n",
    "    ncpus = int(os.cpu_count()-2)\n",
    "    dockm8_cmd = f'python /home/mario/DockM8/wocondock.py --software /home/mario/DockM8/software/ --proteinfile /home/mario/holiday/{dir}/receptor_protoss_prepared.pdb --pocket reference --reffile /home/mario/holiday/{dir}/crystal_ligand_protoss.sdf --dockinglibrary /home/mario/holiday/{dir}/merged_actives_decoys.sdf --idcolumn \"ID\" --protonation pkasolver --docking GNINA SMINA PLANTS --metric RMSD spyRMSD espsim 3DScore bestpose bestpose_GNINA bestpose_SMINA bestpose_PLANTS --nposes 10 --exhaustiveness 8 --parallel 1 --ncpus '+str(ncpus)+' --clustering KMedoids --rescoring gnina AD4 vinardo LinF9 rfscorevs chemplp'\n",
    "    subprocess.call(dockm8_cmd, shell=True)"
   ]
  }
 ],
 "metadata": {
  "kernelspec": {
   "display_name": "wocondock",
   "language": "python",
   "name": "python3"
  },
  "language_info": {
   "codemirror_mode": {
    "name": "ipython",
    "version": 3
   },
   "file_extension": ".py",
   "mimetype": "text/x-python",
   "name": "python",
   "nbconvert_exporter": "python",
   "pygments_lexer": "ipython3",
   "version": "3.8.15"
  },
  "orig_nbformat": 4,
  "vscode": {
   "interpreter": {
    "hash": "10164e316682d9b4b376ca14144ea8a4ff51ebef10350aaa3c3bfce49f02faa4"
   }
  }
 },
 "nbformat": 4,
 "nbformat_minor": 2
}
