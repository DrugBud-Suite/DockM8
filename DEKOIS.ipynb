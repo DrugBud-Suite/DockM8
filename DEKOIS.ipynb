{
 "cells": [
  {
   "cell_type": "markdown",
   "metadata": {},
   "source": [
    "**Import required libraries and scripts**"
   ]
  },
  {
   "cell_type": "code",
   "execution_count": null,
   "metadata": {},
   "outputs": [],
   "source": [
    "import os\n",
    "for dir in os.listdir('/media/mario/T7/DEKOIS/'):\n",
    "    print(dir)"
   ]
  },
  {
   "cell_type": "code",
   "execution_count": 1,
   "metadata": {},
   "outputs": [
    {
     "name": "stderr",
     "output_type": "stream",
     "text": [
      "[09:07:50] Initializing Normalizer\n",
      "/home/mario/anaconda3/envs/wocondock/lib/python3.8/site-packages/torch/cuda/__init__.py:88: UserWarning: CUDA initialization: Unexpected error from cudaGetDeviceCount(). Did you run some cuda functions before calling NumCudaDevices() that might have already set an error? Error 804: forward compatibility was attempted on non supported HW (Triggered internally at ../c10/cuda/CUDAFunctions.cpp:109.)\n",
      "  return torch._C._cuda_getDeviceCount() > 0\n",
      "/home/mario/anaconda3/envs/wocondock/lib/python3.8/site-packages/MDAnalysis/coordinates/chemfiles.py:108: DeprecationWarning: distutils Version classes are deprecated. Use packaging.version instead.\n",
      "  MIN_CHEMFILES_VERSION = LooseVersion(\"0.9\")\n",
      "[TRJ.py:171 - <module>()] netCDF4 is not available. Writing AMBER ncdf files will be slow.\n",
      "/home/mario/anaconda3/envs/wocondock/lib/python3.8/site-packages/MDAnalysis/coordinates/TRJ.py:1209: DeprecationWarning: Please use `netcdf_file` from the `scipy.io` namespace, the `scipy.io.netcdf` namespace is deprecated.\n",
      "  class NCDFPicklable(scipy.io.netcdf.netcdf_file):\n"
     ]
    },
    {
     "name": "stdout",
     "output_type": "stream",
     "text": [
      "ace\n",
      "The working directory has been set to: /media/mario/T7/DEKOIS/ace\n",
      "The folder: /media/mario/T7/DEKOIS/ace/temp already exists\n",
      "adrb2\n",
      "The working directory has been set to: /media/mario/T7/DEKOIS/adrb2\n",
      "The folder: /media/mario/T7/DEKOIS/adrb2/temp already exists\n",
      "aldr\n",
      "The working directory has been set to: /media/mario/T7/DEKOIS/aldr\n",
      "The folder: /media/mario/T7/DEKOIS/aldr/temp already exists\n",
      "andr\n",
      "The working directory has been set to: /media/mario/T7/DEKOIS/andr\n",
      "The folder: /media/mario/T7/DEKOIS/andr/temp already exists\n",
      "cdk2\n",
      "The working directory has been set to: /media/mario/T7/DEKOIS/cdk2\n",
      "The folder: /media/mario/T7/DEKOIS/cdk2/temp already exists\n",
      "cox1\n",
      "The working directory has been set to: /media/mario/T7/DEKOIS/cox1\n",
      "The folder: /media/mario/T7/DEKOIS/cox1/temp already exists\n",
      "dhi1\n",
      "The working directory has been set to: /media/mario/T7/DEKOIS/dhi1\n",
      "The folder: /media/mario/T7/DEKOIS/dhi1/temp already exists\n",
      "The folder: /media/mario/T7/DEKOIS/dhi1/temp/ranking was created\n",
      "\n",
      "[2023-Apr-07 09:07:51]: Failed for dhi1\n",
      "[Errno 2] No such file or directory: '/media/mario/T7/DEKOIS/dhi1/temp/rescoring_3DScore_clustered/allposes_rescored.csv'\n",
      "dyr\n",
      "The working directory has been set to: /media/mario/T7/DEKOIS/dyr\n",
      "The folder: /media/mario/T7/DEKOIS/dyr/temp already exists\n",
      "The folder: /media/mario/T7/DEKOIS/dyr/temp/ranking already exists\n",
      "The folder: /media/mario/T7/DEKOIS/dyr/temp/consensus was created\n",
      "The folder: /media/mario/T7/DEKOIS/dyr/temp/ranking already exists\n",
      "The folder: /media/mario/T7/DEKOIS/dyr/temp/consensus already exists\n",
      "\n",
      "[2023-Apr-07 09:07:52]: Calculating consensus methods for every possible score combination...\n"
     ]
    },
    {
     "name": "stderr",
     "output_type": "stream",
     "text": [
      "100%|██████████| 8/8 [01:28<00:00, 11.10s/it]\n"
     ]
    },
    {
     "name": "stdout",
     "output_type": "stream",
     "text": [
      "hdac2\n",
      "The working directory has been set to: /media/mario/T7/DEKOIS/hdac2\n",
      "The folder: /media/mario/T7/DEKOIS/hdac2/temp already exists\n",
      "The folder: /media/mario/T7/DEKOIS/hdac2/temp/ranking already exists\n",
      "The folder: /media/mario/T7/DEKOIS/hdac2/temp/consensus was created\n",
      "The folder: /media/mario/T7/DEKOIS/hdac2/temp/ranking already exists\n",
      "The folder: /media/mario/T7/DEKOIS/hdac2/temp/consensus already exists\n",
      "\n",
      "[2023-Apr-07 09:09:24]: Calculating consensus methods for every possible score combination...\n"
     ]
    },
    {
     "name": "stderr",
     "output_type": "stream",
     "text": [
      "100%|██████████| 8/8 [01:30<00:00, 11.26s/it]\n"
     ]
    },
    {
     "name": "stdout",
     "output_type": "stream",
     "text": [
      "hivrt\n",
      "The working directory has been set to: /media/mario/T7/DEKOIS/hivrt\n",
      "The folder: /media/mario/T7/DEKOIS/hivrt/temp already exists\n",
      "The folder: /media/mario/T7/DEKOIS/hivrt/temp/ranking already exists\n",
      "The folder: /media/mario/T7/DEKOIS/hivrt/temp/consensus was created\n",
      "The folder: /media/mario/T7/DEKOIS/hivrt/temp/ranking already exists\n",
      "The folder: /media/mario/T7/DEKOIS/hivrt/temp/consensus already exists\n",
      "\n",
      "[2023-Apr-07 09:10:56]: Calculating consensus methods for every possible score combination...\n"
     ]
    },
    {
     "name": "stderr",
     "output_type": "stream",
     "text": [
      "100%|██████████| 8/8 [01:29<00:00, 11.19s/it]\n"
     ]
    },
    {
     "name": "stdout",
     "output_type": "stream",
     "text": [
      "hs90a\n",
      "The working directory has been set to: /media/mario/T7/DEKOIS/hs90a\n",
      "The folder: /media/mario/T7/DEKOIS/hs90a/temp already exists\n",
      "The folder: /media/mario/T7/DEKOIS/hs90a/temp/ranking already exists\n",
      "The folder: /media/mario/T7/DEKOIS/hs90a/temp/consensus was created\n",
      "The folder: /media/mario/T7/DEKOIS/hs90a/temp/ranking already exists\n",
      "The folder: /media/mario/T7/DEKOIS/hs90a/temp/consensus already exists\n",
      "\n",
      "[2023-Apr-07 09:12:28]: Calculating consensus methods for every possible score combination...\n"
     ]
    },
    {
     "name": "stderr",
     "output_type": "stream",
     "text": [
      "100%|██████████| 8/8 [01:29<00:00, 11.21s/it]\n"
     ]
    },
    {
     "name": "stdout",
     "output_type": "stream",
     "text": [
      "igf1r\n",
      "The working directory has been set to: /media/mario/T7/DEKOIS/igf1r\n",
      "The folder: /media/mario/T7/DEKOIS/igf1r/temp already exists\n",
      "The folder: /media/mario/T7/DEKOIS/igf1r/temp/ranking already exists\n",
      "The folder: /media/mario/T7/DEKOIS/igf1r/temp/consensus was created\n",
      "The folder: /media/mario/T7/DEKOIS/igf1r/temp/ranking already exists\n",
      "The folder: /media/mario/T7/DEKOIS/igf1r/temp/consensus already exists\n",
      "\n",
      "[2023-Apr-07 09:14:00]: Calculating consensus methods for every possible score combination...\n"
     ]
    },
    {
     "name": "stderr",
     "output_type": "stream",
     "text": [
      "100%|██████████| 8/8 [01:29<00:00, 11.24s/it]\n"
     ]
    },
    {
     "name": "stdout",
     "output_type": "stream",
     "text": [
      "kith\n",
      "The working directory has been set to: /media/mario/T7/DEKOIS/kith\n",
      "The folder: /media/mario/T7/DEKOIS/kith/temp already exists\n",
      "The folder: /media/mario/T7/DEKOIS/kith/temp/ranking already exists\n",
      "The folder: /media/mario/T7/DEKOIS/kith/temp/consensus was created\n",
      "The folder: /media/mario/T7/DEKOIS/kith/temp/ranking already exists\n",
      "The folder: /media/mario/T7/DEKOIS/kith/temp/consensus already exists\n",
      "\n",
      "[2023-Apr-07 09:15:32]: Calculating consensus methods for every possible score combination...\n"
     ]
    },
    {
     "name": "stderr",
     "output_type": "stream",
     "text": [
      "100%|██████████| 8/8 [01:30<00:00, 11.28s/it]\n"
     ]
    },
    {
     "name": "stdout",
     "output_type": "stream",
     "text": [
      "kpcb\n",
      "The working directory has been set to: /media/mario/T7/DEKOIS/kpcb\n",
      "The folder: /media/mario/T7/DEKOIS/kpcb/temp already exists\n",
      "The folder: /media/mario/T7/DEKOIS/kpcb/temp/ranking already exists\n",
      "The folder: /media/mario/T7/DEKOIS/kpcb/temp/consensus was created\n",
      "The folder: /media/mario/T7/DEKOIS/kpcb/temp/ranking already exists\n",
      "The folder: /media/mario/T7/DEKOIS/kpcb/temp/consensus already exists\n",
      "\n",
      "[2023-Apr-07 09:17:05]: Calculating consensus methods for every possible score combination...\n"
     ]
    },
    {
     "name": "stderr",
     "output_type": "stream",
     "text": [
      "100%|██████████| 8/8 [01:30<00:00, 11.29s/it]\n"
     ]
    },
    {
     "name": "stdout",
     "output_type": "stream",
     "text": [
      "nram\n",
      "The working directory has been set to: /media/mario/T7/DEKOIS/nram\n",
      "The folder: /media/mario/T7/DEKOIS/nram/temp already exists\n",
      "The folder: /media/mario/T7/DEKOIS/nram/temp/ranking already exists\n",
      "The folder: /media/mario/T7/DEKOIS/nram/temp/consensus was created\n",
      "The folder: /media/mario/T7/DEKOIS/nram/temp/ranking already exists\n",
      "The folder: /media/mario/T7/DEKOIS/nram/temp/consensus already exists\n",
      "\n",
      "[2023-Apr-07 09:18:37]: Calculating consensus methods for every possible score combination...\n"
     ]
    },
    {
     "name": "stderr",
     "output_type": "stream",
     "text": [
      "100%|██████████| 8/8 [01:30<00:00, 11.25s/it]\n"
     ]
    },
    {
     "name": "stdout",
     "output_type": "stream",
     "text": [
      "pde5a\n",
      "The working directory has been set to: /media/mario/T7/DEKOIS/pde5a\n",
      "The folder: /media/mario/T7/DEKOIS/pde5a/temp already exists\n",
      "The folder: /media/mario/T7/DEKOIS/pde5a/temp/ranking already exists\n",
      "The folder: /media/mario/T7/DEKOIS/pde5a/temp/consensus was created\n",
      "The folder: /media/mario/T7/DEKOIS/pde5a/temp/ranking already exists\n",
      "The folder: /media/mario/T7/DEKOIS/pde5a/temp/consensus already exists\n",
      "\n",
      "[2023-Apr-07 09:20:10]: Calculating consensus methods for every possible score combination...\n"
     ]
    },
    {
     "name": "stderr",
     "output_type": "stream",
     "text": [
      "100%|██████████| 8/8 [01:30<00:00, 11.31s/it]\n"
     ]
    },
    {
     "name": "stdout",
     "output_type": "stream",
     "text": [
      "pnph\n",
      "The working directory has been set to: /media/mario/T7/DEKOIS/pnph\n",
      "The folder: /media/mario/T7/DEKOIS/pnph/temp already exists\n",
      "The folder: /media/mario/T7/DEKOIS/pnph/temp/ranking was created\n",
      "\n",
      "[2023-Apr-07 09:21:42]: Failed for pnph\n",
      "[Errno 2] No such file or directory: '/media/mario/T7/DEKOIS/pnph/temp/rescoring_RMSD_clustered/allposes_rescored.csv'\n",
      "prgr\n",
      "The working directory has been set to: /media/mario/T7/DEKOIS/prgr\n",
      "The folder: /media/mario/T7/DEKOIS/prgr/temp already exists\n",
      "The folder: /media/mario/T7/DEKOIS/prgr/temp/ranking already exists\n",
      "The folder: /media/mario/T7/DEKOIS/prgr/temp/consensus was created\n",
      "The folder: /media/mario/T7/DEKOIS/prgr/temp/ranking already exists\n",
      "The folder: /media/mario/T7/DEKOIS/prgr/temp/consensus already exists\n",
      "\n",
      "[2023-Apr-07 09:21:43]: Calculating consensus methods for every possible score combination...\n"
     ]
    },
    {
     "name": "stderr",
     "output_type": "stream",
     "text": [
      "100%|██████████| 8/8 [01:29<00:00, 11.20s/it]\n"
     ]
    }
   ],
   "source": [
    "import os\n",
    "from scripts.library_preparation import *\n",
    "from scripts.utilities import *\n",
    "from scripts.docking_functions import *\n",
    "from scripts.clustering_functions import *\n",
    "from scripts.rescoring_functions import *\n",
    "from scripts.performance_calculation import *\n",
    "from scripts.performance_calculation import *\n",
    "from scripts.dogsitescorer import *\n",
    "from scripts.get_pocket import *\n",
    "\n",
    "for dir in os.listdir('/media/mario/T7/DEKOIS/'):\n",
    "    print(dir)\n",
    "    software = '/home/mario/DockM8/software'\n",
    "    protein_file = f'/media/mario/T7/DEKOIS/{dir}/receptor_protoss_prepared.pdb'\n",
    "    ref_file = f'/media/mario/T7/DEKOIS/{dir}/crystal_ligand_protoss.sdf'\n",
    "    pocket = 'reference'\n",
    "    protonation = 'pkasolver'\n",
    "    docking_library = f'/media/mario/T7/DEKOIS/{dir}/merged_actives_decoys.sdf'\n",
    "    docking_programs = ['GNINA', 'SMINA', 'PLANTS']\n",
    "    clustering_metrics = ['RMSD', 'spyRMSD', 'espsim', '3DScore', 'bestpose', 'bestpose_GNINA', 'bestpose_SMINA', 'bestpose_PLANTS']\n",
    "    clustering_method = 'KMedoids'\n",
    "    rescoring= ['gnina', 'AD4', 'chemplp', 'rfscorevs', 'LinF9', 'SCORCH', 'RTMScore', 'vinardo']\n",
    "    id_column = 'ID'\n",
    "    n_poses = 10\n",
    "    exhaustiveness = 8\n",
    "    parallel = 1\n",
    "    ncpus = int(os.cpu_count()/2)\n",
    "    #Create a temporary folder for all further calculations\n",
    "    w_dir = os.path.dirname(protein_file)\n",
    "    print('The working directory has been set to:', w_dir)\n",
    "    create_temp_folder(w_dir+'/temp')\n",
    "    \n",
    "    try:\n",
    "        if os.path.isfile(w_dir+f'/temp/consensus/EF_single_functions.csv') == False:\n",
    "            calculate_EF_single_functions(w_dir, docking_library, clustering_metrics)\n",
    "        if os.path.isfile(w_dir+f'/temp/consensus/consensus_summary.csv') == False:\n",
    "            apply_consensus_methods_combinations(w_dir, docking_library, clustering_metrics)\n",
    "    except Exception as e:\n",
    "        printlog(f'Failed for {dir}')\n",
    "        print(e)\n"
   ]
  },
  {
   "cell_type": "code",
   "execution_count": null,
   "metadata": {},
   "outputs": [],
   "source": [
    "def rename_columns_in_csv(root_dir, target_file, col_rename_dict):\n",
    "    for dirpath, dirnames, filenames in os.walk(root_dir):\n",
    "        for filename in filenames:\n",
    "            if filename == target_file:\n",
    "                filepath = os.path.join(dirpath, filename)\n",
    "\n",
    "                # Read the CSV file\n",
    "                df = pd.read_csv(filepath)\n",
    "\n",
    "                # Rename columns according to the dictionary\n",
    "                df.rename(columns=col_rename_dict, inplace=True)\n",
    "\n",
    "                # Write the modified CSV file back to the same location\n",
    "                df.to_csv(filepath, index=False)\n",
    "                print(f\"Columns renamed in: {filepath}\")\n",
    "\n",
    "root_directory = \"/media/mario/T7/DEKOIS/\"\n",
    "target_csv_file = \"allposes_rescored.csv\"\n",
    "column_rename_dict = {\n",
    "    \"AD4_Affinity\": \"AD4\",\n",
    "    \"Vinardo_Affinity\": \"Vinardo\",\n",
    "    \"GNINA_Affinity\": \"GNINA\",\n",
    "    \"GNINA_CNN_Score\": \"CNN-Score\",\n",
    "    \"GNINA_CNN_Affinity\": \"CNN-Affinity\",\n",
    "    'LinF9_Affinity':'LinF9',\n",
    "    'SCORCH_pose_score':'SCORCH',\n",
    "    # Add more column names to be renamed here\n",
    "}\n",
    "rename_columns_in_csv(root_directory, target_csv_file, column_rename_dict)"
   ]
  },
  {
   "cell_type": "code",
   "execution_count": null,
   "metadata": {},
   "outputs": [],
   "source": [
    "import os\n",
    "import pandas as pd\n",
    "\n",
    "def rename_and_merge_csv_files(root_dir, target_file, output_file):\n",
    "    merged_df = None\n",
    "\n",
    "    for dirpath, dirnames, filenames in os.walk(root_dir):\n",
    "        for filename in filenames:\n",
    "            if filename == target_file:\n",
    "                filepath = os.path.join(dirpath, filename)\n",
    "                df = pd.read_csv(filepath, index_col=0)\n",
    "                dirname = os.path.basename(dirpath)\n",
    "                print(dirpath.replace('/media/mario/T7/DEKOIS/', '').replace('/temp/consensus', ''))\n",
    "                df.rename(columns={\"EF1%\": dirpath.replace('/media/mario/T7/DEKOIS/', '').replace('/temp/consensus', '')}, inplace=True)\n",
    "                df.drop(columns='EF10%', inplace=True)\n",
    "                if merged_df is None:\n",
    "                    merged_df = df\n",
    "                else:\n",
    "                    merged_df = pd.merge(merged_df, df, on=[\"Scoring Function\", \"Clustering Metric\"])\n",
    "\n",
    "    if merged_df is not None:\n",
    "        # Adding the average column\n",
    "        columns_to_exclude = ['method_name', 'selected_columns', 'clustering_metric']\n",
    "        numeric_columns = [col for col in merged_df.columns if col not in columns_to_exclude]\n",
    "        merged_df['Average'] = merged_df[numeric_columns].mean(axis=1)\n",
    "        merged_df.to_csv(output_file)\n",
    "        print(f\"Merged CSV file saved to: {output_file}\")\n",
    "\n",
    "\n",
    "root_directory = \"/media/mario/T7/DEKOIS/\"\n",
    "target_csv_file = \"EF_single_functions.csv\"\n",
    "output_csv_file = \"merged_output_DEKOIS.csv\"\n",
    "\n",
    "rename_and_merge_csv_files(root_directory, target_csv_file, output_csv_file)\n"
   ]
  },
  {
   "cell_type": "code",
   "execution_count": null,
   "metadata": {},
   "outputs": [],
   "source": [
    "import os\n",
    "import pandas as pd\n",
    "\n",
    "def rename_and_merge_csv_files(root_dir, target_file, output_file):\n",
    "    merged_df = None\n",
    "\n",
    "    for dirpath, dirnames, filenames in os.walk(root_dir):\n",
    "        for filename in filenames:\n",
    "            if filename == target_file:\n",
    "                filepath = os.path.join(dirpath, filename)\n",
    "                df = pd.read_csv(filepath, index_col=0)\n",
    "                dirname = os.path.basename(dirpath)\n",
    "                df.rename(columns={\"EF1%\": dirpath.replace('/media/mario/T7/DEKOIS/', '').replace('/temp/consensus', '')}, inplace=True)\n",
    "                if merged_df is None:\n",
    "                    merged_df = df\n",
    "                else:\n",
    "                    merged_df = pd.merge(merged_df, df, on=[\"clustering_method\", \"selected_columns\", 'method_name'])\n",
    "\n",
    "    if merged_df is not None:\n",
    "        # Adding the average column\n",
    "        columns_to_exclude = ['method_name', 'selected_columns', 'clustering_metric']\n",
    "        numeric_columns = [col for col in merged_df.columns if col not in columns_to_exclude]\n",
    "        merged_df['Average'] = merged_df[numeric_columns].mean(axis=1)\n",
    "        print(merged_df.head())\n",
    "        merged_df.to_csv(output_file)\n",
    "        print(f\"Merged CSV file saved to: {output_file}\")\n",
    "\n",
    "root_directory = \"/media/mario/T7/DEKOIS/\"\n",
    "target_csv_file = \"consensus_summary.csv\"\n",
    "output_csv_file = \"merged_output_consensus1.csv\"\n",
    "\n",
    "rename_and_merge_csv_files(root_directory, target_csv_file, output_csv_file)\n"
   ]
  }
 ],
 "metadata": {
  "kernelspec": {
   "display_name": "Python 3.8.13 ('wocondock')",
   "language": "python",
   "name": "python3"
  },
  "language_info": {
   "codemirror_mode": {
    "name": "ipython",
    "version": 3
   },
   "file_extension": ".py",
   "mimetype": "text/x-python",
   "name": "python",
   "nbconvert_exporter": "python",
   "pygments_lexer": "ipython3",
   "version": "3.8.15"
  },
  "orig_nbformat": 4,
  "vscode": {
   "interpreter": {
    "hash": "ac9acbc93af693fb4e01b586b9d883cf48eab2850c268069ebbf85c5f9fbe2b9"
   }
  }
 },
 "nbformat": 4,
 "nbformat_minor": 2
}
