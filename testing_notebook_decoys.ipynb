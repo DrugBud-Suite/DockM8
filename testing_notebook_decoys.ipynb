{
 "cells": [
  {
   "attachments": {},
   "cell_type": "markdown",
   "metadata": {},
   "source": [
    "**Import required libraries and scripts**"
   ]
  },
  {
   "cell_type": "code",
   "execution_count": 18,
   "metadata": {},
   "outputs": [
    {
     "name": "stderr",
     "output_type": "stream",
     "text": [
      "2023-12-22 02:43:41.994195: E external/local_xla/xla/stream_executor/cuda/cuda_dnn.cc:9261] Unable to register cuDNN factory: Attempting to register factory for plugin cuDNN when one has already been registered\n",
      "2023-12-22 02:43:41.994332: E external/local_xla/xla/stream_executor/cuda/cuda_fft.cc:607] Unable to register cuFFT factory: Attempting to register factory for plugin cuFFT when one has already been registered\n",
      "2023-12-22 02:43:42.104515: E external/local_xla/xla/stream_executor/cuda/cuda_blas.cc:1515] Unable to register cuBLAS factory: Attempting to register factory for plugin cuBLAS when one has already been registered\n",
      "2023-12-22 02:43:42.330523: I tensorflow/core/platform/cpu_feature_guard.cc:182] This TensorFlow binary is optimized to use available CPU instructions in performance-critical operations.\n",
      "To enable the following instructions: AVX2 FMA, in other operations, rebuild TensorFlow with the appropriate compiler flags.\n",
      "2023-12-22 02:43:44.558707: W tensorflow/compiler/tf2tensorrt/utils/py_utils.cc:38] TF-TRT Warning: Could not find TensorRT\n"
     ]
    }
   ],
   "source": [
    "#Import required libraries and scripts\n",
    "from scripts.library_preparation import *\n",
    "from scripts.utilities import *\n",
    "from scripts.docking_functions import *\n",
    "from scripts.clustering_functions import *\n",
    "from scripts.rescoring_functions import *\n",
    "from scripts.consensus_methods import *\n",
    "from scripts.performance_calculation import *\n",
    "from scripts.dogsitescorer import *\n",
    "from scripts.get_pocket import *\n",
    "from scripts.postprocessing import *\n",
    "from scripts.protein_preparation import *\n",
    "from software.DeepCoy.generate_decoys import generate_decoys"
   ]
  },
  {
   "cell_type": "code",
   "execution_count": 10,
   "metadata": {},
   "outputs": [],
   "source": [
    "CWD = os.getcwd()\n",
    "software = Path(CWD+'/software')\n",
    "receptor = Path(CWD+'/testing_single_docking/protein.pdb')\n",
    "ref_file = Path(CWD+'/testing_single_docking/ref.sdf')\n",
    "actives = Path(CWD+'/testing_single_docking/library.sdf')\n",
    "docking_library = Path(CWD+'/testing_single_docking/library.sdf')\n",
    "docking_programs = DOCKING_PROGRAMS\n",
    "clustering_metrics = list(CLUSTERING_METRICS.keys())+['bestpose', 'bestpose_GNINA', 'bestpose_SMINA', 'bestpose_PLANTS', 'bestpose_QVINAW', 'bestpose_QVINA2']\n",
    "rescoring_functions = list(RESCORING_FUNCTIONS.keys())\n",
    "rescoring_functions.remove('RTMScore')\n",
    "id_column = 'ID'\n",
    "n_poses = 10\n",
    "exhaustiveness = 8\n",
    "conformers = 'GypsumDL'\n",
    "protonation = 'GypsumDL'\n",
    "ncpus = 5\n",
    "pocket = 'reference'\n",
    "prepare_protein = True\n",
    "gen_decoys = True\n",
    "\n",
    "open('log.txt', 'w').close()\n",
    "\n",
    "if prepare_protein == True:\n",
    "    #Prepare the protein\n",
    "    prepared_receptor = prepare_protein_protoss(receptor)\n",
    "else:\n",
    "    prepared_receptor = receptor\n",
    "\n",
    "#Create a temporary folder for all further calculations\n",
    "w_dir = prepared_receptor.parent / prepared_receptor.stem\n",
    "print('The working directory has been set to:', w_dir)\n",
    "(w_dir).mkdir(exist_ok=True)\n",
    "\n",
    "if pocket == 'reference':\n",
    "    pocket_definition = get_pocket(ref_file, prepared_receptor, 8)\n",
    "    print(pocket_definition)\n",
    "if pocket == 'RoG':\n",
    "    pocket_definition = get_pocket_RoG(ref_file, prepared_receptor)\n",
    "    print(pocket_definition)\n",
    "elif pocket == 'dogsitescorer':\n",
    "    pocket_definition = binding_site_coordinates_dogsitescorer(prepared_receptor, w_dir, method='volume')\n",
    "    print(pocket_definition)\n",
    "    \n",
    "if gen_decoys == True:\n",
    "    if (w_dir / 'DeepCoy' / 'test_set.sdf').is_file() == False:\n",
    "        test_set = generate_decoys(actives, 10, 'DUDE', software)\n",
    "    else:\n",
    "        test_set = Path(w_dir / 'DeepCoy' / 'test_set.sdf')\n",
    "    w_dir = w_dir / 'DeepCoy'\n",
    "    \n",
    "if (w_dir / 'final_library.sdf').is_file() == False:\n",
    "    prepare_library(test_set, w_dir, id_column, conformers, protonation, software, ncpus)\n",
    "\n",
    "docking(w_dir, prepared_receptor, pocket_definition, software, docking_programs, exhaustiveness, n_poses, 5, 'multiprocessing')\n",
    "\n",
    "concat_all_poses(w_dir, docking_programs, prepared_receptor, ncpus)\n",
    "\n",
    "print('Loading all poses SDF file...')\n",
    "tic = time.perf_counter()\n",
    "all_poses = PandasTools.LoadSDF(str(w_dir / 'allposes.sdf'), idName='Pose ID', molColName='Molecule', includeFingerprints=False, strictParsing=True)\n",
    "print(f'Loaded {len(all_poses)} poses.')\n",
    "toc = time.perf_counter()\n",
    "print(f'Finished loading all poses SDF in {toc-tic:0.4f}!...')\n",
    "\n",
    "for metric in clustering_metrics:\n",
    "    if os.path.isfile(w_dir / f'clustering/{metric}_clustered.sdf') == False:\n",
    "        cluster_pebble(metric, 'KMedoids', w_dir, prepared_receptor, pocket_definition, software, all_poses, ncpus)\n",
    "\n",
    "for metric in clustering_metrics:\n",
    "    rescore_poses(w_dir, prepared_receptor, pocket_definition, software, w_dir / 'clustering' / f'{metric}_clustered.sdf', rescoring_functions , ncpus)\n",
    "        \n",
    "performance = calculate_performance(w_dir, actives, [10, 5, 2, 1, 0.5])\n",
    "\n",
    "performance = pd.read_csv('/home/tony/11betahsd1/11betahsd1_p_protoss/all_results.csv', index_col=None)\n",
    "#Determine optimal conditions\n",
    "optimal_conditions = performance.sort_values(by='EF1', ascending=False).iloc[0].to_dict()\n",
    "print(optimal_conditions)\n",
    "if optimal_conditions['clustering'] == 'bestpose':\n",
    "    pass\n",
    "if '_' in optimal_conditions['clustering']:\n",
    "    docking_programs = list(optimal_conditions['clustering'].split('_')[1])\n",
    "rescoring_functions = list(optimal_conditions['scoring'].split('_'))\n",
    "\n",
    "w_dir = prepared_receptor.parent / prepared_receptor.stem\n",
    "\n",
    "if (w_dir / 'final_library.sdf').is_file() == False:\n",
    "    prepare_library(test_set, w_dir, id_column, conformers, protonation, software, ncpus)\n",
    "\n",
    "docking(w_dir, prepared_receptor, pocket_definition, software, docking_programs, exhaustiveness, n_poses, 5, 'multiprocessing')\n",
    "\n",
    "concat_all_poses(w_dir, docking_programs, prepared_receptor, ncpus)\n",
    "\n",
    "print('Loading all poses SDF file...')\n",
    "tic = time.perf_counter()\n",
    "all_poses = PandasTools.LoadSDF(str(w_dir / 'allposes.sdf'), idName='Pose ID', molColName='Molecule', includeFingerprints=False, strictParsing=True)\n",
    "print(f'Loaded {len(all_poses)} poses.')\n",
    "toc = time.perf_counter()\n",
    "print(f'Finished loading all poses SDF in {toc-tic:0.4f}!...')\n",
    "\n",
    "if os.path.isfile(w_dir / f'clustering/{optimal_conditions[\"clustering\"]}_clustered.sdf') == False:\n",
    "    cluster_pebble(optimal_conditions['clustering'], 'KMedoids', w_dir, prepared_receptor, pocket_definition, software, all_poses, ncpus)\n",
    "\n",
    "for metric in clustering_metrics:\n",
    "    rescore_poses(w_dir, prepared_receptor, pocket_definition, software, w_dir / 'clustering' / f'{metric}_clustered.sdf', rescoring_functions , ncpus)\n",
    "\n",
    "apply_consensus_methods(w_dir, optimal_conditions['clustering'], optimal_conditions['consensus'], rescoring_functions, 'min_max')\n"
   ]
  },
  {
   "cell_type": "code",
   "execution_count": null,
   "metadata": {},
   "outputs": [],
   "source": [
    "if prepare_protein == True:\n",
    "    #Prepare the protein\n",
    "    prepared_receptor = prepare_protein_protoss(receptor)\n",
    "else:\n",
    "    prepared_receptor = receptor\n",
    "\n",
    "#Create a temporary folder for all further calculations\n",
    "w_dir = prepared_receptor.parent / prepared_receptor.stem\n",
    "print('The working directory has been set to:', w_dir)\n",
    "(w_dir).mkdir(exist_ok=True)\n",
    "\n",
    "if pocket == 'reference':\n",
    "    pocket_definition = get_pocket(ref_file, prepared_receptor, 8)\n",
    "    print(pocket_definition)\n",
    "if pocket == 'RoG':\n",
    "    pocket_definition = get_pocket_RoG(ref_file, prepared_receptor)\n",
    "    print(pocket_definition)\n",
    "elif pocket == 'dogsitescorer':\n",
    "    pocket_definition = binding_site_coordinates_dogsitescorer(prepared_receptor, w_dir, method='volume')\n",
    "    print(pocket_definition)"
   ]
  },
  {
   "cell_type": "code",
   "execution_count": null,
   "metadata": {},
   "outputs": [],
   "source": [
    "if (w_dir / 'final_library.sdf').is_file() == False:\n",
    "    prepare_library(docking_library, w_dir, id_column, conformers, protonation, software, ncpus)"
   ]
  },
  {
   "cell_type": "code",
   "execution_count": null,
   "metadata": {},
   "outputs": [],
   "source": [
    "docking(w_dir, prepared_receptor, pocket_definition, software, docking_programs, exhaustiveness, n_poses, 5, 'multiprocessing')"
   ]
  },
  {
   "cell_type": "code",
   "execution_count": null,
   "metadata": {},
   "outputs": [],
   "source": [
    "concat_all_poses(w_dir, docking_programs, prepared_receptor, ncpus)"
   ]
  },
  {
   "cell_type": "code",
   "execution_count": null,
   "metadata": {},
   "outputs": [],
   "source": [
    "print('Loading all poses SDF file...')\n",
    "tic = time.perf_counter()\n",
    "all_poses = PandasTools.LoadSDF(str(w_dir / 'allposes.sdf'), idName='Pose ID', molColName='Molecule', includeFingerprints=False, strictParsing=True)\n",
    "print(f'Loaded {len(all_poses)} poses.')\n",
    "toc = time.perf_counter()\n",
    "print(f'Finished loading all poses SDF in {toc-tic:0.4f}!...')\n"
   ]
  },
  {
   "cell_type": "code",
   "execution_count": null,
   "metadata": {},
   "outputs": [],
   "source": [
    "for metric in clustering_metrics:\n",
    "    if os.path.isfile(w_dir / f'clustering/{metric}_clustered.sdf') == False:\n",
    "        cluster_pebble(metric, 'KMedoids', w_dir, prepared_receptor, pocket_definition, software, all_poses, ncpus)"
   ]
  },
  {
   "cell_type": "code",
   "execution_count": null,
   "metadata": {},
   "outputs": [],
   "source": [
    "for metric in clustering_metrics:\n",
    "        rescore_poses(w_dir, prepared_receptor, pocket_definition, software, w_dir / 'clustering' / f'{metric}_clustered.sdf', rescoring_functions , ncpus)"
   ]
  },
  {
   "cell_type": "code",
   "execution_count": null,
   "metadata": {},
   "outputs": [],
   "source": [
    "apply_consensus_methods(w_dir, 'bestpose', 'ECR_best', rescoring_functions, 'min_max')"
   ]
  }
 ],
 "metadata": {
  "kernelspec": {
   "display_name": "wocondock",
   "language": "python",
   "name": "python3"
  },
  "language_info": {
   "codemirror_mode": {
    "name": "ipython",
    "version": 3
   },
   "file_extension": ".py",
   "mimetype": "text/x-python",
   "name": "python",
   "nbconvert_exporter": "python",
   "pygments_lexer": "ipython3",
   "version": "3.10.13"
  },
  "orig_nbformat": 4,
  "vscode": {
   "interpreter": {
    "hash": "10164e316682d9b4b376ca14144ea8a4ff51ebef10350aaa3c3bfce49f02faa4"
   }
  }
 },
 "nbformat": 4,
 "nbformat_minor": 2
}
