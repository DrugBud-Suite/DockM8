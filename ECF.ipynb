{
 "cells": [
  {
   "attachments": {},
   "cell_type": "markdown",
   "metadata": {},
   "source": [
    "**Import required libraries and scripts**"
   ]
  },
  {
   "cell_type": "code",
   "execution_count": 1,
   "metadata": {},
   "outputs": [
    {
     "name": "stderr",
     "output_type": "stream",
     "text": [
      "[14:18:44] Initializing Normalizer\n"
     ]
    }
   ],
   "source": [
    "#Import required libraries and scripts\n",
    "from scripts.library_preparation import *\n",
    "from scripts.utilities import *\n",
    "from scripts.docking_functions import *\n",
    "from scripts.clustering_functions import *\n",
    "from scripts.rescoring_functions import *\n",
    "from scripts.consensus_methods import *\n",
    "from scripts.performance_calculation import *\n",
    "from scripts.dogsitescorer import *\n",
    "from scripts.get_pocket import *"
   ]
  },
  {
   "attachments": {},
   "cell_type": "markdown",
   "metadata": {},
   "source": [
    "### Data input, then create each path \n",
    "- suitable for every machine"
   ]
  },
  {
   "cell_type": "code",
   "execution_count": 2,
   "metadata": {},
   "outputs": [],
   "source": [
    "protein_name = 'protein.pdb'\n",
    "ligand_library = 'library.sdf'\n",
    "reference_ligand = 'ref.sdf'"
   ]
  },
  {
   "attachments": {},
   "cell_type": "markdown",
   "metadata": {},
   "source": [
    "### Global Path for every local machine"
   ]
  },
  {
   "cell_type": "code",
   "execution_count": 3,
   "metadata": {},
   "outputs": [],
   "source": [
    "HERE = Path(_dh[-1])\n",
    "DATA = (HERE / \"wocondock_main\")\n",
    "\n",
    "\n",
    "# Move input data (protein pdb, docking library and reference ligand) to data directory\n",
    "software = str(HERE / \"software\")\n",
    "protein_file = str(DATA / protein_name)\n",
    "docking_library = str(DATA / ligand_library)\n",
    "ref_file = str(DATA / reference_ligand)"
   ]
  },
  {
   "attachments": {},
   "cell_type": "markdown",
   "metadata": {},
   "source": [
    "### DockM8 config"
   ]
  },
  {
   "cell_type": "code",
   "execution_count": 4,
   "metadata": {},
   "outputs": [
    {
     "name": "stdout",
     "output_type": "stream",
     "text": [
      "The working directory has been set to: /home/ibrahim/Gitlab/DockM8/wocondock_main\n"
     ]
    }
   ],
   "source": [
    "pocket = 'reference'\n",
    "protonation = 'pkasolver'\n",
    "docking_programs = ['GNINA', 'SMINA', 'PLANTS']\n",
    "clustering_metrics = ['RMSD', 'spyRMSD', 'espsim', 'bestpose', 'bestpose_PLANTS', 'bestpose_GNINA', 'bestpose_SMINA']\n",
    "clustering_method = 'KMedoids'\n",
    "rescoring= ['gnina', 'AD4', 'chemplp', 'rfscorevs', 'LinF9', 'RTMScore', 'vinardo', 'SCORCH']\n",
    "id_column = 'ID'\n",
    "n_poses = 10\n",
    "exhaustiveness = 8\n",
    "ncpus = 14\n",
    "#Create a temporary folder for all further calculations\n",
    "w_dir = Path(protein_file).parent\n",
    "print('The working directory has been set to:', w_dir)\n",
    "(DATA/'temp').mkdir(exist_ok=True)"
   ]
  },
  {
   "cell_type": "code",
   "execution_count": 5,
   "metadata": {},
   "outputs": [
    {
     "name": "stdout",
     "output_type": "stream",
     "text": [
      "\n",
      "[2023-Jun-28 11:48:10]: Extracting pocket from /home/ibrahim/Gitlab/DockM8/wocondock_main/protein.pdb using /home/ibrahim/Gitlab/DockM8/wocondock_main/ref.sdf as reference ligand\n",
      "\n",
      "[2023-Jun-28 11:48:19]: Finished extracting pocket from /home/ibrahim/Gitlab/DockM8/wocondock_main/protein.pdb using /home/ibrahim/Gitlab/DockM8/wocondock_main/ref.sdf as reference ligand\n",
      "{'center': [16.7, -2.69, 17.61], 'size': [16.0, 16.0, 16.0]}\n"
     ]
    }
   ],
   "source": [
    "# if os.path.isfile(protein_file.replace('.pdb', '_pocket.pdb')) == False:\n",
    "if pocket == 'reference':\n",
    "    pocket_definition = get_pocket(ref_file, protein_file, 8)\n",
    "    print(pocket_definition)\n",
    "elif pocket == 'dogsitescorer':\n",
    "    pocket_definition = binding_site_coordinates_dogsitescorer(protein_file, w_dir, method='volume')"
   ]
  },
  {
   "cell_type": "code",
   "execution_count": 6,
   "metadata": {},
   "outputs": [],
   "source": [
    "if os.path.isfile(w_dir / 'temp' / 'final_library.sdf') == False:\n",
    "    prepare_library(docking_library, id_column, protonation, ncpus)"
   ]
  },
  {
   "cell_type": "code",
   "execution_count": 11,
   "metadata": {},
   "outputs": [
    {
     "name": "stdout",
     "output_type": "stream",
     "text": [
      "\n",
      "[2023-Jun-28 11:49:00]: Split final library folder already exists...\n",
      "\n",
      "[2023-Jun-28 11:49:00]: Converting protein file to .mol2 format for PLANTS docking...\n"
     ]
    },
    {
     "name": "stderr",
     "output_type": "stream",
     "text": [
      "1 molecule converted\n",
      "1 molecule converted\n",
      "1 molecule converted\n",
      "1 molecule converted\n",
      "1 molecule converted\n",
      "1 molecule converted\n",
      "1 molecule converted\n",
      "1 molecule converted\n",
      "1 molecule converted\n"
     ]
    },
    {
     "name": "stdout",
     "output_type": "stream",
     "text": [
      "\n",
      "[2023-Jun-28 11:49:01]: Docking split files using PLANTS...\n"
     ]
    },
    {
     "name": "stderr",
     "output_type": "stream",
     "text": [
      "Submitting PLANTS jobs: 100%|██████████| 9/9 [00:00<00:00, 62.68Jobs/s]\n",
      "Docking with PLANTS:   0%|          | 0/9 [00:00<?, ?it/s]"
     ]
    },
    {
     "name": "stdout",
     "output_type": "stream",
     "text": [
      "\n",
      "\n",
      "                  PLANTS\n",
      "        Protein-Ligand ANT System\n",
      "               version 1.2\n",
      "\n",
      "\n",
      "author: Oliver Korb\n",
      "\n",
      "scientific contributors: T.E. Exner, T. Stuetzle\n",
      "\n",
      "contact: Oliver.Korb@uni-konstanz.de\n",
      "\n",
      "\n",
      "run PLANTS: PLANTS --mode screen yourconfigfile\n",
      "\n",
      "\n",
      "\n",
      "                  PLANTS\n",
      "        Protein-Ligand ANT System\n",
      "               version 1.2\n",
      "\n",
      "\n",
      "author: Oliver Korb\n",
      "\n",
      "scientific contributors: T.E. Exner, T. Stuetzle\n",
      "\n",
      "contact: Oliver.Korb@uni-konstanz.de\n",
      "\n",
      "\n",
      "run PLANTS: PLANTS --mode screen yourconfigfile\n",
      "\n",
      "\n",
      "\n",
      "                  PLANTS\n",
      "        Protein-Ligand ANT System\n",
      "               version 1.2\n",
      "\n",
      "\n",
      "author: Oliver Korb\n",
      "\n",
      "scientific contributors: T.E. Exner, T. Stuetzle\n",
      "\n",
      "contact: Oliver.Korb@uni-konstanz.de\n",
      "\n",
      "\n",
      "run PLANTS: PLANTS --mode screen yourconfigfile\n",
      "\n",
      "\n",
      "\n",
      "                  PLANTS\n",
      "        Protein-Ligand ANT System\n",
      "               version 1.2\n",
      "\n",
      "\n",
      "author: Oliver Korb\n",
      "\n",
      "scientific contributors: T.E. Exner, T. Stuetzle\n",
      "\n",
      "contact: Oliver.Korb@uni-konstanz.de\n",
      "\n",
      "\n",
      "run PLANTS: PLANTS --mode screen yourconfigfile\n",
      "\n",
      "\n",
      "\n",
      "                  PLANTS\n",
      "        Protein-Ligand ANT System\n",
      "               version 1.2\n",
      "\n",
      "\n",
      "author: Oliver Korb\n",
      "\n",
      "scientific contributors: T.E. Exner, T. Stuetzle\n",
      "\n",
      "contact: Oliver.Korb@uni-konstanz.de\n",
      "\n",
      "\n",
      "run PLANTS: PLANTS --mode screen yourconfigfile\n",
      "\n",
      "\n",
      "\n",
      "                  PLANTS\n",
      "        Protein-Ligand ANT System\n",
      "               version 1.2\n",
      "\n",
      "\n",
      "author: Oliver Korb\n",
      "\n",
      "scientific contributors: T.E. Exner, T. Stuetzle\n",
      "\n",
      "contact: Oliver.Korb@uni-konstanz.de\n",
      "\n",
      "\n",
      "run PLANTS: PLANTS --mode screen yourconfigfile\n",
      "\n",
      "\n",
      "\n",
      "\n",
      "\n",
      "                  PLANTS\n",
      "        Protein-Ligand ANT System\n",
      "               version 1.2\n",
      "                  PLANTS\n",
      "        Protein-Ligand ANT System\n",
      "               version 1.2\n",
      "\n",
      "\n",
      "\n",
      "\n",
      "author: Oliver Korb\n",
      "author: Oliver Korb\n",
      "\n",
      "\n",
      "scientific contributors: T.E. Exner, T. Stuetzle\n",
      "scientific contributors: T.E. Exner, T. Stuetzle\n",
      "\n",
      "\n",
      "contact: Oliver.Korb@uni-konstanz.de\n",
      "contact: Oliver.Korb@uni-konstanz.de\n",
      "\n",
      "\n",
      "\n",
      "\n",
      "run PLANTS: PLANTS --mode screen yourconfigfile\n",
      "run PLANTS: PLANTS --mode screen yourconfigfile\n",
      "\n",
      "\n",
      "\n",
      "\n",
      "                  PLANTS\n",
      "        Protein-Ligand ANT System\n",
      "               version 1.2\n",
      "\n",
      "\n",
      "author: Oliver Korb\n",
      "\n",
      "scientific contributors: T.E. Exner, T. Stuetzle\n",
      "\n",
      "contact: Oliver.Korb@uni-konstanz.de\n",
      "\n",
      "\n",
      "run PLANTS: PLANTS --mode screen yourconfigfile\n",
      "\n"
     ]
    },
    {
     "name": "stderr",
     "output_type": "stream",
     "text": [
      "PLANTS warning: Unknown search speed setting '1'.\n",
      "PLANTS warning: Unknown search speed setting '1'.\n",
      "PLANTS warning: Unknown search speed setting '1'.\n",
      "PLANTS warning: Unknown search speed setting '1'.\n",
      "PLANTS warning: Unknown search speed setting '1'.\n",
      "PLANTS warning: Unknown search speed setting '1'.\n",
      "PLANTS warning: Unknown search speed setting 'PLANTS warning: Unknown search speed setting '11'.'.\n",
      "\n",
      "PLANTS warning: Unknown search speed setting '1'.\n"
     ]
    },
    {
     "name": "stdout",
     "output_type": "stream",
     "text": [
      "PLANTS info: CHO hydrogen found 188 HD2 HIS17\n",
      "PLANTS info: CHO hydrogen found 189 HE1 HIS17\n",
      "PLANTS info: CHO hydrogen found 736 HE1 HIS51\n",
      "PLANTS info: CHO hydrogen found 949 HD2 HIS66\n",
      "PLANTS info: CHO hydrogen found 950 HE1 HIS66\n",
      "PLANTS info: CHO hydrogen found 1212 HE1 HIS82\n",
      "PLANTS info: CHO hydrogen found 1755 HD2 HIS117\n",
      "PLANTS info: CHO hydrogen found 1756 HE1 HIS117\n",
      "PLANTS info: CHO hydrogen found 2177 HE1 HIS147\n",
      "PLANTS info: CHO hydrogen found 3177 HD2 HIS262\n",
      "PLANTS info: CHO hydrogen found 3178 HE1 HIS262\n",
      "PLANTS info: CHO hydrogen found 3858 HE1 HIS304\n",
      "PLANTS info: CHO hydrogen found 4713 HE1 HIS362\n",
      "PLANTS info: CHO hydrogen found 4744 HE1 HIS364\n",
      "PLANTS info: CHO hydrogen found 5423 HD2 HIS408\n",
      "PLANTS info: CHO hydrogen found 5424 HE1 HIS408\n",
      "PLANTS info: CHO hydrogen found 5512 HE1 HIS414\n",
      "PLANTS info: CHO hydrogen found 5790 HD2 HIS434\n",
      "PLANTS info: CHO hydrogen found 5791 HE1 HIS434\n",
      "PLANTS info: CHO hydrogen found 6358 HD2 HIS470\n",
      "PLANTS info: CHO hydrogen found 6359 HE1 HIS470\n",
      "PLANTS info: CHO hydrogen found 8034 HE1 HIS582\n",
      "PLANTS info: CHO hydrogen found 8273 HE1 HIS597\n",
      "virtual screening progress: 1 of 1\n",
      "current ligand: /home/ibrahim/Gitlab/DockM8/wocondock_main/temp/plants/split_3.mol2 (entry 1)\n",
      "LIGAND DOFs: 10\n",
      "PROTEIN DOFs: 2\n",
      "PLANTS info: CHO hydrogen found 188 HD2 HIS17\n",
      "PLANTS info: CHO hydrogen found 189 HE1 HIS17\n",
      "PLANTS info: CHO hydrogen found 736 HE1 HIS51\n",
      "PLANTS info: CHO hydrogen found 949 HD2 HIS66\n",
      "PLANTS info: CHO hydrogen found 950 HE1 HIS66\n",
      "PLANTS info: CHO hydrogen found 1212 HE1 HIS82\n",
      "PLANTS info: CHO hydrogen found 1755 HD2 HIS117\n",
      "PLANTS info: CHO hydrogen found 1756 HE1 HIS117\n",
      "PLANTS info: CHO hydrogen found 2177 HE1 HIS147\n",
      "PLANTS info: CHO hydrogen found 3177 HD2 HIS262\n",
      "PLANTS info: CHO hydrogen found 3178 HE1 HIS262\n",
      "PLANTS info: CHO hydrogen found 3858 HE1 HIS304\n",
      "PLANTS info: CHO hydrogen found 4713 HE1 HIS362\n",
      "PLANTS info: CHO hydrogen found 4744 HE1 HIS364\n",
      "PLANTS info: CHO hydrogen found 5423 HD2 HIS408\n",
      "PLANTS info: CHO hydrogen found 5424 HE1 HIS408\n",
      "PLANTS info: CHO hydrogen found 5512 HE1 HIS414\n",
      "PLANTS info: CHO hydrogen found 5790 HD2 HIS434\n",
      "PLANTS info: CHO hydrogen found 5791 HE1 HIS434\n",
      "PLANTS info: CHO hydrogen found 6358 HD2 HIS470\n",
      "PLANTS info: CHO hydrogen found 6359 HE1 HIS470\n",
      "PLANTS info: CHO hydrogen found 8034 HE1 HIS582\n",
      "PLANTS info: CHO hydrogen found 8273 HE1 HIS597\n",
      "virtual screening progress: 1 of 1\n",
      "current ligand: /home/ibrahim/Gitlab/DockM8/wocondock_main/temp/plants/split_7.mol2 (entry 1)\n",
      "LIGAND DOFs: 12\n",
      "PROTEIN DOFs: 2\n",
      "Simplex dimension: 14\n",
      "Simplex dimension: 14\n",
      "iterations : 315\n",
      "Simplex dimension: 12\n",
      "Simplex dimension: 12\n",
      "iterations : 262\n",
      "starting optimization ...\n",
      "problem dimension: 12\n",
      "starting optimization ...\n",
      "problem dimension: 14\n",
      "PLANTS info: CHO hydrogen found 188 HD2 HIS17\n",
      "PLANTS info: CHO hydrogen found 189 HE1 HIS17\n",
      "PLANTS info: CHO hydrogen found 736 HE1 HIS51\n",
      "PLANTS info: CHO hydrogen found 949 HD2 HIS66\n",
      "PLANTS info: CHO hydrogen found 950 HE1 HIS66\n",
      "PLANTS info: CHO hydrogen found 1212 HE1 HIS82\n",
      "PLANTS info: CHO hydrogen found 1755 HD2 HIS117\n",
      "PLANTS info: CHO hydrogen found 1756 HE1 HIS117\n",
      "PLANTS info: CHO hydrogen found 2177 HE1 HIS147\n",
      "PLANTS info: CHO hydrogen found 3177 HD2 HIS262\n",
      "PLANTS info: CHO hydrogen found 3178 HE1 HIS262\n",
      "PLANTS info: CHO hydrogen found 3858 HE1 HIS304\n",
      "PLANTS info: CHO hydrogen found 4713 HE1 HIS362\n",
      "PLANTS info: CHO hydrogen found 4744 HE1 HIS364\n",
      "PLANTS info: CHO hydrogen found 5423 HD2 HIS408\n",
      "PLANTS info: CHO hydrogen found 5424 HE1 HIS408\n",
      "PLANTS info: CHO hydrogen found 5512 HE1 HIS414\n",
      "PLANTS info: CHO hydrogen found 5790 HD2 HIS434\n",
      "PLANTS info: CHO hydrogen found 5791 HE1 HIS434\n",
      "PLANTS info: CHO hydrogen found 6358 HD2 HIS470\n",
      "PLANTS info: CHO hydrogen found 6359 HE1 HIS470\n",
      "PLANTS info: CHO hydrogen found 8034 HE1 HIS582\n",
      "PLANTS info: CHO hydrogen found 8273 HE1 HIS597\n",
      "virtual screening progress: 1 of 1\n",
      "current ligand: /home/ibrahim/Gitlab/DockM8/wocondock_main/temp/plants/split_4.mol2 (entry 1)\n",
      "LIGAND DOFs: 13\n",
      "PROTEIN DOFs: 2\n",
      "Simplex dimension: 15\n",
      "Simplex dimension: 15\n",
      "iterations : 362\n",
      "starting optimization ...\n",
      "problem dimension: 15\n",
      "PLANTS info: CHO hydrogen found 188 HD2 HIS17\n",
      "PLANTS info: CHO hydrogen found 189 HE1 HIS17\n",
      "PLANTS info: CHO hydrogen found 736 HE1 HIS51\n",
      "PLANTS info: CHO hydrogen found 949 HD2 HIS66\n",
      "PLANTS info: CHO hydrogen found 950 HE1 HIS66\n",
      "PLANTS info: CHO hydrogen found 1212 HE1 HIS82\n",
      "PLANTS info: CHO hydrogen found 1755 HD2 HIS117\n",
      "PLANTS info: CHO hydrogen found 1756 HE1 HIS117\n",
      "PLANTS info: CHO hydrogen found 2177 HE1 HIS147\n",
      "PLANTS info: CHO hydrogen found 3177 HD2 HIS262\n",
      "PLANTS info: CHO hydrogen found 3178 HE1 HIS262\n",
      "PLANTS info: CHO hydrogen found 3858 HE1 HIS304\n",
      "PLANTS info: CHO hydrogen found 4713 HE1 HIS362\n",
      "PLANTS info: CHO hydrogen found 4744 HE1 HIS364\n",
      "PLANTS info: CHO hydrogen found 5423 HD2 HIS408\n",
      "PLANTS info: CHO hydrogen found 5424 HE1 HIS408\n",
      "PLANTS info: CHO hydrogen found 5512 HE1 HIS414\n",
      "PLANTS info: CHO hydrogen found 5790 HD2 HIS434\n",
      "PLANTS info: CHO hydrogen found 5791 HE1 HIS434\n",
      "PLANTS info: CHO hydrogen found 6358 HD2 HIS470\n",
      "PLANTS info: CHO hydrogen found 6359 HE1 HIS470\n",
      "PLANTS info: CHO hydrogen found 8034 HE1 HIS582\n",
      "PLANTS info: CHO hydrogen found 8273 HE1 HIS597\n",
      "virtual screening progress: 1 of 1\n",
      "current ligand: /home/ibrahim/Gitlab/DockM8/wocondock_main/temp/plants/split_6.mol2 (entry 1)\n",
      "LIGAND DOFs: 11\n",
      "PROTEIN DOFs: 2\n",
      "Simplex dimension: 13\n",
      "Simplex dimension: 13\n",
      "iterations : 296\n",
      "starting optimization ...\n",
      "problem dimension: 13\n",
      "PLANTS info: CHO hydrogen found 188 HD2 HIS17\n",
      "PLANTS info: CHO hydrogen found 189 HE1 HIS17\n",
      "PLANTS info: CHO hydrogen found 736 HE1 HIS51\n",
      "PLANTS info: CHO hydrogen found 949 HD2 HIS66\n",
      "PLANTS info: CHO hydrogen found 950 HE1 HIS66\n",
      "PLANTS info: CHO hydrogen found 1212 HE1 HIS82\n",
      "PLANTS info: CHO hydrogen found 1755 HD2 HIS117\n",
      "PLANTS info: CHO hydrogen found 1756 HE1 HIS117\n",
      "PLANTS info: CHO hydrogen found 2177 HE1 HIS147\n",
      "PLANTS info: CHO hydrogen found 3177 HD2 HIS262\n",
      "PLANTS info: CHO hydrogen found 3178 HE1 HIS262\n",
      "PLANTS info: CHO hydrogen found 3858 HE1 HIS304\n",
      "PLANTS info: CHO hydrogen found 4713 HE1 HIS362\n",
      "PLANTS info: CHO hydrogen found 4744 HE1 HIS364\n",
      "PLANTS info: CHO hydrogen found 5423 HD2 HIS408\n",
      "PLANTS info: CHO hydrogen found 5424 HE1 HIS408\n",
      "PLANTS info: CHO hydrogen found 5512 HE1 HIS414\n",
      "PLANTS info: CHO hydrogen found 5790 HD2 HIS434\n",
      "PLANTS info: CHO hydrogen found 5791 HE1 HIS434\n",
      "PLANTS info: CHO hydrogen found 6358 HD2 HIS470\n",
      "PLANTS info: CHO hydrogen found 6359 HE1 HIS470\n",
      "PLANTS info: CHO hydrogen found 8034 HE1 HIS582\n",
      "PLANTS info: CHO hydrogen found 8273 HE1 HIS597\n",
      "PLANTS info: CHO hydrogen found 188 HD2 HIS17\n",
      "PLANTS info: CHO hydrogen found 189 HE1 HIS17\n",
      "PLANTS info: CHO hydrogen found 736 HE1 HIS51\n",
      "PLANTS info: CHO hydrogen found 949 HD2 HIS66\n",
      "PLANTS info: CHO hydrogen found 950 HE1 HIS66\n",
      "PLANTS info: CHO hydrogen found 1212 HE1 HIS82\n",
      "PLANTS info: CHO hydrogen found 1755 HD2 HIS117\n",
      "PLANTS info: CHO hydrogen found 1756 HE1 HIS117\n",
      "PLANTS info: CHO hydrogen found 2177 HE1 HIS147\n",
      "PLANTS info: CHO hydrogen found 3177 HD2 HIS262\n",
      "PLANTS info: CHO hydrogen found 3178 HE1 HIS262\n",
      "PLANTS info: CHO hydrogen found 3858 HE1 HIS304\n",
      "PLANTS info: CHO hydrogen found 4713 HE1 HIS362\n",
      "PLANTS info: CHO hydrogen found 4744 HE1 HIS364\n",
      "PLANTS info: CHO hydrogen found 5423 HD2 HIS408\n",
      "PLANTS info: CHO hydrogen found 5424 HE1 HIS408\n",
      "PLANTS info: CHO hydrogen found 5512 HE1 HIS414\n",
      "PLANTS info: CHO hydrogen found 5790 HD2 HIS434\n",
      "PLANTS info: CHO hydrogen found 5791 HE1 HIS434\n",
      "PLANTS info: CHO hydrogen found 6358 HD2 HIS470\n",
      "PLANTS info: CHO hydrogen found 6359 HE1 HIS470\n",
      "PLANTS info: CHO hydrogen found 8034 HE1 HIS582\n",
      "PLANTS info: CHO hydrogen found 8273 HE1 HIS597\n",
      "virtual screening progress: 1 of 1\n",
      "current ligand: /home/ibrahim/Gitlab/DockM8/wocondock_main/temp/plants/split_9.mol2 (entry 1)\n",
      "LIGAND DOFs: 10\n",
      "PROTEIN DOFs: 2\n",
      "Simplex dimension: 12\n",
      "Simplex dimension: 12\n",
      "iterations : 262\n",
      "starting optimization ...\n",
      "problem dimension: 12\n",
      "virtual screening progress: 1 of 1\n",
      "current ligand: /home/ibrahim/Gitlab/DockM8/wocondock_main/temp/plants/split_1.mol2 (entry 1)\n",
      "LIGAND DOFs: 9\n",
      "PROTEIN DOFs: 2\n",
      "Simplex dimension: 11\n",
      "Simplex dimension: 11\n",
      "iterations : 200\n",
      "starting optimization ...\n",
      "problem dimension: 11\n",
      "PLANTS info: CHO hydrogen found 188 HD2 HIS17\n",
      "PLANTS info: CHO hydrogen found 189 HE1 HIS17\n",
      "PLANTS info: CHO hydrogen found 736 HE1 HIS51\n",
      "PLANTS info: CHO hydrogen found 949 HD2 HIS66\n",
      "PLANTS info: CHO hydrogen found 950 HE1 HIS66\n",
      "PLANTS info: CHO hydrogen found 1212 HE1 HIS82\n",
      "PLANTS info: CHO hydrogen found 1755 HD2 HIS117\n",
      "PLANTS info: CHO hydrogen found 1756 HE1 HIS117\n",
      "PLANTS info: CHO hydrogen found 2177 HE1 HIS147\n",
      "PLANTS info: CHO hydrogen found 3177 HD2 HIS262\n",
      "PLANTS info: CHO hydrogen found 3178 HE1 HIS262\n",
      "PLANTS info: CHO hydrogen found 3858 HE1 HIS304\n",
      "PLANTS info: CHO hydrogen found 4713 HE1 HIS362\n",
      "PLANTS info: CHO hydrogen found 4744 HE1 HIS364\n",
      "PLANTS info: CHO hydrogen found 5423 HD2 HIS408\n",
      "PLANTS info: CHO hydrogen found 5424 HE1 HIS408\n",
      "PLANTS info: CHO hydrogen found 5512 HE1 HIS414\n",
      "PLANTS info: CHO hydrogen found 5790 HD2 HIS434\n",
      "PLANTS info: CHO hydrogen found 5791 HE1 HIS434\n",
      "PLANTS info: CHO hydrogen found 6358 HD2 HIS470\n",
      "PLANTS info: CHO hydrogen found 6359 HE1 HIS470\n",
      "PLANTS info: CHO hydrogen found 8034 HE1 HIS582\n",
      "PLANTS info: CHO hydrogen found 8273 HE1 HIS597\n",
      "PLANTS info: CHO hydrogen found 188 HD2 HIS17\n",
      "PLANTS info: CHO hydrogen found 189 HE1 HIS17\n",
      "PLANTS info: CHO hydrogen found 736 HE1 HIS51\n",
      "PLANTS info: CHO hydrogen found 949 HD2 HIS66\n",
      "PLANTS info: CHO hydrogen found 950 HE1 HIS66\n",
      "PLANTS info: CHO hydrogen found 1212 HE1 HIS82\n",
      "PLANTS info: CHO hydrogen found 1755 HD2 HIS117\n",
      "PLANTS info: CHO hydrogen found 1756 HE1 HIS117\n",
      "PLANTS info: CHO hydrogen found 2177 HE1 HIS147\n",
      "PLANTS info: CHO hydrogen found 3177 HD2 HIS262\n",
      "PLANTS info: CHO hydrogen found 3178 HE1 HIS262\n",
      "PLANTS info: CHO hydrogen found 3858 HE1 HIS304\n",
      "PLANTS info: CHO hydrogen found 4713 HE1 HIS362\n",
      "PLANTS info: CHO hydrogen found 4744 HE1 HIS364\n",
      "PLANTS info: CHO hydrogen found 5423 HD2 HIS408\n",
      "PLANTS info: CHO hydrogen found 5424 HE1 HIS408\n",
      "PLANTS info: CHO hydrogen found 5512 HE1 HIS414\n",
      "PLANTS info: CHO hydrogen found 5790 HD2 HIS434\n",
      "PLANTS info: CHO hydrogen found 5791 HE1 HIS434\n",
      "PLANTS info: CHO hydrogen found 6358 HD2 HIS470\n",
      "PLANTS info: CHO hydrogen found 6359 HE1 HIS470\n",
      "PLANTS info: CHO hydrogen found 8034 HE1 HIS582\n",
      "PLANTS info: CHO hydrogen found 8273 HE1 HIS597\n",
      "virtual screening progress: 1 of 1\n",
      "current ligand: /home/ibrahim/Gitlab/DockM8/wocondock_main/temp/plants/split_2.mol2 (entry 1)\n",
      "LIGAND DOFs: 9\n",
      "PROTEIN DOFs: 2\n",
      "Simplex dimension: 11\n",
      "Simplex dimension: 11\n",
      "iterations : 228\n",
      "starting optimization ...\n",
      "problem dimension: 11\n",
      "virtual screening progress: 1 of 1\n",
      "current ligand: /home/ibrahim/Gitlab/DockM8/wocondock_main/temp/plants/split_5.mol2 (entry 1)\n",
      "LIGAND DOFs: 12\n",
      "PROTEIN DOFs: 2\n",
      "Simplex dimension: 14\n",
      "Simplex dimension: 14\n",
      "iterations : 337\n",
      "starting optimization ...\n",
      "problem dimension: 14\n",
      "PLANTS info: CHO hydrogen found 188 HD2 HIS17\n",
      "PLANTS info: CHO hydrogen found 189 HE1 HIS17\n",
      "PLANTS info: CHO hydrogen found 736 HE1 HIS51\n",
      "PLANTS info: CHO hydrogen found 949 HD2 HIS66\n",
      "PLANTS info: CHO hydrogen found 950 HE1 HIS66\n",
      "PLANTS info: CHO hydrogen found 1212 HE1 HIS82\n",
      "PLANTS info: CHO hydrogen found 1755 HD2 HIS117\n",
      "PLANTS info: CHO hydrogen found 1756 HE1 HIS117\n",
      "PLANTS info: CHO hydrogen found 2177 HE1 HIS147\n",
      "PLANTS info: CHO hydrogen found 3177 HD2 HIS262\n",
      "PLANTS info: CHO hydrogen found 3178 HE1 HIS262\n",
      "PLANTS info: CHO hydrogen found 3858 HE1 HIS304\n",
      "PLANTS info: CHO hydrogen found 4713 HE1 HIS362\n",
      "PLANTS info: CHO hydrogen found 4744 HE1 HIS364\n",
      "PLANTS info: CHO hydrogen found 5423 HD2 HIS408\n",
      "PLANTS info: CHO hydrogen found 5424 HE1 HIS408\n",
      "PLANTS info: CHO hydrogen found 5512 HE1 HIS414\n",
      "PLANTS info: CHO hydrogen found 5790 HD2 HIS434\n",
      "PLANTS info: CHO hydrogen found 5791 HE1 HIS434\n",
      "PLANTS info: CHO hydrogen found 6358 HD2 HIS470\n",
      "PLANTS info: CHO hydrogen found 6359 HE1 HIS470\n",
      "PLANTS info: CHO hydrogen found 8034 HE1 HIS582\n",
      "PLANTS info: CHO hydrogen found 8273 HE1 HIS597\n",
      "virtual screening progress: 1 of 1\n",
      "current ligand: /home/ibrahim/Gitlab/DockM8/wocondock_main/temp/plants/split_8.mol2 (entry 1)\n",
      "LIGAND DOFs: 11\n",
      "PROTEIN DOFs: 2\n",
      "Simplex dimension: 13\n",
      "Simplex dimension: 13\n",
      "iterations : 278\n",
      "starting optimization ...\n",
      "problem dimension: 13\n"
     ]
    },
    {
     "name": "stderr",
     "output_type": "stream",
     "text": [
      "Docking with PLANTS:  11%|█         | 1/9 [00:16<02:15, 16.97s/it]"
     ]
    },
    {
     "name": "stdout",
     "output_type": "stream",
     "text": [
      "ATOMS / s: 5.41422e+06\n",
      "EVAL / s: 386730\n",
      "optimization finished after 2.69s\n",
      "best score: -66.04\n",
      "\n",
      "\n",
      "total virtual screening time: 3.72s\n",
      "Ligands skipped due to errors: 0\n",
      "ATOMS / s: 7.22845e+06\n",
      "EVAL / s: 314280\n",
      "optimization finished after 5.28s\n"
     ]
    },
    {
     "name": "stderr",
     "output_type": "stream",
     "text": [
      "Docking with PLANTS:  22%|██▏       | 2/9 [00:27<01:33, 13.34s/it]"
     ]
    },
    {
     "name": "stdout",
     "output_type": "stream",
     "text": [
      "best score: -82.05\n",
      "\n",
      "\n",
      "total virtual screening time: 6.33s\n",
      "Ligands skipped due to errors: 0\n",
      "ATOMS / s: 6.1119e+06\n",
      "EVAL / s: 321679\n",
      "optimization finished after 6.87s\n"
     ]
    },
    {
     "name": "stderr",
     "output_type": "stream",
     "text": [
      "Docking with PLANTS:  33%|███▎      | 3/9 [00:33<00:59,  9.84s/it]"
     ]
    },
    {
     "name": "stdout",
     "output_type": "stream",
     "text": [
      "best score: -79.28\n",
      "\n",
      "\n",
      "total virtual screening time: 7.93s\n",
      "Ligands skipped due to errors: 0\n"
     ]
    },
    {
     "name": "stderr",
     "output_type": "stream",
     "text": [
      "Docking with PLANTS:  44%|████▍     | 4/9 [00:34<00:32,  6.54s/it]"
     ]
    },
    {
     "name": "stdout",
     "output_type": "stream",
     "text": [
      "ATOMS / s: 7.02519e+06\n",
      "EVAL / s: 292716\n",
      "optimization finished after 7.50s\n",
      "best score: -86.59\n",
      "\n",
      "\n",
      "total virtual screening time: 8.55s\n",
      "Ligands skipped due to errors: 0\n"
     ]
    },
    {
     "name": "stderr",
     "output_type": "stream",
     "text": [
      "Docking with PLANTS:  56%|█████▌    | 5/9 [00:36<00:19,  4.83s/it]"
     ]
    },
    {
     "name": "stdout",
     "output_type": "stream",
     "text": [
      "ATOMS / s: 6.63718e+06\n",
      "EVAL / s: 276549\n",
      "optimization finished after 8.23s\n",
      "best score: -77.70\n",
      "\n",
      "\n",
      "total virtual screening time: 9.29s\n",
      "Ligands skipped due to errors: 0\n"
     ]
    },
    {
     "name": "stderr",
     "output_type": "stream",
     "text": [
      "Docking with PLANTS:  67%|██████▋   | 6/9 [00:39<00:11,  3.96s/it]"
     ]
    },
    {
     "name": "stdout",
     "output_type": "stream",
     "text": [
      "ATOMS / s: 6.37054e+06\n",
      "EVAL / s: 303359\n",
      "optimization finished after 9.22s\n",
      "best score: -85.09\n",
      "\n",
      "\n",
      "total virtual screening time: 10.29s\n",
      "Ligands skipped due to errors: 0\n"
     ]
    },
    {
     "name": "stderr",
     "output_type": "stream",
     "text": [
      "Docking with PLANTS:  78%|███████▊  | 7/9 [00:41<00:06,  3.45s/it]"
     ]
    },
    {
     "name": "stdout",
     "output_type": "stream",
     "text": [
      "ATOMS / s: 6.36113e+06\n",
      "EVAL / s: 254445\n",
      "optimization finished after 10.85s\n",
      "best score: -90.01\n",
      "\n",
      "\n",
      "total virtual screening time: 11.92s\n",
      "Ligands skipped due to errors: 0\n"
     ]
    },
    {
     "name": "stderr",
     "output_type": "stream",
     "text": [
      "Docking with PLANTS:  89%|████████▉ | 8/9 [00:43<00:03,  3.08s/it]"
     ]
    },
    {
     "name": "stdout",
     "output_type": "stream",
     "text": [
      "ATOMS / s: 6.31404e+06\n",
      "EVAL / s: 225501\n",
      "optimization finished after 13.19s\n",
      "best score: -76.23\n",
      "\n",
      "\n",
      "total virtual screening time: 14.28s\n",
      "Ligands skipped due to errors: 0\n"
     ]
    },
    {
     "name": "stderr",
     "output_type": "stream",
     "text": [
      "Docking with PLANTS: 100%|██████████| 9/9 [00:46<00:00,  5.16s/it]\n"
     ]
    },
    {
     "name": "stdout",
     "output_type": "stream",
     "text": [
      "ATOMS / s: 6.72159e+06\n",
      "EVAL / s: 258523\n",
      "optimization finished after 15.82s\n",
      "best score: -94.31\n",
      "\n",
      "\n",
      "total virtual screening time: 16.87s\n",
      "Ligands skipped due to errors: 0\n",
      "\n",
      "[2023-Jun-28 11:49:47]: Docking with PLANTS complete in 47.1550!\n"
     ]
    },
    {
     "name": "stderr",
     "output_type": "stream",
     "text": [
      "Fetching PLANTS docking poses: 100%|██████████| 28/28 [00:00<00:00, 91.35it/s] \n"
     ]
    },
    {
     "name": "stdout",
     "output_type": "stream",
     "text": [
      "\n",
      "[2023-Jun-28 11:49:48]: ERROR: Failed to write combined PLANTS docking poses\n",
      "\n",
      "[2023-Jun-28 11:49:48]: 'str' object has no attribute 'glob'\n",
      "\n",
      "[2023-Jun-28 11:49:48]: Docking split files using SMINA...\n"
     ]
    },
    {
     "name": "stderr",
     "output_type": "stream",
     "text": [
      "Submitting SMINA jobs: 100%|██████████| 9/9 [00:00<00:00, 59.99Jobs/s]\n",
      "Docking with SMINA: 100%|██████████| 9/9 [04:53<00:00, 32.60s/it]\n"
     ]
    },
    {
     "name": "stdout",
     "output_type": "stream",
     "text": [
      "\n",
      "[2023-Jun-28 11:54:41]: Docking with SMINA complete in 293.6860!\n"
     ]
    },
    {
     "name": "stderr",
     "output_type": "stream",
     "text": [
      "Loading GNINA poses: 100%|██████████| 9/9 [00:00<00:00, 1641.11it/s]\n"
     ]
    }
   ],
   "source": [
    "docking(w_dir, protein_file, pocket_definition, docking_programs, exhaustiveness, n_poses, ncpus)"
   ]
  },
  {
   "cell_type": "code",
   "execution_count": null,
   "metadata": {},
   "outputs": [],
   "source": [
    "concat_all_poses(w_dir, docking_programs)"
   ]
  },
  {
   "cell_type": "code",
   "execution_count": 12,
   "metadata": {},
   "outputs": [
    {
     "name": "stdout",
     "output_type": "stream",
     "text": [
      "Loading all poses SDF file...\n",
      "Finished loading all poses SDF in 0.2363!...\n"
     ]
    }
   ],
   "source": [
    "print('Loading all poses SDF file...')\n",
    "tic = time.perf_counter()\n",
    "all_poses = PandasTools.LoadSDF(str(w_dir / 'temp' / 'allposes.sdf'), idName='Pose ID', molColName='Molecule', includeFingerprints=False, strictParsing=True)\n",
    "toc = time.perf_counter()\n",
    "print(f'Finished loading all poses SDF in {toc-tic:0.4f}!...')"
   ]
  },
  {
   "cell_type": "code",
   "execution_count": 13,
   "metadata": {},
   "outputs": [],
   "source": [
    "for metric in clustering_metrics:\n",
    "        if os.path.isfile(w_dir / 'temp' / f'clustering/{metric}_clustered.sdf') == False:\n",
    "            cluster_pebble(metric, 'KMedoids', w_dir, protein_file, all_poses, ncpus)"
   ]
  },
  {
   "cell_type": "code",
   "execution_count": 18,
   "metadata": {},
   "outputs": [
    {
     "name": "stdout",
     "output_type": "stream",
     "text": [
      "\n",
      "[2023-Jun-28 11:56:54]: Skipping gnina rescoring...\n",
      "\n",
      "[2023-Jun-28 11:56:54]: Skipping AD4 rescoring...\n",
      "\n",
      "[2023-Jun-28 11:56:54]: Skipping chemplp rescoring...\n",
      "\n",
      "[2023-Jun-28 11:56:54]: Skipping rfscorevs rescoring...\n",
      "\n",
      "[2023-Jun-28 11:56:54]: Skipping LinF9 rescoring...\n",
      "Splitting SDF file RMSD_clustered.sdf ...\n"
     ]
    },
    {
     "name": "stderr",
     "output_type": "stream",
     "text": [
      "Splitting files: 100%|██████████| 32/32 [00:00<00:00, 749.42it/s]\n"
     ]
    },
    {
     "name": "stdout",
     "output_type": "stream",
     "text": [
      "Split docking library into 32 files each containing 1 compounds\n"
     ]
    },
    {
     "name": "stderr",
     "output_type": "stream",
     "text": [
      "Submitting RTMScore rescoring jobs: 100%|██████████| 32/32 [00:00<00:00, 102.06file/s]\n",
      "Rescoring with RTMScore:   0%|          | 0/32 [00:00<?, ?file/s]"
     ]
    },
    {
     "name": "stdout",
     "output_type": "stream",
     "text": [
      "\n",
      "[2023-Jun-28 11:56:55]: RTMScore scoring with pocket failed, scoring with whole protein...\n",
      "[2023-Jun-28 11:56:55]: RTMScore scoring with pocket failed, scoring with whole protein...\n",
      "[2023-Jun-28 11:56:55]: RTMScore scoring with pocket failed, scoring with whole protein...\n",
      "[2023-Jun-28 11:56:55]: RTMScore scoring with pocket failed, scoring with whole protein...\n",
      "[2023-Jun-28 11:56:55]: RTMScore scoring with pocket failed, scoring with whole protein...\n",
      "[2023-Jun-28 11:56:55]: RTMScore scoring with pocket failed, scoring with whole protein...\n",
      "\n",
      "\n",
      "[2023-Jun-28 11:56:55]: RTMScore scoring with pocket failed, scoring with whole protein...\n",
      "[2023-Jun-28 11:56:55]: RTMScore scoring with pocket failed, scoring with whole protein...\n",
      "[2023-Jun-28 11:56:55]: RTMScore scoring with pocket failed, scoring with whole protein...\n",
      "[2023-Jun-28 11:56:55]: RTMScore scoring with pocket failed, scoring with whole protein...\n",
      "\n",
      "[2023-Jun-28 11:56:55]: RTMScore scoring with pocket failed, scoring with whole protein...\n",
      "[2023-Jun-28 11:56:55]: RTMScore scoring with pocket failed, scoring with whole protein...\n",
      "[2023-Jun-28 11:56:55]: RTMScore scoring with pocket failed, scoring with whole protein...\n",
      "[2023-Jun-28 11:56:55]: RTMScore scoring with pocket failed, scoring with whole protein...\n",
      "[2023-Jun-28 11:56:55]: RTMScore scoring with pocket failed, scoring with whole protein...\n",
      "[2023-Jun-28 11:56:55]: RTMScore scoring with pocket failed, scoring with whole protein...\n",
      "[2023-Jun-28 11:56:55]: RTMScore scoring with pocket failed, scoring with whole protein...\n",
      "[2023-Jun-28 11:56:55]: RTMScore scoring with pocket failed, scoring with whole protein...\n",
      "[2023-Jun-28 11:56:55]: RTMScore scoring with pocket failed, scoring with whole protein...\n",
      "[2023-Jun-28 11:56:55]: RTMScore scoring with pocket failed, scoring with whole protein...\n",
      "\n",
      "[2023-Jun-28 11:56:55]: RTMScore scoring with pocket failed, scoring with whole protein...\n",
      "\n",
      "[2023-Jun-28 11:56:55]: RTMScore scoring with pocket failed, scoring with whole protein...\n",
      "\n",
      "\n",
      "\n",
      "\n",
      "\n",
      "\n",
      "\n",
      "\n",
      "\n",
      "\n",
      "\n",
      "\n"
     ]
    },
    {
     "name": "stderr",
     "output_type": "stream",
     "text": [
      "Rescoring with RTMScore:  44%|████▍     | 14/32 [00:00<00:00, 138.97file/s]"
     ]
    },
    {
     "name": "stdout",
     "output_type": "stream",
     "text": [
      "\n",
      "[2023-Jun-28 11:56:55]: RTMScore scoring with pocket failed, scoring with whole protein...\n",
      "\n",
      "\n",
      "[2023-Jun-28 11:56:55]: RTMScore scoring with pocket failed, scoring with whole protein...\n",
      "[2023-Jun-28 11:56:55]: RTMScore scoring with pocket failed, scoring with whole protein...\n",
      "[2023-Jun-28 11:56:55]: RTMScore scoring with pocket failed, scoring with whole protein...\n",
      "\n",
      "[2023-Jun-28 11:56:55]: RTMScore scoring with pocket failed, scoring with whole protein...\n",
      "\n",
      "[2023-Jun-28 11:56:55]: RTMScore scoring with pocket failed, scoring with whole protein...\n",
      "[2023-Jun-28 11:56:55]: RTMScore scoring with pocket failed, scoring with whole protein...\n",
      "[2023-Jun-28 11:56:55]: RTMScore scoring with pocket failed, scoring with whole protein...\n",
      "[2023-Jun-28 11:56:55]: RTMScore scoring with pocket failed, scoring with whole protein...\n",
      "[2023-Jun-28 11:56:55]: RTMScore scoring with pocket failed, scoring with whole protein...\n",
      "\n",
      "\n",
      "\n",
      "\n",
      "\n",
      "\n",
      "\n",
      "\n",
      "\n"
     ]
    },
    {
     "name": "stderr",
     "output_type": "stream",
     "text": [
      "Rescoring with RTMScore: 100%|██████████| 32/32 [00:00<00:00, 206.98file/s]\n"
     ]
    },
    {
     "name": "stdout",
     "output_type": "stream",
     "text": [
      "\n",
      "[2023-Jun-28 11:56:55]: Error in concurrent futures job run: unsupported operand type(s) for /: 'str' and 'str'\n",
      "\n",
      "[2023-Jun-28 11:56:55]: Error in concurrent futures job run: unsupported operand type(s) for /: 'str' and 'str'\n",
      "\n",
      "[2023-Jun-28 11:56:55]: Error in concurrent futures job run: unsupported operand type(s) for /: 'str' and 'str'\n",
      "\n",
      "[2023-Jun-28 11:56:55]: Error in concurrent futures job run: unsupported operand type(s) for /: 'str' and 'str'\n",
      "\n",
      "[2023-Jun-28 11:56:55]: Error in concurrent futures job run: unsupported operand type(s) for /: 'str' and 'str'\n",
      "\n",
      "[2023-Jun-28 11:56:55]: Error in concurrent futures job run: unsupported operand type(s) for /: 'str' and 'str'\n",
      "\n",
      "[2023-Jun-28 11:56:55]: Error in concurrent futures job run: unsupported operand type(s) for /: 'str' and 'str'\n",
      "\n",
      "[2023-Jun-28 11:56:55]: Error in concurrent futures job run: unsupported operand type(s) for /: 'str' and 'str'\n",
      "\n",
      "[2023-Jun-28 11:56:55]: Error in concurrent futures job run: unsupported operand type(s) for /: 'str' and 'str'\n",
      "\n",
      "[2023-Jun-28 11:56:55]: Error in concurrent futures job run: unsupported operand type(s) for /: 'str' and 'str'\n",
      "\n",
      "[2023-Jun-28 11:56:55]: Error in concurrent futures job run: unsupported operand type(s) for /: 'str' and 'str'\n",
      "\n",
      "[2023-Jun-28 11:56:55]: Error in concurrent futures job run: unsupported operand type(s) for /: 'str' and 'str'\n",
      "\n",
      "[2023-Jun-28 11:56:55]: Error in concurrent futures job run: unsupported operand type(s) for /: 'str' and 'str'\n",
      "\n",
      "[2023-Jun-28 11:56:55]: Error in concurrent futures job run: unsupported operand type(s) for /: 'str' and 'str'\n",
      "\n",
      "[2023-Jun-28 11:56:55]: Error in concurrent futures job run: unsupported operand type(s) for /: 'str' and 'str'\n",
      "\n",
      "[2023-Jun-28 11:56:55]: Error in concurrent futures job run: unsupported operand type(s) for /: 'str' and 'str'\n",
      "\n",
      "[2023-Jun-28 11:56:55]: Error in concurrent futures job run: unsupported operand type(s) for /: 'str' and 'str'\n",
      "\n",
      "[2023-Jun-28 11:56:55]: Error in concurrent futures job run: unsupported operand type(s) for /: 'str' and 'str'\n",
      "\n",
      "[2023-Jun-28 11:56:55]: Error in concurrent futures job run: unsupported operand type(s) for /: 'str' and 'str'\n",
      "\n",
      "[2023-Jun-28 11:56:55]: Error in concurrent futures job run: unsupported operand type(s) for /: 'str' and 'str'\n",
      "\n",
      "[2023-Jun-28 11:56:55]: Error in concurrent futures job run: unsupported operand type(s) for /: 'str' and 'str'\n",
      "\n",
      "[2023-Jun-28 11:56:55]: Error in concurrent futures job run: unsupported operand type(s) for /: 'str' and 'str'\n",
      "\n",
      "[2023-Jun-28 11:56:55]: Error in concurrent futures job run: unsupported operand type(s) for /: 'str' and 'str'\n",
      "\n",
      "[2023-Jun-28 11:56:55]: Error in concurrent futures job run: unsupported operand type(s) for /: 'str' and 'str'\n",
      "\n",
      "[2023-Jun-28 11:56:55]: Error in concurrent futures job run: unsupported operand type(s) for /: 'str' and 'str'\n",
      "\n",
      "[2023-Jun-28 11:56:55]: Error in concurrent futures job run: unsupported operand type(s) for /: 'str' and 'str'\n",
      "\n",
      "[2023-Jun-28 11:56:55]: Error in concurrent futures job run: unsupported operand type(s) for /: 'str' and 'str'\n",
      "\n",
      "[2023-Jun-28 11:56:55]: Error in concurrent futures job run: unsupported operand type(s) for /: 'str' and 'str'\n",
      "\n",
      "[2023-Jun-28 11:56:55]: Error in concurrent futures job run: unsupported operand type(s) for /: 'str' and 'str'\n",
      "\n",
      "[2023-Jun-28 11:56:55]: Error in concurrent futures job run: unsupported operand type(s) for /: 'str' and 'str'\n",
      "\n",
      "[2023-Jun-28 11:56:55]: Error in concurrent futures job run: unsupported operand type(s) for /: 'str' and 'str'\n",
      "\n",
      "[2023-Jun-28 11:56:55]: Error in concurrent futures job run: unsupported operand type(s) for /: 'str' and 'str'\n"
     ]
    },
    {
     "ename": "ValueError",
     "evalue": "No objects to concatenate",
     "output_type": "error",
     "traceback": [
      "\u001b[0;31m---------------------------------------------------------------------------\u001b[0m",
      "\u001b[0;31mValueError\u001b[0m                                Traceback (most recent call last)",
      "Cell \u001b[0;32mIn[18], line 2\u001b[0m\n\u001b[1;32m      1\u001b[0m \u001b[38;5;28;01mfor\u001b[39;00m metric \u001b[38;5;129;01min\u001b[39;00m clustering_metrics:\n\u001b[0;32m----> 2\u001b[0m         \u001b[43mrescore_all\u001b[49m\u001b[43m(\u001b[49m\u001b[43mPath\u001b[49m\u001b[43m(\u001b[49m\u001b[43mw_dir\u001b[49m\u001b[43m)\u001b[49m\u001b[43m,\u001b[49m\u001b[43m \u001b[49m\u001b[43mprotein_file\u001b[49m\u001b[43m,\u001b[49m\u001b[43m \u001b[49m\u001b[43mref_file\u001b[49m\u001b[43m,\u001b[49m\u001b[43m \u001b[49m\u001b[43msoftware\u001b[49m\u001b[43m,\u001b[49m\u001b[43m \u001b[49m\u001b[43mw_dir\u001b[49m\u001b[38;5;241;43m+\u001b[39;49m\u001b[38;5;124;43mf\u001b[39;49m\u001b[38;5;124;43m'\u001b[39;49m\u001b[38;5;124;43m/temp/clustering/\u001b[39;49m\u001b[38;5;132;43;01m{\u001b[39;49;00m\u001b[43mmetric\u001b[49m\u001b[38;5;132;43;01m}\u001b[39;49;00m\u001b[38;5;124;43m_clustered.sdf\u001b[39;49m\u001b[38;5;124;43m'\u001b[39;49m\u001b[43m,\u001b[49m\u001b[43m \u001b[49m\u001b[43mrescoring\u001b[49m\u001b[43m,\u001b[49m\u001b[43m \u001b[49m\u001b[38;5;241;43m20\u001b[39;49m\u001b[43m)\u001b[49m\n",
      "File \u001b[0;32m~/Gitlab/DockM8/scripts/rescoring_functions.py:1115\u001b[0m, in \u001b[0;36mrescore_all\u001b[0;34m(w_dir, protein_file, pocket_definition, software, clustered_sdf, functions, ncpus)\u001b[0m\n\u001b[1;32m   1110\u001b[0m \u001b[38;5;28;01mfor\u001b[39;00m function \u001b[38;5;129;01min\u001b[39;00m functions:\n\u001b[1;32m   1111\u001b[0m     \u001b[38;5;28;01mif\u001b[39;00m \u001b[38;5;129;01mnot\u001b[39;00m (\n\u001b[1;32m   1112\u001b[0m         rescoring_folder \u001b[38;5;241m/\u001b[39m\n\u001b[1;32m   1113\u001b[0m         \u001b[38;5;124mf\u001b[39m\u001b[38;5;124m'\u001b[39m\u001b[38;5;132;01m{\u001b[39;00mfunction\u001b[38;5;132;01m}\u001b[39;00m\u001b[38;5;124m_rescoring\u001b[39m\u001b[38;5;124m'\u001b[39m \u001b[38;5;241m/\u001b[39m\n\u001b[1;32m   1114\u001b[0m             \u001b[38;5;124mf\u001b[39m\u001b[38;5;124m'\u001b[39m\u001b[38;5;132;01m{\u001b[39;00mfunction\u001b[38;5;132;01m}\u001b[39;00m\u001b[38;5;124m_scores.csv\u001b[39m\u001b[38;5;124m'\u001b[39m)\u001b[38;5;241m.\u001b[39mis_file():\n\u001b[0;32m-> 1115\u001b[0m         \u001b[43mrescoring_functions\u001b[49m\u001b[43m[\u001b[49m\u001b[43mfunction\u001b[49m\u001b[43m]\u001b[49m\u001b[43m(\u001b[49m\u001b[43mclustered_sdf\u001b[49m\u001b[43m,\u001b[49m\u001b[43m \u001b[49m\u001b[43mncpus\u001b[49m\u001b[43m)\u001b[49m\n\u001b[1;32m   1116\u001b[0m     \u001b[38;5;28;01melse\u001b[39;00m:\n\u001b[1;32m   1117\u001b[0m         printlog(\u001b[38;5;124mf\u001b[39m\u001b[38;5;124m'\u001b[39m\u001b[38;5;124mSkipping \u001b[39m\u001b[38;5;132;01m{\u001b[39;00mfunction\u001b[38;5;132;01m}\u001b[39;00m\u001b[38;5;124m rescoring...\u001b[39m\u001b[38;5;124m'\u001b[39m)\n",
      "File \u001b[0;32m~/Gitlab/DockM8/scripts/rescoring_functions.py:777\u001b[0m, in \u001b[0;36mrescore_all.<locals>.RTMScore_rescoring\u001b[0;34m(sdf, ncpus)\u001b[0m\n\u001b[1;32m    773\u001b[0m             printlog(\n\u001b[1;32m    774\u001b[0m                 \u001b[38;5;124m\"\u001b[39m\u001b[38;5;124mError in concurrent futures job run: \u001b[39m\u001b[38;5;124m\"\u001b[39m \u001b[38;5;241m+\u001b[39m \u001b[38;5;28mstr\u001b[39m(e))\n\u001b[1;32m    775\u001b[0m results_dataframes \u001b[38;5;241m=\u001b[39m [pd\u001b[38;5;241m.\u001b[39mread_csv(RTMScore_rescoring_folder \u001b[38;5;241m/\u001b[39m file) \u001b[38;5;28;01mfor\u001b[39;00m file \u001b[38;5;129;01min\u001b[39;00m os\u001b[38;5;241m.\u001b[39mlistdir(\n\u001b[1;32m    776\u001b[0m     RTMScore_rescoring_folder) \u001b[38;5;28;01mif\u001b[39;00m file\u001b[38;5;241m.\u001b[39mstartswith(\u001b[38;5;124m'\u001b[39m\u001b[38;5;124msplit\u001b[39m\u001b[38;5;124m'\u001b[39m) \u001b[38;5;129;01mand\u001b[39;00m file\u001b[38;5;241m.\u001b[39mendswith(\u001b[38;5;124m'\u001b[39m\u001b[38;5;124m.csv\u001b[39m\u001b[38;5;124m'\u001b[39m)]\n\u001b[0;32m--> 777\u001b[0m results \u001b[38;5;241m=\u001b[39m \u001b[43mpd\u001b[49m\u001b[38;5;241;43m.\u001b[39;49m\u001b[43mconcat\u001b[49m\u001b[43m(\u001b[49m\u001b[43mresults_dataframes\u001b[49m\u001b[43m)\u001b[49m\n\u001b[1;32m    778\u001b[0m results[\u001b[38;5;124m'\u001b[39m\u001b[38;5;124mPose ID\u001b[39m\u001b[38;5;124m'\u001b[39m] \u001b[38;5;241m=\u001b[39m results[\u001b[38;5;124m'\u001b[39m\u001b[38;5;124mPose ID\u001b[39m\u001b[38;5;124m'\u001b[39m]\u001b[38;5;241m.\u001b[39mapply(\n\u001b[1;32m    779\u001b[0m     \u001b[38;5;28;01mlambda\u001b[39;00m x: x\u001b[38;5;241m.\u001b[39msplit(\u001b[38;5;124m'\u001b[39m\u001b[38;5;124m-\u001b[39m\u001b[38;5;124m'\u001b[39m)[\u001b[38;5;241m0\u001b[39m])\n\u001b[1;32m    780\u001b[0m results\u001b[38;5;241m.\u001b[39mto_csv(\n\u001b[1;32m    781\u001b[0m     RTMScore_rescoring_folder \u001b[38;5;241m/\u001b[39m\n\u001b[1;32m    782\u001b[0m     \u001b[38;5;124m'\u001b[39m\u001b[38;5;124mRTMScore_scores.csv\u001b[39m\u001b[38;5;124m'\u001b[39m,\n\u001b[1;32m    783\u001b[0m     index\u001b[38;5;241m=\u001b[39m\u001b[38;5;28;01mFalse\u001b[39;00m)\n",
      "File \u001b[0;32m~/mambaforge-pypy3/envs/dockm8/lib/python3.10/site-packages/pandas/core/reshape/concat.py:372\u001b[0m, in \u001b[0;36mconcat\u001b[0;34m(objs, axis, join, ignore_index, keys, levels, names, verify_integrity, sort, copy)\u001b[0m\n\u001b[1;32m    369\u001b[0m \u001b[38;5;28;01melif\u001b[39;00m copy \u001b[38;5;129;01mand\u001b[39;00m using_copy_on_write():\n\u001b[1;32m    370\u001b[0m     copy \u001b[38;5;241m=\u001b[39m \u001b[38;5;28;01mFalse\u001b[39;00m\n\u001b[0;32m--> 372\u001b[0m op \u001b[38;5;241m=\u001b[39m \u001b[43m_Concatenator\u001b[49m\u001b[43m(\u001b[49m\n\u001b[1;32m    373\u001b[0m \u001b[43m    \u001b[49m\u001b[43mobjs\u001b[49m\u001b[43m,\u001b[49m\n\u001b[1;32m    374\u001b[0m \u001b[43m    \u001b[49m\u001b[43maxis\u001b[49m\u001b[38;5;241;43m=\u001b[39;49m\u001b[43maxis\u001b[49m\u001b[43m,\u001b[49m\n\u001b[1;32m    375\u001b[0m \u001b[43m    \u001b[49m\u001b[43mignore_index\u001b[49m\u001b[38;5;241;43m=\u001b[39;49m\u001b[43mignore_index\u001b[49m\u001b[43m,\u001b[49m\n\u001b[1;32m    376\u001b[0m \u001b[43m    \u001b[49m\u001b[43mjoin\u001b[49m\u001b[38;5;241;43m=\u001b[39;49m\u001b[43mjoin\u001b[49m\u001b[43m,\u001b[49m\n\u001b[1;32m    377\u001b[0m \u001b[43m    \u001b[49m\u001b[43mkeys\u001b[49m\u001b[38;5;241;43m=\u001b[39;49m\u001b[43mkeys\u001b[49m\u001b[43m,\u001b[49m\n\u001b[1;32m    378\u001b[0m \u001b[43m    \u001b[49m\u001b[43mlevels\u001b[49m\u001b[38;5;241;43m=\u001b[39;49m\u001b[43mlevels\u001b[49m\u001b[43m,\u001b[49m\n\u001b[1;32m    379\u001b[0m \u001b[43m    \u001b[49m\u001b[43mnames\u001b[49m\u001b[38;5;241;43m=\u001b[39;49m\u001b[43mnames\u001b[49m\u001b[43m,\u001b[49m\n\u001b[1;32m    380\u001b[0m \u001b[43m    \u001b[49m\u001b[43mverify_integrity\u001b[49m\u001b[38;5;241;43m=\u001b[39;49m\u001b[43mverify_integrity\u001b[49m\u001b[43m,\u001b[49m\n\u001b[1;32m    381\u001b[0m \u001b[43m    \u001b[49m\u001b[43mcopy\u001b[49m\u001b[38;5;241;43m=\u001b[39;49m\u001b[43mcopy\u001b[49m\u001b[43m,\u001b[49m\n\u001b[1;32m    382\u001b[0m \u001b[43m    \u001b[49m\u001b[43msort\u001b[49m\u001b[38;5;241;43m=\u001b[39;49m\u001b[43msort\u001b[49m\u001b[43m,\u001b[49m\n\u001b[1;32m    383\u001b[0m \u001b[43m\u001b[49m\u001b[43m)\u001b[49m\n\u001b[1;32m    385\u001b[0m \u001b[38;5;28;01mreturn\u001b[39;00m op\u001b[38;5;241m.\u001b[39mget_result()\n",
      "File \u001b[0;32m~/mambaforge-pypy3/envs/dockm8/lib/python3.10/site-packages/pandas/core/reshape/concat.py:429\u001b[0m, in \u001b[0;36m_Concatenator.__init__\u001b[0;34m(self, objs, axis, join, keys, levels, names, ignore_index, verify_integrity, copy, sort)\u001b[0m\n\u001b[1;32m    426\u001b[0m     objs \u001b[38;5;241m=\u001b[39m \u001b[38;5;28mlist\u001b[39m(objs)\n\u001b[1;32m    428\u001b[0m \u001b[38;5;28;01mif\u001b[39;00m \u001b[38;5;28mlen\u001b[39m(objs) \u001b[38;5;241m==\u001b[39m \u001b[38;5;241m0\u001b[39m:\n\u001b[0;32m--> 429\u001b[0m     \u001b[38;5;28;01mraise\u001b[39;00m \u001b[38;5;167;01mValueError\u001b[39;00m(\u001b[38;5;124m\"\u001b[39m\u001b[38;5;124mNo objects to concatenate\u001b[39m\u001b[38;5;124m\"\u001b[39m)\n\u001b[1;32m    431\u001b[0m \u001b[38;5;28;01mif\u001b[39;00m keys \u001b[38;5;129;01mis\u001b[39;00m \u001b[38;5;28;01mNone\u001b[39;00m:\n\u001b[1;32m    432\u001b[0m     objs \u001b[38;5;241m=\u001b[39m \u001b[38;5;28mlist\u001b[39m(com\u001b[38;5;241m.\u001b[39mnot_none(\u001b[38;5;241m*\u001b[39mobjs))\n",
      "\u001b[0;31mValueError\u001b[0m: No objects to concatenate"
     ]
    }
   ],
   "source": [
    "for metric in clustering_metrics:\n",
    "        rescore_all(w_dir, protein_file, pocket_definition, str(w_dir / 'temp' / f'clustering/{metric}_clustered.sdf'), rescoring, ncpus)"
   ]
  },
  {
   "cell_type": "code",
   "execution_count": null,
   "metadata": {},
   "outputs": [],
   "source": [
    "calculate_EF_single_functions(w_dir, docking_library, clustering_metrics)"
   ]
  },
  {
   "cell_type": "code",
   "execution_count": null,
   "metadata": {},
   "outputs": [],
   "source": [
    "apply_consensus_methods_combinations(w_dir, docking_library, clustering_metrics)"
   ]
  },
  {
   "cell_type": "code",
   "execution_count": null,
   "metadata": {},
   "outputs": [
    {
     "name": "stdout",
     "output_type": "stream",
     "text": [
      "The folder: /home/hamza/Gitlab/DockM8/data/temp/ranking was created\n"
     ]
    },
    {
     "ename": "FileNotFoundError",
     "evalue": "[Errno 2] No such file or directory: '/home/hamza/Gitlab/DockM8/data/temp/rescoring_bestpose_clustered/allposes_rescored.csv'",
     "output_type": "error",
     "traceback": [
      "\u001b[0;31m---------------------------------------------------------------------------\u001b[0m",
      "\u001b[0;31mFileNotFoundError\u001b[0m                         Traceback (most recent call last)",
      "\u001b[1;32m/home/hamza/Gitlab/DockM8/ECF.ipynb Cell 17\u001b[0m in \u001b[0;36m<cell line: 1>\u001b[0;34m()\u001b[0m\n\u001b[0;32m----> <a href='vscode-notebook-cell:/home/hamza/Gitlab/DockM8/ECF.ipynb#X22sZmlsZQ%3D%3D?line=0'>1</a>\u001b[0m apply_consensus_methods(w_dir, \u001b[39m'\u001b[39;49m\u001b[39mbestpose\u001b[39;49m\u001b[39m'\u001b[39;49m, \u001b[39m'\u001b[39;49m\u001b[39mmethod6\u001b[39;49m\u001b[39m'\u001b[39;49m, [\u001b[39m'\u001b[39;49m\u001b[39mgnina\u001b[39;49m\u001b[39m'\u001b[39;49m, \u001b[39m'\u001b[39;49m\u001b[39mRTMScore\u001b[39;49m\u001b[39m'\u001b[39;49m])\n",
      "File \u001b[0;32m~/Gitlab/DockM8/scripts/performance_calculation.py:156\u001b[0m, in \u001b[0;36mapply_consensus_methods\u001b[0;34m(w_dir, clustering_metric, method, rescoring_functions)\u001b[0m\n\u001b[1;32m    154\u001b[0m create_temp_folder(w_dir\u001b[39m+\u001b[39m\u001b[39m'\u001b[39m\u001b[39m/temp/ranking\u001b[39m\u001b[39m'\u001b[39m)\n\u001b[1;32m    155\u001b[0m rescoring_folder \u001b[39m=\u001b[39m \u001b[39mf\u001b[39m\u001b[39m'\u001b[39m\u001b[39mrescoring_\u001b[39m\u001b[39m{\u001b[39;00mclustering_metric\u001b[39m}\u001b[39;00m\u001b[39m_clustered\u001b[39m\u001b[39m'\u001b[39m\n\u001b[0;32m--> 156\u001b[0m rescored_dataframe \u001b[39m=\u001b[39m pd\u001b[39m.\u001b[39;49mread_csv(w_dir \u001b[39m+\u001b[39;49m \u001b[39mf\u001b[39;49m\u001b[39m'\u001b[39;49m\u001b[39m/temp/\u001b[39;49m\u001b[39m{\u001b[39;49;00mrescoring_folder\u001b[39m}\u001b[39;49;00m\u001b[39m/allposes_rescored.csv\u001b[39;49m\u001b[39m'\u001b[39;49m)\n\u001b[1;32m    157\u001b[0m standardised_dataframe \u001b[39m=\u001b[39m standardize_scores(rescored_dataframe)\n\u001b[1;32m    158\u001b[0m col_dict \u001b[39m=\u001b[39m {\u001b[39m'\u001b[39m\u001b[39mgnina\u001b[39m\u001b[39m'\u001b[39m:[\u001b[39m'\u001b[39m\u001b[39mGNINA\u001b[39m\u001b[39m'\u001b[39m, \u001b[39m'\u001b[39m\u001b[39mCNN-Score\u001b[39m\u001b[39m'\u001b[39m, \u001b[39m'\u001b[39m\u001b[39mCNN-Affinity\u001b[39m\u001b[39m'\u001b[39m], \u001b[39m'\u001b[39m\u001b[39mvinardo\u001b[39m\u001b[39m'\u001b[39m:\u001b[39m'\u001b[39m\u001b[39mVinardo\u001b[39m\u001b[39m'\u001b[39m, \u001b[39m'\u001b[39m\u001b[39mAD4\u001b[39m\u001b[39m'\u001b[39m:\u001b[39m'\u001b[39m\u001b[39mAD4\u001b[39m\u001b[39m'\u001b[39m, \u001b[39m'\u001b[39m\u001b[39mLinF9\u001b[39m\u001b[39m'\u001b[39m:\u001b[39m'\u001b[39m\u001b[39mLinF9\u001b[39m\u001b[39m'\u001b[39m, \u001b[39m'\u001b[39m\u001b[39mrfscorevs\u001b[39m\u001b[39m'\u001b[39m:\u001b[39m'\u001b[39m\u001b[39mRFScoreVS\u001b[39m\u001b[39m'\u001b[39m, \u001b[39m'\u001b[39m\u001b[39mplp\u001b[39m\u001b[39m'\u001b[39m:\u001b[39m'\u001b[39m\u001b[39mPLP\u001b[39m\u001b[39m'\u001b[39m, \u001b[39m'\u001b[39m\u001b[39mchemplp\u001b[39m\u001b[39m'\u001b[39m:\u001b[39m'\u001b[39m\u001b[39mCHEMPLP\u001b[39m\u001b[39m'\u001b[39m, \u001b[39m'\u001b[39m\u001b[39mNNScore\u001b[39m\u001b[39m'\u001b[39m:\u001b[39m'\u001b[39m\u001b[39mNNScore\u001b[39m\u001b[39m'\u001b[39m, \n\u001b[1;32m    159\u001b[0m            \u001b[39m'\u001b[39m\u001b[39mPLECnn\u001b[39m\u001b[39m'\u001b[39m:\u001b[39m'\u001b[39m\u001b[39mPLECnn\u001b[39m\u001b[39m'\u001b[39m, \u001b[39m'\u001b[39m\u001b[39mAAScore\u001b[39m\u001b[39m'\u001b[39m:\u001b[39m'\u001b[39m\u001b[39mAAScore\u001b[39m\u001b[39m'\u001b[39m, \u001b[39m'\u001b[39m\u001b[39mECIF\u001b[39m\u001b[39m'\u001b[39m:\u001b[39m'\u001b[39m\u001b[39mECIF\u001b[39m\u001b[39m'\u001b[39m, \u001b[39m'\u001b[39m\u001b[39mSCORCH\u001b[39m\u001b[39m'\u001b[39m:\u001b[39m'\u001b[39m\u001b[39mSCORCH\u001b[39m\u001b[39m'\u001b[39m,\u001b[39m'\u001b[39m\u001b[39mRTMScore\u001b[39m\u001b[39m'\u001b[39m:\u001b[39m'\u001b[39m\u001b[39mRTMScore\u001b[39m\u001b[39m'\u001b[39m}\n",
      "File \u001b[0;32m~/mambaforge-pypy3/envs/dockm82/lib/python3.8/site-packages/pandas/io/parsers/readers.py:912\u001b[0m, in \u001b[0;36mread_csv\u001b[0;34m(filepath_or_buffer, sep, delimiter, header, names, index_col, usecols, dtype, engine, converters, true_values, false_values, skipinitialspace, skiprows, skipfooter, nrows, na_values, keep_default_na, na_filter, verbose, skip_blank_lines, parse_dates, infer_datetime_format, keep_date_col, date_parser, date_format, dayfirst, cache_dates, iterator, chunksize, compression, thousands, decimal, lineterminator, quotechar, quoting, doublequote, escapechar, comment, encoding, encoding_errors, dialect, on_bad_lines, delim_whitespace, low_memory, memory_map, float_precision, storage_options, dtype_backend)\u001b[0m\n\u001b[1;32m    899\u001b[0m kwds_defaults \u001b[39m=\u001b[39m _refine_defaults_read(\n\u001b[1;32m    900\u001b[0m     dialect,\n\u001b[1;32m    901\u001b[0m     delimiter,\n\u001b[0;32m   (...)\u001b[0m\n\u001b[1;32m    908\u001b[0m     dtype_backend\u001b[39m=\u001b[39mdtype_backend,\n\u001b[1;32m    909\u001b[0m )\n\u001b[1;32m    910\u001b[0m kwds\u001b[39m.\u001b[39mupdate(kwds_defaults)\n\u001b[0;32m--> 912\u001b[0m \u001b[39mreturn\u001b[39;00m _read(filepath_or_buffer, kwds)\n",
      "File \u001b[0;32m~/mambaforge-pypy3/envs/dockm82/lib/python3.8/site-packages/pandas/io/parsers/readers.py:577\u001b[0m, in \u001b[0;36m_read\u001b[0;34m(filepath_or_buffer, kwds)\u001b[0m\n\u001b[1;32m    574\u001b[0m _validate_names(kwds\u001b[39m.\u001b[39mget(\u001b[39m\"\u001b[39m\u001b[39mnames\u001b[39m\u001b[39m\"\u001b[39m, \u001b[39mNone\u001b[39;00m))\n\u001b[1;32m    576\u001b[0m \u001b[39m# Create the parser.\u001b[39;00m\n\u001b[0;32m--> 577\u001b[0m parser \u001b[39m=\u001b[39m TextFileReader(filepath_or_buffer, \u001b[39m*\u001b[39;49m\u001b[39m*\u001b[39;49mkwds)\n\u001b[1;32m    579\u001b[0m \u001b[39mif\u001b[39;00m chunksize \u001b[39mor\u001b[39;00m iterator:\n\u001b[1;32m    580\u001b[0m     \u001b[39mreturn\u001b[39;00m parser\n",
      "File \u001b[0;32m~/mambaforge-pypy3/envs/dockm82/lib/python3.8/site-packages/pandas/io/parsers/readers.py:1407\u001b[0m, in \u001b[0;36mTextFileReader.__init__\u001b[0;34m(self, f, engine, **kwds)\u001b[0m\n\u001b[1;32m   1404\u001b[0m     \u001b[39mself\u001b[39m\u001b[39m.\u001b[39moptions[\u001b[39m\"\u001b[39m\u001b[39mhas_index_names\u001b[39m\u001b[39m\"\u001b[39m] \u001b[39m=\u001b[39m kwds[\u001b[39m\"\u001b[39m\u001b[39mhas_index_names\u001b[39m\u001b[39m\"\u001b[39m]\n\u001b[1;32m   1406\u001b[0m \u001b[39mself\u001b[39m\u001b[39m.\u001b[39mhandles: IOHandles \u001b[39m|\u001b[39m \u001b[39mNone\u001b[39;00m \u001b[39m=\u001b[39m \u001b[39mNone\u001b[39;00m\n\u001b[0;32m-> 1407\u001b[0m \u001b[39mself\u001b[39m\u001b[39m.\u001b[39m_engine \u001b[39m=\u001b[39m \u001b[39mself\u001b[39;49m\u001b[39m.\u001b[39;49m_make_engine(f, \u001b[39mself\u001b[39;49m\u001b[39m.\u001b[39;49mengine)\n",
      "File \u001b[0;32m~/mambaforge-pypy3/envs/dockm82/lib/python3.8/site-packages/pandas/io/parsers/readers.py:1661\u001b[0m, in \u001b[0;36mTextFileReader._make_engine\u001b[0;34m(self, f, engine)\u001b[0m\n\u001b[1;32m   1659\u001b[0m     \u001b[39mif\u001b[39;00m \u001b[39m\"\u001b[39m\u001b[39mb\u001b[39m\u001b[39m\"\u001b[39m \u001b[39mnot\u001b[39;00m \u001b[39min\u001b[39;00m mode:\n\u001b[1;32m   1660\u001b[0m         mode \u001b[39m+\u001b[39m\u001b[39m=\u001b[39m \u001b[39m\"\u001b[39m\u001b[39mb\u001b[39m\u001b[39m\"\u001b[39m\n\u001b[0;32m-> 1661\u001b[0m \u001b[39mself\u001b[39m\u001b[39m.\u001b[39mhandles \u001b[39m=\u001b[39m get_handle(\n\u001b[1;32m   1662\u001b[0m     f,\n\u001b[1;32m   1663\u001b[0m     mode,\n\u001b[1;32m   1664\u001b[0m     encoding\u001b[39m=\u001b[39;49m\u001b[39mself\u001b[39;49m\u001b[39m.\u001b[39;49moptions\u001b[39m.\u001b[39;49mget(\u001b[39m\"\u001b[39;49m\u001b[39mencoding\u001b[39;49m\u001b[39m\"\u001b[39;49m, \u001b[39mNone\u001b[39;49;00m),\n\u001b[1;32m   1665\u001b[0m     compression\u001b[39m=\u001b[39;49m\u001b[39mself\u001b[39;49m\u001b[39m.\u001b[39;49moptions\u001b[39m.\u001b[39;49mget(\u001b[39m\"\u001b[39;49m\u001b[39mcompression\u001b[39;49m\u001b[39m\"\u001b[39;49m, \u001b[39mNone\u001b[39;49;00m),\n\u001b[1;32m   1666\u001b[0m     memory_map\u001b[39m=\u001b[39;49m\u001b[39mself\u001b[39;49m\u001b[39m.\u001b[39;49moptions\u001b[39m.\u001b[39;49mget(\u001b[39m\"\u001b[39;49m\u001b[39mmemory_map\u001b[39;49m\u001b[39m\"\u001b[39;49m, \u001b[39mFalse\u001b[39;49;00m),\n\u001b[1;32m   1667\u001b[0m     is_text\u001b[39m=\u001b[39;49mis_text,\n\u001b[1;32m   1668\u001b[0m     errors\u001b[39m=\u001b[39;49m\u001b[39mself\u001b[39;49m\u001b[39m.\u001b[39;49moptions\u001b[39m.\u001b[39;49mget(\u001b[39m\"\u001b[39;49m\u001b[39mencoding_errors\u001b[39;49m\u001b[39m\"\u001b[39;49m, \u001b[39m\"\u001b[39;49m\u001b[39mstrict\u001b[39;49m\u001b[39m\"\u001b[39;49m),\n\u001b[1;32m   1669\u001b[0m     storage_options\u001b[39m=\u001b[39;49m\u001b[39mself\u001b[39;49m\u001b[39m.\u001b[39;49moptions\u001b[39m.\u001b[39;49mget(\u001b[39m\"\u001b[39;49m\u001b[39mstorage_options\u001b[39;49m\u001b[39m\"\u001b[39;49m, \u001b[39mNone\u001b[39;49;00m),\n\u001b[1;32m   1670\u001b[0m )\n\u001b[1;32m   1671\u001b[0m \u001b[39massert\u001b[39;00m \u001b[39mself\u001b[39m\u001b[39m.\u001b[39mhandles \u001b[39mis\u001b[39;00m \u001b[39mnot\u001b[39;00m \u001b[39mNone\u001b[39;00m\n\u001b[1;32m   1672\u001b[0m f \u001b[39m=\u001b[39m \u001b[39mself\u001b[39m\u001b[39m.\u001b[39mhandles\u001b[39m.\u001b[39mhandle\n",
      "File \u001b[0;32m~/mambaforge-pypy3/envs/dockm82/lib/python3.8/site-packages/pandas/io/common.py:859\u001b[0m, in \u001b[0;36mget_handle\u001b[0;34m(path_or_buf, mode, encoding, compression, memory_map, is_text, errors, storage_options)\u001b[0m\n\u001b[1;32m    854\u001b[0m \u001b[39melif\u001b[39;00m \u001b[39misinstance\u001b[39m(handle, \u001b[39mstr\u001b[39m):\n\u001b[1;32m    855\u001b[0m     \u001b[39m# Check whether the filename is to be opened in binary mode.\u001b[39;00m\n\u001b[1;32m    856\u001b[0m     \u001b[39m# Binary mode does not support 'encoding' and 'newline'.\u001b[39;00m\n\u001b[1;32m    857\u001b[0m     \u001b[39mif\u001b[39;00m ioargs\u001b[39m.\u001b[39mencoding \u001b[39mand\u001b[39;00m \u001b[39m\"\u001b[39m\u001b[39mb\u001b[39m\u001b[39m\"\u001b[39m \u001b[39mnot\u001b[39;00m \u001b[39min\u001b[39;00m ioargs\u001b[39m.\u001b[39mmode:\n\u001b[1;32m    858\u001b[0m         \u001b[39m# Encoding\u001b[39;00m\n\u001b[0;32m--> 859\u001b[0m         handle \u001b[39m=\u001b[39m \u001b[39mopen\u001b[39;49m(\n\u001b[1;32m    860\u001b[0m             handle,\n\u001b[1;32m    861\u001b[0m             ioargs\u001b[39m.\u001b[39;49mmode,\n\u001b[1;32m    862\u001b[0m             encoding\u001b[39m=\u001b[39;49mioargs\u001b[39m.\u001b[39;49mencoding,\n\u001b[1;32m    863\u001b[0m             errors\u001b[39m=\u001b[39;49merrors,\n\u001b[1;32m    864\u001b[0m             newline\u001b[39m=\u001b[39;49m\u001b[39m\"\u001b[39;49m\u001b[39m\"\u001b[39;49m,\n\u001b[1;32m    865\u001b[0m         )\n\u001b[1;32m    866\u001b[0m     \u001b[39melse\u001b[39;00m:\n\u001b[1;32m    867\u001b[0m         \u001b[39m# Binary mode\u001b[39;00m\n\u001b[1;32m    868\u001b[0m         handle \u001b[39m=\u001b[39m \u001b[39mopen\u001b[39m(handle, ioargs\u001b[39m.\u001b[39mmode)\n",
      "\u001b[0;31mFileNotFoundError\u001b[0m: [Errno 2] No such file or directory: '/home/hamza/Gitlab/DockM8/data/temp/rescoring_bestpose_clustered/allposes_rescored.csv'"
     ]
    }
   ],
   "source": [
    "apply_consensus_methods(w_dir, 'bestpose', 'method6', ['gnina', 'RTMScore'])"
   ]
  }
 ],
 "metadata": {
  "kernelspec": {
   "display_name": "wocondock",
   "language": "python",
   "name": "python3"
  },
  "language_info": {
   "codemirror_mode": {
    "name": "ipython",
    "version": 3
   },
   "file_extension": ".py",
   "mimetype": "text/x-python",
   "name": "python",
   "nbconvert_exporter": "python",
   "pygments_lexer": "ipython3",
   "version": "3.10.12"
  },
  "orig_nbformat": 4,
  "vscode": {
   "interpreter": {
    "hash": "10164e316682d9b4b376ca14144ea8a4ff51ebef10350aaa3c3bfce49f02faa4"
   }
  }
 },
 "nbformat": 4,
 "nbformat_minor": 2
}
