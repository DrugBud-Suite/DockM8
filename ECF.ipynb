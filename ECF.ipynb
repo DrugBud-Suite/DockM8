{
 "cells": [
  {
   "attachments": {},
   "cell_type": "markdown",
   "metadata": {},
   "source": [
    "**Import required libraries and scripts**"
   ]
  },
  {
   "cell_type": "code",
   "execution_count": 1,
   "metadata": {},
   "outputs": [
    {
     "name": "stderr",
     "output_type": "stream",
     "text": [
      "[12:42:53] Initializing Normalizer\n",
      "/home/hamza/mambaforge-pypy3/envs/dockm8/lib/python3.8/site-packages/Bio/pairwise2.py:278: BiopythonDeprecationWarning: Bio.pairwise2 has been deprecated, and we intend to remove it in a future release of Biopython. As an alternative, please consider using Bio.Align.PairwiseAligner as a replacement, and contact the Biopython developers if you still need the Bio.pairwise2 module.\n",
      "  warnings.warn(\n",
      "/home/hamza/mambaforge-pypy3/envs/dockm8/lib/python3.8/site-packages/MDAnalysis/coordinates/chemfiles.py:108: DeprecationWarning: distutils Version classes are deprecated. Use packaging.version instead.\n",
      "  MIN_CHEMFILES_VERSION = LooseVersion(\"0.9\")\n",
      "[TRJ.py:171 - <module>()] netCDF4 is not available. Writing AMBER ncdf files will be slow.\n",
      "/home/hamza/mambaforge-pypy3/envs/dockm8/lib/python3.8/site-packages/MDAnalysis/coordinates/TRJ.py:1209: DeprecationWarning: Please use `netcdf_file` from the `scipy.io` namespace, the `scipy.io.netcdf` namespace is deprecated.\n",
      "  class NCDFPicklable(scipy.io.netcdf.netcdf_file):\n"
     ]
    }
   ],
   "source": [
    "#Import required libraries and scripts\n",
    "from scripts.library_preparation import *\n",
    "from scripts.utilities import *\n",
    "from scripts.docking_functions import *\n",
    "from scripts.clustering_functions import *\n",
    "from scripts.rescoring_functions import *\n",
    "from scripts.consensus_methods import *\n",
    "from scripts.performance_calculation import *\n",
    "from scripts.dogsitescorer import *\n",
    "from scripts.get_pocket import *\n"
   ]
  },
  {
   "attachments": {},
   "cell_type": "markdown",
   "metadata": {},
   "source": [
    "### Data input, then create each path \n",
    "- suitable for every machine"
   ]
  },
  {
   "cell_type": "code",
   "execution_count": 2,
   "metadata": {},
   "outputs": [],
   "source": [
    "protein_name = 'protein_protoss_noligand.pdb'\n",
    "ligand_library = 'ecft_scores.sdf'\n",
    "reference_ligand = 'ref_ligand.pdb'"
   ]
  },
  {
   "attachments": {},
   "cell_type": "markdown",
   "metadata": {},
   "source": [
    "### Global Path for every local machine"
   ]
  },
  {
   "cell_type": "code",
   "execution_count": 3,
   "metadata": {},
   "outputs": [],
   "source": [
    "from pathlib import Path\n",
    "\n",
    "HERE = Path(_dh[-1])\n",
    "DATA = (HERE / \"data\")\n",
    "\n",
    "\n",
    "# Move input data (protein pdb, docking library and reference ligand) to data directory\n",
    "software = str(HERE / \"software\")\n",
    "protein_file = str(DATA / protein_name)\n",
    "docking_library = str(DATA / ligand_library)\n",
    "ref_file = str(DATA / reference_ligand)"
   ]
  },
  {
   "attachments": {},
   "cell_type": "markdown",
   "metadata": {},
   "source": [
    "### DockM8 config"
   ]
  },
  {
   "cell_type": "code",
   "execution_count": 4,
   "metadata": {},
   "outputs": [
    {
     "name": "stdout",
     "output_type": "stream",
     "text": [
      "The working directory has been set to: /home/hamza/Gitlab/DockM8/data\n"
     ]
    }
   ],
   "source": [
    "pocket = 'reference'\n",
    "protonation = 'pkasolver'\n",
    "docking_programs = ['GNINA', 'SMINA', 'PLANTS']\n",
    "clustering_metrics = ['RMSD', 'spyRMSD', 'espsim', 'bestpose', 'bestpose_PLANTS', 'bestpose_GNINA', 'bestpose_SMINA']\n",
    "clustering_method = 'KMedoids'\n",
    "rescoring= ['gnina', 'AD4', 'chemplp', 'rfscorevs', 'LinF9', 'RTMScore', 'vinardo', 'SCORCH']\n",
    "id_column = 'ID'\n",
    "n_poses = 10\n",
    "exhaustiveness = 8\n",
    "ncpus = 14\n",
    "#Create a temporary folder for all further calculations\n",
    "w_dir = os.path.dirname(protein_file)\n",
    "print('The working directory has been set to:', w_dir)\n",
    "(DATA/'temp').mkdir(exist_ok=True)"
   ]
  },
  {
   "cell_type": "code",
   "execution_count": 5,
   "metadata": {},
   "outputs": [
    {
     "name": "stdout",
     "output_type": "stream",
     "text": [
      "\n",
      "[2023-Jun-10 12:43:03]: Extracting pocket from /home/hamza/Gitlab/DockM8/data/protein_protoss_noligand.pdb using /home/hamza/Gitlab/DockM8/data/ref_ligand.pdb as reference ligand\n",
      "\n",
      "[2023-Jun-10 12:43:23]: Finished extracting pocket from /home/hamza/Gitlab/DockM8/data/protein_protoss_noligand.pdb using /home/hamza/Gitlab/DockM8/data/ref_ligand.pdb as reference ligand\n",
      "{'center': [67.84, 79.11, 89.67], 'size': [16.0, 16.0, 16.0]}\n"
     ]
    }
   ],
   "source": [
    "# if os.path.isfile(protein_file.replace('.pdb', '_pocket.pdb')) == False:\n",
    "if pocket == 'reference':\n",
    "    pocket_definition = get_pocket(ref_file, protein_file, 8)\n",
    "    print(pocket_definition)\n",
    "elif pocket == 'dogsitescorer':\n",
    "    pocket_definition = binding_site_coordinates_dogsitescorer(protein_file, w_dir, method='volume')"
   ]
  },
  {
   "cell_type": "code",
   "execution_count": 6,
   "metadata": {},
   "outputs": [
    {
     "name": "stdout",
     "output_type": "stream",
     "text": [
      "\n",
      "[2023-Jun-10 12:43:23]: Standardizing docking library using ChemBL Structure Pipeline...\n"
     ]
    },
    {
     "name": "stderr",
     "output_type": "stream",
     "text": [
      "Standardizing molecules: 100%|██████████| 212/212 [00:00<00:00, 369.83mol/s]\n"
     ]
    },
    {
     "name": "stdout",
     "output_type": "stream",
     "text": [
      "\n",
      "[2023-Jun-10 12:43:24]: Standardization of compound library finished: Started with 212, ended with 212 : 0 compounds lost\n",
      "\n",
      "[2023-Jun-10 12:43:24]: Calculating protonation states using pkaSolver...\n"
     ]
    },
    {
     "name": "stderr",
     "output_type": "stream",
     "text": [
      "[query.py:297 - calculate_microstate_pka_values()] Using dimorphite-dl to identify protonation sites.\n"
     ]
    },
    {
     "name": "stdout",
     "output_type": "stream",
     "text": [
      "Nc1nnc(-c2cccc(OC(F)(F)F)c2)o1\n",
      "<rdkit.Chem.rdchem.Mol object at 0x7f54637d0e40>\n",
      "\n",
      "For help, use: python dimorphite_dl.py --help\n",
      "\n",
      "If you use Dimorphite-DL in your research, please cite:\n",
      "Ropp PJ, Kaminsky JC, Yablonski S, Durrant JD (2019) Dimorphite-DL: An\n",
      "open-source program for enumerating the ionization states of drug-like small\n",
      "molecules. J Cheminform 11:14. doi:10.1186/s13321-019-0336-9.\n",
      "\n",
      "Nc1nnc(-c2cccc(OC(F)(F)F)c2)o1\n",
      "<rdkit.Chem.rdchem.Mol object at 0x7ff38a32ae40>\n",
      "\n",
      "For help, use: python dimorphite_dl.py --help\n",
      "\n",
      "If you use Dimorphite-DL in your research, please cite:\n",
      "Ropp PJ, Kaminsky JC, Yablonski S, Durrant JD (2019) Dimorphite-DL: An\n",
      "open-source program for enumerating the ionization states of drug-like small\n",
      "molecules. J Cheminform 11:14. doi:10.1186/s13321-019-0336-9.\n",
      "\n",
      "Proposed mol at pH 7.4: Nc1nnc(-c2cccc(OC(F)(F)F)c2)o1\n"
     ]
    },
    {
     "name": "stderr",
     "output_type": "stream",
     "text": [
      "[query.py:297 - calculate_microstate_pka_values()] Using dimorphite-dl to identify protonation sites.\n"
     ]
    },
    {
     "name": "stdout",
     "output_type": "stream",
     "text": [
      "CCN(Cc1ccccc1)C(=O)Nc1cc(-c2ccc(Cl)c(Cl)c2)sc1C(=O)O\n",
      "<rdkit.Chem.rdchem.Mol object at 0x7fd173edbeb0>\n",
      "\n",
      "For help, use: python dimorphite_dl.py --help\n",
      "\n",
      "If you use Dimorphite-DL in your research, please cite:\n",
      "Ropp PJ, Kaminsky JC, Yablonski S, Durrant JD (2019) Dimorphite-DL: An\n",
      "open-source program for enumerating the ionization states of drug-like small\n",
      "molecules. J Cheminform 11:14. doi:10.1186/s13321-019-0336-9.\n",
      "\n",
      "CCN(Cc1ccccc1)C(=O)Nc1cc(-c2ccc(Cl)c(Cl)c2)sc1C(=O)O\n",
      "<rdkit.Chem.rdchem.Mol object at 0x7f60332cfeb0>\n",
      "\n",
      "For help, use: python dimorphite_dl.py --help\n",
      "\n",
      "If you use Dimorphite-DL in your research, please cite:\n",
      "Ropp PJ, Kaminsky JC, Yablonski S, Durrant JD (2019) Dimorphite-DL: An\n",
      "open-source program for enumerating the ionization states of drug-like small\n",
      "molecules. J Cheminform 11:14. doi:10.1186/s13321-019-0336-9.\n",
      "\n",
      "Proposed mol at pH 7.4: CC[NH+](Cc1ccccc1)C(=O)Nc1cc(-c2ccc(Cl)c(Cl)c2)sc1C(=O)[O-]\n"
     ]
    },
    {
     "name": "stderr",
     "output_type": "stream",
     "text": [
      "[query.py:297 - calculate_microstate_pka_values()] Using dimorphite-dl to identify protonation sites.\n"
     ]
    },
    {
     "name": "stdout",
     "output_type": "stream",
     "text": [
      "CCCCCCNC(=O)Nc1cc(-c2ccc(Cl)c(Cl)c2)sc1C(=O)O\n",
      "<rdkit.Chem.rdchem.Mol object at 0x7f5779247e40>\n",
      "\n",
      "For help, use: python dimorphite_dl.py --help\n",
      "\n",
      "If you use Dimorphite-DL in your research, please cite:\n",
      "Ropp PJ, Kaminsky JC, Yablonski S, Durrant JD (2019) Dimorphite-DL: An\n",
      "open-source program for enumerating the ionization states of drug-like small\n",
      "molecules. J Cheminform 11:14. doi:10.1186/s13321-019-0336-9.\n",
      "\n",
      "CCCCCCNC(=O)Nc1cc(-c2ccc(Cl)c(Cl)c2)sc1C(=O)O\n",
      "<rdkit.Chem.rdchem.Mol object at 0x7f15550c1e40>\n",
      "\n",
      "For help, use: python dimorphite_dl.py --help\n",
      "\n",
      "If you use Dimorphite-DL in your research, please cite:\n",
      "Ropp PJ, Kaminsky JC, Yablonski S, Durrant JD (2019) Dimorphite-DL: An\n",
      "open-source program for enumerating the ionization states of drug-like small\n",
      "molecules. J Cheminform 11:14. doi:10.1186/s13321-019-0336-9.\n",
      "\n",
      "Proposed mol at pH 7.4: CCCCCCNC(=O)Nc1cc(-c2ccc(Cl)c(Cl)c2)sc1C(=O)[O-]\n"
     ]
    },
    {
     "name": "stderr",
     "output_type": "stream",
     "text": [
      "[query.py:297 - calculate_microstate_pka_values()] Using dimorphite-dl to identify protonation sites.\n"
     ]
    },
    {
     "name": "stdout",
     "output_type": "stream",
     "text": [
      "O=C(NCc1ccccc1)Nc1cc(-c2ccc(Cl)c(Cl)c2)sc1C(=O)O\n",
      "<rdkit.Chem.rdchem.Mol object at 0x7fb044caeeb0>\n",
      "\n",
      "For help, use: python dimorphite_dl.py --help\n",
      "\n",
      "If you use Dimorphite-DL in your research, please cite:\n",
      "Ropp PJ, Kaminsky JC, Yablonski S, Durrant JD (2019) Dimorphite-DL: An\n",
      "open-source program for enumerating the ionization states of drug-like small\n",
      "molecules. J Cheminform 11:14. doi:10.1186/s13321-019-0336-9.\n",
      "\n",
      "O=C(NCc1ccccc1)Nc1cc(-c2ccc(Cl)c(Cl)c2)sc1C(=O)O\n",
      "<rdkit.Chem.rdchem.Mol object at 0x7f550f822eb0>\n",
      "\n",
      "For help, use: python dimorphite_dl.py --help\n",
      "\n",
      "If you use Dimorphite-DL in your research, please cite:\n",
      "Ropp PJ, Kaminsky JC, Yablonski S, Durrant JD (2019) Dimorphite-DL: An\n",
      "open-source program for enumerating the ionization states of drug-like small\n",
      "molecules. J Cheminform 11:14. doi:10.1186/s13321-019-0336-9.\n",
      "\n",
      "Proposed mol at pH 7.4: O=C(NCc1ccccc1)Nc1cc(-c2ccc(Cl)c(Cl)c2)sc1C(=O)[O-]\n"
     ]
    },
    {
     "name": "stderr",
     "output_type": "stream",
     "text": [
      "[query.py:297 - calculate_microstate_pka_values()] Using dimorphite-dl to identify protonation sites.\n"
     ]
    },
    {
     "name": "stdout",
     "output_type": "stream",
     "text": [
      "CN(Cc1ccccc1)C(=O)Nc1cc(-c2ccc(Cl)c(Cl)c2)sc1C(=O)O\n",
      "<rdkit.Chem.rdchem.Mol object at 0x7f27aa91beb0>\n",
      "\n",
      "For help, use: python dimorphite_dl.py --help\n",
      "\n",
      "If you use Dimorphite-DL in your research, please cite:\n",
      "Ropp PJ, Kaminsky JC, Yablonski S, Durrant JD (2019) Dimorphite-DL: An\n",
      "open-source program for enumerating the ionization states of drug-like small\n",
      "molecules. J Cheminform 11:14. doi:10.1186/s13321-019-0336-9.\n",
      "\n",
      "CN(Cc1ccccc1)C(=O)Nc1cc(-c2ccc(Cl)c(Cl)c2)sc1C(=O)O\n",
      "<rdkit.Chem.rdchem.Mol object at 0x7f1cc8176eb0>\n",
      "\n",
      "For help, use: python dimorphite_dl.py --help\n",
      "\n",
      "If you use Dimorphite-DL in your research, please cite:\n",
      "Ropp PJ, Kaminsky JC, Yablonski S, Durrant JD (2019) Dimorphite-DL: An\n",
      "open-source program for enumerating the ionization states of drug-like small\n",
      "molecules. J Cheminform 11:14. doi:10.1186/s13321-019-0336-9.\n",
      "\n",
      "Proposed mol at pH 7.4: C[NH+](Cc1ccccc1)C(=O)Nc1cc(-c2ccc(Cl)c(Cl)c2)sc1C(=O)[O-]\n"
     ]
    },
    {
     "name": "stderr",
     "output_type": "stream",
     "text": [
      "[query.py:297 - calculate_microstate_pka_values()] Using dimorphite-dl to identify protonation sites.\n"
     ]
    },
    {
     "name": "stdout",
     "output_type": "stream",
     "text": [
      "COc1ccc(CNC(=O)Nc2cc(-c3ccc(Cl)c(Cl)c3)sc2C(=O)O)cc1\n",
      "<rdkit.Chem.rdchem.Mol object at 0x7f3e30eeaeb0>\n",
      "\n",
      "For help, use: python dimorphite_dl.py --help\n",
      "\n",
      "If you use Dimorphite-DL in your research, please cite:\n",
      "Ropp PJ, Kaminsky JC, Yablonski S, Durrant JD (2019) Dimorphite-DL: An\n",
      "open-source program for enumerating the ionization states of drug-like small\n",
      "molecules. J Cheminform 11:14. doi:10.1186/s13321-019-0336-9.\n",
      "\n",
      "COc1ccc(CNC(=O)Nc2cc(-c3ccc(Cl)c(Cl)c3)sc2C(=O)O)cc1\n",
      "<rdkit.Chem.rdchem.Mol object at 0x7fe80cb0eeb0>\n",
      "\n",
      "For help, use: python dimorphite_dl.py --help\n",
      "\n",
      "If you use Dimorphite-DL in your research, please cite:\n",
      "Ropp PJ, Kaminsky JC, Yablonski S, Durrant JD (2019) Dimorphite-DL: An\n",
      "open-source program for enumerating the ionization states of drug-like small\n",
      "molecules. J Cheminform 11:14. doi:10.1186/s13321-019-0336-9.\n",
      "\n",
      "Proposed mol at pH 7.4: COc1ccc(CNC(=O)Nc2cc(-c3ccc(Cl)c(Cl)c3)sc2C(=O)[O-])cc1\n"
     ]
    },
    {
     "name": "stderr",
     "output_type": "stream",
     "text": [
      "[query.py:297 - calculate_microstate_pka_values()] Using dimorphite-dl to identify protonation sites.\n"
     ]
    },
    {
     "name": "stdout",
     "output_type": "stream",
     "text": [
      "O=C(O)CCCNC(=O)Nc1cc(-c2ccc(Cl)c(Cl)c2)sc1C(=O)O\n",
      "<rdkit.Chem.rdchem.Mol object at 0x7ff662d7beb0>\n",
      "\n",
      "For help, use: python dimorphite_dl.py --help\n",
      "\n",
      "If you use Dimorphite-DL in your research, please cite:\n",
      "Ropp PJ, Kaminsky JC, Yablonski S, Durrant JD (2019) Dimorphite-DL: An\n",
      "open-source program for enumerating the ionization states of drug-like small\n",
      "molecules. J Cheminform 11:14. doi:10.1186/s13321-019-0336-9.\n",
      "\n",
      "O=C(O)CCCNC(=O)Nc1cc(-c2ccc(Cl)c(Cl)c2)sc1C(=O)O\n",
      "<rdkit.Chem.rdchem.Mol object at 0x7feb5cbfbeb0>\n",
      "\n",
      "For help, use: python dimorphite_dl.py --help\n",
      "\n",
      "If you use Dimorphite-DL in your research, please cite:\n",
      "Ropp PJ, Kaminsky JC, Yablonski S, Durrant JD (2019) Dimorphite-DL: An\n",
      "open-source program for enumerating the ionization states of drug-like small\n",
      "molecules. J Cheminform 11:14. doi:10.1186/s13321-019-0336-9.\n",
      "\n",
      "Proposed mol at pH 7.4: O=C([O-])CCCNC(=O)Nc1cc(-c2ccc(Cl)c(Cl)c2)sc1C(=O)[O-]\n"
     ]
    },
    {
     "name": "stderr",
     "output_type": "stream",
     "text": [
      "[query.py:297 - calculate_microstate_pka_values()] Using dimorphite-dl to identify protonation sites.\n"
     ]
    },
    {
     "name": "stdout",
     "output_type": "stream",
     "text": [
      "CCCCCCNC(=O)Nc1cc(-c2ccccc2)sc1C(=O)O\n",
      "<rdkit.Chem.rdchem.Mol object at 0x7f594ce3ae40>\n",
      "\n",
      "For help, use: python dimorphite_dl.py --help\n",
      "\n",
      "If you use Dimorphite-DL in your research, please cite:\n",
      "Ropp PJ, Kaminsky JC, Yablonski S, Durrant JD (2019) Dimorphite-DL: An\n",
      "open-source program for enumerating the ionization states of drug-like small\n",
      "molecules. J Cheminform 11:14. doi:10.1186/s13321-019-0336-9.\n",
      "\n",
      "CCCCCCNC(=O)Nc1cc(-c2ccccc2)sc1C(=O)O\n",
      "<rdkit.Chem.rdchem.Mol object at 0x7fb6725c2e40>\n",
      "\n",
      "For help, use: python dimorphite_dl.py --help\n",
      "\n",
      "If you use Dimorphite-DL in your research, please cite:\n",
      "Ropp PJ, Kaminsky JC, Yablonski S, Durrant JD (2019) Dimorphite-DL: An\n",
      "open-source program for enumerating the ionization states of drug-like small\n",
      "molecules. J Cheminform 11:14. doi:10.1186/s13321-019-0336-9.\n",
      "\n",
      "Proposed mol at pH 7.4: CCCCCCNC(=O)Nc1cc(-c2ccccc2)sc1C(=O)[O-]\n"
     ]
    },
    {
     "name": "stderr",
     "output_type": "stream",
     "text": [
      "[query.py:297 - calculate_microstate_pka_values()] Using dimorphite-dl to identify protonation sites.\n"
     ]
    },
    {
     "name": "stdout",
     "output_type": "stream",
     "text": [
      "CCCCCCNC(=O)Nc1cc(-c2cccc(Cl)c2)sc1C(=O)O\n",
      "<rdkit.Chem.rdchem.Mol object at 0x7fd5d107ce40>\n",
      "\n",
      "For help, use: python dimorphite_dl.py --help\n",
      "\n",
      "If you use Dimorphite-DL in your research, please cite:\n",
      "Ropp PJ, Kaminsky JC, Yablonski S, Durrant JD (2019) Dimorphite-DL: An\n",
      "open-source program for enumerating the ionization states of drug-like small\n",
      "molecules. J Cheminform 11:14. doi:10.1186/s13321-019-0336-9.\n",
      "\n",
      "CCCCCCNC(=O)Nc1cc(-c2cccc(Cl)c2)sc1C(=O)O\n",
      "<rdkit.Chem.rdchem.Mol object at 0x7feb37890e40>\n",
      "\n",
      "For help, use: python dimorphite_dl.py --help\n",
      "\n",
      "If you use Dimorphite-DL in your research, please cite:\n",
      "Ropp PJ, Kaminsky JC, Yablonski S, Durrant JD (2019) Dimorphite-DL: An\n",
      "open-source program for enumerating the ionization states of drug-like small\n",
      "molecules. J Cheminform 11:14. doi:10.1186/s13321-019-0336-9.\n",
      "\n",
      "Proposed mol at pH 7.4: CCCCCCNC(=O)Nc1cc(-c2cccc(Cl)c2)sc1C(=O)[O-]\n"
     ]
    },
    {
     "name": "stderr",
     "output_type": "stream",
     "text": [
      "[query.py:297 - calculate_microstate_pka_values()] Using dimorphite-dl to identify protonation sites.\n"
     ]
    },
    {
     "name": "stdout",
     "output_type": "stream",
     "text": [
      "NC(=O)Nc1cc(-c2ccc(Cl)c(Cl)c2)sc1C(=O)O\n",
      "<rdkit.Chem.rdchem.Mol object at 0x7fbcef536e40>\n",
      "\n",
      "For help, use: python dimorphite_dl.py --help\n",
      "\n",
      "If you use Dimorphite-DL in your research, please cite:\n",
      "Ropp PJ, Kaminsky JC, Yablonski S, Durrant JD (2019) Dimorphite-DL: An\n",
      "open-source program for enumerating the ionization states of drug-like small\n",
      "molecules. J Cheminform 11:14. doi:10.1186/s13321-019-0336-9.\n",
      "\n",
      "NC(=O)Nc1cc(-c2ccc(Cl)c(Cl)c2)sc1C(=O)O\n",
      "<rdkit.Chem.rdchem.Mol object at 0x7f67e3388e40>\n",
      "\n",
      "For help, use: python dimorphite_dl.py --help\n",
      "\n",
      "If you use Dimorphite-DL in your research, please cite:\n",
      "Ropp PJ, Kaminsky JC, Yablonski S, Durrant JD (2019) Dimorphite-DL: An\n",
      "open-source program for enumerating the ionization states of drug-like small\n",
      "molecules. J Cheminform 11:14. doi:10.1186/s13321-019-0336-9.\n",
      "\n",
      "Proposed mol at pH 7.4: NC(=O)Nc1cc(-c2ccc(Cl)c(Cl)c2)sc1C(=O)[O-]\n"
     ]
    },
    {
     "name": "stderr",
     "output_type": "stream",
     "text": [
      "[query.py:297 - calculate_microstate_pka_values()] Using dimorphite-dl to identify protonation sites.\n"
     ]
    },
    {
     "name": "stdout",
     "output_type": "stream",
     "text": [
      "CCCCNC(=O)Nc1cc(-c2ccc(Cl)c(Cl)c2)sc1C(=O)O\n",
      "<rdkit.Chem.rdchem.Mol object at 0x7fd22a73ce40>\n",
      "\n",
      "For help, use: python dimorphite_dl.py --help\n",
      "\n",
      "If you use Dimorphite-DL in your research, please cite:\n",
      "Ropp PJ, Kaminsky JC, Yablonski S, Durrant JD (2019) Dimorphite-DL: An\n",
      "open-source program for enumerating the ionization states of drug-like small\n",
      "molecules. J Cheminform 11:14. doi:10.1186/s13321-019-0336-9.\n",
      "\n",
      "CCCCNC(=O)Nc1cc(-c2ccc(Cl)c(Cl)c2)sc1C(=O)O\n",
      "<rdkit.Chem.rdchem.Mol object at 0x7f15aefc2e40>\n",
      "\n",
      "For help, use: python dimorphite_dl.py --help\n",
      "\n",
      "If you use Dimorphite-DL in your research, please cite:\n",
      "Ropp PJ, Kaminsky JC, Yablonski S, Durrant JD (2019) Dimorphite-DL: An\n",
      "open-source program for enumerating the ionization states of drug-like small\n",
      "molecules. J Cheminform 11:14. doi:10.1186/s13321-019-0336-9.\n",
      "\n",
      "Proposed mol at pH 7.4: CCCCNC(=O)Nc1cc(-c2ccc(Cl)c(Cl)c2)sc1C(=O)[O-]\n"
     ]
    },
    {
     "name": "stderr",
     "output_type": "stream",
     "text": [
      "[query.py:297 - calculate_microstate_pka_values()] Using dimorphite-dl to identify protonation sites.\n"
     ]
    },
    {
     "name": "stdout",
     "output_type": "stream",
     "text": [
      "O=C(Nc1ccccc1)Nc1cc(-c2ccc(Cl)c(Cl)c2)sc1C(=O)O\n",
      "<rdkit.Chem.rdchem.Mol object at 0x7f0bdf6f6e40>\n",
      "\n",
      "For help, use: python dimorphite_dl.py --help\n",
      "\n",
      "If you use Dimorphite-DL in your research, please cite:\n",
      "Ropp PJ, Kaminsky JC, Yablonski S, Durrant JD (2019) Dimorphite-DL: An\n",
      "open-source program for enumerating the ionization states of drug-like small\n",
      "molecules. J Cheminform 11:14. doi:10.1186/s13321-019-0336-9.\n",
      "\n",
      "O=C(Nc1ccccc1)Nc1cc(-c2ccc(Cl)c(Cl)c2)sc1C(=O)O\n",
      "<rdkit.Chem.rdchem.Mol object at 0x7f8c8825be40>\n",
      "\n",
      "For help, use: python dimorphite_dl.py --help\n",
      "\n",
      "If you use Dimorphite-DL in your research, please cite:\n",
      "Ropp PJ, Kaminsky JC, Yablonski S, Durrant JD (2019) Dimorphite-DL: An\n",
      "open-source program for enumerating the ionization states of drug-like small\n",
      "molecules. J Cheminform 11:14. doi:10.1186/s13321-019-0336-9.\n",
      "\n",
      "Proposed mol at pH 7.4: O=C(Nc1ccccc1)Nc1cc(-c2ccc(Cl)c(Cl)c2)sc1C(=O)[O-]\n"
     ]
    },
    {
     "name": "stderr",
     "output_type": "stream",
     "text": [
      "[query.py:297 - calculate_microstate_pka_values()] Using dimorphite-dl to identify protonation sites.\n"
     ]
    },
    {
     "name": "stdout",
     "output_type": "stream",
     "text": [
      "CCCCCCNC(=O)Nc1cc(-c2ccc(OC)cc2)sc1C(=O)O\n",
      "<rdkit.Chem.rdchem.Mol object at 0x7f4829ca4e40>\n",
      "\n",
      "For help, use: python dimorphite_dl.py --help\n",
      "\n",
      "If you use Dimorphite-DL in your research, please cite:\n",
      "Ropp PJ, Kaminsky JC, Yablonski S, Durrant JD (2019) Dimorphite-DL: An\n",
      "open-source program for enumerating the ionization states of drug-like small\n",
      "molecules. J Cheminform 11:14. doi:10.1186/s13321-019-0336-9.\n",
      "\n",
      "CCCCCCNC(=O)Nc1cc(-c2ccc(OC)cc2)sc1C(=O)O\n",
      "<rdkit.Chem.rdchem.Mol object at 0x7f5e0e7a1e40>\n",
      "\n",
      "For help, use: python dimorphite_dl.py --help\n",
      "\n",
      "If you use Dimorphite-DL in your research, please cite:\n",
      "Ropp PJ, Kaminsky JC, Yablonski S, Durrant JD (2019) Dimorphite-DL: An\n",
      "open-source program for enumerating the ionization states of drug-like small\n",
      "molecules. J Cheminform 11:14. doi:10.1186/s13321-019-0336-9.\n",
      "\n",
      "Proposed mol at pH 7.4: CCCCCCNC(=O)Nc1cc(-c2ccc(OC)cc2)sc1C(=O)[O-]\n"
     ]
    },
    {
     "name": "stderr",
     "output_type": "stream",
     "text": [
      "[query.py:297 - calculate_microstate_pka_values()] Using dimorphite-dl to identify protonation sites.\n"
     ]
    },
    {
     "name": "stdout",
     "output_type": "stream",
     "text": [
      "CCCCCCNC(=O)Nc1cc(-c2ccc(Cl)cc2Cl)sc1C(=O)O\n",
      "<rdkit.Chem.rdchem.Mol object at 0x7f596d334e40>\n",
      "\n",
      "For help, use: python dimorphite_dl.py --help\n",
      "\n",
      "If you use Dimorphite-DL in your research, please cite:\n",
      "Ropp PJ, Kaminsky JC, Yablonski S, Durrant JD (2019) Dimorphite-DL: An\n",
      "open-source program for enumerating the ionization states of drug-like small\n",
      "molecules. J Cheminform 11:14. doi:10.1186/s13321-019-0336-9.\n",
      "\n",
      "CCCCCCNC(=O)Nc1cc(-c2ccc(Cl)cc2Cl)sc1C(=O)O\n",
      "<rdkit.Chem.rdchem.Mol object at 0x7fe46cdfce40>\n",
      "\n",
      "For help, use: python dimorphite_dl.py --help\n",
      "\n",
      "If you use Dimorphite-DL in your research, please cite:\n",
      "Ropp PJ, Kaminsky JC, Yablonski S, Durrant JD (2019) Dimorphite-DL: An\n",
      "open-source program for enumerating the ionization states of drug-like small\n",
      "molecules. J Cheminform 11:14. doi:10.1186/s13321-019-0336-9.\n",
      "\n",
      "Proposed mol at pH 7.4: CCCCCCNC(=O)Nc1cc(-c2ccc(Cl)cc2Cl)sc1C(=O)[O-]\n"
     ]
    },
    {
     "name": "stderr",
     "output_type": "stream",
     "text": [
      "[query.py:297 - calculate_microstate_pka_values()] Using dimorphite-dl to identify protonation sites.\n"
     ]
    },
    {
     "name": "stdout",
     "output_type": "stream",
     "text": [
      "CCCCCCNC(=O)Nc1cc(-c2ccc(Cl)cc2)sc1C(=O)O\n",
      "<rdkit.Chem.rdchem.Mol object at 0x7f6ced5aee40>\n",
      "\n",
      "For help, use: python dimorphite_dl.py --help\n",
      "\n",
      "If you use Dimorphite-DL in your research, please cite:\n",
      "Ropp PJ, Kaminsky JC, Yablonski S, Durrant JD (2019) Dimorphite-DL: An\n",
      "open-source program for enumerating the ionization states of drug-like small\n",
      "molecules. J Cheminform 11:14. doi:10.1186/s13321-019-0336-9.\n",
      "\n",
      "CCCCCCNC(=O)Nc1cc(-c2ccc(Cl)cc2)sc1C(=O)O\n",
      "<rdkit.Chem.rdchem.Mol object at 0x7f91e0418e40>\n",
      "\n",
      "For help, use: python dimorphite_dl.py --help\n",
      "\n",
      "If you use Dimorphite-DL in your research, please cite:\n",
      "Ropp PJ, Kaminsky JC, Yablonski S, Durrant JD (2019) Dimorphite-DL: An\n",
      "open-source program for enumerating the ionization states of drug-like small\n",
      "molecules. J Cheminform 11:14. doi:10.1186/s13321-019-0336-9.\n",
      "\n",
      "Proposed mol at pH 7.4: CCCCCCNC(=O)Nc1cc(-c2ccc(Cl)cc2)sc1C(=O)[O-]\n"
     ]
    },
    {
     "name": "stderr",
     "output_type": "stream",
     "text": [
      "[query.py:297 - calculate_microstate_pka_values()] Using dimorphite-dl to identify protonation sites.\n"
     ]
    },
    {
     "name": "stdout",
     "output_type": "stream",
     "text": [
      "CCCCCCNC(=O)Nc1cc(-c2ccc(Cl)c(C(F)(F)F)c2)sc1C(=O)O\n",
      "<rdkit.Chem.rdchem.Mol object at 0x7f0a6f4bceb0>\n",
      "\n",
      "For help, use: python dimorphite_dl.py --help\n",
      "\n",
      "If you use Dimorphite-DL in your research, please cite:\n",
      "Ropp PJ, Kaminsky JC, Yablonski S, Durrant JD (2019) Dimorphite-DL: An\n",
      "open-source program for enumerating the ionization states of drug-like small\n",
      "molecules. J Cheminform 11:14. doi:10.1186/s13321-019-0336-9.\n",
      "\n",
      "CCCCCCNC(=O)Nc1cc(-c2ccc(Cl)c(C(F)(F)F)c2)sc1C(=O)O\n",
      "<rdkit.Chem.rdchem.Mol object at 0x7f848bcaeeb0>\n",
      "\n",
      "For help, use: python dimorphite_dl.py --help\n",
      "\n",
      "If you use Dimorphite-DL in your research, please cite:\n",
      "Ropp PJ, Kaminsky JC, Yablonski S, Durrant JD (2019) Dimorphite-DL: An\n",
      "open-source program for enumerating the ionization states of drug-like small\n",
      "molecules. J Cheminform 11:14. doi:10.1186/s13321-019-0336-9.\n",
      "\n",
      "Proposed mol at pH 7.4: CCCCCCNC(=O)Nc1cc(-c2ccc(Cl)c(C(F)(F)F)c2)sc1C(=O)[O-]\n"
     ]
    },
    {
     "name": "stderr",
     "output_type": "stream",
     "text": [
      "[query.py:297 - calculate_microstate_pka_values()] Using dimorphite-dl to identify protonation sites.\n"
     ]
    },
    {
     "name": "stdout",
     "output_type": "stream",
     "text": [
      "O=C(NCCc1ccccc1)Nc1cc(-c2ccc(Cl)c(Cl)c2)sc1C(=O)O\n",
      "<rdkit.Chem.rdchem.Mol object at 0x7f30fad02eb0>\n",
      "\n",
      "For help, use: python dimorphite_dl.py --help\n",
      "\n",
      "If you use Dimorphite-DL in your research, please cite:\n",
      "Ropp PJ, Kaminsky JC, Yablonski S, Durrant JD (2019) Dimorphite-DL: An\n",
      "open-source program for enumerating the ionization states of drug-like small\n",
      "molecules. J Cheminform 11:14. doi:10.1186/s13321-019-0336-9.\n",
      "\n",
      "O=C(NCCc1ccccc1)Nc1cc(-c2ccc(Cl)c(Cl)c2)sc1C(=O)O\n",
      "<rdkit.Chem.rdchem.Mol object at 0x7f66d6310eb0>\n",
      "\n",
      "For help, use: python dimorphite_dl.py --help\n",
      "\n",
      "If you use Dimorphite-DL in your research, please cite:\n",
      "Ropp PJ, Kaminsky JC, Yablonski S, Durrant JD (2019) Dimorphite-DL: An\n",
      "open-source program for enumerating the ionization states of drug-like small\n",
      "molecules. J Cheminform 11:14. doi:10.1186/s13321-019-0336-9.\n",
      "\n",
      "Proposed mol at pH 7.4: O=C(NCCc1ccccc1)Nc1cc(-c2ccc(Cl)c(Cl)c2)sc1C(=O)[O-]\n"
     ]
    },
    {
     "name": "stderr",
     "output_type": "stream",
     "text": [
      "[query.py:297 - calculate_microstate_pka_values()] Using dimorphite-dl to identify protonation sites.\n"
     ]
    },
    {
     "name": "stdout",
     "output_type": "stream",
     "text": [
      "CCCCCCNC(=O)Nc1cc(-c2cccc([N+](=O)[O-])c2)sc1C(=O)O\n",
      "<rdkit.Chem.rdchem.Mol object at 0x7f32d2af5eb0>\n",
      "\n",
      "For help, use: python dimorphite_dl.py --help\n",
      "\n",
      "If you use Dimorphite-DL in your research, please cite:\n",
      "Ropp PJ, Kaminsky JC, Yablonski S, Durrant JD (2019) Dimorphite-DL: An\n",
      "open-source program for enumerating the ionization states of drug-like small\n",
      "molecules. J Cheminform 11:14. doi:10.1186/s13321-019-0336-9.\n",
      "\n",
      "CCCCCCNC(=O)Nc1cc(-c2cccc([N+](=O)[O-])c2)sc1C(=O)O\n",
      "<rdkit.Chem.rdchem.Mol object at 0x7f79333bbeb0>\n",
      "\n",
      "For help, use: python dimorphite_dl.py --help\n",
      "\n",
      "If you use Dimorphite-DL in your research, please cite:\n",
      "Ropp PJ, Kaminsky JC, Yablonski S, Durrant JD (2019) Dimorphite-DL: An\n",
      "open-source program for enumerating the ionization states of drug-like small\n",
      "molecules. J Cheminform 11:14. doi:10.1186/s13321-019-0336-9.\n",
      "\n",
      "Proposed mol at pH 7.4: CCCCCCNC(=O)Nc1cc(-c2cccc([N+](=O)[O-])c2)sc1C(=O)[O-]\n"
     ]
    },
    {
     "name": "stderr",
     "output_type": "stream",
     "text": [
      "[query.py:297 - calculate_microstate_pka_values()] Using dimorphite-dl to identify protonation sites.\n"
     ]
    },
    {
     "name": "stdout",
     "output_type": "stream",
     "text": [
      "CCCCCCNC(=O)Nc1cc(-c2cc(Cl)ccc2Cl)sc1C(=O)O\n",
      "<rdkit.Chem.rdchem.Mol object at 0x7f612ef96e40>\n",
      "\n",
      "For help, use: python dimorphite_dl.py --help\n",
      "\n",
      "If you use Dimorphite-DL in your research, please cite:\n",
      "Ropp PJ, Kaminsky JC, Yablonski S, Durrant JD (2019) Dimorphite-DL: An\n",
      "open-source program for enumerating the ionization states of drug-like small\n",
      "molecules. J Cheminform 11:14. doi:10.1186/s13321-019-0336-9.\n",
      "\n",
      "CCCCCCNC(=O)Nc1cc(-c2cc(Cl)ccc2Cl)sc1C(=O)O\n",
      "<rdkit.Chem.rdchem.Mol object at 0x7fd60aaf5e40>\n",
      "\n",
      "For help, use: python dimorphite_dl.py --help\n",
      "\n",
      "If you use Dimorphite-DL in your research, please cite:\n",
      "Ropp PJ, Kaminsky JC, Yablonski S, Durrant JD (2019) Dimorphite-DL: An\n",
      "open-source program for enumerating the ionization states of drug-like small\n",
      "molecules. J Cheminform 11:14. doi:10.1186/s13321-019-0336-9.\n",
      "\n",
      "Proposed mol at pH 7.4: CCCCCCNC(=O)Nc1cc(-c2cc(Cl)ccc2Cl)sc1C(=O)[O-]\n"
     ]
    },
    {
     "name": "stderr",
     "output_type": "stream",
     "text": [
      "[query.py:297 - calculate_microstate_pka_values()] Using dimorphite-dl to identify protonation sites.\n"
     ]
    },
    {
     "name": "stdout",
     "output_type": "stream",
     "text": [
      "CCCCCCNC(=O)Nc1cc(-c2cccc(C(F)(F)F)c2)sc1C(=O)O\n",
      "<rdkit.Chem.rdchem.Mol object at 0x7fc01a074e40>\n",
      "\n",
      "For help, use: python dimorphite_dl.py --help\n",
      "\n",
      "If you use Dimorphite-DL in your research, please cite:\n",
      "Ropp PJ, Kaminsky JC, Yablonski S, Durrant JD (2019) Dimorphite-DL: An\n",
      "open-source program for enumerating the ionization states of drug-like small\n",
      "molecules. J Cheminform 11:14. doi:10.1186/s13321-019-0336-9.\n",
      "\n",
      "CCCCCCNC(=O)Nc1cc(-c2cccc(C(F)(F)F)c2)sc1C(=O)O\n",
      "<rdkit.Chem.rdchem.Mol object at 0x7f60f0336e40>\n",
      "\n",
      "For help, use: python dimorphite_dl.py --help\n",
      "\n",
      "If you use Dimorphite-DL in your research, please cite:\n",
      "Ropp PJ, Kaminsky JC, Yablonski S, Durrant JD (2019) Dimorphite-DL: An\n",
      "open-source program for enumerating the ionization states of drug-like small\n",
      "molecules. J Cheminform 11:14. doi:10.1186/s13321-019-0336-9.\n",
      "\n",
      "Proposed mol at pH 7.4: CCCCCCNC(=O)Nc1cc(-c2cccc(C(F)(F)F)c2)sc1C(=O)[O-]\n"
     ]
    },
    {
     "name": "stderr",
     "output_type": "stream",
     "text": [
      "[query.py:297 - calculate_microstate_pka_values()] Using dimorphite-dl to identify protonation sites.\n"
     ]
    },
    {
     "name": "stdout",
     "output_type": "stream",
     "text": [
      "CCCCCCNC(=O)Nc1cc(-c2ccc([N+](=O)[O-])cc2)sc1C(=O)O\n",
      "<rdkit.Chem.rdchem.Mol object at 0x7f96c6542eb0>\n",
      "\n",
      "For help, use: python dimorphite_dl.py --help\n",
      "\n",
      "If you use Dimorphite-DL in your research, please cite:\n",
      "Ropp PJ, Kaminsky JC, Yablonski S, Durrant JD (2019) Dimorphite-DL: An\n",
      "open-source program for enumerating the ionization states of drug-like small\n",
      "molecules. J Cheminform 11:14. doi:10.1186/s13321-019-0336-9.\n",
      "\n",
      "CCCCCCNC(=O)Nc1cc(-c2ccc([N+](=O)[O-])cc2)sc1C(=O)O\n",
      "<rdkit.Chem.rdchem.Mol object at 0x7f5b4d0b4eb0>\n",
      "\n",
      "For help, use: python dimorphite_dl.py --help\n",
      "\n",
      "If you use Dimorphite-DL in your research, please cite:\n",
      "Ropp PJ, Kaminsky JC, Yablonski S, Durrant JD (2019) Dimorphite-DL: An\n",
      "open-source program for enumerating the ionization states of drug-like small\n",
      "molecules. J Cheminform 11:14. doi:10.1186/s13321-019-0336-9.\n",
      "\n",
      "Proposed mol at pH 7.4: CCCCCCNC(=O)Nc1cc(-c2ccc([N+](=O)[O-])cc2)sc1C(=O)[O-]\n"
     ]
    },
    {
     "name": "stderr",
     "output_type": "stream",
     "text": [
      "[query.py:297 - calculate_microstate_pka_values()] Using dimorphite-dl to identify protonation sites.\n"
     ]
    },
    {
     "name": "stdout",
     "output_type": "stream",
     "text": [
      "CCCCN(Cc1ccccc1)C(=O)Nc1cc(-c2ccc(Cl)c(Cl)c2)sc1C(=O)O\n",
      "<rdkit.Chem.rdchem.Mol object at 0x7f9e08f10eb0>\n",
      "\n",
      "For help, use: python dimorphite_dl.py --help\n",
      "\n",
      "If you use Dimorphite-DL in your research, please cite:\n",
      "Ropp PJ, Kaminsky JC, Yablonski S, Durrant JD (2019) Dimorphite-DL: An\n",
      "open-source program for enumerating the ionization states of drug-like small\n",
      "molecules. J Cheminform 11:14. doi:10.1186/s13321-019-0336-9.\n",
      "\n",
      "CCCCN(Cc1ccccc1)C(=O)Nc1cc(-c2ccc(Cl)c(Cl)c2)sc1C(=O)O\n",
      "<rdkit.Chem.rdchem.Mol object at 0x7fd746c02eb0>\n",
      "\n",
      "For help, use: python dimorphite_dl.py --help\n",
      "\n",
      "If you use Dimorphite-DL in your research, please cite:\n",
      "Ropp PJ, Kaminsky JC, Yablonski S, Durrant JD (2019) Dimorphite-DL: An\n",
      "open-source program for enumerating the ionization states of drug-like small\n",
      "molecules. J Cheminform 11:14. doi:10.1186/s13321-019-0336-9.\n",
      "\n",
      "Proposed mol at pH 7.4: CCCC[NH+](Cc1ccccc1)C(=O)Nc1cc(-c2ccc(Cl)c(Cl)c2)sc1C(=O)[O-]\n"
     ]
    },
    {
     "name": "stderr",
     "output_type": "stream",
     "text": [
      "[query.py:297 - calculate_microstate_pka_values()] Using dimorphite-dl to identify protonation sites.\n"
     ]
    },
    {
     "name": "stdout",
     "output_type": "stream",
     "text": [
      "CCCCCCNC(=O)Nc1cc(-c2ccc(C(F)(F)F)cc2)sc1C(=O)O\n",
      "<rdkit.Chem.rdchem.Mol object at 0x7f1163261e40>\n",
      "\n",
      "For help, use: python dimorphite_dl.py --help\n",
      "\n",
      "If you use Dimorphite-DL in your research, please cite:\n",
      "Ropp PJ, Kaminsky JC, Yablonski S, Durrant JD (2019) Dimorphite-DL: An\n",
      "open-source program for enumerating the ionization states of drug-like small\n",
      "molecules. J Cheminform 11:14. doi:10.1186/s13321-019-0336-9.\n",
      "\n",
      "CCCCCCNC(=O)Nc1cc(-c2ccc(C(F)(F)F)cc2)sc1C(=O)O\n",
      "<rdkit.Chem.rdchem.Mol object at 0x7f939e242e40>\n",
      "\n",
      "For help, use: python dimorphite_dl.py --help\n",
      "\n",
      "If you use Dimorphite-DL in your research, please cite:\n",
      "Ropp PJ, Kaminsky JC, Yablonski S, Durrant JD (2019) Dimorphite-DL: An\n",
      "open-source program for enumerating the ionization states of drug-like small\n",
      "molecules. J Cheminform 11:14. doi:10.1186/s13321-019-0336-9.\n",
      "\n",
      "Proposed mol at pH 7.4: CCCCCCNC(=O)Nc1cc(-c2ccc(C(F)(F)F)cc2)sc1C(=O)[O-]\n"
     ]
    },
    {
     "name": "stderr",
     "output_type": "stream",
     "text": [
      "[query.py:297 - calculate_microstate_pka_values()] Using dimorphite-dl to identify protonation sites.\n"
     ]
    },
    {
     "name": "stdout",
     "output_type": "stream",
     "text": [
      "O=C(O)c1sc(-c2ccc(Cl)c(Cl)c2)cc1NC(=O)N(Cc1ccccc1)Cc1ccccc1\n",
      "<rdkit.Chem.rdchem.Mol object at 0x7f327abc8eb0>\n",
      "\n",
      "For help, use: python dimorphite_dl.py --help\n",
      "\n",
      "If you use Dimorphite-DL in your research, please cite:\n",
      "Ropp PJ, Kaminsky JC, Yablonski S, Durrant JD (2019) Dimorphite-DL: An\n",
      "open-source program for enumerating the ionization states of drug-like small\n",
      "molecules. J Cheminform 11:14. doi:10.1186/s13321-019-0336-9.\n",
      "\n",
      "O=C(O)c1sc(-c2ccc(Cl)c(Cl)c2)cc1NC(=O)N(Cc1ccccc1)Cc1ccccc1\n",
      "<rdkit.Chem.rdchem.Mol object at 0x7f6935756eb0>\n",
      "\n",
      "For help, use: python dimorphite_dl.py --help\n",
      "\n",
      "If you use Dimorphite-DL in your research, please cite:\n",
      "Ropp PJ, Kaminsky JC, Yablonski S, Durrant JD (2019) Dimorphite-DL: An\n",
      "open-source program for enumerating the ionization states of drug-like small\n",
      "molecules. J Cheminform 11:14. doi:10.1186/s13321-019-0336-9.\n",
      "\n",
      "Proposed mol at pH 7.4: O=C([O-])c1sc(-c2ccc(Cl)c(Cl)c2)cc1NC(=O)[NH+](Cc1ccccc1)Cc1ccccc1\n"
     ]
    },
    {
     "name": "stderr",
     "output_type": "stream",
     "text": [
      "[query.py:297 - calculate_microstate_pka_values()] Using dimorphite-dl to identify protonation sites.\n"
     ]
    },
    {
     "name": "stdout",
     "output_type": "stream",
     "text": [
      "CCN(C(=O)Nc1cc(-c2ccc(Cl)c(Cl)c2)sc1C(=O)O)c1ccccc1\n",
      "<rdkit.Chem.rdchem.Mol object at 0x7f14417a9eb0>\n",
      "\n",
      "For help, use: python dimorphite_dl.py --help\n",
      "\n",
      "If you use Dimorphite-DL in your research, please cite:\n",
      "Ropp PJ, Kaminsky JC, Yablonski S, Durrant JD (2019) Dimorphite-DL: An\n",
      "open-source program for enumerating the ionization states of drug-like small\n",
      "molecules. J Cheminform 11:14. doi:10.1186/s13321-019-0336-9.\n",
      "\n",
      "CCN(C(=O)Nc1cc(-c2ccc(Cl)c(Cl)c2)sc1C(=O)O)c1ccccc1\n",
      "<rdkit.Chem.rdchem.Mol object at 0x7f7fd1888eb0>\n",
      "\n",
      "For help, use: python dimorphite_dl.py --help\n",
      "\n",
      "If you use Dimorphite-DL in your research, please cite:\n",
      "Ropp PJ, Kaminsky JC, Yablonski S, Durrant JD (2019) Dimorphite-DL: An\n",
      "open-source program for enumerating the ionization states of drug-like small\n",
      "molecules. J Cheminform 11:14. doi:10.1186/s13321-019-0336-9.\n",
      "\n",
      "Proposed mol at pH 7.4: CC[NH+](C(=O)Nc1cc(-c2ccc(Cl)c(Cl)c2)sc1C(=O)[O-])c1ccccc1\n"
     ]
    },
    {
     "name": "stderr",
     "output_type": "stream",
     "text": [
      "[query.py:297 - calculate_microstate_pka_values()] Using dimorphite-dl to identify protonation sites.\n"
     ]
    },
    {
     "name": "stdout",
     "output_type": "stream",
     "text": [
      "CCCCN(C(=O)Nc1cc(-c2ccc(Cl)c(Cl)c2)sc1C(=O)O)c1ccccc1\n",
      "<rdkit.Chem.rdchem.Mol object at 0x7fc5acfeeeb0>\n",
      "\n",
      "For help, use: python dimorphite_dl.py --help\n",
      "\n",
      "If you use Dimorphite-DL in your research, please cite:\n",
      "Ropp PJ, Kaminsky JC, Yablonski S, Durrant JD (2019) Dimorphite-DL: An\n",
      "open-source program for enumerating the ionization states of drug-like small\n",
      "molecules. J Cheminform 11:14. doi:10.1186/s13321-019-0336-9.\n",
      "\n",
      "CCCCN(C(=O)Nc1cc(-c2ccc(Cl)c(Cl)c2)sc1C(=O)O)c1ccccc1\n",
      "<rdkit.Chem.rdchem.Mol object at 0x7f8a07996eb0>\n",
      "\n",
      "For help, use: python dimorphite_dl.py --help\n",
      "\n",
      "If you use Dimorphite-DL in your research, please cite:\n",
      "Ropp PJ, Kaminsky JC, Yablonski S, Durrant JD (2019) Dimorphite-DL: An\n",
      "open-source program for enumerating the ionization states of drug-like small\n",
      "molecules. J Cheminform 11:14. doi:10.1186/s13321-019-0336-9.\n",
      "\n",
      "Proposed mol at pH 7.4: CCCC[NH+](C(=O)Nc1cc(-c2ccc(Cl)c(Cl)c2)sc1C(=O)[O-])c1ccccc1\n"
     ]
    },
    {
     "name": "stderr",
     "output_type": "stream",
     "text": [
      "[query.py:297 - calculate_microstate_pka_values()] Using dimorphite-dl to identify protonation sites.\n"
     ]
    },
    {
     "name": "stdout",
     "output_type": "stream",
     "text": [
      "CCN(Cc1ccccc1)C(=O)Nc1cc(-c2cc(Cl)cc(Cl)c2)sc1C(=O)O\n",
      "<rdkit.Chem.rdchem.Mol object at 0x7fc61932aeb0>\n",
      "\n",
      "For help, use: python dimorphite_dl.py --help\n",
      "\n",
      "If you use Dimorphite-DL in your research, please cite:\n",
      "Ropp PJ, Kaminsky JC, Yablonski S, Durrant JD (2019) Dimorphite-DL: An\n",
      "open-source program for enumerating the ionization states of drug-like small\n",
      "molecules. J Cheminform 11:14. doi:10.1186/s13321-019-0336-9.\n",
      "\n",
      "CCN(Cc1ccccc1)C(=O)Nc1cc(-c2cc(Cl)cc(Cl)c2)sc1C(=O)O\n",
      "<rdkit.Chem.rdchem.Mol object at 0x7fb880b02eb0>\n",
      "\n",
      "For help, use: python dimorphite_dl.py --help\n",
      "\n",
      "If you use Dimorphite-DL in your research, please cite:\n",
      "Ropp PJ, Kaminsky JC, Yablonski S, Durrant JD (2019) Dimorphite-DL: An\n",
      "open-source program for enumerating the ionization states of drug-like small\n",
      "molecules. J Cheminform 11:14. doi:10.1186/s13321-019-0336-9.\n",
      "\n",
      "Proposed mol at pH 7.4: CC[NH+](Cc1ccccc1)C(=O)Nc1cc(-c2cc(Cl)cc(Cl)c2)sc1C(=O)[O-]\n"
     ]
    },
    {
     "name": "stderr",
     "output_type": "stream",
     "text": [
      "[query.py:297 - calculate_microstate_pka_values()] Using dimorphite-dl to identify protonation sites.\n"
     ]
    },
    {
     "name": "stdout",
     "output_type": "stream",
     "text": [
      "CN(C(=O)Nc1cc(-c2ccc(Cl)c(Cl)c2)sc1C(=O)O)c1ccccc1\n",
      "<rdkit.Chem.rdchem.Mol object at 0x7f27d9017eb0>\n",
      "\n",
      "For help, use: python dimorphite_dl.py --help\n",
      "\n",
      "If you use Dimorphite-DL in your research, please cite:\n",
      "Ropp PJ, Kaminsky JC, Yablonski S, Durrant JD (2019) Dimorphite-DL: An\n",
      "open-source program for enumerating the ionization states of drug-like small\n",
      "molecules. J Cheminform 11:14. doi:10.1186/s13321-019-0336-9.\n",
      "\n",
      "CN(C(=O)Nc1cc(-c2ccc(Cl)c(Cl)c2)sc1C(=O)O)c1ccccc1\n",
      "<rdkit.Chem.rdchem.Mol object at 0x7ff3ae050eb0>\n",
      "\n",
      "For help, use: python dimorphite_dl.py --help\n",
      "\n",
      "If you use Dimorphite-DL in your research, please cite:\n",
      "Ropp PJ, Kaminsky JC, Yablonski S, Durrant JD (2019) Dimorphite-DL: An\n",
      "open-source program for enumerating the ionization states of drug-like small\n",
      "molecules. J Cheminform 11:14. doi:10.1186/s13321-019-0336-9.\n",
      "\n",
      "Proposed mol at pH 7.4: C[NH+](C(=O)Nc1cc(-c2ccc(Cl)c(Cl)c2)sc1C(=O)[O-])c1ccccc1\n"
     ]
    },
    {
     "name": "stderr",
     "output_type": "stream",
     "text": [
      "[query.py:297 - calculate_microstate_pka_values()] Using dimorphite-dl to identify protonation sites.\n"
     ]
    },
    {
     "name": "stdout",
     "output_type": "stream",
     "text": [
      "O=C(O)c1sc(-c2ccc(Cl)c(Cl)c2)cc1NC(=O)N(Cc1ccccc1)c1ccccc1\n",
      "<rdkit.Chem.rdchem.Mol object at 0x7f75c2d48eb0>\n",
      "\n",
      "For help, use: python dimorphite_dl.py --help\n",
      "\n",
      "If you use Dimorphite-DL in your research, please cite:\n",
      "Ropp PJ, Kaminsky JC, Yablonski S, Durrant JD (2019) Dimorphite-DL: An\n",
      "open-source program for enumerating the ionization states of drug-like small\n",
      "molecules. J Cheminform 11:14. doi:10.1186/s13321-019-0336-9.\n",
      "\n",
      "O=C(O)c1sc(-c2ccc(Cl)c(Cl)c2)cc1NC(=O)N(Cc1ccccc1)c1ccccc1\n",
      "<rdkit.Chem.rdchem.Mol object at 0x7fcb058a4eb0>\n",
      "\n",
      "For help, use: python dimorphite_dl.py --help\n",
      "\n",
      "If you use Dimorphite-DL in your research, please cite:\n",
      "Ropp PJ, Kaminsky JC, Yablonski S, Durrant JD (2019) Dimorphite-DL: An\n",
      "open-source program for enumerating the ionization states of drug-like small\n",
      "molecules. J Cheminform 11:14. doi:10.1186/s13321-019-0336-9.\n",
      "\n",
      "Proposed mol at pH 7.4: O=C([O-])c1sc(-c2ccc(Cl)c(Cl)c2)cc1NC(=O)[NH+](Cc1ccccc1)c1ccccc1\n"
     ]
    },
    {
     "name": "stderr",
     "output_type": "stream",
     "text": [
      "[query.py:297 - calculate_microstate_pka_values()] Using dimorphite-dl to identify protonation sites.\n"
     ]
    },
    {
     "name": "stdout",
     "output_type": "stream",
     "text": [
      "O=C(NCc1ccncc1)Nc1cc(-c2ccc(Cl)c(Cl)c2)sc1C(=O)O\n",
      "<rdkit.Chem.rdchem.Mol object at 0x7fe576115eb0>\n",
      "\n",
      "For help, use: python dimorphite_dl.py --help\n",
      "\n",
      "If you use Dimorphite-DL in your research, please cite:\n",
      "Ropp PJ, Kaminsky JC, Yablonski S, Durrant JD (2019) Dimorphite-DL: An\n",
      "open-source program for enumerating the ionization states of drug-like small\n",
      "molecules. J Cheminform 11:14. doi:10.1186/s13321-019-0336-9.\n",
      "\n",
      "O=C(NCc1ccncc1)Nc1cc(-c2ccc(Cl)c(Cl)c2)sc1C(=O)O\n",
      "<rdkit.Chem.rdchem.Mol object at 0x7f0bcbdeeeb0>\n",
      "\n",
      "For help, use: python dimorphite_dl.py --help\n",
      "\n",
      "If you use Dimorphite-DL in your research, please cite:\n",
      "Ropp PJ, Kaminsky JC, Yablonski S, Durrant JD (2019) Dimorphite-DL: An\n",
      "open-source program for enumerating the ionization states of drug-like small\n",
      "molecules. J Cheminform 11:14. doi:10.1186/s13321-019-0336-9.\n",
      "\n",
      "Proposed mol at pH 7.4: O=C(NCc1ccncc1)Nc1cc(-c2ccc(Cl)c(Cl)c2)sc1C(=O)[O-]\n"
     ]
    },
    {
     "name": "stderr",
     "output_type": "stream",
     "text": [
      "[query.py:297 - calculate_microstate_pka_values()] Using dimorphite-dl to identify protonation sites.\n"
     ]
    },
    {
     "name": "stdout",
     "output_type": "stream",
     "text": [
      "CCN(Cc1ccccc1)C(=O)Nc1cc(-c2ccc(Br)cc2)sc1C(=O)O\n",
      "<rdkit.Chem.rdchem.Mol object at 0x7fa1d726eeb0>\n",
      "\n",
      "For help, use: python dimorphite_dl.py --help\n",
      "\n",
      "If you use Dimorphite-DL in your research, please cite:\n",
      "Ropp PJ, Kaminsky JC, Yablonski S, Durrant JD (2019) Dimorphite-DL: An\n",
      "open-source program for enumerating the ionization states of drug-like small\n",
      "molecules. J Cheminform 11:14. doi:10.1186/s13321-019-0336-9.\n",
      "\n",
      "CCN(Cc1ccccc1)C(=O)Nc1cc(-c2ccc(Br)cc2)sc1C(=O)O\n",
      "<rdkit.Chem.rdchem.Mol object at 0x7f3d5ad50eb0>\n",
      "\n",
      "For help, use: python dimorphite_dl.py --help\n",
      "\n",
      "If you use Dimorphite-DL in your research, please cite:\n",
      "Ropp PJ, Kaminsky JC, Yablonski S, Durrant JD (2019) Dimorphite-DL: An\n",
      "open-source program for enumerating the ionization states of drug-like small\n",
      "molecules. J Cheminform 11:14. doi:10.1186/s13321-019-0336-9.\n",
      "\n",
      "Proposed mol at pH 7.4: CC[NH+](Cc1ccccc1)C(=O)Nc1cc(-c2ccc(Br)cc2)sc1C(=O)[O-]\n"
     ]
    },
    {
     "name": "stderr",
     "output_type": "stream",
     "text": [
      "[query.py:297 - calculate_microstate_pka_values()] Using dimorphite-dl to identify protonation sites.\n"
     ]
    },
    {
     "name": "stdout",
     "output_type": "stream",
     "text": [
      "CCN(Cc1ccccc1)C(=O)Nc1cc(-c2ccc(C)cc2)sc1C(=O)O\n",
      "<rdkit.Chem.rdchem.Mol object at 0x7f5f460a4e40>\n",
      "\n",
      "For help, use: python dimorphite_dl.py --help\n",
      "\n",
      "If you use Dimorphite-DL in your research, please cite:\n",
      "Ropp PJ, Kaminsky JC, Yablonski S, Durrant JD (2019) Dimorphite-DL: An\n",
      "open-source program for enumerating the ionization states of drug-like small\n",
      "molecules. J Cheminform 11:14. doi:10.1186/s13321-019-0336-9.\n",
      "\n",
      "CCN(Cc1ccccc1)C(=O)Nc1cc(-c2ccc(C)cc2)sc1C(=O)O\n",
      "<rdkit.Chem.rdchem.Mol object at 0x7f66ce97ce40>\n",
      "\n",
      "For help, use: python dimorphite_dl.py --help\n",
      "\n",
      "If you use Dimorphite-DL in your research, please cite:\n",
      "Ropp PJ, Kaminsky JC, Yablonski S, Durrant JD (2019) Dimorphite-DL: An\n",
      "open-source program for enumerating the ionization states of drug-like small\n",
      "molecules. J Cheminform 11:14. doi:10.1186/s13321-019-0336-9.\n",
      "\n",
      "Proposed mol at pH 7.4: CC[NH+](Cc1ccccc1)C(=O)Nc1cc(-c2ccc(C)cc2)sc1C(=O)[O-]\n"
     ]
    },
    {
     "name": "stderr",
     "output_type": "stream",
     "text": [
      "[query.py:297 - calculate_microstate_pka_values()] Using dimorphite-dl to identify protonation sites.\n"
     ]
    },
    {
     "name": "stdout",
     "output_type": "stream",
     "text": [
      "CCN(Cc1ccccc1)C(=O)Nc1cc(-c2ccc(OC(F)(F)F)cc2)sc1C(=O)O\n",
      "<rdkit.Chem.rdchem.Mol object at 0x7f5c55876eb0>\n",
      "\n",
      "For help, use: python dimorphite_dl.py --help\n",
      "\n",
      "If you use Dimorphite-DL in your research, please cite:\n",
      "Ropp PJ, Kaminsky JC, Yablonski S, Durrant JD (2019) Dimorphite-DL: An\n",
      "open-source program for enumerating the ionization states of drug-like small\n",
      "molecules. J Cheminform 11:14. doi:10.1186/s13321-019-0336-9.\n",
      "\n",
      "CCN(Cc1ccccc1)C(=O)Nc1cc(-c2ccc(OC(F)(F)F)cc2)sc1C(=O)O\n",
      "<rdkit.Chem.rdchem.Mol object at 0x7f72933aeeb0>\n",
      "\n",
      "For help, use: python dimorphite_dl.py --help\n",
      "\n",
      "If you use Dimorphite-DL in your research, please cite:\n",
      "Ropp PJ, Kaminsky JC, Yablonski S, Durrant JD (2019) Dimorphite-DL: An\n",
      "open-source program for enumerating the ionization states of drug-like small\n",
      "molecules. J Cheminform 11:14. doi:10.1186/s13321-019-0336-9.\n",
      "\n",
      "Proposed mol at pH 7.4: CC[NH+](Cc1ccccc1)C(=O)Nc1cc(-c2ccc(OC(F)(F)F)cc2)sc1C(=O)[O-]\n"
     ]
    },
    {
     "name": "stderr",
     "output_type": "stream",
     "text": [
      "[query.py:297 - calculate_microstate_pka_values()] Using dimorphite-dl to identify protonation sites.\n"
     ]
    },
    {
     "name": "stdout",
     "output_type": "stream",
     "text": [
      "O=C(Nc1cc(-c2ccc(Cl)cc2)sc1C(=O)O)c1ccc(-c2ccccc2)cc1\n",
      "<rdkit.Chem.rdchem.Mol object at 0x7f3f80bbbeb0>\n",
      "\n",
      "For help, use: python dimorphite_dl.py --help\n",
      "\n",
      "If you use Dimorphite-DL in your research, please cite:\n",
      "Ropp PJ, Kaminsky JC, Yablonski S, Durrant JD (2019) Dimorphite-DL: An\n",
      "open-source program for enumerating the ionization states of drug-like small\n",
      "molecules. J Cheminform 11:14. doi:10.1186/s13321-019-0336-9.\n",
      "\n",
      "O=C(Nc1cc(-c2ccc(Cl)cc2)sc1C(=O)O)c1ccc(-c2ccccc2)cc1\n",
      "<rdkit.Chem.rdchem.Mol object at 0x7fe95a75aeb0>\n",
      "\n",
      "For help, use: python dimorphite_dl.py --help\n",
      "\n",
      "If you use Dimorphite-DL in your research, please cite:\n",
      "Ropp PJ, Kaminsky JC, Yablonski S, Durrant JD (2019) Dimorphite-DL: An\n",
      "open-source program for enumerating the ionization states of drug-like small\n",
      "molecules. J Cheminform 11:14. doi:10.1186/s13321-019-0336-9.\n",
      "\n",
      "Proposed mol at pH 7.4: O=C(Nc1cc(-c2ccc(Cl)cc2)sc1C(=O)[O-])c1ccc(-c2ccccc2)cc1\n"
     ]
    },
    {
     "name": "stderr",
     "output_type": "stream",
     "text": [
      "[query.py:297 - calculate_microstate_pka_values()] Using dimorphite-dl to identify protonation sites.\n"
     ]
    },
    {
     "name": "stdout",
     "output_type": "stream",
     "text": [
      "CCN(Cc1ccccc1)C(=O)Nc1scc(-c2ccc(Cl)c(Cl)c2)c1C(=O)O\n",
      "<rdkit.Chem.rdchem.Mol object at 0x7f4b15cf6eb0>\n",
      "\n",
      "For help, use: python dimorphite_dl.py --help\n",
      "\n",
      "If you use Dimorphite-DL in your research, please cite:\n",
      "Ropp PJ, Kaminsky JC, Yablonski S, Durrant JD (2019) Dimorphite-DL: An\n",
      "open-source program for enumerating the ionization states of drug-like small\n",
      "molecules. J Cheminform 11:14. doi:10.1186/s13321-019-0336-9.\n",
      "\n",
      "CCN(Cc1ccccc1)C(=O)Nc1scc(-c2ccc(Cl)c(Cl)c2)c1C(=O)O\n",
      "<rdkit.Chem.rdchem.Mol object at 0x7f8631cc2eb0>\n",
      "\n",
      "For help, use: python dimorphite_dl.py --help\n",
      "\n",
      "If you use Dimorphite-DL in your research, please cite:\n",
      "Ropp PJ, Kaminsky JC, Yablonski S, Durrant JD (2019) Dimorphite-DL: An\n",
      "open-source program for enumerating the ionization states of drug-like small\n",
      "molecules. J Cheminform 11:14. doi:10.1186/s13321-019-0336-9.\n",
      "\n",
      "Proposed mol at pH 7.4: CC[NH+](Cc1ccccc1)C(=O)Nc1scc(-c2ccc(Cl)c(Cl)c2)c1C(=O)[O-]\n"
     ]
    },
    {
     "name": "stderr",
     "output_type": "stream",
     "text": [
      "[query.py:297 - calculate_microstate_pka_values()] Using dimorphite-dl to identify protonation sites.\n"
     ]
    },
    {
     "name": "stdout",
     "output_type": "stream",
     "text": [
      "CCCCCCNC(=O)Nc1scc(-c2ccc(Cl)c(Cl)c2)c1C(=O)O\n",
      "<rdkit.Chem.rdchem.Mol object at 0x7fac7f4aee40>\n",
      "\n",
      "For help, use: python dimorphite_dl.py --help\n",
      "\n",
      "If you use Dimorphite-DL in your research, please cite:\n",
      "Ropp PJ, Kaminsky JC, Yablonski S, Durrant JD (2019) Dimorphite-DL: An\n",
      "open-source program for enumerating the ionization states of drug-like small\n",
      "molecules. J Cheminform 11:14. doi:10.1186/s13321-019-0336-9.\n",
      "\n",
      "CCCCCCNC(=O)Nc1scc(-c2ccc(Cl)c(Cl)c2)c1C(=O)O\n",
      "<rdkit.Chem.rdchem.Mol object at 0x7f7e59c56e40>\n",
      "\n",
      "For help, use: python dimorphite_dl.py --help\n",
      "\n",
      "If you use Dimorphite-DL in your research, please cite:\n",
      "Ropp PJ, Kaminsky JC, Yablonski S, Durrant JD (2019) Dimorphite-DL: An\n",
      "open-source program for enumerating the ionization states of drug-like small\n",
      "molecules. J Cheminform 11:14. doi:10.1186/s13321-019-0336-9.\n",
      "\n",
      "Proposed mol at pH 7.4: CCCCCCNC(=O)Nc1scc(-c2ccc(Cl)c(Cl)c2)c1C(=O)[O-]\n"
     ]
    },
    {
     "name": "stderr",
     "output_type": "stream",
     "text": [
      "[query.py:297 - calculate_microstate_pka_values()] Using dimorphite-dl to identify protonation sites.\n"
     ]
    },
    {
     "name": "stdout",
     "output_type": "stream",
     "text": [
      "CCN(Cc1ccccc1)C(=O)Nc1cc(-c2ccc(C#N)cc2)sc1C(=O)O\n",
      "<rdkit.Chem.rdchem.Mol object at 0x7f0d0c06aeb0>\n",
      "\n",
      "For help, use: python dimorphite_dl.py --help\n",
      "\n",
      "If you use Dimorphite-DL in your research, please cite:\n",
      "Ropp PJ, Kaminsky JC, Yablonski S, Durrant JD (2019) Dimorphite-DL: An\n",
      "open-source program for enumerating the ionization states of drug-like small\n",
      "molecules. J Cheminform 11:14. doi:10.1186/s13321-019-0336-9.\n",
      "\n",
      "CCN(Cc1ccccc1)C(=O)Nc1cc(-c2ccc(C#N)cc2)sc1C(=O)O\n",
      "<rdkit.Chem.rdchem.Mol object at 0x7fbdc2bb4eb0>\n",
      "\n",
      "For help, use: python dimorphite_dl.py --help\n",
      "\n",
      "If you use Dimorphite-DL in your research, please cite:\n",
      "Ropp PJ, Kaminsky JC, Yablonski S, Durrant JD (2019) Dimorphite-DL: An\n",
      "open-source program for enumerating the ionization states of drug-like small\n",
      "molecules. J Cheminform 11:14. doi:10.1186/s13321-019-0336-9.\n",
      "\n",
      "Proposed mol at pH 7.4: CC[NH+](Cc1ccccc1)C(=O)Nc1cc(-c2ccc(C#N)cc2)sc1C(=O)[O-]\n"
     ]
    },
    {
     "name": "stderr",
     "output_type": "stream",
     "text": [
      "[query.py:297 - calculate_microstate_pka_values()] Using dimorphite-dl to identify protonation sites.\n"
     ]
    },
    {
     "name": "stdout",
     "output_type": "stream",
     "text": [
      "CCCCCCNC(=O)Nc1sc(-c2ccc(Cl)c(Cl)c2)cc1C(=O)O\n",
      "<rdkit.Chem.rdchem.Mol object at 0x7ff92ecaee40>\n",
      "\n",
      "For help, use: python dimorphite_dl.py --help\n",
      "\n",
      "If you use Dimorphite-DL in your research, please cite:\n",
      "Ropp PJ, Kaminsky JC, Yablonski S, Durrant JD (2019) Dimorphite-DL: An\n",
      "open-source program for enumerating the ionization states of drug-like small\n",
      "molecules. J Cheminform 11:14. doi:10.1186/s13321-019-0336-9.\n",
      "\n",
      "CCCCCCNC(=O)Nc1sc(-c2ccc(Cl)c(Cl)c2)cc1C(=O)O\n",
      "<rdkit.Chem.rdchem.Mol object at 0x7f4df272ee40>\n",
      "\n",
      "For help, use: python dimorphite_dl.py --help\n",
      "\n",
      "If you use Dimorphite-DL in your research, please cite:\n",
      "Ropp PJ, Kaminsky JC, Yablonski S, Durrant JD (2019) Dimorphite-DL: An\n",
      "open-source program for enumerating the ionization states of drug-like small\n",
      "molecules. J Cheminform 11:14. doi:10.1186/s13321-019-0336-9.\n",
      "\n",
      "Proposed mol at pH 7.4: CCCCCCNC(=O)Nc1sc(-c2ccc(Cl)c(Cl)c2)cc1C(=O)[O-]\n"
     ]
    },
    {
     "name": "stderr",
     "output_type": "stream",
     "text": [
      "[query.py:297 - calculate_microstate_pka_values()] Using dimorphite-dl to identify protonation sites.\n"
     ]
    },
    {
     "name": "stdout",
     "output_type": "stream",
     "text": [
      "OCc1cc(OCc2cccc3ccccc23)ccc1O\n",
      "<rdkit.Chem.rdchem.Mol object at 0x7fba6af48e40>\n",
      "\n",
      "For help, use: python dimorphite_dl.py --help\n",
      "\n",
      "If you use Dimorphite-DL in your research, please cite:\n",
      "Ropp PJ, Kaminsky JC, Yablonski S, Durrant JD (2019) Dimorphite-DL: An\n",
      "open-source program for enumerating the ionization states of drug-like small\n",
      "molecules. J Cheminform 11:14. doi:10.1186/s13321-019-0336-9.\n",
      "\n",
      "OCc1cc(OCc2cccc3ccccc23)ccc1O\n",
      "<rdkit.Chem.rdchem.Mol object at 0x7f0016b2ee40>\n",
      "\n",
      "For help, use: python dimorphite_dl.py --help\n",
      "\n",
      "If you use Dimorphite-DL in your research, please cite:\n",
      "Ropp PJ, Kaminsky JC, Yablonski S, Durrant JD (2019) Dimorphite-DL: An\n",
      "open-source program for enumerating the ionization states of drug-like small\n",
      "molecules. J Cheminform 11:14. doi:10.1186/s13321-019-0336-9.\n",
      "\n",
      "Proposed mol at pH 7.4: OCc1cc(OCc2cccc3ccccc23)ccc1O\n"
     ]
    },
    {
     "name": "stderr",
     "output_type": "stream",
     "text": [
      "[query.py:297 - calculate_microstate_pka_values()] Using dimorphite-dl to identify protonation sites.\n"
     ]
    },
    {
     "name": "stdout",
     "output_type": "stream",
     "text": [
      "O=C(O)c1cc(NCc2cccc3ccccc23)ccc1O\n",
      "<rdkit.Chem.rdchem.Mol object at 0x7f8175288e40>\n",
      "\n",
      "For help, use: python dimorphite_dl.py --help\n",
      "\n",
      "If you use Dimorphite-DL in your research, please cite:\n",
      "Ropp PJ, Kaminsky JC, Yablonski S, Durrant JD (2019) Dimorphite-DL: An\n",
      "open-source program for enumerating the ionization states of drug-like small\n",
      "molecules. J Cheminform 11:14. doi:10.1186/s13321-019-0336-9.\n",
      "\n",
      "O=C(O)c1cc(NCc2cccc3ccccc23)ccc1O\n",
      "<rdkit.Chem.rdchem.Mol object at 0x7f98ff936e40>\n",
      "\n",
      "For help, use: python dimorphite_dl.py --help\n",
      "\n",
      "If you use Dimorphite-DL in your research, please cite:\n",
      "Ropp PJ, Kaminsky JC, Yablonski S, Durrant JD (2019) Dimorphite-DL: An\n",
      "open-source program for enumerating the ionization states of drug-like small\n",
      "molecules. J Cheminform 11:14. doi:10.1186/s13321-019-0336-9.\n",
      "\n",
      "Proposed mol at pH 7.4: O=C([O-])c1cc(NCc2cccc3ccccc23)ccc1O\n"
     ]
    },
    {
     "name": "stderr",
     "output_type": "stream",
     "text": [
      "[query.py:297 - calculate_microstate_pka_values()] Using dimorphite-dl to identify protonation sites.\n"
     ]
    },
    {
     "name": "stdout",
     "output_type": "stream",
     "text": [
      "O=C(O)c1cccc(OCc2cccc3ccccc23)c1\n",
      "<rdkit.Chem.rdchem.Mol object at 0x7f573c5d6e40>\n",
      "\n",
      "For help, use: python dimorphite_dl.py --help\n",
      "\n",
      "If you use Dimorphite-DL in your research, please cite:\n",
      "Ropp PJ, Kaminsky JC, Yablonski S, Durrant JD (2019) Dimorphite-DL: An\n",
      "open-source program for enumerating the ionization states of drug-like small\n",
      "molecules. J Cheminform 11:14. doi:10.1186/s13321-019-0336-9.\n",
      "\n",
      "O=C(O)c1cccc(OCc2cccc3ccccc23)c1\n",
      "<rdkit.Chem.rdchem.Mol object at 0x7f581a06ee40>\n",
      "\n",
      "For help, use: python dimorphite_dl.py --help\n",
      "\n",
      "If you use Dimorphite-DL in your research, please cite:\n",
      "Ropp PJ, Kaminsky JC, Yablonski S, Durrant JD (2019) Dimorphite-DL: An\n",
      "open-source program for enumerating the ionization states of drug-like small\n",
      "molecules. J Cheminform 11:14. doi:10.1186/s13321-019-0336-9.\n",
      "\n",
      "Proposed mol at pH 7.4: O=C([O-])c1cccc(OCc2cccc3ccccc23)c1\n"
     ]
    },
    {
     "name": "stderr",
     "output_type": "stream",
     "text": [
      "[query.py:297 - calculate_microstate_pka_values()] Using dimorphite-dl to identify protonation sites.\n"
     ]
    },
    {
     "name": "stdout",
     "output_type": "stream",
     "text": [
      "O=C(O)c1cc(NCc2ccccc2Cc2ccccc2)ccc1O\n",
      "<rdkit.Chem.rdchem.Mol object at 0x7f51ec096e40>\n",
      "\n",
      "For help, use: python dimorphite_dl.py --help\n",
      "\n",
      "If you use Dimorphite-DL in your research, please cite:\n",
      "Ropp PJ, Kaminsky JC, Yablonski S, Durrant JD (2019) Dimorphite-DL: An\n",
      "open-source program for enumerating the ionization states of drug-like small\n",
      "molecules. J Cheminform 11:14. doi:10.1186/s13321-019-0336-9.\n",
      "\n",
      "O=C(O)c1cc(NCc2ccccc2Cc2ccccc2)ccc1O\n",
      "<rdkit.Chem.rdchem.Mol object at 0x7f1f12807e40>\n",
      "\n",
      "For help, use: python dimorphite_dl.py --help\n",
      "\n",
      "If you use Dimorphite-DL in your research, please cite:\n",
      "Ropp PJ, Kaminsky JC, Yablonski S, Durrant JD (2019) Dimorphite-DL: An\n",
      "open-source program for enumerating the ionization states of drug-like small\n",
      "molecules. J Cheminform 11:14. doi:10.1186/s13321-019-0336-9.\n",
      "\n",
      "Proposed mol at pH 7.4: O=C([O-])c1cc(NCc2ccccc2Cc2ccccc2)ccc1O\n"
     ]
    },
    {
     "name": "stderr",
     "output_type": "stream",
     "text": [
      "[query.py:297 - calculate_microstate_pka_values()] Using dimorphite-dl to identify protonation sites.\n"
     ]
    },
    {
     "name": "stdout",
     "output_type": "stream",
     "text": [
      "O=C(O)c1cc(NCc2ccc3ccccc3c2)ccc1O\n",
      "<rdkit.Chem.rdchem.Mol object at 0x7fe011716e40>\n",
      "\n",
      "For help, use: python dimorphite_dl.py --help\n",
      "\n",
      "If you use Dimorphite-DL in your research, please cite:\n",
      "Ropp PJ, Kaminsky JC, Yablonski S, Durrant JD (2019) Dimorphite-DL: An\n",
      "open-source program for enumerating the ionization states of drug-like small\n",
      "molecules. J Cheminform 11:14. doi:10.1186/s13321-019-0336-9.\n",
      "\n",
      "O=C(O)c1cc(NCc2ccc3ccccc3c2)ccc1O\n",
      "<rdkit.Chem.rdchem.Mol object at 0x7f469cf9be40>\n",
      "\n",
      "For help, use: python dimorphite_dl.py --help\n",
      "\n",
      "If you use Dimorphite-DL in your research, please cite:\n",
      "Ropp PJ, Kaminsky JC, Yablonski S, Durrant JD (2019) Dimorphite-DL: An\n",
      "open-source program for enumerating the ionization states of drug-like small\n",
      "molecules. J Cheminform 11:14. doi:10.1186/s13321-019-0336-9.\n",
      "\n",
      "Proposed mol at pH 7.4: O=C([O-])c1cc(NCc2ccc3ccccc3c2)ccc1O\n"
     ]
    },
    {
     "name": "stderr",
     "output_type": "stream",
     "text": [
      "[query.py:297 - calculate_microstate_pka_values()] Using dimorphite-dl to identify protonation sites.\n"
     ]
    },
    {
     "name": "stdout",
     "output_type": "stream",
     "text": [
      "COC(=O)c1cc(OCc2cccc3ccccc23)ccc1O\n",
      "<rdkit.Chem.rdchem.Mol object at 0x7fe9feaece40>\n",
      "\n",
      "For help, use: python dimorphite_dl.py --help\n",
      "\n",
      "If you use Dimorphite-DL in your research, please cite:\n",
      "Ropp PJ, Kaminsky JC, Yablonski S, Durrant JD (2019) Dimorphite-DL: An\n",
      "open-source program for enumerating the ionization states of drug-like small\n",
      "molecules. J Cheminform 11:14. doi:10.1186/s13321-019-0336-9.\n",
      "\n",
      "COC(=O)c1cc(OCc2cccc3ccccc23)ccc1O\n",
      "<rdkit.Chem.rdchem.Mol object at 0x7efee6b61e40>\n",
      "\n",
      "For help, use: python dimorphite_dl.py --help\n",
      "\n",
      "If you use Dimorphite-DL in your research, please cite:\n",
      "Ropp PJ, Kaminsky JC, Yablonski S, Durrant JD (2019) Dimorphite-DL: An\n",
      "open-source program for enumerating the ionization states of drug-like small\n",
      "molecules. J Cheminform 11:14. doi:10.1186/s13321-019-0336-9.\n",
      "\n",
      "Proposed mol at pH 7.4: COC(=O)c1cc(OCc2cccc3ccccc23)ccc1O\n"
     ]
    },
    {
     "name": "stderr",
     "output_type": "stream",
     "text": [
      "[query.py:297 - calculate_microstate_pka_values()] Using dimorphite-dl to identify protonation sites.\n"
     ]
    },
    {
     "name": "stdout",
     "output_type": "stream",
     "text": [
      "Cc1ccc(OCc2cccc3ccccc23)cc1C(=O)O\n",
      "<rdkit.Chem.rdchem.Mol object at 0x7f95e99c2e40>\n",
      "\n",
      "For help, use: python dimorphite_dl.py --help\n",
      "\n",
      "If you use Dimorphite-DL in your research, please cite:\n",
      "Ropp PJ, Kaminsky JC, Yablonski S, Durrant JD (2019) Dimorphite-DL: An\n",
      "open-source program for enumerating the ionization states of drug-like small\n",
      "molecules. J Cheminform 11:14. doi:10.1186/s13321-019-0336-9.\n",
      "\n",
      "Cc1ccc(OCc2cccc3ccccc23)cc1C(=O)O\n",
      "<rdkit.Chem.rdchem.Mol object at 0x7fc5aa588e40>\n",
      "\n",
      "For help, use: python dimorphite_dl.py --help\n",
      "\n",
      "If you use Dimorphite-DL in your research, please cite:\n",
      "Ropp PJ, Kaminsky JC, Yablonski S, Durrant JD (2019) Dimorphite-DL: An\n",
      "open-source program for enumerating the ionization states of drug-like small\n",
      "molecules. J Cheminform 11:14. doi:10.1186/s13321-019-0336-9.\n",
      "\n",
      "Proposed mol at pH 7.4: Cc1ccc(OCc2cccc3ccccc23)cc1C(=O)[O-]\n"
     ]
    },
    {
     "name": "stderr",
     "output_type": "stream",
     "text": [
      "[query.py:297 - calculate_microstate_pka_values()] Using dimorphite-dl to identify protonation sites.\n"
     ]
    },
    {
     "name": "stdout",
     "output_type": "stream",
     "text": [
      "NC(=O)c1cc(OCc2cccc3ccccc23)ccc1O\n",
      "<rdkit.Chem.rdchem.Mol object at 0x7fbadd676e40>\n",
      "\n",
      "For help, use: python dimorphite_dl.py --help\n",
      "\n",
      "If you use Dimorphite-DL in your research, please cite:\n",
      "Ropp PJ, Kaminsky JC, Yablonski S, Durrant JD (2019) Dimorphite-DL: An\n",
      "open-source program for enumerating the ionization states of drug-like small\n",
      "molecules. J Cheminform 11:14. doi:10.1186/s13321-019-0336-9.\n",
      "\n",
      "NC(=O)c1cc(OCc2cccc3ccccc23)ccc1O\n",
      "<rdkit.Chem.rdchem.Mol object at 0x7f2ea41b6e40>\n",
      "\n",
      "For help, use: python dimorphite_dl.py --help\n",
      "\n",
      "If you use Dimorphite-DL in your research, please cite:\n",
      "Ropp PJ, Kaminsky JC, Yablonski S, Durrant JD (2019) Dimorphite-DL: An\n",
      "open-source program for enumerating the ionization states of drug-like small\n",
      "molecules. J Cheminform 11:14. doi:10.1186/s13321-019-0336-9.\n",
      "\n",
      "Proposed mol at pH 7.4: NC(=O)c1cc(OCc2cccc3ccccc23)ccc1O\n"
     ]
    },
    {
     "name": "stderr",
     "output_type": "stream",
     "text": [
      "[query.py:297 - calculate_microstate_pka_values()] Using dimorphite-dl to identify protonation sites.\n"
     ]
    },
    {
     "name": "stdout",
     "output_type": "stream",
     "text": [
      "CC(C)(C)OC(=O)Nc1ccc(OCc2cccc3ccccc23)cc1C(=O)O\n",
      "<rdkit.Chem.rdchem.Mol object at 0x7f809c1fbe40>\n",
      "\n",
      "For help, use: python dimorphite_dl.py --help\n",
      "\n",
      "If you use Dimorphite-DL in your research, please cite:\n",
      "Ropp PJ, Kaminsky JC, Yablonski S, Durrant JD (2019) Dimorphite-DL: An\n",
      "open-source program for enumerating the ionization states of drug-like small\n",
      "molecules. J Cheminform 11:14. doi:10.1186/s13321-019-0336-9.\n",
      "\n",
      "CC(C)(C)OC(=O)Nc1ccc(OCc2cccc3ccccc23)cc1C(=O)O\n",
      "<rdkit.Chem.rdchem.Mol object at 0x7fba7eb6ee40>\n",
      "\n",
      "For help, use: python dimorphite_dl.py --help\n",
      "\n",
      "If you use Dimorphite-DL in your research, please cite:\n",
      "Ropp PJ, Kaminsky JC, Yablonski S, Durrant JD (2019) Dimorphite-DL: An\n",
      "open-source program for enumerating the ionization states of drug-like small\n",
      "molecules. J Cheminform 11:14. doi:10.1186/s13321-019-0336-9.\n",
      "\n",
      "Proposed mol at pH 7.4: CC(C)(C)OC(=O)Nc1ccc(OCc2cccc3ccccc23)cc1C(=O)[O-]\n"
     ]
    },
    {
     "name": "stderr",
     "output_type": "stream",
     "text": [
      "[query.py:297 - calculate_microstate_pka_values()] Using dimorphite-dl to identify protonation sites.\n"
     ]
    },
    {
     "name": "stdout",
     "output_type": "stream",
     "text": [
      "COc1ccc(OCc2cccc3ccccc23)cc1C(=O)O\n",
      "<rdkit.Chem.rdchem.Mol object at 0x7fe7ab1eae40>\n",
      "\n",
      "For help, use: python dimorphite_dl.py --help\n",
      "\n",
      "If you use Dimorphite-DL in your research, please cite:\n",
      "Ropp PJ, Kaminsky JC, Yablonski S, Durrant JD (2019) Dimorphite-DL: An\n",
      "open-source program for enumerating the ionization states of drug-like small\n",
      "molecules. J Cheminform 11:14. doi:10.1186/s13321-019-0336-9.\n",
      "\n",
      "COc1ccc(OCc2cccc3ccccc23)cc1C(=O)O\n",
      "<rdkit.Chem.rdchem.Mol object at 0x7f61d5061e40>\n",
      "\n",
      "For help, use: python dimorphite_dl.py --help\n",
      "\n",
      "If you use Dimorphite-DL in your research, please cite:\n",
      "Ropp PJ, Kaminsky JC, Yablonski S, Durrant JD (2019) Dimorphite-DL: An\n",
      "open-source program for enumerating the ionization states of drug-like small\n",
      "molecules. J Cheminform 11:14. doi:10.1186/s13321-019-0336-9.\n",
      "\n",
      "Proposed mol at pH 7.4: COc1ccc(OCc2cccc3ccccc23)cc1C(=O)[O-]\n"
     ]
    },
    {
     "name": "stderr",
     "output_type": "stream",
     "text": [
      "[query.py:297 - calculate_microstate_pka_values()] Using dimorphite-dl to identify protonation sites.\n"
     ]
    },
    {
     "name": "stdout",
     "output_type": "stream",
     "text": [
      "O=C(O)c1cc(OCc2ccc(Br)c3ccccc23)ccc1O\n",
      "<rdkit.Chem.rdchem.Mol object at 0x7fb70ea82e40>\n",
      "\n",
      "For help, use: python dimorphite_dl.py --help\n",
      "\n",
      "If you use Dimorphite-DL in your research, please cite:\n",
      "Ropp PJ, Kaminsky JC, Yablonski S, Durrant JD (2019) Dimorphite-DL: An\n",
      "open-source program for enumerating the ionization states of drug-like small\n",
      "molecules. J Cheminform 11:14. doi:10.1186/s13321-019-0336-9.\n",
      "\n",
      "O=C(O)c1cc(OCc2ccc(Br)c3ccccc23)ccc1O\n",
      "<rdkit.Chem.rdchem.Mol object at 0x7f7ce0e18e40>\n",
      "\n",
      "For help, use: python dimorphite_dl.py --help\n",
      "\n",
      "If you use Dimorphite-DL in your research, please cite:\n",
      "Ropp PJ, Kaminsky JC, Yablonski S, Durrant JD (2019) Dimorphite-DL: An\n",
      "open-source program for enumerating the ionization states of drug-like small\n",
      "molecules. J Cheminform 11:14. doi:10.1186/s13321-019-0336-9.\n",
      "\n",
      "Proposed mol at pH 7.4: O=C([O-])c1cc(OCc2ccc(Br)c3ccccc23)ccc1O\n"
     ]
    },
    {
     "name": "stderr",
     "output_type": "stream",
     "text": [
      "[query.py:297 - calculate_microstate_pka_values()] Using dimorphite-dl to identify protonation sites.\n"
     ]
    },
    {
     "name": "stdout",
     "output_type": "stream",
     "text": [
      "O=C(O)c1cc(NCc2cccc3c2OCCO3)ccc1O\n",
      "<rdkit.Chem.rdchem.Mol object at 0x7fc4f6ba4e40>\n",
      "\n",
      "For help, use: python dimorphite_dl.py --help\n",
      "\n",
      "If you use Dimorphite-DL in your research, please cite:\n",
      "Ropp PJ, Kaminsky JC, Yablonski S, Durrant JD (2019) Dimorphite-DL: An\n",
      "open-source program for enumerating the ionization states of drug-like small\n",
      "molecules. J Cheminform 11:14. doi:10.1186/s13321-019-0336-9.\n",
      "\n",
      "O=C(O)c1cc(NCc2cccc3c2OCCO3)ccc1O\n",
      "<rdkit.Chem.rdchem.Mol object at 0x7f89a3064e40>\n",
      "\n",
      "For help, use: python dimorphite_dl.py --help\n",
      "\n",
      "If you use Dimorphite-DL in your research, please cite:\n",
      "Ropp PJ, Kaminsky JC, Yablonski S, Durrant JD (2019) Dimorphite-DL: An\n",
      "open-source program for enumerating the ionization states of drug-like small\n",
      "molecules. J Cheminform 11:14. doi:10.1186/s13321-019-0336-9.\n",
      "\n",
      "Proposed mol at pH 7.4: O=C([O-])c1cc(NCc2cccc3c2OCCO3)ccc1O\n"
     ]
    },
    {
     "name": "stderr",
     "output_type": "stream",
     "text": [
      "[query.py:297 - calculate_microstate_pka_values()] Using dimorphite-dl to identify protonation sites.\n"
     ]
    },
    {
     "name": "stdout",
     "output_type": "stream",
     "text": [
      "O=C(O)c1cc(NCc2cccc3[nH]ccc23)ccc1O\n",
      "<rdkit.Chem.rdchem.Mol object at 0x7f3e70334e40>\n",
      "\n",
      "For help, use: python dimorphite_dl.py --help\n",
      "\n",
      "If you use Dimorphite-DL in your research, please cite:\n",
      "Ropp PJ, Kaminsky JC, Yablonski S, Durrant JD (2019) Dimorphite-DL: An\n",
      "open-source program for enumerating the ionization states of drug-like small\n",
      "molecules. J Cheminform 11:14. doi:10.1186/s13321-019-0336-9.\n",
      "\n",
      "O=C(O)c1cc(NCc2cccc3[nH]ccc23)ccc1O\n",
      "<rdkit.Chem.rdchem.Mol object at 0x7faceea3ce40>\n",
      "\n",
      "For help, use: python dimorphite_dl.py --help\n",
      "\n",
      "If you use Dimorphite-DL in your research, please cite:\n",
      "Ropp PJ, Kaminsky JC, Yablonski S, Durrant JD (2019) Dimorphite-DL: An\n",
      "open-source program for enumerating the ionization states of drug-like small\n",
      "molecules. J Cheminform 11:14. doi:10.1186/s13321-019-0336-9.\n",
      "\n",
      "Proposed mol at pH 7.4: O=C([O-])c1cc(NCc2cccc3[nH]ccc23)ccc1O\n"
     ]
    },
    {
     "name": "stderr",
     "output_type": "stream",
     "text": [
      "[query.py:297 - calculate_microstate_pka_values()] Using dimorphite-dl to identify protonation sites.\n"
     ]
    },
    {
     "name": "stdout",
     "output_type": "stream",
     "text": [
      "O=C(NCc1ccco1)Nc1cc(-c2ccc(Cl)c(C(F)(F)F)c2)sc1C(=O)O\n",
      "<rdkit.Chem.rdchem.Mol object at 0x7f4bbb7eaeb0>\n",
      "\n",
      "For help, use: python dimorphite_dl.py --help\n",
      "\n",
      "If you use Dimorphite-DL in your research, please cite:\n",
      "Ropp PJ, Kaminsky JC, Yablonski S, Durrant JD (2019) Dimorphite-DL: An\n",
      "open-source program for enumerating the ionization states of drug-like small\n",
      "molecules. J Cheminform 11:14. doi:10.1186/s13321-019-0336-9.\n",
      "\n",
      "O=C(NCc1ccco1)Nc1cc(-c2ccc(Cl)c(C(F)(F)F)c2)sc1C(=O)O\n",
      "<rdkit.Chem.rdchem.Mol object at 0x7fb76b25beb0>\n",
      "\n",
      "For help, use: python dimorphite_dl.py --help\n",
      "\n",
      "If you use Dimorphite-DL in your research, please cite:\n",
      "Ropp PJ, Kaminsky JC, Yablonski S, Durrant JD (2019) Dimorphite-DL: An\n",
      "open-source program for enumerating the ionization states of drug-like small\n",
      "molecules. J Cheminform 11:14. doi:10.1186/s13321-019-0336-9.\n",
      "\n",
      "Proposed mol at pH 7.4: O=C(NCc1ccco1)Nc1cc(-c2ccc(Cl)c(C(F)(F)F)c2)sc1C(=O)[O-]\n"
     ]
    },
    {
     "name": "stderr",
     "output_type": "stream",
     "text": [
      "[query.py:297 - calculate_microstate_pka_values()] Using dimorphite-dl to identify protonation sites.\n"
     ]
    },
    {
     "name": "stdout",
     "output_type": "stream",
     "text": [
      "Oc1ccc(OCc2cccc3ccccc23)cc1\n",
      "<rdkit.Chem.rdchem.Mol object at 0x7fe50fee4e40>\n",
      "\n",
      "For help, use: python dimorphite_dl.py --help\n",
      "\n",
      "If you use Dimorphite-DL in your research, please cite:\n",
      "Ropp PJ, Kaminsky JC, Yablonski S, Durrant JD (2019) Dimorphite-DL: An\n",
      "open-source program for enumerating the ionization states of drug-like small\n",
      "molecules. J Cheminform 11:14. doi:10.1186/s13321-019-0336-9.\n",
      "\n",
      "Oc1ccc(OCc2cccc3ccccc23)cc1\n",
      "<rdkit.Chem.rdchem.Mol object at 0x7fcffafa4e40>\n",
      "\n",
      "For help, use: python dimorphite_dl.py --help\n",
      "\n",
      "If you use Dimorphite-DL in your research, please cite:\n",
      "Ropp PJ, Kaminsky JC, Yablonski S, Durrant JD (2019) Dimorphite-DL: An\n",
      "open-source program for enumerating the ionization states of drug-like small\n",
      "molecules. J Cheminform 11:14. doi:10.1186/s13321-019-0336-9.\n",
      "\n",
      "Proposed mol at pH 7.4: Oc1ccc(OCc2cccc3ccccc23)cc1\n"
     ]
    },
    {
     "name": "stderr",
     "output_type": "stream",
     "text": [
      "[query.py:297 - calculate_microstate_pka_values()] Using dimorphite-dl to identify protonation sites.\n"
     ]
    },
    {
     "name": "stdout",
     "output_type": "stream",
     "text": [
      "O=C(O)c1cc(NCc2ccccc2Sc2ccccc2)ccc1O\n",
      "<rdkit.Chem.rdchem.Mol object at 0x7ff89f23ce40>\n",
      "\n",
      "For help, use: python dimorphite_dl.py --help\n",
      "\n",
      "If you use Dimorphite-DL in your research, please cite:\n",
      "Ropp PJ, Kaminsky JC, Yablonski S, Durrant JD (2019) Dimorphite-DL: An\n",
      "open-source program for enumerating the ionization states of drug-like small\n",
      "molecules. J Cheminform 11:14. doi:10.1186/s13321-019-0336-9.\n",
      "\n",
      "O=C(O)c1cc(NCc2ccccc2Sc2ccccc2)ccc1O\n",
      "<rdkit.Chem.rdchem.Mol object at 0x7fd6a247ce40>\n",
      "\n",
      "For help, use: python dimorphite_dl.py --help\n",
      "\n",
      "If you use Dimorphite-DL in your research, please cite:\n",
      "Ropp PJ, Kaminsky JC, Yablonski S, Durrant JD (2019) Dimorphite-DL: An\n",
      "open-source program for enumerating the ionization states of drug-like small\n",
      "molecules. J Cheminform 11:14. doi:10.1186/s13321-019-0336-9.\n",
      "\n",
      "Proposed mol at pH 7.4: O=C([O-])c1cc(NCc2ccccc2Sc2ccccc2)ccc1O\n"
     ]
    },
    {
     "name": "stderr",
     "output_type": "stream",
     "text": [
      "[query.py:297 - calculate_microstate_pka_values()] Using dimorphite-dl to identify protonation sites.\n"
     ]
    },
    {
     "name": "stdout",
     "output_type": "stream",
     "text": [
      "O=C(O)c1cc(NCc2ccccc2)ccc1O\n",
      "<rdkit.Chem.rdchem.Mol object at 0x7f0eb4142e40>\n",
      "\n",
      "For help, use: python dimorphite_dl.py --help\n",
      "\n",
      "If you use Dimorphite-DL in your research, please cite:\n",
      "Ropp PJ, Kaminsky JC, Yablonski S, Durrant JD (2019) Dimorphite-DL: An\n",
      "open-source program for enumerating the ionization states of drug-like small\n",
      "molecules. J Cheminform 11:14. doi:10.1186/s13321-019-0336-9.\n",
      "\n",
      "O=C(O)c1cc(NCc2ccccc2)ccc1O\n",
      "<rdkit.Chem.rdchem.Mol object at 0x7ff6d5510e40>\n",
      "\n",
      "For help, use: python dimorphite_dl.py --help\n",
      "\n",
      "If you use Dimorphite-DL in your research, please cite:\n",
      "Ropp PJ, Kaminsky JC, Yablonski S, Durrant JD (2019) Dimorphite-DL: An\n",
      "open-source program for enumerating the ionization states of drug-like small\n",
      "molecules. J Cheminform 11:14. doi:10.1186/s13321-019-0336-9.\n",
      "\n",
      "Proposed mol at pH 7.4: O=C([O-])c1cc(NCc2ccccc2)ccc1O\n"
     ]
    },
    {
     "name": "stderr",
     "output_type": "stream",
     "text": [
      "[query.py:297 - calculate_microstate_pka_values()] Using dimorphite-dl to identify protonation sites.\n"
     ]
    },
    {
     "name": "stdout",
     "output_type": "stream",
     "text": [
      "Cc1cccc(CNc2ccc(O)c(C(=O)O)c2)c1C\n",
      "<rdkit.Chem.rdchem.Mol object at 0x7f37943d0e40>\n",
      "\n",
      "For help, use: python dimorphite_dl.py --help\n",
      "\n",
      "If you use Dimorphite-DL in your research, please cite:\n",
      "Ropp PJ, Kaminsky JC, Yablonski S, Durrant JD (2019) Dimorphite-DL: An\n",
      "open-source program for enumerating the ionization states of drug-like small\n",
      "molecules. J Cheminform 11:14. doi:10.1186/s13321-019-0336-9.\n",
      "\n",
      "Cc1cccc(CNc2ccc(O)c(C(=O)O)c2)c1C\n",
      "<rdkit.Chem.rdchem.Mol object at 0x7f625de16e40>\n",
      "\n",
      "For help, use: python dimorphite_dl.py --help\n",
      "\n",
      "If you use Dimorphite-DL in your research, please cite:\n",
      "Ropp PJ, Kaminsky JC, Yablonski S, Durrant JD (2019) Dimorphite-DL: An\n",
      "open-source program for enumerating the ionization states of drug-like small\n",
      "molecules. J Cheminform 11:14. doi:10.1186/s13321-019-0336-9.\n",
      "\n",
      "Proposed mol at pH 7.4: Cc1cccc(CNc2ccc(O)c(C(=O)[O-])c2)c1C\n"
     ]
    },
    {
     "name": "stderr",
     "output_type": "stream",
     "text": [
      "[query.py:297 - calculate_microstate_pka_values()] Using dimorphite-dl to identify protonation sites.\n"
     ]
    },
    {
     "name": "stdout",
     "output_type": "stream",
     "text": [
      "O=C(O)c1cc(NCc2ccccc2Oc2ccccc2)ccc1O\n",
      "<rdkit.Chem.rdchem.Mol object at 0x7fae65047e40>\n",
      "\n",
      "For help, use: python dimorphite_dl.py --help\n",
      "\n",
      "If you use Dimorphite-DL in your research, please cite:\n",
      "Ropp PJ, Kaminsky JC, Yablonski S, Durrant JD (2019) Dimorphite-DL: An\n",
      "open-source program for enumerating the ionization states of drug-like small\n",
      "molecules. J Cheminform 11:14. doi:10.1186/s13321-019-0336-9.\n",
      "\n",
      "O=C(O)c1cc(NCc2ccccc2Oc2ccccc2)ccc1O\n",
      "<rdkit.Chem.rdchem.Mol object at 0x7fb3f1e1ae40>\n",
      "\n",
      "For help, use: python dimorphite_dl.py --help\n",
      "\n",
      "If you use Dimorphite-DL in your research, please cite:\n",
      "Ropp PJ, Kaminsky JC, Yablonski S, Durrant JD (2019) Dimorphite-DL: An\n",
      "open-source program for enumerating the ionization states of drug-like small\n",
      "molecules. J Cheminform 11:14. doi:10.1186/s13321-019-0336-9.\n",
      "\n",
      "Proposed mol at pH 7.4: O=C([O-])c1cc(NCc2ccccc2Oc2ccccc2)ccc1O\n"
     ]
    },
    {
     "name": "stderr",
     "output_type": "stream",
     "text": [
      "[query.py:297 - calculate_microstate_pka_values()] Using dimorphite-dl to identify protonation sites.\n"
     ]
    },
    {
     "name": "stdout",
     "output_type": "stream",
     "text": [
      "CC(C)(C)OC(=O)Nc1ccc(OCc2cccc3ccccc23)cc1C(=O)O\n",
      "<rdkit.Chem.rdchem.Mol object at 0x7f1f2fb8ee40>\n",
      "\n",
      "For help, use: python dimorphite_dl.py --help\n",
      "\n",
      "If you use Dimorphite-DL in your research, please cite:\n",
      "Ropp PJ, Kaminsky JC, Yablonski S, Durrant JD (2019) Dimorphite-DL: An\n",
      "open-source program for enumerating the ionization states of drug-like small\n",
      "molecules. J Cheminform 11:14. doi:10.1186/s13321-019-0336-9.\n",
      "\n",
      "CC(C)(C)OC(=O)Nc1ccc(OCc2cccc3ccccc23)cc1C(=O)O\n",
      "<rdkit.Chem.rdchem.Mol object at 0x7fa058548e40>\n",
      "\n",
      "For help, use: python dimorphite_dl.py --help\n",
      "\n",
      "If you use Dimorphite-DL in your research, please cite:\n",
      "Ropp PJ, Kaminsky JC, Yablonski S, Durrant JD (2019) Dimorphite-DL: An\n",
      "open-source program for enumerating the ionization states of drug-like small\n",
      "molecules. J Cheminform 11:14. doi:10.1186/s13321-019-0336-9.\n",
      "\n",
      "Proposed mol at pH 7.4: CC(C)(C)OC(=O)Nc1ccc(OCc2cccc3ccccc23)cc1C(=O)[O-]\n"
     ]
    },
    {
     "name": "stderr",
     "output_type": "stream",
     "text": [
      "[query.py:297 - calculate_microstate_pka_values()] Using dimorphite-dl to identify protonation sites.\n"
     ]
    },
    {
     "name": "stdout",
     "output_type": "stream",
     "text": [
      "O=C(O)c1cccc(NCc2ccc(-c3ccc(Cl)cc3)o2)c1\n",
      "<rdkit.Chem.rdchem.Mol object at 0x7fac10688e40>\n",
      "\n",
      "For help, use: python dimorphite_dl.py --help\n",
      "\n",
      "If you use Dimorphite-DL in your research, please cite:\n",
      "Ropp PJ, Kaminsky JC, Yablonski S, Durrant JD (2019) Dimorphite-DL: An\n",
      "open-source program for enumerating the ionization states of drug-like small\n",
      "molecules. J Cheminform 11:14. doi:10.1186/s13321-019-0336-9.\n",
      "\n",
      "O=C(O)c1cccc(NCc2ccc(-c3ccc(Cl)cc3)o2)c1\n",
      "<rdkit.Chem.rdchem.Mol object at 0x7fdc365c8e40>\n",
      "\n",
      "For help, use: python dimorphite_dl.py --help\n",
      "\n",
      "If you use Dimorphite-DL in your research, please cite:\n",
      "Ropp PJ, Kaminsky JC, Yablonski S, Durrant JD (2019) Dimorphite-DL: An\n",
      "open-source program for enumerating the ionization states of drug-like small\n",
      "molecules. J Cheminform 11:14. doi:10.1186/s13321-019-0336-9.\n",
      "\n",
      "Proposed mol at pH 7.4: O=C([O-])c1cccc(NCc2ccc(-c3ccc(Cl)cc3)o2)c1\n"
     ]
    },
    {
     "name": "stderr",
     "output_type": "stream",
     "text": [
      "[query.py:297 - calculate_microstate_pka_values()] Using dimorphite-dl to identify protonation sites.\n"
     ]
    },
    {
     "name": "stdout",
     "output_type": "stream",
     "text": [
      "CCN(Cc1ccccc1)C(=O)Nc1cc(-c2ccc(Cl)c(Br)c2)sc1C(=O)O\n",
      "<rdkit.Chem.rdchem.Mol object at 0x7f1f8d1f6eb0>\n",
      "\n",
      "For help, use: python dimorphite_dl.py --help\n",
      "\n",
      "If you use Dimorphite-DL in your research, please cite:\n",
      "Ropp PJ, Kaminsky JC, Yablonski S, Durrant JD (2019) Dimorphite-DL: An\n",
      "open-source program for enumerating the ionization states of drug-like small\n",
      "molecules. J Cheminform 11:14. doi:10.1186/s13321-019-0336-9.\n",
      "\n",
      "CCN(Cc1ccccc1)C(=O)Nc1cc(-c2ccc(Cl)c(Br)c2)sc1C(=O)O\n",
      "<rdkit.Chem.rdchem.Mol object at 0x7f3812924eb0>\n",
      "\n",
      "For help, use: python dimorphite_dl.py --help\n",
      "\n",
      "If you use Dimorphite-DL in your research, please cite:\n",
      "Ropp PJ, Kaminsky JC, Yablonski S, Durrant JD (2019) Dimorphite-DL: An\n",
      "open-source program for enumerating the ionization states of drug-like small\n",
      "molecules. J Cheminform 11:14. doi:10.1186/s13321-019-0336-9.\n",
      "\n",
      "Proposed mol at pH 7.4: CC[NH+](Cc1ccccc1)C(=O)Nc1cc(-c2ccc(Cl)c(Br)c2)sc1C(=O)[O-]\n"
     ]
    },
    {
     "name": "stderr",
     "output_type": "stream",
     "text": [
      "[query.py:297 - calculate_microstate_pka_values()] Using dimorphite-dl to identify protonation sites.\n"
     ]
    },
    {
     "name": "stdout",
     "output_type": "stream",
     "text": [
      "CCN(Cc1ccccc1)C(=O)Nc1cc(-c2ccc(Cl)c(CCCCNC(=O)OC)c2)sc1C(=O)O\n",
      "<rdkit.Chem.rdchem.Mol object at 0x7fb3f57b6eb0>\n",
      "\n",
      "For help, use: python dimorphite_dl.py --help\n",
      "\n",
      "If you use Dimorphite-DL in your research, please cite:\n",
      "Ropp PJ, Kaminsky JC, Yablonski S, Durrant JD (2019) Dimorphite-DL: An\n",
      "open-source program for enumerating the ionization states of drug-like small\n",
      "molecules. J Cheminform 11:14. doi:10.1186/s13321-019-0336-9.\n",
      "\n",
      "CCN(Cc1ccccc1)C(=O)Nc1cc(-c2ccc(Cl)c(CCCCNC(=O)OC)c2)sc1C(=O)O\n",
      "<rdkit.Chem.rdchem.Mol object at 0x7f6208fbceb0>\n",
      "\n",
      "For help, use: python dimorphite_dl.py --help\n",
      "\n",
      "If you use Dimorphite-DL in your research, please cite:\n",
      "Ropp PJ, Kaminsky JC, Yablonski S, Durrant JD (2019) Dimorphite-DL: An\n",
      "open-source program for enumerating the ionization states of drug-like small\n",
      "molecules. J Cheminform 11:14. doi:10.1186/s13321-019-0336-9.\n",
      "\n",
      "Proposed mol at pH 7.4: CC[NH+](Cc1ccccc1)C(=O)Nc1cc(-c2ccc(Cl)c(CCCCNC(=O)OC)c2)sc1C(=O)[O-]\n"
     ]
    },
    {
     "name": "stderr",
     "output_type": "stream",
     "text": [
      "[query.py:297 - calculate_microstate_pka_values()] Using dimorphite-dl to identify protonation sites.\n"
     ]
    },
    {
     "name": "stdout",
     "output_type": "stream",
     "text": [
      "O=C(O)c1cc(C#Cc2cccc3ccccc23)ccc1O\n",
      "<rdkit.Chem.rdchem.Mol object at 0x7f01739eee40>\n",
      "\n",
      "For help, use: python dimorphite_dl.py --help\n",
      "\n",
      "If you use Dimorphite-DL in your research, please cite:\n",
      "Ropp PJ, Kaminsky JC, Yablonski S, Durrant JD (2019) Dimorphite-DL: An\n",
      "open-source program for enumerating the ionization states of drug-like small\n",
      "molecules. J Cheminform 11:14. doi:10.1186/s13321-019-0336-9.\n",
      "\n",
      "O=C(O)c1cc(C#Cc2cccc3ccccc23)ccc1O\n",
      "<rdkit.Chem.rdchem.Mol object at 0x7f7b0cd5be40>\n",
      "\n",
      "For help, use: python dimorphite_dl.py --help\n",
      "\n",
      "If you use Dimorphite-DL in your research, please cite:\n",
      "Ropp PJ, Kaminsky JC, Yablonski S, Durrant JD (2019) Dimorphite-DL: An\n",
      "open-source program for enumerating the ionization states of drug-like small\n",
      "molecules. J Cheminform 11:14. doi:10.1186/s13321-019-0336-9.\n",
      "\n",
      "Proposed mol at pH 7.4: O=C([O-])c1cc(C#Cc2cccc3ccccc23)ccc1O\n"
     ]
    },
    {
     "name": "stderr",
     "output_type": "stream",
     "text": [
      "[query.py:297 - calculate_microstate_pka_values()] Using dimorphite-dl to identify protonation sites.\n"
     ]
    },
    {
     "name": "stdout",
     "output_type": "stream",
     "text": [
      "CC(C)(C)c1cc(Cc2ccc(O)c(C(=O)O)c2)cc(C(C)(C)C)c1O\n",
      "<rdkit.Chem.rdchem.Mol object at 0x7f3409baeeb0>\n",
      "\n",
      "For help, use: python dimorphite_dl.py --help\n",
      "\n",
      "If you use Dimorphite-DL in your research, please cite:\n",
      "Ropp PJ, Kaminsky JC, Yablonski S, Durrant JD (2019) Dimorphite-DL: An\n",
      "open-source program for enumerating the ionization states of drug-like small\n",
      "molecules. J Cheminform 11:14. doi:10.1186/s13321-019-0336-9.\n",
      "\n",
      "CC(C)(C)c1cc(Cc2ccc(O)c(C(=O)O)c2)cc(C(C)(C)C)c1O\n",
      "<rdkit.Chem.rdchem.Mol object at 0x7f4036969eb0>\n",
      "\n",
      "For help, use: python dimorphite_dl.py --help\n",
      "\n",
      "If you use Dimorphite-DL in your research, please cite:\n",
      "Ropp PJ, Kaminsky JC, Yablonski S, Durrant JD (2019) Dimorphite-DL: An\n",
      "open-source program for enumerating the ionization states of drug-like small\n",
      "molecules. J Cheminform 11:14. doi:10.1186/s13321-019-0336-9.\n",
      "\n",
      "Proposed mol at pH 7.4: CC(C)(C)c1cc(Cc2ccc(O)c(C(=O)[O-])c2)cc(C(C)(C)C)c1O\n"
     ]
    },
    {
     "name": "stderr",
     "output_type": "stream",
     "text": [
      "[query.py:297 - calculate_microstate_pka_values()] Using dimorphite-dl to identify protonation sites.\n"
     ]
    },
    {
     "name": "stdout",
     "output_type": "stream",
     "text": [
      "O=C(O)c1cc(-n2cc(-c3cccc4ccccc34)nn2)ccc1O\n",
      "<rdkit.Chem.rdchem.Mol object at 0x7f2993a95e40>\n",
      "\n",
      "For help, use: python dimorphite_dl.py --help\n",
      "\n",
      "If you use Dimorphite-DL in your research, please cite:\n",
      "Ropp PJ, Kaminsky JC, Yablonski S, Durrant JD (2019) Dimorphite-DL: An\n",
      "open-source program for enumerating the ionization states of drug-like small\n",
      "molecules. J Cheminform 11:14. doi:10.1186/s13321-019-0336-9.\n",
      "\n",
      "O=C(O)c1cc(-n2cc(-c3cccc4ccccc34)nn2)ccc1O\n",
      "<rdkit.Chem.rdchem.Mol object at 0x7f2fd0db6e40>\n",
      "\n",
      "For help, use: python dimorphite_dl.py --help\n",
      "\n",
      "If you use Dimorphite-DL in your research, please cite:\n",
      "Ropp PJ, Kaminsky JC, Yablonski S, Durrant JD (2019) Dimorphite-DL: An\n",
      "open-source program for enumerating the ionization states of drug-like small\n",
      "molecules. J Cheminform 11:14. doi:10.1186/s13321-019-0336-9.\n",
      "\n",
      "WARNING: Skipping poorly formed SMILES string: O=C([O-])c1cc(-[n+]2cc(-c3cccc4ccccc34)nn2)ccc1[O-]\n",
      "WARNING: Skipping poorly formed SMILES string: O=C(O)c1cc(-[n+]2cc(-c3cccc4ccccc34)nn2)ccc1[O-]\n",
      "WARNING: Skipping poorly formed SMILES string: O=C([O-])c1cc(-[n+]2cc(-c3cccc4ccccc34)nn2)ccc1O\n",
      "WARNING: Skipping poorly formed SMILES string: O=C(O)c1cc(-[n+]2cc(-c3cccc4ccccc34)nn2)ccc1O\n",
      "WARNING: Skipping poorly formed SMILES string: O=C([O-])c1cc(-[n+]2cc(-c3cccc4ccccc34)nn2)ccc1[O-]\n",
      "WARNING: Skipping poorly formed SMILES string: O=C(O)c1cc(-[n+]2cc(-c3cccc4ccccc34)nn2)ccc1[O-]\n",
      "WARNING: Skipping poorly formed SMILES string: O=C([O-])c1cc(-[n+]2cc(-c3cccc4ccccc34)nn2)ccc1O\n",
      "WARNING: Skipping poorly formed SMILES string: O=C(O)c1cc(-[n+]2cc(-c3cccc4ccccc34)nn2)ccc1O\n",
      "Proposed mol at pH 7.4: O=C([O-])c1cc(-n2cc(-c3cccc4ccccc34)nn2)ccc1O\n"
     ]
    },
    {
     "name": "stderr",
     "output_type": "stream",
     "text": [
      "[query.py:297 - calculate_microstate_pka_values()] Using dimorphite-dl to identify protonation sites.\n"
     ]
    },
    {
     "name": "stdout",
     "output_type": "stream",
     "text": [
      "O=C(O)c1cc(-n2cc(-c3ccc(Br)cc3)nn2)ccc1O\n",
      "<rdkit.Chem.rdchem.Mol object at 0x7f3daa19be40>\n",
      "\n",
      "For help, use: python dimorphite_dl.py --help\n",
      "\n",
      "If you use Dimorphite-DL in your research, please cite:\n",
      "Ropp PJ, Kaminsky JC, Yablonski S, Durrant JD (2019) Dimorphite-DL: An\n",
      "open-source program for enumerating the ionization states of drug-like small\n",
      "molecules. J Cheminform 11:14. doi:10.1186/s13321-019-0336-9.\n",
      "\n",
      "O=C(O)c1cc(-n2cc(-c3ccc(Br)cc3)nn2)ccc1O\n",
      "<rdkit.Chem.rdchem.Mol object at 0x7fc4f882ee40>\n",
      "\n",
      "For help, use: python dimorphite_dl.py --help\n",
      "\n",
      "If you use Dimorphite-DL in your research, please cite:\n",
      "Ropp PJ, Kaminsky JC, Yablonski S, Durrant JD (2019) Dimorphite-DL: An\n",
      "open-source program for enumerating the ionization states of drug-like small\n",
      "molecules. J Cheminform 11:14. doi:10.1186/s13321-019-0336-9.\n",
      "\n",
      "WARNING: Skipping poorly formed SMILES string: O=C([O-])c1cc(-[n+]2cc(-c3ccc(Br)cc3)nn2)ccc1[O-]\n",
      "WARNING: Skipping poorly formed SMILES string: O=C(O)c1cc(-[n+]2cc(-c3ccc(Br)cc3)nn2)ccc1[O-]\n",
      "WARNING: Skipping poorly formed SMILES string: O=C([O-])c1cc(-[n+]2cc(-c3ccc(Br)cc3)nn2)ccc1O\n",
      "WARNING: Skipping poorly formed SMILES string: O=C(O)c1cc(-[n+]2cc(-c3ccc(Br)cc3)nn2)ccc1O\n",
      "WARNING: Skipping poorly formed SMILES string: O=C([O-])c1cc(-[n+]2cc(-c3ccc(Br)cc3)nn2)ccc1[O-]\n",
      "WARNING: Skipping poorly formed SMILES string: O=C(O)c1cc(-[n+]2cc(-c3ccc(Br)cc3)nn2)ccc1[O-]\n",
      "WARNING: Skipping poorly formed SMILES string: O=C([O-])c1cc(-[n+]2cc(-c3ccc(Br)cc3)nn2)ccc1O\n",
      "WARNING: Skipping poorly formed SMILES string: O=C(O)c1cc(-[n+]2cc(-c3ccc(Br)cc3)nn2)ccc1O\n",
      "Proposed mol at pH 7.4: O=C([O-])c1cc(-n2cc(-c3ccc(Br)cc3)nn2)ccc1O\n"
     ]
    },
    {
     "name": "stderr",
     "output_type": "stream",
     "text": [
      "[query.py:297 - calculate_microstate_pka_values()] Using dimorphite-dl to identify protonation sites.\n"
     ]
    },
    {
     "name": "stdout",
     "output_type": "stream",
     "text": [
      "O=C(O)c1cc(-n2cc(-c3cc(Cl)cc(Cl)c3)nn2)ccc1O\n",
      "<rdkit.Chem.rdchem.Mol object at 0x7f8f9516ee40>\n",
      "\n",
      "For help, use: python dimorphite_dl.py --help\n",
      "\n",
      "If you use Dimorphite-DL in your research, please cite:\n",
      "Ropp PJ, Kaminsky JC, Yablonski S, Durrant JD (2019) Dimorphite-DL: An\n",
      "open-source program for enumerating the ionization states of drug-like small\n",
      "molecules. J Cheminform 11:14. doi:10.1186/s13321-019-0336-9.\n",
      "\n",
      "O=C(O)c1cc(-n2cc(-c3cc(Cl)cc(Cl)c3)nn2)ccc1O\n",
      "<rdkit.Chem.rdchem.Mol object at 0x7f52b6296e40>\n",
      "\n",
      "For help, use: python dimorphite_dl.py --help\n",
      "\n",
      "If you use Dimorphite-DL in your research, please cite:\n",
      "Ropp PJ, Kaminsky JC, Yablonski S, Durrant JD (2019) Dimorphite-DL: An\n",
      "open-source program for enumerating the ionization states of drug-like small\n",
      "molecules. J Cheminform 11:14. doi:10.1186/s13321-019-0336-9.\n",
      "\n",
      "WARNING: Skipping poorly formed SMILES string: O=C([O-])c1cc(-[n+]2cc(-c3cc(Cl)cc(Cl)c3)nn2)ccc1[O-]\n",
      "WARNING: Skipping poorly formed SMILES string: O=C(O)c1cc(-[n+]2cc(-c3cc(Cl)cc(Cl)c3)nn2)ccc1[O-]\n",
      "WARNING: Skipping poorly formed SMILES string: O=C([O-])c1cc(-[n+]2cc(-c3cc(Cl)cc(Cl)c3)nn2)ccc1O\n",
      "WARNING: Skipping poorly formed SMILES string: O=C(O)c1cc(-[n+]2cc(-c3cc(Cl)cc(Cl)c3)nn2)ccc1O\n",
      "WARNING: Skipping poorly formed SMILES string: O=C([O-])c1cc(-[n+]2cc(-c3cc(Cl)cc(Cl)c3)nn2)ccc1[O-]\n",
      "WARNING: Skipping poorly formed SMILES string: O=C(O)c1cc(-[n+]2cc(-c3cc(Cl)cc(Cl)c3)nn2)ccc1[O-]\n",
      "WARNING: Skipping poorly formed SMILES string: O=C([O-])c1cc(-[n+]2cc(-c3cc(Cl)cc(Cl)c3)nn2)ccc1O\n",
      "WARNING: Skipping poorly formed SMILES string: O=C(O)c1cc(-[n+]2cc(-c3cc(Cl)cc(Cl)c3)nn2)ccc1O\n",
      "Proposed mol at pH 7.4: O=C([O-])c1cc(-n2cc(-c3cc(Cl)cc(Cl)c3)nn2)ccc1O\n"
     ]
    },
    {
     "name": "stderr",
     "output_type": "stream",
     "text": [
      "[query.py:297 - calculate_microstate_pka_values()] Using dimorphite-dl to identify protonation sites.\n"
     ]
    },
    {
     "name": "stdout",
     "output_type": "stream",
     "text": [
      "O=C(O)c1cc(OCc2ccc(C(F)(F)F)cc2Cl)ccc1O\n",
      "<rdkit.Chem.rdchem.Mol object at 0x7fbafc34ee40>\n",
      "\n",
      "For help, use: python dimorphite_dl.py --help\n",
      "\n",
      "If you use Dimorphite-DL in your research, please cite:\n",
      "Ropp PJ, Kaminsky JC, Yablonski S, Durrant JD (2019) Dimorphite-DL: An\n",
      "open-source program for enumerating the ionization states of drug-like small\n",
      "molecules. J Cheminform 11:14. doi:10.1186/s13321-019-0336-9.\n",
      "\n",
      "O=C(O)c1cc(OCc2ccc(C(F)(F)F)cc2Cl)ccc1O\n",
      "<rdkit.Chem.rdchem.Mol object at 0x7f62fa550e40>\n",
      "\n",
      "For help, use: python dimorphite_dl.py --help\n",
      "\n",
      "If you use Dimorphite-DL in your research, please cite:\n",
      "Ropp PJ, Kaminsky JC, Yablonski S, Durrant JD (2019) Dimorphite-DL: An\n",
      "open-source program for enumerating the ionization states of drug-like small\n",
      "molecules. J Cheminform 11:14. doi:10.1186/s13321-019-0336-9.\n",
      "\n",
      "Proposed mol at pH 7.4: O=C([O-])c1cc(OCc2ccc(C(F)(F)F)cc2Cl)ccc1O\n"
     ]
    },
    {
     "name": "stderr",
     "output_type": "stream",
     "text": [
      "[query.py:297 - calculate_microstate_pka_values()] Using dimorphite-dl to identify protonation sites.\n"
     ]
    },
    {
     "name": "stdout",
     "output_type": "stream",
     "text": [
      "CC(C)(C)c1cc(COc2ccc(O)c(C(=O)O)c2)cc(C(C)(C)C)c1\n",
      "<rdkit.Chem.rdchem.Mol object at 0x7f374b0fbeb0>\n",
      "\n",
      "For help, use: python dimorphite_dl.py --help\n",
      "\n",
      "If you use Dimorphite-DL in your research, please cite:\n",
      "Ropp PJ, Kaminsky JC, Yablonski S, Durrant JD (2019) Dimorphite-DL: An\n",
      "open-source program for enumerating the ionization states of drug-like small\n",
      "molecules. J Cheminform 11:14. doi:10.1186/s13321-019-0336-9.\n",
      "\n",
      "CC(C)(C)c1cc(COc2ccc(O)c(C(=O)O)c2)cc(C(C)(C)C)c1\n",
      "<rdkit.Chem.rdchem.Mol object at 0x7f2046b6aeb0>\n",
      "\n",
      "For help, use: python dimorphite_dl.py --help\n",
      "\n",
      "If you use Dimorphite-DL in your research, please cite:\n",
      "Ropp PJ, Kaminsky JC, Yablonski S, Durrant JD (2019) Dimorphite-DL: An\n",
      "open-source program for enumerating the ionization states of drug-like small\n",
      "molecules. J Cheminform 11:14. doi:10.1186/s13321-019-0336-9.\n",
      "\n",
      "Proposed mol at pH 7.4: CC(C)(C)c1cc(COc2ccc(O)c(C(=O)[O-])c2)cc(C(C)(C)C)c1\n"
     ]
    },
    {
     "name": "stderr",
     "output_type": "stream",
     "text": [
      "[query.py:297 - calculate_microstate_pka_values()] Using dimorphite-dl to identify protonation sites.\n"
     ]
    },
    {
     "name": "stdout",
     "output_type": "stream",
     "text": [
      "O=C(O)c1cc(NC(=O)c2cccc3ccccc23)ccc1O\n",
      "<rdkit.Chem.rdchem.Mol object at 0x7fdc473d0e40>\n",
      "\n",
      "For help, use: python dimorphite_dl.py --help\n",
      "\n",
      "If you use Dimorphite-DL in your research, please cite:\n",
      "Ropp PJ, Kaminsky JC, Yablonski S, Durrant JD (2019) Dimorphite-DL: An\n",
      "open-source program for enumerating the ionization states of drug-like small\n",
      "molecules. J Cheminform 11:14. doi:10.1186/s13321-019-0336-9.\n",
      "\n",
      "O=C(O)c1cc(NC(=O)c2cccc3ccccc23)ccc1O\n",
      "<rdkit.Chem.rdchem.Mol object at 0x7fb2b092ee40>\n",
      "\n",
      "For help, use: python dimorphite_dl.py --help\n",
      "\n",
      "If you use Dimorphite-DL in your research, please cite:\n",
      "Ropp PJ, Kaminsky JC, Yablonski S, Durrant JD (2019) Dimorphite-DL: An\n",
      "open-source program for enumerating the ionization states of drug-like small\n",
      "molecules. J Cheminform 11:14. doi:10.1186/s13321-019-0336-9.\n",
      "\n",
      "Proposed mol at pH 7.4: O=C([O-])c1cc(NC(=O)c2cccc3ccccc23)ccc1O\n"
     ]
    },
    {
     "name": "stderr",
     "output_type": "stream",
     "text": [
      "[query.py:297 - calculate_microstate_pka_values()] Using dimorphite-dl to identify protonation sites.\n"
     ]
    },
    {
     "name": "stdout",
     "output_type": "stream",
     "text": [
      "O=C(O)c1cc(NS(=O)(=O)c2cccc3ccccc23)ccc1O\n",
      "<rdkit.Chem.rdchem.Mol object at 0x7f1459f1ae40>\n",
      "\n",
      "For help, use: python dimorphite_dl.py --help\n",
      "\n",
      "If you use Dimorphite-DL in your research, please cite:\n",
      "Ropp PJ, Kaminsky JC, Yablonski S, Durrant JD (2019) Dimorphite-DL: An\n",
      "open-source program for enumerating the ionization states of drug-like small\n",
      "molecules. J Cheminform 11:14. doi:10.1186/s13321-019-0336-9.\n",
      "\n",
      "O=C(O)c1cc(NS(=O)(=O)c2cccc3ccccc23)ccc1O\n",
      "<rdkit.Chem.rdchem.Mol object at 0x7f58d1350e40>\n",
      "\n",
      "For help, use: python dimorphite_dl.py --help\n",
      "\n",
      "If you use Dimorphite-DL in your research, please cite:\n",
      "Ropp PJ, Kaminsky JC, Yablonski S, Durrant JD (2019) Dimorphite-DL: An\n",
      "open-source program for enumerating the ionization states of drug-like small\n",
      "molecules. J Cheminform 11:14. doi:10.1186/s13321-019-0336-9.\n",
      "\n",
      "Proposed mol at pH 7.4: O=C([O-])c1cc(NS(=O)(=O)c2cccc3ccccc23)ccc1O\n"
     ]
    },
    {
     "name": "stderr",
     "output_type": "stream",
     "text": [
      "[query.py:297 - calculate_microstate_pka_values()] Using dimorphite-dl to identify protonation sites.\n"
     ]
    },
    {
     "name": "stdout",
     "output_type": "stream",
     "text": [
      "O=C(O)c1cc(NCc2cccc3[nH]cnc23)ccc1O\n",
      "<rdkit.Chem.rdchem.Mol object at 0x7f2992536e40>\n",
      "\n",
      "For help, use: python dimorphite_dl.py --help\n",
      "\n",
      "If you use Dimorphite-DL in your research, please cite:\n",
      "Ropp PJ, Kaminsky JC, Yablonski S, Durrant JD (2019) Dimorphite-DL: An\n",
      "open-source program for enumerating the ionization states of drug-like small\n",
      "molecules. J Cheminform 11:14. doi:10.1186/s13321-019-0336-9.\n",
      "\n",
      "O=C(O)c1cc(NCc2cccc3[nH]cnc23)ccc1O\n",
      "<rdkit.Chem.rdchem.Mol object at 0x7f35e8510e40>\n",
      "\n",
      "For help, use: python dimorphite_dl.py --help\n",
      "\n",
      "If you use Dimorphite-DL in your research, please cite:\n",
      "Ropp PJ, Kaminsky JC, Yablonski S, Durrant JD (2019) Dimorphite-DL: An\n",
      "open-source program for enumerating the ionization states of drug-like small\n",
      "molecules. J Cheminform 11:14. doi:10.1186/s13321-019-0336-9.\n",
      "\n",
      "Proposed mol at pH 7.4: O=C([O-])c1cc(NCc2cccc3[nH]cnc23)ccc1O\n"
     ]
    },
    {
     "name": "stderr",
     "output_type": "stream",
     "text": [
      "[query.py:297 - calculate_microstate_pka_values()] Using dimorphite-dl to identify protonation sites.\n"
     ]
    },
    {
     "name": "stdout",
     "output_type": "stream",
     "text": [
      "O=C(O)c1cc(OCc2cc(Cl)cc(Cl)c2)ccc1O\n",
      "<rdkit.Chem.rdchem.Mol object at 0x7f8a3514fe40>\n",
      "\n",
      "For help, use: python dimorphite_dl.py --help\n",
      "\n",
      "If you use Dimorphite-DL in your research, please cite:\n",
      "Ropp PJ, Kaminsky JC, Yablonski S, Durrant JD (2019) Dimorphite-DL: An\n",
      "open-source program for enumerating the ionization states of drug-like small\n",
      "molecules. J Cheminform 11:14. doi:10.1186/s13321-019-0336-9.\n",
      "\n",
      "O=C(O)c1cc(OCc2cc(Cl)cc(Cl)c2)ccc1O\n",
      "<rdkit.Chem.rdchem.Mol object at 0x7f442830ee40>\n",
      "\n",
      "For help, use: python dimorphite_dl.py --help\n",
      "\n",
      "If you use Dimorphite-DL in your research, please cite:\n",
      "Ropp PJ, Kaminsky JC, Yablonski S, Durrant JD (2019) Dimorphite-DL: An\n",
      "open-source program for enumerating the ionization states of drug-like small\n",
      "molecules. J Cheminform 11:14. doi:10.1186/s13321-019-0336-9.\n",
      "\n",
      "Proposed mol at pH 7.4: O=C([O-])c1cc(OCc2cc(Cl)cc(Cl)c2)ccc1O\n"
     ]
    },
    {
     "name": "stderr",
     "output_type": "stream",
     "text": [
      "[query.py:297 - calculate_microstate_pka_values()] Using dimorphite-dl to identify protonation sites.\n"
     ]
    },
    {
     "name": "stdout",
     "output_type": "stream",
     "text": [
      "O=C(O)c1ccc(-n2cc(-c3cccc4ccccc34)nn2)cc1O\n",
      "<rdkit.Chem.rdchem.Mol object at 0x7f61399bce40>\n",
      "\n",
      "For help, use: python dimorphite_dl.py --help\n",
      "\n",
      "If you use Dimorphite-DL in your research, please cite:\n",
      "Ropp PJ, Kaminsky JC, Yablonski S, Durrant JD (2019) Dimorphite-DL: An\n",
      "open-source program for enumerating the ionization states of drug-like small\n",
      "molecules. J Cheminform 11:14. doi:10.1186/s13321-019-0336-9.\n",
      "\n",
      "O=C(O)c1ccc(-n2cc(-c3cccc4ccccc34)nn2)cc1O\n",
      "<rdkit.Chem.rdchem.Mol object at 0x7f1bf8cf4e40>\n",
      "\n",
      "For help, use: python dimorphite_dl.py --help\n",
      "\n",
      "If you use Dimorphite-DL in your research, please cite:\n",
      "Ropp PJ, Kaminsky JC, Yablonski S, Durrant JD (2019) Dimorphite-DL: An\n",
      "open-source program for enumerating the ionization states of drug-like small\n",
      "molecules. J Cheminform 11:14. doi:10.1186/s13321-019-0336-9.\n",
      "\n",
      "WARNING: Skipping poorly formed SMILES string: O=C([O-])c1ccc(-[n+]2cc(-c3cccc4ccccc34)nn2)cc1[O-]\n",
      "WARNING: Skipping poorly formed SMILES string: O=C(O)c1ccc(-[n+]2cc(-c3cccc4ccccc34)nn2)cc1[O-]\n",
      "WARNING: Skipping poorly formed SMILES string: O=C([O-])c1ccc(-[n+]2cc(-c3cccc4ccccc34)nn2)cc1O\n",
      "WARNING: Skipping poorly formed SMILES string: O=C(O)c1ccc(-[n+]2cc(-c3cccc4ccccc34)nn2)cc1O\n",
      "WARNING: Skipping poorly formed SMILES string: O=C([O-])c1ccc(-[n+]2cc(-c3cccc4ccccc34)nn2)cc1[O-]\n",
      "WARNING: Skipping poorly formed SMILES string: O=C(O)c1ccc(-[n+]2cc(-c3cccc4ccccc34)nn2)cc1[O-]\n",
      "WARNING: Skipping poorly formed SMILES string: O=C([O-])c1ccc(-[n+]2cc(-c3cccc4ccccc34)nn2)cc1O\n",
      "WARNING: Skipping poorly formed SMILES string: O=C(O)c1ccc(-[n+]2cc(-c3cccc4ccccc34)nn2)cc1O\n",
      "Proposed mol at pH 7.4: O=C([O-])c1ccc(-n2cc(-c3cccc4ccccc34)nn2)cc1O\n"
     ]
    },
    {
     "name": "stderr",
     "output_type": "stream",
     "text": [
      "[query.py:297 - calculate_microstate_pka_values()] Using dimorphite-dl to identify protonation sites.\n"
     ]
    },
    {
     "name": "stdout",
     "output_type": "stream",
     "text": [
      "O=C(O)c1ccc(-n2cc(-c3cc(Cl)cc(Cl)c3)nn2)cc1O\n",
      "<rdkit.Chem.rdchem.Mol object at 0x7f15814f6e40>\n",
      "\n",
      "For help, use: python dimorphite_dl.py --help\n",
      "\n",
      "If you use Dimorphite-DL in your research, please cite:\n",
      "Ropp PJ, Kaminsky JC, Yablonski S, Durrant JD (2019) Dimorphite-DL: An\n",
      "open-source program for enumerating the ionization states of drug-like small\n",
      "molecules. J Cheminform 11:14. doi:10.1186/s13321-019-0336-9.\n",
      "\n",
      "O=C(O)c1ccc(-n2cc(-c3cc(Cl)cc(Cl)c3)nn2)cc1O\n",
      "<rdkit.Chem.rdchem.Mol object at 0x7f3c554c8e40>\n",
      "\n",
      "For help, use: python dimorphite_dl.py --help\n",
      "\n",
      "If you use Dimorphite-DL in your research, please cite:\n",
      "Ropp PJ, Kaminsky JC, Yablonski S, Durrant JD (2019) Dimorphite-DL: An\n",
      "open-source program for enumerating the ionization states of drug-like small\n",
      "molecules. J Cheminform 11:14. doi:10.1186/s13321-019-0336-9.\n",
      "\n",
      "WARNING: Skipping poorly formed SMILES string: O=C([O-])c1ccc(-[n+]2cc(-c3cc(Cl)cc(Cl)c3)nn2)cc1[O-]\n",
      "WARNING: Skipping poorly formed SMILES string: O=C(O)c1ccc(-[n+]2cc(-c3cc(Cl)cc(Cl)c3)nn2)cc1[O-]\n",
      "WARNING: Skipping poorly formed SMILES string: O=C([O-])c1ccc(-[n+]2cc(-c3cc(Cl)cc(Cl)c3)nn2)cc1O\n",
      "WARNING: Skipping poorly formed SMILES string: O=C(O)c1ccc(-[n+]2cc(-c3cc(Cl)cc(Cl)c3)nn2)cc1O\n",
      "WARNING: Skipping poorly formed SMILES string: O=C([O-])c1ccc(-[n+]2cc(-c3cc(Cl)cc(Cl)c3)nn2)cc1[O-]\n",
      "WARNING: Skipping poorly formed SMILES string: O=C(O)c1ccc(-[n+]2cc(-c3cc(Cl)cc(Cl)c3)nn2)cc1[O-]\n",
      "WARNING: Skipping poorly formed SMILES string: O=C([O-])c1ccc(-[n+]2cc(-c3cc(Cl)cc(Cl)c3)nn2)cc1O\n",
      "WARNING: Skipping poorly formed SMILES string: O=C(O)c1ccc(-[n+]2cc(-c3cc(Cl)cc(Cl)c3)nn2)cc1O\n",
      "Proposed mol at pH 7.4: O=C([O-])c1ccc(-n2cc(-c3cc(Cl)cc(Cl)c3)nn2)cc1O\n"
     ]
    },
    {
     "name": "stderr",
     "output_type": "stream",
     "text": [
      "[query.py:297 - calculate_microstate_pka_values()] Using dimorphite-dl to identify protonation sites.\n"
     ]
    },
    {
     "name": "stdout",
     "output_type": "stream",
     "text": [
      "CCCCCCNC(=O)Nc1ccsc1C(=O)O\n",
      "<rdkit.Chem.rdchem.Mol object at 0x7efcd8d10e40>\n",
      "\n",
      "For help, use: python dimorphite_dl.py --help\n",
      "\n",
      "If you use Dimorphite-DL in your research, please cite:\n",
      "Ropp PJ, Kaminsky JC, Yablonski S, Durrant JD (2019) Dimorphite-DL: An\n",
      "open-source program for enumerating the ionization states of drug-like small\n",
      "molecules. J Cheminform 11:14. doi:10.1186/s13321-019-0336-9.\n",
      "\n",
      "CCCCCCNC(=O)Nc1ccsc1C(=O)O\n",
      "<rdkit.Chem.rdchem.Mol object at 0x7f62c2a82e40>\n",
      "\n",
      "For help, use: python dimorphite_dl.py --help\n",
      "\n",
      "If you use Dimorphite-DL in your research, please cite:\n",
      "Ropp PJ, Kaminsky JC, Yablonski S, Durrant JD (2019) Dimorphite-DL: An\n",
      "open-source program for enumerating the ionization states of drug-like small\n",
      "molecules. J Cheminform 11:14. doi:10.1186/s13321-019-0336-9.\n",
      "\n",
      "Proposed mol at pH 7.4: CCCCCCNC(=O)Nc1ccsc1C(=O)[O-]\n"
     ]
    },
    {
     "name": "stderr",
     "output_type": "stream",
     "text": [
      "[query.py:297 - calculate_microstate_pka_values()] Using dimorphite-dl to identify protonation sites.\n"
     ]
    },
    {
     "name": "stdout",
     "output_type": "stream",
     "text": [
      "COC(=O)c1scc(Br)c1N\n",
      "<rdkit.Chem.rdchem.Mol object at 0x7ff70c742e40>\n",
      "\n",
      "For help, use: python dimorphite_dl.py --help\n",
      "\n",
      "If you use Dimorphite-DL in your research, please cite:\n",
      "Ropp PJ, Kaminsky JC, Yablonski S, Durrant JD (2019) Dimorphite-DL: An\n",
      "open-source program for enumerating the ionization states of drug-like small\n",
      "molecules. J Cheminform 11:14. doi:10.1186/s13321-019-0336-9.\n",
      "\n",
      "COC(=O)c1scc(Br)c1N\n",
      "<rdkit.Chem.rdchem.Mol object at 0x7f7e9d464e40>\n",
      "\n",
      "For help, use: python dimorphite_dl.py --help\n",
      "\n",
      "If you use Dimorphite-DL in your research, please cite:\n",
      "Ropp PJ, Kaminsky JC, Yablonski S, Durrant JD (2019) Dimorphite-DL: An\n",
      "open-source program for enumerating the ionization states of drug-like small\n",
      "molecules. J Cheminform 11:14. doi:10.1186/s13321-019-0336-9.\n",
      "\n",
      "Proposed mol at pH 7.4: COC(=O)c1scc(Br)c1N\n"
     ]
    },
    {
     "name": "stderr",
     "output_type": "stream",
     "text": [
      "[query.py:297 - calculate_microstate_pka_values()] Using dimorphite-dl to identify protonation sites.\n"
     ]
    },
    {
     "name": "stdout",
     "output_type": "stream",
     "text": [
      "COC(=O)c1scc(-c2ccc(Cl)c(Cl)c2)c1N\n",
      "<rdkit.Chem.rdchem.Mol object at 0x7f20a60c2e40>\n",
      "\n",
      "For help, use: python dimorphite_dl.py --help\n",
      "\n",
      "If you use Dimorphite-DL in your research, please cite:\n",
      "Ropp PJ, Kaminsky JC, Yablonski S, Durrant JD (2019) Dimorphite-DL: An\n",
      "open-source program for enumerating the ionization states of drug-like small\n",
      "molecules. J Cheminform 11:14. doi:10.1186/s13321-019-0336-9.\n",
      "\n",
      "COC(=O)c1scc(-c2ccc(Cl)c(Cl)c2)c1N\n",
      "<rdkit.Chem.rdchem.Mol object at 0x7f19130b6e40>\n",
      "\n",
      "For help, use: python dimorphite_dl.py --help\n",
      "\n",
      "If you use Dimorphite-DL in your research, please cite:\n",
      "Ropp PJ, Kaminsky JC, Yablonski S, Durrant JD (2019) Dimorphite-DL: An\n",
      "open-source program for enumerating the ionization states of drug-like small\n",
      "molecules. J Cheminform 11:14. doi:10.1186/s13321-019-0336-9.\n",
      "\n",
      "Proposed mol at pH 7.4: COC(=O)c1scc(-c2ccc(Cl)c(Cl)c2)c1N\n"
     ]
    },
    {
     "name": "stderr",
     "output_type": "stream",
     "text": [
      "[query.py:297 - calculate_microstate_pka_values()] Using dimorphite-dl to identify protonation sites.\n"
     ]
    },
    {
     "name": "stdout",
     "output_type": "stream",
     "text": [
      "COC(=O)c1scc(-c2ccc(C(F)(F)F)c(Cl)c2)c1N\n",
      "<rdkit.Chem.rdchem.Mol object at 0x7fa51ba6ce40>\n",
      "\n",
      "For help, use: python dimorphite_dl.py --help\n",
      "\n",
      "If you use Dimorphite-DL in your research, please cite:\n",
      "Ropp PJ, Kaminsky JC, Yablonski S, Durrant JD (2019) Dimorphite-DL: An\n",
      "open-source program for enumerating the ionization states of drug-like small\n",
      "molecules. J Cheminform 11:14. doi:10.1186/s13321-019-0336-9.\n",
      "\n",
      "COC(=O)c1scc(-c2ccc(C(F)(F)F)c(Cl)c2)c1N\n",
      "<rdkit.Chem.rdchem.Mol object at 0x7f5c167a3e40>\n",
      "\n",
      "For help, use: python dimorphite_dl.py --help\n",
      "\n",
      "If you use Dimorphite-DL in your research, please cite:\n",
      "Ropp PJ, Kaminsky JC, Yablonski S, Durrant JD (2019) Dimorphite-DL: An\n",
      "open-source program for enumerating the ionization states of drug-like small\n",
      "molecules. J Cheminform 11:14. doi:10.1186/s13321-019-0336-9.\n",
      "\n",
      "Proposed mol at pH 7.4: COC(=O)c1scc(-c2ccc(C(F)(F)F)c(Cl)c2)c1N\n"
     ]
    },
    {
     "name": "stderr",
     "output_type": "stream",
     "text": [
      "[query.py:297 - calculate_microstate_pka_values()] Using dimorphite-dl to identify protonation sites.\n"
     ]
    },
    {
     "name": "stdout",
     "output_type": "stream",
     "text": [
      "CCCCCCNc1c(-c2ccc(Cl)c(Cl)c2)csc1C(=O)O\n",
      "<rdkit.Chem.rdchem.Mol object at 0x7f8ae548ee40>\n",
      "\n",
      "For help, use: python dimorphite_dl.py --help\n",
      "\n",
      "If you use Dimorphite-DL in your research, please cite:\n",
      "Ropp PJ, Kaminsky JC, Yablonski S, Durrant JD (2019) Dimorphite-DL: An\n",
      "open-source program for enumerating the ionization states of drug-like small\n",
      "molecules. J Cheminform 11:14. doi:10.1186/s13321-019-0336-9.\n",
      "\n",
      "CCCCCCNc1c(-c2ccc(Cl)c(Cl)c2)csc1C(=O)O\n",
      "<rdkit.Chem.rdchem.Mol object at 0x7ff705828e40>\n",
      "\n",
      "For help, use: python dimorphite_dl.py --help\n",
      "\n",
      "If you use Dimorphite-DL in your research, please cite:\n",
      "Ropp PJ, Kaminsky JC, Yablonski S, Durrant JD (2019) Dimorphite-DL: An\n",
      "open-source program for enumerating the ionization states of drug-like small\n",
      "molecules. J Cheminform 11:14. doi:10.1186/s13321-019-0336-9.\n",
      "\n",
      "Proposed mol at pH 7.4: CCCCCCNc1c(-c2ccc(Cl)c(Cl)c2)csc1C(=O)[O-]\n"
     ]
    },
    {
     "name": "stderr",
     "output_type": "stream",
     "text": [
      "[query.py:297 - calculate_microstate_pka_values()] Using dimorphite-dl to identify protonation sites.\n"
     ]
    },
    {
     "name": "stdout",
     "output_type": "stream",
     "text": [
      "CCCCC(=O)Nc1c(-c2ccc(Cl)c(Cl)c2)csc1C(=O)O\n",
      "<rdkit.Chem.rdchem.Mol object at 0x7f77660d0e40>\n",
      "\n",
      "For help, use: python dimorphite_dl.py --help\n",
      "\n",
      "If you use Dimorphite-DL in your research, please cite:\n",
      "Ropp PJ, Kaminsky JC, Yablonski S, Durrant JD (2019) Dimorphite-DL: An\n",
      "open-source program for enumerating the ionization states of drug-like small\n",
      "molecules. J Cheminform 11:14. doi:10.1186/s13321-019-0336-9.\n",
      "\n",
      "CCCCC(=O)Nc1c(-c2ccc(Cl)c(Cl)c2)csc1C(=O)O\n",
      "<rdkit.Chem.rdchem.Mol object at 0x7f417a234e40>\n",
      "\n",
      "For help, use: python dimorphite_dl.py --help\n",
      "\n",
      "If you use Dimorphite-DL in your research, please cite:\n",
      "Ropp PJ, Kaminsky JC, Yablonski S, Durrant JD (2019) Dimorphite-DL: An\n",
      "open-source program for enumerating the ionization states of drug-like small\n",
      "molecules. J Cheminform 11:14. doi:10.1186/s13321-019-0336-9.\n",
      "\n",
      "Proposed mol at pH 7.4: CCCCC(=O)Nc1c(-c2ccc(Cl)c(Cl)c2)csc1C(=O)[O-]\n"
     ]
    },
    {
     "name": "stderr",
     "output_type": "stream",
     "text": [
      "[query.py:297 - calculate_microstate_pka_values()] Using dimorphite-dl to identify protonation sites.\n"
     ]
    },
    {
     "name": "stdout",
     "output_type": "stream",
     "text": [
      "CCCCCCNC(=O)Nc1c(C(=O)O)cccc1-c1ccc(Cl)c(Cl)c1\n",
      "<rdkit.Chem.rdchem.Mol object at 0x7fe0546c8e40>\n",
      "\n",
      "For help, use: python dimorphite_dl.py --help\n",
      "\n",
      "If you use Dimorphite-DL in your research, please cite:\n",
      "Ropp PJ, Kaminsky JC, Yablonski S, Durrant JD (2019) Dimorphite-DL: An\n",
      "open-source program for enumerating the ionization states of drug-like small\n",
      "molecules. J Cheminform 11:14. doi:10.1186/s13321-019-0336-9.\n",
      "\n",
      "CCCCCCNC(=O)Nc1c(C(=O)O)cccc1-c1ccc(Cl)c(Cl)c1\n",
      "<rdkit.Chem.rdchem.Mol object at 0x7fd906e76e40>\n",
      "\n",
      "For help, use: python dimorphite_dl.py --help\n",
      "\n",
      "If you use Dimorphite-DL in your research, please cite:\n",
      "Ropp PJ, Kaminsky JC, Yablonski S, Durrant JD (2019) Dimorphite-DL: An\n",
      "open-source program for enumerating the ionization states of drug-like small\n",
      "molecules. J Cheminform 11:14. doi:10.1186/s13321-019-0336-9.\n",
      "\n",
      "Proposed mol at pH 7.4: CCCCCCNC(=O)Nc1c(C(=O)[O-])cccc1-c1ccc(Cl)c(Cl)c1\n"
     ]
    },
    {
     "name": "stderr",
     "output_type": "stream",
     "text": [
      "[query.py:297 - calculate_microstate_pka_values()] Using dimorphite-dl to identify protonation sites.\n"
     ]
    },
    {
     "name": "stdout",
     "output_type": "stream",
     "text": [
      "Nc1c(-c2ccc(Cl)c(Cl)c2)csc1C(=O)O\n",
      "<rdkit.Chem.rdchem.Mol object at 0x7f4efb93ce40>\n",
      "\n",
      "For help, use: python dimorphite_dl.py --help\n",
      "\n",
      "If you use Dimorphite-DL in your research, please cite:\n",
      "Ropp PJ, Kaminsky JC, Yablonski S, Durrant JD (2019) Dimorphite-DL: An\n",
      "open-source program for enumerating the ionization states of drug-like small\n",
      "molecules. J Cheminform 11:14. doi:10.1186/s13321-019-0336-9.\n",
      "\n",
      "Nc1c(-c2ccc(Cl)c(Cl)c2)csc1C(=O)O\n",
      "<rdkit.Chem.rdchem.Mol object at 0x7f2038c6ee40>\n",
      "\n",
      "For help, use: python dimorphite_dl.py --help\n",
      "\n",
      "If you use Dimorphite-DL in your research, please cite:\n",
      "Ropp PJ, Kaminsky JC, Yablonski S, Durrant JD (2019) Dimorphite-DL: An\n",
      "open-source program for enumerating the ionization states of drug-like small\n",
      "molecules. J Cheminform 11:14. doi:10.1186/s13321-019-0336-9.\n",
      "\n",
      "Proposed mol at pH 7.4: Nc1c(-c2ccc(Cl)c(Cl)c2)csc1C(=O)[O-]\n"
     ]
    },
    {
     "name": "stderr",
     "output_type": "stream",
     "text": [
      "[query.py:297 - calculate_microstate_pka_values()] Using dimorphite-dl to identify protonation sites.\n"
     ]
    },
    {
     "name": "stdout",
     "output_type": "stream",
     "text": [
      "Cn1cc(-c2cccc(COc3ccc(O)c(C(=O)O)c3)c2)cn1\n",
      "<rdkit.Chem.rdchem.Mol object at 0x7fd667161e40>\n",
      "\n",
      "For help, use: python dimorphite_dl.py --help\n",
      "\n",
      "If you use Dimorphite-DL in your research, please cite:\n",
      "Ropp PJ, Kaminsky JC, Yablonski S, Durrant JD (2019) Dimorphite-DL: An\n",
      "open-source program for enumerating the ionization states of drug-like small\n",
      "molecules. J Cheminform 11:14. doi:10.1186/s13321-019-0336-9.\n",
      "\n",
      "Cn1cc(-c2cccc(COc3ccc(O)c(C(=O)O)c3)c2)cn1\n",
      "<rdkit.Chem.rdchem.Mol object at 0x7fafd7d88e40>\n",
      "\n",
      "For help, use: python dimorphite_dl.py --help\n",
      "\n",
      "If you use Dimorphite-DL in your research, please cite:\n",
      "Ropp PJ, Kaminsky JC, Yablonski S, Durrant JD (2019) Dimorphite-DL: An\n",
      "open-source program for enumerating the ionization states of drug-like small\n",
      "molecules. J Cheminform 11:14. doi:10.1186/s13321-019-0336-9.\n",
      "\n",
      "WARNING: Skipping poorly formed SMILES string: C[n+]1cc(-c2cccc(COc3ccc([O-])c(C(=O)[O-])c3)c2)cn1\n",
      "WARNING: Skipping poorly formed SMILES string: C[n+]1cc(-c2cccc(COc3ccc([O-])c(C(=O)O)c3)c2)cn1\n",
      "WARNING: Skipping poorly formed SMILES string: C[n+]1cc(-c2cccc(COc3ccc(O)c(C(=O)[O-])c3)c2)cn1\n",
      "WARNING: Skipping poorly formed SMILES string: C[n+]1cc(-c2cccc(COc3ccc(O)c(C(=O)O)c3)c2)cn1\n",
      "WARNING: Skipping poorly formed SMILES string: C[n+]1cc(-c2cccc(COc3ccc([O-])c(C(=O)[O-])c3)c2)cn1\n",
      "WARNING: Skipping poorly formed SMILES string: C[n+]1cc(-c2cccc(COc3ccc([O-])c(C(=O)O)c3)c2)cn1\n",
      "WARNING: Skipping poorly formed SMILES string: C[n+]1cc(-c2cccc(COc3ccc(O)c(C(=O)[O-])c3)c2)cn1\n",
      "WARNING: Skipping poorly formed SMILES string: C[n+]1cc(-c2cccc(COc3ccc(O)c(C(=O)O)c3)c2)cn1\n",
      "Proposed mol at pH 7.4: Cn1cc(-c2cccc(COc3ccc(O)c(C(=O)[O-])c3)c2)cn1\n"
     ]
    },
    {
     "name": "stderr",
     "output_type": "stream",
     "text": [
      "[query.py:297 - calculate_microstate_pka_values()] Using dimorphite-dl to identify protonation sites.\n"
     ]
    },
    {
     "name": "stdout",
     "output_type": "stream",
     "text": [
      "O=C(O)c1cc(OCc2cccc(-c3ccncc3)c2)ccc1O\n",
      "<rdkit.Chem.rdchem.Mol object at 0x7f4eb7d21e40>\n",
      "\n",
      "For help, use: python dimorphite_dl.py --help\n",
      "\n",
      "If you use Dimorphite-DL in your research, please cite:\n",
      "Ropp PJ, Kaminsky JC, Yablonski S, Durrant JD (2019) Dimorphite-DL: An\n",
      "open-source program for enumerating the ionization states of drug-like small\n",
      "molecules. J Cheminform 11:14. doi:10.1186/s13321-019-0336-9.\n",
      "\n",
      "O=C(O)c1cc(OCc2cccc(-c3ccncc3)c2)ccc1O\n",
      "<rdkit.Chem.rdchem.Mol object at 0x7f5286d42e40>\n",
      "\n",
      "For help, use: python dimorphite_dl.py --help\n",
      "\n",
      "If you use Dimorphite-DL in your research, please cite:\n",
      "Ropp PJ, Kaminsky JC, Yablonski S, Durrant JD (2019) Dimorphite-DL: An\n",
      "open-source program for enumerating the ionization states of drug-like small\n",
      "molecules. J Cheminform 11:14. doi:10.1186/s13321-019-0336-9.\n",
      "\n",
      "Proposed mol at pH 7.4: O=C([O-])c1cc(OCc2cccc(-c3ccncc3)c2)ccc1O\n"
     ]
    },
    {
     "name": "stderr",
     "output_type": "stream",
     "text": [
      "[query.py:297 - calculate_microstate_pka_values()] Using dimorphite-dl to identify protonation sites.\n"
     ]
    },
    {
     "name": "stdout",
     "output_type": "stream",
     "text": [
      "O=C(O)c1cc(OCc2cccc(-c3ccoc3)c2)ccc1O\n",
      "<rdkit.Chem.rdchem.Mol object at 0x7f8b47247e40>\n",
      "\n",
      "For help, use: python dimorphite_dl.py --help\n",
      "\n",
      "If you use Dimorphite-DL in your research, please cite:\n",
      "Ropp PJ, Kaminsky JC, Yablonski S, Durrant JD (2019) Dimorphite-DL: An\n",
      "open-source program for enumerating the ionization states of drug-like small\n",
      "molecules. J Cheminform 11:14. doi:10.1186/s13321-019-0336-9.\n",
      "\n",
      "O=C(O)c1cc(OCc2cccc(-c3ccoc3)c2)ccc1O\n",
      "<rdkit.Chem.rdchem.Mol object at 0x7f06d7cd0e40>\n",
      "\n",
      "For help, use: python dimorphite_dl.py --help\n",
      "\n",
      "If you use Dimorphite-DL in your research, please cite:\n",
      "Ropp PJ, Kaminsky JC, Yablonski S, Durrant JD (2019) Dimorphite-DL: An\n",
      "open-source program for enumerating the ionization states of drug-like small\n",
      "molecules. J Cheminform 11:14. doi:10.1186/s13321-019-0336-9.\n",
      "\n",
      "Proposed mol at pH 7.4: O=C([O-])c1cc(OCc2cccc(-c3ccoc3)c2)ccc1O\n"
     ]
    },
    {
     "name": "stderr",
     "output_type": "stream",
     "text": [
      "[query.py:297 - calculate_microstate_pka_values()] Using dimorphite-dl to identify protonation sites.\n"
     ]
    },
    {
     "name": "stdout",
     "output_type": "stream",
     "text": [
      "O=C(O)c1cc(OCc2cccc(-c3ccnc4ccccc34)c2)ccc1O\n",
      "<rdkit.Chem.rdchem.Mol object at 0x7f19ab8a3e40>\n",
      "\n",
      "For help, use: python dimorphite_dl.py --help\n",
      "\n",
      "If you use Dimorphite-DL in your research, please cite:\n",
      "Ropp PJ, Kaminsky JC, Yablonski S, Durrant JD (2019) Dimorphite-DL: An\n",
      "open-source program for enumerating the ionization states of drug-like small\n",
      "molecules. J Cheminform 11:14. doi:10.1186/s13321-019-0336-9.\n",
      "\n",
      "O=C(O)c1cc(OCc2cccc(-c3ccnc4ccccc34)c2)ccc1O\n",
      "<rdkit.Chem.rdchem.Mol object at 0x7f2bb5fa4e40>\n",
      "\n",
      "For help, use: python dimorphite_dl.py --help\n",
      "\n",
      "If you use Dimorphite-DL in your research, please cite:\n",
      "Ropp PJ, Kaminsky JC, Yablonski S, Durrant JD (2019) Dimorphite-DL: An\n",
      "open-source program for enumerating the ionization states of drug-like small\n",
      "molecules. J Cheminform 11:14. doi:10.1186/s13321-019-0336-9.\n",
      "\n",
      "Proposed mol at pH 7.4: O=C([O-])c1cc(OCc2cccc(-c3ccnc4ccccc34)c2)ccc1O\n"
     ]
    },
    {
     "name": "stderr",
     "output_type": "stream",
     "text": [
      "[query.py:297 - calculate_microstate_pka_values()] Using dimorphite-dl to identify protonation sites.\n"
     ]
    },
    {
     "name": "stdout",
     "output_type": "stream",
     "text": [
      "O=C(O)c1cc(OCc2cccc(-c3cccc(OCc4ccccc4)c3)c2)ccc1O\n",
      "<rdkit.Chem.rdchem.Mol object at 0x7fa49012ceb0>\n",
      "\n",
      "For help, use: python dimorphite_dl.py --help\n",
      "\n",
      "If you use Dimorphite-DL in your research, please cite:\n",
      "Ropp PJ, Kaminsky JC, Yablonski S, Durrant JD (2019) Dimorphite-DL: An\n",
      "open-source program for enumerating the ionization states of drug-like small\n",
      "molecules. J Cheminform 11:14. doi:10.1186/s13321-019-0336-9.\n",
      "\n",
      "O=C(O)c1cc(OCc2cccc(-c3cccc(OCc4ccccc4)c3)c2)ccc1O\n",
      "<rdkit.Chem.rdchem.Mol object at 0x7f9f23b64eb0>\n",
      "\n",
      "For help, use: python dimorphite_dl.py --help\n",
      "\n",
      "If you use Dimorphite-DL in your research, please cite:\n",
      "Ropp PJ, Kaminsky JC, Yablonski S, Durrant JD (2019) Dimorphite-DL: An\n",
      "open-source program for enumerating the ionization states of drug-like small\n",
      "molecules. J Cheminform 11:14. doi:10.1186/s13321-019-0336-9.\n",
      "\n",
      "Proposed mol at pH 7.4: O=C([O-])c1cc(OCc2cccc(-c3cccc(OCc4ccccc4)c3)c2)ccc1O\n"
     ]
    },
    {
     "name": "stderr",
     "output_type": "stream",
     "text": [
      "[query.py:297 - calculate_microstate_pka_values()] Using dimorphite-dl to identify protonation sites.\n"
     ]
    },
    {
     "name": "stdout",
     "output_type": "stream",
     "text": [
      "O=C(O)c1cc(OCc2cc(Cl)cc(Br)c2)ccc1O\n",
      "<rdkit.Chem.rdchem.Mol object at 0x7fc0205c8e40>\n",
      "\n",
      "For help, use: python dimorphite_dl.py --help\n",
      "\n",
      "If you use Dimorphite-DL in your research, please cite:\n",
      "Ropp PJ, Kaminsky JC, Yablonski S, Durrant JD (2019) Dimorphite-DL: An\n",
      "open-source program for enumerating the ionization states of drug-like small\n",
      "molecules. J Cheminform 11:14. doi:10.1186/s13321-019-0336-9.\n",
      "\n",
      "O=C(O)c1cc(OCc2cc(Cl)cc(Br)c2)ccc1O\n",
      "<rdkit.Chem.rdchem.Mol object at 0x7f21d6dc2e40>\n",
      "\n",
      "For help, use: python dimorphite_dl.py --help\n",
      "\n",
      "If you use Dimorphite-DL in your research, please cite:\n",
      "Ropp PJ, Kaminsky JC, Yablonski S, Durrant JD (2019) Dimorphite-DL: An\n",
      "open-source program for enumerating the ionization states of drug-like small\n",
      "molecules. J Cheminform 11:14. doi:10.1186/s13321-019-0336-9.\n",
      "\n",
      "Proposed mol at pH 7.4: O=C([O-])c1cc(OCc2cc(Cl)cc(Br)c2)ccc1O\n"
     ]
    },
    {
     "name": "stderr",
     "output_type": "stream",
     "text": [
      "[query.py:297 - calculate_microstate_pka_values()] Using dimorphite-dl to identify protonation sites.\n"
     ]
    },
    {
     "name": "stdout",
     "output_type": "stream",
     "text": [
      "O=C(O)c1cc(OCc2cc(Br)cc(Br)c2)ccc1O\n",
      "<rdkit.Chem.rdchem.Mol object at 0x7f10e8caae40>\n",
      "\n",
      "For help, use: python dimorphite_dl.py --help\n",
      "\n",
      "If you use Dimorphite-DL in your research, please cite:\n",
      "Ropp PJ, Kaminsky JC, Yablonski S, Durrant JD (2019) Dimorphite-DL: An\n",
      "open-source program for enumerating the ionization states of drug-like small\n",
      "molecules. J Cheminform 11:14. doi:10.1186/s13321-019-0336-9.\n",
      "\n",
      "O=C(O)c1cc(OCc2cc(Br)cc(Br)c2)ccc1O\n",
      "<rdkit.Chem.rdchem.Mol object at 0x7f2ed51cee40>\n",
      "\n",
      "For help, use: python dimorphite_dl.py --help\n",
      "\n",
      "If you use Dimorphite-DL in your research, please cite:\n",
      "Ropp PJ, Kaminsky JC, Yablonski S, Durrant JD (2019) Dimorphite-DL: An\n",
      "open-source program for enumerating the ionization states of drug-like small\n",
      "molecules. J Cheminform 11:14. doi:10.1186/s13321-019-0336-9.\n",
      "\n",
      "Proposed mol at pH 7.4: O=C([O-])c1cc(OCc2cc(Br)cc(Br)c2)ccc1O\n"
     ]
    },
    {
     "name": "stderr",
     "output_type": "stream",
     "text": [
      "[query.py:297 - calculate_microstate_pka_values()] Using dimorphite-dl to identify protonation sites.\n"
     ]
    },
    {
     "name": "stdout",
     "output_type": "stream",
     "text": [
      "O=C(O)c1cc(OCc2cccc(-c3cccc(Oc4ccccc4)c3)c2)ccc1O\n",
      "<rdkit.Chem.rdchem.Mol object at 0x7f9b2919beb0>\n",
      "\n",
      "For help, use: python dimorphite_dl.py --help\n",
      "\n",
      "If you use Dimorphite-DL in your research, please cite:\n",
      "Ropp PJ, Kaminsky JC, Yablonski S, Durrant JD (2019) Dimorphite-DL: An\n",
      "open-source program for enumerating the ionization states of drug-like small\n",
      "molecules. J Cheminform 11:14. doi:10.1186/s13321-019-0336-9.\n",
      "\n",
      "O=C(O)c1cc(OCc2cccc(-c3cccc(Oc4ccccc4)c3)c2)ccc1O\n",
      "<rdkit.Chem.rdchem.Mol object at 0x7fa44a9d0eb0>\n",
      "\n",
      "For help, use: python dimorphite_dl.py --help\n",
      "\n",
      "If you use Dimorphite-DL in your research, please cite:\n",
      "Ropp PJ, Kaminsky JC, Yablonski S, Durrant JD (2019) Dimorphite-DL: An\n",
      "open-source program for enumerating the ionization states of drug-like small\n",
      "molecules. J Cheminform 11:14. doi:10.1186/s13321-019-0336-9.\n",
      "\n",
      "Proposed mol at pH 7.4: O=C([O-])c1cc(OCc2cccc(-c3cccc(Oc4ccccc4)c3)c2)ccc1O\n"
     ]
    },
    {
     "name": "stderr",
     "output_type": "stream",
     "text": [
      "[query.py:297 - calculate_microstate_pka_values()] Using dimorphite-dl to identify protonation sites.\n"
     ]
    },
    {
     "name": "stdout",
     "output_type": "stream",
     "text": [
      "CCN(Cc1ccccc1)C(=O)Nc1cc(-c2ccc(Oc3ccccc3)cc2)sc1C(=O)O\n",
      "<rdkit.Chem.rdchem.Mol object at 0x7f432139beb0>\n",
      "\n",
      "For help, use: python dimorphite_dl.py --help\n",
      "\n",
      "If you use Dimorphite-DL in your research, please cite:\n",
      "Ropp PJ, Kaminsky JC, Yablonski S, Durrant JD (2019) Dimorphite-DL: An\n",
      "open-source program for enumerating the ionization states of drug-like small\n",
      "molecules. J Cheminform 11:14. doi:10.1186/s13321-019-0336-9.\n",
      "\n",
      "CCN(Cc1ccccc1)C(=O)Nc1cc(-c2ccc(Oc3ccccc3)cc2)sc1C(=O)O\n",
      "<rdkit.Chem.rdchem.Mol object at 0x7fc30797beb0>\n",
      "\n",
      "For help, use: python dimorphite_dl.py --help\n",
      "\n",
      "If you use Dimorphite-DL in your research, please cite:\n",
      "Ropp PJ, Kaminsky JC, Yablonski S, Durrant JD (2019) Dimorphite-DL: An\n",
      "open-source program for enumerating the ionization states of drug-like small\n",
      "molecules. J Cheminform 11:14. doi:10.1186/s13321-019-0336-9.\n",
      "\n",
      "Proposed mol at pH 7.4: CC[NH+](Cc1ccccc1)C(=O)Nc1cc(-c2ccc(Oc3ccccc3)cc2)sc1C(=O)[O-]\n"
     ]
    },
    {
     "name": "stderr",
     "output_type": "stream",
     "text": [
      "[query.py:297 - calculate_microstate_pka_values()] Using dimorphite-dl to identify protonation sites.\n"
     ]
    },
    {
     "name": "stdout",
     "output_type": "stream",
     "text": [
      "O=C(O)c1cc(OCc2cc(C3CC3)cc(C3CC3)c2)ccc1O\n",
      "<rdkit.Chem.rdchem.Mol object at 0x7f6f961eee40>\n",
      "\n",
      "For help, use: python dimorphite_dl.py --help\n",
      "\n",
      "If you use Dimorphite-DL in your research, please cite:\n",
      "Ropp PJ, Kaminsky JC, Yablonski S, Durrant JD (2019) Dimorphite-DL: An\n",
      "open-source program for enumerating the ionization states of drug-like small\n",
      "molecules. J Cheminform 11:14. doi:10.1186/s13321-019-0336-9.\n",
      "\n",
      "O=C(O)c1cc(OCc2cc(C3CC3)cc(C3CC3)c2)ccc1O\n",
      "<rdkit.Chem.rdchem.Mol object at 0x7f70bf610e40>\n",
      "\n",
      "For help, use: python dimorphite_dl.py --help\n",
      "\n",
      "If you use Dimorphite-DL in your research, please cite:\n",
      "Ropp PJ, Kaminsky JC, Yablonski S, Durrant JD (2019) Dimorphite-DL: An\n",
      "open-source program for enumerating the ionization states of drug-like small\n",
      "molecules. J Cheminform 11:14. doi:10.1186/s13321-019-0336-9.\n",
      "\n",
      "Proposed mol at pH 7.4: O=C([O-])c1cc(OCc2cc(C3CC3)cc(C3CC3)c2)ccc1O\n"
     ]
    },
    {
     "name": "stderr",
     "output_type": "stream",
     "text": [
      "[query.py:297 - calculate_microstate_pka_values()] Using dimorphite-dl to identify protonation sites.\n"
     ]
    },
    {
     "name": "stdout",
     "output_type": "stream",
     "text": [
      "CCCCN(C(=O)Nc1c(-c2ccc(Oc3ccccc3)cc2)csc1C(=O)O)c1ccccc1\n",
      "<rdkit.Chem.rdchem.Mol object at 0x7fd0fd610eb0>\n",
      "\n",
      "For help, use: python dimorphite_dl.py --help\n",
      "\n",
      "If you use Dimorphite-DL in your research, please cite:\n",
      "Ropp PJ, Kaminsky JC, Yablonski S, Durrant JD (2019) Dimorphite-DL: An\n",
      "open-source program for enumerating the ionization states of drug-like small\n",
      "molecules. J Cheminform 11:14. doi:10.1186/s13321-019-0336-9.\n",
      "\n",
      "CCCCN(C(=O)Nc1c(-c2ccc(Oc3ccccc3)cc2)csc1C(=O)O)c1ccccc1\n",
      "<rdkit.Chem.rdchem.Mol object at 0x7ff3845cfeb0>\n",
      "\n",
      "For help, use: python dimorphite_dl.py --help\n",
      "\n",
      "If you use Dimorphite-DL in your research, please cite:\n",
      "Ropp PJ, Kaminsky JC, Yablonski S, Durrant JD (2019) Dimorphite-DL: An\n",
      "open-source program for enumerating the ionization states of drug-like small\n",
      "molecules. J Cheminform 11:14. doi:10.1186/s13321-019-0336-9.\n",
      "\n",
      "Proposed mol at pH 7.4: CCCC[NH+](C(=O)Nc1c(-c2ccc(Oc3ccccc3)cc2)csc1C(=O)[O-])c1ccccc1\n"
     ]
    },
    {
     "name": "stderr",
     "output_type": "stream",
     "text": [
      "[query.py:297 - calculate_microstate_pka_values()] Using dimorphite-dl to identify protonation sites.\n"
     ]
    },
    {
     "name": "stdout",
     "output_type": "stream",
     "text": [
      "CCCCN(C(=O)Nc1c(-c2cc(Cl)ccc2Cl)csc1C(=O)O)c1ccccc1\n",
      "<rdkit.Chem.rdchem.Mol object at 0x7fd5f5908eb0>\n",
      "\n",
      "For help, use: python dimorphite_dl.py --help\n",
      "\n",
      "If you use Dimorphite-DL in your research, please cite:\n",
      "Ropp PJ, Kaminsky JC, Yablonski S, Durrant JD (2019) Dimorphite-DL: An\n",
      "open-source program for enumerating the ionization states of drug-like small\n",
      "molecules. J Cheminform 11:14. doi:10.1186/s13321-019-0336-9.\n",
      "\n",
      "CCCCN(C(=O)Nc1c(-c2cc(Cl)ccc2Cl)csc1C(=O)O)c1ccccc1\n",
      "<rdkit.Chem.rdchem.Mol object at 0x7fddf0f88eb0>\n",
      "\n",
      "For help, use: python dimorphite_dl.py --help\n",
      "\n",
      "If you use Dimorphite-DL in your research, please cite:\n",
      "Ropp PJ, Kaminsky JC, Yablonski S, Durrant JD (2019) Dimorphite-DL: An\n",
      "open-source program for enumerating the ionization states of drug-like small\n",
      "molecules. J Cheminform 11:14. doi:10.1186/s13321-019-0336-9.\n",
      "\n",
      "Proposed mol at pH 7.4: CCCC[NH+](C(=O)Nc1c(-c2cc(Cl)ccc2Cl)csc1C(=O)[O-])c1ccccc1\n"
     ]
    },
    {
     "name": "stderr",
     "output_type": "stream",
     "text": [
      "[query.py:297 - calculate_microstate_pka_values()] Using dimorphite-dl to identify protonation sites.\n"
     ]
    },
    {
     "name": "stdout",
     "output_type": "stream",
     "text": [
      "O=C(O)c1cc(OCc2cccc(-c3cccc(OCc4cccc(Cl)c4)c3)c2)ccc1O\n",
      "<rdkit.Chem.rdchem.Mol object at 0x7f789b275eb0>\n",
      "\n",
      "For help, use: python dimorphite_dl.py --help\n",
      "\n",
      "If you use Dimorphite-DL in your research, please cite:\n",
      "Ropp PJ, Kaminsky JC, Yablonski S, Durrant JD (2019) Dimorphite-DL: An\n",
      "open-source program for enumerating the ionization states of drug-like small\n",
      "molecules. J Cheminform 11:14. doi:10.1186/s13321-019-0336-9.\n",
      "\n",
      "O=C(O)c1cc(OCc2cccc(-c3cccc(OCc4cccc(Cl)c4)c3)c2)ccc1O\n",
      "<rdkit.Chem.rdchem.Mol object at 0x7f6d4f3f4eb0>\n",
      "\n",
      "For help, use: python dimorphite_dl.py --help\n",
      "\n",
      "If you use Dimorphite-DL in your research, please cite:\n",
      "Ropp PJ, Kaminsky JC, Yablonski S, Durrant JD (2019) Dimorphite-DL: An\n",
      "open-source program for enumerating the ionization states of drug-like small\n",
      "molecules. J Cheminform 11:14. doi:10.1186/s13321-019-0336-9.\n",
      "\n",
      "Proposed mol at pH 7.4: O=C([O-])c1cc(OCc2cccc(-c3cccc(OCc4cccc(Cl)c4)c3)c2)ccc1O\n"
     ]
    },
    {
     "name": "stderr",
     "output_type": "stream",
     "text": [
      "[query.py:297 - calculate_microstate_pka_values()] Using dimorphite-dl to identify protonation sites.\n"
     ]
    },
    {
     "name": "stdout",
     "output_type": "stream",
     "text": [
      "COc1ccc(COc2cc(-c3cccc(COc4ccc(O)c(C(=O)O)c4)c3)cc(C(F)(F)F)c2)cc1\n",
      "<rdkit.Chem.rdchem.Mol object at 0x7fe73c202e40>\n",
      "\n",
      "For help, use: python dimorphite_dl.py --help\n",
      "\n",
      "If you use Dimorphite-DL in your research, please cite:\n",
      "Ropp PJ, Kaminsky JC, Yablonski S, Durrant JD (2019) Dimorphite-DL: An\n",
      "open-source program for enumerating the ionization states of drug-like small\n",
      "molecules. J Cheminform 11:14. doi:10.1186/s13321-019-0336-9.\n",
      "\n",
      "COc1ccc(COc2cc(-c3cccc(COc4ccc(O)c(C(=O)O)c4)c3)cc(C(F)(F)F)c2)cc1\n",
      "<rdkit.Chem.rdchem.Mol object at 0x7f9a5664de40>\n",
      "\n",
      "For help, use: python dimorphite_dl.py --help\n",
      "\n",
      "If you use Dimorphite-DL in your research, please cite:\n",
      "Ropp PJ, Kaminsky JC, Yablonski S, Durrant JD (2019) Dimorphite-DL: An\n",
      "open-source program for enumerating the ionization states of drug-like small\n",
      "molecules. J Cheminform 11:14. doi:10.1186/s13321-019-0336-9.\n",
      "\n",
      "Proposed mol at pH 7.4: COc1ccc(COc2cc(-c3cccc(COc4ccc(O)c(C(=O)[O-])c4)c3)cc(C(F)(F)F)c2)cc1\n"
     ]
    },
    {
     "name": "stderr",
     "output_type": "stream",
     "text": [
      "[query.py:297 - calculate_microstate_pka_values()] Using dimorphite-dl to identify protonation sites.\n"
     ]
    },
    {
     "name": "stdout",
     "output_type": "stream",
     "text": [
      "COc1cccc(-c2cccc(COc3ccc(O)c(C(=O)O)c3)c2)c1\n",
      "<rdkit.Chem.rdchem.Mol object at 0x7f2e25196e40>\n",
      "\n",
      "For help, use: python dimorphite_dl.py --help\n",
      "\n",
      "If you use Dimorphite-DL in your research, please cite:\n",
      "Ropp PJ, Kaminsky JC, Yablonski S, Durrant JD (2019) Dimorphite-DL: An\n",
      "open-source program for enumerating the ionization states of drug-like small\n",
      "molecules. J Cheminform 11:14. doi:10.1186/s13321-019-0336-9.\n",
      "\n",
      "COc1cccc(-c2cccc(COc3ccc(O)c(C(=O)O)c3)c2)c1\n",
      "<rdkit.Chem.rdchem.Mol object at 0x7fdb3e227e40>\n",
      "\n",
      "For help, use: python dimorphite_dl.py --help\n",
      "\n",
      "If you use Dimorphite-DL in your research, please cite:\n",
      "Ropp PJ, Kaminsky JC, Yablonski S, Durrant JD (2019) Dimorphite-DL: An\n",
      "open-source program for enumerating the ionization states of drug-like small\n",
      "molecules. J Cheminform 11:14. doi:10.1186/s13321-019-0336-9.\n",
      "\n",
      "Proposed mol at pH 7.4: COc1cccc(-c2cccc(COc3ccc(O)c(C(=O)[O-])c3)c2)c1\n"
     ]
    },
    {
     "name": "stderr",
     "output_type": "stream",
     "text": [
      "[query.py:297 - calculate_microstate_pka_values()] Using dimorphite-dl to identify protonation sites.\n"
     ]
    },
    {
     "name": "stdout",
     "output_type": "stream",
     "text": [
      "CC(=O)Nc1ccc(OCc2cn(CCNC(=O)C(CC(C)C)C(=O)NO)nn2)cc1\n",
      "<rdkit.Chem.rdchem.Mol object at 0x7f83c1e42eb0>\n",
      "\n",
      "For help, use: python dimorphite_dl.py --help\n",
      "\n",
      "If you use Dimorphite-DL in your research, please cite:\n",
      "Ropp PJ, Kaminsky JC, Yablonski S, Durrant JD (2019) Dimorphite-DL: An\n",
      "open-source program for enumerating the ionization states of drug-like small\n",
      "molecules. J Cheminform 11:14. doi:10.1186/s13321-019-0336-9.\n",
      "\n",
      "CC(=O)Nc1ccc(OCc2cn(CCNC(=O)C(CC(C)C)C(=O)NO)nn2)cc1\n",
      "<rdkit.Chem.rdchem.Mol object at 0x7f5e15155eb0>\n",
      "\n",
      "For help, use: python dimorphite_dl.py --help\n",
      "\n",
      "If you use Dimorphite-DL in your research, please cite:\n",
      "Ropp PJ, Kaminsky JC, Yablonski S, Durrant JD (2019) Dimorphite-DL: An\n",
      "open-source program for enumerating the ionization states of drug-like small\n",
      "molecules. J Cheminform 11:14. doi:10.1186/s13321-019-0336-9.\n",
      "\n",
      "WARNING: Skipping poorly formed SMILES string: CC(=O)[N-]c1ccc(OCc2c[n+](CC[N-]C(=O)C(CC(C)C)C(=O)N[O-])nn2)cc1\n",
      "WARNING: Skipping poorly formed SMILES string: CC(=O)[N-]c1ccc(OCc2c[n+](CC[N-]C(=O)C(CC(C)C)C(=O)NO)nn2)cc1\n",
      "WARNING: Skipping poorly formed SMILES string: CC(=O)Nc1ccc(OCc2c[n+](CC[N-]C(=O)C(CC(C)C)C(=O)N[O-])nn2)cc1\n",
      "WARNING: Skipping poorly formed SMILES string: CC(=O)Nc1ccc(OCc2c[n+](CC[N-]C(=O)C(CC(C)C)C(=O)NO)nn2)cc1\n",
      "WARNING: Skipping poorly formed SMILES string: CC(=O)[N-]c1ccc(OCc2c[n+](CCNC(=O)C(CC(C)C)C(=O)N[O-])nn2)cc1\n",
      "WARNING: Skipping poorly formed SMILES string: CC(=O)[N-]c1ccc(OCc2c[n+](CCNC(=O)C(CC(C)C)C(=O)NO)nn2)cc1\n",
      "WARNING: Skipping poorly formed SMILES string: CC(=O)Nc1ccc(OCc2c[n+](CCNC(=O)C(CC(C)C)C(=O)N[O-])nn2)cc1\n",
      "WARNING: Skipping poorly formed SMILES string: CC(=O)Nc1ccc(OCc2c[n+](CCNC(=O)C(CC(C)C)C(=O)NO)nn2)cc1\n",
      "WARNING: Skipping poorly formed SMILES string: CC(=O)[N-]c1ccc(OCc2c[n+](CC[N-]C(=O)C(CC(C)C)C(=O)N[O-])nn2)cc1\n",
      "WARNING: Skipping poorly formed SMILES string: CC(=O)[N-]c1ccc(OCc2c[n+](CC[N-]C(=O)C(CC(C)C)C(=O)NO)nn2)cc1\n",
      "WARNING: Skipping poorly formed SMILES string: CC(=O)Nc1ccc(OCc2c[n+](CC[N-]C(=O)C(CC(C)C)C(=O)N[O-])nn2)cc1\n",
      "WARNING: Skipping poorly formed SMILES string: CC(=O)Nc1ccc(OCc2c[n+](CC[N-]C(=O)C(CC(C)C)C(=O)NO)nn2)cc1\n",
      "WARNING: Skipping poorly formed SMILES string: CC(=O)[N-]c1ccc(OCc2c[n+](CCNC(=O)C(CC(C)C)C(=O)N[O-])nn2)cc1\n",
      "WARNING: Skipping poorly formed SMILES string: CC(=O)[N-]c1ccc(OCc2c[n+](CCNC(=O)C(CC(C)C)C(=O)NO)nn2)cc1\n",
      "WARNING: Skipping poorly formed SMILES string: CC(=O)Nc1ccc(OCc2c[n+](CCNC(=O)C(CC(C)C)C(=O)N[O-])nn2)cc1\n",
      "WARNING: Skipping poorly formed SMILES string: CC(=O)Nc1ccc(OCc2c[n+](CCNC(=O)C(CC(C)C)C(=O)NO)nn2)cc1\n",
      "Proposed mol at pH 7.4: CC(=O)Nc1ccc(OCc2cn(CCNC(=O)C(CC(C)C)C(=O)NO)nn2)cc1\n"
     ]
    },
    {
     "name": "stderr",
     "output_type": "stream",
     "text": [
      "[query.py:297 - calculate_microstate_pka_values()] Using dimorphite-dl to identify protonation sites.\n"
     ]
    },
    {
     "name": "stdout",
     "output_type": "stream",
     "text": [
      "O=C(O)c1cc(NCc2cccc3[nH]ncc23)ccc1O\n",
      "<rdkit.Chem.rdchem.Mol object at 0x7f76edfc2e40>\n",
      "\n",
      "For help, use: python dimorphite_dl.py --help\n",
      "\n",
      "If you use Dimorphite-DL in your research, please cite:\n",
      "Ropp PJ, Kaminsky JC, Yablonski S, Durrant JD (2019) Dimorphite-DL: An\n",
      "open-source program for enumerating the ionization states of drug-like small\n",
      "molecules. J Cheminform 11:14. doi:10.1186/s13321-019-0336-9.\n",
      "\n",
      "O=C(O)c1cc(NCc2cccc3[nH]ncc23)ccc1O\n",
      "<rdkit.Chem.rdchem.Mol object at 0x7f2dd8164e40>\n",
      "\n",
      "For help, use: python dimorphite_dl.py --help\n",
      "\n",
      "If you use Dimorphite-DL in your research, please cite:\n",
      "Ropp PJ, Kaminsky JC, Yablonski S, Durrant JD (2019) Dimorphite-DL: An\n",
      "open-source program for enumerating the ionization states of drug-like small\n",
      "molecules. J Cheminform 11:14. doi:10.1186/s13321-019-0336-9.\n",
      "\n",
      "Proposed mol at pH 7.4: O=C([O-])c1cc(NCc2cccc3[nH]ncc23)ccc1O\n"
     ]
    },
    {
     "name": "stderr",
     "output_type": "stream",
     "text": [
      "[query.py:297 - calculate_microstate_pka_values()] Using dimorphite-dl to identify protonation sites.\n"
     ]
    },
    {
     "name": "stdout",
     "output_type": "stream",
     "text": [
      "CC(C)(C)COS(=O)(=O)c1cccc(-c2cccc(COc3ccc(O)c(C(=O)O)c3)c2)c1\n",
      "<rdkit.Chem.rdchem.Mol object at 0x7f6d4532eeb0>\n",
      "\n",
      "For help, use: python dimorphite_dl.py --help\n",
      "\n",
      "If you use Dimorphite-DL in your research, please cite:\n",
      "Ropp PJ, Kaminsky JC, Yablonski S, Durrant JD (2019) Dimorphite-DL: An\n",
      "open-source program for enumerating the ionization states of drug-like small\n",
      "molecules. J Cheminform 11:14. doi:10.1186/s13321-019-0336-9.\n",
      "\n",
      "CC(C)(C)COS(=O)(=O)c1cccc(-c2cccc(COc3ccc(O)c(C(=O)O)c3)c2)c1\n",
      "<rdkit.Chem.rdchem.Mol object at 0x7ff75aa28eb0>\n",
      "\n",
      "For help, use: python dimorphite_dl.py --help\n",
      "\n",
      "If you use Dimorphite-DL in your research, please cite:\n",
      "Ropp PJ, Kaminsky JC, Yablonski S, Durrant JD (2019) Dimorphite-DL: An\n",
      "open-source program for enumerating the ionization states of drug-like small\n",
      "molecules. J Cheminform 11:14. doi:10.1186/s13321-019-0336-9.\n",
      "\n",
      "Proposed mol at pH 7.4: CC(C)(C)COS(=O)(=O)c1cccc(-c2cccc(COc3ccc(O)c(C(=O)[O-])c3)c2)c1\n"
     ]
    },
    {
     "name": "stderr",
     "output_type": "stream",
     "text": [
      "[query.py:297 - calculate_microstate_pka_values()] Using dimorphite-dl to identify protonation sites.\n"
     ]
    },
    {
     "name": "stdout",
     "output_type": "stream",
     "text": [
      "O=C(O)c1cc(OCc2cccc(-c3cccc(OCC4CCCOC4)c3)c2)ccc1O\n",
      "<rdkit.Chem.rdchem.Mol object at 0x7fb52ceaeeb0>\n",
      "\n",
      "For help, use: python dimorphite_dl.py --help\n",
      "\n",
      "If you use Dimorphite-DL in your research, please cite:\n",
      "Ropp PJ, Kaminsky JC, Yablonski S, Durrant JD (2019) Dimorphite-DL: An\n",
      "open-source program for enumerating the ionization states of drug-like small\n",
      "molecules. J Cheminform 11:14. doi:10.1186/s13321-019-0336-9.\n",
      "\n",
      "O=C(O)c1cc(OCc2cccc(-c3cccc(OCC4CCCOC4)c3)c2)ccc1O\n",
      "<rdkit.Chem.rdchem.Mol object at 0x7f942622eeb0>\n",
      "\n",
      "For help, use: python dimorphite_dl.py --help\n",
      "\n",
      "If you use Dimorphite-DL in your research, please cite:\n",
      "Ropp PJ, Kaminsky JC, Yablonski S, Durrant JD (2019) Dimorphite-DL: An\n",
      "open-source program for enumerating the ionization states of drug-like small\n",
      "molecules. J Cheminform 11:14. doi:10.1186/s13321-019-0336-9.\n",
      "\n",
      "Proposed mol at pH 7.4: O=C([O-])c1cc(OCc2cccc(-c3cccc(OCC4CCCOC4)c3)c2)ccc1O\n"
     ]
    },
    {
     "name": "stderr",
     "output_type": "stream",
     "text": [
      "[query.py:297 - calculate_microstate_pka_values()] Using dimorphite-dl to identify protonation sites.\n"
     ]
    },
    {
     "name": "stdout",
     "output_type": "stream",
     "text": [
      "CC(C)(C)NS(=O)(=O)c1cccc(-c2cccc(COc3ccc(O)c(C(=O)O)c3)c2)c1\n",
      "<rdkit.Chem.rdchem.Mol object at 0x7ff57a80ceb0>\n",
      "\n",
      "For help, use: python dimorphite_dl.py --help\n",
      "\n",
      "If you use Dimorphite-DL in your research, please cite:\n",
      "Ropp PJ, Kaminsky JC, Yablonski S, Durrant JD (2019) Dimorphite-DL: An\n",
      "open-source program for enumerating the ionization states of drug-like small\n",
      "molecules. J Cheminform 11:14. doi:10.1186/s13321-019-0336-9.\n",
      "\n",
      "CC(C)(C)NS(=O)(=O)c1cccc(-c2cccc(COc3ccc(O)c(C(=O)O)c3)c2)c1\n",
      "<rdkit.Chem.rdchem.Mol object at 0x7fa737ff5eb0>\n",
      "\n",
      "For help, use: python dimorphite_dl.py --help\n",
      "\n",
      "If you use Dimorphite-DL in your research, please cite:\n",
      "Ropp PJ, Kaminsky JC, Yablonski S, Durrant JD (2019) Dimorphite-DL: An\n",
      "open-source program for enumerating the ionization states of drug-like small\n",
      "molecules. J Cheminform 11:14. doi:10.1186/s13321-019-0336-9.\n",
      "\n",
      "Proposed mol at pH 7.4: CC(C)(C)NS(=O)(=O)c1cccc(-c2cccc(COc3ccc(O)c(C(=O)[O-])c3)c2)c1\n"
     ]
    },
    {
     "name": "stderr",
     "output_type": "stream",
     "text": [
      "[query.py:297 - calculate_microstate_pka_values()] Using dimorphite-dl to identify protonation sites.\n"
     ]
    },
    {
     "name": "stdout",
     "output_type": "stream",
     "text": [
      "O=C(O)c1cc(OCc2cc(-c3ccoc3)cc(-c3ccoc3)c2)ccc1O\n",
      "<rdkit.Chem.rdchem.Mol object at 0x7f8ceb7e4e40>\n",
      "\n",
      "For help, use: python dimorphite_dl.py --help\n",
      "\n",
      "If you use Dimorphite-DL in your research, please cite:\n",
      "Ropp PJ, Kaminsky JC, Yablonski S, Durrant JD (2019) Dimorphite-DL: An\n",
      "open-source program for enumerating the ionization states of drug-like small\n",
      "molecules. J Cheminform 11:14. doi:10.1186/s13321-019-0336-9.\n",
      "\n",
      "O=C(O)c1cc(OCc2cc(-c3ccoc3)cc(-c3ccoc3)c2)ccc1O\n",
      "<rdkit.Chem.rdchem.Mol object at 0x7fcdae7fce40>\n",
      "\n",
      "For help, use: python dimorphite_dl.py --help\n",
      "\n",
      "If you use Dimorphite-DL in your research, please cite:\n",
      "Ropp PJ, Kaminsky JC, Yablonski S, Durrant JD (2019) Dimorphite-DL: An\n",
      "open-source program for enumerating the ionization states of drug-like small\n",
      "molecules. J Cheminform 11:14. doi:10.1186/s13321-019-0336-9.\n",
      "\n",
      "Proposed mol at pH 7.4: O=C([O-])c1cc(OCc2cc(-c3ccoc3)cc(-c3ccoc3)c2)ccc1O\n"
     ]
    },
    {
     "name": "stderr",
     "output_type": "stream",
     "text": [
      "[query.py:297 - calculate_microstate_pka_values()] Using dimorphite-dl to identify protonation sites.\n"
     ]
    },
    {
     "name": "stdout",
     "output_type": "stream",
     "text": [
      "CC(=O)Nc1ccc(OCc2cc(C(C)(C)C)cc(C(C)(C)C)c2)cc1C(=O)O\n",
      "<rdkit.Chem.rdchem.Mol object at 0x7f10b0173eb0>\n",
      "\n",
      "For help, use: python dimorphite_dl.py --help\n",
      "\n",
      "If you use Dimorphite-DL in your research, please cite:\n",
      "Ropp PJ, Kaminsky JC, Yablonski S, Durrant JD (2019) Dimorphite-DL: An\n",
      "open-source program for enumerating the ionization states of drug-like small\n",
      "molecules. J Cheminform 11:14. doi:10.1186/s13321-019-0336-9.\n",
      "\n",
      "CC(=O)Nc1ccc(OCc2cc(C(C)(C)C)cc(C(C)(C)C)c2)cc1C(=O)O\n",
      "<rdkit.Chem.rdchem.Mol object at 0x7f953daa3eb0>\n",
      "\n",
      "For help, use: python dimorphite_dl.py --help\n",
      "\n",
      "If you use Dimorphite-DL in your research, please cite:\n",
      "Ropp PJ, Kaminsky JC, Yablonski S, Durrant JD (2019) Dimorphite-DL: An\n",
      "open-source program for enumerating the ionization states of drug-like small\n",
      "molecules. J Cheminform 11:14. doi:10.1186/s13321-019-0336-9.\n",
      "\n",
      "Proposed mol at pH 7.4: CC(=O)Nc1ccc(OCc2cc(C(C)(C)C)cc(C(C)(C)C)c2)cc1C(=O)[O-]\n"
     ]
    },
    {
     "name": "stderr",
     "output_type": "stream",
     "text": [
      "[query.py:297 - calculate_microstate_pka_values()] Using dimorphite-dl to identify protonation sites.\n"
     ]
    },
    {
     "name": "stdout",
     "output_type": "stream",
     "text": [
      "CC(C)(C)OC(=O)Nc1ccc(OCc2cc(C(C)(C)C)cc(C(C)(C)C)c2)cc1C(=O)O\n",
      "<rdkit.Chem.rdchem.Mol object at 0x7f87360d0eb0>\n",
      "\n",
      "For help, use: python dimorphite_dl.py --help\n",
      "\n",
      "If you use Dimorphite-DL in your research, please cite:\n",
      "Ropp PJ, Kaminsky JC, Yablonski S, Durrant JD (2019) Dimorphite-DL: An\n",
      "open-source program for enumerating the ionization states of drug-like small\n",
      "molecules. J Cheminform 11:14. doi:10.1186/s13321-019-0336-9.\n",
      "\n",
      "CC(C)(C)OC(=O)Nc1ccc(OCc2cc(C(C)(C)C)cc(C(C)(C)C)c2)cc1C(=O)O\n",
      "<rdkit.Chem.rdchem.Mol object at 0x7f13ca2bbeb0>\n",
      "\n",
      "For help, use: python dimorphite_dl.py --help\n",
      "\n",
      "If you use Dimorphite-DL in your research, please cite:\n",
      "Ropp PJ, Kaminsky JC, Yablonski S, Durrant JD (2019) Dimorphite-DL: An\n",
      "open-source program for enumerating the ionization states of drug-like small\n",
      "molecules. J Cheminform 11:14. doi:10.1186/s13321-019-0336-9.\n",
      "\n",
      "Proposed mol at pH 7.4: CC(C)(C)OC(=O)Nc1ccc(OCc2cc(C(C)(C)C)cc(C(C)(C)C)c2)cc1C(=O)[O-]\n"
     ]
    },
    {
     "name": "stderr",
     "output_type": "stream",
     "text": [
      "[query.py:297 - calculate_microstate_pka_values()] Using dimorphite-dl to identify protonation sites.\n"
     ]
    },
    {
     "name": "stdout",
     "output_type": "stream",
     "text": [
      "O=C(O)c1cc(OCc2cc(Cl)cc(-c3cccc(OCc4cccc(Cl)c4)c3)c2)ccc1O\n",
      "<rdkit.Chem.rdchem.Mol object at 0x7f499b750eb0>\n",
      "\n",
      "For help, use: python dimorphite_dl.py --help\n",
      "\n",
      "If you use Dimorphite-DL in your research, please cite:\n",
      "Ropp PJ, Kaminsky JC, Yablonski S, Durrant JD (2019) Dimorphite-DL: An\n",
      "open-source program for enumerating the ionization states of drug-like small\n",
      "molecules. J Cheminform 11:14. doi:10.1186/s13321-019-0336-9.\n",
      "\n",
      "O=C(O)c1cc(OCc2cc(Cl)cc(-c3cccc(OCc4cccc(Cl)c4)c3)c2)ccc1O\n",
      "<rdkit.Chem.rdchem.Mol object at 0x7f0757cc8eb0>\n",
      "\n",
      "For help, use: python dimorphite_dl.py --help\n",
      "\n",
      "If you use Dimorphite-DL in your research, please cite:\n",
      "Ropp PJ, Kaminsky JC, Yablonski S, Durrant JD (2019) Dimorphite-DL: An\n",
      "open-source program for enumerating the ionization states of drug-like small\n",
      "molecules. J Cheminform 11:14. doi:10.1186/s13321-019-0336-9.\n",
      "\n",
      "Proposed mol at pH 7.4: O=C([O-])c1cc(OCc2cc(Cl)cc(-c3cccc(OCc4cccc(Cl)c4)c3)c2)ccc1O\n"
     ]
    },
    {
     "name": "stderr",
     "output_type": "stream",
     "text": [
      "[query.py:297 - calculate_microstate_pka_values()] Using dimorphite-dl to identify protonation sites.\n"
     ]
    },
    {
     "name": "stdout",
     "output_type": "stream",
     "text": [
      "CC(C)(C)c1cc(COc2ccc(NS(C)(=O)=O)c(C(=O)O)c2)cc(C(C)(C)C)c1\n",
      "<rdkit.Chem.rdchem.Mol object at 0x7f20c9818eb0>\n",
      "\n",
      "For help, use: python dimorphite_dl.py --help\n",
      "\n",
      "If you use Dimorphite-DL in your research, please cite:\n",
      "Ropp PJ, Kaminsky JC, Yablonski S, Durrant JD (2019) Dimorphite-DL: An\n",
      "open-source program for enumerating the ionization states of drug-like small\n",
      "molecules. J Cheminform 11:14. doi:10.1186/s13321-019-0336-9.\n",
      "\n",
      "CC(C)(C)c1cc(COc2ccc(NS(C)(=O)=O)c(C(=O)O)c2)cc(C(C)(C)C)c1\n",
      "<rdkit.Chem.rdchem.Mol object at 0x7f3295fbceb0>\n",
      "\n",
      "For help, use: python dimorphite_dl.py --help\n",
      "\n",
      "If you use Dimorphite-DL in your research, please cite:\n",
      "Ropp PJ, Kaminsky JC, Yablonski S, Durrant JD (2019) Dimorphite-DL: An\n",
      "open-source program for enumerating the ionization states of drug-like small\n",
      "molecules. J Cheminform 11:14. doi:10.1186/s13321-019-0336-9.\n",
      "\n",
      "Proposed mol at pH 7.4: CC(C)(C)c1cc(COc2ccc(NS(C)(=O)=O)c(C(=O)[O-])c2)cc(C(C)(C)C)c1\n"
     ]
    },
    {
     "name": "stderr",
     "output_type": "stream",
     "text": [
      "[query.py:297 - calculate_microstate_pka_values()] Using dimorphite-dl to identify protonation sites.\n"
     ]
    },
    {
     "name": "stdout",
     "output_type": "stream",
     "text": [
      "O=C(O)c1cc(OCc2cccc(-c3ccc(S(=O)(=O)N4CCCCC4)cc3)c2)ccc1O\n",
      "<rdkit.Chem.rdchem.Mol object at 0x7fd429dfbeb0>\n",
      "\n",
      "For help, use: python dimorphite_dl.py --help\n",
      "\n",
      "If you use Dimorphite-DL in your research, please cite:\n",
      "Ropp PJ, Kaminsky JC, Yablonski S, Durrant JD (2019) Dimorphite-DL: An\n",
      "open-source program for enumerating the ionization states of drug-like small\n",
      "molecules. J Cheminform 11:14. doi:10.1186/s13321-019-0336-9.\n",
      "\n",
      "O=C(O)c1cc(OCc2cccc(-c3ccc(S(=O)(=O)N4CCCCC4)cc3)c2)ccc1O\n",
      "<rdkit.Chem.rdchem.Mol object at 0x7f9826dbceb0>\n",
      "\n",
      "For help, use: python dimorphite_dl.py --help\n",
      "\n",
      "If you use Dimorphite-DL in your research, please cite:\n",
      "Ropp PJ, Kaminsky JC, Yablonski S, Durrant JD (2019) Dimorphite-DL: An\n",
      "open-source program for enumerating the ionization states of drug-like small\n",
      "molecules. J Cheminform 11:14. doi:10.1186/s13321-019-0336-9.\n",
      "\n",
      "Proposed mol at pH 7.4: O=C([O-])c1cc(OCc2cccc(-c3ccc(S(=O)(=O)[NH+]4CCCCC4)cc3)c2)ccc1O\n"
     ]
    },
    {
     "name": "stderr",
     "output_type": "stream",
     "text": [
      "[query.py:297 - calculate_microstate_pka_values()] Using dimorphite-dl to identify protonation sites.\n"
     ]
    },
    {
     "name": "stdout",
     "output_type": "stream",
     "text": [
      "O=C(O)c1cc(OCc2cc(-c3ccoc3C(=O)O)cc(-c3ccoc3C(=O)O)c2)ccc1O\n",
      "<rdkit.Chem.rdchem.Mol object at 0x7fa5f00bbeb0>\n",
      "\n",
      "For help, use: python dimorphite_dl.py --help\n",
      "\n",
      "If you use Dimorphite-DL in your research, please cite:\n",
      "Ropp PJ, Kaminsky JC, Yablonski S, Durrant JD (2019) Dimorphite-DL: An\n",
      "open-source program for enumerating the ionization states of drug-like small\n",
      "molecules. J Cheminform 11:14. doi:10.1186/s13321-019-0336-9.\n",
      "\n",
      "O=C(O)c1cc(OCc2cc(-c3ccoc3C(=O)O)cc(-c3ccoc3C(=O)O)c2)ccc1O\n",
      "<rdkit.Chem.rdchem.Mol object at 0x7f757c619eb0>\n",
      "\n",
      "For help, use: python dimorphite_dl.py --help\n",
      "\n",
      "If you use Dimorphite-DL in your research, please cite:\n",
      "Ropp PJ, Kaminsky JC, Yablonski S, Durrant JD (2019) Dimorphite-DL: An\n",
      "open-source program for enumerating the ionization states of drug-like small\n",
      "molecules. J Cheminform 11:14. doi:10.1186/s13321-019-0336-9.\n",
      "\n",
      "Proposed mol at pH 7.4: O=C([O-])c1cc(OCc2cc(-c3ccoc3C(=O)[O-])cc(-c3ccoc3C(=O)[O-])c2)ccc1O\n"
     ]
    },
    {
     "name": "stderr",
     "output_type": "stream",
     "text": [
      "[query.py:297 - calculate_microstate_pka_values()] Using dimorphite-dl to identify protonation sites.\n"
     ]
    },
    {
     "name": "stdout",
     "output_type": "stream",
     "text": [
      "CC(C)Oc1ccc(-c2cccc(COc3ccc(O)c(C(=O)O)c3)c2)cn1\n",
      "<rdkit.Chem.rdchem.Mol object at 0x7f4ac6e21eb0>\n",
      "\n",
      "For help, use: python dimorphite_dl.py --help\n",
      "\n",
      "If you use Dimorphite-DL in your research, please cite:\n",
      "Ropp PJ, Kaminsky JC, Yablonski S, Durrant JD (2019) Dimorphite-DL: An\n",
      "open-source program for enumerating the ionization states of drug-like small\n",
      "molecules. J Cheminform 11:14. doi:10.1186/s13321-019-0336-9.\n",
      "\n",
      "CC(C)Oc1ccc(-c2cccc(COc3ccc(O)c(C(=O)O)c3)c2)cn1\n",
      "<rdkit.Chem.rdchem.Mol object at 0x7f2b10490eb0>\n",
      "\n",
      "For help, use: python dimorphite_dl.py --help\n",
      "\n",
      "If you use Dimorphite-DL in your research, please cite:\n",
      "Ropp PJ, Kaminsky JC, Yablonski S, Durrant JD (2019) Dimorphite-DL: An\n",
      "open-source program for enumerating the ionization states of drug-like small\n",
      "molecules. J Cheminform 11:14. doi:10.1186/s13321-019-0336-9.\n",
      "\n",
      "Proposed mol at pH 7.4: CC(C)Oc1ccc(-c2cccc(COc3ccc(O)c(C(=O)[O-])c3)c2)cn1\n"
     ]
    },
    {
     "name": "stderr",
     "output_type": "stream",
     "text": [
      "[query.py:297 - calculate_microstate_pka_values()] Using dimorphite-dl to identify protonation sites.\n"
     ]
    },
    {
     "name": "stdout",
     "output_type": "stream",
     "text": [
      "CC(C)(C)OC(=O)NCc1cc(-c2cc(COc3ccc(O)c(C(=O)O)c3)cc(C3=CC(CNC(=O)OC(C)(C)C)[SH]=C3)c2)cs1\n",
      "<rdkit.Chem.rdchem.Mol object at 0x7f48ddeb6e40>\n",
      "\n",
      "For help, use: python dimorphite_dl.py --help\n",
      "\n",
      "If you use Dimorphite-DL in your research, please cite:\n",
      "Ropp PJ, Kaminsky JC, Yablonski S, Durrant JD (2019) Dimorphite-DL: An\n",
      "open-source program for enumerating the ionization states of drug-like small\n",
      "molecules. J Cheminform 11:14. doi:10.1186/s13321-019-0336-9.\n",
      "\n",
      "CC(C)(C)OC(=O)NCc1cc(-c2cc(COc3ccc(O)c(C(=O)O)c3)cc(C3=CC(CNC(=O)OC(C)(C)C)[SH]=C3)c2)cs1\n",
      "<rdkit.Chem.rdchem.Mol object at 0x7f594223ae40>\n",
      "\n",
      "For help, use: python dimorphite_dl.py --help\n",
      "\n",
      "If you use Dimorphite-DL in your research, please cite:\n",
      "Ropp PJ, Kaminsky JC, Yablonski S, Durrant JD (2019) Dimorphite-DL: An\n",
      "open-source program for enumerating the ionization states of drug-like small\n",
      "molecules. J Cheminform 11:14. doi:10.1186/s13321-019-0336-9.\n",
      "\n",
      "Proposed mol at pH 7.4: CC(C)(C)OC(=O)NCc1cc(-c2cc(COc3ccc(O)c(C(=O)[O-])c3)cc(C3=CC(CNC(=O)OC(C)(C)C)[SH]=C3)c2)cs1\n"
     ]
    },
    {
     "name": "stderr",
     "output_type": "stream",
     "text": [
      "[query.py:297 - calculate_microstate_pka_values()] Using dimorphite-dl to identify protonation sites.\n"
     ]
    },
    {
     "name": "stdout",
     "output_type": "stream",
     "text": [
      "CC(C)Oc1ccc(-c2cc(COc3ccc(O)c(C(=O)O)c3)cc(-c3ccc(OC(C)C)nc3)c2)cn1\n",
      "<rdkit.Chem.rdchem.Mol object at 0x7f79398e3e40>\n",
      "\n",
      "For help, use: python dimorphite_dl.py --help\n",
      "\n",
      "If you use Dimorphite-DL in your research, please cite:\n",
      "Ropp PJ, Kaminsky JC, Yablonski S, Durrant JD (2019) Dimorphite-DL: An\n",
      "open-source program for enumerating the ionization states of drug-like small\n",
      "molecules. J Cheminform 11:14. doi:10.1186/s13321-019-0336-9.\n",
      "\n",
      "CC(C)Oc1ccc(-c2cc(COc3ccc(O)c(C(=O)O)c3)cc(-c3ccc(OC(C)C)nc3)c2)cn1\n",
      "<rdkit.Chem.rdchem.Mol object at 0x7fa33072ee40>\n",
      "\n",
      "For help, use: python dimorphite_dl.py --help\n",
      "\n",
      "If you use Dimorphite-DL in your research, please cite:\n",
      "Ropp PJ, Kaminsky JC, Yablonski S, Durrant JD (2019) Dimorphite-DL: An\n",
      "open-source program for enumerating the ionization states of drug-like small\n",
      "molecules. J Cheminform 11:14. doi:10.1186/s13321-019-0336-9.\n",
      "\n",
      "Proposed mol at pH 7.4: CC(C)Oc1ccc(-c2cc(COc3ccc(O)c(C(=O)[O-])c3)cc(-c3ccc(OC(C)C)nc3)c2)cn1\n"
     ]
    },
    {
     "name": "stderr",
     "output_type": "stream",
     "text": [
      "[query.py:297 - calculate_microstate_pka_values()] Using dimorphite-dl to identify protonation sites.\n"
     ]
    },
    {
     "name": "stdout",
     "output_type": "stream",
     "text": [
      "COc1ccc(-c2cc(NC(=O)NCP(=O)(O)O)c(C(=O)O)s2)cc1\n",
      "<rdkit.Chem.rdchem.Mol object at 0x7f94f132ee40>\n",
      "\n",
      "For help, use: python dimorphite_dl.py --help\n",
      "\n",
      "If you use Dimorphite-DL in your research, please cite:\n",
      "Ropp PJ, Kaminsky JC, Yablonski S, Durrant JD (2019) Dimorphite-DL: An\n",
      "open-source program for enumerating the ionization states of drug-like small\n",
      "molecules. J Cheminform 11:14. doi:10.1186/s13321-019-0336-9.\n",
      "\n",
      "COc1ccc(-c2cc(NC(=O)NCP(=O)(O)O)c(C(=O)O)s2)cc1\n",
      "<rdkit.Chem.rdchem.Mol object at 0x7fb246f8ee40>\n",
      "\n",
      "For help, use: python dimorphite_dl.py --help\n",
      "\n",
      "If you use Dimorphite-DL in your research, please cite:\n",
      "Ropp PJ, Kaminsky JC, Yablonski S, Durrant JD (2019) Dimorphite-DL: An\n",
      "open-source program for enumerating the ionization states of drug-like small\n",
      "molecules. J Cheminform 11:14. doi:10.1186/s13321-019-0336-9.\n",
      "\n",
      "Proposed mol at pH 7.4: COc1ccc(-c2cc(NC(=O)NCP(=O)([O-])O)c(C(=O)[O-])s2)cc1\n"
     ]
    },
    {
     "name": "stderr",
     "output_type": "stream",
     "text": [
      "[query.py:297 - calculate_microstate_pka_values()] Using dimorphite-dl to identify protonation sites.\n"
     ]
    },
    {
     "name": "stdout",
     "output_type": "stream",
     "text": [
      "O=C(O)c1cc(OCc2cccc(-c3cccc(S(=O)(=O)NC4CC4)c3)c2)ccc1O\n",
      "<rdkit.Chem.rdchem.Mol object at 0x7f1000634eb0>\n",
      "\n",
      "For help, use: python dimorphite_dl.py --help\n",
      "\n",
      "If you use Dimorphite-DL in your research, please cite:\n",
      "Ropp PJ, Kaminsky JC, Yablonski S, Durrant JD (2019) Dimorphite-DL: An\n",
      "open-source program for enumerating the ionization states of drug-like small\n",
      "molecules. J Cheminform 11:14. doi:10.1186/s13321-019-0336-9.\n",
      "\n",
      "O=C(O)c1cc(OCc2cccc(-c3cccc(S(=O)(=O)NC4CC4)c3)c2)ccc1O\n",
      "<rdkit.Chem.rdchem.Mol object at 0x7f0107790eb0>\n",
      "\n",
      "For help, use: python dimorphite_dl.py --help\n",
      "\n",
      "If you use Dimorphite-DL in your research, please cite:\n",
      "Ropp PJ, Kaminsky JC, Yablonski S, Durrant JD (2019) Dimorphite-DL: An\n",
      "open-source program for enumerating the ionization states of drug-like small\n",
      "molecules. J Cheminform 11:14. doi:10.1186/s13321-019-0336-9.\n",
      "\n",
      "Proposed mol at pH 7.4: O=C([O-])c1cc(OCc2cccc(-c3cccc(S(=O)(=O)NC4CC4)c3)c2)ccc1O\n"
     ]
    },
    {
     "name": "stderr",
     "output_type": "stream",
     "text": [
      "[query.py:297 - calculate_microstate_pka_values()] Using dimorphite-dl to identify protonation sites.\n"
     ]
    },
    {
     "name": "stdout",
     "output_type": "stream",
     "text": [
      "CC(C)Oc1ncc(-c2cc(COc3ccc(O)c(C(=O)O)c3)cc(-c3cnc(OC(C)C)c(Cl)c3)c2)cc1Cl\n",
      "<rdkit.Chem.rdchem.Mol object at 0x7eff7e902e40>\n",
      "\n",
      "For help, use: python dimorphite_dl.py --help\n",
      "\n",
      "If you use Dimorphite-DL in your research, please cite:\n",
      "Ropp PJ, Kaminsky JC, Yablonski S, Durrant JD (2019) Dimorphite-DL: An\n",
      "open-source program for enumerating the ionization states of drug-like small\n",
      "molecules. J Cheminform 11:14. doi:10.1186/s13321-019-0336-9.\n",
      "\n",
      "CC(C)Oc1ncc(-c2cc(COc3ccc(O)c(C(=O)O)c3)cc(-c3cnc(OC(C)C)c(Cl)c3)c2)cc1Cl\n",
      "<rdkit.Chem.rdchem.Mol object at 0x7fc6f6ebce40>\n",
      "\n",
      "For help, use: python dimorphite_dl.py --help\n",
      "\n",
      "If you use Dimorphite-DL in your research, please cite:\n",
      "Ropp PJ, Kaminsky JC, Yablonski S, Durrant JD (2019) Dimorphite-DL: An\n",
      "open-source program for enumerating the ionization states of drug-like small\n",
      "molecules. J Cheminform 11:14. doi:10.1186/s13321-019-0336-9.\n",
      "\n",
      "Proposed mol at pH 7.4: CC(C)Oc1ncc(-c2cc(COc3ccc(O)c(C(=O)[O-])c3)cc(-c3cnc(OC(C)C)c(Cl)c3)c2)cc1Cl\n"
     ]
    },
    {
     "name": "stderr",
     "output_type": "stream",
     "text": [
      "[query.py:297 - calculate_microstate_pka_values()] Using dimorphite-dl to identify protonation sites.\n"
     ]
    },
    {
     "name": "stdout",
     "output_type": "stream",
     "text": [
      "O=C(O)c1cc(/C=N\\NC(=O)c2cccc3ccccc23)ccc1O\n",
      "<rdkit.Chem.rdchem.Mol object at 0x7fe2a7b02e40>\n",
      "\n",
      "For help, use: python dimorphite_dl.py --help\n",
      "\n",
      "If you use Dimorphite-DL in your research, please cite:\n",
      "Ropp PJ, Kaminsky JC, Yablonski S, Durrant JD (2019) Dimorphite-DL: An\n",
      "open-source program for enumerating the ionization states of drug-like small\n",
      "molecules. J Cheminform 11:14. doi:10.1186/s13321-019-0336-9.\n",
      "\n",
      "O=C(O)c1cc(/C=N\\NC(=O)c2cccc3ccccc23)ccc1O\n",
      "<rdkit.Chem.rdchem.Mol object at 0x7f687f822e40>\n",
      "\n",
      "For help, use: python dimorphite_dl.py --help\n",
      "\n",
      "If you use Dimorphite-DL in your research, please cite:\n",
      "Ropp PJ, Kaminsky JC, Yablonski S, Durrant JD (2019) Dimorphite-DL: An\n",
      "open-source program for enumerating the ionization states of drug-like small\n",
      "molecules. J Cheminform 11:14. doi:10.1186/s13321-019-0336-9.\n",
      "\n",
      "Proposed mol at pH 7.4: O=C([O-])c1cc(/C=N\\[N-]C(=O)c2cccc3ccccc23)ccc1O\n"
     ]
    },
    {
     "name": "stderr",
     "output_type": "stream",
     "text": [
      "[query.py:297 - calculate_microstate_pka_values()] Using dimorphite-dl to identify protonation sites.\n"
     ]
    },
    {
     "name": "stdout",
     "output_type": "stream",
     "text": [
      "CC(C)(C)COS(=O)(=O)c1ccc(-c2cccc(COc3ccc(O)c(C(=O)O)c3)c2)cc1\n",
      "<rdkit.Chem.rdchem.Mol object at 0x7f7f42baeeb0>\n",
      "\n",
      "For help, use: python dimorphite_dl.py --help\n",
      "\n",
      "If you use Dimorphite-DL in your research, please cite:\n",
      "Ropp PJ, Kaminsky JC, Yablonski S, Durrant JD (2019) Dimorphite-DL: An\n",
      "open-source program for enumerating the ionization states of drug-like small\n",
      "molecules. J Cheminform 11:14. doi:10.1186/s13321-019-0336-9.\n",
      "\n",
      "CC(C)(C)COS(=O)(=O)c1ccc(-c2cccc(COc3ccc(O)c(C(=O)O)c3)c2)cc1\n",
      "<rdkit.Chem.rdchem.Mol object at 0x7f397b32deb0>\n",
      "\n",
      "For help, use: python dimorphite_dl.py --help\n",
      "\n",
      "If you use Dimorphite-DL in your research, please cite:\n",
      "Ropp PJ, Kaminsky JC, Yablonski S, Durrant JD (2019) Dimorphite-DL: An\n",
      "open-source program for enumerating the ionization states of drug-like small\n",
      "molecules. J Cheminform 11:14. doi:10.1186/s13321-019-0336-9.\n",
      "\n",
      "Proposed mol at pH 7.4: CC(C)(C)COS(=O)(=O)c1ccc(-c2cccc(COc3ccc(O)c(C(=O)[O-])c3)c2)cc1\n"
     ]
    },
    {
     "name": "stderr",
     "output_type": "stream",
     "text": [
      "[query.py:297 - calculate_microstate_pka_values()] Using dimorphite-dl to identify protonation sites.\n"
     ]
    },
    {
     "name": "stdout",
     "output_type": "stream",
     "text": [
      "Cc1ccc(S(=O)(=O)NC(C)(C)C)cc1-c1cccc(COc2ccc(O)c(C(=O)O)c2)c1\n",
      "<rdkit.Chem.rdchem.Mol object at 0x7f56e9a02eb0>\n",
      "\n",
      "For help, use: python dimorphite_dl.py --help\n",
      "\n",
      "If you use Dimorphite-DL in your research, please cite:\n",
      "Ropp PJ, Kaminsky JC, Yablonski S, Durrant JD (2019) Dimorphite-DL: An\n",
      "open-source program for enumerating the ionization states of drug-like small\n",
      "molecules. J Cheminform 11:14. doi:10.1186/s13321-019-0336-9.\n",
      "\n",
      "Cc1ccc(S(=O)(=O)NC(C)(C)C)cc1-c1cccc(COc2ccc(O)c(C(=O)O)c2)c1\n",
      "<rdkit.Chem.rdchem.Mol object at 0x7fa0bb947eb0>\n",
      "\n",
      "For help, use: python dimorphite_dl.py --help\n",
      "\n",
      "If you use Dimorphite-DL in your research, please cite:\n",
      "Ropp PJ, Kaminsky JC, Yablonski S, Durrant JD (2019) Dimorphite-DL: An\n",
      "open-source program for enumerating the ionization states of drug-like small\n",
      "molecules. J Cheminform 11:14. doi:10.1186/s13321-019-0336-9.\n",
      "\n",
      "Proposed mol at pH 7.4: Cc1ccc(S(=O)(=O)NC(C)(C)C)cc1-c1cccc(COc2ccc(O)c(C(=O)[O-])c2)c1\n"
     ]
    },
    {
     "name": "stderr",
     "output_type": "stream",
     "text": [
      "[query.py:297 - calculate_microstate_pka_values()] Using dimorphite-dl to identify protonation sites.\n"
     ]
    },
    {
     "name": "stdout",
     "output_type": "stream",
     "text": [
      "O=C(O)c1cc(OCc2cc(C(F)(F)F)cc(C(F)(F)F)c2)ccc1O\n",
      "<rdkit.Chem.rdchem.Mol object at 0x7f9abeff6e40>\n",
      "\n",
      "For help, use: python dimorphite_dl.py --help\n",
      "\n",
      "If you use Dimorphite-DL in your research, please cite:\n",
      "Ropp PJ, Kaminsky JC, Yablonski S, Durrant JD (2019) Dimorphite-DL: An\n",
      "open-source program for enumerating the ionization states of drug-like small\n",
      "molecules. J Cheminform 11:14. doi:10.1186/s13321-019-0336-9.\n",
      "\n",
      "O=C(O)c1cc(OCc2cc(C(F)(F)F)cc(C(F)(F)F)c2)ccc1O\n",
      "<rdkit.Chem.rdchem.Mol object at 0x7f59e63f6e40>\n",
      "\n",
      "For help, use: python dimorphite_dl.py --help\n",
      "\n",
      "If you use Dimorphite-DL in your research, please cite:\n",
      "Ropp PJ, Kaminsky JC, Yablonski S, Durrant JD (2019) Dimorphite-DL: An\n",
      "open-source program for enumerating the ionization states of drug-like small\n",
      "molecules. J Cheminform 11:14. doi:10.1186/s13321-019-0336-9.\n",
      "\n",
      "Proposed mol at pH 7.4: O=C([O-])c1cc(OCc2cc(C(F)(F)F)cc(C(F)(F)F)c2)ccc1O\n"
     ]
    },
    {
     "name": "stderr",
     "output_type": "stream",
     "text": [
      "[query.py:297 - calculate_microstate_pka_values()] Using dimorphite-dl to identify protonation sites.\n"
     ]
    },
    {
     "name": "stdout",
     "output_type": "stream",
     "text": [
      "CC(C)S(=O)(=O)Nc1cccc(-c2cccc(CO/C=C/C(=C/O)C(=O)O)c2)c1\n",
      "<rdkit.Chem.rdchem.Mol object at 0x7f7c6c5fceb0>\n",
      "\n",
      "For help, use: python dimorphite_dl.py --help\n",
      "\n",
      "If you use Dimorphite-DL in your research, please cite:\n",
      "Ropp PJ, Kaminsky JC, Yablonski S, Durrant JD (2019) Dimorphite-DL: An\n",
      "open-source program for enumerating the ionization states of drug-like small\n",
      "molecules. J Cheminform 11:14. doi:10.1186/s13321-019-0336-9.\n",
      "\n",
      "CC(C)S(=O)(=O)Nc1cccc(-c2cccc(CO/C=C/C(=C/O)C(=O)O)c2)c1\n",
      "<rdkit.Chem.rdchem.Mol object at 0x7fc521b76eb0>\n",
      "\n",
      "For help, use: python dimorphite_dl.py --help\n",
      "\n",
      "If you use Dimorphite-DL in your research, please cite:\n",
      "Ropp PJ, Kaminsky JC, Yablonski S, Durrant JD (2019) Dimorphite-DL: An\n",
      "open-source program for enumerating the ionization states of drug-like small\n",
      "molecules. J Cheminform 11:14. doi:10.1186/s13321-019-0336-9.\n",
      "\n",
      "Proposed mol at pH 7.4: CC(C)S(=O)(=O)Nc1cccc(-c2cccc(CO/C=C/C(=C/O)C(=O)[O-])c2)c1\n"
     ]
    },
    {
     "name": "stderr",
     "output_type": "stream",
     "text": [
      "[query.py:297 - calculate_microstate_pka_values()] Using dimorphite-dl to identify protonation sites.\n"
     ]
    },
    {
     "name": "stdout",
     "output_type": "stream",
     "text": [
      "O=C(O)c1cc(OCc2cc(Br)cs2)ccc1O\n",
      "<rdkit.Chem.rdchem.Mol object at 0x7f3a74a8ee40>\n",
      "\n",
      "For help, use: python dimorphite_dl.py --help\n",
      "\n",
      "If you use Dimorphite-DL in your research, please cite:\n",
      "Ropp PJ, Kaminsky JC, Yablonski S, Durrant JD (2019) Dimorphite-DL: An\n",
      "open-source program for enumerating the ionization states of drug-like small\n",
      "molecules. J Cheminform 11:14. doi:10.1186/s13321-019-0336-9.\n",
      "\n",
      "O=C(O)c1cc(OCc2cc(Br)cs2)ccc1O\n",
      "<rdkit.Chem.rdchem.Mol object at 0x7f1863a7ce40>\n",
      "\n",
      "For help, use: python dimorphite_dl.py --help\n",
      "\n",
      "If you use Dimorphite-DL in your research, please cite:\n",
      "Ropp PJ, Kaminsky JC, Yablonski S, Durrant JD (2019) Dimorphite-DL: An\n",
      "open-source program for enumerating the ionization states of drug-like small\n",
      "molecules. J Cheminform 11:14. doi:10.1186/s13321-019-0336-9.\n",
      "\n",
      "Proposed mol at pH 7.4: O=C([O-])c1cc(OCc2cc(Br)cs2)ccc1O\n"
     ]
    },
    {
     "name": "stderr",
     "output_type": "stream",
     "text": [
      "[query.py:297 - calculate_microstate_pka_values()] Using dimorphite-dl to identify protonation sites.\n"
     ]
    },
    {
     "name": "stdout",
     "output_type": "stream",
     "text": [
      "O=C(O)c1cc(OCc2cc(Br)cs2)ccc1O\n",
      "<rdkit.Chem.rdchem.Mol object at 0x7f150c96ee40>\n",
      "\n",
      "For help, use: python dimorphite_dl.py --help\n",
      "\n",
      "If you use Dimorphite-DL in your research, please cite:\n",
      "Ropp PJ, Kaminsky JC, Yablonski S, Durrant JD (2019) Dimorphite-DL: An\n",
      "open-source program for enumerating the ionization states of drug-like small\n",
      "molecules. J Cheminform 11:14. doi:10.1186/s13321-019-0336-9.\n",
      "\n",
      "O=C(O)c1cc(OCc2cc(Br)cs2)ccc1O\n",
      "<rdkit.Chem.rdchem.Mol object at 0x7ff994950e40>\n",
      "\n",
      "For help, use: python dimorphite_dl.py --help\n",
      "\n",
      "If you use Dimorphite-DL in your research, please cite:\n",
      "Ropp PJ, Kaminsky JC, Yablonski S, Durrant JD (2019) Dimorphite-DL: An\n",
      "open-source program for enumerating the ionization states of drug-like small\n",
      "molecules. J Cheminform 11:14. doi:10.1186/s13321-019-0336-9.\n",
      "\n",
      "Proposed mol at pH 7.4: O=C([O-])c1cc(OCc2cc(Br)cs2)ccc1O\n"
     ]
    },
    {
     "name": "stderr",
     "output_type": "stream",
     "text": [
      "[query.py:297 - calculate_microstate_pka_values()] Using dimorphite-dl to identify protonation sites.\n"
     ]
    },
    {
     "name": "stdout",
     "output_type": "stream",
     "text": [
      "O=C(Nc1nnc(-c2cccc(OC(F)(F)F)c2)o1)c1cccc(OC(F)(F)F)c1\n",
      "<rdkit.Chem.rdchem.Mol object at 0x7f4a6e404eb0>\n",
      "\n",
      "For help, use: python dimorphite_dl.py --help\n",
      "\n",
      "If you use Dimorphite-DL in your research, please cite:\n",
      "Ropp PJ, Kaminsky JC, Yablonski S, Durrant JD (2019) Dimorphite-DL: An\n",
      "open-source program for enumerating the ionization states of drug-like small\n",
      "molecules. J Cheminform 11:14. doi:10.1186/s13321-019-0336-9.\n",
      "\n",
      "O=C(Nc1nnc(-c2cccc(OC(F)(F)F)c2)o1)c1cccc(OC(F)(F)F)c1\n",
      "<rdkit.Chem.rdchem.Mol object at 0x7f69bc1d6eb0>\n",
      "\n",
      "For help, use: python dimorphite_dl.py --help\n",
      "\n",
      "If you use Dimorphite-DL in your research, please cite:\n",
      "Ropp PJ, Kaminsky JC, Yablonski S, Durrant JD (2019) Dimorphite-DL: An\n",
      "open-source program for enumerating the ionization states of drug-like small\n",
      "molecules. J Cheminform 11:14. doi:10.1186/s13321-019-0336-9.\n",
      "\n",
      "Proposed mol at pH 7.4: O=C(Nc1nnc(-c2cccc(OC(F)(F)F)c2)o1)c1cccc(OC(F)(F)F)c1\n"
     ]
    },
    {
     "name": "stderr",
     "output_type": "stream",
     "text": [
      "[query.py:297 - calculate_microstate_pka_values()] Using dimorphite-dl to identify protonation sites.\n"
     ]
    },
    {
     "name": "stdout",
     "output_type": "stream",
     "text": [
      "O=C(COc1ccc([N+](=O)[O-])cc1)N/N=C/c1ccc(O)cc1F\n",
      "<rdkit.Chem.rdchem.Mol object at 0x7f39d8776e40>\n",
      "\n",
      "For help, use: python dimorphite_dl.py --help\n",
      "\n",
      "If you use Dimorphite-DL in your research, please cite:\n",
      "Ropp PJ, Kaminsky JC, Yablonski S, Durrant JD (2019) Dimorphite-DL: An\n",
      "open-source program for enumerating the ionization states of drug-like small\n",
      "molecules. J Cheminform 11:14. doi:10.1186/s13321-019-0336-9.\n",
      "\n",
      "O=C(COc1ccc([N+](=O)[O-])cc1)N/N=C/c1ccc(O)cc1F\n",
      "<rdkit.Chem.rdchem.Mol object at 0x7fbd81647e40>\n",
      "\n",
      "For help, use: python dimorphite_dl.py --help\n",
      "\n",
      "If you use Dimorphite-DL in your research, please cite:\n",
      "Ropp PJ, Kaminsky JC, Yablonski S, Durrant JD (2019) Dimorphite-DL: An\n",
      "open-source program for enumerating the ionization states of drug-like small\n",
      "molecules. J Cheminform 11:14. doi:10.1186/s13321-019-0336-9.\n",
      "\n",
      "Proposed mol at pH 7.4: O=C(COc1ccc([N+](=O)[O-])cc1)[N-]/N=C/c1ccc(O)cc1F\n"
     ]
    },
    {
     "name": "stderr",
     "output_type": "stream",
     "text": [
      "[query.py:297 - calculate_microstate_pka_values()] Using dimorphite-dl to identify protonation sites.\n"
     ]
    },
    {
     "name": "stdout",
     "output_type": "stream",
     "text": [
      "O=C(N/N=C\\c1ccc(-c2ccc(Cl)cc2)o1)c1ccc(Br)cc1\n",
      "<rdkit.Chem.rdchem.Mol object at 0x7f2aea434e40>\n",
      "\n",
      "For help, use: python dimorphite_dl.py --help\n",
      "\n",
      "If you use Dimorphite-DL in your research, please cite:\n",
      "Ropp PJ, Kaminsky JC, Yablonski S, Durrant JD (2019) Dimorphite-DL: An\n",
      "open-source program for enumerating the ionization states of drug-like small\n",
      "molecules. J Cheminform 11:14. doi:10.1186/s13321-019-0336-9.\n",
      "\n",
      "O=C(N/N=C\\c1ccc(-c2ccc(Cl)cc2)o1)c1ccc(Br)cc1\n",
      "<rdkit.Chem.rdchem.Mol object at 0x7f4256064e40>\n",
      "\n",
      "For help, use: python dimorphite_dl.py --help\n",
      "\n",
      "If you use Dimorphite-DL in your research, please cite:\n",
      "Ropp PJ, Kaminsky JC, Yablonski S, Durrant JD (2019) Dimorphite-DL: An\n",
      "open-source program for enumerating the ionization states of drug-like small\n",
      "molecules. J Cheminform 11:14. doi:10.1186/s13321-019-0336-9.\n",
      "\n",
      "Proposed mol at pH 7.4: O=C([N-]/N=C\\c1ccc(-c2ccc(Cl)cc2)o1)c1ccc(Br)cc1\n"
     ]
    },
    {
     "name": "stderr",
     "output_type": "stream",
     "text": [
      "[query.py:297 - calculate_microstate_pka_values()] Using dimorphite-dl to identify protonation sites.\n"
     ]
    },
    {
     "name": "stdout",
     "output_type": "stream",
     "text": [
      "O=C(N/N=C\\c1ccc(-c2ccc(Cl)cc2)o1)OCc1ccccc1\n",
      "<rdkit.Chem.rdchem.Mol object at 0x7fc9d4896e40>\n",
      "\n",
      "For help, use: python dimorphite_dl.py --help\n",
      "\n",
      "If you use Dimorphite-DL in your research, please cite:\n",
      "Ropp PJ, Kaminsky JC, Yablonski S, Durrant JD (2019) Dimorphite-DL: An\n",
      "open-source program for enumerating the ionization states of drug-like small\n",
      "molecules. J Cheminform 11:14. doi:10.1186/s13321-019-0336-9.\n",
      "\n",
      "O=C(N/N=C\\c1ccc(-c2ccc(Cl)cc2)o1)OCc1ccccc1\n",
      "<rdkit.Chem.rdchem.Mol object at 0x7f799b37ce40>\n",
      "\n",
      "For help, use: python dimorphite_dl.py --help\n",
      "\n",
      "If you use Dimorphite-DL in your research, please cite:\n",
      "Ropp PJ, Kaminsky JC, Yablonski S, Durrant JD (2019) Dimorphite-DL: An\n",
      "open-source program for enumerating the ionization states of drug-like small\n",
      "molecules. J Cheminform 11:14. doi:10.1186/s13321-019-0336-9.\n",
      "\n",
      "Proposed mol at pH 7.4: O=C([N-]/N=C\\c1ccc(-c2ccc(Cl)cc2)o1)OCc1ccccc1\n"
     ]
    },
    {
     "name": "stderr",
     "output_type": "stream",
     "text": [
      "[query.py:297 - calculate_microstate_pka_values()] Using dimorphite-dl to identify protonation sites.\n"
     ]
    },
    {
     "name": "stdout",
     "output_type": "stream",
     "text": [
      "O=C(O)c1cc(/C=N/NC(=O)C2CCC2)ccc1O\n",
      "<rdkit.Chem.rdchem.Mol object at 0x7fbf2bf02e40>\n",
      "\n",
      "For help, use: python dimorphite_dl.py --help\n",
      "\n",
      "If you use Dimorphite-DL in your research, please cite:\n",
      "Ropp PJ, Kaminsky JC, Yablonski S, Durrant JD (2019) Dimorphite-DL: An\n",
      "open-source program for enumerating the ionization states of drug-like small\n",
      "molecules. J Cheminform 11:14. doi:10.1186/s13321-019-0336-9.\n",
      "\n",
      "O=C(O)c1cc(/C=N/NC(=O)C2CCC2)ccc1O\n",
      "<rdkit.Chem.rdchem.Mol object at 0x7f01accbce40>\n",
      "\n",
      "For help, use: python dimorphite_dl.py --help\n",
      "\n",
      "If you use Dimorphite-DL in your research, please cite:\n",
      "Ropp PJ, Kaminsky JC, Yablonski S, Durrant JD (2019) Dimorphite-DL: An\n",
      "open-source program for enumerating the ionization states of drug-like small\n",
      "molecules. J Cheminform 11:14. doi:10.1186/s13321-019-0336-9.\n",
      "\n",
      "Proposed mol at pH 7.4: O=C([O-])c1cc(/C=N/[N-]C(=O)C2CCC2)ccc1O\n"
     ]
    },
    {
     "name": "stderr",
     "output_type": "stream",
     "text": [
      "[query.py:297 - calculate_microstate_pka_values()] Using dimorphite-dl to identify protonation sites.\n"
     ]
    },
    {
     "name": "stdout",
     "output_type": "stream",
     "text": [
      "O=C(O)c1cc(OCc2csc(Br)n2)ccc1O\n",
      "<rdkit.Chem.rdchem.Mol object at 0x7f9adf1f6e40>\n",
      "\n",
      "For help, use: python dimorphite_dl.py --help\n",
      "\n",
      "If you use Dimorphite-DL in your research, please cite:\n",
      "Ropp PJ, Kaminsky JC, Yablonski S, Durrant JD (2019) Dimorphite-DL: An\n",
      "open-source program for enumerating the ionization states of drug-like small\n",
      "molecules. J Cheminform 11:14. doi:10.1186/s13321-019-0336-9.\n",
      "\n",
      "O=C(O)c1cc(OCc2csc(Br)n2)ccc1O\n",
      "<rdkit.Chem.rdchem.Mol object at 0x7fd4c39cee40>\n",
      "\n",
      "For help, use: python dimorphite_dl.py --help\n",
      "\n",
      "If you use Dimorphite-DL in your research, please cite:\n",
      "Ropp PJ, Kaminsky JC, Yablonski S, Durrant JD (2019) Dimorphite-DL: An\n",
      "open-source program for enumerating the ionization states of drug-like small\n",
      "molecules. J Cheminform 11:14. doi:10.1186/s13321-019-0336-9.\n",
      "\n",
      "Proposed mol at pH 7.4: O=C([O-])c1cc(OCc2csc(Br)n2)ccc1O\n"
     ]
    },
    {
     "name": "stderr",
     "output_type": "stream",
     "text": [
      "[query.py:297 - calculate_microstate_pka_values()] Using dimorphite-dl to identify protonation sites.\n"
     ]
    },
    {
     "name": "stdout",
     "output_type": "stream",
     "text": [
      "O=C(O)c1cc(OCc2csc(-c3cccc(OCc4cccc(Cl)c4)c3)n2)ccc1O\n",
      "<rdkit.Chem.rdchem.Mol object at 0x7f82363dbeb0>\n",
      "\n",
      "For help, use: python dimorphite_dl.py --help\n",
      "\n",
      "If you use Dimorphite-DL in your research, please cite:\n",
      "Ropp PJ, Kaminsky JC, Yablonski S, Durrant JD (2019) Dimorphite-DL: An\n",
      "open-source program for enumerating the ionization states of drug-like small\n",
      "molecules. J Cheminform 11:14. doi:10.1186/s13321-019-0336-9.\n",
      "\n",
      "O=C(O)c1cc(OCc2csc(-c3cccc(OCc4cccc(Cl)c4)c3)n2)ccc1O\n",
      "<rdkit.Chem.rdchem.Mol object at 0x7f999e618eb0>\n",
      "\n",
      "For help, use: python dimorphite_dl.py --help\n",
      "\n",
      "If you use Dimorphite-DL in your research, please cite:\n",
      "Ropp PJ, Kaminsky JC, Yablonski S, Durrant JD (2019) Dimorphite-DL: An\n",
      "open-source program for enumerating the ionization states of drug-like small\n",
      "molecules. J Cheminform 11:14. doi:10.1186/s13321-019-0336-9.\n",
      "\n",
      "Proposed mol at pH 7.4: O=C([O-])c1cc(OCc2csc(-c3cccc(OCc4cccc(Cl)c4)c3)n2)ccc1O\n"
     ]
    },
    {
     "name": "stderr",
     "output_type": "stream",
     "text": [
      "[query.py:297 - calculate_microstate_pka_values()] Using dimorphite-dl to identify protonation sites.\n"
     ]
    },
    {
     "name": "stdout",
     "output_type": "stream",
     "text": [
      "O=C(O)c1cc(OCc2ccnc(-c3cccc(OCc4cccc(Cl)c4)c3)c2)ccc1O\n",
      "<rdkit.Chem.rdchem.Mol object at 0x7f3249701eb0>\n",
      "\n",
      "For help, use: python dimorphite_dl.py --help\n",
      "\n",
      "If you use Dimorphite-DL in your research, please cite:\n",
      "Ropp PJ, Kaminsky JC, Yablonski S, Durrant JD (2019) Dimorphite-DL: An\n",
      "open-source program for enumerating the ionization states of drug-like small\n",
      "molecules. J Cheminform 11:14. doi:10.1186/s13321-019-0336-9.\n",
      "\n",
      "O=C(O)c1cc(OCc2ccnc(-c3cccc(OCc4cccc(Cl)c4)c3)c2)ccc1O\n",
      "<rdkit.Chem.rdchem.Mol object at 0x7ff511f7ceb0>\n",
      "\n",
      "For help, use: python dimorphite_dl.py --help\n",
      "\n",
      "If you use Dimorphite-DL in your research, please cite:\n",
      "Ropp PJ, Kaminsky JC, Yablonski S, Durrant JD (2019) Dimorphite-DL: An\n",
      "open-source program for enumerating the ionization states of drug-like small\n",
      "molecules. J Cheminform 11:14. doi:10.1186/s13321-019-0336-9.\n",
      "\n",
      "Proposed mol at pH 7.4: O=C([O-])c1cc(OCc2ccnc(-c3cccc(OCc4cccc(Cl)c4)c3)c2)ccc1O\n"
     ]
    },
    {
     "name": "stderr",
     "output_type": "stream",
     "text": [
      "[query.py:297 - calculate_microstate_pka_values()] Using dimorphite-dl to identify protonation sites.\n"
     ]
    },
    {
     "name": "stdout",
     "output_type": "stream",
     "text": [
      "CS(=O)(=O)CC(=O)N/N=C/c1ccc(O)c(C(=O)O)c1\n",
      "<rdkit.Chem.rdchem.Mol object at 0x7fed6c4eee40>\n",
      "\n",
      "For help, use: python dimorphite_dl.py --help\n",
      "\n",
      "If you use Dimorphite-DL in your research, please cite:\n",
      "Ropp PJ, Kaminsky JC, Yablonski S, Durrant JD (2019) Dimorphite-DL: An\n",
      "open-source program for enumerating the ionization states of drug-like small\n",
      "molecules. J Cheminform 11:14. doi:10.1186/s13321-019-0336-9.\n",
      "\n",
      "CS(=O)(=O)CC(=O)N/N=C/c1ccc(O)c(C(=O)O)c1\n",
      "<rdkit.Chem.rdchem.Mol object at 0x7f0438c42e40>\n",
      "\n",
      "For help, use: python dimorphite_dl.py --help\n",
      "\n",
      "If you use Dimorphite-DL in your research, please cite:\n",
      "Ropp PJ, Kaminsky JC, Yablonski S, Durrant JD (2019) Dimorphite-DL: An\n",
      "open-source program for enumerating the ionization states of drug-like small\n",
      "molecules. J Cheminform 11:14. doi:10.1186/s13321-019-0336-9.\n",
      "\n",
      "Proposed mol at pH 7.4: CS(=O)(=O)CC(=O)[N-]/N=C/c1ccc(O)c(C(=O)[O-])c1\n"
     ]
    },
    {
     "name": "stderr",
     "output_type": "stream",
     "text": [
      "[query.py:297 - calculate_microstate_pka_values()] Using dimorphite-dl to identify protonation sites.\n"
     ]
    },
    {
     "name": "stdout",
     "output_type": "stream",
     "text": [
      "CS(=O)(=O)CC(=O)N/N=C/c1ccc(C(F)(F)F)nc1\n",
      "<rdkit.Chem.rdchem.Mol object at 0x7f61fc9fce40>\n",
      "\n",
      "For help, use: python dimorphite_dl.py --help\n",
      "\n",
      "If you use Dimorphite-DL in your research, please cite:\n",
      "Ropp PJ, Kaminsky JC, Yablonski S, Durrant JD (2019) Dimorphite-DL: An\n",
      "open-source program for enumerating the ionization states of drug-like small\n",
      "molecules. J Cheminform 11:14. doi:10.1186/s13321-019-0336-9.\n",
      "\n",
      "CS(=O)(=O)CC(=O)N/N=C/c1ccc(C(F)(F)F)nc1\n",
      "<rdkit.Chem.rdchem.Mol object at 0x7ff56d4c8e40>\n",
      "\n",
      "For help, use: python dimorphite_dl.py --help\n",
      "\n",
      "If you use Dimorphite-DL in your research, please cite:\n",
      "Ropp PJ, Kaminsky JC, Yablonski S, Durrant JD (2019) Dimorphite-DL: An\n",
      "open-source program for enumerating the ionization states of drug-like small\n",
      "molecules. J Cheminform 11:14. doi:10.1186/s13321-019-0336-9.\n",
      "\n",
      "Proposed mol at pH 7.4: CS(=O)(=O)CC(=O)[N-]/N=C/c1ccc(C(F)(F)F)nc1\n"
     ]
    },
    {
     "name": "stderr",
     "output_type": "stream",
     "text": [
      "[query.py:297 - calculate_microstate_pka_values()] Using dimorphite-dl to identify protonation sites.\n"
     ]
    },
    {
     "name": "stdout",
     "output_type": "stream",
     "text": [
      "Cc1ccc(S(=O)(=O)N/N=C/c2cnc(C)nc2)cc1\n",
      "<rdkit.Chem.rdchem.Mol object at 0x7fbbe9d5be40>\n",
      "\n",
      "For help, use: python dimorphite_dl.py --help\n",
      "\n",
      "If you use Dimorphite-DL in your research, please cite:\n",
      "Ropp PJ, Kaminsky JC, Yablonski S, Durrant JD (2019) Dimorphite-DL: An\n",
      "open-source program for enumerating the ionization states of drug-like small\n",
      "molecules. J Cheminform 11:14. doi:10.1186/s13321-019-0336-9.\n",
      "\n",
      "Cc1ccc(S(=O)(=O)N/N=C/c2cnc(C)nc2)cc1\n",
      "<rdkit.Chem.rdchem.Mol object at 0x7f2203063e40>\n",
      "\n",
      "For help, use: python dimorphite_dl.py --help\n",
      "\n",
      "If you use Dimorphite-DL in your research, please cite:\n",
      "Ropp PJ, Kaminsky JC, Yablonski S, Durrant JD (2019) Dimorphite-DL: An\n",
      "open-source program for enumerating the ionization states of drug-like small\n",
      "molecules. J Cheminform 11:14. doi:10.1186/s13321-019-0336-9.\n",
      "\n",
      "Proposed mol at pH 7.4: Cc1ccc(S(=O)(=O)N/N=C/c2cnc(C)nc2)cc1\n"
     ]
    },
    {
     "name": "stderr",
     "output_type": "stream",
     "text": [
      "[query.py:297 - calculate_microstate_pka_values()] Using dimorphite-dl to identify protonation sites.\n"
     ]
    },
    {
     "name": "stdout",
     "output_type": "stream",
     "text": [
      "O=C(N/N=C/c1ccc(C(F)(F)F)nc1)c1ccc(Cl)s1\n",
      "<rdkit.Chem.rdchem.Mol object at 0x7fbf85348e40>\n",
      "\n",
      "For help, use: python dimorphite_dl.py --help\n",
      "\n",
      "If you use Dimorphite-DL in your research, please cite:\n",
      "Ropp PJ, Kaminsky JC, Yablonski S, Durrant JD (2019) Dimorphite-DL: An\n",
      "open-source program for enumerating the ionization states of drug-like small\n",
      "molecules. J Cheminform 11:14. doi:10.1186/s13321-019-0336-9.\n",
      "\n",
      "O=C(N/N=C/c1ccc(C(F)(F)F)nc1)c1ccc(Cl)s1\n",
      "<rdkit.Chem.rdchem.Mol object at 0x7f0e7a9cee40>\n",
      "\n",
      "For help, use: python dimorphite_dl.py --help\n",
      "\n",
      "If you use Dimorphite-DL in your research, please cite:\n",
      "Ropp PJ, Kaminsky JC, Yablonski S, Durrant JD (2019) Dimorphite-DL: An\n",
      "open-source program for enumerating the ionization states of drug-like small\n",
      "molecules. J Cheminform 11:14. doi:10.1186/s13321-019-0336-9.\n",
      "\n",
      "Proposed mol at pH 7.4: O=C([N-]/N=C/c1ccc(C(F)(F)F)nc1)c1ccc(Cl)s1\n"
     ]
    },
    {
     "name": "stderr",
     "output_type": "stream",
     "text": [
      "[query.py:297 - calculate_microstate_pka_values()] Using dimorphite-dl to identify protonation sites.\n"
     ]
    },
    {
     "name": "stdout",
     "output_type": "stream",
     "text": [
      "O=C(N/N=C/c1ccc(O)cc1F)c1ccc(Cl)s1\n",
      "<rdkit.Chem.rdchem.Mol object at 0x7f4cf6c07e40>\n",
      "\n",
      "For help, use: python dimorphite_dl.py --help\n",
      "\n",
      "If you use Dimorphite-DL in your research, please cite:\n",
      "Ropp PJ, Kaminsky JC, Yablonski S, Durrant JD (2019) Dimorphite-DL: An\n",
      "open-source program for enumerating the ionization states of drug-like small\n",
      "molecules. J Cheminform 11:14. doi:10.1186/s13321-019-0336-9.\n",
      "\n",
      "O=C(N/N=C/c1ccc(O)cc1F)c1ccc(Cl)s1\n",
      "<rdkit.Chem.rdchem.Mol object at 0x7f0bd8e22e40>\n",
      "\n",
      "For help, use: python dimorphite_dl.py --help\n",
      "\n",
      "If you use Dimorphite-DL in your research, please cite:\n",
      "Ropp PJ, Kaminsky JC, Yablonski S, Durrant JD (2019) Dimorphite-DL: An\n",
      "open-source program for enumerating the ionization states of drug-like small\n",
      "molecules. J Cheminform 11:14. doi:10.1186/s13321-019-0336-9.\n",
      "\n",
      "Proposed mol at pH 7.4: O=C([N-]/N=C/c1ccc(O)cc1F)c1ccc(Cl)s1\n"
     ]
    },
    {
     "name": "stderr",
     "output_type": "stream",
     "text": [
      "[query.py:297 - calculate_microstate_pka_values()] Using dimorphite-dl to identify protonation sites.\n"
     ]
    },
    {
     "name": "stdout",
     "output_type": "stream",
     "text": [
      "O=C(O)c1cc(OCc2cccc3ccccc23)ccc1O\n",
      "<rdkit.Chem.rdchem.Mol object at 0x7f93a20c8e40>\n",
      "\n",
      "For help, use: python dimorphite_dl.py --help\n",
      "\n",
      "If you use Dimorphite-DL in your research, please cite:\n",
      "Ropp PJ, Kaminsky JC, Yablonski S, Durrant JD (2019) Dimorphite-DL: An\n",
      "open-source program for enumerating the ionization states of drug-like small\n",
      "molecules. J Cheminform 11:14. doi:10.1186/s13321-019-0336-9.\n",
      "\n",
      "O=C(O)c1cc(OCc2cccc3ccccc23)ccc1O\n",
      "<rdkit.Chem.rdchem.Mol object at 0x7f68c1650e40>\n",
      "\n",
      "For help, use: python dimorphite_dl.py --help\n",
      "\n",
      "If you use Dimorphite-DL in your research, please cite:\n",
      "Ropp PJ, Kaminsky JC, Yablonski S, Durrant JD (2019) Dimorphite-DL: An\n",
      "open-source program for enumerating the ionization states of drug-like small\n",
      "molecules. J Cheminform 11:14. doi:10.1186/s13321-019-0336-9.\n",
      "\n",
      "Proposed mol at pH 7.4: O=C([O-])c1cc(OCc2cccc3ccccc23)ccc1O\n"
     ]
    },
    {
     "name": "stderr",
     "output_type": "stream",
     "text": [
      "[query.py:297 - calculate_microstate_pka_values()] Using dimorphite-dl to identify protonation sites.\n"
     ]
    },
    {
     "name": "stdout",
     "output_type": "stream",
     "text": [
      "O=C(O)c1cccc(NCc2ccc(-c3ccccc3Cl)o2)c1\n",
      "<rdkit.Chem.rdchem.Mol object at 0x7f6710d3ce40>\n",
      "\n",
      "For help, use: python dimorphite_dl.py --help\n",
      "\n",
      "If you use Dimorphite-DL in your research, please cite:\n",
      "Ropp PJ, Kaminsky JC, Yablonski S, Durrant JD (2019) Dimorphite-DL: An\n",
      "open-source program for enumerating the ionization states of drug-like small\n",
      "molecules. J Cheminform 11:14. doi:10.1186/s13321-019-0336-9.\n",
      "\n",
      "O=C(O)c1cccc(NCc2ccc(-c3ccccc3Cl)o2)c1\n",
      "<rdkit.Chem.rdchem.Mol object at 0x7f3581f48e40>\n",
      "\n",
      "For help, use: python dimorphite_dl.py --help\n",
      "\n",
      "If you use Dimorphite-DL in your research, please cite:\n",
      "Ropp PJ, Kaminsky JC, Yablonski S, Durrant JD (2019) Dimorphite-DL: An\n",
      "open-source program for enumerating the ionization states of drug-like small\n",
      "molecules. J Cheminform 11:14. doi:10.1186/s13321-019-0336-9.\n",
      "\n",
      "Proposed mol at pH 7.4: O=C([O-])c1cccc(NCc2ccc(-c3ccccc3Cl)o2)c1\n"
     ]
    },
    {
     "name": "stderr",
     "output_type": "stream",
     "text": [
      "[query.py:297 - calculate_microstate_pka_values()] Using dimorphite-dl to identify protonation sites.\n"
     ]
    },
    {
     "name": "stdout",
     "output_type": "stream",
     "text": [
      "O=C(O)c1cccc(NCc2ccc(-c3cccc(Cl)c3)o2)c1\n",
      "<rdkit.Chem.rdchem.Mol object at 0x7f76c72a1e40>\n",
      "\n",
      "For help, use: python dimorphite_dl.py --help\n",
      "\n",
      "If you use Dimorphite-DL in your research, please cite:\n",
      "Ropp PJ, Kaminsky JC, Yablonski S, Durrant JD (2019) Dimorphite-DL: An\n",
      "open-source program for enumerating the ionization states of drug-like small\n",
      "molecules. J Cheminform 11:14. doi:10.1186/s13321-019-0336-9.\n",
      "\n",
      "O=C(O)c1cccc(NCc2ccc(-c3cccc(Cl)c3)o2)c1\n",
      "<rdkit.Chem.rdchem.Mol object at 0x7fd01da34e40>\n",
      "\n",
      "For help, use: python dimorphite_dl.py --help\n",
      "\n",
      "If you use Dimorphite-DL in your research, please cite:\n",
      "Ropp PJ, Kaminsky JC, Yablonski S, Durrant JD (2019) Dimorphite-DL: An\n",
      "open-source program for enumerating the ionization states of drug-like small\n",
      "molecules. J Cheminform 11:14. doi:10.1186/s13321-019-0336-9.\n",
      "\n",
      "Proposed mol at pH 7.4: O=C([O-])c1cccc(NCc2ccc(-c3cccc(Cl)c3)o2)c1\n"
     ]
    },
    {
     "name": "stderr",
     "output_type": "stream",
     "text": [
      "[query.py:297 - calculate_microstate_pka_values()] Using dimorphite-dl to identify protonation sites.\n"
     ]
    },
    {
     "name": "stdout",
     "output_type": "stream",
     "text": [
      "O=C(O)Cc1cc(OCc2cccc3ccccc23)ccc1O\n",
      "<rdkit.Chem.rdchem.Mol object at 0x7f708e1b4e40>\n",
      "\n",
      "For help, use: python dimorphite_dl.py --help\n",
      "\n",
      "If you use Dimorphite-DL in your research, please cite:\n",
      "Ropp PJ, Kaminsky JC, Yablonski S, Durrant JD (2019) Dimorphite-DL: An\n",
      "open-source program for enumerating the ionization states of drug-like small\n",
      "molecules. J Cheminform 11:14. doi:10.1186/s13321-019-0336-9.\n",
      "\n",
      "O=C(O)Cc1cc(OCc2cccc3ccccc23)ccc1O\n",
      "<rdkit.Chem.rdchem.Mol object at 0x7f7d8fe82e40>\n",
      "\n",
      "For help, use: python dimorphite_dl.py --help\n",
      "\n",
      "If you use Dimorphite-DL in your research, please cite:\n",
      "Ropp PJ, Kaminsky JC, Yablonski S, Durrant JD (2019) Dimorphite-DL: An\n",
      "open-source program for enumerating the ionization states of drug-like small\n",
      "molecules. J Cheminform 11:14. doi:10.1186/s13321-019-0336-9.\n",
      "\n",
      "Proposed mol at pH 7.4: O=C([O-])Cc1cc(OCc2cccc3ccccc23)ccc1O\n"
     ]
    },
    {
     "name": "stderr",
     "output_type": "stream",
     "text": [
      "[query.py:297 - calculate_microstate_pka_values()] Using dimorphite-dl to identify protonation sites.\n"
     ]
    },
    {
     "name": "stdout",
     "output_type": "stream",
     "text": [
      "O=C(O)c1cc(NCc2ccccc2-c2ccccc2)ccc1O\n",
      "<rdkit.Chem.rdchem.Mol object at 0x7f7bf8647e40>\n",
      "\n",
      "For help, use: python dimorphite_dl.py --help\n",
      "\n",
      "If you use Dimorphite-DL in your research, please cite:\n",
      "Ropp PJ, Kaminsky JC, Yablonski S, Durrant JD (2019) Dimorphite-DL: An\n",
      "open-source program for enumerating the ionization states of drug-like small\n",
      "molecules. J Cheminform 11:14. doi:10.1186/s13321-019-0336-9.\n",
      "\n",
      "O=C(O)c1cc(NCc2ccccc2-c2ccccc2)ccc1O\n",
      "<rdkit.Chem.rdchem.Mol object at 0x7f1aefb36e40>\n",
      "\n",
      "For help, use: python dimorphite_dl.py --help\n",
      "\n",
      "If you use Dimorphite-DL in your research, please cite:\n",
      "Ropp PJ, Kaminsky JC, Yablonski S, Durrant JD (2019) Dimorphite-DL: An\n",
      "open-source program for enumerating the ionization states of drug-like small\n",
      "molecules. J Cheminform 11:14. doi:10.1186/s13321-019-0336-9.\n",
      "\n",
      "Proposed mol at pH 7.4: O=C([O-])c1cc(NCc2ccccc2-c2ccccc2)ccc1O\n"
     ]
    },
    {
     "name": "stderr",
     "output_type": "stream",
     "text": [
      "[query.py:297 - calculate_microstate_pka_values()] Using dimorphite-dl to identify protonation sites.\n"
     ]
    },
    {
     "name": "stdout",
     "output_type": "stream",
     "text": [
      "O=C(O)c1cc(OCc2ccnc(Br)n2)ccc1O\n",
      "<rdkit.Chem.rdchem.Mol object at 0x7f527bf10e40>\n",
      "\n",
      "For help, use: python dimorphite_dl.py --help\n",
      "\n",
      "If you use Dimorphite-DL in your research, please cite:\n",
      "Ropp PJ, Kaminsky JC, Yablonski S, Durrant JD (2019) Dimorphite-DL: An\n",
      "open-source program for enumerating the ionization states of drug-like small\n",
      "molecules. J Cheminform 11:14. doi:10.1186/s13321-019-0336-9.\n",
      "\n",
      "O=C(O)c1cc(OCc2ccnc(Br)n2)ccc1O\n",
      "<rdkit.Chem.rdchem.Mol object at 0x7f04eeb2ee40>\n",
      "\n",
      "For help, use: python dimorphite_dl.py --help\n",
      "\n",
      "If you use Dimorphite-DL in your research, please cite:\n",
      "Ropp PJ, Kaminsky JC, Yablonski S, Durrant JD (2019) Dimorphite-DL: An\n",
      "open-source program for enumerating the ionization states of drug-like small\n",
      "molecules. J Cheminform 11:14. doi:10.1186/s13321-019-0336-9.\n",
      "\n",
      "Proposed mol at pH 7.4: O=C([O-])c1cc(OCc2ccnc(Br)n2)ccc1O\n"
     ]
    },
    {
     "name": "stderr",
     "output_type": "stream",
     "text": [
      "[query.py:297 - calculate_microstate_pka_values()] Using dimorphite-dl to identify protonation sites.\n"
     ]
    },
    {
     "name": "stdout",
     "output_type": "stream",
     "text": [
      "O=C(O)c1cc(OCc2csc(Br)c2)ccc1O\n",
      "<rdkit.Chem.rdchem.Mol object at 0x7fd4179aae40>\n",
      "\n",
      "For help, use: python dimorphite_dl.py --help\n",
      "\n",
      "If you use Dimorphite-DL in your research, please cite:\n",
      "Ropp PJ, Kaminsky JC, Yablonski S, Durrant JD (2019) Dimorphite-DL: An\n",
      "open-source program for enumerating the ionization states of drug-like small\n",
      "molecules. J Cheminform 11:14. doi:10.1186/s13321-019-0336-9.\n",
      "\n",
      "O=C(O)c1cc(OCc2csc(Br)c2)ccc1O\n",
      "<rdkit.Chem.rdchem.Mol object at 0x7f9f065dbe40>\n",
      "\n",
      "For help, use: python dimorphite_dl.py --help\n",
      "\n",
      "If you use Dimorphite-DL in your research, please cite:\n",
      "Ropp PJ, Kaminsky JC, Yablonski S, Durrant JD (2019) Dimorphite-DL: An\n",
      "open-source program for enumerating the ionization states of drug-like small\n",
      "molecules. J Cheminform 11:14. doi:10.1186/s13321-019-0336-9.\n",
      "\n",
      "Proposed mol at pH 7.4: O=C([O-])c1cc(OCc2csc(Br)c2)ccc1O\n"
     ]
    },
    {
     "name": "stderr",
     "output_type": "stream",
     "text": [
      "[query.py:297 - calculate_microstate_pka_values()] Using dimorphite-dl to identify protonation sites.\n"
     ]
    },
    {
     "name": "stdout",
     "output_type": "stream",
     "text": [
      "CC(C)(C)COS(=O)(=O)c1cccc(-c2nc(COc3ccc(O)c(C(=O)O)c3)cs2)c1\n",
      "<rdkit.Chem.rdchem.Mol object at 0x7f72095edeb0>\n",
      "\n",
      "For help, use: python dimorphite_dl.py --help\n",
      "\n",
      "If you use Dimorphite-DL in your research, please cite:\n",
      "Ropp PJ, Kaminsky JC, Yablonski S, Durrant JD (2019) Dimorphite-DL: An\n",
      "open-source program for enumerating the ionization states of drug-like small\n",
      "molecules. J Cheminform 11:14. doi:10.1186/s13321-019-0336-9.\n",
      "\n",
      "CC(C)(C)COS(=O)(=O)c1cccc(-c2nc(COc3ccc(O)c(C(=O)O)c3)cs2)c1\n",
      "<rdkit.Chem.rdchem.Mol object at 0x7f3ed5620eb0>\n",
      "\n",
      "For help, use: python dimorphite_dl.py --help\n",
      "\n",
      "If you use Dimorphite-DL in your research, please cite:\n",
      "Ropp PJ, Kaminsky JC, Yablonski S, Durrant JD (2019) Dimorphite-DL: An\n",
      "open-source program for enumerating the ionization states of drug-like small\n",
      "molecules. J Cheminform 11:14. doi:10.1186/s13321-019-0336-9.\n",
      "\n",
      "Proposed mol at pH 7.4: CC(C)(C)COS(=O)(=O)c1cccc(-c2nc(COc3ccc(O)c(C(=O)[O-])c3)cs2)c1\n"
     ]
    },
    {
     "name": "stderr",
     "output_type": "stream",
     "text": [
      "[query.py:297 - calculate_microstate_pka_values()] Using dimorphite-dl to identify protonation sites.\n"
     ]
    },
    {
     "name": "stdout",
     "output_type": "stream",
     "text": [
      "O=C(O)c1cc(OCCOc2cccc3ccccc23)ccc1O\n",
      "<rdkit.Chem.rdchem.Mol object at 0x7fbf5e15be40>\n",
      "\n",
      "For help, use: python dimorphite_dl.py --help\n",
      "\n",
      "If you use Dimorphite-DL in your research, please cite:\n",
      "Ropp PJ, Kaminsky JC, Yablonski S, Durrant JD (2019) Dimorphite-DL: An\n",
      "open-source program for enumerating the ionization states of drug-like small\n",
      "molecules. J Cheminform 11:14. doi:10.1186/s13321-019-0336-9.\n",
      "\n",
      "O=C(O)c1cc(OCCOc2cccc3ccccc23)ccc1O\n",
      "<rdkit.Chem.rdchem.Mol object at 0x7f9e4c1aee40>\n",
      "\n",
      "For help, use: python dimorphite_dl.py --help\n",
      "\n",
      "If you use Dimorphite-DL in your research, please cite:\n",
      "Ropp PJ, Kaminsky JC, Yablonski S, Durrant JD (2019) Dimorphite-DL: An\n",
      "open-source program for enumerating the ionization states of drug-like small\n",
      "molecules. J Cheminform 11:14. doi:10.1186/s13321-019-0336-9.\n",
      "\n",
      "Proposed mol at pH 7.4: O=C([O-])c1cc(OCCOc2cccc3ccccc23)ccc1O\n"
     ]
    },
    {
     "name": "stderr",
     "output_type": "stream",
     "text": [
      "[query.py:297 - calculate_microstate_pka_values()] Using dimorphite-dl to identify protonation sites.\n"
     ]
    },
    {
     "name": "stdout",
     "output_type": "stream",
     "text": [
      "O=C(O)c1cc(CCc2cccc3ccccc23)ccc1O\n",
      "<rdkit.Chem.rdchem.Mol object at 0x7f3e961e3e40>\n",
      "\n",
      "For help, use: python dimorphite_dl.py --help\n",
      "\n",
      "If you use Dimorphite-DL in your research, please cite:\n",
      "Ropp PJ, Kaminsky JC, Yablonski S, Durrant JD (2019) Dimorphite-DL: An\n",
      "open-source program for enumerating the ionization states of drug-like small\n",
      "molecules. J Cheminform 11:14. doi:10.1186/s13321-019-0336-9.\n",
      "\n",
      "O=C(O)c1cc(CCc2cccc3ccccc23)ccc1O\n",
      "<rdkit.Chem.rdchem.Mol object at 0x7fb49909be40>\n",
      "\n",
      "For help, use: python dimorphite_dl.py --help\n",
      "\n",
      "If you use Dimorphite-DL in your research, please cite:\n",
      "Ropp PJ, Kaminsky JC, Yablonski S, Durrant JD (2019) Dimorphite-DL: An\n",
      "open-source program for enumerating the ionization states of drug-like small\n",
      "molecules. J Cheminform 11:14. doi:10.1186/s13321-019-0336-9.\n",
      "\n",
      "Proposed mol at pH 7.4: O=C([O-])c1cc(CCc2cccc3ccccc23)ccc1O\n"
     ]
    },
    {
     "name": "stderr",
     "output_type": "stream",
     "text": [
      "[query.py:297 - calculate_microstate_pka_values()] Using dimorphite-dl to identify protonation sites.\n"
     ]
    },
    {
     "name": "stdout",
     "output_type": "stream",
     "text": [
      "NC(=O)c1cc(/C=N/NC(=O)CC23CC4CC(CC(C4)C2)C3)ccc1O\n",
      "<rdkit.Chem.rdchem.Mol object at 0x7f81b2457eb0>\n",
      "\n",
      "For help, use: python dimorphite_dl.py --help\n",
      "\n",
      "If you use Dimorphite-DL in your research, please cite:\n",
      "Ropp PJ, Kaminsky JC, Yablonski S, Durrant JD (2019) Dimorphite-DL: An\n",
      "open-source program for enumerating the ionization states of drug-like small\n",
      "molecules. J Cheminform 11:14. doi:10.1186/s13321-019-0336-9.\n",
      "\n",
      "NC(=O)c1cc(/C=N/NC(=O)CC23CC4CC(CC(C4)C2)C3)ccc1O\n",
      "<rdkit.Chem.rdchem.Mol object at 0x7f681080deb0>\n",
      "\n",
      "For help, use: python dimorphite_dl.py --help\n",
      "\n",
      "If you use Dimorphite-DL in your research, please cite:\n",
      "Ropp PJ, Kaminsky JC, Yablonski S, Durrant JD (2019) Dimorphite-DL: An\n",
      "open-source program for enumerating the ionization states of drug-like small\n",
      "molecules. J Cheminform 11:14. doi:10.1186/s13321-019-0336-9.\n",
      "\n",
      "Proposed mol at pH 7.4: NC(=O)c1cc(/C=N/[N-]C(=O)CC23CC4CC(CC(C4)C2)C3)ccc1O\n"
     ]
    },
    {
     "name": "stderr",
     "output_type": "stream",
     "text": [
      "[query.py:297 - calculate_microstate_pka_values()] Using dimorphite-dl to identify protonation sites.\n"
     ]
    },
    {
     "name": "stdout",
     "output_type": "stream",
     "text": [
      "O=C(O)c1cc(OCc2cnc(-c3cccc(OCc4cccc(Cl)c4)c3)nc2)ccc1O\n",
      "<rdkit.Chem.rdchem.Mol object at 0x7f10f4cd6eb0>\n",
      "\n",
      "For help, use: python dimorphite_dl.py --help\n",
      "\n",
      "If you use Dimorphite-DL in your research, please cite:\n",
      "Ropp PJ, Kaminsky JC, Yablonski S, Durrant JD (2019) Dimorphite-DL: An\n",
      "open-source program for enumerating the ionization states of drug-like small\n",
      "molecules. J Cheminform 11:14. doi:10.1186/s13321-019-0336-9.\n",
      "\n",
      "O=C(O)c1cc(OCc2cnc(-c3cccc(OCc4cccc(Cl)c4)c3)nc2)ccc1O\n",
      "<rdkit.Chem.rdchem.Mol object at 0x7f662a258eb0>\n",
      "\n",
      "For help, use: python dimorphite_dl.py --help\n",
      "\n",
      "If you use Dimorphite-DL in your research, please cite:\n",
      "Ropp PJ, Kaminsky JC, Yablonski S, Durrant JD (2019) Dimorphite-DL: An\n",
      "open-source program for enumerating the ionization states of drug-like small\n",
      "molecules. J Cheminform 11:14. doi:10.1186/s13321-019-0336-9.\n",
      "\n",
      "Proposed mol at pH 7.4: O=C([O-])c1cc(OCc2cnc(-c3cccc(OCc4cccc(Cl)c4)c3)nc2)ccc1O\n"
     ]
    },
    {
     "name": "stderr",
     "output_type": "stream",
     "text": [
      "[query.py:297 - calculate_microstate_pka_values()] Using dimorphite-dl to identify protonation sites.\n"
     ]
    },
    {
     "name": "stdout",
     "output_type": "stream",
     "text": [
      "O=C(COc1cccc2ccccc12)N/N=C\\c1c[nH]c2cc(OCc3ccccc3)ccc12\n",
      "<rdkit.Chem.rdchem.Mol object at 0x7fe952cc7eb0>\n",
      "\n",
      "For help, use: python dimorphite_dl.py --help\n",
      "\n",
      "If you use Dimorphite-DL in your research, please cite:\n",
      "Ropp PJ, Kaminsky JC, Yablonski S, Durrant JD (2019) Dimorphite-DL: An\n",
      "open-source program for enumerating the ionization states of drug-like small\n",
      "molecules. J Cheminform 11:14. doi:10.1186/s13321-019-0336-9.\n",
      "\n",
      "O=C(COc1cccc2ccccc12)N/N=C\\c1c[nH]c2cc(OCc3ccccc3)ccc12\n",
      "<rdkit.Chem.rdchem.Mol object at 0x7efd67663eb0>\n",
      "\n",
      "For help, use: python dimorphite_dl.py --help\n",
      "\n",
      "If you use Dimorphite-DL in your research, please cite:\n",
      "Ropp PJ, Kaminsky JC, Yablonski S, Durrant JD (2019) Dimorphite-DL: An\n",
      "open-source program for enumerating the ionization states of drug-like small\n",
      "molecules. J Cheminform 11:14. doi:10.1186/s13321-019-0336-9.\n",
      "\n",
      "Proposed mol at pH 7.4: O=C(COc1cccc2ccccc12)[N-]/N=C\\c1c[nH]c2cc(OCc3ccccc3)ccc12\n"
     ]
    },
    {
     "name": "stderr",
     "output_type": "stream",
     "text": [
      "[query.py:297 - calculate_microstate_pka_values()] Using dimorphite-dl to identify protonation sites.\n"
     ]
    },
    {
     "name": "stdout",
     "output_type": "stream",
     "text": [
      "O=C(O)c1ccc(OCc2cccc(-c3ccsc3)c2)cc1O\n",
      "<rdkit.Chem.rdchem.Mol object at 0x7fe454deee40>\n",
      "\n",
      "For help, use: python dimorphite_dl.py --help\n",
      "\n",
      "If you use Dimorphite-DL in your research, please cite:\n",
      "Ropp PJ, Kaminsky JC, Yablonski S, Durrant JD (2019) Dimorphite-DL: An\n",
      "open-source program for enumerating the ionization states of drug-like small\n",
      "molecules. J Cheminform 11:14. doi:10.1186/s13321-019-0336-9.\n",
      "\n",
      "O=C(O)c1ccc(OCc2cccc(-c3ccsc3)c2)cc1O\n",
      "<rdkit.Chem.rdchem.Mol object at 0x7fe991676e40>\n",
      "\n",
      "For help, use: python dimorphite_dl.py --help\n",
      "\n",
      "If you use Dimorphite-DL in your research, please cite:\n",
      "Ropp PJ, Kaminsky JC, Yablonski S, Durrant JD (2019) Dimorphite-DL: An\n",
      "open-source program for enumerating the ionization states of drug-like small\n",
      "molecules. J Cheminform 11:14. doi:10.1186/s13321-019-0336-9.\n",
      "\n",
      "Proposed mol at pH 7.4: O=C([O-])c1ccc(OCc2cccc(-c3ccsc3)c2)cc1O\n"
     ]
    },
    {
     "name": "stderr",
     "output_type": "stream",
     "text": [
      "[query.py:297 - calculate_microstate_pka_values()] Using dimorphite-dl to identify protonation sites.\n"
     ]
    },
    {
     "name": "stdout",
     "output_type": "stream",
     "text": [
      "O=C(O)CCCc1cc(OCc2cccc3ccccc23)ccc1O\n",
      "<rdkit.Chem.rdchem.Mol object at 0x7f7c1b1d6e40>\n",
      "\n",
      "For help, use: python dimorphite_dl.py --help\n",
      "\n",
      "If you use Dimorphite-DL in your research, please cite:\n",
      "Ropp PJ, Kaminsky JC, Yablonski S, Durrant JD (2019) Dimorphite-DL: An\n",
      "open-source program for enumerating the ionization states of drug-like small\n",
      "molecules. J Cheminform 11:14. doi:10.1186/s13321-019-0336-9.\n",
      "\n",
      "O=C(O)CCCc1cc(OCc2cccc3ccccc23)ccc1O\n",
      "<rdkit.Chem.rdchem.Mol object at 0x7fb9426bce40>\n",
      "\n",
      "For help, use: python dimorphite_dl.py --help\n",
      "\n",
      "If you use Dimorphite-DL in your research, please cite:\n",
      "Ropp PJ, Kaminsky JC, Yablonski S, Durrant JD (2019) Dimorphite-DL: An\n",
      "open-source program for enumerating the ionization states of drug-like small\n",
      "molecules. J Cheminform 11:14. doi:10.1186/s13321-019-0336-9.\n",
      "\n",
      "Proposed mol at pH 7.4: O=C([O-])CCCc1cc(OCc2cccc3ccccc23)ccc1O\n"
     ]
    },
    {
     "name": "stderr",
     "output_type": "stream",
     "text": [
      "[query.py:297 - calculate_microstate_pka_values()] Using dimorphite-dl to identify protonation sites.\n"
     ]
    },
    {
     "name": "stdout",
     "output_type": "stream",
     "text": [
      "O=C(CC12CC3CC(CC(C3)C1)C2)N/N=C\\c1c[nH]c2cc(OCc3ccccc3)ccc12\n",
      "<rdkit.Chem.rdchem.Mol object at 0x7f0af8c82eb0>\n",
      "\n",
      "For help, use: python dimorphite_dl.py --help\n",
      "\n",
      "If you use Dimorphite-DL in your research, please cite:\n",
      "Ropp PJ, Kaminsky JC, Yablonski S, Durrant JD (2019) Dimorphite-DL: An\n",
      "open-source program for enumerating the ionization states of drug-like small\n",
      "molecules. J Cheminform 11:14. doi:10.1186/s13321-019-0336-9.\n",
      "\n",
      "O=C(CC12CC3CC(CC(C3)C1)C2)N/N=C\\c1c[nH]c2cc(OCc3ccccc3)ccc12\n",
      "<rdkit.Chem.rdchem.Mol object at 0x7f78e3bf4eb0>\n",
      "\n",
      "For help, use: python dimorphite_dl.py --help\n",
      "\n",
      "If you use Dimorphite-DL in your research, please cite:\n",
      "Ropp PJ, Kaminsky JC, Yablonski S, Durrant JD (2019) Dimorphite-DL: An\n",
      "open-source program for enumerating the ionization states of drug-like small\n",
      "molecules. J Cheminform 11:14. doi:10.1186/s13321-019-0336-9.\n",
      "\n",
      "Proposed mol at pH 7.4: O=C(CC12CC3CC(CC(C3)C1)C2)[N-]/N=C\\c1c[nH]c2cc(OCc3ccccc3)ccc12\n"
     ]
    },
    {
     "name": "stderr",
     "output_type": "stream",
     "text": [
      "[query.py:297 - calculate_microstate_pka_values()] Using dimorphite-dl to identify protonation sites.\n"
     ]
    },
    {
     "name": "stdout",
     "output_type": "stream",
     "text": [
      "O=C(O)c1cc(OCc2cccc(-c3cccc(Oc4ccncc4)c3)c2)ccc1O\n",
      "<rdkit.Chem.rdchem.Mol object at 0x7efe9bbe4eb0>\n",
      "\n",
      "For help, use: python dimorphite_dl.py --help\n",
      "\n",
      "If you use Dimorphite-DL in your research, please cite:\n",
      "Ropp PJ, Kaminsky JC, Yablonski S, Durrant JD (2019) Dimorphite-DL: An\n",
      "open-source program for enumerating the ionization states of drug-like small\n",
      "molecules. J Cheminform 11:14. doi:10.1186/s13321-019-0336-9.\n",
      "\n",
      "O=C(O)c1cc(OCc2cccc(-c3cccc(Oc4ccncc4)c3)c2)ccc1O\n",
      "<rdkit.Chem.rdchem.Mol object at 0x7f84ce8c7eb0>\n",
      "\n",
      "For help, use: python dimorphite_dl.py --help\n",
      "\n",
      "If you use Dimorphite-DL in your research, please cite:\n",
      "Ropp PJ, Kaminsky JC, Yablonski S, Durrant JD (2019) Dimorphite-DL: An\n",
      "open-source program for enumerating the ionization states of drug-like small\n",
      "molecules. J Cheminform 11:14. doi:10.1186/s13321-019-0336-9.\n",
      "\n",
      "Proposed mol at pH 7.4: O=C([O-])c1cc(OCc2cccc(-c3cccc(Oc4ccncc4)c3)c2)ccc1O\n"
     ]
    },
    {
     "name": "stderr",
     "output_type": "stream",
     "text": [
      "[query.py:297 - calculate_microstate_pka_values()] Using dimorphite-dl to identify protonation sites.\n"
     ]
    },
    {
     "name": "stdout",
     "output_type": "stream",
     "text": [
      "O=C(O)c1cc(OCc2cccc(-c3cccc(Oc4ccc(F)cc4)c3)c2)ccc1O\n",
      "<rdkit.Chem.rdchem.Mol object at 0x7f30888fceb0>\n",
      "\n",
      "For help, use: python dimorphite_dl.py --help\n",
      "\n",
      "If you use Dimorphite-DL in your research, please cite:\n",
      "Ropp PJ, Kaminsky JC, Yablonski S, Durrant JD (2019) Dimorphite-DL: An\n",
      "open-source program for enumerating the ionization states of drug-like small\n",
      "molecules. J Cheminform 11:14. doi:10.1186/s13321-019-0336-9.\n",
      "\n",
      "O=C(O)c1cc(OCc2cccc(-c3cccc(Oc4ccc(F)cc4)c3)c2)ccc1O\n",
      "<rdkit.Chem.rdchem.Mol object at 0x7f889d94eeb0>\n",
      "\n",
      "For help, use: python dimorphite_dl.py --help\n",
      "\n",
      "If you use Dimorphite-DL in your research, please cite:\n",
      "Ropp PJ, Kaminsky JC, Yablonski S, Durrant JD (2019) Dimorphite-DL: An\n",
      "open-source program for enumerating the ionization states of drug-like small\n",
      "molecules. J Cheminform 11:14. doi:10.1186/s13321-019-0336-9.\n",
      "\n",
      "Proposed mol at pH 7.4: O=C([O-])c1cc(OCc2cccc(-c3cccc(Oc4ccc(F)cc4)c3)c2)ccc1O\n"
     ]
    },
    {
     "name": "stderr",
     "output_type": "stream",
     "text": [
      "[query.py:297 - calculate_microstate_pka_values()] Using dimorphite-dl to identify protonation sites.\n"
     ]
    },
    {
     "name": "stdout",
     "output_type": "stream",
     "text": [
      "O=C(O)c1cc(OCc2cccc(-c3cccc(CN4CCOCC4)c3)c2)ccc1O\n",
      "<rdkit.Chem.rdchem.Mol object at 0x7fa5881c2eb0>\n",
      "\n",
      "For help, use: python dimorphite_dl.py --help\n",
      "\n",
      "If you use Dimorphite-DL in your research, please cite:\n",
      "Ropp PJ, Kaminsky JC, Yablonski S, Durrant JD (2019) Dimorphite-DL: An\n",
      "open-source program for enumerating the ionization states of drug-like small\n",
      "molecules. J Cheminform 11:14. doi:10.1186/s13321-019-0336-9.\n",
      "\n",
      "O=C(O)c1cc(OCc2cccc(-c3cccc(CN4CCOCC4)c3)c2)ccc1O\n",
      "<rdkit.Chem.rdchem.Mol object at 0x7fa1f9496eb0>\n",
      "\n",
      "For help, use: python dimorphite_dl.py --help\n",
      "\n",
      "If you use Dimorphite-DL in your research, please cite:\n",
      "Ropp PJ, Kaminsky JC, Yablonski S, Durrant JD (2019) Dimorphite-DL: An\n",
      "open-source program for enumerating the ionization states of drug-like small\n",
      "molecules. J Cheminform 11:14. doi:10.1186/s13321-019-0336-9.\n",
      "\n",
      "Proposed mol at pH 7.4: O=C([O-])c1cc(OCc2cccc(-c3cccc(C[NH+]4CCOCC4)c3)c2)ccc1O\n"
     ]
    },
    {
     "name": "stderr",
     "output_type": "stream",
     "text": [
      "[query.py:297 - calculate_microstate_pka_values()] Using dimorphite-dl to identify protonation sites.\n"
     ]
    },
    {
     "name": "stdout",
     "output_type": "stream",
     "text": [
      "O=C(O)c1cc(OCc2cccc(-c3cccc(CN4CCCC4)c3)c2)ccc1O\n",
      "<rdkit.Chem.rdchem.Mol object at 0x7f1738a10eb0>\n",
      "\n",
      "For help, use: python dimorphite_dl.py --help\n",
      "\n",
      "If you use Dimorphite-DL in your research, please cite:\n",
      "Ropp PJ, Kaminsky JC, Yablonski S, Durrant JD (2019) Dimorphite-DL: An\n",
      "open-source program for enumerating the ionization states of drug-like small\n",
      "molecules. J Cheminform 11:14. doi:10.1186/s13321-019-0336-9.\n",
      "\n",
      "O=C(O)c1cc(OCc2cccc(-c3cccc(CN4CCCC4)c3)c2)ccc1O\n",
      "<rdkit.Chem.rdchem.Mol object at 0x7f45ec6b5eb0>\n",
      "\n",
      "For help, use: python dimorphite_dl.py --help\n",
      "\n",
      "If you use Dimorphite-DL in your research, please cite:\n",
      "Ropp PJ, Kaminsky JC, Yablonski S, Durrant JD (2019) Dimorphite-DL: An\n",
      "open-source program for enumerating the ionization states of drug-like small\n",
      "molecules. J Cheminform 11:14. doi:10.1186/s13321-019-0336-9.\n",
      "\n",
      "Proposed mol at pH 7.4: O=C([O-])c1cc(OCc2cccc(-c3cccc(C[NH+]4CCCC4)c3)c2)ccc1O\n"
     ]
    },
    {
     "name": "stderr",
     "output_type": "stream",
     "text": [
      "[query.py:297 - calculate_microstate_pka_values()] Using dimorphite-dl to identify protonation sites.\n"
     ]
    },
    {
     "name": "stdout",
     "output_type": "stream",
     "text": [
      "O=C(O)c1cc(OCc2cccc(-c3cccc(OC4CCCCC4)c3)c2)ccc1O\n",
      "<rdkit.Chem.rdchem.Mol object at 0x7f6bdde41eb0>\n",
      "\n",
      "For help, use: python dimorphite_dl.py --help\n",
      "\n",
      "If you use Dimorphite-DL in your research, please cite:\n",
      "Ropp PJ, Kaminsky JC, Yablonski S, Durrant JD (2019) Dimorphite-DL: An\n",
      "open-source program for enumerating the ionization states of drug-like small\n",
      "molecules. J Cheminform 11:14. doi:10.1186/s13321-019-0336-9.\n",
      "\n",
      "O=C(O)c1cc(OCc2cccc(-c3cccc(OC4CCCCC4)c3)c2)ccc1O\n",
      "<rdkit.Chem.rdchem.Mol object at 0x7f3f1532eeb0>\n",
      "\n",
      "For help, use: python dimorphite_dl.py --help\n",
      "\n",
      "If you use Dimorphite-DL in your research, please cite:\n",
      "Ropp PJ, Kaminsky JC, Yablonski S, Durrant JD (2019) Dimorphite-DL: An\n",
      "open-source program for enumerating the ionization states of drug-like small\n",
      "molecules. J Cheminform 11:14. doi:10.1186/s13321-019-0336-9.\n",
      "\n",
      "Proposed mol at pH 7.4: O=C([O-])c1cc(OCc2cccc(-c3cccc(OC4CCCCC4)c3)c2)ccc1O\n"
     ]
    },
    {
     "name": "stderr",
     "output_type": "stream",
     "text": [
      "[query.py:297 - calculate_microstate_pka_values()] Using dimorphite-dl to identify protonation sites.\n"
     ]
    },
    {
     "name": "stdout",
     "output_type": "stream",
     "text": [
      "O=C(O)c1cc(OCc2cccc(-c3cccc(OC4CCCC4)c3)c2)ccc1O\n",
      "<rdkit.Chem.rdchem.Mol object at 0x7f91ed921eb0>\n",
      "\n",
      "For help, use: python dimorphite_dl.py --help\n",
      "\n",
      "If you use Dimorphite-DL in your research, please cite:\n",
      "Ropp PJ, Kaminsky JC, Yablonski S, Durrant JD (2019) Dimorphite-DL: An\n",
      "open-source program for enumerating the ionization states of drug-like small\n",
      "molecules. J Cheminform 11:14. doi:10.1186/s13321-019-0336-9.\n",
      "\n",
      "O=C(O)c1cc(OCc2cccc(-c3cccc(OC4CCCC4)c3)c2)ccc1O\n",
      "<rdkit.Chem.rdchem.Mol object at 0x7f0d70e18eb0>\n",
      "\n",
      "For help, use: python dimorphite_dl.py --help\n",
      "\n",
      "If you use Dimorphite-DL in your research, please cite:\n",
      "Ropp PJ, Kaminsky JC, Yablonski S, Durrant JD (2019) Dimorphite-DL: An\n",
      "open-source program for enumerating the ionization states of drug-like small\n",
      "molecules. J Cheminform 11:14. doi:10.1186/s13321-019-0336-9.\n",
      "\n",
      "Proposed mol at pH 7.4: O=C([O-])c1cc(OCc2cccc(-c3cccc(OC4CCCC4)c3)c2)ccc1O\n"
     ]
    },
    {
     "name": "stderr",
     "output_type": "stream",
     "text": [
      "[query.py:297 - calculate_microstate_pka_values()] Using dimorphite-dl to identify protonation sites.\n"
     ]
    },
    {
     "name": "stdout",
     "output_type": "stream",
     "text": [
      "CC(C)Oc1cccc(-c2cccc(COc3ccc(O)c(C(=O)O)c3)c2)c1\n",
      "<rdkit.Chem.rdchem.Mol object at 0x7f0fda9f4eb0>\n",
      "\n",
      "For help, use: python dimorphite_dl.py --help\n",
      "\n",
      "If you use Dimorphite-DL in your research, please cite:\n",
      "Ropp PJ, Kaminsky JC, Yablonski S, Durrant JD (2019) Dimorphite-DL: An\n",
      "open-source program for enumerating the ionization states of drug-like small\n",
      "molecules. J Cheminform 11:14. doi:10.1186/s13321-019-0336-9.\n",
      "\n",
      "CC(C)Oc1cccc(-c2cccc(COc3ccc(O)c(C(=O)O)c3)c2)c1\n",
      "<rdkit.Chem.rdchem.Mol object at 0x7f65b1ea4eb0>\n",
      "\n",
      "For help, use: python dimorphite_dl.py --help\n",
      "\n",
      "If you use Dimorphite-DL in your research, please cite:\n",
      "Ropp PJ, Kaminsky JC, Yablonski S, Durrant JD (2019) Dimorphite-DL: An\n",
      "open-source program for enumerating the ionization states of drug-like small\n",
      "molecules. J Cheminform 11:14. doi:10.1186/s13321-019-0336-9.\n",
      "\n",
      "Proposed mol at pH 7.4: CC(C)Oc1cccc(-c2cccc(COc3ccc(O)c(C(=O)[O-])c3)c2)c1\n"
     ]
    },
    {
     "name": "stderr",
     "output_type": "stream",
     "text": [
      "[query.py:297 - calculate_microstate_pka_values()] Using dimorphite-dl to identify protonation sites.\n"
     ]
    },
    {
     "name": "stdout",
     "output_type": "stream",
     "text": [
      "O=C(O)c1cc(OCc2cccc(-c3cccc(Oc4cncnc4)c3)c2)ccc1O\n",
      "<rdkit.Chem.rdchem.Mol object at 0x7f2217b76eb0>\n",
      "\n",
      "For help, use: python dimorphite_dl.py --help\n",
      "\n",
      "If you use Dimorphite-DL in your research, please cite:\n",
      "Ropp PJ, Kaminsky JC, Yablonski S, Durrant JD (2019) Dimorphite-DL: An\n",
      "open-source program for enumerating the ionization states of drug-like small\n",
      "molecules. J Cheminform 11:14. doi:10.1186/s13321-019-0336-9.\n",
      "\n",
      "O=C(O)c1cc(OCc2cccc(-c3cccc(Oc4cncnc4)c3)c2)ccc1O\n",
      "<rdkit.Chem.rdchem.Mol object at 0x7fddf9e96eb0>\n",
      "\n",
      "For help, use: python dimorphite_dl.py --help\n",
      "\n",
      "If you use Dimorphite-DL in your research, please cite:\n",
      "Ropp PJ, Kaminsky JC, Yablonski S, Durrant JD (2019) Dimorphite-DL: An\n",
      "open-source program for enumerating the ionization states of drug-like small\n",
      "molecules. J Cheminform 11:14. doi:10.1186/s13321-019-0336-9.\n",
      "\n",
      "Proposed mol at pH 7.4: O=C([O-])c1cc(OCc2cccc(-c3cccc(Oc4cncnc4)c3)c2)ccc1O\n"
     ]
    },
    {
     "name": "stderr",
     "output_type": "stream",
     "text": [
      "[query.py:297 - calculate_microstate_pka_values()] Using dimorphite-dl to identify protonation sites.\n"
     ]
    },
    {
     "name": "stdout",
     "output_type": "stream",
     "text": [
      "O=C(O)c1cc(OCc2cccc(-c3cccc(Oc4cccnc4)c3)c2)ccc1O\n",
      "<rdkit.Chem.rdchem.Mol object at 0x7fcf1ff56eb0>\n",
      "\n",
      "For help, use: python dimorphite_dl.py --help\n",
      "\n",
      "If you use Dimorphite-DL in your research, please cite:\n",
      "Ropp PJ, Kaminsky JC, Yablonski S, Durrant JD (2019) Dimorphite-DL: An\n",
      "open-source program for enumerating the ionization states of drug-like small\n",
      "molecules. J Cheminform 11:14. doi:10.1186/s13321-019-0336-9.\n",
      "\n",
      "O=C(O)c1cc(OCc2cccc(-c3cccc(Oc4cccnc4)c3)c2)ccc1O\n",
      "<rdkit.Chem.rdchem.Mol object at 0x7fb63b995eb0>\n",
      "\n",
      "For help, use: python dimorphite_dl.py --help\n",
      "\n",
      "If you use Dimorphite-DL in your research, please cite:\n",
      "Ropp PJ, Kaminsky JC, Yablonski S, Durrant JD (2019) Dimorphite-DL: An\n",
      "open-source program for enumerating the ionization states of drug-like small\n",
      "molecules. J Cheminform 11:14. doi:10.1186/s13321-019-0336-9.\n",
      "\n",
      "Proposed mol at pH 7.4: O=C([O-])c1cc(OCc2cccc(-c3cccc(Oc4cccnc4)c3)c2)ccc1O\n"
     ]
    },
    {
     "name": "stderr",
     "output_type": "stream",
     "text": [
      "[query.py:297 - calculate_microstate_pka_values()] Using dimorphite-dl to identify protonation sites.\n"
     ]
    },
    {
     "name": "stdout",
     "output_type": "stream",
     "text": [
      "O=C(O)c1cc(OCc2cccc(-c3cccc(Oc4ccc(C(F)(F)F)cc4)c3)c2)ccc1O\n",
      "<rdkit.Chem.rdchem.Mol object at 0x7fc306896eb0>\n",
      "\n",
      "For help, use: python dimorphite_dl.py --help\n",
      "\n",
      "If you use Dimorphite-DL in your research, please cite:\n",
      "Ropp PJ, Kaminsky JC, Yablonski S, Durrant JD (2019) Dimorphite-DL: An\n",
      "open-source program for enumerating the ionization states of drug-like small\n",
      "molecules. J Cheminform 11:14. doi:10.1186/s13321-019-0336-9.\n",
      "\n",
      "O=C(O)c1cc(OCc2cccc(-c3cccc(Oc4ccc(C(F)(F)F)cc4)c3)c2)ccc1O\n",
      "<rdkit.Chem.rdchem.Mol object at 0x7f8668baeeb0>\n",
      "\n",
      "For help, use: python dimorphite_dl.py --help\n",
      "\n",
      "If you use Dimorphite-DL in your research, please cite:\n",
      "Ropp PJ, Kaminsky JC, Yablonski S, Durrant JD (2019) Dimorphite-DL: An\n",
      "open-source program for enumerating the ionization states of drug-like small\n",
      "molecules. J Cheminform 11:14. doi:10.1186/s13321-019-0336-9.\n",
      "\n",
      "Proposed mol at pH 7.4: O=C([O-])c1cc(OCc2cccc(-c3cccc(Oc4ccc(C(F)(F)F)cc4)c3)c2)ccc1O\n"
     ]
    },
    {
     "name": "stderr",
     "output_type": "stream",
     "text": [
      "[query.py:297 - calculate_microstate_pka_values()] Using dimorphite-dl to identify protonation sites.\n"
     ]
    },
    {
     "name": "stdout",
     "output_type": "stream",
     "text": [
      "COc1ccc(Oc2cccc(-c3cccc(COc4ccc(O)c(C(=O)O)c4)c3)c2)cc1\n",
      "<rdkit.Chem.rdchem.Mol object at 0x7f28a1a28eb0>\n",
      "\n",
      "For help, use: python dimorphite_dl.py --help\n",
      "\n",
      "If you use Dimorphite-DL in your research, please cite:\n",
      "Ropp PJ, Kaminsky JC, Yablonski S, Durrant JD (2019) Dimorphite-DL: An\n",
      "open-source program for enumerating the ionization states of drug-like small\n",
      "molecules. J Cheminform 11:14. doi:10.1186/s13321-019-0336-9.\n",
      "\n",
      "COc1ccc(Oc2cccc(-c3cccc(COc4ccc(O)c(C(=O)O)c4)c3)c2)cc1\n",
      "<rdkit.Chem.rdchem.Mol object at 0x7f3adf1b6eb0>\n",
      "\n",
      "For help, use: python dimorphite_dl.py --help\n",
      "\n",
      "If you use Dimorphite-DL in your research, please cite:\n",
      "Ropp PJ, Kaminsky JC, Yablonski S, Durrant JD (2019) Dimorphite-DL: An\n",
      "open-source program for enumerating the ionization states of drug-like small\n",
      "molecules. J Cheminform 11:14. doi:10.1186/s13321-019-0336-9.\n",
      "\n",
      "Proposed mol at pH 7.4: COc1ccc(Oc2cccc(-c3cccc(COc4ccc(O)c(C(=O)[O-])c4)c3)c2)cc1\n"
     ]
    },
    {
     "name": "stderr",
     "output_type": "stream",
     "text": [
      "[query.py:297 - calculate_microstate_pka_values()] Using dimorphite-dl to identify protonation sites.\n"
     ]
    },
    {
     "name": "stdout",
     "output_type": "stream",
     "text": [
      "O=C(O)c1cc(OCc2cccc(-c3cccc(Oc4ccc(Cl)cc4)c3)c2)ccc1O\n",
      "<rdkit.Chem.rdchem.Mol object at 0x7fbe4955aeb0>\n",
      "\n",
      "For help, use: python dimorphite_dl.py --help\n",
      "\n",
      "If you use Dimorphite-DL in your research, please cite:\n",
      "Ropp PJ, Kaminsky JC, Yablonski S, Durrant JD (2019) Dimorphite-DL: An\n",
      "open-source program for enumerating the ionization states of drug-like small\n",
      "molecules. J Cheminform 11:14. doi:10.1186/s13321-019-0336-9.\n",
      "\n",
      "O=C(O)c1cc(OCc2cccc(-c3cccc(Oc4ccc(Cl)cc4)c3)c2)ccc1O\n",
      "<rdkit.Chem.rdchem.Mol object at 0x7fa48d374eb0>\n",
      "\n",
      "For help, use: python dimorphite_dl.py --help\n",
      "\n",
      "If you use Dimorphite-DL in your research, please cite:\n",
      "Ropp PJ, Kaminsky JC, Yablonski S, Durrant JD (2019) Dimorphite-DL: An\n",
      "open-source program for enumerating the ionization states of drug-like small\n",
      "molecules. J Cheminform 11:14. doi:10.1186/s13321-019-0336-9.\n",
      "\n",
      "Proposed mol at pH 7.4: O=C([O-])c1cc(OCc2cccc(-c3cccc(Oc4ccc(Cl)cc4)c3)c2)ccc1O\n"
     ]
    },
    {
     "name": "stderr",
     "output_type": "stream",
     "text": [
      "[query.py:297 - calculate_microstate_pka_values()] Using dimorphite-dl to identify protonation sites.\n"
     ]
    },
    {
     "name": "stdout",
     "output_type": "stream",
     "text": [
      "N#Cc1ccc(Oc2cccc(-c3cccc(COc4ccc(O)c(C(=O)O)c4)c3)c2)cc1\n",
      "<rdkit.Chem.rdchem.Mol object at 0x7ff050410eb0>\n",
      "\n",
      "For help, use: python dimorphite_dl.py --help\n",
      "\n",
      "If you use Dimorphite-DL in your research, please cite:\n",
      "Ropp PJ, Kaminsky JC, Yablonski S, Durrant JD (2019) Dimorphite-DL: An\n",
      "open-source program for enumerating the ionization states of drug-like small\n",
      "molecules. J Cheminform 11:14. doi:10.1186/s13321-019-0336-9.\n",
      "\n",
      "N#Cc1ccc(Oc2cccc(-c3cccc(COc4ccc(O)c(C(=O)O)c4)c3)c2)cc1\n",
      "<rdkit.Chem.rdchem.Mol object at 0x7fef08a64eb0>\n",
      "\n",
      "For help, use: python dimorphite_dl.py --help\n",
      "\n",
      "If you use Dimorphite-DL in your research, please cite:\n",
      "Ropp PJ, Kaminsky JC, Yablonski S, Durrant JD (2019) Dimorphite-DL: An\n",
      "open-source program for enumerating the ionization states of drug-like small\n",
      "molecules. J Cheminform 11:14. doi:10.1186/s13321-019-0336-9.\n",
      "\n",
      "Proposed mol at pH 7.4: N#Cc1ccc(Oc2cccc(-c3cccc(COc4ccc(O)c(C(=O)[O-])c4)c3)c2)cc1\n"
     ]
    },
    {
     "name": "stderr",
     "output_type": "stream",
     "text": [
      "[query.py:297 - calculate_microstate_pka_values()] Using dimorphite-dl to identify protonation sites.\n"
     ]
    },
    {
     "name": "stdout",
     "output_type": "stream",
     "text": [
      "Nc1ccc(Oc2cccc(-c3cccc(COc4ccc(O)c(C(=O)O)c4)c3)c2)cc1\n",
      "<rdkit.Chem.rdchem.Mol object at 0x7f61aec8eeb0>\n",
      "\n",
      "For help, use: python dimorphite_dl.py --help\n",
      "\n",
      "If you use Dimorphite-DL in your research, please cite:\n",
      "Ropp PJ, Kaminsky JC, Yablonski S, Durrant JD (2019) Dimorphite-DL: An\n",
      "open-source program for enumerating the ionization states of drug-like small\n",
      "molecules. J Cheminform 11:14. doi:10.1186/s13321-019-0336-9.\n",
      "\n",
      "Nc1ccc(Oc2cccc(-c3cccc(COc4ccc(O)c(C(=O)O)c4)c3)c2)cc1\n",
      "<rdkit.Chem.rdchem.Mol object at 0x7fc8e97bceb0>\n",
      "\n",
      "For help, use: python dimorphite_dl.py --help\n",
      "\n",
      "If you use Dimorphite-DL in your research, please cite:\n",
      "Ropp PJ, Kaminsky JC, Yablonski S, Durrant JD (2019) Dimorphite-DL: An\n",
      "open-source program for enumerating the ionization states of drug-like small\n",
      "molecules. J Cheminform 11:14. doi:10.1186/s13321-019-0336-9.\n",
      "\n",
      "Proposed mol at pH 7.4: Nc1ccc(Oc2cccc(-c3cccc(COc4ccc(O)c(C(=O)[O-])c4)c3)c2)cc1\n"
     ]
    },
    {
     "name": "stderr",
     "output_type": "stream",
     "text": [
      "[query.py:297 - calculate_microstate_pka_values()] Using dimorphite-dl to identify protonation sites.\n"
     ]
    },
    {
     "name": "stdout",
     "output_type": "stream",
     "text": [
      "Cc1ccc(Oc2cccc(-c3cccc(COc4ccc(O)c(C(=O)O)c4)c3)c2)cc1\n",
      "<rdkit.Chem.rdchem.Mol object at 0x7f7ed12d6eb0>\n",
      "\n",
      "For help, use: python dimorphite_dl.py --help\n",
      "\n",
      "If you use Dimorphite-DL in your research, please cite:\n",
      "Ropp PJ, Kaminsky JC, Yablonski S, Durrant JD (2019) Dimorphite-DL: An\n",
      "open-source program for enumerating the ionization states of drug-like small\n",
      "molecules. J Cheminform 11:14. doi:10.1186/s13321-019-0336-9.\n",
      "\n",
      "Cc1ccc(Oc2cccc(-c3cccc(COc4ccc(O)c(C(=O)O)c4)c3)c2)cc1\n",
      "<rdkit.Chem.rdchem.Mol object at 0x7f2034064eb0>\n",
      "\n",
      "For help, use: python dimorphite_dl.py --help\n",
      "\n",
      "If you use Dimorphite-DL in your research, please cite:\n",
      "Ropp PJ, Kaminsky JC, Yablonski S, Durrant JD (2019) Dimorphite-DL: An\n",
      "open-source program for enumerating the ionization states of drug-like small\n",
      "molecules. J Cheminform 11:14. doi:10.1186/s13321-019-0336-9.\n",
      "\n",
      "Proposed mol at pH 7.4: Cc1ccc(Oc2cccc(-c3cccc(COc4ccc(O)c(C(=O)[O-])c4)c3)c2)cc1\n"
     ]
    },
    {
     "name": "stderr",
     "output_type": "stream",
     "text": [
      "[query.py:297 - calculate_microstate_pka_values()] Using dimorphite-dl to identify protonation sites.\n"
     ]
    },
    {
     "name": "stdout",
     "output_type": "stream",
     "text": [
      "O=C(O)c1cc(OCc2cccc(-c3cccc(OCc4ncccn4)c3)c2)ccc1O\n",
      "<rdkit.Chem.rdchem.Mol object at 0x7fa90f4e3eb0>\n",
      "\n",
      "For help, use: python dimorphite_dl.py --help\n",
      "\n",
      "If you use Dimorphite-DL in your research, please cite:\n",
      "Ropp PJ, Kaminsky JC, Yablonski S, Durrant JD (2019) Dimorphite-DL: An\n",
      "open-source program for enumerating the ionization states of drug-like small\n",
      "molecules. J Cheminform 11:14. doi:10.1186/s13321-019-0336-9.\n",
      "\n",
      "O=C(O)c1cc(OCc2cccc(-c3cccc(OCc4ncccn4)c3)c2)ccc1O\n",
      "<rdkit.Chem.rdchem.Mol object at 0x7fa1341fceb0>\n",
      "\n",
      "For help, use: python dimorphite_dl.py --help\n",
      "\n",
      "If you use Dimorphite-DL in your research, please cite:\n",
      "Ropp PJ, Kaminsky JC, Yablonski S, Durrant JD (2019) Dimorphite-DL: An\n",
      "open-source program for enumerating the ionization states of drug-like small\n",
      "molecules. J Cheminform 11:14. doi:10.1186/s13321-019-0336-9.\n",
      "\n",
      "Proposed mol at pH 7.4: O=C([O-])c1cc(OCc2cccc(-c3cccc(OCc4ncccn4)c3)c2)ccc1O\n"
     ]
    },
    {
     "name": "stderr",
     "output_type": "stream",
     "text": [
      "[query.py:297 - calculate_microstate_pka_values()] Using dimorphite-dl to identify protonation sites.\n"
     ]
    },
    {
     "name": "stdout",
     "output_type": "stream",
     "text": [
      "O=C(O)c1cc(OCc2cccc(-c3cccc(OCc4ccncc4)c3)c2)ccc1O\n",
      "<rdkit.Chem.rdchem.Mol object at 0x7fed005aaeb0>\n",
      "\n",
      "For help, use: python dimorphite_dl.py --help\n",
      "\n",
      "If you use Dimorphite-DL in your research, please cite:\n",
      "Ropp PJ, Kaminsky JC, Yablonski S, Durrant JD (2019) Dimorphite-DL: An\n",
      "open-source program for enumerating the ionization states of drug-like small\n",
      "molecules. J Cheminform 11:14. doi:10.1186/s13321-019-0336-9.\n",
      "\n",
      "O=C(O)c1cc(OCc2cccc(-c3cccc(OCc4ccncc4)c3)c2)ccc1O\n",
      "<rdkit.Chem.rdchem.Mol object at 0x7f0b4ec74eb0>\n",
      "\n",
      "For help, use: python dimorphite_dl.py --help\n",
      "\n",
      "If you use Dimorphite-DL in your research, please cite:\n",
      "Ropp PJ, Kaminsky JC, Yablonski S, Durrant JD (2019) Dimorphite-DL: An\n",
      "open-source program for enumerating the ionization states of drug-like small\n",
      "molecules. J Cheminform 11:14. doi:10.1186/s13321-019-0336-9.\n",
      "\n",
      "Proposed mol at pH 7.4: O=C([O-])c1cc(OCc2cccc(-c3cccc(OCc4ccncc4)c3)c2)ccc1O\n"
     ]
    },
    {
     "name": "stderr",
     "output_type": "stream",
     "text": [
      "[query.py:297 - calculate_microstate_pka_values()] Using dimorphite-dl to identify protonation sites.\n"
     ]
    },
    {
     "name": "stdout",
     "output_type": "stream",
     "text": [
      "O=C(O)c1cc(OCc2cccc(-c3cccc(OCc4cccnc4)c3)c2)ccc1O\n",
      "<rdkit.Chem.rdchem.Mol object at 0x7fddc2b50eb0>\n",
      "\n",
      "For help, use: python dimorphite_dl.py --help\n",
      "\n",
      "If you use Dimorphite-DL in your research, please cite:\n",
      "Ropp PJ, Kaminsky JC, Yablonski S, Durrant JD (2019) Dimorphite-DL: An\n",
      "open-source program for enumerating the ionization states of drug-like small\n",
      "molecules. J Cheminform 11:14. doi:10.1186/s13321-019-0336-9.\n",
      "\n",
      "O=C(O)c1cc(OCc2cccc(-c3cccc(OCc4cccnc4)c3)c2)ccc1O\n",
      "<rdkit.Chem.rdchem.Mol object at 0x7f22d8ce3eb0>\n",
      "\n",
      "For help, use: python dimorphite_dl.py --help\n",
      "\n",
      "If you use Dimorphite-DL in your research, please cite:\n",
      "Ropp PJ, Kaminsky JC, Yablonski S, Durrant JD (2019) Dimorphite-DL: An\n",
      "open-source program for enumerating the ionization states of drug-like small\n",
      "molecules. J Cheminform 11:14. doi:10.1186/s13321-019-0336-9.\n",
      "\n",
      "Proposed mol at pH 7.4: O=C([O-])c1cc(OCc2cccc(-c3cccc(OCc4cccnc4)c3)c2)ccc1O\n"
     ]
    },
    {
     "name": "stderr",
     "output_type": "stream",
     "text": [
      "[query.py:297 - calculate_microstate_pka_values()] Using dimorphite-dl to identify protonation sites.\n"
     ]
    },
    {
     "name": "stdout",
     "output_type": "stream",
     "text": [
      "O=C(O)c1cc(OCc2cccc(-c3cccc(OCc4ccc(Cl)cc4)c3)c2)ccc1O\n",
      "<rdkit.Chem.rdchem.Mol object at 0x7f7fcf9c8eb0>\n",
      "\n",
      "For help, use: python dimorphite_dl.py --help\n",
      "\n",
      "If you use Dimorphite-DL in your research, please cite:\n",
      "Ropp PJ, Kaminsky JC, Yablonski S, Durrant JD (2019) Dimorphite-DL: An\n",
      "open-source program for enumerating the ionization states of drug-like small\n",
      "molecules. J Cheminform 11:14. doi:10.1186/s13321-019-0336-9.\n",
      "\n",
      "O=C(O)c1cc(OCc2cccc(-c3cccc(OCc4ccc(Cl)cc4)c3)c2)ccc1O\n",
      "<rdkit.Chem.rdchem.Mol object at 0x7f69981e3eb0>\n",
      "\n",
      "For help, use: python dimorphite_dl.py --help\n",
      "\n",
      "If you use Dimorphite-DL in your research, please cite:\n",
      "Ropp PJ, Kaminsky JC, Yablonski S, Durrant JD (2019) Dimorphite-DL: An\n",
      "open-source program for enumerating the ionization states of drug-like small\n",
      "molecules. J Cheminform 11:14. doi:10.1186/s13321-019-0336-9.\n",
      "\n",
      "Proposed mol at pH 7.4: O=C([O-])c1cc(OCc2cccc(-c3cccc(OCc4ccc(Cl)cc4)c3)c2)ccc1O\n"
     ]
    },
    {
     "name": "stderr",
     "output_type": "stream",
     "text": [
      "[query.py:297 - calculate_microstate_pka_values()] Using dimorphite-dl to identify protonation sites.\n"
     ]
    },
    {
     "name": "stdout",
     "output_type": "stream",
     "text": [
      "Cc1ccc(COc2cccc(-c3cccc(COc4ccc(O)c(C(=O)O)c4)c3)c2)cc1\n",
      "<rdkit.Chem.rdchem.Mol object at 0x7f4b77c34eb0>\n",
      "\n",
      "For help, use: python dimorphite_dl.py --help\n",
      "\n",
      "If you use Dimorphite-DL in your research, please cite:\n",
      "Ropp PJ, Kaminsky JC, Yablonski S, Durrant JD (2019) Dimorphite-DL: An\n",
      "open-source program for enumerating the ionization states of drug-like small\n",
      "molecules. J Cheminform 11:14. doi:10.1186/s13321-019-0336-9.\n",
      "\n",
      "Cc1ccc(COc2cccc(-c3cccc(COc4ccc(O)c(C(=O)O)c4)c3)c2)cc1\n",
      "<rdkit.Chem.rdchem.Mol object at 0x7ffab731beb0>\n",
      "\n",
      "For help, use: python dimorphite_dl.py --help\n",
      "\n",
      "If you use Dimorphite-DL in your research, please cite:\n",
      "Ropp PJ, Kaminsky JC, Yablonski S, Durrant JD (2019) Dimorphite-DL: An\n",
      "open-source program for enumerating the ionization states of drug-like small\n",
      "molecules. J Cheminform 11:14. doi:10.1186/s13321-019-0336-9.\n",
      "\n",
      "Proposed mol at pH 7.4: Cc1ccc(COc2cccc(-c3cccc(COc4ccc(O)c(C(=O)[O-])c4)c3)c2)cc1\n"
     ]
    },
    {
     "name": "stderr",
     "output_type": "stream",
     "text": [
      "[query.py:297 - calculate_microstate_pka_values()] Using dimorphite-dl to identify protonation sites.\n"
     ]
    },
    {
     "name": "stdout",
     "output_type": "stream",
     "text": [
      "O=C(O)c1cc(OCc2cccc(-c3cccc(OCc4ccc(C(F)(F)F)cc4)c3)c2)ccc1O\n",
      "<rdkit.Chem.rdchem.Mol object at 0x7fc2ab821eb0>\n",
      "\n",
      "For help, use: python dimorphite_dl.py --help\n",
      "\n",
      "If you use Dimorphite-DL in your research, please cite:\n",
      "Ropp PJ, Kaminsky JC, Yablonski S, Durrant JD (2019) Dimorphite-DL: An\n",
      "open-source program for enumerating the ionization states of drug-like small\n",
      "molecules. J Cheminform 11:14. doi:10.1186/s13321-019-0336-9.\n",
      "\n",
      "O=C(O)c1cc(OCc2cccc(-c3cccc(OCc4ccc(C(F)(F)F)cc4)c3)c2)ccc1O\n",
      "<rdkit.Chem.rdchem.Mol object at 0x7f47fa4bceb0>\n",
      "\n",
      "For help, use: python dimorphite_dl.py --help\n",
      "\n",
      "If you use Dimorphite-DL in your research, please cite:\n",
      "Ropp PJ, Kaminsky JC, Yablonski S, Durrant JD (2019) Dimorphite-DL: An\n",
      "open-source program for enumerating the ionization states of drug-like small\n",
      "molecules. J Cheminform 11:14. doi:10.1186/s13321-019-0336-9.\n",
      "\n",
      "Proposed mol at pH 7.4: O=C([O-])c1cc(OCc2cccc(-c3cccc(OCc4ccc(C(F)(F)F)cc4)c3)c2)ccc1O\n"
     ]
    },
    {
     "name": "stderr",
     "output_type": "stream",
     "text": [
      "[query.py:297 - calculate_microstate_pka_values()] Using dimorphite-dl to identify protonation sites.\n"
     ]
    },
    {
     "name": "stdout",
     "output_type": "stream",
     "text": [
      "N#Cc1ccc(COc2cccc(-c3cccc(COc4ccc(O)c(C(=O)O)c4)c3)c2)cc1\n",
      "<rdkit.Chem.rdchem.Mol object at 0x7f71e8541eb0>\n",
      "\n",
      "For help, use: python dimorphite_dl.py --help\n",
      "\n",
      "If you use Dimorphite-DL in your research, please cite:\n",
      "Ropp PJ, Kaminsky JC, Yablonski S, Durrant JD (2019) Dimorphite-DL: An\n",
      "open-source program for enumerating the ionization states of drug-like small\n",
      "molecules. J Cheminform 11:14. doi:10.1186/s13321-019-0336-9.\n",
      "\n",
      "N#Cc1ccc(COc2cccc(-c3cccc(COc4ccc(O)c(C(=O)O)c4)c3)c2)cc1\n",
      "<rdkit.Chem.rdchem.Mol object at 0x7f1332050eb0>\n",
      "\n",
      "For help, use: python dimorphite_dl.py --help\n",
      "\n",
      "If you use Dimorphite-DL in your research, please cite:\n",
      "Ropp PJ, Kaminsky JC, Yablonski S, Durrant JD (2019) Dimorphite-DL: An\n",
      "open-source program for enumerating the ionization states of drug-like small\n",
      "molecules. J Cheminform 11:14. doi:10.1186/s13321-019-0336-9.\n",
      "\n",
      "Proposed mol at pH 7.4: N#Cc1ccc(COc2cccc(-c3cccc(COc4ccc(O)c(C(=O)[O-])c4)c3)c2)cc1\n"
     ]
    },
    {
     "name": "stderr",
     "output_type": "stream",
     "text": [
      "[query.py:297 - calculate_microstate_pka_values()] Using dimorphite-dl to identify protonation sites.\n"
     ]
    },
    {
     "name": "stdout",
     "output_type": "stream",
     "text": [
      "O=C(O)c1cc(OCc2cccc(-c3cccc(OCc4ccc(OC(F)(F)F)cc4)c3)c2)ccc1O\n",
      "<rdkit.Chem.rdchem.Mol object at 0x7f240de95eb0>\n",
      "\n",
      "For help, use: python dimorphite_dl.py --help\n",
      "\n",
      "If you use Dimorphite-DL in your research, please cite:\n",
      "Ropp PJ, Kaminsky JC, Yablonski S, Durrant JD (2019) Dimorphite-DL: An\n",
      "open-source program for enumerating the ionization states of drug-like small\n",
      "molecules. J Cheminform 11:14. doi:10.1186/s13321-019-0336-9.\n",
      "\n",
      "O=C(O)c1cc(OCc2cccc(-c3cccc(OCc4ccc(OC(F)(F)F)cc4)c3)c2)ccc1O\n",
      "<rdkit.Chem.rdchem.Mol object at 0x7faa72faeeb0>\n",
      "\n",
      "For help, use: python dimorphite_dl.py --help\n",
      "\n",
      "If you use Dimorphite-DL in your research, please cite:\n",
      "Ropp PJ, Kaminsky JC, Yablonski S, Durrant JD (2019) Dimorphite-DL: An\n",
      "open-source program for enumerating the ionization states of drug-like small\n",
      "molecules. J Cheminform 11:14. doi:10.1186/s13321-019-0336-9.\n",
      "\n",
      "Proposed mol at pH 7.4: O=C([O-])c1cc(OCc2cccc(-c3cccc(OCc4ccc(OC(F)(F)F)cc4)c3)c2)ccc1O\n"
     ]
    },
    {
     "name": "stderr",
     "output_type": "stream",
     "text": [
      "[query.py:297 - calculate_microstate_pka_values()] Using dimorphite-dl to identify protonation sites.\n"
     ]
    },
    {
     "name": "stdout",
     "output_type": "stream",
     "text": [
      "O=C(O)c1cc(OCc2cccc(-c3cncc(OCc4ccccc4)c3)c2)ccc1O\n",
      "<rdkit.Chem.rdchem.Mol object at 0x7f2ba09c1eb0>\n",
      "\n",
      "For help, use: python dimorphite_dl.py --help\n",
      "\n",
      "If you use Dimorphite-DL in your research, please cite:\n",
      "Ropp PJ, Kaminsky JC, Yablonski S, Durrant JD (2019) Dimorphite-DL: An\n",
      "open-source program for enumerating the ionization states of drug-like small\n",
      "molecules. J Cheminform 11:14. doi:10.1186/s13321-019-0336-9.\n",
      "\n",
      "O=C(O)c1cc(OCc2cccc(-c3cncc(OCc4ccccc4)c3)c2)ccc1O\n",
      "<rdkit.Chem.rdchem.Mol object at 0x7f13ffc4ceb0>\n",
      "\n",
      "For help, use: python dimorphite_dl.py --help\n",
      "\n",
      "If you use Dimorphite-DL in your research, please cite:\n",
      "Ropp PJ, Kaminsky JC, Yablonski S, Durrant JD (2019) Dimorphite-DL: An\n",
      "open-source program for enumerating the ionization states of drug-like small\n",
      "molecules. J Cheminform 11:14. doi:10.1186/s13321-019-0336-9.\n",
      "\n",
      "Proposed mol at pH 7.4: O=C([O-])c1cc(OCc2cccc(-c3cncc(OCc4ccccc4)c3)c2)ccc1O\n"
     ]
    },
    {
     "name": "stderr",
     "output_type": "stream",
     "text": [
      "[query.py:297 - calculate_microstate_pka_values()] Using dimorphite-dl to identify protonation sites.\n"
     ]
    },
    {
     "name": "stdout",
     "output_type": "stream",
     "text": [
      "O=C(O)c1cc(OCc2cccc(-c3cccc(OCc4ccccc4)n3)c2)ccc1O\n",
      "<rdkit.Chem.rdchem.Mol object at 0x7fa4640b6eb0>\n",
      "\n",
      "For help, use: python dimorphite_dl.py --help\n",
      "\n",
      "If you use Dimorphite-DL in your research, please cite:\n",
      "Ropp PJ, Kaminsky JC, Yablonski S, Durrant JD (2019) Dimorphite-DL: An\n",
      "open-source program for enumerating the ionization states of drug-like small\n",
      "molecules. J Cheminform 11:14. doi:10.1186/s13321-019-0336-9.\n",
      "\n",
      "O=C(O)c1cc(OCc2cccc(-c3cccc(OCc4ccccc4)n3)c2)ccc1O\n",
      "<rdkit.Chem.rdchem.Mol object at 0x7fef88e6eeb0>\n",
      "\n",
      "For help, use: python dimorphite_dl.py --help\n",
      "\n",
      "If you use Dimorphite-DL in your research, please cite:\n",
      "Ropp PJ, Kaminsky JC, Yablonski S, Durrant JD (2019) Dimorphite-DL: An\n",
      "open-source program for enumerating the ionization states of drug-like small\n",
      "molecules. J Cheminform 11:14. doi:10.1186/s13321-019-0336-9.\n",
      "\n",
      "Proposed mol at pH 7.4: O=C([O-])c1cc(OCc2cccc(-c3cccc(OCc4ccccc4)n3)c2)ccc1O\n"
     ]
    },
    {
     "name": "stderr",
     "output_type": "stream",
     "text": [
      "[query.py:297 - calculate_microstate_pka_values()] Using dimorphite-dl to identify protonation sites.\n"
     ]
    },
    {
     "name": "stdout",
     "output_type": "stream",
     "text": [
      "O=C(O)c1cc(OCc2cccc(-c3cccc(Oc4ccc(O)cc4)c3)c2)ccc1O\n",
      "<rdkit.Chem.rdchem.Mol object at 0x7f4158547eb0>\n",
      "\n",
      "For help, use: python dimorphite_dl.py --help\n",
      "\n",
      "If you use Dimorphite-DL in your research, please cite:\n",
      "Ropp PJ, Kaminsky JC, Yablonski S, Durrant JD (2019) Dimorphite-DL: An\n",
      "open-source program for enumerating the ionization states of drug-like small\n",
      "molecules. J Cheminform 11:14. doi:10.1186/s13321-019-0336-9.\n",
      "\n",
      "O=C(O)c1cc(OCc2cccc(-c3cccc(Oc4ccc(O)cc4)c3)c2)ccc1O\n",
      "<rdkit.Chem.rdchem.Mol object at 0x7f0fa6dceeb0>\n",
      "\n",
      "For help, use: python dimorphite_dl.py --help\n",
      "\n",
      "If you use Dimorphite-DL in your research, please cite:\n",
      "Ropp PJ, Kaminsky JC, Yablonski S, Durrant JD (2019) Dimorphite-DL: An\n",
      "open-source program for enumerating the ionization states of drug-like small\n",
      "molecules. J Cheminform 11:14. doi:10.1186/s13321-019-0336-9.\n",
      "\n",
      "Proposed mol at pH 7.4: O=C([O-])c1cc(OCc2cccc(-c3cccc(Oc4ccc(O)cc4)c3)c2)ccc1O\n"
     ]
    },
    {
     "name": "stderr",
     "output_type": "stream",
     "text": [
      "[query.py:297 - calculate_microstate_pka_values()] Using dimorphite-dl to identify protonation sites.\n"
     ]
    },
    {
     "name": "stdout",
     "output_type": "stream",
     "text": [
      "O=C(O)c1cc(OCc2cccc(-c3cccc(OCc4ccc(O)cc4)c3)c2)ccc1O\n",
      "<rdkit.Chem.rdchem.Mol object at 0x7fa7e523ceb0>\n",
      "\n",
      "For help, use: python dimorphite_dl.py --help\n",
      "\n",
      "If you use Dimorphite-DL in your research, please cite:\n",
      "Ropp PJ, Kaminsky JC, Yablonski S, Durrant JD (2019) Dimorphite-DL: An\n",
      "open-source program for enumerating the ionization states of drug-like small\n",
      "molecules. J Cheminform 11:14. doi:10.1186/s13321-019-0336-9.\n",
      "\n",
      "O=C(O)c1cc(OCc2cccc(-c3cccc(OCc4ccc(O)cc4)c3)c2)ccc1O\n",
      "<rdkit.Chem.rdchem.Mol object at 0x7fd79e8e4eb0>\n",
      "\n",
      "For help, use: python dimorphite_dl.py --help\n",
      "\n",
      "If you use Dimorphite-DL in your research, please cite:\n",
      "Ropp PJ, Kaminsky JC, Yablonski S, Durrant JD (2019) Dimorphite-DL: An\n",
      "open-source program for enumerating the ionization states of drug-like small\n",
      "molecules. J Cheminform 11:14. doi:10.1186/s13321-019-0336-9.\n",
      "\n",
      "Proposed mol at pH 7.4: O=C([O-])c1cc(OCc2cccc(-c3cccc(OCc4ccc(O)cc4)c3)c2)ccc1O\n"
     ]
    },
    {
     "name": "stderr",
     "output_type": "stream",
     "text": [
      "[query.py:297 - calculate_microstate_pka_values()] Using dimorphite-dl to identify protonation sites.\n"
     ]
    },
    {
     "name": "stdout",
     "output_type": "stream",
     "text": [
      "O=C(O)c1cc(OCc2cncc(-c3cccc(OCc4ccccc4)c3)c2)ccc1O\n",
      "<rdkit.Chem.rdchem.Mol object at 0x7f4df0828eb0>\n",
      "\n",
      "For help, use: python dimorphite_dl.py --help\n",
      "\n",
      "If you use Dimorphite-DL in your research, please cite:\n",
      "Ropp PJ, Kaminsky JC, Yablonski S, Durrant JD (2019) Dimorphite-DL: An\n",
      "open-source program for enumerating the ionization states of drug-like small\n",
      "molecules. J Cheminform 11:14. doi:10.1186/s13321-019-0336-9.\n",
      "\n",
      "O=C(O)c1cc(OCc2cncc(-c3cccc(OCc4ccccc4)c3)c2)ccc1O\n",
      "<rdkit.Chem.rdchem.Mol object at 0x7f1a63bbceb0>\n",
      "\n",
      "For help, use: python dimorphite_dl.py --help\n",
      "\n",
      "If you use Dimorphite-DL in your research, please cite:\n",
      "Ropp PJ, Kaminsky JC, Yablonski S, Durrant JD (2019) Dimorphite-DL: An\n",
      "open-source program for enumerating the ionization states of drug-like small\n",
      "molecules. J Cheminform 11:14. doi:10.1186/s13321-019-0336-9.\n",
      "\n",
      "Proposed mol at pH 7.4: O=C([O-])c1cc(OCc2cncc(-c3cccc(OCc4ccccc4)c3)c2)ccc1O\n"
     ]
    },
    {
     "name": "stderr",
     "output_type": "stream",
     "text": [
      "[query.py:297 - calculate_microstate_pka_values()] Using dimorphite-dl to identify protonation sites.\n"
     ]
    },
    {
     "name": "stdout",
     "output_type": "stream",
     "text": [
      "O=C(O)c1cc(OCc2ccnc(-c3cccc(OCc4ccccc4)c3)c2)ccc1O\n",
      "<rdkit.Chem.rdchem.Mol object at 0x7f7f43eeeeb0>\n",
      "\n",
      "For help, use: python dimorphite_dl.py --help\n",
      "\n",
      "If you use Dimorphite-DL in your research, please cite:\n",
      "Ropp PJ, Kaminsky JC, Yablonski S, Durrant JD (2019) Dimorphite-DL: An\n",
      "open-source program for enumerating the ionization states of drug-like small\n",
      "molecules. J Cheminform 11:14. doi:10.1186/s13321-019-0336-9.\n",
      "\n",
      "O=C(O)c1cc(OCc2ccnc(-c3cccc(OCc4ccccc4)c3)c2)ccc1O\n",
      "<rdkit.Chem.rdchem.Mol object at 0x7f869712eeb0>\n",
      "\n",
      "For help, use: python dimorphite_dl.py --help\n",
      "\n",
      "If you use Dimorphite-DL in your research, please cite:\n",
      "Ropp PJ, Kaminsky JC, Yablonski S, Durrant JD (2019) Dimorphite-DL: An\n",
      "open-source program for enumerating the ionization states of drug-like small\n",
      "molecules. J Cheminform 11:14. doi:10.1186/s13321-019-0336-9.\n",
      "\n",
      "Proposed mol at pH 7.4: O=C([O-])c1cc(OCc2ccnc(-c3cccc(OCc4ccccc4)c3)c2)ccc1O\n"
     ]
    },
    {
     "name": "stderr",
     "output_type": "stream",
     "text": [
      "[query.py:297 - calculate_microstate_pka_values()] Using dimorphite-dl to identify protonation sites.\n"
     ]
    },
    {
     "name": "stdout",
     "output_type": "stream",
     "text": [
      "O=C(O)c1cc(OCc2cccc(-c3cccc(OCc4ccccc4)c3)n2)ccc1O\n",
      "<rdkit.Chem.rdchem.Mol object at 0x7fcdb8110eb0>\n",
      "\n",
      "For help, use: python dimorphite_dl.py --help\n",
      "\n",
      "If you use Dimorphite-DL in your research, please cite:\n",
      "Ropp PJ, Kaminsky JC, Yablonski S, Durrant JD (2019) Dimorphite-DL: An\n",
      "open-source program for enumerating the ionization states of drug-like small\n",
      "molecules. J Cheminform 11:14. doi:10.1186/s13321-019-0336-9.\n",
      "\n",
      "O=C(O)c1cc(OCc2cccc(-c3cccc(OCc4ccccc4)c3)n2)ccc1O\n",
      "<rdkit.Chem.rdchem.Mol object at 0x7ff69292eeb0>\n",
      "\n",
      "For help, use: python dimorphite_dl.py --help\n",
      "\n",
      "If you use Dimorphite-DL in your research, please cite:\n",
      "Ropp PJ, Kaminsky JC, Yablonski S, Durrant JD (2019) Dimorphite-DL: An\n",
      "open-source program for enumerating the ionization states of drug-like small\n",
      "molecules. J Cheminform 11:14. doi:10.1186/s13321-019-0336-9.\n",
      "\n",
      "Proposed mol at pH 7.4: O=C([O-])c1cc(OCc2cccc(-c3cccc(OCc4ccccc4)c3)n2)ccc1O\n"
     ]
    },
    {
     "name": "stderr",
     "output_type": "stream",
     "text": [
      "[query.py:297 - calculate_microstate_pka_values()] Using dimorphite-dl to identify protonation sites.\n"
     ]
    },
    {
     "name": "stdout",
     "output_type": "stream",
     "text": [
      "O=C(O)c1cc(OCc2cccc(-c3cc(OCc4ccccc4)ccn3)c2)ccc1O\n",
      "<rdkit.Chem.rdchem.Mol object at 0x7f8f293b6eb0>\n",
      "\n",
      "For help, use: python dimorphite_dl.py --help\n",
      "\n",
      "If you use Dimorphite-DL in your research, please cite:\n",
      "Ropp PJ, Kaminsky JC, Yablonski S, Durrant JD (2019) Dimorphite-DL: An\n",
      "open-source program for enumerating the ionization states of drug-like small\n",
      "molecules. J Cheminform 11:14. doi:10.1186/s13321-019-0336-9.\n",
      "\n",
      "O=C(O)c1cc(OCc2cccc(-c3cc(OCc4ccccc4)ccn3)c2)ccc1O\n",
      "<rdkit.Chem.rdchem.Mol object at 0x7fe978d82eb0>\n",
      "\n",
      "For help, use: python dimorphite_dl.py --help\n",
      "\n",
      "If you use Dimorphite-DL in your research, please cite:\n",
      "Ropp PJ, Kaminsky JC, Yablonski S, Durrant JD (2019) Dimorphite-DL: An\n",
      "open-source program for enumerating the ionization states of drug-like small\n",
      "molecules. J Cheminform 11:14. doi:10.1186/s13321-019-0336-9.\n",
      "\n",
      "Proposed mol at pH 7.4: O=C([O-])c1cc(OCc2cccc(-c3cc(OCc4ccccc4)ccn3)c2)ccc1O\n"
     ]
    },
    {
     "name": "stderr",
     "output_type": "stream",
     "text": [
      "[query.py:297 - calculate_microstate_pka_values()] Using dimorphite-dl to identify protonation sites.\n"
     ]
    },
    {
     "name": "stdout",
     "output_type": "stream",
     "text": [
      "O=C(O)c1cc(OCc2cccc(-c3ccn(Cc4ccccc4)c(=O)c3)c2)ccc1O\n",
      "<rdkit.Chem.rdchem.Mol object at 0x7ff8fb622eb0>\n",
      "\n",
      "For help, use: python dimorphite_dl.py --help\n",
      "\n",
      "If you use Dimorphite-DL in your research, please cite:\n",
      "Ropp PJ, Kaminsky JC, Yablonski S, Durrant JD (2019) Dimorphite-DL: An\n",
      "open-source program for enumerating the ionization states of drug-like small\n",
      "molecules. J Cheminform 11:14. doi:10.1186/s13321-019-0336-9.\n",
      "\n",
      "O=C(O)c1cc(OCc2cccc(-c3ccn(Cc4ccccc4)c(=O)c3)c2)ccc1O\n",
      "<rdkit.Chem.rdchem.Mol object at 0x7f3dd6c6ceb0>\n",
      "\n",
      "For help, use: python dimorphite_dl.py --help\n",
      "\n",
      "If you use Dimorphite-DL in your research, please cite:\n",
      "Ropp PJ, Kaminsky JC, Yablonski S, Durrant JD (2019) Dimorphite-DL: An\n",
      "open-source program for enumerating the ionization states of drug-like small\n",
      "molecules. J Cheminform 11:14. doi:10.1186/s13321-019-0336-9.\n",
      "\n",
      "Proposed mol at pH 7.4: O=C([O-])c1cc(OCc2cccc(-c3ccn(Cc4ccccc4)c(=O)c3)c2)ccc1O\n"
     ]
    },
    {
     "name": "stderr",
     "output_type": "stream",
     "text": [
      "[query.py:297 - calculate_microstate_pka_values()] Using dimorphite-dl to identify protonation sites.\n"
     ]
    },
    {
     "name": "stdout",
     "output_type": "stream",
     "text": [
      "O=C(O)c1cc(OCc2ccc3cccc(OCc4ccccc4)c3n2)ccc1O\n",
      "<rdkit.Chem.rdchem.Mol object at 0x7f8d68882e40>\n",
      "\n",
      "For help, use: python dimorphite_dl.py --help\n",
      "\n",
      "If you use Dimorphite-DL in your research, please cite:\n",
      "Ropp PJ, Kaminsky JC, Yablonski S, Durrant JD (2019) Dimorphite-DL: An\n",
      "open-source program for enumerating the ionization states of drug-like small\n",
      "molecules. J Cheminform 11:14. doi:10.1186/s13321-019-0336-9.\n",
      "\n",
      "O=C(O)c1cc(OCc2ccc3cccc(OCc4ccccc4)c3n2)ccc1O\n",
      "<rdkit.Chem.rdchem.Mol object at 0x7fbe7ef74e40>\n",
      "\n",
      "For help, use: python dimorphite_dl.py --help\n",
      "\n",
      "If you use Dimorphite-DL in your research, please cite:\n",
      "Ropp PJ, Kaminsky JC, Yablonski S, Durrant JD (2019) Dimorphite-DL: An\n",
      "open-source program for enumerating the ionization states of drug-like small\n",
      "molecules. J Cheminform 11:14. doi:10.1186/s13321-019-0336-9.\n",
      "\n",
      "Proposed mol at pH 7.4: O=C([O-])c1cc(OCc2ccc3cccc(OCc4ccccc4)c3n2)ccc1O\n"
     ]
    },
    {
     "name": "stderr",
     "output_type": "stream",
     "text": [
      "[query.py:297 - calculate_microstate_pka_values()] Using dimorphite-dl to identify protonation sites.\n"
     ]
    },
    {
     "name": "stdout",
     "output_type": "stream",
     "text": [
      "O=C(O)c1cc(OCc2cc(-c3cccnc3)cc(-c3cccnc3)c2)ccc1O\n",
      "<rdkit.Chem.rdchem.Mol object at 0x7fcf95410eb0>\n",
      "\n",
      "For help, use: python dimorphite_dl.py --help\n",
      "\n",
      "If you use Dimorphite-DL in your research, please cite:\n",
      "Ropp PJ, Kaminsky JC, Yablonski S, Durrant JD (2019) Dimorphite-DL: An\n",
      "open-source program for enumerating the ionization states of drug-like small\n",
      "molecules. J Cheminform 11:14. doi:10.1186/s13321-019-0336-9.\n",
      "\n",
      "O=C(O)c1cc(OCc2cc(-c3cccnc3)cc(-c3cccnc3)c2)ccc1O\n",
      "<rdkit.Chem.rdchem.Mol object at 0x7f00054e1eb0>\n",
      "\n",
      "For help, use: python dimorphite_dl.py --help\n",
      "\n",
      "If you use Dimorphite-DL in your research, please cite:\n",
      "Ropp PJ, Kaminsky JC, Yablonski S, Durrant JD (2019) Dimorphite-DL: An\n",
      "open-source program for enumerating the ionization states of drug-like small\n",
      "molecules. J Cheminform 11:14. doi:10.1186/s13321-019-0336-9.\n",
      "\n",
      "Proposed mol at pH 7.4: O=C([O-])c1cc(OCc2cc(-c3cccnc3)cc(-c3cccnc3)c2)ccc1O\n"
     ]
    },
    {
     "name": "stderr",
     "output_type": "stream",
     "text": [
      "[query.py:297 - calculate_microstate_pka_values()] Using dimorphite-dl to identify protonation sites.\n"
     ]
    },
    {
     "name": "stdout",
     "output_type": "stream",
     "text": [
      "NCc1cc(-c2cc(COc3ccc(O)c(C(=O)O)c3)cc(-c3csc(CN)c3)c2)cs1\n",
      "<rdkit.Chem.rdchem.Mol object at 0x7f2d9d764eb0>\n",
      "\n",
      "For help, use: python dimorphite_dl.py --help\n",
      "\n",
      "If you use Dimorphite-DL in your research, please cite:\n",
      "Ropp PJ, Kaminsky JC, Yablonski S, Durrant JD (2019) Dimorphite-DL: An\n",
      "open-source program for enumerating the ionization states of drug-like small\n",
      "molecules. J Cheminform 11:14. doi:10.1186/s13321-019-0336-9.\n",
      "\n",
      "NCc1cc(-c2cc(COc3ccc(O)c(C(=O)O)c3)cc(-c3csc(CN)c3)c2)cs1\n",
      "<rdkit.Chem.rdchem.Mol object at 0x7fd04496deb0>\n",
      "\n",
      "For help, use: python dimorphite_dl.py --help\n",
      "\n",
      "If you use Dimorphite-DL in your research, please cite:\n",
      "Ropp PJ, Kaminsky JC, Yablonski S, Durrant JD (2019) Dimorphite-DL: An\n",
      "open-source program for enumerating the ionization states of drug-like small\n",
      "molecules. J Cheminform 11:14. doi:10.1186/s13321-019-0336-9.\n",
      "\n",
      "Proposed mol at pH 7.4: [NH3+]Cc1cc(-c2cc(COc3ccc(O)c(C(=O)[O-])c3)cc(-c3csc(C[NH3+])c3)c2)cs1\n"
     ]
    },
    {
     "name": "stderr",
     "output_type": "stream",
     "text": [
      "[query.py:297 - calculate_microstate_pka_values()] Using dimorphite-dl to identify protonation sites.\n"
     ]
    },
    {
     "name": "stdout",
     "output_type": "stream",
     "text": [
      "O=C(O)c1cc(OCc2cnc(-c3cccc(NS(=O)(=O)CCCn4cnnn4)c3)nc2)ccc1O\n",
      "<rdkit.Chem.rdchem.Mol object at 0x7f557a596eb0>\n",
      "\n",
      "For help, use: python dimorphite_dl.py --help\n",
      "\n",
      "If you use Dimorphite-DL in your research, please cite:\n",
      "Ropp PJ, Kaminsky JC, Yablonski S, Durrant JD (2019) Dimorphite-DL: An\n",
      "open-source program for enumerating the ionization states of drug-like small\n",
      "molecules. J Cheminform 11:14. doi:10.1186/s13321-019-0336-9.\n",
      "\n",
      "O=C(O)c1cc(OCc2cnc(-c3cccc(NS(=O)(=O)CCCn4cnnn4)c3)nc2)ccc1O\n",
      "<rdkit.Chem.rdchem.Mol object at 0x7f3673fd0eb0>\n",
      "\n",
      "For help, use: python dimorphite_dl.py --help\n",
      "\n",
      "If you use Dimorphite-DL in your research, please cite:\n",
      "Ropp PJ, Kaminsky JC, Yablonski S, Durrant JD (2019) Dimorphite-DL: An\n",
      "open-source program for enumerating the ionization states of drug-like small\n",
      "molecules. J Cheminform 11:14. doi:10.1186/s13321-019-0336-9.\n",
      "\n",
      "WARNING: Skipping poorly formed SMILES string: O=C([O-])c1cc(OCc2cnc(-c3cccc([N-]S(=O)(=O)CCC[n+]4cnnn4)c3)nc2)ccc1[O-]\n",
      "WARNING: Skipping poorly formed SMILES string: O=C(O)c1cc(OCc2cnc(-c3cccc([N-]S(=O)(=O)CCC[n+]4cnnn4)c3)nc2)ccc1[O-]\n",
      "WARNING: Skipping poorly formed SMILES string: O=C([O-])c1cc(OCc2cnc(-c3cccc([N-]S(=O)(=O)CCC[n+]4cnnn4)c3)nc2)ccc1O\n",
      "WARNING: Skipping poorly formed SMILES string: O=C(O)c1cc(OCc2cnc(-c3cccc([N-]S(=O)(=O)CCC[n+]4cnnn4)c3)nc2)ccc1O\n",
      "WARNING: Skipping poorly formed SMILES string: O=C([O-])c1cc(OCc2cnc(-c3cccc(NS(=O)(=O)CCC[n+]4cnnn4)c3)nc2)ccc1[O-]\n",
      "WARNING: Skipping poorly formed SMILES string: O=C(O)c1cc(OCc2cnc(-c3cccc(NS(=O)(=O)CCC[n+]4cnnn4)c3)nc2)ccc1[O-]\n",
      "WARNING: Skipping poorly formed SMILES string: O=C([O-])c1cc(OCc2cnc(-c3cccc(NS(=O)(=O)CCC[n+]4cnnn4)c3)nc2)ccc1O\n",
      "WARNING: Skipping poorly formed SMILES string: O=C(O)c1cc(OCc2cnc(-c3cccc(NS(=O)(=O)CCC[n+]4cnnn4)c3)nc2)ccc1O\n",
      "WARNING: Skipping poorly formed SMILES string: O=C([O-])c1cc(OCc2cnc(-c3cccc([N-]S(=O)(=O)CCC[n+]4cnnn4)c3)[nH+]c2)ccc1[O-]\n",
      "WARNING: Skipping poorly formed SMILES string: O=C(O)c1cc(OCc2cnc(-c3cccc([N-]S(=O)(=O)CCC[n+]4cnnn4)c3)[nH+]c2)ccc1[O-]\n",
      "WARNING: Skipping poorly formed SMILES string: O=C([O-])c1cc(OCc2cnc(-c3cccc([N-]S(=O)(=O)CCC[n+]4cnnn4)c3)[nH+]c2)ccc1O\n",
      "WARNING: Skipping poorly formed SMILES string: O=C(O)c1cc(OCc2cnc(-c3cccc([N-]S(=O)(=O)CCC[n+]4cnnn4)c3)[nH+]c2)ccc1O\n",
      "WARNING: Skipping poorly formed SMILES string: O=C([O-])c1cc(OCc2cnc(-c3cccc(NS(=O)(=O)CCC[n+]4cnnn4)c3)[nH+]c2)ccc1[O-]\n",
      "WARNING: Skipping poorly formed SMILES string: O=C(O)c1cc(OCc2cnc(-c3cccc(NS(=O)(=O)CCC[n+]4cnnn4)c3)[nH+]c2)ccc1[O-]\n",
      "WARNING: Skipping poorly formed SMILES string: O=C([O-])c1cc(OCc2cnc(-c3cccc(NS(=O)(=O)CCC[n+]4cnnn4)c3)[nH+]c2)ccc1O\n",
      "WARNING: Skipping poorly formed SMILES string: O=C(O)c1cc(OCc2cnc(-c3cccc(NS(=O)(=O)CCC[n+]4cnnn4)c3)[nH+]c2)ccc1O\n",
      "WARNING: Skipping poorly formed SMILES string: O=C([O-])c1cc(OCc2cnc(-c3cccc([N-]S(=O)(=O)CCC[n+]4cnnn4)c3)nc2)ccc1[O-]\n",
      "WARNING: Skipping poorly formed SMILES string: O=C(O)c1cc(OCc2cnc(-c3cccc([N-]S(=O)(=O)CCC[n+]4cnnn4)c3)nc2)ccc1[O-]\n",
      "WARNING: Skipping poorly formed SMILES string: O=C([O-])c1cc(OCc2cnc(-c3cccc([N-]S(=O)(=O)CCC[n+]4cnnn4)c3)nc2)ccc1O\n",
      "WARNING: Skipping poorly formed SMILES string: O=C(O)c1cc(OCc2cnc(-c3cccc([N-]S(=O)(=O)CCC[n+]4cnnn4)c3)nc2)ccc1O\n",
      "WARNING: Skipping poorly formed SMILES string: O=C([O-])c1cc(OCc2cnc(-c3cccc(NS(=O)(=O)CCC[n+]4cnnn4)c3)nc2)ccc1[O-]\n",
      "WARNING: Skipping poorly formed SMILES string: O=C(O)c1cc(OCc2cnc(-c3cccc(NS(=O)(=O)CCC[n+]4cnnn4)c3)nc2)ccc1[O-]\n",
      "WARNING: Skipping poorly formed SMILES string: O=C([O-])c1cc(OCc2cnc(-c3cccc(NS(=O)(=O)CCC[n+]4cnnn4)c3)nc2)ccc1O\n",
      "WARNING: Skipping poorly formed SMILES string: O=C(O)c1cc(OCc2cnc(-c3cccc(NS(=O)(=O)CCC[n+]4cnnn4)c3)nc2)ccc1O\n",
      "WARNING: Skipping poorly formed SMILES string: O=C([O-])c1cc(OCc2cnc(-c3cccc([N-]S(=O)(=O)CCC[n+]4cnnn4)c3)[nH+]c2)ccc1[O-]\n",
      "WARNING: Skipping poorly formed SMILES string: O=C(O)c1cc(OCc2cnc(-c3cccc([N-]S(=O)(=O)CCC[n+]4cnnn4)c3)[nH+]c2)ccc1[O-]\n",
      "WARNING: Skipping poorly formed SMILES string: O=C([O-])c1cc(OCc2cnc(-c3cccc([N-]S(=O)(=O)CCC[n+]4cnnn4)c3)[nH+]c2)ccc1O\n",
      "WARNING: Skipping poorly formed SMILES string: O=C(O)c1cc(OCc2cnc(-c3cccc([N-]S(=O)(=O)CCC[n+]4cnnn4)c3)[nH+]c2)ccc1O\n",
      "WARNING: Skipping poorly formed SMILES string: O=C([O-])c1cc(OCc2cnc(-c3cccc(NS(=O)(=O)CCC[n+]4cnnn4)c3)[nH+]c2)ccc1[O-]\n",
      "WARNING: Skipping poorly formed SMILES string: O=C(O)c1cc(OCc2cnc(-c3cccc(NS(=O)(=O)CCC[n+]4cnnn4)c3)[nH+]c2)ccc1[O-]\n",
      "WARNING: Skipping poorly formed SMILES string: O=C([O-])c1cc(OCc2cnc(-c3cccc(NS(=O)(=O)CCC[n+]4cnnn4)c3)[nH+]c2)ccc1O\n",
      "WARNING: Skipping poorly formed SMILES string: O=C(O)c1cc(OCc2cnc(-c3cccc(NS(=O)(=O)CCC[n+]4cnnn4)c3)[nH+]c2)ccc1O\n",
      "WARNING: Limited number of variants to 128: O=C(O)c1cc(OCc2cnc(-c3cccc(NS(=O)(=O)CCCn4cnnn4)c3)nc2)ccc1O\n",
      "Proposed mol at pH 7.4: O=C([O-])c1cc(OCc2cnc(-c3cccc(NS(=O)(=O)CCCn4cnnn4)c3)nc2)ccc1O\n"
     ]
    },
    {
     "name": "stderr",
     "output_type": "stream",
     "text": [
      "[query.py:297 - calculate_microstate_pka_values()] Using dimorphite-dl to identify protonation sites.\n"
     ]
    },
    {
     "name": "stdout",
     "output_type": "stream",
     "text": [
      "CCCCCCCCS(=O)(=O)Nc1cccc(-c2ncc(COc3ccc(O)c(C(=O)O)c3)cn2)c1\n",
      "<rdkit.Chem.rdchem.Mol object at 0x7f3973bfceb0>\n",
      "\n",
      "For help, use: python dimorphite_dl.py --help\n",
      "\n",
      "If you use Dimorphite-DL in your research, please cite:\n",
      "Ropp PJ, Kaminsky JC, Yablonski S, Durrant JD (2019) Dimorphite-DL: An\n",
      "open-source program for enumerating the ionization states of drug-like small\n",
      "molecules. J Cheminform 11:14. doi:10.1186/s13321-019-0336-9.\n",
      "\n",
      "CCCCCCCCS(=O)(=O)Nc1cccc(-c2ncc(COc3ccc(O)c(C(=O)O)c3)cn2)c1\n",
      "<rdkit.Chem.rdchem.Mol object at 0x7f1e008fbeb0>\n",
      "\n",
      "For help, use: python dimorphite_dl.py --help\n",
      "\n",
      "If you use Dimorphite-DL in your research, please cite:\n",
      "Ropp PJ, Kaminsky JC, Yablonski S, Durrant JD (2019) Dimorphite-DL: An\n",
      "open-source program for enumerating the ionization states of drug-like small\n",
      "molecules. J Cheminform 11:14. doi:10.1186/s13321-019-0336-9.\n",
      "\n",
      "Proposed mol at pH 7.4: CCCCCCCCS(=O)(=O)Nc1cccc(-c2ncc(COc3ccc(O)c(C(=O)[O-])c3)cn2)c1\n"
     ]
    },
    {
     "name": "stderr",
     "output_type": "stream",
     "text": [
      "[query.py:297 - calculate_microstate_pka_values()] Using dimorphite-dl to identify protonation sites.\n"
     ]
    },
    {
     "name": "stdout",
     "output_type": "stream",
     "text": [
      "O=C(O)c1cc(OCc2cccc(-n3ccnn3)c2)ccc1O\n",
      "<rdkit.Chem.rdchem.Mol object at 0x7f99d28dbe40>\n",
      "\n",
      "For help, use: python dimorphite_dl.py --help\n",
      "\n",
      "If you use Dimorphite-DL in your research, please cite:\n",
      "Ropp PJ, Kaminsky JC, Yablonski S, Durrant JD (2019) Dimorphite-DL: An\n",
      "open-source program for enumerating the ionization states of drug-like small\n",
      "molecules. J Cheminform 11:14. doi:10.1186/s13321-019-0336-9.\n",
      "\n",
      "O=C(O)c1cc(OCc2cccc(-n3ccnn3)c2)ccc1O\n",
      "<rdkit.Chem.rdchem.Mol object at 0x7fc741f88e40>\n",
      "\n",
      "For help, use: python dimorphite_dl.py --help\n",
      "\n",
      "If you use Dimorphite-DL in your research, please cite:\n",
      "Ropp PJ, Kaminsky JC, Yablonski S, Durrant JD (2019) Dimorphite-DL: An\n",
      "open-source program for enumerating the ionization states of drug-like small\n",
      "molecules. J Cheminform 11:14. doi:10.1186/s13321-019-0336-9.\n",
      "\n",
      "WARNING: Skipping poorly formed SMILES string: O=C([O-])c1cc(OCc2cccc(-[n+]3ccnn3)c2)ccc1[O-]\n",
      "WARNING: Skipping poorly formed SMILES string: O=C(O)c1cc(OCc2cccc(-[n+]3ccnn3)c2)ccc1[O-]\n",
      "WARNING: Skipping poorly formed SMILES string: O=C([O-])c1cc(OCc2cccc(-[n+]3ccnn3)c2)ccc1O\n",
      "WARNING: Skipping poorly formed SMILES string: O=C(O)c1cc(OCc2cccc(-[n+]3ccnn3)c2)ccc1O\n",
      "WARNING: Skipping poorly formed SMILES string: O=C([O-])c1cc(OCc2cccc(-[n+]3ccnn3)c2)ccc1[O-]\n",
      "WARNING: Skipping poorly formed SMILES string: O=C(O)c1cc(OCc2cccc(-[n+]3ccnn3)c2)ccc1[O-]\n",
      "WARNING: Skipping poorly formed SMILES string: O=C([O-])c1cc(OCc2cccc(-[n+]3ccnn3)c2)ccc1O\n",
      "WARNING: Skipping poorly formed SMILES string: O=C(O)c1cc(OCc2cccc(-[n+]3ccnn3)c2)ccc1O\n",
      "Proposed mol at pH 7.4: O=C([O-])c1cc(OCc2cccc(-n3ccnn3)c2)ccc1O\n"
     ]
    },
    {
     "name": "stderr",
     "output_type": "stream",
     "text": [
      "[query.py:297 - calculate_microstate_pka_values()] Using dimorphite-dl to identify protonation sites.\n"
     ]
    },
    {
     "name": "stdout",
     "output_type": "stream",
     "text": [
      "CC(C)(C)OC(=O)N1CCC(c2cn(-c3cccc(COc4ccc(O)c(C(=O)O)c4)c3)nn2)CC1\n",
      "<rdkit.Chem.rdchem.Mol object at 0x7f69a7caae40>\n",
      "\n",
      "For help, use: python dimorphite_dl.py --help\n",
      "\n",
      "If you use Dimorphite-DL in your research, please cite:\n",
      "Ropp PJ, Kaminsky JC, Yablonski S, Durrant JD (2019) Dimorphite-DL: An\n",
      "open-source program for enumerating the ionization states of drug-like small\n",
      "molecules. J Cheminform 11:14. doi:10.1186/s13321-019-0336-9.\n",
      "\n",
      "CC(C)(C)OC(=O)N1CCC(c2cn(-c3cccc(COc4ccc(O)c(C(=O)O)c4)c3)nn2)CC1\n",
      "<rdkit.Chem.rdchem.Mol object at 0x7fca83396e40>\n",
      "\n",
      "For help, use: python dimorphite_dl.py --help\n",
      "\n",
      "If you use Dimorphite-DL in your research, please cite:\n",
      "Ropp PJ, Kaminsky JC, Yablonski S, Durrant JD (2019) Dimorphite-DL: An\n",
      "open-source program for enumerating the ionization states of drug-like small\n",
      "molecules. J Cheminform 11:14. doi:10.1186/s13321-019-0336-9.\n",
      "\n",
      "WARNING: Skipping poorly formed SMILES string: CC(C)(C)OC(=O)N1CCC(c2c[n+](-c3cccc(COc4ccc([O-])c(C(=O)[O-])c4)c3)nn2)CC1\n",
      "WARNING: Skipping poorly formed SMILES string: CC(C)(C)OC(=O)N1CCC(c2c[n+](-c3cccc(COc4ccc([O-])c(C(=O)O)c4)c3)nn2)CC1\n",
      "WARNING: Skipping poorly formed SMILES string: CC(C)(C)OC(=O)N1CCC(c2c[n+](-c3cccc(COc4ccc(O)c(C(=O)[O-])c4)c3)nn2)CC1\n",
      "WARNING: Skipping poorly formed SMILES string: CC(C)(C)OC(=O)N1CCC(c2c[n+](-c3cccc(COc4ccc(O)c(C(=O)O)c4)c3)nn2)CC1\n",
      "WARNING: Skipping poorly formed SMILES string: CC(C)(C)OC(=O)N1CCC(c2c[n+](-c3cccc(COc4ccc([O-])c(C(=O)[O-])c4)c3)nn2)CC1\n",
      "WARNING: Skipping poorly formed SMILES string: CC(C)(C)OC(=O)N1CCC(c2c[n+](-c3cccc(COc4ccc([O-])c(C(=O)O)c4)c3)nn2)CC1\n",
      "WARNING: Skipping poorly formed SMILES string: CC(C)(C)OC(=O)N1CCC(c2c[n+](-c3cccc(COc4ccc(O)c(C(=O)[O-])c4)c3)nn2)CC1\n",
      "WARNING: Skipping poorly formed SMILES string: CC(C)(C)OC(=O)N1CCC(c2c[n+](-c3cccc(COc4ccc(O)c(C(=O)O)c4)c3)nn2)CC1\n",
      "Proposed mol at pH 7.4: CC(C)(C)OC(=O)[NH+]1CCC(c2cn(-c3cccc(COc4ccc(O)c(C(=O)[O-])c4)c3)nn2)CC1\n"
     ]
    },
    {
     "name": "stderr",
     "output_type": "stream",
     "text": [
      "[query.py:297 - calculate_microstate_pka_values()] Using dimorphite-dl to identify protonation sites.\n"
     ]
    },
    {
     "name": "stdout",
     "output_type": "stream",
     "text": [
      "O=C(O)c1cc(OCc2cccc(-n3cc(COc4ccc(CO)cc4)nn3)c2)ccc1O\n",
      "<rdkit.Chem.rdchem.Mol object at 0x7f59c4882eb0>\n",
      "\n",
      "For help, use: python dimorphite_dl.py --help\n",
      "\n",
      "If you use Dimorphite-DL in your research, please cite:\n",
      "Ropp PJ, Kaminsky JC, Yablonski S, Durrant JD (2019) Dimorphite-DL: An\n",
      "open-source program for enumerating the ionization states of drug-like small\n",
      "molecules. J Cheminform 11:14. doi:10.1186/s13321-019-0336-9.\n",
      "\n",
      "O=C(O)c1cc(OCc2cccc(-n3cc(COc4ccc(CO)cc4)nn3)c2)ccc1O\n",
      "<rdkit.Chem.rdchem.Mol object at 0x7f7a9db2eeb0>\n",
      "\n",
      "For help, use: python dimorphite_dl.py --help\n",
      "\n",
      "If you use Dimorphite-DL in your research, please cite:\n",
      "Ropp PJ, Kaminsky JC, Yablonski S, Durrant JD (2019) Dimorphite-DL: An\n",
      "open-source program for enumerating the ionization states of drug-like small\n",
      "molecules. J Cheminform 11:14. doi:10.1186/s13321-019-0336-9.\n",
      "\n",
      "WARNING: Skipping poorly formed SMILES string: O=C([O-])c1cc(OCc2cccc(-[n+]3cc(COc4ccc(C[O-])cc4)nn3)c2)ccc1[O-]\n",
      "WARNING: Skipping poorly formed SMILES string: O=C(O)c1cc(OCc2cccc(-[n+]3cc(COc4ccc(C[O-])cc4)nn3)c2)ccc1[O-]\n",
      "WARNING: Skipping poorly formed SMILES string: O=C([O-])c1cc(OCc2cccc(-[n+]3cc(COc4ccc(C[O-])cc4)nn3)c2)ccc1O\n",
      "WARNING: Skipping poorly formed SMILES string: O=C(O)c1cc(OCc2cccc(-[n+]3cc(COc4ccc(C[O-])cc4)nn3)c2)ccc1O\n",
      "WARNING: Skipping poorly formed SMILES string: O=C([O-])c1cc(OCc2cccc(-[n+]3cc(COc4ccc(CO)cc4)nn3)c2)ccc1[O-]\n",
      "WARNING: Skipping poorly formed SMILES string: O=C(O)c1cc(OCc2cccc(-[n+]3cc(COc4ccc(CO)cc4)nn3)c2)ccc1[O-]\n",
      "WARNING: Skipping poorly formed SMILES string: O=C([O-])c1cc(OCc2cccc(-[n+]3cc(COc4ccc(CO)cc4)nn3)c2)ccc1O\n",
      "WARNING: Skipping poorly formed SMILES string: O=C(O)c1cc(OCc2cccc(-[n+]3cc(COc4ccc(CO)cc4)nn3)c2)ccc1O\n",
      "WARNING: Skipping poorly formed SMILES string: O=C([O-])c1cc(OCc2cccc(-[n+]3cc(COc4ccc(C[O-])cc4)nn3)c2)ccc1[O-]\n",
      "WARNING: Skipping poorly formed SMILES string: O=C(O)c1cc(OCc2cccc(-[n+]3cc(COc4ccc(C[O-])cc4)nn3)c2)ccc1[O-]\n",
      "WARNING: Skipping poorly formed SMILES string: O=C([O-])c1cc(OCc2cccc(-[n+]3cc(COc4ccc(C[O-])cc4)nn3)c2)ccc1O\n",
      "WARNING: Skipping poorly formed SMILES string: O=C(O)c1cc(OCc2cccc(-[n+]3cc(COc4ccc(C[O-])cc4)nn3)c2)ccc1O\n",
      "WARNING: Skipping poorly formed SMILES string: O=C([O-])c1cc(OCc2cccc(-[n+]3cc(COc4ccc(CO)cc4)nn3)c2)ccc1[O-]\n",
      "WARNING: Skipping poorly formed SMILES string: O=C(O)c1cc(OCc2cccc(-[n+]3cc(COc4ccc(CO)cc4)nn3)c2)ccc1[O-]\n",
      "WARNING: Skipping poorly formed SMILES string: O=C([O-])c1cc(OCc2cccc(-[n+]3cc(COc4ccc(CO)cc4)nn3)c2)ccc1O\n",
      "WARNING: Skipping poorly formed SMILES string: O=C(O)c1cc(OCc2cccc(-[n+]3cc(COc4ccc(CO)cc4)nn3)c2)ccc1O\n",
      "Proposed mol at pH 7.4: O=C([O-])c1cc(OCc2cccc(-n3cc(COc4ccc(CO)cc4)nn3)c2)ccc1O\n"
     ]
    },
    {
     "name": "stderr",
     "output_type": "stream",
     "text": [
      "[query.py:297 - calculate_microstate_pka_values()] Using dimorphite-dl to identify protonation sites.\n"
     ]
    },
    {
     "name": "stdout",
     "output_type": "stream",
     "text": [
      "O=C(O)c1cc(OCc2cccc(-n3cc(COCCOCCO)nn3)c2)ccc1O\n",
      "<rdkit.Chem.rdchem.Mol object at 0x7f8581510e40>\n",
      "\n",
      "For help, use: python dimorphite_dl.py --help\n",
      "\n",
      "If you use Dimorphite-DL in your research, please cite:\n",
      "Ropp PJ, Kaminsky JC, Yablonski S, Durrant JD (2019) Dimorphite-DL: An\n",
      "open-source program for enumerating the ionization states of drug-like small\n",
      "molecules. J Cheminform 11:14. doi:10.1186/s13321-019-0336-9.\n",
      "\n",
      "O=C(O)c1cc(OCc2cccc(-n3cc(COCCOCCO)nn3)c2)ccc1O\n",
      "<rdkit.Chem.rdchem.Mol object at 0x7f927f2b6e40>\n",
      "\n",
      "For help, use: python dimorphite_dl.py --help\n",
      "\n",
      "If you use Dimorphite-DL in your research, please cite:\n",
      "Ropp PJ, Kaminsky JC, Yablonski S, Durrant JD (2019) Dimorphite-DL: An\n",
      "open-source program for enumerating the ionization states of drug-like small\n",
      "molecules. J Cheminform 11:14. doi:10.1186/s13321-019-0336-9.\n",
      "\n",
      "WARNING: Skipping poorly formed SMILES string: O=C([O-])c1cc(OCc2cccc(-[n+]3cc(COCCOCC[O-])nn3)c2)ccc1[O-]\n",
      "WARNING: Skipping poorly formed SMILES string: O=C(O)c1cc(OCc2cccc(-[n+]3cc(COCCOCC[O-])nn3)c2)ccc1[O-]\n",
      "WARNING: Skipping poorly formed SMILES string: O=C([O-])c1cc(OCc2cccc(-[n+]3cc(COCCOCC[O-])nn3)c2)ccc1O\n",
      "WARNING: Skipping poorly formed SMILES string: O=C(O)c1cc(OCc2cccc(-[n+]3cc(COCCOCC[O-])nn3)c2)ccc1O\n",
      "WARNING: Skipping poorly formed SMILES string: O=C([O-])c1cc(OCc2cccc(-[n+]3cc(COCCOCCO)nn3)c2)ccc1[O-]\n",
      "WARNING: Skipping poorly formed SMILES string: O=C(O)c1cc(OCc2cccc(-[n+]3cc(COCCOCCO)nn3)c2)ccc1[O-]\n",
      "WARNING: Skipping poorly formed SMILES string: O=C([O-])c1cc(OCc2cccc(-[n+]3cc(COCCOCCO)nn3)c2)ccc1O\n",
      "WARNING: Skipping poorly formed SMILES string: O=C(O)c1cc(OCc2cccc(-[n+]3cc(COCCOCCO)nn3)c2)ccc1O\n",
      "WARNING: Skipping poorly formed SMILES string: O=C([O-])c1cc(OCc2cccc(-[n+]3cc(COCCOCC[O-])nn3)c2)ccc1[O-]\n",
      "WARNING: Skipping poorly formed SMILES string: O=C(O)c1cc(OCc2cccc(-[n+]3cc(COCCOCC[O-])nn3)c2)ccc1[O-]\n",
      "WARNING: Skipping poorly formed SMILES string: O=C([O-])c1cc(OCc2cccc(-[n+]3cc(COCCOCC[O-])nn3)c2)ccc1O\n",
      "WARNING: Skipping poorly formed SMILES string: O=C(O)c1cc(OCc2cccc(-[n+]3cc(COCCOCC[O-])nn3)c2)ccc1O\n",
      "WARNING: Skipping poorly formed SMILES string: O=C([O-])c1cc(OCc2cccc(-[n+]3cc(COCCOCCO)nn3)c2)ccc1[O-]\n",
      "WARNING: Skipping poorly formed SMILES string: O=C(O)c1cc(OCc2cccc(-[n+]3cc(COCCOCCO)nn3)c2)ccc1[O-]\n",
      "WARNING: Skipping poorly formed SMILES string: O=C([O-])c1cc(OCc2cccc(-[n+]3cc(COCCOCCO)nn3)c2)ccc1O\n",
      "WARNING: Skipping poorly formed SMILES string: O=C(O)c1cc(OCc2cccc(-[n+]3cc(COCCOCCO)nn3)c2)ccc1O\n",
      "Proposed mol at pH 7.4: O=C([O-])c1cc(OCc2cccc(-n3cc(COCCOCCO)nn3)c2)ccc1O\n"
     ]
    },
    {
     "name": "stderr",
     "output_type": "stream",
     "text": [
      "[query.py:297 - calculate_microstate_pka_values()] Using dimorphite-dl to identify protonation sites.\n"
     ]
    },
    {
     "name": "stdout",
     "output_type": "stream",
     "text": [
      "O=C(O)CCCc1cn(-c2cccc(COc3ccc(O)c(C(=O)O)c3)c2)nn1\n",
      "<rdkit.Chem.rdchem.Mol object at 0x7f33a5b8feb0>\n",
      "\n",
      "For help, use: python dimorphite_dl.py --help\n",
      "\n",
      "If you use Dimorphite-DL in your research, please cite:\n",
      "Ropp PJ, Kaminsky JC, Yablonski S, Durrant JD (2019) Dimorphite-DL: An\n",
      "open-source program for enumerating the ionization states of drug-like small\n",
      "molecules. J Cheminform 11:14. doi:10.1186/s13321-019-0336-9.\n",
      "\n",
      "O=C(O)CCCc1cn(-c2cccc(COc3ccc(O)c(C(=O)O)c3)c2)nn1\n",
      "<rdkit.Chem.rdchem.Mol object at 0x7fd1fe807eb0>\n",
      "\n",
      "For help, use: python dimorphite_dl.py --help\n",
      "\n",
      "If you use Dimorphite-DL in your research, please cite:\n",
      "Ropp PJ, Kaminsky JC, Yablonski S, Durrant JD (2019) Dimorphite-DL: An\n",
      "open-source program for enumerating the ionization states of drug-like small\n",
      "molecules. J Cheminform 11:14. doi:10.1186/s13321-019-0336-9.\n",
      "\n",
      "WARNING: Skipping poorly formed SMILES string: O=C([O-])CCCc1c[n+](-c2cccc(COc3ccc([O-])c(C(=O)[O-])c3)c2)nn1\n",
      "WARNING: Skipping poorly formed SMILES string: O=C([O-])CCCc1c[n+](-c2cccc(COc3ccc([O-])c(C(=O)O)c3)c2)nn1\n",
      "WARNING: Skipping poorly formed SMILES string: O=C(O)CCCc1c[n+](-c2cccc(COc3ccc([O-])c(C(=O)[O-])c3)c2)nn1\n",
      "WARNING: Skipping poorly formed SMILES string: O=C(O)CCCc1c[n+](-c2cccc(COc3ccc([O-])c(C(=O)O)c3)c2)nn1\n",
      "WARNING: Skipping poorly formed SMILES string: O=C([O-])CCCc1c[n+](-c2cccc(COc3ccc(O)c(C(=O)[O-])c3)c2)nn1\n",
      "WARNING: Skipping poorly formed SMILES string: O=C([O-])CCCc1c[n+](-c2cccc(COc3ccc(O)c(C(=O)O)c3)c2)nn1\n",
      "WARNING: Skipping poorly formed SMILES string: O=C(O)CCCc1c[n+](-c2cccc(COc3ccc(O)c(C(=O)[O-])c3)c2)nn1\n",
      "WARNING: Skipping poorly formed SMILES string: O=C(O)CCCc1c[n+](-c2cccc(COc3ccc(O)c(C(=O)O)c3)c2)nn1\n",
      "WARNING: Skipping poorly formed SMILES string: O=C([O-])CCCc1c[n+](-c2cccc(COc3ccc([O-])c(C(=O)[O-])c3)c2)nn1\n",
      "WARNING: Skipping poorly formed SMILES string: O=C([O-])CCCc1c[n+](-c2cccc(COc3ccc([O-])c(C(=O)O)c3)c2)nn1\n",
      "WARNING: Skipping poorly formed SMILES string: O=C(O)CCCc1c[n+](-c2cccc(COc3ccc([O-])c(C(=O)[O-])c3)c2)nn1\n",
      "WARNING: Skipping poorly formed SMILES string: O=C(O)CCCc1c[n+](-c2cccc(COc3ccc([O-])c(C(=O)O)c3)c2)nn1\n",
      "WARNING: Skipping poorly formed SMILES string: O=C([O-])CCCc1c[n+](-c2cccc(COc3ccc(O)c(C(=O)[O-])c3)c2)nn1\n",
      "WARNING: Skipping poorly formed SMILES string: O=C([O-])CCCc1c[n+](-c2cccc(COc3ccc(O)c(C(=O)O)c3)c2)nn1\n",
      "WARNING: Skipping poorly formed SMILES string: O=C(O)CCCc1c[n+](-c2cccc(COc3ccc(O)c(C(=O)[O-])c3)c2)nn1\n",
      "WARNING: Skipping poorly formed SMILES string: O=C(O)CCCc1c[n+](-c2cccc(COc3ccc(O)c(C(=O)O)c3)c2)nn1\n",
      "Proposed mol at pH 7.4: O=C([O-])CCCc1cn(-c2cccc(COc3ccc(O)c(C(=O)[O-])c3)c2)nn1\n"
     ]
    },
    {
     "name": "stderr",
     "output_type": "stream",
     "text": [
      "[query.py:297 - calculate_microstate_pka_values()] Using dimorphite-dl to identify protonation sites.\n"
     ]
    },
    {
     "name": "stdout",
     "output_type": "stream",
     "text": [
      "O=C(O)c1cc(OCc2cc(-c3cccc(OCc4ccccc4)c3)ccn2)ccc1O\n",
      "<rdkit.Chem.rdchem.Mol object at 0x7f5bbc422eb0>\n",
      "\n",
      "For help, use: python dimorphite_dl.py --help\n",
      "\n",
      "If you use Dimorphite-DL in your research, please cite:\n",
      "Ropp PJ, Kaminsky JC, Yablonski S, Durrant JD (2019) Dimorphite-DL: An\n",
      "open-source program for enumerating the ionization states of drug-like small\n",
      "molecules. J Cheminform 11:14. doi:10.1186/s13321-019-0336-9.\n",
      "\n",
      "O=C(O)c1cc(OCc2cc(-c3cccc(OCc4ccccc4)c3)ccn2)ccc1O\n",
      "<rdkit.Chem.rdchem.Mol object at 0x7f14c4d36eb0>\n",
      "\n",
      "For help, use: python dimorphite_dl.py --help\n",
      "\n",
      "If you use Dimorphite-DL in your research, please cite:\n",
      "Ropp PJ, Kaminsky JC, Yablonski S, Durrant JD (2019) Dimorphite-DL: An\n",
      "open-source program for enumerating the ionization states of drug-like small\n",
      "molecules. J Cheminform 11:14. doi:10.1186/s13321-019-0336-9.\n",
      "\n",
      "Proposed mol at pH 7.4: O=C([O-])c1cc(OCc2cc(-c3cccc(OCc4ccccc4)c3)ccn2)ccc1O\n"
     ]
    },
    {
     "name": "stderr",
     "output_type": "stream",
     "text": [
      "[query.py:297 - calculate_microstate_pka_values()] Using dimorphite-dl to identify protonation sites.\n"
     ]
    },
    {
     "name": "stdout",
     "output_type": "stream",
     "text": [
      "O=C(O)c1cc(OCc2ccc3ccc(OCc4ccccc4)cc3n2)ccc1O\n",
      "<rdkit.Chem.rdchem.Mol object at 0x7f272299be40>\n",
      "\n",
      "For help, use: python dimorphite_dl.py --help\n",
      "\n",
      "If you use Dimorphite-DL in your research, please cite:\n",
      "Ropp PJ, Kaminsky JC, Yablonski S, Durrant JD (2019) Dimorphite-DL: An\n",
      "open-source program for enumerating the ionization states of drug-like small\n",
      "molecules. J Cheminform 11:14. doi:10.1186/s13321-019-0336-9.\n",
      "\n",
      "O=C(O)c1cc(OCc2ccc3ccc(OCc4ccccc4)cc3n2)ccc1O\n",
      "<rdkit.Chem.rdchem.Mol object at 0x7f039bcaee40>\n",
      "\n",
      "For help, use: python dimorphite_dl.py --help\n",
      "\n",
      "If you use Dimorphite-DL in your research, please cite:\n",
      "Ropp PJ, Kaminsky JC, Yablonski S, Durrant JD (2019) Dimorphite-DL: An\n",
      "open-source program for enumerating the ionization states of drug-like small\n",
      "molecules. J Cheminform 11:14. doi:10.1186/s13321-019-0336-9.\n",
      "\n",
      "Proposed mol at pH 7.4: O=C([O-])c1cc(OCc2ccc3ccc(OCc4ccccc4)cc3n2)ccc1O\n"
     ]
    },
    {
     "name": "stderr",
     "output_type": "stream",
     "text": [
      "[query.py:297 - calculate_microstate_pka_values()] Using dimorphite-dl to identify protonation sites.\n"
     ]
    },
    {
     "name": "stdout",
     "output_type": "stream",
     "text": [
      "NC(=O)c1cc(/C=N/NC(=O)COc2cccc3ccccc23)ccc1O\n",
      "<rdkit.Chem.rdchem.Mol object at 0x7f0daeb36e40>\n",
      "\n",
      "For help, use: python dimorphite_dl.py --help\n",
      "\n",
      "If you use Dimorphite-DL in your research, please cite:\n",
      "Ropp PJ, Kaminsky JC, Yablonski S, Durrant JD (2019) Dimorphite-DL: An\n",
      "open-source program for enumerating the ionization states of drug-like small\n",
      "molecules. J Cheminform 11:14. doi:10.1186/s13321-019-0336-9.\n",
      "\n",
      "NC(=O)c1cc(/C=N/NC(=O)COc2cccc3ccccc23)ccc1O\n",
      "<rdkit.Chem.rdchem.Mol object at 0x7fc24adb6e40>\n",
      "\n",
      "For help, use: python dimorphite_dl.py --help\n",
      "\n",
      "If you use Dimorphite-DL in your research, please cite:\n",
      "Ropp PJ, Kaminsky JC, Yablonski S, Durrant JD (2019) Dimorphite-DL: An\n",
      "open-source program for enumerating the ionization states of drug-like small\n",
      "molecules. J Cheminform 11:14. doi:10.1186/s13321-019-0336-9.\n",
      "\n",
      "Proposed mol at pH 7.4: NC(=O)c1cc(/C=N/[N-]C(=O)COc2cccc3ccccc23)ccc1O\n"
     ]
    },
    {
     "name": "stderr",
     "output_type": "stream",
     "text": [
      "[query.py:297 - calculate_microstate_pka_values()] Using dimorphite-dl to identify protonation sites.\n"
     ]
    },
    {
     "name": "stdout",
     "output_type": "stream",
     "text": [
      "Cc1ncc(/C=N/NC(=O)c2cccs2)cn1\n",
      "<rdkit.Chem.rdchem.Mol object at 0x7fa1a90c2e40>\n",
      "\n",
      "For help, use: python dimorphite_dl.py --help\n",
      "\n",
      "If you use Dimorphite-DL in your research, please cite:\n",
      "Ropp PJ, Kaminsky JC, Yablonski S, Durrant JD (2019) Dimorphite-DL: An\n",
      "open-source program for enumerating the ionization states of drug-like small\n",
      "molecules. J Cheminform 11:14. doi:10.1186/s13321-019-0336-9.\n",
      "\n",
      "Cc1ncc(/C=N/NC(=O)c2cccs2)cn1\n",
      "<rdkit.Chem.rdchem.Mol object at 0x7fd618b48e40>\n",
      "\n",
      "For help, use: python dimorphite_dl.py --help\n",
      "\n",
      "If you use Dimorphite-DL in your research, please cite:\n",
      "Ropp PJ, Kaminsky JC, Yablonski S, Durrant JD (2019) Dimorphite-DL: An\n",
      "open-source program for enumerating the ionization states of drug-like small\n",
      "molecules. J Cheminform 11:14. doi:10.1186/s13321-019-0336-9.\n",
      "\n",
      "Proposed mol at pH 7.4: Cc1ncc(/C=N/[N-]C(=O)c2cccs2)cn1\n"
     ]
    },
    {
     "name": "stderr",
     "output_type": "stream",
     "text": [
      "[query.py:297 - calculate_microstate_pka_values()] Using dimorphite-dl to identify protonation sites.\n"
     ]
    },
    {
     "name": "stdout",
     "output_type": "stream",
     "text": [
      "O=C(CC1CCS(=O)(=O)C1)N/N=C/c1ccc(O)cc1F\n",
      "<rdkit.Chem.rdchem.Mol object at 0x7f519e21ae40>\n",
      "\n",
      "For help, use: python dimorphite_dl.py --help\n",
      "\n",
      "If you use Dimorphite-DL in your research, please cite:\n",
      "Ropp PJ, Kaminsky JC, Yablonski S, Durrant JD (2019) Dimorphite-DL: An\n",
      "open-source program for enumerating the ionization states of drug-like small\n",
      "molecules. J Cheminform 11:14. doi:10.1186/s13321-019-0336-9.\n",
      "\n",
      "O=C(CC1CCS(=O)(=O)C1)N/N=C/c1ccc(O)cc1F\n",
      "<rdkit.Chem.rdchem.Mol object at 0x7fcebea6ee40>\n",
      "\n",
      "For help, use: python dimorphite_dl.py --help\n",
      "\n",
      "If you use Dimorphite-DL in your research, please cite:\n",
      "Ropp PJ, Kaminsky JC, Yablonski S, Durrant JD (2019) Dimorphite-DL: An\n",
      "open-source program for enumerating the ionization states of drug-like small\n",
      "molecules. J Cheminform 11:14. doi:10.1186/s13321-019-0336-9.\n",
      "\n",
      "Proposed mol at pH 7.4: O=C(CC1CCS(=O)(=O)C1)[N-]/N=C/c1ccc(O)cc1F\n"
     ]
    },
    {
     "name": "stderr",
     "output_type": "stream",
     "text": [
      "[query.py:297 - calculate_microstate_pka_values()] Using dimorphite-dl to identify protonation sites.\n"
     ]
    },
    {
     "name": "stdout",
     "output_type": "stream",
     "text": [
      "O=C(O)c1cc(OCc2cnc(-c3cccc(NS(=O)(=O)c4ccc5ncsc5c4)c3)nc2)ccc1O\n",
      "<rdkit.Chem.rdchem.Mol object at 0x7f24e6d36eb0>\n",
      "\n",
      "For help, use: python dimorphite_dl.py --help\n",
      "\n",
      "If you use Dimorphite-DL in your research, please cite:\n",
      "Ropp PJ, Kaminsky JC, Yablonski S, Durrant JD (2019) Dimorphite-DL: An\n",
      "open-source program for enumerating the ionization states of drug-like small\n",
      "molecules. J Cheminform 11:14. doi:10.1186/s13321-019-0336-9.\n",
      "\n",
      "O=C(O)c1cc(OCc2cnc(-c3cccc(NS(=O)(=O)c4ccc5ncsc5c4)c3)nc2)ccc1O\n",
      "<rdkit.Chem.rdchem.Mol object at 0x7f93506c2eb0>\n",
      "\n",
      "For help, use: python dimorphite_dl.py --help\n",
      "\n",
      "If you use Dimorphite-DL in your research, please cite:\n",
      "Ropp PJ, Kaminsky JC, Yablonski S, Durrant JD (2019) Dimorphite-DL: An\n",
      "open-source program for enumerating the ionization states of drug-like small\n",
      "molecules. J Cheminform 11:14. doi:10.1186/s13321-019-0336-9.\n",
      "\n",
      "Proposed mol at pH 7.4: O=C([O-])c1cc(OCc2cnc(-c3cccc(NS(=O)(=O)c4ccc5ncsc5c4)c3)nc2)ccc1O\n"
     ]
    },
    {
     "name": "stderr",
     "output_type": "stream",
     "text": [
      "[query.py:297 - calculate_microstate_pka_values()] Using dimorphite-dl to identify protonation sites.\n"
     ]
    },
    {
     "name": "stdout",
     "output_type": "stream",
     "text": [
      "CC(C)(C)OC(=O)N1CC(c2ncc(COc3ccc(O)c(C(=O)O)c3)cn2)c2ccccc21\n",
      "<rdkit.Chem.rdchem.Mol object at 0x7f260df63eb0>\n",
      "\n",
      "For help, use: python dimorphite_dl.py --help\n",
      "\n",
      "If you use Dimorphite-DL in your research, please cite:\n",
      "Ropp PJ, Kaminsky JC, Yablonski S, Durrant JD (2019) Dimorphite-DL: An\n",
      "open-source program for enumerating the ionization states of drug-like small\n",
      "molecules. J Cheminform 11:14. doi:10.1186/s13321-019-0336-9.\n",
      "\n",
      "CC(C)(C)OC(=O)N1CC(c2ncc(COc3ccc(O)c(C(=O)O)c3)cn2)c2ccccc21\n",
      "<rdkit.Chem.rdchem.Mol object at 0x7f8b6f72eeb0>\n",
      "\n",
      "For help, use: python dimorphite_dl.py --help\n",
      "\n",
      "If you use Dimorphite-DL in your research, please cite:\n",
      "Ropp PJ, Kaminsky JC, Yablonski S, Durrant JD (2019) Dimorphite-DL: An\n",
      "open-source program for enumerating the ionization states of drug-like small\n",
      "molecules. J Cheminform 11:14. doi:10.1186/s13321-019-0336-9.\n",
      "\n",
      "Proposed mol at pH 7.4: CC(C)(C)OC(=O)N1CC(c2ncc(COc3ccc(O)c(C(=O)[O-])c3)cn2)c2ccccc21\n"
     ]
    },
    {
     "name": "stderr",
     "output_type": "stream",
     "text": [
      "[query.py:297 - calculate_microstate_pka_values()] Using dimorphite-dl to identify protonation sites.\n"
     ]
    },
    {
     "name": "stdout",
     "output_type": "stream",
     "text": [
      "CC(C)(C)OC(=O)N1CCN(c2ncc(COc3ccc(O)c(C(=O)O)c3)cn2)CC1\n",
      "<rdkit.Chem.rdchem.Mol object at 0x7fc803b1beb0>\n",
      "\n",
      "For help, use: python dimorphite_dl.py --help\n",
      "\n",
      "If you use Dimorphite-DL in your research, please cite:\n",
      "Ropp PJ, Kaminsky JC, Yablonski S, Durrant JD (2019) Dimorphite-DL: An\n",
      "open-source program for enumerating the ionization states of drug-like small\n",
      "molecules. J Cheminform 11:14. doi:10.1186/s13321-019-0336-9.\n",
      "\n",
      "CC(C)(C)OC(=O)N1CCN(c2ncc(COc3ccc(O)c(C(=O)O)c3)cn2)CC1\n",
      "<rdkit.Chem.rdchem.Mol object at 0x7fd100e82eb0>\n",
      "\n",
      "For help, use: python dimorphite_dl.py --help\n",
      "\n",
      "If you use Dimorphite-DL in your research, please cite:\n",
      "Ropp PJ, Kaminsky JC, Yablonski S, Durrant JD (2019) Dimorphite-DL: An\n",
      "open-source program for enumerating the ionization states of drug-like small\n",
      "molecules. J Cheminform 11:14. doi:10.1186/s13321-019-0336-9.\n",
      "\n",
      "Proposed mol at pH 7.4: CC(C)(C)OC(=O)[NH+]1CCN(c2ncc(COc3ccc(O)c(C(=O)[O-])c3)cn2)CC1\n"
     ]
    },
    {
     "name": "stderr",
     "output_type": "stream",
     "text": [
      "[query.py:297 - calculate_microstate_pka_values()] Using dimorphite-dl to identify protonation sites.\n"
     ]
    },
    {
     "name": "stdout",
     "output_type": "stream",
     "text": [
      "CC(C)(C)c1cn(-c2cccc(COc3ccc(O)c(C(=O)O)c3)c2)nn1\n",
      "<rdkit.Chem.rdchem.Mol object at 0x7f20e59a4eb0>\n",
      "\n",
      "For help, use: python dimorphite_dl.py --help\n",
      "\n",
      "If you use Dimorphite-DL in your research, please cite:\n",
      "Ropp PJ, Kaminsky JC, Yablonski S, Durrant JD (2019) Dimorphite-DL: An\n",
      "open-source program for enumerating the ionization states of drug-like small\n",
      "molecules. J Cheminform 11:14. doi:10.1186/s13321-019-0336-9.\n",
      "\n",
      "CC(C)(C)c1cn(-c2cccc(COc3ccc(O)c(C(=O)O)c3)c2)nn1\n",
      "<rdkit.Chem.rdchem.Mol object at 0x7f43d1b82eb0>\n",
      "\n",
      "For help, use: python dimorphite_dl.py --help\n",
      "\n",
      "If you use Dimorphite-DL in your research, please cite:\n",
      "Ropp PJ, Kaminsky JC, Yablonski S, Durrant JD (2019) Dimorphite-DL: An\n",
      "open-source program for enumerating the ionization states of drug-like small\n",
      "molecules. J Cheminform 11:14. doi:10.1186/s13321-019-0336-9.\n",
      "\n",
      "WARNING: Skipping poorly formed SMILES string: CC(C)(C)c1c[n+](-c2cccc(COc3ccc([O-])c(C(=O)[O-])c3)c2)nn1\n",
      "WARNING: Skipping poorly formed SMILES string: CC(C)(C)c1c[n+](-c2cccc(COc3ccc([O-])c(C(=O)O)c3)c2)nn1\n",
      "WARNING: Skipping poorly formed SMILES string: CC(C)(C)c1c[n+](-c2cccc(COc3ccc(O)c(C(=O)[O-])c3)c2)nn1\n",
      "WARNING: Skipping poorly formed SMILES string: CC(C)(C)c1c[n+](-c2cccc(COc3ccc(O)c(C(=O)O)c3)c2)nn1\n",
      "WARNING: Skipping poorly formed SMILES string: CC(C)(C)c1c[n+](-c2cccc(COc3ccc([O-])c(C(=O)[O-])c3)c2)nn1\n",
      "WARNING: Skipping poorly formed SMILES string: CC(C)(C)c1c[n+](-c2cccc(COc3ccc([O-])c(C(=O)O)c3)c2)nn1\n",
      "WARNING: Skipping poorly formed SMILES string: CC(C)(C)c1c[n+](-c2cccc(COc3ccc(O)c(C(=O)[O-])c3)c2)nn1\n",
      "WARNING: Skipping poorly formed SMILES string: CC(C)(C)c1c[n+](-c2cccc(COc3ccc(O)c(C(=O)O)c3)c2)nn1\n",
      "Proposed mol at pH 7.4: CC(C)(C)c1cn(-c2cccc(COc3ccc(O)c(C(=O)[O-])c3)c2)nn1\n"
     ]
    },
    {
     "name": "stderr",
     "output_type": "stream",
     "text": [
      "[query.py:297 - calculate_microstate_pka_values()] Using dimorphite-dl to identify protonation sites.\n"
     ]
    },
    {
     "name": "stdout",
     "output_type": "stream",
     "text": [
      "O=C(O)c1cc(OCc2cccc(-n3cc(C4CCCCC4)nn3)c2)ccc1O\n",
      "<rdkit.Chem.rdchem.Mol object at 0x7f48616e1e40>\n",
      "\n",
      "For help, use: python dimorphite_dl.py --help\n",
      "\n",
      "If you use Dimorphite-DL in your research, please cite:\n",
      "Ropp PJ, Kaminsky JC, Yablonski S, Durrant JD (2019) Dimorphite-DL: An\n",
      "open-source program for enumerating the ionization states of drug-like small\n",
      "molecules. J Cheminform 11:14. doi:10.1186/s13321-019-0336-9.\n",
      "\n",
      "O=C(O)c1cc(OCc2cccc(-n3cc(C4CCCCC4)nn3)c2)ccc1O\n",
      "<rdkit.Chem.rdchem.Mol object at 0x7f394725be40>\n",
      "\n",
      "For help, use: python dimorphite_dl.py --help\n",
      "\n",
      "If you use Dimorphite-DL in your research, please cite:\n",
      "Ropp PJ, Kaminsky JC, Yablonski S, Durrant JD (2019) Dimorphite-DL: An\n",
      "open-source program for enumerating the ionization states of drug-like small\n",
      "molecules. J Cheminform 11:14. doi:10.1186/s13321-019-0336-9.\n",
      "\n",
      "WARNING: Skipping poorly formed SMILES string: O=C([O-])c1cc(OCc2cccc(-[n+]3cc(C4CCCCC4)nn3)c2)ccc1[O-]\n",
      "WARNING: Skipping poorly formed SMILES string: O=C(O)c1cc(OCc2cccc(-[n+]3cc(C4CCCCC4)nn3)c2)ccc1[O-]\n",
      "WARNING: Skipping poorly formed SMILES string: O=C([O-])c1cc(OCc2cccc(-[n+]3cc(C4CCCCC4)nn3)c2)ccc1O\n",
      "WARNING: Skipping poorly formed SMILES string: O=C(O)c1cc(OCc2cccc(-[n+]3cc(C4CCCCC4)nn3)c2)ccc1O\n",
      "WARNING: Skipping poorly formed SMILES string: O=C([O-])c1cc(OCc2cccc(-[n+]3cc(C4CCCCC4)nn3)c2)ccc1[O-]\n",
      "WARNING: Skipping poorly formed SMILES string: O=C(O)c1cc(OCc2cccc(-[n+]3cc(C4CCCCC4)nn3)c2)ccc1[O-]\n",
      "WARNING: Skipping poorly formed SMILES string: O=C([O-])c1cc(OCc2cccc(-[n+]3cc(C4CCCCC4)nn3)c2)ccc1O\n",
      "WARNING: Skipping poorly formed SMILES string: O=C(O)c1cc(OCc2cccc(-[n+]3cc(C4CCCCC4)nn3)c2)ccc1O\n",
      "Proposed mol at pH 7.4: O=C([O-])c1cc(OCc2cccc(-n3cc(C4CCCCC4)nn3)c2)ccc1O\n"
     ]
    },
    {
     "name": "stderr",
     "output_type": "stream",
     "text": [
      "[query.py:297 - calculate_microstate_pka_values()] Using dimorphite-dl to identify protonation sites.\n"
     ]
    },
    {
     "name": "stdout",
     "output_type": "stream",
     "text": [
      "O=C(O)c1cc(OCc2cccc(-n3cc(C4CCCC4)nn3)c2)ccc1O\n",
      "<rdkit.Chem.rdchem.Mol object at 0x7f2393282e40>\n",
      "\n",
      "For help, use: python dimorphite_dl.py --help\n",
      "\n",
      "If you use Dimorphite-DL in your research, please cite:\n",
      "Ropp PJ, Kaminsky JC, Yablonski S, Durrant JD (2019) Dimorphite-DL: An\n",
      "open-source program for enumerating the ionization states of drug-like small\n",
      "molecules. J Cheminform 11:14. doi:10.1186/s13321-019-0336-9.\n",
      "\n",
      "O=C(O)c1cc(OCc2cccc(-n3cc(C4CCCC4)nn3)c2)ccc1O\n",
      "<rdkit.Chem.rdchem.Mol object at 0x7f113bbc2e40>\n",
      "\n",
      "For help, use: python dimorphite_dl.py --help\n",
      "\n",
      "If you use Dimorphite-DL in your research, please cite:\n",
      "Ropp PJ, Kaminsky JC, Yablonski S, Durrant JD (2019) Dimorphite-DL: An\n",
      "open-source program for enumerating the ionization states of drug-like small\n",
      "molecules. J Cheminform 11:14. doi:10.1186/s13321-019-0336-9.\n",
      "\n",
      "WARNING: Skipping poorly formed SMILES string: O=C([O-])c1cc(OCc2cccc(-[n+]3cc(C4CCCC4)nn3)c2)ccc1[O-]\n",
      "WARNING: Skipping poorly formed SMILES string: O=C(O)c1cc(OCc2cccc(-[n+]3cc(C4CCCC4)nn3)c2)ccc1[O-]\n",
      "WARNING: Skipping poorly formed SMILES string: O=C([O-])c1cc(OCc2cccc(-[n+]3cc(C4CCCC4)nn3)c2)ccc1O\n",
      "WARNING: Skipping poorly formed SMILES string: O=C(O)c1cc(OCc2cccc(-[n+]3cc(C4CCCC4)nn3)c2)ccc1O\n",
      "WARNING: Skipping poorly formed SMILES string: O=C([O-])c1cc(OCc2cccc(-[n+]3cc(C4CCCC4)nn3)c2)ccc1[O-]\n",
      "WARNING: Skipping poorly formed SMILES string: O=C(O)c1cc(OCc2cccc(-[n+]3cc(C4CCCC4)nn3)c2)ccc1[O-]\n",
      "WARNING: Skipping poorly formed SMILES string: O=C([O-])c1cc(OCc2cccc(-[n+]3cc(C4CCCC4)nn3)c2)ccc1O\n",
      "WARNING: Skipping poorly formed SMILES string: O=C(O)c1cc(OCc2cccc(-[n+]3cc(C4CCCC4)nn3)c2)ccc1O\n",
      "Proposed mol at pH 7.4: O=C([O-])c1cc(OCc2cccc(-n3cc(C4CCCC4)nn3)c2)ccc1O\n"
     ]
    },
    {
     "name": "stderr",
     "output_type": "stream",
     "text": [
      "[query.py:297 - calculate_microstate_pka_values()] Using dimorphite-dl to identify protonation sites.\n"
     ]
    },
    {
     "name": "stdout",
     "output_type": "stream",
     "text": [
      "CC(C)(C)c1cn(-c2cc(COc3ccc(O)c(C(=O)O)c3)cc(-c3cncc4ccccc34)c2)nn1\n",
      "<rdkit.Chem.rdchem.Mol object at 0x7f67fc882e40>\n",
      "\n",
      "For help, use: python dimorphite_dl.py --help\n",
      "\n",
      "If you use Dimorphite-DL in your research, please cite:\n",
      "Ropp PJ, Kaminsky JC, Yablonski S, Durrant JD (2019) Dimorphite-DL: An\n",
      "open-source program for enumerating the ionization states of drug-like small\n",
      "molecules. J Cheminform 11:14. doi:10.1186/s13321-019-0336-9.\n",
      "\n",
      "CC(C)(C)c1cn(-c2cc(COc3ccc(O)c(C(=O)O)c3)cc(-c3cncc4ccccc34)c2)nn1\n",
      "<rdkit.Chem.rdchem.Mol object at 0x7f63b022ee40>\n",
      "\n",
      "For help, use: python dimorphite_dl.py --help\n",
      "\n",
      "If you use Dimorphite-DL in your research, please cite:\n",
      "Ropp PJ, Kaminsky JC, Yablonski S, Durrant JD (2019) Dimorphite-DL: An\n",
      "open-source program for enumerating the ionization states of drug-like small\n",
      "molecules. J Cheminform 11:14. doi:10.1186/s13321-019-0336-9.\n",
      "\n",
      "WARNING: Skipping poorly formed SMILES string: CC(C)(C)c1c[n+](-c2cc(COc3ccc([O-])c(C(=O)[O-])c3)cc(-c3cncc4ccccc34)c2)nn1\n",
      "WARNING: Skipping poorly formed SMILES string: CC(C)(C)c1c[n+](-c2cc(COc3ccc([O-])c(C(=O)O)c3)cc(-c3cncc4ccccc34)c2)nn1\n",
      "WARNING: Skipping poorly formed SMILES string: CC(C)(C)c1c[n+](-c2cc(COc3ccc(O)c(C(=O)[O-])c3)cc(-c3cncc4ccccc34)c2)nn1\n",
      "WARNING: Skipping poorly formed SMILES string: CC(C)(C)c1c[n+](-c2cc(COc3ccc(O)c(C(=O)O)c3)cc(-c3cncc4ccccc34)c2)nn1\n",
      "WARNING: Skipping poorly formed SMILES string: CC(C)(C)c1c[n+](-c2cc(COc3ccc([O-])c(C(=O)[O-])c3)cc(-c3cncc4ccccc34)c2)nn1\n",
      "WARNING: Skipping poorly formed SMILES string: CC(C)(C)c1c[n+](-c2cc(COc3ccc([O-])c(C(=O)O)c3)cc(-c3cncc4ccccc34)c2)nn1\n",
      "WARNING: Skipping poorly formed SMILES string: CC(C)(C)c1c[n+](-c2cc(COc3ccc(O)c(C(=O)[O-])c3)cc(-c3cncc4ccccc34)c2)nn1\n",
      "WARNING: Skipping poorly formed SMILES string: CC(C)(C)c1c[n+](-c2cc(COc3ccc(O)c(C(=O)O)c3)cc(-c3cncc4ccccc34)c2)nn1\n",
      "Proposed mol at pH 7.4: CC(C)(C)c1cn(-c2cc(COc3ccc(O)c(C(=O)[O-])c3)cc(-c3cncc4ccccc34)c2)nn1\n"
     ]
    },
    {
     "name": "stderr",
     "output_type": "stream",
     "text": [
      "[query.py:297 - calculate_microstate_pka_values()] Using dimorphite-dl to identify protonation sites.\n"
     ]
    },
    {
     "name": "stdout",
     "output_type": "stream",
     "text": [
      "O=C(O)c1cc(OCc2cc(-c3cncc4ccccc34)cc(-n3cc(C4CCCC4)nn3)c2)ccc1O\n",
      "<rdkit.Chem.rdchem.Mol object at 0x7f86c43e3eb0>\n",
      "\n",
      "For help, use: python dimorphite_dl.py --help\n",
      "\n",
      "If you use Dimorphite-DL in your research, please cite:\n",
      "Ropp PJ, Kaminsky JC, Yablonski S, Durrant JD (2019) Dimorphite-DL: An\n",
      "open-source program for enumerating the ionization states of drug-like small\n",
      "molecules. J Cheminform 11:14. doi:10.1186/s13321-019-0336-9.\n",
      "\n",
      "O=C(O)c1cc(OCc2cc(-c3cncc4ccccc34)cc(-n3cc(C4CCCC4)nn3)c2)ccc1O\n",
      "<rdkit.Chem.rdchem.Mol object at 0x7f0c6a20feb0>\n",
      "\n",
      "For help, use: python dimorphite_dl.py --help\n",
      "\n",
      "If you use Dimorphite-DL in your research, please cite:\n",
      "Ropp PJ, Kaminsky JC, Yablonski S, Durrant JD (2019) Dimorphite-DL: An\n",
      "open-source program for enumerating the ionization states of drug-like small\n",
      "molecules. J Cheminform 11:14. doi:10.1186/s13321-019-0336-9.\n",
      "\n",
      "WARNING: Skipping poorly formed SMILES string: O=C([O-])c1cc(OCc2cc(-c3cncc4ccccc34)cc(-[n+]3cc(C4CCCC4)nn3)c2)ccc1[O-]\n",
      "WARNING: Skipping poorly formed SMILES string: O=C(O)c1cc(OCc2cc(-c3cncc4ccccc34)cc(-[n+]3cc(C4CCCC4)nn3)c2)ccc1[O-]\n",
      "WARNING: Skipping poorly formed SMILES string: O=C([O-])c1cc(OCc2cc(-c3cncc4ccccc34)cc(-[n+]3cc(C4CCCC4)nn3)c2)ccc1O\n",
      "WARNING: Skipping poorly formed SMILES string: O=C(O)c1cc(OCc2cc(-c3cncc4ccccc34)cc(-[n+]3cc(C4CCCC4)nn3)c2)ccc1O\n",
      "WARNING: Skipping poorly formed SMILES string: O=C([O-])c1cc(OCc2cc(-c3c[nH+]cc4ccccc34)cc(-[n+]3cc(C4CCCC4)nn3)c2)ccc1[O-]\n",
      "WARNING: Skipping poorly formed SMILES string: O=C(O)c1cc(OCc2cc(-c3c[nH+]cc4ccccc34)cc(-[n+]3cc(C4CCCC4)nn3)c2)ccc1[O-]\n",
      "WARNING: Skipping poorly formed SMILES string: O=C([O-])c1cc(OCc2cc(-c3c[nH+]cc4ccccc34)cc(-[n+]3cc(C4CCCC4)nn3)c2)ccc1O\n",
      "WARNING: Skipping poorly formed SMILES string: O=C(O)c1cc(OCc2cc(-c3c[nH+]cc4ccccc34)cc(-[n+]3cc(C4CCCC4)nn3)c2)ccc1O\n",
      "WARNING: Skipping poorly formed SMILES string: O=C([O-])c1cc(OCc2cc(-c3cncc4ccccc34)cc(-[n+]3cc(C4CCCC4)nn3)c2)ccc1[O-]\n",
      "WARNING: Skipping poorly formed SMILES string: O=C(O)c1cc(OCc2cc(-c3cncc4ccccc34)cc(-[n+]3cc(C4CCCC4)nn3)c2)ccc1[O-]\n",
      "WARNING: Skipping poorly formed SMILES string: O=C([O-])c1cc(OCc2cc(-c3cncc4ccccc34)cc(-[n+]3cc(C4CCCC4)nn3)c2)ccc1O\n",
      "WARNING: Skipping poorly formed SMILES string: O=C(O)c1cc(OCc2cc(-c3cncc4ccccc34)cc(-[n+]3cc(C4CCCC4)nn3)c2)ccc1O\n",
      "WARNING: Skipping poorly formed SMILES string: O=C([O-])c1cc(OCc2cc(-c3c[nH+]cc4ccccc34)cc(-[n+]3cc(C4CCCC4)nn3)c2)ccc1[O-]\n",
      "WARNING: Skipping poorly formed SMILES string: O=C(O)c1cc(OCc2cc(-c3c[nH+]cc4ccccc34)cc(-[n+]3cc(C4CCCC4)nn3)c2)ccc1[O-]\n",
      "WARNING: Skipping poorly formed SMILES string: O=C([O-])c1cc(OCc2cc(-c3c[nH+]cc4ccccc34)cc(-[n+]3cc(C4CCCC4)nn3)c2)ccc1O\n",
      "WARNING: Skipping poorly formed SMILES string: O=C(O)c1cc(OCc2cc(-c3c[nH+]cc4ccccc34)cc(-[n+]3cc(C4CCCC4)nn3)c2)ccc1O\n",
      "Proposed mol at pH 7.4: O=C([O-])c1cc(OCc2cc(-c3cncc4ccccc34)cc(-n3cc(C4CCCC4)nn3)c2)ccc1O\n"
     ]
    },
    {
     "name": "stderr",
     "output_type": "stream",
     "text": [
      "[query.py:297 - calculate_microstate_pka_values()] Using dimorphite-dl to identify protonation sites.\n"
     ]
    },
    {
     "name": "stdout",
     "output_type": "stream",
     "text": [
      "O=C(O)c1cc(OCc2cc(-c3cncc4ccccc34)cc(-n3cc(COc4ccc(CO)cc4)nn3)c2)ccc1O\n",
      "<rdkit.Chem.rdchem.Mol object at 0x7f760e8c2e40>\n",
      "\n",
      "For help, use: python dimorphite_dl.py --help\n",
      "\n",
      "If you use Dimorphite-DL in your research, please cite:\n",
      "Ropp PJ, Kaminsky JC, Yablonski S, Durrant JD (2019) Dimorphite-DL: An\n",
      "open-source program for enumerating the ionization states of drug-like small\n",
      "molecules. J Cheminform 11:14. doi:10.1186/s13321-019-0336-9.\n",
      "\n",
      "O=C(O)c1cc(OCc2cc(-c3cncc4ccccc34)cc(-n3cc(COc4ccc(CO)cc4)nn3)c2)ccc1O\n",
      "<rdkit.Chem.rdchem.Mol object at 0x7f9a5533ce40>\n",
      "\n",
      "For help, use: python dimorphite_dl.py --help\n",
      "\n",
      "If you use Dimorphite-DL in your research, please cite:\n",
      "Ropp PJ, Kaminsky JC, Yablonski S, Durrant JD (2019) Dimorphite-DL: An\n",
      "open-source program for enumerating the ionization states of drug-like small\n",
      "molecules. J Cheminform 11:14. doi:10.1186/s13321-019-0336-9.\n",
      "\n",
      "WARNING: Skipping poorly formed SMILES string: O=C([O-])c1cc(OCc2cc(-c3cncc4ccccc34)cc(-[n+]3cc(COc4ccc(C[O-])cc4)nn3)c2)ccc1[O-]\n",
      "WARNING: Skipping poorly formed SMILES string: O=C(O)c1cc(OCc2cc(-c3cncc4ccccc34)cc(-[n+]3cc(COc4ccc(C[O-])cc4)nn3)c2)ccc1[O-]\n",
      "WARNING: Skipping poorly formed SMILES string: O=C([O-])c1cc(OCc2cc(-c3cncc4ccccc34)cc(-[n+]3cc(COc4ccc(C[O-])cc4)nn3)c2)ccc1O\n",
      "WARNING: Skipping poorly formed SMILES string: O=C(O)c1cc(OCc2cc(-c3cncc4ccccc34)cc(-[n+]3cc(COc4ccc(C[O-])cc4)nn3)c2)ccc1O\n",
      "WARNING: Skipping poorly formed SMILES string: O=C([O-])c1cc(OCc2cc(-c3cncc4ccccc34)cc(-[n+]3cc(COc4ccc(CO)cc4)nn3)c2)ccc1[O-]\n",
      "WARNING: Skipping poorly formed SMILES string: O=C(O)c1cc(OCc2cc(-c3cncc4ccccc34)cc(-[n+]3cc(COc4ccc(CO)cc4)nn3)c2)ccc1[O-]\n",
      "WARNING: Skipping poorly formed SMILES string: O=C([O-])c1cc(OCc2cc(-c3cncc4ccccc34)cc(-[n+]3cc(COc4ccc(CO)cc4)nn3)c2)ccc1O\n",
      "WARNING: Skipping poorly formed SMILES string: O=C(O)c1cc(OCc2cc(-c3cncc4ccccc34)cc(-[n+]3cc(COc4ccc(CO)cc4)nn3)c2)ccc1O\n",
      "WARNING: Skipping poorly formed SMILES string: O=C([O-])c1cc(OCc2cc(-c3c[nH+]cc4ccccc34)cc(-[n+]3cc(COc4ccc(C[O-])cc4)nn3)c2)ccc1[O-]\n",
      "WARNING: Skipping poorly formed SMILES string: O=C(O)c1cc(OCc2cc(-c3c[nH+]cc4ccccc34)cc(-[n+]3cc(COc4ccc(C[O-])cc4)nn3)c2)ccc1[O-]\n",
      "WARNING: Skipping poorly formed SMILES string: O=C([O-])c1cc(OCc2cc(-c3c[nH+]cc4ccccc34)cc(-[n+]3cc(COc4ccc(C[O-])cc4)nn3)c2)ccc1O\n",
      "WARNING: Skipping poorly formed SMILES string: O=C(O)c1cc(OCc2cc(-c3c[nH+]cc4ccccc34)cc(-[n+]3cc(COc4ccc(C[O-])cc4)nn3)c2)ccc1O\n",
      "WARNING: Skipping poorly formed SMILES string: O=C([O-])c1cc(OCc2cc(-c3c[nH+]cc4ccccc34)cc(-[n+]3cc(COc4ccc(CO)cc4)nn3)c2)ccc1[O-]\n",
      "WARNING: Skipping poorly formed SMILES string: O=C(O)c1cc(OCc2cc(-c3c[nH+]cc4ccccc34)cc(-[n+]3cc(COc4ccc(CO)cc4)nn3)c2)ccc1[O-]\n",
      "WARNING: Skipping poorly formed SMILES string: O=C([O-])c1cc(OCc2cc(-c3c[nH+]cc4ccccc34)cc(-[n+]3cc(COc4ccc(CO)cc4)nn3)c2)ccc1O\n",
      "WARNING: Skipping poorly formed SMILES string: O=C(O)c1cc(OCc2cc(-c3c[nH+]cc4ccccc34)cc(-[n+]3cc(COc4ccc(CO)cc4)nn3)c2)ccc1O\n",
      "WARNING: Skipping poorly formed SMILES string: O=C([O-])c1cc(OCc2cc(-c3cncc4ccccc34)cc(-[n+]3cc(COc4ccc(C[O-])cc4)nn3)c2)ccc1[O-]\n",
      "WARNING: Skipping poorly formed SMILES string: O=C(O)c1cc(OCc2cc(-c3cncc4ccccc34)cc(-[n+]3cc(COc4ccc(C[O-])cc4)nn3)c2)ccc1[O-]\n",
      "WARNING: Skipping poorly formed SMILES string: O=C([O-])c1cc(OCc2cc(-c3cncc4ccccc34)cc(-[n+]3cc(COc4ccc(C[O-])cc4)nn3)c2)ccc1O\n",
      "WARNING: Skipping poorly formed SMILES string: O=C(O)c1cc(OCc2cc(-c3cncc4ccccc34)cc(-[n+]3cc(COc4ccc(C[O-])cc4)nn3)c2)ccc1O\n",
      "WARNING: Skipping poorly formed SMILES string: O=C([O-])c1cc(OCc2cc(-c3cncc4ccccc34)cc(-[n+]3cc(COc4ccc(CO)cc4)nn3)c2)ccc1[O-]\n",
      "WARNING: Skipping poorly formed SMILES string: O=C(O)c1cc(OCc2cc(-c3cncc4ccccc34)cc(-[n+]3cc(COc4ccc(CO)cc4)nn3)c2)ccc1[O-]\n",
      "WARNING: Skipping poorly formed SMILES string: O=C([O-])c1cc(OCc2cc(-c3cncc4ccccc34)cc(-[n+]3cc(COc4ccc(CO)cc4)nn3)c2)ccc1O\n",
      "WARNING: Skipping poorly formed SMILES string: O=C(O)c1cc(OCc2cc(-c3cncc4ccccc34)cc(-[n+]3cc(COc4ccc(CO)cc4)nn3)c2)ccc1O\n",
      "WARNING: Skipping poorly formed SMILES string: O=C([O-])c1cc(OCc2cc(-c3c[nH+]cc4ccccc34)cc(-[n+]3cc(COc4ccc(C[O-])cc4)nn3)c2)ccc1[O-]\n",
      "WARNING: Skipping poorly formed SMILES string: O=C(O)c1cc(OCc2cc(-c3c[nH+]cc4ccccc34)cc(-[n+]3cc(COc4ccc(C[O-])cc4)nn3)c2)ccc1[O-]\n",
      "WARNING: Skipping poorly formed SMILES string: O=C([O-])c1cc(OCc2cc(-c3c[nH+]cc4ccccc34)cc(-[n+]3cc(COc4ccc(C[O-])cc4)nn3)c2)ccc1O\n",
      "WARNING: Skipping poorly formed SMILES string: O=C(O)c1cc(OCc2cc(-c3c[nH+]cc4ccccc34)cc(-[n+]3cc(COc4ccc(C[O-])cc4)nn3)c2)ccc1O\n",
      "WARNING: Skipping poorly formed SMILES string: O=C([O-])c1cc(OCc2cc(-c3c[nH+]cc4ccccc34)cc(-[n+]3cc(COc4ccc(CO)cc4)nn3)c2)ccc1[O-]\n",
      "WARNING: Skipping poorly formed SMILES string: O=C(O)c1cc(OCc2cc(-c3c[nH+]cc4ccccc34)cc(-[n+]3cc(COc4ccc(CO)cc4)nn3)c2)ccc1[O-]\n",
      "WARNING: Skipping poorly formed SMILES string: O=C([O-])c1cc(OCc2cc(-c3c[nH+]cc4ccccc34)cc(-[n+]3cc(COc4ccc(CO)cc4)nn3)c2)ccc1O\n",
      "WARNING: Skipping poorly formed SMILES string: O=C(O)c1cc(OCc2cc(-c3c[nH+]cc4ccccc34)cc(-[n+]3cc(COc4ccc(CO)cc4)nn3)c2)ccc1O\n",
      "Proposed mol at pH 7.4: O=C([O-])c1cc(OCc2cc(-c3cncc4ccccc34)cc(-n3cc(COc4ccc(CO)cc4)nn3)c2)ccc1O\n"
     ]
    },
    {
     "name": "stderr",
     "output_type": "stream",
     "text": [
      "[query.py:297 - calculate_microstate_pka_values()] Using dimorphite-dl to identify protonation sites.\n"
     ]
    },
    {
     "name": "stdout",
     "output_type": "stream",
     "text": [
      "CC(C)(C)OC(=O)Nc1cccc(-c2ncc(COc3ccc(O)c(C(=O)O)c3)cn2)c1\n",
      "<rdkit.Chem.rdchem.Mol object at 0x7f99d62f6eb0>\n",
      "\n",
      "For help, use: python dimorphite_dl.py --help\n",
      "\n",
      "If you use Dimorphite-DL in your research, please cite:\n",
      "Ropp PJ, Kaminsky JC, Yablonski S, Durrant JD (2019) Dimorphite-DL: An\n",
      "open-source program for enumerating the ionization states of drug-like small\n",
      "molecules. J Cheminform 11:14. doi:10.1186/s13321-019-0336-9.\n",
      "\n",
      "CC(C)(C)OC(=O)Nc1cccc(-c2ncc(COc3ccc(O)c(C(=O)O)c3)cn2)c1\n",
      "<rdkit.Chem.rdchem.Mol object at 0x7fe87a87beb0>\n",
      "\n",
      "For help, use: python dimorphite_dl.py --help\n",
      "\n",
      "If you use Dimorphite-DL in your research, please cite:\n",
      "Ropp PJ, Kaminsky JC, Yablonski S, Durrant JD (2019) Dimorphite-DL: An\n",
      "open-source program for enumerating the ionization states of drug-like small\n",
      "molecules. J Cheminform 11:14. doi:10.1186/s13321-019-0336-9.\n",
      "\n",
      "Proposed mol at pH 7.4: CC(C)(C)OC(=O)Nc1cccc(-c2ncc(COc3ccc(O)c(C(=O)[O-])c3)cn2)c1\n"
     ]
    },
    {
     "name": "stderr",
     "output_type": "stream",
     "text": [
      "[query.py:297 - calculate_microstate_pka_values()] Using dimorphite-dl to identify protonation sites.\n"
     ]
    },
    {
     "name": "stdout",
     "output_type": "stream",
     "text": [
      "CCOc1nc2cccc(C(=O)O)c2n1Cc1ccc(-c2ccccc2-c2nn[nH]n2)cc1\n",
      "<rdkit.Chem.rdchem.Mol object at 0x7f52622b6eb0>\n",
      "\n",
      "For help, use: python dimorphite_dl.py --help\n",
      "\n",
      "If you use Dimorphite-DL in your research, please cite:\n",
      "Ropp PJ, Kaminsky JC, Yablonski S, Durrant JD (2019) Dimorphite-DL: An\n",
      "open-source program for enumerating the ionization states of drug-like small\n",
      "molecules. J Cheminform 11:14. doi:10.1186/s13321-019-0336-9.\n",
      "\n",
      "CCOc1nc2cccc(C(=O)O)c2n1Cc1ccc(-c2ccccc2-c2nn[nH]n2)cc1\n",
      "<rdkit.Chem.rdchem.Mol object at 0x7f3866f6eeb0>\n",
      "\n",
      "For help, use: python dimorphite_dl.py --help\n",
      "\n",
      "If you use Dimorphite-DL in your research, please cite:\n",
      "Ropp PJ, Kaminsky JC, Yablonski S, Durrant JD (2019) Dimorphite-DL: An\n",
      "open-source program for enumerating the ionization states of drug-like small\n",
      "molecules. J Cheminform 11:14. doi:10.1186/s13321-019-0336-9.\n",
      "\n",
      "WARNING: Skipping poorly formed SMILES string: CCOc1nc2cccc(C(=O)[O-])c2[n+]1Cc1ccc(-c2ccccc2-c2nn[nH]n2)cc1\n",
      "WARNING: Skipping poorly formed SMILES string: CCOc1nc2cccc(C(=O)O)c2[n+]1Cc1ccc(-c2ccccc2-c2nn[nH]n2)cc1\n",
      "WARNING: Skipping poorly formed SMILES string: CCOc1[nH+]c2cccc(C(=O)[O-])c2[n+]1Cc1ccc(-c2ccccc2-c2nn[nH]n2)cc1\n",
      "WARNING: Skipping poorly formed SMILES string: CCOc1[nH+]c2cccc(C(=O)O)c2[n+]1Cc1ccc(-c2ccccc2-c2nn[nH]n2)cc1\n",
      "WARNING: Skipping poorly formed SMILES string: CCOc1nc2cccc(C(=O)[O-])c2[n+]1Cc1ccc(-c2ccccc2-c2nn[nH]n2)cc1\n",
      "WARNING: Skipping poorly formed SMILES string: CCOc1nc2cccc(C(=O)O)c2[n+]1Cc1ccc(-c2ccccc2-c2nn[nH]n2)cc1\n",
      "WARNING: Skipping poorly formed SMILES string: CCOc1[nH+]c2cccc(C(=O)[O-])c2[n+]1Cc1ccc(-c2ccccc2-c2nn[nH]n2)cc1\n",
      "WARNING: Skipping poorly formed SMILES string: CCOc1[nH+]c2cccc(C(=O)O)c2[n+]1Cc1ccc(-c2ccccc2-c2nn[nH]n2)cc1\n",
      "Proposed mol at pH 7.4: CCOc1nc2cccc(C(=O)[O-])c2n1Cc1ccc(-c2ccccc2-c2nn[nH]n2)cc1\n"
     ]
    },
    {
     "name": "stderr",
     "output_type": "stream",
     "text": [
      "[query.py:297 - calculate_microstate_pka_values()] Using dimorphite-dl to identify protonation sites.\n"
     ]
    },
    {
     "name": "stdout",
     "output_type": "stream",
     "text": [
      "CCCCC(=O)N(Cc1ccc(-c2ccccc2-c2nnn[nH]2)cc1)[C@H](C(=O)O)C(C)C\n",
      "<rdkit.Chem.rdchem.Mol object at 0x7f49bcbeeeb0>\n",
      "\n",
      "For help, use: python dimorphite_dl.py --help\n",
      "\n",
      "If you use Dimorphite-DL in your research, please cite:\n",
      "Ropp PJ, Kaminsky JC, Yablonski S, Durrant JD (2019) Dimorphite-DL: An\n",
      "open-source program for enumerating the ionization states of drug-like small\n",
      "molecules. J Cheminform 11:14. doi:10.1186/s13321-019-0336-9.\n",
      "\n",
      "CCCCC(=O)N(Cc1ccc(-c2ccccc2-c2nnn[nH]2)cc1)[C@H](C(=O)O)C(C)C\n",
      "<rdkit.Chem.rdchem.Mol object at 0x7f4312676eb0>\n",
      "\n",
      "For help, use: python dimorphite_dl.py --help\n",
      "\n",
      "If you use Dimorphite-DL in your research, please cite:\n",
      "Ropp PJ, Kaminsky JC, Yablonski S, Durrant JD (2019) Dimorphite-DL: An\n",
      "open-source program for enumerating the ionization states of drug-like small\n",
      "molecules. J Cheminform 11:14. doi:10.1186/s13321-019-0336-9.\n",
      "\n",
      "Proposed mol at pH 7.4: CCCCC(=O)[NH+](Cc1ccc(-c2ccccc2-c2nnn[nH]2)cc1)[C@H](C(=O)[O-])C(C)C\n"
     ]
    },
    {
     "name": "stderr",
     "output_type": "stream",
     "text": [
      "[query.py:297 - calculate_microstate_pka_values()] Using dimorphite-dl to identify protonation sites.\n"
     ]
    },
    {
     "name": "stdout",
     "output_type": "stream",
     "text": [
      "Cc1ccc(-c2noc(CN3CC=C(c4c[nH]c5ccccc45)CC3)n2)cc1\n",
      "<rdkit.Chem.rdchem.Mol object at 0x7f95fbc22eb0>\n",
      "\n",
      "For help, use: python dimorphite_dl.py --help\n",
      "\n",
      "If you use Dimorphite-DL in your research, please cite:\n",
      "Ropp PJ, Kaminsky JC, Yablonski S, Durrant JD (2019) Dimorphite-DL: An\n",
      "open-source program for enumerating the ionization states of drug-like small\n",
      "molecules. J Cheminform 11:14. doi:10.1186/s13321-019-0336-9.\n",
      "\n",
      "Cc1ccc(-c2noc(CN3CC=C(c4c[nH]c5ccccc45)CC3)n2)cc1\n",
      "<rdkit.Chem.rdchem.Mol object at 0x7f5ef8264eb0>\n",
      "\n",
      "For help, use: python dimorphite_dl.py --help\n",
      "\n",
      "If you use Dimorphite-DL in your research, please cite:\n",
      "Ropp PJ, Kaminsky JC, Yablonski S, Durrant JD (2019) Dimorphite-DL: An\n",
      "open-source program for enumerating the ionization states of drug-like small\n",
      "molecules. J Cheminform 11:14. doi:10.1186/s13321-019-0336-9.\n",
      "\n",
      "Proposed mol at pH 7.4: Cc1ccc(-c2noc(C[NH+]3CC=C(c4c[nH]c5ccccc45)CC3)n2)cc1\n"
     ]
    },
    {
     "name": "stderr",
     "output_type": "stream",
     "text": [
      "[query.py:297 - calculate_microstate_pka_values()] Using dimorphite-dl to identify protonation sites.\n"
     ]
    },
    {
     "name": "stdout",
     "output_type": "stream",
     "text": [
      "Cn1ncc2c(=O)[nH]c(Nc3cccc(Oc4ccccc4)c3)nc21\n",
      "<rdkit.Chem.rdchem.Mol object at 0x7f4349656e40>\n",
      "\n",
      "For help, use: python dimorphite_dl.py --help\n",
      "\n",
      "If you use Dimorphite-DL in your research, please cite:\n",
      "Ropp PJ, Kaminsky JC, Yablonski S, Durrant JD (2019) Dimorphite-DL: An\n",
      "open-source program for enumerating the ionization states of drug-like small\n",
      "molecules. J Cheminform 11:14. doi:10.1186/s13321-019-0336-9.\n",
      "\n",
      "Cn1ncc2c(=O)[nH]c(Nc3cccc(Oc4ccccc4)c3)nc21\n",
      "<rdkit.Chem.rdchem.Mol object at 0x7fdd50e22e40>\n",
      "\n",
      "For help, use: python dimorphite_dl.py --help\n",
      "\n",
      "If you use Dimorphite-DL in your research, please cite:\n",
      "Ropp PJ, Kaminsky JC, Yablonski S, Durrant JD (2019) Dimorphite-DL: An\n",
      "open-source program for enumerating the ionization states of drug-like small\n",
      "molecules. J Cheminform 11:14. doi:10.1186/s13321-019-0336-9.\n",
      "\n",
      "WARNING: Skipping poorly formed SMILES string: C[n+]1ncc2c(=O)[nH]c(Nc3cccc(Oc4ccccc4)c3)nc21\n",
      "WARNING: Skipping poorly formed SMILES string: C[n+]1ncc2c(=O)[nH]c([NH2+]c3cccc(Oc4ccccc4)c3)nc21\n",
      "WARNING: Skipping poorly formed SMILES string: C[n+]1ncc2c(=O)[nH]c(Nc3cccc(Oc4ccccc4)c3)nc21\n",
      "WARNING: Skipping poorly formed SMILES string: C[n+]1ncc2c(=O)[nH]c([NH2+]c3cccc(Oc4ccccc4)c3)nc21\n",
      "Proposed mol at pH 7.4: Cn1ncc2c(=O)[nH]c(Nc3cccc(Oc4ccccc4)c3)nc21\n",
      "\n",
      "[2023-Jun-10 12:51:13]: Protonation of compound library finished: Started with 212, ended with 212 : 0 compounds lost\n",
      "\n",
      "[2023-Jun-10 12:51:13]: Generating 3D conformers using GypsumDL...\n",
      "\n",
      "[2023-Jun-10 12:52:04]: Cleaning up files...\n",
      "\n",
      "[2023-Jun-10 12:52:04]: Preparation of compound library finished: ended with 212\n"
     ]
    }
   ],
   "source": [
    "if os.path.isfile(w_dir+'/temp/final_library.sdf') == False:\n",
    "    prepare_library(docking_library, id_column, software, protonation, ncpus)"
   ]
  },
  {
   "cell_type": "code",
   "execution_count": 7,
   "metadata": {},
   "outputs": [
    {
     "name": "stdout",
     "output_type": "stream",
     "text": [
      "Splitting SDF file final_library.sdf ...\n"
     ]
    },
    {
     "name": "stderr",
     "output_type": "stream",
     "text": [
      "Splitting files: 100%|██████████| 27/27 [00:00<00:00, 267.44it/s]\n"
     ]
    },
    {
     "name": "stdout",
     "output_type": "stream",
     "text": [
      "Split docking library into 27 files each containing 8 compounds\n",
      "\n",
      "[2023-Jun-10 12:52:04]: Combining all poses...\n",
      "\n",
      "[2023-Jun-10 12:52:06]: All poses succesfully combined!\n"
     ]
    }
   ],
   "source": [
    "docking(w_dir, protein_file, ref_file, software, docking_programs, exhaustiveness, n_poses, ncpus, pocket_definition)\n"
   ]
  },
  {
   "cell_type": "code",
   "execution_count": null,
   "metadata": {},
   "outputs": [],
   "source": [
    "print('Loading all poses SDF file...')\n",
    "tic = time.perf_counter()\n",
    "all_poses = PandasTools.LoadSDF(w_dir+'/temp/allposes.sdf', idName='Pose ID', molColName='Molecule', includeFingerprints=False, strictParsing=True)\n",
    "toc = time.perf_counter()\n",
    "print(f'Finished loading all poses SDF in {toc-tic:0.4f}!...')\n"
   ]
  },
  {
   "cell_type": "code",
   "execution_count": null,
   "metadata": {},
   "outputs": [],
   "source": [
    "for metric in clustering_metrics:\n",
    "        if os.path.isfile(w_dir+f'/temp/clustering/{metric}_clustered.sdf') == False:\n",
    "            cluster_pebble(metric, 'KMedoids', w_dir, protein_file, all_poses, ncpus)"
   ]
  },
  {
   "cell_type": "code",
   "execution_count": null,
   "metadata": {},
   "outputs": [],
   "source": [
    "for metric in clustering_metrics:\n",
    "        rescore_all(w_dir, protein_file, ref_file, software, w_dir+f'/temp/clustering/{metric}_clustered.sdf', rescoring_functions, 20)\n"
   ]
  },
  {
   "cell_type": "code",
   "execution_count": null,
   "metadata": {},
   "outputs": [],
   "source": [
    "calculate_EF_single_functions(w_dir, docking_library, clustering_metrics)"
   ]
  },
  {
   "cell_type": "code",
   "execution_count": null,
   "metadata": {},
   "outputs": [],
   "source": [
    "apply_consensus_methods_combinations(w_dir, docking_library, clustering_metrics)"
   ]
  },
  {
   "cell_type": "code",
   "execution_count": 10,
   "metadata": {},
   "outputs": [
    {
     "name": "stdout",
     "output_type": "stream",
     "text": [
      "The folder: /home/hamza/Gitlab/DockM8/data/temp/ranking was created\n"
     ]
    },
    {
     "ename": "FileNotFoundError",
     "evalue": "[Errno 2] No such file or directory: '/home/hamza/Gitlab/DockM8/data/temp/rescoring_bestpose_clustered/allposes_rescored.csv'",
     "output_type": "error",
     "traceback": [
      "\u001b[0;31m---------------------------------------------------------------------------\u001b[0m",
      "\u001b[0;31mFileNotFoundError\u001b[0m                         Traceback (most recent call last)",
      "\u001b[1;32m/home/hamza/Gitlab/DockM8/ECF.ipynb Cell 17\u001b[0m in \u001b[0;36m<cell line: 1>\u001b[0;34m()\u001b[0m\n\u001b[0;32m----> <a href='vscode-notebook-cell:/home/hamza/Gitlab/DockM8/ECF.ipynb#X22sZmlsZQ%3D%3D?line=0'>1</a>\u001b[0m apply_consensus_methods(w_dir, \u001b[39m'\u001b[39;49m\u001b[39mbestpose\u001b[39;49m\u001b[39m'\u001b[39;49m, \u001b[39m'\u001b[39;49m\u001b[39mmethod6\u001b[39;49m\u001b[39m'\u001b[39;49m, [\u001b[39m'\u001b[39;49m\u001b[39mgnina\u001b[39;49m\u001b[39m'\u001b[39;49m, \u001b[39m'\u001b[39;49m\u001b[39mRTMScore\u001b[39;49m\u001b[39m'\u001b[39;49m])\n",
      "File \u001b[0;32m~/Gitlab/DockM8/scripts/performance_calculation.py:156\u001b[0m, in \u001b[0;36mapply_consensus_methods\u001b[0;34m(w_dir, clustering_metric, method, rescoring_functions)\u001b[0m\n\u001b[1;32m    154\u001b[0m create_temp_folder(w_dir\u001b[39m+\u001b[39m\u001b[39m'\u001b[39m\u001b[39m/temp/ranking\u001b[39m\u001b[39m'\u001b[39m)\n\u001b[1;32m    155\u001b[0m rescoring_folder \u001b[39m=\u001b[39m \u001b[39mf\u001b[39m\u001b[39m'\u001b[39m\u001b[39mrescoring_\u001b[39m\u001b[39m{\u001b[39;00mclustering_metric\u001b[39m}\u001b[39;00m\u001b[39m_clustered\u001b[39m\u001b[39m'\u001b[39m\n\u001b[0;32m--> 156\u001b[0m rescored_dataframe \u001b[39m=\u001b[39m pd\u001b[39m.\u001b[39;49mread_csv(w_dir \u001b[39m+\u001b[39;49m \u001b[39mf\u001b[39;49m\u001b[39m'\u001b[39;49m\u001b[39m/temp/\u001b[39;49m\u001b[39m{\u001b[39;49;00mrescoring_folder\u001b[39m}\u001b[39;49;00m\u001b[39m/allposes_rescored.csv\u001b[39;49m\u001b[39m'\u001b[39;49m)\n\u001b[1;32m    157\u001b[0m standardised_dataframe \u001b[39m=\u001b[39m standardize_scores(rescored_dataframe)\n\u001b[1;32m    158\u001b[0m col_dict \u001b[39m=\u001b[39m {\u001b[39m'\u001b[39m\u001b[39mgnina\u001b[39m\u001b[39m'\u001b[39m:[\u001b[39m'\u001b[39m\u001b[39mGNINA\u001b[39m\u001b[39m'\u001b[39m, \u001b[39m'\u001b[39m\u001b[39mCNN-Score\u001b[39m\u001b[39m'\u001b[39m, \u001b[39m'\u001b[39m\u001b[39mCNN-Affinity\u001b[39m\u001b[39m'\u001b[39m], \u001b[39m'\u001b[39m\u001b[39mvinardo\u001b[39m\u001b[39m'\u001b[39m:\u001b[39m'\u001b[39m\u001b[39mVinardo\u001b[39m\u001b[39m'\u001b[39m, \u001b[39m'\u001b[39m\u001b[39mAD4\u001b[39m\u001b[39m'\u001b[39m:\u001b[39m'\u001b[39m\u001b[39mAD4\u001b[39m\u001b[39m'\u001b[39m, \u001b[39m'\u001b[39m\u001b[39mLinF9\u001b[39m\u001b[39m'\u001b[39m:\u001b[39m'\u001b[39m\u001b[39mLinF9\u001b[39m\u001b[39m'\u001b[39m, \u001b[39m'\u001b[39m\u001b[39mrfscorevs\u001b[39m\u001b[39m'\u001b[39m:\u001b[39m'\u001b[39m\u001b[39mRFScoreVS\u001b[39m\u001b[39m'\u001b[39m, \u001b[39m'\u001b[39m\u001b[39mplp\u001b[39m\u001b[39m'\u001b[39m:\u001b[39m'\u001b[39m\u001b[39mPLP\u001b[39m\u001b[39m'\u001b[39m, \u001b[39m'\u001b[39m\u001b[39mchemplp\u001b[39m\u001b[39m'\u001b[39m:\u001b[39m'\u001b[39m\u001b[39mCHEMPLP\u001b[39m\u001b[39m'\u001b[39m, \u001b[39m'\u001b[39m\u001b[39mNNScore\u001b[39m\u001b[39m'\u001b[39m:\u001b[39m'\u001b[39m\u001b[39mNNScore\u001b[39m\u001b[39m'\u001b[39m, \n\u001b[1;32m    159\u001b[0m            \u001b[39m'\u001b[39m\u001b[39mPLECnn\u001b[39m\u001b[39m'\u001b[39m:\u001b[39m'\u001b[39m\u001b[39mPLECnn\u001b[39m\u001b[39m'\u001b[39m, \u001b[39m'\u001b[39m\u001b[39mAAScore\u001b[39m\u001b[39m'\u001b[39m:\u001b[39m'\u001b[39m\u001b[39mAAScore\u001b[39m\u001b[39m'\u001b[39m, \u001b[39m'\u001b[39m\u001b[39mECIF\u001b[39m\u001b[39m'\u001b[39m:\u001b[39m'\u001b[39m\u001b[39mECIF\u001b[39m\u001b[39m'\u001b[39m, \u001b[39m'\u001b[39m\u001b[39mSCORCH\u001b[39m\u001b[39m'\u001b[39m:\u001b[39m'\u001b[39m\u001b[39mSCORCH\u001b[39m\u001b[39m'\u001b[39m,\u001b[39m'\u001b[39m\u001b[39mRTMScore\u001b[39m\u001b[39m'\u001b[39m:\u001b[39m'\u001b[39m\u001b[39mRTMScore\u001b[39m\u001b[39m'\u001b[39m}\n",
      "File \u001b[0;32m~/mambaforge-pypy3/envs/dockm82/lib/python3.8/site-packages/pandas/io/parsers/readers.py:912\u001b[0m, in \u001b[0;36mread_csv\u001b[0;34m(filepath_or_buffer, sep, delimiter, header, names, index_col, usecols, dtype, engine, converters, true_values, false_values, skipinitialspace, skiprows, skipfooter, nrows, na_values, keep_default_na, na_filter, verbose, skip_blank_lines, parse_dates, infer_datetime_format, keep_date_col, date_parser, date_format, dayfirst, cache_dates, iterator, chunksize, compression, thousands, decimal, lineterminator, quotechar, quoting, doublequote, escapechar, comment, encoding, encoding_errors, dialect, on_bad_lines, delim_whitespace, low_memory, memory_map, float_precision, storage_options, dtype_backend)\u001b[0m\n\u001b[1;32m    899\u001b[0m kwds_defaults \u001b[39m=\u001b[39m _refine_defaults_read(\n\u001b[1;32m    900\u001b[0m     dialect,\n\u001b[1;32m    901\u001b[0m     delimiter,\n\u001b[0;32m   (...)\u001b[0m\n\u001b[1;32m    908\u001b[0m     dtype_backend\u001b[39m=\u001b[39mdtype_backend,\n\u001b[1;32m    909\u001b[0m )\n\u001b[1;32m    910\u001b[0m kwds\u001b[39m.\u001b[39mupdate(kwds_defaults)\n\u001b[0;32m--> 912\u001b[0m \u001b[39mreturn\u001b[39;00m _read(filepath_or_buffer, kwds)\n",
      "File \u001b[0;32m~/mambaforge-pypy3/envs/dockm82/lib/python3.8/site-packages/pandas/io/parsers/readers.py:577\u001b[0m, in \u001b[0;36m_read\u001b[0;34m(filepath_or_buffer, kwds)\u001b[0m\n\u001b[1;32m    574\u001b[0m _validate_names(kwds\u001b[39m.\u001b[39mget(\u001b[39m\"\u001b[39m\u001b[39mnames\u001b[39m\u001b[39m\"\u001b[39m, \u001b[39mNone\u001b[39;00m))\n\u001b[1;32m    576\u001b[0m \u001b[39m# Create the parser.\u001b[39;00m\n\u001b[0;32m--> 577\u001b[0m parser \u001b[39m=\u001b[39m TextFileReader(filepath_or_buffer, \u001b[39m*\u001b[39;49m\u001b[39m*\u001b[39;49mkwds)\n\u001b[1;32m    579\u001b[0m \u001b[39mif\u001b[39;00m chunksize \u001b[39mor\u001b[39;00m iterator:\n\u001b[1;32m    580\u001b[0m     \u001b[39mreturn\u001b[39;00m parser\n",
      "File \u001b[0;32m~/mambaforge-pypy3/envs/dockm82/lib/python3.8/site-packages/pandas/io/parsers/readers.py:1407\u001b[0m, in \u001b[0;36mTextFileReader.__init__\u001b[0;34m(self, f, engine, **kwds)\u001b[0m\n\u001b[1;32m   1404\u001b[0m     \u001b[39mself\u001b[39m\u001b[39m.\u001b[39moptions[\u001b[39m\"\u001b[39m\u001b[39mhas_index_names\u001b[39m\u001b[39m\"\u001b[39m] \u001b[39m=\u001b[39m kwds[\u001b[39m\"\u001b[39m\u001b[39mhas_index_names\u001b[39m\u001b[39m\"\u001b[39m]\n\u001b[1;32m   1406\u001b[0m \u001b[39mself\u001b[39m\u001b[39m.\u001b[39mhandles: IOHandles \u001b[39m|\u001b[39m \u001b[39mNone\u001b[39;00m \u001b[39m=\u001b[39m \u001b[39mNone\u001b[39;00m\n\u001b[0;32m-> 1407\u001b[0m \u001b[39mself\u001b[39m\u001b[39m.\u001b[39m_engine \u001b[39m=\u001b[39m \u001b[39mself\u001b[39;49m\u001b[39m.\u001b[39;49m_make_engine(f, \u001b[39mself\u001b[39;49m\u001b[39m.\u001b[39;49mengine)\n",
      "File \u001b[0;32m~/mambaforge-pypy3/envs/dockm82/lib/python3.8/site-packages/pandas/io/parsers/readers.py:1661\u001b[0m, in \u001b[0;36mTextFileReader._make_engine\u001b[0;34m(self, f, engine)\u001b[0m\n\u001b[1;32m   1659\u001b[0m     \u001b[39mif\u001b[39;00m \u001b[39m\"\u001b[39m\u001b[39mb\u001b[39m\u001b[39m\"\u001b[39m \u001b[39mnot\u001b[39;00m \u001b[39min\u001b[39;00m mode:\n\u001b[1;32m   1660\u001b[0m         mode \u001b[39m+\u001b[39m\u001b[39m=\u001b[39m \u001b[39m\"\u001b[39m\u001b[39mb\u001b[39m\u001b[39m\"\u001b[39m\n\u001b[0;32m-> 1661\u001b[0m \u001b[39mself\u001b[39m\u001b[39m.\u001b[39mhandles \u001b[39m=\u001b[39m get_handle(\n\u001b[1;32m   1662\u001b[0m     f,\n\u001b[1;32m   1663\u001b[0m     mode,\n\u001b[1;32m   1664\u001b[0m     encoding\u001b[39m=\u001b[39;49m\u001b[39mself\u001b[39;49m\u001b[39m.\u001b[39;49moptions\u001b[39m.\u001b[39;49mget(\u001b[39m\"\u001b[39;49m\u001b[39mencoding\u001b[39;49m\u001b[39m\"\u001b[39;49m, \u001b[39mNone\u001b[39;49;00m),\n\u001b[1;32m   1665\u001b[0m     compression\u001b[39m=\u001b[39;49m\u001b[39mself\u001b[39;49m\u001b[39m.\u001b[39;49moptions\u001b[39m.\u001b[39;49mget(\u001b[39m\"\u001b[39;49m\u001b[39mcompression\u001b[39;49m\u001b[39m\"\u001b[39;49m, \u001b[39mNone\u001b[39;49;00m),\n\u001b[1;32m   1666\u001b[0m     memory_map\u001b[39m=\u001b[39;49m\u001b[39mself\u001b[39;49m\u001b[39m.\u001b[39;49moptions\u001b[39m.\u001b[39;49mget(\u001b[39m\"\u001b[39;49m\u001b[39mmemory_map\u001b[39;49m\u001b[39m\"\u001b[39;49m, \u001b[39mFalse\u001b[39;49;00m),\n\u001b[1;32m   1667\u001b[0m     is_text\u001b[39m=\u001b[39;49mis_text,\n\u001b[1;32m   1668\u001b[0m     errors\u001b[39m=\u001b[39;49m\u001b[39mself\u001b[39;49m\u001b[39m.\u001b[39;49moptions\u001b[39m.\u001b[39;49mget(\u001b[39m\"\u001b[39;49m\u001b[39mencoding_errors\u001b[39;49m\u001b[39m\"\u001b[39;49m, \u001b[39m\"\u001b[39;49m\u001b[39mstrict\u001b[39;49m\u001b[39m\"\u001b[39;49m),\n\u001b[1;32m   1669\u001b[0m     storage_options\u001b[39m=\u001b[39;49m\u001b[39mself\u001b[39;49m\u001b[39m.\u001b[39;49moptions\u001b[39m.\u001b[39;49mget(\u001b[39m\"\u001b[39;49m\u001b[39mstorage_options\u001b[39;49m\u001b[39m\"\u001b[39;49m, \u001b[39mNone\u001b[39;49;00m),\n\u001b[1;32m   1670\u001b[0m )\n\u001b[1;32m   1671\u001b[0m \u001b[39massert\u001b[39;00m \u001b[39mself\u001b[39m\u001b[39m.\u001b[39mhandles \u001b[39mis\u001b[39;00m \u001b[39mnot\u001b[39;00m \u001b[39mNone\u001b[39;00m\n\u001b[1;32m   1672\u001b[0m f \u001b[39m=\u001b[39m \u001b[39mself\u001b[39m\u001b[39m.\u001b[39mhandles\u001b[39m.\u001b[39mhandle\n",
      "File \u001b[0;32m~/mambaforge-pypy3/envs/dockm82/lib/python3.8/site-packages/pandas/io/common.py:859\u001b[0m, in \u001b[0;36mget_handle\u001b[0;34m(path_or_buf, mode, encoding, compression, memory_map, is_text, errors, storage_options)\u001b[0m\n\u001b[1;32m    854\u001b[0m \u001b[39melif\u001b[39;00m \u001b[39misinstance\u001b[39m(handle, \u001b[39mstr\u001b[39m):\n\u001b[1;32m    855\u001b[0m     \u001b[39m# Check whether the filename is to be opened in binary mode.\u001b[39;00m\n\u001b[1;32m    856\u001b[0m     \u001b[39m# Binary mode does not support 'encoding' and 'newline'.\u001b[39;00m\n\u001b[1;32m    857\u001b[0m     \u001b[39mif\u001b[39;00m ioargs\u001b[39m.\u001b[39mencoding \u001b[39mand\u001b[39;00m \u001b[39m\"\u001b[39m\u001b[39mb\u001b[39m\u001b[39m\"\u001b[39m \u001b[39mnot\u001b[39;00m \u001b[39min\u001b[39;00m ioargs\u001b[39m.\u001b[39mmode:\n\u001b[1;32m    858\u001b[0m         \u001b[39m# Encoding\u001b[39;00m\n\u001b[0;32m--> 859\u001b[0m         handle \u001b[39m=\u001b[39m \u001b[39mopen\u001b[39;49m(\n\u001b[1;32m    860\u001b[0m             handle,\n\u001b[1;32m    861\u001b[0m             ioargs\u001b[39m.\u001b[39;49mmode,\n\u001b[1;32m    862\u001b[0m             encoding\u001b[39m=\u001b[39;49mioargs\u001b[39m.\u001b[39;49mencoding,\n\u001b[1;32m    863\u001b[0m             errors\u001b[39m=\u001b[39;49merrors,\n\u001b[1;32m    864\u001b[0m             newline\u001b[39m=\u001b[39;49m\u001b[39m\"\u001b[39;49m\u001b[39m\"\u001b[39;49m,\n\u001b[1;32m    865\u001b[0m         )\n\u001b[1;32m    866\u001b[0m     \u001b[39melse\u001b[39;00m:\n\u001b[1;32m    867\u001b[0m         \u001b[39m# Binary mode\u001b[39;00m\n\u001b[1;32m    868\u001b[0m         handle \u001b[39m=\u001b[39m \u001b[39mopen\u001b[39m(handle, ioargs\u001b[39m.\u001b[39mmode)\n",
      "\u001b[0;31mFileNotFoundError\u001b[0m: [Errno 2] No such file or directory: '/home/hamza/Gitlab/DockM8/data/temp/rescoring_bestpose_clustered/allposes_rescored.csv'"
     ]
    }
   ],
   "source": [
    "apply_consensus_methods(w_dir, 'bestpose', 'method6', ['gnina', 'RTMScore'])"
   ]
  }
 ],
 "metadata": {
  "kernelspec": {
   "display_name": "wocondock",
   "language": "python",
   "name": "python3"
  },
  "language_info": {
   "codemirror_mode": {
    "name": "ipython",
    "version": 3
   },
   "file_extension": ".py",
   "mimetype": "text/x-python",
   "name": "python",
   "nbconvert_exporter": "python",
   "pygments_lexer": "ipython3",
   "version": "3.8.16"
  },
  "orig_nbformat": 4,
  "vscode": {
   "interpreter": {
    "hash": "10164e316682d9b4b376ca14144ea8a4ff51ebef10350aaa3c3bfce49f02faa4"
   }
  }
 },
 "nbformat": 4,
 "nbformat_minor": 2
}
