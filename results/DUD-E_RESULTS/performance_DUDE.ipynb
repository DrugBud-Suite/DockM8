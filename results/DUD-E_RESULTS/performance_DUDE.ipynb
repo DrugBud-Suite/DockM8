{
 "cells": [
  {
   "cell_type": "code",
   "execution_count": null,
   "metadata": {},
   "outputs": [],
   "source": [
    "import os\n",
    "from tqdm import tqdm\n",
    "from scripts.performance_calculation import *\n",
    "from scripts.consensus_methods import CONSENSUS_METHODS\n",
    "from rdkit.Chem import PandasTools\n",
    "import os\n",
    "import pandas as pd\n",
    "from pathlib import Path\n",
    "from tqdm import tqdm"
   ]
  },
  {
   "cell_type": "code",
   "execution_count": null,
   "metadata": {},
   "outputs": [],
   "source": [
    "DUDE_dir = Path('/home/tony/FINAL_RESULTS/DUD-E')\n",
    "\n",
    "for dir in tqdm(sorted(os.listdir(DUDE_dir)), total=len(os.listdir(DUDE_dir))):\n",
    "    if \"DUD-E_RESULTS\" not in dir:\n",
    "        w_dir = str(DUDE_dir)+\"/\"+dir+\"/receptor_protoss_prepared_protoss\"\n",
    "        actives_library = str(DUDE_dir)+\"/\"+dir+ \"/merged_actives_decoys.sdf\"\n",
    "        percentages = [0.5, 1, 5]\n",
    "        calculate_performance(Path(w_dir), Path(actives_library), percentages)"
   ]
  },
  {
   "cell_type": "code",
   "execution_count": null,
   "metadata": {},
   "outputs": [],
   "source": [
    "# Define the main directory containing the target folders\n",
    "DUDE_dir = Path('/home/tony/FINAL_RESULTS/DUD-E')\n",
    "\n",
    "metrics = ['AUC_ROC', 'BEDROC', 'AUC', 'EF_0.5%', 'EF_1%', 'EF_5%', 'RIE']\n",
    "\n",
    "for metric in tqdm(metrics):\n",
    "    results = pd.DataFrame(columns=['clustering', 'consensus', 'scoring'])\n",
    "    # Iterate through each subdirectory\n",
    "    for dir in sorted(os.listdir(DUDE_dir)):\n",
    "        if \"DUD-E_RESULTS\" not in dir:\n",
    "            w_dir = str(DUDE_dir)+\"/\"+dir+\"/receptor_protoss_prepared_protoss\"\n",
    "            performance_csv = Path(w_dir) / 'performance/performance.csv'\n",
    "            # Check if the performance.csv file exists\n",
    "            if performance_csv.exists():\n",
    "                # Read the performance.csv file\n",
    "                df = pd.read_csv(performance_csv)\n",
    "                df = df[['clustering', 'consensus', 'scoring', metric]]\n",
    "                # Extract the target name from the directory name\n",
    "                target_name = dir\n",
    "                df = df.rename(columns={metric: target_name})\n",
    "                # Append the results to the main DataFrame\n",
    "                results = pd.merge(results, df, on=['clustering', 'consensus', 'scoring'], how='outer')\n",
    "    # Save the results to a CSV file\n",
    "    results.to_csv(f'/home/tony/FINAL_RESULTS/DUD-E/DUD-E_RESULTS/results_dockm8_{metric}.csv', index=False)\n"
   ]
  },
  {
   "cell_type": "code",
   "execution_count": null,
   "metadata": {},
   "outputs": [],
   "source": [
    "# Define the main directory containing the target folders\n",
    "DUDE_dir = Path('/home/tony/FINAL_RESULTS/DUD-E')\n",
    "\n",
    "metrics = ['AUC_ROC', 'BEDROC', 'AUC', 'EF_0.5%', 'EF_1%', 'EF_5%', 'RIE']\n",
    "\n",
    "\n",
    "results_max = pd.DataFrame()\n",
    "# Iterate through each subdirectory\n",
    "for dir in sorted(os.listdir(DUDE_dir)):\n",
    "    if \"DEKOIS_RESULTS\" not in dir:\n",
    "        w_dir = str(DUDE_dir)+\"/\"+dir+\"/receptor_protoss_prepared_protoss\"\n",
    "        performance_csv = Path(w_dir) / 'performance/performance.csv'\n",
    "        # Check if the performance.csv file exists\n",
    "        if performance_csv.exists():\n",
    "            # Read the performance.csv file\n",
    "            df = pd.read_csv(performance_csv)\n",
    "            df = df.sort_values(by='EF_1%', ascending=False)\n",
    "            dir_max = df.head(1)\n",
    "            dir_max['Model'] = \"DockM8-max\"\n",
    "            dir_max['pdb_id'] = str(dir)\n",
    "            for metric in metrics:\n",
    "                dir_max[f'max_{metric}'] = dir_max[metric].max()\n",
    "                dir_max.drop(metric, axis=1, inplace=True)\n",
    "            results_max = pd.concat([results_max, dir_max])\n"
   ]
  },
  {
   "cell_type": "code",
   "execution_count": null,
   "metadata": {},
   "outputs": [],
   "source": [
    "results_max.to_csv('./results_dockm8_max.csv', index=False)"
   ]
  }
 ],
 "metadata": {
  "kernelspec": {
   "display_name": "dockm8",
   "language": "python",
   "name": "python3"
  },
  "language_info": {
   "codemirror_mode": {
    "name": "ipython",
    "version": 3
   },
   "file_extension": ".py",
   "mimetype": "text/x-python",
   "name": "python",
   "nbconvert_exporter": "python",
   "pygments_lexer": "ipython3",
   "version": "3.10.14"
  }
 },
 "nbformat": 4,
 "nbformat_minor": 2
}
