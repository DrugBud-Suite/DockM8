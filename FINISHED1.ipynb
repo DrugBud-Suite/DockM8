{
 "cells": [
  {
   "cell_type": "markdown",
   "metadata": {},
   "source": [
    "**Import required libraries and scripts**"
   ]
  },
  {
   "cell_type": "code",
   "execution_count": 1,
   "metadata": {},
   "outputs": [
    {
     "name": "stdout",
     "output_type": "stream",
     "text": [
      "\n",
      "[2023-Mar-28 00:18:34]: Rescoring with RTMScore complete in 1385.8893!\n"
     ]
    },
    {
     "data": {
      "text/plain": [
       "'/media/mario/T7/FINISHED/FINISHED/abl1/temp/clustering/bestpose_clustered.sdf'"
      ]
     },
     "metadata": {},
     "output_type": "display_data"
    },
    {
     "name": "stdout",
     "output_type": "stream",
     "text": [
      "\n",
      "[2023-Mar-28 00:18:34]: Rescoring with Vinardo\n",
      "\n",
      "[2023-Mar-28 00:19:07]: Rescoring with Vinardo complete in 33.0003!\n",
      "\n",
      "[2023-Mar-28 00:19:07]: Combining all score for /media/mario/T7/FINISHED/FINISHED/abl1/temp/rescoring_bestpose_clustered\n"
     ]
    },
    {
     "name": "stderr",
     "output_type": "stream",
     "text": [
      "Combining scores: 100%|██████████| 7/7 [00:00<00:00, 125.40files/s]\n"
     ]
    },
    {
     "name": "stdout",
     "output_type": "stream",
     "text": [
      "\n",
      "[2023-Mar-28 00:19:07]: Rescoring complete in 2248.0633!\n",
      "The folder: /media/mario/T7/FINISHED/FINISHED/abl1/temp/rescoring_bestpose_GNINA_clustered already exists\n",
      "\n",
      "[2023-Mar-28 00:19:07]: /gnina_rescoring folder already exists, skipping gnina rescoring\n",
      "\n",
      "[2023-Mar-28 00:19:07]: /AD4_rescoring folder already exists, skipping AD4 rescoring\n",
      "\n",
      "[2023-Mar-28 00:19:07]: /chemplp_rescoring folder already exists, skipping chemplp rescoring\n",
      "\n",
      "[2023-Mar-28 00:19:07]: /rfscorevs_rescoring folder already exists, skipping rfscorevs rescoring\n",
      "\n",
      "[2023-Mar-28 00:19:07]: /LinF9_rescoring folder already exists, skipping LinF9 rescoring\n",
      "The folder: /media/mario/T7/FINISHED/FINISHED/abl1/temp/rescoring_bestpose_GNINA_clustered/SCORCH_rescoring/ was created\n",
      "\n",
      "[2023-Mar-28 00:19:07]: Converting protein file to .pdbqt ...\n",
      "\n",
      "[2023-Mar-28 00:19:13]: Converting SDF file bestpose_GNINA_clustered.sdf to .pdbqt files...\n",
      "Converted 10831 molecules.\n",
      "\n",
      "[2023-Mar-28 00:19:28]: Rescoring with SCORCH\n",
      "\n",
      "[2023-Mar-28 00:24:11]: Rescoring with SCORCH complete in 303.6799!\n",
      "The folder: /media/mario/T7/FINISHED/FINISHED/abl1/temp/rescoring_bestpose_GNINA_clustered/RTMScore_rescoring/ was created\n",
      "\n",
      "[2023-Mar-28 00:24:11]: Rescoring with RTMScore\n",
      "\n",
      "[2023-Mar-28 00:47:58]: Rescoring with RTMScore complete in 1426.6603!\n"
     ]
    },
    {
     "data": {
      "text/plain": [
       "'/media/mario/T7/FINISHED/FINISHED/abl1/temp/clustering/bestpose_GNINA_clustered.sdf'"
      ]
     },
     "metadata": {},
     "output_type": "display_data"
    },
    {
     "name": "stdout",
     "output_type": "stream",
     "text": [
      "\n",
      "[2023-Mar-28 00:47:58]: Rescoring with Vinardo\n",
      "\n",
      "[2023-Mar-28 00:48:12]: Rescoring with Vinardo complete in 14.2510!\n",
      "\n",
      "[2023-Mar-28 00:48:12]: Combining all score for /media/mario/T7/FINISHED/FINISHED/abl1/temp/rescoring_bestpose_GNINA_clustered\n"
     ]
    },
    {
     "name": "stderr",
     "output_type": "stream",
     "text": [
      "Combining scores: 100%|██████████| 7/7 [00:00<00:00, 210.16files/s]\n"
     ]
    },
    {
     "name": "stdout",
     "output_type": "stream",
     "text": [
      "\n",
      "[2023-Mar-28 00:48:12]: Rescoring complete in 1744.8069!\n",
      "The folder: /media/mario/T7/FINISHED/FINISHED/abl1/temp/rescoring_bestpose_SMINA_clustered already exists\n",
      "\n",
      "[2023-Mar-28 00:48:12]: /gnina_rescoring folder already exists, skipping gnina rescoring\n",
      "\n",
      "[2023-Mar-28 00:48:12]: /AD4_rescoring folder already exists, skipping AD4 rescoring\n",
      "\n",
      "[2023-Mar-28 00:48:12]: /chemplp_rescoring folder already exists, skipping chemplp rescoring\n",
      "\n",
      "[2023-Mar-28 00:48:12]: /rfscorevs_rescoring folder already exists, skipping rfscorevs rescoring\n",
      "\n",
      "[2023-Mar-28 00:48:12]: /LinF9_rescoring folder already exists, skipping LinF9 rescoring\n",
      "The folder: /media/mario/T7/FINISHED/FINISHED/abl1/temp/rescoring_bestpose_SMINA_clustered/SCORCH_rescoring/ was created\n",
      "\n",
      "[2023-Mar-28 00:48:12]: Converting protein file to .pdbqt ...\n",
      "\n",
      "[2023-Mar-28 00:48:18]: Converting SDF file bestpose_SMINA_clustered.sdf to .pdbqt files...\n",
      "Converted 10831 molecules.\n",
      "\n",
      "[2023-Mar-28 00:48:41]: Rescoring with SCORCH\n",
      "\n",
      "[2023-Mar-28 00:54:49]: Rescoring with SCORCH complete in 396.5734!\n",
      "The folder: /media/mario/T7/FINISHED/FINISHED/abl1/temp/rescoring_bestpose_SMINA_clustered/RTMScore_rescoring/ was created\n",
      "\n",
      "[2023-Mar-28 00:54:49]: Rescoring with RTMScore\n",
      "\n",
      "[2023-Mar-28 01:08:28]: Rescoring with RTMScore complete in 818.9504!\n"
     ]
    },
    {
     "data": {
      "text/plain": [
       "'/media/mario/T7/FINISHED/FINISHED/abl1/temp/clustering/bestpose_SMINA_clustered.sdf'"
      ]
     },
     "metadata": {},
     "output_type": "display_data"
    },
    {
     "name": "stdout",
     "output_type": "stream",
     "text": [
      "\n",
      "[2023-Mar-28 01:08:28]: Rescoring with Vinardo\n",
      "\n",
      "[2023-Mar-28 01:08:40]: Rescoring with Vinardo complete in 11.7912!\n",
      "\n",
      "[2023-Mar-28 01:08:40]: Combining all score for /media/mario/T7/FINISHED/FINISHED/abl1/temp/rescoring_bestpose_SMINA_clustered\n"
     ]
    },
    {
     "name": "stderr",
     "output_type": "stream",
     "text": [
      "Combining scores: 100%|██████████| 7/7 [00:00<00:00, 323.25files/s]"
     ]
    },
    {
     "name": "stdout",
     "output_type": "stream",
     "text": [
      "\n",
      "[2023-Mar-28 01:08:40]: Rescoring complete in 1227.4955!\n",
      "The folder: /media/mario/T7/FINISHED/FINISHED/abl1/temp/rescoring_bestpose_PLANTS_clustered already exists\n",
      "\n",
      "[2023-Mar-28 01:08:40]: /gnina_rescoring folder already exists, skipping gnina rescoring\n",
      "\n",
      "[2023-Mar-28 01:08:40]: /AD4_rescoring folder already exists, skipping AD4 rescoring\n",
      "\n",
      "[2023-Mar-28 01:08:40]: /chemplp_rescoring folder already exists, skipping chemplp rescoring\n",
      "\n",
      "[2023-Mar-28 01:08:40]: /rfscorevs_rescoring folder already exists, skipping rfscorevs rescoring\n",
      "\n",
      "[2023-Mar-28 01:08:40]: /LinF9_rescoring folder already exists, skipping LinF9 rescoring\n",
      "The folder: /media/mario/T7/FINISHED/FINISHED/abl1/temp/rescoring_bestpose_PLANTS_clustered/SCORCH_rescoring/ was created\n",
      "\n",
      "[2023-Mar-28 01:08:40]: Converting protein file to .pdbqt ...\n"
     ]
    },
    {
     "name": "stderr",
     "output_type": "stream",
     "text": [
      "\n"
     ]
    },
    {
     "name": "stdout",
     "output_type": "stream",
     "text": [
      "\n",
      "[2023-Mar-28 01:08:46]: Converting SDF file bestpose_PLANTS_clustered.sdf to .pdbqt files...\n",
      "Converted 10295 molecules.\n",
      "\n",
      "[2023-Mar-28 01:09:00]: Rescoring with SCORCH\n",
      "\n",
      "[2023-Mar-28 01:13:03]: Rescoring with SCORCH complete in 262.9520!\n",
      "The folder: /media/mario/T7/FINISHED/FINISHED/abl1/temp/rescoring_bestpose_PLANTS_clustered/RTMScore_rescoring/ was created\n",
      "\n",
      "[2023-Mar-28 01:13:03]: Rescoring with RTMScore\n",
      "\n",
      "[2023-Mar-28 01:20:32]: Rescoring with RTMScore complete in 449.5024!\n"
     ]
    },
    {
     "data": {
      "text/plain": [
       "'/media/mario/T7/FINISHED/FINISHED/abl1/temp/clustering/bestpose_PLANTS_clustered.sdf'"
      ]
     },
     "metadata": {},
     "output_type": "display_data"
    },
    {
     "name": "stdout",
     "output_type": "stream",
     "text": [
      "\n",
      "[2023-Mar-28 01:20:32]: Rescoring with Vinardo\n",
      "\n",
      "[2023-Mar-28 01:20:43]: Rescoring with Vinardo complete in 10.9265!\n",
      "\n",
      "[2023-Mar-28 01:20:43]: Combining all score for /media/mario/T7/FINISHED/FINISHED/abl1/temp/rescoring_bestpose_PLANTS_clustered\n"
     ]
    },
    {
     "name": "stderr",
     "output_type": "stream",
     "text": [
      "Combining scores: 100%|██████████| 7/7 [00:00<00:00, 359.74files/s]"
     ]
    },
    {
     "name": "stdout",
     "output_type": "stream",
     "text": [
      "\n",
      "[2023-Mar-28 01:20:43]: Rescoring complete in 723.5483!\n",
      "\n",
      "[2023-Mar-28 01:20:43]: Failed for abl1\n",
      "ace\n",
      "The working directory has been set to: /media/mario/T7/FINISHED/FINISHED/ace\n",
      "The folder: /media/mario/T7/FINISHED/FINISHED/ace/temp already exists\n",
      "The folder: /media/mario/T7/FINISHED/FINISHED/ace/temp/rescoring_RMSD_clustered already exists\n",
      "\n",
      "[2023-Mar-28 01:20:43]: /gnina_rescoring folder already exists, skipping gnina rescoring\n",
      "\n",
      "[2023-Mar-28 01:20:43]: /AD4_rescoring folder already exists, skipping AD4 rescoring\n",
      "\n",
      "[2023-Mar-28 01:20:43]: /chemplp_rescoring folder already exists, skipping chemplp rescoring\n",
      "\n",
      "[2023-Mar-28 01:20:43]: /rfscorevs_rescoring folder already exists, skipping rfscorevs rescoring\n",
      "\n",
      "[2023-Mar-28 01:20:43]: /LinF9_rescoring folder already exists, skipping LinF9 rescoring\n",
      "\n",
      "[2023-Mar-28 01:20:43]: /SCORCH_rescoring folder already exists, skipping SCORCH rescoring\n",
      "\n",
      "[2023-Mar-28 01:20:43]: /RTMScore_rescoring folder already exists, skipping RTMScore rescoring\n"
     ]
    },
    {
     "name": "stderr",
     "output_type": "stream",
     "text": [
      "\n"
     ]
    },
    {
     "data": {
      "text/plain": [
       "'/media/mario/T7/FINISHED/FINISHED/ace/temp/clustering/RMSD_clustered.sdf'"
      ]
     },
     "metadata": {},
     "output_type": "display_data"
    },
    {
     "name": "stdout",
     "output_type": "stream",
     "text": [
      "\n",
      "[2023-Mar-28 01:20:43]: Rescoring with Vinardo\n",
      "\n",
      "[2023-Mar-28 01:20:45]: Rescoring with Vinardo complete in 1.7938!\n",
      "\n",
      "[2023-Mar-28 01:20:45]: Combining all score for /media/mario/T7/FINISHED/FINISHED/ace/temp/rescoring_RMSD_clustered\n"
     ]
    },
    {
     "name": "stderr",
     "output_type": "stream",
     "text": [
      "Combining scores: 100%|██████████| 5/5 [00:00<00:00, 98.30files/s]"
     ]
    },
    {
     "name": "stdout",
     "output_type": "stream",
     "text": [
      "\n",
      "[2023-Mar-28 01:20:45]: Rescoring complete in 1.9377!\n",
      "The folder: /media/mario/T7/FINISHED/FINISHED/ace/temp/rescoring_spyRMSD_clustered already exists\n",
      "\n",
      "[2023-Mar-28 01:20:45]: /gnina_rescoring folder already exists, skipping gnina rescoring\n",
      "\n",
      "[2023-Mar-28 01:20:45]: /AD4_rescoring folder already exists, skipping AD4 rescoring\n",
      "\n",
      "[2023-Mar-28 01:20:45]: /chemplp_rescoring folder already exists, skipping chemplp rescoring\n",
      "\n",
      "[2023-Mar-28 01:20:45]: /rfscorevs_rescoring folder already exists, skipping rfscorevs rescoring\n",
      "\n",
      "[2023-Mar-28 01:20:45]: /LinF9_rescoring folder already exists, skipping LinF9 rescoring\n",
      "The folder: /media/mario/T7/FINISHED/FINISHED/ace/temp/rescoring_spyRMSD_clustered/SCORCH_rescoring/ was created\n",
      "\n",
      "[2023-Mar-28 01:20:45]: Converting protein file to .pdbqt ...\n"
     ]
    },
    {
     "name": "stderr",
     "output_type": "stream",
     "text": [
      "\n"
     ]
    },
    {
     "name": "stdout",
     "output_type": "stream",
     "text": [
      "\n",
      "[2023-Mar-28 01:20:57]: Converting SDF file spyRMSD_clustered.sdf to .pdbqt files...\n",
      "Converted 45477 molecules.\n",
      "\n",
      "[2023-Mar-28 01:21:48]: Rescoring with SCORCH\n",
      "\n",
      "[2023-Mar-28 02:41:45]: Rescoring with SCORCH complete in 4859.6170!\n",
      "The folder: /media/mario/T7/FINISHED/FINISHED/ace/temp/rescoring_spyRMSD_clustered/RTMScore_rescoring/ was created\n",
      "\n",
      "[2023-Mar-28 02:41:45]: Rescoring with RTMScore\n",
      "\n",
      "[2023-Mar-28 03:26:50]: Rescoring with RTMScore complete in 2704.9136!\n"
     ]
    },
    {
     "data": {
      "text/plain": [
       "'/media/mario/T7/FINISHED/FINISHED/ace/temp/clustering/spyRMSD_clustered.sdf'"
      ]
     },
     "metadata": {},
     "output_type": "display_data"
    },
    {
     "name": "stdout",
     "output_type": "stream",
     "text": [
      "\n",
      "[2023-Mar-28 03:26:50]: Rescoring with Vinardo\n",
      "\n",
      "[2023-Mar-28 03:26:52]: Rescoring with Vinardo complete in 2.0055!\n",
      "\n",
      "[2023-Mar-28 03:26:52]: Combining all score for /media/mario/T7/FINISHED/FINISHED/ace/temp/rescoring_spyRMSD_clustered\n"
     ]
    },
    {
     "name": "stderr",
     "output_type": "stream",
     "text": [
      "Combining scores: 100%|██████████| 7/7 [00:00<00:00, 85.90files/s]\n"
     ]
    },
    {
     "name": "stdout",
     "output_type": "stream",
     "text": [
      "\n",
      "[2023-Mar-28 03:26:52]: Rescoring complete in 7566.7450!\n",
      "The folder: /media/mario/T7/FINISHED/FINISHED/ace/temp/rescoring_espsim_clustered already exists\n",
      "\n",
      "[2023-Mar-28 03:26:52]: /gnina_rescoring folder already exists, skipping gnina rescoring\n",
      "\n",
      "[2023-Mar-28 03:26:52]: /AD4_rescoring folder already exists, skipping AD4 rescoring\n",
      "\n",
      "[2023-Mar-28 03:26:52]: /chemplp_rescoring folder already exists, skipping chemplp rescoring\n",
      "\n",
      "[2023-Mar-28 03:26:52]: /rfscorevs_rescoring folder already exists, skipping rfscorevs rescoring\n",
      "\n",
      "[2023-Mar-28 03:26:52]: /LinF9_rescoring folder already exists, skipping LinF9 rescoring\n",
      "The folder: /media/mario/T7/FINISHED/FINISHED/ace/temp/rescoring_espsim_clustered/SCORCH_rescoring/ was created\n",
      "\n",
      "[2023-Mar-28 03:26:52]: Converting protein file to .pdbqt ...\n",
      "\n",
      "[2023-Mar-28 03:27:04]: Converting SDF file espsim_clustered.sdf to .pdbqt files...\n",
      "Converted 37873 molecules.\n",
      "\n",
      "[2023-Mar-28 03:27:51]: Rescoring with SCORCH\n",
      "\n",
      "[2023-Mar-28 04:33:45]: Rescoring with SCORCH complete in 4013.2574!\n",
      "The folder: /media/mario/T7/FINISHED/FINISHED/ace/temp/rescoring_espsim_clustered/RTMScore_rescoring/ was created\n",
      "\n",
      "[2023-Mar-28 04:33:45]: Rescoring with RTMScore\n",
      "\n",
      "[2023-Mar-28 05:26:03]: Rescoring with RTMScore complete in 3138.0903!\n"
     ]
    },
    {
     "data": {
      "text/plain": [
       "'/media/mario/T7/FINISHED/FINISHED/ace/temp/clustering/espsim_clustered.sdf'"
      ]
     },
     "metadata": {},
     "output_type": "display_data"
    },
    {
     "name": "stdout",
     "output_type": "stream",
     "text": [
      "\n",
      "[2023-Mar-28 05:26:03]: Rescoring with Vinardo\n",
      "\n",
      "[2023-Mar-28 05:26:05]: Rescoring with Vinardo complete in 1.7895!\n",
      "\n",
      "[2023-Mar-28 05:26:05]: Combining all score for /media/mario/T7/FINISHED/FINISHED/ace/temp/rescoring_espsim_clustered\n"
     ]
    },
    {
     "name": "stderr",
     "output_type": "stream",
     "text": [
      "Combining scores: 100%|██████████| 7/7 [00:00<00:00, 108.59files/s]"
     ]
    },
    {
     "name": "stdout",
     "output_type": "stream",
     "text": [
      "\n",
      "[2023-Mar-28 05:26:05]: Rescoring complete in 7153.3149!\n",
      "The folder: /media/mario/T7/FINISHED/FINISHED/ace/temp/rescoring_3DScore_clustered already exists\n",
      "\n",
      "[2023-Mar-28 05:26:05]: /gnina_rescoring folder already exists, skipping gnina rescoring\n",
      "\n",
      "[2023-Mar-28 05:26:05]: /AD4_rescoring folder already exists, skipping AD4 rescoring\n",
      "\n",
      "[2023-Mar-28 05:26:05]: /chemplp_rescoring folder already exists, skipping chemplp rescoring\n",
      "\n",
      "[2023-Mar-28 05:26:05]: /rfscorevs_rescoring folder already exists, skipping rfscorevs rescoring\n",
      "\n",
      "[2023-Mar-28 05:26:05]: /LinF9_rescoring folder already exists, skipping LinF9 rescoring\n",
      "The folder: /media/mario/T7/FINISHED/FINISHED/ace/temp/rescoring_3DScore_clustered/SCORCH_rescoring/ was created\n",
      "\n",
      "[2023-Mar-28 05:26:05]: Converting protein file to .pdbqt ...\n"
     ]
    },
    {
     "name": "stderr",
     "output_type": "stream",
     "text": [
      "\n"
     ]
    },
    {
     "name": "stdout",
     "output_type": "stream",
     "text": [
      "\n",
      "[2023-Mar-28 05:26:17]: Converting SDF file 3DScore_clustered.sdf to .pdbqt files...\n",
      "Converted 17108 molecules.\n",
      "\n",
      "[2023-Mar-28 05:26:37]: Rescoring with SCORCH\n",
      "\n",
      "[2023-Mar-28 05:47:27]: Rescoring with SCORCH complete in 1281.6993!\n",
      "The folder: /media/mario/T7/FINISHED/FINISHED/ace/temp/rescoring_3DScore_clustered/RTMScore_rescoring/ was created\n",
      "\n",
      "[2023-Mar-28 05:47:27]: Rescoring with RTMScore\n",
      "\n",
      "[2023-Mar-28 06:09:30]: Rescoring with RTMScore complete in 1322.9026!\n"
     ]
    },
    {
     "data": {
      "text/plain": [
       "'/media/mario/T7/FINISHED/FINISHED/ace/temp/clustering/3DScore_clustered.sdf'"
      ]
     },
     "metadata": {},
     "output_type": "display_data"
    },
    {
     "name": "stdout",
     "output_type": "stream",
     "text": [
      "\n",
      "[2023-Mar-28 06:09:30]: Rescoring with Vinardo\n",
      "\n",
      "[2023-Mar-28 06:09:32]: Rescoring with Vinardo complete in 1.9468!\n",
      "\n",
      "[2023-Mar-28 06:09:32]: Combining all score for /media/mario/T7/FINISHED/FINISHED/ace/temp/rescoring_3DScore_clustered\n"
     ]
    },
    {
     "name": "stderr",
     "output_type": "stream",
     "text": [
      "Combining scores: 100%|██████████| 7/7 [00:00<00:00, 234.23files/s]"
     ]
    },
    {
     "name": "stdout",
     "output_type": "stream",
     "text": [
      "\n",
      "[2023-Mar-28 06:09:32]: Rescoring complete in 2606.6578!\n",
      "The folder: /media/mario/T7/FINISHED/FINISHED/ace/temp/rescoring_bestpose_clustered already exists\n",
      "\n",
      "[2023-Mar-28 06:09:32]: /gnina_rescoring folder already exists, skipping gnina rescoring\n",
      "\n",
      "[2023-Mar-28 06:09:32]: /AD4_rescoring folder already exists, skipping AD4 rescoring\n",
      "\n",
      "[2023-Mar-28 06:09:32]: /chemplp_rescoring folder already exists, skipping chemplp rescoring\n",
      "\n",
      "[2023-Mar-28 06:09:32]: /rfscorevs_rescoring folder already exists, skipping rfscorevs rescoring\n",
      "\n",
      "[2023-Mar-28 06:09:32]: /LinF9_rescoring folder already exists, skipping LinF9 rescoring\n",
      "The folder: /media/mario/T7/FINISHED/FINISHED/ace/temp/rescoring_bestpose_clustered/SCORCH_rescoring/ was created\n",
      "\n",
      "[2023-Mar-28 06:09:32]: Converting protein file to .pdbqt ...\n"
     ]
    },
    {
     "name": "stderr",
     "output_type": "stream",
     "text": [
      "\n"
     ]
    },
    {
     "name": "stdout",
     "output_type": "stream",
     "text": [
      "\n",
      "[2023-Mar-28 06:09:46]: Converting SDF file bestpose_clustered.sdf to .pdbqt files...\n",
      "Converted 50429 molecules.\n",
      "\n",
      "[2023-Mar-28 06:11:15]: Rescoring with SCORCH\n",
      "\n",
      "[2023-Mar-28 07:25:40]: Rescoring with SCORCH complete in 4568.1715!\n",
      "The folder: /media/mario/T7/FINISHED/FINISHED/ace/temp/rescoring_bestpose_clustered/RTMScore_rescoring/ was created\n",
      "\n",
      "[2023-Mar-28 07:25:40]: Rescoring with RTMScore\n",
      "\n",
      "[2023-Mar-28 08:10:37]: Rescoring with RTMScore complete in 2697.1649!\n"
     ]
    },
    {
     "data": {
      "text/plain": [
       "'/media/mario/T7/FINISHED/FINISHED/ace/temp/clustering/bestpose_clustered.sdf'"
      ]
     },
     "metadata": {},
     "output_type": "display_data"
    },
    {
     "name": "stdout",
     "output_type": "stream",
     "text": [
      "\n",
      "[2023-Mar-28 08:10:37]: Rescoring with Vinardo\n",
      "\n",
      "[2023-Mar-28 08:10:39]: Rescoring with Vinardo complete in 1.8484!\n",
      "\n",
      "[2023-Mar-28 08:10:39]: Combining all score for /media/mario/T7/FINISHED/FINISHED/ace/temp/rescoring_bestpose_clustered\n"
     ]
    },
    {
     "name": "stderr",
     "output_type": "stream",
     "text": [
      "Combining scores: 100%|██████████| 7/7 [00:00<00:00, 70.33files/s]\n"
     ]
    },
    {
     "name": "stdout",
     "output_type": "stream",
     "text": [
      "\n",
      "[2023-Mar-28 08:10:39]: Rescoring complete in 7267.4242!\n",
      "The folder: /media/mario/T7/FINISHED/FINISHED/ace/temp/rescoring_bestpose_GNINA_clustered already exists\n",
      "\n",
      "[2023-Mar-28 08:10:39]: /gnina_rescoring folder already exists, skipping gnina rescoring\n",
      "\n",
      "[2023-Mar-28 08:10:39]: /AD4_rescoring folder already exists, skipping AD4 rescoring\n",
      "\n",
      "[2023-Mar-28 08:10:39]: /chemplp_rescoring folder already exists, skipping chemplp rescoring\n",
      "\n",
      "[2023-Mar-28 08:10:39]: /rfscorevs_rescoring folder already exists, skipping rfscorevs rescoring\n",
      "\n",
      "[2023-Mar-28 08:10:39]: /LinF9_rescoring folder already exists, skipping LinF9 rescoring\n",
      "The folder: /media/mario/T7/FINISHED/FINISHED/ace/temp/rescoring_bestpose_GNINA_clustered/SCORCH_rescoring/ was created\n",
      "\n",
      "[2023-Mar-28 08:10:39]: Converting protein file to .pdbqt ...\n",
      "\n",
      "[2023-Mar-28 08:10:52]: Converting SDF file bestpose_GNINA_clustered.sdf to .pdbqt files...\n",
      "Converted 17059 molecules.\n",
      "\n",
      "[2023-Mar-28 08:11:19]: Rescoring with SCORCH\n",
      "\n",
      "[2023-Mar-28 08:41:34]: Rescoring with SCORCH complete in 1854.9708!\n",
      "The folder: /media/mario/T7/FINISHED/FINISHED/ace/temp/rescoring_bestpose_GNINA_clustered/RTMScore_rescoring/ was created\n",
      "\n",
      "[2023-Mar-28 08:41:34]: Rescoring with RTMScore\n",
      "\n",
      "[2023-Mar-28 09:29:50]: Rescoring with RTMScore complete in 2895.5001!\n"
     ]
    },
    {
     "data": {
      "text/plain": [
       "'/media/mario/T7/FINISHED/FINISHED/ace/temp/clustering/bestpose_GNINA_clustered.sdf'"
      ]
     },
     "metadata": {},
     "output_type": "display_data"
    },
    {
     "name": "stdout",
     "output_type": "stream",
     "text": [
      "\n",
      "[2023-Mar-28 09:29:50]: Rescoring with Vinardo\n",
      "\n",
      "[2023-Mar-28 09:29:53]: Rescoring with Vinardo complete in 2.6949!\n",
      "\n",
      "[2023-Mar-28 09:29:53]: Combining all score for /media/mario/T7/FINISHED/FINISHED/ace/temp/rescoring_bestpose_GNINA_clustered\n"
     ]
    },
    {
     "name": "stderr",
     "output_type": "stream",
     "text": [
      "Combining scores: 100%|██████████| 7/7 [00:00<00:00, 164.67files/s]"
     ]
    },
    {
     "name": "stdout",
     "output_type": "stream",
     "text": [
      "\n",
      "[2023-Mar-28 09:29:53]: Rescoring complete in 4753.2992!\n",
      "The folder: /media/mario/T7/FINISHED/FINISHED/ace/temp/rescoring_bestpose_SMINA_clustered already exists\n",
      "\n",
      "[2023-Mar-28 09:29:53]: /gnina_rescoring folder already exists, skipping gnina rescoring\n",
      "\n",
      "[2023-Mar-28 09:29:53]: /AD4_rescoring folder already exists, skipping AD4 rescoring\n",
      "\n",
      "[2023-Mar-28 09:29:53]: /chemplp_rescoring folder already exists, skipping chemplp rescoring\n",
      "\n",
      "[2023-Mar-28 09:29:53]: /rfscorevs_rescoring folder already exists, skipping rfscorevs rescoring\n",
      "\n",
      "[2023-Mar-28 09:29:53]: /LinF9_rescoring folder already exists, skipping LinF9 rescoring\n",
      "The folder: /media/mario/T7/FINISHED/FINISHED/ace/temp/rescoring_bestpose_SMINA_clustered/SCORCH_rescoring/ was created\n",
      "\n",
      "[2023-Mar-28 09:29:53]: Converting protein file to .pdbqt ...\n"
     ]
    },
    {
     "name": "stderr",
     "output_type": "stream",
     "text": [
      "\n"
     ]
    },
    {
     "name": "stdout",
     "output_type": "stream",
     "text": [
      "\n",
      "[2023-Mar-28 09:30:10]: Converting SDF file bestpose_SMINA_clustered.sdf to .pdbqt files...\n",
      "Converted 17059 molecules.\n",
      "\n",
      "[2023-Mar-28 09:30:42]: Rescoring with SCORCH\n",
      "\n",
      "[2023-Mar-28 10:01:23]: Rescoring with SCORCH complete in 1889.8052!\n",
      "The folder: /media/mario/T7/FINISHED/FINISHED/ace/temp/rescoring_bestpose_SMINA_clustered/RTMScore_rescoring/ was created\n",
      "\n",
      "[2023-Mar-28 10:01:23]: Rescoring with RTMScore\n",
      "\n",
      "[2023-Mar-28 10:51:25]: Rescoring with RTMScore complete in 3002.1329!\n"
     ]
    },
    {
     "data": {
      "text/plain": [
       "'/media/mario/T7/FINISHED/FINISHED/ace/temp/clustering/bestpose_SMINA_clustered.sdf'"
      ]
     },
     "metadata": {},
     "output_type": "display_data"
    },
    {
     "name": "stdout",
     "output_type": "stream",
     "text": [
      "\n",
      "[2023-Mar-28 10:51:25]: Rescoring with Vinardo\n",
      "\n",
      "[2023-Mar-28 10:51:27]: Rescoring with Vinardo complete in 2.0431!\n",
      "\n",
      "[2023-Mar-28 10:51:27]: Combining all score for /media/mario/T7/FINISHED/FINISHED/ace/temp/rescoring_bestpose_SMINA_clustered\n"
     ]
    },
    {
     "name": "stderr",
     "output_type": "stream",
     "text": [
      "Combining scores: 100%|██████████| 7/7 [00:00<00:00, 241.26files/s]"
     ]
    },
    {
     "name": "stdout",
     "output_type": "stream",
     "text": [
      "\n",
      "[2023-Mar-28 10:51:27]: Rescoring complete in 4894.0895!\n",
      "The folder: /media/mario/T7/FINISHED/FINISHED/ace/temp/rescoring_bestpose_PLANTS_clustered already exists\n",
      "\n",
      "[2023-Mar-28 10:51:27]: /gnina_rescoring folder already exists, skipping gnina rescoring\n",
      "\n",
      "[2023-Mar-28 10:51:27]: /AD4_rescoring folder already exists, skipping AD4 rescoring\n",
      "\n",
      "[2023-Mar-28 10:51:27]: /chemplp_rescoring folder already exists, skipping chemplp rescoring\n",
      "\n",
      "[2023-Mar-28 10:51:27]: /rfscorevs_rescoring folder already exists, skipping rfscorevs rescoring\n",
      "\n",
      "[2023-Mar-28 10:51:27]: /LinF9_rescoring folder already exists, skipping LinF9 rescoring\n",
      "The folder: /media/mario/T7/FINISHED/FINISHED/ace/temp/rescoring_bestpose_PLANTS_clustered/SCORCH_rescoring/ was created\n",
      "\n",
      "[2023-Mar-28 10:51:27]: Converting protein file to .pdbqt ...\n"
     ]
    },
    {
     "name": "stderr",
     "output_type": "stream",
     "text": [
      "\n"
     ]
    },
    {
     "name": "stdout",
     "output_type": "stream",
     "text": [
      "\n",
      "[2023-Mar-28 10:51:39]: Converting SDF file bestpose_PLANTS_clustered.sdf to .pdbqt files...\n",
      "Converted 16311 molecules.\n",
      "\n",
      "[2023-Mar-28 10:52:05]: Rescoring with SCORCH\n",
      "\n",
      "[2023-Mar-28 11:12:46]: Rescoring with SCORCH complete in 1278.9441!\n",
      "The folder: /media/mario/T7/FINISHED/FINISHED/ace/temp/rescoring_bestpose_PLANTS_clustered/RTMScore_rescoring/ was created\n",
      "\n",
      "[2023-Mar-28 11:12:46]: Rescoring with RTMScore\n",
      "\n",
      "[2023-Mar-28 12:06:24]: Rescoring with RTMScore complete in 3218.6837!\n"
     ]
    },
    {
     "data": {
      "text/plain": [
       "'/media/mario/T7/FINISHED/FINISHED/ace/temp/clustering/bestpose_PLANTS_clustered.sdf'"
      ]
     },
     "metadata": {},
     "output_type": "display_data"
    },
    {
     "name": "stdout",
     "output_type": "stream",
     "text": [
      "\n",
      "[2023-Mar-28 12:06:24]: Rescoring with Vinardo\n",
      "\n",
      "[2023-Mar-28 12:06:37]: Rescoring with Vinardo complete in 12.5730!\n",
      "\n",
      "[2023-Mar-28 12:06:37]: Combining all score for /media/mario/T7/FINISHED/FINISHED/ace/temp/rescoring_bestpose_PLANTS_clustered\n"
     ]
    },
    {
     "name": "stderr",
     "output_type": "stream",
     "text": [
      "Combining scores: 100%|██████████| 7/7 [00:00<00:00, 152.23files/s]\n"
     ]
    },
    {
     "name": "stdout",
     "output_type": "stream",
     "text": [
      "\n",
      "[2023-Mar-28 12:06:37]: Rescoring complete in 4510.4570!\n",
      "\n",
      "[2023-Mar-28 12:06:37]: Failed for ace\n",
      "aldr\n",
      "The working directory has been set to: /media/mario/T7/FINISHED/FINISHED/aldr\n",
      "The folder: /media/mario/T7/FINISHED/FINISHED/aldr/temp already exists\n",
      "The folder: /media/mario/T7/FINISHED/FINISHED/aldr/temp/rescoring_RMSD_clustered already exists\n",
      "\n",
      "[2023-Mar-28 12:06:37]: /gnina_rescoring folder already exists, skipping gnina rescoring\n",
      "\n",
      "[2023-Mar-28 12:06:37]: /AD4_rescoring folder already exists, skipping AD4 rescoring\n",
      "\n",
      "[2023-Mar-28 12:06:37]: /chemplp_rescoring folder already exists, skipping chemplp rescoring\n",
      "\n",
      "[2023-Mar-28 12:06:37]: /rfscorevs_rescoring folder already exists, skipping rfscorevs rescoring\n",
      "\n",
      "[2023-Mar-28 12:06:37]: /LinF9_rescoring folder already exists, skipping LinF9 rescoring\n",
      "The folder: /media/mario/T7/FINISHED/FINISHED/aldr/temp/rescoring_RMSD_clustered/SCORCH_rescoring/ was created\n",
      "\n",
      "[2023-Mar-28 12:06:37]: Converting protein file to .pdbqt ...\n",
      "\n",
      "[2023-Mar-28 12:06:47]: Converting SDF file RMSD_clustered.sdf to .pdbqt files...\n",
      "Converted 27651 molecules.\n",
      "\n",
      "[2023-Mar-28 12:07:33]: Rescoring with SCORCH\n",
      "\n",
      "[2023-Mar-28 12:25:15]: Rescoring with SCORCH complete in 1117.8454!\n",
      "The folder: /media/mario/T7/FINISHED/FINISHED/aldr/temp/rescoring_RMSD_clustered/RTMScore_rescoring/ was created\n",
      "\n",
      "[2023-Mar-28 12:25:15]: Rescoring with RTMScore\n",
      "\n",
      "[2023-Mar-28 13:17:54]: Rescoring with RTMScore complete in 3158.4902!\n"
     ]
    },
    {
     "data": {
      "text/plain": [
       "'/media/mario/T7/FINISHED/FINISHED/aldr/temp/clustering/RMSD_clustered.sdf'"
      ]
     },
     "metadata": {},
     "output_type": "display_data"
    },
    {
     "name": "stdout",
     "output_type": "stream",
     "text": [
      "\n",
      "[2023-Mar-28 13:17:54]: Rescoring with Vinardo\n",
      "\n",
      "[2023-Mar-28 13:18:14]: Rescoring with Vinardo complete in 20.3491!\n",
      "\n",
      "[2023-Mar-28 13:18:14]: Combining all score for /media/mario/T7/FINISHED/FINISHED/aldr/temp/rescoring_RMSD_clustered\n"
     ]
    },
    {
     "name": "stderr",
     "output_type": "stream",
     "text": [
      "Combining scores: 100%|██████████| 7/7 [00:00<00:00, 152.40files/s]\n"
     ]
    },
    {
     "name": "stdout",
     "output_type": "stream",
     "text": [
      "\n",
      "[2023-Mar-28 13:18:14]: Rescoring complete in 4297.0901!\n",
      "The folder: /media/mario/T7/FINISHED/FINISHED/aldr/temp/rescoring_spyRMSD_clustered already exists\n",
      "\n",
      "[2023-Mar-28 13:18:14]: /gnina_rescoring folder already exists, skipping gnina rescoring\n",
      "\n",
      "[2023-Mar-28 13:18:14]: /AD4_rescoring folder already exists, skipping AD4 rescoring\n",
      "\n",
      "[2023-Mar-28 13:18:14]: /chemplp_rescoring folder already exists, skipping chemplp rescoring\n",
      "\n",
      "[2023-Mar-28 13:18:14]: /rfscorevs_rescoring folder already exists, skipping rfscorevs rescoring\n",
      "\n",
      "[2023-Mar-28 13:18:14]: /LinF9_rescoring folder already exists, skipping LinF9 rescoring\n",
      "The folder: /media/mario/T7/FINISHED/FINISHED/aldr/temp/rescoring_spyRMSD_clustered/SCORCH_rescoring/ was created\n",
      "\n",
      "[2023-Mar-28 13:18:14]: Converting protein file to .pdbqt ...\n",
      "\n",
      "[2023-Mar-28 13:18:24]: Converting SDF file spyRMSD_clustered.sdf to .pdbqt files...\n",
      "Converted 27790 molecules.\n",
      "\n",
      "[2023-Mar-28 13:18:50]: Rescoring with SCORCH\n",
      "\n",
      "[2023-Mar-28 13:30:48]: Rescoring with SCORCH complete in 753.2012!\n",
      "The folder: /media/mario/T7/FINISHED/FINISHED/aldr/temp/rescoring_spyRMSD_clustered/RTMScore_rescoring/ was created\n",
      "\n",
      "[2023-Mar-28 13:30:48]: Rescoring with RTMScore\n",
      "\n",
      "[2023-Mar-28 13:58:32]: Rescoring with RTMScore complete in 1664.3199!\n"
     ]
    },
    {
     "data": {
      "text/plain": [
       "'/media/mario/T7/FINISHED/FINISHED/aldr/temp/clustering/spyRMSD_clustered.sdf'"
      ]
     },
     "metadata": {},
     "output_type": "display_data"
    },
    {
     "name": "stdout",
     "output_type": "stream",
     "text": [
      "\n",
      "[2023-Mar-28 13:58:32]: Rescoring with Vinardo\n",
      "\n",
      "[2023-Mar-28 13:58:53]: Rescoring with Vinardo complete in 20.6894!\n",
      "\n",
      "[2023-Mar-28 13:58:53]: Combining all score for /media/mario/T7/FINISHED/FINISHED/aldr/temp/rescoring_spyRMSD_clustered\n"
     ]
    },
    {
     "name": "stderr",
     "output_type": "stream",
     "text": [
      "Combining scores: 100%|██████████| 7/7 [00:00<00:00, 147.89files/s]\n"
     ]
    },
    {
     "name": "stdout",
     "output_type": "stream",
     "text": [
      "\n",
      "[2023-Mar-28 13:58:53]: Rescoring complete in 2438.6340!\n",
      "The folder: /media/mario/T7/FINISHED/FINISHED/aldr/temp/rescoring_espsim_clustered already exists\n",
      "\n",
      "[2023-Mar-28 13:58:53]: /gnina_rescoring folder already exists, skipping gnina rescoring\n",
      "\n",
      "[2023-Mar-28 13:58:53]: /AD4_rescoring folder already exists, skipping AD4 rescoring\n",
      "\n",
      "[2023-Mar-28 13:58:53]: /chemplp_rescoring folder already exists, skipping chemplp rescoring\n",
      "\n",
      "[2023-Mar-28 13:58:53]: /rfscorevs_rescoring folder already exists, skipping rfscorevs rescoring\n",
      "\n",
      "[2023-Mar-28 13:58:53]: /LinF9_rescoring folder already exists, skipping LinF9 rescoring\n",
      "The folder: /media/mario/T7/FINISHED/FINISHED/aldr/temp/rescoring_espsim_clustered/SCORCH_rescoring/ was created\n",
      "\n",
      "[2023-Mar-28 13:58:53]: Converting protein file to .pdbqt ...\n",
      "\n",
      "[2023-Mar-28 13:59:02]: Converting SDF file espsim_clustered.sdf to .pdbqt files...\n",
      "Converted 20295 molecules.\n",
      "\n",
      "[2023-Mar-28 13:59:22]: Rescoring with SCORCH\n",
      "\n",
      "[2023-Mar-28 14:08:31]: Rescoring with SCORCH complete in 578.2272!\n",
      "The folder: /media/mario/T7/FINISHED/FINISHED/aldr/temp/rescoring_espsim_clustered/RTMScore_rescoring/ was created\n",
      "\n",
      "[2023-Mar-28 14:08:31]: Rescoring with RTMScore\n",
      "\n",
      "[2023-Mar-28 14:21:59]: Rescoring with RTMScore complete in 807.3157!\n"
     ]
    },
    {
     "data": {
      "text/plain": [
       "'/media/mario/T7/FINISHED/FINISHED/aldr/temp/clustering/espsim_clustered.sdf'"
      ]
     },
     "metadata": {},
     "output_type": "display_data"
    },
    {
     "name": "stdout",
     "output_type": "stream",
     "text": [
      "\n",
      "[2023-Mar-28 14:21:59]: Rescoring with Vinardo\n",
      "\n",
      "[2023-Mar-28 14:22:15]: Rescoring with Vinardo complete in 16.1362!\n",
      "\n",
      "[2023-Mar-28 14:22:15]: Combining all score for /media/mario/T7/FINISHED/FINISHED/aldr/temp/rescoring_espsim_clustered\n"
     ]
    },
    {
     "name": "stderr",
     "output_type": "stream",
     "text": [
      "Combining scores: 100%|██████████| 7/7 [00:00<00:00, 166.77files/s]\n"
     ]
    },
    {
     "name": "stdout",
     "output_type": "stream",
     "text": [
      "\n",
      "[2023-Mar-28 14:22:15]: Rescoring complete in 1402.0108!\n",
      "The folder: /media/mario/T7/FINISHED/FINISHED/aldr/temp/rescoring_3DScore_clustered already exists\n",
      "\n",
      "[2023-Mar-28 14:22:15]: /gnina_rescoring folder already exists, skipping gnina rescoring\n",
      "\n",
      "[2023-Mar-28 14:22:15]: /AD4_rescoring folder already exists, skipping AD4 rescoring\n",
      "\n",
      "[2023-Mar-28 14:22:15]: /chemplp_rescoring folder already exists, skipping chemplp rescoring\n",
      "\n",
      "[2023-Mar-28 14:22:15]: /rfscorevs_rescoring folder already exists, skipping rfscorevs rescoring\n",
      "\n",
      "[2023-Mar-28 14:22:15]: /LinF9_rescoring folder already exists, skipping LinF9 rescoring\n",
      "The folder: /media/mario/T7/FINISHED/FINISHED/aldr/temp/rescoring_3DScore_clustered/SCORCH_rescoring/ was created\n",
      "\n",
      "[2023-Mar-28 14:22:15]: Converting protein file to .pdbqt ...\n",
      "\n",
      "[2023-Mar-28 14:22:25]: Converting SDF file 3DScore_clustered.sdf to .pdbqt files...\n",
      "Converted 9149 molecules.\n",
      "\n",
      "[2023-Mar-28 14:22:35]: Rescoring with SCORCH\n",
      "\n",
      "[2023-Mar-28 14:26:59]: Rescoring with SCORCH complete in 284.5006!\n",
      "The folder: /media/mario/T7/FINISHED/FINISHED/aldr/temp/rescoring_3DScore_clustered/RTMScore_rescoring/ was created\n",
      "\n",
      "[2023-Mar-28 14:26:59]: Rescoring with RTMScore\n",
      "\n",
      "[2023-Mar-28 14:33:11]: Rescoring with RTMScore complete in 371.3849!\n"
     ]
    },
    {
     "data": {
      "text/plain": [
       "'/media/mario/T7/FINISHED/FINISHED/aldr/temp/clustering/3DScore_clustered.sdf'"
      ]
     },
     "metadata": {},
     "output_type": "display_data"
    },
    {
     "name": "stdout",
     "output_type": "stream",
     "text": [
      "\n",
      "[2023-Mar-28 14:33:11]: Rescoring with Vinardo\n",
      "\n",
      "[2023-Mar-28 14:33:19]: Rescoring with Vinardo complete in 7.8422!\n",
      "\n",
      "[2023-Mar-28 14:33:19]: Combining all score for /media/mario/T7/FINISHED/FINISHED/aldr/temp/rescoring_3DScore_clustered\n"
     ]
    },
    {
     "name": "stderr",
     "output_type": "stream",
     "text": [
      "Combining scores: 100%|██████████| 7/7 [00:00<00:00, 368.70files/s]"
     ]
    },
    {
     "name": "stdout",
     "output_type": "stream",
     "text": [
      "\n",
      "[2023-Mar-28 14:33:19]: Rescoring complete in 663.8974!\n",
      "The folder: /media/mario/T7/FINISHED/FINISHED/aldr/temp/rescoring_bestpose_clustered already exists\n",
      "\n",
      "[2023-Mar-28 14:33:19]: /gnina_rescoring folder already exists, skipping gnina rescoring\n",
      "\n",
      "[2023-Mar-28 14:33:19]: /AD4_rescoring folder already exists, skipping AD4 rescoring\n",
      "\n",
      "[2023-Mar-28 14:33:19]: /chemplp_rescoring folder already exists, skipping chemplp rescoring\n",
      "\n",
      "[2023-Mar-28 14:33:19]: /rfscorevs_rescoring folder already exists, skipping rfscorevs rescoring\n",
      "\n",
      "[2023-Mar-28 14:33:19]: /LinF9_rescoring folder already exists, skipping LinF9 rescoring\n",
      "The folder: /media/mario/T7/FINISHED/FINISHED/aldr/temp/rescoring_bestpose_clustered/SCORCH_rescoring/ was created\n",
      "\n",
      "[2023-Mar-28 14:33:19]: Converting protein file to .pdbqt ...\n"
     ]
    },
    {
     "name": "stderr",
     "output_type": "stream",
     "text": [
      "\n"
     ]
    },
    {
     "name": "stdout",
     "output_type": "stream",
     "text": [
      "\n",
      "[2023-Mar-28 14:33:28]: Converting SDF file bestpose_clustered.sdf to .pdbqt files...\n",
      "Converted 26945 molecules.\n",
      "\n",
      "[2023-Mar-28 14:33:55]: Rescoring with SCORCH\n",
      "\n",
      "[2023-Mar-28 14:46:06]: Rescoring with SCORCH complete in 766.8257!\n",
      "The folder: /media/mario/T7/FINISHED/FINISHED/aldr/temp/rescoring_bestpose_clustered/RTMScore_rescoring/ was created\n",
      "\n",
      "[2023-Mar-28 14:46:06]: Rescoring with RTMScore\n",
      "\n",
      "[2023-Mar-28 15:03:19]: Rescoring with RTMScore complete in 1033.3554!\n"
     ]
    },
    {
     "data": {
      "text/plain": [
       "'/media/mario/T7/FINISHED/FINISHED/aldr/temp/clustering/bestpose_clustered.sdf'"
      ]
     },
     "metadata": {},
     "output_type": "display_data"
    },
    {
     "name": "stdout",
     "output_type": "stream",
     "text": [
      "\n",
      "[2023-Mar-28 15:03:19]: Rescoring with Vinardo\n",
      "\n",
      "[2023-Mar-28 15:03:39]: Rescoring with Vinardo complete in 20.1686!\n",
      "\n",
      "[2023-Mar-28 15:03:39]: Combining all score for /media/mario/T7/FINISHED/FINISHED/aldr/temp/rescoring_bestpose_clustered\n"
     ]
    },
    {
     "name": "stderr",
     "output_type": "stream",
     "text": [
      "Combining scores: 100%|██████████| 7/7 [00:00<00:00, 152.71files/s]\n"
     ]
    },
    {
     "name": "stdout",
     "output_type": "stream",
     "text": [
      "\n",
      "[2023-Mar-28 15:03:40]: Rescoring complete in 1820.7498!\n",
      "The folder: /media/mario/T7/FINISHED/FINISHED/aldr/temp/rescoring_bestpose_GNINA_clustered already exists\n",
      "\n",
      "[2023-Mar-28 15:03:40]: /gnina_rescoring folder already exists, skipping gnina rescoring\n",
      "\n",
      "[2023-Mar-28 15:03:40]: /AD4_rescoring folder already exists, skipping AD4 rescoring\n",
      "\n",
      "[2023-Mar-28 15:03:40]: /chemplp_rescoring folder already exists, skipping chemplp rescoring\n",
      "\n",
      "[2023-Mar-28 15:03:40]: /rfscorevs_rescoring folder already exists, skipping rfscorevs rescoring\n",
      "\n",
      "[2023-Mar-28 15:03:40]: /LinF9_rescoring folder already exists, skipping LinF9 rescoring\n",
      "The folder: /media/mario/T7/FINISHED/FINISHED/aldr/temp/rescoring_bestpose_GNINA_clustered/SCORCH_rescoring/ was created\n",
      "\n",
      "[2023-Mar-28 15:03:40]: Converting protein file to .pdbqt ...\n",
      "\n",
      "[2023-Mar-28 15:03:49]: Converting SDF file bestpose_GNINA_clustered.sdf to .pdbqt files...\n",
      "Converted 9139 molecules.\n",
      "\n",
      "[2023-Mar-28 15:03:58]: Rescoring with SCORCH\n",
      "\n",
      "[2023-Mar-28 15:07:56]: Rescoring with SCORCH complete in 256.7532!\n",
      "The folder: /media/mario/T7/FINISHED/FINISHED/aldr/temp/rescoring_bestpose_GNINA_clustered/RTMScore_rescoring/ was created\n",
      "\n",
      "[2023-Mar-28 15:07:56]: Rescoring with RTMScore\n",
      "\n",
      "[2023-Mar-28 15:13:40]: Rescoring with RTMScore complete in 343.4287!\n"
     ]
    },
    {
     "data": {
      "text/plain": [
       "'/media/mario/T7/FINISHED/FINISHED/aldr/temp/clustering/bestpose_GNINA_clustered.sdf'"
      ]
     },
     "metadata": {},
     "output_type": "display_data"
    },
    {
     "name": "stdout",
     "output_type": "stream",
     "text": [
      "\n",
      "[2023-Mar-28 15:13:40]: Rescoring with Vinardo\n",
      "\n",
      "[2023-Mar-28 15:13:48]: Rescoring with Vinardo complete in 7.9127!\n",
      "\n",
      "[2023-Mar-28 15:13:48]: Combining all score for /media/mario/T7/FINISHED/FINISHED/aldr/temp/rescoring_bestpose_GNINA_clustered\n"
     ]
    },
    {
     "name": "stderr",
     "output_type": "stream",
     "text": [
      "Combining scores: 100%|██████████| 7/7 [00:00<00:00, 374.72files/s]"
     ]
    },
    {
     "name": "stdout",
     "output_type": "stream",
     "text": [
      "\n",
      "[2023-Mar-28 15:13:48]: Rescoring complete in 608.2531!\n",
      "The folder: /media/mario/T7/FINISHED/FINISHED/aldr/temp/rescoring_bestpose_SMINA_clustered already exists\n",
      "\n",
      "[2023-Mar-28 15:13:48]: /gnina_rescoring folder already exists, skipping gnina rescoring\n",
      "\n",
      "[2023-Mar-28 15:13:48]: /AD4_rescoring folder already exists, skipping AD4 rescoring\n",
      "\n",
      "[2023-Mar-28 15:13:48]: /chemplp_rescoring folder already exists, skipping chemplp rescoring\n",
      "\n",
      "[2023-Mar-28 15:13:48]: /rfscorevs_rescoring folder already exists, skipping rfscorevs rescoring\n",
      "\n",
      "[2023-Mar-28 15:13:48]: /LinF9_rescoring folder already exists, skipping LinF9 rescoring\n",
      "The folder: /media/mario/T7/FINISHED/FINISHED/aldr/temp/rescoring_bestpose_SMINA_clustered/SCORCH_rescoring/ was created\n",
      "\n",
      "[2023-Mar-28 15:13:48]: Converting protein file to .pdbqt ...\n"
     ]
    },
    {
     "name": "stderr",
     "output_type": "stream",
     "text": [
      "\n"
     ]
    },
    {
     "name": "stdout",
     "output_type": "stream",
     "text": [
      "\n",
      "[2023-Mar-28 15:13:58]: Converting SDF file bestpose_SMINA_clustered.sdf to .pdbqt files...\n",
      "Converted 9139 molecules.\n",
      "\n",
      "[2023-Mar-28 15:14:06]: Rescoring with SCORCH\n",
      "\n",
      "[2023-Mar-28 15:18:02]: Rescoring with SCORCH complete in 253.7681!\n",
      "The folder: /media/mario/T7/FINISHED/FINISHED/aldr/temp/rescoring_bestpose_SMINA_clustered/RTMScore_rescoring/ was created\n",
      "\n",
      "[2023-Mar-28 15:18:02]: Rescoring with RTMScore\n",
      "\n",
      "[2023-Mar-28 15:23:44]: Rescoring with RTMScore complete in 342.7753!\n"
     ]
    },
    {
     "data": {
      "text/plain": [
       "'/media/mario/T7/FINISHED/FINISHED/aldr/temp/clustering/bestpose_SMINA_clustered.sdf'"
      ]
     },
     "metadata": {},
     "output_type": "display_data"
    },
    {
     "name": "stdout",
     "output_type": "stream",
     "text": [
      "\n",
      "[2023-Mar-28 15:23:44]: Rescoring with Vinardo\n",
      "\n",
      "[2023-Mar-28 15:23:52]: Rescoring with Vinardo complete in 7.8879!\n",
      "\n",
      "[2023-Mar-28 15:23:52]: Combining all score for /media/mario/T7/FINISHED/FINISHED/aldr/temp/rescoring_bestpose_SMINA_clustered\n"
     ]
    },
    {
     "name": "stderr",
     "output_type": "stream",
     "text": [
      "Combining scores: 100%|██████████| 7/7 [00:00<00:00, 368.81files/s]"
     ]
    },
    {
     "name": "stdout",
     "output_type": "stream",
     "text": [
      "\n",
      "[2023-Mar-28 15:23:52]: Rescoring complete in 604.5868!\n",
      "The folder: /media/mario/T7/FINISHED/FINISHED/aldr/temp/rescoring_bestpose_PLANTS_clustered already exists\n",
      "\n",
      "[2023-Mar-28 15:23:52]: /gnina_rescoring folder already exists, skipping gnina rescoring\n",
      "\n",
      "[2023-Mar-28 15:23:52]: /AD4_rescoring folder already exists, skipping AD4 rescoring\n",
      "\n",
      "[2023-Mar-28 15:23:52]: /chemplp_rescoring folder already exists, skipping chemplp rescoring\n",
      "\n",
      "[2023-Mar-28 15:23:52]: /rfscorevs_rescoring folder already exists, skipping rfscorevs rescoring\n",
      "\n",
      "[2023-Mar-28 15:23:52]: /LinF9_rescoring folder already exists, skipping LinF9 rescoring\n",
      "The folder: /media/mario/T7/FINISHED/FINISHED/aldr/temp/rescoring_bestpose_PLANTS_clustered/SCORCH_rescoring/ was created\n",
      "\n",
      "[2023-Mar-28 15:23:52]: Converting protein file to .pdbqt ...\n"
     ]
    },
    {
     "name": "stderr",
     "output_type": "stream",
     "text": [
      "\n"
     ]
    },
    {
     "name": "stdout",
     "output_type": "stream",
     "text": [
      "\n",
      "[2023-Mar-28 15:24:02]: Converting SDF file bestpose_PLANTS_clustered.sdf to .pdbqt files...\n",
      "Converted 8667 molecules.\n",
      "\n",
      "[2023-Mar-28 15:24:10]: Rescoring with SCORCH\n",
      "\n",
      "[2023-Mar-28 15:28:04]: Rescoring with SCORCH complete in 251.6982!\n",
      "The folder: /media/mario/T7/FINISHED/FINISHED/aldr/temp/rescoring_bestpose_PLANTS_clustered/RTMScore_rescoring/ was created\n",
      "\n",
      "[2023-Mar-28 15:28:04]: Rescoring with RTMScore\n",
      "\n",
      "[2023-Mar-28 15:33:27]: Rescoring with RTMScore complete in 323.0572!\n"
     ]
    },
    {
     "data": {
      "text/plain": [
       "'/media/mario/T7/FINISHED/FINISHED/aldr/temp/clustering/bestpose_PLANTS_clustered.sdf'"
      ]
     },
     "metadata": {},
     "output_type": "display_data"
    },
    {
     "name": "stdout",
     "output_type": "stream",
     "text": [
      "\n",
      "[2023-Mar-28 15:33:27]: Rescoring with Vinardo\n",
      "\n",
      "[2023-Mar-28 15:33:35]: Rescoring with Vinardo complete in 7.4461!\n",
      "\n",
      "[2023-Mar-28 15:33:35]: Combining all score for /media/mario/T7/FINISHED/FINISHED/aldr/temp/rescoring_bestpose_PLANTS_clustered\n"
     ]
    },
    {
     "name": "stderr",
     "output_type": "stream",
     "text": [
      "Combining scores: 100%|██████████| 7/7 [00:00<00:00, 393.53files/s]"
     ]
    },
    {
     "name": "stdout",
     "output_type": "stream",
     "text": [
      "\n",
      "[2023-Mar-28 15:33:35]: Rescoring complete in 582.3538!\n",
      "\n",
      "[2023-Mar-28 15:33:35]: Failed for aldr\n",
      "andr\n",
      "The working directory has been set to: /media/mario/T7/FINISHED/FINISHED/andr\n",
      "The folder: /media/mario/T7/FINISHED/FINISHED/andr/temp already exists\n",
      "The folder: /media/mario/T7/FINISHED/FINISHED/andr/temp/rescoring_RMSD_clustered already exists\n",
      "\n",
      "[2023-Mar-28 15:33:35]: /gnina_rescoring folder already exists, skipping gnina rescoring\n",
      "\n",
      "[2023-Mar-28 15:33:35]: /AD4_rescoring folder already exists, skipping AD4 rescoring\n",
      "\n",
      "[2023-Mar-28 15:33:35]: /chemplp_rescoring folder already exists, skipping chemplp rescoring\n",
      "\n",
      "[2023-Mar-28 15:33:35]: /rfscorevs_rescoring folder already exists, skipping rfscorevs rescoring\n",
      "\n",
      "[2023-Mar-28 15:33:35]: /LinF9_rescoring folder already exists, skipping LinF9 rescoring\n",
      "The folder: /media/mario/T7/FINISHED/FINISHED/andr/temp/rescoring_RMSD_clustered/SCORCH_rescoring/ was created\n",
      "\n",
      "[2023-Mar-28 15:33:35]: Converting protein file to .pdbqt ...\n"
     ]
    },
    {
     "name": "stderr",
     "output_type": "stream",
     "text": [
      "\n"
     ]
    },
    {
     "name": "stdout",
     "output_type": "stream",
     "text": [
      "\n",
      "[2023-Mar-28 15:33:40]: Converting SDF file RMSD_clustered.sdf to .pdbqt files...\n",
      "Converted 36675 molecules.\n",
      "\n",
      "[2023-Mar-28 15:34:15]: Rescoring with SCORCH\n",
      "\n",
      "[2023-Mar-28 15:47:05]: Rescoring with SCORCH complete in 810.3993!\n",
      "The folder: /media/mario/T7/FINISHED/FINISHED/andr/temp/rescoring_RMSD_clustered/RTMScore_rescoring/ was created\n",
      "\n",
      "[2023-Mar-28 15:47:05]: Rescoring with RTMScore\n",
      "\n",
      "[2023-Mar-28 16:13:40]: Rescoring with RTMScore complete in 1594.7623!\n"
     ]
    },
    {
     "data": {
      "text/plain": [
       "'/media/mario/T7/FINISHED/FINISHED/andr/temp/clustering/RMSD_clustered.sdf'"
      ]
     },
     "metadata": {},
     "output_type": "display_data"
    },
    {
     "name": "stdout",
     "output_type": "stream",
     "text": [
      "\n",
      "[2023-Mar-28 16:13:40]: Rescoring with Vinardo\n",
      "\n",
      "[2023-Mar-28 16:14:07]: Rescoring with Vinardo complete in 26.7639!\n",
      "\n",
      "[2023-Mar-28 16:14:07]: Combining all score for /media/mario/T7/FINISHED/FINISHED/andr/temp/rescoring_RMSD_clustered\n"
     ]
    },
    {
     "name": "stderr",
     "output_type": "stream",
     "text": [
      "Combining scores: 100%|██████████| 7/7 [00:00<00:00, 97.25files/s]\n"
     ]
    },
    {
     "name": "stdout",
     "output_type": "stream",
     "text": [
      "\n",
      "[2023-Mar-28 16:14:07]: Rescoring complete in 2432.4687!\n",
      "The folder: /media/mario/T7/FINISHED/FINISHED/andr/temp/rescoring_spyRMSD_clustered already exists\n",
      "\n",
      "[2023-Mar-28 16:14:07]: /gnina_rescoring folder already exists, skipping gnina rescoring\n",
      "\n",
      "[2023-Mar-28 16:14:07]: /AD4_rescoring folder already exists, skipping AD4 rescoring\n",
      "\n",
      "[2023-Mar-28 16:14:07]: /chemplp_rescoring folder already exists, skipping chemplp rescoring\n",
      "\n",
      "[2023-Mar-28 16:14:07]: /rfscorevs_rescoring folder already exists, skipping rfscorevs rescoring\n",
      "\n",
      "[2023-Mar-28 16:14:07]: /LinF9_rescoring folder already exists, skipping LinF9 rescoring\n",
      "The folder: /media/mario/T7/FINISHED/FINISHED/andr/temp/rescoring_spyRMSD_clustered/SCORCH_rescoring/ was created\n",
      "\n",
      "[2023-Mar-28 16:14:07]: Converting protein file to .pdbqt ...\n",
      "\n",
      "[2023-Mar-28 16:14:13]: Converting SDF file spyRMSD_clustered.sdf to .pdbqt files...\n",
      "Converted 36982 molecules.\n",
      "\n",
      "[2023-Mar-28 16:14:53]: Rescoring with SCORCH\n",
      "\n",
      "[2023-Mar-28 16:28:18]: Rescoring with SCORCH complete in 850.4353!\n",
      "The folder: /media/mario/T7/FINISHED/FINISHED/andr/temp/rescoring_spyRMSD_clustered/RTMScore_rescoring/ was created\n",
      "\n",
      "[2023-Mar-28 16:28:18]: Rescoring with RTMScore\n",
      "\n",
      "[2023-Mar-28 16:55:11]: Rescoring with RTMScore complete in 1613.6253!\n"
     ]
    },
    {
     "data": {
      "text/plain": [
       "'/media/mario/T7/FINISHED/FINISHED/andr/temp/clustering/spyRMSD_clustered.sdf'"
      ]
     },
     "metadata": {},
     "output_type": "display_data"
    },
    {
     "name": "stdout",
     "output_type": "stream",
     "text": [
      "\n",
      "[2023-Mar-28 16:55:11]: Rescoring with Vinardo\n",
      "\n",
      "[2023-Mar-28 16:55:38]: Rescoring with Vinardo complete in 26.1982!\n",
      "\n",
      "[2023-Mar-28 16:55:38]: Combining all score for /media/mario/T7/FINISHED/FINISHED/andr/temp/rescoring_spyRMSD_clustered\n"
     ]
    },
    {
     "name": "stderr",
     "output_type": "stream",
     "text": [
      "Combining scores: 100%|██████████| 7/7 [00:00<00:00, 105.60files/s]\n"
     ]
    },
    {
     "name": "stdout",
     "output_type": "stream",
     "text": [
      "\n",
      "[2023-Mar-28 16:55:38]: Rescoring complete in 2490.7912!\n",
      "The folder: /media/mario/T7/FINISHED/FINISHED/andr/temp/rescoring_espsim_clustered already exists\n",
      "\n",
      "[2023-Mar-28 16:55:38]: /gnina_rescoring folder already exists, skipping gnina rescoring\n",
      "\n",
      "[2023-Mar-28 16:55:38]: /AD4_rescoring folder already exists, skipping AD4 rescoring\n",
      "\n",
      "[2023-Mar-28 16:55:38]: /chemplp_rescoring folder already exists, skipping chemplp rescoring\n",
      "\n",
      "[2023-Mar-28 16:55:38]: /rfscorevs_rescoring folder already exists, skipping rfscorevs rescoring\n",
      "\n",
      "[2023-Mar-28 16:55:38]: /LinF9_rescoring folder already exists, skipping LinF9 rescoring\n",
      "The folder: /media/mario/T7/FINISHED/FINISHED/andr/temp/rescoring_espsim_clustered/SCORCH_rescoring/ was created\n",
      "\n",
      "[2023-Mar-28 16:55:38]: Converting protein file to .pdbqt ...\n",
      "\n",
      "[2023-Mar-28 16:55:43]: Converting SDF file espsim_clustered.sdf to .pdbqt files...\n",
      "Converted 34073 molecules.\n",
      "\n",
      "[2023-Mar-28 16:56:15]: Rescoring with SCORCH\n",
      "\n",
      "[2023-Mar-28 17:08:09]: Rescoring with SCORCH complete in 750.6261!\n",
      "The folder: /media/mario/T7/FINISHED/FINISHED/andr/temp/rescoring_espsim_clustered/RTMScore_rescoring/ was created\n",
      "\n",
      "[2023-Mar-28 17:08:09]: Rescoring with RTMScore\n",
      "\n",
      "[2023-Mar-28 17:32:34]: Rescoring with RTMScore complete in 1465.3095!\n"
     ]
    },
    {
     "data": {
      "text/plain": [
       "'/media/mario/T7/FINISHED/FINISHED/andr/temp/clustering/espsim_clustered.sdf'"
      ]
     },
     "metadata": {},
     "output_type": "display_data"
    },
    {
     "name": "stdout",
     "output_type": "stream",
     "text": [
      "\n",
      "[2023-Mar-28 17:32:34]: Rescoring with Vinardo\n",
      "\n",
      "[2023-Mar-28 17:32:58]: Rescoring with Vinardo complete in 24.4128!\n",
      "\n",
      "[2023-Mar-28 17:32:58]: Combining all score for /media/mario/T7/FINISHED/FINISHED/andr/temp/rescoring_espsim_clustered\n"
     ]
    },
    {
     "name": "stderr",
     "output_type": "stream",
     "text": [
      "Combining scores: 100%|██████████| 7/7 [00:00<00:00, 115.45files/s]\n"
     ]
    },
    {
     "name": "stdout",
     "output_type": "stream",
     "text": [
      "\n",
      "[2023-Mar-28 17:32:59]: Rescoring complete in 2240.8483!\n",
      "The folder: /media/mario/T7/FINISHED/FINISHED/andr/temp/rescoring_3DScore_clustered already exists\n",
      "\n",
      "[2023-Mar-28 17:32:59]: /gnina_rescoring folder already exists, skipping gnina rescoring\n",
      "\n",
      "[2023-Mar-28 17:32:59]: /AD4_rescoring folder already exists, skipping AD4 rescoring\n",
      "\n",
      "[2023-Mar-28 17:32:59]: /chemplp_rescoring folder already exists, skipping chemplp rescoring\n",
      "\n",
      "[2023-Mar-28 17:32:59]: /rfscorevs_rescoring folder already exists, skipping rfscorevs rescoring\n",
      "\n",
      "[2023-Mar-28 17:32:59]: /LinF9_rescoring folder already exists, skipping LinF9 rescoring\n",
      "The folder: /media/mario/T7/FINISHED/FINISHED/andr/temp/rescoring_3DScore_clustered/SCORCH_rescoring/ was created\n",
      "\n",
      "[2023-Mar-28 17:32:59]: Converting protein file to .pdbqt ...\n",
      "\n",
      "[2023-Mar-28 17:33:04]: Converting SDF file 3DScore_clustered.sdf to .pdbqt files...\n",
      "Converted 14593 molecules.\n",
      "\n",
      "[2023-Mar-28 17:33:17]: Rescoring with SCORCH\n",
      "\n",
      "[2023-Mar-28 17:38:19]: Rescoring with SCORCH complete in 319.9570!\n",
      "The folder: /media/mario/T7/FINISHED/FINISHED/andr/temp/rescoring_3DScore_clustered/RTMScore_rescoring/ was created\n",
      "\n",
      "[2023-Mar-28 17:38:19]: Rescoring with RTMScore\n",
      "\n",
      "[2023-Mar-28 17:48:51]: Rescoring with RTMScore complete in 631.9666!\n"
     ]
    },
    {
     "data": {
      "text/plain": [
       "'/media/mario/T7/FINISHED/FINISHED/andr/temp/clustering/3DScore_clustered.sdf'"
      ]
     },
     "metadata": {},
     "output_type": "display_data"
    },
    {
     "name": "stdout",
     "output_type": "stream",
     "text": [
      "\n",
      "[2023-Mar-28 17:48:51]: Rescoring with Vinardo\n",
      "\n",
      "[2023-Mar-28 17:49:02]: Rescoring with Vinardo complete in 11.2415!\n",
      "\n",
      "[2023-Mar-28 17:49:02]: Combining all score for /media/mario/T7/FINISHED/FINISHED/andr/temp/rescoring_3DScore_clustered\n"
     ]
    },
    {
     "name": "stderr",
     "output_type": "stream",
     "text": [
      "Combining scores: 100%|██████████| 7/7 [00:00<00:00, 264.52files/s]\n"
     ]
    },
    {
     "name": "stdout",
     "output_type": "stream",
     "text": [
      "\n",
      "[2023-Mar-28 17:49:02]: Rescoring complete in 963.4054!\n",
      "The folder: /media/mario/T7/FINISHED/FINISHED/andr/temp/rescoring_bestpose_clustered already exists\n",
      "\n",
      "[2023-Mar-28 17:49:02]: /gnina_rescoring folder already exists, skipping gnina rescoring\n",
      "\n",
      "[2023-Mar-28 17:49:02]: /AD4_rescoring folder already exists, skipping AD4 rescoring\n",
      "\n",
      "[2023-Mar-28 17:49:02]: /chemplp_rescoring folder already exists, skipping chemplp rescoring\n",
      "\n",
      "[2023-Mar-28 17:49:02]: /rfscorevs_rescoring folder already exists, skipping rfscorevs rescoring\n",
      "\n",
      "[2023-Mar-28 17:49:02]: /LinF9_rescoring folder already exists, skipping LinF9 rescoring\n",
      "The folder: /media/mario/T7/FINISHED/FINISHED/andr/temp/rescoring_bestpose_clustered/SCORCH_rescoring/ was created\n",
      "\n",
      "[2023-Mar-28 17:49:02]: Converting protein file to .pdbqt ...\n",
      "\n",
      "[2023-Mar-28 17:49:07]: Converting SDF file bestpose_clustered.sdf to .pdbqt files...\n",
      "Converted 32935 molecules.\n",
      "\n",
      "[2023-Mar-28 17:49:39]: Rescoring with SCORCH\n",
      "\n",
      "[2023-Mar-28 18:00:57]: Rescoring with SCORCH complete in 714.1757!\n",
      "The folder: /media/mario/T7/FINISHED/FINISHED/andr/temp/rescoring_bestpose_clustered/RTMScore_rescoring/ was created\n",
      "\n",
      "[2023-Mar-28 18:00:57]: Rescoring with RTMScore\n",
      "\n",
      "[2023-Mar-28 18:24:36]: Rescoring with RTMScore complete in 1419.8203!\n"
     ]
    },
    {
     "data": {
      "text/plain": [
       "'/media/mario/T7/FINISHED/FINISHED/andr/temp/clustering/bestpose_clustered.sdf'"
      ]
     },
     "metadata": {},
     "output_type": "display_data"
    },
    {
     "name": "stdout",
     "output_type": "stream",
     "text": [
      "\n",
      "[2023-Mar-28 18:24:36]: Rescoring with Vinardo\n",
      "\n",
      "[2023-Mar-28 18:25:00]: Rescoring with Vinardo complete in 23.4434!\n",
      "\n",
      "[2023-Mar-28 18:25:00]: Combining all score for /media/mario/T7/FINISHED/FINISHED/andr/temp/rescoring_bestpose_clustered\n"
     ]
    },
    {
     "name": "stderr",
     "output_type": "stream",
     "text": [
      "Combining scores: 100%|██████████| 7/7 [00:00<00:00, 119.80files/s]\n"
     ]
    },
    {
     "name": "stdout",
     "output_type": "stream",
     "text": [
      "\n",
      "[2023-Mar-28 18:25:00]: Rescoring complete in 2157.9159!\n",
      "The folder: /media/mario/T7/FINISHED/FINISHED/andr/temp/rescoring_bestpose_GNINA_clustered already exists\n",
      "\n",
      "[2023-Mar-28 18:25:00]: /gnina_rescoring folder already exists, skipping gnina rescoring\n",
      "\n",
      "[2023-Mar-28 18:25:00]: /AD4_rescoring folder already exists, skipping AD4 rescoring\n",
      "\n",
      "[2023-Mar-28 18:25:00]: /chemplp_rescoring folder already exists, skipping chemplp rescoring\n",
      "\n",
      "[2023-Mar-28 18:25:00]: /rfscorevs_rescoring folder already exists, skipping rfscorevs rescoring\n",
      "\n",
      "[2023-Mar-28 18:25:00]: /LinF9_rescoring folder already exists, skipping LinF9 rescoring\n",
      "The folder: /media/mario/T7/FINISHED/FINISHED/andr/temp/rescoring_bestpose_GNINA_clustered/SCORCH_rescoring/ was created\n",
      "\n",
      "[2023-Mar-28 18:25:00]: Converting protein file to .pdbqt ...\n",
      "\n",
      "[2023-Mar-28 18:25:05]: Converting SDF file bestpose_GNINA_clustered.sdf to .pdbqt files...\n",
      "Converted 4331 molecules.\n",
      "\n",
      "[2023-Mar-28 18:25:09]: Rescoring with SCORCH\n",
      "\n",
      "[2023-Mar-28 18:26:43]: Rescoring with SCORCH complete in 102.6008!\n",
      "The folder: /media/mario/T7/FINISHED/FINISHED/andr/temp/rescoring_bestpose_GNINA_clustered/RTMScore_rescoring/ was created\n",
      "\n",
      "[2023-Mar-28 18:26:43]: Rescoring with RTMScore\n",
      "\n",
      "[2023-Mar-28 18:29:53]: Rescoring with RTMScore complete in 190.0766!\n"
     ]
    },
    {
     "data": {
      "text/plain": [
       "'/media/mario/T7/FINISHED/FINISHED/andr/temp/clustering/bestpose_GNINA_clustered.sdf'"
      ]
     },
     "metadata": {},
     "output_type": "display_data"
    },
    {
     "name": "stdout",
     "output_type": "stream",
     "text": [
      "\n",
      "[2023-Mar-28 18:29:53]: Rescoring with Vinardo\n",
      "\n",
      "[2023-Mar-28 18:29:57]: Rescoring with Vinardo complete in 4.2766!\n",
      "\n",
      "[2023-Mar-28 18:29:57]: Combining all score for /media/mario/T7/FINISHED/FINISHED/andr/temp/rescoring_bestpose_GNINA_clustered\n"
     ]
    },
    {
     "name": "stderr",
     "output_type": "stream",
     "text": [
      "Combining scores: 100%|██████████| 7/7 [00:00<00:00, 646.53files/s]"
     ]
    },
    {
     "name": "stdout",
     "output_type": "stream",
     "text": [
      "\n",
      "[2023-Mar-28 18:29:57]: Rescoring complete in 297.0421!\n",
      "The folder: /media/mario/T7/FINISHED/FINISHED/andr/temp/rescoring_bestpose_SMINA_clustered already exists\n",
      "\n",
      "[2023-Mar-28 18:29:57]: /gnina_rescoring folder already exists, skipping gnina rescoring\n",
      "\n",
      "[2023-Mar-28 18:29:57]: /AD4_rescoring folder already exists, skipping AD4 rescoring\n",
      "\n",
      "[2023-Mar-28 18:29:57]: /chemplp_rescoring folder already exists, skipping chemplp rescoring\n",
      "\n",
      "[2023-Mar-28 18:29:57]: /rfscorevs_rescoring folder already exists, skipping rfscorevs rescoring\n",
      "\n",
      "[2023-Mar-28 18:29:57]: /LinF9_rescoring folder already exists, skipping LinF9 rescoring\n",
      "The folder: /media/mario/T7/FINISHED/FINISHED/andr/temp/rescoring_bestpose_SMINA_clustered/SCORCH_rescoring/ was created\n",
      "\n",
      "[2023-Mar-28 18:29:57]: Converting protein file to .pdbqt ...\n"
     ]
    },
    {
     "name": "stderr",
     "output_type": "stream",
     "text": [
      "\n"
     ]
    },
    {
     "name": "stdout",
     "output_type": "stream",
     "text": [
      "\n",
      "[2023-Mar-28 18:30:02]: Converting SDF file bestpose_SMINA_clustered.sdf to .pdbqt files...\n",
      "Converted 14501 molecules.\n",
      "\n",
      "[2023-Mar-28 18:30:16]: Rescoring with SCORCH\n",
      "\n",
      "[2023-Mar-28 18:35:15]: Rescoring with SCORCH complete in 317.8076!\n",
      "The folder: /media/mario/T7/FINISHED/FINISHED/andr/temp/rescoring_bestpose_SMINA_clustered/RTMScore_rescoring/ was created\n",
      "\n",
      "[2023-Mar-28 18:35:15]: Rescoring with RTMScore\n",
      "\n",
      "[2023-Mar-28 18:45:42]: Rescoring with RTMScore complete in 626.5561!\n"
     ]
    },
    {
     "data": {
      "text/plain": [
       "'/media/mario/T7/FINISHED/FINISHED/andr/temp/clustering/bestpose_SMINA_clustered.sdf'"
      ]
     },
     "metadata": {},
     "output_type": "display_data"
    },
    {
     "name": "stdout",
     "output_type": "stream",
     "text": [
      "\n",
      "[2023-Mar-28 18:45:42]: Rescoring with Vinardo\n",
      "\n",
      "[2023-Mar-28 18:45:53]: Rescoring with Vinardo complete in 11.2331!\n",
      "\n",
      "[2023-Mar-28 18:45:53]: Combining all score for /media/mario/T7/FINISHED/FINISHED/andr/temp/rescoring_bestpose_SMINA_clustered\n"
     ]
    },
    {
     "name": "stderr",
     "output_type": "stream",
     "text": [
      "Combining scores: 100%|██████████| 7/7 [00:00<00:00, 278.19files/s]\n"
     ]
    },
    {
     "name": "stdout",
     "output_type": "stream",
     "text": [
      "\n",
      "[2023-Mar-28 18:45:53]: Rescoring complete in 955.8325!\n",
      "The folder: /media/mario/T7/FINISHED/FINISHED/andr/temp/rescoring_bestpose_PLANTS_clustered already exists\n",
      "\n",
      "[2023-Mar-28 18:45:53]: /gnina_rescoring folder already exists, skipping gnina rescoring\n",
      "\n",
      "[2023-Mar-28 18:45:53]: /AD4_rescoring folder already exists, skipping AD4 rescoring\n",
      "\n",
      "[2023-Mar-28 18:45:53]: /chemplp_rescoring folder already exists, skipping chemplp rescoring\n",
      "\n",
      "[2023-Mar-28 18:45:53]: /rfscorevs_rescoring folder already exists, skipping rfscorevs rescoring\n",
      "\n",
      "[2023-Mar-28 18:45:53]: /LinF9_rescoring folder already exists, skipping LinF9 rescoring\n",
      "The folder: /media/mario/T7/FINISHED/FINISHED/andr/temp/rescoring_bestpose_PLANTS_clustered/SCORCH_rescoring/ was created\n",
      "\n",
      "[2023-Mar-28 18:45:53]: Converting protein file to .pdbqt ...\n",
      "\n",
      "[2023-Mar-28 18:45:58]: Converting SDF file bestpose_PLANTS_clustered.sdf to .pdbqt files...\n",
      "Converted 14103 molecules.\n",
      "\n",
      "[2023-Mar-28 18:46:11]: Rescoring with SCORCH\n",
      "\n",
      "[2023-Mar-28 18:51:04]: Rescoring with SCORCH complete in 310.7363!\n",
      "The folder: /media/mario/T7/FINISHED/FINISHED/andr/temp/rescoring_bestpose_PLANTS_clustered/RTMScore_rescoring/ was created\n",
      "\n",
      "[2023-Mar-28 18:51:04]: Rescoring with RTMScore\n",
      "\n",
      "[2023-Mar-28 19:01:11]: Rescoring with RTMScore complete in 607.0309!\n"
     ]
    },
    {
     "data": {
      "text/plain": [
       "'/media/mario/T7/FINISHED/FINISHED/andr/temp/clustering/bestpose_PLANTS_clustered.sdf'"
      ]
     },
     "metadata": {},
     "output_type": "display_data"
    },
    {
     "name": "stdout",
     "output_type": "stream",
     "text": [
      "\n",
      "[2023-Mar-28 19:01:11]: Rescoring with Vinardo\n",
      "\n",
      "[2023-Mar-28 19:01:22]: Rescoring with Vinardo complete in 10.8203!\n",
      "\n",
      "[2023-Mar-28 19:01:22]: Combining all score for /media/mario/T7/FINISHED/FINISHED/andr/temp/rescoring_bestpose_PLANTS_clustered\n"
     ]
    },
    {
     "name": "stderr",
     "output_type": "stream",
     "text": [
      "Combining scores: 100%|██████████| 7/7 [00:00<00:00, 279.87files/s]\n"
     ]
    },
    {
     "name": "stdout",
     "output_type": "stream",
     "text": [
      "\n",
      "[2023-Mar-28 19:01:22]: Rescoring complete in 928.8191!\n",
      "\n",
      "[2023-Mar-28 19:01:22]: Failed for andr\n",
      "cdk2\n",
      "The working directory has been set to: /media/mario/T7/FINISHED/FINISHED/cdk2\n",
      "The folder: /media/mario/T7/FINISHED/FINISHED/cdk2/temp already exists\n",
      "The folder: /media/mario/T7/FINISHED/FINISHED/cdk2/temp/rescoring_RMSD_clustered already exists\n",
      "\n",
      "[2023-Mar-28 19:01:22]: /gnina_rescoring folder already exists, skipping gnina rescoring\n",
      "\n",
      "[2023-Mar-28 19:01:22]: /AD4_rescoring folder already exists, skipping AD4 rescoring\n",
      "\n",
      "[2023-Mar-28 19:01:22]: /chemplp_rescoring folder already exists, skipping chemplp rescoring\n",
      "\n",
      "[2023-Mar-28 19:01:22]: /rfscorevs_rescoring folder already exists, skipping rfscorevs rescoring\n",
      "\n",
      "[2023-Mar-28 19:01:22]: /LinF9_rescoring folder already exists, skipping LinF9 rescoring\n",
      "The folder: /media/mario/T7/FINISHED/FINISHED/cdk2/temp/rescoring_RMSD_clustered/SCORCH_rescoring/ was created\n",
      "\n",
      "[2023-Mar-28 19:01:22]: Converting protein file to .pdbqt ...\n",
      "\n",
      "[2023-Mar-28 19:01:29]: Converting SDF file RMSD_clustered.sdf to .pdbqt files...\n",
      "Converted 81205 molecules.\n",
      "\n",
      "[2023-Mar-28 19:03:02]: Rescoring with SCORCH\n",
      "\n",
      "[2023-Mar-28 19:33:28]: Rescoring with SCORCH complete in 1926.4662!\n",
      "The folder: /media/mario/T7/FINISHED/FINISHED/cdk2/temp/rescoring_RMSD_clustered/RTMScore_rescoring/ was created\n",
      "\n",
      "[2023-Mar-28 19:33:28]: Rescoring with RTMScore\n",
      "\n",
      "[2023-Mar-28 20:25:22]: Rescoring with RTMScore complete in 3113.2312!\n"
     ]
    },
    {
     "data": {
      "text/plain": [
       "'/media/mario/T7/FINISHED/FINISHED/cdk2/temp/clustering/RMSD_clustered.sdf'"
      ]
     },
     "metadata": {},
     "output_type": "display_data"
    },
    {
     "name": "stdout",
     "output_type": "stream",
     "text": [
      "\n",
      "[2023-Mar-28 20:25:22]: Rescoring with Vinardo\n",
      "\n",
      "[2023-Mar-28 20:26:29]: Rescoring with Vinardo complete in 67.4806!\n",
      "\n",
      "[2023-Mar-28 20:26:29]: Combining all score for /media/mario/T7/FINISHED/FINISHED/cdk2/temp/rescoring_RMSD_clustered\n"
     ]
    },
    {
     "name": "stderr",
     "output_type": "stream",
     "text": [
      "Combining scores: 100%|██████████| 7/7 [00:00<00:00, 41.63files/s]\n"
     ]
    },
    {
     "name": "stdout",
     "output_type": "stream",
     "text": [
      "\n",
      "[2023-Mar-28 20:26:30]: Rescoring complete in 5108.3380!\n",
      "The folder: /media/mario/T7/FINISHED/FINISHED/cdk2/temp/rescoring_spyRMSD_clustered already exists\n",
      "\n",
      "[2023-Mar-28 20:26:30]: /gnina_rescoring folder already exists, skipping gnina rescoring\n",
      "\n",
      "[2023-Mar-28 20:26:30]: /AD4_rescoring folder already exists, skipping AD4 rescoring\n",
      "\n",
      "[2023-Mar-28 20:26:30]: /chemplp_rescoring folder already exists, skipping chemplp rescoring\n",
      "\n",
      "[2023-Mar-28 20:26:30]: /rfscorevs_rescoring folder already exists, skipping rfscorevs rescoring\n",
      "\n",
      "[2023-Mar-28 20:26:30]: /LinF9_rescoring folder already exists, skipping LinF9 rescoring\n",
      "The folder: /media/mario/T7/FINISHED/FINISHED/cdk2/temp/rescoring_spyRMSD_clustered/SCORCH_rescoring/ was created\n",
      "\n",
      "[2023-Mar-28 20:26:30]: Converting protein file to .pdbqt ...\n",
      "\n",
      "[2023-Mar-28 20:26:37]: Converting SDF file spyRMSD_clustered.sdf to .pdbqt files...\n",
      "Converted 81821 molecules.\n",
      "\n",
      "[2023-Mar-28 20:28:10]: Rescoring with SCORCH\n",
      "\n",
      "[2023-Mar-28 20:58:23]: Rescoring with SCORCH complete in 1912.4650!\n",
      "The folder: /media/mario/T7/FINISHED/FINISHED/cdk2/temp/rescoring_spyRMSD_clustered/RTMScore_rescoring/ was created\n",
      "\n",
      "[2023-Mar-28 20:58:23]: Rescoring with RTMScore\n",
      "\n",
      "[2023-Mar-28 21:51:22]: Rescoring with RTMScore complete in 3179.5700!\n"
     ]
    },
    {
     "data": {
      "text/plain": [
       "'/media/mario/T7/FINISHED/FINISHED/cdk2/temp/clustering/spyRMSD_clustered.sdf'"
      ]
     },
     "metadata": {},
     "output_type": "display_data"
    },
    {
     "name": "stdout",
     "output_type": "stream",
     "text": [
      "\n",
      "[2023-Mar-28 21:51:22]: Rescoring with Vinardo\n",
      "\n",
      "[2023-Mar-28 21:52:30]: Rescoring with Vinardo complete in 68.1275!\n",
      "\n",
      "[2023-Mar-28 21:52:30]: Combining all score for /media/mario/T7/FINISHED/FINISHED/cdk2/temp/rescoring_spyRMSD_clustered\n"
     ]
    },
    {
     "name": "stderr",
     "output_type": "stream",
     "text": [
      "Combining scores: 100%|██████████| 7/7 [00:00<00:00, 41.27files/s]\n"
     ]
    },
    {
     "name": "stdout",
     "output_type": "stream",
     "text": [
      "\n",
      "[2023-Mar-28 21:52:32]: Rescoring complete in 5161.3223!\n",
      "The folder: /media/mario/T7/FINISHED/FINISHED/cdk2/temp/rescoring_espsim_clustered already exists\n",
      "\n",
      "[2023-Mar-28 21:52:32]: /gnina_rescoring folder already exists, skipping gnina rescoring\n",
      "\n",
      "[2023-Mar-28 21:52:32]: /AD4_rescoring folder already exists, skipping AD4 rescoring\n",
      "\n",
      "[2023-Mar-28 21:52:32]: /chemplp_rescoring folder already exists, skipping chemplp rescoring\n",
      "\n",
      "[2023-Mar-28 21:52:32]: /rfscorevs_rescoring folder already exists, skipping rfscorevs rescoring\n",
      "\n",
      "[2023-Mar-28 21:52:32]: /LinF9_rescoring folder already exists, skipping LinF9 rescoring\n",
      "The folder: /media/mario/T7/FINISHED/FINISHED/cdk2/temp/rescoring_espsim_clustered/SCORCH_rescoring/ was created\n",
      "\n",
      "[2023-Mar-28 21:52:32]: Converting protein file to .pdbqt ...\n",
      "\n",
      "[2023-Mar-28 21:52:39]: Converting SDF file espsim_clustered.sdf to .pdbqt files...\n",
      "Converted 63164 molecules.\n",
      "\n",
      "[2023-Mar-28 21:53:50]: Rescoring with SCORCH\n",
      "\n",
      "[2023-Mar-28 22:17:24]: Rescoring with SCORCH complete in 1491.8859!\n",
      "The folder: /media/mario/T7/FINISHED/FINISHED/cdk2/temp/rescoring_espsim_clustered/RTMScore_rescoring/ was created\n",
      "\n",
      "[2023-Mar-28 22:17:24]: Rescoring with RTMScore\n",
      "\n",
      "[2023-Mar-28 22:58:01]: Rescoring with RTMScore complete in 2437.5785!\n"
     ]
    },
    {
     "data": {
      "text/plain": [
       "'/media/mario/T7/FINISHED/FINISHED/cdk2/temp/clustering/espsim_clustered.sdf'"
      ]
     },
     "metadata": {},
     "output_type": "display_data"
    },
    {
     "name": "stdout",
     "output_type": "stream",
     "text": [
      "\n",
      "[2023-Mar-28 22:58:01]: Rescoring with Vinardo\n",
      "\n",
      "[2023-Mar-28 22:58:54]: Rescoring with Vinardo complete in 52.9456!\n",
      "\n",
      "[2023-Mar-28 22:58:54]: Combining all score for /media/mario/T7/FINISHED/FINISHED/cdk2/temp/rescoring_espsim_clustered\n"
     ]
    },
    {
     "name": "stderr",
     "output_type": "stream",
     "text": [
      "Combining scores: 100%|██████████| 7/7 [00:00<00:00, 55.77files/s]\n"
     ]
    },
    {
     "name": "stdout",
     "output_type": "stream",
     "text": [
      "\n",
      "[2023-Mar-28 22:58:55]: Rescoring complete in 3983.3295!\n",
      "The folder: /media/mario/T7/FINISHED/FINISHED/cdk2/temp/rescoring_3DScore_clustered already exists\n",
      "\n",
      "[2023-Mar-28 22:58:55]: /gnina_rescoring folder already exists, skipping gnina rescoring\n",
      "\n",
      "[2023-Mar-28 22:58:55]: /AD4_rescoring folder already exists, skipping AD4 rescoring\n",
      "\n",
      "[2023-Mar-28 22:58:55]: /chemplp_rescoring folder already exists, skipping chemplp rescoring\n",
      "\n",
      "[2023-Mar-28 22:58:55]: /rfscorevs_rescoring folder already exists, skipping rfscorevs rescoring\n",
      "\n",
      "[2023-Mar-28 22:58:55]: /LinF9_rescoring folder already exists, skipping LinF9 rescoring\n",
      "The folder: /media/mario/T7/FINISHED/FINISHED/cdk2/temp/rescoring_3DScore_clustered/SCORCH_rescoring/ was created\n",
      "\n",
      "[2023-Mar-28 22:58:55]: Converting protein file to .pdbqt ...\n",
      "\n",
      "[2023-Mar-28 22:59:02]: Converting SDF file 3DScore_clustered.sdf to .pdbqt files...\n",
      "Converted 28275 molecules.\n",
      "\n",
      "[2023-Mar-28 22:59:34]: Rescoring with SCORCH\n",
      "\n",
      "[2023-Mar-28 23:10:01]: Rescoring with SCORCH complete in 665.5905!\n",
      "The folder: /media/mario/T7/FINISHED/FINISHED/cdk2/temp/rescoring_3DScore_clustered/RTMScore_rescoring/ was created\n",
      "\n",
      "[2023-Mar-28 23:10:01]: Rescoring with RTMScore\n",
      "\n",
      "[2023-Mar-28 23:28:10]: Rescoring with RTMScore complete in 1088.9816!\n"
     ]
    },
    {
     "data": {
      "text/plain": [
       "'/media/mario/T7/FINISHED/FINISHED/cdk2/temp/clustering/3DScore_clustered.sdf'"
      ]
     },
     "metadata": {},
     "output_type": "display_data"
    },
    {
     "name": "stdout",
     "output_type": "stream",
     "text": [
      "\n",
      "[2023-Mar-28 23:28:10]: Rescoring with Vinardo\n",
      "\n",
      "[2023-Mar-28 23:28:34]: Rescoring with Vinardo complete in 24.5569!\n",
      "\n",
      "[2023-Mar-28 23:28:34]: Combining all score for /media/mario/T7/FINISHED/FINISHED/cdk2/temp/rescoring_3DScore_clustered\n"
     ]
    },
    {
     "name": "stderr",
     "output_type": "stream",
     "text": [
      "Combining scores: 100%|██████████| 7/7 [00:00<00:00, 147.60files/s]\n"
     ]
    },
    {
     "name": "stdout",
     "output_type": "stream",
     "text": [
      "\n",
      "[2023-Mar-28 23:28:35]: Rescoring complete in 1779.5525!\n",
      "The folder: /media/mario/T7/FINISHED/FINISHED/cdk2/temp/rescoring_bestpose_clustered already exists\n",
      "\n",
      "[2023-Mar-28 23:28:35]: /gnina_rescoring folder already exists, skipping gnina rescoring\n",
      "\n",
      "[2023-Mar-28 23:28:35]: /AD4_rescoring folder already exists, skipping AD4 rescoring\n",
      "\n",
      "[2023-Mar-28 23:28:35]: /chemplp_rescoring folder already exists, skipping chemplp rescoring\n",
      "\n",
      "[2023-Mar-28 23:28:35]: /rfscorevs_rescoring folder already exists, skipping rfscorevs rescoring\n",
      "\n",
      "[2023-Mar-28 23:28:35]: /LinF9_rescoring folder already exists, skipping LinF9 rescoring\n",
      "The folder: /media/mario/T7/FINISHED/FINISHED/cdk2/temp/rescoring_bestpose_clustered/SCORCH_rescoring/ was created\n",
      "\n",
      "[2023-Mar-28 23:28:35]: Converting protein file to .pdbqt ...\n",
      "\n",
      "[2023-Mar-28 23:28:42]: Converting SDF file bestpose_clustered.sdf to .pdbqt files...\n",
      "Converted 81958 molecules.\n",
      "\n",
      "[2023-Mar-28 23:30:14]: Rescoring with SCORCH\n",
      "\n",
      "[2023-Mar-29 00:01:28]: Rescoring with SCORCH complete in 1972.9748!\n",
      "The folder: /media/mario/T7/FINISHED/FINISHED/cdk2/temp/rescoring_bestpose_clustered/RTMScore_rescoring/ was created\n",
      "\n",
      "[2023-Mar-29 00:01:28]: Rescoring with RTMScore\n",
      "\n",
      "[2023-Mar-29 00:53:40]: Rescoring with RTMScore complete in 3132.6225!\n"
     ]
    },
    {
     "data": {
      "text/plain": [
       "'/media/mario/T7/FINISHED/FINISHED/cdk2/temp/clustering/bestpose_clustered.sdf'"
      ]
     },
     "metadata": {},
     "output_type": "display_data"
    },
    {
     "name": "stdout",
     "output_type": "stream",
     "text": [
      "\n",
      "[2023-Mar-29 00:53:40]: Rescoring with Vinardo\n",
      "\n",
      "[2023-Mar-29 00:54:49]: Rescoring with Vinardo complete in 69.3289!\n",
      "\n",
      "[2023-Mar-29 00:54:49]: Combining all score for /media/mario/T7/FINISHED/FINISHED/cdk2/temp/rescoring_bestpose_clustered\n"
     ]
    },
    {
     "name": "stderr",
     "output_type": "stream",
     "text": [
      "Combining scores: 100%|██████████| 7/7 [00:00<00:00, 39.26files/s]\n"
     ]
    },
    {
     "name": "stdout",
     "output_type": "stream",
     "text": [
      "\n",
      "[2023-Mar-29 00:54:51]: Rescoring complete in 5176.1197!\n",
      "The folder: /media/mario/T7/FINISHED/FINISHED/cdk2/temp/rescoring_bestpose_GNINA_clustered already exists\n",
      "\n",
      "[2023-Mar-29 00:54:51]: /gnina_rescoring folder already exists, skipping gnina rescoring\n",
      "\n",
      "[2023-Mar-29 00:54:51]: /AD4_rescoring folder already exists, skipping AD4 rescoring\n",
      "\n",
      "[2023-Mar-29 00:54:51]: /chemplp_rescoring folder already exists, skipping chemplp rescoring\n",
      "\n",
      "[2023-Mar-29 00:54:51]: /rfscorevs_rescoring folder already exists, skipping rfscorevs rescoring\n",
      "\n",
      "[2023-Mar-29 00:54:51]: /LinF9_rescoring folder already exists, skipping LinF9 rescoring\n",
      "The folder: /media/mario/T7/FINISHED/FINISHED/cdk2/temp/rescoring_bestpose_GNINA_clustered/SCORCH_rescoring/ was created\n",
      "\n",
      "[2023-Mar-29 00:54:51]: Converting protein file to .pdbqt ...\n",
      "\n",
      "[2023-Mar-29 00:54:58]: Converting SDF file bestpose_GNINA_clustered.sdf to .pdbqt files...\n",
      "Converted 28025 molecules.\n",
      "\n",
      "[2023-Mar-29 00:55:30]: Rescoring with SCORCH\n",
      "\n",
      "[2023-Mar-29 01:06:16]: Rescoring with SCORCH complete in 684.9920!\n",
      "The folder: /media/mario/T7/FINISHED/FINISHED/cdk2/temp/rescoring_bestpose_GNINA_clustered/RTMScore_rescoring/ was created\n",
      "\n",
      "[2023-Mar-29 01:06:16]: Rescoring with RTMScore\n",
      "\n",
      "[2023-Mar-29 01:24:09]: Rescoring with RTMScore complete in 1072.8866!\n"
     ]
    },
    {
     "data": {
      "text/plain": [
       "'/media/mario/T7/FINISHED/FINISHED/cdk2/temp/clustering/bestpose_GNINA_clustered.sdf'"
      ]
     },
     "metadata": {},
     "output_type": "display_data"
    },
    {
     "name": "stdout",
     "output_type": "stream",
     "text": [
      "\n",
      "[2023-Mar-29 01:24:09]: Rescoring with Vinardo\n",
      "\n",
      "[2023-Mar-29 01:24:33]: Rescoring with Vinardo complete in 24.7901!\n",
      "\n",
      "[2023-Mar-29 01:24:33]: Combining all score for /media/mario/T7/FINISHED/FINISHED/cdk2/temp/rescoring_bestpose_GNINA_clustered\n"
     ]
    },
    {
     "name": "stderr",
     "output_type": "stream",
     "text": [
      "Combining scores: 100%|██████████| 7/7 [00:00<00:00, 133.97files/s]\n"
     ]
    },
    {
     "name": "stdout",
     "output_type": "stream",
     "text": [
      "\n",
      "[2023-Mar-29 01:24:34]: Rescoring complete in 1783.0896!\n",
      "The folder: /media/mario/T7/FINISHED/FINISHED/cdk2/temp/rescoring_bestpose_SMINA_clustered already exists\n",
      "\n",
      "[2023-Mar-29 01:24:34]: /gnina_rescoring folder already exists, skipping gnina rescoring\n",
      "\n",
      "[2023-Mar-29 01:24:34]: /AD4_rescoring folder already exists, skipping AD4 rescoring\n",
      "\n",
      "[2023-Mar-29 01:24:34]: /chemplp_rescoring folder already exists, skipping chemplp rescoring\n",
      "\n",
      "[2023-Mar-29 01:24:34]: /rfscorevs_rescoring folder already exists, skipping rfscorevs rescoring\n",
      "\n",
      "[2023-Mar-29 01:24:34]: /LinF9_rescoring folder already exists, skipping LinF9 rescoring\n",
      "The folder: /media/mario/T7/FINISHED/FINISHED/cdk2/temp/rescoring_bestpose_SMINA_clustered/SCORCH_rescoring/ was created\n",
      "\n",
      "[2023-Mar-29 01:24:34]: Converting protein file to .pdbqt ...\n",
      "\n",
      "[2023-Mar-29 01:24:41]: Converting SDF file bestpose_SMINA_clustered.sdf to .pdbqt files...\n",
      "Converted 28025 molecules.\n",
      "\n",
      "[2023-Mar-29 01:25:13]: Rescoring with SCORCH\n",
      "\n",
      "[2023-Mar-29 01:35:59]: Rescoring with SCORCH complete in 685.1741!\n",
      "The folder: /media/mario/T7/FINISHED/FINISHED/cdk2/temp/rescoring_bestpose_SMINA_clustered/RTMScore_rescoring/ was created\n",
      "\n",
      "[2023-Mar-29 01:35:59]: Rescoring with RTMScore\n",
      "\n",
      "[2023-Mar-29 01:53:18]: Rescoring with RTMScore complete in 1038.6527!\n"
     ]
    },
    {
     "data": {
      "text/plain": [
       "'/media/mario/T7/FINISHED/FINISHED/cdk2/temp/clustering/bestpose_SMINA_clustered.sdf'"
      ]
     },
     "metadata": {},
     "output_type": "display_data"
    },
    {
     "name": "stdout",
     "output_type": "stream",
     "text": [
      "\n",
      "[2023-Mar-29 01:53:18]: Rescoring with Vinardo\n",
      "\n",
      "[2023-Mar-29 01:53:42]: Rescoring with Vinardo complete in 24.5196!\n",
      "\n",
      "[2023-Mar-29 01:53:42]: Combining all score for /media/mario/T7/FINISHED/FINISHED/cdk2/temp/rescoring_bestpose_SMINA_clustered\n"
     ]
    },
    {
     "name": "stderr",
     "output_type": "stream",
     "text": [
      "Combining scores: 100%|██████████| 7/7 [00:00<00:00, 145.65files/s]\n"
     ]
    },
    {
     "name": "stdout",
     "output_type": "stream",
     "text": [
      "\n",
      "[2023-Mar-29 01:53:43]: Rescoring complete in 1748.7619!\n",
      "The folder: /media/mario/T7/FINISHED/FINISHED/cdk2/temp/rescoring_bestpose_PLANTS_clustered already exists\n",
      "\n",
      "[2023-Mar-29 01:53:43]: /gnina_rescoring folder already exists, skipping gnina rescoring\n",
      "\n",
      "[2023-Mar-29 01:53:43]: /AD4_rescoring folder already exists, skipping AD4 rescoring\n",
      "\n",
      "[2023-Mar-29 01:53:43]: /chemplp_rescoring folder already exists, skipping chemplp rescoring\n",
      "\n",
      "[2023-Mar-29 01:53:43]: /rfscorevs_rescoring folder already exists, skipping rfscorevs rescoring\n",
      "\n",
      "[2023-Mar-29 01:53:43]: /LinF9_rescoring folder already exists, skipping LinF9 rescoring\n",
      "The folder: /media/mario/T7/FINISHED/FINISHED/cdk2/temp/rescoring_bestpose_PLANTS_clustered/SCORCH_rescoring/ was created\n",
      "\n",
      "[2023-Mar-29 01:53:43]: Converting protein file to .pdbqt ...\n",
      "\n",
      "[2023-Mar-29 01:53:50]: Converting SDF file bestpose_PLANTS_clustered.sdf to .pdbqt files...\n",
      "Converted 25908 molecules.\n",
      "\n",
      "[2023-Mar-29 01:54:20]: Rescoring with SCORCH\n",
      "\n",
      "[2023-Mar-29 02:04:20]: Rescoring with SCORCH complete in 637.8577!\n",
      "The folder: /media/mario/T7/FINISHED/FINISHED/cdk2/temp/rescoring_bestpose_PLANTS_clustered/RTMScore_rescoring/ was created\n",
      "\n",
      "[2023-Mar-29 02:04:20]: Rescoring with RTMScore\n",
      "\n",
      "[2023-Mar-29 02:20:29]: Rescoring with RTMScore complete in 968.5696!\n"
     ]
    },
    {
     "data": {
      "text/plain": [
       "'/media/mario/T7/FINISHED/FINISHED/cdk2/temp/clustering/bestpose_PLANTS_clustered.sdf'"
      ]
     },
     "metadata": {},
     "output_type": "display_data"
    },
    {
     "name": "stdout",
     "output_type": "stream",
     "text": [
      "\n",
      "[2023-Mar-29 02:20:29]: Rescoring with Vinardo\n",
      "\n",
      "[2023-Mar-29 02:20:52]: Rescoring with Vinardo complete in 22.9707!\n",
      "\n",
      "[2023-Mar-29 02:20:52]: Combining all score for /media/mario/T7/FINISHED/FINISHED/cdk2/temp/rescoring_bestpose_PLANTS_clustered\n"
     ]
    },
    {
     "name": "stderr",
     "output_type": "stream",
     "text": [
      "Combining scores: 100%|██████████| 7/7 [00:00<00:00, 158.92files/s]\n"
     ]
    },
    {
     "name": "stdout",
     "output_type": "stream",
     "text": [
      "\n",
      "[2023-Mar-29 02:20:52]: Rescoring complete in 1629.7878!\n",
      "\n",
      "[2023-Mar-29 02:20:52]: Failed for cdk2\n",
      "cox1\n",
      "The working directory has been set to: /media/mario/T7/FINISHED/FINISHED/cox1\n",
      "The folder: /media/mario/T7/FINISHED/FINISHED/cox1/temp already exists\n",
      "The folder: /media/mario/T7/FINISHED/FINISHED/cox1/temp/rescoring_RMSD_clustered already exists\n",
      "\n",
      "[2023-Mar-29 02:20:52]: /gnina_rescoring folder already exists, skipping gnina rescoring\n",
      "\n",
      "[2023-Mar-29 02:20:52]: /AD4_rescoring folder already exists, skipping AD4 rescoring\n",
      "\n",
      "[2023-Mar-29 02:20:52]: /chemplp_rescoring folder already exists, skipping chemplp rescoring\n",
      "\n",
      "[2023-Mar-29 02:20:52]: /rfscorevs_rescoring folder already exists, skipping rfscorevs rescoring\n",
      "\n",
      "[2023-Mar-29 02:20:52]: /LinF9_rescoring folder already exists, skipping LinF9 rescoring\n",
      "The folder: /media/mario/T7/FINISHED/FINISHED/cox1/temp/rescoring_RMSD_clustered/SCORCH_rescoring/ was created\n",
      "\n",
      "[2023-Mar-29 02:20:52]: Converting protein file to .pdbqt ...\n",
      "\n",
      "[2023-Mar-29 02:21:20]: Converting SDF file RMSD_clustered.sdf to .pdbqt files...\n",
      "Converted 34418 molecules.\n",
      "\n",
      "[2023-Mar-29 02:21:54]: Rescoring with SCORCH\n",
      "\n",
      "[2023-Mar-29 02:56:32]: Rescoring with SCORCH complete in 2139.6418!\n",
      "The folder: /media/mario/T7/FINISHED/FINISHED/cox1/temp/rescoring_RMSD_clustered/RTMScore_rescoring/ was created\n",
      "\n",
      "[2023-Mar-29 02:56:32]: Rescoring with RTMScore\n",
      "\n",
      "[2023-Mar-29 03:24:30]: Rescoring with RTMScore complete in 1677.7140!\n"
     ]
    },
    {
     "data": {
      "text/plain": [
       "'/media/mario/T7/FINISHED/FINISHED/cox1/temp/clustering/RMSD_clustered.sdf'"
      ]
     },
     "metadata": {},
     "output_type": "display_data"
    },
    {
     "name": "stdout",
     "output_type": "stream",
     "text": [
      "\n",
      "[2023-Mar-29 03:24:30]: Rescoring with Vinardo\n",
      "\n",
      "[2023-Mar-29 03:24:59]: Rescoring with Vinardo complete in 29.7302!\n",
      "\n",
      "[2023-Mar-29 03:24:59]: Combining all score for /media/mario/T7/FINISHED/FINISHED/cox1/temp/rescoring_RMSD_clustered\n"
     ]
    },
    {
     "name": "stderr",
     "output_type": "stream",
     "text": [
      "Combining scores: 100%|██████████| 7/7 [00:00<00:00, 112.24files/s]\n"
     ]
    },
    {
     "name": "stdout",
     "output_type": "stream",
     "text": [
      "\n",
      "[2023-Mar-29 03:25:00]: Rescoring complete in 3847.5877!\n",
      "The folder: /media/mario/T7/FINISHED/FINISHED/cox1/temp/rescoring_spyRMSD_clustered already exists\n",
      "\n",
      "[2023-Mar-29 03:25:00]: /gnina_rescoring folder already exists, skipping gnina rescoring\n",
      "\n",
      "[2023-Mar-29 03:25:00]: /AD4_rescoring folder already exists, skipping AD4 rescoring\n",
      "\n",
      "[2023-Mar-29 03:25:00]: /chemplp_rescoring folder already exists, skipping chemplp rescoring\n",
      "\n",
      "[2023-Mar-29 03:25:00]: /rfscorevs_rescoring folder already exists, skipping rfscorevs rescoring\n",
      "\n",
      "[2023-Mar-29 03:25:00]: /LinF9_rescoring folder already exists, skipping LinF9 rescoring\n",
      "The folder: /media/mario/T7/FINISHED/FINISHED/cox1/temp/rescoring_spyRMSD_clustered/SCORCH_rescoring/ was created\n",
      "\n",
      "[2023-Mar-29 03:25:00]: Converting protein file to .pdbqt ...\n",
      "\n",
      "[2023-Mar-29 03:25:28]: Converting SDF file spyRMSD_clustered.sdf to .pdbqt files...\n",
      "Converted 34740 molecules.\n",
      "\n",
      "[2023-Mar-29 03:26:02]: Rescoring with SCORCH\n",
      "\n",
      "[2023-Mar-29 04:01:05]: Rescoring with SCORCH complete in 2165.2043!\n",
      "The folder: /media/mario/T7/FINISHED/FINISHED/cox1/temp/rescoring_spyRMSD_clustered/RTMScore_rescoring/ was created\n",
      "\n",
      "[2023-Mar-29 04:01:05]: Rescoring with RTMScore\n",
      "\n",
      "[2023-Mar-29 04:29:14]: Rescoring with RTMScore complete in 1688.4893!\n"
     ]
    },
    {
     "data": {
      "text/plain": [
       "'/media/mario/T7/FINISHED/FINISHED/cox1/temp/clustering/spyRMSD_clustered.sdf'"
      ]
     },
     "metadata": {},
     "output_type": "display_data"
    },
    {
     "name": "stdout",
     "output_type": "stream",
     "text": [
      "\n",
      "[2023-Mar-29 04:29:14]: Rescoring with Vinardo\n",
      "\n",
      "[2023-Mar-29 04:29:43]: Rescoring with Vinardo complete in 29.7864!\n",
      "\n",
      "[2023-Mar-29 04:29:43]: Combining all score for /media/mario/T7/FINISHED/FINISHED/cox1/temp/rescoring_spyRMSD_clustered\n"
     ]
    },
    {
     "name": "stderr",
     "output_type": "stream",
     "text": [
      "Combining scores: 100%|██████████| 7/7 [00:00<00:00, 110.75files/s]\n"
     ]
    },
    {
     "name": "stdout",
     "output_type": "stream",
     "text": [
      "\n",
      "[2023-Mar-29 04:29:44]: Rescoring complete in 3883.9937!\n",
      "The folder: /media/mario/T7/FINISHED/FINISHED/cox1/temp/rescoring_espsim_clustered already exists\n",
      "\n",
      "[2023-Mar-29 04:29:44]: /gnina_rescoring folder already exists, skipping gnina rescoring\n",
      "\n",
      "[2023-Mar-29 04:29:44]: /AD4_rescoring folder already exists, skipping AD4 rescoring\n",
      "\n",
      "[2023-Mar-29 04:29:44]: /chemplp_rescoring folder already exists, skipping chemplp rescoring\n",
      "\n",
      "[2023-Mar-29 04:29:44]: /rfscorevs_rescoring folder already exists, skipping rfscorevs rescoring\n",
      "\n",
      "[2023-Mar-29 04:29:44]: /LinF9_rescoring folder already exists, skipping LinF9 rescoring\n",
      "The folder: /media/mario/T7/FINISHED/FINISHED/cox1/temp/rescoring_espsim_clustered/SCORCH_rescoring/ was created\n",
      "\n",
      "[2023-Mar-29 04:29:44]: Converting protein file to .pdbqt ...\n",
      "\n",
      "[2023-Mar-29 04:30:12]: Converting SDF file espsim_clustered.sdf to .pdbqt files...\n",
      "Converted 23984 molecules.\n",
      "\n",
      "[2023-Mar-29 04:30:35]: Rescoring with SCORCH\n",
      "\n",
      "[2023-Mar-29 04:54:56]: Rescoring with SCORCH complete in 1512.4714!\n",
      "The folder: /media/mario/T7/FINISHED/FINISHED/cox1/temp/rescoring_espsim_clustered/RTMScore_rescoring/ was created\n",
      "\n",
      "[2023-Mar-29 04:54:56]: Rescoring with RTMScore\n",
      "\n",
      "[2023-Mar-29 05:14:25]: Rescoring with RTMScore complete in 1169.0405!\n"
     ]
    },
    {
     "data": {
      "text/plain": [
       "'/media/mario/T7/FINISHED/FINISHED/cox1/temp/clustering/espsim_clustered.sdf'"
      ]
     },
     "metadata": {},
     "output_type": "display_data"
    },
    {
     "name": "stdout",
     "output_type": "stream",
     "text": [
      "\n",
      "[2023-Mar-29 05:14:25]: Rescoring with Vinardo\n",
      "\n",
      "[2023-Mar-29 05:14:47]: Rescoring with Vinardo complete in 21.2096!\n",
      "\n",
      "[2023-Mar-29 05:14:47]: Combining all score for /media/mario/T7/FINISHED/FINISHED/cox1/temp/rescoring_espsim_clustered\n"
     ]
    },
    {
     "name": "stderr",
     "output_type": "stream",
     "text": [
      "Combining scores: 100%|██████████| 7/7 [00:00<00:00, 162.67files/s]\n"
     ]
    },
    {
     "name": "stdout",
     "output_type": "stream",
     "text": [
      "\n",
      "[2023-Mar-29 05:14:47]: Rescoring complete in 2703.0922!\n",
      "The folder: /media/mario/T7/FINISHED/FINISHED/cox1/temp/rescoring_3DScore_clustered already exists\n",
      "\n",
      "[2023-Mar-29 05:14:47]: /gnina_rescoring folder already exists, skipping gnina rescoring\n",
      "\n",
      "[2023-Mar-29 05:14:47]: /AD4_rescoring folder already exists, skipping AD4 rescoring\n",
      "\n",
      "[2023-Mar-29 05:14:47]: /chemplp_rescoring folder already exists, skipping chemplp rescoring\n",
      "\n",
      "[2023-Mar-29 05:14:47]: /rfscorevs_rescoring folder already exists, skipping rfscorevs rescoring\n",
      "\n",
      "[2023-Mar-29 05:14:47]: /LinF9_rescoring folder already exists, skipping LinF9 rescoring\n",
      "The folder: /media/mario/T7/FINISHED/FINISHED/cox1/temp/rescoring_3DScore_clustered/SCORCH_rescoring/ was created\n",
      "\n",
      "[2023-Mar-29 05:14:47]: Converting protein file to .pdbqt ...\n",
      "\n",
      "[2023-Mar-29 05:15:15]: Converting SDF file 3DScore_clustered.sdf to .pdbqt files...\n",
      "Converted 10125 molecules.\n",
      "\n",
      "[2023-Mar-29 05:15:25]: Rescoring with SCORCH\n",
      "\n",
      "[2023-Mar-29 05:25:40]: Rescoring with SCORCH complete in 652.7957!\n",
      "The folder: /media/mario/T7/FINISHED/FINISHED/cox1/temp/rescoring_3DScore_clustered/RTMScore_rescoring/ was created\n",
      "\n",
      "[2023-Mar-29 05:25:40]: Rescoring with RTMScore\n",
      "\n",
      "[2023-Mar-29 05:33:58]: Rescoring with RTMScore complete in 498.6777!\n"
     ]
    },
    {
     "data": {
      "text/plain": [
       "'/media/mario/T7/FINISHED/FINISHED/cox1/temp/clustering/3DScore_clustered.sdf'"
      ]
     },
     "metadata": {},
     "output_type": "display_data"
    },
    {
     "name": "stdout",
     "output_type": "stream",
     "text": [
      "\n",
      "[2023-Mar-29 05:33:58]: Rescoring with Vinardo\n",
      "\n",
      "[2023-Mar-29 05:34:09]: Rescoring with Vinardo complete in 10.1829!\n",
      "\n",
      "[2023-Mar-29 05:34:09]: Combining all score for /media/mario/T7/FINISHED/FINISHED/cox1/temp/rescoring_3DScore_clustered\n"
     ]
    },
    {
     "name": "stderr",
     "output_type": "stream",
     "text": [
      "Combining scores: 100%|██████████| 7/7 [00:00<00:00, 326.25files/s]"
     ]
    },
    {
     "name": "stdout",
     "output_type": "stream",
     "text": [
      "\n",
      "[2023-Mar-29 05:34:09]: Rescoring complete in 1161.8353!\n",
      "The folder: /media/mario/T7/FINISHED/FINISHED/cox1/temp/rescoring_bestpose_clustered already exists\n",
      "\n",
      "[2023-Mar-29 05:34:09]: /gnina_rescoring folder already exists, skipping gnina rescoring\n",
      "\n",
      "[2023-Mar-29 05:34:09]: /AD4_rescoring folder already exists, skipping AD4 rescoring\n",
      "\n",
      "[2023-Mar-29 05:34:09]: /chemplp_rescoring folder already exists, skipping chemplp rescoring\n",
      "\n",
      "[2023-Mar-29 05:34:09]: /rfscorevs_rescoring folder already exists, skipping rfscorevs rescoring\n",
      "\n",
      "[2023-Mar-29 05:34:09]: /LinF9_rescoring folder already exists, skipping LinF9 rescoring\n",
      "The folder: /media/mario/T7/FINISHED/FINISHED/cox1/temp/rescoring_bestpose_clustered/SCORCH_rescoring/ was created\n",
      "\n",
      "[2023-Mar-29 05:34:09]: Converting protein file to .pdbqt ...\n"
     ]
    },
    {
     "name": "stderr",
     "output_type": "stream",
     "text": [
      "\n"
     ]
    },
    {
     "name": "stdout",
     "output_type": "stream",
     "text": [
      "\n",
      "[2023-Mar-29 05:34:37]: Converting SDF file bestpose_clustered.sdf to .pdbqt files...\n",
      "Converted 23101 molecules.\n",
      "\n",
      "[2023-Mar-29 05:35:00]: Rescoring with SCORCH\n",
      "\n",
      "[2023-Mar-29 05:58:30]: Rescoring with SCORCH complete in 1460.9330!\n",
      "The folder: /media/mario/T7/FINISHED/FINISHED/cox1/temp/rescoring_bestpose_clustered/RTMScore_rescoring/ was created\n",
      "\n",
      "[2023-Mar-29 05:58:30]: Rescoring with RTMScore\n",
      "\n",
      "[2023-Mar-29 06:17:14]: Rescoring with RTMScore complete in 1123.7993!\n"
     ]
    },
    {
     "data": {
      "text/plain": [
       "'/media/mario/T7/FINISHED/FINISHED/cox1/temp/clustering/bestpose_clustered.sdf'"
      ]
     },
     "metadata": {},
     "output_type": "display_data"
    },
    {
     "name": "stdout",
     "output_type": "stream",
     "text": [
      "\n",
      "[2023-Mar-29 06:17:14]: Rescoring with Vinardo\n",
      "\n",
      "[2023-Mar-29 06:17:34]: Rescoring with Vinardo complete in 20.5922!\n",
      "\n",
      "[2023-Mar-29 06:17:34]: Combining all score for /media/mario/T7/FINISHED/FINISHED/cox1/temp/rescoring_bestpose_clustered\n"
     ]
    },
    {
     "name": "stderr",
     "output_type": "stream",
     "text": [
      "Combining scores: 100%|██████████| 7/7 [00:00<00:00, 169.48files/s]\n"
     ]
    },
    {
     "name": "stdout",
     "output_type": "stream",
     "text": [
      "\n",
      "[2023-Mar-29 06:17:35]: Rescoring complete in 2605.6825!\n",
      "The folder: /media/mario/T7/FINISHED/FINISHED/cox1/temp/rescoring_bestpose_GNINA_clustered already exists\n",
      "\n",
      "[2023-Mar-29 06:17:35]: /gnina_rescoring folder already exists, skipping gnina rescoring\n",
      "\n",
      "[2023-Mar-29 06:17:35]: /AD4_rescoring folder already exists, skipping AD4 rescoring\n",
      "\n",
      "[2023-Mar-29 06:17:35]: /chemplp_rescoring folder already exists, skipping chemplp rescoring\n",
      "\n",
      "[2023-Mar-29 06:17:35]: /rfscorevs_rescoring folder already exists, skipping rfscorevs rescoring\n",
      "\n",
      "[2023-Mar-29 06:17:35]: /LinF9_rescoring folder already exists, skipping LinF9 rescoring\n",
      "The folder: /media/mario/T7/FINISHED/FINISHED/cox1/temp/rescoring_bestpose_GNINA_clustered/SCORCH_rescoring/ was created\n",
      "\n",
      "[2023-Mar-29 06:17:35]: Converting protein file to .pdbqt ...\n",
      "\n",
      "[2023-Mar-29 06:18:03]: Converting SDF file bestpose_GNINA_clustered.sdf to .pdbqt files...\n",
      "Converted 10124 molecules.\n",
      "\n",
      "[2023-Mar-29 06:18:12]: Rescoring with SCORCH\n",
      "\n",
      "[2023-Mar-29 06:28:40]: Rescoring with SCORCH complete in 665.5712!\n",
      "The folder: /media/mario/T7/FINISHED/FINISHED/cox1/temp/rescoring_bestpose_GNINA_clustered/RTMScore_rescoring/ was created\n",
      "\n",
      "[2023-Mar-29 06:28:40]: Rescoring with RTMScore\n",
      "\n",
      "[2023-Mar-29 06:36:57]: Rescoring with RTMScore complete in 497.1243!\n"
     ]
    },
    {
     "data": {
      "text/plain": [
       "'/media/mario/T7/FINISHED/FINISHED/cox1/temp/clustering/bestpose_GNINA_clustered.sdf'"
      ]
     },
     "metadata": {},
     "output_type": "display_data"
    },
    {
     "name": "stdout",
     "output_type": "stream",
     "text": [
      "\n",
      "[2023-Mar-29 06:36:57]: Rescoring with Vinardo\n",
      "\n",
      "[2023-Mar-29 06:37:07]: Rescoring with Vinardo complete in 10.1155!\n",
      "\n",
      "[2023-Mar-29 06:37:07]: Combining all score for /media/mario/T7/FINISHED/FINISHED/cox1/temp/rescoring_bestpose_GNINA_clustered\n"
     ]
    },
    {
     "name": "stderr",
     "output_type": "stream",
     "text": [
      "Combining scores: 100%|██████████| 7/7 [00:00<00:00, 336.08files/s]"
     ]
    },
    {
     "name": "stdout",
     "output_type": "stream",
     "text": [
      "\n",
      "[2023-Mar-29 06:37:07]: Rescoring complete in 1172.9901!\n",
      "The folder: /media/mario/T7/FINISHED/FINISHED/cox1/temp/rescoring_bestpose_SMINA_clustered already exists\n",
      "\n",
      "[2023-Mar-29 06:37:07]: /gnina_rescoring folder already exists, skipping gnina rescoring\n",
      "\n",
      "[2023-Mar-29 06:37:07]: /AD4_rescoring folder already exists, skipping AD4 rescoring\n",
      "\n",
      "[2023-Mar-29 06:37:07]: /chemplp_rescoring folder already exists, skipping chemplp rescoring\n",
      "\n",
      "[2023-Mar-29 06:37:07]: /rfscorevs_rescoring folder already exists, skipping rfscorevs rescoring\n",
      "\n",
      "[2023-Mar-29 06:37:07]: /LinF9_rescoring folder already exists, skipping LinF9 rescoring\n",
      "The folder: /media/mario/T7/FINISHED/FINISHED/cox1/temp/rescoring_bestpose_SMINA_clustered/SCORCH_rescoring/ was created\n",
      "\n",
      "[2023-Mar-29 06:37:07]: Converting protein file to .pdbqt ...\n"
     ]
    },
    {
     "name": "stderr",
     "output_type": "stream",
     "text": [
      "\n"
     ]
    },
    {
     "name": "stdout",
     "output_type": "stream",
     "text": [
      "\n",
      "[2023-Mar-29 06:37:36]: Converting SDF file bestpose_SMINA_clustered.sdf to .pdbqt files...\n",
      "Converted 10124 molecules.\n",
      "\n",
      "[2023-Mar-29 06:37:46]: Rescoring with SCORCH\n",
      "\n",
      "[2023-Mar-29 06:48:10]: Rescoring with SCORCH complete in 662.2458!\n",
      "The folder: /media/mario/T7/FINISHED/FINISHED/cox1/temp/rescoring_bestpose_SMINA_clustered/RTMScore_rescoring/ was created\n",
      "\n",
      "[2023-Mar-29 06:48:10]: Rescoring with RTMScore\n",
      "\n",
      "[2023-Mar-29 06:56:26]: Rescoring with RTMScore complete in 496.1029!\n"
     ]
    },
    {
     "data": {
      "text/plain": [
       "'/media/mario/T7/FINISHED/FINISHED/cox1/temp/clustering/bestpose_SMINA_clustered.sdf'"
      ]
     },
     "metadata": {},
     "output_type": "display_data"
    },
    {
     "name": "stdout",
     "output_type": "stream",
     "text": [
      "\n",
      "[2023-Mar-29 06:56:26]: Rescoring with Vinardo\n",
      "\n",
      "[2023-Mar-29 06:56:36]: Rescoring with Vinardo complete in 10.0468!\n",
      "\n",
      "[2023-Mar-29 06:56:36]: Combining all score for /media/mario/T7/FINISHED/FINISHED/cox1/temp/rescoring_bestpose_SMINA_clustered\n"
     ]
    },
    {
     "name": "stderr",
     "output_type": "stream",
     "text": [
      "Combining scores: 100%|██████████| 7/7 [00:00<00:00, 337.69files/s]"
     ]
    },
    {
     "name": "stdout",
     "output_type": "stream",
     "text": [
      "\n",
      "[2023-Mar-29 06:56:36]: Rescoring complete in 1168.5648!\n",
      "The folder: /media/mario/T7/FINISHED/FINISHED/cox1/temp/rescoring_bestpose_PLANTS_clustered already exists\n",
      "\n",
      "[2023-Mar-29 06:56:36]: /gnina_rescoring folder already exists, skipping gnina rescoring\n",
      "\n",
      "[2023-Mar-29 06:56:36]: /AD4_rescoring folder already exists, skipping AD4 rescoring\n",
      "\n",
      "[2023-Mar-29 06:56:36]: /chemplp_rescoring folder already exists, skipping chemplp rescoring\n",
      "\n",
      "[2023-Mar-29 06:56:36]: /rfscorevs_rescoring folder already exists, skipping rfscorevs rescoring\n",
      "\n",
      "[2023-Mar-29 06:56:36]: /LinF9_rescoring folder already exists, skipping LinF9 rescoring\n",
      "The folder: /media/mario/T7/FINISHED/FINISHED/cox1/temp/rescoring_bestpose_PLANTS_clustered/SCORCH_rescoring/ was created\n",
      "\n",
      "[2023-Mar-29 06:56:36]: Converting protein file to .pdbqt ...\n"
     ]
    },
    {
     "name": "stderr",
     "output_type": "stream",
     "text": [
      "\n"
     ]
    },
    {
     "name": "stdout",
     "output_type": "stream",
     "text": [
      "\n",
      "[2023-Mar-29 06:57:04]: Converting SDF file bestpose_PLANTS_clustered.sdf to .pdbqt files...\n",
      "Converted 2853 molecules.\n",
      "\n",
      "[2023-Mar-29 06:57:07]: Rescoring with SCORCH\n",
      "\n",
      "[2023-Mar-29 07:00:02]: Rescoring with SCORCH complete in 205.9071!\n",
      "The folder: /media/mario/T7/FINISHED/FINISHED/cox1/temp/rescoring_bestpose_PLANTS_clustered/RTMScore_rescoring/ was created\n",
      "\n",
      "[2023-Mar-29 07:00:02]: Rescoring with RTMScore\n",
      "\n",
      "[2023-Mar-29 07:02:24]: Rescoring with RTMScore complete in 141.6814!\n"
     ]
    },
    {
     "data": {
      "text/plain": [
       "'/media/mario/T7/FINISHED/FINISHED/cox1/temp/clustering/bestpose_PLANTS_clustered.sdf'"
      ]
     },
     "metadata": {},
     "output_type": "display_data"
    },
    {
     "name": "stdout",
     "output_type": "stream",
     "text": [
      "\n",
      "[2023-Mar-29 07:02:24]: Rescoring with Vinardo\n",
      "\n",
      "[2023-Mar-29 07:02:28]: Rescoring with Vinardo complete in 4.1027!\n",
      "\n",
      "[2023-Mar-29 07:02:28]: Combining all score for /media/mario/T7/FINISHED/FINISHED/cox1/temp/rescoring_bestpose_PLANTS_clustered\n"
     ]
    },
    {
     "name": "stderr",
     "output_type": "stream",
     "text": [
      "Combining scores: 100%|██████████| 7/7 [00:00<00:00, 769.92files/s]"
     ]
    },
    {
     "name": "stdout",
     "output_type": "stream",
     "text": [
      "\n",
      "[2023-Mar-29 07:02:28]: Rescoring complete in 351.7584!\n",
      "\n",
      "[2023-Mar-29 07:02:28]: Failed for cox1\n",
      "dhi1\n",
      "The working directory has been set to: /media/mario/T7/FINISHED/FINISHED/dhi1\n",
      "The folder: /media/mario/T7/FINISHED/FINISHED/dhi1/temp already exists\n",
      "The folder: /media/mario/T7/FINISHED/FINISHED/dhi1/temp/rescoring_RMSD_clustered already exists\n",
      "\n",
      "[2023-Mar-29 07:02:28]: /gnina_rescoring folder already exists, skipping gnina rescoring\n",
      "\n",
      "[2023-Mar-29 07:02:28]: /AD4_rescoring folder already exists, skipping AD4 rescoring\n",
      "\n",
      "[2023-Mar-29 07:02:28]: /chemplp_rescoring folder already exists, skipping chemplp rescoring\n",
      "\n",
      "[2023-Mar-29 07:02:28]: /rfscorevs_rescoring folder already exists, skipping rfscorevs rescoring\n",
      "\n",
      "[2023-Mar-29 07:02:28]: /LinF9_rescoring folder already exists, skipping LinF9 rescoring\n",
      "The folder: /media/mario/T7/FINISHED/FINISHED/dhi1/temp/rescoring_RMSD_clustered/SCORCH_rescoring/ was created\n",
      "\n",
      "[2023-Mar-29 07:02:28]: Converting protein file to .pdbqt ...\n"
     ]
    },
    {
     "name": "stderr",
     "output_type": "stream",
     "text": [
      "\n"
     ]
    },
    {
     "name": "stdout",
     "output_type": "stream",
     "text": [
      "\n",
      "[2023-Mar-29 07:02:39]: Converting SDF file RMSD_clustered.sdf to .pdbqt files...\n",
      "Converted 57950 molecules.\n",
      "\n",
      "[2023-Mar-29 07:03:43]: Rescoring with SCORCH\n",
      "\n",
      "[2023-Mar-29 08:00:40]: Rescoring with SCORCH complete in 3491.9194!\n",
      "The folder: /media/mario/T7/FINISHED/FINISHED/dhi1/temp/rescoring_RMSD_clustered/RTMScore_rescoring/ was created\n",
      "\n",
      "[2023-Mar-29 08:00:40]: Rescoring with RTMScore\n",
      "\n",
      "[2023-Mar-29 08:41:32]: Rescoring with RTMScore complete in 2452.3537!\n"
     ]
    },
    {
     "data": {
      "text/plain": [
       "'/media/mario/T7/FINISHED/FINISHED/dhi1/temp/clustering/RMSD_clustered.sdf'"
      ]
     },
     "metadata": {},
     "output_type": "display_data"
    },
    {
     "name": "stdout",
     "output_type": "stream",
     "text": [
      "\n",
      "[2023-Mar-29 08:41:32]: Rescoring with Vinardo\n",
      "\n",
      "[2023-Mar-29 08:42:23]: Rescoring with Vinardo complete in 50.8704!\n",
      "\n",
      "[2023-Mar-29 08:42:23]: Combining all score for /media/mario/T7/FINISHED/FINISHED/dhi1/temp/rescoring_RMSD_clustered\n"
     ]
    },
    {
     "name": "stderr",
     "output_type": "stream",
     "text": [
      "Combining scores: 100%|██████████| 7/7 [00:00<00:00, 63.23files/s]\n"
     ]
    },
    {
     "name": "stdout",
     "output_type": "stream",
     "text": [
      "\n",
      "[2023-Mar-29 08:42:24]: Rescoring complete in 5995.9788!\n",
      "The folder: /media/mario/T7/FINISHED/FINISHED/dhi1/temp/rescoring_spyRMSD_clustered already exists\n",
      "\n",
      "[2023-Mar-29 08:42:24]: /gnina_rescoring folder already exists, skipping gnina rescoring\n",
      "\n",
      "[2023-Mar-29 08:42:24]: /AD4_rescoring folder already exists, skipping AD4 rescoring\n",
      "\n",
      "[2023-Mar-29 08:42:24]: /chemplp_rescoring folder already exists, skipping chemplp rescoring\n",
      "\n",
      "[2023-Mar-29 08:42:24]: /rfscorevs_rescoring folder already exists, skipping rfscorevs rescoring\n",
      "\n",
      "[2023-Mar-29 08:42:24]: /LinF9_rescoring folder already exists, skipping LinF9 rescoring\n",
      "The folder: /media/mario/T7/FINISHED/FINISHED/dhi1/temp/rescoring_spyRMSD_clustered/SCORCH_rescoring/ was created\n",
      "\n",
      "[2023-Mar-29 08:42:24]: Converting protein file to .pdbqt ...\n",
      "\n",
      "[2023-Mar-29 08:42:35]: Converting SDF file spyRMSD_clustered.sdf to .pdbqt files...\n",
      "Converted 58367 molecules.\n",
      "\n",
      "[2023-Mar-29 08:43:39]: Rescoring with SCORCH\n",
      "\n",
      "[2023-Mar-29 09:49:25]: Rescoring with SCORCH complete in 4021.3652!\n",
      "The folder: /media/mario/T7/FINISHED/FINISHED/dhi1/temp/rescoring_spyRMSD_clustered/RTMScore_rescoring/ was created\n",
      "\n",
      "[2023-Mar-29 09:49:25]: Rescoring with RTMScore\n",
      "\n",
      "[2023-Mar-29 10:55:58]: Rescoring with RTMScore complete in 3993.1165!\n"
     ]
    },
    {
     "data": {
      "text/plain": [
       "'/media/mario/T7/FINISHED/FINISHED/dhi1/temp/clustering/spyRMSD_clustered.sdf'"
      ]
     },
     "metadata": {},
     "output_type": "display_data"
    },
    {
     "name": "stdout",
     "output_type": "stream",
     "text": [
      "\n",
      "[2023-Mar-29 10:55:58]: Rescoring with Vinardo\n",
      "\n",
      "[2023-Mar-29 10:57:12]: Rescoring with Vinardo complete in 73.4871!\n",
      "\n",
      "[2023-Mar-29 10:57:12]: Combining all score for /media/mario/T7/FINISHED/FINISHED/dhi1/temp/rescoring_spyRMSD_clustered\n"
     ]
    },
    {
     "name": "stderr",
     "output_type": "stream",
     "text": [
      "Combining scores: 100%|██████████| 7/7 [00:00<00:00, 37.45files/s]\n"
     ]
    },
    {
     "name": "stdout",
     "output_type": "stream",
     "text": [
      "\n",
      "[2023-Mar-29 10:57:13]: Rescoring complete in 8089.2746!\n",
      "The folder: /media/mario/T7/FINISHED/FINISHED/dhi1/temp/rescoring_espsim_clustered already exists\n",
      "\n",
      "[2023-Mar-29 10:57:13]: /gnina_rescoring folder already exists, skipping gnina rescoring\n",
      "\n",
      "[2023-Mar-29 10:57:13]: /AD4_rescoring folder already exists, skipping AD4 rescoring\n",
      "\n",
      "[2023-Mar-29 10:57:13]: /chemplp_rescoring folder already exists, skipping chemplp rescoring\n",
      "\n",
      "[2023-Mar-29 10:57:13]: /rfscorevs_rescoring folder already exists, skipping rfscorevs rescoring\n",
      "\n",
      "[2023-Mar-29 10:57:13]: /LinF9_rescoring folder already exists, skipping LinF9 rescoring\n",
      "The folder: /media/mario/T7/FINISHED/FINISHED/dhi1/temp/rescoring_espsim_clustered/SCORCH_rescoring/ was created\n",
      "\n",
      "[2023-Mar-29 10:57:13]: Converting protein file to .pdbqt ...\n",
      "\n",
      "[2023-Mar-29 10:57:28]: Converting SDF file espsim_clustered.sdf to .pdbqt files...\n",
      "Converted 41903 molecules.\n",
      "\n",
      "[2023-Mar-29 10:58:41]: Rescoring with SCORCH\n"
     ]
    }
   ],
   "source": [
    "import os\n",
    "from scripts.library_preparation import *\n",
    "from scripts.utilities import *\n",
    "from scripts.docking_functions import *\n",
    "from scripts.clustering_functions import *\n",
    "from scripts.rescoring_functions import *\n",
    "from scripts.ranking_functions import *\n",
    "from scripts.performance_calculation import *\n",
    "from scripts.dogsitescorer import *\n",
    "from scripts.get_pocket import *\n",
    "\n",
    "for dir in os.listdir('/media/mario/T7/FINISHED/FINISHED/'):\n",
    "    print(dir)\n",
    "    software = '/home/mario/DockM8/software'\n",
    "    protein_file = f'/media/mario/T7/FINISHED/FINISHED/{dir}/receptor_protoss_prepared.pdb'\n",
    "    ref_file = f'/media/mario/T7/FINISHED/FINISHED/{dir}/crystal_ligand_protoss.sdf'\n",
    "    pocket = 'reference'\n",
    "    protonation = 'pkasolver'\n",
    "    docking_library = f'/media/mario/T7/FINISHED/FINISHED/{dir}/merged_actives_decoys.sdf'\n",
    "    docking_programs = ['GNINA', 'SMINA', 'PLANTS']\n",
    "    clustering_metrics = ['RMSD', 'spyRMSD', 'espsim', '3DScore', 'bestpose', 'bestpose_GNINA', 'bestpose_SMINA', 'bestpose_PLANTS']\n",
    "    clustering_method = 'KMedoids'\n",
    "    rescoring= ['gnina', 'AD4', 'chemplp', 'rfscorevs', 'LinF9', 'SCORCH', 'RTMScore', 'vinardo']\n",
    "    id_column = 'ID'\n",
    "    n_poses = 10\n",
    "    exhaustiveness = 8\n",
    "    parallel = 1\n",
    "    ncpus = int(os.cpu_count()/2)\n",
    "    #Create a temporary folder for all further calculations\n",
    "    w_dir = os.path.dirname(protein_file)\n",
    "    print('The working directory has been set to:', w_dir)\n",
    "    create_temp_folder(w_dir+'/temp')\n",
    "    \n",
    "    try:   \n",
    "        for metric in clustering_metrics:\n",
    "            rescore_all(w_dir, protein_file, ref_file, software, w_dir+f'/temp/clustering/{metric}_clustered.sdf', rescoring, parallel, ncpus)\n",
    "            \n",
    "        apply_consensus_methods_combinations(w_dir, clustering_metrics)       \n",
    "    except:\n",
    "        printlog(f'Failed for {dir}')\n"
   ]
  }
 ],
 "metadata": {
  "kernelspec": {
   "display_name": "Python 3.8.13 ('wocondock')",
   "language": "python",
   "name": "python3"
  },
  "language_info": {
   "codemirror_mode": {
    "name": "ipython",
    "version": 3
   },
   "file_extension": ".py",
   "mimetype": "text/x-python",
   "name": "python",
   "nbconvert_exporter": "python",
   "pygments_lexer": "ipython3",
   "version": "3.8.15"
  },
  "orig_nbformat": 4,
  "vscode": {
   "interpreter": {
    "hash": "ac9acbc93af693fb4e01b586b9d883cf48eab2850c268069ebbf85c5f9fbe2b9"
   }
  }
 },
 "nbformat": 4,
 "nbformat_minor": 2
}
