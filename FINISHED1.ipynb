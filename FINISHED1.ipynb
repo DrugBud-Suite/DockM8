{
 "cells": [
  {
   "attachments": {},
   "cell_type": "markdown",
   "metadata": {},
   "source": [
    "**Import required libraries and scripts**"
   ]
  },
  {
   "cell_type": "code",
   "execution_count": 1,
   "metadata": {},
   "outputs": [
    {
     "name": "stderr",
     "output_type": "stream",
     "text": [
      "[22:02:43] Initializing Normalizer\n",
      "/home/alacournola/anaconda3/envs/dockm8/lib/python3.8/site-packages/Bio/pairwise2.py:278: BiopythonDeprecationWarning: Bio.pairwise2 has been deprecated, and we intend to remove it in a future release of Biopython. As an alternative, please consider using Bio.Align.PairwiseAligner as a replacement, and contact the Biopython developers if you still need the Bio.pairwise2 module.\n",
      "  warnings.warn(\n",
      "/home/alacournola/anaconda3/envs/dockm8/lib/python3.8/site-packages/MDAnalysis/coordinates/chemfiles.py:108: DeprecationWarning: distutils Version classes are deprecated. Use packaging.version instead.\n",
      "  MIN_CHEMFILES_VERSION = LooseVersion(\"0.9\")\n",
      "[TRJ.py:171 - <module>()] netCDF4 is not available. Writing AMBER ncdf files will be slow.\n",
      "/home/alacournola/anaconda3/envs/dockm8/lib/python3.8/site-packages/MDAnalysis/coordinates/TRJ.py:1209: DeprecationWarning: Please use `netcdf_file` from the `scipy.io` namespace, the `scipy.io.netcdf` namespace is deprecated.\n",
      "  class NCDFPicklable(scipy.io.netcdf.netcdf_file):\n"
     ]
    }
   ],
   "source": [
    "import os\n",
    "from scripts.library_preparation import *\n",
    "from scripts.utilities import *\n",
    "from scripts.docking_functions import *\n",
    "from scripts.clustering_functions import *\n",
    "from scripts.rescoring_functions import *\n",
    "from scripts.performance_calculation import *\n",
    "from scripts.dogsitescorer import *\n",
    "from scripts.get_pocket import *\n"
   ]
  },
  {
   "cell_type": "code",
   "execution_count": 2,
   "metadata": {},
   "outputs": [
    {
     "name": "stderr",
     "output_type": "stream",
     "text": [
      "  0%|          | 0/31 [00:00<?, ?it/s]"
     ]
    },
    {
     "name": "stdout",
     "output_type": "stream",
     "text": [
      "fabp4\n",
      "The working directory has been set to: /home/alacournola/DUD-E/fabp4\n",
      "\n",
      "[2023-Sep-02 22:02:49]: Extracting pocket from /home/alacournola/DUD-E/fabp4/receptor_protoss_prepared.pdb using /home/alacournola/DUD-E/fabp4/crystal_ligand_protoss.sdf as reference ligand\n",
      "\n",
      "[2023-Sep-02 22:02:54]: Finished extracting pocket from /home/alacournola/DUD-E/fabp4/receptor_protoss_prepared.pdb using /home/alacournola/DUD-E/fabp4/crystal_ligand_protoss.sdf as reference ligand\n",
      "\n",
      "[2023-Sep-02 22:02:54]: Skipping gnina rescoring...\n",
      "\n",
      "[2023-Sep-02 22:02:54]: Skipping AD4 rescoring...\n",
      "\n",
      "[2023-Sep-02 22:02:54]: Skipping chemplp rescoring...\n",
      "\n",
      "[2023-Sep-02 22:02:54]: Skipping rfscorevs rescoring...\n",
      "\n",
      "[2023-Sep-02 22:02:54]: Skipping LinF9 rescoring...\n",
      "\n",
      "[2023-Sep-02 22:02:54]: Skipping RTMScore rescoring...\n",
      "\n",
      "[2023-Sep-02 22:02:54]: Skipping SCORCH rescoring...\n",
      "\n",
      "[2023-Sep-02 22:02:54]: Skipping vinardo rescoring...\n",
      "\n",
      "[2023-Sep-02 22:02:54]: Skipping KORPL rescoring...\n",
      "\n",
      "[2023-Sep-02 22:02:54]: Skipping ConvexPLR rescoring...\n",
      "\n",
      "[2023-Sep-02 22:02:54]: Rescoring complete in 0.0014!\n",
      "\n",
      "[2023-Sep-02 22:02:54]: Skipping gnina rescoring...\n",
      "\n",
      "[2023-Sep-02 22:02:54]: Skipping AD4 rescoring...\n",
      "\n",
      "[2023-Sep-02 22:02:54]: Skipping chemplp rescoring...\n",
      "\n",
      "[2023-Sep-02 22:02:54]: Skipping rfscorevs rescoring...\n",
      "\n",
      "[2023-Sep-02 22:02:54]: Skipping LinF9 rescoring...\n",
      "\n",
      "[2023-Sep-02 22:02:54]: Skipping RTMScore rescoring...\n",
      "\n",
      "[2023-Sep-02 22:02:54]: Skipping SCORCH rescoring...\n",
      "\n",
      "[2023-Sep-02 22:02:54]: Skipping vinardo rescoring...\n",
      "\n",
      "[2023-Sep-02 22:02:54]: Skipping KORPL rescoring...\n",
      "\n",
      "[2023-Sep-02 22:02:54]: Skipping ConvexPLR rescoring...\n",
      "\n",
      "[2023-Sep-02 22:02:54]: Rescoring complete in 0.0013!\n",
      "\n",
      "[2023-Sep-02 22:02:54]: Skipping gnina rescoring...\n",
      "\n",
      "[2023-Sep-02 22:02:54]: Skipping AD4 rescoring...\n",
      "\n",
      "[2023-Sep-02 22:02:54]: Skipping chemplp rescoring...\n",
      "\n",
      "[2023-Sep-02 22:02:54]: Skipping rfscorevs rescoring...\n",
      "\n",
      "[2023-Sep-02 22:02:54]: Skipping LinF9 rescoring...\n",
      "\n",
      "[2023-Sep-02 22:02:54]: Skipping RTMScore rescoring...\n",
      "\n",
      "[2023-Sep-02 22:02:54]: Skipping SCORCH rescoring...\n",
      "\n",
      "[2023-Sep-02 22:02:54]: Skipping vinardo rescoring...\n",
      "\n",
      "[2023-Sep-02 22:02:54]: Skipping KORPL rescoring...\n",
      "\n",
      "[2023-Sep-02 22:02:54]: Skipping ConvexPLR rescoring...\n",
      "\n",
      "[2023-Sep-02 22:02:54]: Rescoring complete in 0.0009!\n",
      "\n",
      "[2023-Sep-02 22:02:54]: Skipping gnina rescoring...\n",
      "\n",
      "[2023-Sep-02 22:02:54]: Skipping AD4 rescoring...\n",
      "\n",
      "[2023-Sep-02 22:02:54]: Skipping chemplp rescoring...\n",
      "\n",
      "[2023-Sep-02 22:02:54]: Skipping rfscorevs rescoring...\n",
      "\n",
      "[2023-Sep-02 22:02:54]: Skipping LinF9 rescoring...\n",
      "\n",
      "[2023-Sep-02 22:02:54]: Skipping RTMScore rescoring...\n",
      "\n",
      "[2023-Sep-02 22:02:54]: Skipping SCORCH rescoring...\n",
      "\n",
      "[2023-Sep-02 22:02:54]: Skipping vinardo rescoring...\n",
      "\n",
      "[2023-Sep-02 22:02:54]: Skipping KORPL rescoring...\n",
      "\n",
      "[2023-Sep-02 22:02:54]: Skipping ConvexPLR rescoring...\n",
      "\n",
      "[2023-Sep-02 22:02:54]: Rescoring complete in 0.0009!\n",
      "\n",
      "[2023-Sep-02 22:02:54]: Skipping gnina rescoring...\n",
      "\n",
      "[2023-Sep-02 22:02:54]: Skipping AD4 rescoring...\n",
      "\n",
      "[2023-Sep-02 22:02:54]: Skipping chemplp rescoring...\n",
      "\n",
      "[2023-Sep-02 22:02:54]: Skipping rfscorevs rescoring...\n",
      "\n",
      "[2023-Sep-02 22:02:54]: Skipping LinF9 rescoring...\n",
      "\n",
      "[2023-Sep-02 22:02:54]: Skipping RTMScore rescoring...\n",
      "\n",
      "[2023-Sep-02 22:02:54]: Skipping SCORCH rescoring...\n",
      "\n",
      "[2023-Sep-02 22:02:54]: Skipping vinardo rescoring...\n",
      "\n",
      "[2023-Sep-02 22:02:54]: Skipping KORPL rescoring...\n",
      "\n",
      "[2023-Sep-02 22:02:54]: Skipping ConvexPLR rescoring...\n",
      "\n",
      "[2023-Sep-02 22:02:54]: Rescoring complete in 0.0009!\n",
      "\n",
      "[2023-Sep-02 22:02:54]: Skipping gnina rescoring...\n",
      "\n",
      "[2023-Sep-02 22:02:54]: Skipping AD4 rescoring...\n",
      "\n",
      "[2023-Sep-02 22:02:54]: Skipping chemplp rescoring...\n",
      "\n",
      "[2023-Sep-02 22:02:54]: Skipping rfscorevs rescoring...\n",
      "\n",
      "[2023-Sep-02 22:02:54]: Skipping LinF9 rescoring...\n",
      "\n",
      "[2023-Sep-02 22:02:54]: Skipping RTMScore rescoring...\n",
      "\n",
      "[2023-Sep-02 22:02:54]: Skipping SCORCH rescoring...\n",
      "\n",
      "[2023-Sep-02 22:02:54]: Skipping vinardo rescoring...\n",
      "\n",
      "[2023-Sep-02 22:02:54]: Skipping KORPL rescoring...\n",
      "\n",
      "[2023-Sep-02 22:02:54]: Skipping ConvexPLR rescoring...\n",
      "\n",
      "[2023-Sep-02 22:02:54]: Rescoring complete in 0.0008!\n",
      "\n",
      "[2023-Sep-02 22:02:54]: Skipping gnina rescoring...\n",
      "\n",
      "[2023-Sep-02 22:02:54]: Skipping AD4 rescoring...\n",
      "\n",
      "[2023-Sep-02 22:02:54]: Skipping chemplp rescoring...\n",
      "\n",
      "[2023-Sep-02 22:02:54]: Skipping rfscorevs rescoring...\n",
      "\n",
      "[2023-Sep-02 22:02:54]: Skipping LinF9 rescoring...\n",
      "\n",
      "[2023-Sep-02 22:02:54]: Skipping RTMScore rescoring...\n",
      "\n",
      "[2023-Sep-02 22:02:54]: Skipping SCORCH rescoring...\n",
      "\n",
      "[2023-Sep-02 22:02:54]: Skipping vinardo rescoring...\n",
      "\n",
      "[2023-Sep-02 22:02:54]: Skipping KORPL rescoring...\n",
      "\n",
      "[2023-Sep-02 22:02:54]: Skipping ConvexPLR rescoring...\n",
      "\n",
      "[2023-Sep-02 22:02:54]: Rescoring complete in 0.0009!\n",
      "\n",
      "[2023-Sep-02 22:02:54]: Skipping gnina rescoring...\n",
      "\n",
      "[2023-Sep-02 22:02:54]: Skipping AD4 rescoring...\n",
      "\n",
      "[2023-Sep-02 22:02:54]: Skipping chemplp rescoring...\n",
      "\n",
      "[2023-Sep-02 22:02:54]: Skipping rfscorevs rescoring...\n",
      "\n",
      "[2023-Sep-02 22:02:54]: Skipping LinF9 rescoring...\n",
      "\n",
      "[2023-Sep-02 22:02:54]: Skipping RTMScore rescoring...\n",
      "\n",
      "[2023-Sep-02 22:02:54]: Skipping SCORCH rescoring...\n",
      "\n",
      "[2023-Sep-02 22:02:54]: Skipping vinardo rescoring...\n",
      "\n",
      "[2023-Sep-02 22:02:54]: Skipping KORPL rescoring...\n",
      "\n",
      "[2023-Sep-02 22:02:54]: Skipping ConvexPLR rescoring...\n",
      "\n",
      "[2023-Sep-02 22:02:54]: Rescoring complete in 0.0008!\n",
      "Loading library\n",
      "\n",
      "[2023-Sep-02 22:03:00]: Calculating consensus methods for every possible score combination...\n"
     ]
    },
    {
     "name": "stderr",
     "output_type": "stream",
     "text": [
      "100%|██████████| 8/8 [25:15<00:00, 189.42s/it]\n",
      "  3%|▎         | 1/31 [25:47<12:53:50, 1547.67s/it]"
     ]
    },
    {
     "name": "stdout",
     "output_type": "stream",
     "text": [
      "hivrt\n",
      "The working directory has been set to: /home/alacournola/DUD-E/hivrt\n",
      "\n",
      "[2023-Sep-02 22:28:37]: Extracting pocket from /home/alacournola/DUD-E/hivrt/receptor_protoss_prepared.pdb using /home/alacournola/DUD-E/hivrt/crystal_ligand_protoss.sdf as reference ligand\n",
      "\n",
      "[2023-Sep-02 22:29:03]: Finished extracting pocket from /home/alacournola/DUD-E/hivrt/receptor_protoss_prepared.pdb using /home/alacournola/DUD-E/hivrt/crystal_ligand_protoss.sdf as reference ligand\n",
      "\n",
      "[2023-Sep-02 22:29:03]: Skipping gnina rescoring...\n",
      "\n",
      "[2023-Sep-02 22:29:03]: Skipping AD4 rescoring...\n",
      "\n",
      "[2023-Sep-02 22:29:03]: Skipping chemplp rescoring...\n",
      "\n",
      "[2023-Sep-02 22:29:03]: Skipping rfscorevs rescoring...\n",
      "\n",
      "[2023-Sep-02 22:29:03]: Skipping LinF9 rescoring...\n",
      "\n",
      "[2023-Sep-02 22:29:03]: Skipping RTMScore rescoring...\n",
      "\n",
      "[2023-Sep-02 22:29:03]: Skipping SCORCH rescoring...\n",
      "\n",
      "[2023-Sep-02 22:29:03]: Skipping vinardo rescoring...\n",
      "\n",
      "[2023-Sep-02 22:29:03]: Skipping KORPL rescoring...\n",
      "Splitting SDF file RMSD_clustered.sdf ...\n"
     ]
    },
    {
     "name": "stderr",
     "output_type": "stream",
     "text": [
      "Splitting files: 100%|██████████| 28/28 [00:25<00:00,  1.12it/s]\n"
     ]
    },
    {
     "name": "stdout",
     "output_type": "stream",
     "text": [
      "Split docking library into 28 files each containing 2231 compounds\n"
     ]
    },
    {
     "name": "stderr",
     "output_type": "stream",
     "text": [
      "Submitting ConvexPLR rescoring jobs: 100%|██████████| 28/28 [00:00<00:00, 35.00file/s]\n",
      "Rescoring with ConvexPLR: 100%|██████████| 28/28 [01:12<00:00,  2.60s/file]\n"
     ]
    },
    {
     "name": "stdout",
     "output_type": "stream",
     "text": [
      "Combining ConvexPLR scores\n",
      "\n",
      "[2023-Sep-02 22:31:22]: Rescoring with ConvexPLR complete in 138.6294!\n",
      "\n",
      "[2023-Sep-02 22:31:22]: Rescoring complete in 138.6330!\n",
      "\n",
      "[2023-Sep-02 22:31:22]: Skipping gnina rescoring...\n",
      "\n",
      "[2023-Sep-02 22:31:22]: Skipping AD4 rescoring...\n",
      "\n",
      "[2023-Sep-02 22:31:22]: Skipping chemplp rescoring...\n",
      "\n",
      "[2023-Sep-02 22:31:22]: Skipping rfscorevs rescoring...\n",
      "\n",
      "[2023-Sep-02 22:31:22]: Skipping LinF9 rescoring...\n",
      "\n",
      "[2023-Sep-02 22:31:22]: Skipping RTMScore rescoring...\n",
      "\n",
      "[2023-Sep-02 22:31:22]: Skipping SCORCH rescoring...\n",
      "\n",
      "[2023-Sep-02 22:31:22]: Skipping vinardo rescoring...\n",
      "\n",
      "[2023-Sep-02 22:31:22]: Skipping KORPL rescoring...\n",
      "Splitting SDF file spyRMSD_clustered.sdf ...\n"
     ]
    },
    {
     "name": "stderr",
     "output_type": "stream",
     "text": [
      "Splitting files: 100%|██████████| 28/28 [00:25<00:00,  1.12it/s]\n"
     ]
    },
    {
     "name": "stdout",
     "output_type": "stream",
     "text": [
      "Split docking library into 28 files each containing 2244 compounds\n"
     ]
    },
    {
     "name": "stderr",
     "output_type": "stream",
     "text": [
      "Submitting ConvexPLR rescoring jobs: 100%|██████████| 28/28 [00:00<00:00, 36.91file/s]\n",
      "Rescoring with ConvexPLR: 100%|██████████| 28/28 [01:13<00:00,  2.63s/file]\n"
     ]
    },
    {
     "name": "stdout",
     "output_type": "stream",
     "text": [
      "Combining ConvexPLR scores\n",
      "\n",
      "[2023-Sep-02 22:33:40]: Rescoring with ConvexPLR complete in 138.2005!\n",
      "\n",
      "[2023-Sep-02 22:33:40]: Rescoring complete in 138.2040!\n",
      "\n",
      "[2023-Sep-02 22:33:40]: Skipping gnina rescoring...\n",
      "\n",
      "[2023-Sep-02 22:33:40]: Skipping AD4 rescoring...\n",
      "\n",
      "[2023-Sep-02 22:33:40]: Skipping chemplp rescoring...\n",
      "\n",
      "[2023-Sep-02 22:33:40]: Skipping rfscorevs rescoring...\n",
      "\n",
      "[2023-Sep-02 22:33:40]: Skipping LinF9 rescoring...\n",
      "\n",
      "[2023-Sep-02 22:33:40]: Skipping RTMScore rescoring...\n",
      "\n",
      "[2023-Sep-02 22:33:40]: Skipping SCORCH rescoring...\n",
      "\n",
      "[2023-Sep-02 22:33:40]: Skipping vinardo rescoring...\n",
      "\n",
      "[2023-Sep-02 22:33:40]: Skipping KORPL rescoring...\n",
      "Splitting SDF file espsim_clustered.sdf ...\n"
     ]
    },
    {
     "name": "stderr",
     "output_type": "stream",
     "text": [
      "Splitting files: 100%|██████████| 28/28 [00:16<00:00,  1.67it/s]\n"
     ]
    },
    {
     "name": "stdout",
     "output_type": "stream",
     "text": [
      "Split docking library into 28 files each containing 1491 compounds\n"
     ]
    },
    {
     "name": "stderr",
     "output_type": "stream",
     "text": [
      "Submitting ConvexPLR rescoring jobs: 100%|██████████| 28/28 [00:00<00:00, 38.16file/s]\n",
      "Rescoring with ConvexPLR: 100%|██████████| 28/28 [00:45<00:00,  1.63s/file]\n"
     ]
    },
    {
     "name": "stdout",
     "output_type": "stream",
     "text": [
      "Combining ConvexPLR scores\n",
      "\n",
      "[2023-Sep-02 22:35:10]: Rescoring with ConvexPLR complete in 89.7266!\n",
      "\n",
      "[2023-Sep-02 22:35:10]: Rescoring complete in 89.7291!\n",
      "\n",
      "[2023-Sep-02 22:35:10]: Skipping gnina rescoring...\n",
      "\n",
      "[2023-Sep-02 22:35:10]: Skipping AD4 rescoring...\n",
      "\n",
      "[2023-Sep-02 22:35:10]: Skipping chemplp rescoring...\n",
      "\n",
      "[2023-Sep-02 22:35:10]: Skipping rfscorevs rescoring...\n",
      "\n",
      "[2023-Sep-02 22:35:10]: Skipping LinF9 rescoring...\n",
      "\n",
      "[2023-Sep-02 22:35:10]: Skipping RTMScore rescoring...\n",
      "\n",
      "[2023-Sep-02 22:35:10]: Skipping SCORCH rescoring...\n",
      "\n",
      "[2023-Sep-02 22:35:10]: Skipping vinardo rescoring...\n",
      "\n",
      "[2023-Sep-02 22:35:10]: Skipping KORPL rescoring...\n",
      "Splitting SDF file 3DScore_clustered.sdf ...\n"
     ]
    },
    {
     "name": "stderr",
     "output_type": "stream",
     "text": [
      "Splitting files: 100%|██████████| 28/28 [00:06<00:00,  4.04it/s]\n"
     ]
    },
    {
     "name": "stdout",
     "output_type": "stream",
     "text": [
      "Split docking library into 28 files each containing 664 compounds\n"
     ]
    },
    {
     "name": "stderr",
     "output_type": "stream",
     "text": [
      "Submitting ConvexPLR rescoring jobs: 100%|██████████| 28/28 [00:00<00:00, 36.34file/s]\n",
      "Rescoring with ConvexPLR: 100%|██████████| 28/28 [00:21<00:00,  1.28file/s]\n"
     ]
    },
    {
     "name": "stdout",
     "output_type": "stream",
     "text": [
      "Combining ConvexPLR scores\n",
      "\n",
      "[2023-Sep-02 22:35:51]: Rescoring with ConvexPLR complete in 41.1933!\n",
      "\n",
      "[2023-Sep-02 22:35:51]: Rescoring complete in 41.1953!\n",
      "\n",
      "[2023-Sep-02 22:35:51]: Skipping gnina rescoring...\n",
      "\n",
      "[2023-Sep-02 22:35:51]: Skipping AD4 rescoring...\n",
      "\n",
      "[2023-Sep-02 22:35:51]: Skipping chemplp rescoring...\n",
      "\n",
      "[2023-Sep-02 22:35:51]: Skipping rfscorevs rescoring...\n",
      "\n",
      "[2023-Sep-02 22:35:51]: Skipping LinF9 rescoring...\n",
      "\n",
      "[2023-Sep-02 22:35:51]: Skipping RTMScore rescoring...\n",
      "\n",
      "[2023-Sep-02 22:35:51]: Skipping SCORCH rescoring...\n",
      "\n",
      "[2023-Sep-02 22:35:51]: Skipping vinardo rescoring...\n",
      "\n",
      "[2023-Sep-02 22:35:51]: Skipping KORPL rescoring...\n",
      "Splitting SDF file bestpose_clustered.sdf ...\n"
     ]
    },
    {
     "name": "stderr",
     "output_type": "stream",
     "text": [
      "Splitting files: 100%|██████████| 28/28 [00:19<00:00,  1.42it/s]\n"
     ]
    },
    {
     "name": "stdout",
     "output_type": "stream",
     "text": [
      "Split docking library into 28 files each containing 1946 compounds\n"
     ]
    },
    {
     "name": "stderr",
     "output_type": "stream",
     "text": [
      "Submitting ConvexPLR rescoring jobs: 100%|██████████| 28/28 [00:00<00:00, 36.33file/s]\n",
      "Rescoring with ConvexPLR: 100%|██████████| 28/28 [01:31<00:00,  3.28s/file]\n"
     ]
    },
    {
     "name": "stdout",
     "output_type": "stream",
     "text": [
      "Combining ConvexPLR scores\n",
      "\n",
      "[2023-Sep-02 22:38:20]: Rescoring with ConvexPLR complete in 148.8303!\n",
      "\n",
      "[2023-Sep-02 22:38:20]: Rescoring complete in 148.8351!\n",
      "\n",
      "[2023-Sep-02 22:38:20]: Skipping gnina rescoring...\n",
      "\n",
      "[2023-Sep-02 22:38:20]: Skipping AD4 rescoring...\n",
      "\n",
      "[2023-Sep-02 22:38:20]: Skipping chemplp rescoring...\n",
      "\n",
      "[2023-Sep-02 22:38:20]: Skipping rfscorevs rescoring...\n",
      "\n",
      "[2023-Sep-02 22:38:20]: Skipping LinF9 rescoring...\n",
      "\n",
      "[2023-Sep-02 22:38:20]: Skipping RTMScore rescoring...\n",
      "\n",
      "[2023-Sep-02 22:38:20]: Skipping SCORCH rescoring...\n",
      "\n",
      "[2023-Sep-02 22:38:20]: Skipping vinardo rescoring...\n",
      "\n",
      "[2023-Sep-02 22:38:20]: Skipping KORPL rescoring...\n",
      "Splitting SDF file bestpose_GNINA_clustered.sdf ...\n"
     ]
    },
    {
     "name": "stderr",
     "output_type": "stream",
     "text": [
      "Splitting files: 100%|██████████| 28/28 [00:13<00:00,  2.04it/s]\n"
     ]
    },
    {
     "name": "stdout",
     "output_type": "stream",
     "text": [
      "Split docking library into 28 files each containing 662 compounds\n"
     ]
    },
    {
     "name": "stderr",
     "output_type": "stream",
     "text": [
      "Submitting ConvexPLR rescoring jobs: 100%|██████████| 28/28 [00:01<00:00, 21.77file/s]\n",
      "Rescoring with ConvexPLR: 100%|██████████| 28/28 [00:39<00:00,  1.41s/file]\n"
     ]
    },
    {
     "name": "stdout",
     "output_type": "stream",
     "text": [
      "Combining ConvexPLR scores\n",
      "\n",
      "[2023-Sep-02 22:39:35]: Rescoring with ConvexPLR complete in 75.1552!\n",
      "\n",
      "[2023-Sep-02 22:39:35]: Rescoring complete in 75.1607!\n",
      "\n",
      "[2023-Sep-02 22:39:35]: Skipping gnina rescoring...\n",
      "\n",
      "[2023-Sep-02 22:39:35]: Skipping AD4 rescoring...\n",
      "\n",
      "[2023-Sep-02 22:39:35]: Skipping chemplp rescoring...\n",
      "\n",
      "[2023-Sep-02 22:39:35]: Skipping rfscorevs rescoring...\n",
      "\n",
      "[2023-Sep-02 22:39:35]: Skipping LinF9 rescoring...\n",
      "\n",
      "[2023-Sep-02 22:39:35]: Skipping RTMScore rescoring...\n",
      "\n",
      "[2023-Sep-02 22:39:35]: Skipping SCORCH rescoring...\n",
      "\n",
      "[2023-Sep-02 22:39:35]: Skipping vinardo rescoring...\n",
      "\n",
      "[2023-Sep-02 22:39:35]: Skipping KORPL rescoring...\n",
      "Splitting SDF file bestpose_SMINA_clustered.sdf ...\n"
     ]
    },
    {
     "name": "stderr",
     "output_type": "stream",
     "text": [
      "Splitting files: 100%|██████████| 28/28 [00:13<00:00,  2.11it/s]\n"
     ]
    },
    {
     "name": "stdout",
     "output_type": "stream",
     "text": [
      "Split docking library into 28 files each containing 662 compounds\n"
     ]
    },
    {
     "name": "stderr",
     "output_type": "stream",
     "text": [
      "Submitting ConvexPLR rescoring jobs: 100%|██████████| 28/28 [00:01<00:00, 21.92file/s]\n",
      "Rescoring with ConvexPLR: 100%|██████████| 28/28 [00:34<00:00,  1.24s/file]\n"
     ]
    },
    {
     "name": "stdout",
     "output_type": "stream",
     "text": [
      "Combining ConvexPLR scores\n",
      "\n",
      "[2023-Sep-02 22:40:45]: Rescoring with ConvexPLR complete in 70.6087!\n",
      "\n",
      "[2023-Sep-02 22:40:45]: Rescoring complete in 70.6125!\n",
      "\n",
      "[2023-Sep-02 22:40:45]: Skipping gnina rescoring...\n",
      "\n",
      "[2023-Sep-02 22:40:45]: Skipping AD4 rescoring...\n",
      "\n",
      "[2023-Sep-02 22:40:45]: Skipping chemplp rescoring...\n",
      "\n",
      "[2023-Sep-02 22:40:45]: Skipping rfscorevs rescoring...\n",
      "\n",
      "[2023-Sep-02 22:40:45]: Skipping LinF9 rescoring...\n",
      "\n",
      "[2023-Sep-02 22:40:45]: Skipping RTMScore rescoring...\n",
      "\n",
      "[2023-Sep-02 22:40:45]: Skipping SCORCH rescoring...\n",
      "\n",
      "[2023-Sep-02 22:40:45]: Skipping vinardo rescoring...\n",
      "\n",
      "[2023-Sep-02 22:40:45]: Skipping KORPL rescoring...\n",
      "Splitting SDF file bestpose_PLANTS_clustered.sdf ...\n"
     ]
    },
    {
     "name": "stderr",
     "output_type": "stream",
     "text": [
      "Splitting files: 100%|██████████| 28/28 [00:06<00:00,  4.23it/s]\n"
     ]
    },
    {
     "name": "stdout",
     "output_type": "stream",
     "text": [
      "Split docking library into 28 files each containing 623 compounds\n"
     ]
    },
    {
     "name": "stderr",
     "output_type": "stream",
     "text": [
      "Submitting ConvexPLR rescoring jobs: 100%|██████████| 28/28 [00:00<00:00, 35.15file/s]\n",
      "Rescoring with ConvexPLR: 100%|██████████| 28/28 [00:21<00:00,  1.29file/s]\n"
     ]
    },
    {
     "name": "stdout",
     "output_type": "stream",
     "text": [
      "Combining ConvexPLR scores\n",
      "\n",
      "[2023-Sep-02 22:41:26]: Rescoring with ConvexPLR complete in 40.4548!\n",
      "\n",
      "[2023-Sep-02 22:41:26]: Rescoring complete in 40.4578!\n",
      "Loading library\n",
      "\n",
      "[2023-Sep-02 22:41:48]: Calculating consensus methods for every possible score combination...\n"
     ]
    },
    {
     "name": "stderr",
     "output_type": "stream",
     "text": [
      "100%|██████████| 8/8 [17:40<00:00, 132.52s/it]\n",
      "  6%|▋         | 2/31 [56:49<13:57:23, 1732.53s/it]"
     ]
    },
    {
     "name": "stdout",
     "output_type": "stream",
     "text": [
      "dyr\n",
      "The working directory has been set to: /home/alacournola/DUD-E/dyr\n",
      "\n",
      "[2023-Sep-02 22:59:39]: Extracting pocket from /home/alacournola/DUD-E/dyr/receptor_protoss_prepared.pdb using /home/alacournola/DUD-E/dyr/crystal_ligand_protoss.sdf as reference ligand\n",
      "\n",
      "[2023-Sep-02 22:59:44]: Finished extracting pocket from /home/alacournola/DUD-E/dyr/receptor_protoss_prepared.pdb using /home/alacournola/DUD-E/dyr/crystal_ligand_protoss.sdf as reference ligand\n",
      "\n",
      "[2023-Sep-02 22:59:44]: Skipping gnina rescoring...\n",
      "\n",
      "[2023-Sep-02 22:59:44]: Skipping AD4 rescoring...\n",
      "\n",
      "[2023-Sep-02 22:59:44]: Skipping chemplp rescoring...\n",
      "\n",
      "[2023-Sep-02 22:59:44]: Skipping rfscorevs rescoring...\n",
      "\n",
      "[2023-Sep-02 22:59:44]: Skipping LinF9 rescoring...\n",
      "\n",
      "[2023-Sep-02 22:59:44]: Skipping RTMScore rescoring...\n",
      "\n",
      "[2023-Sep-02 22:59:44]: Skipping SCORCH rescoring...\n",
      "\n",
      "[2023-Sep-02 22:59:44]: Skipping vinardo rescoring...\n",
      "\n",
      "[2023-Sep-02 22:59:44]: Skipping KORPL rescoring...\n",
      "Splitting SDF file RMSD_clustered.sdf ...\n"
     ]
    },
    {
     "name": "stderr",
     "output_type": "stream",
     "text": [
      "Splitting files: 100%|██████████| 28/28 [00:15<00:00,  1.82it/s]\n"
     ]
    },
    {
     "name": "stdout",
     "output_type": "stream",
     "text": [
      "Split docking library into 28 files each containing 1544 compounds\n"
     ]
    },
    {
     "name": "stderr",
     "output_type": "stream",
     "text": [
      "Submitting ConvexPLR rescoring jobs: 100%|██████████| 28/28 [00:01<00:00, 25.42file/s]\n",
      "Rescoring with ConvexPLR: 100%|██████████| 28/28 [00:46<00:00,  1.68s/file]\n"
     ]
    },
    {
     "name": "stdout",
     "output_type": "stream",
     "text": [
      "Combining ConvexPLR scores\n",
      "\n",
      "[2023-Sep-02 23:01:15]: Rescoring with ConvexPLR complete in 91.0144!\n",
      "\n",
      "[2023-Sep-02 23:01:15]: Rescoring complete in 91.0179!\n",
      "\n",
      "[2023-Sep-02 23:01:15]: Skipping gnina rescoring...\n",
      "\n",
      "[2023-Sep-02 23:01:15]: Skipping AD4 rescoring...\n",
      "\n",
      "[2023-Sep-02 23:01:15]: Skipping chemplp rescoring...\n",
      "\n",
      "[2023-Sep-02 23:01:15]: Skipping rfscorevs rescoring...\n",
      "\n",
      "[2023-Sep-02 23:01:15]: Skipping LinF9 rescoring...\n",
      "\n",
      "[2023-Sep-02 23:01:15]: Skipping RTMScore rescoring...\n",
      "\n",
      "[2023-Sep-02 23:01:15]: Skipping SCORCH rescoring...\n",
      "\n",
      "[2023-Sep-02 23:01:15]: Skipping vinardo rescoring...\n",
      "\n",
      "[2023-Sep-02 23:01:15]: Skipping KORPL rescoring...\n",
      "Splitting SDF file spyRMSD_clustered.sdf ...\n"
     ]
    },
    {
     "name": "stderr",
     "output_type": "stream",
     "text": [
      "Splitting files: 100%|██████████| 28/28 [00:15<00:00,  1.78it/s]\n"
     ]
    },
    {
     "name": "stdout",
     "output_type": "stream",
     "text": [
      "Split docking library into 28 files each containing 1559 compounds\n"
     ]
    },
    {
     "name": "stderr",
     "output_type": "stream",
     "text": [
      "Submitting ConvexPLR rescoring jobs: 100%|██████████| 28/28 [00:00<00:00, 36.98file/s]\n",
      "Rescoring with ConvexPLR: 100%|██████████| 28/28 [00:47<00:00,  1.68s/file]\n"
     ]
    },
    {
     "name": "stdout",
     "output_type": "stream",
     "text": [
      "Combining ConvexPLR scores\n",
      "\n",
      "[2023-Sep-02 23:02:45]: Rescoring with ConvexPLR complete in 90.5644!\n",
      "\n",
      "[2023-Sep-02 23:02:45]: Rescoring complete in 90.5669!\n",
      "\n",
      "[2023-Sep-02 23:02:45]: Skipping gnina rescoring...\n",
      "\n",
      "[2023-Sep-02 23:02:45]: Skipping AD4 rescoring...\n",
      "\n",
      "[2023-Sep-02 23:02:45]: Skipping chemplp rescoring...\n",
      "\n",
      "[2023-Sep-02 23:02:45]: Skipping rfscorevs rescoring...\n",
      "\n",
      "[2023-Sep-02 23:02:45]: Skipping LinF9 rescoring...\n",
      "\n",
      "[2023-Sep-02 23:02:45]: Skipping RTMScore rescoring...\n",
      "\n",
      "[2023-Sep-02 23:02:45]: Skipping SCORCH rescoring...\n",
      "\n",
      "[2023-Sep-02 23:02:45]: Skipping vinardo rescoring...\n",
      "\n",
      "[2023-Sep-02 23:02:45]: Skipping KORPL rescoring...\n",
      "Splitting SDF file espsim_clustered.sdf ...\n"
     ]
    },
    {
     "name": "stderr",
     "output_type": "stream",
     "text": [
      "Splitting files: 100%|██████████| 28/28 [00:14<00:00,  1.90it/s]\n"
     ]
    },
    {
     "name": "stdout",
     "output_type": "stream",
     "text": [
      "Split docking library into 28 files each containing 1354 compounds\n"
     ]
    },
    {
     "name": "stderr",
     "output_type": "stream",
     "text": [
      "Submitting ConvexPLR rescoring jobs: 100%|██████████| 28/28 [00:00<00:00, 36.39file/s]\n",
      "Rescoring with ConvexPLR: 100%|██████████| 28/28 [00:39<00:00,  1.42s/file]\n"
     ]
    },
    {
     "name": "stdout",
     "output_type": "stream",
     "text": [
      "Combining ConvexPLR scores\n",
      "\n",
      "[2023-Sep-02 23:04:05]: Rescoring with ConvexPLR complete in 79.4865!\n",
      "\n",
      "[2023-Sep-02 23:04:05]: Rescoring complete in 79.4894!\n",
      "\n",
      "[2023-Sep-02 23:04:05]: Skipping gnina rescoring...\n",
      "\n",
      "[2023-Sep-02 23:04:05]: Skipping AD4 rescoring...\n",
      "\n",
      "[2023-Sep-02 23:04:05]: Skipping chemplp rescoring...\n",
      "\n",
      "[2023-Sep-02 23:04:05]: Skipping rfscorevs rescoring...\n",
      "\n",
      "[2023-Sep-02 23:04:05]: Skipping LinF9 rescoring...\n",
      "\n",
      "[2023-Sep-02 23:04:05]: Skipping RTMScore rescoring...\n",
      "\n",
      "[2023-Sep-02 23:04:05]: Skipping SCORCH rescoring...\n",
      "\n",
      "[2023-Sep-02 23:04:05]: Skipping vinardo rescoring...\n",
      "\n",
      "[2023-Sep-02 23:04:05]: Skipping KORPL rescoring...\n",
      "Splitting SDF file 3DScore_clustered.sdf ...\n"
     ]
    },
    {
     "name": "stderr",
     "output_type": "stream",
     "text": [
      "Splitting files: 100%|██████████| 28/28 [00:06<00:00,  4.46it/s]\n"
     ]
    },
    {
     "name": "stdout",
     "output_type": "stream",
     "text": [
      "Split docking library into 28 files each containing 618 compounds\n"
     ]
    },
    {
     "name": "stderr",
     "output_type": "stream",
     "text": [
      "Submitting ConvexPLR rescoring jobs: 100%|██████████| 28/28 [00:00<00:00, 35.99file/s]\n",
      "Rescoring with ConvexPLR: 100%|██████████| 28/28 [00:18<00:00,  1.55file/s]\n"
     ]
    },
    {
     "name": "stdout",
     "output_type": "stream",
     "text": [
      "Combining ConvexPLR scores\n",
      "\n",
      "[2023-Sep-02 23:04:41]: Rescoring with ConvexPLR complete in 36.2912!\n",
      "\n",
      "[2023-Sep-02 23:04:41]: Rescoring complete in 36.2933!\n",
      "\n",
      "[2023-Sep-02 23:04:41]: Skipping gnina rescoring...\n",
      "\n",
      "[2023-Sep-02 23:04:41]: Skipping AD4 rescoring...\n",
      "\n",
      "[2023-Sep-02 23:04:41]: Skipping chemplp rescoring...\n",
      "\n",
      "[2023-Sep-02 23:04:41]: Skipping rfscorevs rescoring...\n",
      "\n",
      "[2023-Sep-02 23:04:41]: Skipping LinF9 rescoring...\n",
      "\n",
      "[2023-Sep-02 23:04:41]: Skipping RTMScore rescoring...\n",
      "\n",
      "[2023-Sep-02 23:04:41]: Skipping SCORCH rescoring...\n",
      "\n",
      "[2023-Sep-02 23:04:41]: Skipping vinardo rescoring...\n",
      "\n",
      "[2023-Sep-02 23:04:41]: Skipping KORPL rescoring...\n",
      "Splitting SDF file bestpose_clustered.sdf ...\n"
     ]
    },
    {
     "name": "stderr",
     "output_type": "stream",
     "text": [
      "Splitting files: 100%|██████████| 28/28 [00:18<00:00,  1.55it/s]\n"
     ]
    },
    {
     "name": "stdout",
     "output_type": "stream",
     "text": [
      "Split docking library into 28 files each containing 1811 compounds\n"
     ]
    },
    {
     "name": "stderr",
     "output_type": "stream",
     "text": [
      "Submitting ConvexPLR rescoring jobs: 100%|██████████| 28/28 [00:00<00:00, 36.55file/s]\n",
      "Rescoring with ConvexPLR: 100%|██████████| 28/28 [00:56<00:00,  2.04s/file]\n"
     ]
    },
    {
     "name": "stdout",
     "output_type": "stream",
     "text": [
      "Combining ConvexPLR scores\n",
      "\n",
      "[2023-Sep-02 23:06:31]: Rescoring with ConvexPLR complete in 109.3473!\n",
      "\n",
      "[2023-Sep-02 23:06:31]: Rescoring complete in 109.3517!\n",
      "\n",
      "[2023-Sep-02 23:06:31]: Skipping gnina rescoring...\n",
      "\n",
      "[2023-Sep-02 23:06:31]: Skipping AD4 rescoring...\n",
      "\n",
      "[2023-Sep-02 23:06:31]: Skipping chemplp rescoring...\n",
      "\n",
      "[2023-Sep-02 23:06:31]: Skipping rfscorevs rescoring...\n",
      "\n",
      "[2023-Sep-02 23:06:31]: Skipping LinF9 rescoring...\n",
      "\n",
      "[2023-Sep-02 23:06:31]: Skipping RTMScore rescoring...\n",
      "\n",
      "[2023-Sep-02 23:06:31]: Skipping SCORCH rescoring...\n",
      "\n",
      "[2023-Sep-02 23:06:31]: Skipping vinardo rescoring...\n",
      "\n",
      "[2023-Sep-02 23:06:31]: Skipping KORPL rescoring...\n",
      "Splitting SDF file bestpose_GNINA_clustered.sdf ...\n"
     ]
    },
    {
     "name": "stderr",
     "output_type": "stream",
     "text": [
      "Splitting files: 100%|██████████| 28/28 [00:06<00:00,  4.12it/s]\n"
     ]
    },
    {
     "name": "stdout",
     "output_type": "stream",
     "text": [
      "Split docking library into 28 files each containing 609 compounds\n"
     ]
    },
    {
     "name": "stderr",
     "output_type": "stream",
     "text": [
      "Submitting ConvexPLR rescoring jobs: 100%|██████████| 28/28 [00:00<00:00, 35.84file/s]\n",
      "Rescoring with ConvexPLR: 100%|██████████| 28/28 [00:18<00:00,  1.51file/s]\n"
     ]
    },
    {
     "name": "stdout",
     "output_type": "stream",
     "text": [
      "Combining ConvexPLR scores\n",
      "\n",
      "[2023-Sep-02 23:07:08]: Rescoring with ConvexPLR complete in 37.0451!\n",
      "\n",
      "[2023-Sep-02 23:07:08]: Rescoring complete in 37.0475!\n",
      "\n",
      "[2023-Sep-02 23:07:08]: Skipping gnina rescoring...\n",
      "\n",
      "[2023-Sep-02 23:07:08]: Skipping AD4 rescoring...\n",
      "\n",
      "[2023-Sep-02 23:07:08]: Skipping chemplp rescoring...\n",
      "\n",
      "[2023-Sep-02 23:07:08]: Skipping rfscorevs rescoring...\n",
      "\n",
      "[2023-Sep-02 23:07:08]: Skipping LinF9 rescoring...\n",
      "\n",
      "[2023-Sep-02 23:07:08]: Skipping RTMScore rescoring...\n",
      "\n",
      "[2023-Sep-02 23:07:08]: Skipping SCORCH rescoring...\n",
      "\n",
      "[2023-Sep-02 23:07:08]: Skipping vinardo rescoring...\n",
      "\n",
      "[2023-Sep-02 23:07:08]: Skipping KORPL rescoring...\n",
      "Splitting SDF file bestpose_SMINA_clustered.sdf ...\n"
     ]
    },
    {
     "name": "stderr",
     "output_type": "stream",
     "text": [
      "Splitting files: 100%|██████████| 28/28 [00:06<00:00,  4.47it/s]\n"
     ]
    },
    {
     "name": "stdout",
     "output_type": "stream",
     "text": [
      "Split docking library into 28 files each containing 609 compounds\n"
     ]
    },
    {
     "name": "stderr",
     "output_type": "stream",
     "text": [
      "Submitting ConvexPLR rescoring jobs: 100%|██████████| 28/28 [00:00<00:00, 35.56file/s]\n",
      "Rescoring with ConvexPLR: 100%|██████████| 28/28 [00:18<00:00,  1.52file/s]\n"
     ]
    },
    {
     "name": "stdout",
     "output_type": "stream",
     "text": [
      "Combining ConvexPLR scores\n",
      "\n",
      "[2023-Sep-02 23:07:44]: Rescoring with ConvexPLR complete in 36.4493!\n",
      "\n",
      "[2023-Sep-02 23:07:44]: Rescoring complete in 36.4516!\n",
      "\n",
      "[2023-Sep-02 23:07:44]: Skipping gnina rescoring...\n",
      "\n",
      "[2023-Sep-02 23:07:44]: Skipping AD4 rescoring...\n",
      "\n",
      "[2023-Sep-02 23:07:44]: Skipping chemplp rescoring...\n",
      "\n",
      "[2023-Sep-02 23:07:44]: Skipping rfscorevs rescoring...\n",
      "\n",
      "[2023-Sep-02 23:07:44]: Skipping LinF9 rescoring...\n",
      "\n",
      "[2023-Sep-02 23:07:44]: Skipping RTMScore rescoring...\n",
      "\n",
      "[2023-Sep-02 23:07:44]: Skipping SCORCH rescoring...\n",
      "\n",
      "[2023-Sep-02 23:07:44]: Skipping vinardo rescoring...\n",
      "\n",
      "[2023-Sep-02 23:07:44]: Skipping KORPL rescoring...\n",
      "Splitting SDF file bestpose_PLANTS_clustered.sdf ...\n"
     ]
    },
    {
     "name": "stderr",
     "output_type": "stream",
     "text": [
      "Splitting files: 100%|██████████| 28/28 [00:05<00:00,  4.71it/s]\n"
     ]
    },
    {
     "name": "stdout",
     "output_type": "stream",
     "text": [
      "Split docking library into 28 files each containing 593 compounds\n"
     ]
    },
    {
     "name": "stderr",
     "output_type": "stream",
     "text": [
      "Submitting ConvexPLR rescoring jobs: 100%|██████████| 28/28 [00:00<00:00, 34.99file/s]\n",
      "Rescoring with ConvexPLR: 100%|██████████| 28/28 [00:17<00:00,  1.60file/s]\n"
     ]
    },
    {
     "name": "stdout",
     "output_type": "stream",
     "text": [
      "Combining ConvexPLR scores\n",
      "\n",
      "[2023-Sep-02 23:08:19]: Rescoring with ConvexPLR complete in 34.8242!\n",
      "\n",
      "[2023-Sep-02 23:08:19]: Rescoring complete in 34.8262!\n",
      "Loading library\n",
      "\n",
      "[2023-Sep-02 23:08:53]: Calculating consensus methods for every possible score combination...\n"
     ]
    },
    {
     "name": "stderr",
     "output_type": "stream",
     "text": [
      "100%|██████████| 8/8 [27:48<00:00, 208.61s/it]\n",
      " 10%|▉         | 3/31 [1:34:03<15:15:23, 1961.56s/it]"
     ]
    },
    {
     "name": "stdout",
     "output_type": "stream",
     "text": [
      "pnph\n",
      "The working directory has been set to: /home/alacournola/DUD-E/pnph\n",
      "\n",
      "[2023-Sep-02 23:36:53]: Extracting pocket from /home/alacournola/DUD-E/pnph/receptor_protoss_prepared.pdb using /home/alacournola/DUD-E/pnph/crystal_ligand_protoss.sdf as reference ligand\n"
     ]
    },
    {
     "name": "stderr",
     "output_type": "stream",
     "text": [
      " 13%|█▎        | 4/31 [1:34:10<8:55:21, 1189.68s/it] "
     ]
    },
    {
     "name": "stdout",
     "output_type": "stream",
     "text": [
      "\n",
      "[2023-Sep-02 23:37:00]: Failed for pnph\n",
      "Python argument types in\n",
      "    rdkit.Chem.rdmolfiles.MolToPDBFile(NoneType, str)\n",
      "did not match C++ signature:\n",
      "    MolToPDBFile(RDKit::ROMol mol, std::__cxx11::basic_string<char, std::char_traits<char>, std::allocator<char> > filename, int confId=-1, unsigned int flavor=0)\n",
      "aldr\n",
      "The working directory has been set to: /home/alacournola/DUD-E/aldr\n",
      "\n",
      "[2023-Sep-02 23:37:00]: Extracting pocket from /home/alacournola/DUD-E/aldr/receptor_protoss_prepared.pdb using /home/alacournola/DUD-E/aldr/crystal_ligand_protoss.sdf as reference ligand\n",
      "\n",
      "[2023-Sep-02 23:37:07]: Finished extracting pocket from /home/alacournola/DUD-E/aldr/receptor_protoss_prepared.pdb using /home/alacournola/DUD-E/aldr/crystal_ligand_protoss.sdf as reference ligand\n",
      "\n",
      "[2023-Sep-02 23:37:07]: Skipping gnina rescoring...\n",
      "\n",
      "[2023-Sep-02 23:37:07]: Skipping AD4 rescoring...\n",
      "\n",
      "[2023-Sep-02 23:37:07]: Skipping chemplp rescoring...\n",
      "\n",
      "[2023-Sep-02 23:37:07]: Skipping rfscorevs rescoring...\n",
      "\n",
      "[2023-Sep-02 23:37:07]: Skipping LinF9 rescoring...\n",
      "\n",
      "[2023-Sep-02 23:37:07]: Skipping RTMScore rescoring...\n",
      "\n",
      "[2023-Sep-02 23:37:07]: Skipping SCORCH rescoring...\n",
      "\n",
      "[2023-Sep-02 23:37:07]: Skipping vinardo rescoring...\n",
      "\n",
      "[2023-Sep-02 23:37:07]: Skipping KORPL rescoring...\n",
      "Splitting SDF file RMSD_clustered.sdf ...\n"
     ]
    },
    {
     "name": "stderr",
     "output_type": "stream",
     "text": [
      "Splitting files: 100%|██████████| 28/28 [00:09<00:00,  2.88it/s]\n"
     ]
    },
    {
     "name": "stdout",
     "output_type": "stream",
     "text": [
      "Split docking library into 28 files each containing 988 compounds\n"
     ]
    },
    {
     "name": "stderr",
     "output_type": "stream",
     "text": [
      "Submitting ConvexPLR rescoring jobs: 100%|██████████| 28/28 [00:00<00:00, 34.51file/s]\n",
      "Rescoring with ConvexPLR: 100%|██████████| 28/28 [00:26<00:00,  1.07file/s]\n"
     ]
    },
    {
     "name": "stdout",
     "output_type": "stream",
     "text": [
      "Combining ConvexPLR scores\n",
      "\n",
      "[2023-Sep-02 23:38:00]: Rescoring with ConvexPLR complete in 53.0019!\n",
      "\n",
      "[2023-Sep-02 23:38:00]: Rescoring complete in 53.0049!\n",
      "\n",
      "[2023-Sep-02 23:38:00]: Skipping gnina rescoring...\n",
      "\n",
      "[2023-Sep-02 23:38:00]: Skipping AD4 rescoring...\n",
      "\n",
      "[2023-Sep-02 23:38:00]: Skipping chemplp rescoring...\n",
      "\n",
      "[2023-Sep-02 23:38:00]: Skipping rfscorevs rescoring...\n",
      "\n",
      "[2023-Sep-02 23:38:00]: Skipping LinF9 rescoring...\n",
      "\n",
      "[2023-Sep-02 23:38:00]: Skipping RTMScore rescoring...\n",
      "\n",
      "[2023-Sep-02 23:38:00]: Skipping SCORCH rescoring...\n",
      "\n",
      "[2023-Sep-02 23:38:00]: Skipping vinardo rescoring...\n",
      "\n",
      "[2023-Sep-02 23:38:00]: Skipping KORPL rescoring...\n",
      "Splitting SDF file spyRMSD_clustered.sdf ...\n"
     ]
    },
    {
     "name": "stderr",
     "output_type": "stream",
     "text": [
      "Splitting files: 100%|██████████| 28/28 [00:09<00:00,  2.81it/s]\n"
     ]
    },
    {
     "name": "stdout",
     "output_type": "stream",
     "text": [
      "Split docking library into 28 files each containing 993 compounds\n"
     ]
    },
    {
     "name": "stderr",
     "output_type": "stream",
     "text": [
      "Submitting ConvexPLR rescoring jobs: 100%|██████████| 28/28 [00:00<00:00, 36.00file/s]\n",
      "Rescoring with ConvexPLR: 100%|██████████| 28/28 [00:26<00:00,  1.07file/s]\n"
     ]
    },
    {
     "name": "stdout",
     "output_type": "stream",
     "text": [
      "Combining ConvexPLR scores\n",
      "\n",
      "[2023-Sep-02 23:38:54]: Rescoring with ConvexPLR complete in 53.6496!\n",
      "\n",
      "[2023-Sep-02 23:38:54]: Rescoring complete in 53.6519!\n",
      "\n",
      "[2023-Sep-02 23:38:54]: Skipping gnina rescoring...\n",
      "\n",
      "[2023-Sep-02 23:38:54]: Skipping AD4 rescoring...\n",
      "\n",
      "[2023-Sep-02 23:38:54]: Skipping chemplp rescoring...\n",
      "\n",
      "[2023-Sep-02 23:38:54]: Skipping rfscorevs rescoring...\n",
      "\n",
      "[2023-Sep-02 23:38:54]: Skipping LinF9 rescoring...\n",
      "\n",
      "[2023-Sep-02 23:38:54]: Skipping RTMScore rescoring...\n",
      "\n",
      "[2023-Sep-02 23:38:54]: Skipping SCORCH rescoring...\n",
      "\n",
      "[2023-Sep-02 23:38:54]: Skipping vinardo rescoring...\n",
      "\n",
      "[2023-Sep-02 23:38:54]: Skipping KORPL rescoring...\n",
      "Splitting SDF file espsim_clustered.sdf ...\n"
     ]
    },
    {
     "name": "stderr",
     "output_type": "stream",
     "text": [
      "Splitting files: 100%|██████████| 28/28 [00:07<00:00,  3.85it/s]\n"
     ]
    },
    {
     "name": "stdout",
     "output_type": "stream",
     "text": [
      "Split docking library into 28 files each containing 725 compounds\n"
     ]
    },
    {
     "name": "stderr",
     "output_type": "stream",
     "text": [
      "Submitting ConvexPLR rescoring jobs: 100%|██████████| 28/28 [00:00<00:00, 35.44file/s]\n",
      "Rescoring with ConvexPLR: 100%|██████████| 28/28 [00:19<00:00,  1.44file/s]\n"
     ]
    },
    {
     "name": "stdout",
     "output_type": "stream",
     "text": [
      "Combining ConvexPLR scores\n",
      "\n",
      "[2023-Sep-02 23:39:34]: Rescoring with ConvexPLR complete in 39.8786!\n",
      "\n",
      "[2023-Sep-02 23:39:34]: Rescoring complete in 39.8809!\n",
      "\n",
      "[2023-Sep-02 23:39:34]: Skipping gnina rescoring...\n",
      "\n",
      "[2023-Sep-02 23:39:34]: Skipping AD4 rescoring...\n",
      "\n",
      "[2023-Sep-02 23:39:34]: Skipping chemplp rescoring...\n",
      "\n",
      "[2023-Sep-02 23:39:34]: Skipping rfscorevs rescoring...\n",
      "\n",
      "[2023-Sep-02 23:39:34]: Skipping LinF9 rescoring...\n",
      "\n",
      "[2023-Sep-02 23:39:34]: Skipping RTMScore rescoring...\n",
      "\n",
      "[2023-Sep-02 23:39:34]: Skipping SCORCH rescoring...\n",
      "\n",
      "[2023-Sep-02 23:39:34]: Skipping vinardo rescoring...\n",
      "\n",
      "[2023-Sep-02 23:39:34]: Skipping KORPL rescoring...\n",
      "Splitting SDF file 3DScore_clustered.sdf ...\n"
     ]
    },
    {
     "name": "stderr",
     "output_type": "stream",
     "text": [
      "Splitting files: 100%|██████████| 28/28 [00:03<00:00,  8.14it/s]\n"
     ]
    },
    {
     "name": "stdout",
     "output_type": "stream",
     "text": [
      "Split docking library into 28 files each containing 327 compounds\n"
     ]
    },
    {
     "name": "stderr",
     "output_type": "stream",
     "text": [
      "Submitting ConvexPLR rescoring jobs: 100%|██████████| 28/28 [00:00<00:00, 35.33file/s]\n",
      "Rescoring with ConvexPLR: 100%|██████████| 28/28 [00:09<00:00,  2.96file/s]\n"
     ]
    },
    {
     "name": "stdout",
     "output_type": "stream",
     "text": [
      "Combining ConvexPLR scores\n",
      "\n",
      "[2023-Sep-02 23:39:53]: Rescoring with ConvexPLR complete in 19.4697!\n",
      "\n",
      "[2023-Sep-02 23:39:53]: Rescoring complete in 19.4725!\n",
      "\n",
      "[2023-Sep-02 23:39:53]: Skipping gnina rescoring...\n",
      "\n",
      "[2023-Sep-02 23:39:53]: Skipping AD4 rescoring...\n",
      "\n",
      "[2023-Sep-02 23:39:53]: Skipping chemplp rescoring...\n",
      "\n",
      "[2023-Sep-02 23:39:53]: Skipping rfscorevs rescoring...\n",
      "\n",
      "[2023-Sep-02 23:39:53]: Skipping LinF9 rescoring...\n",
      "\n",
      "[2023-Sep-02 23:39:53]: Skipping RTMScore rescoring...\n",
      "\n",
      "[2023-Sep-02 23:39:53]: Skipping SCORCH rescoring...\n",
      "\n",
      "[2023-Sep-02 23:39:53]: Skipping vinardo rescoring...\n",
      "\n",
      "[2023-Sep-02 23:39:53]: Skipping KORPL rescoring...\n",
      "Splitting SDF file bestpose_clustered.sdf ...\n"
     ]
    },
    {
     "name": "stderr",
     "output_type": "stream",
     "text": [
      "Splitting files: 100%|██████████| 28/28 [00:09<00:00,  2.90it/s]\n"
     ]
    },
    {
     "name": "stdout",
     "output_type": "stream",
     "text": [
      "Split docking library into 28 files each containing 963 compounds\n"
     ]
    },
    {
     "name": "stderr",
     "output_type": "stream",
     "text": [
      "Submitting ConvexPLR rescoring jobs: 100%|██████████| 28/28 [00:00<00:00, 36.92file/s]\n",
      "Rescoring with ConvexPLR: 100%|██████████| 28/28 [00:27<00:00,  1.01file/s]\n"
     ]
    },
    {
     "name": "stdout",
     "output_type": "stream",
     "text": [
      "Combining ConvexPLR scores\n",
      "\n",
      "[2023-Sep-02 23:40:49]: Rescoring with ConvexPLR complete in 55.9640!\n",
      "\n",
      "[2023-Sep-02 23:40:49]: Rescoring complete in 55.9664!\n",
      "\n",
      "[2023-Sep-02 23:40:49]: Skipping gnina rescoring...\n",
      "\n",
      "[2023-Sep-02 23:40:49]: Skipping AD4 rescoring...\n",
      "\n",
      "[2023-Sep-02 23:40:49]: Skipping chemplp rescoring...\n",
      "\n",
      "[2023-Sep-02 23:40:49]: Skipping rfscorevs rescoring...\n",
      "\n",
      "[2023-Sep-02 23:40:49]: Skipping LinF9 rescoring...\n",
      "\n",
      "[2023-Sep-02 23:40:49]: Skipping RTMScore rescoring...\n",
      "\n",
      "[2023-Sep-02 23:40:49]: Skipping SCORCH rescoring...\n",
      "\n",
      "[2023-Sep-02 23:40:49]: Skipping vinardo rescoring...\n",
      "\n",
      "[2023-Sep-02 23:40:49]: Skipping KORPL rescoring...\n",
      "Splitting SDF file bestpose_GNINA_clustered.sdf ...\n"
     ]
    },
    {
     "name": "stderr",
     "output_type": "stream",
     "text": [
      "Splitting files: 100%|██████████| 28/28 [00:03<00:00,  8.31it/s]\n"
     ]
    },
    {
     "name": "stdout",
     "output_type": "stream",
     "text": [
      "Split docking library into 28 files each containing 327 compounds\n"
     ]
    },
    {
     "name": "stderr",
     "output_type": "stream",
     "text": [
      "Submitting ConvexPLR rescoring jobs: 100%|██████████| 28/28 [00:00<00:00, 37.61file/s]\n",
      "Rescoring with ConvexPLR: 100%|██████████| 28/28 [00:08<00:00,  3.15file/s]\n"
     ]
    },
    {
     "name": "stdout",
     "output_type": "stream",
     "text": [
      "Combining ConvexPLR scores\n",
      "\n",
      "[2023-Sep-02 23:41:08]: Rescoring with ConvexPLR complete in 18.8456!\n",
      "\n",
      "[2023-Sep-02 23:41:08]: Rescoring complete in 18.8475!\n",
      "\n",
      "[2023-Sep-02 23:41:08]: Skipping gnina rescoring...\n",
      "\n",
      "[2023-Sep-02 23:41:08]: Skipping AD4 rescoring...\n",
      "\n",
      "[2023-Sep-02 23:41:08]: Skipping chemplp rescoring...\n",
      "\n",
      "[2023-Sep-02 23:41:08]: Skipping rfscorevs rescoring...\n",
      "\n",
      "[2023-Sep-02 23:41:08]: Skipping LinF9 rescoring...\n",
      "\n",
      "[2023-Sep-02 23:41:08]: Skipping RTMScore rescoring...\n",
      "\n",
      "[2023-Sep-02 23:41:08]: Skipping SCORCH rescoring...\n",
      "\n",
      "[2023-Sep-02 23:41:08]: Skipping vinardo rescoring...\n",
      "\n",
      "[2023-Sep-02 23:41:08]: Skipping KORPL rescoring...\n",
      "Splitting SDF file bestpose_SMINA_clustered.sdf ...\n"
     ]
    },
    {
     "name": "stderr",
     "output_type": "stream",
     "text": [
      "Splitting files: 100%|██████████| 28/28 [00:03<00:00,  8.28it/s]\n"
     ]
    },
    {
     "name": "stdout",
     "output_type": "stream",
     "text": [
      "Split docking library into 28 files each containing 327 compounds\n"
     ]
    },
    {
     "name": "stderr",
     "output_type": "stream",
     "text": [
      "Submitting ConvexPLR rescoring jobs: 100%|██████████| 28/28 [00:00<00:00, 34.50file/s]\n",
      "Rescoring with ConvexPLR: 100%|██████████| 28/28 [00:09<00:00,  2.89file/s]\n"
     ]
    },
    {
     "name": "stdout",
     "output_type": "stream",
     "text": [
      "Combining ConvexPLR scores\n",
      "\n",
      "[2023-Sep-02 23:41:28]: Rescoring with ConvexPLR complete in 19.6871!\n",
      "\n",
      "[2023-Sep-02 23:41:28]: Rescoring complete in 19.6902!\n",
      "\n",
      "[2023-Sep-02 23:41:28]: Skipping gnina rescoring...\n",
      "\n",
      "[2023-Sep-02 23:41:28]: Skipping AD4 rescoring...\n",
      "\n",
      "[2023-Sep-02 23:41:28]: Skipping chemplp rescoring...\n",
      "\n",
      "[2023-Sep-02 23:41:28]: Skipping rfscorevs rescoring...\n",
      "\n",
      "[2023-Sep-02 23:41:28]: Skipping LinF9 rescoring...\n",
      "\n",
      "[2023-Sep-02 23:41:28]: Skipping RTMScore rescoring...\n",
      "\n",
      "[2023-Sep-02 23:41:28]: Skipping SCORCH rescoring...\n",
      "\n",
      "[2023-Sep-02 23:41:28]: Skipping vinardo rescoring...\n",
      "\n",
      "[2023-Sep-02 23:41:28]: Skipping KORPL rescoring...\n",
      "Splitting SDF file bestpose_PLANTS_clustered.sdf ...\n"
     ]
    },
    {
     "name": "stderr",
     "output_type": "stream",
     "text": [
      "Splitting files: 100%|██████████| 28/28 [00:03<00:00,  8.03it/s]\n"
     ]
    },
    {
     "name": "stdout",
     "output_type": "stream",
     "text": [
      "Split docking library into 28 files each containing 310 compounds\n"
     ]
    },
    {
     "name": "stderr",
     "output_type": "stream",
     "text": [
      "Submitting ConvexPLR rescoring jobs: 100%|██████████| 28/28 [00:00<00:00, 36.83file/s]\n",
      "Rescoring with ConvexPLR: 100%|██████████| 28/28 [00:09<00:00,  2.88file/s]\n"
     ]
    },
    {
     "name": "stdout",
     "output_type": "stream",
     "text": [
      "Combining ConvexPLR scores\n",
      "\n",
      "[2023-Sep-02 23:41:47]: Rescoring with ConvexPLR complete in 19.6397!\n",
      "\n",
      "[2023-Sep-02 23:41:47]: Rescoring complete in 19.6417!\n",
      "Loading library\n",
      "\n",
      "[2023-Sep-02 23:42:06]: Calculating consensus methods for every possible score combination...\n"
     ]
    },
    {
     "name": "stderr",
     "output_type": "stream",
     "text": [
      "100%|██████████| 8/8 [19:09<00:00, 143.63s/it]\n",
      " 16%|█▌        | 5/31 [1:58:36<9:18:43, 1289.35s/it]"
     ]
    },
    {
     "name": "stdout",
     "output_type": "stream",
     "text": [
      "lkha4\n",
      "The working directory has been set to: /home/alacournola/DUD-E/lkha4\n",
      "\n",
      "[2023-Sep-03 00:01:26]: Extracting pocket from /home/alacournola/DUD-E/lkha4/receptor_protoss_prepared.pdb using /home/alacournola/DUD-E/lkha4/crystal_ligand_protoss.sdf as reference ligand\n",
      "\n",
      "[2023-Sep-03 00:01:40]: Finished extracting pocket from /home/alacournola/DUD-E/lkha4/receptor_protoss_prepared.pdb using /home/alacournola/DUD-E/lkha4/crystal_ligand_protoss.sdf as reference ligand\n",
      "\n",
      "[2023-Sep-03 00:01:40]: Skipping gnina rescoring...\n",
      "\n",
      "[2023-Sep-03 00:01:40]: Skipping AD4 rescoring...\n",
      "\n",
      "[2023-Sep-03 00:01:40]: Skipping chemplp rescoring...\n",
      "\n",
      "[2023-Sep-03 00:01:40]: Skipping rfscorevs rescoring...\n",
      "\n",
      "[2023-Sep-03 00:01:40]: Skipping LinF9 rescoring...\n",
      "\n",
      "[2023-Sep-03 00:01:40]: Skipping RTMScore rescoring...\n",
      "\n",
      "[2023-Sep-03 00:01:40]: Skipping SCORCH rescoring...\n",
      "\n",
      "[2023-Sep-03 00:01:40]: Skipping vinardo rescoring...\n",
      "\n",
      "[2023-Sep-03 00:01:40]: Skipping KORPL rescoring...\n",
      "Splitting SDF file RMSD_clustered.sdf ...\n"
     ]
    },
    {
     "name": "stderr",
     "output_type": "stream",
     "text": [
      "Splitting files: 100%|██████████| 28/28 [00:10<00:00,  2.56it/s]\n"
     ]
    },
    {
     "name": "stdout",
     "output_type": "stream",
     "text": [
      "Split docking library into 28 files each containing 1004 compounds\n"
     ]
    },
    {
     "name": "stderr",
     "output_type": "stream",
     "text": [
      "Submitting ConvexPLR rescoring jobs: 100%|██████████| 28/28 [00:00<00:00, 35.93file/s]\n",
      "Rescoring with ConvexPLR: 100%|██████████| 28/28 [00:35<00:00,  1.27s/file]\n"
     ]
    },
    {
     "name": "stdout",
     "output_type": "stream",
     "text": [
      "Combining ConvexPLR scores\n",
      "\n",
      "[2023-Sep-03 00:02:46]: Rescoring with ConvexPLR complete in 65.8435!\n",
      "\n",
      "[2023-Sep-03 00:02:46]: Rescoring complete in 65.8463!\n",
      "\n",
      "[2023-Sep-03 00:02:46]: Skipping gnina rescoring...\n",
      "\n",
      "[2023-Sep-03 00:02:46]: Skipping AD4 rescoring...\n",
      "\n",
      "[2023-Sep-03 00:02:46]: Skipping chemplp rescoring...\n",
      "\n",
      "[2023-Sep-03 00:02:46]: Skipping rfscorevs rescoring...\n",
      "\n",
      "[2023-Sep-03 00:02:46]: Skipping LinF9 rescoring...\n",
      "\n",
      "[2023-Sep-03 00:02:46]: Skipping RTMScore rescoring...\n",
      "\n",
      "[2023-Sep-03 00:02:46]: Skipping SCORCH rescoring...\n",
      "\n",
      "[2023-Sep-03 00:02:46]: Skipping vinardo rescoring...\n",
      "\n",
      "[2023-Sep-03 00:02:46]: Skipping KORPL rescoring...\n",
      "Splitting SDF file spyRMSD_clustered.sdf ...\n"
     ]
    },
    {
     "name": "stderr",
     "output_type": "stream",
     "text": [
      "Splitting files: 100%|██████████| 28/28 [00:11<00:00,  2.41it/s]\n"
     ]
    },
    {
     "name": "stdout",
     "output_type": "stream",
     "text": [
      "Split docking library into 28 files each containing 1011 compounds\n"
     ]
    },
    {
     "name": "stderr",
     "output_type": "stream",
     "text": [
      "Submitting ConvexPLR rescoring jobs: 100%|██████████| 28/28 [00:00<00:00, 35.48file/s]\n",
      "Rescoring with ConvexPLR: 100%|██████████| 28/28 [00:35<00:00,  1.28s/file]\n"
     ]
    },
    {
     "name": "stdout",
     "output_type": "stream",
     "text": [
      "Combining ConvexPLR scores\n",
      "\n",
      "[2023-Sep-03 00:03:53]: Rescoring with ConvexPLR complete in 67.1505!\n",
      "\n",
      "[2023-Sep-03 00:03:53]: Rescoring complete in 67.1528!\n",
      "\n",
      "[2023-Sep-03 00:03:53]: Skipping gnina rescoring...\n",
      "\n",
      "[2023-Sep-03 00:03:53]: Skipping AD4 rescoring...\n",
      "\n",
      "[2023-Sep-03 00:03:53]: Skipping chemplp rescoring...\n",
      "\n",
      "[2023-Sep-03 00:03:53]: Skipping rfscorevs rescoring...\n",
      "\n",
      "[2023-Sep-03 00:03:53]: Skipping LinF9 rescoring...\n",
      "\n",
      "[2023-Sep-03 00:03:53]: Skipping RTMScore rescoring...\n",
      "\n",
      "[2023-Sep-03 00:03:53]: Skipping SCORCH rescoring...\n",
      "\n",
      "[2023-Sep-03 00:03:53]: Skipping vinardo rescoring...\n",
      "\n",
      "[2023-Sep-03 00:03:53]: Skipping KORPL rescoring...\n",
      "Splitting SDF file espsim_clustered.sdf ...\n"
     ]
    },
    {
     "name": "stderr",
     "output_type": "stream",
     "text": [
      "Splitting files: 100%|██████████| 28/28 [00:08<00:00,  3.22it/s]\n"
     ]
    },
    {
     "name": "stdout",
     "output_type": "stream",
     "text": [
      "Split docking library into 28 files each containing 811 compounds\n"
     ]
    },
    {
     "name": "stderr",
     "output_type": "stream",
     "text": [
      "Submitting ConvexPLR rescoring jobs: 100%|██████████| 28/28 [00:00<00:00, 35.64file/s]\n",
      "Rescoring with ConvexPLR: 100%|██████████| 28/28 [00:27<00:00,  1.02file/s]\n"
     ]
    },
    {
     "name": "stdout",
     "output_type": "stream",
     "text": [
      "Combining ConvexPLR scores\n",
      "\n",
      "[2023-Sep-03 00:04:45]: Rescoring with ConvexPLR complete in 51.7757!\n",
      "\n",
      "[2023-Sep-03 00:04:45]: Rescoring complete in 51.7779!\n",
      "\n",
      "[2023-Sep-03 00:04:45]: Skipping gnina rescoring...\n",
      "\n",
      "[2023-Sep-03 00:04:45]: Skipping AD4 rescoring...\n",
      "\n",
      "[2023-Sep-03 00:04:45]: Skipping chemplp rescoring...\n",
      "\n",
      "[2023-Sep-03 00:04:45]: Skipping rfscorevs rescoring...\n",
      "\n",
      "[2023-Sep-03 00:04:45]: Skipping LinF9 rescoring...\n",
      "\n",
      "[2023-Sep-03 00:04:45]: Skipping RTMScore rescoring...\n",
      "\n",
      "[2023-Sep-03 00:04:45]: Skipping SCORCH rescoring...\n",
      "\n",
      "[2023-Sep-03 00:04:45]: Skipping vinardo rescoring...\n",
      "\n",
      "[2023-Sep-03 00:04:45]: Skipping KORPL rescoring...\n",
      "Splitting SDF file 3DScore_clustered.sdf ...\n"
     ]
    },
    {
     "name": "stderr",
     "output_type": "stream",
     "text": [
      "Splitting files: 100%|██████████| 28/28 [00:03<00:00,  7.38it/s]\n"
     ]
    },
    {
     "name": "stdout",
     "output_type": "stream",
     "text": [
      "Split docking library into 28 files each containing 334 compounds\n"
     ]
    },
    {
     "name": "stderr",
     "output_type": "stream",
     "text": [
      "Submitting ConvexPLR rescoring jobs: 100%|██████████| 28/28 [00:01<00:00, 26.99file/s]\n",
      "Rescoring with ConvexPLR: 100%|██████████| 28/28 [00:14<00:00,  1.98file/s]\n"
     ]
    },
    {
     "name": "stdout",
     "output_type": "stream",
     "text": [
      "Combining ConvexPLR scores\n",
      "\n",
      "[2023-Sep-03 00:05:10]: Rescoring with ConvexPLR complete in 25.1563!\n",
      "\n",
      "[2023-Sep-03 00:05:10]: Rescoring complete in 25.1581!\n",
      "\n",
      "[2023-Sep-03 00:05:10]: Skipping gnina rescoring...\n",
      "\n",
      "[2023-Sep-03 00:05:10]: Skipping AD4 rescoring...\n",
      "\n",
      "[2023-Sep-03 00:05:10]: Skipping chemplp rescoring...\n",
      "\n",
      "[2023-Sep-03 00:05:10]: Skipping rfscorevs rescoring...\n",
      "\n",
      "[2023-Sep-03 00:05:10]: Skipping LinF9 rescoring...\n",
      "\n",
      "[2023-Sep-03 00:05:10]: Skipping RTMScore rescoring...\n",
      "\n",
      "[2023-Sep-03 00:05:10]: Skipping SCORCH rescoring...\n",
      "\n",
      "[2023-Sep-03 00:05:10]: Skipping vinardo rescoring...\n",
      "\n",
      "[2023-Sep-03 00:05:10]: Skipping KORPL rescoring...\n",
      "Splitting SDF file bestpose_clustered.sdf ...\n"
     ]
    },
    {
     "name": "stderr",
     "output_type": "stream",
     "text": [
      "Splitting files: 100%|██████████| 28/28 [00:11<00:00,  2.44it/s]\n"
     ]
    },
    {
     "name": "stdout",
     "output_type": "stream",
     "text": [
      "Split docking library into 28 files each containing 991 compounds\n"
     ]
    },
    {
     "name": "stderr",
     "output_type": "stream",
     "text": [
      "Submitting ConvexPLR rescoring jobs: 100%|██████████| 28/28 [00:00<00:00, 34.05file/s]\n",
      "Rescoring with ConvexPLR: 100%|██████████| 28/28 [00:35<00:00,  1.27s/file]\n"
     ]
    },
    {
     "name": "stdout",
     "output_type": "stream",
     "text": [
      "Combining ConvexPLR scores\n",
      "\n",
      "[2023-Sep-03 00:06:17]: Rescoring with ConvexPLR complete in 67.1663!\n",
      "\n",
      "[2023-Sep-03 00:06:17]: Rescoring complete in 67.1689!\n",
      "\n",
      "[2023-Sep-03 00:06:17]: Skipping gnina rescoring...\n",
      "\n",
      "[2023-Sep-03 00:06:17]: Skipping AD4 rescoring...\n",
      "\n",
      "[2023-Sep-03 00:06:17]: Skipping chemplp rescoring...\n",
      "\n",
      "[2023-Sep-03 00:06:17]: Skipping rfscorevs rescoring...\n",
      "\n",
      "[2023-Sep-03 00:06:17]: Skipping LinF9 rescoring...\n",
      "\n",
      "[2023-Sep-03 00:06:17]: Skipping RTMScore rescoring...\n",
      "\n",
      "[2023-Sep-03 00:06:17]: Skipping SCORCH rescoring...\n",
      "\n",
      "[2023-Sep-03 00:06:17]: Skipping vinardo rescoring...\n",
      "\n",
      "[2023-Sep-03 00:06:17]: Skipping KORPL rescoring...\n",
      "Splitting SDF file bestpose_GNINA_clustered.sdf ...\n"
     ]
    },
    {
     "name": "stderr",
     "output_type": "stream",
     "text": [
      "Splitting files: 100%|██████████| 28/28 [00:03<00:00,  7.59it/s]\n"
     ]
    },
    {
     "name": "stdout",
     "output_type": "stream",
     "text": [
      "Split docking library into 28 files each containing 332 compounds\n"
     ]
    },
    {
     "name": "stderr",
     "output_type": "stream",
     "text": [
      "Submitting ConvexPLR rescoring jobs: 100%|██████████| 28/28 [00:00<00:00, 35.79file/s]\n",
      "Rescoring with ConvexPLR: 100%|██████████| 28/28 [00:14<00:00,  1.97file/s]\n"
     ]
    },
    {
     "name": "stdout",
     "output_type": "stream",
     "text": [
      "Combining ConvexPLR scores\n",
      "\n",
      "[2023-Sep-03 00:06:42]: Rescoring with ConvexPLR complete in 24.9494!\n",
      "\n",
      "[2023-Sep-03 00:06:42]: Rescoring complete in 24.9512!\n",
      "\n",
      "[2023-Sep-03 00:06:42]: Skipping gnina rescoring...\n",
      "\n",
      "[2023-Sep-03 00:06:42]: Skipping AD4 rescoring...\n",
      "\n",
      "[2023-Sep-03 00:06:42]: Skipping chemplp rescoring...\n",
      "\n",
      "[2023-Sep-03 00:06:42]: Skipping rfscorevs rescoring...\n",
      "\n",
      "[2023-Sep-03 00:06:42]: Skipping LinF9 rescoring...\n",
      "\n",
      "[2023-Sep-03 00:06:42]: Skipping RTMScore rescoring...\n",
      "\n",
      "[2023-Sep-03 00:06:42]: Skipping SCORCH rescoring...\n",
      "\n",
      "[2023-Sep-03 00:06:42]: Skipping vinardo rescoring...\n",
      "\n",
      "[2023-Sep-03 00:06:42]: Skipping KORPL rescoring...\n",
      "Splitting SDF file bestpose_SMINA_clustered.sdf ...\n"
     ]
    },
    {
     "name": "stderr",
     "output_type": "stream",
     "text": [
      "Splitting files: 100%|██████████| 28/28 [00:03<00:00,  7.06it/s]\n"
     ]
    },
    {
     "name": "stdout",
     "output_type": "stream",
     "text": [
      "Split docking library into 28 files each containing 332 compounds\n"
     ]
    },
    {
     "name": "stderr",
     "output_type": "stream",
     "text": [
      "Submitting ConvexPLR rescoring jobs: 100%|██████████| 28/28 [00:00<00:00, 35.78file/s]\n",
      "Rescoring with ConvexPLR: 100%|██████████| 28/28 [00:14<00:00,  2.00file/s]\n"
     ]
    },
    {
     "name": "stdout",
     "output_type": "stream",
     "text": [
      "Combining ConvexPLR scores\n",
      "\n",
      "[2023-Sep-03 00:07:07]: Rescoring with ConvexPLR complete in 24.8014!\n",
      "\n",
      "[2023-Sep-03 00:07:07]: Rescoring complete in 24.8040!\n",
      "\n",
      "[2023-Sep-03 00:07:07]: Skipping gnina rescoring...\n",
      "\n",
      "[2023-Sep-03 00:07:07]: Skipping AD4 rescoring...\n",
      "\n",
      "[2023-Sep-03 00:07:07]: Skipping chemplp rescoring...\n",
      "\n",
      "[2023-Sep-03 00:07:07]: Skipping rfscorevs rescoring...\n",
      "\n",
      "[2023-Sep-03 00:07:07]: Skipping LinF9 rescoring...\n",
      "\n",
      "[2023-Sep-03 00:07:07]: Skipping RTMScore rescoring...\n",
      "\n",
      "[2023-Sep-03 00:07:07]: Skipping SCORCH rescoring...\n",
      "\n",
      "[2023-Sep-03 00:07:07]: Skipping vinardo rescoring...\n",
      "\n",
      "[2023-Sep-03 00:07:07]: Skipping KORPL rescoring...\n",
      "Splitting SDF file bestpose_PLANTS_clustered.sdf ...\n"
     ]
    },
    {
     "name": "stderr",
     "output_type": "stream",
     "text": [
      "Splitting files: 100%|██████████| 28/28 [00:03<00:00,  7.78it/s]\n"
     ]
    },
    {
     "name": "stdout",
     "output_type": "stream",
     "text": [
      "Split docking library into 28 files each containing 328 compounds\n"
     ]
    },
    {
     "name": "stderr",
     "output_type": "stream",
     "text": [
      "Submitting ConvexPLR rescoring jobs: 100%|██████████| 28/28 [00:00<00:00, 35.30file/s]\n",
      "Rescoring with ConvexPLR: 100%|██████████| 28/28 [00:13<00:00,  2.02file/s]\n"
     ]
    },
    {
     "name": "stdout",
     "output_type": "stream",
     "text": [
      "Combining ConvexPLR scores\n",
      "\n",
      "[2023-Sep-03 00:07:31]: Rescoring with ConvexPLR complete in 24.3041!\n",
      "\n",
      "[2023-Sep-03 00:07:31]: Rescoring complete in 24.3059!\n",
      "Loading library\n",
      "\n",
      "[2023-Sep-03 00:07:50]: Calculating consensus methods for every possible score combination...\n"
     ]
    },
    {
     "name": "stderr",
     "output_type": "stream",
     "text": [
      "100%|██████████| 8/8 [19:38<00:00, 147.35s/it]\n",
      " 19%|█▉        | 6/31 [2:24:50<9:37:36, 1386.25s/it]"
     ]
    },
    {
     "name": "stdout",
     "output_type": "stream",
     "text": [
      "hmdh\n",
      "The working directory has been set to: /home/alacournola/DUD-E/hmdh\n",
      "\n",
      "[2023-Sep-03 00:27:40]: Extracting pocket from /home/alacournola/DUD-E/hmdh/receptor_protoss_prepared.pdb using /home/alacournola/DUD-E/hmdh/crystal_ligand_protoss.sdf as reference ligand\n",
      "\n",
      "[2023-Sep-03 00:28:31]: Finished extracting pocket from /home/alacournola/DUD-E/hmdh/receptor_protoss_prepared.pdb using /home/alacournola/DUD-E/hmdh/crystal_ligand_protoss.sdf as reference ligand\n",
      "\n",
      "[2023-Sep-03 00:28:31]: Skipping gnina rescoring...\n",
      "\n",
      "[2023-Sep-03 00:28:31]: Skipping AD4 rescoring...\n",
      "\n",
      "[2023-Sep-03 00:28:31]: Skipping chemplp rescoring...\n",
      "\n",
      "[2023-Sep-03 00:28:31]: Skipping rfscorevs rescoring...\n",
      "\n",
      "[2023-Sep-03 00:28:31]: Skipping LinF9 rescoring...\n",
      "\n",
      "[2023-Sep-03 00:28:31]: Skipping RTMScore rescoring...\n",
      "\n",
      "[2023-Sep-03 00:28:31]: Skipping SCORCH rescoring...\n",
      "\n",
      "[2023-Sep-03 00:28:31]: Skipping vinardo rescoring...\n",
      "\n",
      "[2023-Sep-03 00:28:31]: Skipping KORPL rescoring...\n",
      "Splitting SDF file RMSD_clustered.sdf ...\n"
     ]
    },
    {
     "name": "stderr",
     "output_type": "stream",
     "text": [
      "Splitting files: 100%|██████████| 28/28 [00:10<00:00,  2.76it/s]\n"
     ]
    },
    {
     "name": "stdout",
     "output_type": "stream",
     "text": [
      "Split docking library into 28 files each containing 799 compounds\n"
     ]
    },
    {
     "name": "stderr",
     "output_type": "stream",
     "text": [
      "Submitting ConvexPLR rescoring jobs: 100%|██████████| 28/28 [00:00<00:00, 33.96file/s]\n",
      "Rescoring with ConvexPLR: 100%|██████████| 28/28 [00:24<00:00,  1.16file/s]\n"
     ]
    },
    {
     "name": "stdout",
     "output_type": "stream",
     "text": [
      "Combining ConvexPLR scores\n",
      "\n",
      "[2023-Sep-03 00:29:22]: Rescoring with ConvexPLR complete in 51.5428!\n",
      "\n",
      "[2023-Sep-03 00:29:22]: Rescoring complete in 51.5460!\n",
      "\n",
      "[2023-Sep-03 00:29:22]: Skipping gnina rescoring...\n",
      "\n",
      "[2023-Sep-03 00:29:22]: Skipping AD4 rescoring...\n",
      "\n",
      "[2023-Sep-03 00:29:22]: Skipping chemplp rescoring...\n",
      "\n",
      "[2023-Sep-03 00:29:22]: Skipping rfscorevs rescoring...\n",
      "\n",
      "[2023-Sep-03 00:29:22]: Skipping LinF9 rescoring...\n",
      "\n",
      "[2023-Sep-03 00:29:22]: Skipping RTMScore rescoring...\n",
      "\n",
      "[2023-Sep-03 00:29:22]: Skipping SCORCH rescoring...\n",
      "\n",
      "[2023-Sep-03 00:29:22]: Skipping vinardo rescoring...\n",
      "\n",
      "[2023-Sep-03 00:29:22]: Skipping KORPL rescoring...\n",
      "Splitting SDF file spyRMSD_clustered.sdf ...\n"
     ]
    },
    {
     "name": "stderr",
     "output_type": "stream",
     "text": [
      "Splitting files: 100%|██████████| 28/28 [00:09<00:00,  3.01it/s]\n"
     ]
    },
    {
     "name": "stdout",
     "output_type": "stream",
     "text": [
      "Split docking library into 28 files each containing 802 compounds\n"
     ]
    },
    {
     "name": "stderr",
     "output_type": "stream",
     "text": [
      "Submitting ConvexPLR rescoring jobs: 100%|██████████| 28/28 [00:00<00:00, 34.14file/s]\n",
      "Rescoring with ConvexPLR: 100%|██████████| 28/28 [00:24<00:00,  1.16file/s]\n"
     ]
    },
    {
     "name": "stdout",
     "output_type": "stream",
     "text": [
      "Combining ConvexPLR scores\n",
      "\n",
      "[2023-Sep-03 00:30:13]: Rescoring with ConvexPLR complete in 50.3225!\n",
      "\n",
      "[2023-Sep-03 00:30:13]: Rescoring complete in 50.3249!\n",
      "\n",
      "[2023-Sep-03 00:30:13]: Skipping gnina rescoring...\n",
      "\n",
      "[2023-Sep-03 00:30:13]: Skipping AD4 rescoring...\n",
      "\n",
      "[2023-Sep-03 00:30:13]: Skipping chemplp rescoring...\n",
      "\n",
      "[2023-Sep-03 00:30:13]: Skipping rfscorevs rescoring...\n",
      "\n",
      "[2023-Sep-03 00:30:13]: Skipping LinF9 rescoring...\n",
      "\n",
      "[2023-Sep-03 00:30:13]: Skipping RTMScore rescoring...\n",
      "\n",
      "[2023-Sep-03 00:30:13]: Skipping SCORCH rescoring...\n",
      "\n",
      "[2023-Sep-03 00:30:13]: Skipping vinardo rescoring...\n",
      "\n",
      "[2023-Sep-03 00:30:13]: Skipping KORPL rescoring...\n",
      "Splitting SDF file espsim_clustered.sdf ...\n"
     ]
    },
    {
     "name": "stderr",
     "output_type": "stream",
     "text": [
      "Splitting files: 100%|██████████| 28/28 [00:08<00:00,  3.15it/s]\n"
     ]
    },
    {
     "name": "stdout",
     "output_type": "stream",
     "text": [
      "Split docking library into 28 files each containing 744 compounds\n"
     ]
    },
    {
     "name": "stderr",
     "output_type": "stream",
     "text": [
      "Submitting ConvexPLR rescoring jobs: 100%|██████████| 28/28 [00:00<00:00, 35.40file/s]\n",
      "Rescoring with ConvexPLR: 100%|██████████| 28/28 [00:22<00:00,  1.23file/s]\n"
     ]
    },
    {
     "name": "stdout",
     "output_type": "stream",
     "text": [
      "Combining ConvexPLR scores\n",
      "\n",
      "[2023-Sep-03 00:31:00]: Rescoring with ConvexPLR complete in 46.8944!\n",
      "\n",
      "[2023-Sep-03 00:31:00]: Rescoring complete in 46.8974!\n",
      "\n",
      "[2023-Sep-03 00:31:00]: Skipping gnina rescoring...\n",
      "\n",
      "[2023-Sep-03 00:31:00]: Skipping AD4 rescoring...\n",
      "\n",
      "[2023-Sep-03 00:31:00]: Skipping chemplp rescoring...\n",
      "\n",
      "[2023-Sep-03 00:31:00]: Skipping rfscorevs rescoring...\n",
      "\n",
      "[2023-Sep-03 00:31:00]: Skipping LinF9 rescoring...\n",
      "\n",
      "[2023-Sep-03 00:31:00]: Skipping RTMScore rescoring...\n",
      "\n",
      "[2023-Sep-03 00:31:00]: Skipping SCORCH rescoring...\n",
      "\n",
      "[2023-Sep-03 00:31:00]: Skipping vinardo rescoring...\n",
      "\n",
      "[2023-Sep-03 00:31:00]: Skipping KORPL rescoring...\n",
      "Splitting SDF file 3DScore_clustered.sdf ...\n"
     ]
    },
    {
     "name": "stderr",
     "output_type": "stream",
     "text": [
      "Splitting files: 100%|██████████| 28/28 [00:04<00:00,  6.68it/s]\n"
     ]
    },
    {
     "name": "stdout",
     "output_type": "stream",
     "text": [
      "Split docking library into 28 files each containing 318 compounds\n"
     ]
    },
    {
     "name": "stderr",
     "output_type": "stream",
     "text": [
      "Submitting ConvexPLR rescoring jobs: 100%|██████████| 28/28 [00:00<00:00, 35.02file/s]\n",
      "Rescoring with ConvexPLR: 100%|██████████| 28/28 [00:11<00:00,  2.45file/s]\n"
     ]
    },
    {
     "name": "stdout",
     "output_type": "stream",
     "text": [
      "Combining ConvexPLR scores\n",
      "\n",
      "[2023-Sep-03 00:31:22]: Rescoring with ConvexPLR complete in 22.8206!\n",
      "\n",
      "[2023-Sep-03 00:31:22]: Rescoring complete in 22.8234!\n",
      "\n",
      "[2023-Sep-03 00:31:22]: Skipping gnina rescoring...\n",
      "\n",
      "[2023-Sep-03 00:31:22]: Skipping AD4 rescoring...\n",
      "\n",
      "[2023-Sep-03 00:31:22]: Skipping chemplp rescoring...\n",
      "\n",
      "[2023-Sep-03 00:31:22]: Skipping rfscorevs rescoring...\n",
      "\n",
      "[2023-Sep-03 00:31:22]: Skipping LinF9 rescoring...\n",
      "\n",
      "[2023-Sep-03 00:31:22]: Skipping RTMScore rescoring...\n",
      "\n",
      "[2023-Sep-03 00:31:22]: Skipping SCORCH rescoring...\n",
      "\n",
      "[2023-Sep-03 00:31:22]: Skipping vinardo rescoring...\n",
      "\n",
      "[2023-Sep-03 00:31:22]: Skipping KORPL rescoring...\n",
      "Splitting SDF file bestpose_clustered.sdf ...\n"
     ]
    },
    {
     "name": "stderr",
     "output_type": "stream",
     "text": [
      "Splitting files: 100%|██████████| 28/28 [00:10<00:00,  2.57it/s]\n"
     ]
    },
    {
     "name": "stdout",
     "output_type": "stream",
     "text": [
      "Split docking library into 28 files each containing 938 compounds\n"
     ]
    },
    {
     "name": "stderr",
     "output_type": "stream",
     "text": [
      "Submitting ConvexPLR rescoring jobs: 100%|██████████| 28/28 [00:00<00:00, 34.37file/s]\n",
      "Rescoring with ConvexPLR: 100%|██████████| 28/28 [00:29<00:00,  1.07s/file]\n"
     ]
    },
    {
     "name": "stdout",
     "output_type": "stream",
     "text": [
      "Combining ConvexPLR scores\n",
      "\n",
      "[2023-Sep-03 00:32:23]: Rescoring with ConvexPLR complete in 60.9119!\n",
      "\n",
      "[2023-Sep-03 00:32:23]: Rescoring complete in 60.9146!\n",
      "\n",
      "[2023-Sep-03 00:32:23]: Skipping gnina rescoring...\n",
      "\n",
      "[2023-Sep-03 00:32:23]: Skipping AD4 rescoring...\n",
      "\n",
      "[2023-Sep-03 00:32:23]: Skipping chemplp rescoring...\n",
      "\n",
      "[2023-Sep-03 00:32:23]: Skipping rfscorevs rescoring...\n",
      "\n",
      "[2023-Sep-03 00:32:23]: Skipping LinF9 rescoring...\n",
      "\n",
      "[2023-Sep-03 00:32:23]: Skipping RTMScore rescoring...\n",
      "\n",
      "[2023-Sep-03 00:32:23]: Skipping SCORCH rescoring...\n",
      "\n",
      "[2023-Sep-03 00:32:23]: Skipping vinardo rescoring...\n",
      "\n",
      "[2023-Sep-03 00:32:23]: Skipping KORPL rescoring...\n",
      "Splitting SDF file bestpose_GNINA_clustered.sdf ...\n"
     ]
    },
    {
     "name": "stderr",
     "output_type": "stream",
     "text": [
      "Splitting files: 100%|██████████| 28/28 [00:03<00:00,  7.13it/s]\n"
     ]
    },
    {
     "name": "stdout",
     "output_type": "stream",
     "text": [
      "Split docking library into 28 files each containing 318 compounds\n"
     ]
    },
    {
     "name": "stderr",
     "output_type": "stream",
     "text": [
      "Submitting ConvexPLR rescoring jobs: 100%|██████████| 28/28 [00:00<00:00, 36.33file/s]\n",
      "Rescoring with ConvexPLR: 100%|██████████| 28/28 [00:10<00:00,  2.58file/s]\n"
     ]
    },
    {
     "name": "stdout",
     "output_type": "stream",
     "text": [
      "Combining ConvexPLR scores\n",
      "\n",
      "[2023-Sep-03 00:32:45]: Rescoring with ConvexPLR complete in 22.0999!\n",
      "\n",
      "[2023-Sep-03 00:32:45]: Rescoring complete in 22.1020!\n",
      "\n",
      "[2023-Sep-03 00:32:45]: Skipping gnina rescoring...\n",
      "\n",
      "[2023-Sep-03 00:32:45]: Skipping AD4 rescoring...\n",
      "\n",
      "[2023-Sep-03 00:32:45]: Skipping chemplp rescoring...\n",
      "\n",
      "[2023-Sep-03 00:32:45]: Skipping rfscorevs rescoring...\n",
      "\n",
      "[2023-Sep-03 00:32:45]: Skipping LinF9 rescoring...\n",
      "\n",
      "[2023-Sep-03 00:32:45]: Skipping RTMScore rescoring...\n",
      "\n",
      "[2023-Sep-03 00:32:45]: Skipping SCORCH rescoring...\n",
      "\n",
      "[2023-Sep-03 00:32:45]: Skipping vinardo rescoring...\n",
      "\n",
      "[2023-Sep-03 00:32:45]: Skipping KORPL rescoring...\n",
      "Splitting SDF file bestpose_SMINA_clustered.sdf ...\n"
     ]
    },
    {
     "name": "stderr",
     "output_type": "stream",
     "text": [
      "Splitting files: 100%|██████████| 28/28 [00:03<00:00,  7.25it/s]\n"
     ]
    },
    {
     "name": "stdout",
     "output_type": "stream",
     "text": [
      "Split docking library into 28 files each containing 318 compounds\n"
     ]
    },
    {
     "name": "stderr",
     "output_type": "stream",
     "text": [
      "Submitting ConvexPLR rescoring jobs: 100%|██████████| 28/28 [00:00<00:00, 34.33file/s]\n",
      "Rescoring with ConvexPLR: 100%|██████████| 28/28 [00:14<00:00,  1.94file/s]\n"
     ]
    },
    {
     "name": "stdout",
     "output_type": "stream",
     "text": [
      "Combining ConvexPLR scores\n",
      "\n",
      "[2023-Sep-03 00:33:11]: Rescoring with ConvexPLR complete in 25.6367!\n",
      "\n",
      "[2023-Sep-03 00:33:11]: Rescoring complete in 25.6387!\n",
      "\n",
      "[2023-Sep-03 00:33:11]: Skipping gnina rescoring...\n",
      "\n",
      "[2023-Sep-03 00:33:11]: Skipping AD4 rescoring...\n",
      "\n",
      "[2023-Sep-03 00:33:11]: Skipping chemplp rescoring...\n",
      "\n",
      "[2023-Sep-03 00:33:11]: Skipping rfscorevs rescoring...\n",
      "\n",
      "[2023-Sep-03 00:33:11]: Skipping LinF9 rescoring...\n",
      "\n",
      "[2023-Sep-03 00:33:11]: Skipping RTMScore rescoring...\n",
      "\n",
      "[2023-Sep-03 00:33:11]: Skipping SCORCH rescoring...\n",
      "\n",
      "[2023-Sep-03 00:33:11]: Skipping vinardo rescoring...\n",
      "\n",
      "[2023-Sep-03 00:33:11]: Skipping KORPL rescoring...\n",
      "Splitting SDF file bestpose_PLANTS_clustered.sdf ...\n"
     ]
    },
    {
     "name": "stderr",
     "output_type": "stream",
     "text": [
      "Splitting files: 100%|██████████| 28/28 [00:03<00:00,  7.79it/s]\n"
     ]
    },
    {
     "name": "stdout",
     "output_type": "stream",
     "text": [
      "Split docking library into 28 files each containing 304 compounds\n"
     ]
    },
    {
     "name": "stderr",
     "output_type": "stream",
     "text": [
      "Submitting ConvexPLR rescoring jobs: 100%|██████████| 28/28 [00:00<00:00, 35.95file/s]\n",
      "Rescoring with ConvexPLR: 100%|██████████| 28/28 [00:11<00:00,  2.53file/s]\n"
     ]
    },
    {
     "name": "stdout",
     "output_type": "stream",
     "text": [
      "Combining ConvexPLR scores\n",
      "\n",
      "[2023-Sep-03 00:33:32]: Rescoring with ConvexPLR complete in 21.4106!\n",
      "\n",
      "[2023-Sep-03 00:33:32]: Rescoring complete in 21.4125!\n",
      "Loading library\n",
      "\n",
      "[2023-Sep-03 00:33:50]: Calculating consensus methods for every possible score combination...\n"
     ]
    },
    {
     "name": "stderr",
     "output_type": "stream",
     "text": [
      "100%|██████████| 8/8 [18:47<00:00, 140.94s/it]\n",
      " 23%|██▎       | 7/31 [2:49:58<9:30:26, 1426.12s/it]"
     ]
    },
    {
     "name": "stdout",
     "output_type": "stream",
     "text": [
      "ptn1\n",
      "The working directory has been set to: /home/alacournola/DUD-E/ptn1\n",
      "\n",
      "[2023-Sep-03 00:52:48]: Extracting pocket from /home/alacournola/DUD-E/ptn1/receptor_protoss_prepared.pdb using /home/alacournola/DUD-E/ptn1/crystal_ligand_protoss.sdf as reference ligand\n",
      "\n",
      "[2023-Sep-03 00:52:54]: Finished extracting pocket from /home/alacournola/DUD-E/ptn1/receptor_protoss_prepared.pdb using /home/alacournola/DUD-E/ptn1/crystal_ligand_protoss.sdf as reference ligand\n",
      "\n",
      "[2023-Sep-03 00:52:54]: Skipping gnina rescoring...\n",
      "\n",
      "[2023-Sep-03 00:52:54]: Skipping AD4 rescoring...\n",
      "\n",
      "[2023-Sep-03 00:52:54]: Skipping chemplp rescoring...\n",
      "\n",
      "[2023-Sep-03 00:52:54]: Skipping rfscorevs rescoring...\n",
      "\n",
      "[2023-Sep-03 00:52:54]: Skipping LinF9 rescoring...\n",
      "\n",
      "[2023-Sep-03 00:52:54]: Skipping RTMScore rescoring...\n",
      "\n",
      "[2023-Sep-03 00:52:54]: Skipping SCORCH rescoring...\n",
      "\n",
      "[2023-Sep-03 00:52:54]: Skipping vinardo rescoring...\n",
      "\n",
      "[2023-Sep-03 00:52:54]: Skipping KORPL rescoring...\n",
      "Splitting SDF file RMSD_clustered.sdf ...\n"
     ]
    },
    {
     "name": "stderr",
     "output_type": "stream",
     "text": [
      "Splitting files: 100%|██████████| 28/28 [00:09<00:00,  3.00it/s]\n"
     ]
    },
    {
     "name": "stdout",
     "output_type": "stream",
     "text": [
      "Split docking library into 28 files each containing 799 compounds\n"
     ]
    },
    {
     "name": "stderr",
     "output_type": "stream",
     "text": [
      "Submitting ConvexPLR rescoring jobs: 100%|██████████| 28/28 [00:00<00:00, 35.42file/s]\n",
      "Rescoring with ConvexPLR: 100%|██████████| 28/28 [00:20<00:00,  1.35file/s]\n"
     ]
    },
    {
     "name": "stdout",
     "output_type": "stream",
     "text": [
      "Combining ConvexPLR scores\n",
      "\n",
      "[2023-Sep-03 00:53:40]: Rescoring with ConvexPLR complete in 46.3368!\n",
      "\n",
      "[2023-Sep-03 00:53:40]: Rescoring complete in 46.3395!\n",
      "\n",
      "[2023-Sep-03 00:53:40]: Skipping gnina rescoring...\n",
      "\n",
      "[2023-Sep-03 00:53:40]: Skipping AD4 rescoring...\n",
      "\n",
      "[2023-Sep-03 00:53:40]: Skipping chemplp rescoring...\n",
      "\n",
      "[2023-Sep-03 00:53:40]: Skipping rfscorevs rescoring...\n",
      "\n",
      "[2023-Sep-03 00:53:40]: Skipping LinF9 rescoring...\n",
      "\n",
      "[2023-Sep-03 00:53:40]: Skipping RTMScore rescoring...\n",
      "\n",
      "[2023-Sep-03 00:53:40]: Skipping SCORCH rescoring...\n",
      "\n",
      "[2023-Sep-03 00:53:40]: Skipping vinardo rescoring...\n",
      "\n",
      "[2023-Sep-03 00:53:40]: Skipping KORPL rescoring...\n",
      "Splitting SDF file spyRMSD_clustered.sdf ...\n"
     ]
    },
    {
     "name": "stderr",
     "output_type": "stream",
     "text": [
      "Splitting files: 100%|██████████| 28/28 [00:10<00:00,  2.79it/s]\n"
     ]
    },
    {
     "name": "stdout",
     "output_type": "stream",
     "text": [
      "Split docking library into 28 files each containing 804 compounds\n"
     ]
    },
    {
     "name": "stderr",
     "output_type": "stream",
     "text": [
      "Submitting ConvexPLR rescoring jobs: 100%|██████████| 28/28 [00:00<00:00, 35.72file/s]\n",
      "Rescoring with ConvexPLR: 100%|██████████| 28/28 [00:21<00:00,  1.33file/s]\n"
     ]
    },
    {
     "name": "stdout",
     "output_type": "stream",
     "text": [
      "Combining ConvexPLR scores\n",
      "\n",
      "[2023-Sep-03 00:54:27]: Rescoring with ConvexPLR complete in 47.0786!\n",
      "\n",
      "[2023-Sep-03 00:54:27]: Rescoring complete in 47.0811!\n",
      "\n",
      "[2023-Sep-03 00:54:27]: Skipping gnina rescoring...\n",
      "\n",
      "[2023-Sep-03 00:54:27]: Skipping AD4 rescoring...\n",
      "\n",
      "[2023-Sep-03 00:54:27]: Skipping chemplp rescoring...\n",
      "\n",
      "[2023-Sep-03 00:54:27]: Skipping rfscorevs rescoring...\n",
      "\n",
      "[2023-Sep-03 00:54:27]: Skipping LinF9 rescoring...\n",
      "\n",
      "[2023-Sep-03 00:54:27]: Skipping RTMScore rescoring...\n",
      "\n",
      "[2023-Sep-03 00:54:27]: Skipping SCORCH rescoring...\n",
      "\n",
      "[2023-Sep-03 00:54:27]: Skipping vinardo rescoring...\n",
      "\n",
      "[2023-Sep-03 00:54:27]: Skipping KORPL rescoring...\n",
      "Splitting SDF file espsim_clustered.sdf ...\n"
     ]
    },
    {
     "name": "stderr",
     "output_type": "stream",
     "text": [
      "Splitting files: 100%|██████████| 28/28 [00:06<00:00,  4.20it/s]\n"
     ]
    },
    {
     "name": "stdout",
     "output_type": "stream",
     "text": [
      "Split docking library into 28 files each containing 556 compounds\n"
     ]
    },
    {
     "name": "stderr",
     "output_type": "stream",
     "text": [
      "Submitting ConvexPLR rescoring jobs: 100%|██████████| 28/28 [00:00<00:00, 34.35file/s]\n",
      "Rescoring with ConvexPLR: 100%|██████████| 28/28 [00:14<00:00,  1.97file/s]\n"
     ]
    },
    {
     "name": "stdout",
     "output_type": "stream",
     "text": [
      "Combining ConvexPLR scores\n",
      "\n",
      "[2023-Sep-03 00:54:59]: Rescoring with ConvexPLR complete in 32.3231!\n",
      "\n",
      "[2023-Sep-03 00:54:59]: Rescoring complete in 32.3255!\n",
      "\n",
      "[2023-Sep-03 00:54:59]: Skipping gnina rescoring...\n",
      "\n",
      "[2023-Sep-03 00:54:59]: Skipping AD4 rescoring...\n",
      "\n",
      "[2023-Sep-03 00:54:59]: Skipping chemplp rescoring...\n",
      "\n",
      "[2023-Sep-03 00:54:59]: Skipping rfscorevs rescoring...\n",
      "\n",
      "[2023-Sep-03 00:54:59]: Skipping LinF9 rescoring...\n",
      "\n",
      "[2023-Sep-03 00:54:59]: Skipping RTMScore rescoring...\n",
      "\n",
      "[2023-Sep-03 00:54:59]: Skipping SCORCH rescoring...\n",
      "\n",
      "[2023-Sep-03 00:54:59]: Skipping vinardo rescoring...\n",
      "\n",
      "[2023-Sep-03 00:54:59]: Skipping KORPL rescoring...\n",
      "Splitting SDF file 3DScore_clustered.sdf ...\n"
     ]
    },
    {
     "name": "stderr",
     "output_type": "stream",
     "text": [
      "Splitting files: 100%|██████████| 28/28 [00:03<00:00,  8.29it/s]\n"
     ]
    },
    {
     "name": "stdout",
     "output_type": "stream",
     "text": [
      "Split docking library into 28 files each containing 253 compounds\n"
     ]
    },
    {
     "name": "stderr",
     "output_type": "stream",
     "text": [
      "Submitting ConvexPLR rescoring jobs: 100%|██████████| 28/28 [00:00<00:00, 34.19file/s]\n",
      "Rescoring with ConvexPLR: 100%|██████████| 28/28 [00:06<00:00,  4.14file/s]\n"
     ]
    },
    {
     "name": "stdout",
     "output_type": "stream",
     "text": [
      "Combining ConvexPLR scores\n",
      "\n",
      "[2023-Sep-03 00:55:15]: Rescoring with ConvexPLR complete in 15.8113!\n",
      "\n",
      "[2023-Sep-03 00:55:15]: Rescoring complete in 15.8139!\n",
      "\n",
      "[2023-Sep-03 00:55:15]: Skipping gnina rescoring...\n",
      "\n",
      "[2023-Sep-03 00:55:15]: Skipping AD4 rescoring...\n",
      "\n",
      "[2023-Sep-03 00:55:15]: Skipping chemplp rescoring...\n",
      "\n",
      "[2023-Sep-03 00:55:15]: Skipping rfscorevs rescoring...\n",
      "\n",
      "[2023-Sep-03 00:55:15]: Skipping LinF9 rescoring...\n",
      "\n",
      "[2023-Sep-03 00:55:15]: Skipping RTMScore rescoring...\n",
      "\n",
      "[2023-Sep-03 00:55:15]: Skipping SCORCH rescoring...\n",
      "\n",
      "[2023-Sep-03 00:55:15]: Skipping vinardo rescoring...\n",
      "\n",
      "[2023-Sep-03 00:55:15]: Skipping KORPL rescoring...\n",
      "Splitting SDF file bestpose_clustered.sdf ...\n"
     ]
    },
    {
     "name": "stderr",
     "output_type": "stream",
     "text": [
      "Splitting files: 100%|██████████| 28/28 [00:08<00:00,  3.26it/s]\n"
     ]
    },
    {
     "name": "stdout",
     "output_type": "stream",
     "text": [
      "Split docking library into 28 files each containing 740 compounds\n"
     ]
    },
    {
     "name": "stderr",
     "output_type": "stream",
     "text": [
      "Submitting ConvexPLR rescoring jobs: 100%|██████████| 28/28 [00:00<00:00, 34.59file/s]\n",
      "Rescoring with ConvexPLR: 100%|██████████| 28/28 [00:19<00:00,  1.45file/s]\n"
     ]
    },
    {
     "name": "stdout",
     "output_type": "stream",
     "text": [
      "Combining ConvexPLR scores\n",
      "\n",
      "[2023-Sep-03 00:55:58]: Rescoring with ConvexPLR complete in 43.0775!\n",
      "\n",
      "[2023-Sep-03 00:55:58]: Rescoring complete in 43.0800!\n",
      "\n",
      "[2023-Sep-03 00:55:58]: Skipping gnina rescoring...\n",
      "\n",
      "[2023-Sep-03 00:55:58]: Skipping AD4 rescoring...\n",
      "\n",
      "[2023-Sep-03 00:55:58]: Skipping chemplp rescoring...\n",
      "\n",
      "[2023-Sep-03 00:55:58]: Skipping rfscorevs rescoring...\n",
      "\n",
      "[2023-Sep-03 00:55:58]: Skipping LinF9 rescoring...\n",
      "\n",
      "[2023-Sep-03 00:55:58]: Skipping RTMScore rescoring...\n",
      "\n",
      "[2023-Sep-03 00:55:58]: Skipping SCORCH rescoring...\n",
      "\n",
      "[2023-Sep-03 00:55:58]: Skipping vinardo rescoring...\n",
      "\n",
      "[2023-Sep-03 00:55:58]: Skipping KORPL rescoring...\n",
      "Splitting SDF file bestpose_GNINA_clustered.sdf ...\n"
     ]
    },
    {
     "name": "stderr",
     "output_type": "stream",
     "text": [
      "Splitting files: 100%|██████████| 28/28 [00:03<00:00,  8.98it/s]\n"
     ]
    },
    {
     "name": "stdout",
     "output_type": "stream",
     "text": [
      "Split docking library into 28 files each containing 252 compounds\n"
     ]
    },
    {
     "name": "stderr",
     "output_type": "stream",
     "text": [
      "Submitting ConvexPLR rescoring jobs: 100%|██████████| 28/28 [00:00<00:00, 35.32file/s]\n",
      "Rescoring with ConvexPLR: 100%|██████████| 28/28 [00:06<00:00,  4.34file/s]\n"
     ]
    },
    {
     "name": "stdout",
     "output_type": "stream",
     "text": [
      "Combining ConvexPLR scores\n",
      "\n",
      "[2023-Sep-03 00:56:14]: Rescoring with ConvexPLR complete in 15.5348!\n",
      "\n",
      "[2023-Sep-03 00:56:14]: Rescoring complete in 15.5373!\n",
      "\n",
      "[2023-Sep-03 00:56:14]: Skipping gnina rescoring...\n",
      "\n",
      "[2023-Sep-03 00:56:14]: Skipping AD4 rescoring...\n",
      "\n",
      "[2023-Sep-03 00:56:14]: Skipping chemplp rescoring...\n",
      "\n",
      "[2023-Sep-03 00:56:14]: Skipping rfscorevs rescoring...\n",
      "\n",
      "[2023-Sep-03 00:56:14]: Skipping LinF9 rescoring...\n",
      "\n",
      "[2023-Sep-03 00:56:14]: Skipping RTMScore rescoring...\n",
      "\n",
      "[2023-Sep-03 00:56:14]: Skipping SCORCH rescoring...\n",
      "\n",
      "[2023-Sep-03 00:56:14]: Skipping vinardo rescoring...\n",
      "\n",
      "[2023-Sep-03 00:56:14]: Skipping KORPL rescoring...\n",
      "Splitting SDF file bestpose_SMINA_clustered.sdf ...\n"
     ]
    },
    {
     "name": "stderr",
     "output_type": "stream",
     "text": [
      "Splitting files: 100%|██████████| 28/28 [00:03<00:00,  8.96it/s]\n"
     ]
    },
    {
     "name": "stdout",
     "output_type": "stream",
     "text": [
      "Split docking library into 28 files each containing 252 compounds\n"
     ]
    },
    {
     "name": "stderr",
     "output_type": "stream",
     "text": [
      "Submitting ConvexPLR rescoring jobs: 100%|██████████| 28/28 [00:00<00:00, 35.38file/s]\n",
      "Rescoring with ConvexPLR: 100%|██████████| 28/28 [00:07<00:00,  3.92file/s]\n"
     ]
    },
    {
     "name": "stdout",
     "output_type": "stream",
     "text": [
      "Combining ConvexPLR scores\n",
      "\n",
      "[2023-Sep-03 00:56:30]: Rescoring with ConvexPLR complete in 16.1432!\n",
      "\n",
      "[2023-Sep-03 00:56:30]: Rescoring complete in 16.1448!\n",
      "\n",
      "[2023-Sep-03 00:56:30]: Skipping gnina rescoring...\n",
      "\n",
      "[2023-Sep-03 00:56:30]: Skipping AD4 rescoring...\n",
      "\n",
      "[2023-Sep-03 00:56:30]: Skipping chemplp rescoring...\n",
      "\n",
      "[2023-Sep-03 00:56:30]: Skipping rfscorevs rescoring...\n",
      "\n",
      "[2023-Sep-03 00:56:30]: Skipping LinF9 rescoring...\n",
      "\n",
      "[2023-Sep-03 00:56:30]: Skipping RTMScore rescoring...\n",
      "\n",
      "[2023-Sep-03 00:56:30]: Skipping SCORCH rescoring...\n",
      "\n",
      "[2023-Sep-03 00:56:30]: Skipping vinardo rescoring...\n",
      "\n",
      "[2023-Sep-03 00:56:30]: Skipping KORPL rescoring...\n",
      "Splitting SDF file bestpose_PLANTS_clustered.sdf ...\n"
     ]
    },
    {
     "name": "stderr",
     "output_type": "stream",
     "text": [
      "Splitting files: 100%|██████████| 28/28 [00:02<00:00,  9.81it/s]\n"
     ]
    },
    {
     "name": "stdout",
     "output_type": "stream",
     "text": [
      "Split docking library into 28 files each containing 236 compounds\n"
     ]
    },
    {
     "name": "stderr",
     "output_type": "stream",
     "text": [
      "Submitting ConvexPLR rescoring jobs: 100%|██████████| 28/28 [00:00<00:00, 35.37file/s]\n",
      "Rescoring with ConvexPLR: 100%|██████████| 28/28 [00:06<00:00,  4.13file/s]\n"
     ]
    },
    {
     "name": "stdout",
     "output_type": "stream",
     "text": [
      "Combining ConvexPLR scores\n",
      "\n",
      "[2023-Sep-03 00:56:45]: Rescoring with ConvexPLR complete in 15.0149!\n",
      "\n",
      "[2023-Sep-03 00:56:45]: Rescoring complete in 15.0167!\n",
      "Loading library\n",
      "\n",
      "[2023-Sep-03 00:56:59]: Calculating consensus methods for every possible score combination...\n"
     ]
    },
    {
     "name": "stderr",
     "output_type": "stream",
     "text": [
      "100%|██████████| 8/8 [20:27<00:00, 153.43s/it]\n",
      " 26%|██▌       | 8/31 [3:14:48<9:14:25, 1446.32s/it]"
     ]
    },
    {
     "name": "stdout",
     "output_type": "stream",
     "text": [
      "pyrd\n",
      "The working directory has been set to: /home/alacournola/DUD-E/pyrd\n",
      "\n",
      "[2023-Sep-03 01:17:38]: Extracting pocket from /home/alacournola/DUD-E/pyrd/receptor_protoss_prepared.pdb using /home/alacournola/DUD-E/pyrd/crystal_ligand_protoss.sdf as reference ligand\n",
      "\n",
      "[2023-Sep-03 01:17:46]: Finished extracting pocket from /home/alacournola/DUD-E/pyrd/receptor_protoss_prepared.pdb using /home/alacournola/DUD-E/pyrd/crystal_ligand_protoss.sdf as reference ligand\n",
      "\n",
      "[2023-Sep-03 01:17:46]: Skipping gnina rescoring...\n",
      "\n",
      "[2023-Sep-03 01:17:46]: Skipping AD4 rescoring...\n",
      "\n",
      "[2023-Sep-03 01:17:46]: Skipping chemplp rescoring...\n",
      "\n",
      "[2023-Sep-03 01:17:46]: Skipping rfscorevs rescoring...\n",
      "\n",
      "[2023-Sep-03 01:17:46]: Skipping LinF9 rescoring...\n",
      "\n",
      "[2023-Sep-03 01:17:46]: Skipping RTMScore rescoring...\n",
      "\n",
      "[2023-Sep-03 01:17:46]: Skipping SCORCH rescoring...\n",
      "\n",
      "[2023-Sep-03 01:17:46]: Skipping vinardo rescoring...\n",
      "\n",
      "[2023-Sep-03 01:17:46]: Skipping KORPL rescoring...\n",
      "Splitting SDF file RMSD_clustered.sdf ...\n"
     ]
    },
    {
     "name": "stderr",
     "output_type": "stream",
     "text": [
      "Splitting files: 100%|██████████| 28/28 [00:02<00:00, 13.72it/s]\n"
     ]
    },
    {
     "name": "stdout",
     "output_type": "stream",
     "text": [
      "Split docking library into 28 files each containing 184 compounds\n"
     ]
    },
    {
     "name": "stderr",
     "output_type": "stream",
     "text": [
      "Submitting ConvexPLR rescoring jobs: 100%|██████████| 28/28 [00:00<00:00, 34.64file/s]\n",
      "Rescoring with ConvexPLR: 100%|██████████| 28/28 [00:06<00:00,  4.41file/s]\n"
     ]
    },
    {
     "name": "stdout",
     "output_type": "stream",
     "text": [
      "Combining ConvexPLR scores\n",
      "\n",
      "[2023-Sep-03 01:17:59]: Rescoring with ConvexPLR complete in 12.5583!\n",
      "\n",
      "[2023-Sep-03 01:17:59]: Rescoring complete in 12.5605!\n",
      "\n",
      "[2023-Sep-03 01:17:59]: Skipping gnina rescoring...\n",
      "\n",
      "[2023-Sep-03 01:17:59]: Skipping AD4 rescoring...\n",
      "\n",
      "[2023-Sep-03 01:17:59]: Skipping chemplp rescoring...\n",
      "\n",
      "[2023-Sep-03 01:17:59]: Skipping rfscorevs rescoring...\n",
      "\n",
      "[2023-Sep-03 01:17:59]: Skipping LinF9 rescoring...\n",
      "\n",
      "[2023-Sep-03 01:17:59]: Skipping RTMScore rescoring...\n",
      "\n",
      "[2023-Sep-03 01:17:59]: Skipping SCORCH rescoring...\n",
      "\n",
      "[2023-Sep-03 01:17:59]: Skipping vinardo rescoring...\n",
      "\n",
      "[2023-Sep-03 01:17:59]: Skipping KORPL rescoring...\n",
      "Splitting SDF file spyRMSD_clustered.sdf ...\n"
     ]
    },
    {
     "name": "stderr",
     "output_type": "stream",
     "text": [
      "Splitting files: 100%|██████████| 28/28 [00:07<00:00,  3.87it/s]\n"
     ]
    },
    {
     "name": "stdout",
     "output_type": "stream",
     "text": [
      "Split docking library into 28 files each containing 700 compounds\n"
     ]
    },
    {
     "name": "stderr",
     "output_type": "stream",
     "text": [
      "Submitting ConvexPLR rescoring jobs: 100%|██████████| 28/28 [00:00<00:00, 35.68file/s]\n",
      "Rescoring with ConvexPLR: 100%|██████████| 28/28 [00:20<00:00,  1.38file/s]\n"
     ]
    },
    {
     "name": "stdout",
     "output_type": "stream",
     "text": [
      "Combining ConvexPLR scores\n",
      "\n",
      "[2023-Sep-03 01:18:39]: Rescoring with ConvexPLR complete in 40.3954!\n",
      "\n",
      "[2023-Sep-03 01:18:39]: Rescoring complete in 40.3985!\n",
      "\n",
      "[2023-Sep-03 01:18:39]: Skipping gnina rescoring...\n",
      "\n",
      "[2023-Sep-03 01:18:39]: Skipping AD4 rescoring...\n",
      "\n",
      "[2023-Sep-03 01:18:39]: Skipping chemplp rescoring...\n",
      "\n",
      "[2023-Sep-03 01:18:39]: Skipping rfscorevs rescoring...\n",
      "\n",
      "[2023-Sep-03 01:18:39]: Skipping LinF9 rescoring...\n",
      "\n",
      "[2023-Sep-03 01:18:39]: Skipping RTMScore rescoring...\n",
      "\n",
      "[2023-Sep-03 01:18:39]: Skipping SCORCH rescoring...\n",
      "\n",
      "[2023-Sep-03 01:18:39]: Skipping vinardo rescoring...\n",
      "\n",
      "[2023-Sep-03 01:18:39]: Skipping KORPL rescoring...\n",
      "Splitting SDF file espsim_clustered.sdf ...\n"
     ]
    },
    {
     "name": "stderr",
     "output_type": "stream",
     "text": [
      "Splitting files: 100%|██████████| 28/28 [00:05<00:00,  4.97it/s]\n"
     ]
    },
    {
     "name": "stdout",
     "output_type": "stream",
     "text": [
      "Split docking library into 28 files each containing 540 compounds\n"
     ]
    },
    {
     "name": "stderr",
     "output_type": "stream",
     "text": [
      "Submitting ConvexPLR rescoring jobs: 100%|██████████| 28/28 [00:00<00:00, 35.06file/s]\n",
      "Rescoring with ConvexPLR: 100%|██████████| 28/28 [00:15<00:00,  1.84file/s]\n"
     ]
    },
    {
     "name": "stdout",
     "output_type": "stream",
     "text": [
      "Combining ConvexPLR scores\n",
      "\n",
      "[2023-Sep-03 01:19:10]: Rescoring with ConvexPLR complete in 31.0304!\n",
      "\n",
      "[2023-Sep-03 01:19:10]: Rescoring complete in 31.0329!\n",
      "\n",
      "[2023-Sep-03 01:19:10]: Skipping gnina rescoring...\n",
      "\n",
      "[2023-Sep-03 01:19:10]: Skipping AD4 rescoring...\n",
      "\n",
      "[2023-Sep-03 01:19:10]: Skipping chemplp rescoring...\n",
      "\n",
      "[2023-Sep-03 01:19:10]: Skipping rfscorevs rescoring...\n",
      "\n",
      "[2023-Sep-03 01:19:10]: Skipping LinF9 rescoring...\n",
      "\n",
      "[2023-Sep-03 01:19:10]: Skipping RTMScore rescoring...\n",
      "\n",
      "[2023-Sep-03 01:19:10]: Skipping SCORCH rescoring...\n",
      "\n",
      "[2023-Sep-03 01:19:10]: Skipping vinardo rescoring...\n",
      "\n",
      "[2023-Sep-03 01:19:10]: Skipping KORPL rescoring...\n",
      "Splitting SDF file 3DScore_clustered.sdf ...\n"
     ]
    },
    {
     "name": "stderr",
     "output_type": "stream",
     "text": [
      "Splitting files: 100%|██████████| 28/28 [00:02<00:00, 10.59it/s]\n"
     ]
    },
    {
     "name": "stdout",
     "output_type": "stream",
     "text": [
      "Split docking library into 28 files each containing 234 compounds\n"
     ]
    },
    {
     "name": "stderr",
     "output_type": "stream",
     "text": [
      "Submitting ConvexPLR rescoring jobs: 100%|██████████| 28/28 [00:00<00:00, 35.21file/s]\n",
      "Rescoring with ConvexPLR: 100%|██████████| 28/28 [00:08<00:00,  3.49file/s]\n"
     ]
    },
    {
     "name": "stdout",
     "output_type": "stream",
     "text": [
      "Combining ConvexPLR scores\n",
      "\n",
      "[2023-Sep-03 01:19:26]: Rescoring with ConvexPLR complete in 15.6977!\n",
      "\n",
      "[2023-Sep-03 01:19:26]: Rescoring complete in 15.6997!\n",
      "\n",
      "[2023-Sep-03 01:19:26]: Skipping gnina rescoring...\n",
      "\n",
      "[2023-Sep-03 01:19:26]: Skipping AD4 rescoring...\n",
      "\n",
      "[2023-Sep-03 01:19:26]: Skipping chemplp rescoring...\n",
      "\n",
      "[2023-Sep-03 01:19:26]: Skipping rfscorevs rescoring...\n",
      "\n",
      "[2023-Sep-03 01:19:26]: Skipping LinF9 rescoring...\n",
      "\n",
      "[2023-Sep-03 01:19:26]: Skipping RTMScore rescoring...\n",
      "\n",
      "[2023-Sep-03 01:19:26]: Skipping SCORCH rescoring...\n",
      "\n",
      "[2023-Sep-03 01:19:26]: Skipping vinardo rescoring...\n",
      "\n",
      "[2023-Sep-03 01:19:26]: Skipping KORPL rescoring...\n",
      "Splitting SDF file bestpose_clustered.sdf ...\n"
     ]
    },
    {
     "name": "stderr",
     "output_type": "stream",
     "text": [
      "Splitting files: 100%|██████████| 28/28 [00:07<00:00,  3.85it/s]\n"
     ]
    },
    {
     "name": "stdout",
     "output_type": "stream",
     "text": [
      "Split docking library into 28 files each containing 698 compounds\n"
     ]
    },
    {
     "name": "stderr",
     "output_type": "stream",
     "text": [
      "Submitting ConvexPLR rescoring jobs: 100%|██████████| 28/28 [00:00<00:00, 34.88file/s]\n",
      "Rescoring with ConvexPLR: 100%|██████████| 28/28 [00:20<00:00,  1.38file/s]\n"
     ]
    },
    {
     "name": "stdout",
     "output_type": "stream",
     "text": [
      "Combining ConvexPLR scores\n",
      "\n",
      "[2023-Sep-03 01:20:07]: Rescoring with ConvexPLR complete in 40.7652!\n",
      "\n",
      "[2023-Sep-03 01:20:07]: Rescoring complete in 40.7678!\n",
      "\n",
      "[2023-Sep-03 01:20:07]: Skipping gnina rescoring...\n",
      "\n",
      "[2023-Sep-03 01:20:07]: Skipping AD4 rescoring...\n",
      "\n",
      "[2023-Sep-03 01:20:07]: Skipping chemplp rescoring...\n",
      "\n",
      "[2023-Sep-03 01:20:07]: Skipping rfscorevs rescoring...\n",
      "\n",
      "[2023-Sep-03 01:20:07]: Skipping LinF9 rescoring...\n",
      "\n",
      "[2023-Sep-03 01:20:07]: Skipping RTMScore rescoring...\n",
      "\n",
      "[2023-Sep-03 01:20:07]: Skipping SCORCH rescoring...\n",
      "\n",
      "[2023-Sep-03 01:20:07]: Skipping vinardo rescoring...\n",
      "\n",
      "[2023-Sep-03 01:20:07]: Skipping KORPL rescoring...\n",
      "Splitting SDF file bestpose_GNINA_clustered.sdf ...\n"
     ]
    },
    {
     "name": "stderr",
     "output_type": "stream",
     "text": [
      "Splitting files: 100%|██████████| 28/28 [00:02<00:00, 11.31it/s]\n"
     ]
    },
    {
     "name": "stdout",
     "output_type": "stream",
     "text": [
      "Split docking library into 28 files each containing 234 compounds\n"
     ]
    },
    {
     "name": "stderr",
     "output_type": "stream",
     "text": [
      "Submitting ConvexPLR rescoring jobs: 100%|██████████| 28/28 [00:00<00:00, 34.92file/s]\n",
      "Rescoring with ConvexPLR: 100%|██████████| 28/28 [00:08<00:00,  3.47file/s]\n"
     ]
    },
    {
     "name": "stdout",
     "output_type": "stream",
     "text": [
      "Combining ConvexPLR scores\n",
      "\n",
      "[2023-Sep-03 01:20:22]: Rescoring with ConvexPLR complete in 15.5349!\n",
      "\n",
      "[2023-Sep-03 01:20:22]: Rescoring complete in 15.5379!\n",
      "\n",
      "[2023-Sep-03 01:20:22]: Skipping gnina rescoring...\n",
      "\n",
      "[2023-Sep-03 01:20:22]: Skipping AD4 rescoring...\n",
      "\n",
      "[2023-Sep-03 01:20:22]: Skipping chemplp rescoring...\n",
      "\n",
      "[2023-Sep-03 01:20:22]: Skipping rfscorevs rescoring...\n",
      "\n",
      "[2023-Sep-03 01:20:22]: Skipping LinF9 rescoring...\n",
      "\n",
      "[2023-Sep-03 01:20:22]: Skipping RTMScore rescoring...\n",
      "\n",
      "[2023-Sep-03 01:20:22]: Skipping SCORCH rescoring...\n",
      "\n",
      "[2023-Sep-03 01:20:22]: Skipping vinardo rescoring...\n",
      "\n",
      "[2023-Sep-03 01:20:22]: Skipping KORPL rescoring...\n",
      "Splitting SDF file bestpose_SMINA_clustered.sdf ...\n"
     ]
    },
    {
     "name": "stderr",
     "output_type": "stream",
     "text": [
      "Splitting files: 100%|██████████| 28/28 [00:02<00:00, 11.21it/s]\n"
     ]
    },
    {
     "name": "stdout",
     "output_type": "stream",
     "text": [
      "Split docking library into 28 files each containing 234 compounds\n"
     ]
    },
    {
     "name": "stderr",
     "output_type": "stream",
     "text": [
      "Submitting ConvexPLR rescoring jobs: 100%|██████████| 28/28 [00:00<00:00, 36.30file/s]\n",
      "Rescoring with ConvexPLR: 100%|██████████| 28/28 [00:08<00:00,  3.43file/s]\n"
     ]
    },
    {
     "name": "stdout",
     "output_type": "stream",
     "text": [
      "Combining ConvexPLR scores\n",
      "\n",
      "[2023-Sep-03 01:20:38]: Rescoring with ConvexPLR complete in 15.6224!\n",
      "\n",
      "[2023-Sep-03 01:20:38]: Rescoring complete in 15.6244!\n",
      "\n",
      "[2023-Sep-03 01:20:38]: Skipping gnina rescoring...\n",
      "\n",
      "[2023-Sep-03 01:20:38]: Skipping AD4 rescoring...\n",
      "\n",
      "[2023-Sep-03 01:20:38]: Skipping chemplp rescoring...\n",
      "\n",
      "[2023-Sep-03 01:20:38]: Skipping rfscorevs rescoring...\n",
      "\n",
      "[2023-Sep-03 01:20:38]: Skipping LinF9 rescoring...\n",
      "\n",
      "[2023-Sep-03 01:20:38]: Skipping RTMScore rescoring...\n",
      "\n",
      "[2023-Sep-03 01:20:38]: Skipping SCORCH rescoring...\n",
      "\n",
      "[2023-Sep-03 01:20:38]: Skipping vinardo rescoring...\n",
      "\n",
      "[2023-Sep-03 01:20:38]: Skipping KORPL rescoring...\n",
      "Splitting SDF file bestpose_PLANTS_clustered.sdf ...\n"
     ]
    },
    {
     "name": "stderr",
     "output_type": "stream",
     "text": [
      "Splitting files: 100%|██████████| 28/28 [00:02<00:00, 11.51it/s]\n"
     ]
    },
    {
     "name": "stdout",
     "output_type": "stream",
     "text": [
      "Split docking library into 28 files each containing 231 compounds\n"
     ]
    },
    {
     "name": "stderr",
     "output_type": "stream",
     "text": [
      "Submitting ConvexPLR rescoring jobs: 100%|██████████| 28/28 [00:00<00:00, 35.39file/s]\n",
      "Rescoring with ConvexPLR: 100%|██████████| 28/28 [00:07<00:00,  3.65file/s]\n"
     ]
    },
    {
     "name": "stdout",
     "output_type": "stream",
     "text": [
      "Combining ConvexPLR scores\n",
      "\n",
      "[2023-Sep-03 01:20:53]: Rescoring with ConvexPLR complete in 15.2260!\n",
      "\n",
      "[2023-Sep-03 01:20:53]: Rescoring complete in 15.2286!\n",
      "Loading library\n",
      "\n",
      "[2023-Sep-03 01:21:05]: Calculating consensus methods for every possible score combination...\n"
     ]
    },
    {
     "name": "stderr",
     "output_type": "stream",
     "text": [
      "100%|██████████| 8/8 [15:52<00:00, 119.03s/it]\n",
      " 29%|██▉       | 9/31 [3:34:18<8:18:37, 1359.89s/it]"
     ]
    },
    {
     "name": "stdout",
     "output_type": "stream",
     "text": [
      "reni\n",
      "The working directory has been set to: /home/alacournola/DUD-E/reni\n",
      "\n",
      "[2023-Sep-03 01:37:08]: Extracting pocket from /home/alacournola/DUD-E/reni/receptor_protoss_prepared.pdb using /home/alacournola/DUD-E/reni/crystal_ligand_protoss.sdf as reference ligand\n",
      "\n",
      "[2023-Sep-03 01:37:20]: Finished extracting pocket from /home/alacournola/DUD-E/reni/receptor_protoss_prepared.pdb using /home/alacournola/DUD-E/reni/crystal_ligand_protoss.sdf as reference ligand\n",
      "\n",
      "[2023-Sep-03 01:37:20]: Skipping gnina rescoring...\n",
      "\n",
      "[2023-Sep-03 01:37:20]: Skipping AD4 rescoring...\n",
      "\n",
      "[2023-Sep-03 01:37:20]: Skipping chemplp rescoring...\n",
      "\n",
      "[2023-Sep-03 01:37:20]: Skipping rfscorevs rescoring...\n",
      "\n",
      "[2023-Sep-03 01:37:20]: Skipping LinF9 rescoring...\n",
      "\n",
      "[2023-Sep-03 01:37:20]: Skipping RTMScore rescoring...\n",
      "\n",
      "[2023-Sep-03 01:37:20]: Skipping SCORCH rescoring...\n",
      "\n",
      "[2023-Sep-03 01:37:20]: Skipping vinardo rescoring...\n",
      "Splitting SDF file RMSD_clustered.sdf ...\n"
     ]
    },
    {
     "name": "stderr",
     "output_type": "stream",
     "text": [
      "Splitting files: 100%|██████████| 28/28 [00:10<00:00,  2.76it/s]\n"
     ]
    },
    {
     "name": "stdout",
     "output_type": "stream",
     "text": [
      "Split docking library into 28 files each containing 760 compounds\n"
     ]
    },
    {
     "name": "stderr",
     "output_type": "stream",
     "text": [
      "Submitting KORPL rescoring jobs: 100%|██████████| 28/28 [00:00<00:00, 34.54file/s]\n",
      "Rescoring with KORPL: 100%|██████████| 28/28 [00:07<00:00,  3.75file/s]\n"
     ]
    },
    {
     "name": "stdout",
     "output_type": "stream",
     "text": [
      "Combining KORPL scores\n",
      "\n",
      "[2023-Sep-03 01:37:55]: Rescoring with KORPL complete in 34.9683!\n",
      "Splitting SDF file RMSD_clustered.sdf ...\n"
     ]
    },
    {
     "name": "stderr",
     "output_type": "stream",
     "text": [
      "Splitting files: 100%|██████████| 28/28 [00:09<00:00,  2.97it/s]\n"
     ]
    },
    {
     "name": "stdout",
     "output_type": "stream",
     "text": [
      "Split docking library into 28 files each containing 760 compounds\n"
     ]
    },
    {
     "name": "stderr",
     "output_type": "stream",
     "text": [
      "Submitting ConvexPLR rescoring jobs: 100%|██████████| 28/28 [00:00<00:00, 35.34file/s]\n",
      "Rescoring with ConvexPLR: 100%|██████████| 28/28 [00:27<00:00,  1.02file/s]\n"
     ]
    },
    {
     "name": "stdout",
     "output_type": "stream",
     "text": [
      "Combining ConvexPLR scores\n",
      "\n",
      "[2023-Sep-03 01:38:48]: Rescoring with ConvexPLR complete in 52.6333!\n",
      "\n",
      "[2023-Sep-03 01:38:48]: Combining all scores for /home/alacournola/DUD-E/reni/temp/rescoring_RMSD_clustered\n"
     ]
    },
    {
     "name": "stderr",
     "output_type": "stream",
     "text": [
      "Combining scores: 100%|██████████| 9/9 [00:00<00:00, 72.85files/s]\n"
     ]
    },
    {
     "name": "stdout",
     "output_type": "stream",
     "text": [
      "\n",
      "[2023-Sep-03 01:38:49]: Rescoring complete in 88.7692!\n",
      "\n",
      "[2023-Sep-03 01:38:49]: Skipping gnina rescoring...\n",
      "\n",
      "[2023-Sep-03 01:38:49]: Skipping AD4 rescoring...\n",
      "\n",
      "[2023-Sep-03 01:38:49]: Skipping chemplp rescoring...\n",
      "\n",
      "[2023-Sep-03 01:38:49]: Skipping rfscorevs rescoring...\n",
      "\n",
      "[2023-Sep-03 01:38:49]: Skipping LinF9 rescoring...\n",
      "\n",
      "[2023-Sep-03 01:38:49]: Skipping RTMScore rescoring...\n",
      "\n",
      "[2023-Sep-03 01:38:49]: Skipping SCORCH rescoring...\n",
      "\n",
      "[2023-Sep-03 01:38:49]: Skipping vinardo rescoring...\n",
      "Splitting SDF file spyRMSD_clustered.sdf ...\n"
     ]
    },
    {
     "name": "stderr",
     "output_type": "stream",
     "text": [
      "Splitting files: 100%|██████████| 28/28 [00:10<00:00,  2.77it/s]\n"
     ]
    },
    {
     "name": "stdout",
     "output_type": "stream",
     "text": [
      "Split docking library into 28 files each containing 767 compounds\n"
     ]
    },
    {
     "name": "stderr",
     "output_type": "stream",
     "text": [
      "Submitting KORPL rescoring jobs: 100%|██████████| 28/28 [00:00<00:00, 34.97file/s]\n",
      "Rescoring with KORPL: 100%|██████████| 28/28 [00:07<00:00,  3.76file/s]\n"
     ]
    },
    {
     "name": "stdout",
     "output_type": "stream",
     "text": [
      "Combining KORPL scores\n",
      "\n",
      "[2023-Sep-03 01:39:23]: Rescoring with KORPL complete in 34.1398!\n",
      "Splitting SDF file spyRMSD_clustered.sdf ...\n"
     ]
    },
    {
     "name": "stderr",
     "output_type": "stream",
     "text": [
      "Splitting files: 100%|██████████| 28/28 [00:09<00:00,  2.97it/s]\n"
     ]
    },
    {
     "name": "stdout",
     "output_type": "stream",
     "text": [
      "Split docking library into 28 files each containing 767 compounds\n"
     ]
    },
    {
     "name": "stderr",
     "output_type": "stream",
     "text": [
      "Submitting ConvexPLR rescoring jobs: 100%|██████████| 28/28 [00:00<00:00, 34.45file/s]\n",
      "Rescoring with ConvexPLR: 100%|██████████| 28/28 [00:27<00:00,  1.02file/s]\n"
     ]
    },
    {
     "name": "stdout",
     "output_type": "stream",
     "text": [
      "Combining ConvexPLR scores\n",
      "\n",
      "[2023-Sep-03 01:40:16]: Rescoring with ConvexPLR complete in 52.8642!\n",
      "\n",
      "[2023-Sep-03 01:40:16]: Combining all scores for /home/alacournola/DUD-E/reni/temp/rescoring_spyRMSD_clustered\n"
     ]
    },
    {
     "name": "stderr",
     "output_type": "stream",
     "text": [
      "Combining scores: 100%|██████████| 9/9 [00:00<00:00, 72.88files/s]\n"
     ]
    },
    {
     "name": "stdout",
     "output_type": "stream",
     "text": [
      "\n",
      "[2023-Sep-03 01:40:17]: Rescoring complete in 88.1894!\n",
      "\n",
      "[2023-Sep-03 01:40:17]: Skipping gnina rescoring...\n",
      "\n",
      "[2023-Sep-03 01:40:17]: Skipping AD4 rescoring...\n",
      "\n",
      "[2023-Sep-03 01:40:17]: Skipping chemplp rescoring...\n",
      "\n",
      "[2023-Sep-03 01:40:17]: Skipping rfscorevs rescoring...\n",
      "\n",
      "[2023-Sep-03 01:40:17]: Skipping LinF9 rescoring...\n",
      "\n",
      "[2023-Sep-03 01:40:17]: Skipping RTMScore rescoring...\n",
      "\n",
      "[2023-Sep-03 01:40:17]: Skipping SCORCH rescoring...\n",
      "\n",
      "[2023-Sep-03 01:40:17]: Skipping vinardo rescoring...\n",
      "Splitting SDF file espsim_clustered.sdf ...\n"
     ]
    },
    {
     "name": "stderr",
     "output_type": "stream",
     "text": [
      "Splitting files: 100%|██████████| 28/28 [00:06<00:00,  4.11it/s]\n"
     ]
    },
    {
     "name": "stdout",
     "output_type": "stream",
     "text": [
      "Split docking library into 28 files each containing 549 compounds\n"
     ]
    },
    {
     "name": "stderr",
     "output_type": "stream",
     "text": [
      "Submitting KORPL rescoring jobs: 100%|██████████| 28/28 [00:00<00:00, 34.11file/s]\n",
      "Rescoring with KORPL: 100%|██████████| 28/28 [00:05<00:00,  5.60file/s]\n"
     ]
    },
    {
     "name": "stdout",
     "output_type": "stream",
     "text": [
      "Combining KORPL scores\n",
      "\n",
      "[2023-Sep-03 01:40:41]: Rescoring with KORPL complete in 23.9973!\n",
      "Splitting SDF file espsim_clustered.sdf ...\n"
     ]
    },
    {
     "name": "stderr",
     "output_type": "stream",
     "text": [
      "Splitting files: 100%|██████████| 28/28 [00:06<00:00,  4.19it/s]\n"
     ]
    },
    {
     "name": "stdout",
     "output_type": "stream",
     "text": [
      "Split docking library into 28 files each containing 549 compounds\n"
     ]
    },
    {
     "name": "stderr",
     "output_type": "stream",
     "text": [
      "Submitting ConvexPLR rescoring jobs: 100%|██████████| 28/28 [00:00<00:00, 34.83file/s]\n",
      "Rescoring with ConvexPLR: 100%|██████████| 28/28 [00:19<00:00,  1.47file/s]\n"
     ]
    },
    {
     "name": "stdout",
     "output_type": "stream",
     "text": [
      "Combining ConvexPLR scores\n",
      "\n",
      "[2023-Sep-03 01:41:19]: Rescoring with ConvexPLR complete in 37.4753!\n",
      "\n",
      "[2023-Sep-03 01:41:19]: Combining all scores for /home/alacournola/DUD-E/reni/temp/rescoring_espsim_clustered\n"
     ]
    },
    {
     "name": "stderr",
     "output_type": "stream",
     "text": [
      "Combining scores: 100%|██████████| 9/9 [00:00<00:00, 104.65files/s]\n"
     ]
    },
    {
     "name": "stdout",
     "output_type": "stream",
     "text": [
      "\n",
      "[2023-Sep-03 01:41:20]: Rescoring complete in 62.3495!\n",
      "\n",
      "[2023-Sep-03 01:41:20]: Skipping gnina rescoring...\n",
      "\n",
      "[2023-Sep-03 01:41:20]: Skipping AD4 rescoring...\n",
      "\n",
      "[2023-Sep-03 01:41:20]: Skipping chemplp rescoring...\n",
      "\n",
      "[2023-Sep-03 01:41:20]: Skipping rfscorevs rescoring...\n",
      "\n",
      "[2023-Sep-03 01:41:20]: Skipping LinF9 rescoring...\n",
      "\n",
      "[2023-Sep-03 01:41:20]: Skipping RTMScore rescoring...\n",
      "\n",
      "[2023-Sep-03 01:41:20]: Skipping SCORCH rescoring...\n",
      "\n",
      "[2023-Sep-03 01:41:20]: Skipping vinardo rescoring...\n",
      "Splitting SDF file 3DScore_clustered.sdf ...\n"
     ]
    },
    {
     "name": "stderr",
     "output_type": "stream",
     "text": [
      "Splitting files: 100%|██████████| 28/28 [00:03<00:00,  8.03it/s]\n"
     ]
    },
    {
     "name": "stdout",
     "output_type": "stream",
     "text": [
      "Split docking library into 28 files each containing 252 compounds\n"
     ]
    },
    {
     "name": "stderr",
     "output_type": "stream",
     "text": [
      "Submitting KORPL rescoring jobs: 100%|██████████| 28/28 [00:00<00:00, 35.00file/s]\n",
      "Rescoring with KORPL: 100%|██████████| 28/28 [00:02<00:00, 11.16file/s]\n"
     ]
    },
    {
     "name": "stdout",
     "output_type": "stream",
     "text": [
      "Combining KORPL scores\n",
      "\n",
      "[2023-Sep-03 01:41:32]: Rescoring with KORPL complete in 11.9804!\n",
      "Splitting SDF file 3DScore_clustered.sdf ...\n"
     ]
    },
    {
     "name": "stderr",
     "output_type": "stream",
     "text": [
      "Splitting files: 100%|██████████| 28/28 [00:03<00:00,  8.75it/s]\n"
     ]
    },
    {
     "name": "stdout",
     "output_type": "stream",
     "text": [
      "Split docking library into 28 files each containing 252 compounds\n"
     ]
    },
    {
     "name": "stderr",
     "output_type": "stream",
     "text": [
      "Submitting ConvexPLR rescoring jobs: 100%|██████████| 28/28 [00:00<00:00, 34.65file/s]\n",
      "Rescoring with ConvexPLR: 100%|██████████| 28/28 [00:09<00:00,  3.03file/s]\n"
     ]
    },
    {
     "name": "stdout",
     "output_type": "stream",
     "text": [
      "Combining ConvexPLR scores\n",
      "\n",
      "[2023-Sep-03 01:41:50]: Rescoring with ConvexPLR complete in 18.3347!\n",
      "\n",
      "[2023-Sep-03 01:41:50]: Combining all scores for /home/alacournola/DUD-E/reni/temp/rescoring_3DScore_clustered\n"
     ]
    },
    {
     "name": "stderr",
     "output_type": "stream",
     "text": [
      "Combining scores: 100%|██████████| 9/9 [00:00<00:00, 141.41files/s]\n"
     ]
    },
    {
     "name": "stdout",
     "output_type": "stream",
     "text": [
      "\n",
      "[2023-Sep-03 01:41:50]: Rescoring complete in 30.7910!\n",
      "\n",
      "[2023-Sep-03 01:41:50]: Skipping gnina rescoring...\n",
      "\n",
      "[2023-Sep-03 01:41:50]: Skipping AD4 rescoring...\n",
      "\n",
      "[2023-Sep-03 01:41:50]: Skipping chemplp rescoring...\n",
      "\n",
      "[2023-Sep-03 01:41:50]: Skipping rfscorevs rescoring...\n",
      "\n",
      "[2023-Sep-03 01:41:50]: Skipping LinF9 rescoring...\n",
      "\n",
      "[2023-Sep-03 01:41:50]: Skipping RTMScore rescoring...\n",
      "\n",
      "[2023-Sep-03 01:41:50]: Skipping SCORCH rescoring...\n",
      "\n",
      "[2023-Sep-03 01:41:50]: Skipping vinardo rescoring...\n",
      "Splitting SDF file bestpose_clustered.sdf ...\n"
     ]
    },
    {
     "name": "stderr",
     "output_type": "stream",
     "text": [
      "Splitting files: 100%|██████████| 28/28 [00:09<00:00,  2.85it/s]\n"
     ]
    },
    {
     "name": "stdout",
     "output_type": "stream",
     "text": [
      "Split docking library into 28 files each containing 740 compounds\n"
     ]
    },
    {
     "name": "stderr",
     "output_type": "stream",
     "text": [
      "Submitting KORPL rescoring jobs: 100%|██████████| 28/28 [00:00<00:00, 34.77file/s]\n",
      "Rescoring with KORPL: 100%|██████████| 28/28 [00:07<00:00,  3.95file/s]\n"
     ]
    },
    {
     "name": "stdout",
     "output_type": "stream",
     "text": [
      "Combining KORPL scores\n",
      "\n",
      "[2023-Sep-03 01:42:23]: Rescoring with KORPL complete in 32.9648!\n",
      "Splitting SDF file bestpose_clustered.sdf ...\n"
     ]
    },
    {
     "name": "stderr",
     "output_type": "stream",
     "text": [
      "Splitting files: 100%|██████████| 28/28 [00:09<00:00,  3.05it/s]\n"
     ]
    },
    {
     "name": "stdout",
     "output_type": "stream",
     "text": [
      "Split docking library into 28 files each containing 740 compounds\n"
     ]
    },
    {
     "name": "stderr",
     "output_type": "stream",
     "text": [
      "Submitting ConvexPLR rescoring jobs: 100%|██████████| 28/28 [00:00<00:00, 35.78file/s]\n",
      "Rescoring with ConvexPLR: 100%|██████████| 28/28 [00:26<00:00,  1.04file/s]\n"
     ]
    },
    {
     "name": "stdout",
     "output_type": "stream",
     "text": [
      "Combining ConvexPLR scores\n",
      "\n",
      "[2023-Sep-03 01:43:15]: Rescoring with ConvexPLR complete in 51.4334!\n",
      "\n",
      "[2023-Sep-03 01:43:15]: Combining all scores for /home/alacournola/DUD-E/reni/temp/rescoring_bestpose_clustered\n"
     ]
    },
    {
     "name": "stderr",
     "output_type": "stream",
     "text": [
      "Combining scores: 100%|██████████| 9/9 [00:00<00:00, 70.99files/s]\n"
     ]
    },
    {
     "name": "stdout",
     "output_type": "stream",
     "text": [
      "\n",
      "[2023-Sep-03 01:43:16]: Rescoring complete in 85.6152!\n",
      "\n",
      "[2023-Sep-03 01:43:16]: Skipping gnina rescoring...\n",
      "\n",
      "[2023-Sep-03 01:43:16]: Skipping AD4 rescoring...\n",
      "\n",
      "[2023-Sep-03 01:43:16]: Skipping chemplp rescoring...\n",
      "\n",
      "[2023-Sep-03 01:43:16]: Skipping rfscorevs rescoring...\n",
      "\n",
      "[2023-Sep-03 01:43:16]: Skipping LinF9 rescoring...\n",
      "\n",
      "[2023-Sep-03 01:43:16]: Skipping RTMScore rescoring...\n",
      "\n",
      "[2023-Sep-03 01:43:16]: Skipping SCORCH rescoring...\n",
      "\n",
      "[2023-Sep-03 01:43:16]: Skipping vinardo rescoring...\n",
      "Splitting SDF file bestpose_GNINA_clustered.sdf ...\n"
     ]
    },
    {
     "name": "stderr",
     "output_type": "stream",
     "text": [
      "Splitting files: 100%|██████████| 28/28 [00:03<00:00,  8.75it/s]\n"
     ]
    },
    {
     "name": "stdout",
     "output_type": "stream",
     "text": [
      "Split docking library into 28 files each containing 250 compounds\n"
     ]
    },
    {
     "name": "stderr",
     "output_type": "stream",
     "text": [
      "Submitting KORPL rescoring jobs: 100%|██████████| 28/28 [00:00<00:00, 34.62file/s]\n",
      "Rescoring with KORPL: 100%|██████████| 28/28 [00:02<00:00, 11.46file/s]\n"
     ]
    },
    {
     "name": "stdout",
     "output_type": "stream",
     "text": [
      "Combining KORPL scores\n",
      "\n",
      "[2023-Sep-03 01:43:28]: Rescoring with KORPL complete in 11.9057!\n",
      "Splitting SDF file bestpose_GNINA_clustered.sdf ...\n"
     ]
    },
    {
     "name": "stderr",
     "output_type": "stream",
     "text": [
      "Splitting files: 100%|██████████| 28/28 [00:03<00:00,  8.52it/s]\n"
     ]
    },
    {
     "name": "stdout",
     "output_type": "stream",
     "text": [
      "Split docking library into 28 files each containing 250 compounds\n"
     ]
    },
    {
     "name": "stderr",
     "output_type": "stream",
     "text": [
      "Submitting ConvexPLR rescoring jobs: 100%|██████████| 28/28 [00:00<00:00, 35.80file/s]\n",
      "Rescoring with ConvexPLR: 100%|██████████| 28/28 [00:10<00:00,  2.79file/s]\n"
     ]
    },
    {
     "name": "stdout",
     "output_type": "stream",
     "text": [
      "Combining ConvexPLR scores\n",
      "\n",
      "[2023-Sep-03 01:43:47]: Rescoring with ConvexPLR complete in 19.2001!\n",
      "\n",
      "[2023-Sep-03 01:43:47]: Combining all scores for /home/alacournola/DUD-E/reni/temp/rescoring_bestpose_GNINA_clustered\n"
     ]
    },
    {
     "name": "stderr",
     "output_type": "stream",
     "text": [
      "Combining scores: 100%|██████████| 9/9 [00:00<00:00, 144.89files/s]\n"
     ]
    },
    {
     "name": "stdout",
     "output_type": "stream",
     "text": [
      "\n",
      "[2023-Sep-03 01:43:48]: Rescoring complete in 31.5562!\n",
      "\n",
      "[2023-Sep-03 01:43:48]: Skipping gnina rescoring...\n",
      "\n",
      "[2023-Sep-03 01:43:48]: Skipping AD4 rescoring...\n",
      "\n",
      "[2023-Sep-03 01:43:48]: Skipping chemplp rescoring...\n",
      "\n",
      "[2023-Sep-03 01:43:48]: Skipping rfscorevs rescoring...\n",
      "\n",
      "[2023-Sep-03 01:43:48]: Skipping LinF9 rescoring...\n",
      "\n",
      "[2023-Sep-03 01:43:48]: Skipping RTMScore rescoring...\n",
      "\n",
      "[2023-Sep-03 01:43:48]: Skipping SCORCH rescoring...\n",
      "\n",
      "[2023-Sep-03 01:43:48]: Skipping vinardo rescoring...\n",
      "Splitting SDF file bestpose_SMINA_clustered.sdf ...\n"
     ]
    },
    {
     "name": "stderr",
     "output_type": "stream",
     "text": [
      "Splitting files: 100%|██████████| 28/28 [00:03<00:00,  7.98it/s]\n"
     ]
    },
    {
     "name": "stdout",
     "output_type": "stream",
     "text": [
      "Split docking library into 28 files each containing 250 compounds\n"
     ]
    },
    {
     "name": "stderr",
     "output_type": "stream",
     "text": [
      "Submitting KORPL rescoring jobs: 100%|██████████| 28/28 [00:00<00:00, 36.25file/s]\n",
      "Rescoring with KORPL: 100%|██████████| 28/28 [00:02<00:00, 11.70file/s]\n"
     ]
    },
    {
     "name": "stdout",
     "output_type": "stream",
     "text": [
      "Combining KORPL scores\n",
      "\n",
      "[2023-Sep-03 01:44:00]: Rescoring with KORPL complete in 12.0191!\n",
      "Splitting SDF file bestpose_SMINA_clustered.sdf ...\n"
     ]
    },
    {
     "name": "stderr",
     "output_type": "stream",
     "text": [
      "Splitting files: 100%|██████████| 28/28 [00:03<00:00,  8.50it/s]\n"
     ]
    },
    {
     "name": "stdout",
     "output_type": "stream",
     "text": [
      "Split docking library into 28 files each containing 250 compounds\n"
     ]
    },
    {
     "name": "stderr",
     "output_type": "stream",
     "text": [
      "Submitting ConvexPLR rescoring jobs: 100%|██████████| 28/28 [00:00<00:00, 36.27file/s]\n",
      "Rescoring with ConvexPLR: 100%|██████████| 28/28 [00:10<00:00,  2.80file/s]\n"
     ]
    },
    {
     "name": "stdout",
     "output_type": "stream",
     "text": [
      "Combining ConvexPLR scores\n",
      "\n",
      "[2023-Sep-03 01:44:19]: Rescoring with ConvexPLR complete in 18.9981!\n",
      "\n",
      "[2023-Sep-03 01:44:19]: Combining all scores for /home/alacournola/DUD-E/reni/temp/rescoring_bestpose_SMINA_clustered\n"
     ]
    },
    {
     "name": "stderr",
     "output_type": "stream",
     "text": [
      "Combining scores: 100%|██████████| 9/9 [00:00<00:00, 196.32files/s]\n"
     ]
    },
    {
     "name": "stdout",
     "output_type": "stream",
     "text": [
      "\n",
      "[2023-Sep-03 01:44:19]: Rescoring complete in 31.4565!\n",
      "\n",
      "[2023-Sep-03 01:44:19]: Skipping gnina rescoring...\n",
      "\n",
      "[2023-Sep-03 01:44:19]: Skipping AD4 rescoring...\n",
      "\n",
      "[2023-Sep-03 01:44:19]: Skipping chemplp rescoring...\n",
      "\n",
      "[2023-Sep-03 01:44:19]: Skipping rfscorevs rescoring...\n",
      "\n",
      "[2023-Sep-03 01:44:19]: Skipping LinF9 rescoring...\n",
      "\n",
      "[2023-Sep-03 01:44:19]: Skipping RTMScore rescoring...\n",
      "\n",
      "[2023-Sep-03 01:44:19]: Skipping SCORCH rescoring...\n",
      "\n",
      "[2023-Sep-03 01:44:19]: Skipping vinardo rescoring...\n",
      "Splitting SDF file bestpose_PLANTS_clustered.sdf ...\n"
     ]
    },
    {
     "name": "stderr",
     "output_type": "stream",
     "text": [
      "Splitting files: 100%|██████████| 28/28 [00:03<00:00,  8.23it/s]\n"
     ]
    },
    {
     "name": "stdout",
     "output_type": "stream",
     "text": [
      "Split docking library into 28 files each containing 241 compounds\n"
     ]
    },
    {
     "name": "stderr",
     "output_type": "stream",
     "text": [
      "Submitting KORPL rescoring jobs: 100%|██████████| 28/28 [00:00<00:00, 35.73file/s]\n",
      "Rescoring with KORPL: 100%|██████████| 28/28 [00:02<00:00, 11.35file/s]\n"
     ]
    },
    {
     "name": "stdout",
     "output_type": "stream",
     "text": [
      "Combining KORPL scores\n",
      "\n",
      "[2023-Sep-03 01:44:31]: Rescoring with KORPL complete in 11.5820!\n",
      "Splitting SDF file bestpose_PLANTS_clustered.sdf ...\n"
     ]
    },
    {
     "name": "stderr",
     "output_type": "stream",
     "text": [
      "Splitting files: 100%|██████████| 28/28 [00:03<00:00,  9.22it/s]\n"
     ]
    },
    {
     "name": "stdout",
     "output_type": "stream",
     "text": [
      "Split docking library into 28 files each containing 241 compounds\n"
     ]
    },
    {
     "name": "stderr",
     "output_type": "stream",
     "text": [
      "Submitting ConvexPLR rescoring jobs: 100%|██████████| 28/28 [00:00<00:00, 35.44file/s]\n",
      "Rescoring with ConvexPLR: 100%|██████████| 28/28 [00:09<00:00,  3.02file/s]\n"
     ]
    },
    {
     "name": "stdout",
     "output_type": "stream",
     "text": [
      "Combining ConvexPLR scores\n",
      "\n",
      "[2023-Sep-03 01:44:48]: Rescoring with ConvexPLR complete in 17.8113!\n",
      "\n",
      "[2023-Sep-03 01:44:48]: Combining all scores for /home/alacournola/DUD-E/reni/temp/rescoring_bestpose_PLANTS_clustered\n"
     ]
    },
    {
     "name": "stderr",
     "output_type": "stream",
     "text": [
      "Combining scores: 100%|██████████| 9/9 [00:00<00:00, 166.94files/s]\n"
     ]
    },
    {
     "name": "stdout",
     "output_type": "stream",
     "text": [
      "\n",
      "[2023-Sep-03 01:44:49]: Rescoring complete in 29.8314!\n",
      "Loading library\n",
      "\n",
      "[2023-Sep-03 01:45:05]: Calculating consensus methods for every possible score combination...\n"
     ]
    },
    {
     "name": "stderr",
     "output_type": "stream",
     "text": [
      "100%|██████████| 8/8 [34:40<00:00, 260.09s/it]\n",
      " 32%|███▏      | 10/31 [4:17:16<10:07:39, 1736.17s/it]"
     ]
    },
    {
     "name": "stdout",
     "output_type": "stream",
     "text": [
      "hdac2\n",
      "The working directory has been set to: /home/alacournola/DUD-E/hdac2\n",
      "\n",
      "[2023-Sep-03 02:20:06]: Extracting pocket from /home/alacournola/DUD-E/hdac2/receptor_protoss_prepared.pdb using /home/alacournola/DUD-E/hdac2/crystal_ligand_protoss.sdf as reference ligand\n",
      "\n",
      "[2023-Sep-03 02:20:15]: Finished extracting pocket from /home/alacournola/DUD-E/hdac2/receptor_protoss_prepared.pdb using /home/alacournola/DUD-E/hdac2/crystal_ligand_protoss.sdf as reference ligand\n",
      "\n",
      "[2023-Sep-03 02:20:15]: Skipping gnina rescoring...\n",
      "\n",
      "[2023-Sep-03 02:20:15]: Skipping AD4 rescoring...\n",
      "\n",
      "[2023-Sep-03 02:20:15]: Skipping chemplp rescoring...\n",
      "\n",
      "[2023-Sep-03 02:20:15]: Skipping rfscorevs rescoring...\n",
      "\n",
      "[2023-Sep-03 02:20:15]: Skipping LinF9 rescoring...\n",
      "\n",
      "[2023-Sep-03 02:20:15]: Skipping RTMScore rescoring...\n",
      "\n",
      "[2023-Sep-03 02:20:15]: Skipping SCORCH rescoring...\n",
      "\n",
      "[2023-Sep-03 02:20:15]: Skipping vinardo rescoring...\n",
      "Splitting SDF file RMSD_clustered.sdf ...\n"
     ]
    },
    {
     "name": "stderr",
     "output_type": "stream",
     "text": [
      "Splitting files: 100%|██████████| 28/28 [00:12<00:00,  2.24it/s]\n"
     ]
    },
    {
     "name": "stdout",
     "output_type": "stream",
     "text": [
      "Split docking library into 28 files each containing 1069 compounds\n"
     ]
    },
    {
     "name": "stderr",
     "output_type": "stream",
     "text": [
      "Submitting KORPL rescoring jobs: 100%|██████████| 28/28 [00:00<00:00, 34.16file/s]\n",
      "Rescoring with KORPL: 100%|██████████| 28/28 [00:09<00:00,  3.04file/s]\n"
     ]
    },
    {
     "name": "stdout",
     "output_type": "stream",
     "text": [
      "Combining KORPL scores\n",
      "\n",
      "[2023-Sep-03 02:20:57]: Rescoring with KORPL complete in 41.9636!\n",
      "Splitting SDF file RMSD_clustered.sdf ...\n"
     ]
    },
    {
     "name": "stderr",
     "output_type": "stream",
     "text": [
      "Splitting files: 100%|██████████| 28/28 [00:11<00:00,  2.43it/s]\n"
     ]
    },
    {
     "name": "stdout",
     "output_type": "stream",
     "text": [
      "Split docking library into 28 files each containing 1069 compounds\n"
     ]
    },
    {
     "name": "stderr",
     "output_type": "stream",
     "text": [
      "Submitting ConvexPLR rescoring jobs: 100%|██████████| 28/28 [00:00<00:00, 33.57file/s]\n",
      "Rescoring with ConvexPLR: 100%|██████████| 28/28 [00:32<00:00,  1.17s/file]\n"
     ]
    },
    {
     "name": "stdout",
     "output_type": "stream",
     "text": [
      "Combining ConvexPLR scores\n",
      "\n",
      "[2023-Sep-03 02:22:01]: Rescoring with ConvexPLR complete in 64.5813!\n",
      "\n",
      "[2023-Sep-03 02:22:01]: Combining all scores for /home/alacournola/DUD-E/hdac2/temp/rescoring_RMSD_clustered\n"
     ]
    },
    {
     "name": "stderr",
     "output_type": "stream",
     "text": [
      "Combining scores: 100%|██████████| 9/9 [00:00<00:00, 55.20files/s]\n"
     ]
    },
    {
     "name": "stdout",
     "output_type": "stream",
     "text": [
      "\n",
      "[2023-Sep-03 02:22:03]: Rescoring complete in 108.2050!\n",
      "\n",
      "[2023-Sep-03 02:22:03]: Skipping gnina rescoring...\n",
      "\n",
      "[2023-Sep-03 02:22:03]: Skipping AD4 rescoring...\n",
      "\n",
      "[2023-Sep-03 02:22:03]: Skipping chemplp rescoring...\n",
      "\n",
      "[2023-Sep-03 02:22:03]: Skipping rfscorevs rescoring...\n",
      "\n",
      "[2023-Sep-03 02:22:03]: Skipping LinF9 rescoring...\n",
      "\n",
      "[2023-Sep-03 02:22:03]: Skipping RTMScore rescoring...\n",
      "\n",
      "[2023-Sep-03 02:22:03]: Skipping SCORCH rescoring...\n",
      "\n",
      "[2023-Sep-03 02:22:03]: Skipping vinardo rescoring...\n",
      "Splitting SDF file spyRMSD_clustered.sdf ...\n"
     ]
    },
    {
     "name": "stderr",
     "output_type": "stream",
     "text": [
      "Splitting files: 100%|██████████| 28/28 [00:12<00:00,  2.22it/s]\n"
     ]
    },
    {
     "name": "stdout",
     "output_type": "stream",
     "text": [
      "Split docking library into 28 files each containing 1076 compounds\n"
     ]
    },
    {
     "name": "stderr",
     "output_type": "stream",
     "text": [
      "Submitting KORPL rescoring jobs: 100%|██████████| 28/28 [00:00<00:00, 34.26file/s]\n",
      "Rescoring with KORPL: 100%|██████████| 28/28 [00:08<00:00,  3.14file/s]\n"
     ]
    },
    {
     "name": "stdout",
     "output_type": "stream",
     "text": [
      "Combining KORPL scores\n",
      "\n",
      "[2023-Sep-03 02:22:45]: Rescoring with KORPL complete in 41.8085!\n",
      "Splitting SDF file spyRMSD_clustered.sdf ...\n"
     ]
    },
    {
     "name": "stderr",
     "output_type": "stream",
     "text": [
      "Splitting files: 100%|██████████| 28/28 [00:11<00:00,  2.38it/s]\n"
     ]
    },
    {
     "name": "stdout",
     "output_type": "stream",
     "text": [
      "Split docking library into 28 files each containing 1076 compounds\n"
     ]
    },
    {
     "name": "stderr",
     "output_type": "stream",
     "text": [
      "Submitting ConvexPLR rescoring jobs: 100%|██████████| 28/28 [00:00<00:00, 35.06file/s]\n",
      "Rescoring with ConvexPLR: 100%|██████████| 28/28 [00:32<00:00,  1.18s/file]\n"
     ]
    },
    {
     "name": "stdout",
     "output_type": "stream",
     "text": [
      "Combining ConvexPLR scores\n",
      "\n",
      "[2023-Sep-03 02:23:50]: Rescoring with ConvexPLR complete in 65.6860!\n",
      "\n",
      "[2023-Sep-03 02:23:50]: Combining all scores for /home/alacournola/DUD-E/hdac2/temp/rescoring_spyRMSD_clustered\n"
     ]
    },
    {
     "name": "stderr",
     "output_type": "stream",
     "text": [
      "Combining scores: 100%|██████████| 9/9 [00:00<00:00, 54.69files/s]\n"
     ]
    },
    {
     "name": "stdout",
     "output_type": "stream",
     "text": [
      "\n",
      "[2023-Sep-03 02:23:52]: Rescoring complete in 109.1835!\n",
      "\n",
      "[2023-Sep-03 02:23:52]: Skipping gnina rescoring...\n",
      "\n",
      "[2023-Sep-03 02:23:52]: Skipping AD4 rescoring...\n",
      "\n",
      "[2023-Sep-03 02:23:52]: Skipping chemplp rescoring...\n",
      "\n",
      "[2023-Sep-03 02:23:52]: Skipping rfscorevs rescoring...\n",
      "\n",
      "[2023-Sep-03 02:23:52]: Skipping LinF9 rescoring...\n",
      "\n",
      "[2023-Sep-03 02:23:52]: Skipping RTMScore rescoring...\n",
      "\n",
      "[2023-Sep-03 02:23:52]: Skipping SCORCH rescoring...\n",
      "\n",
      "[2023-Sep-03 02:23:52]: Skipping vinardo rescoring...\n",
      "Splitting SDF file espsim_clustered.sdf ...\n"
     ]
    },
    {
     "name": "stderr",
     "output_type": "stream",
     "text": [
      "Splitting files: 100%|██████████| 28/28 [00:10<00:00,  2.77it/s]\n"
     ]
    },
    {
     "name": "stdout",
     "output_type": "stream",
     "text": [
      "Split docking library into 28 files each containing 872 compounds\n"
     ]
    },
    {
     "name": "stderr",
     "output_type": "stream",
     "text": [
      "Submitting KORPL rescoring jobs: 100%|██████████| 28/28 [00:00<00:00, 35.35file/s]\n",
      "Rescoring with KORPL: 100%|██████████| 28/28 [00:06<00:00,  4.13file/s]\n"
     ]
    },
    {
     "name": "stdout",
     "output_type": "stream",
     "text": [
      "Combining KORPL scores\n",
      "\n",
      "[2023-Sep-03 02:24:25]: Rescoring with KORPL complete in 33.1925!\n",
      "Splitting SDF file espsim_clustered.sdf ...\n"
     ]
    },
    {
     "name": "stderr",
     "output_type": "stream",
     "text": [
      "Splitting files: 100%|██████████| 28/28 [00:09<00:00,  2.94it/s]\n"
     ]
    },
    {
     "name": "stdout",
     "output_type": "stream",
     "text": [
      "Split docking library into 28 files each containing 872 compounds\n"
     ]
    },
    {
     "name": "stderr",
     "output_type": "stream",
     "text": [
      "Submitting ConvexPLR rescoring jobs: 100%|██████████| 28/28 [00:00<00:00, 35.13file/s]\n",
      "Rescoring with ConvexPLR: 100%|██████████| 28/28 [00:26<00:00,  1.04file/s]\n"
     ]
    },
    {
     "name": "stdout",
     "output_type": "stream",
     "text": [
      "Combining ConvexPLR scores\n",
      "\n",
      "[2023-Sep-03 02:25:18]: Rescoring with ConvexPLR complete in 52.4482!\n",
      "\n",
      "[2023-Sep-03 02:25:18]: Combining all scores for /home/alacournola/DUD-E/hdac2/temp/rescoring_espsim_clustered\n"
     ]
    },
    {
     "name": "stderr",
     "output_type": "stream",
     "text": [
      "Combining scores: 100%|██████████| 9/9 [00:00<00:00, 61.96files/s]\n"
     ]
    },
    {
     "name": "stdout",
     "output_type": "stream",
     "text": [
      "\n",
      "[2023-Sep-03 02:25:19]: Rescoring complete in 87.0370!\n",
      "\n",
      "[2023-Sep-03 02:25:19]: Skipping gnina rescoring...\n",
      "\n",
      "[2023-Sep-03 02:25:19]: Skipping AD4 rescoring...\n",
      "\n",
      "[2023-Sep-03 02:25:19]: Skipping chemplp rescoring...\n",
      "\n",
      "[2023-Sep-03 02:25:19]: Skipping rfscorevs rescoring...\n",
      "\n",
      "[2023-Sep-03 02:25:19]: Skipping LinF9 rescoring...\n",
      "\n",
      "[2023-Sep-03 02:25:19]: Skipping RTMScore rescoring...\n",
      "\n",
      "[2023-Sep-03 02:25:19]: Skipping SCORCH rescoring...\n",
      "\n",
      "[2023-Sep-03 02:25:19]: Skipping vinardo rescoring...\n",
      "Splitting SDF file 3DScore_clustered.sdf ...\n"
     ]
    },
    {
     "name": "stderr",
     "output_type": "stream",
     "text": [
      "Splitting files: 100%|██████████| 28/28 [00:04<00:00,  6.23it/s]\n"
     ]
    },
    {
     "name": "stdout",
     "output_type": "stream",
     "text": [
      "Split docking library into 28 files each containing 371 compounds\n"
     ]
    },
    {
     "name": "stderr",
     "output_type": "stream",
     "text": [
      "Submitting KORPL rescoring jobs: 100%|██████████| 28/28 [00:00<00:00, 34.47file/s]\n",
      "Rescoring with KORPL: 100%|██████████| 28/28 [00:02<00:00,  9.77file/s]\n"
     ]
    },
    {
     "name": "stdout",
     "output_type": "stream",
     "text": [
      "Combining KORPL scores\n",
      "\n",
      "[2023-Sep-03 02:25:34]: Rescoring with KORPL complete in 14.7865!\n",
      "Splitting SDF file 3DScore_clustered.sdf ...\n"
     ]
    },
    {
     "name": "stderr",
     "output_type": "stream",
     "text": [
      "Splitting files: 100%|██████████| 28/28 [00:04<00:00,  6.82it/s]\n"
     ]
    },
    {
     "name": "stdout",
     "output_type": "stream",
     "text": [
      "Split docking library into 28 files each containing 371 compounds\n"
     ]
    },
    {
     "name": "stderr",
     "output_type": "stream",
     "text": [
      "Submitting ConvexPLR rescoring jobs: 100%|██████████| 28/28 [00:00<00:00, 34.94file/s]\n",
      "Rescoring with ConvexPLR: 100%|██████████| 28/28 [00:10<00:00,  2.70file/s]\n"
     ]
    },
    {
     "name": "stdout",
     "output_type": "stream",
     "text": [
      "Combining ConvexPLR scores\n",
      "\n",
      "[2023-Sep-03 02:25:56]: Rescoring with ConvexPLR complete in 21.8175!\n",
      "\n",
      "[2023-Sep-03 02:25:56]: Combining all scores for /home/alacournola/DUD-E/hdac2/temp/rescoring_3DScore_clustered\n"
     ]
    },
    {
     "name": "stderr",
     "output_type": "stream",
     "text": [
      "Combining scores: 100%|██████████| 9/9 [00:00<00:00, 132.90files/s]\n"
     ]
    },
    {
     "name": "stdout",
     "output_type": "stream",
     "text": [
      "\n",
      "[2023-Sep-03 02:25:56]: Rescoring complete in 37.2637!\n",
      "\n",
      "[2023-Sep-03 02:25:56]: Skipping gnina rescoring...\n",
      "\n",
      "[2023-Sep-03 02:25:56]: Skipping AD4 rescoring...\n",
      "\n",
      "[2023-Sep-03 02:25:56]: Skipping chemplp rescoring...\n",
      "\n",
      "[2023-Sep-03 02:25:56]: Skipping rfscorevs rescoring...\n",
      "\n",
      "[2023-Sep-03 02:25:56]: Skipping LinF9 rescoring...\n",
      "\n",
      "[2023-Sep-03 02:25:56]: Skipping RTMScore rescoring...\n",
      "\n",
      "[2023-Sep-03 02:25:56]: Skipping SCORCH rescoring...\n",
      "\n",
      "[2023-Sep-03 02:25:56]: Skipping vinardo rescoring...\n",
      "Splitting SDF file bestpose_clustered.sdf ...\n"
     ]
    },
    {
     "name": "stderr",
     "output_type": "stream",
     "text": [
      "Splitting files: 100%|██████████| 28/28 [00:11<00:00,  2.39it/s]\n"
     ]
    },
    {
     "name": "stdout",
     "output_type": "stream",
     "text": [
      "Split docking library into 28 files each containing 1095 compounds\n"
     ]
    },
    {
     "name": "stderr",
     "output_type": "stream",
     "text": [
      "Submitting KORPL rescoring jobs: 100%|██████████| 28/28 [00:00<00:00, 35.55file/s]\n",
      "Rescoring with KORPL: 100%|██████████| 28/28 [00:09<00:00,  3.00file/s]\n"
     ]
    },
    {
     "name": "stdout",
     "output_type": "stream",
     "text": [
      "Combining KORPL scores\n",
      "\n",
      "[2023-Sep-03 02:26:38]: Rescoring with KORPL complete in 41.3555!\n",
      "Splitting SDF file bestpose_clustered.sdf ...\n"
     ]
    },
    {
     "name": "stderr",
     "output_type": "stream",
     "text": [
      "Splitting files: 100%|██████████| 28/28 [00:11<00:00,  2.35it/s]\n"
     ]
    },
    {
     "name": "stdout",
     "output_type": "stream",
     "text": [
      "Split docking library into 28 files each containing 1095 compounds\n"
     ]
    },
    {
     "name": "stderr",
     "output_type": "stream",
     "text": [
      "Submitting ConvexPLR rescoring jobs: 100%|██████████| 28/28 [00:00<00:00, 33.88file/s]\n",
      "Rescoring with ConvexPLR: 100%|██████████| 28/28 [00:32<00:00,  1.16s/file]\n"
     ]
    },
    {
     "name": "stdout",
     "output_type": "stream",
     "text": [
      "Combining ConvexPLR scores\n",
      "\n",
      "[2023-Sep-03 02:27:42]: Rescoring with ConvexPLR complete in 64.7980!\n",
      "\n",
      "[2023-Sep-03 02:27:42]: Combining all scores for /home/alacournola/DUD-E/hdac2/temp/rescoring_bestpose_clustered\n"
     ]
    },
    {
     "name": "stderr",
     "output_type": "stream",
     "text": [
      "Combining scores: 100%|██████████| 9/9 [00:00<00:00, 52.78files/s]\n"
     ]
    },
    {
     "name": "stdout",
     "output_type": "stream",
     "text": [
      "\n",
      "[2023-Sep-03 02:27:44]: Rescoring complete in 107.8675!\n",
      "\n",
      "[2023-Sep-03 02:27:44]: Skipping gnina rescoring...\n",
      "\n",
      "[2023-Sep-03 02:27:44]: Skipping AD4 rescoring...\n",
      "\n",
      "[2023-Sep-03 02:27:44]: Skipping chemplp rescoring...\n",
      "\n",
      "[2023-Sep-03 02:27:44]: Skipping rfscorevs rescoring...\n",
      "\n",
      "[2023-Sep-03 02:27:44]: Skipping LinF9 rescoring...\n",
      "\n",
      "[2023-Sep-03 02:27:44]: Skipping RTMScore rescoring...\n",
      "\n",
      "[2023-Sep-03 02:27:44]: Skipping SCORCH rescoring...\n",
      "\n",
      "[2023-Sep-03 02:27:44]: Skipping vinardo rescoring...\n",
      "Splitting SDF file bestpose_GNINA_clustered.sdf ...\n"
     ]
    },
    {
     "name": "stderr",
     "output_type": "stream",
     "text": [
      "Splitting files: 100%|██████████| 28/28 [00:04<00:00,  6.89it/s]\n"
     ]
    },
    {
     "name": "stdout",
     "output_type": "stream",
     "text": [
      "Split docking library into 28 files each containing 366 compounds\n"
     ]
    },
    {
     "name": "stderr",
     "output_type": "stream",
     "text": [
      "Submitting KORPL rescoring jobs: 100%|██████████| 28/28 [00:00<00:00, 35.56file/s]\n",
      "Rescoring with KORPL: 100%|██████████| 28/28 [00:02<00:00,  9.56file/s]\n"
     ]
    },
    {
     "name": "stdout",
     "output_type": "stream",
     "text": [
      "Combining KORPL scores\n",
      "\n",
      "[2023-Sep-03 02:27:59]: Rescoring with KORPL complete in 14.4897!\n",
      "Splitting SDF file bestpose_GNINA_clustered.sdf ...\n"
     ]
    },
    {
     "name": "stderr",
     "output_type": "stream",
     "text": [
      "Splitting files: 100%|██████████| 28/28 [00:04<00:00,  6.74it/s]\n"
     ]
    },
    {
     "name": "stdout",
     "output_type": "stream",
     "text": [
      "Split docking library into 28 files each containing 366 compounds\n"
     ]
    },
    {
     "name": "stderr",
     "output_type": "stream",
     "text": [
      "Submitting ConvexPLR rescoring jobs: 100%|██████████| 28/28 [00:00<00:00, 35.54file/s]\n",
      "Rescoring with ConvexPLR: 100%|██████████| 28/28 [00:11<00:00,  2.40file/s]\n"
     ]
    },
    {
     "name": "stdout",
     "output_type": "stream",
     "text": [
      "Combining ConvexPLR scores\n",
      "\n",
      "[2023-Sep-03 02:28:22]: Rescoring with ConvexPLR complete in 23.2484!\n",
      "\n",
      "[2023-Sep-03 02:28:22]: Combining all scores for /home/alacournola/DUD-E/hdac2/temp/rescoring_bestpose_GNINA_clustered\n"
     ]
    },
    {
     "name": "stderr",
     "output_type": "stream",
     "text": [
      "Combining scores: 100%|██████████| 9/9 [00:00<00:00, 104.20files/s]\n"
     ]
    },
    {
     "name": "stdout",
     "output_type": "stream",
     "text": [
      "\n",
      "[2023-Sep-03 02:28:23]: Rescoring complete in 38.4041!\n",
      "\n",
      "[2023-Sep-03 02:28:23]: Skipping gnina rescoring...\n",
      "\n",
      "[2023-Sep-03 02:28:23]: Skipping AD4 rescoring...\n",
      "\n",
      "[2023-Sep-03 02:28:23]: Skipping chemplp rescoring...\n",
      "\n",
      "[2023-Sep-03 02:28:23]: Skipping rfscorevs rescoring...\n",
      "\n",
      "[2023-Sep-03 02:28:23]: Skipping LinF9 rescoring...\n",
      "\n",
      "[2023-Sep-03 02:28:23]: Skipping RTMScore rescoring...\n",
      "\n",
      "[2023-Sep-03 02:28:23]: Skipping SCORCH rescoring...\n",
      "\n",
      "[2023-Sep-03 02:28:23]: Skipping vinardo rescoring...\n",
      "Splitting SDF file bestpose_SMINA_clustered.sdf ...\n"
     ]
    },
    {
     "name": "stderr",
     "output_type": "stream",
     "text": [
      "Splitting files: 100%|██████████| 28/28 [00:04<00:00,  6.88it/s]\n"
     ]
    },
    {
     "name": "stdout",
     "output_type": "stream",
     "text": [
      "Split docking library into 28 files each containing 366 compounds\n"
     ]
    },
    {
     "name": "stderr",
     "output_type": "stream",
     "text": [
      "Submitting KORPL rescoring jobs: 100%|██████████| 28/28 [00:00<00:00, 34.64file/s]\n",
      "Rescoring with KORPL: 100%|██████████| 28/28 [00:02<00:00,  9.93file/s]\n"
     ]
    },
    {
     "name": "stdout",
     "output_type": "stream",
     "text": [
      "Combining KORPL scores\n",
      "\n",
      "[2023-Sep-03 02:28:37]: Rescoring with KORPL complete in 14.4544!\n",
      "Splitting SDF file bestpose_SMINA_clustered.sdf ...\n"
     ]
    },
    {
     "name": "stderr",
     "output_type": "stream",
     "text": [
      "Splitting files: 100%|██████████| 28/28 [00:04<00:00,  6.82it/s]\n"
     ]
    },
    {
     "name": "stdout",
     "output_type": "stream",
     "text": [
      "Split docking library into 28 files each containing 366 compounds\n"
     ]
    },
    {
     "name": "stderr",
     "output_type": "stream",
     "text": [
      "Submitting ConvexPLR rescoring jobs: 100%|██████████| 28/28 [00:00<00:00, 35.25file/s]\n",
      "Rescoring with ConvexPLR: 100%|██████████| 28/28 [00:10<00:00,  2.68file/s]\n"
     ]
    },
    {
     "name": "stdout",
     "output_type": "stream",
     "text": [
      "Combining ConvexPLR scores\n",
      "\n",
      "[2023-Sep-03 02:28:59]: Rescoring with ConvexPLR complete in 21.7779!\n",
      "\n",
      "[2023-Sep-03 02:28:59]: Combining all scores for /home/alacournola/DUD-E/hdac2/temp/rescoring_bestpose_SMINA_clustered\n"
     ]
    },
    {
     "name": "stderr",
     "output_type": "stream",
     "text": [
      "Combining scores: 100%|██████████| 9/9 [00:00<00:00, 131.65files/s]\n"
     ]
    },
    {
     "name": "stdout",
     "output_type": "stream",
     "text": [
      "\n",
      "[2023-Sep-03 02:28:59]: Rescoring complete in 36.8526!\n",
      "\n",
      "[2023-Sep-03 02:28:59]: Skipping gnina rescoring...\n",
      "\n",
      "[2023-Sep-03 02:28:59]: Skipping AD4 rescoring...\n",
      "\n",
      "[2023-Sep-03 02:28:59]: Skipping chemplp rescoring...\n",
      "\n",
      "[2023-Sep-03 02:28:59]: Skipping rfscorevs rescoring...\n",
      "\n",
      "[2023-Sep-03 02:28:59]: Skipping LinF9 rescoring...\n",
      "\n",
      "[2023-Sep-03 02:28:59]: Skipping RTMScore rescoring...\n",
      "\n",
      "[2023-Sep-03 02:28:59]: Skipping SCORCH rescoring...\n",
      "\n",
      "[2023-Sep-03 02:28:59]: Skipping vinardo rescoring...\n",
      "Splitting SDF file bestpose_PLANTS_clustered.sdf ...\n"
     ]
    },
    {
     "name": "stderr",
     "output_type": "stream",
     "text": [
      "Splitting files: 100%|██████████| 28/28 [00:04<00:00,  6.50it/s]\n"
     ]
    },
    {
     "name": "stdout",
     "output_type": "stream",
     "text": [
      "Split docking library into 28 files each containing 363 compounds\n"
     ]
    },
    {
     "name": "stderr",
     "output_type": "stream",
     "text": [
      "Submitting KORPL rescoring jobs: 100%|██████████| 28/28 [00:00<00:00, 34.49file/s]\n",
      "Rescoring with KORPL: 100%|██████████| 28/28 [00:02<00:00,  9.79file/s]\n"
     ]
    },
    {
     "name": "stdout",
     "output_type": "stream",
     "text": [
      "Combining KORPL scores\n",
      "\n",
      "[2023-Sep-03 02:29:14]: Rescoring with KORPL complete in 14.4881!\n",
      "Splitting SDF file bestpose_PLANTS_clustered.sdf ...\n"
     ]
    },
    {
     "name": "stderr",
     "output_type": "stream",
     "text": [
      "Splitting files: 100%|██████████| 28/28 [00:04<00:00,  6.85it/s]\n"
     ]
    },
    {
     "name": "stdout",
     "output_type": "stream",
     "text": [
      "Split docking library into 28 files each containing 363 compounds\n"
     ]
    },
    {
     "name": "stderr",
     "output_type": "stream",
     "text": [
      "Submitting ConvexPLR rescoring jobs: 100%|██████████| 28/28 [00:00<00:00, 35.75file/s]\n",
      "Rescoring with ConvexPLR: 100%|██████████| 28/28 [00:10<00:00,  2.71file/s]\n"
     ]
    },
    {
     "name": "stdout",
     "output_type": "stream",
     "text": [
      "Combining ConvexPLR scores\n",
      "\n",
      "[2023-Sep-03 02:29:36]: Rescoring with ConvexPLR complete in 21.7180!\n",
      "\n",
      "[2023-Sep-03 02:29:36]: Combining all scores for /home/alacournola/DUD-E/hdac2/temp/rescoring_bestpose_PLANTS_clustered\n"
     ]
    },
    {
     "name": "stderr",
     "output_type": "stream",
     "text": [
      "Combining scores: 100%|██████████| 9/9 [00:00<00:00, 114.90files/s]\n"
     ]
    },
    {
     "name": "stdout",
     "output_type": "stream",
     "text": [
      "\n",
      "[2023-Sep-03 02:29:36]: Rescoring complete in 36.8628!\n",
      "Loading library\n",
      "\n",
      "[2023-Sep-03 02:30:00]: Calculating consensus methods for every possible score combination...\n"
     ]
    },
    {
     "name": "stderr",
     "output_type": "stream",
     "text": [
      "100%|██████████| 8/8 [43:25<00:00, 325.73s/it]\n",
      " 35%|███▌      | 11/31 [5:10:57<12:10:11, 2190.57s/it]"
     ]
    },
    {
     "name": "stdout",
     "output_type": "stream",
     "text": [
      "hs90a\n",
      "The working directory has been set to: /home/alacournola/DUD-E/hs90a\n",
      "\n",
      "[2023-Sep-03 03:13:47]: Extracting pocket from /home/alacournola/DUD-E/hs90a/receptor_protoss_prepared.pdb using /home/alacournola/DUD-E/hs90a/crystal_ligand_protoss.sdf as reference ligand\n",
      "\n",
      "[2023-Sep-03 03:13:52]: Finished extracting pocket from /home/alacournola/DUD-E/hs90a/receptor_protoss_prepared.pdb using /home/alacournola/DUD-E/hs90a/crystal_ligand_protoss.sdf as reference ligand\n",
      "\n",
      "[2023-Sep-03 03:13:52]: Skipping gnina rescoring...\n",
      "\n",
      "[2023-Sep-03 03:13:52]: Skipping AD4 rescoring...\n",
      "\n",
      "[2023-Sep-03 03:13:52]: Skipping chemplp rescoring...\n",
      "\n",
      "[2023-Sep-03 03:13:52]: Skipping rfscorevs rescoring...\n",
      "\n",
      "[2023-Sep-03 03:13:52]: Skipping LinF9 rescoring...\n",
      "\n",
      "[2023-Sep-03 03:13:52]: Skipping RTMScore rescoring...\n",
      "\n",
      "[2023-Sep-03 03:13:52]: Skipping SCORCH rescoring...\n",
      "\n",
      "[2023-Sep-03 03:13:52]: Skipping vinardo rescoring...\n",
      "Splitting SDF file RMSD_clustered.sdf ...\n"
     ]
    },
    {
     "name": "stderr",
     "output_type": "stream",
     "text": [
      "Splitting files: 100%|██████████| 28/28 [00:05<00:00,  5.21it/s]\n"
     ]
    },
    {
     "name": "stdout",
     "output_type": "stream",
     "text": [
      "Split docking library into 28 files each containing 459 compounds\n"
     ]
    },
    {
     "name": "stderr",
     "output_type": "stream",
     "text": [
      "Submitting KORPL rescoring jobs: 100%|██████████| 28/28 [00:00<00:00, 33.26file/s]\n",
      "Rescoring with KORPL: 100%|██████████| 28/28 [00:03<00:00,  7.01file/s]\n"
     ]
    },
    {
     "name": "stdout",
     "output_type": "stream",
     "text": [
      "Combining KORPL scores\n",
      "\n",
      "[2023-Sep-03 03:14:11]: Rescoring with KORPL complete in 19.1038!\n",
      "Splitting SDF file RMSD_clustered.sdf ...\n"
     ]
    },
    {
     "name": "stderr",
     "output_type": "stream",
     "text": [
      "Splitting files: 100%|██████████| 28/28 [00:05<00:00,  5.25it/s]\n"
     ]
    },
    {
     "name": "stdout",
     "output_type": "stream",
     "text": [
      "Split docking library into 28 files each containing 459 compounds\n"
     ]
    },
    {
     "name": "stderr",
     "output_type": "stream",
     "text": [
      "Submitting ConvexPLR rescoring jobs: 100%|██████████| 28/28 [00:00<00:00, 34.96file/s]\n",
      "Rescoring with ConvexPLR: 100%|██████████| 28/28 [00:15<00:00,  1.83file/s]\n"
     ]
    },
    {
     "name": "stdout",
     "output_type": "stream",
     "text": [
      "Combining ConvexPLR scores\n",
      "\n",
      "[2023-Sep-03 03:14:41]: Rescoring with ConvexPLR complete in 30.3199!\n",
      "\n",
      "[2023-Sep-03 03:14:41]: Combining all scores for /home/alacournola/DUD-E/hs90a/temp/rescoring_RMSD_clustered\n"
     ]
    },
    {
     "name": "stderr",
     "output_type": "stream",
     "text": [
      "Combining scores: 100%|██████████| 9/9 [00:00<00:00, 97.75files/s]\n"
     ]
    },
    {
     "name": "stdout",
     "output_type": "stream",
     "text": [
      "\n",
      "[2023-Sep-03 03:14:42]: Rescoring complete in 50.2390!\n",
      "\n",
      "[2023-Sep-03 03:14:42]: Skipping gnina rescoring...\n",
      "\n",
      "[2023-Sep-03 03:14:42]: Skipping AD4 rescoring...\n",
      "\n",
      "[2023-Sep-03 03:14:42]: Skipping chemplp rescoring...\n",
      "\n",
      "[2023-Sep-03 03:14:42]: Skipping rfscorevs rescoring...\n",
      "\n",
      "[2023-Sep-03 03:14:42]: Skipping LinF9 rescoring...\n",
      "\n",
      "[2023-Sep-03 03:14:42]: Skipping RTMScore rescoring...\n",
      "\n",
      "[2023-Sep-03 03:14:42]: Skipping SCORCH rescoring...\n",
      "\n",
      "[2023-Sep-03 03:14:42]: Skipping vinardo rescoring...\n",
      "Splitting SDF file spyRMSD_clustered.sdf ...\n"
     ]
    },
    {
     "name": "stderr",
     "output_type": "stream",
     "text": [
      "Splitting files: 100%|██████████| 28/28 [00:05<00:00,  4.83it/s]\n"
     ]
    },
    {
     "name": "stdout",
     "output_type": "stream",
     "text": [
      "Split docking library into 28 files each containing 463 compounds\n"
     ]
    },
    {
     "name": "stderr",
     "output_type": "stream",
     "text": [
      "Submitting KORPL rescoring jobs: 100%|██████████| 28/28 [00:00<00:00, 33.28file/s]\n",
      "Rescoring with KORPL: 100%|██████████| 28/28 [00:04<00:00,  6.99file/s]\n"
     ]
    },
    {
     "name": "stdout",
     "output_type": "stream",
     "text": [
      "Combining KORPL scores\n",
      "\n",
      "[2023-Sep-03 03:15:02]: Rescoring with KORPL complete in 19.6269!\n",
      "Splitting SDF file spyRMSD_clustered.sdf ...\n"
     ]
    },
    {
     "name": "stderr",
     "output_type": "stream",
     "text": [
      "Splitting files: 100%|██████████| 28/28 [00:05<00:00,  5.21it/s]\n"
     ]
    },
    {
     "name": "stdout",
     "output_type": "stream",
     "text": [
      "Split docking library into 28 files each containing 463 compounds\n"
     ]
    },
    {
     "name": "stderr",
     "output_type": "stream",
     "text": [
      "Submitting ConvexPLR rescoring jobs: 100%|██████████| 28/28 [00:00<00:00, 34.79file/s]\n",
      "Rescoring with ConvexPLR: 100%|██████████| 28/28 [00:15<00:00,  1.82file/s]\n"
     ]
    },
    {
     "name": "stdout",
     "output_type": "stream",
     "text": [
      "Combining ConvexPLR scores\n",
      "\n",
      "[2023-Sep-03 03:15:32]: Rescoring with ConvexPLR complete in 30.6596!\n",
      "\n",
      "[2023-Sep-03 03:15:32]: Combining all scores for /home/alacournola/DUD-E/hs90a/temp/rescoring_spyRMSD_clustered\n"
     ]
    },
    {
     "name": "stderr",
     "output_type": "stream",
     "text": [
      "Combining scores: 100%|██████████| 9/9 [00:00<00:00, 105.77files/s]\n"
     ]
    },
    {
     "name": "stdout",
     "output_type": "stream",
     "text": [
      "\n",
      "[2023-Sep-03 03:15:33]: Rescoring complete in 51.0956!\n",
      "\n",
      "[2023-Sep-03 03:15:33]: Skipping gnina rescoring...\n",
      "\n",
      "[2023-Sep-03 03:15:33]: Skipping AD4 rescoring...\n",
      "\n",
      "[2023-Sep-03 03:15:33]: Skipping chemplp rescoring...\n",
      "\n",
      "[2023-Sep-03 03:15:33]: Skipping rfscorevs rescoring...\n",
      "\n",
      "[2023-Sep-03 03:15:33]: Skipping LinF9 rescoring...\n",
      "\n",
      "[2023-Sep-03 03:15:33]: Skipping RTMScore rescoring...\n",
      "\n",
      "[2023-Sep-03 03:15:33]: Skipping SCORCH rescoring...\n",
      "\n",
      "[2023-Sep-03 03:15:33]: Skipping vinardo rescoring...\n",
      "Splitting SDF file espsim_clustered.sdf ...\n"
     ]
    },
    {
     "name": "stderr",
     "output_type": "stream",
     "text": [
      "Splitting files: 100%|██████████| 28/28 [00:04<00:00,  5.70it/s]\n"
     ]
    },
    {
     "name": "stdout",
     "output_type": "stream",
     "text": [
      "Split docking library into 28 files each containing 384 compounds\n"
     ]
    },
    {
     "name": "stderr",
     "output_type": "stream",
     "text": [
      "Submitting KORPL rescoring jobs: 100%|██████████| 28/28 [00:00<00:00, 34.56file/s]\n",
      "Rescoring with KORPL: 100%|██████████| 28/28 [00:03<00:00,  8.51file/s]\n"
     ]
    },
    {
     "name": "stdout",
     "output_type": "stream",
     "text": [
      "Combining KORPL scores\n",
      "\n",
      "[2023-Sep-03 03:15:50]: Rescoring with KORPL complete in 16.2346!\n",
      "Splitting SDF file espsim_clustered.sdf ...\n"
     ]
    },
    {
     "name": "stderr",
     "output_type": "stream",
     "text": [
      "Splitting files: 100%|██████████| 28/28 [00:04<00:00,  6.18it/s]\n"
     ]
    },
    {
     "name": "stdout",
     "output_type": "stream",
     "text": [
      "Split docking library into 28 files each containing 384 compounds\n"
     ]
    },
    {
     "name": "stderr",
     "output_type": "stream",
     "text": [
      "Submitting ConvexPLR rescoring jobs: 100%|██████████| 28/28 [00:00<00:00, 33.78file/s]\n",
      "Rescoring with ConvexPLR: 100%|██████████| 28/28 [00:12<00:00,  2.22file/s]\n"
     ]
    },
    {
     "name": "stdout",
     "output_type": "stream",
     "text": [
      "Combining ConvexPLR scores\n",
      "\n",
      "[2023-Sep-03 03:16:15]: Rescoring with ConvexPLR complete in 25.3522!\n",
      "\n",
      "[2023-Sep-03 03:16:15]: Combining all scores for /home/alacournola/DUD-E/hs90a/temp/rescoring_espsim_clustered\n"
     ]
    },
    {
     "name": "stderr",
     "output_type": "stream",
     "text": [
      "Combining scores: 100%|██████████| 9/9 [00:00<00:00, 114.54files/s]\n"
     ]
    },
    {
     "name": "stdout",
     "output_type": "stream",
     "text": [
      "\n",
      "[2023-Sep-03 03:16:16]: Rescoring complete in 42.3091!\n",
      "\n",
      "[2023-Sep-03 03:16:16]: Skipping gnina rescoring...\n",
      "\n",
      "[2023-Sep-03 03:16:16]: Skipping AD4 rescoring...\n",
      "\n",
      "[2023-Sep-03 03:16:16]: Skipping chemplp rescoring...\n",
      "\n",
      "[2023-Sep-03 03:16:16]: Skipping rfscorevs rescoring...\n",
      "\n",
      "[2023-Sep-03 03:16:16]: Skipping LinF9 rescoring...\n",
      "\n",
      "[2023-Sep-03 03:16:16]: Skipping RTMScore rescoring...\n",
      "\n",
      "[2023-Sep-03 03:16:16]: Skipping SCORCH rescoring...\n",
      "\n",
      "[2023-Sep-03 03:16:16]: Skipping vinardo rescoring...\n",
      "Splitting SDF file 3DScore_clustered.sdf ...\n"
     ]
    },
    {
     "name": "stderr",
     "output_type": "stream",
     "text": [
      "Splitting files: 100%|██████████| 28/28 [00:02<00:00, 13.26it/s]\n"
     ]
    },
    {
     "name": "stdout",
     "output_type": "stream",
     "text": [
      "Split docking library into 28 files each containing 176 compounds\n"
     ]
    },
    {
     "name": "stderr",
     "output_type": "stream",
     "text": [
      "Submitting KORPL rescoring jobs: 100%|██████████| 28/28 [00:00<00:00, 35.02file/s]\n",
      "Rescoring with KORPL: 100%|██████████| 28/28 [00:01<00:00, 15.43file/s]\n"
     ]
    },
    {
     "name": "stdout",
     "output_type": "stream",
     "text": [
      "Combining KORPL scores\n",
      "\n",
      "[2023-Sep-03 03:16:24]: Rescoring with KORPL complete in 8.1434!\n",
      "Splitting SDF file 3DScore_clustered.sdf ...\n"
     ]
    },
    {
     "name": "stderr",
     "output_type": "stream",
     "text": [
      "Splitting files: 100%|██████████| 28/28 [00:02<00:00, 13.24it/s]\n"
     ]
    },
    {
     "name": "stdout",
     "output_type": "stream",
     "text": [
      "Split docking library into 28 files each containing 176 compounds\n"
     ]
    },
    {
     "name": "stderr",
     "output_type": "stream",
     "text": [
      "Submitting ConvexPLR rescoring jobs: 100%|██████████| 28/28 [00:00<00:00, 35.11file/s]\n",
      "Rescoring with ConvexPLR: 100%|██████████| 28/28 [00:06<00:00,  4.54file/s]\n"
     ]
    },
    {
     "name": "stdout",
     "output_type": "stream",
     "text": [
      "Combining ConvexPLR scores\n",
      "\n",
      "[2023-Sep-03 03:16:36]: Rescoring with ConvexPLR complete in 12.6697!\n",
      "\n",
      "[2023-Sep-03 03:16:36]: Combining all scores for /home/alacournola/DUD-E/hs90a/temp/rescoring_3DScore_clustered\n"
     ]
    },
    {
     "name": "stderr",
     "output_type": "stream",
     "text": [
      "Combining scores: 100%|██████████| 9/9 [00:00<00:00, 167.88files/s]\n"
     ]
    },
    {
     "name": "stdout",
     "output_type": "stream",
     "text": [
      "\n",
      "[2023-Sep-03 03:16:37]: Rescoring complete in 21.1748!\n",
      "\n",
      "[2023-Sep-03 03:16:37]: Skipping gnina rescoring...\n",
      "\n",
      "[2023-Sep-03 03:16:37]: Skipping AD4 rescoring...\n",
      "\n",
      "[2023-Sep-03 03:16:37]: Skipping chemplp rescoring...\n",
      "\n",
      "[2023-Sep-03 03:16:37]: Skipping rfscorevs rescoring...\n",
      "\n",
      "[2023-Sep-03 03:16:37]: Skipping LinF9 rescoring...\n",
      "\n",
      "[2023-Sep-03 03:16:37]: Skipping RTMScore rescoring...\n",
      "\n",
      "[2023-Sep-03 03:16:37]: Skipping SCORCH rescoring...\n",
      "\n",
      "[2023-Sep-03 03:16:37]: Skipping vinardo rescoring...\n",
      "Splitting SDF file bestpose_clustered.sdf ...\n"
     ]
    },
    {
     "name": "stderr",
     "output_type": "stream",
     "text": [
      "Splitting files: 100%|██████████| 28/28 [00:06<00:00,  4.66it/s]\n"
     ]
    },
    {
     "name": "stdout",
     "output_type": "stream",
     "text": [
      "Split docking library into 28 files each containing 511 compounds\n"
     ]
    },
    {
     "name": "stderr",
     "output_type": "stream",
     "text": [
      "Submitting KORPL rescoring jobs: 100%|██████████| 28/28 [00:00<00:00, 34.10file/s]\n",
      "Rescoring with KORPL: 100%|██████████| 28/28 [00:04<00:00,  6.40file/s]\n"
     ]
    },
    {
     "name": "stdout",
     "output_type": "stream",
     "text": [
      "Combining KORPL scores\n",
      "\n",
      "[2023-Sep-03 03:16:58]: Rescoring with KORPL complete in 21.3711!\n",
      "Splitting SDF file bestpose_clustered.sdf ...\n"
     ]
    },
    {
     "name": "stderr",
     "output_type": "stream",
     "text": [
      "Splitting files: 100%|██████████| 28/28 [00:06<00:00,  4.26it/s]\n"
     ]
    },
    {
     "name": "stdout",
     "output_type": "stream",
     "text": [
      "Split docking library into 28 files each containing 511 compounds\n"
     ]
    },
    {
     "name": "stderr",
     "output_type": "stream",
     "text": [
      "Submitting ConvexPLR rescoring jobs: 100%|██████████| 28/28 [00:00<00:00, 34.14file/s]\n",
      "Rescoring with ConvexPLR: 100%|██████████| 28/28 [00:16<00:00,  1.67file/s]\n"
     ]
    },
    {
     "name": "stdout",
     "output_type": "stream",
     "text": [
      "Combining ConvexPLR scores\n",
      "\n",
      "[2023-Sep-03 03:17:32]: Rescoring with ConvexPLR complete in 34.2621!\n",
      "\n",
      "[2023-Sep-03 03:17:32]: Combining all scores for /home/alacournola/DUD-E/hs90a/temp/rescoring_bestpose_clustered\n"
     ]
    },
    {
     "name": "stderr",
     "output_type": "stream",
     "text": [
      "Combining scores: 100%|██████████| 9/9 [00:00<00:00, 107.14files/s]\n"
     ]
    },
    {
     "name": "stdout",
     "output_type": "stream",
     "text": [
      "\n",
      "[2023-Sep-03 03:17:33]: Rescoring complete in 56.5174!\n",
      "\n",
      "[2023-Sep-03 03:17:33]: Skipping gnina rescoring...\n",
      "\n",
      "[2023-Sep-03 03:17:33]: Skipping AD4 rescoring...\n",
      "\n",
      "[2023-Sep-03 03:17:33]: Skipping chemplp rescoring...\n",
      "\n",
      "[2023-Sep-03 03:17:33]: Skipping rfscorevs rescoring...\n",
      "\n",
      "[2023-Sep-03 03:17:33]: Skipping LinF9 rescoring...\n",
      "\n",
      "[2023-Sep-03 03:17:33]: Skipping RTMScore rescoring...\n",
      "\n",
      "[2023-Sep-03 03:17:33]: Skipping SCORCH rescoring...\n",
      "\n",
      "[2023-Sep-03 03:17:33]: Skipping vinardo rescoring...\n",
      "Splitting SDF file bestpose_GNINA_clustered.sdf ...\n"
     ]
    },
    {
     "name": "stderr",
     "output_type": "stream",
     "text": [
      "Splitting files: 100%|██████████| 28/28 [00:02<00:00, 12.39it/s]\n"
     ]
    },
    {
     "name": "stdout",
     "output_type": "stream",
     "text": [
      "Split docking library into 28 files each containing 175 compounds\n"
     ]
    },
    {
     "name": "stderr",
     "output_type": "stream",
     "text": [
      "Submitting KORPL rescoring jobs: 100%|██████████| 28/28 [00:00<00:00, 34.89file/s]\n",
      "Rescoring with KORPL: 100%|██████████| 28/28 [00:01<00:00, 16.31file/s]\n"
     ]
    },
    {
     "name": "stdout",
     "output_type": "stream",
     "text": [
      "Combining KORPL scores\n",
      "\n",
      "[2023-Sep-03 03:17:42]: Rescoring with KORPL complete in 8.2548!\n",
      "Splitting SDF file bestpose_GNINA_clustered.sdf ...\n"
     ]
    },
    {
     "name": "stderr",
     "output_type": "stream",
     "text": [
      "Splitting files: 100%|██████████| 28/28 [00:02<00:00, 13.02it/s]\n"
     ]
    },
    {
     "name": "stdout",
     "output_type": "stream",
     "text": [
      "Split docking library into 28 files each containing 175 compounds\n"
     ]
    },
    {
     "name": "stderr",
     "output_type": "stream",
     "text": [
      "Submitting ConvexPLR rescoring jobs: 100%|██████████| 28/28 [00:00<00:00, 34.30file/s]\n",
      "Rescoring with ConvexPLR: 100%|██████████| 28/28 [00:06<00:00,  4.32file/s]\n"
     ]
    },
    {
     "name": "stdout",
     "output_type": "stream",
     "text": [
      "Combining ConvexPLR scores\n",
      "\n",
      "[2023-Sep-03 03:17:55]: Rescoring with ConvexPLR complete in 12.9827!\n",
      "\n",
      "[2023-Sep-03 03:17:55]: Combining all scores for /home/alacournola/DUD-E/hs90a/temp/rescoring_bestpose_GNINA_clustered\n"
     ]
    },
    {
     "name": "stderr",
     "output_type": "stream",
     "text": [
      "Combining scores: 100%|██████████| 9/9 [00:00<00:00, 176.04files/s]\n"
     ]
    },
    {
     "name": "stdout",
     "output_type": "stream",
     "text": [
      "\n",
      "[2023-Sep-03 03:17:55]: Rescoring complete in 21.6207!\n",
      "\n",
      "[2023-Sep-03 03:17:55]: Skipping gnina rescoring...\n",
      "\n",
      "[2023-Sep-03 03:17:55]: Skipping AD4 rescoring...\n",
      "\n",
      "[2023-Sep-03 03:17:55]: Skipping chemplp rescoring...\n",
      "\n",
      "[2023-Sep-03 03:17:55]: Skipping rfscorevs rescoring...\n",
      "\n",
      "[2023-Sep-03 03:17:55]: Skipping LinF9 rescoring...\n",
      "\n",
      "[2023-Sep-03 03:17:55]: Skipping RTMScore rescoring...\n",
      "\n",
      "[2023-Sep-03 03:17:55]: Skipping SCORCH rescoring...\n",
      "\n",
      "[2023-Sep-03 03:17:55]: Skipping vinardo rescoring...\n",
      "Splitting SDF file bestpose_SMINA_clustered.sdf ...\n"
     ]
    },
    {
     "name": "stderr",
     "output_type": "stream",
     "text": [
      "Splitting files: 100%|██████████| 28/28 [00:03<00:00,  9.21it/s]\n"
     ]
    },
    {
     "name": "stdout",
     "output_type": "stream",
     "text": [
      "Split docking library into 28 files each containing 175 compounds\n"
     ]
    },
    {
     "name": "stderr",
     "output_type": "stream",
     "text": [
      "Submitting KORPL rescoring jobs: 100%|██████████| 28/28 [00:00<00:00, 31.27file/s]\n",
      "Rescoring with KORPL: 100%|██████████| 28/28 [00:01<00:00, 16.03file/s]\n"
     ]
    },
    {
     "name": "stdout",
     "output_type": "stream",
     "text": [
      "Combining KORPL scores\n",
      "\n",
      "[2023-Sep-03 03:18:04]: Rescoring with KORPL complete in 9.3603!\n",
      "Splitting SDF file bestpose_SMINA_clustered.sdf ...\n"
     ]
    },
    {
     "name": "stderr",
     "output_type": "stream",
     "text": [
      "Splitting files: 100%|██████████| 28/28 [00:02<00:00, 13.24it/s]\n"
     ]
    },
    {
     "name": "stdout",
     "output_type": "stream",
     "text": [
      "Split docking library into 28 files each containing 175 compounds\n"
     ]
    },
    {
     "name": "stderr",
     "output_type": "stream",
     "text": [
      "Submitting ConvexPLR rescoring jobs: 100%|██████████| 28/28 [00:00<00:00, 34.80file/s]\n",
      "Rescoring with ConvexPLR: 100%|██████████| 28/28 [00:06<00:00,  4.54file/s]\n"
     ]
    },
    {
     "name": "stdout",
     "output_type": "stream",
     "text": [
      "Combining ConvexPLR scores\n",
      "\n",
      "[2023-Sep-03 03:18:17]: Rescoring with ConvexPLR complete in 12.5468!\n",
      "\n",
      "[2023-Sep-03 03:18:17]: Combining all scores for /home/alacournola/DUD-E/hs90a/temp/rescoring_bestpose_SMINA_clustered\n"
     ]
    },
    {
     "name": "stderr",
     "output_type": "stream",
     "text": [
      "Combining scores: 100%|██████████| 9/9 [00:00<00:00, 226.62files/s]\n"
     ]
    },
    {
     "name": "stdout",
     "output_type": "stream",
     "text": [
      "\n",
      "[2023-Sep-03 03:18:17]: Rescoring complete in 22.2479!\n",
      "\n",
      "[2023-Sep-03 03:18:17]: Skipping gnina rescoring...\n",
      "\n",
      "[2023-Sep-03 03:18:17]: Skipping AD4 rescoring...\n",
      "\n",
      "[2023-Sep-03 03:18:17]: Skipping chemplp rescoring...\n",
      "\n",
      "[2023-Sep-03 03:18:17]: Skipping rfscorevs rescoring...\n",
      "\n",
      "[2023-Sep-03 03:18:17]: Skipping LinF9 rescoring...\n",
      "\n",
      "[2023-Sep-03 03:18:17]: Skipping RTMScore rescoring...\n",
      "\n",
      "[2023-Sep-03 03:18:17]: Skipping SCORCH rescoring...\n",
      "\n",
      "[2023-Sep-03 03:18:17]: Skipping vinardo rescoring...\n",
      "Splitting SDF file bestpose_PLANTS_clustered.sdf ...\n"
     ]
    },
    {
     "name": "stderr",
     "output_type": "stream",
     "text": [
      "Splitting files: 100%|██████████| 28/28 [00:01<00:00, 14.36it/s]\n"
     ]
    },
    {
     "name": "stdout",
     "output_type": "stream",
     "text": [
      "Split docking library into 28 files each containing 162 compounds\n"
     ]
    },
    {
     "name": "stderr",
     "output_type": "stream",
     "text": [
      "Submitting KORPL rescoring jobs: 100%|██████████| 28/28 [00:00<00:00, 33.57file/s]\n",
      "Rescoring with KORPL: 100%|██████████| 28/28 [00:01<00:00, 17.37file/s]\n"
     ]
    },
    {
     "name": "stdout",
     "output_type": "stream",
     "text": [
      "Combining KORPL scores\n",
      "\n",
      "[2023-Sep-03 03:18:25]: Rescoring with KORPL complete in 7.5835!\n",
      "Splitting SDF file bestpose_PLANTS_clustered.sdf ...\n"
     ]
    },
    {
     "name": "stderr",
     "output_type": "stream",
     "text": [
      "Splitting files: 100%|██████████| 28/28 [00:01<00:00, 14.72it/s]\n"
     ]
    },
    {
     "name": "stdout",
     "output_type": "stream",
     "text": [
      "Split docking library into 28 files each containing 162 compounds\n"
     ]
    },
    {
     "name": "stderr",
     "output_type": "stream",
     "text": [
      "Submitting ConvexPLR rescoring jobs: 100%|██████████| 28/28 [00:00<00:00, 34.86file/s]\n",
      "Rescoring with ConvexPLR: 100%|██████████| 28/28 [00:05<00:00,  4.74file/s]\n"
     ]
    },
    {
     "name": "stdout",
     "output_type": "stream",
     "text": [
      "Combining ConvexPLR scores\n",
      "\n",
      "[2023-Sep-03 03:18:37]: Rescoring with ConvexPLR complete in 11.9156!\n",
      "\n",
      "[2023-Sep-03 03:18:37]: Combining all scores for /home/alacournola/DUD-E/hs90a/temp/rescoring_bestpose_PLANTS_clustered\n"
     ]
    },
    {
     "name": "stderr",
     "output_type": "stream",
     "text": [
      "Combining scores: 100%|██████████| 9/9 [00:00<00:00, 243.11files/s]\n"
     ]
    },
    {
     "name": "stdout",
     "output_type": "stream",
     "text": [
      "\n",
      "[2023-Sep-03 03:18:37]: Rescoring complete in 19.8449!\n",
      "Loading library\n",
      "\n",
      "[2023-Sep-03 03:18:48]: Calculating consensus methods for every possible score combination...\n"
     ]
    },
    {
     "name": "stderr",
     "output_type": "stream",
     "text": [
      "100%|██████████| 8/8 [30:28<00:00, 228.61s/it]\n",
      " 39%|███▊      | 12/31 [5:46:48<11:29:48, 2178.32s/it]"
     ]
    },
    {
     "name": "stdout",
     "output_type": "stream",
     "text": [
      "abl1\n",
      "The working directory has been set to: /home/alacournola/DUD-E/abl1\n",
      "\n",
      "[2023-Sep-03 03:49:37]: Extracting pocket from /home/alacournola/DUD-E/abl1/receptor_protoss_prepared.pdb using /home/alacournola/DUD-E/abl1/crystal_ligand_protoss.sdf as reference ligand\n",
      "\n",
      "[2023-Sep-03 03:49:44]: Finished extracting pocket from /home/alacournola/DUD-E/abl1/receptor_protoss_prepared.pdb using /home/alacournola/DUD-E/abl1/crystal_ligand_protoss.sdf as reference ligand\n",
      "\n",
      "[2023-Sep-03 03:49:44]: Skipping gnina rescoring...\n",
      "\n",
      "[2023-Sep-03 03:49:44]: Skipping AD4 rescoring...\n",
      "\n",
      "[2023-Sep-03 03:49:44]: Skipping chemplp rescoring...\n",
      "\n",
      "[2023-Sep-03 03:49:44]: Skipping rfscorevs rescoring...\n",
      "\n",
      "[2023-Sep-03 03:49:44]: Skipping LinF9 rescoring...\n",
      "\n",
      "[2023-Sep-03 03:49:44]: Skipping RTMScore rescoring...\n",
      "\n",
      "[2023-Sep-03 03:49:44]: Skipping SCORCH rescoring...\n",
      "\n",
      "[2023-Sep-03 03:49:44]: Skipping vinardo rescoring...\n",
      "Splitting SDF file RMSD_clustered.sdf ...\n"
     ]
    },
    {
     "name": "stderr",
     "output_type": "stream",
     "text": [
      "Splitting files: 100%|██████████| 28/28 [00:12<00:00,  2.18it/s]\n"
     ]
    },
    {
     "name": "stdout",
     "output_type": "stream",
     "text": [
      "Split docking library into 28 files each containing 978 compounds\n"
     ]
    },
    {
     "name": "stderr",
     "output_type": "stream",
     "text": [
      "Submitting KORPL rescoring jobs: 100%|██████████| 28/28 [00:00<00:00, 33.41file/s]\n",
      "Rescoring with KORPL: 100%|██████████| 28/28 [00:09<00:00,  2.87file/s]\n"
     ]
    },
    {
     "name": "stdout",
     "output_type": "stream",
     "text": [
      "Combining KORPL scores\n",
      "\n",
      "[2023-Sep-03 03:50:28]: Rescoring with KORPL complete in 44.2270!\n",
      "Splitting SDF file RMSD_clustered.sdf ...\n"
     ]
    },
    {
     "name": "stderr",
     "output_type": "stream",
     "text": [
      "Splitting files: 100%|██████████| 28/28 [00:11<00:00,  2.39it/s]\n"
     ]
    },
    {
     "name": "stdout",
     "output_type": "stream",
     "text": [
      "Split docking library into 28 files each containing 978 compounds\n"
     ]
    },
    {
     "name": "stderr",
     "output_type": "stream",
     "text": [
      "Submitting ConvexPLR rescoring jobs: 100%|██████████| 28/28 [00:00<00:00, 34.73file/s]\n",
      "Rescoring with ConvexPLR: 100%|██████████| 28/28 [00:31<00:00,  1.12s/file]\n"
     ]
    },
    {
     "name": "stdout",
     "output_type": "stream",
     "text": [
      "Combining ConvexPLR scores\n",
      "\n",
      "[2023-Sep-03 03:51:32]: Rescoring with ConvexPLR complete in 63.1317!\n",
      "\n",
      "[2023-Sep-03 03:51:32]: Combining all scores for /home/alacournola/DUD-E/abl1/temp/rescoring_RMSD_clustered\n"
     ]
    },
    {
     "name": "stderr",
     "output_type": "stream",
     "text": [
      "Combining scores: 100%|██████████| 9/9 [00:00<00:00, 44.56files/s]\n"
     ]
    },
    {
     "name": "stdout",
     "output_type": "stream",
     "text": [
      "\n",
      "[2023-Sep-03 03:51:33]: Rescoring complete in 109.0051!\n",
      "\n",
      "[2023-Sep-03 03:51:33]: Skipping gnina rescoring...\n",
      "\n",
      "[2023-Sep-03 03:51:33]: Skipping AD4 rescoring...\n",
      "\n",
      "[2023-Sep-03 03:51:33]: Skipping chemplp rescoring...\n",
      "\n",
      "[2023-Sep-03 03:51:33]: Skipping rfscorevs rescoring...\n",
      "\n",
      "[2023-Sep-03 03:51:33]: Skipping LinF9 rescoring...\n",
      "\n",
      "[2023-Sep-03 03:51:33]: Skipping RTMScore rescoring...\n",
      "\n",
      "[2023-Sep-03 03:51:33]: Skipping SCORCH rescoring...\n",
      "\n",
      "[2023-Sep-03 03:51:33]: Skipping vinardo rescoring...\n",
      "Splitting SDF file spyRMSD_clustered.sdf ...\n"
     ]
    },
    {
     "name": "stderr",
     "output_type": "stream",
     "text": [
      "Splitting files: 100%|██████████| 28/28 [00:12<00:00,  2.19it/s]\n"
     ]
    },
    {
     "name": "stdout",
     "output_type": "stream",
     "text": [
      "Split docking library into 28 files each containing 983 compounds\n"
     ]
    },
    {
     "name": "stderr",
     "output_type": "stream",
     "text": [
      "Submitting KORPL rescoring jobs: 100%|██████████| 28/28 [00:00<00:00, 34.67file/s]\n",
      "Rescoring with KORPL: 100%|██████████| 28/28 [00:09<00:00,  2.88file/s]\n"
     ]
    },
    {
     "name": "stdout",
     "output_type": "stream",
     "text": [
      "Combining KORPL scores\n",
      "\n",
      "[2023-Sep-03 03:52:16]: Rescoring with KORPL complete in 42.8833!\n",
      "Splitting SDF file spyRMSD_clustered.sdf ...\n"
     ]
    },
    {
     "name": "stderr",
     "output_type": "stream",
     "text": [
      "Splitting files: 100%|██████████| 28/28 [00:11<00:00,  2.36it/s]\n"
     ]
    },
    {
     "name": "stdout",
     "output_type": "stream",
     "text": [
      "Split docking library into 28 files each containing 983 compounds\n"
     ]
    },
    {
     "name": "stderr",
     "output_type": "stream",
     "text": [
      "Submitting ConvexPLR rescoring jobs: 100%|██████████| 28/28 [00:00<00:00, 34.34file/s]\n",
      "Rescoring with ConvexPLR: 100%|██████████| 28/28 [00:31<00:00,  1.11s/file]\n"
     ]
    },
    {
     "name": "stdout",
     "output_type": "stream",
     "text": [
      "Combining ConvexPLR scores\n",
      "\n",
      "[2023-Sep-03 03:53:19]: Rescoring with ConvexPLR complete in 63.2795!\n",
      "\n",
      "[2023-Sep-03 03:53:19]: Combining all scores for /home/alacournola/DUD-E/abl1/temp/rescoring_spyRMSD_clustered\n"
     ]
    },
    {
     "name": "stderr",
     "output_type": "stream",
     "text": [
      "Combining scores: 100%|██████████| 9/9 [00:00<00:00, 62.94files/s]\n"
     ]
    },
    {
     "name": "stdout",
     "output_type": "stream",
     "text": [
      "\n",
      "[2023-Sep-03 03:53:21]: Rescoring complete in 107.6847!\n",
      "\n",
      "[2023-Sep-03 03:53:21]: Skipping gnina rescoring...\n",
      "\n",
      "[2023-Sep-03 03:53:21]: Skipping AD4 rescoring...\n",
      "\n",
      "[2023-Sep-03 03:53:21]: Skipping chemplp rescoring...\n",
      "\n",
      "[2023-Sep-03 03:53:21]: Skipping rfscorevs rescoring...\n",
      "\n",
      "[2023-Sep-03 03:53:21]: Skipping LinF9 rescoring...\n",
      "\n",
      "[2023-Sep-03 03:53:21]: Skipping RTMScore rescoring...\n",
      "\n",
      "[2023-Sep-03 03:53:21]: Skipping SCORCH rescoring...\n",
      "\n",
      "[2023-Sep-03 03:53:21]: Skipping vinardo rescoring...\n",
      "Splitting SDF file espsim_clustered.sdf ...\n"
     ]
    },
    {
     "name": "stderr",
     "output_type": "stream",
     "text": [
      "Splitting files: 100%|██████████| 28/28 [00:10<00:00,  2.66it/s]\n"
     ]
    },
    {
     "name": "stdout",
     "output_type": "stream",
     "text": [
      "Split docking library into 28 files each containing 878 compounds\n"
     ]
    },
    {
     "name": "stderr",
     "output_type": "stream",
     "text": [
      "Submitting KORPL rescoring jobs: 100%|██████████| 28/28 [00:00<00:00, 35.90file/s]\n",
      "Rescoring with KORPL: 100%|██████████| 28/28 [00:08<00:00,  3.45file/s]\n"
     ]
    },
    {
     "name": "stdout",
     "output_type": "stream",
     "text": [
      "Combining KORPL scores\n",
      "\n",
      "[2023-Sep-03 03:53:58]: Rescoring with KORPL complete in 36.7629!\n",
      "Splitting SDF file espsim_clustered.sdf ...\n"
     ]
    },
    {
     "name": "stderr",
     "output_type": "stream",
     "text": [
      "Splitting files: 100%|██████████| 28/28 [00:10<00:00,  2.65it/s]\n"
     ]
    },
    {
     "name": "stdout",
     "output_type": "stream",
     "text": [
      "Split docking library into 28 files each containing 878 compounds\n"
     ]
    },
    {
     "name": "stderr",
     "output_type": "stream",
     "text": [
      "Submitting ConvexPLR rescoring jobs: 100%|██████████| 28/28 [00:00<00:00, 35.27file/s]\n",
      "Rescoring with ConvexPLR: 100%|██████████| 28/28 [00:27<00:00,  1.01file/s]\n"
     ]
    },
    {
     "name": "stdout",
     "output_type": "stream",
     "text": [
      "Combining ConvexPLR scores\n",
      "\n",
      "[2023-Sep-03 03:54:54]: Rescoring with ConvexPLR complete in 56.6327!\n",
      "\n",
      "[2023-Sep-03 03:54:54]: Combining all scores for /home/alacournola/DUD-E/abl1/temp/rescoring_espsim_clustered\n"
     ]
    },
    {
     "name": "stderr",
     "output_type": "stream",
     "text": [
      "Combining scores: 100%|██████████| 9/9 [00:00<00:00, 63.37files/s]\n"
     ]
    },
    {
     "name": "stdout",
     "output_type": "stream",
     "text": [
      "\n",
      "[2023-Sep-03 03:54:56]: Rescoring complete in 94.7567!\n",
      "\n",
      "[2023-Sep-03 03:54:56]: Skipping gnina rescoring...\n",
      "\n",
      "[2023-Sep-03 03:54:56]: Skipping AD4 rescoring...\n",
      "\n",
      "[2023-Sep-03 03:54:56]: Skipping chemplp rescoring...\n",
      "\n",
      "[2023-Sep-03 03:54:56]: Skipping rfscorevs rescoring...\n",
      "\n",
      "[2023-Sep-03 03:54:56]: Skipping LinF9 rescoring...\n",
      "\n",
      "[2023-Sep-03 03:54:56]: Skipping RTMScore rescoring...\n",
      "\n",
      "[2023-Sep-03 03:54:56]: Skipping SCORCH rescoring...\n",
      "\n",
      "[2023-Sep-03 03:54:56]: Skipping vinardo rescoring...\n",
      "Splitting SDF file 3DScore_clustered.sdf ...\n"
     ]
    },
    {
     "name": "stderr",
     "output_type": "stream",
     "text": [
      "Splitting files: 100%|██████████| 28/28 [00:05<00:00,  5.41it/s]\n"
     ]
    },
    {
     "name": "stdout",
     "output_type": "stream",
     "text": [
      "Split docking library into 28 files each containing 389 compounds\n"
     ]
    },
    {
     "name": "stderr",
     "output_type": "stream",
     "text": [
      "Submitting KORPL rescoring jobs: 100%|██████████| 28/28 [00:00<00:00, 33.58file/s]\n",
      "Rescoring with KORPL: 100%|██████████| 28/28 [00:03<00:00,  8.00file/s]\n"
     ]
    },
    {
     "name": "stdout",
     "output_type": "stream",
     "text": [
      "Combining KORPL scores\n",
      "\n",
      "[2023-Sep-03 03:55:13]: Rescoring with KORPL complete in 17.1317!\n",
      "Splitting SDF file 3DScore_clustered.sdf ...\n"
     ]
    },
    {
     "name": "stderr",
     "output_type": "stream",
     "text": [
      "Splitting files: 100%|██████████| 28/28 [00:04<00:00,  5.76it/s]\n"
     ]
    },
    {
     "name": "stdout",
     "output_type": "stream",
     "text": [
      "Split docking library into 28 files each containing 389 compounds\n"
     ]
    },
    {
     "name": "stderr",
     "output_type": "stream",
     "text": [
      "Submitting ConvexPLR rescoring jobs: 100%|██████████| 28/28 [00:00<00:00, 34.31file/s]\n",
      "Rescoring with ConvexPLR: 100%|██████████| 28/28 [00:12<00:00,  2.33file/s]\n"
     ]
    },
    {
     "name": "stdout",
     "output_type": "stream",
     "text": [
      "Combining ConvexPLR scores\n",
      "\n",
      "[2023-Sep-03 03:55:38]: Rescoring with ConvexPLR complete in 25.3895!\n",
      "\n",
      "[2023-Sep-03 03:55:38]: Combining all scores for /home/alacournola/DUD-E/abl1/temp/rescoring_3DScore_clustered\n"
     ]
    },
    {
     "name": "stderr",
     "output_type": "stream",
     "text": [
      "Combining scores: 100%|██████████| 9/9 [00:00<00:00, 131.80files/s]\n"
     ]
    },
    {
     "name": "stdout",
     "output_type": "stream",
     "text": [
      "\n",
      "[2023-Sep-03 03:55:39]: Rescoring complete in 43.1717!\n",
      "\n",
      "[2023-Sep-03 03:55:39]: Skipping gnina rescoring...\n",
      "\n",
      "[2023-Sep-03 03:55:39]: Skipping AD4 rescoring...\n",
      "\n",
      "[2023-Sep-03 03:55:39]: Skipping chemplp rescoring...\n",
      "\n",
      "[2023-Sep-03 03:55:39]: Skipping rfscorevs rescoring...\n",
      "\n",
      "[2023-Sep-03 03:55:39]: Skipping LinF9 rescoring...\n",
      "\n",
      "[2023-Sep-03 03:55:39]: Skipping RTMScore rescoring...\n",
      "\n",
      "[2023-Sep-03 03:55:39]: Skipping SCORCH rescoring...\n",
      "\n",
      "[2023-Sep-03 03:55:39]: Skipping vinardo rescoring...\n",
      "Splitting SDF file bestpose_clustered.sdf ...\n"
     ]
    },
    {
     "name": "stderr",
     "output_type": "stream",
     "text": [
      "Splitting files: 100%|██████████| 28/28 [00:14<00:00,  1.87it/s]\n"
     ]
    },
    {
     "name": "stdout",
     "output_type": "stream",
     "text": [
      "Split docking library into 28 files each containing 1142 compounds\n"
     ]
    },
    {
     "name": "stderr",
     "output_type": "stream",
     "text": [
      "Submitting KORPL rescoring jobs: 100%|██████████| 28/28 [00:00<00:00, 34.82file/s]\n",
      "Rescoring with KORPL: 100%|██████████| 28/28 [00:11<00:00,  2.38file/s]\n"
     ]
    },
    {
     "name": "stdout",
     "output_type": "stream",
     "text": [
      "Combining KORPL scores\n",
      "\n",
      "[2023-Sep-03 03:56:31]: Rescoring with KORPL complete in 51.8836!\n",
      "Splitting SDF file bestpose_clustered.sdf ...\n"
     ]
    },
    {
     "name": "stderr",
     "output_type": "stream",
     "text": [
      "Splitting files: 100%|██████████| 28/28 [00:13<00:00,  2.03it/s]\n"
     ]
    },
    {
     "name": "stdout",
     "output_type": "stream",
     "text": [
      "Split docking library into 28 files each containing 1142 compounds\n"
     ]
    },
    {
     "name": "stderr",
     "output_type": "stream",
     "text": [
      "Submitting ConvexPLR rescoring jobs: 100%|██████████| 28/28 [00:00<00:00, 34.77file/s]\n",
      "Rescoring with ConvexPLR: 100%|██████████| 28/28 [00:36<00:00,  1.32s/file]\n"
     ]
    },
    {
     "name": "stdout",
     "output_type": "stream",
     "text": [
      "Combining ConvexPLR scores\n",
      "\n",
      "[2023-Sep-03 03:57:44]: Rescoring with ConvexPLR complete in 73.4108!\n",
      "\n",
      "[2023-Sep-03 03:57:44]: Combining all scores for /home/alacournola/DUD-E/abl1/temp/rescoring_bestpose_clustered\n"
     ]
    },
    {
     "name": "stderr",
     "output_type": "stream",
     "text": [
      "Combining scores: 100%|██████████| 9/9 [00:00<00:00, 49.25files/s]\n"
     ]
    },
    {
     "name": "stdout",
     "output_type": "stream",
     "text": [
      "\n",
      "[2023-Sep-03 03:57:46]: Rescoring complete in 127.0721!\n",
      "\n",
      "[2023-Sep-03 03:57:46]: Skipping gnina rescoring...\n",
      "\n",
      "[2023-Sep-03 03:57:46]: Skipping AD4 rescoring...\n",
      "\n",
      "[2023-Sep-03 03:57:46]: Skipping chemplp rescoring...\n",
      "\n",
      "[2023-Sep-03 03:57:46]: Skipping rfscorevs rescoring...\n",
      "\n",
      "[2023-Sep-03 03:57:46]: Skipping LinF9 rescoring...\n",
      "\n",
      "[2023-Sep-03 03:57:46]: Skipping RTMScore rescoring...\n",
      "\n",
      "[2023-Sep-03 03:57:46]: Skipping SCORCH rescoring...\n",
      "\n",
      "[2023-Sep-03 03:57:46]: Skipping vinardo rescoring...\n",
      "Splitting SDF file bestpose_GNINA_clustered.sdf ...\n"
     ]
    },
    {
     "name": "stderr",
     "output_type": "stream",
     "text": [
      "Splitting files: 100%|██████████| 28/28 [00:05<00:00,  5.40it/s]\n"
     ]
    },
    {
     "name": "stdout",
     "output_type": "stream",
     "text": [
      "Split docking library into 28 files each containing 387 compounds\n"
     ]
    },
    {
     "name": "stderr",
     "output_type": "stream",
     "text": [
      "Submitting KORPL rescoring jobs: 100%|██████████| 28/28 [00:00<00:00, 35.61file/s]\n",
      "Rescoring with KORPL: 100%|██████████| 28/28 [00:03<00:00,  7.91file/s]\n"
     ]
    },
    {
     "name": "stdout",
     "output_type": "stream",
     "text": [
      "Combining KORPL scores\n",
      "\n",
      "[2023-Sep-03 03:58:03]: Rescoring with KORPL complete in 17.0055!\n",
      "Splitting SDF file bestpose_GNINA_clustered.sdf ...\n"
     ]
    },
    {
     "name": "stderr",
     "output_type": "stream",
     "text": [
      "Splitting files: 100%|██████████| 28/28 [00:04<00:00,  5.80it/s]\n"
     ]
    },
    {
     "name": "stdout",
     "output_type": "stream",
     "text": [
      "Split docking library into 28 files each containing 387 compounds\n"
     ]
    },
    {
     "name": "stderr",
     "output_type": "stream",
     "text": [
      "Submitting ConvexPLR rescoring jobs: 100%|██████████| 28/28 [00:00<00:00, 34.50file/s]\n",
      "Rescoring with ConvexPLR: 100%|██████████| 28/28 [00:12<00:00,  2.21file/s]\n"
     ]
    },
    {
     "name": "stdout",
     "output_type": "stream",
     "text": [
      "Combining ConvexPLR scores\n",
      "\n",
      "[2023-Sep-03 03:58:29]: Rescoring with ConvexPLR complete in 25.8930!\n",
      "\n",
      "[2023-Sep-03 03:58:29]: Combining all scores for /home/alacournola/DUD-E/abl1/temp/rescoring_bestpose_GNINA_clustered\n"
     ]
    },
    {
     "name": "stderr",
     "output_type": "stream",
     "text": [
      "Combining scores: 100%|██████████| 9/9 [00:00<00:00, 129.92files/s]\n"
     ]
    },
    {
     "name": "stdout",
     "output_type": "stream",
     "text": [
      "\n",
      "[2023-Sep-03 03:58:29]: Rescoring complete in 43.5527!\n",
      "\n",
      "[2023-Sep-03 03:58:29]: Skipping gnina rescoring...\n",
      "\n",
      "[2023-Sep-03 03:58:29]: Skipping AD4 rescoring...\n",
      "\n",
      "[2023-Sep-03 03:58:29]: Skipping chemplp rescoring...\n",
      "\n",
      "[2023-Sep-03 03:58:29]: Skipping rfscorevs rescoring...\n",
      "\n",
      "[2023-Sep-03 03:58:29]: Skipping LinF9 rescoring...\n",
      "\n",
      "[2023-Sep-03 03:58:29]: Skipping RTMScore rescoring...\n",
      "\n",
      "[2023-Sep-03 03:58:29]: Skipping SCORCH rescoring...\n",
      "\n",
      "[2023-Sep-03 03:58:29]: Skipping vinardo rescoring...\n",
      "Splitting SDF file bestpose_SMINA_clustered.sdf ...\n"
     ]
    },
    {
     "name": "stderr",
     "output_type": "stream",
     "text": [
      "Splitting files: 100%|██████████| 28/28 [00:04<00:00,  5.87it/s]\n"
     ]
    },
    {
     "name": "stdout",
     "output_type": "stream",
     "text": [
      "Split docking library into 28 files each containing 387 compounds\n"
     ]
    },
    {
     "name": "stderr",
     "output_type": "stream",
     "text": [
      "Submitting KORPL rescoring jobs: 100%|██████████| 28/28 [00:00<00:00, 33.42file/s]\n",
      "Rescoring with KORPL: 100%|██████████| 28/28 [00:03<00:00,  8.07file/s]\n"
     ]
    },
    {
     "name": "stdout",
     "output_type": "stream",
     "text": [
      "Combining KORPL scores\n",
      "\n",
      "[2023-Sep-03 03:58:46]: Rescoring with KORPL complete in 16.6158!\n",
      "Splitting SDF file bestpose_SMINA_clustered.sdf ...\n"
     ]
    },
    {
     "name": "stderr",
     "output_type": "stream",
     "text": [
      "Splitting files: 100%|██████████| 28/28 [00:04<00:00,  5.82it/s]\n"
     ]
    },
    {
     "name": "stdout",
     "output_type": "stream",
     "text": [
      "Split docking library into 28 files each containing 387 compounds\n"
     ]
    },
    {
     "name": "stderr",
     "output_type": "stream",
     "text": [
      "Submitting ConvexPLR rescoring jobs: 100%|██████████| 28/28 [00:00<00:00, 35.47file/s]\n",
      "Rescoring with ConvexPLR: 100%|██████████| 28/28 [00:11<00:00,  2.40file/s]\n"
     ]
    },
    {
     "name": "stdout",
     "output_type": "stream",
     "text": [
      "Combining ConvexPLR scores\n",
      "\n",
      "[2023-Sep-03 03:59:11]: Rescoring with ConvexPLR complete in 25.0978!\n",
      "\n",
      "[2023-Sep-03 03:59:11]: Combining all scores for /home/alacournola/DUD-E/abl1/temp/rescoring_bestpose_SMINA_clustered\n"
     ]
    },
    {
     "name": "stderr",
     "output_type": "stream",
     "text": [
      "Combining scores: 100%|██████████| 9/9 [00:00<00:00, 120.77files/s]\n"
     ]
    },
    {
     "name": "stdout",
     "output_type": "stream",
     "text": [
      "\n",
      "[2023-Sep-03 03:59:12]: Rescoring complete in 42.3957!\n",
      "\n",
      "[2023-Sep-03 03:59:12]: Skipping gnina rescoring...\n",
      "\n",
      "[2023-Sep-03 03:59:12]: Skipping AD4 rescoring...\n",
      "\n",
      "[2023-Sep-03 03:59:12]: Skipping chemplp rescoring...\n",
      "\n",
      "[2023-Sep-03 03:59:12]: Skipping rfscorevs rescoring...\n",
      "\n",
      "[2023-Sep-03 03:59:12]: Skipping LinF9 rescoring...\n",
      "\n",
      "[2023-Sep-03 03:59:12]: Skipping RTMScore rescoring...\n",
      "\n",
      "[2023-Sep-03 03:59:12]: Skipping SCORCH rescoring...\n",
      "\n",
      "[2023-Sep-03 03:59:12]: Skipping vinardo rescoring...\n",
      "Splitting SDF file bestpose_PLANTS_clustered.sdf ...\n"
     ]
    },
    {
     "name": "stderr",
     "output_type": "stream",
     "text": [
      "Splitting files: 100%|██████████| 28/28 [00:04<00:00,  5.76it/s]\n"
     ]
    },
    {
     "name": "stdout",
     "output_type": "stream",
     "text": [
      "Split docking library into 28 files each containing 368 compounds\n"
     ]
    },
    {
     "name": "stderr",
     "output_type": "stream",
     "text": [
      "Submitting KORPL rescoring jobs: 100%|██████████| 28/28 [00:00<00:00, 34.49file/s]\n",
      "Rescoring with KORPL: 100%|██████████| 28/28 [00:03<00:00,  8.48file/s]\n"
     ]
    },
    {
     "name": "stdout",
     "output_type": "stream",
     "text": [
      "Combining KORPL scores\n",
      "\n",
      "[2023-Sep-03 03:59:28]: Rescoring with KORPL complete in 16.3738!\n",
      "Splitting SDF file bestpose_PLANTS_clustered.sdf ...\n"
     ]
    },
    {
     "name": "stderr",
     "output_type": "stream",
     "text": [
      "Splitting files: 100%|██████████| 28/28 [00:04<00:00,  6.24it/s]\n"
     ]
    },
    {
     "name": "stdout",
     "output_type": "stream",
     "text": [
      "Split docking library into 28 files each containing 368 compounds\n"
     ]
    },
    {
     "name": "stderr",
     "output_type": "stream",
     "text": [
      "Submitting ConvexPLR rescoring jobs: 100%|██████████| 28/28 [00:00<00:00, 34.84file/s]\n",
      "Rescoring with ConvexPLR: 100%|██████████| 28/28 [00:11<00:00,  2.48file/s]\n"
     ]
    },
    {
     "name": "stdout",
     "output_type": "stream",
     "text": [
      "Combining ConvexPLR scores\n",
      "\n",
      "[2023-Sep-03 03:59:52]: Rescoring with ConvexPLR complete in 23.6450!\n",
      "\n",
      "[2023-Sep-03 03:59:52]: Combining all scores for /home/alacournola/DUD-E/abl1/temp/rescoring_bestpose_PLANTS_clustered\n"
     ]
    },
    {
     "name": "stderr",
     "output_type": "stream",
     "text": [
      "Combining scores: 100%|██████████| 9/9 [00:00<00:00, 141.07files/s]\n"
     ]
    },
    {
     "name": "stdout",
     "output_type": "stream",
     "text": [
      "\n",
      "[2023-Sep-03 03:59:53]: Rescoring complete in 40.6530!\n",
      "Loading library\n",
      "\n",
      "[2023-Sep-03 04:00:16]: Calculating consensus methods for every possible score combination...\n"
     ]
    },
    {
     "name": "stderr",
     "output_type": "stream",
     "text": [
      "100%|██████████| 8/8 [42:20<00:00, 317.53s/it]\n",
      " 42%|████▏     | 13/31 [6:40:07<12:26:19, 2487.73s/it]"
     ]
    },
    {
     "name": "stdout",
     "output_type": "stream",
     "text": [
      "gria2\n",
      "The working directory has been set to: /home/alacournola/DUD-E/gria2\n",
      "\n",
      "[2023-Sep-03 04:42:57]: Extracting pocket from /home/alacournola/DUD-E/gria2/receptor_protoss_prepared.pdb using /home/alacournola/DUD-E/gria2/crystal_ligand_protoss.sdf as reference ligand\n",
      "\n",
      "[2023-Sep-03 04:43:09]: Finished extracting pocket from /home/alacournola/DUD-E/gria2/receptor_protoss_prepared.pdb using /home/alacournola/DUD-E/gria2/crystal_ligand_protoss.sdf as reference ligand\n",
      "\n",
      "[2023-Sep-03 04:43:09]: Skipping gnina rescoring...\n",
      "\n",
      "[2023-Sep-03 04:43:09]: Skipping AD4 rescoring...\n",
      "\n",
      "[2023-Sep-03 04:43:09]: Skipping chemplp rescoring...\n",
      "\n",
      "[2023-Sep-03 04:43:09]: Skipping rfscorevs rescoring...\n",
      "\n",
      "[2023-Sep-03 04:43:09]: Skipping LinF9 rescoring...\n",
      "\n",
      "[2023-Sep-03 04:43:09]: Skipping RTMScore rescoring...\n",
      "\n",
      "[2023-Sep-03 04:43:09]: Skipping SCORCH rescoring...\n",
      "\n",
      "[2023-Sep-03 04:43:09]: Skipping vinardo rescoring...\n",
      "Splitting SDF file RMSD_clustered.sdf ...\n"
     ]
    },
    {
     "name": "stderr",
     "output_type": "stream",
     "text": [
      "Splitting files: 100%|██████████| 28/28 [00:11<00:00,  2.46it/s]\n"
     ]
    },
    {
     "name": "stdout",
     "output_type": "stream",
     "text": [
      "Split docking library into 28 files each containing 1160 compounds\n"
     ]
    },
    {
     "name": "stderr",
     "output_type": "stream",
     "text": [
      "Submitting KORPL rescoring jobs: 100%|██████████| 28/28 [00:00<00:00, 32.39file/s]\n",
      "Rescoring with KORPL: 100%|██████████| 28/28 [00:08<00:00,  3.18file/s]\n"
     ]
    },
    {
     "name": "stdout",
     "output_type": "stream",
     "text": [
      "Combining KORPL scores\n",
      "\n",
      "[2023-Sep-03 04:43:49]: Rescoring with KORPL complete in 40.7363!\n",
      "Splitting SDF file RMSD_clustered.sdf ...\n"
     ]
    },
    {
     "name": "stderr",
     "output_type": "stream",
     "text": [
      "Splitting files: 100%|██████████| 28/28 [00:12<00:00,  2.27it/s]\n"
     ]
    },
    {
     "name": "stdout",
     "output_type": "stream",
     "text": [
      "Split docking library into 28 files each containing 1160 compounds\n"
     ]
    },
    {
     "name": "stderr",
     "output_type": "stream",
     "text": [
      "Submitting ConvexPLR rescoring jobs: 100%|██████████| 28/28 [00:00<00:00, 35.36file/s]\n",
      "Rescoring with ConvexPLR: 100%|██████████| 28/28 [00:30<00:00,  1.10s/file]\n"
     ]
    },
    {
     "name": "stdout",
     "output_type": "stream",
     "text": [
      "Combining ConvexPLR scores\n",
      "\n",
      "[2023-Sep-03 04:44:54]: Rescoring with ConvexPLR complete in 64.1565!\n",
      "\n",
      "[2023-Sep-03 04:44:54]: Combining all scores for /home/alacournola/DUD-E/gria2/temp/rescoring_RMSD_clustered\n"
     ]
    },
    {
     "name": "stderr",
     "output_type": "stream",
     "text": [
      "Combining scores: 100%|██████████| 9/9 [00:00<00:00, 46.17files/s]\n"
     ]
    },
    {
     "name": "stdout",
     "output_type": "stream",
     "text": [
      "\n",
      "[2023-Sep-03 04:44:55]: Rescoring complete in 106.6933!\n",
      "\n",
      "[2023-Sep-03 04:44:55]: Skipping gnina rescoring...\n",
      "\n",
      "[2023-Sep-03 04:44:55]: Skipping AD4 rescoring...\n",
      "\n",
      "[2023-Sep-03 04:44:55]: Skipping chemplp rescoring...\n",
      "\n",
      "[2023-Sep-03 04:44:55]: Skipping rfscorevs rescoring...\n",
      "\n",
      "[2023-Sep-03 04:44:55]: Skipping LinF9 rescoring...\n",
      "\n",
      "[2023-Sep-03 04:44:55]: Skipping RTMScore rescoring...\n",
      "\n",
      "[2023-Sep-03 04:44:55]: Skipping SCORCH rescoring...\n",
      "\n",
      "[2023-Sep-03 04:44:55]: Skipping vinardo rescoring...\n",
      "Splitting SDF file spyRMSD_clustered.sdf ...\n"
     ]
    },
    {
     "name": "stderr",
     "output_type": "stream",
     "text": [
      "Splitting files: 100%|██████████| 28/28 [00:12<00:00,  2.23it/s]\n"
     ]
    },
    {
     "name": "stdout",
     "output_type": "stream",
     "text": [
      "Split docking library into 28 files each containing 1168 compounds\n"
     ]
    },
    {
     "name": "stderr",
     "output_type": "stream",
     "text": [
      "Submitting KORPL rescoring jobs: 100%|██████████| 28/28 [00:00<00:00, 35.39file/s]\n",
      "Rescoring with KORPL: 100%|██████████| 28/28 [00:08<00:00,  3.20file/s]\n"
     ]
    },
    {
     "name": "stdout",
     "output_type": "stream",
     "text": [
      "Combining KORPL scores\n",
      "\n",
      "[2023-Sep-03 04:45:38]: Rescoring with KORPL complete in 42.2190!\n",
      "Splitting SDF file spyRMSD_clustered.sdf ...\n"
     ]
    },
    {
     "name": "stderr",
     "output_type": "stream",
     "text": [
      "Splitting files: 100%|██████████| 28/28 [00:11<00:00,  2.45it/s]\n"
     ]
    },
    {
     "name": "stdout",
     "output_type": "stream",
     "text": [
      "Split docking library into 28 files each containing 1168 compounds\n"
     ]
    },
    {
     "name": "stderr",
     "output_type": "stream",
     "text": [
      "Submitting ConvexPLR rescoring jobs: 100%|██████████| 28/28 [00:00<00:00, 35.74file/s]\n",
      "Rescoring with ConvexPLR: 100%|██████████| 28/28 [00:30<00:00,  1.10s/file]\n"
     ]
    },
    {
     "name": "stdout",
     "output_type": "stream",
     "text": [
      "Combining ConvexPLR scores\n",
      "\n",
      "[2023-Sep-03 04:46:41]: Rescoring with ConvexPLR complete in 63.0276!\n",
      "\n",
      "[2023-Sep-03 04:46:41]: Combining all scores for /home/alacournola/DUD-E/gria2/temp/rescoring_spyRMSD_clustered\n"
     ]
    },
    {
     "name": "stderr",
     "output_type": "stream",
     "text": [
      "Combining scores: 100%|██████████| 9/9 [00:00<00:00, 51.10files/s]\n"
     ]
    },
    {
     "name": "stdout",
     "output_type": "stream",
     "text": [
      "\n",
      "[2023-Sep-03 04:46:42]: Rescoring complete in 107.0356!\n",
      "\n",
      "[2023-Sep-03 04:46:42]: Skipping gnina rescoring...\n",
      "\n",
      "[2023-Sep-03 04:46:42]: Skipping AD4 rescoring...\n",
      "\n",
      "[2023-Sep-03 04:46:42]: Skipping chemplp rescoring...\n",
      "\n",
      "[2023-Sep-03 04:46:42]: Skipping rfscorevs rescoring...\n",
      "\n",
      "[2023-Sep-03 04:46:42]: Skipping LinF9 rescoring...\n",
      "\n",
      "[2023-Sep-03 04:46:42]: Skipping RTMScore rescoring...\n",
      "\n",
      "[2023-Sep-03 04:46:42]: Skipping SCORCH rescoring...\n",
      "\n",
      "[2023-Sep-03 04:46:42]: Skipping vinardo rescoring...\n",
      "Splitting SDF file espsim_clustered.sdf ...\n"
     ]
    },
    {
     "name": "stderr",
     "output_type": "stream",
     "text": [
      "Splitting files: 100%|██████████| 28/28 [00:10<00:00,  2.76it/s]\n"
     ]
    },
    {
     "name": "stdout",
     "output_type": "stream",
     "text": [
      "Split docking library into 28 files each containing 928 compounds\n"
     ]
    },
    {
     "name": "stderr",
     "output_type": "stream",
     "text": [
      "Submitting KORPL rescoring jobs: 100%|██████████| 28/28 [00:00<00:00, 34.92file/s]\n",
      "Rescoring with KORPL: 100%|██████████| 28/28 [00:06<00:00,  4.27file/s]\n"
     ]
    },
    {
     "name": "stdout",
     "output_type": "stream",
     "text": [
      "Combining KORPL scores\n",
      "\n",
      "[2023-Sep-03 04:47:15]: Rescoring with KORPL complete in 33.0295!\n",
      "Splitting SDF file espsim_clustered.sdf ...\n"
     ]
    },
    {
     "name": "stderr",
     "output_type": "stream",
     "text": [
      "Splitting files: 100%|██████████| 28/28 [00:09<00:00,  3.04it/s]\n"
     ]
    },
    {
     "name": "stdout",
     "output_type": "stream",
     "text": [
      "Split docking library into 28 files each containing 928 compounds\n"
     ]
    },
    {
     "name": "stderr",
     "output_type": "stream",
     "text": [
      "Submitting ConvexPLR rescoring jobs: 100%|██████████| 28/28 [00:00<00:00, 35.94file/s]\n",
      "Rescoring with ConvexPLR: 100%|██████████| 28/28 [00:23<00:00,  1.18file/s]\n"
     ]
    },
    {
     "name": "stdout",
     "output_type": "stream",
     "text": [
      "Combining ConvexPLR scores\n",
      "\n",
      "[2023-Sep-03 04:48:05]: Rescoring with ConvexPLR complete in 49.6624!\n",
      "\n",
      "[2023-Sep-03 04:48:05]: Combining all scores for /home/alacournola/DUD-E/gria2/temp/rescoring_espsim_clustered\n"
     ]
    },
    {
     "name": "stderr",
     "output_type": "stream",
     "text": [
      "Combining scores: 100%|██████████| 9/9 [00:00<00:00, 62.82files/s]\n"
     ]
    },
    {
     "name": "stdout",
     "output_type": "stream",
     "text": [
      "\n",
      "[2023-Sep-03 04:48:07]: Rescoring complete in 84.1199!\n",
      "\n",
      "[2023-Sep-03 04:48:07]: Skipping gnina rescoring...\n",
      "\n",
      "[2023-Sep-03 04:48:07]: Skipping AD4 rescoring...\n",
      "\n",
      "[2023-Sep-03 04:48:07]: Skipping chemplp rescoring...\n",
      "\n",
      "[2023-Sep-03 04:48:07]: Skipping rfscorevs rescoring...\n",
      "\n",
      "[2023-Sep-03 04:48:07]: Skipping LinF9 rescoring...\n",
      "\n",
      "[2023-Sep-03 04:48:07]: Skipping RTMScore rescoring...\n",
      "\n",
      "[2023-Sep-03 04:48:07]: Skipping SCORCH rescoring...\n",
      "\n",
      "[2023-Sep-03 04:48:07]: Skipping vinardo rescoring...\n",
      "Splitting SDF file 3DScore_clustered.sdf ...\n"
     ]
    },
    {
     "name": "stderr",
     "output_type": "stream",
     "text": [
      "Splitting files: 100%|██████████| 28/28 [00:04<00:00,  5.98it/s]\n"
     ]
    },
    {
     "name": "stdout",
     "output_type": "stream",
     "text": [
      "Split docking library into 28 files each containing 423 compounds\n"
     ]
    },
    {
     "name": "stderr",
     "output_type": "stream",
     "text": [
      "Submitting KORPL rescoring jobs: 100%|██████████| 28/28 [00:00<00:00, 35.79file/s]\n",
      "Rescoring with KORPL: 100%|██████████| 28/28 [00:02<00:00,  9.68file/s]\n"
     ]
    },
    {
     "name": "stdout",
     "output_type": "stream",
     "text": [
      "Combining KORPL scores\n",
      "\n",
      "[2023-Sep-03 04:48:22]: Rescoring with KORPL complete in 15.6076!\n",
      "Splitting SDF file 3DScore_clustered.sdf ...\n"
     ]
    },
    {
     "name": "stderr",
     "output_type": "stream",
     "text": [
      "Splitting files: 100%|██████████| 28/28 [00:04<00:00,  6.54it/s]\n"
     ]
    },
    {
     "name": "stdout",
     "output_type": "stream",
     "text": [
      "Split docking library into 28 files each containing 423 compounds\n"
     ]
    },
    {
     "name": "stderr",
     "output_type": "stream",
     "text": [
      "Submitting ConvexPLR rescoring jobs: 100%|██████████| 28/28 [00:00<00:00, 36.79file/s]\n",
      "Rescoring with ConvexPLR: 100%|██████████| 28/28 [00:12<00:00,  2.20file/s]\n"
     ]
    },
    {
     "name": "stdout",
     "output_type": "stream",
     "text": [
      "Combining ConvexPLR scores\n",
      "\n",
      "[2023-Sep-03 04:48:47]: Rescoring with ConvexPLR complete in 25.1610!\n",
      "\n",
      "[2023-Sep-03 04:48:47]: Combining all scores for /home/alacournola/DUD-E/gria2/temp/rescoring_3DScore_clustered\n"
     ]
    },
    {
     "name": "stderr",
     "output_type": "stream",
     "text": [
      "Combining scores: 100%|██████████| 9/9 [00:00<00:00, 122.35files/s]\n"
     ]
    },
    {
     "name": "stdout",
     "output_type": "stream",
     "text": [
      "\n",
      "[2023-Sep-03 04:48:48]: Rescoring complete in 41.4685!\n",
      "\n",
      "[2023-Sep-03 04:48:48]: Skipping gnina rescoring...\n",
      "\n",
      "[2023-Sep-03 04:48:48]: Skipping AD4 rescoring...\n",
      "\n",
      "[2023-Sep-03 04:48:48]: Skipping chemplp rescoring...\n",
      "\n",
      "[2023-Sep-03 04:48:48]: Skipping rfscorevs rescoring...\n",
      "\n",
      "[2023-Sep-03 04:48:48]: Skipping LinF9 rescoring...\n",
      "\n",
      "[2023-Sep-03 04:48:48]: Skipping RTMScore rescoring...\n",
      "\n",
      "[2023-Sep-03 04:48:48]: Skipping SCORCH rescoring...\n",
      "\n",
      "[2023-Sep-03 04:48:48]: Skipping vinardo rescoring...\n",
      "Splitting SDF file bestpose_clustered.sdf ...\n"
     ]
    },
    {
     "name": "stderr",
     "output_type": "stream",
     "text": [
      "Splitting files: 100%|██████████| 28/28 [00:13<00:00,  2.14it/s]\n"
     ]
    },
    {
     "name": "stdout",
     "output_type": "stream",
     "text": [
      "Split docking library into 28 files each containing 1208 compounds\n"
     ]
    },
    {
     "name": "stderr",
     "output_type": "stream",
     "text": [
      "Submitting KORPL rescoring jobs: 100%|██████████| 28/28 [00:00<00:00, 35.04file/s]\n",
      "Rescoring with KORPL: 100%|██████████| 28/28 [00:09<00:00,  3.01file/s]\n"
     ]
    },
    {
     "name": "stdout",
     "output_type": "stream",
     "text": [
      "Combining KORPL scores\n",
      "\n",
      "[2023-Sep-03 04:49:32]: Rescoring with KORPL complete in 44.1998!\n",
      "Splitting SDF file bestpose_clustered.sdf ...\n"
     ]
    },
    {
     "name": "stderr",
     "output_type": "stream",
     "text": [
      "Splitting files: 100%|██████████| 28/28 [00:12<00:00,  2.33it/s]\n"
     ]
    },
    {
     "name": "stdout",
     "output_type": "stream",
     "text": [
      "Split docking library into 28 files each containing 1208 compounds\n"
     ]
    },
    {
     "name": "stderr",
     "output_type": "stream",
     "text": [
      "Submitting ConvexPLR rescoring jobs: 100%|██████████| 28/28 [00:00<00:00, 35.54file/s]\n",
      "Rescoring with ConvexPLR: 100%|██████████| 28/28 [00:33<00:00,  1.20s/file]\n"
     ]
    },
    {
     "name": "stdout",
     "output_type": "stream",
     "text": [
      "Combining ConvexPLR scores\n",
      "\n",
      "[2023-Sep-03 04:50:40]: Rescoring with ConvexPLR complete in 67.3217!\n",
      "\n",
      "[2023-Sep-03 04:50:40]: Combining all scores for /home/alacournola/DUD-E/gria2/temp/rescoring_bestpose_clustered\n"
     ]
    },
    {
     "name": "stderr",
     "output_type": "stream",
     "text": [
      "Combining scores: 100%|██████████| 9/9 [00:00<00:00, 47.15files/s]\n"
     ]
    },
    {
     "name": "stdout",
     "output_type": "stream",
     "text": [
      "\n",
      "[2023-Sep-03 04:50:41]: Rescoring complete in 113.4009!\n",
      "\n",
      "[2023-Sep-03 04:50:41]: Skipping gnina rescoring...\n",
      "\n",
      "[2023-Sep-03 04:50:41]: Skipping AD4 rescoring...\n",
      "\n",
      "[2023-Sep-03 04:50:41]: Skipping chemplp rescoring...\n",
      "\n",
      "[2023-Sep-03 04:50:41]: Skipping rfscorevs rescoring...\n",
      "\n",
      "[2023-Sep-03 04:50:41]: Skipping LinF9 rescoring...\n",
      "\n",
      "[2023-Sep-03 04:50:41]: Skipping RTMScore rescoring...\n",
      "\n",
      "[2023-Sep-03 04:50:41]: Skipping SCORCH rescoring...\n",
      "\n",
      "[2023-Sep-03 04:50:41]: Skipping vinardo rescoring...\n",
      "Splitting SDF file bestpose_GNINA_clustered.sdf ...\n"
     ]
    },
    {
     "name": "stderr",
     "output_type": "stream",
     "text": [
      "Splitting files: 100%|██████████| 28/28 [00:04<00:00,  6.02it/s]\n"
     ]
    },
    {
     "name": "stdout",
     "output_type": "stream",
     "text": [
      "Split docking library into 28 files each containing 422 compounds\n"
     ]
    },
    {
     "name": "stderr",
     "output_type": "stream",
     "text": [
      "Submitting KORPL rescoring jobs: 100%|██████████| 28/28 [00:00<00:00, 36.22file/s]\n",
      "Rescoring with KORPL: 100%|██████████| 28/28 [00:02<00:00,  9.59file/s]\n"
     ]
    },
    {
     "name": "stdout",
     "output_type": "stream",
     "text": [
      "Combining KORPL scores\n",
      "\n",
      "[2023-Sep-03 04:50:57]: Rescoring with KORPL complete in 15.5829!\n",
      "Splitting SDF file bestpose_GNINA_clustered.sdf ...\n"
     ]
    },
    {
     "name": "stderr",
     "output_type": "stream",
     "text": [
      "Splitting files: 100%|██████████| 28/28 [00:04<00:00,  6.55it/s]\n"
     ]
    },
    {
     "name": "stdout",
     "output_type": "stream",
     "text": [
      "Split docking library into 28 files each containing 422 compounds\n"
     ]
    },
    {
     "name": "stderr",
     "output_type": "stream",
     "text": [
      "Submitting ConvexPLR rescoring jobs: 100%|██████████| 28/28 [00:00<00:00, 34.79file/s]\n",
      "Rescoring with ConvexPLR: 100%|██████████| 28/28 [00:12<00:00,  2.22file/s]\n"
     ]
    },
    {
     "name": "stdout",
     "output_type": "stream",
     "text": [
      "Combining ConvexPLR scores\n",
      "\n",
      "[2023-Sep-03 04:51:22]: Rescoring with ConvexPLR complete in 24.9067!\n",
      "\n",
      "[2023-Sep-03 04:51:22]: Combining all scores for /home/alacournola/DUD-E/gria2/temp/rescoring_bestpose_GNINA_clustered\n"
     ]
    },
    {
     "name": "stderr",
     "output_type": "stream",
     "text": [
      "Combining scores: 100%|██████████| 9/9 [00:00<00:00, 119.82files/s]\n"
     ]
    },
    {
     "name": "stdout",
     "output_type": "stream",
     "text": [
      "\n",
      "[2023-Sep-03 04:51:23]: Rescoring complete in 41.1986!\n",
      "\n",
      "[2023-Sep-03 04:51:23]: Skipping gnina rescoring...\n",
      "\n",
      "[2023-Sep-03 04:51:23]: Skipping AD4 rescoring...\n",
      "\n",
      "[2023-Sep-03 04:51:23]: Skipping chemplp rescoring...\n",
      "\n",
      "[2023-Sep-03 04:51:23]: Skipping rfscorevs rescoring...\n",
      "\n",
      "[2023-Sep-03 04:51:23]: Skipping LinF9 rescoring...\n",
      "\n",
      "[2023-Sep-03 04:51:23]: Skipping RTMScore rescoring...\n",
      "\n",
      "[2023-Sep-03 04:51:23]: Skipping SCORCH rescoring...\n",
      "\n",
      "[2023-Sep-03 04:51:23]: Skipping vinardo rescoring...\n",
      "Splitting SDF file bestpose_SMINA_clustered.sdf ...\n"
     ]
    },
    {
     "name": "stderr",
     "output_type": "stream",
     "text": [
      "Splitting files: 100%|██████████| 28/28 [00:04<00:00,  6.01it/s]\n"
     ]
    },
    {
     "name": "stdout",
     "output_type": "stream",
     "text": [
      "Split docking library into 28 files each containing 422 compounds\n"
     ]
    },
    {
     "name": "stderr",
     "output_type": "stream",
     "text": [
      "Submitting KORPL rescoring jobs: 100%|██████████| 28/28 [00:00<00:00, 35.35file/s]\n",
      "Rescoring with KORPL: 100%|██████████| 28/28 [00:02<00:00,  9.54file/s]\n"
     ]
    },
    {
     "name": "stdout",
     "output_type": "stream",
     "text": [
      "Combining KORPL scores\n",
      "\n",
      "[2023-Sep-03 04:51:38]: Rescoring with KORPL complete in 15.7739!\n",
      "Splitting SDF file bestpose_SMINA_clustered.sdf ...\n"
     ]
    },
    {
     "name": "stderr",
     "output_type": "stream",
     "text": [
      "Splitting files: 100%|██████████| 28/28 [00:04<00:00,  6.62it/s]\n"
     ]
    },
    {
     "name": "stdout",
     "output_type": "stream",
     "text": [
      "Split docking library into 28 files each containing 422 compounds\n"
     ]
    },
    {
     "name": "stderr",
     "output_type": "stream",
     "text": [
      "Submitting ConvexPLR rescoring jobs: 100%|██████████| 28/28 [00:00<00:00, 36.86file/s]\n",
      "Rescoring with ConvexPLR: 100%|██████████| 28/28 [00:13<00:00,  2.11file/s]\n"
     ]
    },
    {
     "name": "stdout",
     "output_type": "stream",
     "text": [
      "Combining ConvexPLR scores\n",
      "\n",
      "[2023-Sep-03 04:52:04]: Rescoring with ConvexPLR complete in 25.3382!\n",
      "\n",
      "[2023-Sep-03 04:52:04]: Combining all scores for /home/alacournola/DUD-E/gria2/temp/rescoring_bestpose_SMINA_clustered\n"
     ]
    },
    {
     "name": "stderr",
     "output_type": "stream",
     "text": [
      "Combining scores: 100%|██████████| 9/9 [00:00<00:00, 114.22files/s]\n"
     ]
    },
    {
     "name": "stdout",
     "output_type": "stream",
     "text": [
      "\n",
      "[2023-Sep-03 04:52:04]: Rescoring complete in 41.8190!\n",
      "\n",
      "[2023-Sep-03 04:52:04]: Skipping gnina rescoring...\n",
      "\n",
      "[2023-Sep-03 04:52:04]: Skipping AD4 rescoring...\n",
      "\n",
      "[2023-Sep-03 04:52:04]: Skipping chemplp rescoring...\n",
      "\n",
      "[2023-Sep-03 04:52:04]: Skipping rfscorevs rescoring...\n",
      "\n",
      "[2023-Sep-03 04:52:04]: Skipping LinF9 rescoring...\n",
      "\n",
      "[2023-Sep-03 04:52:04]: Skipping RTMScore rescoring...\n",
      "\n",
      "[2023-Sep-03 04:52:04]: Skipping SCORCH rescoring...\n",
      "\n",
      "[2023-Sep-03 04:52:04]: Skipping vinardo rescoring...\n",
      "Splitting SDF file bestpose_PLANTS_clustered.sdf ...\n"
     ]
    },
    {
     "name": "stderr",
     "output_type": "stream",
     "text": [
      "Splitting files: 100%|██████████| 28/28 [00:03<00:00,  7.15it/s]\n"
     ]
    },
    {
     "name": "stdout",
     "output_type": "stream",
     "text": [
      "Split docking library into 28 files each containing 365 compounds\n"
     ]
    },
    {
     "name": "stderr",
     "output_type": "stream",
     "text": [
      "Submitting KORPL rescoring jobs: 100%|██████████| 28/28 [00:00<00:00, 35.55file/s]\n",
      "Rescoring with KORPL: 100%|██████████| 28/28 [00:02<00:00, 10.36file/s]\n"
     ]
    },
    {
     "name": "stdout",
     "output_type": "stream",
     "text": [
      "Combining KORPL scores\n",
      "\n",
      "[2023-Sep-03 04:52:18]: Rescoring with KORPL complete in 13.8848!\n",
      "Splitting SDF file bestpose_PLANTS_clustered.sdf ...\n"
     ]
    },
    {
     "name": "stderr",
     "output_type": "stream",
     "text": [
      "Splitting files: 100%|██████████| 28/28 [00:03<00:00,  7.59it/s]\n"
     ]
    },
    {
     "name": "stdout",
     "output_type": "stream",
     "text": [
      "Split docking library into 28 files each containing 365 compounds\n"
     ]
    },
    {
     "name": "stderr",
     "output_type": "stream",
     "text": [
      "Submitting ConvexPLR rescoring jobs: 100%|██████████| 28/28 [00:00<00:00, 36.49file/s]\n",
      "Rescoring with ConvexPLR: 100%|██████████| 28/28 [00:11<00:00,  2.41file/s]\n"
     ]
    },
    {
     "name": "stdout",
     "output_type": "stream",
     "text": [
      "Combining ConvexPLR scores\n",
      "\n",
      "[2023-Sep-03 04:52:41]: Rescoring with ConvexPLR complete in 22.4357!\n",
      "\n",
      "[2023-Sep-03 04:52:41]: Combining all scores for /home/alacournola/DUD-E/gria2/temp/rescoring_bestpose_PLANTS_clustered\n"
     ]
    },
    {
     "name": "stderr",
     "output_type": "stream",
     "text": [
      "Combining scores: 100%|██████████| 9/9 [00:00<00:00, 144.38files/s]\n"
     ]
    },
    {
     "name": "stdout",
     "output_type": "stream",
     "text": [
      "\n",
      "[2023-Sep-03 04:52:41]: Rescoring complete in 36.9297!\n",
      "Loading library\n",
      "\n",
      "[2023-Sep-03 04:53:06]: Calculating consensus methods for every possible score combination...\n"
     ]
    },
    {
     "name": "stderr",
     "output_type": "stream",
     "text": [
      "100%|██████████| 8/8 [43:37<00:00, 327.17s/it]\n",
      " 45%|████▌     | 14/31 [7:34:14<12:49:48, 2716.96s/it]"
     ]
    },
    {
     "name": "stdout",
     "output_type": "stream",
     "text": [
      "esr1\n",
      "The working directory has been set to: /home/alacournola/DUD-E/esr1\n",
      "\n",
      "[2023-Sep-03 05:37:04]: Extracting pocket from /home/alacournola/DUD-E/esr1/receptor_protoss_prepared.pdb using /home/alacournola/DUD-E/esr1/crystal_ligand_protoss.sdf as reference ligand\n",
      "\n",
      "[2023-Sep-03 05:37:11]: Finished extracting pocket from /home/alacournola/DUD-E/esr1/receptor_protoss_prepared.pdb using /home/alacournola/DUD-E/esr1/crystal_ligand_protoss.sdf as reference ligand\n",
      "\n",
      "[2023-Sep-03 05:37:11]: Skipping gnina rescoring...\n",
      "\n",
      "[2023-Sep-03 05:37:11]: Skipping AD4 rescoring...\n",
      "\n",
      "[2023-Sep-03 05:37:11]: Skipping chemplp rescoring...\n",
      "\n",
      "[2023-Sep-03 05:37:11]: Skipping rfscorevs rescoring...\n",
      "\n",
      "[2023-Sep-03 05:37:11]: Skipping LinF9 rescoring...\n",
      "\n",
      "[2023-Sep-03 05:37:11]: Skipping RTMScore rescoring...\n",
      "\n",
      "[2023-Sep-03 05:37:11]: Skipping SCORCH rescoring...\n",
      "\n",
      "[2023-Sep-03 05:37:11]: Skipping vinardo rescoring...\n",
      "Splitting SDF file RMSD_clustered.sdf ...\n"
     ]
    },
    {
     "name": "stderr",
     "output_type": "stream",
     "text": [
      "Splitting files: 100%|██████████| 28/28 [00:22<00:00,  1.22it/s]\n"
     ]
    },
    {
     "name": "stdout",
     "output_type": "stream",
     "text": [
      "Split docking library into 28 files each containing 2120 compounds\n"
     ]
    },
    {
     "name": "stderr",
     "output_type": "stream",
     "text": [
      "Submitting KORPL rescoring jobs: 100%|██████████| 28/28 [00:00<00:00, 32.53file/s]\n",
      "Rescoring with KORPL: 100%|██████████| 28/28 [00:24<00:00,  1.15file/s]\n"
     ]
    },
    {
     "name": "stdout",
     "output_type": "stream",
     "text": [
      "Combining KORPL scores\n",
      "\n",
      "[2023-Sep-03 05:38:42]: Rescoring with KORPL complete in 91.3399!\n",
      "Splitting SDF file RMSD_clustered.sdf ...\n"
     ]
    },
    {
     "name": "stderr",
     "output_type": "stream",
     "text": [
      "Splitting files: 100%|██████████| 28/28 [00:23<00:00,  1.22it/s]\n"
     ]
    },
    {
     "name": "stdout",
     "output_type": "stream",
     "text": [
      "Split docking library into 28 files each containing 2120 compounds\n"
     ]
    },
    {
     "name": "stderr",
     "output_type": "stream",
     "text": [
      "Submitting ConvexPLR rescoring jobs: 100%|██████████| 28/28 [00:00<00:00, 34.02file/s]\n",
      "Rescoring with ConvexPLR: 100%|██████████| 28/28 [01:04<00:00,  2.31s/file]\n"
     ]
    },
    {
     "name": "stdout",
     "output_type": "stream",
     "text": [
      "Combining ConvexPLR scores\n",
      "\n",
      "[2023-Sep-03 05:40:48]: Rescoring with ConvexPLR complete in 125.8472!\n",
      "\n",
      "[2023-Sep-03 05:40:48]: Combining all scores for /home/alacournola/DUD-E/esr1/temp/rescoring_RMSD_clustered\n"
     ]
    },
    {
     "name": "stderr",
     "output_type": "stream",
     "text": [
      "Combining scores: 100%|██████████| 9/9 [00:00<00:00, 24.46files/s]\n"
     ]
    },
    {
     "name": "stdout",
     "output_type": "stream",
     "text": [
      "\n",
      "[2023-Sep-03 05:40:52]: Rescoring complete in 220.4589!\n",
      "\n",
      "[2023-Sep-03 05:40:52]: Skipping gnina rescoring...\n",
      "\n",
      "[2023-Sep-03 05:40:52]: Skipping AD4 rescoring...\n",
      "\n",
      "[2023-Sep-03 05:40:52]: Skipping chemplp rescoring...\n",
      "\n",
      "[2023-Sep-03 05:40:52]: Skipping rfscorevs rescoring...\n",
      "\n",
      "[2023-Sep-03 05:40:52]: Skipping LinF9 rescoring...\n",
      "\n",
      "[2023-Sep-03 05:40:52]: Skipping RTMScore rescoring...\n",
      "\n",
      "[2023-Sep-03 05:40:52]: Skipping SCORCH rescoring...\n",
      "\n",
      "[2023-Sep-03 05:40:52]: Skipping vinardo rescoring...\n",
      "Splitting SDF file spyRMSD_clustered.sdf ...\n"
     ]
    },
    {
     "name": "stderr",
     "output_type": "stream",
     "text": [
      "Splitting files: 100%|██████████| 28/28 [00:24<00:00,  1.13it/s]\n"
     ]
    },
    {
     "name": "stdout",
     "output_type": "stream",
     "text": [
      "Split docking library into 28 files each containing 2141 compounds\n"
     ]
    },
    {
     "name": "stderr",
     "output_type": "stream",
     "text": [
      "Submitting KORPL rescoring jobs: 100%|██████████| 28/28 [00:00<00:00, 34.65file/s]\n",
      "Rescoring with KORPL: 100%|██████████| 28/28 [00:24<00:00,  1.15file/s]\n"
     ]
    },
    {
     "name": "stdout",
     "output_type": "stream",
     "text": [
      "Combining KORPL scores\n",
      "\n",
      "[2023-Sep-03 05:42:20]: Rescoring with KORPL complete in 88.9339!\n",
      "Splitting SDF file spyRMSD_clustered.sdf ...\n"
     ]
    },
    {
     "name": "stderr",
     "output_type": "stream",
     "text": [
      "Splitting files: 100%|██████████| 28/28 [00:23<00:00,  1.21it/s]\n"
     ]
    },
    {
     "name": "stdout",
     "output_type": "stream",
     "text": [
      "Split docking library into 28 files each containing 2141 compounds\n"
     ]
    },
    {
     "name": "stderr",
     "output_type": "stream",
     "text": [
      "Submitting ConvexPLR rescoring jobs: 100%|██████████| 28/28 [00:00<00:00, 33.84file/s]\n",
      "Rescoring with ConvexPLR: 100%|██████████| 28/28 [01:06<00:00,  2.37s/file]\n"
     ]
    },
    {
     "name": "stdout",
     "output_type": "stream",
     "text": [
      "Combining ConvexPLR scores\n",
      "\n",
      "[2023-Sep-03 05:44:30]: Rescoring with ConvexPLR complete in 129.0838!\n",
      "\n",
      "[2023-Sep-03 05:44:30]: Combining all scores for /home/alacournola/DUD-E/esr1/temp/rescoring_spyRMSD_clustered\n"
     ]
    },
    {
     "name": "stderr",
     "output_type": "stream",
     "text": [
      "Combining scores: 100%|██████████| 9/9 [00:00<00:00, 24.66files/s]\n"
     ]
    },
    {
     "name": "stdout",
     "output_type": "stream",
     "text": [
      "\n",
      "[2023-Sep-03 05:44:33]: Rescoring complete in 221.2862!\n",
      "\n",
      "[2023-Sep-03 05:44:33]: Skipping gnina rescoring...\n",
      "\n",
      "[2023-Sep-03 05:44:33]: Skipping AD4 rescoring...\n",
      "\n",
      "[2023-Sep-03 05:44:33]: Skipping chemplp rescoring...\n",
      "\n",
      "[2023-Sep-03 05:44:33]: Skipping rfscorevs rescoring...\n",
      "\n",
      "[2023-Sep-03 05:44:33]: Skipping LinF9 rescoring...\n",
      "\n",
      "[2023-Sep-03 05:44:33]: Skipping RTMScore rescoring...\n",
      "\n",
      "[2023-Sep-03 05:44:33]: Skipping SCORCH rescoring...\n",
      "\n",
      "[2023-Sep-03 05:44:33]: Skipping vinardo rescoring...\n",
      "Splitting SDF file espsim_clustered.sdf ...\n"
     ]
    },
    {
     "name": "stderr",
     "output_type": "stream",
     "text": [
      "Splitting files: 100%|██████████| 28/28 [00:18<00:00,  1.48it/s]\n"
     ]
    },
    {
     "name": "stdout",
     "output_type": "stream",
     "text": [
      "Split docking library into 28 files each containing 1738 compounds\n"
     ]
    },
    {
     "name": "stderr",
     "output_type": "stream",
     "text": [
      "Submitting KORPL rescoring jobs: 100%|██████████| 28/28 [00:00<00:00, 33.98file/s]\n",
      "Rescoring with KORPL: 100%|██████████| 28/28 [00:18<00:00,  1.55file/s]\n"
     ]
    },
    {
     "name": "stdout",
     "output_type": "stream",
     "text": [
      "Combining KORPL scores\n",
      "\n",
      "[2023-Sep-03 05:45:41]: Rescoring with KORPL complete in 68.6329!\n",
      "Splitting SDF file espsim_clustered.sdf ...\n"
     ]
    },
    {
     "name": "stderr",
     "output_type": "stream",
     "text": [
      "Splitting files: 100%|██████████| 28/28 [00:20<00:00,  1.38it/s]\n"
     ]
    },
    {
     "name": "stdout",
     "output_type": "stream",
     "text": [
      "Split docking library into 28 files each containing 1738 compounds\n"
     ]
    },
    {
     "name": "stderr",
     "output_type": "stream",
     "text": [
      "Submitting ConvexPLR rescoring jobs: 100%|██████████| 28/28 [00:00<00:00, 33.43file/s]\n",
      "Rescoring with ConvexPLR: 100%|██████████| 28/28 [00:51<00:00,  1.84s/file]\n"
     ]
    },
    {
     "name": "stdout",
     "output_type": "stream",
     "text": [
      "Combining ConvexPLR scores\n",
      "\n",
      "[2023-Sep-03 05:47:25]: Rescoring with ConvexPLR complete in 103.8094!\n",
      "\n",
      "[2023-Sep-03 05:47:25]: Combining all scores for /home/alacournola/DUD-E/esr1/temp/rescoring_espsim_clustered\n"
     ]
    },
    {
     "name": "stderr",
     "output_type": "stream",
     "text": [
      "Combining scores: 100%|██████████| 9/9 [00:00<00:00, 29.35files/s]\n"
     ]
    },
    {
     "name": "stdout",
     "output_type": "stream",
     "text": [
      "\n",
      "[2023-Sep-03 05:47:28]: Rescoring complete in 175.1628!\n",
      "\n",
      "[2023-Sep-03 05:47:28]: Skipping gnina rescoring...\n",
      "\n",
      "[2023-Sep-03 05:47:28]: Skipping AD4 rescoring...\n",
      "\n",
      "[2023-Sep-03 05:47:28]: Skipping chemplp rescoring...\n",
      "\n",
      "[2023-Sep-03 05:47:28]: Skipping rfscorevs rescoring...\n",
      "\n",
      "[2023-Sep-03 05:47:28]: Skipping LinF9 rescoring...\n",
      "\n",
      "[2023-Sep-03 05:47:28]: Skipping RTMScore rescoring...\n",
      "\n",
      "[2023-Sep-03 05:47:28]: Skipping SCORCH rescoring...\n",
      "\n",
      "[2023-Sep-03 05:47:28]: Skipping vinardo rescoring...\n",
      "Splitting SDF file 3DScore_clustered.sdf ...\n"
     ]
    },
    {
     "name": "stderr",
     "output_type": "stream",
     "text": [
      "Splitting files: 100%|██████████| 28/28 [00:09<00:00,  3.11it/s]\n"
     ]
    },
    {
     "name": "stdout",
     "output_type": "stream",
     "text": [
      "Split docking library into 28 files each containing 746 compounds\n"
     ]
    },
    {
     "name": "stderr",
     "output_type": "stream",
     "text": [
      "Submitting KORPL rescoring jobs: 100%|██████████| 28/28 [00:00<00:00, 34.78file/s]\n",
      "Rescoring with KORPL: 100%|██████████| 28/28 [00:05<00:00,  4.87file/s]\n"
     ]
    },
    {
     "name": "stdout",
     "output_type": "stream",
     "text": [
      "Combining KORPL scores\n",
      "\n",
      "[2023-Sep-03 05:47:57]: Rescoring with KORPL complete in 28.8393!\n",
      "Splitting SDF file 3DScore_clustered.sdf ...\n"
     ]
    },
    {
     "name": "stderr",
     "output_type": "stream",
     "text": [
      "Splitting files: 100%|██████████| 28/28 [00:08<00:00,  3.41it/s]\n"
     ]
    },
    {
     "name": "stdout",
     "output_type": "stream",
     "text": [
      "Split docking library into 28 files each containing 746 compounds\n"
     ]
    },
    {
     "name": "stderr",
     "output_type": "stream",
     "text": [
      "Submitting ConvexPLR rescoring jobs: 100%|██████████| 28/28 [00:00<00:00, 34.52file/s]\n",
      "Rescoring with ConvexPLR: 100%|██████████| 28/28 [00:20<00:00,  1.35file/s]\n"
     ]
    },
    {
     "name": "stdout",
     "output_type": "stream",
     "text": [
      "Combining ConvexPLR scores\n",
      "\n",
      "[2023-Sep-03 05:48:40]: Rescoring with ConvexPLR complete in 43.4648!\n",
      "\n",
      "[2023-Sep-03 05:48:40]: Combining all scores for /home/alacournola/DUD-E/esr1/temp/rescoring_3DScore_clustered\n"
     ]
    },
    {
     "name": "stderr",
     "output_type": "stream",
     "text": [
      "Combining scores: 100%|██████████| 9/9 [00:00<00:00, 79.67files/s]\n"
     ]
    },
    {
     "name": "stdout",
     "output_type": "stream",
     "text": [
      "\n",
      "[2023-Sep-03 05:48:41]: Rescoring complete in 73.4713!\n",
      "\n",
      "[2023-Sep-03 05:48:41]: Skipping gnina rescoring...\n",
      "\n",
      "[2023-Sep-03 05:48:41]: Skipping AD4 rescoring...\n",
      "\n",
      "[2023-Sep-03 05:48:41]: Skipping chemplp rescoring...\n",
      "\n",
      "[2023-Sep-03 05:48:41]: Skipping rfscorevs rescoring...\n",
      "\n",
      "[2023-Sep-03 05:48:41]: Skipping LinF9 rescoring...\n",
      "\n",
      "[2023-Sep-03 05:48:41]: Skipping RTMScore rescoring...\n",
      "\n",
      "[2023-Sep-03 05:48:41]: Skipping SCORCH rescoring...\n",
      "\n",
      "[2023-Sep-03 05:48:41]: Skipping vinardo rescoring...\n",
      "Splitting SDF file bestpose_clustered.sdf ...\n"
     ]
    },
    {
     "name": "stderr",
     "output_type": "stream",
     "text": [
      "Splitting files: 100%|██████████| 28/28 [00:23<00:00,  1.18it/s]\n"
     ]
    },
    {
     "name": "stdout",
     "output_type": "stream",
     "text": [
      "Split docking library into 28 files each containing 2222 compounds\n"
     ]
    },
    {
     "name": "stderr",
     "output_type": "stream",
     "text": [
      "Submitting KORPL rescoring jobs: 100%|██████████| 28/28 [00:00<00:00, 33.91file/s]\n",
      "Rescoring with KORPL: 100%|██████████| 28/28 [00:26<00:00,  1.07file/s]\n"
     ]
    },
    {
     "name": "stdout",
     "output_type": "stream",
     "text": [
      "Combining KORPL scores\n",
      "\n",
      "[2023-Sep-03 05:50:14]: Rescoring with KORPL complete in 92.6095!\n",
      "Splitting SDF file bestpose_clustered.sdf ...\n"
     ]
    },
    {
     "name": "stderr",
     "output_type": "stream",
     "text": [
      "Splitting files: 100%|██████████| 28/28 [00:25<00:00,  1.08it/s]\n"
     ]
    },
    {
     "name": "stdout",
     "output_type": "stream",
     "text": [
      "Split docking library into 28 files each containing 2222 compounds\n"
     ]
    },
    {
     "name": "stderr",
     "output_type": "stream",
     "text": [
      "Submitting ConvexPLR rescoring jobs: 100%|██████████| 28/28 [00:00<00:00, 33.49file/s]\n",
      "Rescoring with ConvexPLR: 100%|██████████| 28/28 [01:12<00:00,  2.57s/file]\n"
     ]
    },
    {
     "name": "stdout",
     "output_type": "stream",
     "text": [
      "Combining ConvexPLR scores\n",
      "\n",
      "[2023-Sep-03 05:52:33]: Rescoring with ConvexPLR complete in 139.3378!\n",
      "\n",
      "[2023-Sep-03 05:52:33]: Combining all scores for /home/alacournola/DUD-E/esr1/temp/rescoring_bestpose_clustered\n"
     ]
    },
    {
     "name": "stderr",
     "output_type": "stream",
     "text": [
      "Combining scores: 100%|██████████| 9/9 [00:00<00:00, 24.46files/s]\n"
     ]
    },
    {
     "name": "stdout",
     "output_type": "stream",
     "text": [
      "\n",
      "[2023-Sep-03 05:52:37]: Rescoring complete in 235.3836!\n",
      "\n",
      "[2023-Sep-03 05:52:37]: Skipping gnina rescoring...\n",
      "\n",
      "[2023-Sep-03 05:52:37]: Skipping AD4 rescoring...\n",
      "\n",
      "[2023-Sep-03 05:52:37]: Skipping chemplp rescoring...\n",
      "\n",
      "[2023-Sep-03 05:52:37]: Skipping rfscorevs rescoring...\n",
      "\n",
      "[2023-Sep-03 05:52:37]: Skipping LinF9 rescoring...\n",
      "\n",
      "[2023-Sep-03 05:52:37]: Skipping RTMScore rescoring...\n",
      "\n",
      "[2023-Sep-03 05:52:37]: Skipping SCORCH rescoring...\n",
      "\n",
      "[2023-Sep-03 05:52:37]: Skipping vinardo rescoring...\n",
      "Splitting SDF file bestpose_GNINA_clustered.sdf ...\n"
     ]
    },
    {
     "name": "stderr",
     "output_type": "stream",
     "text": [
      "Splitting files: 100%|██████████| 28/28 [00:08<00:00,  3.46it/s]\n"
     ]
    },
    {
     "name": "stdout",
     "output_type": "stream",
     "text": [
      "Split docking library into 28 files each containing 745 compounds\n"
     ]
    },
    {
     "name": "stderr",
     "output_type": "stream",
     "text": [
      "Submitting KORPL rescoring jobs: 100%|██████████| 28/28 [00:00<00:00, 34.61file/s]\n",
      "Rescoring with KORPL: 100%|██████████| 28/28 [00:05<00:00,  4.83file/s]\n"
     ]
    },
    {
     "name": "stdout",
     "output_type": "stream",
     "text": [
      "Combining KORPL scores\n",
      "\n",
      "[2023-Sep-03 05:53:05]: Rescoring with KORPL complete in 28.2269!\n",
      "Splitting SDF file bestpose_GNINA_clustered.sdf ...\n"
     ]
    },
    {
     "name": "stderr",
     "output_type": "stream",
     "text": [
      "Splitting files: 100%|██████████| 28/28 [00:08<00:00,  3.41it/s]\n"
     ]
    },
    {
     "name": "stdout",
     "output_type": "stream",
     "text": [
      "Split docking library into 28 files each containing 745 compounds\n"
     ]
    },
    {
     "name": "stderr",
     "output_type": "stream",
     "text": [
      "Submitting ConvexPLR rescoring jobs: 100%|██████████| 28/28 [00:00<00:00, 33.78file/s]\n",
      "Rescoring with ConvexPLR: 100%|██████████| 28/28 [00:21<00:00,  1.32file/s]\n"
     ]
    },
    {
     "name": "stdout",
     "output_type": "stream",
     "text": [
      "Combining ConvexPLR scores\n",
      "\n",
      "[2023-Sep-03 05:53:49]: Rescoring with ConvexPLR complete in 43.6169!\n",
      "\n",
      "[2023-Sep-03 05:53:49]: Combining all scores for /home/alacournola/DUD-E/esr1/temp/rescoring_bestpose_GNINA_clustered\n"
     ]
    },
    {
     "name": "stderr",
     "output_type": "stream",
     "text": [
      "Combining scores: 100%|██████████| 9/9 [00:00<00:00, 73.24files/s]\n"
     ]
    },
    {
     "name": "stdout",
     "output_type": "stream",
     "text": [
      "\n",
      "[2023-Sep-03 05:53:50]: Rescoring complete in 73.0299!\n",
      "\n",
      "[2023-Sep-03 05:53:50]: Skipping gnina rescoring...\n",
      "\n",
      "[2023-Sep-03 05:53:50]: Skipping AD4 rescoring...\n",
      "\n",
      "[2023-Sep-03 05:53:50]: Skipping chemplp rescoring...\n",
      "\n",
      "[2023-Sep-03 05:53:50]: Skipping rfscorevs rescoring...\n",
      "\n",
      "[2023-Sep-03 05:53:50]: Skipping LinF9 rescoring...\n",
      "\n",
      "[2023-Sep-03 05:53:50]: Skipping RTMScore rescoring...\n",
      "\n",
      "[2023-Sep-03 05:53:50]: Skipping SCORCH rescoring...\n",
      "\n",
      "[2023-Sep-03 05:53:50]: Skipping vinardo rescoring...\n",
      "Splitting SDF file bestpose_SMINA_clustered.sdf ...\n"
     ]
    },
    {
     "name": "stderr",
     "output_type": "stream",
     "text": [
      "Splitting files: 100%|██████████| 28/28 [00:08<00:00,  3.39it/s]\n"
     ]
    },
    {
     "name": "stdout",
     "output_type": "stream",
     "text": [
      "Split docking library into 28 files each containing 745 compounds\n"
     ]
    },
    {
     "name": "stderr",
     "output_type": "stream",
     "text": [
      "Submitting KORPL rescoring jobs: 100%|██████████| 28/28 [00:00<00:00, 34.05file/s]\n",
      "Rescoring with KORPL: 100%|██████████| 28/28 [00:05<00:00,  4.68file/s]\n"
     ]
    },
    {
     "name": "stdout",
     "output_type": "stream",
     "text": [
      "Combining KORPL scores\n",
      "\n",
      "[2023-Sep-03 05:54:19]: Rescoring with KORPL complete in 28.6383!\n",
      "Splitting SDF file bestpose_SMINA_clustered.sdf ...\n"
     ]
    },
    {
     "name": "stderr",
     "output_type": "stream",
     "text": [
      "Splitting files: 100%|██████████| 28/28 [00:08<00:00,  3.49it/s]\n"
     ]
    },
    {
     "name": "stdout",
     "output_type": "stream",
     "text": [
      "Split docking library into 28 files each containing 745 compounds\n"
     ]
    },
    {
     "name": "stderr",
     "output_type": "stream",
     "text": [
      "Submitting ConvexPLR rescoring jobs: 100%|██████████| 28/28 [00:00<00:00, 33.48file/s]\n",
      "Rescoring with ConvexPLR: 100%|██████████| 28/28 [00:21<00:00,  1.28file/s]\n"
     ]
    },
    {
     "name": "stdout",
     "output_type": "stream",
     "text": [
      "Combining ConvexPLR scores\n",
      "\n",
      "[2023-Sep-03 05:55:03]: Rescoring with ConvexPLR complete in 44.2269!\n",
      "\n",
      "[2023-Sep-03 05:55:03]: Combining all scores for /home/alacournola/DUD-E/esr1/temp/rescoring_bestpose_SMINA_clustered\n"
     ]
    },
    {
     "name": "stderr",
     "output_type": "stream",
     "text": [
      "Combining scores: 100%|██████████| 9/9 [00:00<00:00, 76.21files/s]\n"
     ]
    },
    {
     "name": "stdout",
     "output_type": "stream",
     "text": [
      "\n",
      "[2023-Sep-03 05:55:04]: Rescoring complete in 74.0561!\n",
      "\n",
      "[2023-Sep-03 05:55:04]: Skipping gnina rescoring...\n",
      "\n",
      "[2023-Sep-03 05:55:04]: Skipping AD4 rescoring...\n",
      "\n",
      "[2023-Sep-03 05:55:04]: Skipping chemplp rescoring...\n",
      "\n",
      "[2023-Sep-03 05:55:04]: Skipping rfscorevs rescoring...\n",
      "\n",
      "[2023-Sep-03 05:55:04]: Skipping LinF9 rescoring...\n",
      "\n",
      "[2023-Sep-03 05:55:04]: Skipping RTMScore rescoring...\n",
      "\n",
      "[2023-Sep-03 05:55:04]: Skipping SCORCH rescoring...\n",
      "\n",
      "[2023-Sep-03 05:55:04]: Skipping vinardo rescoring...\n",
      "Splitting SDF file bestpose_PLANTS_clustered.sdf ...\n"
     ]
    },
    {
     "name": "stderr",
     "output_type": "stream",
     "text": [
      "Splitting files: 100%|██████████| 28/28 [00:08<00:00,  3.47it/s]\n"
     ]
    },
    {
     "name": "stdout",
     "output_type": "stream",
     "text": [
      "Split docking library into 28 files each containing 732 compounds\n"
     ]
    },
    {
     "name": "stderr",
     "output_type": "stream",
     "text": [
      "Submitting KORPL rescoring jobs: 100%|██████████| 28/28 [00:00<00:00, 33.58file/s]\n",
      "Rescoring with KORPL: 100%|██████████| 28/28 [00:05<00:00,  4.83file/s]\n"
     ]
    },
    {
     "name": "stdout",
     "output_type": "stream",
     "text": [
      "Combining KORPL scores\n",
      "\n",
      "[2023-Sep-03 05:55:32]: Rescoring with KORPL complete in 28.1968!\n",
      "Splitting SDF file bestpose_PLANTS_clustered.sdf ...\n"
     ]
    },
    {
     "name": "stderr",
     "output_type": "stream",
     "text": [
      "Splitting files: 100%|██████████| 28/28 [00:08<00:00,  3.45it/s]\n"
     ]
    },
    {
     "name": "stdout",
     "output_type": "stream",
     "text": [
      "Split docking library into 28 files each containing 732 compounds\n"
     ]
    },
    {
     "name": "stderr",
     "output_type": "stream",
     "text": [
      "Submitting ConvexPLR rescoring jobs: 100%|██████████| 28/28 [00:00<00:00, 33.54file/s]\n",
      "Rescoring with ConvexPLR: 100%|██████████| 28/28 [00:21<00:00,  1.32file/s]\n"
     ]
    },
    {
     "name": "stdout",
     "output_type": "stream",
     "text": [
      "Combining ConvexPLR scores\n",
      "\n",
      "[2023-Sep-03 05:56:16]: Rescoring with ConvexPLR complete in 43.5490!\n",
      "\n",
      "[2023-Sep-03 05:56:16]: Combining all scores for /home/alacournola/DUD-E/esr1/temp/rescoring_bestpose_PLANTS_clustered\n"
     ]
    },
    {
     "name": "stderr",
     "output_type": "stream",
     "text": [
      "Combining scores: 100%|██████████| 9/9 [00:00<00:00, 70.20files/s]\n"
     ]
    },
    {
     "name": "stdout",
     "output_type": "stream",
     "text": [
      "\n",
      "[2023-Sep-03 05:56:17]: Rescoring complete in 72.9342!\n",
      "Loading library\n",
      "\n",
      "[2023-Sep-03 05:57:03]: Calculating consensus methods for every possible score combination...\n"
     ]
    },
    {
     "name": "stderr",
     "output_type": "stream",
     "text": [
      "100%|██████████| 8/8 [1:07:00<00:00, 502.58s/it]\n",
      " 48%|████▊     | 15/31 [9:01:35<15:27:25, 3477.84s/it]"
     ]
    },
    {
     "name": "stdout",
     "output_type": "stream",
     "text": [
      "dhi1\n",
      "The working directory has been set to: /home/alacournola/DUD-E/dhi1\n",
      "\n",
      "[2023-Sep-03 07:04:25]: Extracting pocket from /home/alacournola/DUD-E/dhi1/receptor_protoss_prepared.pdb using /home/alacournola/DUD-E/dhi1/crystal_ligand_protoss.sdf as reference ligand\n",
      "\n",
      "[2023-Sep-03 07:04:41]: Finished extracting pocket from /home/alacournola/DUD-E/dhi1/receptor_protoss_prepared.pdb using /home/alacournola/DUD-E/dhi1/crystal_ligand_protoss.sdf as reference ligand\n",
      "\n",
      "[2023-Sep-03 07:04:41]: Skipping gnina rescoring...\n",
      "\n",
      "[2023-Sep-03 07:04:41]: Skipping AD4 rescoring...\n",
      "\n",
      "[2023-Sep-03 07:04:41]: Skipping chemplp rescoring...\n",
      "\n",
      "[2023-Sep-03 07:04:41]: Skipping rfscorevs rescoring...\n",
      "\n",
      "[2023-Sep-03 07:04:41]: Skipping LinF9 rescoring...\n",
      "\n",
      "[2023-Sep-03 07:04:41]: Skipping RTMScore rescoring...\n",
      "\n",
      "[2023-Sep-03 07:04:41]: Skipping SCORCH rescoring...\n",
      "\n",
      "[2023-Sep-03 07:04:41]: Skipping vinardo rescoring...\n",
      "Splitting SDF file RMSD_clustered.sdf ...\n"
     ]
    },
    {
     "name": "stderr",
     "output_type": "stream",
     "text": [
      "Splitting files: 100%|██████████| 28/28 [00:21<00:00,  1.28it/s]\n"
     ]
    },
    {
     "name": "stdout",
     "output_type": "stream",
     "text": [
      "Split docking library into 28 files each containing 2070 compounds\n"
     ]
    },
    {
     "name": "stderr",
     "output_type": "stream",
     "text": [
      "Submitting KORPL rescoring jobs: 100%|██████████| 28/28 [00:00<00:00, 32.18file/s]\n",
      "Rescoring with KORPL: 100%|██████████| 28/28 [00:23<00:00,  1.20file/s]\n"
     ]
    },
    {
     "name": "stdout",
     "output_type": "stream",
     "text": [
      "Combining KORPL scores\n",
      "\n",
      "[2023-Sep-03 07:06:07]: Rescoring with KORPL complete in 85.6189!\n",
      "Splitting SDF file RMSD_clustered.sdf ...\n"
     ]
    },
    {
     "name": "stderr",
     "output_type": "stream",
     "text": [
      "Splitting files: 100%|██████████| 28/28 [00:22<00:00,  1.26it/s]\n"
     ]
    },
    {
     "name": "stdout",
     "output_type": "stream",
     "text": [
      "Split docking library into 28 files each containing 2070 compounds\n"
     ]
    },
    {
     "name": "stderr",
     "output_type": "stream",
     "text": [
      "Submitting ConvexPLR rescoring jobs: 100%|██████████| 28/28 [00:00<00:00, 31.44file/s]\n",
      "Rescoring with ConvexPLR: 100%|██████████| 28/28 [01:09<00:00,  2.47s/file]\n"
     ]
    },
    {
     "name": "stdout",
     "output_type": "stream",
     "text": [
      "Combining ConvexPLR scores\n",
      "\n",
      "[2023-Sep-03 07:08:16]: Rescoring with ConvexPLR complete in 129.6615!\n",
      "\n",
      "[2023-Sep-03 07:08:16]: Combining all scores for /home/alacournola/DUD-E/dhi1/temp/rescoring_RMSD_clustered\n"
     ]
    },
    {
     "name": "stderr",
     "output_type": "stream",
     "text": [
      "Combining scores: 100%|██████████| 9/9 [00:00<00:00, 21.65files/s]\n"
     ]
    },
    {
     "name": "stdout",
     "output_type": "stream",
     "text": [
      "\n",
      "[2023-Sep-03 07:08:20]: Rescoring complete in 218.7044!\n",
      "\n",
      "[2023-Sep-03 07:08:20]: Skipping gnina rescoring...\n",
      "\n",
      "[2023-Sep-03 07:08:20]: Skipping AD4 rescoring...\n",
      "\n",
      "[2023-Sep-03 07:08:20]: Skipping chemplp rescoring...\n",
      "\n",
      "[2023-Sep-03 07:08:20]: Skipping rfscorevs rescoring...\n",
      "\n",
      "[2023-Sep-03 07:08:20]: Skipping LinF9 rescoring...\n",
      "\n",
      "[2023-Sep-03 07:08:20]: Skipping RTMScore rescoring...\n",
      "\n",
      "[2023-Sep-03 07:08:20]: Skipping SCORCH rescoring...\n",
      "\n",
      "[2023-Sep-03 07:08:20]: Skipping vinardo rescoring...\n",
      "Splitting SDF file spyRMSD_clustered.sdf ...\n"
     ]
    },
    {
     "name": "stderr",
     "output_type": "stream",
     "text": [
      "Splitting files: 100%|██████████| 28/28 [00:22<00:00,  1.24it/s]\n"
     ]
    },
    {
     "name": "stdout",
     "output_type": "stream",
     "text": [
      "Split docking library into 28 files each containing 2085 compounds\n"
     ]
    },
    {
     "name": "stderr",
     "output_type": "stream",
     "text": [
      "Submitting KORPL rescoring jobs: 100%|██████████| 28/28 [00:00<00:00, 31.79file/s]\n",
      "Rescoring with KORPL: 100%|██████████| 28/28 [00:23<00:00,  1.18file/s]\n"
     ]
    },
    {
     "name": "stdout",
     "output_type": "stream",
     "text": [
      "Combining KORPL scores\n",
      "\n",
      "[2023-Sep-03 07:09:45]: Rescoring with KORPL complete in 84.8682!\n",
      "Splitting SDF file spyRMSD_clustered.sdf ...\n"
     ]
    },
    {
     "name": "stderr",
     "output_type": "stream",
     "text": [
      "Splitting files: 100%|██████████| 28/28 [00:22<00:00,  1.26it/s]\n"
     ]
    },
    {
     "name": "stdout",
     "output_type": "stream",
     "text": [
      "Split docking library into 28 files each containing 2085 compounds\n"
     ]
    },
    {
     "name": "stderr",
     "output_type": "stream",
     "text": [
      "Submitting ConvexPLR rescoring jobs: 100%|██████████| 28/28 [00:00<00:00, 32.35file/s]\n",
      "Rescoring with ConvexPLR: 100%|██████████| 28/28 [01:09<00:00,  2.48s/file]\n"
     ]
    },
    {
     "name": "stdout",
     "output_type": "stream",
     "text": [
      "Combining ConvexPLR scores\n",
      "\n",
      "[2023-Sep-03 07:11:53]: Rescoring with ConvexPLR complete in 128.8576!\n",
      "\n",
      "[2023-Sep-03 07:11:53]: Combining all scores for /home/alacournola/DUD-E/dhi1/temp/rescoring_spyRMSD_clustered\n"
     ]
    },
    {
     "name": "stderr",
     "output_type": "stream",
     "text": [
      "Combining scores: 100%|██████████| 9/9 [00:00<00:00, 24.87files/s]\n"
     ]
    },
    {
     "name": "stdout",
     "output_type": "stream",
     "text": [
      "\n",
      "[2023-Sep-03 07:11:57]: Rescoring complete in 217.0413!\n",
      "\n",
      "[2023-Sep-03 07:11:57]: Skipping gnina rescoring...\n",
      "\n",
      "[2023-Sep-03 07:11:57]: Skipping AD4 rescoring...\n",
      "\n",
      "[2023-Sep-03 07:11:57]: Skipping chemplp rescoring...\n",
      "\n",
      "[2023-Sep-03 07:11:57]: Skipping rfscorevs rescoring...\n",
      "\n",
      "[2023-Sep-03 07:11:57]: Skipping LinF9 rescoring...\n",
      "\n",
      "[2023-Sep-03 07:11:57]: Skipping RTMScore rescoring...\n",
      "\n",
      "[2023-Sep-03 07:11:57]: Skipping SCORCH rescoring...\n",
      "\n",
      "[2023-Sep-03 07:11:57]: Skipping vinardo rescoring...\n",
      "Splitting SDF file espsim_clustered.sdf ...\n"
     ]
    },
    {
     "name": "stderr",
     "output_type": "stream",
     "text": [
      "Splitting files: 100%|██████████| 28/28 [00:16<00:00,  1.73it/s]\n"
     ]
    },
    {
     "name": "stdout",
     "output_type": "stream",
     "text": [
      "Split docking library into 28 files each containing 1497 compounds\n"
     ]
    },
    {
     "name": "stderr",
     "output_type": "stream",
     "text": [
      "Submitting KORPL rescoring jobs: 100%|██████████| 28/28 [00:00<00:00, 31.97file/s]\n",
      "Rescoring with KORPL: 100%|██████████| 28/28 [00:14<00:00,  1.93file/s]\n"
     ]
    },
    {
     "name": "stdout",
     "output_type": "stream",
     "text": [
      "Combining KORPL scores\n",
      "\n",
      "[2023-Sep-03 07:12:54]: Rescoring with KORPL complete in 57.6442!\n",
      "Splitting SDF file espsim_clustered.sdf ...\n"
     ]
    },
    {
     "name": "stderr",
     "output_type": "stream",
     "text": [
      "Splitting files: 100%|██████████| 28/28 [00:16<00:00,  1.74it/s]\n"
     ]
    },
    {
     "name": "stdout",
     "output_type": "stream",
     "text": [
      "Split docking library into 28 files each containing 1497 compounds\n"
     ]
    },
    {
     "name": "stderr",
     "output_type": "stream",
     "text": [
      "Submitting ConvexPLR rescoring jobs: 100%|██████████| 28/28 [00:00<00:00, 32.46file/s]\n",
      "Rescoring with ConvexPLR: 100%|██████████| 28/28 [00:46<00:00,  1.65s/file]\n"
     ]
    },
    {
     "name": "stdout",
     "output_type": "stream",
     "text": [
      "Combining ConvexPLR scores\n",
      "\n",
      "[2023-Sep-03 07:14:24]: Rescoring with ConvexPLR complete in 89.4119!\n",
      "\n",
      "[2023-Sep-03 07:14:24]: Combining all scores for /home/alacournola/DUD-E/dhi1/temp/rescoring_espsim_clustered\n"
     ]
    },
    {
     "name": "stderr",
     "output_type": "stream",
     "text": [
      "Combining scores: 100%|██████████| 9/9 [00:00<00:00, 35.15files/s]\n"
     ]
    },
    {
     "name": "stdout",
     "output_type": "stream",
     "text": [
      "\n",
      "[2023-Sep-03 07:14:26]: Rescoring complete in 149.4100!\n",
      "\n",
      "[2023-Sep-03 07:14:26]: Skipping gnina rescoring...\n",
      "\n",
      "[2023-Sep-03 07:14:26]: Skipping AD4 rescoring...\n",
      "\n",
      "[2023-Sep-03 07:14:26]: Skipping chemplp rescoring...\n",
      "\n",
      "[2023-Sep-03 07:14:26]: Skipping rfscorevs rescoring...\n",
      "\n",
      "[2023-Sep-03 07:14:26]: Skipping LinF9 rescoring...\n",
      "\n",
      "[2023-Sep-03 07:14:26]: Skipping RTMScore rescoring...\n",
      "\n",
      "[2023-Sep-03 07:14:26]: Skipping SCORCH rescoring...\n",
      "\n",
      "[2023-Sep-03 07:14:26]: Skipping vinardo rescoring...\n",
      "Splitting SDF file 3DScore_clustered.sdf ...\n"
     ]
    },
    {
     "name": "stderr",
     "output_type": "stream",
     "text": [
      "Splitting files: 100%|██████████| 28/28 [00:07<00:00,  3.98it/s]\n"
     ]
    },
    {
     "name": "stdout",
     "output_type": "stream",
     "text": [
      "Split docking library into 28 files each containing 648 compounds\n"
     ]
    },
    {
     "name": "stderr",
     "output_type": "stream",
     "text": [
      "Submitting KORPL rescoring jobs: 100%|██████████| 28/28 [00:00<00:00, 33.93file/s]\n",
      "Rescoring with KORPL: 100%|██████████| 28/28 [00:05<00:00,  5.53file/s]\n"
     ]
    },
    {
     "name": "stdout",
     "output_type": "stream",
     "text": [
      "Combining KORPL scores\n",
      "\n",
      "[2023-Sep-03 07:14:51]: Rescoring with KORPL complete in 24.7645!\n",
      "Splitting SDF file 3DScore_clustered.sdf ...\n"
     ]
    },
    {
     "name": "stderr",
     "output_type": "stream",
     "text": [
      "Splitting files: 100%|██████████| 28/28 [00:08<00:00,  3.40it/s]\n"
     ]
    },
    {
     "name": "stdout",
     "output_type": "stream",
     "text": [
      "Split docking library into 28 files each containing 648 compounds\n"
     ]
    },
    {
     "name": "stderr",
     "output_type": "stream",
     "text": [
      "Submitting ConvexPLR rescoring jobs: 100%|██████████| 28/28 [00:00<00:00, 32.40file/s]\n",
      "Rescoring with ConvexPLR: 100%|██████████| 28/28 [00:19<00:00,  1.41file/s]\n"
     ]
    },
    {
     "name": "stdout",
     "output_type": "stream",
     "text": [
      "Combining ConvexPLR scores\n",
      "\n",
      "[2023-Sep-03 07:15:31]: Rescoring with ConvexPLR complete in 40.5377!\n",
      "\n",
      "[2023-Sep-03 07:15:31]: Combining all scores for /home/alacournola/DUD-E/dhi1/temp/rescoring_3DScore_clustered\n"
     ]
    },
    {
     "name": "stderr",
     "output_type": "stream",
     "text": [
      "Combining scores: 100%|██████████| 9/9 [00:00<00:00, 93.94files/s]\n"
     ]
    },
    {
     "name": "stdout",
     "output_type": "stream",
     "text": [
      "\n",
      "[2023-Sep-03 07:15:32]: Rescoring complete in 66.3605!\n",
      "\n",
      "[2023-Sep-03 07:15:32]: Skipping gnina rescoring...\n",
      "\n",
      "[2023-Sep-03 07:15:32]: Skipping AD4 rescoring...\n",
      "\n",
      "[2023-Sep-03 07:15:32]: Skipping chemplp rescoring...\n",
      "\n",
      "[2023-Sep-03 07:15:32]: Skipping rfscorevs rescoring...\n",
      "\n",
      "[2023-Sep-03 07:15:32]: Skipping LinF9 rescoring...\n",
      "\n",
      "[2023-Sep-03 07:15:32]: Skipping RTMScore rescoring...\n",
      "\n",
      "[2023-Sep-03 07:15:32]: Skipping SCORCH rescoring...\n",
      "\n",
      "[2023-Sep-03 07:15:32]: Skipping vinardo rescoring...\n",
      "Splitting SDF file bestpose_clustered.sdf ...\n"
     ]
    },
    {
     "name": "stderr",
     "output_type": "stream",
     "text": [
      "Splitting files: 100%|██████████| 28/28 [00:20<00:00,  1.37it/s]\n"
     ]
    },
    {
     "name": "stdout",
     "output_type": "stream",
     "text": [
      "Split docking library into 28 files each containing 1918 compounds\n"
     ]
    },
    {
     "name": "stderr",
     "output_type": "stream",
     "text": [
      "Submitting KORPL rescoring jobs: 100%|██████████| 28/28 [00:00<00:00, 32.61file/s]\n",
      "Rescoring with KORPL: 100%|██████████| 28/28 [00:21<00:00,  1.31file/s]\n"
     ]
    },
    {
     "name": "stdout",
     "output_type": "stream",
     "text": [
      "Combining KORPL scores\n",
      "\n",
      "[2023-Sep-03 07:16:50]: Rescoring with KORPL complete in 77.7508!\n",
      "Splitting SDF file bestpose_clustered.sdf ...\n"
     ]
    },
    {
     "name": "stderr",
     "output_type": "stream",
     "text": [
      "Splitting files: 100%|██████████| 28/28 [00:22<00:00,  1.25it/s]\n"
     ]
    },
    {
     "name": "stdout",
     "output_type": "stream",
     "text": [
      "Split docking library into 28 files each containing 1918 compounds\n"
     ]
    },
    {
     "name": "stderr",
     "output_type": "stream",
     "text": [
      "Submitting ConvexPLR rescoring jobs: 100%|██████████| 28/28 [00:00<00:00, 32.34file/s]\n",
      "Rescoring with ConvexPLR: 100%|██████████| 28/28 [01:37<00:00,  3.50s/file]\n"
     ]
    },
    {
     "name": "stdout",
     "output_type": "stream",
     "text": [
      "Combining ConvexPLR scores\n",
      "\n",
      "[2023-Sep-03 07:19:27]: Rescoring with ConvexPLR complete in 156.5673!\n",
      "\n",
      "[2023-Sep-03 07:19:27]: Combining all scores for /home/alacournola/DUD-E/dhi1/temp/rescoring_bestpose_clustered\n"
     ]
    },
    {
     "name": "stderr",
     "output_type": "stream",
     "text": [
      "Combining scores: 100%|██████████| 9/9 [00:00<00:00, 13.10files/s]\n"
     ]
    },
    {
     "name": "stdout",
     "output_type": "stream",
     "text": [
      "\n",
      "[2023-Sep-03 07:19:33]: Rescoring complete in 240.4681!\n",
      "\n",
      "[2023-Sep-03 07:19:33]: Skipping gnina rescoring...\n",
      "\n",
      "[2023-Sep-03 07:19:33]: Skipping AD4 rescoring...\n",
      "\n",
      "[2023-Sep-03 07:19:33]: Skipping chemplp rescoring...\n",
      "\n",
      "[2023-Sep-03 07:19:33]: Skipping rfscorevs rescoring...\n",
      "\n",
      "[2023-Sep-03 07:19:33]: Skipping LinF9 rescoring...\n",
      "\n",
      "[2023-Sep-03 07:19:33]: Skipping RTMScore rescoring...\n",
      "\n",
      "[2023-Sep-03 07:19:33]: Skipping SCORCH rescoring...\n",
      "\n",
      "[2023-Sep-03 07:19:33]: Skipping vinardo rescoring...\n",
      "Splitting SDF file bestpose_GNINA_clustered.sdf ...\n"
     ]
    },
    {
     "name": "stderr",
     "output_type": "stream",
     "text": [
      "Splitting files: 100%|██████████| 28/28 [00:13<00:00,  2.05it/s]\n"
     ]
    },
    {
     "name": "stdout",
     "output_type": "stream",
     "text": [
      "Split docking library into 28 files each containing 645 compounds\n"
     ]
    },
    {
     "name": "stderr",
     "output_type": "stream",
     "text": [
      "Submitting KORPL rescoring jobs: 100%|██████████| 28/28 [00:01<00:00, 18.95file/s]\n",
      "Rescoring with KORPL: 100%|██████████| 28/28 [00:09<00:00,  2.82file/s]\n"
     ]
    },
    {
     "name": "stdout",
     "output_type": "stream",
     "text": [
      "Combining KORPL scores\n",
      "\n",
      "[2023-Sep-03 07:20:19]: Rescoring with KORPL complete in 46.2739!\n",
      "Splitting SDF file bestpose_GNINA_clustered.sdf ...\n"
     ]
    },
    {
     "name": "stderr",
     "output_type": "stream",
     "text": [
      "Splitting files: 100%|██████████| 28/28 [00:13<00:00,  2.10it/s]\n"
     ]
    },
    {
     "name": "stdout",
     "output_type": "stream",
     "text": [
      "Split docking library into 28 files each containing 645 compounds\n"
     ]
    },
    {
     "name": "stderr",
     "output_type": "stream",
     "text": [
      "Submitting ConvexPLR rescoring jobs: 100%|██████████| 28/28 [00:01<00:00, 19.42file/s]\n",
      "Rescoring with ConvexPLR: 100%|██████████| 28/28 [00:27<00:00,  1.01file/s]\n"
     ]
    },
    {
     "name": "stdout",
     "output_type": "stream",
     "text": [
      "Combining ConvexPLR scores\n",
      "\n",
      "[2023-Sep-03 07:21:24]: Rescoring with ConvexPLR complete in 64.8386!\n",
      "\n",
      "[2023-Sep-03 07:21:24]: Combining all scores for /home/alacournola/DUD-E/dhi1/temp/rescoring_bestpose_GNINA_clustered\n"
     ]
    },
    {
     "name": "stderr",
     "output_type": "stream",
     "text": [
      "Combining scores: 100%|██████████| 9/9 [00:00<00:00, 93.56files/s]\n"
     ]
    },
    {
     "name": "stdout",
     "output_type": "stream",
     "text": [
      "\n",
      "[2023-Sep-03 07:21:25]: Rescoring complete in 112.1356!\n",
      "\n",
      "[2023-Sep-03 07:21:25]: Skipping gnina rescoring...\n",
      "\n",
      "[2023-Sep-03 07:21:25]: Skipping AD4 rescoring...\n",
      "\n",
      "[2023-Sep-03 07:21:25]: Skipping chemplp rescoring...\n",
      "\n",
      "[2023-Sep-03 07:21:25]: Skipping rfscorevs rescoring...\n",
      "\n",
      "[2023-Sep-03 07:21:25]: Skipping LinF9 rescoring...\n",
      "\n",
      "[2023-Sep-03 07:21:25]: Skipping RTMScore rescoring...\n",
      "\n",
      "[2023-Sep-03 07:21:25]: Skipping SCORCH rescoring...\n",
      "\n",
      "[2023-Sep-03 07:21:25]: Skipping vinardo rescoring...\n",
      "Splitting SDF file bestpose_SMINA_clustered.sdf ...\n"
     ]
    },
    {
     "name": "stderr",
     "output_type": "stream",
     "text": [
      "Splitting files: 100%|██████████| 28/28 [00:07<00:00,  3.60it/s]\n"
     ]
    },
    {
     "name": "stdout",
     "output_type": "stream",
     "text": [
      "Split docking library into 28 files each containing 645 compounds\n"
     ]
    },
    {
     "name": "stderr",
     "output_type": "stream",
     "text": [
      "Submitting KORPL rescoring jobs: 100%|██████████| 28/28 [00:00<00:00, 30.86file/s]\n",
      "Rescoring with KORPL: 100%|██████████| 28/28 [00:05<00:00,  5.27file/s]\n"
     ]
    },
    {
     "name": "stdout",
     "output_type": "stream",
     "text": [
      "Combining KORPL scores\n",
      "\n",
      "[2023-Sep-03 07:21:51]: Rescoring with KORPL complete in 25.4866!\n",
      "Splitting SDF file bestpose_SMINA_clustered.sdf ...\n"
     ]
    },
    {
     "name": "stderr",
     "output_type": "stream",
     "text": [
      "Splitting files: 100%|██████████| 28/28 [00:07<00:00,  3.99it/s]\n"
     ]
    },
    {
     "name": "stdout",
     "output_type": "stream",
     "text": [
      "Split docking library into 28 files each containing 645 compounds\n"
     ]
    },
    {
     "name": "stderr",
     "output_type": "stream",
     "text": [
      "Submitting ConvexPLR rescoring jobs: 100%|██████████| 28/28 [00:00<00:00, 33.39file/s]\n",
      "Rescoring with ConvexPLR: 100%|██████████| 28/28 [00:20<00:00,  1.39file/s]\n"
     ]
    },
    {
     "name": "stdout",
     "output_type": "stream",
     "text": [
      "Combining ConvexPLR scores\n",
      "\n",
      "[2023-Sep-03 07:22:30]: Rescoring with ConvexPLR complete in 39.8074!\n",
      "\n",
      "[2023-Sep-03 07:22:30]: Combining all scores for /home/alacournola/DUD-E/dhi1/temp/rescoring_bestpose_SMINA_clustered\n"
     ]
    },
    {
     "name": "stderr",
     "output_type": "stream",
     "text": [
      "Combining scores: 100%|██████████| 9/9 [00:00<00:00, 81.03files/s]\n"
     ]
    },
    {
     "name": "stdout",
     "output_type": "stream",
     "text": [
      "\n",
      "[2023-Sep-03 07:22:31]: Rescoring complete in 66.3266!\n",
      "\n",
      "[2023-Sep-03 07:22:31]: Skipping gnina rescoring...\n",
      "\n",
      "[2023-Sep-03 07:22:31]: Skipping AD4 rescoring...\n",
      "\n",
      "[2023-Sep-03 07:22:31]: Skipping chemplp rescoring...\n",
      "\n",
      "[2023-Sep-03 07:22:31]: Skipping rfscorevs rescoring...\n",
      "\n",
      "[2023-Sep-03 07:22:31]: Skipping LinF9 rescoring...\n",
      "\n",
      "[2023-Sep-03 07:22:31]: Skipping RTMScore rescoring...\n",
      "\n",
      "[2023-Sep-03 07:22:31]: Skipping SCORCH rescoring...\n",
      "\n",
      "[2023-Sep-03 07:22:31]: Skipping vinardo rescoring...\n",
      "Splitting SDF file bestpose_PLANTS_clustered.sdf ...\n"
     ]
    },
    {
     "name": "stderr",
     "output_type": "stream",
     "text": [
      "Splitting files: 100%|██████████| 28/28 [00:07<00:00,  3.75it/s]\n"
     ]
    },
    {
     "name": "stdout",
     "output_type": "stream",
     "text": [
      "Split docking library into 28 files each containing 629 compounds\n"
     ]
    },
    {
     "name": "stderr",
     "output_type": "stream",
     "text": [
      "Submitting KORPL rescoring jobs: 100%|██████████| 28/28 [00:00<00:00, 33.16file/s]\n",
      "Rescoring with KORPL: 100%|██████████| 28/28 [00:04<00:00,  5.69file/s]\n"
     ]
    },
    {
     "name": "stdout",
     "output_type": "stream",
     "text": [
      "Combining KORPL scores\n",
      "\n",
      "[2023-Sep-03 07:22:56]: Rescoring with KORPL complete in 24.3802!\n",
      "Splitting SDF file bestpose_PLANTS_clustered.sdf ...\n"
     ]
    },
    {
     "name": "stderr",
     "output_type": "stream",
     "text": [
      "Splitting files: 100%|██████████| 28/28 [00:06<00:00,  4.13it/s]\n"
     ]
    },
    {
     "name": "stdout",
     "output_type": "stream",
     "text": [
      "Split docking library into 28 files each containing 629 compounds\n"
     ]
    },
    {
     "name": "stderr",
     "output_type": "stream",
     "text": [
      "Submitting ConvexPLR rescoring jobs: 100%|██████████| 28/28 [00:00<00:00, 32.74file/s]\n",
      "Rescoring with ConvexPLR: 100%|██████████| 28/28 [00:19<00:00,  1.46file/s]\n"
     ]
    },
    {
     "name": "stdout",
     "output_type": "stream",
     "text": [
      "Combining ConvexPLR scores\n",
      "\n",
      "[2023-Sep-03 07:23:34]: Rescoring with ConvexPLR complete in 38.4735!\n",
      "\n",
      "[2023-Sep-03 07:23:34]: Combining all scores for /home/alacournola/DUD-E/dhi1/temp/rescoring_bestpose_PLANTS_clustered\n"
     ]
    },
    {
     "name": "stderr",
     "output_type": "stream",
     "text": [
      "Combining scores: 100%|██████████| 9/9 [00:00<00:00, 93.09files/s]\n"
     ]
    },
    {
     "name": "stdout",
     "output_type": "stream",
     "text": [
      "\n",
      "[2023-Sep-03 07:23:35]: Rescoring complete in 63.8490!\n",
      "Loading library\n",
      "\n",
      "[2023-Sep-03 07:24:17]: Calculating consensus methods for every possible score combination...\n"
     ]
    },
    {
     "name": "stderr",
     "output_type": "stream",
     "text": [
      "100%|██████████| 8/8 [1:05:29<00:00, 491.23s/it]\n",
      " 52%|█████▏    | 16/31 [10:27:19<16:34:48, 3979.20s/it]"
     ]
    },
    {
     "name": "stdout",
     "output_type": "stream",
     "text": [
      "cox1\n",
      "The working directory has been set to: /home/alacournola/DUD-E/cox1\n",
      "\n",
      "[2023-Sep-03 08:30:09]: Extracting pocket from /home/alacournola/DUD-E/cox1/receptor_protoss_prepared.pdb using /home/alacournola/DUD-E/cox1/crystal_ligand_protoss.sdf as reference ligand\n",
      "\n",
      "[2023-Sep-03 08:30:24]: Finished extracting pocket from /home/alacournola/DUD-E/cox1/receptor_protoss_prepared.pdb using /home/alacournola/DUD-E/cox1/crystal_ligand_protoss.sdf as reference ligand\n",
      "\n",
      "[2023-Sep-03 08:30:24]: Skipping gnina rescoring...\n",
      "\n",
      "[2023-Sep-03 08:30:24]: Skipping AD4 rescoring...\n",
      "\n",
      "[2023-Sep-03 08:30:24]: Skipping chemplp rescoring...\n",
      "\n",
      "[2023-Sep-03 08:30:24]: Skipping rfscorevs rescoring...\n",
      "\n",
      "[2023-Sep-03 08:30:24]: Skipping LinF9 rescoring...\n",
      "\n",
      "[2023-Sep-03 08:30:24]: Skipping RTMScore rescoring...\n",
      "\n",
      "[2023-Sep-03 08:30:24]: Skipping SCORCH rescoring...\n",
      "\n",
      "[2023-Sep-03 08:30:24]: Skipping vinardo rescoring...\n",
      "Splitting SDF file RMSD_clustered.sdf ...\n"
     ]
    },
    {
     "name": "stderr",
     "output_type": "stream",
     "text": [
      "Splitting files: 100%|██████████| 28/28 [00:11<00:00,  2.53it/s]\n"
     ]
    },
    {
     "name": "stdout",
     "output_type": "stream",
     "text": [
      "Split docking library into 28 files each containing 1127 compounds\n"
     ]
    },
    {
     "name": "stderr",
     "output_type": "stream",
     "text": [
      "Submitting KORPL rescoring jobs: 100%|██████████| 28/28 [00:00<00:00, 31.06file/s]\n",
      "Rescoring with KORPL: 100%|██████████| 28/28 [00:08<00:00,  3.29file/s]\n"
     ]
    },
    {
     "name": "stdout",
     "output_type": "stream",
     "text": [
      "Combining KORPL scores\n",
      "\n",
      "[2023-Sep-03 08:31:05]: Rescoring with KORPL complete in 40.4655!\n",
      "Splitting SDF file RMSD_clustered.sdf ...\n"
     ]
    },
    {
     "name": "stderr",
     "output_type": "stream",
     "text": [
      "Splitting files: 100%|██████████| 28/28 [00:11<00:00,  2.50it/s]\n"
     ]
    },
    {
     "name": "stdout",
     "output_type": "stream",
     "text": [
      "Split docking library into 28 files each containing 1127 compounds\n"
     ]
    },
    {
     "name": "stderr",
     "output_type": "stream",
     "text": [
      "Submitting ConvexPLR rescoring jobs: 100%|██████████| 28/28 [00:00<00:00, 32.27file/s]\n",
      "Rescoring with ConvexPLR: 100%|██████████| 28/28 [00:34<00:00,  1.24s/file]\n"
     ]
    },
    {
     "name": "stdout",
     "output_type": "stream",
     "text": [
      "Combining ConvexPLR scores\n",
      "\n",
      "[2023-Sep-03 08:32:11]: Rescoring with ConvexPLR complete in 65.9070!\n",
      "\n",
      "[2023-Sep-03 08:32:11]: Combining all scores for /home/alacournola/DUD-E/cox1/temp/rescoring_RMSD_clustered\n"
     ]
    },
    {
     "name": "stderr",
     "output_type": "stream",
     "text": [
      "Combining scores: 100%|██████████| 9/9 [00:00<00:00, 45.72files/s]\n"
     ]
    },
    {
     "name": "stdout",
     "output_type": "stream",
     "text": [
      "\n",
      "[2023-Sep-03 08:32:12]: Rescoring complete in 108.1459!\n",
      "\n",
      "[2023-Sep-03 08:32:12]: Skipping gnina rescoring...\n",
      "\n",
      "[2023-Sep-03 08:32:12]: Skipping AD4 rescoring...\n",
      "\n",
      "[2023-Sep-03 08:32:12]: Skipping chemplp rescoring...\n",
      "\n",
      "[2023-Sep-03 08:32:12]: Skipping rfscorevs rescoring...\n",
      "\n",
      "[2023-Sep-03 08:32:12]: Skipping LinF9 rescoring...\n",
      "\n",
      "[2023-Sep-03 08:32:12]: Skipping RTMScore rescoring...\n",
      "\n",
      "[2023-Sep-03 08:32:12]: Skipping SCORCH rescoring...\n",
      "\n",
      "[2023-Sep-03 08:32:12]: Skipping vinardo rescoring...\n",
      "Splitting SDF file spyRMSD_clustered.sdf ...\n"
     ]
    },
    {
     "name": "stderr",
     "output_type": "stream",
     "text": [
      "Splitting files: 100%|██████████| 28/28 [00:12<00:00,  2.21it/s]\n"
     ]
    },
    {
     "name": "stdout",
     "output_type": "stream",
     "text": [
      "Split docking library into 28 files each containing 1142 compounds\n"
     ]
    },
    {
     "name": "stderr",
     "output_type": "stream",
     "text": [
      "Submitting KORPL rescoring jobs: 100%|██████████| 28/28 [00:00<00:00, 31.73file/s]\n",
      "Rescoring with KORPL: 100%|██████████| 28/28 [00:08<00:00,  3.21file/s]\n"
     ]
    },
    {
     "name": "stdout",
     "output_type": "stream",
     "text": [
      "Combining KORPL scores\n",
      "\n",
      "[2023-Sep-03 08:32:54]: Rescoring with KORPL complete in 41.9213!\n",
      "Splitting SDF file spyRMSD_clustered.sdf ...\n"
     ]
    },
    {
     "name": "stderr",
     "output_type": "stream",
     "text": [
      "Splitting files: 100%|██████████| 28/28 [00:11<00:00,  2.48it/s]\n"
     ]
    },
    {
     "name": "stdout",
     "output_type": "stream",
     "text": [
      "Split docking library into 28 files each containing 1142 compounds\n"
     ]
    },
    {
     "name": "stderr",
     "output_type": "stream",
     "text": [
      "Submitting ConvexPLR rescoring jobs: 100%|██████████| 28/28 [00:00<00:00, 32.54file/s]\n",
      "Rescoring with ConvexPLR: 100%|██████████| 28/28 [00:34<00:00,  1.23s/file]\n"
     ]
    },
    {
     "name": "stdout",
     "output_type": "stream",
     "text": [
      "Combining ConvexPLR scores\n",
      "\n",
      "[2023-Sep-03 08:34:00]: Rescoring with ConvexPLR complete in 65.8011!\n",
      "\n",
      "[2023-Sep-03 08:34:00]: Combining all scores for /home/alacournola/DUD-E/cox1/temp/rescoring_spyRMSD_clustered\n"
     ]
    },
    {
     "name": "stderr",
     "output_type": "stream",
     "text": [
      "Combining scores: 100%|██████████| 9/9 [00:00<00:00, 53.41files/s]\n"
     ]
    },
    {
     "name": "stdout",
     "output_type": "stream",
     "text": [
      "\n",
      "[2023-Sep-03 08:34:02]: Rescoring complete in 109.4791!\n",
      "\n",
      "[2023-Sep-03 08:34:02]: Skipping gnina rescoring...\n",
      "\n",
      "[2023-Sep-03 08:34:02]: Skipping AD4 rescoring...\n",
      "\n",
      "[2023-Sep-03 08:34:02]: Skipping chemplp rescoring...\n",
      "\n",
      "[2023-Sep-03 08:34:02]: Skipping rfscorevs rescoring...\n",
      "\n",
      "[2023-Sep-03 08:34:02]: Skipping LinF9 rescoring...\n",
      "\n",
      "[2023-Sep-03 08:34:02]: Skipping RTMScore rescoring...\n",
      "\n",
      "[2023-Sep-03 08:34:02]: Skipping SCORCH rescoring...\n",
      "\n",
      "[2023-Sep-03 08:34:02]: Skipping vinardo rescoring...\n",
      "Splitting SDF file espsim_clustered.sdf ...\n"
     ]
    },
    {
     "name": "stderr",
     "output_type": "stream",
     "text": [
      "Splitting files: 100%|██████████| 28/28 [00:08<00:00,  3.36it/s]\n"
     ]
    },
    {
     "name": "stdout",
     "output_type": "stream",
     "text": [
      "Split docking library into 28 files each containing 836 compounds\n"
     ]
    },
    {
     "name": "stderr",
     "output_type": "stream",
     "text": [
      "Submitting KORPL rescoring jobs: 100%|██████████| 28/28 [00:00<00:00, 32.62file/s]\n",
      "Rescoring with KORPL: 100%|██████████| 28/28 [00:05<00:00,  4.73file/s]\n"
     ]
    },
    {
     "name": "stdout",
     "output_type": "stream",
     "text": [
      "Combining KORPL scores\n",
      "\n",
      "[2023-Sep-03 08:34:31]: Rescoring with KORPL complete in 29.3170!\n",
      "Splitting SDF file espsim_clustered.sdf ...\n"
     ]
    },
    {
     "name": "stderr",
     "output_type": "stream",
     "text": [
      "Splitting files: 100%|██████████| 28/28 [00:08<00:00,  3.32it/s]\n"
     ]
    },
    {
     "name": "stdout",
     "output_type": "stream",
     "text": [
      "Split docking library into 28 files each containing 836 compounds\n"
     ]
    },
    {
     "name": "stderr",
     "output_type": "stream",
     "text": [
      "Submitting ConvexPLR rescoring jobs: 100%|██████████| 28/28 [00:00<00:00, 33.04file/s]\n",
      "Rescoring with ConvexPLR: 100%|██████████| 28/28 [00:25<00:00,  1.10file/s]\n"
     ]
    },
    {
     "name": "stdout",
     "output_type": "stream",
     "text": [
      "Combining ConvexPLR scores\n",
      "\n",
      "[2023-Sep-03 08:35:20]: Rescoring with ConvexPLR complete in 49.0927!\n",
      "\n",
      "[2023-Sep-03 08:35:20]: Combining all scores for /home/alacournola/DUD-E/cox1/temp/rescoring_espsim_clustered\n"
     ]
    },
    {
     "name": "stderr",
     "output_type": "stream",
     "text": [
      "Combining scores: 100%|██████████| 9/9 [00:00<00:00, 65.57files/s]\n"
     ]
    },
    {
     "name": "stdout",
     "output_type": "stream",
     "text": [
      "\n",
      "[2023-Sep-03 08:35:22]: Rescoring complete in 79.7331!\n",
      "\n",
      "[2023-Sep-03 08:35:22]: Skipping gnina rescoring...\n",
      "\n",
      "[2023-Sep-03 08:35:22]: Skipping AD4 rescoring...\n",
      "\n",
      "[2023-Sep-03 08:35:22]: Skipping chemplp rescoring...\n",
      "\n",
      "[2023-Sep-03 08:35:22]: Skipping rfscorevs rescoring...\n",
      "\n",
      "[2023-Sep-03 08:35:22]: Skipping LinF9 rescoring...\n",
      "\n",
      "[2023-Sep-03 08:35:22]: Skipping RTMScore rescoring...\n",
      "\n",
      "[2023-Sep-03 08:35:22]: Skipping SCORCH rescoring...\n",
      "\n",
      "[2023-Sep-03 08:35:22]: Skipping vinardo rescoring...\n",
      "Splitting SDF file 3DScore_clustered.sdf ...\n"
     ]
    },
    {
     "name": "stderr",
     "output_type": "stream",
     "text": [
      "Splitting files: 100%|██████████| 28/28 [00:04<00:00,  6.70it/s]\n"
     ]
    },
    {
     "name": "stdout",
     "output_type": "stream",
     "text": [
      "Split docking library into 28 files each containing 362 compounds\n"
     ]
    },
    {
     "name": "stderr",
     "output_type": "stream",
     "text": [
      "Submitting KORPL rescoring jobs: 100%|██████████| 28/28 [00:00<00:00, 32.03file/s]\n",
      "Rescoring with KORPL: 100%|██████████| 28/28 [00:02<00:00, 10.60file/s]\n"
     ]
    },
    {
     "name": "stdout",
     "output_type": "stream",
     "text": [
      "Combining KORPL scores\n",
      "\n",
      "[2023-Sep-03 08:35:36]: Rescoring with KORPL complete in 14.0239!\n",
      "Splitting SDF file 3DScore_clustered.sdf ...\n"
     ]
    },
    {
     "name": "stderr",
     "output_type": "stream",
     "text": [
      "Splitting files: 100%|██████████| 28/28 [00:04<00:00,  6.96it/s]\n"
     ]
    },
    {
     "name": "stdout",
     "output_type": "stream",
     "text": [
      "Split docking library into 28 files each containing 362 compounds\n"
     ]
    },
    {
     "name": "stderr",
     "output_type": "stream",
     "text": [
      "Submitting ConvexPLR rescoring jobs: 100%|██████████| 28/28 [00:00<00:00, 32.48file/s]\n",
      "Rescoring with ConvexPLR: 100%|██████████| 28/28 [00:13<00:00,  2.10file/s]\n"
     ]
    },
    {
     "name": "stdout",
     "output_type": "stream",
     "text": [
      "Combining ConvexPLR scores\n",
      "\n",
      "[2023-Sep-03 08:36:02]: Rescoring with ConvexPLR complete in 26.2860!\n",
      "\n",
      "[2023-Sep-03 08:36:02]: Combining all scores for /home/alacournola/DUD-E/cox1/temp/rescoring_3DScore_clustered\n"
     ]
    },
    {
     "name": "stderr",
     "output_type": "stream",
     "text": [
      "Combining scores: 100%|██████████| 9/9 [00:00<00:00, 147.12files/s]\n"
     ]
    },
    {
     "name": "stdout",
     "output_type": "stream",
     "text": [
      "\n",
      "[2023-Sep-03 08:36:03]: Rescoring complete in 40.9160!\n",
      "\n",
      "[2023-Sep-03 08:36:03]: Skipping gnina rescoring...\n",
      "\n",
      "[2023-Sep-03 08:36:03]: Skipping AD4 rescoring...\n",
      "\n",
      "[2023-Sep-03 08:36:03]: Skipping chemplp rescoring...\n",
      "\n",
      "[2023-Sep-03 08:36:03]: Skipping rfscorevs rescoring...\n",
      "\n",
      "[2023-Sep-03 08:36:03]: Skipping LinF9 rescoring...\n",
      "\n",
      "[2023-Sep-03 08:36:03]: Skipping RTMScore rescoring...\n",
      "\n",
      "[2023-Sep-03 08:36:03]: Skipping SCORCH rescoring...\n",
      "\n",
      "[2023-Sep-03 08:36:03]: Skipping vinardo rescoring...\n",
      "Splitting SDF file bestpose_clustered.sdf ...\n"
     ]
    },
    {
     "name": "stderr",
     "output_type": "stream",
     "text": [
      "Splitting files: 100%|██████████| 28/28 [00:11<00:00,  2.36it/s]\n"
     ]
    },
    {
     "name": "stdout",
     "output_type": "stream",
     "text": [
      "Split docking library into 28 files each containing 1077 compounds\n"
     ]
    },
    {
     "name": "stderr",
     "output_type": "stream",
     "text": [
      "Submitting KORPL rescoring jobs: 100%|██████████| 28/28 [00:00<00:00, 31.59file/s]\n",
      "Rescoring with KORPL: 100%|██████████| 28/28 [00:08<00:00,  3.39file/s]\n"
     ]
    },
    {
     "name": "stdout",
     "output_type": "stream",
     "text": [
      "Combining KORPL scores\n",
      "\n",
      "[2023-Sep-03 08:36:42]: Rescoring with KORPL complete in 39.6560!\n",
      "Splitting SDF file bestpose_clustered.sdf ...\n"
     ]
    },
    {
     "name": "stderr",
     "output_type": "stream",
     "text": [
      "Splitting files: 100%|██████████| 28/28 [00:10<00:00,  2.61it/s]\n"
     ]
    },
    {
     "name": "stdout",
     "output_type": "stream",
     "text": [
      "Split docking library into 28 files each containing 1077 compounds\n"
     ]
    },
    {
     "name": "stderr",
     "output_type": "stream",
     "text": [
      "Submitting ConvexPLR rescoring jobs: 100%|██████████| 28/28 [00:00<00:00, 31.31file/s]\n",
      "Rescoring with ConvexPLR: 100%|██████████| 28/28 [00:33<00:00,  1.20s/file]\n"
     ]
    },
    {
     "name": "stdout",
     "output_type": "stream",
     "text": [
      "Combining ConvexPLR scores\n",
      "\n",
      "[2023-Sep-03 08:37:46]: Rescoring with ConvexPLR complete in 63.6956!\n",
      "\n",
      "[2023-Sep-03 08:37:46]: Combining all scores for /home/alacournola/DUD-E/cox1/temp/rescoring_bestpose_clustered\n"
     ]
    },
    {
     "name": "stderr",
     "output_type": "stream",
     "text": [
      "Combining scores: 100%|██████████| 9/9 [00:00<00:00, 54.44files/s]\n"
     ]
    },
    {
     "name": "stdout",
     "output_type": "stream",
     "text": [
      "\n",
      "[2023-Sep-03 08:37:48]: Rescoring complete in 105.1104!\n",
      "\n",
      "[2023-Sep-03 08:37:48]: Skipping gnina rescoring...\n",
      "\n",
      "[2023-Sep-03 08:37:48]: Skipping AD4 rescoring...\n",
      "\n",
      "[2023-Sep-03 08:37:48]: Skipping chemplp rescoring...\n",
      "\n",
      "[2023-Sep-03 08:37:48]: Skipping rfscorevs rescoring...\n",
      "\n",
      "[2023-Sep-03 08:37:48]: Skipping LinF9 rescoring...\n",
      "\n",
      "[2023-Sep-03 08:37:48]: Skipping RTMScore rescoring...\n",
      "\n",
      "[2023-Sep-03 08:37:48]: Skipping SCORCH rescoring...\n",
      "\n",
      "[2023-Sep-03 08:37:48]: Skipping vinardo rescoring...\n",
      "Splitting SDF file bestpose_GNINA_clustered.sdf ...\n"
     ]
    },
    {
     "name": "stderr",
     "output_type": "stream",
     "text": [
      "Splitting files: 100%|██████████| 28/28 [00:04<00:00,  6.79it/s]\n"
     ]
    },
    {
     "name": "stdout",
     "output_type": "stream",
     "text": [
      "Split docking library into 28 files each containing 362 compounds\n"
     ]
    },
    {
     "name": "stderr",
     "output_type": "stream",
     "text": [
      "Submitting KORPL rescoring jobs: 100%|██████████| 28/28 [00:00<00:00, 33.15file/s]\n",
      "Rescoring with KORPL: 100%|██████████| 28/28 [00:02<00:00, 10.05file/s]\n"
     ]
    },
    {
     "name": "stdout",
     "output_type": "stream",
     "text": [
      "Combining KORPL scores\n",
      "\n",
      "[2023-Sep-03 08:38:02]: Rescoring with KORPL complete in 14.0982!\n",
      "Splitting SDF file bestpose_GNINA_clustered.sdf ...\n"
     ]
    },
    {
     "name": "stderr",
     "output_type": "stream",
     "text": [
      "Splitting files: 100%|██████████| 28/28 [00:03<00:00,  7.50it/s]\n"
     ]
    },
    {
     "name": "stdout",
     "output_type": "stream",
     "text": [
      "Split docking library into 28 files each containing 362 compounds\n"
     ]
    },
    {
     "name": "stderr",
     "output_type": "stream",
     "text": [
      "Submitting ConvexPLR rescoring jobs: 100%|██████████| 28/28 [00:00<00:00, 31.88file/s]\n",
      "Rescoring with ConvexPLR: 100%|██████████| 28/28 [00:13<00:00,  2.03file/s]\n"
     ]
    },
    {
     "name": "stdout",
     "output_type": "stream",
     "text": [
      "Combining ConvexPLR scores\n",
      "\n",
      "[2023-Sep-03 08:38:27]: Rescoring with ConvexPLR complete in 24.8492!\n",
      "\n",
      "[2023-Sep-03 08:38:27]: Combining all scores for /home/alacournola/DUD-E/cox1/temp/rescoring_bestpose_GNINA_clustered\n"
     ]
    },
    {
     "name": "stderr",
     "output_type": "stream",
     "text": [
      "Combining scores: 100%|██████████| 9/9 [00:00<00:00, 136.77files/s]\n"
     ]
    },
    {
     "name": "stdout",
     "output_type": "stream",
     "text": [
      "\n",
      "[2023-Sep-03 08:38:27]: Rescoring complete in 39.5645!\n",
      "\n",
      "[2023-Sep-03 08:38:27]: Skipping gnina rescoring...\n",
      "\n",
      "[2023-Sep-03 08:38:27]: Skipping AD4 rescoring...\n",
      "\n",
      "[2023-Sep-03 08:38:27]: Skipping chemplp rescoring...\n",
      "\n",
      "[2023-Sep-03 08:38:27]: Skipping rfscorevs rescoring...\n",
      "\n",
      "[2023-Sep-03 08:38:27]: Skipping LinF9 rescoring...\n",
      "\n",
      "[2023-Sep-03 08:38:27]: Skipping RTMScore rescoring...\n",
      "\n",
      "[2023-Sep-03 08:38:27]: Skipping SCORCH rescoring...\n",
      "\n",
      "[2023-Sep-03 08:38:27]: Skipping vinardo rescoring...\n",
      "Splitting SDF file bestpose_SMINA_clustered.sdf ...\n"
     ]
    },
    {
     "name": "stderr",
     "output_type": "stream",
     "text": [
      "Splitting files: 100%|██████████| 28/28 [00:04<00:00,  6.78it/s]\n"
     ]
    },
    {
     "name": "stdout",
     "output_type": "stream",
     "text": [
      "Split docking library into 28 files each containing 362 compounds\n"
     ]
    },
    {
     "name": "stderr",
     "output_type": "stream",
     "text": [
      "Submitting KORPL rescoring jobs: 100%|██████████| 28/28 [00:00<00:00, 33.72file/s]\n",
      "Rescoring with KORPL: 100%|██████████| 28/28 [00:02<00:00, 10.69file/s]\n"
     ]
    },
    {
     "name": "stdout",
     "output_type": "stream",
     "text": [
      "Combining KORPL scores\n",
      "\n",
      "[2023-Sep-03 08:38:41]: Rescoring with KORPL complete in 13.9562!\n",
      "Splitting SDF file bestpose_SMINA_clustered.sdf ...\n"
     ]
    },
    {
     "name": "stderr",
     "output_type": "stream",
     "text": [
      "Splitting files: 100%|██████████| 28/28 [00:03<00:00,  7.44it/s]\n"
     ]
    },
    {
     "name": "stdout",
     "output_type": "stream",
     "text": [
      "Split docking library into 28 files each containing 362 compounds\n"
     ]
    },
    {
     "name": "stderr",
     "output_type": "stream",
     "text": [
      "Submitting ConvexPLR rescoring jobs: 100%|██████████| 28/28 [00:00<00:00, 33.36file/s]\n",
      "Rescoring with ConvexPLR: 100%|██████████| 28/28 [00:13<00:00,  2.00file/s]\n"
     ]
    },
    {
     "name": "stdout",
     "output_type": "stream",
     "text": [
      "Combining ConvexPLR scores\n",
      "\n",
      "[2023-Sep-03 08:39:06]: Rescoring with ConvexPLR complete in 24.9012!\n",
      "\n",
      "[2023-Sep-03 08:39:06]: Combining all scores for /home/alacournola/DUD-E/cox1/temp/rescoring_bestpose_SMINA_clustered\n"
     ]
    },
    {
     "name": "stderr",
     "output_type": "stream",
     "text": [
      "Combining scores: 100%|██████████| 9/9 [00:00<00:00, 130.10files/s]\n"
     ]
    },
    {
     "name": "stdout",
     "output_type": "stream",
     "text": [
      "\n",
      "[2023-Sep-03 08:39:07]: Rescoring complete in 39.4882!\n",
      "\n",
      "[2023-Sep-03 08:39:07]: Skipping gnina rescoring...\n",
      "\n",
      "[2023-Sep-03 08:39:07]: Skipping AD4 rescoring...\n",
      "\n",
      "[2023-Sep-03 08:39:07]: Skipping chemplp rescoring...\n",
      "\n",
      "[2023-Sep-03 08:39:07]: Skipping rfscorevs rescoring...\n",
      "\n",
      "[2023-Sep-03 08:39:07]: Skipping LinF9 rescoring...\n",
      "\n",
      "[2023-Sep-03 08:39:07]: Skipping RTMScore rescoring...\n",
      "\n",
      "[2023-Sep-03 08:39:07]: Skipping SCORCH rescoring...\n",
      "\n",
      "[2023-Sep-03 08:39:07]: Skipping vinardo rescoring...\n",
      "Splitting SDF file bestpose_PLANTS_clustered.sdf ...\n"
     ]
    },
    {
     "name": "stderr",
     "output_type": "stream",
     "text": [
      "Splitting files: 100%|██████████| 28/28 [00:03<00:00,  7.03it/s]\n"
     ]
    },
    {
     "name": "stdout",
     "output_type": "stream",
     "text": [
      "Split docking library into 28 files each containing 353 compounds\n"
     ]
    },
    {
     "name": "stderr",
     "output_type": "stream",
     "text": [
      "Submitting KORPL rescoring jobs: 100%|██████████| 28/28 [00:00<00:00, 32.76file/s]\n",
      "Rescoring with KORPL: 100%|██████████| 28/28 [00:02<00:00, 10.89file/s]\n"
     ]
    },
    {
     "name": "stdout",
     "output_type": "stream",
     "text": [
      "Combining KORPL scores\n",
      "\n",
      "[2023-Sep-03 08:39:20]: Rescoring with KORPL complete in 13.5484!\n",
      "Splitting SDF file bestpose_PLANTS_clustered.sdf ...\n"
     ]
    },
    {
     "name": "stderr",
     "output_type": "stream",
     "text": [
      "Splitting files: 100%|██████████| 28/28 [00:03<00:00,  7.67it/s]\n"
     ]
    },
    {
     "name": "stdout",
     "output_type": "stream",
     "text": [
      "Split docking library into 28 files each containing 353 compounds\n"
     ]
    },
    {
     "name": "stderr",
     "output_type": "stream",
     "text": [
      "Submitting ConvexPLR rescoring jobs: 100%|██████████| 28/28 [00:00<00:00, 32.96file/s]\n",
      "Rescoring with ConvexPLR: 100%|██████████| 28/28 [00:12<00:00,  2.20file/s]\n"
     ]
    },
    {
     "name": "stdout",
     "output_type": "stream",
     "text": [
      "Combining ConvexPLR scores\n",
      "\n",
      "[2023-Sep-03 08:39:44]: Rescoring with ConvexPLR complete in 23.4268!\n",
      "\n",
      "[2023-Sep-03 08:39:44]: Combining all scores for /home/alacournola/DUD-E/cox1/temp/rescoring_bestpose_PLANTS_clustered\n"
     ]
    },
    {
     "name": "stderr",
     "output_type": "stream",
     "text": [
      "Combining scores: 100%|██████████| 9/9 [00:00<00:00, 128.55files/s]\n"
     ]
    },
    {
     "name": "stdout",
     "output_type": "stream",
     "text": [
      "\n",
      "[2023-Sep-03 08:39:44]: Rescoring complete in 37.6063!\n",
      "Loading library\n",
      "\n",
      "[2023-Sep-03 08:40:07]: Calculating consensus methods for every possible score combination...\n"
     ]
    },
    {
     "name": "stderr",
     "output_type": "stream",
     "text": []
    }
   ],
   "source": [
    "for dir in tqdm(os.listdir('/home/alacournola/DUD-E')):\n",
    "    print(dir)\n",
    "    software = '/home/alacournola/DockM8/software'\n",
    "    protein_file = f'/home/alacournola/DUD-E/{dir}/receptor_protoss_prepared.pdb'\n",
    "    ref_file = f'/home/alacournola/DUD-E/{dir}/crystal_ligand_protoss.sdf'\n",
    "    pocket = 'reference'\n",
    "    protonation = 'pkasolver'\n",
    "    docking_library = f'/home/alacournola/DUD-E/{dir}/merged_actives_decoys.sdf'\n",
    "    docking_programs = ['GNINA', 'SMINA', 'PLANTS']\n",
    "    clustering_metrics = ['RMSD', 'spyRMSD', 'espsim', '3DScore', 'bestpose', 'bestpose_GNINA', 'bestpose_SMINA', 'bestpose_PLANTS']\n",
    "    clustering_method = 'KMedoids'\n",
    "    rescoring = ['gnina', 'AD4', 'chemplp', 'rfscorevs', 'LinF9', 'RTMScore', 'SCORCH', 'vinardo', 'KORPL', 'ConvexPLR']\n",
    "    id_column = 'ID'\n",
    "    n_poses = 10\n",
    "    exhaustiveness = 8\n",
    "    parallel = 1\n",
    "    ncpus = int(os.cpu_count()-2)\n",
    "    #Create a temporary folder for all further calculations\n",
    "    w_dir = Path(protein_file).parent\n",
    "    print('The working directory has been set to:', w_dir)\n",
    "    (w_dir/'temp').mkdir(exist_ok=True)\n",
    "    \n",
    "    try:\n",
    "        pocket_definition = get_pocket(ref_file, protein_file, 10)\n",
    "        for metric in clustering_metrics:\n",
    "            rescore_all(w_dir, protein_file, pocket_definition, str(w_dir / 'temp' / f'clustering/{metric}_clustered.sdf'), rescoring, ncpus)\n",
    "        calculate_EF_single_functions(w_dir, docking_library, clustering_metrics)\n",
    "        apply_consensus_methods_combinations(w_dir, docking_library, clustering_metrics)\n",
    "    except Exception as e:\n",
    "        printlog(f'Failed for {dir}')\n",
    "        print(e)"
   ]
  },
  {
   "cell_type": "code",
   "execution_count": null,
   "metadata": {},
   "outputs": [],
   "source": [
    "import os\n",
    "import pandas as pd\n",
    "\n",
    "def rename_and_merge_csv_files(root_dir, target_file, output_file):\n",
    "    merged_df = None\n",
    "\n",
    "    for dirpath, dirnames, filenames in os.walk(root_dir):\n",
    "        for filename in filenames:\n",
    "            if filename == target_file:\n",
    "                filepath = os.path.join(dirpath, filename)\n",
    "                df = pd.read_csv(filepath, index_col=0)\n",
    "                display(dirpath)\n",
    "                dirname = os.path.basename(dirpath)\n",
    "                df[\"EF1%\"] = pd.to_numeric(df[\"EF1%\"], errors='coerce')\n",
    "                df.rename(columns={\"EF1%\": dirpath.replace('/home/alacournola/DUD-E/', '').replace('/temp/consensus', '')}, inplace=True)\n",
    "                df.drop(columns='EF10%', inplace=True)\n",
    "                if merged_df is None:\n",
    "                    merged_df = df\n",
    "                else:\n",
    "                    merged_df = pd.merge(merged_df, df, on=[\"Scoring Function\", \"Clustering Metric\"])\n",
    "\n",
    "    if merged_df is not None:\n",
    "        # Adding the average column\n",
    "        columns_to_exclude = [\"Scoring Function\", \"Clustering Metric\"]\n",
    "        numeric_columns = [col for col in merged_df.columns if col not in columns_to_exclude]\n",
    "        merged_df['Average'] = merged_df[numeric_columns].mean(axis=1)\n",
    "        merged_df.to_csv(output_file)\n",
    "        print(f\"Merged CSV file saved to: {output_file}\")\n",
    "\n",
    "\n",
    "root_directory = \"/home/alacournola/DUD-E\"\n",
    "target_csv_file = \"EF_single_functions.csv\"\n",
    "output_csv_file = \"merged_output_DUD-E.csv\"\n",
    "\n",
    "rename_and_merge_csv_files(root_directory, target_csv_file, output_csv_file)\n"
   ]
  },
  {
   "cell_type": "code",
   "execution_count": null,
   "metadata": {},
   "outputs": [],
   "source": [
    "import os\n",
    "import pandas as pd\n",
    "\n",
    "def rename_and_merge_csv_files(root_dir, target_file, output_file):\n",
    "    merged_df = None\n",
    "\n",
    "    for dirpath, dirnames, filenames in os.walk(root_dir):\n",
    "        for filename in filenames:\n",
    "            if filename == target_file:\n",
    "                filepath = os.path.join(dirpath, filename)\n",
    "                df = pd.read_csv(filepath, index_col=0)\n",
    "                dirname = os.path.basename(dirpath)\n",
    "                df.rename(columns={\"EF1%\": dirpath.replace('/home/alacournola/DUD/E/', '').replace('/temp/consensus', '')}, inplace=True)\n",
    "                if merged_df is None:\n",
    "                    merged_df = df\n",
    "                else:\n",
    "                    merged_df = pd.merge(merged_df, df, on=[\"clustering_method\", \"selected_columns\", 'method_name'])\n",
    "                    print(merged_df.head())\n",
    "\n",
    "    if merged_df is not None:\n",
    "        # Adding the average column\n",
    "        columns_to_exclude = ['method_name', 'selected_columns', 'clustering_metric']\n",
    "        numeric_columns = [col for col in merged_df.columns if col not in columns_to_exclude]\n",
    "        merged_df['Average'] = merged_df[numeric_columns].mean(axis=1)\n",
    "        print(merged_df.head())\n",
    "        merged_df.to_csv(output_file)\n",
    "        print(f\"Merged CSV file saved to: {output_file}\")\n",
    "\n",
    "root_directory = \"/home/alacournola/DUD-E\"\n",
    "target_csv_file = \"consensus_summary.csv\"\n",
    "output_csv_file = \"merged_output_consensus_DUD-E.csv\"\n",
    "\n",
    "rename_and_merge_csv_files(root_directory, target_csv_file, output_csv_file)\n"
   ]
  }
 ],
 "metadata": {
  "kernelspec": {
   "display_name": "wocondock",
   "language": "python",
   "name": "python3"
  },
  "language_info": {
   "codemirror_mode": {
    "name": "ipython",
    "version": 3
   },
   "file_extension": ".py",
   "mimetype": "text/x-python",
   "name": "python",
   "nbconvert_exporter": "python",
   "pygments_lexer": "ipython3",
   "version": "3.8.16"
  },
  "orig_nbformat": 4,
  "vscode": {
   "interpreter": {
    "hash": "10164e316682d9b4b376ca14144ea8a4ff51ebef10350aaa3c3bfce49f02faa4"
   }
  }
 },
 "nbformat": 4,
 "nbformat_minor": 2
}
