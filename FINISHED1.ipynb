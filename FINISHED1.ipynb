{
 "cells": [
  {
   "cell_type": "markdown",
   "metadata": {},
   "source": [
    "**Import required libraries and scripts**"
   ]
  },
  {
   "cell_type": "code",
   "execution_count": 1,
   "metadata": {},
   "outputs": [
    {
     "name": "stderr",
     "output_type": "stream",
     "text": [
      "[11:26:29] Initializing Normalizer\n",
      "/home/mario/anaconda3/envs/wocondock/lib/python3.8/site-packages/MDAnalysis/coordinates/chemfiles.py:108: DeprecationWarning: distutils Version classes are deprecated. Use packaging.version instead.\n",
      "  MIN_CHEMFILES_VERSION = LooseVersion(\"0.9\")\n",
      "[TRJ.py:171 - <module>()] netCDF4 is not available. Writing AMBER ncdf files will be slow.\n",
      "/home/mario/anaconda3/envs/wocondock/lib/python3.8/site-packages/MDAnalysis/coordinates/TRJ.py:1209: DeprecationWarning: Please use `netcdf_file` from the `scipy.io` namespace, the `scipy.io.netcdf` namespace is deprecated.\n",
      "  class NCDFPicklable(scipy.io.netcdf.netcdf_file):\n"
     ]
    }
   ],
   "source": [
    "import os\n",
    "from scripts.library_preparation import *\n",
    "from scripts.utilities import *\n",
    "from scripts.docking_functions import *\n",
    "from scripts.clustering_functions import *\n",
    "from scripts.rescoring_functions import *\n",
    "from scripts.performance_calculation import *\n",
    "from scripts.performance_calculation import *\n",
    "from scripts.dogsitescorer import *\n",
    "from scripts.get_pocket import *\n"
   ]
  },
  {
   "cell_type": "code",
   "execution_count": 2,
   "metadata": {},
   "outputs": [
    {
     "name": "stdout",
     "output_type": "stream",
     "text": [
      "abl1\n",
      "The working directory has been set to: /media/mario/T7/FINISHED/FINISHED/abl1\n",
      "The folder: /media/mario/T7/FINISHED/FINISHED/abl1/temp already exists\n",
      "ace\n",
      "The working directory has been set to: /media/mario/T7/FINISHED/FINISHED/ace\n",
      "The folder: /media/mario/T7/FINISHED/FINISHED/ace/temp already exists\n",
      "aldr\n",
      "The working directory has been set to: /media/mario/T7/FINISHED/FINISHED/aldr\n",
      "The folder: /media/mario/T7/FINISHED/FINISHED/aldr/temp already exists\n",
      "andr\n",
      "The working directory has been set to: /media/mario/T7/FINISHED/FINISHED/andr\n",
      "The folder: /media/mario/T7/FINISHED/FINISHED/andr/temp already exists\n",
      "cdk2\n",
      "The working directory has been set to: /media/mario/T7/FINISHED/FINISHED/cdk2\n",
      "The folder: /media/mario/T7/FINISHED/FINISHED/cdk2/temp already exists\n",
      "cox1\n",
      "The working directory has been set to: /media/mario/T7/FINISHED/FINISHED/cox1\n",
      "The folder: /media/mario/T7/FINISHED/FINISHED/cox1/temp already exists\n",
      "dhi1\n",
      "The working directory has been set to: /media/mario/T7/FINISHED/FINISHED/dhi1\n",
      "The folder: /media/mario/T7/FINISHED/FINISHED/dhi1/temp already exists\n",
      "drd3\n",
      "The working directory has been set to: /media/mario/T7/FINISHED/FINISHED/drd3\n",
      "The folder: /media/mario/T7/FINISHED/FINISHED/drd3/temp already exists\n",
      "The folder: /media/mario/T7/FINISHED/FINISHED/drd3/temp/ranking already exists\n",
      "\n",
      "[2023-Apr-04 11:26:33]: Failed for drd3\n",
      "[Errno 2] No such file or directory: '/media/mario/T7/FINISHED/FINISHED/drd3/temp/rescoring_RMSD_clustered/allposes_rescored.csv'\n",
      "dyr\n",
      "The working directory has been set to: /media/mario/T7/FINISHED/FINISHED/dyr\n",
      "The folder: /media/mario/T7/FINISHED/FINISHED/dyr/temp already exists\n",
      "esr1\n",
      "The working directory has been set to: /media/mario/T7/FINISHED/FINISHED/esr1\n",
      "The folder: /media/mario/T7/FINISHED/FINISHED/esr1/temp already exists\n",
      "fa7\n",
      "The working directory has been set to: /media/mario/T7/FINISHED/FINISHED/fa7\n",
      "The folder: /media/mario/T7/FINISHED/FINISHED/fa7/temp already exists\n",
      "fabp4\n",
      "The working directory has been set to: /media/mario/T7/FINISHED/FINISHED/fabp4\n",
      "The folder: /media/mario/T7/FINISHED/FINISHED/fabp4/temp already exists\n",
      "gria2\n",
      "The working directory has been set to: /media/mario/T7/FINISHED/FINISHED/gria2\n",
      "The folder: /media/mario/T7/FINISHED/FINISHED/gria2/temp already exists\n",
      "hdac2\n",
      "The working directory has been set to: /media/mario/T7/FINISHED/FINISHED/hdac2\n",
      "The folder: /media/mario/T7/FINISHED/FINISHED/hdac2/temp already exists\n",
      "hivrt\n",
      "The working directory has been set to: /media/mario/T7/FINISHED/FINISHED/hivrt\n",
      "The folder: /media/mario/T7/FINISHED/FINISHED/hivrt/temp already exists\n",
      "hmdh\n",
      "The working directory has been set to: /media/mario/T7/FINISHED/FINISHED/hmdh\n",
      "The folder: /media/mario/T7/FINISHED/FINISHED/hmdh/temp already exists\n",
      "hs90a\n",
      "The working directory has been set to: /media/mario/T7/FINISHED/FINISHED/hs90a\n",
      "The folder: /media/mario/T7/FINISHED/FINISHED/hs90a/temp already exists\n",
      "hxk4\n",
      "The working directory has been set to: /media/mario/T7/FINISHED/FINISHED/hxk4\n",
      "The folder: /media/mario/T7/FINISHED/FINISHED/hxk4/temp already exists\n",
      "igf1r\n",
      "The working directory has been set to: /media/mario/T7/FINISHED/FINISHED/igf1r\n",
      "The folder: /media/mario/T7/FINISHED/FINISHED/igf1r/temp already exists\n",
      "kith\n",
      "The working directory has been set to: /media/mario/T7/FINISHED/FINISHED/kith\n",
      "The folder: /media/mario/T7/FINISHED/FINISHED/kith/temp already exists\n",
      "kpcb\n",
      "The working directory has been set to: /media/mario/T7/FINISHED/FINISHED/kpcb\n",
      "The folder: /media/mario/T7/FINISHED/FINISHED/kpcb/temp already exists\n",
      "lfa1\n",
      "The working directory has been set to: /media/mario/T7/FINISHED/FINISHED/lfa1\n",
      "The folder: /media/mario/T7/FINISHED/FINISHED/lfa1/temp already exists\n",
      "lkha4\n",
      "The working directory has been set to: /media/mario/T7/FINISHED/FINISHED/lkha4\n",
      "The folder: /media/mario/T7/FINISHED/FINISHED/lkha4/temp already exists\n",
      "nram\n",
      "The working directory has been set to: /media/mario/T7/FINISHED/FINISHED/nram\n",
      "The folder: /media/mario/T7/FINISHED/FINISHED/nram/temp already exists\n",
      "prgr\n",
      "The working directory has been set to: /media/mario/T7/FINISHED/FINISHED/prgr\n",
      "The folder: /media/mario/T7/FINISHED/FINISHED/prgr/temp already exists\n",
      "ptn1\n",
      "The working directory has been set to: /media/mario/T7/FINISHED/FINISHED/ptn1\n",
      "The folder: /media/mario/T7/FINISHED/FINISHED/ptn1/temp already exists\n",
      "pyrd\n",
      "The working directory has been set to: /media/mario/T7/FINISHED/FINISHED/pyrd\n",
      "The folder: /media/mario/T7/FINISHED/FINISHED/pyrd/temp already exists\n",
      "The folder: /media/mario/T7/FINISHED/FINISHED/pyrd/temp/ranking already exists\n",
      "The folder: /media/mario/T7/FINISHED/FINISHED/pyrd/temp/consensus already exists\n",
      "\n",
      "[2023-Apr-04 11:26:36]: Calculating consensus methods for every possible score combination...\n"
     ]
    },
    {
     "name": "stderr",
     "output_type": "stream",
     "text": [
      "100%|██████████| 8/8 [03:30<00:00, 26.26s/it]\n"
     ]
    },
    {
     "name": "stdout",
     "output_type": "stream",
     "text": [
      "reni\n",
      "The working directory has been set to: /media/mario/T7/FINISHED/FINISHED/reni\n",
      "The folder: /media/mario/T7/FINISHED/FINISHED/reni/temp already exists\n",
      "The folder: /media/mario/T7/FINISHED/FINISHED/reni/temp/ranking already exists\n",
      "The folder: /media/mario/T7/FINISHED/FINISHED/reni/temp/consensus already exists\n",
      "\n",
      "[2023-Apr-04 11:30:12]: Calculating consensus methods for every possible score combination...\n"
     ]
    },
    {
     "name": "stderr",
     "output_type": "stream",
     "text": [
      "100%|██████████| 8/8 [04:01<00:00, 30.14s/it]\n"
     ]
    },
    {
     "name": "stdout",
     "output_type": "stream",
     "text": [
      "urok\n",
      "The working directory has been set to: /media/mario/T7/FINISHED/FINISHED/urok\n",
      "The folder: /media/mario/T7/FINISHED/FINISHED/urok/temp already exists\n",
      "The folder: /media/mario/T7/FINISHED/FINISHED/urok/temp/ranking already exists\n",
      "The folder: /media/mario/T7/FINISHED/FINISHED/urok/temp/consensus already exists\n",
      "\n",
      "[2023-Apr-04 11:34:21]: Calculating consensus methods for every possible score combination...\n"
     ]
    },
    {
     "name": "stderr",
     "output_type": "stream",
     "text": [
      "100%|██████████| 8/8 [04:46<00:00, 35.83s/it]\n"
     ]
    },
    {
     "name": "stdout",
     "output_type": "stream",
     "text": [
      "xiap\n",
      "The working directory has been set to: /media/mario/T7/FINISHED/FINISHED/xiap\n",
      "The folder: /media/mario/T7/FINISHED/FINISHED/xiap/temp already exists\n",
      "The folder: /media/mario/T7/FINISHED/FINISHED/xiap/temp/ranking already exists\n",
      "The folder: /media/mario/T7/FINISHED/FINISHED/xiap/temp/consensus already exists\n",
      "\n",
      "[2023-Apr-04 11:39:12]: Calculating consensus methods for every possible score combination...\n"
     ]
    },
    {
     "name": "stderr",
     "output_type": "stream",
     "text": [
      "100%|██████████| 8/8 [01:33<00:00, 11.73s/it]\n"
     ]
    }
   ],
   "source": [
    "for dir in os.listdir('/media/mario/T7/FINISHED/FINISHED/'):\n",
    "    print(dir)\n",
    "    software = '/home/mario/DockM8/software'\n",
    "    protein_file = f'/media/mario/T7/FINISHED/FINISHED/{dir}/receptor_protoss_prepared.pdb'\n",
    "    ref_file = f'/media/mario/T7/FINISHED/FINISHED/{dir}/crystal_ligand_protoss.sdf'\n",
    "    pocket = 'reference'\n",
    "    protonation = 'pkasolver'\n",
    "    docking_library = f'/media/mario/T7/FINISHED/FINISHED/{dir}/merged_actives_decoys.sdf'\n",
    "    docking_programs = ['GNINA', 'SMINA', 'PLANTS']\n",
    "    clustering_metrics = ['RMSD', 'spyRMSD', 'espsim', '3DScore', 'bestpose', 'bestpose_GNINA', 'bestpose_SMINA', 'bestpose_PLANTS']\n",
    "    clustering_method = 'KMedoids'\n",
    "    rescoring= ['gnina', 'AD4', 'chemplp', 'rfscorevs', 'LinF9', 'SCORCH', 'RTMScore', 'vinardo']\n",
    "    id_column = 'ID'\n",
    "    n_poses = 10\n",
    "    exhaustiveness = 8\n",
    "    parallel = 1\n",
    "    ncpus = int(os.cpu_count()/2)\n",
    "    #Create a temporary folder for all further calculations\n",
    "    w_dir = os.path.dirname(protein_file)\n",
    "    print('The working directory has been set to:', w_dir)\n",
    "    create_temp_folder(w_dir+'/temp')\n",
    "    \n",
    "    try:   \n",
    "        if os.path.exists(w_dir+'/temp/consensus/consensus_summary.csv')==False:\n",
    "            apply_consensus_methods_combinations(w_dir, docking_library, clustering_metrics)\n",
    "    except Exception as e:\n",
    "        printlog(f'Failed for {dir}')\n",
    "        print(e)\n",
    "        \n"
   ]
  },
  {
   "cell_type": "code",
   "execution_count": null,
   "metadata": {},
   "outputs": [],
   "source": [
    "def rename_columns_in_csv(root_dir, target_file, col_rename_dict):\n",
    "    for dirpath, dirnames, filenames in os.walk(root_dir):\n",
    "        for filename in filenames:\n",
    "            if filename == target_file:\n",
    "                filepath = os.path.join(dirpath, filename)\n",
    "\n",
    "                # Read the CSV file\n",
    "                df = pd.read_csv(filepath)\n",
    "\n",
    "                # Rename columns according to the dictionary\n",
    "                df.rename(columns=col_rename_dict, inplace=True)\n",
    "\n",
    "                # Write the modified CSV file back to the same location\n",
    "                df.to_csv(filepath, index=False)\n",
    "                print(f\"Columns renamed in: {filepath}\")\n",
    "\n",
    "root_directory = \"/media/mario/T7/FINISHED/FINISHED/\"\n",
    "target_csv_file = \"allposes_rescored.csv\"\n",
    "column_rename_dict = {\n",
    "    \"AD4_Affinity\": \"AD4\",\n",
    "    \"Vinardo_Affinity\": \"Vinardo\",\n",
    "    \"GNINA_Affinity\": \"GNINA\",\n",
    "    \"GNINA_CNN_Score\": \"CNN-Score\",\n",
    "    \"GNINA_CNN_Affinity\": \"CNN-Affinity\",\n",
    "    'LinF9_Affinity':'LinF9',\n",
    "    'SCORCH_pose_score':'SCORCH',\n",
    "    # Add more column names to be renamed here\n",
    "}\n",
    "rename_columns_in_csv(root_directory, target_csv_file, column_rename_dict)"
   ]
  },
  {
   "cell_type": "code",
   "execution_count": 3,
   "metadata": {},
   "outputs": [
    {
     "name": "stdout",
     "output_type": "stream",
     "text": [
      "abl1\n",
      "ace\n",
      "aldr\n",
      "andr\n",
      "cdk2\n",
      "cox1\n",
      "dhi1\n",
      "dyr\n",
      "esr1\n",
      "fa7\n",
      "fabp4\n",
      "gria2\n",
      "hdac2\n",
      "hivrt\n",
      "hmdh\n",
      "hs90a\n",
      "hxk4\n",
      "igf1r\n",
      "kith\n",
      "kpcb\n",
      "lfa1\n",
      "lkha4\n",
      "nram\n",
      "prgr\n",
      "ptn1\n",
      "pyrd\n",
      "reni\n",
      "urok\n",
      "xiap\n",
      "Merged CSV file saved to: merged_output1.csv\n"
     ]
    }
   ],
   "source": [
    "import os\n",
    "import pandas as pd\n",
    "\n",
    "def rename_and_merge_csv_files(root_dir, target_file, output_file):\n",
    "    merged_df = None\n",
    "\n",
    "    for dirpath, dirnames, filenames in os.walk(root_dir):\n",
    "        for filename in filenames:\n",
    "            if filename == target_file:\n",
    "                filepath = os.path.join(dirpath, filename)\n",
    "                df = pd.read_csv(filepath, index_col=0)\n",
    "                dirname = os.path.basename(dirpath)\n",
    "                print(dirpath.replace('/media/mario/T7/FINISHED/FINISHED/', '').replace('/temp/consensus', ''))\n",
    "                df.rename(columns={\"EF1%\": dirpath.replace('/media/mario/T7/FINISHED/FINISHED/', '').replace('/temp/consensus', '')}, inplace=True)\n",
    "                df.drop(columns='EF10%', inplace=True)\n",
    "                if merged_df is None:\n",
    "                    merged_df = df\n",
    "                else:\n",
    "                    merged_df = pd.merge(merged_df, df, on=[\"Scoring Function\", \"Clustering Metric\"])\n",
    "\n",
    "    if merged_df is not None:\n",
    "        # Adding the average column\n",
    "        columns_to_exclude = ['method_name', 'selected_columns', 'clustering_metric']\n",
    "        numeric_columns = [col for col in merged_df.columns if col not in columns_to_exclude]\n",
    "        merged_df['Average'] = merged_df[numeric_columns].mean(axis=1)\n",
    "        merged_df.to_csv(output_file)\n",
    "        print(f\"Merged CSV file saved to: {output_file}\")\n",
    "\n",
    "\n",
    "root_directory = \"/media/mario/T7/FINISHED/FINISHED/\"\n",
    "target_csv_file = \"EF_single_functions.csv\"\n",
    "output_csv_file = \"merged_output1.csv\"\n",
    "\n",
    "rename_and_merge_csv_files(root_directory, target_csv_file, output_csv_file)\n"
   ]
  },
  {
   "cell_type": "code",
   "execution_count": 3,
   "metadata": {},
   "outputs": [
    {
     "name": "stdout",
     "output_type": "stream",
     "text": [
      "                  method_name selected_columns  abl1    ace  aldr  andr  cdk2  \\\n",
      "clustering_method                                                               \n",
      "RMSD                  method1      AD4_CHEMPLP  4.93  14.19  6.32  1.86  2.32   \n",
      "RMSD                  method2      AD4_CHEMPLP  6.58  14.19  2.53  0.75  2.11   \n",
      "RMSD                  method3      AD4_CHEMPLP  6.03  12.77  1.90  1.49  2.11   \n",
      "RMSD                  method4      AD4_CHEMPLP  6.03  13.48  1.90  1.49  1.48   \n",
      "RMSD                  method5      AD4_CHEMPLP  6.03  13.13  3.16  0.75  1.26   \n",
      "\n",
      "                   cox1  dhi1   dyr  ...  lfa1  lkha4  nram  prgr   ptn1  \\\n",
      "clustering_method                    ...                                   \n",
      "RMSD               1.03  1.82  2.16  ...  0.73  15.84  1.02  1.37  14.54   \n",
      "RMSD               1.03  3.34  2.16  ...  0.73  23.46  0.00  3.42  19.89   \n",
      "RMSD               1.03  2.43  0.43  ...  0.73  18.77  0.00  2.05  16.07   \n",
      "RMSD               1.03  2.43  0.43  ...  0.73  18.18  0.00  2.05  16.83   \n",
      "RMSD               0.51  3.64  0.43  ...  0.00  23.46  1.02  3.77  18.36   \n",
      "\n",
      "                   pyrd  reni  urok   xiap   Average  \n",
      "clustering_method                                     \n",
      "RMSD               2.63  5.79  3.69  16.96  6.208621  \n",
      "RMSD               0.00  3.86  5.54  11.97  6.268276  \n",
      "RMSD               0.00  5.79  3.08   9.98  5.258621  \n",
      "RMSD               0.00  5.79  3.08  10.97  5.233793  \n",
      "RMSD               0.00  4.83  4.92   8.98  5.837931  \n",
      "\n",
      "[5 rows x 32 columns]\n",
      "Merged CSV file saved to: merged_output_consensus1.csv\n"
     ]
    }
   ],
   "source": [
    "import os\n",
    "import pandas as pd\n",
    "\n",
    "def rename_and_merge_csv_files(root_dir, target_file, output_file):\n",
    "    merged_df = None\n",
    "\n",
    "    for dirpath, dirnames, filenames in os.walk(root_dir):\n",
    "        for filename in filenames:\n",
    "            if filename == target_file:\n",
    "                filepath = os.path.join(dirpath, filename)\n",
    "                df = pd.read_csv(filepath, index_col=0)\n",
    "                dirname = os.path.basename(dirpath)\n",
    "                df.rename(columns={\"EF1%\": dirpath.replace('/media/mario/T7/FINISHED/FINISHED/', '').replace('/temp/consensus', '')}, inplace=True)\n",
    "                if merged_df is None:\n",
    "                    merged_df = df\n",
    "                else:\n",
    "                    merged_df = pd.merge(merged_df, df, on=[\"clustering_method\", \"selected_columns\", 'method_name'])\n",
    "\n",
    "    if merged_df is not None:\n",
    "        # Adding the average column\n",
    "        columns_to_exclude = ['method_name', 'selected_columns', 'clustering_metric']\n",
    "        numeric_columns = [col for col in merged_df.columns if col not in columns_to_exclude]\n",
    "        merged_df['Average'] = merged_df[numeric_columns].mean(axis=1)\n",
    "        print(merged_df.head())\n",
    "        merged_df.to_csv(output_file)\n",
    "        print(f\"Merged CSV file saved to: {output_file}\")\n",
    "\n",
    "root_directory = \"/media/mario/T7/FINISHED/FINISHED/\"\n",
    "target_csv_file = \"consensus_summary.csv\"\n",
    "output_csv_file = \"merged_output_consensus1.csv\"\n",
    "\n",
    "rename_and_merge_csv_files(root_directory, target_csv_file, output_csv_file)\n"
   ]
  }
 ],
 "metadata": {
  "kernelspec": {
   "display_name": "Python 3.8.13 ('wocondock')",
   "language": "python",
   "name": "python3"
  },
  "language_info": {
   "codemirror_mode": {
    "name": "ipython",
    "version": 3
   },
   "file_extension": ".py",
   "mimetype": "text/x-python",
   "name": "python",
   "nbconvert_exporter": "python",
   "pygments_lexer": "ipython3",
   "version": "3.8.15"
  },
  "orig_nbformat": 4,
  "vscode": {
   "interpreter": {
    "hash": "ac9acbc93af693fb4e01b586b9d883cf48eab2850c268069ebbf85c5f9fbe2b9"
   }
  }
 },
 "nbformat": 4,
 "nbformat_minor": 2
}
