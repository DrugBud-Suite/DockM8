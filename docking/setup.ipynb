{
 "cells": [
  {
   "cell_type": "code",
   "execution_count": null,
   "metadata": {},
   "outputs": [],
   "source": [
    "conda create --name consensus python=3.8\n",
    "\n",
    "#conda activate consensus\n",
    "\n",
    "# conda install -c rdkit rdkit -y \\\n",
    "conda install -c conda-forge rdkit\n",
    "\n",
    "conda install -c conda-forge chembl_structure_pipeline -y \\\n",
    "\n",
    "#conda install -c schrodinger pymol -y \\\n",
    "conda install -c conda-forge pymol-open-source \n",
    "\n",
    "#conda install -c anaconda joblib -y \\\n",
    "\n",
    "# conda install -c conda-forge tensorflow -y \\\n",
    "\n",
    "#pip install tensorflow\n",
    "\n",
    "conda install -c conda-forge ipykernel\n",
    "\n",
    "conda install -c conda-forge scipy\n",
    "\n",
    "\n",
    "pip install pymesh spyrmsd kneed  \n",
    "\n",
    "Go to espsim-master path \n",
    "    python setup.py install\n",
    "    \n",
    "    \n",
    "    pip install ipython jupyter jupyter-tensorboard --upgrade\n",
    "    jupyter tensorboard enable --system\n",
    "\n",
    "#install gnina docker File\n",
    "\n",
    "#download plants and ledock and lepro executables to software folder\n",
    "Ubuntu debian\n",
    "sudo wget http://www.lephar.com/download/ledock_linux_x86\n",
    "sudo wget http://www.lephar.com/download/lepro_linux_x86\n",
    "\n",
    "http://www.tcd.uni-konstanz.de/plants_download/\n",
    "\n"
   ]
  },
  {
   "cell_type": "markdown",
   "metadata": {},
   "source": [
    "# Pka Solver"
   ]
  },
  {
   "cell_type": "code",
   "execution_count": null,
   "metadata": {},
   "outputs": [],
   "source": [
    "# pip install torch==1.4.0\n",
    "# pip install torch-scatter -f https://data.pyg.org/whl/torch-1.4.0+cpu.html \n",
    "# pip install torch-sparse -f https://data.pyg.org/whl/torch-1.4.0+cpu.html \n",
    "# pip install torch-spline-conv torch-geometric==2.0.1 -f https://data.pyg.org/whl/torch-1.4.0+cpu.html \n",
    "# pip install cairosvg svgutils molvs\n",
    "# pip install -q git+https://github.com/mayrf/pkasolver.git \n",
    "# ###############################################################\n",
    "\n",
    "!pip install torch==1.9.1 \n",
    "!pip install torch-scatter -f https://data.pyg.org/whl/torch-1.9.1+cpu.html \n",
    "!pip install torch-sparse -f https://data.pyg.org/whl/torch-1.9.1+cpu.html \n",
    "!pip install torch-spline-conv torch-geometric==2.0.1 -f https://data.pyg.org/whl/torch-1.9.1+cpu.html \n",
    "!pip install cairosvg svgutils molvs \n",
    "\n",
    "!pip install -q git+https://github.com/mayrf/pkasolver.git "
   ]
  }
 ],
 "metadata": {
  "interpreter": {
   "hash": "584a0c34cc8ef48b6647655321727d63c2335994d2fb12ca0b4ce3b7bb35cc73"
  },
  "kernelspec": {
   "display_name": "Python 3.7.11 64-bit ('consensus': conda)",
   "language": "python",
   "name": "python3"
  },
  "language_info": {
   "name": "python",
   "version": "3.6.13"
  },
  "orig_nbformat": 4
 },
 "nbformat": 4,
 "nbformat_minor": 2
}
