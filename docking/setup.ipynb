{
 "cells": [
  {
   "cell_type": "code",
   "execution_count": null,
   "metadata": {},
   "outputs": [],
   "source": [
    "#conda create --name consensus python=3.7\n",
    "\n",
    "#conda activate consensus\n",
    "\n",
    "conda install -c rdkit rdkit -y \\\n",
    "\n",
    "conda install -c conda-forge chembl_structure_pipeline -y \\\n",
    "\n",
    "conda install -c schrodinger pymol -y \\\n",
    "\n",
    "conda install -c anaconda joblib -y \\\n",
    "\n",
    "# conda install -c conda-forge tensorflow -y \\\n",
    "\n",
    "pip install tensorflow\n",
    "\n",
    "conda install -c conda-forge ipykernel\n",
    "\n",
    "conda install -c anaconda scipy\n",
    "\n",
    "install deepdock\n",
    "    pip install \\\n",
    "            cupy-cuda101 \\\n",
    "            torch==1.4.0 \\\n",
    "            torch-scatter==2.0.4 -f https://pytorch-geometric.com/whl/torch-1.4.0+cu101.html \\\n",
    "            torch-sparse==0.6.1 -f https://pytorch-geometric.com/whl/torch-1.4.0+cu101.html \\\n",
    "            torch-cluster==1.5.3 -f https://pytorch-geometric.com/whl/torch-1.4.0+cu101.html \\\n",
    "            torch-spline-conv==1.2.0 -f https://pytorch-geometric.com/whl/torch-1.4.0+cu101.html \\\n",
    "            torch_geometric==1.4.3 \\\n",
    "            numpy==1.16.6 \\\n",
    "            plyfile==0.7.2 \\\n",
    "            pandas==0.25.1 \\\n",
    "            networkx==2.5 \\\n",
    "            scikit_learn==0.21.3 \\\n",
    "            matplotlib==3.0.2 \\\n",
    "            transformers==4.2.2 \\\n",
    "            trimesh==3.6.5 \\\n",
    "            Biopython \\\n",
    "            py3Dmol        \n",
    "    pip install pymesh\n",
    "    pip install spyrmsd\n",
    "    pip install scikit-learn-extra\n",
    "    pip install kneed\n",
    "    # pip install molvs\n",
    "    # pip install tqdm\n",
    "\n",
    "    install espsim (clone github then pip)\n",
    "    \n",
    "    \n",
    "    pip install ipython jupyter jupyter-tensorboard --upgrade\n",
    "    jupyter tensorboard enable --system\n",
    "\n",
    "#install gnina docker File\n",
    "\n",
    "#>download plants and ledock and lepro executables to software folder\n",
    "\n"
   ]
  },
  {
   "cell_type": "markdown",
   "metadata": {},
   "source": [
    "# Pka Solver"
   ]
  },
  {
   "cell_type": "code",
   "execution_count": null,
   "metadata": {},
   "outputs": [],
   "source": [
    "conda install -c conda-forge rdkit \n",
    "\n",
    "pip install torch==1.4.0\n",
    "pip install torch-scatter -f https://data.pyg.org/whl/torch-1.4.0+cpu.html \n",
    "pip install torch-sparse -f https://data.pyg.org/whl/torch-1.4.0+cpu.html \n",
    "pip install torch-spline-conv torch-geometric==1.4.3 -f https://data.pyg.org/whl/torch-1.4.0+cpu.html \n",
    "pip install cairosvg svgutils molvs\n",
    "\n",
    "pip install -q git+https://github.com/mayrf/pkasolver.git "
   ]
  }
 ],
 "metadata": {
  "interpreter": {
   "hash": "584a0c34cc8ef48b6647655321727d63c2335994d2fb12ca0b4ce3b7bb35cc73"
  },
  "kernelspec": {
   "display_name": "Python 3.7.11 64-bit ('consensus': conda)",
   "language": "python",
   "name": "python3"
  },
  "language_info": {
   "name": "python",
   "version": "3.6.13"
  },
  "orig_nbformat": 4
 },
 "nbformat": 4,
 "nbformat_minor": 2
}
