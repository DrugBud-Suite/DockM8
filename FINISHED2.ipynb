{
 "cells": [
  {
   "cell_type": "markdown",
   "metadata": {},
   "source": [
    "**Import required libraries and scripts**"
   ]
  },
  {
   "cell_type": "code",
   "execution_count": null,
   "metadata": {},
   "outputs": [],
   "source": [
    "import os\n",
    "for dir in os.listdir('/media/mario/T7/FINISHED/FINISHED2/'):\n",
    "    print(dir)"
   ]
  },
  {
   "cell_type": "code",
   "execution_count": 1,
   "metadata": {},
   "outputs": [
    {
     "name": "stderr",
     "output_type": "stream",
     "text": [
      "[09:03:26] Initializing Normalizer\n",
      "/home/mario/anaconda3/envs/wocondock/lib/python3.8/site-packages/MDAnalysis/coordinates/chemfiles.py:108: DeprecationWarning: distutils Version classes are deprecated. Use packaging.version instead.\n",
      "  MIN_CHEMFILES_VERSION = LooseVersion(\"0.9\")\n",
      "[TRJ.py:171 - <module>()] netCDF4 is not available. Writing AMBER ncdf files will be slow.\n"
     ]
    },
    {
     "name": "stdout",
     "output_type": "stream",
     "text": [
      "hs90a\n",
      "The working directory has been set to: /media/mario/T7/FINISHED/FINISHED2/hs90a\n",
      "The folder: /media/mario/T7/FINISHED/FINISHED2/hs90a/temp already exists\n",
      "The folder: /media/mario/T7/FINISHED/FINISHED2/hs90a/temp/rescoring_RMSD_clustered already exists\n",
      "\n",
      "[2023-Mar-29 09:03:29]: /gnina_rescoring folder already exists, skipping gnina rescoring\n",
      "\n",
      "[2023-Mar-29 09:03:29]: /AD4_rescoring folder already exists, skipping AD4 rescoring\n",
      "\n",
      "[2023-Mar-29 09:03:29]: /chemplp_rescoring folder already exists, skipping chemplp rescoring\n",
      "\n",
      "[2023-Mar-29 09:03:29]: /rfscorevs_rescoring folder already exists, skipping rfscorevs rescoring\n",
      "\n",
      "[2023-Mar-29 09:03:29]: /LinF9_rescoring folder already exists, skipping LinF9 rescoring\n",
      "\n",
      "[2023-Mar-29 09:03:29]: /SCORCH_rescoring folder already exists, skipping SCORCH rescoring\n",
      "\n",
      "[2023-Mar-29 09:03:29]: /RTMScore_rescoring folder already exists, skipping RTMScore rescoring\n"
     ]
    },
    {
     "name": "stderr",
     "output_type": "stream",
     "text": [
      "/home/mario/anaconda3/envs/wocondock/lib/python3.8/site-packages/MDAnalysis/coordinates/TRJ.py:1209: DeprecationWarning: Please use `netcdf_file` from the `scipy.io` namespace, the `scipy.io.netcdf` namespace is deprecated.\n",
      "  class NCDFPicklable(scipy.io.netcdf.netcdf_file):\n"
     ]
    },
    {
     "data": {
      "text/plain": [
       "'/media/mario/T7/FINISHED/FINISHED2/hs90a/temp/clustering/RMSD_clustered.sdf'"
      ]
     },
     "metadata": {},
     "output_type": "display_data"
    },
    {
     "name": "stdout",
     "output_type": "stream",
     "text": [
      "\n",
      "[2023-Mar-29 09:03:29]: Rescoring with Vinardo\n",
      "\n",
      "[2023-Mar-29 09:03:50]: Rescoring with Vinardo complete in 21.0882!\n",
      "\n",
      "[2023-Mar-29 09:03:50]: Combining all score for /media/mario/T7/FINISHED/FINISHED2/hs90a/temp/rescoring_RMSD_clustered\n"
     ]
    },
    {
     "name": "stderr",
     "output_type": "stream",
     "text": [
      "Combining scores: 100%|██████████| 7/7 [00:00<00:00, 102.52files/s]\n"
     ]
    },
    {
     "name": "stdout",
     "output_type": "stream",
     "text": [
      "\n",
      "[2023-Mar-29 09:03:50]: Rescoring complete in 21.5170!\n",
      "The folder: /media/mario/T7/FINISHED/FINISHED2/hs90a/temp/rescoring_spyRMSD_clustered already exists\n",
      "\n",
      "[2023-Mar-29 09:03:50]: /gnina_rescoring folder already exists, skipping gnina rescoring\n",
      "\n",
      "[2023-Mar-29 09:03:50]: /AD4_rescoring folder already exists, skipping AD4 rescoring\n",
      "\n",
      "[2023-Mar-29 09:03:50]: /chemplp_rescoring folder already exists, skipping chemplp rescoring\n",
      "\n",
      "[2023-Mar-29 09:03:50]: /rfscorevs_rescoring folder already exists, skipping rfscorevs rescoring\n",
      "\n",
      "[2023-Mar-29 09:03:50]: /LinF9_rescoring folder already exists, skipping LinF9 rescoring\n",
      "\n",
      "[2023-Mar-29 09:03:50]: /SCORCH_rescoring folder already exists, skipping SCORCH rescoring\n",
      "\n",
      "[2023-Mar-29 09:03:50]: /RTMScore_rescoring folder already exists, skipping RTMScore rescoring\n"
     ]
    },
    {
     "data": {
      "text/plain": [
       "'/media/mario/T7/FINISHED/FINISHED2/hs90a/temp/clustering/spyRMSD_clustered.sdf'"
      ]
     },
     "metadata": {},
     "output_type": "display_data"
    },
    {
     "name": "stdout",
     "output_type": "stream",
     "text": [
      "\n",
      "[2023-Mar-29 09:03:50]: Rescoring with Vinardo\n",
      "\n",
      "[2023-Mar-29 09:04:09]: Rescoring with Vinardo complete in 18.9760!\n",
      "\n",
      "[2023-Mar-29 09:04:09]: Combining all score for /media/mario/T7/FINISHED/FINISHED2/hs90a/temp/rescoring_spyRMSD_clustered\n"
     ]
    },
    {
     "name": "stderr",
     "output_type": "stream",
     "text": [
      "Combining scores: 100%|██████████| 7/7 [00:00<00:00, 215.42files/s]\n"
     ]
    },
    {
     "name": "stdout",
     "output_type": "stream",
     "text": [
      "\n",
      "[2023-Mar-29 09:04:10]: Rescoring complete in 19.3379!\n",
      "The folder: /media/mario/T7/FINISHED/FINISHED2/hs90a/temp/rescoring_espsim_clustered already exists\n",
      "\n",
      "[2023-Mar-29 09:04:10]: /gnina_rescoring folder already exists, skipping gnina rescoring\n",
      "\n",
      "[2023-Mar-29 09:04:10]: /AD4_rescoring folder already exists, skipping AD4 rescoring\n",
      "\n",
      "[2023-Mar-29 09:04:10]: /chemplp_rescoring folder already exists, skipping chemplp rescoring\n",
      "\n",
      "[2023-Mar-29 09:04:10]: /rfscorevs_rescoring folder already exists, skipping rfscorevs rescoring\n",
      "\n",
      "[2023-Mar-29 09:04:10]: /LinF9_rescoring folder already exists, skipping LinF9 rescoring\n",
      "\n",
      "[2023-Mar-29 09:04:10]: /SCORCH_rescoring folder already exists, skipping SCORCH rescoring\n",
      "\n",
      "[2023-Mar-29 09:04:10]: /RTMScore_rescoring folder already exists, skipping RTMScore rescoring\n"
     ]
    },
    {
     "data": {
      "text/plain": [
       "'/media/mario/T7/FINISHED/FINISHED2/hs90a/temp/clustering/espsim_clustered.sdf'"
      ]
     },
     "metadata": {},
     "output_type": "display_data"
    },
    {
     "name": "stdout",
     "output_type": "stream",
     "text": [
      "\n",
      "[2023-Mar-29 09:04:10]: Rescoring with Vinardo\n",
      "\n",
      "[2023-Mar-29 09:04:27]: Rescoring with Vinardo complete in 17.8121!\n",
      "\n",
      "[2023-Mar-29 09:04:27]: Combining all score for /media/mario/T7/FINISHED/FINISHED2/hs90a/temp/rescoring_espsim_clustered\n"
     ]
    },
    {
     "name": "stderr",
     "output_type": "stream",
     "text": [
      "Combining scores: 100%|██████████| 7/7 [00:00<00:00, 144.83files/s]\n"
     ]
    },
    {
     "name": "stdout",
     "output_type": "stream",
     "text": [
      "\n",
      "[2023-Mar-29 09:04:28]: Rescoring complete in 18.1744!\n",
      "The folder: /media/mario/T7/FINISHED/FINISHED2/hs90a/temp/rescoring_3DScore_clustered already exists\n",
      "\n",
      "[2023-Mar-29 09:04:28]: /gnina_rescoring folder already exists, skipping gnina rescoring\n",
      "\n",
      "[2023-Mar-29 09:04:28]: /AD4_rescoring folder already exists, skipping AD4 rescoring\n",
      "\n",
      "[2023-Mar-29 09:04:28]: /chemplp_rescoring folder already exists, skipping chemplp rescoring\n",
      "\n",
      "[2023-Mar-29 09:04:28]: /rfscorevs_rescoring folder already exists, skipping rfscorevs rescoring\n",
      "\n",
      "[2023-Mar-29 09:04:28]: /LinF9_rescoring folder already exists, skipping LinF9 rescoring\n",
      "\n",
      "[2023-Mar-29 09:04:28]: /SCORCH_rescoring folder already exists, skipping SCORCH rescoring\n",
      "\n",
      "[2023-Mar-29 09:04:28]: /RTMScore_rescoring folder already exists, skipping RTMScore rescoring\n"
     ]
    },
    {
     "data": {
      "text/plain": [
       "'/media/mario/T7/FINISHED/FINISHED2/hs90a/temp/clustering/3DScore_clustered.sdf'"
      ]
     },
     "metadata": {},
     "output_type": "display_data"
    },
    {
     "name": "stdout",
     "output_type": "stream",
     "text": [
      "\n",
      "[2023-Mar-29 09:04:28]: Rescoring with Vinardo\n",
      "\n",
      "[2023-Mar-29 09:04:37]: Rescoring with Vinardo complete in 8.8395!\n",
      "\n",
      "[2023-Mar-29 09:04:37]: Combining all score for /media/mario/T7/FINISHED/FINISHED2/hs90a/temp/rescoring_3DScore_clustered\n"
     ]
    },
    {
     "name": "stderr",
     "output_type": "stream",
     "text": [
      "Combining scores: 100%|██████████| 7/7 [00:00<00:00, 226.25files/s]"
     ]
    },
    {
     "name": "stdout",
     "output_type": "stream",
     "text": [
      "\n",
      "[2023-Mar-29 09:04:37]: Rescoring complete in 9.0416!\n",
      "The folder: /media/mario/T7/FINISHED/FINISHED2/hs90a/temp/rescoring_bestpose_clustered already exists\n",
      "\n",
      "[2023-Mar-29 09:04:37]: /gnina_rescoring folder already exists, skipping gnina rescoring\n",
      "\n",
      "[2023-Mar-29 09:04:37]: /AD4_rescoring folder already exists, skipping AD4 rescoring\n",
      "\n",
      "[2023-Mar-29 09:04:37]: /chemplp_rescoring folder already exists, skipping chemplp rescoring\n",
      "\n",
      "[2023-Mar-29 09:04:37]: /rfscorevs_rescoring folder already exists, skipping rfscorevs rescoring\n",
      "\n",
      "[2023-Mar-29 09:04:37]: /LinF9_rescoring folder already exists, skipping LinF9 rescoring\n",
      "\n",
      "[2023-Mar-29 09:04:37]: /SCORCH_rescoring folder already exists, skipping SCORCH rescoring\n",
      "\n",
      "[2023-Mar-29 09:04:37]: /RTMScore_rescoring folder already exists, skipping RTMScore rescoring\n"
     ]
    },
    {
     "name": "stderr",
     "output_type": "stream",
     "text": [
      "\n"
     ]
    },
    {
     "data": {
      "text/plain": [
       "'/media/mario/T7/FINISHED/FINISHED2/hs90a/temp/clustering/bestpose_clustered.sdf'"
      ]
     },
     "metadata": {},
     "output_type": "display_data"
    },
    {
     "name": "stdout",
     "output_type": "stream",
     "text": [
      "\n",
      "[2023-Mar-29 09:04:37]: Rescoring with Vinardo\n",
      "\n",
      "[2023-Mar-29 09:04:57]: Rescoring with Vinardo complete in 20.6279!\n",
      "\n",
      "[2023-Mar-29 09:04:57]: Combining all score for /media/mario/T7/FINISHED/FINISHED2/hs90a/temp/rescoring_bestpose_clustered\n"
     ]
    },
    {
     "name": "stderr",
     "output_type": "stream",
     "text": [
      "Combining scores: 100%|██████████| 7/7 [00:00<00:00, 210.05files/s]"
     ]
    },
    {
     "name": "stdout",
     "output_type": "stream",
     "text": [
      "\n",
      "[2023-Mar-29 09:04:58]: Rescoring complete in 20.9204!\n",
      "The folder: /media/mario/T7/FINISHED/FINISHED2/hs90a/temp/rescoring_bestpose_GNINA_clustered already exists\n",
      "\n",
      "[2023-Mar-29 09:04:58]: /gnina_rescoring folder already exists, skipping gnina rescoring\n",
      "\n",
      "[2023-Mar-29 09:04:58]: /AD4_rescoring folder already exists, skipping AD4 rescoring\n",
      "\n",
      "[2023-Mar-29 09:04:58]: /chemplp_rescoring folder already exists, skipping chemplp rescoring\n",
      "\n",
      "[2023-Mar-29 09:04:58]: /rfscorevs_rescoring folder already exists, skipping rfscorevs rescoring\n",
      "\n",
      "[2023-Mar-29 09:04:58]: /LinF9_rescoring folder already exists, skipping LinF9 rescoring\n",
      "\n",
      "[2023-Mar-29 09:04:58]: /SCORCH_rescoring folder already exists, skipping SCORCH rescoring\n",
      "\n",
      "[2023-Mar-29 09:04:58]: /RTMScore_rescoring folder already exists, skipping RTMScore rescoring\n"
     ]
    },
    {
     "name": "stderr",
     "output_type": "stream",
     "text": [
      "\n"
     ]
    },
    {
     "data": {
      "text/plain": [
       "'/media/mario/T7/FINISHED/FINISHED2/hs90a/temp/clustering/bestpose_GNINA_clustered.sdf'"
      ]
     },
     "metadata": {},
     "output_type": "display_data"
    },
    {
     "name": "stdout",
     "output_type": "stream",
     "text": [
      "\n",
      "[2023-Mar-29 09:04:58]: Rescoring with Vinardo\n",
      "\n",
      "[2023-Mar-29 09:05:06]: Rescoring with Vinardo complete in 7.9165!\n",
      "\n",
      "[2023-Mar-29 09:05:06]: Combining all score for /media/mario/T7/FINISHED/FINISHED2/hs90a/temp/rescoring_bestpose_GNINA_clustered\n"
     ]
    },
    {
     "name": "stderr",
     "output_type": "stream",
     "text": [
      "Combining scores: 100%|██████████| 7/7 [00:00<00:00, 311.25files/s]"
     ]
    },
    {
     "name": "stdout",
     "output_type": "stream",
     "text": [
      "\n",
      "[2023-Mar-29 09:05:06]: Rescoring complete in 8.0923!\n",
      "The folder: /media/mario/T7/FINISHED/FINISHED2/hs90a/temp/rescoring_bestpose_SMINA_clustered already exists\n",
      "\n",
      "[2023-Mar-29 09:05:06]: /gnina_rescoring folder already exists, skipping gnina rescoring\n",
      "\n",
      "[2023-Mar-29 09:05:06]: /AD4_rescoring folder already exists, skipping AD4 rescoring\n",
      "\n",
      "[2023-Mar-29 09:05:06]: /chemplp_rescoring folder already exists, skipping chemplp rescoring\n",
      "\n",
      "[2023-Mar-29 09:05:06]: /rfscorevs_rescoring folder already exists, skipping rfscorevs rescoring\n",
      "\n",
      "[2023-Mar-29 09:05:06]: /LinF9_rescoring folder already exists, skipping LinF9 rescoring\n",
      "\n",
      "[2023-Mar-29 09:05:06]: /SCORCH_rescoring folder already exists, skipping SCORCH rescoring\n",
      "\n",
      "[2023-Mar-29 09:05:06]: /RTMScore_rescoring folder already exists, skipping RTMScore rescoring\n"
     ]
    },
    {
     "name": "stderr",
     "output_type": "stream",
     "text": [
      "\n"
     ]
    },
    {
     "data": {
      "text/plain": [
       "'/media/mario/T7/FINISHED/FINISHED2/hs90a/temp/clustering/bestpose_SMINA_clustered.sdf'"
      ]
     },
     "metadata": {},
     "output_type": "display_data"
    },
    {
     "name": "stdout",
     "output_type": "stream",
     "text": [
      "\n",
      "[2023-Mar-29 09:05:06]: Rescoring with Vinardo\n",
      "\n",
      "[2023-Mar-29 09:05:16]: Rescoring with Vinardo complete in 9.7620!\n",
      "\n",
      "[2023-Mar-29 09:05:16]: Combining all score for /media/mario/T7/FINISHED/FINISHED2/hs90a/temp/rescoring_bestpose_SMINA_clustered\n"
     ]
    },
    {
     "name": "stderr",
     "output_type": "stream",
     "text": [
      "Combining scores: 100%|██████████| 7/7 [00:00<00:00, 292.96files/s]"
     ]
    },
    {
     "name": "stdout",
     "output_type": "stream",
     "text": [
      "\n",
      "[2023-Mar-29 09:05:16]: Rescoring complete in 9.9360!\n",
      "The folder: /media/mario/T7/FINISHED/FINISHED2/hs90a/temp/rescoring_bestpose_PLANTS_clustered already exists\n",
      "\n",
      "[2023-Mar-29 09:05:16]: /gnina_rescoring folder already exists, skipping gnina rescoring\n",
      "\n",
      "[2023-Mar-29 09:05:16]: /AD4_rescoring folder already exists, skipping AD4 rescoring\n",
      "\n",
      "[2023-Mar-29 09:05:16]: /chemplp_rescoring folder already exists, skipping chemplp rescoring\n",
      "\n",
      "[2023-Mar-29 09:05:16]: /rfscorevs_rescoring folder already exists, skipping rfscorevs rescoring\n",
      "\n",
      "[2023-Mar-29 09:05:16]: /LinF9_rescoring folder already exists, skipping LinF9 rescoring\n",
      "\n",
      "[2023-Mar-29 09:05:16]: /SCORCH_rescoring folder already exists, skipping SCORCH rescoring\n",
      "\n",
      "[2023-Mar-29 09:05:16]: /RTMScore_rescoring folder already exists, skipping RTMScore rescoring\n"
     ]
    },
    {
     "name": "stderr",
     "output_type": "stream",
     "text": [
      "\n"
     ]
    },
    {
     "data": {
      "text/plain": [
       "'/media/mario/T7/FINISHED/FINISHED2/hs90a/temp/clustering/bestpose_PLANTS_clustered.sdf'"
      ]
     },
     "metadata": {},
     "output_type": "display_data"
    },
    {
     "name": "stdout",
     "output_type": "stream",
     "text": [
      "\n",
      "[2023-Mar-29 09:05:16]: Rescoring with Vinardo\n",
      "\n",
      "[2023-Mar-29 09:05:23]: Rescoring with Vinardo complete in 7.2283!\n",
      "\n",
      "[2023-Mar-29 09:05:23]: Combining all score for /media/mario/T7/FINISHED/FINISHED2/hs90a/temp/rescoring_bestpose_PLANTS_clustered\n"
     ]
    },
    {
     "name": "stderr",
     "output_type": "stream",
     "text": [
      "Combining scores: 100%|██████████| 7/7 [00:00<00:00, 273.05files/s]"
     ]
    },
    {
     "name": "stdout",
     "output_type": "stream",
     "text": [
      "\n",
      "[2023-Mar-29 09:05:23]: Rescoring complete in 7.3989!\n",
      "\n",
      "[2023-Mar-29 09:05:23]: Failed for hs90a\n",
      "hxk4\n",
      "The working directory has been set to: /media/mario/T7/FINISHED/FINISHED2/hxk4\n",
      "The folder: /media/mario/T7/FINISHED/FINISHED2/hxk4/temp already exists\n",
      "The folder: /media/mario/T7/FINISHED/FINISHED2/hxk4/temp/rescoring_RMSD_clustered already exists\n",
      "\n",
      "[2023-Mar-29 09:05:23]: /gnina_rescoring folder already exists, skipping gnina rescoring\n",
      "\n",
      "[2023-Mar-29 09:05:23]: /AD4_rescoring folder already exists, skipping AD4 rescoring\n",
      "\n",
      "[2023-Mar-29 09:05:23]: /chemplp_rescoring folder already exists, skipping chemplp rescoring\n",
      "\n",
      "[2023-Mar-29 09:05:23]: /rfscorevs_rescoring folder already exists, skipping rfscorevs rescoring\n",
      "\n",
      "[2023-Mar-29 09:05:23]: /LinF9_rescoring folder already exists, skipping LinF9 rescoring\n",
      "\n",
      "[2023-Mar-29 09:05:23]: /SCORCH_rescoring folder already exists, skipping SCORCH rescoring\n",
      "The folder: /media/mario/T7/FINISHED/FINISHED2/hxk4/temp/rescoring_RMSD_clustered/RTMScore_rescoring/ was created\n",
      "\n",
      "[2023-Mar-29 09:05:23]: Rescoring with RTMScore\n"
     ]
    },
    {
     "name": "stderr",
     "output_type": "stream",
     "text": [
      "\n"
     ]
    },
    {
     "name": "stdout",
     "output_type": "stream",
     "text": [
      "\n",
      "[2023-Mar-29 09:38:29]: Rescoring with RTMScore complete in 1986.3139!\n"
     ]
    },
    {
     "data": {
      "text/plain": [
       "'/media/mario/T7/FINISHED/FINISHED2/hxk4/temp/clustering/RMSD_clustered.sdf'"
      ]
     },
     "metadata": {},
     "output_type": "display_data"
    },
    {
     "name": "stdout",
     "output_type": "stream",
     "text": [
      "\n",
      "[2023-Mar-29 09:38:29]: Rescoring with Vinardo\n",
      "\n",
      "[2023-Mar-29 09:38:52]: Rescoring with Vinardo complete in 23.0109!\n",
      "\n",
      "[2023-Mar-29 09:38:52]: Combining all score for /media/mario/T7/FINISHED/FINISHED2/hxk4/temp/rescoring_RMSD_clustered\n"
     ]
    },
    {
     "name": "stderr",
     "output_type": "stream",
     "text": [
      "Combining scores: 100%|██████████| 6/6 [00:00<00:00, 106.96files/s]\n"
     ]
    },
    {
     "name": "stdout",
     "output_type": "stream",
     "text": [
      "\n",
      "[2023-Mar-29 09:38:53]: Rescoring complete in 2009.7046!\n",
      "The folder: /media/mario/T7/FINISHED/FINISHED2/hxk4/temp/rescoring_spyRMSD_clustered already exists\n",
      "\n",
      "[2023-Mar-29 09:38:53]: /gnina_rescoring folder already exists, skipping gnina rescoring\n",
      "\n",
      "[2023-Mar-29 09:38:53]: /AD4_rescoring folder already exists, skipping AD4 rescoring\n",
      "\n",
      "[2023-Mar-29 09:38:53]: /chemplp_rescoring folder already exists, skipping chemplp rescoring\n",
      "\n",
      "[2023-Mar-29 09:38:53]: /rfscorevs_rescoring folder already exists, skipping rfscorevs rescoring\n",
      "\n",
      "[2023-Mar-29 09:38:53]: /LinF9_rescoring folder already exists, skipping LinF9 rescoring\n",
      "The folder: /media/mario/T7/FINISHED/FINISHED2/hxk4/temp/rescoring_spyRMSD_clustered/SCORCH_rescoring/ was created\n",
      "\n",
      "[2023-Mar-29 09:38:53]: Converting protein file to .pdbqt ...\n",
      "\n",
      "[2023-Mar-29 09:39:12]: Converting SDF file spyRMSD_clustered.sdf to .pdbqt files...\n",
      "Converted 14212 molecules.\n",
      "\n",
      "[2023-Mar-29 09:39:46]: Rescoring with SCORCH\n",
      "\n",
      "[2023-Mar-29 09:51:32]: Rescoring with SCORCH complete in 759.3538!\n",
      "The folder: /media/mario/T7/FINISHED/FINISHED2/hxk4/temp/rescoring_spyRMSD_clustered/RTMScore_rescoring/ was created\n",
      "\n",
      "[2023-Mar-29 09:51:32]: Rescoring with RTMScore\n",
      "\n",
      "[2023-Mar-29 10:04:59]: Rescoring with RTMScore complete in 806.8674!\n"
     ]
    },
    {
     "data": {
      "text/plain": [
       "'/media/mario/T7/FINISHED/FINISHED2/hxk4/temp/clustering/spyRMSD_clustered.sdf'"
      ]
     },
     "metadata": {},
     "output_type": "display_data"
    },
    {
     "name": "stdout",
     "output_type": "stream",
     "text": [
      "\n",
      "[2023-Mar-29 10:04:59]: Rescoring with Vinardo\n",
      "\n",
      "[2023-Mar-29 10:05:20]: Rescoring with Vinardo complete in 20.5848!\n",
      "\n",
      "[2023-Mar-29 10:05:20]: Combining all score for /media/mario/T7/FINISHED/FINISHED2/hxk4/temp/rescoring_spyRMSD_clustered\n"
     ]
    },
    {
     "name": "stderr",
     "output_type": "stream",
     "text": [
      "Combining scores: 100%|██████████| 7/7 [00:00<00:00, 242.12files/s]\n"
     ]
    },
    {
     "name": "stdout",
     "output_type": "stream",
     "text": [
      "\n",
      "[2023-Mar-29 10:05:20]: Rescoring complete in 1587.2241!\n",
      "The folder: /media/mario/T7/FINISHED/FINISHED2/hxk4/temp/rescoring_espsim_clustered already exists\n",
      "\n",
      "[2023-Mar-29 10:05:20]: /gnina_rescoring folder already exists, skipping gnina rescoring\n",
      "\n",
      "[2023-Mar-29 10:05:20]: /AD4_rescoring folder already exists, skipping AD4 rescoring\n",
      "\n",
      "[2023-Mar-29 10:05:20]: /chemplp_rescoring folder already exists, skipping chemplp rescoring\n",
      "\n",
      "[2023-Mar-29 10:05:20]: /rfscorevs_rescoring folder already exists, skipping rfscorevs rescoring\n",
      "\n",
      "[2023-Mar-29 10:05:20]: /LinF9_rescoring folder already exists, skipping LinF9 rescoring\n",
      "The folder: /media/mario/T7/FINISHED/FINISHED2/hxk4/temp/rescoring_espsim_clustered/SCORCH_rescoring/ was created\n",
      "\n",
      "[2023-Mar-29 10:05:20]: Converting protein file to .pdbqt ...\n",
      "\n",
      "[2023-Mar-29 10:05:37]: Converting SDF file espsim_clustered.sdf to .pdbqt files...\n",
      "Converted 11297 molecules.\n",
      "\n",
      "[2023-Mar-29 10:06:00]: Rescoring with SCORCH\n",
      "\n",
      "[2023-Mar-29 10:15:09]: Rescoring with SCORCH complete in 588.7847!\n",
      "The folder: /media/mario/T7/FINISHED/FINISHED2/hxk4/temp/rescoring_espsim_clustered/RTMScore_rescoring/ was created\n",
      "\n",
      "[2023-Mar-29 10:15:09]: Rescoring with RTMScore\n",
      "\n",
      "[2023-Mar-29 10:26:01]: Rescoring with RTMScore complete in 651.7411!\n"
     ]
    },
    {
     "data": {
      "text/plain": [
       "'/media/mario/T7/FINISHED/FINISHED2/hxk4/temp/clustering/espsim_clustered.sdf'"
      ]
     },
     "metadata": {},
     "output_type": "display_data"
    },
    {
     "name": "stdout",
     "output_type": "stream",
     "text": [
      "\n",
      "[2023-Mar-29 10:26:01]: Rescoring with Vinardo\n",
      "\n",
      "[2023-Mar-29 10:26:18]: Rescoring with Vinardo complete in 16.9585!\n",
      "\n",
      "[2023-Mar-29 10:26:18]: Combining all score for /media/mario/T7/FINISHED/FINISHED2/hxk4/temp/rescoring_espsim_clustered\n"
     ]
    },
    {
     "name": "stderr",
     "output_type": "stream",
     "text": [
      "Combining scores: 100%|██████████| 7/7 [00:00<00:00, 187.45files/s]\n"
     ]
    },
    {
     "name": "stdout",
     "output_type": "stream",
     "text": [
      "\n",
      "[2023-Mar-29 10:26:18]: Rescoring complete in 1257.7789!\n",
      "The folder: /media/mario/T7/FINISHED/FINISHED2/hxk4/temp/rescoring_3DScore_clustered already exists\n",
      "\n",
      "[2023-Mar-29 10:26:18]: /gnina_rescoring folder already exists, skipping gnina rescoring\n",
      "\n",
      "[2023-Mar-29 10:26:18]: /AD4_rescoring folder already exists, skipping AD4 rescoring\n",
      "\n",
      "[2023-Mar-29 10:26:18]: /chemplp_rescoring folder already exists, skipping chemplp rescoring\n",
      "\n",
      "[2023-Mar-29 10:26:18]: /rfscorevs_rescoring folder already exists, skipping rfscorevs rescoring\n",
      "\n",
      "[2023-Mar-29 10:26:18]: /LinF9_rescoring folder already exists, skipping LinF9 rescoring\n",
      "The folder: /media/mario/T7/FINISHED/FINISHED2/hxk4/temp/rescoring_3DScore_clustered/SCORCH_rescoring/ was created\n",
      "\n",
      "[2023-Mar-29 10:26:18]: Converting protein file to .pdbqt ...\n",
      "\n",
      "[2023-Mar-29 10:26:35]: Converting SDF file 3DScore_clustered.sdf to .pdbqt files...\n",
      "Converted 4784 molecules.\n",
      "\n",
      "[2023-Mar-29 10:26:45]: Rescoring with SCORCH\n",
      "\n",
      "[2023-Mar-29 10:30:35]: Rescoring with SCORCH complete in 257.1384!\n",
      "The folder: /media/mario/T7/FINISHED/FINISHED2/hxk4/temp/rescoring_3DScore_clustered/RTMScore_rescoring/ was created\n",
      "\n",
      "[2023-Mar-29 10:30:35]: Rescoring with RTMScore\n",
      "\n",
      "[2023-Mar-29 10:35:15]: Rescoring with RTMScore complete in 280.4003!\n"
     ]
    },
    {
     "data": {
      "text/plain": [
       "'/media/mario/T7/FINISHED/FINISHED2/hxk4/temp/clustering/3DScore_clustered.sdf'"
      ]
     },
     "metadata": {},
     "output_type": "display_data"
    },
    {
     "name": "stdout",
     "output_type": "stream",
     "text": [
      "\n",
      "[2023-Mar-29 10:35:15]: Rescoring with Vinardo\n",
      "\n",
      "[2023-Mar-29 10:35:24]: Rescoring with Vinardo complete in 8.6809!\n",
      "\n",
      "[2023-Mar-29 10:35:24]: Combining all score for /media/mario/T7/FINISHED/FINISHED2/hxk4/temp/rescoring_3DScore_clustered\n"
     ]
    },
    {
     "name": "stderr",
     "output_type": "stream",
     "text": [
      "Combining scores: 100%|██████████| 7/7 [00:00<00:00, 582.65files/s]"
     ]
    },
    {
     "name": "stdout",
     "output_type": "stream",
     "text": [
      "\n",
      "[2023-Mar-29 10:35:24]: Rescoring complete in 546.3635!\n",
      "The folder: /media/mario/T7/FINISHED/FINISHED2/hxk4/temp/rescoring_bestpose_clustered already exists\n",
      "\n",
      "[2023-Mar-29 10:35:24]: /gnina_rescoring folder already exists, skipping gnina rescoring\n",
      "\n",
      "[2023-Mar-29 10:35:24]: /AD4_rescoring folder already exists, skipping AD4 rescoring\n",
      "\n",
      "[2023-Mar-29 10:35:24]: /chemplp_rescoring folder already exists, skipping chemplp rescoring\n",
      "\n",
      "[2023-Mar-29 10:35:24]: /rfscorevs_rescoring folder already exists, skipping rfscorevs rescoring\n",
      "\n",
      "[2023-Mar-29 10:35:24]: /LinF9_rescoring folder already exists, skipping LinF9 rescoring\n",
      "The folder: /media/mario/T7/FINISHED/FINISHED2/hxk4/temp/rescoring_bestpose_clustered/SCORCH_rescoring/ was created\n",
      "\n",
      "[2023-Mar-29 10:35:24]: Converting protein file to .pdbqt ...\n"
     ]
    },
    {
     "name": "stderr",
     "output_type": "stream",
     "text": [
      "\n"
     ]
    },
    {
     "name": "stdout",
     "output_type": "stream",
     "text": [
      "\n",
      "[2023-Mar-29 10:35:42]: Converting SDF file bestpose_clustered.sdf to .pdbqt files...\n",
      "Converted 13880 molecules.\n",
      "\n",
      "[2023-Mar-29 10:36:09]: Rescoring with SCORCH\n",
      "\n",
      "[2023-Mar-29 10:47:03]: Rescoring with SCORCH complete in 699.2754!\n",
      "The folder: /media/mario/T7/FINISHED/FINISHED2/hxk4/temp/rescoring_bestpose_clustered/RTMScore_rescoring/ was created\n",
      "\n",
      "[2023-Mar-29 10:47:03]: Rescoring with RTMScore\n",
      "\n",
      "[2023-Mar-29 11:00:17]: Rescoring with RTMScore complete in 793.4928!\n"
     ]
    },
    {
     "data": {
      "text/plain": [
       "'/media/mario/T7/FINISHED/FINISHED2/hxk4/temp/clustering/bestpose_clustered.sdf'"
      ]
     },
     "metadata": {},
     "output_type": "display_data"
    },
    {
     "name": "stdout",
     "output_type": "stream",
     "text": [
      "\n",
      "[2023-Mar-29 11:00:17]: Rescoring with Vinardo\n",
      "\n",
      "[2023-Mar-29 11:00:40]: Rescoring with Vinardo complete in 22.5354!\n",
      "\n",
      "[2023-Mar-29 11:00:40]: Combining all score for /media/mario/T7/FINISHED/FINISHED2/hxk4/temp/rescoring_bestpose_clustered\n"
     ]
    },
    {
     "name": "stderr",
     "output_type": "stream",
     "text": [
      "Combining scores: 100%|██████████| 7/7 [00:00<00:00, 104.36files/s]\n"
     ]
    },
    {
     "name": "stdout",
     "output_type": "stream",
     "text": [
      "\n",
      "[2023-Mar-29 11:00:40]: Rescoring complete in 1515.7329!\n",
      "The folder: /media/mario/T7/FINISHED/FINISHED2/hxk4/temp/rescoring_bestpose_GNINA_clustered already exists\n",
      "\n",
      "[2023-Mar-29 11:00:40]: /gnina_rescoring folder already exists, skipping gnina rescoring\n",
      "\n",
      "[2023-Mar-29 11:00:40]: /AD4_rescoring folder already exists, skipping AD4 rescoring\n",
      "\n",
      "[2023-Mar-29 11:00:40]: /chemplp_rescoring folder already exists, skipping chemplp rescoring\n",
      "\n",
      "[2023-Mar-29 11:00:40]: /rfscorevs_rescoring folder already exists, skipping rfscorevs rescoring\n",
      "\n",
      "[2023-Mar-29 11:00:40]: /LinF9_rescoring folder already exists, skipping LinF9 rescoring\n",
      "The folder: /media/mario/T7/FINISHED/FINISHED2/hxk4/temp/rescoring_bestpose_GNINA_clustered/SCORCH_rescoring/ was created\n",
      "\n",
      "[2023-Mar-29 11:00:40]: Converting protein file to .pdbqt ...\n",
      "\n",
      "[2023-Mar-29 11:01:00]: Converting SDF file bestpose_GNINA_clustered.sdf to .pdbqt files...\n",
      "Converted 4771 molecules.\n",
      "\n",
      "[2023-Mar-29 11:01:12]: Rescoring with SCORCH\n",
      "\n",
      "[2023-Mar-29 11:07:53]: Rescoring with SCORCH complete in 433.3244!\n",
      "The folder: /media/mario/T7/FINISHED/FINISHED2/hxk4/temp/rescoring_bestpose_GNINA_clustered/RTMScore_rescoring/ was created\n",
      "\n",
      "[2023-Mar-29 11:07:53]: Rescoring with RTMScore\n",
      "\n",
      "[2023-Mar-29 11:19:00]: Rescoring with RTMScore complete in 666.8626!\n"
     ]
    },
    {
     "data": {
      "text/plain": [
       "'/media/mario/T7/FINISHED/FINISHED2/hxk4/temp/clustering/bestpose_GNINA_clustered.sdf'"
      ]
     },
     "metadata": {},
     "output_type": "display_data"
    },
    {
     "name": "stdout",
     "output_type": "stream",
     "text": [
      "\n",
      "[2023-Mar-29 11:19:00]: Rescoring with Vinardo\n",
      "\n",
      "[2023-Mar-29 11:19:11]: Rescoring with Vinardo complete in 10.5950!\n",
      "\n",
      "[2023-Mar-29 11:19:11]: Combining all score for /media/mario/T7/FINISHED/FINISHED2/hxk4/temp/rescoring_bestpose_GNINA_clustered\n"
     ]
    },
    {
     "name": "stderr",
     "output_type": "stream",
     "text": [
      "Combining scores: 100%|██████████| 7/7 [00:00<00:00, 281.14files/s]"
     ]
    },
    {
     "name": "stdout",
     "output_type": "stream",
     "text": [
      "\n",
      "[2023-Mar-29 11:19:11]: Rescoring complete in 1110.9406!\n",
      "The folder: /media/mario/T7/FINISHED/FINISHED2/hxk4/temp/rescoring_bestpose_SMINA_clustered already exists\n",
      "\n",
      "[2023-Mar-29 11:19:11]: /gnina_rescoring folder already exists, skipping gnina rescoring\n",
      "\n",
      "[2023-Mar-29 11:19:11]: /AD4_rescoring folder already exists, skipping AD4 rescoring\n",
      "\n",
      "[2023-Mar-29 11:19:11]: /chemplp_rescoring folder already exists, skipping chemplp rescoring\n",
      "\n",
      "[2023-Mar-29 11:19:11]: /rfscorevs_rescoring folder already exists, skipping rfscorevs rescoring\n",
      "\n",
      "[2023-Mar-29 11:19:11]: /LinF9_rescoring folder already exists, skipping LinF9 rescoring\n",
      "The folder: /media/mario/T7/FINISHED/FINISHED2/hxk4/temp/rescoring_bestpose_SMINA_clustered/SCORCH_rescoring/ was created\n",
      "\n",
      "[2023-Mar-29 11:19:11]: Converting protein file to .pdbqt ...\n"
     ]
    },
    {
     "name": "stderr",
     "output_type": "stream",
     "text": [
      "\n"
     ]
    },
    {
     "name": "stdout",
     "output_type": "stream",
     "text": [
      "\n",
      "[2023-Mar-29 11:19:32]: Converting SDF file bestpose_SMINA_clustered.sdf to .pdbqt files...\n",
      "Converted 4771 molecules.\n",
      "\n",
      "[2023-Mar-29 11:19:43]: Rescoring with SCORCH\n",
      "\n",
      "[2023-Mar-29 11:25:57]: Rescoring with SCORCH complete in 406.0708!\n",
      "The folder: /media/mario/T7/FINISHED/FINISHED2/hxk4/temp/rescoring_bestpose_SMINA_clustered/RTMScore_rescoring/ was created\n",
      "\n",
      "[2023-Mar-29 11:25:57]: Rescoring with RTMScore\n",
      "\n",
      "[2023-Mar-29 11:37:17]: Rescoring with RTMScore complete in 680.5173!\n"
     ]
    },
    {
     "data": {
      "text/plain": [
       "'/media/mario/T7/FINISHED/FINISHED2/hxk4/temp/clustering/bestpose_SMINA_clustered.sdf'"
      ]
     },
     "metadata": {},
     "output_type": "display_data"
    },
    {
     "name": "stdout",
     "output_type": "stream",
     "text": [
      "\n",
      "[2023-Mar-29 11:37:17]: Rescoring with Vinardo\n",
      "\n",
      "[2023-Mar-29 11:37:27]: Rescoring with Vinardo complete in 9.9601!\n",
      "\n",
      "[2023-Mar-29 11:37:27]: Combining all score for /media/mario/T7/FINISHED/FINISHED2/hxk4/temp/rescoring_bestpose_SMINA_clustered\n"
     ]
    },
    {
     "name": "stderr",
     "output_type": "stream",
     "text": [
      "Combining scores: 100%|██████████| 7/7 [00:00<00:00, 238.86files/s]"
     ]
    },
    {
     "name": "stdout",
     "output_type": "stream",
     "text": [
      "\n",
      "[2023-Mar-29 11:37:28]: Rescoring complete in 1096.7263!\n",
      "The folder: /media/mario/T7/FINISHED/FINISHED2/hxk4/temp/rescoring_bestpose_PLANTS_clustered already exists\n",
      "\n",
      "[2023-Mar-29 11:37:28]: /gnina_rescoring folder already exists, skipping gnina rescoring\n",
      "\n",
      "[2023-Mar-29 11:37:28]: /AD4_rescoring folder already exists, skipping AD4 rescoring\n",
      "\n",
      "[2023-Mar-29 11:37:28]: /chemplp_rescoring folder already exists, skipping chemplp rescoring\n",
      "\n",
      "[2023-Mar-29 11:37:28]: /rfscorevs_rescoring folder already exists, skipping rfscorevs rescoring\n",
      "\n",
      "[2023-Mar-29 11:37:28]: /LinF9_rescoring folder already exists, skipping LinF9 rescoring\n",
      "The folder: /media/mario/T7/FINISHED/FINISHED2/hxk4/temp/rescoring_bestpose_PLANTS_clustered/SCORCH_rescoring/ was created\n",
      "\n",
      "[2023-Mar-29 11:37:28]: Converting protein file to .pdbqt ...\n"
     ]
    },
    {
     "name": "stderr",
     "output_type": "stream",
     "text": [
      "\n"
     ]
    },
    {
     "name": "stdout",
     "output_type": "stream",
     "text": [
      "\n",
      "[2023-Mar-29 11:37:48]: Converting SDF file bestpose_PLANTS_clustered.sdf to .pdbqt files...\n",
      "Converted 4338 molecules.\n",
      "\n",
      "[2023-Mar-29 11:37:58]: Rescoring with SCORCH\n"
     ]
    }
   ],
   "source": [
    "import os\n",
    "from scripts.library_preparation import *\n",
    "from scripts.utilities import *\n",
    "from scripts.docking_functions import *\n",
    "from scripts.clustering_functions import *\n",
    "from scripts.rescoring_functions import *\n",
    "from scripts.ranking_functions import *\n",
    "from scripts.performance_calculation import *\n",
    "from scripts.dogsitescorer import *\n",
    "from scripts.get_pocket import *\n",
    "\n",
    "for dir in os.listdir('/media/mario/T7/FINISHED/FINISHED2/'):\n",
    "    print(dir)\n",
    "    software = '/home/mario/DockM8/software'\n",
    "    protein_file = f'/media/mario/T7/FINISHED/FINISHED2/{dir}/receptor_protoss_prepared.pdb'\n",
    "    ref_file = f'/media/mario/T7/FINISHED/FINISHED2/{dir}/crystal_ligand_protoss.sdf'\n",
    "    pocket = 'reference'\n",
    "    protonation = 'pkasolver'\n",
    "    docking_library = f'/media/mario/T7/FINISHED/FINISHED2/{dir}/merged_actives_decoys.sdf'\n",
    "    docking_programs = ['GNINA', 'SMINA', 'PLANTS']\n",
    "    clustering_metrics = ['RMSD', 'spyRMSD', 'espsim', '3DScore', 'bestpose', 'bestpose_GNINA', 'bestpose_SMINA', 'bestpose_PLANTS']\n",
    "    clustering_method = 'KMedoids'\n",
    "    rescoring= ['gnina', 'AD4', 'chemplp', 'rfscorevs', 'LinF9', 'SCORCH', 'RTMScore', 'vinardo']\n",
    "    id_column = 'ID'\n",
    "    n_poses = 10\n",
    "    exhaustiveness = 8\n",
    "    parallel = 1\n",
    "    ncpus = int(os.cpu_count()/2)\n",
    "    #Create a temporary folder for all further calculations\n",
    "    w_dir = os.path.dirname(protein_file)\n",
    "    print('The working directory has been set to:', w_dir)\n",
    "    create_temp_folder(w_dir+'/temp')\n",
    "    \n",
    "    try:   \n",
    "        for metric in clustering_metrics:\n",
    "            rescore_all(w_dir, protein_file, ref_file, software, w_dir+f'/temp/clustering/{metric}_clustered.sdf', rescoring, parallel, ncpus)\n",
    "            \n",
    "        apply_consensus_methods_combinations(w_dir, clustering_metrics)       \n",
    "    except:\n",
    "        printlog(f'Failed for {dir}')\n"
   ]
  }
 ],
 "metadata": {
  "kernelspec": {
   "display_name": "Python 3.8.13 ('wocondock')",
   "language": "python",
   "name": "python3"
  },
  "language_info": {
   "codemirror_mode": {
    "name": "ipython",
    "version": 3
   },
   "file_extension": ".py",
   "mimetype": "text/x-python",
   "name": "python",
   "nbconvert_exporter": "python",
   "pygments_lexer": "ipython3",
   "version": "3.8.15"
  },
  "orig_nbformat": 4,
  "vscode": {
   "interpreter": {
    "hash": "ac9acbc93af693fb4e01b586b9d883cf48eab2850c268069ebbf85c5f9fbe2b9"
   }
  }
 },
 "nbformat": 4,
 "nbformat_minor": 2
}
