{
 "cells": [
  {
   "cell_type": "markdown",
   "metadata": {},
   "source": [
    "**Import required libraries and scripts**"
   ]
  },
  {
   "cell_type": "code",
   "execution_count": 12,
   "metadata": {},
   "outputs": [
    {
     "name": "stdout",
     "output_type": "stream",
     "text": [
      "The working directory has been set to: /home/tony/CADD22/wocondock_performance_ace_test\n",
      "The folder: /home/tony/CADD22/wocondock_performance_ace_test/temp already exists\n"
     ]
    }
   ],
   "source": [
    "#Import required libraries and scripts\n",
    "from scripts.library_preparation import *\n",
    "from scripts.utilities import *\n",
    "from scripts.docking_functions import *\n",
    "from scripts.clustering_functions import *\n",
    "from scripts.rescoring_functions import *\n",
    "from scripts.ranking_functions import *\n",
    "from scripts.performance_calculation import *\n",
    "import numpy as np\n",
    "import os\n",
    "\n",
    "software = '/home/tony/CADD22/software'\n",
    "protein_file = '/home/tony/CADD22/wocondock_performance_ace_test/receptor_protoss_prepared.pdb'\n",
    "ref_file = '/home/tony/CADD22/wocondock_performance_ace_test/crystal_ligand_protoss.sdf'\n",
    "docking_library = '/home/tony/CADD22/wocondock_performance_ace_test/merged_actives_decoys.sdf'\n",
    "docking_programs = ['GNINA', 'SMINA', 'PLANTS']\n",
    "clustering_metrics = ['RMSD', 'spyRMSD', 'espsim', '3DScore', 'bestpose', 'bestpose_GNINA']\n",
    "rescoring_functions = ['gnina', 'AD4', 'chemplp', 'rfscorevs']\n",
    "id_column = 'ID'\n",
    "n_poses = 10\n",
    "exhaustiveness = 4\n",
    "\n",
    "#Initialise variables and create a temporary folder\n",
    "w_dir = os.path.dirname(protein_file)\n",
    "print('The working directory has been set to:', w_dir)\n",
    "create_temp_folder(w_dir+'/temp')"
   ]
  },
  {
   "cell_type": "code",
   "execution_count": null,
   "metadata": {},
   "outputs": [],
   "source": [
    "pocket_definition = binding_site_coordinates_dogsitescorer(protein_file, w_dir, method='volume')"
   ]
  },
  {
   "cell_type": "code",
   "execution_count": null,
   "metadata": {},
   "outputs": [],
   "source": [
    "cleaned_pkasolver_df = prepare_library(docking_library, id_column, software, 'pkasolver')"
   ]
  },
  {
   "cell_type": "code",
   "execution_count": null,
   "metadata": {},
   "outputs": [],
   "source": [
    "all_poses = docking(protein_file, ref_file, software, docking_programs, exhaustiveness, n_poses)"
   ]
  },
  {
   "cell_type": "code",
   "execution_count": null,
   "metadata": {},
   "outputs": [],
   "source": [
    "docking_splitted(w_dir, protein_file, ref_file, software, docking_programs, exhaustiveness, n_poses)"
   ]
  },
  {
   "cell_type": "code",
   "execution_count": null,
   "metadata": {},
   "outputs": [],
   "source": [
    "docking_splitted_futures(w_dir, protein_file, ref_file, software, docking_programs, exhaustiveness, n_poses)"
   ]
  },
  {
   "cell_type": "code",
   "execution_count": null,
   "metadata": {},
   "outputs": [],
   "source": [
    "fetch_poses_splitted(w_dir, n_poses, split_files_folder=w_dir+'/temp/split_final_library')"
   ]
  },
  {
   "cell_type": "code",
   "execution_count": 8,
   "metadata": {},
   "outputs": [
    {
     "name": "stdout",
     "output_type": "stream",
     "text": [
      "Loading all poses SDF file...\n",
      "Finished loading all poses SDF in 0.7534!...\n"
     ]
    }
   ],
   "source": [
    "print('Loading all poses SDF file...')\n",
    "tic = time.perf_counter()\n",
    "all_poses = PandasTools.LoadSDF(w_dir+'/temp/allposes.sdf', idName='Pose ID', molColName='Molecule', includeFingerprints=False, strictParsing=True)\n",
    "toc = time.perf_counter()\n",
    "print(f'Finished loading all poses SDF in {toc-tic:0.4f}!...')"
   ]
  },
  {
   "cell_type": "code",
   "execution_count": 10,
   "metadata": {},
   "outputs": [
    {
     "name": "stdout",
     "output_type": "stream",
     "text": [
      "The folder: /home/tony/CADD22/wocondock_performance_ace_test/temp/clustering/ already exists\n",
      "Clustering using RMSD already done, moving to next metric...\n",
      "The folder: /home/tony/CADD22/wocondock_performance_ace_test/temp/clustering/ already exists\n",
      "Clustering using spyRMSD already done, moving to next metric...\n",
      "The folder: /home/tony/CADD22/wocondock_performance_ace_test/temp/clustering/ already exists\n",
      "Clustering using espsim already done, moving to next metric...\n",
      "The folder: /home/tony/CADD22/wocondock_performance_ace_test/temp/clustering/ already exists\n",
      "Clustering using 3DScore already done, moving to next metric...\n",
      "The folder: /home/tony/CADD22/wocondock_performance_ace_test/temp/clustering/ already exists\n",
      "Clustering using bestpose already done, moving to next metric...\n",
      "The folder: /home/tony/CADD22/wocondock_performance_ace_test/temp/clustering/ already exists\n",
      "Clustering using bestpose_GNINA already done, moving to next metric...\n",
      "The folder: /home/tony/CADD22/wocondock_performance_ace_test/temp/clustering/ already exists\n",
      "*Calculating bestpose_SMINA metrics and clustering*\n",
      "The folder: /home/tony/CADD22/wocondock_performance_ace_test/temp/clustering/ already exists\n",
      "Clustering using bestpose_PLANTS already done, moving to next metric...\n"
     ]
    }
   ],
   "source": [
    "for metric in clustering_metrics:\n",
    "    cluster_futures(f'{metric}', 'KMedoids', w_dir, protein_file, all_poses)"
   ]
  },
  {
   "cell_type": "markdown",
   "metadata": {},
   "source": [
    "**Rescoring**\n",
    "\n",
    "The file containing all the cluster centers is then rescored using all scoring functions available (GNINA, Vina, AutoDock4, PLP, CHEMPLP, RF-Score-VS). The rescored output is return as a dataframe."
   ]
  },
  {
   "cell_type": "code",
   "execution_count": 7,
   "metadata": {},
   "outputs": [
    {
     "name": "stdout",
     "output_type": "stream",
     "text": [
      "The folder: /home/tony/CADD22/wocondock_performance_ace_test/temp/rescoring_RMSD_clustered was created\n",
      "The folder: /home/tony/CADD22/wocondock_performance_ace_test/temp/rescoring_RMSD_clustered/gnina_rescoring/ was created\n",
      "Splitting RMSD_clustered.sdf...\n",
      "Rescoring with GNINA\n",
      "Splitting SDF file RMSD_clustered.sdf ...\n",
      "The folder: /home/tony/CADD22/wocondock_performance_ace_test/temp/rescoring_RMSD_clustered/gnina_rescoring/split_RMSD_clustered was created\n",
      "Split docking library into 6 files each containing 41 compounds\n"
     ]
    },
    {
     "name": "stderr",
     "output_type": "stream",
     "text": [
      "100%|██████████| 6/6 [00:00<00:00, 137.39it/s]\n",
      "100%|██████████| 6/6 [01:21<00:00, 13.56s/it]\n"
     ]
    },
    {
     "name": "stdout",
     "output_type": "stream",
     "text": [
      "Rescoring with GNINA complete in 82.2731!\n",
      "Rescoring with AD4\n",
      "The folder: /home/tony/CADD22/wocondock_performance_ace_test/temp/rescoring_RMSD_clustered/AD4_rescoring/ was created\n",
      "Rescoring with AD4 complete in 1.7405!\n",
      "Rescoring with CHEMPLP\n",
      "The folder: /home/tony/CADD22/wocondock_performance_ace_test/temp/rescoring_RMSD_clustered/chemplp_rescoring/ was created\n"
     ]
    },
    {
     "name": "stderr",
     "output_type": "stream",
     "text": [
      "==============================\n",
      "*** Open Babel Warning  in ReadUnimplementedBlock\n",
      "  COLLECTION blocks are not currently implemented and their contents are ignored.\n",
      "245 molecules converted\n"
     ]
    },
    {
     "name": "stdout",
     "output_type": "stream",
     "text": [
      "Rescoring with CHEMPLP complete in 5.3007!\n",
      "Rescoring with RFScoreVS\n",
      "The folder: /home/tony/CADD22/wocondock_performance_ace_test/temp/rescoring_RMSD_clustered/rfscorevs_rescoring was created\n",
      "Rescoring with RF-Score-VS complete in 11.5759!\n",
      "Combining all score for /home/tony/CADD22/wocondock_performance_ace_test/temp/rescoring_RMSD_clustered\n"
     ]
    },
    {
     "name": "stderr",
     "output_type": "stream",
     "text": [
      "100%|██████████| 3/3 [00:00<00:00, 317.60it/s]"
     ]
    },
    {
     "name": "stdout",
     "output_type": "stream",
     "text": [
      "Rescoring complete in 100.9727!\n",
      "The folder: /home/tony/CADD22/wocondock_performance_ace_test/temp/rescoring_spyRMSD_clustered was created\n",
      "The folder: /home/tony/CADD22/wocondock_performance_ace_test/temp/rescoring_spyRMSD_clustered/gnina_rescoring/ was created\n",
      "Splitting spyRMSD_clustered.sdf...\n",
      "Rescoring with GNINA\n",
      "Splitting SDF file spyRMSD_clustered.sdf ...\n",
      "The folder: /home/tony/CADD22/wocondock_performance_ace_test/temp/rescoring_spyRMSD_clustered/gnina_rescoring/split_spyRMSD_clustered was created\n"
     ]
    },
    {
     "name": "stderr",
     "output_type": "stream",
     "text": [
      "\n"
     ]
    },
    {
     "name": "stdout",
     "output_type": "stream",
     "text": [
      "Split docking library into 7 files each containing 41 compounds\n"
     ]
    },
    {
     "name": "stderr",
     "output_type": "stream",
     "text": [
      "100%|██████████| 7/7 [00:00<00:00, 171.14it/s]\n",
      "100%|██████████| 7/7 [01:58<00:00, 16.87s/it]\n"
     ]
    },
    {
     "name": "stdout",
     "output_type": "stream",
     "text": [
      "Rescoring with GNINA complete in 119.3190!\n",
      "Rescoring with AD4\n",
      "The folder: /home/tony/CADD22/wocondock_performance_ace_test/temp/rescoring_spyRMSD_clustered/AD4_rescoring/ was created\n",
      "Rescoring with AD4 complete in 1.5814!\n",
      "Rescoring with CHEMPLP\n",
      "The folder: /home/tony/CADD22/wocondock_performance_ace_test/temp/rescoring_spyRMSD_clustered/chemplp_rescoring/ was created\n"
     ]
    },
    {
     "name": "stderr",
     "output_type": "stream",
     "text": [
      "==============================\n",
      "*** Open Babel Warning  in ReadUnimplementedBlock\n",
      "  COLLECTION blocks are not currently implemented and their contents are ignored.\n",
      "247 molecules converted\n"
     ]
    },
    {
     "name": "stdout",
     "output_type": "stream",
     "text": [
      "Rescoring with CHEMPLP complete in 3.7098!\n",
      "Rescoring with RFScoreVS\n",
      "The folder: /home/tony/CADD22/wocondock_performance_ace_test/temp/rescoring_spyRMSD_clustered/rfscorevs_rescoring was created\n",
      "Rescoring with RF-Score-VS complete in 9.0561!\n",
      "Combining all score for /home/tony/CADD22/wocondock_performance_ace_test/temp/rescoring_spyRMSD_clustered\n"
     ]
    },
    {
     "name": "stderr",
     "output_type": "stream",
     "text": [
      "100%|██████████| 3/3 [00:00<00:00, 373.47it/s]"
     ]
    },
    {
     "name": "stdout",
     "output_type": "stream",
     "text": [
      "Rescoring complete in 133.7255!\n",
      "The folder: /home/tony/CADD22/wocondock_performance_ace_test/temp/rescoring_espsim_clustered was created\n",
      "The folder: /home/tony/CADD22/wocondock_performance_ace_test/temp/rescoring_espsim_clustered/gnina_rescoring/ was created\n",
      "Splitting espsim_clustered.sdf...\n",
      "Rescoring with GNINA\n",
      "Splitting SDF file espsim_clustered.sdf ...\n",
      "The folder: /home/tony/CADD22/wocondock_performance_ace_test/temp/rescoring_espsim_clustered/gnina_rescoring/split_espsim_clustered was created\n"
     ]
    },
    {
     "name": "stderr",
     "output_type": "stream",
     "text": [
      "\n"
     ]
    },
    {
     "name": "stdout",
     "output_type": "stream",
     "text": [
      "Split docking library into 6 files each containing 46 compounds\n"
     ]
    },
    {
     "name": "stderr",
     "output_type": "stream",
     "text": [
      "100%|██████████| 6/6 [00:00<00:00, 146.91it/s]\n",
      "100%|██████████| 6/6 [02:02<00:00, 20.42s/it]\n"
     ]
    },
    {
     "name": "stdout",
     "output_type": "stream",
     "text": [
      "Rescoring with GNINA complete in 123.4971!\n",
      "Rescoring with AD4\n",
      "The folder: /home/tony/CADD22/wocondock_performance_ace_test/temp/rescoring_espsim_clustered/AD4_rescoring/ was created\n",
      "Rescoring with AD4 complete in 1.6810!\n",
      "Rescoring with CHEMPLP\n",
      "The folder: /home/tony/CADD22/wocondock_performance_ace_test/temp/rescoring_espsim_clustered/chemplp_rescoring/ was created\n"
     ]
    },
    {
     "name": "stderr",
     "output_type": "stream",
     "text": [
      "==============================\n",
      "*** Open Babel Warning  in ReadUnimplementedBlock\n",
      "  COLLECTION blocks are not currently implemented and their contents are ignored.\n",
      "275 molecules converted\n"
     ]
    },
    {
     "name": "stdout",
     "output_type": "stream",
     "text": [
      "Rescoring with CHEMPLP complete in 3.9469!\n",
      "Rescoring with RFScoreVS\n",
      "The folder: /home/tony/CADD22/wocondock_performance_ace_test/temp/rescoring_espsim_clustered/rfscorevs_rescoring was created\n",
      "Rescoring with RF-Score-VS complete in 9.2364!\n",
      "Combining all score for /home/tony/CADD22/wocondock_performance_ace_test/temp/rescoring_espsim_clustered\n"
     ]
    },
    {
     "name": "stderr",
     "output_type": "stream",
     "text": [
      "100%|██████████| 3/3 [00:00<00:00, 340.70it/s]\n"
     ]
    },
    {
     "name": "stdout",
     "output_type": "stream",
     "text": [
      "Rescoring complete in 138.4145!\n",
      "The folder: /home/tony/CADD22/wocondock_performance_ace_test/temp/rescoring_3DScore_clustered was created\n",
      "The folder: /home/tony/CADD22/wocondock_performance_ace_test/temp/rescoring_3DScore_clustered/gnina_rescoring/ was created\n",
      "Splitting 3DScore_clustered.sdf...\n",
      "Rescoring with GNINA\n",
      "Splitting SDF file 3DScore_clustered.sdf ...\n",
      "The folder: /home/tony/CADD22/wocondock_performance_ace_test/temp/rescoring_3DScore_clustered/gnina_rescoring/split_3DScore_clustered was created\n",
      "Split docking library into 6 files each containing 17 compounds\n"
     ]
    },
    {
     "name": "stderr",
     "output_type": "stream",
     "text": [
      "100%|██████████| 6/6 [00:00<00:00, 113.79it/s]\n",
      "100%|██████████| 6/6 [00:49<00:00,  8.26s/it]\n"
     ]
    },
    {
     "name": "stdout",
     "output_type": "stream",
     "text": [
      "Rescoring with GNINA complete in 50.0222!\n",
      "Rescoring with AD4\n",
      "The folder: /home/tony/CADD22/wocondock_performance_ace_test/temp/rescoring_3DScore_clustered/AD4_rescoring/ was created\n",
      "Rescoring with AD4 complete in 1.2029!\n",
      "Rescoring with CHEMPLP\n",
      "The folder: /home/tony/CADD22/wocondock_performance_ace_test/temp/rescoring_3DScore_clustered/chemplp_rescoring/ was created\n"
     ]
    },
    {
     "name": "stderr",
     "output_type": "stream",
     "text": [
      "==============================\n",
      "*** Open Babel Warning  in ReadUnimplementedBlock\n",
      "  COLLECTION blocks are not currently implemented and their contents are ignored.\n",
      "100 molecules converted\n"
     ]
    },
    {
     "name": "stdout",
     "output_type": "stream",
     "text": [
      "Rescoring with CHEMPLP complete in 2.8128!\n",
      "Rescoring with RFScoreVS\n",
      "The folder: /home/tony/CADD22/wocondock_performance_ace_test/temp/rescoring_3DScore_clustered/rfscorevs_rescoring was created\n",
      "Rescoring with RF-Score-VS complete in 7.5131!\n",
      "Combining all score for /home/tony/CADD22/wocondock_performance_ace_test/temp/rescoring_3DScore_clustered\n"
     ]
    },
    {
     "name": "stderr",
     "output_type": "stream",
     "text": [
      "100%|██████████| 3/3 [00:00<00:00, 472.56it/s]\n"
     ]
    },
    {
     "name": "stdout",
     "output_type": "stream",
     "text": [
      "Rescoring complete in 61.5839!\n",
      "The folder: /home/tony/CADD22/wocondock_performance_ace_test/temp/rescoring_bestpose_clustered was created\n",
      "The folder: /home/tony/CADD22/wocondock_performance_ace_test/temp/rescoring_bestpose_clustered/gnina_rescoring/ was created\n",
      "Splitting bestpose_clustered.sdf...\n",
      "Rescoring with GNINA\n",
      "Splitting SDF file bestpose_clustered.sdf ...\n",
      "The folder: /home/tony/CADD22/wocondock_performance_ace_test/temp/rescoring_bestpose_clustered/gnina_rescoring/split_bestpose_clustered was created\n",
      "Split docking library into 6 files each containing 17 compounds\n"
     ]
    },
    {
     "name": "stderr",
     "output_type": "stream",
     "text": [
      "100%|██████████| 6/6 [00:00<00:00, 142.11it/s]\n",
      "100%|██████████| 6/6 [00:46<00:00,  7.71s/it]\n"
     ]
    },
    {
     "name": "stdout",
     "output_type": "stream",
     "text": [
      "Rescoring with GNINA complete in 46.6869!\n",
      "Rescoring with AD4\n",
      "The folder: /home/tony/CADD22/wocondock_performance_ace_test/temp/rescoring_bestpose_clustered/AD4_rescoring/ was created\n",
      "Rescoring with AD4 complete in 1.2048!\n",
      "Rescoring with CHEMPLP\n",
      "The folder: /home/tony/CADD22/wocondock_performance_ace_test/temp/rescoring_bestpose_clustered/chemplp_rescoring/ was created\n"
     ]
    },
    {
     "name": "stderr",
     "output_type": "stream",
     "text": [
      "==============================\n",
      "*** Open Babel Warning  in ReadUnimplementedBlock\n",
      "  COLLECTION blocks are not currently implemented and their contents are ignored.\n",
      "100 molecules converted\n"
     ]
    },
    {
     "name": "stdout",
     "output_type": "stream",
     "text": [
      "Rescoring with CHEMPLP complete in 2.7812!\n",
      "Rescoring with RFScoreVS\n",
      "The folder: /home/tony/CADD22/wocondock_performance_ace_test/temp/rescoring_bestpose_clustered/rfscorevs_rescoring was created\n",
      "Rescoring with RF-Score-VS complete in 7.4140!\n",
      "Combining all score for /home/tony/CADD22/wocondock_performance_ace_test/temp/rescoring_bestpose_clustered\n"
     ]
    },
    {
     "name": "stderr",
     "output_type": "stream",
     "text": [
      "100%|██████████| 3/3 [00:00<00:00, 365.26it/s]\n"
     ]
    },
    {
     "name": "stdout",
     "output_type": "stream",
     "text": [
      "Rescoring complete in 58.1213!\n",
      "The folder: /home/tony/CADD22/wocondock_performance_ace_test/temp/rescoring_bestpose_GNINA_clustered was created\n",
      "The folder: /home/tony/CADD22/wocondock_performance_ace_test/temp/rescoring_bestpose_GNINA_clustered/gnina_rescoring/ was created\n",
      "Splitting bestpose_GNINA_clustered.sdf...\n",
      "Rescoring with GNINA\n",
      "Splitting SDF file bestpose_GNINA_clustered.sdf ...\n",
      "The folder: /home/tony/CADD22/wocondock_performance_ace_test/temp/rescoring_bestpose_GNINA_clustered/gnina_rescoring/split_bestpose_GNINA_clustered was created\n",
      "Split docking library into 6 files each containing 17 compounds\n"
     ]
    },
    {
     "name": "stderr",
     "output_type": "stream",
     "text": [
      "100%|██████████| 6/6 [00:00<00:00, 98.89it/s]\n",
      "100%|██████████| 6/6 [00:45<00:00,  7.65s/it]\n"
     ]
    },
    {
     "name": "stdout",
     "output_type": "stream",
     "text": [
      "Rescoring with GNINA complete in 46.3489!\n",
      "Rescoring with AD4\n",
      "The folder: /home/tony/CADD22/wocondock_performance_ace_test/temp/rescoring_bestpose_GNINA_clustered/AD4_rescoring/ was created\n",
      "Rescoring with AD4 complete in 1.2478!\n",
      "Rescoring with CHEMPLP\n",
      "The folder: /home/tony/CADD22/wocondock_performance_ace_test/temp/rescoring_bestpose_GNINA_clustered/chemplp_rescoring/ was created\n"
     ]
    },
    {
     "name": "stderr",
     "output_type": "stream",
     "text": [
      "==============================\n",
      "*** Open Babel Warning  in ReadUnimplementedBlock\n",
      "  COLLECTION blocks are not currently implemented and their contents are ignored.\n",
      "100 molecules converted\n"
     ]
    },
    {
     "name": "stdout",
     "output_type": "stream",
     "text": [
      "Rescoring with CHEMPLP complete in 2.7982!\n",
      "Rescoring with RFScoreVS\n",
      "The folder: /home/tony/CADD22/wocondock_performance_ace_test/temp/rescoring_bestpose_GNINA_clustered/rfscorevs_rescoring was created\n",
      "Rescoring with RF-Score-VS complete in 7.2370!\n",
      "Combining all score for /home/tony/CADD22/wocondock_performance_ace_test/temp/rescoring_bestpose_GNINA_clustered\n"
     ]
    },
    {
     "name": "stderr",
     "output_type": "stream",
     "text": [
      "100%|██████████| 3/3 [00:00<00:00, 454.72it/s]"
     ]
    },
    {
     "name": "stdout",
     "output_type": "stream",
     "text": [
      "Rescoring complete in 57.6616!\n",
      "The folder: /home/tony/CADD22/wocondock_performance_ace_test/temp/rescoring_bestpose_SMINA_clustered was created\n",
      "The folder: /home/tony/CADD22/wocondock_performance_ace_test/temp/rescoring_bestpose_SMINA_clustered/gnina_rescoring/ was created\n",
      "Splitting bestpose_SMINA_clustered.sdf...\n",
      "Rescoring with GNINA\n",
      "Splitting SDF file bestpose_SMINA_clustered.sdf ...\n",
      "The folder: /home/tony/CADD22/wocondock_performance_ace_test/temp/rescoring_bestpose_SMINA_clustered/gnina_rescoring/split_bestpose_SMINA_clustered was created\n"
     ]
    },
    {
     "name": "stderr",
     "output_type": "stream",
     "text": [
      "\n"
     ]
    },
    {
     "ename": "KeyError",
     "evalue": "'ID'",
     "output_type": "error",
     "traceback": [
      "\u001b[0;31m---------------------------------------------------------------------------\u001b[0m",
      "\u001b[0;31mKeyError\u001b[0m                                  Traceback (most recent call last)",
      "File \u001b[0;32m~/.conda/envs/wocondock/lib/python3.8/site-packages/pandas/core/indexes/base.py:3803\u001b[0m, in \u001b[0;36mIndex.get_loc\u001b[0;34m(self, key, method, tolerance)\u001b[0m\n\u001b[1;32m   3802\u001b[0m \u001b[39mtry\u001b[39;00m:\n\u001b[0;32m-> 3803\u001b[0m     \u001b[39mreturn\u001b[39;00m \u001b[39mself\u001b[39;49m\u001b[39m.\u001b[39;49m_engine\u001b[39m.\u001b[39;49mget_loc(casted_key)\n\u001b[1;32m   3804\u001b[0m \u001b[39mexcept\u001b[39;00m \u001b[39mKeyError\u001b[39;00m \u001b[39mas\u001b[39;00m err:\n",
      "File \u001b[0;32m~/.conda/envs/wocondock/lib/python3.8/site-packages/pandas/_libs/index.pyx:138\u001b[0m, in \u001b[0;36mpandas._libs.index.IndexEngine.get_loc\u001b[0;34m()\u001b[0m\n",
      "File \u001b[0;32m~/.conda/envs/wocondock/lib/python3.8/site-packages/pandas/_libs/index.pyx:165\u001b[0m, in \u001b[0;36mpandas._libs.index.IndexEngine.get_loc\u001b[0;34m()\u001b[0m\n",
      "File \u001b[0;32mpandas/_libs/hashtable_class_helper.pxi:5745\u001b[0m, in \u001b[0;36mpandas._libs.hashtable.PyObjectHashTable.get_item\u001b[0;34m()\u001b[0m\n",
      "File \u001b[0;32mpandas/_libs/hashtable_class_helper.pxi:5753\u001b[0m, in \u001b[0;36mpandas._libs.hashtable.PyObjectHashTable.get_item\u001b[0;34m()\u001b[0m\n",
      "\u001b[0;31mKeyError\u001b[0m: 'ID'",
      "\nThe above exception was the direct cause of the following exception:\n",
      "\u001b[0;31mKeyError\u001b[0m                                  Traceback (most recent call last)",
      "Cell \u001b[0;32mIn[7], line 2\u001b[0m\n\u001b[1;32m      1\u001b[0m \u001b[39mfor\u001b[39;00m metric \u001b[39min\u001b[39;00m clustering_metrics:\n\u001b[0;32m----> 2\u001b[0m     rescore_all(w_dir, protein_file, ref_file, software, w_dir\u001b[39m+\u001b[39;49m\u001b[39mf\u001b[39;49m\u001b[39m'\u001b[39;49m\u001b[39m/temp/clustering/\u001b[39;49m\u001b[39m{\u001b[39;49;00mmetric\u001b[39m}\u001b[39;49;00m\u001b[39m_clustered.sdf\u001b[39;49m\u001b[39m'\u001b[39;49m, rescoring_functions, \u001b[39m1\u001b[39;49m)\n",
      "File \u001b[0;32m~/CADD22/scripts/rescoring_functions.py:440\u001b[0m, in \u001b[0;36mrescore_all\u001b[0;34m(w_dir, protein_file, ref_file, software, clustered_sdf, functions, mp)\u001b[0m\n\u001b[1;32m    438\u001b[0m \u001b[39mfor\u001b[39;00m function \u001b[39min\u001b[39;00m functions:\n\u001b[1;32m    439\u001b[0m     \u001b[39mif\u001b[39;00m os\u001b[39m.\u001b[39mpath\u001b[39m.\u001b[39misdir(rescoring_folder\u001b[39m+\u001b[39m\u001b[39mf\u001b[39m\u001b[39m'\u001b[39m\u001b[39m/\u001b[39m\u001b[39m{\u001b[39;00mfunction\u001b[39m}\u001b[39;00m\u001b[39m_rescoring\u001b[39m\u001b[39m'\u001b[39m) \u001b[39m==\u001b[39m \u001b[39mFalse\u001b[39;00m:\n\u001b[0;32m--> 440\u001b[0m         rescoring_functions[function](clustered_sdf, mp)\n\u001b[1;32m    441\u001b[0m     \u001b[39melse\u001b[39;00m:\n\u001b[1;32m    442\u001b[0m         \u001b[39mprint\u001b[39m(\u001b[39mf\u001b[39m\u001b[39m'\u001b[39m\u001b[39m/\u001b[39m\u001b[39m{\u001b[39;00mfunction\u001b[39m}\u001b[39;00m\u001b[39m_rescoring folder already exists, skipping \u001b[39m\u001b[39m{\u001b[39;00mfunction\u001b[39m}\u001b[39;00m\u001b[39m rescoring\u001b[39m\u001b[39m'\u001b[39m)\n",
      "File \u001b[0;32m~/CADD22/scripts/rescoring_functions.py:46\u001b[0m, in \u001b[0;36mrescore_all.<locals>.gnina_rescoring\u001b[0;34m(sdf, mp)\u001b[0m\n\u001b[1;32m     44\u001b[0m \u001b[39mprint\u001b[39m(\u001b[39mf\u001b[39m\u001b[39m'\u001b[39m\u001b[39mSplitting \u001b[39m\u001b[39m{\u001b[39;00mos\u001b[39m.\u001b[39mpath\u001b[39m.\u001b[39mbasename(sdf)\u001b[39m}\u001b[39;00m\u001b[39m...\u001b[39m\u001b[39m'\u001b[39m)\n\u001b[1;32m     45\u001b[0m \u001b[39mprint\u001b[39m(\u001b[39m'\u001b[39m\u001b[39mRescoring with GNINA\u001b[39m\u001b[39m'\u001b[39m)\n\u001b[0;32m---> 46\u001b[0m split_files_folder \u001b[39m=\u001b[39m split_sdf(rescoring_folder\u001b[39m+\u001b[39;49m\u001b[39m'\u001b[39;49m\u001b[39m/gnina_rescoring\u001b[39;49m\u001b[39m'\u001b[39;49m, sdf)\n\u001b[1;32m     47\u001b[0m split_files_sdfs \u001b[39m=\u001b[39m [os\u001b[39m.\u001b[39mpath\u001b[39m.\u001b[39mjoin(split_files_folder, f) \u001b[39mfor\u001b[39;00m f \u001b[39min\u001b[39;00m os\u001b[39m.\u001b[39mlistdir(split_files_folder) \u001b[39mif\u001b[39;00m f\u001b[39m.\u001b[39mendswith(\u001b[39m'\u001b[39m\u001b[39m.sdf\u001b[39m\u001b[39m'\u001b[39m)]\n\u001b[1;32m     48\u001b[0m \u001b[39mglobal\u001b[39;00m gnina_rescoring_splitted\n",
      "File \u001b[0;32m~/CADD22/scripts/utilities.py:21\u001b[0m, in \u001b[0;36msplit_sdf\u001b[0;34m(dir, sdf_file)\u001b[0m\n\u001b[1;32m     19\u001b[0m     os\u001b[39m.\u001b[39munlink(os\u001b[39m.\u001b[39mpath\u001b[39m.\u001b[39mjoin(\u001b[39mdir\u001b[39m\u001b[39m+\u001b[39m\u001b[39mf\u001b[39m\u001b[39m'\u001b[39m\u001b[39m/split_\u001b[39m\u001b[39m{\u001b[39;00msdf_file_name\u001b[39m}\u001b[39;00m\u001b[39m'\u001b[39m, file))\n\u001b[1;32m     20\u001b[0m df \u001b[39m=\u001b[39m PandasTools\u001b[39m.\u001b[39mLoadSDF(sdf_file, molColName\u001b[39m=\u001b[39m\u001b[39m'\u001b[39m\u001b[39mMolecule\u001b[39m\u001b[39m'\u001b[39m, idName\u001b[39m=\u001b[39m\u001b[39m'\u001b[39m\u001b[39mID\u001b[39m\u001b[39m'\u001b[39m, includeFingerprints\u001b[39m=\u001b[39m\u001b[39mFalse\u001b[39;00m, strictParsing\u001b[39m=\u001b[39m\u001b[39mTrue\u001b[39;00m)\n\u001b[0;32m---> 21\u001b[0m compounds_per_core \u001b[39m=\u001b[39m \u001b[39mround\u001b[39m(\u001b[39mlen\u001b[39m(df[\u001b[39m'\u001b[39;49m\u001b[39mID\u001b[39;49m\u001b[39m'\u001b[39;49m])\u001b[39m/\u001b[39m(multiprocessing\u001b[39m.\u001b[39mcpu_count()\u001b[39m-\u001b[39m\u001b[39m2\u001b[39m))\n\u001b[1;32m     22\u001b[0m used_ids \u001b[39m=\u001b[39m \u001b[39mset\u001b[39m() \u001b[39m# keep track of used 'ID' values\u001b[39;00m\n\u001b[1;32m     23\u001b[0m file_counter \u001b[39m=\u001b[39m \u001b[39m1\u001b[39m\n",
      "File \u001b[0;32m~/.conda/envs/wocondock/lib/python3.8/site-packages/pandas/core/frame.py:3805\u001b[0m, in \u001b[0;36mDataFrame.__getitem__\u001b[0;34m(self, key)\u001b[0m\n\u001b[1;32m   3803\u001b[0m \u001b[39mif\u001b[39;00m \u001b[39mself\u001b[39m\u001b[39m.\u001b[39mcolumns\u001b[39m.\u001b[39mnlevels \u001b[39m>\u001b[39m \u001b[39m1\u001b[39m:\n\u001b[1;32m   3804\u001b[0m     \u001b[39mreturn\u001b[39;00m \u001b[39mself\u001b[39m\u001b[39m.\u001b[39m_getitem_multilevel(key)\n\u001b[0;32m-> 3805\u001b[0m indexer \u001b[39m=\u001b[39m \u001b[39mself\u001b[39;49m\u001b[39m.\u001b[39;49mcolumns\u001b[39m.\u001b[39;49mget_loc(key)\n\u001b[1;32m   3806\u001b[0m \u001b[39mif\u001b[39;00m is_integer(indexer):\n\u001b[1;32m   3807\u001b[0m     indexer \u001b[39m=\u001b[39m [indexer]\n",
      "File \u001b[0;32m~/.conda/envs/wocondock/lib/python3.8/site-packages/pandas/core/indexes/base.py:3805\u001b[0m, in \u001b[0;36mIndex.get_loc\u001b[0;34m(self, key, method, tolerance)\u001b[0m\n\u001b[1;32m   3803\u001b[0m     \u001b[39mreturn\u001b[39;00m \u001b[39mself\u001b[39m\u001b[39m.\u001b[39m_engine\u001b[39m.\u001b[39mget_loc(casted_key)\n\u001b[1;32m   3804\u001b[0m \u001b[39mexcept\u001b[39;00m \u001b[39mKeyError\u001b[39;00m \u001b[39mas\u001b[39;00m err:\n\u001b[0;32m-> 3805\u001b[0m     \u001b[39mraise\u001b[39;00m \u001b[39mKeyError\u001b[39;00m(key) \u001b[39mfrom\u001b[39;00m \u001b[39merr\u001b[39;00m\n\u001b[1;32m   3806\u001b[0m \u001b[39mexcept\u001b[39;00m \u001b[39mTypeError\u001b[39;00m:\n\u001b[1;32m   3807\u001b[0m     \u001b[39m# If we have a listlike key, _check_indexing_error will raise\u001b[39;00m\n\u001b[1;32m   3808\u001b[0m     \u001b[39m#  InvalidIndexError. Otherwise we fall through and re-raise\u001b[39;00m\n\u001b[1;32m   3809\u001b[0m     \u001b[39m#  the TypeError.\u001b[39;00m\n\u001b[1;32m   3810\u001b[0m     \u001b[39mself\u001b[39m\u001b[39m.\u001b[39m_check_indexing_error(key)\n",
      "\u001b[0;31mKeyError\u001b[0m: 'ID'"
     ]
    }
   ],
   "source": [
    "for metric in clustering_metrics:\n",
    "    rescore_all(w_dir, protein_file, ref_file, software, w_dir+f'/temp/clustering/{metric}_clustered.sdf', rescoring_functions, 1)\n"
   ]
  },
  {
   "cell_type": "markdown",
   "metadata": {},
   "source": [
    "**Final ranking methods**\n",
    "\n",
    "This code calculates the final ranking of compounds using various methods.\n",
    "*Method 1* : Calculates ECR value for each cluster center, then outputs the top ranked center.\n",
    "*Method 2* : Calculates ECR value for each cluster center, then outputs the average ECR value for each compound.\n",
    "*Method 3* : Calculates the average rank of each compound, then ouputs the corresponding ECR value for each compound.\n",
    "*Method 6* : Calculates Z-score for each cluster center, then ouputs the top ranked center.\n",
    "*Method 7* : Calculates Z-score for each cluster center, then ouputs the average Z-score for each compound.\n",
    "\n",
    "All methods are then combined into a single dataframe for comparison purposes."
   ]
  },
  {
   "cell_type": "code",
   "execution_count": 13,
   "metadata": {},
   "outputs": [
    {
     "name": "stdout",
     "output_type": "stream",
     "text": [
      "The folder: /home/tony/CADD22/wocondock_performance_ace_test/temp/ranking already exists\n",
      "The folder: /home/tony/CADD22/wocondock_performance_ace_test/temp/consensus was created\n"
     ]
    }
   ],
   "source": [
    "apply_consensus_methods(w_dir, clustering_metrics)"
   ]
  },
  {
   "cell_type": "code",
   "execution_count": 14,
   "metadata": {},
   "outputs": [],
   "source": [
    "calculate_EFs(w_dir, docking_library)"
   ]
  }
 ],
 "metadata": {
  "kernelspec": {
   "display_name": "wocondock",
   "language": "python",
   "name": "python3"
  },
  "language_info": {
   "codemirror_mode": {
    "name": "ipython",
    "version": 3
   },
   "file_extension": ".py",
   "mimetype": "text/x-python",
   "name": "python",
   "nbconvert_exporter": "python",
   "pygments_lexer": "ipython3",
   "version": "3.8.13"
  },
  "orig_nbformat": 4,
  "vscode": {
   "interpreter": {
    "hash": "ac9acbc93af693fb4e01b586b9d883cf48eab2850c268069ebbf85c5f9fbe2b9"
   }
  }
 },
 "nbformat": 4,
 "nbformat_minor": 2
}
