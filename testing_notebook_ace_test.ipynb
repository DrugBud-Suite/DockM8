{
 "cells": [
  {
   "cell_type": "markdown",
   "metadata": {},
   "source": [
    "**Import required libraries and scripts**"
   ]
  },
  {
   "cell_type": "code",
   "execution_count": 1,
   "metadata": {},
   "outputs": [
    {
     "name": "stderr",
     "output_type": "stream",
     "text": [
      "[09:16:50] Initializing Normalizer\n"
     ]
    },
    {
     "name": "stdout",
     "output_type": "stream",
     "text": [
      "The working directory has been set to: /home/mario/WoConDock/wocondock_performance_ace_test\n",
      "The folder: /home/mario/WoConDock/wocondock_performance_ace_test/temp already exists\n"
     ]
    }
   ],
   "source": [
    "#Import required libraries and scripts\n",
    "from scripts.library_preparation import *\n",
    "from scripts.utilities import *\n",
    "from scripts.docking_functions import *\n",
    "from scripts.clustering_functions import *\n",
    "from scripts.rescoring_functions import *\n",
    "from scripts.ranking_functions import *\n",
    "from scripts.performance_calculation import *\n",
    "import numpy as np\n",
    "import os\n",
    "\n",
    "software = '/home/mario/WoConDock/software'\n",
    "protein_file = '/home/mario/WoConDock/wocondock_performance_ace_test/receptor_protoss_prepared.pdb'\n",
    "ref_file = '/home/mario/WoConDock/wocondock_performance_ace_test/crystal_ligand_protoss.sdf'\n",
    "docking_library = '/home/mario/WoConDock/wocondock_performance_ace_test/merged_actives_decoys.sdf'\n",
    "docking_programs = ['GNINA', 'SMINA', 'PLANTS']\n",
    "clustering_metrics = ['RMSD', 'spyRMSD', 'espsim', '3DScore', 'bestpose', 'bestpose_GNINA', 'bestpose_SMINA', 'bestpose_PLANTS']\n",
    "rescoring_functions = ['gnina', 'AD4', 'chemplp', 'rfscorevs']\n",
    "id_column = 'ID'\n",
    "n_poses = 10\n",
    "exhaustiveness = 4\n",
    "\n",
    "#Initialise variables and create a temporary folder\n",
    "w_dir = os.path.dirname(protein_file)\n",
    "print('The working directory has been set to:', w_dir)\n",
    "create_temp_folder(w_dir+'/temp')"
   ]
  },
  {
   "cell_type": "code",
   "execution_count": null,
   "metadata": {},
   "outputs": [],
   "source": [
    "pocket_definition = binding_site_coordinates_dogsitescorer(protein_file, w_dir, method='volume')"
   ]
  },
  {
   "cell_type": "code",
   "execution_count": null,
   "metadata": {},
   "outputs": [],
   "source": [
    "cleaned_pkasolver_df = prepare_library(docking_library, id_column, software, 'pkasolver')"
   ]
  },
  {
   "cell_type": "code",
   "execution_count": null,
   "metadata": {},
   "outputs": [],
   "source": [
    "all_poses = docking(protein_file, ref_file, software, docking_programs, exhaustiveness, n_poses)"
   ]
  },
  {
   "cell_type": "code",
   "execution_count": null,
   "metadata": {},
   "outputs": [],
   "source": [
    "docking_splitted(w_dir, protein_file, ref_file, software, docking_programs, exhaustiveness, n_poses)"
   ]
  },
  {
   "cell_type": "code",
   "execution_count": null,
   "metadata": {},
   "outputs": [],
   "source": [
    "docking_splitted_futures(w_dir, protein_file, ref_file, software, docking_programs, exhaustiveness, n_poses)"
   ]
  },
  {
   "cell_type": "code",
   "execution_count": null,
   "metadata": {},
   "outputs": [],
   "source": [
    "fetch_poses_splitted(w_dir, n_poses, split_files_folder=w_dir+'/temp/split_final_library')"
   ]
  },
  {
   "cell_type": "code",
   "execution_count": null,
   "metadata": {},
   "outputs": [],
   "source": [
    "print('Loading all poses SDF file...')\n",
    "tic = time.perf_counter()\n",
    "all_poses = PandasTools.LoadSDF(w_dir+'/temp/allposes.sdf', idName='Pose ID', molColName='Molecule', includeFingerprints=False, strictParsing=True)\n",
    "toc = time.perf_counter()\n",
    "print(f'Finished loading all poses SDF in {toc-tic:0.4f}!...')"
   ]
  },
  {
   "cell_type": "code",
   "execution_count": null,
   "metadata": {},
   "outputs": [],
   "source": [
    "for metric in clustering_metrics:\n",
    "    cluster_futures(f'{metric}', 'KMedoids', w_dir, protein_file, all_poses)"
   ]
  },
  {
   "cell_type": "markdown",
   "metadata": {},
   "source": [
    "**Rescoring**\n",
    "\n",
    "The file containing all the cluster centers is then rescored using all scoring functions available (GNINA, Vina, AutoDock4, PLP, CHEMPLP, RF-Score-VS). The rescored output is return as a dataframe."
   ]
  },
  {
   "cell_type": "code",
   "execution_count": 3,
   "metadata": {},
   "outputs": [
    {
     "name": "stdout",
     "output_type": "stream",
     "text": [
      "The folder: /home/mario/WoConDock/wocondock_performance_ace_test/temp/rescoring_RMSD_clustered was created\n",
      "The folder: /home/mario/WoConDock/wocondock_performance_ace_test/temp/rescoring_RMSD_clustered/gnina_rescoring/ was created\n",
      "Rescoring with GNINA\n"
     ]
    },
    {
     "name": "stderr",
     "output_type": "stream",
     "text": [
      "==============================\n",
      "*** Open Babel Warning  in PerceiveBondOrders\n",
      "  Failed to kekulize aromatic bonds in OBMol::PerceiveBondOrders\n",
      "\n",
      "/tmp/libmolgrid/src/grid_maker.cu:288: no kernel image is available for execution on the deviceterminate called after throwing an instance of 'std::runtime_error'\n",
      "  what():  CUDA Error: no kernel image is available for execution on the device\n",
      "*** Aborted at 1676967423 (unix time) try \"date -d @1676967423\" if you are using GNU date ***\n",
      "PC: @                0x0 (unknown)\n",
      "*** SIGABRT (@0x3e8000052ae) received by PID 21166 (TID 0x7ff5f5fff640) from PID 21166; stack trace: ***\n",
      "    @     0x7ff617e42520 (unknown)\n",
      "    @     0x7ff617e96a7c pthread_kill\n",
      "    @     0x7ff617e42476 raise\n",
      "    @     0x7ff617e287f3 abort\n",
      "    @     0x7ff6182a2bbe (unknown)\n",
      "    @     0x7ff6182ae24c (unknown)\n",
      "    @     0x7ff6182ae2b7 std::terminate()\n",
      "    @     0x7ff6182ae518 __cxa_throw\n",
      "    @           0xbcc1f4 libmolgrid::GridMaker::forward<>()\n",
      "    @           0x661ec8 caffe::MolGridDataLayer<>::set_grid_minfo()\n",
      "    @           0x65e607 caffe::MolGridDataLayer<>::forward()\n",
      "    @           0x6e0261 caffe::Net<>::ForwardFromTo()\n",
      "    @           0x6e0386 caffe::Net<>::Forward()\n",
      "    @           0x4b30a3 CNNScorer::score()\n",
      "    @           0x45446e get_cnn_info()\n",
      "    @           0x459cae do_search()\n",
      "    @           0x45af97 main_procedure()\n",
      "    @           0x45b8ce threads_at_work()\n",
      "    @           0x473303 boost::_bi::list6<>::operator()<>()\n",
      "    @           0x7d74e4 thread_proxy\n",
      "    @     0x7ff617e94b43 (unknown)\n",
      "    @     0x7ff617f26a00 (unknown)\n",
      "    @                0x0 (unknown)\n",
      "Aborted (core dumped)\n"
     ]
    },
    {
     "name": "stdout",
     "output_type": "stream",
     "text": [
      "              _             \n",
      "             (_)            \n",
      "   __ _ _ __  _ _ __   __ _ \n",
      "  / _` | '_ \\| | '_ \\ / _` |\n",
      " | (_| | | | | | | | | (_| |\n",
      "  \\__, |_| |_|_|_| |_|\\__,_|\n",
      "   __/ |                    \n",
      "  |___/                     \n",
      "\n",
      "gnina v1.0 HEAD:6381355   Built Mar  6 2021.\n",
      "gnina is based on smina and AutoDock Vina.\n",
      "Please cite appropriately.\n",
      "\n",
      "Commandline: ./gnina -r /home/mario/WoConDock/wocondock_performance_ace_test/receptor_protoss_prepared.pdb -l /home/mario/WoConDock/wocondock_performance_ace_test/temp/clustering/RMSD_clustered.sdf --autobox_ligand /home/mario/WoConDock/wocondock_performance_ace_test/crystal_ligand_protoss.sdf -o /home/mario/WoConDock/wocondock_performance_ace_test/temp/rescoring_RMSD_clustered/gnina_rescoring/rescored_crossdock_default2018.sdf --cnn crossdock_default2018 --score_only\n",
      "## Name gauss(o=0,_w=0.5,_c=8) gauss(o=3,_w=2,_c=8) repulsion(o=0,_c=8) hydrophobic(g=0.5,_b=1.5,_c=8) non_dir_h_bond(g=-0.7,_b=0,_c=8) num_tors_div\n"
     ]
    },
    {
     "ename": "KeyError",
     "evalue": "\"None of [Index(['Pose ID', 'GNINA_Affinity', 'GNINA_CNN_Score', 'GNINA_CNN_Affinity'], dtype='object')] are in the [columns]\"",
     "output_type": "error",
     "traceback": [
      "\u001b[0;31m---------------------------------------------------------------------------\u001b[0m",
      "\u001b[0;31mKeyError\u001b[0m                                  Traceback (most recent call last)",
      "Cell \u001b[0;32mIn[3], line 2\u001b[0m\n\u001b[1;32m      1\u001b[0m \u001b[39mfor\u001b[39;00m metric \u001b[39min\u001b[39;00m clustering_metrics:\n\u001b[0;32m----> 2\u001b[0m     rescore_all(w_dir, protein_file, ref_file, software, w_dir\u001b[39m+\u001b[39;49m\u001b[39mf\u001b[39;49m\u001b[39m'\u001b[39;49m\u001b[39m/temp/clustering/\u001b[39;49m\u001b[39m{\u001b[39;49;00mmetric\u001b[39m}\u001b[39;49;00m\u001b[39m_clustered.sdf\u001b[39;49m\u001b[39m'\u001b[39;49m, rescoring_functions, \u001b[39m0\u001b[39;49m)\n",
      "File \u001b[0;32m~/WoConDock/scripts/rescoring_functions.py:440\u001b[0m, in \u001b[0;36mrescore_all\u001b[0;34m(w_dir, protein_file, ref_file, software, clustered_sdf, functions, mp)\u001b[0m\n\u001b[1;32m    438\u001b[0m \u001b[39mfor\u001b[39;00m function \u001b[39min\u001b[39;00m functions:\n\u001b[1;32m    439\u001b[0m     \u001b[39mif\u001b[39;00m os\u001b[39m.\u001b[39mpath\u001b[39m.\u001b[39misdir(rescoring_folder\u001b[39m+\u001b[39m\u001b[39mf\u001b[39m\u001b[39m'\u001b[39m\u001b[39m/\u001b[39m\u001b[39m{\u001b[39;00mfunction\u001b[39m}\u001b[39;00m\u001b[39m_rescoring\u001b[39m\u001b[39m'\u001b[39m) \u001b[39m==\u001b[39m \u001b[39mFalse\u001b[39;00m:\n\u001b[0;32m--> 440\u001b[0m         rescoring_functions[function](clustered_sdf, mp)\n\u001b[1;32m    441\u001b[0m     \u001b[39melse\u001b[39;00m:\n\u001b[1;32m    442\u001b[0m         \u001b[39mprint\u001b[39m(\u001b[39mf\u001b[39m\u001b[39m'\u001b[39m\u001b[39m/\u001b[39m\u001b[39m{\u001b[39;00mfunction\u001b[39m}\u001b[39;00m\u001b[39m_rescoring folder already exists, skipping \u001b[39m\u001b[39m{\u001b[39;00mfunction\u001b[39m}\u001b[39;00m\u001b[39m rescoring\u001b[39m\u001b[39m'\u001b[39m)\n",
      "File \u001b[0;32m~/WoConDock/scripts/rescoring_functions.py:88\u001b[0m, in \u001b[0;36mrescore_all.<locals>.gnina_rescoring\u001b[0;34m(sdf, mp)\u001b[0m\n\u001b[1;32m     86\u001b[0m                 os\u001b[39m.\u001b[39mremove(os\u001b[39m.\u001b[39mpath\u001b[39m.\u001b[39mjoin(split_files_folder, file))\n\u001b[1;32m     87\u001b[0m gnina_rescoring_results\u001b[39m.\u001b[39mrename(columns \u001b[39m=\u001b[39m {\u001b[39m'\u001b[39m\u001b[39mminimizedAffinity\u001b[39m\u001b[39m'\u001b[39m:\u001b[39m'\u001b[39m\u001b[39mGNINA_Affinity\u001b[39m\u001b[39m'\u001b[39m, \u001b[39m'\u001b[39m\u001b[39mCNNscore\u001b[39m\u001b[39m'\u001b[39m:\u001b[39m'\u001b[39m\u001b[39mGNINA_CNN_Score\u001b[39m\u001b[39m'\u001b[39m, \u001b[39m'\u001b[39m\u001b[39mCNNaffinity\u001b[39m\u001b[39m'\u001b[39m:\u001b[39m'\u001b[39m\u001b[39mGNINA_CNN_Affinity\u001b[39m\u001b[39m'\u001b[39m}, inplace \u001b[39m=\u001b[39m \u001b[39mTrue\u001b[39;00m)\n\u001b[0;32m---> 88\u001b[0m gnina_rescoring_results \u001b[39m=\u001b[39m gnina_rescoring_results[[\u001b[39m'\u001b[39;49m\u001b[39mPose ID\u001b[39;49m\u001b[39m'\u001b[39;49m, \u001b[39m'\u001b[39;49m\u001b[39mGNINA_Affinity\u001b[39;49m\u001b[39m'\u001b[39;49m, \u001b[39m'\u001b[39;49m\u001b[39mGNINA_CNN_Score\u001b[39;49m\u001b[39m'\u001b[39;49m, \u001b[39m'\u001b[39;49m\u001b[39mGNINA_CNN_Affinity\u001b[39;49m\u001b[39m'\u001b[39;49m]]\n\u001b[1;32m     89\u001b[0m gnina_rescoring_results\u001b[39m.\u001b[39mto_csv(rescoring_folder\u001b[39m+\u001b[39m\u001b[39m'\u001b[39m\u001b[39m/gnina_rescoring/gnina_scores.csv\u001b[39m\u001b[39m'\u001b[39m)\n\u001b[1;32m     90\u001b[0m toc \u001b[39m=\u001b[39m time\u001b[39m.\u001b[39mperf_counter()\n",
      "File \u001b[0;32m~/anaconda3/envs/wocondock/lib/python3.8/site-packages/pandas/core/frame.py:3811\u001b[0m, in \u001b[0;36mDataFrame.__getitem__\u001b[0;34m(self, key)\u001b[0m\n\u001b[1;32m   3809\u001b[0m     \u001b[39mif\u001b[39;00m is_iterator(key):\n\u001b[1;32m   3810\u001b[0m         key \u001b[39m=\u001b[39m \u001b[39mlist\u001b[39m(key)\n\u001b[0;32m-> 3811\u001b[0m     indexer \u001b[39m=\u001b[39m \u001b[39mself\u001b[39;49m\u001b[39m.\u001b[39;49mcolumns\u001b[39m.\u001b[39;49m_get_indexer_strict(key, \u001b[39m\"\u001b[39;49m\u001b[39mcolumns\u001b[39;49m\u001b[39m\"\u001b[39;49m)[\u001b[39m1\u001b[39m]\n\u001b[1;32m   3813\u001b[0m \u001b[39m# take() does not accept boolean indexers\u001b[39;00m\n\u001b[1;32m   3814\u001b[0m \u001b[39mif\u001b[39;00m \u001b[39mgetattr\u001b[39m(indexer, \u001b[39m\"\u001b[39m\u001b[39mdtype\u001b[39m\u001b[39m\"\u001b[39m, \u001b[39mNone\u001b[39;00m) \u001b[39m==\u001b[39m \u001b[39mbool\u001b[39m:\n",
      "File \u001b[0;32m~/anaconda3/envs/wocondock/lib/python3.8/site-packages/pandas/core/indexes/base.py:6113\u001b[0m, in \u001b[0;36mIndex._get_indexer_strict\u001b[0;34m(self, key, axis_name)\u001b[0m\n\u001b[1;32m   6110\u001b[0m \u001b[39melse\u001b[39;00m:\n\u001b[1;32m   6111\u001b[0m     keyarr, indexer, new_indexer \u001b[39m=\u001b[39m \u001b[39mself\u001b[39m\u001b[39m.\u001b[39m_reindex_non_unique(keyarr)\n\u001b[0;32m-> 6113\u001b[0m \u001b[39mself\u001b[39;49m\u001b[39m.\u001b[39;49m_raise_if_missing(keyarr, indexer, axis_name)\n\u001b[1;32m   6115\u001b[0m keyarr \u001b[39m=\u001b[39m \u001b[39mself\u001b[39m\u001b[39m.\u001b[39mtake(indexer)\n\u001b[1;32m   6116\u001b[0m \u001b[39mif\u001b[39;00m \u001b[39misinstance\u001b[39m(key, Index):\n\u001b[1;32m   6117\u001b[0m     \u001b[39m# GH 42790 - Preserve name from an Index\u001b[39;00m\n",
      "File \u001b[0;32m~/anaconda3/envs/wocondock/lib/python3.8/site-packages/pandas/core/indexes/base.py:6173\u001b[0m, in \u001b[0;36mIndex._raise_if_missing\u001b[0;34m(self, key, indexer, axis_name)\u001b[0m\n\u001b[1;32m   6171\u001b[0m     \u001b[39mif\u001b[39;00m use_interval_msg:\n\u001b[1;32m   6172\u001b[0m         key \u001b[39m=\u001b[39m \u001b[39mlist\u001b[39m(key)\n\u001b[0;32m-> 6173\u001b[0m     \u001b[39mraise\u001b[39;00m \u001b[39mKeyError\u001b[39;00m(\u001b[39mf\u001b[39m\u001b[39m\"\u001b[39m\u001b[39mNone of [\u001b[39m\u001b[39m{\u001b[39;00mkey\u001b[39m}\u001b[39;00m\u001b[39m] are in the [\u001b[39m\u001b[39m{\u001b[39;00maxis_name\u001b[39m}\u001b[39;00m\u001b[39m]\u001b[39m\u001b[39m\"\u001b[39m)\n\u001b[1;32m   6175\u001b[0m not_found \u001b[39m=\u001b[39m \u001b[39mlist\u001b[39m(ensure_index(key)[missing_mask\u001b[39m.\u001b[39mnonzero()[\u001b[39m0\u001b[39m]]\u001b[39m.\u001b[39munique())\n\u001b[1;32m   6176\u001b[0m \u001b[39mraise\u001b[39;00m \u001b[39mKeyError\u001b[39;00m(\u001b[39mf\u001b[39m\u001b[39m\"\u001b[39m\u001b[39m{\u001b[39;00mnot_found\u001b[39m}\u001b[39;00m\u001b[39m not in index\u001b[39m\u001b[39m\"\u001b[39m)\n",
      "\u001b[0;31mKeyError\u001b[0m: \"None of [Index(['Pose ID', 'GNINA_Affinity', 'GNINA_CNN_Score', 'GNINA_CNN_Affinity'], dtype='object')] are in the [columns]\""
     ]
    }
   ],
   "source": [
    "for metric in clustering_metrics:\n",
    "    rescore_all(w_dir, protein_file, ref_file, software, w_dir+f'/temp/clustering/{metric}_clustered.sdf', rescoring_functions, 0)\n"
   ]
  },
  {
   "cell_type": "markdown",
   "metadata": {},
   "source": [
    "**Final ranking methods**\n",
    "\n",
    "This code calculates the final ranking of compounds using various methods.\n",
    "*Method 1* : Calculates ECR value for each cluster center, then outputs the top ranked center.\n",
    "*Method 2* : Calculates ECR value for each cluster center, then outputs the average ECR value for each compound.\n",
    "*Method 3* : Calculates the average rank of each compound, then ouputs the corresponding ECR value for each compound.\n",
    "*Method 6* : Calculates Z-score for each cluster center, then ouputs the top ranked center.\n",
    "*Method 7* : Calculates Z-score for each cluster center, then ouputs the average Z-score for each compound.\n",
    "\n",
    "All methods are then combined into a single dataframe for comparison purposes."
   ]
  },
  {
   "cell_type": "code",
   "execution_count": null,
   "metadata": {},
   "outputs": [],
   "source": [
    "apply_consensus_methods(w_dir, ['bestpose_GNINA', 'bestpose_SMINA', 'bestpose_PLANTS'])"
   ]
  },
  {
   "cell_type": "code",
   "execution_count": null,
   "metadata": {},
   "outputs": [],
   "source": [
    "calculate_EFs(w_dir, docking_library)"
   ]
  }
 ],
 "metadata": {
  "kernelspec": {
   "display_name": "wocondock",
   "language": "python",
   "name": "python3"
  },
  "language_info": {
   "codemirror_mode": {
    "name": "ipython",
    "version": 3
   },
   "file_extension": ".py",
   "mimetype": "text/x-python",
   "name": "python",
   "nbconvert_exporter": "python",
   "pygments_lexer": "ipython3",
   "version": "3.8.15"
  },
  "orig_nbformat": 4,
  "vscode": {
   "interpreter": {
    "hash": "10164e316682d9b4b376ca14144ea8a4ff51ebef10350aaa3c3bfce49f02faa4"
   }
  }
 },
 "nbformat": 4,
 "nbformat_minor": 2
}
