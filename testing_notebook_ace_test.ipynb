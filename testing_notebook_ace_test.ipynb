{
 "cells": [
  {
   "cell_type": "markdown",
   "metadata": {},
   "source": [
    "**Import required libraries and scripts**"
   ]
  },
  {
   "cell_type": "code",
   "execution_count": 1,
   "metadata": {},
   "outputs": [
    {
     "name": "stderr",
     "output_type": "stream",
     "text": [
      "[17:37:24] Initializing Normalizer\n"
     ]
    },
    {
     "name": "stdout",
     "output_type": "stream",
     "text": [
      "The working directory has been set to: /home/tony/CADD22/wocondock_main\n",
      "The folder: /home/tony/CADD22/wocondock_main/temp already exists\n"
     ]
    }
   ],
   "source": [
    "#Import required libraries and scripts\n",
    "from scripts.library_preparation import *\n",
    "from scripts.utilities import *\n",
    "from scripts.docking_functions import *\n",
    "from scripts.clustering_functions import *\n",
    "from scripts.rescoring_functions import *\n",
    "from scripts.ranking_functions import *\n",
    "from scripts.performance_calculation import *\n",
    "import numpy as np\n",
    "import os\n",
    "\n",
    "software = '/home/tony/CADD22/software'\n",
    "protein_file = '/home/tony/CADD22/wocondock_main/2o1x_A_apo_protoss.pdb'\n",
    "ref_file = '/home/tony/CADD22/wocondock_main/2o1x_A_lig_protoss.sdf'\n",
    "docking_library = '/home/tony/CADD22/wocondock_main/Selection_of_FCHGroup_LeadLike.sdf'\n",
    "docking_programs = ['GNINA', 'SMINA', 'PLANTS']\n",
    "clustering_metrics = ['RMSD', 'spyRMSD', 'espsim', '3DScore', 'bestpose', 'bestpose_GNINA', 'bestpose_SMINA', 'bestpose_PLANTS']\n",
    "rescoring_functions = ['gnina', 'AD4', 'chemplp', 'rfscorevs']\n",
    "id_column = 'ID'\n",
    "n_poses = 10\n",
    "exhaustiveness = 4\n",
    "\n",
    "#Initialise variables and create a temporary folder\n",
    "w_dir = os.path.dirname(protein_file)\n",
    "print('The working directory has been set to:', w_dir)\n",
    "create_temp_folder(w_dir+'/temp')"
   ]
  },
  {
   "cell_type": "code",
   "execution_count": null,
   "metadata": {},
   "outputs": [],
   "source": [
    "pocket_definition = binding_site_coordinates_dogsitescorer(protein_file, w_dir, method='volume')"
   ]
  },
  {
   "cell_type": "code",
   "execution_count": null,
   "metadata": {},
   "outputs": [],
   "source": [
    "cleaned_pkasolver_df = prepare_library(docking_library, id_column, software, 'pkasolver')"
   ]
  },
  {
   "cell_type": "code",
   "execution_count": null,
   "metadata": {},
   "outputs": [],
   "source": [
    "all_poses = docking(protein_file, ref_file, software, docking_programs, exhaustiveness, n_poses)"
   ]
  },
  {
   "cell_type": "code",
   "execution_count": null,
   "metadata": {},
   "outputs": [],
   "source": [
    "docking_splitted(w_dir, protein_file, ref_file, software, docking_programs, exhaustiveness, n_poses)"
   ]
  },
  {
   "cell_type": "code",
   "execution_count": 2,
   "metadata": {},
   "outputs": [
    {
     "name": "stdout",
     "output_type": "stream",
     "text": [
      "Splitting SDF file final_library.sdf ...\n",
      "The folder: /home/tony/CADD22/wocondock_main/temp/split_final_library was created\n",
      "Split docking library into 5 files each containing 2 compounds\n",
      "The folder: /home/tony/CADD22/wocondock_main/temp/plants was created\n",
      "Converting protein file to .mol2 format for PLANTS docking...\n",
      "Converting reference file from .sdf to .mol2 format for PLANTS docking...\n",
      "Determining binding site coordinates using PLANTS...\n",
      "Docking split files using PLANTS...\n"
     ]
    },
    {
     "name": "stderr",
     "output_type": "stream",
     "text": [
      "100%|██████████| 5/5 [00:00<00:00, 118.68it/s]\n"
     ]
    },
    {
     "name": "stdout",
     "output_type": "stream",
     "text": [
      "Docking with PLANTS complete in 64.4818!\n",
      "Docking split files using SMINA...\n"
     ]
    },
    {
     "name": "stderr",
     "output_type": "stream",
     "text": [
      "100%|██████████| 5/5 [00:00<00:00, 147.18it/s]\n"
     ]
    },
    {
     "name": "stdout",
     "output_type": "stream",
     "text": [
      "Docking with SMINA complete in 73.4576!\n",
      "Docking split files using GNINA...\n"
     ]
    },
    {
     "name": "stderr",
     "output_type": "stream",
     "text": [
      "100%|██████████| 5/5 [00:00<00:00, 139.70it/s]\n"
     ]
    },
    {
     "name": "stdout",
     "output_type": "stream",
     "text": [
      "Docking with GNINA complete in 85.4605!\n"
     ]
    }
   ],
   "source": [
    "docking_splitted_futures(w_dir, protein_file, ref_file, software, docking_programs, exhaustiveness, n_poses)"
   ]
  },
  {
   "cell_type": "code",
   "execution_count": 4,
   "metadata": {},
   "outputs": [
    {
     "name": "stdout",
     "output_type": "stream",
     "text": [
      "Fetching docking poses...\n"
     ]
    },
    {
     "name": "stderr",
     "output_type": "stream",
     "text": [
      "100%|██████████| 17/17 [00:00<00:00, 43.70it/s]\n"
     ]
    },
    {
     "name": "stdout",
     "output_type": "stream",
     "text": [
      "Combined all docking poses in 0.7128!\n"
     ]
    },
    {
     "data": {
      "text/html": [
       "<div>\n",
       "<style scoped>\n",
       "    .dataframe tbody tr th:only-of-type {\n",
       "        vertical-align: middle;\n",
       "    }\n",
       "\n",
       "    .dataframe tbody tr th {\n",
       "        vertical-align: top;\n",
       "    }\n",
       "\n",
       "    .dataframe thead th {\n",
       "        text-align: right;\n",
       "    }\n",
       "</style>\n",
       "<table border=\"1\" class=\"dataframe\">\n",
       "  <thead>\n",
       "    <tr style=\"text-align: right;\">\n",
       "      <th></th>\n",
       "      <th>ID</th>\n",
       "      <th>CHEMPLP</th>\n",
       "      <th>Molecule</th>\n",
       "      <th>Pose ID</th>\n",
       "      <th>SMINA_Affinity</th>\n",
       "      <th>GNINA_Affinity</th>\n",
       "      <th>CNNscore</th>\n",
       "      <th>CNNaffinity</th>\n",
       "      <th>CNN_VS</th>\n",
       "    </tr>\n",
       "  </thead>\n",
       "  <tbody>\n",
       "    <tr>\n",
       "      <th>0</th>\n",
       "      <td>FCG1390566</td>\n",
       "      <td>-71.9150</td>\n",
       "      <td style=\"text-align: center;\"><img data-content=\"rdkit/molecule\" src=\"data:image/png;base64,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\" alt=\"Mol\"/></td>\n",
       "      <td>FCG1390566_PLANTS_01</td>\n",
       "      <td>NaN</td>\n",
       "      <td>NaN</td>\n",
       "      <td>NaN</td>\n",
       "      <td>NaN</td>\n",
       "      <td>NaN</td>\n",
       "    </tr>\n",
       "    <tr>\n",
       "      <th>1</th>\n",
       "      <td>FCG1390566</td>\n",
       "      <td>-66.5795</td>\n",
       "      <td style=\"text-align: center;\"><img data-content=\"rdkit/molecule\" src=\"data:image/png;base64,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\" alt=\"Mol\"/></td>\n",
       "      <td>FCG1390566_PLANTS_02</td>\n",
       "      <td>NaN</td>\n",
       "      <td>NaN</td>\n",
       "      <td>NaN</td>\n",
       "      <td>NaN</td>\n",
       "      <td>NaN</td>\n",
       "    </tr>\n",
       "    <tr>\n",
       "      <th>2</th>\n",
       "      <td>FCG1390566</td>\n",
       "      <td>-66.4802</td>\n",
       "      <td style=\"text-align: center;\"><img data-content=\"rdkit/molecule\" src=\"data:image/png;base64,iVBORw0KGgoAAAANSUhEUgAAAMgAAADICAIAAAAiOjnJAAAABmJLR0QA/wD/AP+gvaeTAAAXhElEQVR4nO2deVgUR/6HPzMwwHAIck2ICCgCCh7LGoWoUVdxs5tFH3025HH3EUyMElBD4hGJRjNu4rnqBowmDtGsaLJrEDdPSKI/47OJbjzQ4IGKKAgL6CLIzQDDMDD1+6ORS645q2nq/Ysuqqu+De9TVV3dXSUihIDBMDZi2gEwhAkTi2ESmFgMk8DEYpgEJhbDJDCxGCaBicUwCUwsg2hqatqxY0djYyPtQHgHE8sgNmzYsH79+pCQkHv37tGOhV8wsQxiyZIlQUFBN2/eDA4OPnjwIO1w+ARhGIZSqVy0aBH3x4yMjKyrq6MdES8QEfas0BgcOXJk+fLl9fX1o0eP/uqrr8aPH087IsqwrtA4REVFZWRkjBs37u7duyEhIYmJibQjog3tJlNQqFSquLg47g/78ssvV1dX046IGqwrND6pqalLly6tqanx9/f/6quvfvWrX9GOCAAaGxttbGzMVx9ts4XJ3bt3J0yYAMDd3U+hUFOMRKVSpaSkhIWFzZo1y5z1MrFMhUqliomJCQ19AJCICGL+XjE9PT06OnrIkCFcC+Lg4FBRUWG22plYpuVf/yJDhxKAeHuTS5fMUWNlZaVCoejY/06cOFGhUNTW1pqj+icwsUxOQQEJDSUAsbQkO3YQrdYktbS0tJw5cyYyMlIqlXI+DR06NDo6+saNGyapry+YWOagqYnExxORiABk3jxi3B4pL69g48aNnp6enE8WFhbh4eFff/11U1OTMavRESaW+fjmG+LsTAAyfDg5f97Q0hobSUoKCQsj06Z9wSnl5+cnl8sLCgqMEayhMLHMSlERmTq1tVuUy0lLiz6F/PILiY0lTk4EIABxdm54/fXoc+fOaU3Uy+oFE8vcaDRELidiMQFIWBh59IiUlZH8/E55ysvJo0ddT6yqIgoFCQ5u9QkgEyeShAQjd6zGgolFh++/J66uBCAhISQ2lgAkJaX9t3Fx5A9/aP25pYWcOUMiI4mtbatPQ4eS6Ghy/TqVwPsLe1ZIh5dewvXrmDULu3cDgJMT3n4btbWd8hQWQi7HiBGYMwdHj0KtxksvITUVJSVQKMCP+fweYY906LN8OcrLkZ+PqVPBPbx+6y3k5WH6dMTHA8Dw4fjznxETAx8fqoHqgiXtABgAIBYjMREzZyIqChMntiYuXozbt7FkCWbMgEhENT7dYWLxhalT8ac/ISYG6emtKTIZjhyhGpMBsDEWj9i1C3l5EMYbzkwsHiGT4cMPsWkTampoh2IwTCx+ERMDLy8cO0Y7DoNhYvELCwscOACNhnYcBsMG7/SZPx8qVfvhc8/h6FFYWdELyBiweSy+sG4dbG2xahUcHWmHYgyYWLxAq4WdHdRq1NTAwYF2NMaAjbF4QVERGhvx7LMCsQpMLJ7Arfzg7087DuPBxOIFOTkAEBBAOw7jwcTiBZxYfn604zAeTCxewInFukKGkRFeV8imG+ijVsPODmIx6ushkdCOxkiwFos+ubloacHIkcKxCkwsPiC8uQYwsfiA8AZYYGLxgdxcQFhzDWBi8YGCgjB//wmBgVm0AzEm7K6QPm5ubuXl5cXFxR4eHrRjMRpMLMpUVVU5Ozs7ODjU1NSIBty3OD3DukLKcDsP+Pv7C8kqMLGo0yYW7UCMDBOLMrm5uWBiMYwOa7EYJiEnJwdCFIvdFdKEEGJvb9/Q0FBTU9O2vLEwYC0WTR48eNDQ0ODh4SEwq8DEootQ+0Ewsehy9+5dCFQs9iU0Haqrq5OTk7ds2eLq6lpSUkI7HBNAb5XKQUp6enpUVFTbfkmWlpYAduzYQTsuI8PEMhPcZklTpkzhfBKLxWFhYSkpKYcOHRKLxQC2bt1KO0ZjwsQyObm5ufHx8S4uLpxSTk5OcXFxeXl5bRk+//xzzq1t27ZRjNO4MLFMhUZDvvuues6cOW1Pl0NDQ48cOaJSqZ7OLDy3mFjGp6SE7NhBvL2JSER8fH5rY2MTERFx8eLF3s9q6xO3b99unjhNChPLmJw9S155hUgkrSv9BwSQzz67V1VV1c/T29wSwFieidU3331HwsLITz+1p5w6RRYubD+srSUKBRk/vtUnsZiEhZG0tD52kCssLCwsLOySePDgQWG4xcTqmwMHCED8/UljY2vKoUNk2DBCCMnOJnFxxN6+ValnniHx8aT37be4jQUjIiIsLS2XLVv2dAbOLZFIlJiYaPRrMRtMrL45cID4+pLAQLJ5c2sKJ9aJE+37Jc2cSVJSSO87BFZUVOzevXvUqFHcWN7a2rpbsQghn332GefW3r17jX01ZoKJ1TcHDpCAAHLmDLG2JtnZhDwRq76eeHmR6Ghy82YfJVy5cvPVV19t2/vU29t727ZtpaWlvZySlJQkEolEItHHH39svEsxH0ysvuHEIoTMm0fCwgjp0BU2N/d2IrdX5dSpZNq0nI6TohqNpj/17tu3j3Pr5MnDhl6D2WHPCnUgMRFBQZ0WYbew6D5nbi4OHMDhw6isBIBhw0bFx29ctuxVX1/f/le3YsUKQsiFC8fd3JaWldW5ua0wJHhzQ9vsAUBbi0UI2bKFDB9O9u1rbbG6wO0tGBFBLCza96pUKEh9vf61l5UpMjJEGRmix4/361+K2WFi9U1HsRobSUAACQjoXqwvv2z1SSolS5aQjAzjBFBamjDg3GJdoW5YW2PfPsyZg2HDuvntggUIDcUrr+DVVzF0qNEqdXd/CyAPHqwqKloJiNzcYo1WtMlgYvXNkCEYPrz9MCwMS5ciq7uVFqRSXLpkkhjc3d8G8ODBqqKiFQD47xb7mEIH1Go8egSpFDIZnQBKSz96+HA1IPLy+sTNLYZOEP2DvZqsA4cOYcQIbN5MLQCZbJWn598AUlS0vKxMQS2OfsDE0gHuU5ouW4KbGZlslafnHoAUFcXy2S0mlg7wQSwAMtlqT8/dXLtVUZFMOZoeYGLpACeWUkk7DkAmW+PpuQvQFhQsqajg48bR7K5QB3jSYnHIZGsBPHz4TmHhEgAuLlG0I+oEE0sHuK25eCIWAJlsrVarLi7eqFLdAlBb+0Np6Z6mpgKx2M7B4TfDhv1VJOrhkZPpYWLpAK9aLA4Pj/fs7CYPGTKnvv7K/ft/kMne8fDY1NxcoVJlUrQKbB5LJ1Qq2NrCxqbTTrs8obj4/aqqE0FBfFkhlw3edUAqhUSCxkY0NdEO5SnEYrumpoL6+iu0A2mFiaUbfBtmteHqukwqHX/37vM5ObMqK78gRE03HiaWbvBnxqELlpbOo0df8Pf/wcrKu7DwjXv3ZhKioRgPE0s3hgyBWKytrW2mHUi3iB0cZvv4/D0g4D/19em1tWdohkKx7oGIq+scrdaittY07zAYCRubQJHIQquleYvBpht0w9paAqCWT4MsQppFIsuyMoVWq7S3fwEQPX6cIBYPsbefRjEq1mLpBremI3/EUqvzs7JG19b+n0TioVSezc9fmJc3v6Wl2s/vtERC6eUeAKzF0hVOLCU/Ru/NzWW5uS+q1XllZQpf36+dnObRjqgd1mLpBn9aLK1WlZc3X62+b2s7ccSIo7TD6QoTSzccHBzAixZL+9//Lqqru2hl5TNq1HdisT3teLrCxNINTizqLdaDB6urq/9laens53dKInmGbjDdwsTSjZ66QkLIzJkzN2/eXFFRYeoYSkv3PH6cKBJZjRx53MZmtKmr0w8mlm70NHj/8ccfz50795e//MXb2/utt94qKCgwUQBVVccfPlwHiHx8Djk4zDJRLYbDxNKNnlqs2bNn//zzz+Hh4Q0NDXv37vX19Z07d+7ly5eNW3td3fmCgihA6+m5y9l5kXELNzKUP5gdaJw/fx7A888/31OGmzdvRkdHt622PXXq1LS0NG3vS7D1j8bG3Bs33DIyUFj4huGlmRomlm6kpKQAcHZ2vnTpUi/ZHj16JJfLnZycOL3GjRunUCi6Xda2n2g0j2/dGpWRgdzccK221zVu+AETq7+oVCq5XG5lZWVlZcXpMnHixOTk5OaelzKqra1NSEjw9PTk8j/zzDNyubz/S5K20dJSn50dmpGB7OxJLS11hl2HmWBi9Yvz58+PHj0agFgsXrRo0Zo1a4Y+WZthzJgxBw8ebGxbRvIp1Gp1cnJyUFAQl9/BwSEuLu7Bgwf9rLq5ufnDD5dcv+5+69YojeaxkS7I5DCx+qC+vj4+Pp5bcDYoKKitB1QqlQkJCd7e3pwu7u7ucrm8oqKil6K40T2X38rKKjIy8vbt230GEBMTA+DFF8epVDnGuSSzwMTqjZMnT3p5eQGQSCTx8fFPN0stLS1paWmTJ0/mdLG3t4+LiyvodXXba9euRUZGclvoiESisLCwtLS0njJv27YNgFQqvXDhgnEuyVwwsbqnsrIyOjqa0yU4OPjatWu95+daI24TCrFYHB4efvny5V7y379/f/ny5ba2tpxeOTndtEbHjh0TiURisfjEiRMGXQwNmFjdkJKS4ubmxjUVO3bs6GV43oXMzMzIyEiJRNLPuYbHjx/L5fLFixc//atz585ZW1sDSEhI0O8q6MLE6kRxcfGCBQs4LaZPn37v3j39Cuk41zBhwoTk5OSm3pfq7kxWVhZ3c7B69Wo9AuADTKxWtFptcnIy9+90dHRUKBQGzmrW1NQkJCQMe7Lyn4eHh1wur66u7vPE4uJi7p4gIiKipaXFkBgowsQihJD79+/PmtX63C08PLz/cwF9ws01BAYGcoUPGTIkLi7u4cOHPeWvra0NDg4GMHny5HpD1sSlzWAXS6PRJCQk2NnZAZDJZMnJyaaoRavVpqWlhYWFdZxryMrKejqYF198EYCvr+/jxwNmyqpbBrVYmZmZkyZN4v7ZERER5eXlpq7x6tWrkZGRFhYW3M1geHj4mTNn2n4bGxsLwNXVtdubxIHFIBWr7fkMAB8fn9OnT5uz9ry8vLi4OG6uoe3RkFwu5+5De38KOVAYjGJduHBhzJgx3IRTdHS0UqmkEkZpaenGjRvbtvQVi8UWFha9TJYOLAaXWD09n6FIY2NjcnKyv7//zp07k5KSaIdjNAaRWH0+n6FI/+dgBwqDQqwuz2euXr1KOyLhI3yx9H4+wzAEga/od/v27UWLFmVmZs6ePTspKWnkyJG0IxosCFys3/3ud6dPn37zzTcTExO5Vw8Y5kHIYhFCXFxcqqqqHj58OKzb3boYJkPIn39lZ2dXVVV5eXkxq8yPkMVKT08HEBoaSjuQwYiQxeK+Fw0JCaEdyGBEyGKxFosigh2819fXOzk5iUSimpoaqVRKO5xBh2BbrMuXLzc3NwcHBzOrqCBYsVg/SBfBisVG7nQRuFisxaKFMMXKz88vLS11d3dnDwdpIUyx2ACLOsIUiw2wqCNMsViLRR0BTpCq1WpHR0eNRlNVVcUtGcowPwJssa5evapWq8eOHcusoogAxWL9IB8QoFhs5M4HzCrWl18iM7NTyr//jR9+QGUlkpJw/Xp7enU1kpJQV6dPLazF4gXm/HLD15fs2dMpZdEi8vLLJDOTAMTbm9Q9WRH4zh0CkMJCnasoLi4G4OjoOHAXABIGPOoKra2xdauhhVy6dAlASEgI97kzgxY8+uvv3Ik9e5CVZVAh7BEhTzD3Dqs3b+LEifbDoiK4u7f+PH065s9HbCzOnWvPsH07ampgZ4cnq/bD2hq2trC1vd3QcFEsFjs6OrZltre3P3XqFNjInQeYW6z//Ad5ee2HOTntYgHYsweBgTh8GG0tzt69KCnpppwZM06fO7e22ypcXV1HjRpltIgZemFusVauxOrV7YeRkWhsbD/09MT77+Pdd/HNN60pGzagoQF1ddBoWlPUajQ0QCYbFxAQrdVqa2pq2k5XKpU3btwoKSnZv39/YmKiyS+G0QvmvFPo/a6Q29WhqYmMHUvmzdPzrvDOnTuWlpYSiUQAi+INaHg0eOeQSPDJJ/j2Wz1PHzNmzOLFizUazYYNG4waF0M3eCcWgBdeQGSk/qd/8MEHdnZ2qamp3N6CDDqYs3m8dYuUlHRKyc8neXmkoYFkZBCNpj29poZkZBC1Ws+KNm3aBCAkJMQoO1Ay9IBfr80UF2P+fDg54YcfdDvx/v37He8E6+rq/Pz8SkpKUlNT//jHPxo5SkZ/oG12J0pLCUDc3XU4pbm5ee7cuU+P1j/99FMAI0eOVOvd7jEMgF9jLG77mepqHU6xsLCQyWQajWb9+vUd05ctWxYUFJSfn69QKIwaI6N/0Da7K7a2BCA6bfZRXFzMbS3x888/d0xPS0sD4OzsXFlZaeQoGX3BrxYLejVaHh4ea9asAbB27VrSYcg4d+7cGTNmVFZW7t+v7+wFQ29om92VwEACkKe2mekDpVLp4eEB4Pjx4x3TMzJuhIYWS6X6zLUyDEEILRYAe3t7bsuQ+Ph4tVrdlj5x4oQRIzxUKmzcaMwgGX0iELEAvP7662PGjHl6tL5tG6yt8eWXuHrVSCEy+oFwxLK0tNy586/Tph1SKGI7PJiGjw/efBNaLdZ2/zIEwyTwTqyhQwGgqkqfc+fODbe2XnLnjmT79k7p770HFxecPYuTJ40QIaM/8E4svVssjl27IBYjMRGFhZ3KfO89AFi7Fs3NBofI6Ae8E4t7IbRjX6YTwcFYuBCNjdi0qVP6ihUYNQrZ2Th82MAAGf2Cd2IZ2GIB2LoVNjZdR+tWVtiyBQA2boRSaViIjH4gQLF8fLByZTej9VdewZQpKC3FRx8ZFCGjPwhQLHQYrZ861Z4oEmH3bohE2LULjx4ZVD6jT8z9znufPP887t2Dq6tBhXCj9V27Or1QzxW+YAGcnGBhYVD5jD7hUYv10Ufw9cXVq/D3h7MzAOzdC71fplqxArm5WLCga/rx43jhha6TpUeOIDdXz4oY3cIjsaqqUFiI2Fg0NbWnFBfrWZqVFezsukkXi7FqFebNw82b7Ylr1+LyZT0rYnQLj8QCMHUqmpuxa5fJKxoxAitXgk8vzwoNfoklkWD3bmzd2umj1qchBD/+aFBF8fHIysLf/25QIYxe4JdYAObNw8yZWLmytzx79mD2bERFob5ez1pcXPDBB1i3DuXlepbA6B3eiQXg449x9mynJR664OQEqRRHjyI0FHfu6FlLTAy8vLBunZ6nM3qHj2L5+uLdd7F2LTq8WNWJpUuRkYGxY3H7Np57Dvp9TG9hAYUCR4/iyhVDgmV0Dx/FAhAfD0vL9jHQL790zRAYiCtXEB0NlQpvv42ICH0eL06ahNdew+rVbBRvfHgqlo0N9u9vXWfm+HFMnoyoKDQ0dMojlUKhQHIy7O2RmorJk3Hjhs4Vbd+Ou3fZSMv48EiskSPx61+3H/72t1i1CpMmQamEjU3riCo7u+tZUVHIyMCECcjJQWiozt2iiwu6vLzFMA60X7rvF1lZZOxYAhCplCQkdJNBpSJxcQQgL71EevqqvrmZfP89IYRcv06qqtrTW1pIRkbrWjcMYzEwxCKENDSQZcsIQAASGUmUym7ypKaS8vIeS3jnHQKQ9983XYyMdgaMWBzJycTOjgAkIIDcuKHDiV98QQAikZCffjJVbIyODDCxCCHZ2WT8eAIQG5vuu8WnuXat9QPrTz81cXCMJww8sUiHERVAFiwgvX9Ar1QST08CkJgYc8XH4NsyRjpx4gSWLkV1Nby9cewYelmB+5//xOef4/vv25deZpiaASwWgNxcLFyIa9dgZYW//Q3/+x9u38Y//gF7+9YMmzZBJuvjySPDFPBoHksP/Pxw8SLi4qDRgBBcv45vv4Vc3p4hMxP37tGLbxAzsMUCYG2NxEScP9/aLP3+99i3T58peIZx4d077/oxZUrrDxMm4NlnER2N9HSw3XQoIsC//bZtyM1FUhLtOAY3AhTL3R1bt2L9epSV0Q5lECNAsQC88QZ8fdmaWDQRyBirCxYW+OQTTJsGHx94e9OOZlAizBYLwOTJeO019rUgNQQllr09pNL2w+3b4ePTKYVhNgb2zDuDtwiqxWLwByYWwyQwsRgmgYnFMAlMLIZJYGIxTAITi2ESmFgMk/D/d0udNpT0MgwAAAFZelRYdHJka2l0UEtMIHJka2l0IDIwMjIuMDMuNQAAeJx7v2/tPQYg4GWAAEYg5gNifiBuYGRjSACJMbMzaABpZmYYn80BzGdhd4CKQ/kQeSYmdHlM2gJEgwzKAAswCkBkmLiBLmBkAlqhwMySwcTCmsDKxsDKk8HExs7AzpHBxMGZwMmVwcTFncDNnsDDm8DLnCDCxMrMwsrDy8rBzs3FKb4J6gkQZuCzdA1z5FgjY/e3fZqj/t0MR385s/1zjkxxTFpY56gy3X5f5vupjhkTUx0jVrAeOHZnoqNfUpAjQ77qAa7rfY6H2oIdb8ZXHZjb0OPopurgWOI27QBXeKfjZV8bx+1JOw98tZzo+H+Tm2O72P0D9m4THc+tsnXkdvt6wFlmpuM/Zz3HtZn3DiQtnAuU13WUeb3jwPHTMxxTV6U7qi/oPxBxqtcxeFqF412VoAMvbk50FAMAUzFd2byowk4AAAHIelRYdE1PTCByZGtpdCAyMDIyLjAzLjUAAHicfZPLbhsxDEX3/gr9QARdkdRjGdtpEAQZA43brRdFC3STAEE2/fuQ1kwkZVHJBqSLM5zLx3w73INqkJQuv1/e3/5dgi5cfr2+/LkE2jlb34+Pf9/d56LjTvXwn1+t1f0kDbR7cnZw+7v7h8Udzrf7TTmcfiznZwd2EH1G98zenk9PmwJ3cCBPFTUo6CEW26H4gsRheDa6RUN6ETbgJvgMcEOlpjCiZEHFVzA3FCWjoZnbizaUDWVPXK5Row+lrFEjxTKiYgbIg+uKSrGjQ/ZFZDKQWlYxhqsBUisRDZU0R82G6mtDNeCGfappRZGyjGgxFD6nZkB8rkTNq5aNRrSa1+hZEzc0+ZohG1onFMFYaA4cjc0+JauGQ/WgMpkFjA2+VKQ1rlxTVDYHmtm4siib3Xx1o6xO0ZQZqLWB81YFLoVaFXL8Epfds3VXKOVW3FhItpZhmpm75ThNW5u//Wk59vmzHfuQ6cVRHyS7ch8W29IHQi8u9aZD/7k3lk2i3j2oVnqHWKU6dIFVw1hqNhUYCsomIw5lY5PLUBs2FZ+WYSZNHksyFsDu28er590HdG7M176eTSEAAADtelRYdFNNSUxFUyByZGtpdCAyMDIyLjAzLjUAAHicJY8xbsQwDAS/ktIHyIRWJEUSLt1clQ8Eqdy7SXuPDylXAgaj0er83s7Xhfvazmvc9/1zv3/H6/rD12cDEweidYJyg5NjygEhVWl7JwOksMY8oBSQheGGwiaIslm87YO6+7IHDz8yDYnC6nnCyFWLjtEzwhkbKKyz7LzdA20XmjEXx7T0QTazomTBa2EO5dIlR7R9Uhj04cGlu8pou9GcOQpBYM98Jw/M5Ws+n9w6Pxy+8pa5xD1C60tizxpx51pjo3Ql5Wm1fjjr81fI6/MP9/JJuK9+DWEAAAAASUVORK5CYII=\" alt=\"Mol\"/></td>\n",
       "      <td>FCG1390566_PLANTS_03</td>\n",
       "      <td>NaN</td>\n",
       "      <td>NaN</td>\n",
       "      <td>NaN</td>\n",
       "      <td>NaN</td>\n",
       "      <td>NaN</td>\n",
       "    </tr>\n",
       "    <tr>\n",
       "      <th>3</th>\n",
       "      <td>FCG1390566</td>\n",
       "      <td>-63.1923</td>\n",
       "      <td style=\"text-align: center;\"><img data-content=\"rdkit/molecule\" src=\"data:image/png;base64,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\" alt=\"Mol\"/></td>\n",
       "      <td>FCG1390566_PLANTS_04</td>\n",
       "      <td>NaN</td>\n",
       "      <td>NaN</td>\n",
       "      <td>NaN</td>\n",
       "      <td>NaN</td>\n",
       "      <td>NaN</td>\n",
       "    </tr>\n",
       "    <tr>\n",
       "      <th>4</th>\n",
       "      <td>FCG1390566</td>\n",
       "      <td>-62.6955</td>\n",
       "      <td style=\"text-align: center;\"><img data-content=\"rdkit/molecule\" src=\"data:image/png;base64,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\" alt=\"Mol\"/></td>\n",
       "      <td>FCG1390566_PLANTS_05</td>\n",
       "      <td>NaN</td>\n",
       "      <td>NaN</td>\n",
       "      <td>NaN</td>\n",
       "      <td>NaN</td>\n",
       "      <td>NaN</td>\n",
       "    </tr>\n",
       "    <tr>\n",
       "      <th>...</th>\n",
       "      <td>...</td>\n",
       "      <td>...</td>\n",
       "      <td>...</td>\n",
       "      <td>...</td>\n",
       "      <td>...</td>\n",
       "      <td>...</td>\n",
       "      <td>...</td>\n",
       "      <td>...</td>\n",
       "      <td>...</td>\n",
       "    </tr>\n",
       "    <tr>\n",
       "      <th>15</th>\n",
       "      <td>FCG16600623</td>\n",
       "      <td>NaN</td>\n",
       "      <td style=\"text-align: center;\"><img data-content=\"rdkit/molecule\" src=\"data:image/png;base64,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\" alt=\"Mol\"/></td>\n",
       "      <td>FCG16600623_GNINA_6</td>\n",
       "      <td>NaN</td>\n",
       "      <td>-0.14195</td>\n",
       "      <td>0.5672301054</td>\n",
       "      <td>5.9292335510</td>\n",
       "      <td>3.3632397652</td>\n",
       "    </tr>\n",
       "    <tr>\n",
       "      <th>16</th>\n",
       "      <td>FCG16600623</td>\n",
       "      <td>NaN</td>\n",
       "      <td style=\"text-align: center;\"><img data-content=\"rdkit/molecule\" src=\"data:image/png;base64,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\" alt=\"Mol\"/></td>\n",
       "      <td>FCG16600623_GNINA_7</td>\n",
       "      <td>NaN</td>\n",
       "      <td>-5.47436</td>\n",
       "      <td>0.4481829107</td>\n",
       "      <td>6.2056875229</td>\n",
       "      <td>2.7812831402</td>\n",
       "    </tr>\n",
       "    <tr>\n",
       "      <th>17</th>\n",
       "      <td>FCG16600623</td>\n",
       "      <td>NaN</td>\n",
       "      <td style=\"text-align: center;\"><img data-content=\"rdkit/molecule\" src=\"data:image/png;base64,iVBORw0KGgoAAAANSUhEUgAAAMgAAADICAIAAAAiOjnJAAAABmJLR0QA/wD/AP+gvaeTAAAa/UlEQVR4nO3deVhTV/oH8DcrBEgABREQUURBcBdpFdBqsYq/OgJ1RUSc+oB1wY6MpY9TR6x9rNZxrRSptSPgglKVAWu1iLUoWpBFXFBBkCXIbkhCCFnP74+rjGMVE0hyb+B8nj59bvHek5f223Mvh3PPoSGEAMN0jU52AVjvhIOF6QUOFqYXOFiYXuBgYXqBg4XpBQ4WphdMsgswbjU1Nffu3fvss88GDx48aNCgQYMGvXzA4XDILpA0NDxA2hOzZ8++du1ae3v7a//U1NTUwcHBxcXFxcXF3t6eOLa3t3d2drawsDBwqQaGg9V9qampCxcutLKyOnfuXFtbW01NDZ/Pr6mpIQ74fH5HR8ebrrWzsyM6tjNnzjAYDEOWbRg4WN0kFos9PDz4fP6hQ4ciIyNfe45AIHj69GldXV1FRcXLB1VVVRKJBABMTU39/PzOnz/PZrMNW77+IaxboqOjAcDLy0ulUml7rVqtfvr0aW5urpOTEwDk5+fro0Jy4Z8Ku+P+/fsHDhyg0+lxcXF0utb/Dmk0mr29vbe397Rp0wAgPz9fDzWSDAdLawihtWvXKhSK1atXe3t796SpSZMmAQ4WRkhMTLx69aqdnd22bdt62JSXlxcA3Lp1Sxd1UQt+eNeOQCBwd3dvbGxMTk4ODQ3tYWtSqdTS0lKtVguFQnNzc51USBG4x9LOpk2bGhsb/fz8li5d2vPWOByOh4eHSqUqLi7ueWuUgoOlhYKCgsOHDzOZzLi4OBqNppM2ibth73vMwsHSlFqtXrNmjUqlio6OHj16tK6axcHq6+Lj44mRpy+++EKHzRI/GPa+53f88K6RhoaGkSNHCgSCs2fPBgUF6bBluVzO4/HkcrlAILC0tNRhy+TCPZZGysvLlUqlo6Ojj4+Pbltms9ljx45FCBUVFem2ZXLhYGlk3LhxLBartrbW3d09Li5OpVLpsPFeOZqFg6URMzOz3NzcOXPmCASCtWvXenl5Xb9+XVeN98rnd/yMpZ2MjIz169c/efKERqOFhoZ+8803AwcO7GGbDQ0NxcXFbDbb3t7ezc1NJ3WSjhEbG0t2DcbEzc0tIiKCyWT+8ccfhYWFhw4dksvlU6ZMIeZUyeXybkyuEolEa9euNTc3/+233+rr68eNG6eHwg0N91jdVFFR8emnn2ZkZADAunXr5syZs2vXroEDB0ql0uTkZK1+P/P55597e3sHBwfrrVgykDlnx/hlZmaOHTv2wYMHY8aMEYvFCCGRSKRtI8HBwWVlZXqojkz44b1H/P39i4qKTExMhg0bRkxj53K52jZiY2NTX1+vh+rIhIPVUzQajcPhvOl9Ck2Eh4dv2bLlwYMHDx48KCkp0WFtJMLB0gE7OzuxWHz79m0AaG5u1vbyyZMnf/PNNydOnEhNTe01L1bgYOkAjUY7depUfHx8SEhIbGzs06dPIyMjte3Djh8/fuvWrV4z3IBfWNWNQYMGJSQkEMcffPBBZmYmn89PS0tjsViaXM5kMp88ecLj8fRZo0HhHkv3vvvuOzs7uwsXLoSHh6vVak0usba2BgCBQKDn0gwHB0v3XF1dz58/z+VyT5w4ERUVpcklvS9YeBxLX65cuWJiYgIAX3/9tSbnEzdNuVyu78IMA/dY+jJ9+vSUlBQGg7Fp06YjR4689XxiMpZQKNR/aYaAg6VHgYGBBw8eRAhFRkaeOXOm65N72d0QB0u/Vq1atWXLFpVKFRoamp2d3cWZOFiYdmJjY9evX9/R0TF37twuponiYGFa27Nnz8KFC0Ui0ezZs8vKyl57DhGsZ8+eGbY0fcEDpIZAp9OTk5OFQuGlS5cCAgKysrJUKlXFC8QKR3l5eUwms7i4eMmSJWTXqwN4PpbhiMXi6dOnFxQUvOkEExMTKyurkpKSfv36GbIwfcDBMqjGxsZ33nmnsrLS1dXV1dXV2dl5yJAhzi8sX748KysrLCwsMTGR7Ep7jORxtL5n7ty5AHDs2LE//1FFRQUx9TQ9Pd3whekWnvNuaHw+PzMz08rKysbG5vr16+fPnz927FhcXFxFRUVgYCCLxcrMzMzJyVm5ciUxcG+syE52n3Pz5k0AIBaJfFlAQABCSKlUEi/dr1mzhuxKewQ/YxmaQqGwsrKSSqXjx493dXXtfMZyc3NzdXUFgLt373p5eSmVyt9++23q1Klk19tdZCe7L5o+fToApKWlvemEf/7znwAwYsSI9vZ2QxamQ3iAlAR+fn4AcO3atTedsGnTJk9PTw5HXFa234B16RIeICUBEawufnVoYmJy5sy/29s/UCo3t7fPNDObaMDqdAM/Y5FAIpFYW1sjhJ49e9bF62J8/oaGhr0czpiRI/NpNI2mOFMHvhWSwNzcfPz48UqlMjc3t4vTHBy+MjFxlUrv1NfvNFhtuoKDRY63PmYBAJ1u5ux8GIBWV/eVVHrfUKXpBg4WOTQJFgBwue/Z2KxESFZV9TFCulyUS9/wMxY5mpubBwwYYGpq2tra2vUOTSqVqKTEUy7nOzntGzBgvcEq7CHcY5HDxsZm5MiRUqm0c7IDsSpzamrqK2cyGLzBgw8BQG3tJpms3NCFdhcOFmmWLFni4+Pz2WefyeVyAEhPT//uu+9CQ0N/+eWXV860tPy/fv0WM5n9FYoGMirtFpIHaPuwlpYWW1tbAFiyZAmxN11MTAwAcDicq1evvnKyQtGiVAplsurq6nVVVZFtbTfIKFkLOFhkun37NjEjmXhnWq1Wr1q1CgB4PN6tW7f+fP7jx0FicbZS2SqXPzV8tVrBwSLZjRs3iIW11q9fjxBSqVQhISEAYGNjc//+/VdOrqz8+OnTWKXyGRmVagcHi3yZmZnE1KuvvvoKIaRUKj/66CMAcHR0rKioePlMlaq9sfG7Bw/eefYslaRiNYWDRQnnzp1jMpkAsHv3boSQTCabNWsWAAwbNqy2tvaVk+VyflnZh2SUqQUcLKpITEyk0+k0Gu2HH35ACEkkEl9fXwBwc3NraGggzqmp+Xtt7RePH/+lqekHUot9OxwsCvn2228BgMFgnD59GiHU0tJCbDP2zjvvNDb+u6npB7Va0dFRrlA0k13p2+FgUcvWrVsBgM1mX7hwASHU0NAwevToM2fii4os8/NBJLpMdoGawsGinI0bNwKAmZlZdnY2Qkgulz98+FF+Pjx+PI/s0rSAg0U5arU6IiICACwtLfPz80+fPu3m5pKSMlku55NdmhbwDFLKodFo8fHxIpEoJSVl9uzZdDq9sbFRKIxhsRzJLk0LeHYDRSkUisDAwAsXLgCAr69vdna2rnahNgz8S2iKYrFYP/3004wZM9hstr+/v3GlCnCwqIzD4Xz88cdyufzixYtk16I1fCukNKlU6uDg0Nra+uDBA3d3d7LL0QLusSiNw+EQvzc8duwY2bVoB/dYVJednT1t2rRBgwZVVlYa0U47uMeiOj8/v2HDhvH5/N9//53sWrSAg0V1xObTAGBcq7HhW6ERqKysdHFxMTMzq6+vJ2YFUh/usYzAkCFDfH19JRLJ2bNnya5FUzhYxiEsLAyM6m6Ib4XGQSQS2dvbS6XS8vLyoUOHkl3O2+EeyzjweLx58+YhhE6cOEF2LRrBwTIanXdDo7jJ4Fuh0VCr1c7Oznw+//Lly0OHDhUKhW1tbWKxOEAioQkEIBKBWAw2NrBuHZSXw9GjIJdDUBC8+y455ZI3FQzTGjG51NnZ+X8CZ2mJAJ7/NWoUqqtDU6age/dQZSWaMwfl5JBSKu6xjElJSYmnpyebzXZ0dOTxeBYWFlwu95ydnamJCVhYAJcLDg4gl4OZGfz1rwAAeXlw5Ai82AXdkPAMUmPi4eHh7u7e0tKSlpY2ZsyY15/05ZcwePDzY1tbIGk7MRwsY6JQKIRCoVQqFYvF5eXlra2tIpHISyrltrZCWxsIBNDWBmPGQGEh/OUvAAAFBTBqFCml4mAZk1OnTtXV1dnZ2RHvshKaJ06El3cUE4ng1CnYtAm4XLhyBVJSSCgUB8u47NmzBwBmzZr1yy+/cLlca2trCwsL8ciR/YcPBx4PrKzAwgKYTEhNhdJS6OiAjRuBSc5/YvzwbjSysrL8/f3t7OwqKytNTU3JLuct8ACp0di9ezcAREVFUT9VgHssY/Ho0SMPDw9TU9Pq6ur+/fuTXc7b4WcsDbS1QUcH2NiQWIL9wYM7/Pyk3t5GkSrAPdbbrVkDIhFYWsKTJ3D8OFhZkVBDYyM4O4NcDo8egasrCQVoDz9jdenXX4HNhuRkOHgQwsJg3z5yyvj2W+jogHnzjCVVgIP1Frdvw+TJz499fKCoiIQa2tvh0CEAgOhoEj69u3CwusTjgUj0/FgoBEtLEmpITITmZpg0CXx8SPj07sLB6tLcuZCYCE1NIJPBzp2weDEAQGMjHD1qoAIQggMHAAA2bjTQJ+oIfnh/m8JCOHQIZDIICoLAQJBKYdQoePIEUlJg4UK9f3pZGfj5AYcDZWVkjaF3Dw6WNtRqoNNh717YsAE4HLh6Fby99fVZ9fWQng4qFcycCTIZeHrq64P0A98KNbZ/P8yZA0ol/O1vEBkJUikEBgKfr5fPamyEjz6CoUPBwwNWrABjGGp/FSnTC41PYyOys0MAaM0ahBCSydDUqQgATZok18dG8//6F0pKen7888/o8891/xF6hnsszdjawvnzwOFAXBzExwObDWfPIje30xxOSFgY0v5xQiaT7dq1a9myZbt27VIqlQCgUqlU+fmwcyfExkJdHTg5PT/VyQnq6nT73RgC2ck2KklJCAAxmejyZYRQ2f37PB4PAL788kttW1q5cmVCQkJHR0d6enpOTs68efOsrKzqvb0RAOJy0bffovj456empKBt23T7fRgADpaWPv8cAUgmTCgrK0MIXbx4kcFg0Gi0lJQUTa6WSqWFhYXE6u2dX6yrqyNWgjwbHIwiIlBKCmppQe+9hw4fRomJaOpU1Nior29Hb3CwtKRSVa9a5cjluru7CwQChNCuXbsAgMPh5OXlvXKuXC4vLy9PT0/fsWPHsmXLPDw8iAWu4uPjx40b9/KZqampVVVV/3Nxezu6dAn9/DMSifT8LekFDpbWxGIx8SLDzJkzFQoFQmjFihUAsGzZspKSktTU1NjY2AULFowcOZL5p5EnFovl4eFx5MiRd999t76+nuxvRY9wsLqjsrLSzs4OXmwy+OOPPzo4OPx5z3AGgzFixIjg4OAvvvgiJSXl7t27MpmMaCE7O9vX1zcmJiY0NLSuro7U70Yv8ABpN924cWPGjBkymSwgIKCuru727dsAYG9v7+np6eHhQfx9woQJZmZmb2pBpVLx+XwbGxtzc3MDFm4gOFjdl5SU9OmnnzKZzKamph9//HHRokVdxKivwcHqkZ9++mnBggWurq6lpaVGt8a/XuEB0h75z3/+AwBhYWE4Va/APVb3tbW12dvbSySSx48fu7i4kF0OteAeq/tSU1Pb2tqmTp2KU/VnOFjdl5ycDC/WQ8NegW+F3VRVVeXi4mJiYlJXV2dJypRlasM9VjclJyer1eqgoCCcqtfCweqm48ePA74Pvhm+FXbHzZs3p0yZ4uDgUF1dbUQbJxkS7rG6g3hsX7p0KU7Vm+AeS2tyudzBwaGlpeXOnTujR48muxyKwj2W1tLT01taWiZMmIBT1QUcLK3h4StN4FuhdpqamhwdHRFCfD6fmJKFvRbusbRz4sQJhUIREBCAU9U1HCztHD16FPB9UAP4VqiR+/fvp6amnjx5ktjBpra2Fg+4dw0H643UavWNGzfOnDlz9uzZ6upq4osmJiYymWzDhg3EUrPYm+Bg/YlaDTduQGpqR04O58XC/E5OTkFBQXPnzuXxeL6+vkql8ueffw4ICCC3Ukoj5x0OKigqQmvXoogIlJmJEEJyObp0CUVEIFvbzs20Pp0xY+PGjbm5uWq1uvO6bdu2AYCDg0NzczNpxVNeXw1WZSXy80O1tai1FQUGoqwsNHjwfzdnc3ND//gHKix85SKhUKhWq1Uq1XvvvQcAgYGBpNRuFPpqsPbsQcnJz4/z8lBEBFq0CHl4oJgYdO3aa6/4/fffnZyc9u7dixCqqamxtrYGgMOHDxusZOPSV4MVG4vS058fl5aiRYuQVNr1FRcuXKDRaCYmJrdv30YIpaamAoC5ufnDhw/1Xawx6qvjWGPHQl7e8+M//oBx4966uFlAQEBkZKRMJgsJCZFKpfPnzw8NDZVIJEuXLpXL5Xov2OiQnWySqFQoNBStXo02bkRz5iChUJOLJBKJu7s7AERFRSGEWltbhwwZAgCbNm3Sc7nGp68GCyEkEqHjx1FGhlYXFRYWstlsGo2WkZGBELp+/TqDwaDT6VeuXNFPlcaqDwersBABoPHjtb1u586dADBgwABiMY/NmzcDwKBBg1paWvRQpbHqw8HKykIAaMYMba9TqVQzZswAgNmzZ6vVaoVCMXnyZACYP3++Pso0Un04WGfOIAAUHNyNS/l8PrELV1xcHEKovLycWDMyqXNF2j6vr/5UCACtrQDQvd28HB0dv//+ewCIjo6+e/eui4vLvn37AGD16tVlZWU6rdJY4WB1c5u44ODgFStWdHR0hISEdHR0rFixYtGiRW1tbeHh4cQqyH0cRYN18eJF4kAsFt+4cUMvnyEUAkBP9l06cOCAq6srl8sVCoUAcPDgQTMzs379+ikUCl3VaLwoGqytW7cSB3V1dcRNR+eq1epHQ4eKbW273YKFhUVWVlZ2djYxm3Tfvn3t7e2FhYW6q9GIUTRYBvBFVZX7kydpFhY9aWTw4MHECrYZGRnbt29nMBhHjx7lcDg6qtGIUXRDKYlEEhISAgBisVhPuyC3trYCgJUutuJ9/PhxWFgYQujrr7+eOXNmzxvsBSgaLHNz8xMnTgBAaWnp9u3b9fERugqWVCpduHBha2vrvHnz/v73v+uitN6g794KXwlWeHh4UlKSRCLRtp1PPvmkqKhoxIgRiYmJeMHI/yJ7IO31fv31V+Lg/v37yZ0Tp3TKyckJAKqrqxFCnT94cjicBQsWpKenK5VKTRrZv38/AFhYWNy7d08fRRovigaLkJaWBgD+/v76aJzL5QKASCRCCAmFwsOHD/v6+nZ2Oc7Ozps3by4tLe2ihZs3bxKbBpw6dUofFRo1SgdLIBCw2WxiIXXdtnzp0iUOh0Oj0SIiIgoKCjq/Xl1dvWPHjmHDhnX26BMnTty3b9+fC6ivr3d0dASA6Oho3dbWO1A6WAihgIA5Eyd+kJLySFcNikSiyMjIVx6GJkyYsG/fvsYXm2yp1eqrV6+Gh4cTvRoAmJqaLl68WPhi2pZCoZg2bRoATJkyRS6X66q23oTqwTp0SAWA5s7VTWvXrl1zdXUFABaLtWXLljt37sTExNi+GCNlMBj+/v6JiYntLzZNlUqlp0+f/vDDD5lMpqura+e7OtHR0QAwcODA2tpa3VTW61A9WPX1iMFAJiYazvF8o/b29piYGDqdDgBjxowpKirq/CNiN8oFCxawWCwiYVZWVhEREddeequiurq68x/PnTtHo9FYLFZ2dnaPaurVqB4shNCiRSgqCjU0dL+FnJycESNGEB1VTExM5xZcr2hpaUlISPDx8em8Rbq7u2/ZsuXJkyed5zx8+JCYIbN///7uF9QHGEGwQkLQsWMIIVRaijZv1u5aqVQaExNDLOg4evTol5/Tu3Dv3r2YmJiBAwcS8aLT6T4+PgkJCQ0NDR4eHgCwePFi7b+PvsUIgjVjBpo1C7W0oHv30CefaHHhzZs3iXcfmExmFx3VmygUioyMjPnz55uYmBAJIw5GjRrV1tam3ffQ9xhHsLKz0cqVWgTr5Y7K09Pz1q1bPSlAIBAkJib6+/vb29uHh4c/eqSzH1F7MSNYFOT99yErC8LDwc8PCgpApQIuF5YvhzetAFpcXLx8+fLi4mImkxkdHb1169bOLqeHBAIB8QI09nZkJ/vtiNcd6uvRyJFoxQrEYj1fYGH8ePT9949e3llZLpfv2LGD+OHOw8MjNzeXtKL7PCMI1tKlzw8SEtDmzSg/H0VFPV8SZtKkOZ2DT3l5eePHjwcAOp0eEREhkUhIrbqvo3qw7t1D3t7o9OlXv97Rgc6eVQUFBXcOPllYWADAiBEjcnJyyKgU+x9Uf8aKiIDDh2HdOjhw4PUnNDU1nTx5MikpKSgoqLm5efv27XgCJxVQOlgCATg5QXs7lJSAuzvZ1WDaIGeiX05Ojibv3nz/PUgkEBCAU2V8yAlWdHS0j4+Pl5dXUlKSSqV67Tkqler8eQkArFtn2OIwXSAhWHK53N/f39rauqCgYPny5aNGjTpy5IhMJnvltLS0tJwc3ty5e2fNMnyNWI+R9VODWCxOSEgYPnw4UcaAAQO2bNny8oItfn5+8GJxBMzokDzcoFKp0tPTvb29iXhZWFhERUVVVVUVFRUBAI/HE/ZwugxGEqqMY126dMnf35+IF4vFIiYHb9iwAc/PNFLUGm4oLi7evXv3yZMnaTSara3t8OHDCwsL+Xw+MQUKMyLUeq9w7Nix5ubmPB5v7969NTU1KpVKLBZfvXqV7LowrVErWADQ3Nz87NkzNptNp9OJm2NmZibZRWFao1ywXg4TsQ7C5cuXSa4J0x61nrEAoLKycujQof37929sbFSr1TY2NkKhsLq6mnhxGTMWlOuxhgwZ4uLi0tLSUlRUxGQyiV1rcKdldCgXLHhxByTuhss+/DDRz2/63btkF4Vph3K3QgD45dy5Ozt3fjhqlOcPP0BpKbi5gY0NNDQAnYr/G2CvRcVggUAAtrbAYMCzZ2BuDkOHQmUlFBXBuHFkV4ZpipJ9gLU1TJgAcjlcvw4A8P77AAB40MGoUDJYAEAsuEiE6eVjzEhQNVjE7w2JMPn7A50O166BVEpuUZjmqBosHx8wN4e7d6G+Hvr3h3HjgMMBvOmD8aBqsNhsmDoVWCwoLgYASE+HpiYYM4bssjBNUfKnQkJlJdjaQm4uHDgAZmZAp8Pu3WBnR3ZZmEYoHCwAEIvhgw8gKwvMzOD6dTh0CI4dI7smTCNUvRUS7t6FSZPAzAwAwNcXHj4kuyBMU9QOFoMBL7/Dg1dRNx7UDtbo0VBQ8Hz/t0uX8Mi7EaH2MxYA5OXBrl3AYgGPBzt2dHt7QczAKB8szDhR+1aIGS0cLEwvcLAwvcDBwvQCBwvTCxwsTC9wsDC9wMHC9OL/AX2EINUOZfwOAAACQXpUWHRyZGtpdFBLTCByZGtpdCAyMDIyLjAzLjUAAHice79v7T0GIOBlgABGIJYGYlkgbmBkY0gA0kxMbAwaQJqZhQNCM7E5QPhsDhkgmpkRiQFV6QBVCTcBRDMyo5vEDqGZGcE0IyPcBsI2wgQgtABWC3HT3JxcDFzcGkxcPAo8HAwczEAjMphYWBNY2TKY2BgVGJk0mEBhwcfAx6/AL6DBxC+oICiUwSQknCAsksEkIpogIsYgJs4gLsEgIckgKcXAxp7AzpwgKpggJczAw8sgwszKzMLKxs4qJCgqIswuJiIsJSkhLu7HCAliEGaQ7uqrcvxtpXLAanGXY0hJiqOnnvGBCK8+R73/4Y5hte/2T3w7wdFAy91Rb8KeA9dc+x27c6IdbWefPtBXOsGx/neG4+tHKw48s5/gKJwY47gwvfWA/rs+R406D0e/pEkHOpL7HM/UGzvmcF4/8J2t3/E7m5Djg333DnC9WOH46KW8Y3L96wMTFsx3FJVVdRQS4TzYYznfkStDzXFe3NkDG5hnOPLPUXRUmb7+wLz3Mxxv7m127H8idsDix2RHK+UOx3SXifv7Sqc5Gqzqd7z6vGt/C+9cx9jcFqCaT7b+ByY6Gj2rckw502rvd3Gq449DZY7XwjgcFm3pd/TOanBsDuR1MORoc1x4rd1R4KW7/b4NrY7RG+sd8xYHOswG6quoqnZUvj3Rgdut2XFqajLQrukOJ781O17Kj3T8yZ/rYPezy9E7Mt3x/gNvh/sPJjuKAQAO3q43TUv3PAAAAsR6VFh0TU9MIHJka2l0IDIwMjIuMDMuNQAAeJx9lUFy2zAMRfc+BS9gDj8IEsQyttO004k907i5Q/e9/xQgpYjcVPZCpJ6/QOAD/nZ9Q60pVcqn4Nev288/f8PXlW8n20//+apq+MwppdN78JtweX37cQ/X58tl37k+ft+fH4EkkNpv7LOyL8/H+76DcA0osRZtKYUzxVIr7A4SM6mk6cfkKEeSxgMV7YCh0mqe0RweATmyDlVEe06OtgjY8SeUXZUis3S0xKZUh6omxYwWR3MUsCuca8yVZKimIjyjdcRaKnioksiOZtCMyqYq2YEzR9SmI4BW12M1P5alKKc2UHtr2TKgrc6ouioiocmIVaC76kjgFwqrWNAIqhuqtesTLFl5CQDoqCr7y85Wo6IOwPZKXlXJg00xQzvbLBk9R85aDhY2h7uz9phHCIxeDmNTQltYDt+dNYE6UstNaLCALLVF8RhMrfbkm2Vy2cvAWpcyoJdMYkJXM88gsw62pbW6ENc1g5SGwaZWthhqxlIINNetsWz5sSB7pUzWiqMLqlsztO4QU+WSByokS7SUBsrUzUoWbMqba4fVDxQjgFSgHaXUo7YtKbzkiyh8+L5K75tkfZV0Q80KC5pHAAY6ms3gpR+rh7+iPFBBz6K5trQ0VDnpGmvZehyUO2rn3mJlLWVB6+ib0nQEIIn3wSFYB4cMVR5mzRGtbCXgxou7Xu+3ZTyNgXV53G/HwIJ3DHCMJfK+AB3DB30jHyPGV0GPOQLrTz5mBdunHPPAFqEePc9GyNHXMIKm3vX356lB4fFMXdgDLlOr+dIyOjUUufshU9ug77SpOdidDJ1agN2wNBud3ZeEyc/s9iOabIu+kyd3+tJMMpkQ7hkqk9fg1qA6WQruAJLJOWyJaZM92HM3eYC79EE015DpBKSjUODZDnPxfb3/09n96R/wtVxsFFe5+QAAAZF6VFh0U01JTEVTIHJka2l0IDIwMjIuMDMuNQAAeJwlkj2u20AMhK+SUgLWC/4uSQivUpMqPkCQSgdIkfYdPsO1G8MfxjPkcH///PPruB9+nue4j6/3eb/31yPPo0D90fOfnH/5vI/7/Hr/+D6YJhOt8fJpGTK4JnNcwEZk47WmcWRjIs6LeQpnNA+uGhwzI+1imWbQwSZLVvOi4osVum2jS2JwTvKA3Kav5j4l4sOVZctDYW+TV37s19LWC2LGS2ZURfPI5jqtCrEMnUr7MK+LfS5vLIhZ3HKVwlbYZiEOXP0Ta7UQG5MYy8OG1ap5Uo+JLTy5OaXvcpa2/5ruagPdca6Wo5TascmQTTLXxiEhjU3QicCcdFeDWduEnAtYCBn4GW4trqQcioUd1ttSGweHDfTm2Vqjkl0Li4IiaFtYuXcrntUeQfbZPvqmNs1LgTl9T21p2XNUQE2olGrPwZ2I7hSD4BS4mO/KK9dVs8rwXmDaZqikUAUwy9rvohb+JWiSVfsdKRfkiUtg/pbj0uf3fx3Zi9+Q0KcdAAAAAElFTkSuQmCC\" alt=\"Mol\"/></td>\n",
       "      <td>FCG16600623_GNINA_8</td>\n",
       "      <td>NaN</td>\n",
       "      <td>-9.67270</td>\n",
       "      <td>0.4365283549</td>\n",
       "      <td>6.5132207870</td>\n",
       "      <td>2.8432054520</td>\n",
       "    </tr>\n",
       "    <tr>\n",
       "      <th>18</th>\n",
       "      <td>FCG16600623</td>\n",
       "      <td>NaN</td>\n",
       "      <td style=\"text-align: center;\"><img data-content=\"rdkit/molecule\" src=\"data:image/png;base64,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\" alt=\"Mol\"/></td>\n",
       "      <td>FCG16600623_GNINA_9</td>\n",
       "      <td>NaN</td>\n",
       "      <td>-7.48895</td>\n",
       "      <td>0.4319055676</td>\n",
       "      <td>6.2404356003</td>\n",
       "      <td>2.6952788830</td>\n",
       "    </tr>\n",
       "    <tr>\n",
       "      <th>19</th>\n",
       "      <td>FCG16600623</td>\n",
       "      <td>NaN</td>\n",
       "      <td style=\"text-align: center;\"><img data-content=\"rdkit/molecule\" src=\"data:image/png;base64,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\" alt=\"Mol\"/></td>\n",
       "      <td>FCG16600623_GNINA_10</td>\n",
       "      <td>NaN</td>\n",
       "      <td>-7.47460</td>\n",
       "      <td>0.4193807840</td>\n",
       "      <td>6.4918575287</td>\n",
       "      <td>2.7225604057</td>\n",
       "    </tr>\n",
       "  </tbody>\n",
       "</table>\n",
       "<p>270 rows × 9 columns</p>\n",
       "</div>"
      ],
      "text/plain": [
       "             ID  CHEMPLP                                           Molecule  \\\n",
       "0    FCG1390566 -71.9150  <img data-content=\"rdkit/molecule\" src=\"data:i...   \n",
       "1    FCG1390566 -66.5795  <img data-content=\"rdkit/molecule\" src=\"data:i...   \n",
       "2    FCG1390566 -66.4802  <img data-content=\"rdkit/molecule\" src=\"data:i...   \n",
       "3    FCG1390566 -63.1923  <img data-content=\"rdkit/molecule\" src=\"data:i...   \n",
       "4    FCG1390566 -62.6955  <img data-content=\"rdkit/molecule\" src=\"data:i...   \n",
       "..          ...      ...                                                ...   \n",
       "15  FCG16600623      NaN  <img data-content=\"rdkit/molecule\" src=\"data:i...   \n",
       "16  FCG16600623      NaN  <img data-content=\"rdkit/molecule\" src=\"data:i...   \n",
       "17  FCG16600623      NaN  <img data-content=\"rdkit/molecule\" src=\"data:i...   \n",
       "18  FCG16600623      NaN  <img data-content=\"rdkit/molecule\" src=\"data:i...   \n",
       "19  FCG16600623      NaN  <img data-content=\"rdkit/molecule\" src=\"data:i...   \n",
       "\n",
       "                 Pose ID SMINA_Affinity GNINA_Affinity      CNNscore  \\\n",
       "0   FCG1390566_PLANTS_01            NaN            NaN           NaN   \n",
       "1   FCG1390566_PLANTS_02            NaN            NaN           NaN   \n",
       "2   FCG1390566_PLANTS_03            NaN            NaN           NaN   \n",
       "3   FCG1390566_PLANTS_04            NaN            NaN           NaN   \n",
       "4   FCG1390566_PLANTS_05            NaN            NaN           NaN   \n",
       "..                   ...            ...            ...           ...   \n",
       "15   FCG16600623_GNINA_6            NaN       -0.14195  0.5672301054   \n",
       "16   FCG16600623_GNINA_7            NaN       -5.47436  0.4481829107   \n",
       "17   FCG16600623_GNINA_8            NaN       -9.67270  0.4365283549   \n",
       "18   FCG16600623_GNINA_9            NaN       -7.48895  0.4319055676   \n",
       "19  FCG16600623_GNINA_10            NaN       -7.47460  0.4193807840   \n",
       "\n",
       "     CNNaffinity        CNN_VS  \n",
       "0            NaN           NaN  \n",
       "1            NaN           NaN  \n",
       "2            NaN           NaN  \n",
       "3            NaN           NaN  \n",
       "4            NaN           NaN  \n",
       "..           ...           ...  \n",
       "15  5.9292335510  3.3632397652  \n",
       "16  6.2056875229  2.7812831402  \n",
       "17  6.5132207870  2.8432054520  \n",
       "18  6.2404356003  2.6952788830  \n",
       "19  6.4918575287  2.7225604057  \n",
       "\n",
       "[270 rows x 9 columns]"
      ]
     },
     "execution_count": 4,
     "metadata": {},
     "output_type": "execute_result"
    }
   ],
   "source": [
    "fetch_poses_splitted(w_dir, n_poses, split_files_folder=w_dir+'/temp/split_final_library')"
   ]
  },
  {
   "cell_type": "code",
   "execution_count": 5,
   "metadata": {},
   "outputs": [
    {
     "name": "stdout",
     "output_type": "stream",
     "text": [
      "Loading all poses SDF file...\n",
      "Finished loading all poses SDF in 0.1816!...\n"
     ]
    }
   ],
   "source": [
    "print('Loading all poses SDF file...')\n",
    "tic = time.perf_counter()\n",
    "all_poses = PandasTools.LoadSDF(w_dir+'/temp/allposes.sdf', idName='Pose ID', molColName='Molecule', includeFingerprints=False, strictParsing=True)\n",
    "toc = time.perf_counter()\n",
    "print(f'Finished loading all poses SDF in {toc-tic:0.4f}!...')"
   ]
  },
  {
   "cell_type": "code",
   "execution_count": 7,
   "metadata": {},
   "outputs": [
    {
     "name": "stdout",
     "output_type": "stream",
     "text": [
      "The folder: /home/tony/CADD22/wocondock_main/temp/clustering/ already exists\n",
      "*Calculating RMSD metrics and clustering*\n",
      "Submitting parallel jobs...\n"
     ]
    },
    {
     "name": "stderr",
     "output_type": "stream",
     "text": [
      "100%|██████████| 9/9 [00:00<00:00, 165.83it/s]\n"
     ]
    },
    {
     "name": "stdout",
     "output_type": "stream",
     "text": [
      "Finished submitting jobs in 0.0576, now running jobs...\n"
     ]
    },
    {
     "name": "stderr",
     "output_type": "stream",
     "text": [
      "100%|██████████| 9/9 [00:01<00:00,  6.86it/s]\n"
     ]
    },
    {
     "name": "stdout",
     "output_type": "stream",
     "text": [
      "The folder: /home/tony/CADD22/wocondock_main/temp/clustering/ already exists\n",
      "*Calculating spyRMSD metrics and clustering*\n",
      "Submitting parallel jobs...\n"
     ]
    },
    {
     "name": "stderr",
     "output_type": "stream",
     "text": [
      "100%|██████████| 9/9 [00:00<00:00, 185.00it/s]\n"
     ]
    },
    {
     "name": "stdout",
     "output_type": "stream",
     "text": [
      "Finished submitting jobs in 0.0518, now running jobs...\n"
     ]
    },
    {
     "name": "stderr",
     "output_type": "stream",
     "text": [
      "100%|██████████| 9/9 [00:05<00:00,  1.68it/s]\n"
     ]
    },
    {
     "name": "stdout",
     "output_type": "stream",
     "text": [
      "The folder: /home/tony/CADD22/wocondock_main/temp/clustering/ already exists\n",
      "*Calculating espsim metrics and clustering*\n",
      "Submitting parallel jobs...\n"
     ]
    },
    {
     "name": "stderr",
     "output_type": "stream",
     "text": [
      "100%|██████████| 9/9 [00:00<00:00, 165.61it/s]\n"
     ]
    },
    {
     "name": "stdout",
     "output_type": "stream",
     "text": [
      "Finished submitting jobs in 0.0576, now running jobs...\n"
     ]
    },
    {
     "name": "stderr",
     "output_type": "stream",
     "text": [
      "100%|██████████| 9/9 [00:00<00:00,  9.24it/s]\n"
     ]
    },
    {
     "name": "stdout",
     "output_type": "stream",
     "text": [
      "The folder: /home/tony/CADD22/wocondock_main/temp/clustering/ already exists\n",
      "*Calculating 3DScore metrics and clustering*\n",
      "Submitting parallel jobs...\n"
     ]
    },
    {
     "name": "stderr",
     "output_type": "stream",
     "text": [
      "100%|██████████| 9/9 [00:00<00:00, 181.33it/s]\n"
     ]
    },
    {
     "name": "stdout",
     "output_type": "stream",
     "text": [
      "Finished submitting jobs in 0.0542, now running jobs...\n"
     ]
    },
    {
     "name": "stderr",
     "output_type": "stream",
     "text": [
      "100%|██████████| 9/9 [00:05<00:00,  1.68it/s]"
     ]
    },
    {
     "name": "stdout",
     "output_type": "stream",
     "text": [
      "The folder: /home/tony/CADD22/wocondock_main/temp/clustering/ already exists\n",
      "*Calculating bestpose metrics and clustering*\n",
      "The folder: /home/tony/CADD22/wocondock_main/temp/clustering/ already exists\n",
      "*Calculating bestpose_GNINA metrics and clustering*\n",
      "The folder: /home/tony/CADD22/wocondock_main/temp/clustering/ already exists\n",
      "*Calculating bestpose_SMINA metrics and clustering*\n",
      "The folder: /home/tony/CADD22/wocondock_main/temp/clustering/ already exists\n",
      "*Calculating bestpose_PLANTS metrics and clustering*\n"
     ]
    },
    {
     "name": "stderr",
     "output_type": "stream",
     "text": [
      "\n"
     ]
    }
   ],
   "source": [
    "for metric in clustering_metrics:\n",
    "    cluster_futures(f'{metric}', 'KMedoids', w_dir, protein_file, all_poses)"
   ]
  },
  {
   "cell_type": "markdown",
   "metadata": {},
   "source": [
    "**Rescoring**\n",
    "\n",
    "The file containing all the cluster centers is then rescored using all scoring functions available (GNINA, Vina, AutoDock4, PLP, CHEMPLP, RF-Score-VS). The rescored output is return as a dataframe."
   ]
  },
  {
   "cell_type": "code",
   "execution_count": 8,
   "metadata": {},
   "outputs": [
    {
     "name": "stdout",
     "output_type": "stream",
     "text": [
      "The folder: /home/tony/CADD22/wocondock_main/temp/rescoring_RMSD_clustered was created\n",
      "The folder: /home/tony/CADD22/wocondock_main/temp/rescoring_RMSD_clustered/gnina_rescoring/ was created\n",
      "Rescoring with GNINA\n",
      "Rescoring with GNINA complete in 4.0416!\n",
      "Rescoring with AD4\n",
      "The folder: /home/tony/CADD22/wocondock_main/temp/rescoring_RMSD_clustered/AD4_rescoring/ was created\n",
      "Rescoring with AD4 complete in 0.7659!\n",
      "Rescoring with CHEMPLP\n",
      "The folder: /home/tony/CADD22/wocondock_main/temp/rescoring_RMSD_clustered/chemplp_rescoring/ was created\n"
     ]
    },
    {
     "name": "stderr",
     "output_type": "stream",
     "text": [
      "24 molecules converted\n"
     ]
    },
    {
     "name": "stdout",
     "output_type": "stream",
     "text": [
      "Rescoring with CHEMPLP complete in 1.5974!\n",
      "Rescoring with RFScoreVS\n",
      "The folder: /home/tony/CADD22/wocondock_main/temp/rescoring_RMSD_clustered/rfscorevs_rescoring was created\n",
      "Rescoring with RF-Score-VS complete in 5.0995!\n",
      "Combining all score for /home/tony/CADD22/wocondock_main/temp/rescoring_RMSD_clustered\n"
     ]
    },
    {
     "name": "stderr",
     "output_type": "stream",
     "text": [
      "100%|██████████| 3/3 [00:00<00:00, 466.09it/s]"
     ]
    },
    {
     "name": "stdout",
     "output_type": "stream",
     "text": [
      "Rescoring complete in 11.5260!\n",
      "The folder: /home/tony/CADD22/wocondock_main/temp/rescoring_spyRMSD_clustered was created\n",
      "The folder: /home/tony/CADD22/wocondock_main/temp/rescoring_spyRMSD_clustered/gnina_rescoring/ was created\n",
      "Rescoring with GNINA\n"
     ]
    },
    {
     "name": "stderr",
     "output_type": "stream",
     "text": [
      "\n"
     ]
    },
    {
     "name": "stdout",
     "output_type": "stream",
     "text": [
      "Rescoring with GNINA complete in 3.8882!\n",
      "Rescoring with AD4\n",
      "The folder: /home/tony/CADD22/wocondock_main/temp/rescoring_spyRMSD_clustered/AD4_rescoring/ was created\n",
      "Rescoring with AD4 complete in 0.7596!\n",
      "Rescoring with CHEMPLP\n",
      "The folder: /home/tony/CADD22/wocondock_main/temp/rescoring_spyRMSD_clustered/chemplp_rescoring/ was created\n"
     ]
    },
    {
     "name": "stderr",
     "output_type": "stream",
     "text": [
      "24 molecules converted\n"
     ]
    },
    {
     "name": "stdout",
     "output_type": "stream",
     "text": [
      "Rescoring with CHEMPLP complete in 1.5901!\n",
      "Rescoring with RFScoreVS\n",
      "The folder: /home/tony/CADD22/wocondock_main/temp/rescoring_spyRMSD_clustered/rfscorevs_rescoring was created\n",
      "Rescoring with RF-Score-VS complete in 5.1000!\n",
      "Combining all score for /home/tony/CADD22/wocondock_main/temp/rescoring_spyRMSD_clustered\n"
     ]
    },
    {
     "name": "stderr",
     "output_type": "stream",
     "text": [
      "100%|██████████| 3/3 [00:00<00:00, 475.62it/s]"
     ]
    },
    {
     "name": "stdout",
     "output_type": "stream",
     "text": [
      "Rescoring complete in 11.3567!\n",
      "The folder: /home/tony/CADD22/wocondock_main/temp/rescoring_espsim_clustered was created\n",
      "The folder: /home/tony/CADD22/wocondock_main/temp/rescoring_espsim_clustered/gnina_rescoring/ was created\n",
      "Rescoring with GNINA\n"
     ]
    },
    {
     "name": "stderr",
     "output_type": "stream",
     "text": [
      "\n"
     ]
    },
    {
     "name": "stdout",
     "output_type": "stream",
     "text": [
      "Rescoring with GNINA complete in 3.2279!\n",
      "Rescoring with AD4\n",
      "The folder: /home/tony/CADD22/wocondock_main/temp/rescoring_espsim_clustered/AD4_rescoring/ was created\n",
      "Rescoring with AD4 complete in 0.8766!\n",
      "Rescoring with CHEMPLP\n",
      "The folder: /home/tony/CADD22/wocondock_main/temp/rescoring_espsim_clustered/chemplp_rescoring/ was created\n"
     ]
    },
    {
     "name": "stderr",
     "output_type": "stream",
     "text": [
      "18 molecules converted\n"
     ]
    },
    {
     "name": "stdout",
     "output_type": "stream",
     "text": [
      "Rescoring with CHEMPLP complete in 1.6863!\n",
      "Rescoring with RFScoreVS\n",
      "The folder: /home/tony/CADD22/wocondock_main/temp/rescoring_espsim_clustered/rfscorevs_rescoring was created\n",
      "Rescoring with RF-Score-VS complete in 4.7754!\n",
      "Combining all score for /home/tony/CADD22/wocondock_main/temp/rescoring_espsim_clustered\n"
     ]
    },
    {
     "name": "stderr",
     "output_type": "stream",
     "text": [
      "100%|██████████| 3/3 [00:00<00:00, 511.56it/s]"
     ]
    },
    {
     "name": "stdout",
     "output_type": "stream",
     "text": [
      "Rescoring complete in 10.5838!\n",
      "The folder: /home/tony/CADD22/wocondock_main/temp/rescoring_3DScore_clustered was created\n",
      "The folder: /home/tony/CADD22/wocondock_main/temp/rescoring_3DScore_clustered/gnina_rescoring/ was created\n",
      "Rescoring with GNINA\n"
     ]
    },
    {
     "name": "stderr",
     "output_type": "stream",
     "text": [
      "\n"
     ]
    },
    {
     "name": "stdout",
     "output_type": "stream",
     "text": [
      "Rescoring with GNINA complete in 1.9085!\n",
      "Rescoring with AD4\n",
      "The folder: /home/tony/CADD22/wocondock_main/temp/rescoring_3DScore_clustered/AD4_rescoring/ was created\n",
      "Rescoring with AD4 complete in 0.7230!\n",
      "Rescoring with CHEMPLP\n",
      "The folder: /home/tony/CADD22/wocondock_main/temp/rescoring_3DScore_clustered/chemplp_rescoring/ was created\n"
     ]
    },
    {
     "name": "stderr",
     "output_type": "stream",
     "text": [
      "9 molecules converted\n"
     ]
    },
    {
     "name": "stdout",
     "output_type": "stream",
     "text": [
      "Rescoring with CHEMPLP complete in 1.7226!\n",
      "Rescoring with RFScoreVS\n",
      "The folder: /home/tony/CADD22/wocondock_main/temp/rescoring_3DScore_clustered/rfscorevs_rescoring was created\n",
      "Rescoring with RF-Score-VS complete in 4.9766!\n",
      "Combining all score for /home/tony/CADD22/wocondock_main/temp/rescoring_3DScore_clustered\n"
     ]
    },
    {
     "name": "stderr",
     "output_type": "stream",
     "text": [
      "100%|██████████| 3/3 [00:00<00:00, 510.84it/s]"
     ]
    },
    {
     "name": "stdout",
     "output_type": "stream",
     "text": [
      "Rescoring complete in 9.3500!\n",
      "The folder: /home/tony/CADD22/wocondock_main/temp/rescoring_bestpose_clustered was created\n",
      "The folder: /home/tony/CADD22/wocondock_main/temp/rescoring_bestpose_clustered/gnina_rescoring/ was created\n",
      "Rescoring with GNINA\n"
     ]
    },
    {
     "name": "stderr",
     "output_type": "stream",
     "text": [
      "\n"
     ]
    },
    {
     "name": "stdout",
     "output_type": "stream",
     "text": [
      "Rescoring with GNINA complete in 4.3382!\n",
      "Rescoring with AD4\n",
      "The folder: /home/tony/CADD22/wocondock_main/temp/rescoring_bestpose_clustered/AD4_rescoring/ was created\n",
      "Rescoring with AD4 complete in 0.7530!\n",
      "Rescoring with CHEMPLP\n",
      "The folder: /home/tony/CADD22/wocondock_main/temp/rescoring_bestpose_clustered/chemplp_rescoring/ was created\n"
     ]
    },
    {
     "name": "stderr",
     "output_type": "stream",
     "text": [
      "27 molecules converted\n"
     ]
    },
    {
     "name": "stdout",
     "output_type": "stream",
     "text": [
      "Rescoring with CHEMPLP complete in 1.6150!\n",
      "Rescoring with RFScoreVS\n",
      "The folder: /home/tony/CADD22/wocondock_main/temp/rescoring_bestpose_clustered/rfscorevs_rescoring was created\n",
      "Rescoring with RF-Score-VS complete in 4.8000!\n",
      "Combining all score for /home/tony/CADD22/wocondock_main/temp/rescoring_bestpose_clustered\n"
     ]
    },
    {
     "name": "stderr",
     "output_type": "stream",
     "text": [
      "100%|██████████| 3/3 [00:00<00:00, 447.89it/s]"
     ]
    },
    {
     "name": "stdout",
     "output_type": "stream",
     "text": [
      "Rescoring complete in 11.5255!\n",
      "The folder: /home/tony/CADD22/wocondock_main/temp/rescoring_bestpose_GNINA_clustered was created\n",
      "The folder: /home/tony/CADD22/wocondock_main/temp/rescoring_bestpose_GNINA_clustered/gnina_rescoring/ was created\n",
      "Rescoring with GNINA\n"
     ]
    },
    {
     "name": "stderr",
     "output_type": "stream",
     "text": [
      "\n"
     ]
    },
    {
     "name": "stdout",
     "output_type": "stream",
     "text": [
      "Rescoring with GNINA complete in 1.9897!\n",
      "Rescoring with AD4\n",
      "The folder: /home/tony/CADD22/wocondock_main/temp/rescoring_bestpose_GNINA_clustered/AD4_rescoring/ was created\n",
      "Rescoring with AD4 complete in 0.7017!\n",
      "Rescoring with CHEMPLP\n",
      "The folder: /home/tony/CADD22/wocondock_main/temp/rescoring_bestpose_GNINA_clustered/chemplp_rescoring/ was created\n"
     ]
    },
    {
     "name": "stderr",
     "output_type": "stream",
     "text": [
      "9 molecules converted\n"
     ]
    },
    {
     "name": "stdout",
     "output_type": "stream",
     "text": [
      "Rescoring with CHEMPLP complete in 1.5553!\n",
      "Rescoring with RFScoreVS\n",
      "The folder: /home/tony/CADD22/wocondock_main/temp/rescoring_bestpose_GNINA_clustered/rfscorevs_rescoring was created\n",
      "Rescoring with RF-Score-VS complete in 4.7858!\n",
      "Combining all score for /home/tony/CADD22/wocondock_main/temp/rescoring_bestpose_GNINA_clustered\n"
     ]
    },
    {
     "name": "stderr",
     "output_type": "stream",
     "text": [
      "100%|██████████| 3/3 [00:00<00:00, 494.15it/s]"
     ]
    },
    {
     "name": "stdout",
     "output_type": "stream",
     "text": [
      "Rescoring complete in 9.0504!\n",
      "The folder: /home/tony/CADD22/wocondock_main/temp/rescoring_bestpose_SMINA_clustered was created\n",
      "The folder: /home/tony/CADD22/wocondock_main/temp/rescoring_bestpose_SMINA_clustered/gnina_rescoring/ was created\n",
      "Rescoring with GNINA\n"
     ]
    },
    {
     "name": "stderr",
     "output_type": "stream",
     "text": [
      "\n"
     ]
    },
    {
     "name": "stdout",
     "output_type": "stream",
     "text": [
      "Rescoring with GNINA complete in 1.9755!\n",
      "Rescoring with AD4\n",
      "The folder: /home/tony/CADD22/wocondock_main/temp/rescoring_bestpose_SMINA_clustered/AD4_rescoring/ was created\n",
      "Rescoring with AD4 complete in 0.7538!\n",
      "Rescoring with CHEMPLP\n",
      "The folder: /home/tony/CADD22/wocondock_main/temp/rescoring_bestpose_SMINA_clustered/chemplp_rescoring/ was created\n"
     ]
    },
    {
     "name": "stderr",
     "output_type": "stream",
     "text": [
      "9 molecules converted\n"
     ]
    },
    {
     "name": "stdout",
     "output_type": "stream",
     "text": [
      "Rescoring with CHEMPLP complete in 1.5500!\n",
      "Rescoring with RFScoreVS\n",
      "The folder: /home/tony/CADD22/wocondock_main/temp/rescoring_bestpose_SMINA_clustered/rfscorevs_rescoring was created\n",
      "Rescoring with RF-Score-VS complete in 4.9797!\n",
      "Combining all score for /home/tony/CADD22/wocondock_main/temp/rescoring_bestpose_SMINA_clustered\n"
     ]
    },
    {
     "name": "stderr",
     "output_type": "stream",
     "text": [
      "100%|██████████| 3/3 [00:00<00:00, 464.66it/s]"
     ]
    },
    {
     "name": "stdout",
     "output_type": "stream",
     "text": [
      "Rescoring complete in 9.2773!\n",
      "The folder: /home/tony/CADD22/wocondock_main/temp/rescoring_bestpose_PLANTS_clustered was created\n",
      "The folder: /home/tony/CADD22/wocondock_main/temp/rescoring_bestpose_PLANTS_clustered/gnina_rescoring/ was created\n",
      "Rescoring with GNINA\n"
     ]
    },
    {
     "name": "stderr",
     "output_type": "stream",
     "text": [
      "\n"
     ]
    },
    {
     "name": "stdout",
     "output_type": "stream",
     "text": [
      "Rescoring with GNINA complete in 1.9704!\n",
      "Rescoring with AD4\n",
      "The folder: /home/tony/CADD22/wocondock_main/temp/rescoring_bestpose_PLANTS_clustered/AD4_rescoring/ was created\n",
      "Rescoring with AD4 complete in 0.6779!\n",
      "Rescoring with CHEMPLP\n",
      "The folder: /home/tony/CADD22/wocondock_main/temp/rescoring_bestpose_PLANTS_clustered/chemplp_rescoring/ was created\n"
     ]
    },
    {
     "name": "stderr",
     "output_type": "stream",
     "text": [
      "9 molecules converted\n"
     ]
    },
    {
     "name": "stdout",
     "output_type": "stream",
     "text": [
      "Rescoring with CHEMPLP complete in 1.6160!\n",
      "Rescoring with RFScoreVS\n",
      "The folder: /home/tony/CADD22/wocondock_main/temp/rescoring_bestpose_PLANTS_clustered/rfscorevs_rescoring was created\n",
      "Rescoring with RF-Score-VS complete in 4.7644!\n",
      "Combining all score for /home/tony/CADD22/wocondock_main/temp/rescoring_bestpose_PLANTS_clustered\n"
     ]
    },
    {
     "name": "stderr",
     "output_type": "stream",
     "text": [
      "100%|██████████| 3/3 [00:00<00:00, 453.59it/s]"
     ]
    },
    {
     "name": "stdout",
     "output_type": "stream",
     "text": [
      "Rescoring complete in 9.0483!\n"
     ]
    },
    {
     "name": "stderr",
     "output_type": "stream",
     "text": [
      "\n"
     ]
    }
   ],
   "source": [
    "for metric in clustering_metrics:\n",
    "    rescore_all(w_dir, protein_file, ref_file, software, w_dir+f'/temp/clustering/{metric}_clustered.sdf', rescoring_functions, 0)\n"
   ]
  },
  {
   "cell_type": "markdown",
   "metadata": {},
   "source": [
    "**Final ranking methods**\n",
    "\n",
    "This code calculates the final ranking of compounds using various methods.\n",
    "*Method 1* : Calculates ECR value for each cluster center, then outputs the top ranked center.\n",
    "*Method 2* : Calculates ECR value for each cluster center, then outputs the average ECR value for each compound.\n",
    "*Method 3* : Calculates the average rank of each compound, then ouputs the corresponding ECR value for each compound.\n",
    "*Method 6* : Calculates Z-score for each cluster center, then ouputs the top ranked center.\n",
    "*Method 7* : Calculates Z-score for each cluster center, then ouputs the average Z-score for each compound.\n",
    "\n",
    "All methods are then combined into a single dataframe for comparison purposes."
   ]
  },
  {
   "cell_type": "code",
   "execution_count": null,
   "metadata": {},
   "outputs": [],
   "source": [
    "apply_consensus_methods(w_dir, ['bestpose_GNINA', 'bestpose_SMINA', 'bestpose_PLANTS'])"
   ]
  },
  {
   "cell_type": "code",
   "execution_count": null,
   "metadata": {},
   "outputs": [],
   "source": [
    "calculate_EFs(w_dir, docking_library)"
   ]
  }
 ],
 "metadata": {
  "kernelspec": {
   "display_name": "Python 3.8.13 ('wocondock')",
   "language": "python",
   "name": "python3"
  },
  "language_info": {
   "codemirror_mode": {
    "name": "ipython",
    "version": 3
   },
   "file_extension": ".py",
   "mimetype": "text/x-python",
   "name": "python",
   "nbconvert_exporter": "python",
   "pygments_lexer": "ipython3",
   "version": "3.8.13"
  },
  "orig_nbformat": 4,
  "vscode": {
   "interpreter": {
    "hash": "ac9acbc93af693fb4e01b586b9d883cf48eab2850c268069ebbf85c5f9fbe2b9"
   }
  }
 },
 "nbformat": 4,
 "nbformat_minor": 2
}
