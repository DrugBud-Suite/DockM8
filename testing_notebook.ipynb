{
 "cells": [
  {
   "cell_type": "markdown",
   "metadata": {},
   "source": [
    "**Import required libraries and scripts**"
   ]
  },
  {
   "cell_type": "code",
   "execution_count": 1,
   "metadata": {},
   "outputs": [
    {
     "name": "stderr",
     "output_type": "stream",
     "text": [
      "[10:42:39] Initializing Normalizer\n",
      "/home/mario/anaconda3/envs/wocondock/lib/python3.8/site-packages/MDAnalysis/coordinates/chemfiles.py:108: DeprecationWarning: distutils Version classes are deprecated. Use packaging.version instead.\n",
      "  MIN_CHEMFILES_VERSION = LooseVersion(\"0.9\")\n",
      "[TRJ.py:171 - <module>()] netCDF4 is not available. Writing AMBER ncdf files will be slow.\n"
     ]
    },
    {
     "name": "stdout",
     "output_type": "stream",
     "text": [
      "The working directory has been set to: /home/mario/DockM8/cdk2\n",
      "The folder: /home/mario/DockM8/cdk2/temp already exists\n"
     ]
    },
    {
     "name": "stderr",
     "output_type": "stream",
     "text": [
      "/home/mario/anaconda3/envs/wocondock/lib/python3.8/site-packages/MDAnalysis/coordinates/TRJ.py:1209: DeprecationWarning: Please use `netcdf_file` from the `scipy.io` namespace, the `scipy.io.netcdf` namespace is deprecated.\n",
      "  class NCDFPicklable(scipy.io.netcdf.netcdf_file):\n"
     ]
    }
   ],
   "source": [
    "#Import required libraries and scripts\n",
    "from scripts.library_preparation import *\n",
    "from scripts.utilities import *\n",
    "from scripts.docking_functions import *\n",
    "from scripts.clustering_functions import *\n",
    "from scripts.rescoring_functions import *\n",
    "from scripts.consensus_methods import *\n",
    "from scripts.performance_calculation import *\n",
    "from scripts.dogsitescorer import *\n",
    "from scripts.get_pocket import *\n",
    "\n",
    "software = '/home/mario/DockM8/software'\n",
    "protein_file = '/home/mario/DockM8/cdk2/receptor_protoss_prepared_pocket.pdb'\n",
    "ref_file = '/home/mario/DockM8/cdk2/crystal_ligand_protoss.sdf'\n",
    "docking_library = '/home/mario/DockM8/cdk2/merged_actives_decoys.sdf'\n",
    "docking_programs = ['GNINA', 'SMINA', 'PLANTS']\n",
    "clustering_metrics = ['RMSD', 'spyRMSD', 'espsim', '3DScore', 'bestpose', 'bestpose_GNINA', 'bestpose_SMINA', 'bestpose_PLANTS']\n",
    "rescoring_functions = ['gnina', 'AD4', 'chemplp', 'rfscorevs', 'LinF9', 'RTMScore', 'SCORCH', 'vinardo']\n",
    "id_column = 'ID'\n",
    "n_poses = 10\n",
    "exhaustiveness = 8\n",
    "protonation = 'pkasolver'\n",
    "parallel = 1\n",
    "ncpus = int(os.cpu_count()-2)\n",
    "pocket = 'reference'\n",
    "#Create a temporary folder for all further calculations\n",
    "w_dir = os.path.dirname(protein_file)\n",
    "print('The working directory has been set to:', w_dir)\n",
    "create_temp_folder(w_dir+'/temp')"
   ]
  },
  {
   "cell_type": "code",
   "execution_count": null,
   "metadata": {},
   "outputs": [],
   "source": [
    "if os.path.isfile(protein_file.replace('.pdb', '_pocket.pdb')) == False:\n",
    "    if pocket == 'reference':\n",
    "        pocket_definition = GetPocket(ref_file, protein_file, 8)\n",
    "    elif pocket == 'dogsitescorer':\n",
    "        pocket_definition = binding_site_coordinates_dogsitescorer(protein_file, w_dir, method='volume')"
   ]
  },
  {
   "cell_type": "code",
   "execution_count": null,
   "metadata": {},
   "outputs": [],
   "source": [
    "if os.path.isfile(w_dir+'/temp/final_library.sdf') == False:\n",
    "    prepare_library(docking_library, id_column, software, protonation, ncpus)"
   ]
  },
  {
   "cell_type": "code",
   "execution_count": null,
   "metadata": {},
   "outputs": [],
   "source": [
    "docking_programs = ['GNINA', 'SMINA', 'PLANTS']\n",
    "docking(w_dir, protein_file, ref_file, software, docking_programs, exhaustiveness, n_poses, ncpus)\n"
   ]
  },
  {
   "cell_type": "code",
   "execution_count": null,
   "metadata": {},
   "outputs": [],
   "source": [
    "print('Loading all poses SDF file...')\n",
    "tic = time.perf_counter()\n",
    "all_poses = PandasTools.LoadSDF(w_dir+'/temp/allposes.sdf', idName='Pose ID', molColName='Molecule', includeFingerprints=False, strictParsing=True)\n",
    "toc = time.perf_counter()\n",
    "print(f'Finished loading all poses SDF in {toc-tic:0.4f}!...')\n"
   ]
  },
  {
   "cell_type": "code",
   "execution_count": null,
   "metadata": {},
   "outputs": [],
   "source": [
    "for metric in clustering_metrics:\n",
    "        if os.path.isfile(w_dir+f'/temp/clustering/{metric}_clustered.sdf') == False:\n",
    "            cluster_pebble(metric, 'KMedoids', w_dir, protein_file, all_poses, ncpus)"
   ]
  },
  {
   "cell_type": "code",
   "execution_count": null,
   "metadata": {},
   "outputs": [],
   "source": [
    "for metric in clustering_metrics:\n",
    "        rescore_all(w_dir, protein_file, ref_file, software, w_dir+f'/temp/clustering/{metric}_clustered.sdf', rescoring_functions, 20)\n"
   ]
  },
  {
   "cell_type": "code",
   "execution_count": null,
   "metadata": {},
   "outputs": [],
   "source": [
    "calculate_EF_single_functions(w_dir, docking_library, clustering_metrics)"
   ]
  },
  {
   "cell_type": "code",
   "execution_count": null,
   "metadata": {},
   "outputs": [],
   "source": [
    "apply_consensus_methods_combinations(w_dir, docking_library, clustering_metrics)"
   ]
  },
  {
   "cell_type": "code",
   "execution_count": 3,
   "metadata": {},
   "outputs": [
    {
     "name": "stdout",
     "output_type": "stream",
     "text": [
      "The folder: /home/mario/DockM8/cdk2/temp/ranking already exists\n",
      "['Pose ID', 'GNINA', 'CNN-Score', 'CNN-Affinity', 'RTMScore']\n",
      "                     Pose ID     GNINA  CNN-Score  CNN-Affinity  RTMScore\n",
      "0       ZINC26203125_GNINA_1  0.953189   0.701066      0.661387  0.338430\n",
      "1       ZINC16042498_GNINA_1  0.954882   0.509752      0.642799  0.229693\n",
      "2       ZINC12034275_GNINA_1  0.953792   0.869457      0.599097  0.307842\n",
      "3       ZINC20465253_GNINA_1  0.954682   0.771392      0.625932  0.291665\n",
      "4       ZINC27735434_GNINA_1  0.951399   0.916446      0.733753  0.315982\n",
      "...                      ...       ...        ...           ...       ...\n",
      "3519  ZINC23154170_PLANTS_01  0.951301   0.119107      0.581674  0.094072\n",
      "3520  ZINC30000959_PLANTS_01  0.952716   0.223677      0.701696  0.239031\n",
      "3521  ZINC25166358_PLANTS_01  0.915143   0.236323      0.403006  0.262473\n",
      "3522  ZINC17363296_PLANTS_01  0.962456   0.494097      0.734661  0.330200\n",
      "3523  ZINC32096851_PLANTS_01  0.952216   0.591271      0.518313  0.238801\n",
      "\n",
      "[3524 rows x 5 columns]\n",
      "The folder: /home/mario/DockM8/cdk2/temp/consensus already exists\n",
      "                ID  Method6_Zscore_bestpose\n",
      "498    BDB50145927                 2.007453\n",
      "1701       BDB7501                 1.927377\n",
      "1681       BDB6866                 1.607499\n",
      "68    ZINC21913298                 1.604482\n",
      "495    BDB50263147                 1.597428\n",
      "...            ...                      ...\n",
      "1780  ZINC29847165                -1.165331\n",
      "392   ZINC20168224                -1.199078\n",
      "1578  ZINC16974782                -1.211572\n",
      "1570  ZINC03159633                -1.297194\n",
      "2821  ZINC01599866                -1.461890\n",
      "\n",
      "[1220 rows x 2 columns]\n"
     ]
    }
   ],
   "source": [
    "apply_consensus_methods(w_dir, 'bestpose', 'method6', ['gnina', 'RTMScore'])"
   ]
  }
 ],
 "metadata": {
  "kernelspec": {
   "display_name": "wocondock",
   "language": "python",
   "name": "python3"
  },
  "language_info": {
   "codemirror_mode": {
    "name": "ipython",
    "version": 3
   },
   "file_extension": ".py",
   "mimetype": "text/x-python",
   "name": "python",
   "nbconvert_exporter": "python",
   "pygments_lexer": "ipython3",
   "version": "3.8.15"
  },
  "orig_nbformat": 4,
  "vscode": {
   "interpreter": {
    "hash": "10164e316682d9b4b376ca14144ea8a4ff51ebef10350aaa3c3bfce49f02faa4"
   }
  }
 },
 "nbformat": 4,
 "nbformat_minor": 2
}
