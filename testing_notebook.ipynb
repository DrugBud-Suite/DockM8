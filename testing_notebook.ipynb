{
 "cells": [
  {
   "cell_type": "markdown",
   "metadata": {},
   "source": [
    "**Import required libraries and scripts**"
   ]
  },
  {
   "cell_type": "code",
   "execution_count": 1,
   "metadata": {},
   "outputs": [
    {
     "name": "stderr",
     "output_type": "stream",
     "text": [
      "[16:12:07] Initializing Normalizer\n"
     ]
    },
    {
     "name": "stdout",
     "output_type": "stream",
     "text": [
      "The working directory has been set to: /home/tony/CADD22/wocondock_main\n",
      "The folder: /home/tony/CADD22/wocondock_main/temp already exists\n"
     ]
    }
   ],
   "source": [
    "#Import required libraries and scripts\n",
    "from scripts.library_preparation import *\n",
    "from scripts.utilities import *\n",
    "from scripts.docking_functions import *\n",
    "from scripts.clustering_functions import *\n",
    "from scripts.rescoring_functions import *\n",
    "from scripts.ranking_functions import *\n",
    "from scripts.performance_calculation import *\n",
    "import numpy as np\n",
    "import os\n",
    "\n",
    "software = '/home/tony/CADD22/software'\n",
    "protein_file = '/home/tony/CADD22/wocondock_main/2o1x_A_apo_protoss.pdb'\n",
    "ref_file = '/home/tony/CADD22/wocondock_main/2o1x_A_lig_protoss.sdf'\n",
    "docking_library = '/home/tony/CADD22/wocondock_main/500_of_FCHGroup_LeadLike.sdf'\n",
    "docking_programs = ['SMINA','GNINA','PLANTS']\n",
    "id_column = 'ID'\n",
    "n_poses = 10\n",
    "exhaustiveness = 4\n",
    "\n",
    "#Initialise variables and create a temporary folder\n",
    "w_dir = os.path.dirname(protein_file)\n",
    "print('The working directory has been set to:', w_dir)\n",
    "create_temp_folder(w_dir+'/temp')"
   ]
  },
  {
   "cell_type": "code",
   "execution_count": null,
   "metadata": {},
   "outputs": [],
   "source": [
    "cleaned_pkasolver_df = prepare_library(docking_library, id_column, software, 'pkasolver')"
   ]
  },
  {
   "cell_type": "code",
   "execution_count": null,
   "metadata": {},
   "outputs": [],
   "source": [
    "all_poses = PandasTools.LoadSDF(w_dir+'/temp/allposes.sdf', idName='Pose ID', molColName='Molecule', includeFingerprints=False, strictParsing=True)\n",
    "\n",
    "all_poses = all_poses[all_poses['ID'] == 'FCG1390566']\n",
    "\n",
    "def generate_matrix(df):\n",
    "    matrix = pd.DataFrame(0.0, index=[df['Pose ID']], columns=df['Molecule'])\n",
    "    for subset in tqdm(itertools.combinations(df['Molecule'], 2)):\n",
    "        result = simpleRMSD_calc(subset[0], subset[1])\n",
    "        matrix.iloc[df[df['Molecule']==subset[0]].index.values, df[df['Molecule']==subset[1]].index.values] = 0 if np.isnan(result) else result\n",
    "        matrix.iloc[df[df['Molecule']==subset[1]].index.values, df[df['Molecule']==subset[0]].index.values] = 0 if np.isnan(result) else result\n",
    "    return matrix\n",
    "\n",
    "#####THIS IS FOR MARIO#####\n",
    "\n",
    "def matrix_calculation_numpy(df):\n",
    "    matrix = np.zeros((len(df), len(df)))\n",
    "    subsets = np.array(list(itertools.combinations(df['Molecule'], 2)))\n",
    "    subset1 = subsets[:,0]\n",
    "    subset2 = subsets[:,1]\n",
    "    # Find the index of each molecule in the df['Molecule'] array\n",
    "    indices = {mol: idx for idx, mol in enumerate(df['Molecule'].values)}\n",
    "    # Calculate the results for each combination\n",
    "    results = np.array([simpleRMSD_calc(x, y) for x, y in tqdm(subsets)])\n",
    "    # Use vectorized operations to update the matrix\n",
    "    i, j = np.array([indices[x] for x in subset1]), np.array([indices[y] for y in subset2])\n",
    "    matrix[i, j] = results\n",
    "    matrix[j, i] = results\n",
    "    output_df = pd.DataFrame(matrix)\n",
    "    output_df.columns = [df['Pose ID']]\n",
    "    output_df.index = [df['Pose ID']]\n",
    "    return matrix\n",
    "\n",
    "#####THIS IS FOR MARIO#####\n",
    "\n",
    "matrix_test=matrix_calculation_numpy(all_poses)\n",
    "matrix_test2 = generate_matrix(all_poses)\n"
   ]
  },
  {
   "cell_type": "code",
   "execution_count": null,
   "metadata": {},
   "outputs": [],
   "source": [
    "def apply_to_group(group):\n",
    "    return matrix_calculation_numpy(group)\n",
    "\n",
    "ddf.groupby('ID').apply(apply_to_group).compute()"
   ]
  },
  {
   "cell_type": "code",
   "execution_count": null,
   "metadata": {},
   "outputs": [],
   "source": [
    "#dictionary = {ele : object for ele in ddf['Pose ID']}\n",
    "ddf.groupby('ID').apply(matrix_calculation_numpy).compute()"
   ]
  },
  {
   "cell_type": "code",
   "execution_count": null,
   "metadata": {},
   "outputs": [],
   "source": [
    "import dask.dataframe as dd\n",
    "import pandas as pd\n",
    "\n",
    "# Load molecules from SDF file and store in a Pandas dataframe\n",
    "all_poses = PandasTools.LoadSDF(w_dir+'/temp/allposes.sdf', idName='Pose ID', molColName='Molecule', includeFingerprints=False, strictParsing=True)\n",
    "\n",
    "splits = list(all_poses.groupby(\"ID\"))\n",
    "\n",
    "new_splits = []\n",
    "\n",
    "for id, split in splits:\n",
    "    new_splits.append(split)\n",
    "\n",
    "dskbag = dask.bag.from_sequence(new_splits)\n",
    "\n",
    "def generate_matrix(df):\n",
    "    matrix = pd.DataFrame(0.0, index=[df['Pose ID']], columns=df['Molecule'])\n",
    "    for subset in itertools.combinations(df['Molecule'], 2):\n",
    "        result = simpleRMSD_calc(subset[0], subset[1])\n",
    "        matrix.iloc[df[df['Molecule']==subset[0]].index.values, df[df['Molecule']==subset[1]].index.values] = 0 if np.isnan(result) else result\n",
    "        matrix.iloc[df[df['Molecule']==subset[1]].index.values, df[df['Molecule']==subset[0]].index.values] = 0 if np.isnan(result) else result\n",
    "        display(matrix)\n",
    "    return matrix\n",
    "\n",
    "matrices = dskbag.map(generate_matrix).compute()"
   ]
  },
  {
   "cell_type": "code",
   "execution_count": null,
   "metadata": {},
   "outputs": [],
   "source": [
    "cluster('RMSD', w_dir, protein_file)"
   ]
  },
  {
   "cell_type": "code",
   "execution_count": null,
   "metadata": {},
   "outputs": [],
   "source": [
    "from tqdm import tqdm\n",
    "def cluster_numpy(method, w_dir, protein_file):\n",
    "    def matrix_calculation_and_clustering(method, df, id_list, protein_file): \n",
    "        matrix = dict()\n",
    "        clustered_dataframes = []\n",
    "        print(\"*Calculating {} metrics and clustering*\".format(method))\n",
    "        methods = {'RMSD': simpleRMSD_calc, 'spyRMSD': spyRMSD_calc, 'espsim': espsim_calc, 'USRCAT': USRCAT_calc, 'SPLIF': SPLIF_calc, '3DScore': '3DScore', 'bestpose': 'bestpose'}\n",
    "        for id in tqdm(id_list):\n",
    "            if method == 'bestpose':\n",
    "                df_name = df[df['ID']==id]\n",
    "                df_name[['CHEMPLP', 'SMINA_Affinity', 'CNNaffinity']] = df_name[['CHEMPLP', 'SMINA_Affinity', 'CNNaffinity']].apply(pd.to_numeric, errors='coerce')\n",
    "                best_row_CHEMPLP = df_name.loc[df_name.groupby(['ID'])['CHEMPLP'].idxmin()]\n",
    "                best_row_SMINA = df_name.loc[df_name.groupby(['ID'])['SMINA_Affinity'].idxmin()]\n",
    "                best_row_GNINA = df_name.loc[df_name.groupby(['ID'])['CNNaffinity'].idxmax()]\n",
    "                table = pd.concat([best_row_GNINA, best_row_SMINA, best_row_CHEMPLP])\n",
    "                table.reset_index(inplace=True)\n",
    "                table = pd.DataFrame(table['Pose ID'])\n",
    "                table['Pose ID'] = table['Pose ID'].astype(str).str.replace('[()\\',]','', regex=False)\n",
    "                clustered_dataframes.append(table)\n",
    "            elif method == '3DScore':\n",
    "                for subset in itertools.combinations(df_name['Molecule'], 2):\n",
    "                    try:\n",
    "                        result = methods['spyRMSD'](subset[0], subset[1])\n",
    "                    except:\n",
    "                        result = methods['RMSD'](subset[0], subset[1])\n",
    "                    table.iloc[df_name[df_name['Molecule']==subset[0]].index.values, df_name[df_name['Molecule']==subset[1]].index.values] = 0 if np.isnan(result) else result\n",
    "                    table.iloc[df_name[df_name['Molecule']==subset[1]].index.values, df_name[df_name['Molecule']==subset[0]].index.values] = 0 if np.isnan(result) else result\n",
    "                \n",
    "                df_filtered = df[df['ID']==id]\n",
    "                matrix = np.zeros((len(df_filtered), len(df_filtered)))\n",
    "                subsets = np.array(list(itertools.combinations(df_filtered['Molecule'], 2)))\n",
    "                subset1 = subsets[:,0]\n",
    "                subset2 = subsets[:,1]\n",
    "                indices = {mol: idx for idx, mol in enumerate(df_filtered['Molecule'].values)}\n",
    "                for x, y in subsets:\n",
    "                    try:\n",
    "                        results = np.array([methods['spyRMSD'](x, y, protein_file)])\n",
    "                    except:\n",
    "                        results = np.array([methods['RMSD'](x, y, protein_file)])\n",
    "                i, j = np.array([indices[x] for x in subset1]), np.array([indices[y] for y in subset2])\n",
    "                matrix[i, j] = results\n",
    "                matrix[j, i] = results\n",
    "                matrix_df = pd.DataFrame(matrix)\n",
    "                matrix_df['3DScore'] = matrix_df.sum(axis=1)\n",
    "                matrix_df.sort_values(by='3DScore', ascending=True)\n",
    "                matrix_df = matrix_df.head(1)\n",
    "                matrix_df.reset_index(inplace=True)\n",
    "                matrix_df = pd.DataFrame(matrix_df['Pose ID'])\n",
    "                matrix_df['Pose ID'] = matrix_df['Pose ID'].astype(str).str.replace('[()\\',]','', regex=False)\n",
    "                clustered_dataframes.append(matrix_df)\n",
    "            else:\n",
    "                #try:\n",
    "                    df_filtered = df[df['ID']==id]\n",
    "                    matrix = np.zeros((len(df_filtered), len(df_filtered)))\n",
    "                    subsets = np.array(list(itertools.combinations(df_filtered['Molecule'], 2)))\n",
    "                    subset1 = subsets[:,0]\n",
    "                    subset2 = subsets[:,1]\n",
    "                    indices = {mol: idx for idx, mol in enumerate(df_filtered['Molecule'].values)}\n",
    "                    results = np.array([methods[method](x, y, protein_file) for x, y in subsets])\n",
    "                    i, j = np.array([indices[x] for x in subset1]), np.array([indices[y] for y in subset2])\n",
    "                    matrix[i, j] = results\n",
    "                    matrix[j, i] = results\n",
    "                    matrix_df = pd.DataFrame(matrix)\n",
    "                    matrix_df.columns = [df_filtered['Pose ID']]\n",
    "                    matrix_df.index = [df_filtered['Pose ID']]\n",
    "                    clust_df = kmedoids_S_clustering(matrix_df)\n",
    "                    clust_df = clust_df['Pose ID']\n",
    "                    clust_df.index.name = 'index'\n",
    "                    display(clust_df)\n",
    "                    clustered_dataframes.append(clust_df)\n",
    "                #except:\n",
    "                    #print(f'Failed to calculate metrics and cluster ID: {id}')\n",
    "        display(clustered_dataframes)\n",
    "        full_df = functools.reduce(lambda  left,right: pd.merge(left,right,on=['Pose ID'], how='outer'), clustered_dataframes)\n",
    "        full_df['Pose ID'] = full_df['Pose ID'].astype(str).replace('[()\\',]','', regex=True)\n",
    "        return full_df\n",
    "    print('Loading all poses SDF file...')\n",
    "    all_poses = PandasTools.LoadSDF(w_dir+'/temp/allposes.sdf', idName='Pose ID', molColName='Molecule', includeFingerprints=False, strictParsing=True)\n",
    "    print('Finished loading all poses SDF file...')\n",
    "    id_list = np.unique(np.array(all_poses['ID']))\n",
    "    create_clustering_folder(w_dir+'/temp/clustering/')\n",
    "    clustered_poses = matrix_calculation_and_clustering(method, all_poses, id_list, protein_file)\n",
    "    clustered_poses = pd.merge(all_poses, clustered_poses, on='Pose ID')\n",
    "    # keep only the necessary columns\n",
    "    clustered_poses = clustered_poses[['Pose ID', 'Molecule', 'ID']]\n",
    "    save_path = w_dir + '/temp/clustering/' + method + '_clustered.sdf'\n",
    "    PandasTools.WriteSDF(clustered_poses, save_path, molColName='Molecule', idName='Pose ID')\n",
    "    return"
   ]
  },
  {
   "cell_type": "code",
   "execution_count": null,
   "metadata": {},
   "outputs": [],
   "source": [
    "cluster_numpy('RMSD', w_dir, protein_file)"
   ]
  },
  {
   "cell_type": "code",
   "execution_count": null,
   "metadata": {},
   "outputs": [],
   "source": [
    "cluster('bestpose', w_dir, protein_file)"
   ]
  },
  {
   "cell_type": "code",
   "execution_count": null,
   "metadata": {},
   "outputs": [],
   "source": [
    "cluster('espsim', w_dir, protein_file)\n",
    "cluster('spyRMSD', w_dir, protein_file)\n",
    "cluster('USRCAT', w_dir, protein_file)\n",
    "cluster('RMSD', w_dir, protein_file)\n",
    "cluster('3DScore', w_dir, protein_file)"
   ]
  },
  {
   "cell_type": "code",
   "execution_count": 3,
   "metadata": {},
   "outputs": [
    {
     "name": "stdout",
     "output_type": "stream",
     "text": [
      "SMINA folder already exists\n",
      "Docking with SMINA complete in 79.8990!\n",
      "GNINA folder already exists\n",
      "Docking with GNINA complete in 136.1025!\n",
      "Plants docking folder already exists\n",
      "Converting protein file to .mol2 format for PLANTS docking...\n",
      "Converting reference file from .sdf to .mol2 format for PLANTS docking...\n",
      "Determining binding site coordinates using PLANTS...\n",
      "Writing PLANTS config file...\n",
      "Starting PLANTS docking...\n"
     ]
    },
    {
     "name": "stderr",
     "output_type": "stream",
     "text": [
      "1 molecule converted\n",
      "10 molecules converted\n"
     ]
    },
    {
     "name": "stdout",
     "output_type": "stream",
     "text": [
      "Converting PLANTS poses to .sdf format...\n",
      "Docking with PLANTS complete in 212.3593!\n",
      "Combined all docking poses in 0.7529!\n",
      "Finished docking in 429.1147!\n"
     ]
    }
   ],
   "source": [
    "all_poses = docking(protein_file, ref_file, software, docking_programs, exhaustiveness, n_poses)"
   ]
  },
  {
   "cell_type": "code",
   "execution_count": 2,
   "metadata": {},
   "outputs": [
    {
     "name": "stdout",
     "output_type": "stream",
     "text": [
      "Splitting docking library...\n",
      "The folder: /home/tony/CADD22/wocondock_main/temp/split_files was created\n",
      "Split docking library into 5 files each containing 2 compounds\n",
      "The folder: /home/tony/CADD22/wocondock_main/temp/plants already exists\n",
      "Converting protein file to .mol2 format for PLANTS docking...\n",
      "Converting reference file from .sdf to .mol2 format for PLANTS docking...\n",
      "Determining binding site coordinates using PLANTS...\n",
      "Docking split files using PLANTS...\n",
      "Docking with PLANTS complete in 158.4660!\n",
      "Docking split files using SMINA...\n",
      "Docking with SMINA complete in 58.6538!\n",
      "Docking split files using GNINA...\n",
      "Docking with GNINA complete in 141.9001!\n",
      "Combined all docking poses in 0.7383!\n"
     ]
    }
   ],
   "source": [
    "docking_splitted(w_dir, protein_file, ref_file, software, docking_programs, exhaustiveness, n_poses)"
   ]
  },
  {
   "cell_type": "markdown",
   "metadata": {},
   "source": [
    "**Rescoring**\n",
    "\n",
    "The file containing all the cluster centers is then rescored using all scoring functions available (GNINA, Vina, AutoDock4, PLP, CHEMPLP, RF-Score-VS). The rescored output is return as a dataframe."
   ]
  },
  {
   "cell_type": "code",
   "execution_count": null,
   "metadata": {},
   "outputs": [],
   "source": [
    "RMSD_rescored = rescore_all(w_dir, protein_file, ref_file, software, w_dir+'/temp/clustering/RMSD_clustered.sdf')\n",
    "espsim_rescored = rescore_all(w_dir, protein_file, ref_file, software, w_dir+'/temp/clustering/espsim_clustered.sdf')\n",
    "spyRMSD_rescored = rescore_all(w_dir, protein_file, ref_file, software, w_dir+'/temp/clustering/spyRMSD_clustered.sdf')\n",
    "USRCAT_rescored = rescore_all(w_dir, protein_file, ref_file, software, w_dir+'/temp/clustering/USRCAT_clustered.sdf')\n",
    "DScore_rescored = rescore_all(w_dir, protein_file, ref_file, software, w_dir+'/temp/clustering/3DScore_clustered.sdf')\n",
    "bestpose_rescored = rescore_all(w_dir, protein_file, ref_file, software, w_dir+'/temp/clustering/bestpose_clustered.sdf')\n",
    "\n"
   ]
  },
  {
   "cell_type": "code",
   "execution_count": null,
   "metadata": {},
   "outputs": [],
   "source": []
  },
  {
   "cell_type": "markdown",
   "metadata": {},
   "source": [
    "**Final ranking methods**\n",
    "\n",
    "This code calculates the final ranking of compounds using various methods.\n",
    "*Method 1* : Calculates ECR value for each cluster center, then outputs the top ranked center.\n",
    "*Method 2* : Calculates ECR value for each cluster center, then outputs the average ECR value for each compound.\n",
    "*Method 3* : Calculates the average rank of each compound, then ouputs the corresponding ECR value for each compound.\n",
    "*Method 6* : Calculates Z-score for each cluster center, then ouputs the top ranked center.\n",
    "*Method 7* : Calculates Z-score for each cluster center, then ouputs the average Z-score for each compound.\n",
    "\n",
    "All methods are then combined into a single dataframe for comparison purposes."
   ]
  },
  {
   "cell_type": "code",
   "execution_count": null,
   "metadata": {},
   "outputs": [],
   "source": [
    "apply_ranking_methods_simplified(w_dir)"
   ]
  },
  {
   "cell_type": "code",
   "execution_count": null,
   "metadata": {},
   "outputs": [],
   "source": [
    "test_df = pd.read_csv('/home/tony/CADD22/wocondock_refactored_chatgpt/temp/ranking/ranking_results.csv')\n",
    "def show_correlation(dataframe):\n",
    "    matrix = dataframe.corr().round(2)\n",
    "    mask = np.triu(np.ones_like(matrix, dtype=bool))\n",
    "    sns.heatmap(matrix, mask = mask, annot=False, vmax=1, vmin=-1, center=0, linewidths=.5, cmap='coolwarm')\n",
    "    plt.show()\n",
    "\n",
    "show_correlation(test_df)"
   ]
  },
  {
   "cell_type": "code",
   "execution_count": null,
   "metadata": {},
   "outputs": [],
   "source": [
    "calculate_EFs(w_dir, docking_library)"
   ]
  }
 ],
 "metadata": {
  "kernelspec": {
   "display_name": "Python 3.8.13 ('wocondock')",
   "language": "python",
   "name": "python3"
  },
  "language_info": {
   "codemirror_mode": {
    "name": "ipython",
    "version": 3
   },
   "file_extension": ".py",
   "mimetype": "text/x-python",
   "name": "python",
   "nbconvert_exporter": "python",
   "pygments_lexer": "ipython3",
   "version": "3.8.13"
  },
  "orig_nbformat": 4,
  "vscode": {
   "interpreter": {
    "hash": "ac9acbc93af693fb4e01b586b9d883cf48eab2850c268069ebbf85c5f9fbe2b9"
   }
  }
 },
 "nbformat": 4,
 "nbformat_minor": 2
}
