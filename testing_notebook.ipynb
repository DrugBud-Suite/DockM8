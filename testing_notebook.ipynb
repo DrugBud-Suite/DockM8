{
 "cells": [
  {
   "cell_type": "markdown",
   "metadata": {},
   "source": [
    "**Import required libraries and scripts**"
   ]
  },
  {
   "cell_type": "code",
   "execution_count": 1,
   "metadata": {},
   "outputs": [
    {
     "name": "stderr",
     "output_type": "stream",
     "text": [
      "[16:46:50] Initializing Normalizer\n"
     ]
    },
    {
     "name": "stdout",
     "output_type": "stream",
     "text": [
      "The working directory has been set to: /home/mario/holiday/pnph\n",
      "The folder: /home/mario/holiday/pnph/temp already exists\n"
     ]
    }
   ],
   "source": [
    "#Import required libraries and scripts\n",
    "from scripts.library_preparation import *\n",
    "from scripts.utilities import *\n",
    "from scripts.docking_functions import *\n",
    "from scripts.clustering_functions import *\n",
    "from scripts.rescoring_functions import *\n",
    "from scripts.ranking_functions import *\n",
    "from scripts.performance_calculation import *\n",
    "from scripts.dogsitescorer import *\n",
    "from scripts.get_pocket import *\n",
    "\n",
    "software = '/home/mario/DockM8/software'\n",
    "protein_file = '/home/mario/holiday/pnph/receptor_protoss_prepared.pdb'\n",
    "ref_file = '/home/mario/holiday/pnph/crystal_ligand_protoss.sdf'\n",
    "pocket = 'reference'\n",
    "protonation = 'pkasolver'\n",
    "docking_library = '/home/mario/holiday/pnph/merged_actives_decoys.sdf'\n",
    "docking_programs = ['GNINA', 'SMINA', 'PLANTS']\n",
    "clustering_metrics = ['RMSD']\n",
    "clustering_method = 'KMedoids'\n",
    "rescoring= ['gnina', 'AD4', 'chemplp', 'rfscorevs', 'LinF9', 'SCORCH']\n",
    "id_column = 'ID'\n",
    "n_poses = 10\n",
    "exhaustiveness = 8\n",
    "parallel = 1\n",
    "ncpus = int(os.cpu_count()/2)\n",
    "#Create a temporary folder for all further calculations\n",
    "w_dir = os.path.dirname(protein_file)\n",
    "print('The working directory has been set to:', w_dir)\n",
    "create_temp_folder(w_dir+'/temp')"
   ]
  },
  {
   "cell_type": "code",
   "execution_count": null,
   "metadata": {},
   "outputs": [],
   "source": [
    "if os.path.isfile(protein_file.replace('.pdb', '_pocket.pdb')) == False:\n",
    "    if pocket == 'reference':\n",
    "        pocket_definition = GetPocket(ref_file, protein_file, 8)\n",
    "    elif pocket == 'dogsitescorer':\n",
    "        pocket_definition = binding_site_coordinates_dogsitescorer(protein_file, w_dir, method='volume')"
   ]
  },
  {
   "cell_type": "code",
   "execution_count": null,
   "metadata": {},
   "outputs": [],
   "source": [
    "if os.path.isfile(w_dir+'/temp/final_library.sdf') == False:\n",
    "    prepare_library(docking_library, id_column, software, protonation, ncpus)"
   ]
  },
  {
   "cell_type": "code",
   "execution_count": null,
   "metadata": {},
   "outputs": [],
   "source": [
    "docking_programs = {'GNINA': w_dir+'/temp/gnina/', 'SMINA': w_dir+'/temp/smina/', 'PLANTS': w_dir+'/temp/plants/'}\n",
    "if parallel == 1:\n",
    "    for program, file_path in docking_programs.items():\n",
    "        if os.path.isdir(file_path) == False and program in docking_programs:\n",
    "            docking_splitted(w_dir, protein_file, ref_file, software, [program], exhaustiveness, n_poses, ncpus)\n",
    "else:\n",
    "    for program, file_path in docking_programs.items():\n",
    "        if os.path.isdir(file_path) == False and program in docking_programs:\n",
    "            docking(w_dir, protein_file, ref_file, software, [program], exhaustiveness, n_poses, ncpus)\n"
   ]
  },
  {
   "cell_type": "code",
   "execution_count": null,
   "metadata": {},
   "outputs": [],
   "source": [
    "print('Loading all poses SDF file...')\n",
    "tic = time.perf_counter()\n",
    "all_poses = PandasTools.LoadSDF(w_dir+'/temp/allposes.sdf', idName='Pose ID', molColName='Molecule', includeFingerprints=False, strictParsing=True)\n",
    "toc = time.perf_counter()\n",
    "print(f'Finished loading all poses SDF in {toc-tic:0.4f}!...')\n"
   ]
  },
  {
   "cell_type": "code",
   "execution_count": null,
   "metadata": {},
   "outputs": [],
   "source": [
    "if parallel == 1:\n",
    "    for metric in clustering_metrics:\n",
    "        if os.path.isfile(w_dir+f'/temp/clustering/{metric}_clustered.sdf') == False:\n",
    "            cluster_futures(metric, clustering_method, w_dir, protein_file, all_poses, ncpus)\n",
    "else:\n",
    "    for metric in clustering_metrics:\n",
    "        if os.path.isfile(w_dir+f'/temp/clustering/{metric}_clustered.sdf') == False:\n",
    "            cluster(metric, clustering_method, w_dir, protein_file, all_poses, ncpus)"
   ]
  },
  {
   "cell_type": "code",
   "execution_count": null,
   "metadata": {},
   "outputs": [],
   "source": [
    "for metric in clustering_metrics:\n",
    "        rescore_all(w_dir, protein_file, ref_file, software, w_dir+f'/temp/clustering/{metric}_clustered.sdf', rescoring, parallel, ncpus)\n"
   ]
  },
  {
   "cell_type": "code",
   "execution_count": null,
   "metadata": {},
   "outputs": [],
   "source": [
    "apply_consensus_methods(w_dir, clustering_metrics)\n",
    "calculate_EFs(w_dir, docking_library)"
   ]
  },
  {
   "cell_type": "code",
   "execution_count": 2,
   "metadata": {},
   "outputs": [
    {
     "name": "stdout",
     "output_type": "stream",
     "text": [
      "The folder: /home/mario/holiday/pnph/temp/ranking already exists\n",
      "The folder: /home/mario/holiday/pnph/temp/consensus already exists\n",
      "\n",
      "[2023-Mar-22 16:46:54]: Calculating consensus methods for every possible score combination...\n"
     ]
    },
    {
     "name": "stderr",
     "output_type": "stream",
     "text": [
      "  3%|▎         | 8/255 [00:00<00:06, 40.90it/s]\n",
      " 11%|█         | 28/255 [00:00<00:07, 29.04it/s]\n",
      " 22%|██▏       | 56/255 [00:04<00:16, 12.33it/s]\n",
      " 27%|██▋       | 70/255 [00:09<00:26,  7.02it/s]\n",
      " 22%|██▏       | 56/255 [00:11<00:40,  4.94it/s]\n",
      " 11%|█         | 28/255 [00:06<00:55,  4.10it/s]\n",
      "  3%|▎         | 8/255 [00:02<01:07,  3.68it/s]\n",
      "  0%|          | 1/255 [00:00<01:24,  3.00it/s]"
     ]
    },
    {
     "name": "stdout",
     "output_type": "stream",
     "text": [
      "\n",
      "[2023-Mar-22 16:47:30]: Calculating consensus methods for every possible score combination...\n"
     ]
    },
    {
     "name": "stderr",
     "output_type": "stream",
     "text": [
      "\n",
      "  3%|▎         | 8/255 [00:03<01:34,  2.62it/s]\n",
      " 11%|█         | 28/255 [00:11<01:32,  2.47it/s]\n",
      " 22%|██▏       | 56/255 [00:25<01:30,  2.20it/s]\n",
      " 27%|██▋       | 70/255 [00:37<01:38,  1.87it/s]\n",
      " 22%|██▏       | 56/255 [00:34<02:02,  1.62it/s]\n",
      " 11%|█         | 28/255 [00:18<02:31,  1.50it/s]\n",
      "  3%|▎         | 8/255 [00:05<02:51,  1.44it/s]\n",
      "  0%|          | 1/255 [00:00<03:12,  1.32it/s]"
     ]
    },
    {
     "name": "stdout",
     "output_type": "stream",
     "text": [
      "\n",
      "[2023-Mar-22 16:49:47]: Calculating consensus methods for every possible score combination...\n"
     ]
    },
    {
     "name": "stderr",
     "output_type": "stream",
     "text": [
      "\n",
      "  3%|▎         | 8/255 [00:07<03:55,  1.05it/s]\n",
      " 11%|█         | 28/255 [00:26<03:33,  1.06it/s]\n",
      " 22%|██▏       | 56/255 [00:56<03:20,  1.01s/it]\n",
      " 27%|██▋       | 70/255 [01:17<03:25,  1.11s/it]\n",
      " 22%|██▏       | 56/255 [01:07<04:00,  1.21s/it]\n",
      " 11%|█         | 28/255 [00:35<04:50,  1.28s/it]\n",
      "  3%|▎         | 8/255 [00:10<05:25,  1.32s/it]\n",
      "  0%|          | 1/255 [00:01<05:51,  1.39s/it]"
     ]
    },
    {
     "name": "stdout",
     "output_type": "stream",
     "text": [
      "\n",
      "[2023-Mar-22 16:54:31]: Calculating consensus methods for every possible score combination...\n"
     ]
    },
    {
     "name": "stderr",
     "output_type": "stream",
     "text": [
      "\n",
      "  3%|▎         | 8/255 [00:14<07:25,  1.80s/it]\n",
      " 11%|█         | 28/255 [00:46<06:13,  1.64s/it]\n",
      " 22%|██▏       | 56/255 [01:37<05:47,  1.75s/it]\n",
      " 27%|██▋       | 70/255 [02:11<05:46,  1.87s/it]\n",
      " 22%|██▏       | 56/255 [01:53<06:41,  2.02s/it]\n",
      " 11%|█         | 28/255 [00:58<07:56,  2.10s/it]\n",
      "  3%|▎         | 8/255 [00:17<08:52,  2.16s/it]\n",
      "  0%|          | 1/255 [00:02<09:22,  2.22s/it]"
     ]
    },
    {
     "name": "stdout",
     "output_type": "stream",
     "text": [
      "\n",
      "[2023-Mar-22 17:02:33]: Calculating consensus methods for every possible score combination...\n"
     ]
    },
    {
     "name": "stderr",
     "output_type": "stream",
     "text": [
      "\n",
      "  3%|▎         | 8/255 [00:26<13:49,  3.36s/it]\n",
      " 11%|█         | 28/255 [01:14<10:07,  2.67s/it]\n",
      " 22%|██▏       | 56/255 [02:38<09:22,  2.82s/it]\n",
      " 27%|██▋       | 70/255 [03:31<09:18,  3.02s/it]\n",
      " 22%|██▏       | 56/255 [02:57<10:28,  3.16s/it]\n",
      " 11%|█         | 28/255 [01:29<12:05,  3.20s/it]\n",
      "  3%|▎         | 8/255 [00:25<13:11,  3.21s/it]\n",
      "  0%|          | 1/255 [00:03<13:58,  3.30s/it]\n"
     ]
    },
    {
     "name": "stdout",
     "output_type": "stream",
     "text": [
      "\n",
      "[2023-Mar-22 17:15:20]: Calculating consensus methods for every possible score combination...\n"
     ]
    },
    {
     "name": "stderr",
     "output_type": "stream",
     "text": [
      "  3%|▎         | 8/255 [00:43<22:14,  5.40s/it]\n",
      " 11%|█         | 28/255 [01:46<14:22,  3.80s/it]\n",
      " 22%|██▏       | 56/255 [03:38<12:56,  3.90s/it]\n",
      " 27%|██▋       | 70/255 [04:44<12:31,  4.06s/it]\n",
      " 22%|██▏       | 56/255 [03:45<13:19,  4.02s/it]\n",
      " 11%|█         | 28/255 [01:51<15:07,  4.00s/it]\n",
      "  3%|▎         | 8/255 [00:32<16:39,  4.05s/it]\n",
      "  0%|          | 1/255 [00:04<17:18,  4.09s/it]\n"
     ]
    },
    {
     "name": "stdout",
     "output_type": "stream",
     "text": [
      "\n",
      "[2023-Mar-22 17:32:28]: Calculating consensus methods for every possible score combination...\n"
     ]
    },
    {
     "name": "stderr",
     "output_type": "stream",
     "text": [
      "  3%|▎         | 8/255 [04:02<2:04:55, 30.35s/it]\n",
      " 11%|█         | 28/255 [11:24<1:32:27, 24.44s/it]\n",
      " 22%|██▏       | 56/255 [40:17<2:23:10, 43.17s/it]\n",
      " 27%|██▋       | 70/255 [1:13:51<3:15:12, 63.31s/it]\n",
      " 22%|██▏       | 56/255 [1:20:26<4:45:50, 86.18s/it] \n",
      " 11%|█         | 28/255 [46:32<6:17:22, 99.75s/it] \n",
      "  3%|▎         | 8/255 [13:53<7:09:05, 104.23s/it]\n",
      "  0%|          | 1/255 [01:25<6:01:08, 85.31s/it]\n"
     ]
    },
    {
     "name": "stdout",
     "output_type": "stream",
     "text": [
      "\n",
      "[2023-Mar-22 22:04:25]: Calculating consensus methods for every possible score combination...\n"
     ]
    },
    {
     "name": "stderr",
     "output_type": "stream",
     "text": [
      "  0%|          | 1/255 [02:29<10:34:49, 149.96s/it]"
     ]
    },
    {
     "ename": "",
     "evalue": "",
     "output_type": "error",
     "traceback": [
      "\u001b[1;31mCanceled future for execute_request message before replies were done"
     ]
    },
    {
     "ename": "",
     "evalue": "",
     "output_type": "error",
     "traceback": [
      "\u001b[1;31mThe Kernel crashed while executing code in the the current cell or a previous cell. Please review the code in the cell(s) to identify a possible cause of the failure. Click <a href='https://aka.ms/vscodeJupyterKernelCrash'>here</a> for more info. View Jupyter <a href='command:jupyter.viewOutput'>log</a> for further details."
     ]
    }
   ],
   "source": [
    "apply_consensus_methods_combinations(w_dir, clustering_metrics)\n",
    "calculate_EFs_combinations(w_dir, docking_library)"
   ]
  }
 ],
 "metadata": {
  "kernelspec": {
   "display_name": "Python 3.8.13 ('wocondock')",
   "language": "python",
   "name": "python3"
  },
  "language_info": {
   "codemirror_mode": {
    "name": "ipython",
    "version": 3
   },
   "file_extension": ".py",
   "mimetype": "text/x-python",
   "name": "python",
   "nbconvert_exporter": "python",
   "pygments_lexer": "ipython3",
   "version": "3.8.15"
  },
  "orig_nbformat": 4,
  "vscode": {
   "interpreter": {
    "hash": "ac9acbc93af693fb4e01b586b9d883cf48eab2850c268069ebbf85c5f9fbe2b9"
   }
  }
 },
 "nbformat": 4,
 "nbformat_minor": 2
}
