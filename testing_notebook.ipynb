{
 "cells": [
  {
   "attachments": {},
   "cell_type": "markdown",
   "metadata": {},
   "source": [
    "**Import required libraries and scripts**"
   ]
  },
  {
   "cell_type": "code",
   "execution_count": 1,
   "metadata": {},
   "outputs": [
    {
     "name": "stderr",
     "output_type": "stream",
     "text": [
      "[18:11:56] Initializing Normalizer\n",
      "/home/tony/.conda/envs/dockm8/lib/python3.8/site-packages/Bio/pairwise2.py:278: BiopythonDeprecationWarning: Bio.pairwise2 has been deprecated, and we intend to remove it in a future release of Biopython. As an alternative, please consider using Bio.Align.PairwiseAligner as a replacement, and contact the Biopython developers if you still need the Bio.pairwise2 module.\n",
      "  warnings.warn(\n",
      "/home/tony/.conda/envs/dockm8/lib/python3.8/site-packages/MDAnalysis/coordinates/chemfiles.py:108: DeprecationWarning: distutils Version classes are deprecated. Use packaging.version instead.\n",
      "  MIN_CHEMFILES_VERSION = LooseVersion(\"0.9\")\n",
      "[TRJ.py:171 - <module>()] netCDF4 is not available. Writing AMBER ncdf files will be slow.\n",
      "/home/tony/.conda/envs/dockm8/lib/python3.8/site-packages/MDAnalysis/coordinates/TRJ.py:1209: DeprecationWarning: Please use `netcdf_file` from the `scipy.io` namespace, the `scipy.io.netcdf` namespace is deprecated.\n",
      "  class NCDFPicklable(scipy.io.netcdf.netcdf_file):\n"
     ]
    },
    {
     "name": "stdout",
     "output_type": "stream",
     "text": [
      "The working directory has been set to: /home/tony/DockM8/wocondock_main\n",
      "\n",
      "[2023-Jun-06 18:12:00]: Extracting pocket from /home/tony/DockM8/wocondock_main/2o1x_A_apo_protoss.pdb using /home/tony/DockM8/wocondock_main/2o1x_A_lig_protoss.sdf as reference ligand\n",
      "\n",
      "[2023-Jun-06 18:12:10]: Finished extracting pocket from /home/tony/DockM8/wocondock_main/2o1x_A_apo_protoss.pdb using /home/tony/DockM8/wocondock_main/2o1x_A_lig_protoss.sdf as reference ligand\n",
      "{'center': [16.7, -2.69, 17.61], 'size': [16.0, 16.0, 16.0]}\n"
     ]
    }
   ],
   "source": [
    "#Import required libraries and scripts\n",
    "from scripts.library_preparation import *\n",
    "from scripts.utilities import *\n",
    "from scripts.docking_functions import *\n",
    "from scripts.clustering_functions import *\n",
    "from scripts.rescoring_functions import *\n",
    "from scripts.consensus_methods import *\n",
    "from scripts.performance_calculation import *\n",
    "from scripts.dogsitescorer import *\n",
    "from scripts.get_pocket import *\n",
    "\n",
    "software = '/home/tony/DockM8/software'\n",
    "protein_file = '/home/tony/DockM8/wocondock_main/2o1x_A_apo_protoss.pdb'\n",
    "ref_file = '/home/tony/DockM8/wocondock_main/2o1x_A_lig_protoss.sdf'\n",
    "docking_library = '/home/tony/DockM8/wocondock_main/Selection_of_FCHGroup_LeadLike.sdf'\n",
    "docking_programs = ['GNINA', 'SMINA', 'PLANTS', 'QVINAW', 'QVINA2']\n",
    "clustering_metrics = ['RMSD', 'spyRMSD', 'espsim', '3DScore', 'bestpose', 'bestpose_GNINA', 'bestpose_SMINA', 'bestpose_PLANTS']\n",
    "rescoring_functions = ['gnina', 'AD4', 'chemplp', 'rfscorevs', 'LinF9', 'RTMScore', 'SCORCH', 'vinardo', 'plecscore', 'nnscore']\n",
    "id_column = 'ID'\n",
    "n_poses = 10\n",
    "exhaustiveness = 8\n",
    "protonation = 'pkasolver'\n",
    "# ncpus = int(os.cpu_count()-2)\n",
    "ncpus = 7\n",
    "pocket = 'reference'\n",
    "#Create a temporary folder for all further calculations\n",
    "w_dir = os.path.dirname(protein_file)\n",
    "print('The working directory has been set to:', w_dir)\n",
    "create_temp_folder(w_dir+'/temp')\n",
    "if pocket == 'reference':\n",
    "    pocket_definition = get_pocket(ref_file, protein_file, 8)\n",
    "    print(pocket_definition)\n",
    "elif pocket == 'dogsitescorer':\n",
    "    pocket_definition = binding_site_coordinates_dogsitescorer(protein_file, w_dir, method='volume')"
   ]
  },
  {
   "cell_type": "code",
   "execution_count": null,
   "metadata": {},
   "outputs": [],
   "source": [
    "# if os.path.isfile(protein_file.replace('.pdb', '_pocket.pdb')) == False:\n"
   ]
  },
  {
   "cell_type": "code",
   "execution_count": null,
   "metadata": {},
   "outputs": [],
   "source": [
    "if os.path.isfile(w_dir+'/temp/final_library.sdf') == False:\n",
    "    prepare_library(docking_library, id_column, software, protonation, ncpus)"
   ]
  },
  {
   "cell_type": "code",
   "execution_count": null,
   "metadata": {},
   "outputs": [],
   "source": [
    "docking(w_dir, protein_file, ref_file, software, docking_programs, exhaustiveness, n_poses, ncpus, pocket_definition)\n"
   ]
  },
  {
   "cell_type": "code",
   "execution_count": null,
   "metadata": {},
   "outputs": [],
   "source": [
    "print('Loading all poses SDF file...')\n",
    "tic = time.perf_counter()\n",
    "all_poses = PandasTools.LoadSDF(w_dir+'/temp/allposes.sdf', idName='Pose ID', molColName='Molecule', includeFingerprints=False, strictParsing=True)\n",
    "toc = time.perf_counter()\n",
    "print(f'Finished loading all poses SDF in {toc-tic:0.4f}!...')"
   ]
  },
  {
   "cell_type": "code",
   "execution_count": null,
   "metadata": {},
   "outputs": [],
   "source": [
    "for metric in clustering_metrics:\n",
    "        if os.path.isfile(w_dir+f'/temp/clustering/{metric}_clustered.sdf') == False:\n",
    "            cluster_pebble(metric, 'KMedoids', w_dir, protein_file, all_poses, ncpus)"
   ]
  },
  {
   "cell_type": "code",
   "execution_count": 2,
   "metadata": {},
   "outputs": [
    {
     "name": "stdout",
     "output_type": "stream",
     "text": [
      "\n",
      "[2023-Jun-06 18:12:10]: Skipping gnina rescoring...\n",
      "\n",
      "[2023-Jun-06 18:12:10]: Skipping AD4 rescoring...\n",
      "\n",
      "[2023-Jun-06 18:12:10]: Skipping chemplp rescoring...\n",
      "\n",
      "[2023-Jun-06 18:12:10]: Skipping rfscorevs rescoring...\n",
      "Splitting SDF file RMSD_clustered.sdf ...\n"
     ]
    },
    {
     "name": "stderr",
     "output_type": "stream",
     "text": [
      "Splitting files: 100%|██████████| 12/12 [00:00<00:00, 476.68it/s]\n"
     ]
    },
    {
     "name": "stdout",
     "output_type": "stream",
     "text": [
      "Split docking library into 12 files each containing 3 compounds\n"
     ]
    },
    {
     "name": "stderr",
     "output_type": "stream",
     "text": [
      "Submitting LinF9 rescoring jobs: 100%|██████████| 12/12 [00:00<00:00, 90.53file/s]\n",
      "Rescoring with LinF9: 100%|██████████| 12/12 [00:04<00:00,  2.44file/s]\n"
     ]
    },
    {
     "name": "stdout",
     "output_type": "stream",
     "text": [
      "\n",
      "[2023-Jun-06 18:12:16]: Rescoring with LinF9 complete in 5.1771!\n",
      "\n",
      "[2023-Jun-06 18:12:16]: Skipping RTMScore rescoring...\n",
      "\n",
      "[2023-Jun-06 18:12:16]: Skipping SCORCH rescoring...\n",
      "\n",
      "[2023-Jun-06 18:12:16]: Skipping vinardo rescoring...\n",
      "\n",
      "[2023-Jun-06 18:12:16]: Skipping plecscore rescoring...\n",
      "\n",
      "[2023-Jun-06 18:12:16]: Skipping nnscore rescoring...\n",
      "\n",
      "[2023-Jun-06 18:12:16]: Combining all score for /home/tony/DockM8/wocondock_main/temp/rescoring_RMSD_clustered\n",
      "                Pose ID    PLECnn\n",
      "0   FCG17585042_GNINA_5  4.420794\n",
      "1    FCG1390566_GNINA_5  2.952029\n",
      "2  FCG16425532_GNINA_10  4.911706\n",
      "3   FCG16600623_GNINA_2  5.092506\n",
      "4   FCG18066182_GNINA_1  4.514408\n"
     ]
    },
    {
     "name": "stderr",
     "output_type": "stream",
     "text": [
      "Combining scores: 100%|██████████| 9/9 [00:00<00:00, 536.37files/s]"
     ]
    },
    {
     "name": "stdout",
     "output_type": "stream",
     "text": [
      "                Pose ID    PLECnn   SCORCH       AD4  CHEMPLP   NNscore   \n",
      "0   FCG17585042_GNINA_5  4.420794  0.00149 -32.44570 -15.8440  6.627476  \\\n",
      "1    FCG1390566_GNINA_5  2.952029  0.02408 -28.27369 -49.7480  5.694674   \n",
      "2  FCG16425532_GNINA_10  4.911706  0.00021 -46.72932 -64.1537  7.298304   \n",
      "3   FCG16600623_GNINA_2  5.092506  0.00199 -44.28569 -18.2377  7.089444   \n",
      "4   FCG18066182_GNINA_1  4.514408  0.00142 -41.07597 -47.7745  7.087881   \n",
      "\n",
      "    RTMScore    LinF9  Vinardo  GNINA_Affinity  CNN-Score  CNN-Affinity   \n",
      "0   8.449504 -5.73788 -4.49190        -6.10025   0.463739      5.882300  \\\n",
      "1  10.265566 -4.83062 -4.00009        -4.93958   0.744352      5.851086   \n",
      "2  13.239522 -8.54065 -7.48047        -8.32611   0.636539      6.895614   \n",
      "3  17.035928 -7.90278 -5.64959        -6.57347   0.739295      6.962545   \n",
      "4  11.444714 -8.39903 -6.08973        -8.13380   0.853096      7.174075   \n",
      "\n",
      "   RFScoreVS  \n",
      "0   5.971980  \n",
      "1   5.973758  \n",
      "2   5.984559  \n",
      "3   6.003579  \n",
      "4   5.988194  \n",
      "                Pose ID    PLECnn   SCORCH       AD4  CHEMPLP   NNscore   \n",
      "0   FCG17585042_GNINA_5  4.420794  0.00149 -32.44570 -15.8440  6.627476  \\\n",
      "1    FCG1390566_GNINA_5  2.952029  0.02408 -28.27369 -49.7480  5.694674   \n",
      "2  FCG16425532_GNINA_10  4.911706  0.00021 -46.72932 -64.1537  7.298304   \n",
      "3   FCG16600623_GNINA_2  5.092506  0.00199 -44.28569 -18.2377  7.089444   \n",
      "4   FCG18066182_GNINA_1  4.514408  0.00142 -41.07597 -47.7745  7.087881   \n",
      "\n",
      "    RTMScore    LinF9  Vinardo  GNINA_Affinity  CNN-Score  CNN-Affinity   \n",
      "0   8.449504 -5.73788 -4.49190        -6.10025   0.463739      5.882300  \\\n",
      "1  10.265566 -4.83062 -4.00009        -4.93958   0.744352      5.851086   \n",
      "2  13.239522 -8.54065 -7.48047        -8.32611   0.636539      6.895614   \n",
      "3  17.035928 -7.90278 -5.64959        -6.57347   0.739295      6.962545   \n",
      "4  11.444714 -8.39903 -6.08973        -8.13380   0.853096      7.174075   \n",
      "\n",
      "   RFScoreVS  \n",
      "0   5.971980  \n",
      "1   5.973758  \n",
      "2   5.984559  \n",
      "3   6.003579  \n",
      "4   5.988194  \n",
      "                Pose ID    PLECnn   SCORCH       AD4  CHEMPLP   NNscore   \n",
      "0   FCG17585042_GNINA_5  4.420794  0.00149 -32.44570 -15.8440  6.627476  \\\n",
      "1    FCG1390566_GNINA_5  2.952029  0.02408 -28.27369 -49.7480  5.694674   \n",
      "2  FCG16425532_GNINA_10  4.911706  0.00021 -46.72932 -64.1537  7.298304   \n",
      "3   FCG16600623_GNINA_2  5.092506  0.00199 -44.28569 -18.2377  7.089444   \n",
      "4   FCG18066182_GNINA_1  4.514408  0.00142 -41.07597 -47.7745  7.087881   \n",
      "\n",
      "    RTMScore    LinF9  Vinardo  GNINA_Affinity  CNN-Score  CNN-Affinity   \n",
      "0   8.449504 -5.73788 -4.49190        -6.10025   0.463739      5.882300  \\\n",
      "1  10.265566 -4.83062 -4.00009        -4.93958   0.744352      5.851086   \n",
      "2  13.239522 -8.54065 -7.48047        -8.32611   0.636539      6.895614   \n",
      "3  17.035928 -7.90278 -5.64959        -6.57347   0.739295      6.962545   \n",
      "4  11.444714 -8.39903 -6.08973        -8.13380   0.853096      7.174075   \n",
      "\n",
      "   RFScoreVS  \n",
      "0   5.971980  \n",
      "1   5.973758  \n",
      "2   5.984559  \n",
      "3   6.003579  \n",
      "4   5.988194  \n",
      "\n",
      "[2023-Jun-06 18:12:16]: Rescoring complete in 5.2644!\n"
     ]
    },
    {
     "name": "stderr",
     "output_type": "stream",
     "text": [
      "\n"
     ]
    }
   ],
   "source": [
    "for metric in ['RMSD']:\n",
    "        rescore_all(w_dir, protein_file, pocket_definition, software, w_dir+f'/temp/clustering/{metric}_clustered.sdf', rescoring_functions, ncpus)\n"
   ]
  },
  {
   "cell_type": "code",
   "execution_count": null,
   "metadata": {},
   "outputs": [],
   "source": [
    "calculate_EF_single_functions(w_dir, docking_library, clustering_metrics)"
   ]
  },
  {
   "cell_type": "code",
   "execution_count": null,
   "metadata": {},
   "outputs": [],
   "source": [
    "apply_consensus_methods_combinations(w_dir, docking_library, clustering_metrics)"
   ]
  },
  {
   "cell_type": "code",
   "execution_count": null,
   "metadata": {},
   "outputs": [],
   "source": [
    "apply_consensus_methods(w_dir, 'bestpose', 'method6', ['gnina', 'RTMScore'])"
   ]
  }
 ],
 "metadata": {
  "kernelspec": {
   "display_name": "wocondock",
   "language": "python",
   "name": "python3"
  },
  "language_info": {
   "codemirror_mode": {
    "name": "ipython",
    "version": 3
   },
   "file_extension": ".py",
   "mimetype": "text/x-python",
   "name": "python",
   "nbconvert_exporter": "python",
   "pygments_lexer": "ipython3",
   "version": "3.8.16"
  },
  "orig_nbformat": 4,
  "vscode": {
   "interpreter": {
    "hash": "10164e316682d9b4b376ca14144ea8a4ff51ebef10350aaa3c3bfce49f02faa4"
   }
  }
 },
 "nbformat": 4,
 "nbformat_minor": 2
}
