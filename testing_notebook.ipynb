{
 "cells": [
  {
   "attachments": {},
   "cell_type": "markdown",
   "metadata": {},
   "source": [
    "**Import required libraries and scripts**"
   ]
  },
  {
   "cell_type": "code",
   "execution_count": 1,
   "metadata": {},
   "outputs": [
    {
     "name": "stderr",
     "output_type": "stream",
     "text": [
      "[00:32:06] Initializing Normalizer\n",
      "/home/tony/.conda/envs/dockm8/lib/python3.10/site-packages/tqdm/auto.py:21: TqdmWarning: IProgress not found. Please update jupyter and ipywidgets. See https://ipywidgets.readthedocs.io/en/stable/user_install.html\n",
      "  from .autonotebook import tqdm as notebook_tqdm\n",
      "/home/tony/.conda/envs/dockm8/lib/python3.10/site-packages/MDAnalysis/coordinates/chemfiles.py:108: DeprecationWarning: distutils Version classes are deprecated. Use packaging.version instead.\n",
      "  MIN_CHEMFILES_VERSION = LooseVersion(\"0.9\")\n",
      "[TRJ.py:171 - <module>()] netCDF4 is not available. Writing AMBER ncdf files will be slow.\n",
      "/home/tony/.conda/envs/dockm8/lib/python3.10/site-packages/MDAnalysis/coordinates/TRJ.py:1209: DeprecationWarning: Please use `netcdf_file` from the `scipy.io` namespace, the `scipy.io.netcdf` namespace is deprecated.\n",
      "  class NCDFPicklable(scipy.io.netcdf.netcdf_file):\n",
      "/home/tony/.conda/envs/dockm8/lib/python3.10/site-packages/matplotlib/__init__.py:152: DeprecationWarning: distutils Version classes are deprecated. Use packaging.version instead.\n",
      "  if LooseVersion(module.__version__) < minver:\n",
      "/home/tony/.conda/envs/dockm8/lib/python3.10/site-packages/setuptools/_distutils/version.py:345: DeprecationWarning: distutils Version classes are deprecated. Use packaging.version instead.\n",
      "  other = LooseVersion(other)\n"
     ]
    }
   ],
   "source": [
    "#Import required libraries and scripts\n",
    "from scripts.library_preparation import *\n",
    "from scripts.utilities import *\n",
    "from scripts.docking_functions import *\n",
    "from scripts.clustering_functions import *\n",
    "from scripts.rescoring_functions import *\n",
    "from scripts.consensus_methods import *\n",
    "from scripts.performance_calculation import *\n",
    "from scripts.dogsitescorer import *\n",
    "from scripts.get_pocket import *\n",
    "from scripts.postprocessing import *\n",
    "from scripts.protein_preparation import *"
   ]
  },
  {
   "cell_type": "code",
   "execution_count": 2,
   "metadata": {},
   "outputs": [],
   "source": [
    "software = Path('/home/tony/DockM8/software')\n",
    "receptor = Path('/home/tony/DockM8/testing_single_docking/protein.pdb')\n",
    "ref_file = Path('/home/tony/DockM8/testing_single_docking/ref.sdf')\n",
    "docking_library = Path('/home/tony/DockM8/testing_single_docking/library.sdf')\n",
    "docking_programs = ['GNINA', 'SMINA', 'PLANTS', 'QVINAW', 'QVINA2']\n",
    "clustering_metrics = ['RMSD', 'spyRMSD', 'espsim', '3DScore', 'bestpose', 'bestpose_GNINA', 'bestpose_SMINA', 'bestpose_PLANTS', 'bestpose_QVINAW', 'bestpose_QVINA2']\n",
    "rescoring_functions = ['GNINA_Affinity','CNN-Score','CNN-Affinity', 'AD4', 'CHEMPLP', 'RFScoreVS', 'LinF9', 'SCORCH', 'Vinardo', 'PLECScore', 'NNScore', 'KORPL', 'ConvexPLR', 'AAScore']\n",
    "id_column = 'ID'\n",
    "n_poses = 10\n",
    "exhaustiveness = 8\n",
    "protonation = 'GypsumDL'\n",
    "ncpus = 5\n",
    "pocket = 'reference'\n",
    "prepare_protein = 1\n",
    "open('log.txt', 'w').close()\n"
   ]
  },
  {
   "cell_type": "code",
   "execution_count": 3,
   "metadata": {},
   "outputs": [
    {
     "name": "stdout",
     "output_type": "stream",
     "text": [
      "\n",
      "[2023-Nov-21 00:32:10]: Preparing protein with ProtoSS ...\n",
      "Job 2f7717e1-2782-41dc-af34-a32d7a9f1099 completed with success\n",
      "The working directory has been set to: /home/tony/DockM8/testing_single_docking/protein_protoss\n",
      "\n",
      "[2023-Nov-21 00:32:12]: Extracting pocket from protein_protoss using ref as reference ligand\n",
      "\n",
      "[2023-Nov-21 00:32:28]: Finished extracting pocket from protein_protoss using ref as reference ligand\n",
      "{'center': [16.7, -2.69, 17.61], 'size': [16.0, 16.0, 16.0]}\n"
     ]
    }
   ],
   "source": [
    "if prepare_protein == 1:\n",
    "    #Prepare the protein\n",
    "    prepared_receptor = prepare_protein_protoss(receptor)\n",
    "else:\n",
    "    prepared_receptor = receptor\n",
    "\n",
    "#Create a temporary folder for all further calculations\n",
    "w_dir = prepared_receptor.parent / prepared_receptor.stem\n",
    "print('The working directory has been set to:', w_dir)\n",
    "(w_dir).mkdir(exist_ok=True)\n",
    "\n",
    "if pocket == 'reference':\n",
    "    pocket_definition = get_pocket(ref_file, prepared_receptor, 8)\n",
    "    print(pocket_definition)\n",
    "if pocket == 'RoG':\n",
    "    pocket_definition = get_pocket_RoG(ref_file, prepared_receptor)\n",
    "    print(pocket_definition)\n",
    "elif pocket == 'dogsitescorer':\n",
    "    pocket_definition = binding_site_coordinates_dogsitescorer(prepared_receptor, w_dir, method='volume')\n",
    "    print(pocket_definition)"
   ]
  },
  {
   "cell_type": "code",
   "execution_count": null,
   "metadata": {},
   "outputs": [],
   "source": [
    "if (w_dir / 'final_library.sdf').is_file() == False:\n",
    "    prepare_library(docking_library, w_dir, id_column, protonation, software, ncpus)"
   ]
  },
  {
   "cell_type": "code",
   "execution_count": null,
   "metadata": {},
   "outputs": [],
   "source": [
    "docking(w_dir, prepared_receptor, pocket_definition, software, docking_programs, exhaustiveness, n_poses, 5, 'multiprocessing')"
   ]
  },
  {
   "cell_type": "code",
   "execution_count": null,
   "metadata": {},
   "outputs": [],
   "source": [
    "concat_all_poses(w_dir, docking_programs, prepared_receptor)"
   ]
  },
  {
   "cell_type": "code",
   "execution_count": null,
   "metadata": {},
   "outputs": [],
   "source": [
    "print('Loading all poses SDF file...')\n",
    "tic = time.perf_counter()\n",
    "all_poses = PandasTools.LoadSDF(str(w_dir / 'allposes.sdf'), idName='Pose ID', molColName='Molecule', includeFingerprints=False, strictParsing=True)\n",
    "print(f'Loaded {len(all_poses)} poses.')\n",
    "toc = time.perf_counter()\n",
    "print(f'Finished loading all poses SDF in {toc-tic:0.4f}!...')\n"
   ]
  },
  {
   "cell_type": "code",
   "execution_count": null,
   "metadata": {},
   "outputs": [],
   "source": [
    "for metric in clustering_metrics:\n",
    "    if os.path.isfile(w_dir / f'clustering/{metric}_clustered.sdf') == False:\n",
    "        filtered_poses = cluster_pebble(metric, 'KMedoids', w_dir, prepared_receptor, pocket_definition, software, all_poses, ncpus)"
   ]
  },
  {
   "cell_type": "code",
   "execution_count": 4,
   "metadata": {},
   "outputs": [
    {
     "name": "stdout",
     "output_type": "stream",
     "text": [
      "\n",
      "[2023-Nov-21 00:32:28]: Rescoring with SCORCH\n",
      "\n",
      "[2023-Nov-21 00:32:46]: Rescoring with SCORCH complete in 18.1101!\n",
      "\n",
      "[2023-Nov-21 00:32:46]: Skipping functions: GNINA_Affinity, CNN-Score, CNN-Affinity, AD4, CHEMPLP, RFScoreVS, LinF9, Vinardo, PLECScore, NNScore, KORPL, ConvexPLR, AAScore\n",
      "\n",
      "[2023-Nov-21 00:32:46]: Combining all scores for /home/tony/DockM8/testing_single_docking/protein_protoss/rescoring_RMSD_clustered\n"
     ]
    },
    {
     "name": "stderr",
     "output_type": "stream",
     "text": [
      "Combining scores: 100%|██████████| 13/13 [00:00<00:00, 407.88files/s]\n"
     ]
    },
    {
     "name": "stdout",
     "output_type": "stream",
     "text": [
      "\n",
      "[2023-Nov-21 00:32:46]: Rescoring complete in 18.1810!\n"
     ]
    },
    {
     "name": "stderr",
     "output_type": "stream",
     "text": [
      "100%|██████████| 8/8 [00:00<00:00, 431.60it/s]"
     ]
    },
    {
     "name": "stdout",
     "output_type": "stream",
     "text": [
      "\n",
      "[2023-Nov-21 00:32:46]: Split docking library into 8 files each containing 4 compounds\n"
     ]
    },
    {
     "name": "stderr",
     "output_type": "stream",
     "text": [
      "\n",
      "100%|██████████| 8/8 [00:04<00:00,  1.71it/s]\n"
     ]
    },
    {
     "name": "stdout",
     "output_type": "stream",
     "text": [
      "\n",
      "[2023-Nov-21 00:32:51]: Rescoring with GNINA_Affinity complete in 4.8708!\n"
     ]
    },
    {
     "name": "stderr",
     "output_type": "stream",
     "text": [
      "100%|██████████| 8/8 [00:00<00:00, 528.23it/s]"
     ]
    },
    {
     "name": "stdout",
     "output_type": "stream",
     "text": [
      "\n",
      "[2023-Nov-21 00:32:51]: Split docking library into 8 files each containing 4 compounds\n"
     ]
    },
    {
     "name": "stderr",
     "output_type": "stream",
     "text": [
      "\n",
      "100%|██████████| 8/8 [00:05<00:00,  1.55it/s]\n"
     ]
    },
    {
     "name": "stdout",
     "output_type": "stream",
     "text": [
      "\n",
      "[2023-Nov-21 00:32:56]: Rescoring with CNN-Score complete in 5.3121!\n"
     ]
    },
    {
     "name": "stderr",
     "output_type": "stream",
     "text": [
      "100%|██████████| 8/8 [00:00<00:00, 657.75it/s]"
     ]
    },
    {
     "name": "stdout",
     "output_type": "stream",
     "text": [
      "\n",
      "[2023-Nov-21 00:32:56]: Split docking library into 8 files each containing 4 compounds\n"
     ]
    },
    {
     "name": "stderr",
     "output_type": "stream",
     "text": [
      "\n",
      "100%|██████████| 8/8 [00:04<00:00,  1.98it/s]\n"
     ]
    },
    {
     "name": "stdout",
     "output_type": "stream",
     "text": [
      "\n",
      "[2023-Nov-21 00:33:00]: Rescoring with CNN-Affinity complete in 4.2100!\n",
      "\n",
      "[2023-Nov-21 00:33:00]: Rescoring with AD4\n",
      "\n",
      "[2023-Nov-21 00:33:01]: Rescoring with AD4 complete in 0.8446!\n",
      "\n",
      "[2023-Nov-21 00:33:01]: Rescoring with CHEMPLP\n",
      "\n",
      "[2023-Nov-21 00:33:02]: Rescoring with CHEMPLP complete in 1.1729!\n",
      "\n",
      "[2023-Nov-21 00:33:02]: Rescoring with RFScoreVS\n",
      "\n",
      "[2023-Nov-21 00:33:09]: Rescoring with RFScoreVS complete in 6.8666!\n"
     ]
    },
    {
     "name": "stderr",
     "output_type": "stream",
     "text": [
      "100%|██████████| 8/8 [00:00<00:00, 529.35it/s]"
     ]
    },
    {
     "name": "stdout",
     "output_type": "stream",
     "text": [
      "\n",
      "[2023-Nov-21 00:33:09]: Split docking library into 8 files each containing 4 compounds\n"
     ]
    },
    {
     "name": "stderr",
     "output_type": "stream",
     "text": [
      "\n",
      "100%|██████████| 8/8 [00:03<00:00,  2.41it/s]\n"
     ]
    },
    {
     "name": "stdout",
     "output_type": "stream",
     "text": [
      "\n",
      "[2023-Nov-21 00:33:13]: Rescoring with LinF9 complete in 3.5110!\n",
      "\n",
      "[2023-Nov-21 00:33:13]: Rescoring with SCORCH\n",
      "\n",
      "[2023-Nov-21 00:33:31]: Rescoring with SCORCH complete in 18.0637!\n",
      "\n",
      "[2023-Nov-21 00:33:31]: Rescoring with Vinardo\n",
      "\n",
      "[2023-Nov-21 00:33:32]: Rescoring with Vinardo complete in 0.8991!\n",
      "\n",
      "[2023-Nov-21 00:33:32]: Rescoring with PLECscore\n"
     ]
    },
    {
     "name": "stderr",
     "output_type": "stream",
     "text": [
      "/home/tony/.conda/envs/dockm8/lib/python3.10/site-packages/sklearn/base.py:329: UserWarning: Trying to unpickle estimator MLPRegressor from version 1.2.2 when using version 1.0.2. This might lead to breaking code or invalid results. Use at your own risk. For more info please refer to:\n",
      "https://scikit-learn.org/stable/modules/model_persistence.html#security-maintainability-limitations\n",
      "  warnings.warn(\n",
      "/home/tony/.conda/envs/dockm8/lib/python3.10/site-packages/oddt/virtualscreening.py:348: UserWarning: The chunksize (100) seams to be to large.\n",
      "  warnings.warn('The chunksize (%i) seams to be to large.'\n"
     ]
    },
    {
     "name": "stdout",
     "output_type": "stream",
     "text": [
      "\n",
      "[2023-Nov-21 00:33:52]: Rescoring with PLECScore complete in 20.5024!\n",
      "\n",
      "[2023-Nov-21 00:33:52]: Rescoring with NNscore\n",
      "\n",
      "[2023-Nov-21 00:34:03]: Rescoring with NNscore complete in 10.6728!\n"
     ]
    },
    {
     "name": "stderr",
     "output_type": "stream",
     "text": [
      "100%|██████████| 8/8 [00:00<00:00, 560.66it/s]"
     ]
    },
    {
     "name": "stdout",
     "output_type": "stream",
     "text": [
      "\n",
      "[2023-Nov-21 00:34:03]: Split docking library into 8 files each containing 4 compounds\n"
     ]
    },
    {
     "name": "stderr",
     "output_type": "stream",
     "text": [
      "\n",
      "100%|██████████| 8/8 [00:00<00:00, 51.72it/s]\n"
     ]
    },
    {
     "name": "stdout",
     "output_type": "stream",
     "text": [
      "Combining KORPL scores\n",
      "\n",
      "[2023-Nov-21 00:34:03]: Rescoring with KORPL complete in 0.3253!\n"
     ]
    },
    {
     "name": "stderr",
     "output_type": "stream",
     "text": [
      "100%|██████████| 8/8 [00:00<00:00, 502.07it/s]"
     ]
    },
    {
     "name": "stdout",
     "output_type": "stream",
     "text": [
      "\n",
      "[2023-Nov-21 00:34:03]: Split docking library into 8 files each containing 4 compounds\n"
     ]
    },
    {
     "name": "stderr",
     "output_type": "stream",
     "text": [
      "\n",
      "100%|██████████| 8/8 [00:00<00:00, 23.37it/s]\n"
     ]
    },
    {
     "name": "stdout",
     "output_type": "stream",
     "text": [
      "\n",
      "[2023-Nov-21 00:34:04]: Rescoring with ConvexPLR complete in 0.5528!\n"
     ]
    },
    {
     "name": "stderr",
     "output_type": "stream",
     "text": [
      "100%|██████████| 8/8 [00:00<00:00, 307.50it/s]"
     ]
    },
    {
     "name": "stdout",
     "output_type": "stream",
     "text": [
      "\n",
      "[2023-Nov-21 00:34:04]: Split docking library into 8 files each containing 4 compounds\n"
     ]
    },
    {
     "name": "stderr",
     "output_type": "stream",
     "text": [
      "\n",
      "100%|██████████| 8/8 [00:37<00:00,  4.64s/it]\n"
     ]
    },
    {
     "name": "stdout",
     "output_type": "stream",
     "text": [
      "\n",
      "[2023-Nov-21 00:34:41]: Rescoring with AAScore complete in 37.3440!\n",
      "\n",
      "[2023-Nov-21 00:34:41]: Combining all scores for /home/tony/DockM8/testing_single_docking/protein_protoss/rescoring_spyRMSD_clustered\n"
     ]
    },
    {
     "name": "stderr",
     "output_type": "stream",
     "text": [
      "Combining scores: 100%|██████████| 13/13 [00:00<00:00, 369.61files/s]\n"
     ]
    },
    {
     "name": "stdout",
     "output_type": "stream",
     "text": [
      "\n",
      "[2023-Nov-21 00:34:41]: Rescoring complete in 115.2272!\n"
     ]
    },
    {
     "name": "stderr",
     "output_type": "stream",
     "text": [
      "100%|██████████| 10/10 [00:00<00:00, 784.19it/s]"
     ]
    },
    {
     "name": "stdout",
     "output_type": "stream",
     "text": [
      "\n",
      "[2023-Nov-21 00:34:41]: Split docking library into 10 files each containing 2 compounds\n"
     ]
    },
    {
     "name": "stderr",
     "output_type": "stream",
     "text": [
      "\n",
      "100%|██████████| 10/10 [00:04<00:00,  2.16it/s]\n"
     ]
    },
    {
     "name": "stdout",
     "output_type": "stream",
     "text": [
      "\n",
      "[2023-Nov-21 00:34:46]: Rescoring with GNINA_Affinity complete in 4.8135!\n"
     ]
    },
    {
     "name": "stderr",
     "output_type": "stream",
     "text": [
      "100%|██████████| 10/10 [00:00<00:00, 657.17it/s]"
     ]
    },
    {
     "name": "stdout",
     "output_type": "stream",
     "text": [
      "\n",
      "[2023-Nov-21 00:34:46]: Split docking library into 10 files each containing 2 compounds\n"
     ]
    },
    {
     "name": "stderr",
     "output_type": "stream",
     "text": [
      "\n",
      "100%|██████████| 10/10 [00:32<00:00,  3.23s/it]\n"
     ]
    },
    {
     "name": "stdout",
     "output_type": "stream",
     "text": [
      "\n",
      "[2023-Nov-21 00:35:19]: Rescoring with CNN-Score complete in 32.8408!\n"
     ]
    },
    {
     "name": "stderr",
     "output_type": "stream",
     "text": [
      "100%|██████████| 10/10 [00:00<00:00, 69.86it/s]"
     ]
    },
    {
     "name": "stdout",
     "output_type": "stream",
     "text": [
      "\n",
      "[2023-Nov-21 00:35:19]: Split docking library into 10 files each containing 2 compounds\n"
     ]
    },
    {
     "name": "stderr",
     "output_type": "stream",
     "text": [
      "\n",
      "100%|██████████| 10/10 [00:36<00:00,  3.60s/it]\n"
     ]
    },
    {
     "name": "stdout",
     "output_type": "stream",
     "text": [
      "\n",
      "[2023-Nov-21 00:35:56]: Rescoring with CNN-Affinity complete in 37.2097!\n",
      "\n",
      "[2023-Nov-21 00:35:56]: Rescoring with AD4\n",
      "\n",
      "[2023-Nov-21 00:36:06]: Rescoring with AD4 complete in 9.8793!\n",
      "\n",
      "[2023-Nov-21 00:36:06]: Rescoring with CHEMPLP\n",
      "\n",
      "[2023-Nov-21 00:36:13]: Rescoring with CHEMPLP complete in 7.2520!\n",
      "\n",
      "[2023-Nov-21 00:36:13]: Rescoring with RFScoreVS\n",
      "\n",
      "[2023-Nov-21 00:36:21]: Rescoring with RFScoreVS complete in 7.7651!\n"
     ]
    },
    {
     "name": "stderr",
     "output_type": "stream",
     "text": [
      "100%|██████████| 10/10 [00:00<00:00, 516.71it/s]"
     ]
    },
    {
     "name": "stdout",
     "output_type": "stream",
     "text": [
      "\n",
      "[2023-Nov-21 00:36:21]: Split docking library into 10 files each containing 2 compounds\n"
     ]
    },
    {
     "name": "stderr",
     "output_type": "stream",
     "text": [
      "\n",
      "100%|██████████| 10/10 [00:04<00:00,  2.46it/s]\n"
     ]
    },
    {
     "name": "stdout",
     "output_type": "stream",
     "text": [
      "\n",
      "[2023-Nov-21 00:36:25]: Rescoring with LinF9 complete in 4.2766!\n",
      "\n",
      "[2023-Nov-21 00:36:25]: Rescoring with SCORCH\n",
      "\n",
      "[2023-Nov-21 00:36:41]: Rescoring with SCORCH complete in 16.2504!\n",
      "\n",
      "[2023-Nov-21 00:36:41]: Rescoring with Vinardo\n",
      "\n",
      "[2023-Nov-21 00:36:42]: Rescoring with Vinardo complete in 0.6871!\n",
      "\n",
      "[2023-Nov-21 00:36:42]: Rescoring with PLECscore\n"
     ]
    },
    {
     "name": "stderr",
     "output_type": "stream",
     "text": [
      "/home/tony/.conda/envs/dockm8/lib/python3.10/site-packages/sklearn/base.py:329: UserWarning: Trying to unpickle estimator MLPRegressor from version 1.2.2 when using version 1.0.2. This might lead to breaking code or invalid results. Use at your own risk. For more info please refer to:\n",
      "https://scikit-learn.org/stable/modules/model_persistence.html#security-maintainability-limitations\n",
      "  warnings.warn(\n",
      "/home/tony/.conda/envs/dockm8/lib/python3.10/site-packages/oddt/virtualscreening.py:348: UserWarning: The chunksize (100) seams to be to large.\n",
      "  warnings.warn('The chunksize (%i) seams to be to large.'\n"
     ]
    },
    {
     "name": "stdout",
     "output_type": "stream",
     "text": [
      "\n",
      "[2023-Nov-21 00:37:02]: Rescoring with PLECScore complete in 19.8581!\n",
      "\n",
      "[2023-Nov-21 00:37:02]: Rescoring with NNscore\n",
      "\n",
      "[2023-Nov-21 00:37:19]: Rescoring with NNscore complete in 16.5088!\n"
     ]
    },
    {
     "name": "stderr",
     "output_type": "stream",
     "text": [
      "100%|██████████| 10/10 [00:00<00:00, 264.38it/s]"
     ]
    },
    {
     "name": "stdout",
     "output_type": "stream",
     "text": [
      "\n",
      "[2023-Nov-21 00:37:19]: Split docking library into 10 files each containing 2 compounds\n"
     ]
    },
    {
     "name": "stderr",
     "output_type": "stream",
     "text": [
      "\n",
      "100%|██████████| 10/10 [00:00<00:00, 32.86it/s]\n"
     ]
    },
    {
     "name": "stdout",
     "output_type": "stream",
     "text": [
      "Combining KORPL scores\n",
      "\n",
      "[2023-Nov-21 00:37:19]: Rescoring with KORPL complete in 0.6500!\n"
     ]
    },
    {
     "name": "stderr",
     "output_type": "stream",
     "text": [
      "100%|██████████| 10/10 [00:00<00:00, 355.36it/s]"
     ]
    },
    {
     "name": "stdout",
     "output_type": "stream",
     "text": [
      "\n",
      "[2023-Nov-21 00:37:19]: Split docking library into 10 files each containing 2 compounds\n"
     ]
    },
    {
     "name": "stderr",
     "output_type": "stream",
     "text": [
      "\n",
      "100%|██████████| 10/10 [00:00<00:00, 24.41it/s]\n"
     ]
    },
    {
     "name": "stdout",
     "output_type": "stream",
     "text": [
      "\n",
      "[2023-Nov-21 00:37:20]: Rescoring with ConvexPLR complete in 0.7655!\n"
     ]
    },
    {
     "name": "stderr",
     "output_type": "stream",
     "text": [
      "100%|██████████| 10/10 [00:00<00:00, 243.35it/s]"
     ]
    },
    {
     "name": "stdout",
     "output_type": "stream",
     "text": [
      "\n",
      "[2023-Nov-21 00:37:20]: Split docking library into 10 files each containing 2 compounds\n"
     ]
    },
    {
     "name": "stderr",
     "output_type": "stream",
     "text": [
      "\n",
      "100%|██████████| 10/10 [00:30<00:00,  3.01s/it]\n"
     ]
    },
    {
     "name": "stdout",
     "output_type": "stream",
     "text": [
      "\n",
      "[2023-Nov-21 00:37:50]: Rescoring with AAScore complete in 30.4282!\n",
      "\n",
      "[2023-Nov-21 00:37:50]: Combining all scores for /home/tony/DockM8/testing_single_docking/protein_protoss/rescoring_espsim_clustered\n"
     ]
    },
    {
     "name": "stderr",
     "output_type": "stream",
     "text": [
      "Combining scores: 100%|██████████| 13/13 [00:00<00:00, 272.16files/s]\n"
     ]
    },
    {
     "name": "stdout",
     "output_type": "stream",
     "text": [
      "\n",
      "[2023-Nov-21 00:37:50]: Rescoring complete in 189.2952!\n"
     ]
    },
    {
     "name": "stderr",
     "output_type": "stream",
     "text": [
      "100%|██████████| 10/10 [00:00<00:00, 520.20it/s]"
     ]
    },
    {
     "name": "stdout",
     "output_type": "stream",
     "text": [
      "\n",
      "[2023-Nov-21 00:37:50]: Split docking library into 10 files each containing 1 compounds\n"
     ]
    },
    {
     "name": "stderr",
     "output_type": "stream",
     "text": [
      "\n",
      "100%|██████████| 10/10 [00:24<00:00,  2.44s/it]\n"
     ]
    },
    {
     "name": "stdout",
     "output_type": "stream",
     "text": [
      "\n",
      "[2023-Nov-21 00:38:15]: Rescoring with GNINA_Affinity complete in 25.0143!\n"
     ]
    },
    {
     "name": "stderr",
     "output_type": "stream",
     "text": [
      "100%|██████████| 10/10 [00:00<00:00, 125.60it/s]"
     ]
    },
    {
     "name": "stdout",
     "output_type": "stream",
     "text": [
      "\n",
      "[2023-Nov-21 00:38:16]: Split docking library into 10 files each containing 1 compounds\n"
     ]
    },
    {
     "name": "stderr",
     "output_type": "stream",
     "text": [
      "\n",
      "100%|██████████| 10/10 [00:31<00:00,  3.19s/it]\n"
     ]
    },
    {
     "name": "stdout",
     "output_type": "stream",
     "text": [
      "\n",
      "[2023-Nov-21 00:38:48]: Rescoring with CNN-Score complete in 32.9723!\n"
     ]
    },
    {
     "name": "stderr",
     "output_type": "stream",
     "text": [
      "100%|██████████| 10/10 [00:00<00:00, 89.64it/s]"
     ]
    },
    {
     "name": "stdout",
     "output_type": "stream",
     "text": [
      "\n",
      "[2023-Nov-21 00:38:49]: Split docking library into 10 files each containing 1 compounds\n"
     ]
    },
    {
     "name": "stderr",
     "output_type": "stream",
     "text": [
      "\n",
      "100%|██████████| 10/10 [00:24<00:00,  2.46s/it]\n"
     ]
    },
    {
     "name": "stdout",
     "output_type": "stream",
     "text": [
      "\n",
      "[2023-Nov-21 00:39:14]: Rescoring with CNN-Affinity complete in 25.5456!\n",
      "\n",
      "[2023-Nov-21 00:39:14]: Rescoring with AD4\n",
      "\n",
      "[2023-Nov-21 00:39:15]: Rescoring with AD4 complete in 1.2578!\n",
      "\n",
      "[2023-Nov-21 00:39:15]: Rescoring with CHEMPLP\n",
      "\n",
      "[2023-Nov-21 00:39:17]: Rescoring with CHEMPLP complete in 1.6746!\n",
      "\n",
      "[2023-Nov-21 00:39:17]: Rescoring with RFScoreVS\n",
      "\n",
      "[2023-Nov-21 00:39:28]: Rescoring with RFScoreVS complete in 10.7803!\n"
     ]
    },
    {
     "name": "stderr",
     "output_type": "stream",
     "text": [
      "100%|██████████| 10/10 [00:00<00:00, 1021.16it/s]"
     ]
    },
    {
     "name": "stdout",
     "output_type": "stream",
     "text": [
      "\n",
      "[2023-Nov-21 00:39:28]: Split docking library into 10 files each containing 1 compounds\n"
     ]
    },
    {
     "name": "stderr",
     "output_type": "stream",
     "text": [
      "\n",
      "100%|██████████| 10/10 [00:08<00:00,  1.16it/s]\n"
     ]
    },
    {
     "name": "stdout",
     "output_type": "stream",
     "text": [
      "\n",
      "[2023-Nov-21 00:39:37]: Rescoring with LinF9 complete in 8.8091!\n",
      "\n",
      "[2023-Nov-21 00:39:37]: Rescoring with SCORCH\n",
      "\n",
      "[2023-Nov-21 00:40:00]: Rescoring with SCORCH complete in 23.5617!\n",
      "\n",
      "[2023-Nov-21 00:40:00]: Rescoring with Vinardo\n",
      "\n",
      "[2023-Nov-21 00:40:01]: Rescoring with Vinardo complete in 1.0773!\n",
      "\n",
      "[2023-Nov-21 00:40:01]: Rescoring with PLECscore\n"
     ]
    },
    {
     "name": "stderr",
     "output_type": "stream",
     "text": [
      "/home/tony/.conda/envs/dockm8/lib/python3.10/site-packages/sklearn/base.py:329: UserWarning: Trying to unpickle estimator MLPRegressor from version 1.2.2 when using version 1.0.2. This might lead to breaking code or invalid results. Use at your own risk. For more info please refer to:\n",
      "https://scikit-learn.org/stable/modules/model_persistence.html#security-maintainability-limitations\n",
      "  warnings.warn(\n",
      "/home/tony/.conda/envs/dockm8/lib/python3.10/site-packages/oddt/virtualscreening.py:348: UserWarning: The chunksize (100) seams to be to large.\n",
      "  warnings.warn('The chunksize (%i) seams to be to large.'\n"
     ]
    },
    {
     "name": "stdout",
     "output_type": "stream",
     "text": [
      "\n",
      "[2023-Nov-21 00:40:33]: Rescoring with PLECScore complete in 32.2168!\n",
      "\n",
      "[2023-Nov-21 00:40:33]: Rescoring with NNscore\n",
      "\n",
      "[2023-Nov-21 00:40:51]: Rescoring with NNscore complete in 17.8873!\n"
     ]
    },
    {
     "name": "stderr",
     "output_type": "stream",
     "text": [
      "100%|██████████| 10/10 [00:00<00:00, 467.54it/s]"
     ]
    },
    {
     "name": "stdout",
     "output_type": "stream",
     "text": [
      "\n",
      "[2023-Nov-21 00:40:51]: Split docking library into 10 files each containing 1 compounds\n"
     ]
    },
    {
     "name": "stderr",
     "output_type": "stream",
     "text": [
      "\n",
      "100%|██████████| 10/10 [00:00<00:00, 41.27it/s]\n"
     ]
    },
    {
     "name": "stdout",
     "output_type": "stream",
     "text": [
      "Combining KORPL scores\n",
      "\n",
      "[2023-Nov-21 00:40:52]: Rescoring with KORPL complete in 0.4900!\n"
     ]
    },
    {
     "name": "stderr",
     "output_type": "stream",
     "text": [
      "100%|██████████| 10/10 [00:00<00:00, 559.20it/s]"
     ]
    },
    {
     "name": "stdout",
     "output_type": "stream",
     "text": [
      "\n",
      "[2023-Nov-21 00:40:52]: Split docking library into 10 files each containing 1 compounds\n"
     ]
    },
    {
     "name": "stderr",
     "output_type": "stream",
     "text": [
      "\n",
      "100%|██████████| 10/10 [00:00<00:00, 46.33it/s]\n"
     ]
    },
    {
     "name": "stdout",
     "output_type": "stream",
     "text": [
      "\n",
      "[2023-Nov-21 00:40:52]: Rescoring with ConvexPLR complete in 0.4487!\n"
     ]
    },
    {
     "name": "stderr",
     "output_type": "stream",
     "text": [
      "100%|██████████| 10/10 [00:00<00:00, 811.01it/s]"
     ]
    },
    {
     "name": "stdout",
     "output_type": "stream",
     "text": [
      "\n",
      "[2023-Nov-21 00:40:52]: Split docking library into 10 files each containing 1 compounds\n"
     ]
    },
    {
     "name": "stderr",
     "output_type": "stream",
     "text": [
      "\n",
      "100%|██████████| 10/10 [00:20<00:00,  2.02s/it]\n"
     ]
    },
    {
     "name": "stdout",
     "output_type": "stream",
     "text": [
      "\n",
      "[2023-Nov-21 00:41:13]: Rescoring with AAScore complete in 20.4023!\n",
      "\n",
      "[2023-Nov-21 00:41:13]: Combining all scores for /home/tony/DockM8/testing_single_docking/protein_protoss/rescoring_3DScore_clustered\n"
     ]
    },
    {
     "name": "stderr",
     "output_type": "stream",
     "text": [
      "Combining scores: 100%|██████████| 13/13 [00:00<00:00, 277.57files/s]\n"
     ]
    },
    {
     "name": "stdout",
     "output_type": "stream",
     "text": [
      "\n",
      "[2023-Nov-21 00:41:13]: Rescoring complete in 202.2642!\n"
     ]
    },
    {
     "name": "stderr",
     "output_type": "stream",
     "text": [
      "100%|██████████| 10/10 [00:00<00:00, 93.40it/s]"
     ]
    },
    {
     "name": "stdout",
     "output_type": "stream",
     "text": [
      "\n",
      "[2023-Nov-21 00:41:13]: Split docking library into 10 files each containing 5 compounds\n"
     ]
    },
    {
     "name": "stderr",
     "output_type": "stream",
     "text": [
      "\n",
      "100%|██████████| 10/10 [01:04<00:00,  6.45s/it]\n"
     ]
    },
    {
     "name": "stdout",
     "output_type": "stream",
     "text": [
      "\n",
      "[2023-Nov-21 00:42:19]: Rescoring with GNINA_Affinity complete in 65.9422!\n"
     ]
    },
    {
     "name": "stderr",
     "output_type": "stream",
     "text": [
      "100%|██████████| 10/10 [00:00<00:00, 25.69it/s]"
     ]
    },
    {
     "name": "stdout",
     "output_type": "stream",
     "text": [
      "\n",
      "[2023-Nov-21 00:42:20]: Split docking library into 10 files each containing 5 compounds\n"
     ]
    },
    {
     "name": "stderr",
     "output_type": "stream",
     "text": [
      "\n",
      "100%|██████████| 10/10 [00:42<00:00,  4.26s/it]\n"
     ]
    },
    {
     "name": "stdout",
     "output_type": "stream",
     "text": [
      "\n",
      "[2023-Nov-21 00:43:03]: Rescoring with CNN-Score complete in 44.3694!\n"
     ]
    },
    {
     "name": "stderr",
     "output_type": "stream",
     "text": [
      "100%|██████████| 10/10 [00:00<00:00, 308.72it/s]"
     ]
    },
    {
     "name": "stdout",
     "output_type": "stream",
     "text": [
      "\n",
      "[2023-Nov-21 00:43:03]: Split docking library into 10 files each containing 5 compounds\n"
     ]
    },
    {
     "name": "stderr",
     "output_type": "stream",
     "text": [
      "\n",
      "100%|██████████| 10/10 [00:11<00:00,  1.19s/it]\n"
     ]
    },
    {
     "name": "stdout",
     "output_type": "stream",
     "text": [
      "\n",
      "[2023-Nov-21 00:43:15]: Rescoring with CNN-Affinity complete in 12.2083!\n",
      "\n",
      "[2023-Nov-21 00:43:15]: Rescoring with AD4\n",
      "\n",
      "[2023-Nov-21 00:43:18]: Rescoring with AD4 complete in 2.8317!\n",
      "\n",
      "[2023-Nov-21 00:43:18]: Rescoring with CHEMPLP\n",
      "\n",
      "[2023-Nov-21 00:43:21]: Rescoring with CHEMPLP complete in 2.5417!\n",
      "\n",
      "[2023-Nov-21 00:43:21]: Rescoring with RFScoreVS\n",
      "\n",
      "[2023-Nov-21 00:43:32]: Rescoring with RFScoreVS complete in 11.1106!\n"
     ]
    },
    {
     "name": "stderr",
     "output_type": "stream",
     "text": [
      "100%|██████████| 10/10 [00:00<00:00, 291.30it/s]"
     ]
    },
    {
     "name": "stdout",
     "output_type": "stream",
     "text": [
      "\n",
      "[2023-Nov-21 00:43:32]: Split docking library into 10 files each containing 5 compounds\n"
     ]
    },
    {
     "name": "stderr",
     "output_type": "stream",
     "text": [
      "\n",
      "100%|██████████| 10/10 [00:08<00:00,  1.16it/s]\n"
     ]
    },
    {
     "name": "stdout",
     "output_type": "stream",
     "text": [
      "\n",
      "[2023-Nov-21 00:43:41]: Rescoring with LinF9 complete in 8.8561!\n",
      "\n",
      "[2023-Nov-21 00:43:41]: Rescoring with SCORCH\n",
      "\n",
      "[2023-Nov-21 00:44:12]: Rescoring with SCORCH complete in 31.0239!\n",
      "\n",
      "[2023-Nov-21 00:44:12]: Rescoring with Vinardo\n",
      "\n",
      "[2023-Nov-21 00:44:13]: Rescoring with Vinardo complete in 1.3077!\n",
      "\n",
      "[2023-Nov-21 00:44:13]: Rescoring with PLECscore\n"
     ]
    },
    {
     "name": "stderr",
     "output_type": "stream",
     "text": [
      "/home/tony/.conda/envs/dockm8/lib/python3.10/site-packages/sklearn/base.py:329: UserWarning: Trying to unpickle estimator MLPRegressor from version 1.2.2 when using version 1.0.2. This might lead to breaking code or invalid results. Use at your own risk. For more info please refer to:\n",
      "https://scikit-learn.org/stable/modules/model_persistence.html#security-maintainability-limitations\n",
      "  warnings.warn(\n",
      "/home/tony/.conda/envs/dockm8/lib/python3.10/site-packages/oddt/virtualscreening.py:348: UserWarning: The chunksize (100) seams to be to large.\n",
      "  warnings.warn('The chunksize (%i) seams to be to large.'\n"
     ]
    },
    {
     "name": "stdout",
     "output_type": "stream",
     "text": [
      "\n",
      "[2023-Nov-21 00:45:22]: Rescoring with PLECScore complete in 69.2697!\n",
      "\n",
      "[2023-Nov-21 00:45:22]: Rescoring with NNscore\n",
      "\n",
      "[2023-Nov-21 00:46:25]: Rescoring with NNscore complete in 63.2855!\n"
     ]
    },
    {
     "name": "stderr",
     "output_type": "stream",
     "text": [
      "100%|██████████| 10/10 [00:00<00:00, 168.91it/s]"
     ]
    },
    {
     "name": "stdout",
     "output_type": "stream",
     "text": [
      "\n",
      "[2023-Nov-21 00:46:26]: Split docking library into 10 files each containing 5 compounds\n"
     ]
    },
    {
     "name": "stderr",
     "output_type": "stream",
     "text": [
      "\n",
      "100%|██████████| 10/10 [00:00<00:00, 31.90it/s]\n"
     ]
    },
    {
     "name": "stdout",
     "output_type": "stream",
     "text": [
      "Combining KORPL scores\n",
      "\n",
      "[2023-Nov-21 00:46:26]: Rescoring with KORPL complete in 0.6438!\n"
     ]
    },
    {
     "name": "stderr",
     "output_type": "stream",
     "text": [
      "100%|██████████| 10/10 [00:00<00:00, 214.75it/s]"
     ]
    },
    {
     "name": "stdout",
     "output_type": "stream",
     "text": [
      "\n",
      "[2023-Nov-21 00:46:26]: Split docking library into 10 files each containing 5 compounds\n"
     ]
    },
    {
     "name": "stderr",
     "output_type": "stream",
     "text": [
      "\n",
      "100%|██████████| 10/10 [00:00<00:00, 23.62it/s]\n"
     ]
    },
    {
     "name": "stdout",
     "output_type": "stream",
     "text": [
      "\n",
      "[2023-Nov-21 00:46:27]: Rescoring with ConvexPLR complete in 0.7449!\n"
     ]
    },
    {
     "name": "stderr",
     "output_type": "stream",
     "text": [
      "100%|██████████| 10/10 [00:00<00:00, 342.20it/s]"
     ]
    },
    {
     "name": "stdout",
     "output_type": "stream",
     "text": [
      "\n",
      "[2023-Nov-21 00:46:27]: Split docking library into 10 files each containing 5 compounds\n"
     ]
    },
    {
     "name": "stderr",
     "output_type": "stream",
     "text": [
      "\n",
      "100%|██████████| 10/10 [02:57<00:00, 17.70s/it]\n"
     ]
    },
    {
     "name": "stdout",
     "output_type": "stream",
     "text": [
      "\n",
      "[2023-Nov-21 00:49:24]: Rescoring with AAScore complete in 177.3513!\n",
      "\n",
      "[2023-Nov-21 00:49:24]: Combining all scores for /home/tony/DockM8/testing_single_docking/protein_protoss/rescoring_bestpose_clustered\n"
     ]
    },
    {
     "name": "stderr",
     "output_type": "stream",
     "text": [
      "Combining scores: 100%|██████████| 13/13 [00:00<00:00, 137.26files/s]"
     ]
    },
    {
     "name": "stdout",
     "output_type": "stream",
     "text": [
      "\n",
      "[2023-Nov-21 00:49:24]: Rescoring complete in 491.6944!\n"
     ]
    },
    {
     "name": "stderr",
     "output_type": "stream",
     "text": [
      "\n",
      "100%|██████████| 10/10 [00:00<00:00, 66.92it/s]"
     ]
    },
    {
     "name": "stdout",
     "output_type": "stream",
     "text": [
      "\n",
      "[2023-Nov-21 00:49:25]: Split docking library into 10 files each containing 10 compounds\n"
     ]
    },
    {
     "name": "stderr",
     "output_type": "stream",
     "text": [
      "\n",
      "100%|██████████| 10/10 [00:14<00:00,  1.48s/it]\n"
     ]
    },
    {
     "name": "stdout",
     "output_type": "stream",
     "text": [
      "\n",
      "[2023-Nov-21 00:49:40]: Rescoring with GNINA_Affinity complete in 15.6429!\n"
     ]
    },
    {
     "name": "stderr",
     "output_type": "stream",
     "text": [
      "100%|██████████| 10/10 [00:00<00:00, 131.34it/s]"
     ]
    },
    {
     "name": "stdout",
     "output_type": "stream",
     "text": [
      "\n",
      "[2023-Nov-21 00:49:40]: Split docking library into 10 files each containing 10 compounds\n"
     ]
    },
    {
     "name": "stderr",
     "output_type": "stream",
     "text": [
      "\n",
      "100%|██████████| 10/10 [00:19<00:00,  1.90s/it]\n"
     ]
    },
    {
     "name": "stdout",
     "output_type": "stream",
     "text": [
      "\n",
      "[2023-Nov-21 00:50:00]: Rescoring with CNN-Score complete in 19.4326!\n"
     ]
    },
    {
     "name": "stderr",
     "output_type": "stream",
     "text": [
      "100%|██████████| 10/10 [00:00<00:00, 139.73it/s]"
     ]
    },
    {
     "name": "stdout",
     "output_type": "stream",
     "text": [
      "\n",
      "[2023-Nov-21 00:50:00]: Split docking library into 10 files each containing 10 compounds\n"
     ]
    },
    {
     "name": "stderr",
     "output_type": "stream",
     "text": [
      "\n",
      "100%|██████████| 10/10 [01:31<00:00,  9.19s/it]\n"
     ]
    },
    {
     "name": "stdout",
     "output_type": "stream",
     "text": [
      "\n",
      "[2023-Nov-21 00:51:32]: Rescoring with CNN-Affinity complete in 92.9957!\n",
      "\n",
      "[2023-Nov-21 00:51:33]: Rescoring with AD4\n",
      "\n",
      "[2023-Nov-21 00:51:47]: Rescoring with AD4 complete in 14.7261!\n",
      "\n",
      "[2023-Nov-21 00:51:47]: Rescoring with CHEMPLP\n",
      "\n",
      "[2023-Nov-21 00:51:55]: Rescoring with CHEMPLP complete in 8.2331!\n",
      "\n",
      "[2023-Nov-21 00:51:55]: Rescoring with RFScoreVS\n",
      "\n",
      "[2023-Nov-21 00:52:08]: Rescoring with RFScoreVS complete in 12.1489!\n"
     ]
    },
    {
     "name": "stderr",
     "output_type": "stream",
     "text": [
      "100%|██████████| 10/10 [00:00<00:00, 92.05it/s]"
     ]
    },
    {
     "name": "stdout",
     "output_type": "stream",
     "text": [
      "\n",
      "[2023-Nov-21 00:52:08]: Split docking library into 10 files each containing 10 compounds\n"
     ]
    },
    {
     "name": "stderr",
     "output_type": "stream",
     "text": [
      "\n",
      "100%|██████████| 10/10 [00:06<00:00,  1.61it/s]\n"
     ]
    },
    {
     "name": "stdout",
     "output_type": "stream",
     "text": [
      "\n",
      "[2023-Nov-21 00:52:15]: Rescoring with LinF9 complete in 6.9925!\n",
      "\n",
      "[2023-Nov-21 00:52:16]: Rescoring with SCORCH\n",
      "\n",
      "[2023-Nov-21 00:52:48]: Rescoring with SCORCH complete in 33.5096!\n",
      "\n",
      "[2023-Nov-21 00:52:48]: Rescoring with Vinardo\n",
      "\n",
      "[2023-Nov-21 00:52:51]: Rescoring with Vinardo complete in 2.4455!\n",
      "\n",
      "[2023-Nov-21 00:52:51]: Rescoring with PLECscore\n"
     ]
    },
    {
     "name": "stderr",
     "output_type": "stream",
     "text": [
      "/home/tony/.conda/envs/dockm8/lib/python3.10/site-packages/sklearn/base.py:329: UserWarning: Trying to unpickle estimator MLPRegressor from version 1.2.2 when using version 1.0.2. This might lead to breaking code or invalid results. Use at your own risk. For more info please refer to:\n",
      "https://scikit-learn.org/stable/modules/model_persistence.html#security-maintainability-limitations\n",
      "  warnings.warn(\n"
     ]
    },
    {
     "name": "stdout",
     "output_type": "stream",
     "text": [
      "\n",
      "[2023-Nov-21 00:53:42]: Rescoring with PLECScore complete in 51.6033!\n",
      "\n",
      "[2023-Nov-21 00:53:42]: Rescoring with NNscore\n",
      "\n",
      "[2023-Nov-21 00:55:41]: Rescoring with NNscore complete in 118.8656!\n"
     ]
    },
    {
     "name": "stderr",
     "output_type": "stream",
     "text": [
      "100%|██████████| 10/10 [00:00<00:00, 74.24it/s]"
     ]
    },
    {
     "name": "stdout",
     "output_type": "stream",
     "text": [
      "\n",
      "[2023-Nov-21 00:55:41]: Split docking library into 10 files each containing 10 compounds\n"
     ]
    },
    {
     "name": "stderr",
     "output_type": "stream",
     "text": [
      "\n",
      "100%|██████████| 10/10 [00:00<00:00, 16.34it/s]\n"
     ]
    },
    {
     "name": "stdout",
     "output_type": "stream",
     "text": [
      "Combining KORPL scores\n",
      "\n",
      "[2023-Nov-21 00:55:42]: Rescoring with KORPL complete in 1.2632!\n"
     ]
    },
    {
     "name": "stderr",
     "output_type": "stream",
     "text": [
      "100%|██████████| 10/10 [00:00<00:00, 133.11it/s]"
     ]
    },
    {
     "name": "stdout",
     "output_type": "stream",
     "text": [
      "\n",
      "[2023-Nov-21 00:55:43]: Split docking library into 10 files each containing 10 compounds\n"
     ]
    },
    {
     "name": "stderr",
     "output_type": "stream",
     "text": [
      "\n",
      "100%|██████████| 10/10 [00:00<00:00, 17.99it/s]\n"
     ]
    },
    {
     "name": "stdout",
     "output_type": "stream",
     "text": [
      "\n",
      "[2023-Nov-21 00:55:43]: Rescoring with ConvexPLR complete in 0.9760!\n"
     ]
    },
    {
     "name": "stderr",
     "output_type": "stream",
     "text": [
      "100%|██████████| 10/10 [00:00<00:00, 118.32it/s]"
     ]
    },
    {
     "name": "stdout",
     "output_type": "stream",
     "text": [
      "\n",
      "[2023-Nov-21 00:55:43]: Split docking library into 10 files each containing 10 compounds\n"
     ]
    },
    {
     "name": "stderr",
     "output_type": "stream",
     "text": [
      "\n",
      "100%|██████████| 10/10 [05:38<00:00, 33.89s/it]\n"
     ]
    },
    {
     "name": "stdout",
     "output_type": "stream",
     "text": [
      "\n",
      "[2023-Nov-21 01:01:23]: Rescoring with AAScore complete in 339.2684!\n",
      "\n",
      "[2023-Nov-21 01:01:23]: Combining all scores for /home/tony/DockM8/testing_single_docking/protein_protoss/rescoring_bestpose_GNINA_clustered\n"
     ]
    },
    {
     "name": "stderr",
     "output_type": "stream",
     "text": [
      "Combining scores: 100%|██████████| 13/13 [00:00<00:00, 282.25files/s]\n"
     ]
    },
    {
     "name": "stdout",
     "output_type": "stream",
     "text": [
      "\n",
      "[2023-Nov-21 01:01:23]: Rescoring complete in 718.2273!\n"
     ]
    },
    {
     "name": "stderr",
     "output_type": "stream",
     "text": [
      "100%|██████████| 10/10 [00:00<00:00, 119.91it/s]"
     ]
    },
    {
     "name": "stdout",
     "output_type": "stream",
     "text": [
      "\n",
      "[2023-Nov-21 01:01:23]: Split docking library into 10 files each containing 10 compounds\n"
     ]
    },
    {
     "name": "stderr",
     "output_type": "stream",
     "text": [
      "\n",
      "100%|██████████| 10/10 [00:16<00:00,  1.70s/it]\n"
     ]
    },
    {
     "name": "stdout",
     "output_type": "stream",
     "text": [
      "\n",
      "[2023-Nov-21 01:01:40]: Rescoring with GNINA_Affinity complete in 17.5857!\n"
     ]
    },
    {
     "name": "stderr",
     "output_type": "stream",
     "text": [
      "100%|██████████| 10/10 [00:00<00:00, 167.57it/s]"
     ]
    },
    {
     "name": "stdout",
     "output_type": "stream",
     "text": [
      "\n",
      "[2023-Nov-21 01:01:40]: Split docking library into 10 files each containing 10 compounds\n"
     ]
    },
    {
     "name": "stderr",
     "output_type": "stream",
     "text": [
      "\n",
      "100%|██████████| 10/10 [00:15<00:00,  1.55s/it]\n"
     ]
    },
    {
     "name": "stdout",
     "output_type": "stream",
     "text": [
      "\n",
      "[2023-Nov-21 01:01:56]: Rescoring with CNN-Score complete in 15.9176!\n"
     ]
    },
    {
     "name": "stderr",
     "output_type": "stream",
     "text": [
      "100%|██████████| 10/10 [00:00<00:00, 83.72it/s]"
     ]
    },
    {
     "name": "stdout",
     "output_type": "stream",
     "text": [
      "\n",
      "[2023-Nov-21 01:01:56]: Split docking library into 10 files each containing 10 compounds\n"
     ]
    },
    {
     "name": "stderr",
     "output_type": "stream",
     "text": [
      "\n",
      "100%|██████████| 10/10 [00:34<00:00,  3.47s/it]\n"
     ]
    },
    {
     "name": "stdout",
     "output_type": "stream",
     "text": [
      "\n",
      "[2023-Nov-21 01:02:32]: Rescoring with CNN-Affinity complete in 36.1542!\n",
      "\n",
      "[2023-Nov-21 01:02:32]: Rescoring with AD4\n",
      "\n",
      "[2023-Nov-21 01:02:48]: Rescoring with AD4 complete in 15.4049!\n",
      "\n",
      "[2023-Nov-21 01:02:48]: Rescoring with CHEMPLP\n",
      "\n",
      "[2023-Nov-21 01:03:09]: Rescoring with CHEMPLP complete in 21.5879!\n",
      "\n",
      "[2023-Nov-21 01:03:09]: Rescoring with RFScoreVS\n",
      "\n",
      "[2023-Nov-21 01:04:13]: Rescoring with RFScoreVS complete in 63.8043!\n"
     ]
    },
    {
     "name": "stderr",
     "output_type": "stream",
     "text": [
      "100%|██████████| 10/10 [00:00<00:00, 192.89it/s]"
     ]
    },
    {
     "name": "stdout",
     "output_type": "stream",
     "text": [
      "\n",
      "[2023-Nov-21 01:04:13]: Split docking library into 10 files each containing 10 compounds\n"
     ]
    },
    {
     "name": "stderr",
     "output_type": "stream",
     "text": [
      "\n",
      "100%|██████████| 10/10 [00:08<00:00,  1.12it/s]\n"
     ]
    },
    {
     "name": "stdout",
     "output_type": "stream",
     "text": [
      "\n",
      "[2023-Nov-21 01:04:22]: Rescoring with LinF9 complete in 9.2928!\n",
      "\n",
      "[2023-Nov-21 01:04:23]: Rescoring with SCORCH\n",
      "\n",
      "[2023-Nov-21 01:04:55]: Rescoring with SCORCH complete in 32.7583!\n",
      "\n",
      "[2023-Nov-21 01:04:55]: Rescoring with Vinardo\n",
      "\n",
      "[2023-Nov-21 01:04:58]: Rescoring with Vinardo complete in 2.6856!\n",
      "\n",
      "[2023-Nov-21 01:04:58]: Rescoring with PLECscore\n"
     ]
    },
    {
     "name": "stderr",
     "output_type": "stream",
     "text": [
      "/home/tony/.conda/envs/dockm8/lib/python3.10/site-packages/sklearn/base.py:329: UserWarning: Trying to unpickle estimator MLPRegressor from version 1.2.2 when using version 1.0.2. This might lead to breaking code or invalid results. Use at your own risk. For more info please refer to:\n",
      "https://scikit-learn.org/stable/modules/model_persistence.html#security-maintainability-limitations\n",
      "  warnings.warn(\n"
     ]
    },
    {
     "name": "stdout",
     "output_type": "stream",
     "text": [
      "\n",
      "[2023-Nov-21 01:05:43]: Rescoring with PLECScore complete in 44.9090!\n",
      "\n",
      "[2023-Nov-21 01:05:43]: Rescoring with NNscore\n",
      "\n",
      "[2023-Nov-21 01:06:55]: Rescoring with NNscore complete in 72.0304!\n"
     ]
    },
    {
     "name": "stderr",
     "output_type": "stream",
     "text": [
      "100%|██████████| 10/10 [00:00<00:00, 16.03it/s]"
     ]
    },
    {
     "name": "stdout",
     "output_type": "stream",
     "text": [
      "\n",
      "[2023-Nov-21 01:06:56]: Split docking library into 10 files each containing 10 compounds\n"
     ]
    },
    {
     "name": "stderr",
     "output_type": "stream",
     "text": [
      "\n",
      "100%|██████████| 10/10 [00:02<00:00,  4.44it/s]\n"
     ]
    },
    {
     "name": "stdout",
     "output_type": "stream",
     "text": [
      "Combining KORPL scores\n",
      "\n",
      "[2023-Nov-21 01:07:00]: Rescoring with KORPL complete in 5.0487!\n"
     ]
    },
    {
     "name": "stderr",
     "output_type": "stream",
     "text": [
      "100%|██████████| 10/10 [00:00<00:00, 14.43it/s]\n"
     ]
    },
    {
     "name": "stdout",
     "output_type": "stream",
     "text": [
      "\n",
      "[2023-Nov-21 01:07:02]: Split docking library into 10 files each containing 10 compounds\n"
     ]
    },
    {
     "name": "stderr",
     "output_type": "stream",
     "text": [
      "100%|██████████| 10/10 [00:05<00:00,  1.82it/s]\n"
     ]
    },
    {
     "name": "stdout",
     "output_type": "stream",
     "text": [
      "\n",
      "[2023-Nov-21 01:07:08]: Rescoring with ConvexPLR complete in 8.5729!\n"
     ]
    },
    {
     "name": "stderr",
     "output_type": "stream",
     "text": [
      "100%|██████████| 10/10 [00:00<00:00, 15.58it/s]"
     ]
    },
    {
     "name": "stdout",
     "output_type": "stream",
     "text": [
      "\n",
      "[2023-Nov-21 01:07:10]: Split docking library into 10 files each containing 10 compounds\n"
     ]
    },
    {
     "name": "stderr",
     "output_type": "stream",
     "text": [
      "\n",
      "100%|██████████| 10/10 [06:34<00:00, 39.47s/it]\n"
     ]
    },
    {
     "name": "stdout",
     "output_type": "stream",
     "text": [
      "\n",
      "[2023-Nov-21 01:13:46]: Rescoring with AAScore complete in 397.3214!\n",
      "\n",
      "[2023-Nov-21 01:13:46]: Combining all scores for /home/tony/DockM8/testing_single_docking/protein_protoss/rescoring_bestpose_SMINA_clustered\n"
     ]
    },
    {
     "name": "stderr",
     "output_type": "stream",
     "text": [
      "Combining scores: 100%|██████████| 13/13 [00:00<00:00, 293.40files/s]\n"
     ]
    },
    {
     "name": "stdout",
     "output_type": "stream",
     "text": [
      "\n",
      "[2023-Nov-21 01:13:46]: Rescoring complete in 743.2258!\n"
     ]
    },
    {
     "name": "stderr",
     "output_type": "stream",
     "text": [
      "100%|██████████| 10/10 [00:00<00:00, 113.58it/s]"
     ]
    },
    {
     "name": "stdout",
     "output_type": "stream",
     "text": [
      "\n",
      "[2023-Nov-21 01:13:46]: Split docking library into 10 files each containing 10 compounds\n"
     ]
    },
    {
     "name": "stderr",
     "output_type": "stream",
     "text": [
      "\n",
      "100%|██████████| 10/10 [00:18<00:00,  1.85s/it]\n"
     ]
    },
    {
     "name": "stdout",
     "output_type": "stream",
     "text": [
      "\n",
      "[2023-Nov-21 01:14:05]: Rescoring with GNINA_Affinity complete in 19.1051!\n"
     ]
    },
    {
     "name": "stderr",
     "output_type": "stream",
     "text": [
      "100%|██████████| 10/10 [00:00<00:00, 171.15it/s]"
     ]
    },
    {
     "name": "stdout",
     "output_type": "stream",
     "text": [
      "\n",
      "[2023-Nov-21 01:14:05]: Split docking library into 10 files each containing 10 compounds\n"
     ]
    },
    {
     "name": "stderr",
     "output_type": "stream",
     "text": [
      "\n",
      "100%|██████████| 10/10 [00:48<00:00,  4.82s/it]\n"
     ]
    },
    {
     "name": "stdout",
     "output_type": "stream",
     "text": [
      "\n",
      "[2023-Nov-21 01:14:54]: Rescoring with CNN-Score complete in 49.1756!\n"
     ]
    },
    {
     "name": "stderr",
     "output_type": "stream",
     "text": [
      "100%|██████████| 10/10 [00:00<00:00, 24.75it/s]"
     ]
    },
    {
     "name": "stdout",
     "output_type": "stream",
     "text": [
      "\n",
      "[2023-Nov-21 01:14:55]: Split docking library into 10 files each containing 10 compounds\n"
     ]
    },
    {
     "name": "stderr",
     "output_type": "stream",
     "text": [
      "\n",
      "100%|██████████| 10/10 [00:58<00:00,  5.84s/it]\n"
     ]
    },
    {
     "name": "stdout",
     "output_type": "stream",
     "text": [
      "\n",
      "[2023-Nov-21 01:15:54]: Rescoring with CNN-Affinity complete in 60.0913!\n",
      "\n",
      "[2023-Nov-21 01:15:54]: Rescoring with AD4\n",
      "\n",
      "[2023-Nov-21 01:15:55]: Rescoring with AD4 complete in 1.0319!\n",
      "\n",
      "[2023-Nov-21 01:15:55]: Rescoring with CHEMPLP\n",
      "\n",
      "[2023-Nov-21 01:15:57]: Rescoring with CHEMPLP complete in 2.1860!\n",
      "\n",
      "[2023-Nov-21 01:15:57]: Rescoring with RFScoreVS\n",
      "\n",
      "[2023-Nov-21 01:16:06]: Rescoring with RFScoreVS complete in 8.1297!\n"
     ]
    },
    {
     "name": "stderr",
     "output_type": "stream",
     "text": [
      "100%|██████████| 10/10 [00:00<00:00, 253.49it/s]"
     ]
    },
    {
     "name": "stdout",
     "output_type": "stream",
     "text": [
      "\n",
      "[2023-Nov-21 01:16:06]: Split docking library into 10 files each containing 10 compounds\n"
     ]
    },
    {
     "name": "stderr",
     "output_type": "stream",
     "text": [
      "\n",
      "100%|██████████| 10/10 [00:03<00:00,  2.71it/s]\n"
     ]
    },
    {
     "name": "stdout",
     "output_type": "stream",
     "text": [
      "\n",
      "[2023-Nov-21 01:16:10]: Rescoring with LinF9 complete in 3.9672!\n",
      "\n",
      "[2023-Nov-21 01:16:10]: Rescoring with SCORCH\n",
      "\n",
      "[2023-Nov-21 01:16:32]: Rescoring with SCORCH complete in 22.2400!\n",
      "\n",
      "[2023-Nov-21 01:16:32]: Rescoring with Vinardo\n",
      "\n",
      "[2023-Nov-21 01:16:33]: Rescoring with Vinardo complete in 0.9195!\n",
      "\n",
      "[2023-Nov-21 01:16:33]: Rescoring with PLECscore\n"
     ]
    },
    {
     "name": "stderr",
     "output_type": "stream",
     "text": [
      "/home/tony/.conda/envs/dockm8/lib/python3.10/site-packages/sklearn/base.py:329: UserWarning: Trying to unpickle estimator MLPRegressor from version 1.2.2 when using version 1.0.2. This might lead to breaking code or invalid results. Use at your own risk. For more info please refer to:\n",
      "https://scikit-learn.org/stable/modules/model_persistence.html#security-maintainability-limitations\n",
      "  warnings.warn(\n",
      "/home/tony/.conda/envs/dockm8/lib/python3.10/site-packages/oddt/virtualscreening.py:348: UserWarning: The chunksize (100) seams to be to large.\n",
      "  warnings.warn('The chunksize (%i) seams to be to large.'\n"
     ]
    },
    {
     "name": "stdout",
     "output_type": "stream",
     "text": [
      "\n",
      "[2023-Nov-21 01:17:03]: Rescoring with PLECScore complete in 30.6398!\n",
      "\n",
      "[2023-Nov-21 01:17:03]: Rescoring with NNscore\n",
      "\n",
      "[2023-Nov-21 01:17:21]: Rescoring with NNscore complete in 17.8875!\n"
     ]
    },
    {
     "name": "stderr",
     "output_type": "stream",
     "text": [
      "100%|██████████| 10/10 [00:00<00:00, 33.17it/s]\n"
     ]
    },
    {
     "name": "stdout",
     "output_type": "stream",
     "text": [
      "\n",
      "[2023-Nov-21 01:17:22]: Split docking library into 10 files each containing 10 compounds\n"
     ]
    },
    {
     "name": "stderr",
     "output_type": "stream",
     "text": [
      "100%|██████████| 10/10 [00:02<00:00,  4.67it/s]\n"
     ]
    },
    {
     "name": "stdout",
     "output_type": "stream",
     "text": [
      "Combining KORPL scores\n",
      "\n",
      "[2023-Nov-21 01:17:25]: Rescoring with KORPL complete in 3.8420!\n"
     ]
    },
    {
     "name": "stderr",
     "output_type": "stream",
     "text": [
      "100%|██████████| 10/10 [00:00<00:00, 14.61it/s]"
     ]
    },
    {
     "name": "stdout",
     "output_type": "stream",
     "text": [
      "\n",
      "[2023-Nov-21 01:17:27]: Split docking library into 10 files each containing 10 compounds\n"
     ]
    },
    {
     "name": "stderr",
     "output_type": "stream",
     "text": [
      "\n",
      "100%|██████████| 10/10 [00:05<00:00,  1.70it/s]\n"
     ]
    },
    {
     "name": "stdout",
     "output_type": "stream",
     "text": [
      "\n",
      "[2023-Nov-21 01:17:34]: Rescoring with ConvexPLR complete in 8.9470!\n"
     ]
    },
    {
     "name": "stderr",
     "output_type": "stream",
     "text": [
      "100%|██████████| 10/10 [00:00<00:00, 15.39it/s]"
     ]
    },
    {
     "name": "stdout",
     "output_type": "stream",
     "text": [
      "\n",
      "[2023-Nov-21 01:17:36]: Split docking library into 10 files each containing 10 compounds\n"
     ]
    },
    {
     "name": "stderr",
     "output_type": "stream",
     "text": [
      "\n",
      "100%|██████████| 10/10 [06:46<00:00, 40.60s/it]\n"
     ]
    },
    {
     "name": "stdout",
     "output_type": "stream",
     "text": [
      "\n",
      "[2023-Nov-21 01:24:23]: Rescoring with AAScore complete in 408.5347!\n",
      "\n",
      "[2023-Nov-21 01:24:23]: Combining all scores for /home/tony/DockM8/testing_single_docking/protein_protoss/rescoring_bestpose_PLANTS_clustered\n"
     ]
    },
    {
     "name": "stderr",
     "output_type": "stream",
     "text": [
      "Combining scores: 100%|██████████| 13/13 [00:00<00:00, 248.43files/s]\n"
     ]
    },
    {
     "name": "stdout",
     "output_type": "stream",
     "text": [
      "\n",
      "[2023-Nov-21 01:24:23]: Rescoring complete in 636.8379!\n"
     ]
    },
    {
     "name": "stderr",
     "output_type": "stream",
     "text": [
      "100%|██████████| 10/10 [00:00<00:00, 131.49it/s]"
     ]
    },
    {
     "name": "stdout",
     "output_type": "stream",
     "text": [
      "\n",
      "[2023-Nov-21 01:24:23]: Split docking library into 10 files each containing 10 compounds\n"
     ]
    },
    {
     "name": "stderr",
     "output_type": "stream",
     "text": [
      "\n",
      "100%|██████████| 10/10 [00:13<00:00,  1.34s/it]\n"
     ]
    },
    {
     "name": "stdout",
     "output_type": "stream",
     "text": [
      "\n",
      "[2023-Nov-21 01:24:37]: Rescoring with GNINA_Affinity complete in 13.9274!\n"
     ]
    },
    {
     "name": "stderr",
     "output_type": "stream",
     "text": [
      "100%|██████████| 10/10 [00:00<00:00, 115.05it/s]"
     ]
    },
    {
     "name": "stdout",
     "output_type": "stream",
     "text": [
      "\n",
      "[2023-Nov-21 01:24:37]: Split docking library into 10 files each containing 10 compounds\n"
     ]
    },
    {
     "name": "stderr",
     "output_type": "stream",
     "text": [
      "\n",
      "100%|██████████| 10/10 [00:09<00:00,  1.03it/s]\n"
     ]
    },
    {
     "name": "stdout",
     "output_type": "stream",
     "text": [
      "\n",
      "[2023-Nov-21 01:24:47]: Rescoring with CNN-Score complete in 10.1563!\n"
     ]
    },
    {
     "name": "stderr",
     "output_type": "stream",
     "text": [
      "100%|██████████| 10/10 [00:00<00:00, 158.10it/s]"
     ]
    },
    {
     "name": "stdout",
     "output_type": "stream",
     "text": [
      "\n",
      "[2023-Nov-21 01:24:47]: Split docking library into 10 files each containing 10 compounds\n"
     ]
    },
    {
     "name": "stderr",
     "output_type": "stream",
     "text": [
      "\n",
      "100%|██████████| 10/10 [00:09<00:00,  1.06it/s]\n"
     ]
    },
    {
     "name": "stdout",
     "output_type": "stream",
     "text": [
      "\n",
      "[2023-Nov-21 01:24:57]: Rescoring with CNN-Affinity complete in 9.8049!\n",
      "\n",
      "[2023-Nov-21 01:24:57]: Rescoring with AD4\n",
      "\n",
      "[2023-Nov-21 01:24:58]: Rescoring with AD4 complete in 1.0120!\n",
      "\n",
      "[2023-Nov-21 01:24:58]: Rescoring with CHEMPLP\n",
      "\n",
      "[2023-Nov-21 01:24:59]: Rescoring with CHEMPLP complete in 1.6593!\n",
      "\n",
      "[2023-Nov-21 01:24:59]: Rescoring with RFScoreVS\n",
      "\n",
      "[2023-Nov-21 01:25:07]: Rescoring with RFScoreVS complete in 7.8027!\n"
     ]
    },
    {
     "name": "stderr",
     "output_type": "stream",
     "text": [
      "100%|██████████| 10/10 [00:00<00:00, 329.46it/s]"
     ]
    },
    {
     "name": "stdout",
     "output_type": "stream",
     "text": [
      "\n",
      "[2023-Nov-21 01:25:07]: Split docking library into 10 files each containing 10 compounds\n"
     ]
    },
    {
     "name": "stderr",
     "output_type": "stream",
     "text": [
      "\n",
      "100%|██████████| 10/10 [00:05<00:00,  1.98it/s]\n"
     ]
    },
    {
     "name": "stdout",
     "output_type": "stream",
     "text": [
      "\n",
      "[2023-Nov-21 01:25:12]: Rescoring with LinF9 complete in 5.3330!\n",
      "\n",
      "[2023-Nov-21 01:25:13]: Rescoring with SCORCH\n",
      "\n",
      "[2023-Nov-21 01:26:50]: Rescoring with SCORCH complete in 97.9657!\n",
      "\n",
      "[2023-Nov-21 01:26:50]: Rescoring with Vinardo\n",
      "\n",
      "[2023-Nov-21 01:26:52]: Rescoring with Vinardo complete in 1.4546!\n",
      "\n",
      "[2023-Nov-21 01:26:52]: Rescoring with PLECscore\n"
     ]
    },
    {
     "name": "stderr",
     "output_type": "stream",
     "text": [
      "/home/tony/.conda/envs/dockm8/lib/python3.10/site-packages/sklearn/base.py:329: UserWarning: Trying to unpickle estimator MLPRegressor from version 1.2.2 when using version 1.0.2. This might lead to breaking code or invalid results. Use at your own risk. For more info please refer to:\n",
      "https://scikit-learn.org/stable/modules/model_persistence.html#security-maintainability-limitations\n",
      "  warnings.warn(\n"
     ]
    },
    {
     "name": "stdout",
     "output_type": "stream",
     "text": [
      "\n",
      "[2023-Nov-21 01:27:55]: Rescoring with PLECScore complete in 62.8934!\n",
      "\n",
      "[2023-Nov-21 01:27:55]: Rescoring with NNscore\n",
      "\n",
      "[2023-Nov-21 01:28:50]: Rescoring with NNscore complete in 55.3959!\n"
     ]
    },
    {
     "name": "stderr",
     "output_type": "stream",
     "text": [
      "100%|██████████| 10/10 [00:00<00:00, 15.06it/s]"
     ]
    },
    {
     "name": "stdout",
     "output_type": "stream",
     "text": [
      "\n",
      "[2023-Nov-21 01:28:52]: Split docking library into 10 files each containing 10 compounds\n"
     ]
    },
    {
     "name": "stderr",
     "output_type": "stream",
     "text": [
      "\n",
      "100%|██████████| 10/10 [00:02<00:00,  3.79it/s]\n"
     ]
    },
    {
     "name": "stdout",
     "output_type": "stream",
     "text": [
      "Combining KORPL scores\n",
      "\n",
      "[2023-Nov-21 01:28:56]: Rescoring with KORPL complete in 5.7963!\n"
     ]
    },
    {
     "name": "stderr",
     "output_type": "stream",
     "text": [
      "100%|██████████| 10/10 [00:00<00:00, 16.04it/s]"
     ]
    },
    {
     "name": "stdout",
     "output_type": "stream",
     "text": [
      "\n",
      "[2023-Nov-21 01:28:58]: Split docking library into 10 files each containing 10 compounds\n"
     ]
    },
    {
     "name": "stderr",
     "output_type": "stream",
     "text": [
      "\n",
      "100%|██████████| 10/10 [00:04<00:00,  2.03it/s]\n"
     ]
    },
    {
     "name": "stdout",
     "output_type": "stream",
     "text": [
      "\n",
      "[2023-Nov-21 01:29:04]: Rescoring with ConvexPLR complete in 8.0503!\n"
     ]
    },
    {
     "name": "stderr",
     "output_type": "stream",
     "text": [
      "100%|██████████| 10/10 [00:00<00:00, 13.55it/s]\n"
     ]
    },
    {
     "name": "stdout",
     "output_type": "stream",
     "text": [
      "\n",
      "[2023-Nov-21 01:29:06]: Split docking library into 10 files each containing 10 compounds\n"
     ]
    },
    {
     "name": "stderr",
     "output_type": "stream",
     "text": [
      "100%|██████████| 10/10 [09:01<00:00, 54.18s/it]\n"
     ]
    },
    {
     "name": "stdout",
     "output_type": "stream",
     "text": [
      "\n",
      "[2023-Nov-21 01:38:08]: Rescoring with AAScore complete in 544.4473!\n",
      "\n",
      "[2023-Nov-21 01:38:08]: Combining all scores for /home/tony/DockM8/testing_single_docking/protein_protoss/rescoring_bestpose_QVINAW_clustered\n"
     ]
    },
    {
     "name": "stderr",
     "output_type": "stream",
     "text": [
      "Combining scores: 100%|██████████| 13/13 [00:00<00:00, 136.11files/s]"
     ]
    },
    {
     "name": "stdout",
     "output_type": "stream",
     "text": [
      "\n",
      "[2023-Nov-21 01:38:09]: Rescoring complete in 825.9451!"
     ]
    },
    {
     "name": "stderr",
     "output_type": "stream",
     "text": [
      "\n"
     ]
    },
    {
     "name": "stdout",
     "output_type": "stream",
     "text": [
      "\n"
     ]
    },
    {
     "name": "stderr",
     "output_type": "stream",
     "text": [
      "100%|██████████| 10/10 [00:00<00:00, 135.44it/s]"
     ]
    },
    {
     "name": "stdout",
     "output_type": "stream",
     "text": [
      "\n",
      "[2023-Nov-21 01:38:09]: Split docking library into 10 files each containing 10 compounds\n"
     ]
    },
    {
     "name": "stderr",
     "output_type": "stream",
     "text": [
      "\n",
      "100%|██████████| 10/10 [00:25<00:00,  2.53s/it]\n"
     ]
    },
    {
     "name": "stdout",
     "output_type": "stream",
     "text": [
      "\n",
      "[2023-Nov-21 01:38:35]: Rescoring with GNINA_Affinity complete in 26.0749!\n"
     ]
    },
    {
     "name": "stderr",
     "output_type": "stream",
     "text": [
      "100%|██████████| 10/10 [00:00<00:00, 51.09it/s]"
     ]
    },
    {
     "name": "stdout",
     "output_type": "stream",
     "text": [
      "\n",
      "[2023-Nov-21 01:38:35]: Split docking library into 10 files each containing 10 compounds\n"
     ]
    },
    {
     "name": "stderr",
     "output_type": "stream",
     "text": [
      "\n",
      "100%|██████████| 10/10 [01:26<00:00,  8.64s/it]\n"
     ]
    },
    {
     "name": "stdout",
     "output_type": "stream",
     "text": [
      "\n",
      "[2023-Nov-21 01:40:03]: Rescoring with CNN-Score complete in 88.2040!\n"
     ]
    },
    {
     "name": "stderr",
     "output_type": "stream",
     "text": [
      "100%|██████████| 10/10 [00:00<00:00, 16.05it/s]"
     ]
    },
    {
     "name": "stdout",
     "output_type": "stream",
     "text": [
      "\n",
      "[2023-Nov-21 01:40:05]: Split docking library into 10 files each containing 10 compounds\n"
     ]
    },
    {
     "name": "stderr",
     "output_type": "stream",
     "text": [
      "\n",
      "100%|██████████| 10/10 [00:29<00:00,  3.00s/it]\n"
     ]
    },
    {
     "name": "stdout",
     "output_type": "stream",
     "text": [
      "\n",
      "[2023-Nov-21 01:40:35]: Rescoring with CNN-Affinity complete in 32.4557!\n",
      "\n",
      "[2023-Nov-21 01:40:35]: Rescoring with AD4\n",
      "\n",
      "[2023-Nov-21 01:40:37]: Rescoring with AD4 complete in 1.4144!\n",
      "\n",
      "[2023-Nov-21 01:40:37]: Rescoring with CHEMPLP\n",
      "\n",
      "[2023-Nov-21 01:40:41]: Rescoring with CHEMPLP complete in 3.8886!\n",
      "\n",
      "[2023-Nov-21 01:40:41]: Rescoring with RFScoreVS\n",
      "\n",
      "[2023-Nov-21 01:40:54]: Rescoring with RFScoreVS complete in 12.8291!\n"
     ]
    },
    {
     "name": "stderr",
     "output_type": "stream",
     "text": [
      "100%|██████████| 10/10 [00:00<00:00, 208.87it/s]"
     ]
    },
    {
     "name": "stdout",
     "output_type": "stream",
     "text": [
      "\n",
      "[2023-Nov-21 01:40:54]: Split docking library into 10 files each containing 10 compounds\n"
     ]
    },
    {
     "name": "stderr",
     "output_type": "stream",
     "text": [
      "\n",
      "100%|██████████| 10/10 [00:07<00:00,  1.27it/s]\n"
     ]
    },
    {
     "name": "stdout",
     "output_type": "stream",
     "text": [
      "\n",
      "[2023-Nov-21 01:41:02]: Rescoring with LinF9 complete in 8.2449!\n",
      "\n",
      "[2023-Nov-21 01:41:03]: Rescoring with SCORCH\n",
      "\n",
      "[2023-Nov-21 01:41:35]: Rescoring with SCORCH complete in 33.0985!\n",
      "\n",
      "[2023-Nov-21 01:41:35]: Rescoring with Vinardo\n",
      "\n",
      "[2023-Nov-21 01:41:37]: Rescoring with Vinardo complete in 2.2481!\n",
      "\n",
      "[2023-Nov-21 01:41:37]: Rescoring with PLECscore\n"
     ]
    },
    {
     "name": "stderr",
     "output_type": "stream",
     "text": [
      "/home/tony/.conda/envs/dockm8/lib/python3.10/site-packages/sklearn/base.py:329: UserWarning: Trying to unpickle estimator MLPRegressor from version 1.2.2 when using version 1.0.2. This might lead to breaking code or invalid results. Use at your own risk. For more info please refer to:\n",
      "https://scikit-learn.org/stable/modules/model_persistence.html#security-maintainability-limitations\n",
      "  warnings.warn(\n"
     ]
    },
    {
     "name": "stdout",
     "output_type": "stream",
     "text": [
      "\n",
      "[2023-Nov-21 01:42:08]: Rescoring with PLECScore complete in 30.8408!\n",
      "\n",
      "[2023-Nov-21 01:42:08]: Rescoring with NNscore\n",
      "\n",
      "[2023-Nov-21 01:44:00]: Rescoring with NNscore complete in 112.3013!\n"
     ]
    },
    {
     "name": "stderr",
     "output_type": "stream",
     "text": [
      "100%|██████████| 10/10 [00:00<00:00, 18.42it/s]"
     ]
    },
    {
     "name": "stdout",
     "output_type": "stream",
     "text": [
      "\n",
      "[2023-Nov-21 01:44:02]: Split docking library into 10 files each containing 10 compounds\n"
     ]
    },
    {
     "name": "stderr",
     "output_type": "stream",
     "text": [
      "\n",
      "100%|██████████| 10/10 [00:02<00:00,  4.15it/s]\n"
     ]
    },
    {
     "name": "stdout",
     "output_type": "stream",
     "text": [
      "Combining KORPL scores\n",
      "\n",
      "[2023-Nov-21 01:44:06]: Rescoring with KORPL complete in 5.4576!\n"
     ]
    },
    {
     "name": "stderr",
     "output_type": "stream",
     "text": [
      "100%|██████████| 10/10 [00:00<00:00, 14.71it/s]\n"
     ]
    },
    {
     "name": "stdout",
     "output_type": "stream",
     "text": [
      "\n",
      "[2023-Nov-21 01:44:08]: Split docking library into 10 files each containing 10 compounds\n"
     ]
    },
    {
     "name": "stderr",
     "output_type": "stream",
     "text": [
      "100%|██████████| 10/10 [00:02<00:00,  4.56it/s]\n"
     ]
    },
    {
     "name": "stdout",
     "output_type": "stream",
     "text": [
      "\n",
      "[2023-Nov-21 01:44:11]: Rescoring with ConvexPLR complete in 5.0399!\n"
     ]
    },
    {
     "name": "stderr",
     "output_type": "stream",
     "text": [
      "100%|██████████| 10/10 [00:00<00:00, 56.14it/s]"
     ]
    },
    {
     "name": "stdout",
     "output_type": "stream",
     "text": [
      "\n",
      "[2023-Nov-21 01:44:11]: Split docking library into 10 files each containing 10 compounds\n"
     ]
    },
    {
     "name": "stderr",
     "output_type": "stream",
     "text": [
      "\n",
      "100%|██████████| 10/10 [07:58<00:00, 47.85s/it]\n"
     ]
    },
    {
     "name": "stdout",
     "output_type": "stream",
     "text": [
      "\n",
      "[2023-Nov-21 01:52:10]: Rescoring with AAScore complete in 479.2884!\n",
      "\n",
      "[2023-Nov-21 01:52:10]: Combining all scores for /home/tony/DockM8/testing_single_docking/protein_protoss/rescoring_bestpose_QVINA2_clustered\n"
     ]
    },
    {
     "name": "stderr",
     "output_type": "stream",
     "text": [
      "Combining scores: 100%|██████████| 13/13 [00:00<00:00, 106.57files/s]"
     ]
    },
    {
     "name": "stdout",
     "output_type": "stream",
     "text": [
      "\n",
      "[2023-Nov-21 01:52:10]: Rescoring complete in 841.6723!\n"
     ]
    },
    {
     "name": "stderr",
     "output_type": "stream",
     "text": [
      "\n"
     ]
    }
   ],
   "source": [
    "for metric in clustering_metrics:\n",
    "        rescore_poses(w_dir, prepared_receptor, pocket_definition, software, w_dir / 'clustering' / f'{metric}_clustered.sdf', rescoring_functions , ncpus)\n"
   ]
  },
  {
   "cell_type": "code",
   "execution_count": null,
   "metadata": {},
   "outputs": [],
   "source": [
    "apply_consensus_methods(w_dir, 'bestpose', 'method6', rescoring_functions, 'min_max')"
   ]
  }
 ],
 "metadata": {
  "kernelspec": {
   "display_name": "wocondock",
   "language": "python",
   "name": "python3"
  },
  "language_info": {
   "codemirror_mode": {
    "name": "ipython",
    "version": 3
   },
   "file_extension": ".py",
   "mimetype": "text/x-python",
   "name": "python",
   "nbconvert_exporter": "python",
   "pygments_lexer": "ipython3",
   "version": "3.10.13"
  },
  "orig_nbformat": 4,
  "vscode": {
   "interpreter": {
    "hash": "10164e316682d9b4b376ca14144ea8a4ff51ebef10350aaa3c3bfce49f02faa4"
   }
  }
 },
 "nbformat": 4,
 "nbformat_minor": 2
}
