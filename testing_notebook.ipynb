{
 "cells": [
  {
   "cell_type": "markdown",
   "metadata": {},
   "source": [
    "**Import required libraries and scripts**"
   ]
  },
  {
   "cell_type": "code",
   "execution_count": null,
   "metadata": {},
   "outputs": [],
   "source": [
    "#Import required libraries and scripts\n",
    "from scripts.library_preparation import *\n",
    "from scripts.utilities import *\n",
    "from scripts.docking_functions import *\n",
    "from scripts.clustering_functions import *\n",
    "from scripts.rescoring_functions import *\n",
    "from scripts.ranking_functions import *\n",
    "from scripts.performance_calculation import *\n",
    "from scripts.get_pocket import *\n",
    "from scripts.dogsitescorer import *\n",
    "import numpy as np\n",
    "import os\n",
    "\n",
    "software = '/home/tony/CADD22/software'\n",
    "protein_file = '/home/tony/CADD22/wocondock_main/2o1x_A_apo_protoss.pdb'\n",
    "ref_file = '/home/tony/CADD22/wocondock_main/2o1x_A_lig_protoss.sdf'\n",
    "docking_library = '/home/tony/CADD22/wocondock_main/500_of_FCHGroup_LeadLike.sdf'\n",
    "docking_programs = ['SMINA','GNINA','PLANTS']\n",
    "id_column = 'ID'\n",
    "n_poses = 10\n",
    "exhaustiveness = 4\n",
    "\n",
    "#Initialise variables and create a temporary folder\n",
    "w_dir = os.path.dirname(protein_file)\n",
    "print('The working directory has been set to:', w_dir)\n",
    "create_temp_folder(w_dir+'/temp')"
   ]
  },
  {
   "cell_type": "code",
   "execution_count": null,
   "metadata": {},
   "outputs": [],
   "source": [
    "#Import required libraries and scripts\n",
    "from scripts.library_preparation import *\n",
    "from scripts.utilities import *\n",
    "from scripts.docking_functions import *\n",
    "from scripts.clustering_functions import *\n",
    "from scripts.rescoring_functions import *\n",
    "from scripts.ranking_functions import *\n",
    "from scripts.performance_calculation import *\n",
    "import numpy as np\n",
    "import os\n",
    "\n",
    "software = '/home/tony/CADD22/software'\n",
    "protein_file = '/home/tony/CADD22/wocondock_test_1k/receptor_protoss_prepared.pdb'\n",
    "ref_file = '/home/tony/CADD22/wocondock_test_1k/crystal_ligand_protoss.sdf'\n",
    "docking_library = '/home/tony/CADD22/wocondock_test_1k/merged_actives_decoys.sdf'\n",
    "docking_programs = ['SMINA','GNINA','PLANTS']\n",
    "id_column = 'ID'\n",
    "n_poses = 10\n",
    "exhaustiveness = 4\n",
    "\n",
    "#Initialise variables and create a temporary folder\n",
    "w_dir = os.path.dirname(protein_file)\n",
    "print('The working directory has been set to:', w_dir)\n",
    "create_temp_folder(w_dir+'/temp')"
   ]
  },
  {
   "cell_type": "code",
   "execution_count": null,
   "metadata": {},
   "outputs": [],
   "source": [
    "#Import required libraries and scripts\n",
    "from scripts.library_preparation import *\n",
    "from scripts.utilities import *\n",
    "from scripts.docking_functions import *\n",
    "from scripts.clustering_functions import *\n",
    "from scripts.rescoring_functions import *\n",
    "from scripts.ranking_functions import *\n",
    "from scripts.performance_calculation import *\n",
    "import numpy as np\n",
    "import os\n",
    "\n",
    "software = '/home/tony/CADD22/software'\n",
    "protein_file = '/home/tony/CADD22/wocondock_performance_cdk2/receptor_protoss_prepared.pdb'\n",
    "ref_file = '/home/tony/CADD22/wocondock_performance_cdk2/crystal_ligand_protoss.sdf'\n",
    "docking_library = '/home/tony/CADD22/wocondock_performance_cdk2/merged_actives_decoys.sdf'\n",
    "docking_programs = ['SMINA','GNINA','PLANTS']\n",
    "id_column = 'ID'\n",
    "n_poses = 10\n",
    "exhaustiveness = 4\n",
    "\n",
    "#Initialise variables and create a temporary folder\n",
    "w_dir = os.path.dirname(protein_file)\n",
    "print('The working directory has been set to:', w_dir)\n",
    "create_temp_folder(w_dir+'/temp')"
   ]
  },
  {
   "cell_type": "code",
   "execution_count": 3,
   "metadata": {},
   "outputs": [
    {
     "name": "stderr",
     "output_type": "stream",
     "text": [
      "[__init__.py:169 - retry()] retry: calling _send_request_get_results with args: ('get', ['id'], 'https://proteins.plus/api/pdb_files_rest/2o1xaapoprotosspdbdac5152a-ad65-402c-b15a-9df2c97c90d1'), kwargs: {}, attempt #2\n",
      "[__init__.py:169 - retry()] retry: calling _send_request_get_results with args: ('get', ['id'], 'https://proteins.plus/api/pdb_files_rest/2o1xaapoprotosspdbdac5152a-ad65-402c-b15a-9df2c97c90d1'), kwargs: {}, attempt #3\n"
     ]
    },
    {
     "name": "stdout",
     "output_type": "stream",
     "text": [
      "Querying for job at URL https://proteins.plus/api/dogsite_rest/E1F3nV246HhKosAFyudopxm9..........Sorting binding sites by volume\n"
     ]
    },
    {
     "ename": "IndexError",
     "evalue": "list index out of range",
     "output_type": "error",
     "traceback": [
      "\u001b[0;31m---------------------------------------------------------------------------\u001b[0m",
      "\u001b[0;31mIndexError\u001b[0m                                Traceback (most recent call last)",
      "Cell \u001b[0;32mIn[3], line 1\u001b[0m\n\u001b[0;32m----> 1\u001b[0m pocket_definition \u001b[39m=\u001b[39m binding_site_coordinates_dogsitescorer(protein_file, w_dir, method\u001b[39m=\u001b[39;49m\u001b[39m'\u001b[39;49m\u001b[39mvolume\u001b[39;49m\u001b[39m'\u001b[39;49m)\n",
      "File \u001b[0;32m~/CADD22/scripts/dogsitescorer.py:377\u001b[0m, in \u001b[0;36mbinding_site_coordinates_dogsitescorer\u001b[0;34m(pdbpath, w_dir, method)\u001b[0m\n\u001b[1;32m    375\u001b[0m pocket \u001b[39m=\u001b[39m get_selected_pocket_location(job_location, best_binding_site)\n\u001b[1;32m    376\u001b[0m save_binding_site_to_file(pdbpath, pocket, w_dir)\n\u001b[0;32m--> 377\u001b[0m pocket_coordinates\u001b[39m=\u001b[39mcalculate_pocket_coordinates_from_pocket_pdb_file(os\u001b[39m.\u001b[39;49mpath\u001b[39m.\u001b[39;49mbasename(pdbpath)\u001b[39m.\u001b[39;49msplit(\u001b[39m\"\u001b[39;49m\u001b[39m.\u001b[39;49m\u001b[39m\"\u001b[39;49m)[\u001b[39m0\u001b[39;49m] \u001b[39m+\u001b[39;49m \u001b[39m\"\u001b[39;49m\u001b[39m_pocket.pdb\u001b[39;49m\u001b[39m\"\u001b[39;49m)\n\u001b[1;32m    378\u001b[0m \u001b[39mreturn\u001b[39;00m pocket_coordinates\n",
      "File \u001b[0;32m~/CADD22/scripts/dogsitescorer.py:366\u001b[0m, in \u001b[0;36mcalculate_pocket_coordinates_from_pocket_pdb_file\u001b[0;34m(filepath)\u001b[0m\n\u001b[1;32m    362\u001b[0m \u001b[39m# select strings representing floats from a list of strings\u001b[39;00m\n\u001b[1;32m    363\u001b[0m coordinates \u001b[39m=\u001b[39m [\u001b[39mfloat\u001b[39m(element) \u001b[39mfor\u001b[39;00m element \u001b[39min\u001b[39;00m coordinates_data_as_list \u001b[39mif\u001b[39;00m re\u001b[39m.\u001b[39mcompile(\u001b[39mr\u001b[39m\u001b[39m'\u001b[39m\u001b[39m\\\u001b[39m\u001b[39md+(?:\u001b[39m\u001b[39m\\\u001b[39m\u001b[39m.\u001b[39m\u001b[39m\\\u001b[39m\u001b[39md*)\u001b[39m\u001b[39m'\u001b[39m)\u001b[39m.\u001b[39mmatch(element)]\n\u001b[1;32m    364\u001b[0m pocket_coordinates \u001b[39m=\u001b[39m {\n\u001b[1;32m    365\u001b[0m     \u001b[39m\"\u001b[39m\u001b[39mcenter\u001b[39m\u001b[39m\"\u001b[39m: coordinates[:\u001b[39m3\u001b[39m],\n\u001b[0;32m--> 366\u001b[0m     \u001b[39m\"\u001b[39m\u001b[39msize\u001b[39m\u001b[39m\"\u001b[39m: [coordinates[\u001b[39m-\u001b[39m\u001b[39m1\u001b[39m] \u001b[39m*\u001b[39m \u001b[39m2\u001b[39m \u001b[39mfor\u001b[39;00m dim \u001b[39min\u001b[39;00m \u001b[39mrange\u001b[39m(\u001b[39m3\u001b[39m)],\n\u001b[1;32m    367\u001b[0m }\n\u001b[1;32m    368\u001b[0m \u001b[39mreturn\u001b[39;00m pocket_coordinates\n",
      "File \u001b[0;32m~/CADD22/scripts/dogsitescorer.py:366\u001b[0m, in \u001b[0;36m<listcomp>\u001b[0;34m(.0)\u001b[0m\n\u001b[1;32m    362\u001b[0m \u001b[39m# select strings representing floats from a list of strings\u001b[39;00m\n\u001b[1;32m    363\u001b[0m coordinates \u001b[39m=\u001b[39m [\u001b[39mfloat\u001b[39m(element) \u001b[39mfor\u001b[39;00m element \u001b[39min\u001b[39;00m coordinates_data_as_list \u001b[39mif\u001b[39;00m re\u001b[39m.\u001b[39mcompile(\u001b[39mr\u001b[39m\u001b[39m'\u001b[39m\u001b[39m\\\u001b[39m\u001b[39md+(?:\u001b[39m\u001b[39m\\\u001b[39m\u001b[39m.\u001b[39m\u001b[39m\\\u001b[39m\u001b[39md*)\u001b[39m\u001b[39m'\u001b[39m)\u001b[39m.\u001b[39mmatch(element)]\n\u001b[1;32m    364\u001b[0m pocket_coordinates \u001b[39m=\u001b[39m {\n\u001b[1;32m    365\u001b[0m     \u001b[39m\"\u001b[39m\u001b[39mcenter\u001b[39m\u001b[39m\"\u001b[39m: coordinates[:\u001b[39m3\u001b[39m],\n\u001b[0;32m--> 366\u001b[0m     \u001b[39m\"\u001b[39m\u001b[39msize\u001b[39m\u001b[39m\"\u001b[39m: [coordinates[\u001b[39m-\u001b[39;49m\u001b[39m1\u001b[39;49m] \u001b[39m*\u001b[39m \u001b[39m2\u001b[39m \u001b[39mfor\u001b[39;00m dim \u001b[39min\u001b[39;00m \u001b[39mrange\u001b[39m(\u001b[39m3\u001b[39m)],\n\u001b[1;32m    367\u001b[0m }\n\u001b[1;32m    368\u001b[0m \u001b[39mreturn\u001b[39;00m pocket_coordinates\n",
      "\u001b[0;31mIndexError\u001b[0m: list index out of range"
     ]
    }
   ],
   "source": [
    "pocket_definition = binding_site_coordinates_dogsitescorer(protein_file, w_dir, method='volume')"
   ]
  },
  {
   "cell_type": "code",
   "execution_count": null,
   "metadata": {},
   "outputs": [],
   "source": [
    "cleaned_pkasolver_df = prepare_library(docking_library, id_column, software, 'pkasolver')"
   ]
  },
  {
   "cell_type": "code",
   "execution_count": null,
   "metadata": {},
   "outputs": [],
   "source": [
    "all_poses = docking(protein_file, ref_file, software, docking_programs, exhaustiveness, n_poses)"
   ]
  },
  {
   "cell_type": "code",
   "execution_count": null,
   "metadata": {},
   "outputs": [],
   "source": [
    "docking_splitted(w_dir, protein_file, ref_file, software, docking_programs, exhaustiveness, n_poses)"
   ]
  },
  {
   "cell_type": "code",
   "execution_count": null,
   "metadata": {},
   "outputs": [],
   "source": [
    "split_sdf(w_dir, '/home/tony/CADD22/wocondock_performance_cdk2/temp/allposes.sdf')"
   ]
  },
  {
   "cell_type": "code",
   "execution_count": null,
   "metadata": {},
   "outputs": [],
   "source": [
    "read_sdf_nomols = PandasTools.LoadSDF('/home/tony/CADD22/wocondock_performance_cdk2/temp/allposes.sdf', idName='Pose ID', molColName=None)"
   ]
  },
  {
   "cell_type": "code",
   "execution_count": null,
   "metadata": {},
   "outputs": [],
   "source": [
    "read_sdf_mols = PandasTools.LoadSDF('/home/tony/CADD22/wocondock_performance_cdk2/temp/allposes.sdf', idName='Pose ID', molColName='Molecule')"
   ]
  },
  {
   "cell_type": "code",
   "execution_count": null,
   "metadata": {},
   "outputs": [],
   "source": [
    "all_poses = fetch_poses(protein_file, n_poses)"
   ]
  },
  {
   "cell_type": "code",
   "execution_count": null,
   "metadata": {},
   "outputs": [],
   "source": [
    "cluster('espsim', w_dir, protein_file)\n",
    "cluster('spyRMSD', w_dir, protein_file)\n",
    "cluster('USRCAT', w_dir, protein_file)\n",
    "cluster('RMSD', w_dir, protein_file)\n",
    "cluster('3DScore', w_dir, protein_file)"
   ]
  },
  {
   "cell_type": "code",
   "execution_count": null,
   "metadata": {},
   "outputs": [],
   "source": [
    "cluster_numpy('espsim', w_dir, protein_file)\n",
    "cluster_numpy('spyRMSD', w_dir, protein_file)\n",
    "cluster_numpy('USRCAT', w_dir, protein_file)\n",
    "cluster_numpy('RMSD', w_dir, protein_file)\n",
    "cluster_numpy('3DScore', w_dir, protein_file)"
   ]
  },
  {
   "cell_type": "code",
   "execution_count": null,
   "metadata": {},
   "outputs": [],
   "source": [
    "cluster_numpy_futures('espsim', w_dir, protein_file)\n",
    "cluster_numpy_futures('spyRMSD', w_dir, protein_file)\n",
    "cluster_numpy_futures('USRCAT', w_dir, protein_file)\n",
    "cluster_numpy_futures('RMSD', w_dir, protein_file)\n",
    "cluster_numpy_futures('3DScore', w_dir, protein_file)\n",
    "cluster_numpy_futures('bestpose', w_dir, protein_file)"
   ]
  },
  {
   "cell_type": "markdown",
   "metadata": {},
   "source": [
    "**Rescoring**\n",
    "\n",
    "The file containing all the cluster centers is then rescored using all scoring functions available (GNINA, Vina, AutoDock4, PLP, CHEMPLP, RF-Score-VS). The rescored output is return as a dataframe."
   ]
  },
  {
   "cell_type": "code",
   "execution_count": null,
   "metadata": {},
   "outputs": [],
   "source": [
    "RMSD_rescored = rescore_all(w_dir, protein_file, ref_file, software, w_dir+'/temp/clustering/RMSD_clustered.sdf')\n",
    "espsim_rescored = rescore_all(w_dir, protein_file, ref_file, software, w_dir+'/temp/clustering/espsim_clustered.sdf')\n",
    "spyRMSD_rescored = rescore_all(w_dir, protein_file, ref_file, software, w_dir+'/temp/clustering/spyRMSD_clustered.sdf')\n",
    "USRCAT_rescored = rescore_all(w_dir, protein_file, ref_file, software, w_dir+'/temp/clustering/USRCAT_clustered.sdf')\n",
    "DScore_rescored = rescore_all(w_dir, protein_file, ref_file, software, w_dir+'/temp/clustering/3DScore_clustered.sdf')\n",
    "bestpose_rescored = rescore_all(w_dir, protein_file, ref_file, software, w_dir+'/temp/clustering/bestpose_clustered.sdf')"
   ]
  },
  {
   "cell_type": "markdown",
   "metadata": {},
   "source": [
    "**Final ranking methods**\n",
    "\n",
    "This code calculates the final ranking of compounds using various methods.\n",
    "*Method 1* : Calculates ECR value for each cluster center, then outputs the top ranked center.\n",
    "*Method 2* : Calculates ECR value for each cluster center, then outputs the average ECR value for each compound.\n",
    "*Method 3* : Calculates the average rank of each compound, then ouputs the corresponding ECR value for each compound.\n",
    "*Method 6* : Calculates Z-score for each cluster center, then ouputs the top ranked center.\n",
    "*Method 7* : Calculates Z-score for each cluster center, then ouputs the average Z-score for each compound.\n",
    "\n",
    "All methods are then combined into a single dataframe for comparison purposes."
   ]
  },
  {
   "cell_type": "code",
   "execution_count": null,
   "metadata": {},
   "outputs": [],
   "source": [
    "apply_ranking_methods_simplified(w_dir)"
   ]
  },
  {
   "cell_type": "code",
   "execution_count": null,
   "metadata": {},
   "outputs": [],
   "source": [
    "test_df = pd.read_csv('/home/tony/CADD22/wocondock_refactored_chatgpt/temp/ranking/ranking_results.csv')\n",
    "def show_correlation(dataframe):\n",
    "    matrix = dataframe.corr().round(2)\n",
    "    mask = np.triu(np.ones_like(matrix, dtype=bool))\n",
    "    sns.heatmap(matrix, mask = mask, annot=False, vmax=1, vmin=-1, center=0, linewidths=.5, cmap='coolwarm')\n",
    "    plt.show()\n",
    "\n",
    "show_correlation(test_df)"
   ]
  },
  {
   "cell_type": "code",
   "execution_count": null,
   "metadata": {},
   "outputs": [],
   "source": [
    "calculate_EFs(w_dir, docking_library)"
   ]
  }
 ],
 "metadata": {
  "kernelspec": {
   "display_name": "Python 3.8.13 ('wocondock')",
   "language": "python",
   "name": "python3"
  },
  "language_info": {
   "codemirror_mode": {
    "name": "ipython",
    "version": 3
   },
   "file_extension": ".py",
   "mimetype": "text/x-python",
   "name": "python",
   "nbconvert_exporter": "python",
   "pygments_lexer": "ipython3",
   "version": "3.8.13"
  },
  "orig_nbformat": 4,
  "vscode": {
   "interpreter": {
    "hash": "ac9acbc93af693fb4e01b586b9d883cf48eab2850c268069ebbf85c5f9fbe2b9"
   }
  }
 },
 "nbformat": 4,
 "nbformat_minor": 2
}
