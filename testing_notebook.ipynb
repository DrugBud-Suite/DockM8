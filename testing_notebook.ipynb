{
 "cells": [
  {
   "cell_type": "markdown",
   "metadata": {},
   "source": [
    "**Import required libraries and scripts**"
   ]
  },
  {
   "cell_type": "code",
   "execution_count": 1,
   "metadata": {},
   "outputs": [
    {
     "name": "stderr",
     "output_type": "stream",
     "text": [
      "[14:58:20] Initializing Normalizer\n"
     ]
    },
    {
     "name": "stdout",
     "output_type": "stream",
     "text": [
      "The working directory has been set to: /home/tony/CADD22/wocondock_main\n",
      "The folder: /home/tony/CADD22/wocondock_main/temp already exists\n"
     ]
    }
   ],
   "source": [
    "#Import required libraries and scripts\n",
    "from scripts.library_preparation import *\n",
    "from scripts.utilities import *\n",
    "from scripts.docking_functions import *\n",
    "from scripts.clustering_functions import *\n",
    "from scripts.rescoring_functions import *\n",
    "from scripts.ranking_functions import *\n",
    "from scripts.performance_calculation import *\n",
    "import numpy as np\n",
    "import os\n",
    "\n",
    "software = '/home/tony/CADD22/software'\n",
    "protein_file = '/home/tony/CADD22/wocondock_main/2o1x_A_apo_protoss.pdb'\n",
    "ref_file = '/home/tony/CADD22/wocondock_main/2o1x_A_lig_protoss.sdf'\n",
    "docking_library = '/home/tony/CADD22/wocondock_main/Selection_of_FCHGroup_LeadLike.sdf'\n",
    "docking_programs = ['GNINA', 'SMINA', 'PLANTS']\n",
    "clustering_metrics = ['RMSD', 'spyRMSD', 'espsim', '3DScore', 'bestpose', 'bestpose_GNINA', 'bestpose_SMINA', 'bestpose_PLANTS']\n",
    "rescoring_functions = ['gnina', 'AD4', 'chemplp', 'rfscorevs']\n",
    "id_column = 'ID'\n",
    "n_poses = 10\n",
    "exhaustiveness = 4\n",
    "\n",
    "#Initialise variables and create a temporary folder\n",
    "w_dir = os.path.dirname(protein_file)\n",
    "print('The working directory has been set to:', w_dir)\n",
    "create_temp_folder(w_dir+'/temp')"
   ]
  },
  {
   "cell_type": "code",
   "execution_count": null,
   "metadata": {},
   "outputs": [],
   "source": [
    "pocket_definition = binding_site_coordinates_dogsitescorer(protein_file, w_dir, method='volume')"
   ]
  },
  {
   "cell_type": "code",
   "execution_count": 2,
   "metadata": {},
   "outputs": [
    {
     "name": "stdout",
     "output_type": "stream",
     "text": [
      "Standardizing docking library using ChemBL Structure Pipeline...\n"
     ]
    },
    {
     "name": "stderr",
     "output_type": "stream",
     "text": [
      "100%|██████████| 10/10 [00:00<00:00, 380.99it/s]"
     ]
    },
    {
     "name": "stdout",
     "output_type": "stream",
     "text": [
      "Standardization of compound library finished: Started with 10, ended with 10 : 0 compounds lost\n"
     ]
    },
    {
     "name": "stderr",
     "output_type": "stream",
     "text": [
      "\n"
     ]
    },
    {
     "name": "stdout",
     "output_type": "stream",
     "text": [
      "Calculating protonation states using pkaSolver...\n"
     ]
    },
    {
     "name": "stderr",
     "output_type": "stream",
     "text": [
      "[query.py:297 - calculate_microstate_pka_values()] Using dimorphite-dl to identify protonation sites.\n"
     ]
    },
    {
     "name": "stdout",
     "output_type": "stream",
     "text": [
      "CN(C)c1nc(Cc2nnn[nH]2)cs1\n",
      "<rdkit.Chem.rdchem.Mol object at 0x7fc6a7445b20>\n",
      "\n",
      "For help, use: python dimorphite_dl.py --help\n",
      "\n",
      "If you use Dimorphite-DL in your research, please cite:\n",
      "Ropp PJ, Kaminsky JC, Yablonski S, Durrant JD (2019) Dimorphite-DL: An\n",
      "open-source program for enumerating the ionization states of drug-like small\n",
      "molecules. J Cheminform 11:14. doi:10.1186/s13321-019-0336-9.\n",
      "\n",
      "CN(C)c1nc(Cc2nnn[nH]2)cs1\n",
      "<rdkit.Chem.rdchem.Mol object at 0x7fc87515ab20>\n",
      "\n",
      "For help, use: python dimorphite_dl.py --help\n",
      "\n",
      "If you use Dimorphite-DL in your research, please cite:\n",
      "Ropp PJ, Kaminsky JC, Yablonski S, Durrant JD (2019) Dimorphite-DL: An\n",
      "open-source program for enumerating the ionization states of drug-like small\n",
      "molecules. J Cheminform 11:14. doi:10.1186/s13321-019-0336-9.\n",
      "\n",
      "Proposed mol at pH 7.4: CN(C)c1nc(Cc2nnn[nH]2)cs1\n"
     ]
    },
    {
     "name": "stderr",
     "output_type": "stream",
     "text": [
      "[query.py:297 - calculate_microstate_pka_values()] Using dimorphite-dl to identify protonation sites.\n"
     ]
    },
    {
     "name": "stdout",
     "output_type": "stream",
     "text": [
      "Cc1nc(SCc2cc(=O)n3ccsc3n2)c2ccccc2n1\n",
      "<rdkit.Chem.rdchem.Mol object at 0x7f416b239b80>\n",
      "\n",
      "For help, use: python dimorphite_dl.py --help\n",
      "\n",
      "If you use Dimorphite-DL in your research, please cite:\n",
      "Ropp PJ, Kaminsky JC, Yablonski S, Durrant JD (2019) Dimorphite-DL: An\n",
      "open-source program for enumerating the ionization states of drug-like small\n",
      "molecules. J Cheminform 11:14. doi:10.1186/s13321-019-0336-9.\n",
      "\n",
      "Cc1nc(SCc2cc(=O)n3ccsc3n2)c2ccccc2n1\n",
      "<rdkit.Chem.rdchem.Mol object at 0x7fa7b860bb80>\n",
      "\n",
      "For help, use: python dimorphite_dl.py --help\n",
      "\n",
      "If you use Dimorphite-DL in your research, please cite:\n",
      "Ropp PJ, Kaminsky JC, Yablonski S, Durrant JD (2019) Dimorphite-DL: An\n",
      "open-source program for enumerating the ionization states of drug-like small\n",
      "molecules. J Cheminform 11:14. doi:10.1186/s13321-019-0336-9.\n",
      "\n",
      "WARNING: Skipping poorly formed SMILES string: Cc1nc(SCc2cc(=O)[n+]3ccsc3n2)c2ccccc2n1\n",
      "WARNING: Skipping poorly formed SMILES string: Cc1nc2ccccc2c(SCc2cc(=O)[n+]3ccsc3n2)[nH+]1\n",
      "WARNING: Skipping poorly formed SMILES string: Cc1nc(SCc2cc(=O)[n+]3ccsc3n2)c2ccccc2n1\n",
      "WARNING: Skipping poorly formed SMILES string: Cc1nc2ccccc2c(SCc2cc(=O)[n+]3ccsc3n2)[nH+]1\n",
      "Proposed mol at pH 7.4: Cc1nc(SCc2cc(=O)n3ccsc3n2)c2ccccc2n1\n"
     ]
    },
    {
     "name": "stderr",
     "output_type": "stream",
     "text": [
      "[query.py:297 - calculate_microstate_pka_values()] Using dimorphite-dl to identify protonation sites.\n"
     ]
    },
    {
     "name": "stdout",
     "output_type": "stream",
     "text": [
      "Cn1cccc1C(=O)OCc1ccccc1C#N\n",
      "<rdkit.Chem.rdchem.Mol object at 0x7f233cbb1b20>\n",
      "\n",
      "For help, use: python dimorphite_dl.py --help\n",
      "\n",
      "If you use Dimorphite-DL in your research, please cite:\n",
      "Ropp PJ, Kaminsky JC, Yablonski S, Durrant JD (2019) Dimorphite-DL: An\n",
      "open-source program for enumerating the ionization states of drug-like small\n",
      "molecules. J Cheminform 11:14. doi:10.1186/s13321-019-0336-9.\n",
      "\n",
      "Cn1cccc1C(=O)OCc1ccccc1C#N\n",
      "<rdkit.Chem.rdchem.Mol object at 0x7faa24b2eb20>\n",
      "\n",
      "For help, use: python dimorphite_dl.py --help\n",
      "\n",
      "If you use Dimorphite-DL in your research, please cite:\n",
      "Ropp PJ, Kaminsky JC, Yablonski S, Durrant JD (2019) Dimorphite-DL: An\n",
      "open-source program for enumerating the ionization states of drug-like small\n",
      "molecules. J Cheminform 11:14. doi:10.1186/s13321-019-0336-9.\n",
      "\n",
      "Proposed mol at pH 7.4: Cn1cccc1C(=O)OCc1ccccc1C#N\n",
      "#########################\n",
      "Could not identify any ionizable group. Aborting.\n",
      "#########################\n"
     ]
    },
    {
     "name": "stderr",
     "output_type": "stream",
     "text": [
      "[query.py:297 - calculate_microstate_pka_values()] Using dimorphite-dl to identify protonation sites.\n"
     ]
    },
    {
     "name": "stdout",
     "output_type": "stream",
     "text": [
      "C[C@H](OC(=O)c1cc2c(s1)CCC2)c1nc2ccccc2c(=O)[nH]1\n",
      "<rdkit.Chem.rdchem.Mol object at 0x7f082d1bab20>\n",
      "\n",
      "For help, use: python dimorphite_dl.py --help\n",
      "\n",
      "If you use Dimorphite-DL in your research, please cite:\n",
      "Ropp PJ, Kaminsky JC, Yablonski S, Durrant JD (2019) Dimorphite-DL: An\n",
      "open-source program for enumerating the ionization states of drug-like small\n",
      "molecules. J Cheminform 11:14. doi:10.1186/s13321-019-0336-9.\n",
      "\n",
      "C[C@H](OC(=O)c1cc2c(s1)CCC2)c1nc2ccccc2c(=O)[nH]1\n",
      "<rdkit.Chem.rdchem.Mol object at 0x7f438f5e6b20>\n",
      "\n",
      "For help, use: python dimorphite_dl.py --help\n",
      "\n",
      "If you use Dimorphite-DL in your research, please cite:\n",
      "Ropp PJ, Kaminsky JC, Yablonski S, Durrant JD (2019) Dimorphite-DL: An\n",
      "open-source program for enumerating the ionization states of drug-like small\n",
      "molecules. J Cheminform 11:14. doi:10.1186/s13321-019-0336-9.\n",
      "\n",
      "Proposed mol at pH 7.4: C[C@H](OC(=O)c1cc2c(s1)CCC2)c1nc2ccccc2c(=O)[nH]1\n"
     ]
    },
    {
     "name": "stderr",
     "output_type": "stream",
     "text": [
      "[query.py:297 - calculate_microstate_pka_values()] Using dimorphite-dl to identify protonation sites.\n"
     ]
    },
    {
     "name": "stdout",
     "output_type": "stream",
     "text": [
      "CC(=O)NCc1ccc(C(=O)COC(=O)c2cc3c(s2)CCCCC3)o1\n",
      "<rdkit.Chem.rdchem.Mol object at 0x7fa57afdfb80>\n",
      "\n",
      "For help, use: python dimorphite_dl.py --help\n",
      "\n",
      "If you use Dimorphite-DL in your research, please cite:\n",
      "Ropp PJ, Kaminsky JC, Yablonski S, Durrant JD (2019) Dimorphite-DL: An\n",
      "open-source program for enumerating the ionization states of drug-like small\n",
      "molecules. J Cheminform 11:14. doi:10.1186/s13321-019-0336-9.\n",
      "\n",
      "CC(=O)NCc1ccc(C(=O)COC(=O)c2cc3c(s2)CCCCC3)o1\n",
      "<rdkit.Chem.rdchem.Mol object at 0x7fd133639b80>\n",
      "\n",
      "For help, use: python dimorphite_dl.py --help\n",
      "\n",
      "If you use Dimorphite-DL in your research, please cite:\n",
      "Ropp PJ, Kaminsky JC, Yablonski S, Durrant JD (2019) Dimorphite-DL: An\n",
      "open-source program for enumerating the ionization states of drug-like small\n",
      "molecules. J Cheminform 11:14. doi:10.1186/s13321-019-0336-9.\n",
      "\n",
      "Proposed mol at pH 7.4: CC(=O)NCc1ccc(C(=O)COC(=O)c2cc3c(s2)CCCCC3)o1\n"
     ]
    },
    {
     "name": "stderr",
     "output_type": "stream",
     "text": [
      "[query.py:297 - calculate_microstate_pka_values()] Using dimorphite-dl to identify protonation sites.\n"
     ]
    },
    {
     "name": "stdout",
     "output_type": "stream",
     "text": [
      "CCN(C(=O)COc1cccc(-n2cnnn2)c1)c1cccc2ccccc12\n",
      "<rdkit.Chem.rdchem.Mol object at 0x7f0f41e13b80>\n",
      "\n",
      "For help, use: python dimorphite_dl.py --help\n",
      "\n",
      "If you use Dimorphite-DL in your research, please cite:\n",
      "Ropp PJ, Kaminsky JC, Yablonski S, Durrant JD (2019) Dimorphite-DL: An\n",
      "open-source program for enumerating the ionization states of drug-like small\n",
      "molecules. J Cheminform 11:14. doi:10.1186/s13321-019-0336-9.\n",
      "\n",
      "CCN(C(=O)COc1cccc(-n2cnnn2)c1)c1cccc2ccccc12\n",
      "<rdkit.Chem.rdchem.Mol object at 0x7fc5b524bb80>\n",
      "\n",
      "For help, use: python dimorphite_dl.py --help\n",
      "\n",
      "If you use Dimorphite-DL in your research, please cite:\n",
      "Ropp PJ, Kaminsky JC, Yablonski S, Durrant JD (2019) Dimorphite-DL: An\n",
      "open-source program for enumerating the ionization states of drug-like small\n",
      "molecules. J Cheminform 11:14. doi:10.1186/s13321-019-0336-9.\n",
      "\n",
      "WARNING: Skipping poorly formed SMILES string: CCN(C(=O)COc1cccc(-[n+]2cnnn2)c1)c1cccc2ccccc12\n",
      "WARNING: Skipping poorly formed SMILES string: CC[NH+](C(=O)COc1cccc(-[n+]2cnnn2)c1)c1cccc2ccccc12\n",
      "WARNING: Skipping poorly formed SMILES string: CCN(C(=O)COc1cccc(-[n+]2cnnn2)c1)c1cccc2ccccc12\n",
      "WARNING: Skipping poorly formed SMILES string: CC[NH+](C(=O)COc1cccc(-[n+]2cnnn2)c1)c1cccc2ccccc12\n",
      "Proposed mol at pH 7.4: CCN(C(=O)COc1cccc(-n2cnnn2)c1)c1cccc2ccccc12\n"
     ]
    },
    {
     "name": "stderr",
     "output_type": "stream",
     "text": [
      "[query.py:297 - calculate_microstate_pka_values()] Using dimorphite-dl to identify protonation sites.\n"
     ]
    },
    {
     "name": "stdout",
     "output_type": "stream",
     "text": [
      "Cn1c(Cc2ccccc2)nnc1SCc1nc2ccsc2c(=O)[nH]1\n",
      "<rdkit.Chem.rdchem.Mol object at 0x7f1ee14e6b80>\n",
      "\n",
      "For help, use: python dimorphite_dl.py --help\n",
      "\n",
      "If you use Dimorphite-DL in your research, please cite:\n",
      "Ropp PJ, Kaminsky JC, Yablonski S, Durrant JD (2019) Dimorphite-DL: An\n",
      "open-source program for enumerating the ionization states of drug-like small\n",
      "molecules. J Cheminform 11:14. doi:10.1186/s13321-019-0336-9.\n",
      "\n",
      "Cn1c(Cc2ccccc2)nnc1SCc1nc2ccsc2c(=O)[nH]1\n",
      "<rdkit.Chem.rdchem.Mol object at 0x7fe2499cbb80>\n",
      "\n",
      "For help, use: python dimorphite_dl.py --help\n",
      "\n",
      "If you use Dimorphite-DL in your research, please cite:\n",
      "Ropp PJ, Kaminsky JC, Yablonski S, Durrant JD (2019) Dimorphite-DL: An\n",
      "open-source program for enumerating the ionization states of drug-like small\n",
      "molecules. J Cheminform 11:14. doi:10.1186/s13321-019-0336-9.\n",
      "\n",
      "WARNING: Skipping poorly formed SMILES string: C[n+]1c(Cc2ccccc2)nnc1SCc1nc2ccsc2c(=O)[nH]1\n",
      "WARNING: Skipping poorly formed SMILES string: C[n+]1c(Cc2ccccc2)nnc1SCc1nc2ccsc2c(=O)[nH]1\n",
      "Proposed mol at pH 7.4: Cn1c(Cc2ccccc2)nnc1SCc1nc2ccsc2c(=O)[nH]1\n"
     ]
    },
    {
     "name": "stderr",
     "output_type": "stream",
     "text": [
      "[query.py:297 - calculate_microstate_pka_values()] Using dimorphite-dl to identify protonation sites.\n"
     ]
    },
    {
     "name": "stdout",
     "output_type": "stream",
     "text": [
      "N#Cc1ccc(CSc2nnc(CN3CCCC3)o2)cc1\n",
      "<rdkit.Chem.rdchem.Mol object at 0x7f31dc16eb80>\n",
      "\n",
      "For help, use: python dimorphite_dl.py --help\n",
      "\n",
      "If you use Dimorphite-DL in your research, please cite:\n",
      "Ropp PJ, Kaminsky JC, Yablonski S, Durrant JD (2019) Dimorphite-DL: An\n",
      "open-source program for enumerating the ionization states of drug-like small\n",
      "molecules. J Cheminform 11:14. doi:10.1186/s13321-019-0336-9.\n",
      "\n",
      "N#Cc1ccc(CSc2nnc(CN3CCCC3)o2)cc1\n",
      "<rdkit.Chem.rdchem.Mol object at 0x7f5e6791ab80>\n",
      "\n",
      "For help, use: python dimorphite_dl.py --help\n",
      "\n",
      "If you use Dimorphite-DL in your research, please cite:\n",
      "Ropp PJ, Kaminsky JC, Yablonski S, Durrant JD (2019) Dimorphite-DL: An\n",
      "open-source program for enumerating the ionization states of drug-like small\n",
      "molecules. J Cheminform 11:14. doi:10.1186/s13321-019-0336-9.\n",
      "\n",
      "Proposed mol at pH 7.4: N#Cc1ccc(CSc2nnc(C[NH+]3CCCC3)o2)cc1\n"
     ]
    },
    {
     "name": "stderr",
     "output_type": "stream",
     "text": [
      "[query.py:297 - calculate_microstate_pka_values()] Using dimorphite-dl to identify protonation sites.\n"
     ]
    },
    {
     "name": "stdout",
     "output_type": "stream",
     "text": [
      "Cc1noc(C)c1CSCC(=O)Nc1ccccc1\n",
      "<rdkit.Chem.rdchem.Mol object at 0x7fd97560bb20>\n",
      "\n",
      "For help, use: python dimorphite_dl.py --help\n",
      "\n",
      "If you use Dimorphite-DL in your research, please cite:\n",
      "Ropp PJ, Kaminsky JC, Yablonski S, Durrant JD (2019) Dimorphite-DL: An\n",
      "open-source program for enumerating the ionization states of drug-like small\n",
      "molecules. J Cheminform 11:14. doi:10.1186/s13321-019-0336-9.\n",
      "\n",
      "Cc1noc(C)c1CSCC(=O)Nc1ccccc1\n",
      "<rdkit.Chem.rdchem.Mol object at 0x7f69641b1b20>\n",
      "\n",
      "For help, use: python dimorphite_dl.py --help\n",
      "\n",
      "If you use Dimorphite-DL in your research, please cite:\n",
      "Ropp PJ, Kaminsky JC, Yablonski S, Durrant JD (2019) Dimorphite-DL: An\n",
      "open-source program for enumerating the ionization states of drug-like small\n",
      "molecules. J Cheminform 11:14. doi:10.1186/s13321-019-0336-9.\n",
      "\n",
      "Proposed mol at pH 7.4: Cc1noc(C)c1CSCC(=O)Nc1ccccc1\n"
     ]
    },
    {
     "name": "stderr",
     "output_type": "stream",
     "text": [
      "[query.py:297 - calculate_microstate_pka_values()] Using dimorphite-dl to identify protonation sites.\n"
     ]
    },
    {
     "name": "stdout",
     "output_type": "stream",
     "text": [
      "CC1CCCC(NC(=O)Cn2nnc(-c3ccccc3Br)n2)C1C\n",
      "<rdkit.Chem.rdchem.Mol object at 0x7f71e5b26b80>\n",
      "\n",
      "For help, use: python dimorphite_dl.py --help\n",
      "\n",
      "If you use Dimorphite-DL in your research, please cite:\n",
      "Ropp PJ, Kaminsky JC, Yablonski S, Durrant JD (2019) Dimorphite-DL: An\n",
      "open-source program for enumerating the ionization states of drug-like small\n",
      "molecules. J Cheminform 11:14. doi:10.1186/s13321-019-0336-9.\n",
      "\n",
      "CC1CCCC(NC(=O)Cn2nnc(-c3ccccc3Br)n2)C1C\n",
      "<rdkit.Chem.rdchem.Mol object at 0x7f694e431b80>\n",
      "\n",
      "For help, use: python dimorphite_dl.py --help\n",
      "\n",
      "If you use Dimorphite-DL in your research, please cite:\n",
      "Ropp PJ, Kaminsky JC, Yablonski S, Durrant JD (2019) Dimorphite-DL: An\n",
      "open-source program for enumerating the ionization states of drug-like small\n",
      "molecules. J Cheminform 11:14. doi:10.1186/s13321-019-0336-9.\n",
      "\n",
      "WARNING: Skipping poorly formed SMILES string: CC1CCCC([N-]C(=O)C[n+]2nnc(-c3ccccc3Br)n2)C1C\n",
      "WARNING: Skipping poorly formed SMILES string: CC1CCCC(NC(=O)C[n+]2nnc(-c3ccccc3Br)n2)C1C\n",
      "WARNING: Skipping poorly formed SMILES string: CC1CCCC([N-]C(=O)C[n+]2nnc(-c3ccccc3Br)n2)C1C\n",
      "WARNING: Skipping poorly formed SMILES string: CC1CCCC(NC(=O)C[n+]2nnc(-c3ccccc3Br)n2)C1C\n",
      "Proposed mol at pH 7.4: CC1CCCC(NC(=O)Cn2nnc(-c3ccccc3Br)n2)C1C\n",
      "0    States(pka=3.22906533241272, pka_stddev=0.8296...\n",
      "1    States(pka=2.921631546020508, pka_stddev=0.480...\n",
      "3    States(pka=4.610538291931152, pka_stddev=1.070...\n",
      "4    States(pka=5.085016546249389, pka_stddev=0.934...\n",
      "5    States(pka=3.5947318744659422, pka_stddev=0.70...\n",
      "6    States(pka=4.499057302474975, pka_stddev=0.888...\n",
      "7    States(pka=3.5758163738250732, pka_stddev=0.30...\n",
      "8    States(pka=3.947193155288696, pka_stddev=0.626...\n",
      "9    States(pka=3.529412517547607, pka_stddev=0.661...\n",
      "Name: 0, dtype: object\n",
      "ERROR in adding missing protonating state\n",
      "'Rdkit_mol'\n",
      "Standardization of compound library finished: Started with 10, ended with 10 : 0 compounds lost\n",
      "Generating 3D conformers using GypsumDL...\n",
      "Cleaning up files...\n",
      "Preparation of compound library finished: ended with 9\n"
     ]
    }
   ],
   "source": [
    "cleaned_pkasolver_df = prepare_library(docking_library, id_column, software, 'pkasolver')"
   ]
  },
  {
   "cell_type": "code",
   "execution_count": null,
   "metadata": {},
   "outputs": [],
   "source": [
    "all_poses = docking(protein_file, ref_file, software, docking_programs, exhaustiveness, n_poses)"
   ]
  },
  {
   "cell_type": "code",
   "execution_count": 5,
   "metadata": {},
   "outputs": [
    {
     "name": "stdout",
     "output_type": "stream",
     "text": [
      "Splitting SDF file final_library.sdf ...\n",
      "The folder: /home/tony/CADD22/wocondock_main/temp/split_final_library was created\n",
      "Split docking library into 5 files each containing 2 compounds\n",
      "The folder: /home/tony/CADD22/wocondock_main/temp/plants was created\n",
      "Converting protein file to .mol2 format for PLANTS docking...\n",
      "Converting reference file from .sdf to .mol2 format for PLANTS docking...\n",
      "Determining binding site coordinates using PLANTS...\n",
      "Docking split files using PLANTS...\n"
     ]
    },
    {
     "name": "stderr",
     "output_type": "stream",
     "text": [
      "Submitting PLANTS jobs: 100%|██████████| 5/5 [00:00<00:00, 95.69Jobs/s]\n",
      "Docking with PLANTS: 100%|██████████| 5/5 [00:56<00:00, 11.27s/it]\n"
     ]
    },
    {
     "name": "stdout",
     "output_type": "stream",
     "text": [
      "Docking with PLANTS complete in 57.2874!\n",
      "Docking split files using SMINA...\n"
     ]
    },
    {
     "name": "stderr",
     "output_type": "stream",
     "text": [
      "Submitting SMINA jobs: 100%|██████████| 5/5 [00:00<00:00, 64.00Jobs/s]\n",
      "Docking with SMINA: 100%|██████████| 5/5 [01:00<00:00, 12.01s/it]\n"
     ]
    },
    {
     "name": "stdout",
     "output_type": "stream",
     "text": [
      "Docking with SMINA complete in 60.1454!\n",
      "Docking split files using GNINA...\n"
     ]
    },
    {
     "name": "stderr",
     "output_type": "stream",
     "text": [
      "Submitting GNINA jobs: 100%|██████████| 5/5 [00:00<00:00, 106.74Jobs/s]\n",
      "Docking with GNINA: 100%|██████████| 5/5 [01:25<00:00, 17.02s/it]"
     ]
    },
    {
     "name": "stdout",
     "output_type": "stream",
     "text": [
      "Docking with GNINA complete in 85.1807!\n"
     ]
    },
    {
     "name": "stderr",
     "output_type": "stream",
     "text": [
      "\n"
     ]
    }
   ],
   "source": [
    "docking_splitted(w_dir, protein_file, ref_file, software, docking_programs, exhaustiveness, n_poses)"
   ]
  },
  {
   "cell_type": "code",
   "execution_count": 6,
   "metadata": {},
   "outputs": [
    {
     "name": "stdout",
     "output_type": "stream",
     "text": [
      "Fetching docking poses...\n"
     ]
    },
    {
     "name": "stderr",
     "output_type": "stream",
     "text": [
      "Fetching PLANTS docking poses: 100%|██████████| 17/17 [00:00<00:00, 42.22it/s]\n",
      "Loading SMINA poses: 100%|██████████| 5/5 [00:00<00:00, 92.54it/s]\n",
      "Loading GNINA poses: 100%|██████████| 5/5 [00:00<00:00, 90.97it/s]\n"
     ]
    },
    {
     "name": "stdout",
     "output_type": "stream",
     "text": [
      "Combining all poses...\n",
      "Combined all docking poses in 0.7080!\n"
     ]
    },
    {
     "data": {
      "text/html": [
       "<div>\n",
       "<style scoped>\n",
       "    .dataframe tbody tr th:only-of-type {\n",
       "        vertical-align: middle;\n",
       "    }\n",
       "\n",
       "    .dataframe tbody tr th {\n",
       "        vertical-align: top;\n",
       "    }\n",
       "\n",
       "    .dataframe thead th {\n",
       "        text-align: right;\n",
       "    }\n",
       "</style>\n",
       "<table border=\"1\" class=\"dataframe\">\n",
       "  <thead>\n",
       "    <tr style=\"text-align: right;\">\n",
       "      <th></th>\n",
       "      <th>ID</th>\n",
       "      <th>CHEMPLP</th>\n",
       "      <th>Molecule</th>\n",
       "      <th>Pose ID</th>\n",
       "      <th>SMINA_Affinity</th>\n",
       "      <th>GNINA_Affinity</th>\n",
       "      <th>CNNscore</th>\n",
       "      <th>CNNaffinity</th>\n",
       "      <th>CNN_VS</th>\n",
       "    </tr>\n",
       "  </thead>\n",
       "  <tbody>\n",
       "    <tr>\n",
       "      <th>0</th>\n",
       "      <td>FCG1390566</td>\n",
       "      <td>-71.9051</td>\n",
       "      <td style=\"text-align: center;\"><img data-content=\"rdkit/molecule\" src=\"data:image/png;base64,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\" alt=\"Mol\"/></td>\n",
       "      <td>FCG1390566_PLANTS_01</td>\n",
       "      <td>NaN</td>\n",
       "      <td>NaN</td>\n",
       "      <td>NaN</td>\n",
       "      <td>NaN</td>\n",
       "      <td>NaN</td>\n",
       "    </tr>\n",
       "    <tr>\n",
       "      <th>1</th>\n",
       "      <td>FCG1390566</td>\n",
       "      <td>-67.2674</td>\n",
       "      <td style=\"text-align: center;\"><img data-content=\"rdkit/molecule\" src=\"data:image/png;base64,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\" alt=\"Mol\"/></td>\n",
       "      <td>FCG1390566_PLANTS_02</td>\n",
       "      <td>NaN</td>\n",
       "      <td>NaN</td>\n",
       "      <td>NaN</td>\n",
       "      <td>NaN</td>\n",
       "      <td>NaN</td>\n",
       "    </tr>\n",
       "    <tr>\n",
       "      <th>2</th>\n",
       "      <td>FCG1390566</td>\n",
       "      <td>-66.3932</td>\n",
       "      <td style=\"text-align: center;\"><img data-content=\"rdkit/molecule\" src=\"data:image/png;base64,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\" alt=\"Mol\"/></td>\n",
       "      <td>FCG1390566_PLANTS_03</td>\n",
       "      <td>NaN</td>\n",
       "      <td>NaN</td>\n",
       "      <td>NaN</td>\n",
       "      <td>NaN</td>\n",
       "      <td>NaN</td>\n",
       "    </tr>\n",
       "    <tr>\n",
       "      <th>3</th>\n",
       "      <td>FCG1390566</td>\n",
       "      <td>-63.7682</td>\n",
       "      <td style=\"text-align: center;\"><img data-content=\"rdkit/molecule\" src=\"data:image/png;base64,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\" alt=\"Mol\"/></td>\n",
       "      <td>FCG1390566_PLANTS_04</td>\n",
       "      <td>NaN</td>\n",
       "      <td>NaN</td>\n",
       "      <td>NaN</td>\n",
       "      <td>NaN</td>\n",
       "      <td>NaN</td>\n",
       "    </tr>\n",
       "    <tr>\n",
       "      <th>4</th>\n",
       "      <td>FCG1390566</td>\n",
       "      <td>-63.1031</td>\n",
       "      <td style=\"text-align: center;\"><img data-content=\"rdkit/molecule\" src=\"data:image/png;base64,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\" alt=\"Mol\"/></td>\n",
       "      <td>FCG1390566_PLANTS_05</td>\n",
       "      <td>NaN</td>\n",
       "      <td>NaN</td>\n",
       "      <td>NaN</td>\n",
       "      <td>NaN</td>\n",
       "      <td>NaN</td>\n",
       "    </tr>\n",
       "    <tr>\n",
       "      <th>...</th>\n",
       "      <td>...</td>\n",
       "      <td>...</td>\n",
       "      <td>...</td>\n",
       "      <td>...</td>\n",
       "      <td>...</td>\n",
       "      <td>...</td>\n",
       "      <td>...</td>\n",
       "      <td>...</td>\n",
       "      <td>...</td>\n",
       "    </tr>\n",
       "    <tr>\n",
       "      <th>15</th>\n",
       "      <td>FCG16600623</td>\n",
       "      <td>NaN</td>\n",
       "      <td style=\"text-align: center;\"><img data-content=\"rdkit/molecule\" src=\"data:image/png;base64,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\" alt=\"Mol\"/></td>\n",
       "      <td>FCG16600623_GNINA_6</td>\n",
       "      <td>NaN</td>\n",
       "      <td>-9.14017</td>\n",
       "      <td>0.6006399989</td>\n",
       "      <td>6.6158466339</td>\n",
       "      <td>3.9737420082</td>\n",
       "    </tr>\n",
       "    <tr>\n",
       "      <th>16</th>\n",
       "      <td>FCG16600623</td>\n",
       "      <td>NaN</td>\n",
       "      <td style=\"text-align: center;\"><img data-content=\"rdkit/molecule\" src=\"data:image/png;base64,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\" alt=\"Mol\"/></td>\n",
       "      <td>FCG16600623_GNINA_7</td>\n",
       "      <td>NaN</td>\n",
       "      <td>-7.62252</td>\n",
       "      <td>0.5897314548</td>\n",
       "      <td>6.2356615067</td>\n",
       "      <td>3.6773657799</td>\n",
       "    </tr>\n",
       "    <tr>\n",
       "      <th>17</th>\n",
       "      <td>FCG16600623</td>\n",
       "      <td>NaN</td>\n",
       "      <td style=\"text-align: center;\"><img data-content=\"rdkit/molecule\" src=\"data:image/png;base64,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\" alt=\"Mol\"/></td>\n",
       "      <td>FCG16600623_GNINA_8</td>\n",
       "      <td>NaN</td>\n",
       "      <td>-7.72609</td>\n",
       "      <td>0.5754415393</td>\n",
       "      <td>6.4311151505</td>\n",
       "      <td>3.7007308006</td>\n",
       "    </tr>\n",
       "    <tr>\n",
       "      <th>18</th>\n",
       "      <td>FCG16600623</td>\n",
       "      <td>NaN</td>\n",
       "      <td style=\"text-align: center;\"><img data-content=\"rdkit/molecule\" src=\"data:image/png;base64,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\" alt=\"Mol\"/></td>\n",
       "      <td>FCG16600623_GNINA_9</td>\n",
       "      <td>NaN</td>\n",
       "      <td>12.99210</td>\n",
       "      <td>0.5279641747</td>\n",
       "      <td>5.8416748047</td>\n",
       "      <td>3.0841948986</td>\n",
       "    </tr>\n",
       "    <tr>\n",
       "      <th>19</th>\n",
       "      <td>FCG16600623</td>\n",
       "      <td>NaN</td>\n",
       "      <td style=\"text-align: center;\"><img data-content=\"rdkit/molecule\" src=\"data:image/png;base64,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\" alt=\"Mol\"/></td>\n",
       "      <td>FCG16600623_GNINA_10</td>\n",
       "      <td>NaN</td>\n",
       "      <td>-8.86793</td>\n",
       "      <td>0.5132998824</td>\n",
       "      <td>6.6197004318</td>\n",
       "      <td>3.3978915215</td>\n",
       "    </tr>\n",
       "  </tbody>\n",
       "</table>\n",
       "<p>270 rows × 9 columns</p>\n",
       "</div>"
      ],
      "text/plain": [
       "             ID  CHEMPLP                                           Molecule  \\\n",
       "0    FCG1390566 -71.9051  <img data-content=\"rdkit/molecule\" src=\"data:i...   \n",
       "1    FCG1390566 -67.2674  <img data-content=\"rdkit/molecule\" src=\"data:i...   \n",
       "2    FCG1390566 -66.3932  <img data-content=\"rdkit/molecule\" src=\"data:i...   \n",
       "3    FCG1390566 -63.7682  <img data-content=\"rdkit/molecule\" src=\"data:i...   \n",
       "4    FCG1390566 -63.1031  <img data-content=\"rdkit/molecule\" src=\"data:i...   \n",
       "..          ...      ...                                                ...   \n",
       "15  FCG16600623      NaN  <img data-content=\"rdkit/molecule\" src=\"data:i...   \n",
       "16  FCG16600623      NaN  <img data-content=\"rdkit/molecule\" src=\"data:i...   \n",
       "17  FCG16600623      NaN  <img data-content=\"rdkit/molecule\" src=\"data:i...   \n",
       "18  FCG16600623      NaN  <img data-content=\"rdkit/molecule\" src=\"data:i...   \n",
       "19  FCG16600623      NaN  <img data-content=\"rdkit/molecule\" src=\"data:i...   \n",
       "\n",
       "                 Pose ID SMINA_Affinity GNINA_Affinity      CNNscore  \\\n",
       "0   FCG1390566_PLANTS_01            NaN            NaN           NaN   \n",
       "1   FCG1390566_PLANTS_02            NaN            NaN           NaN   \n",
       "2   FCG1390566_PLANTS_03            NaN            NaN           NaN   \n",
       "3   FCG1390566_PLANTS_04            NaN            NaN           NaN   \n",
       "4   FCG1390566_PLANTS_05            NaN            NaN           NaN   \n",
       "..                   ...            ...            ...           ...   \n",
       "15   FCG16600623_GNINA_6            NaN       -9.14017  0.6006399989   \n",
       "16   FCG16600623_GNINA_7            NaN       -7.62252  0.5897314548   \n",
       "17   FCG16600623_GNINA_8            NaN       -7.72609  0.5754415393   \n",
       "18   FCG16600623_GNINA_9            NaN       12.99210  0.5279641747   \n",
       "19  FCG16600623_GNINA_10            NaN       -8.86793  0.5132998824   \n",
       "\n",
       "     CNNaffinity        CNN_VS  \n",
       "0            NaN           NaN  \n",
       "1            NaN           NaN  \n",
       "2            NaN           NaN  \n",
       "3            NaN           NaN  \n",
       "4            NaN           NaN  \n",
       "..           ...           ...  \n",
       "15  6.6158466339  3.9737420082  \n",
       "16  6.2356615067  3.6773657799  \n",
       "17  6.4311151505  3.7007308006  \n",
       "18  5.8416748047  3.0841948986  \n",
       "19  6.6197004318  3.3978915215  \n",
       "\n",
       "[270 rows x 9 columns]"
      ]
     },
     "execution_count": 6,
     "metadata": {},
     "output_type": "execute_result"
    }
   ],
   "source": [
    "fetch_poses_splitted(w_dir, n_poses, split_files_folder=w_dir+'/temp/split_final_library')"
   ]
  },
  {
   "cell_type": "code",
   "execution_count": null,
   "metadata": {},
   "outputs": [],
   "source": [
    "print('Loading all poses SDF file...')\n",
    "tic = time.perf_counter()\n",
    "all_poses = PandasTools.LoadSDF(w_dir+'/temp/allposes.sdf', idName='Pose ID', molColName='Molecule', includeFingerprints=False, strictParsing=True)\n",
    "toc = time.perf_counter()\n",
    "print(f'Finished loading all poses SDF in {toc-tic:0.4f}!...')"
   ]
  },
  {
   "cell_type": "code",
   "execution_count": null,
   "metadata": {},
   "outputs": [],
   "source": [
    "for metric in clustering_metrics:\n",
    "    cluster_mp(f'{metric}', 'KMedoids', w_dir, protein_file, all_poses)"
   ]
  },
  {
   "cell_type": "markdown",
   "metadata": {},
   "source": [
    "**Rescoring**\n",
    "\n",
    "The file containing all the cluster centers is then rescored using all scoring functions available (GNINA, Vina, AutoDock4, PLP, CHEMPLP, RF-Score-VS). The rescored output is return as a dataframe."
   ]
  },
  {
   "cell_type": "code",
   "execution_count": null,
   "metadata": {},
   "outputs": [],
   "source": [
    "for metric in clustering_metrics:\n",
    "    rescore_all(w_dir, protein_file, ref_file, software, w_dir+f'/temp/clustering/{metric}_clustered.sdf', rescoring_functions, 0)\n"
   ]
  },
  {
   "cell_type": "markdown",
   "metadata": {},
   "source": [
    "**Final ranking methods**\n",
    "\n",
    "This code calculates the final ranking of compounds using various methods.\n",
    "*Method 1* : Calculates ECR value for each cluster center, then outputs the top ranked center.\n",
    "*Method 2* : Calculates ECR value for each cluster center, then outputs the average ECR value for each compound.\n",
    "*Method 3* : Calculates the average rank of each compound, then ouputs the corresponding ECR value for each compound.\n",
    "*Method 6* : Calculates Z-score for each cluster center, then ouputs the top ranked center.\n",
    "*Method 7* : Calculates Z-score for each cluster center, then ouputs the average Z-score for each compound.\n",
    "\n",
    "All methods are then combined into a single dataframe for comparison purposes."
   ]
  },
  {
   "cell_type": "code",
   "execution_count": null,
   "metadata": {},
   "outputs": [],
   "source": [
    "apply_consensus_methods(w_dir, ['bestpose_GNINA', 'bestpose_SMINA', 'bestpose_PLANTS'])"
   ]
  },
  {
   "cell_type": "code",
   "execution_count": null,
   "metadata": {},
   "outputs": [],
   "source": [
    "calculate_EFs(w_dir, docking_library)"
   ]
  }
 ],
 "metadata": {
  "kernelspec": {
   "display_name": "Python 3.8.13 ('wocondock')",
   "language": "python",
   "name": "python3"
  },
  "language_info": {
   "codemirror_mode": {
    "name": "ipython",
    "version": 3
   },
   "file_extension": ".py",
   "mimetype": "text/x-python",
   "name": "python",
   "nbconvert_exporter": "python",
   "pygments_lexer": "ipython3",
   "version": "3.8.13"
  },
  "orig_nbformat": 4,
  "vscode": {
   "interpreter": {
    "hash": "ac9acbc93af693fb4e01b586b9d883cf48eab2850c268069ebbf85c5f9fbe2b9"
   }
  }
 },
 "nbformat": 4,
 "nbformat_minor": 2
}
