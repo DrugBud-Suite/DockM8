{
 "cells": [
  {
   "cell_type": "markdown",
   "metadata": {},
   "source": [
    "**Import required libraries and scripts**"
   ]
  },
  {
   "cell_type": "code",
   "execution_count": null,
   "metadata": {},
   "outputs": [],
   "source": [
    "#Import required libraries and scripts\n",
    "from scripts.library_preparation import *\n",
    "from scripts.utilities import *\n",
    "from scripts.docking_functions import *\n",
    "from scripts.clustering_functions import *\n",
    "from scripts.rescoring_functions import *\n",
    "from scripts.ranking_functions import *\n",
    "from scripts.performance_calculation import *\n",
    "from scripts.dogsitescorer import *\n",
    "from scripts.get_pocket import *\n",
    "import numpy as np\n",
    "import os\n",
    "\n",
    "software = '/home/mario/DockM8/software'\n",
    "protein_file = '/home/mario/holiday/igf1r/receptor_protoss_prepared.pdb'\n",
    "ref_file = '/home/mario/holiday/igf1r/crystal_ligand_protoss.sdf'\n",
    "docking_library = '/home/mario/holiday/igf1r/merged_actives_decoys.sdf'\n",
    "docking_programs = ['GNINA', 'SMINA', 'PLANTS']\n",
    "clustering_metrics = ['RMSD', 'spyRMSD', 'espsim', '3DScore', 'bestpose', 'bestpose_GNINA', 'bestpose_SMINA', 'bestpose_PLANTS']\n",
    "rescoring_functions = ['gnina', 'AD4', 'chemplp', 'rfscorevs', 'LinF9']\n",
    "id_column = 'ID'\n",
    "n_poses = 10\n",
    "exhaustiveness = 4\n",
    "ncpus = int(os.cpu_count()/2)\n",
    "#Initialise variables and create a temporary folder\n",
    "w_dir = os.path.dirname(protein_file)\n",
    "print('The working directory has been set to:', w_dir)\n",
    "create_temp_folder(w_dir+'/temp')"
   ]
  },
  {
   "cell_type": "code",
   "execution_count": null,
   "metadata": {},
   "outputs": [],
   "source": [
    "pocket_definition = binding_site_coordinates_dogsitescorer(protein_file, w_dir, method='volume')"
   ]
  },
  {
   "cell_type": "code",
   "execution_count": null,
   "metadata": {},
   "outputs": [],
   "source": [
    "pocket = GetPocket(ref_file, protein_file, 8)"
   ]
  },
  {
   "cell_type": "code",
   "execution_count": null,
   "metadata": {},
   "outputs": [],
   "source": [
    "cleaned_pkasolver_df = prepare_library(docking_library, id_column, software, 'pkasolver', ncpus)"
   ]
  },
  {
   "cell_type": "code",
   "execution_count": null,
   "metadata": {},
   "outputs": [],
   "source": [
    "all_poses = docking(protein_file, ref_file, software, docking_programs, exhaustiveness, n_poses)"
   ]
  },
  {
   "cell_type": "code",
   "execution_count": null,
   "metadata": {},
   "outputs": [],
   "source": [
    "docking_splitted(w_dir, protein_file, ref_file, software, docking_programs, exhaustiveness, n_poses)"
   ]
  },
  {
   "cell_type": "code",
   "execution_count": null,
   "metadata": {},
   "outputs": [],
   "source": [
    "fetch_poses_splitted(w_dir, n_poses, split_files_folder=w_dir+'/temp/split_final_library')"
   ]
  },
  {
   "cell_type": "code",
   "execution_count": null,
   "metadata": {},
   "outputs": [],
   "source": [
    "print('Loading all poses SDF file...')\n",
    "tic = time.perf_counter()\n",
    "all_poses = PandasTools.LoadSDF(w_dir+'/temp/allposes.sdf', idName='Pose ID', molColName='Molecule', includeFingerprints=False, strictParsing=True)\n",
    "toc = time.perf_counter()\n",
    "print(f'Finished loading all poses SDF in {toc-tic:0.4f}!...')"
   ]
  },
  {
   "cell_type": "code",
   "execution_count": null,
   "metadata": {},
   "outputs": [],
   "source": [
    "for metric in clustering_metrics:\n",
    "    cluster_futures(f'{metric}', 'KMedoids', w_dir, protein_file, all_poses, ncpus)"
   ]
  },
  {
   "cell_type": "markdown",
   "metadata": {},
   "source": [
    "**Rescoring**\n",
    "\n",
    "The file containing all the cluster centers is then rescored using all scoring functions available (GNINA, Vina, AutoDock4, PLP, CHEMPLP, RF-Score-VS). The rescored output is return as a dataframe."
   ]
  },
  {
   "cell_type": "code",
   "execution_count": 4,
   "metadata": {},
   "outputs": [
    {
     "name": "stdout",
     "output_type": "stream",
     "text": [
      "\n",
      "[2023-Mar-14 08:33:49]: Rescoring with CHEMPLP complete in 73.3911!\n",
      "\n",
      "[2023-Mar-14 08:33:49]: Rescoring with RFScoreVS\n",
      "\n",
      "[2023-Mar-14 08:35:29]: Rescoring with RF-Score-VS complete in 100.8085!\n",
      "Splitting SDF file spyRMSD_clustered.sdf ...\n"
     ]
    },
    {
     "name": "stderr",
     "output_type": "stream",
     "text": [
      "Splitting files: 100%|██████████| 24/24 [00:03<00:00,  7.95it/s]\n"
     ]
    },
    {
     "name": "stdout",
     "output_type": "stream",
     "text": [
      "Split docking library into 24 files each containing 1066 compounds\n"
     ]
    },
    {
     "name": "stderr",
     "output_type": "stream",
     "text": [
      "Submitting LinF9 rescoring jobs: 100%|██████████| 24/24 [00:00<00:00, 30.47file/s]\n",
      "Rescoring with LinF9: 100%|██████████| 24/24 [00:05<00:00,  4.25file/s]\n"
     ]
    },
    {
     "name": "stdout",
     "output_type": "stream",
     "text": [
      "\n",
      "[2023-Mar-14 08:35:46]: Rescoring with LinF9 complete in 16.9255!\n",
      "\n",
      "[2023-Mar-14 08:35:46]: Combining all score for /home/mario/holiday/igf1r/temp/rescoring_spyRMSD_clustered\n"
     ]
    },
    {
     "name": "stderr",
     "output_type": "stream",
     "text": [
      "Combining scores: 100%|██████████| 4/4 [00:00<00:00, 197.84files/s]\n"
     ]
    },
    {
     "name": "stdout",
     "output_type": "stream",
     "text": [
      "\n",
      "[2023-Mar-14 08:35:47]: Rescoring complete in 526.6447!\n",
      "The folder: /home/mario/holiday/igf1r/temp/rescoring_espsim_clustered was created\n",
      "Splitting SDF file espsim_clustered.sdf ...\n"
     ]
    },
    {
     "name": "stderr",
     "output_type": "stream",
     "text": [
      "Splitting files: 100%|██████████| 24/24 [00:02<00:00,  9.70it/s]\n"
     ]
    },
    {
     "name": "stdout",
     "output_type": "stream",
     "text": [
      "Split docking library into 24 files each containing 861 compounds\n",
      "\n",
      "[2023-Mar-14 08:35:53]: Rescoring with GNINA\n"
     ]
    },
    {
     "name": "stderr",
     "output_type": "stream",
     "text": [
      "Submitting GNINA rescoring jobs: 100%|██████████| 24/24 [00:00<00:00, 30.24file/s]\n",
      "Rescoring with GNINA: 100%|██████████| 24/24 [03:27<00:00,  8.66s/file]\n"
     ]
    },
    {
     "name": "stdout",
     "output_type": "stream",
     "text": [
      "\n",
      "[2023-Mar-14 08:39:24]: Rescoring with GNINA complete in 217.1961!\n",
      "\n",
      "[2023-Mar-14 08:39:24]: Rescoring with AD4\n",
      "\n",
      "[2023-Mar-14 08:39:48]: Rescoring with AD4 complete in 23.9731!\n",
      "\n",
      "[2023-Mar-14 08:39:48]: Rescoring with CHEMPLP\n"
     ]
    },
    {
     "name": "stderr",
     "output_type": "stream",
     "text": [
      "20656 molecules converted\n"
     ]
    },
    {
     "name": "stdout",
     "output_type": "stream",
     "text": [
      "\n",
      "[2023-Mar-14 08:40:48]: Rescoring with CHEMPLP complete in 60.5650!\n",
      "\n",
      "[2023-Mar-14 08:40:48]: Rescoring with RFScoreVS\n",
      "\n",
      "[2023-Mar-14 08:42:09]: Rescoring with RF-Score-VS complete in 80.4083!\n",
      "Splitting SDF file espsim_clustered.sdf ...\n"
     ]
    },
    {
     "name": "stderr",
     "output_type": "stream",
     "text": [
      "Splitting files: 100%|██████████| 24/24 [00:02<00:00,  9.69it/s]\n"
     ]
    },
    {
     "name": "stdout",
     "output_type": "stream",
     "text": [
      "Split docking library into 24 files each containing 861 compounds\n"
     ]
    },
    {
     "name": "stderr",
     "output_type": "stream",
     "text": [
      "Submitting LinF9 rescoring jobs: 100%|██████████| 24/24 [00:00<00:00, 30.46file/s]\n",
      "Rescoring with LinF9: 100%|██████████| 24/24 [00:04<00:00,  5.15file/s]\n"
     ]
    },
    {
     "name": "stdout",
     "output_type": "stream",
     "text": [
      "\n",
      "[2023-Mar-14 08:42:23]: Rescoring with LinF9 complete in 14.0742!\n",
      "\n",
      "[2023-Mar-14 08:42:23]: Combining all score for /home/mario/holiday/igf1r/temp/rescoring_espsim_clustered\n"
     ]
    },
    {
     "name": "stderr",
     "output_type": "stream",
     "text": [
      "Combining scores: 100%|██████████| 4/4 [00:00<00:00, 246.83files/s]"
     ]
    },
    {
     "name": "stdout",
     "output_type": "stream",
     "text": [
      "\n",
      "[2023-Mar-14 08:42:23]: Rescoring complete in 396.4125!\n",
      "The folder: /home/mario/holiday/igf1r/temp/rescoring_3DScore_clustered was created\n",
      "Splitting SDF file 3DScore_clustered.sdf ...\n"
     ]
    },
    {
     "name": "stderr",
     "output_type": "stream",
     "text": [
      "\n",
      "Splitting files: 100%|██████████| 24/24 [00:01<00:00, 21.08it/s]\n"
     ]
    },
    {
     "name": "stdout",
     "output_type": "stream",
     "text": [
      "Split docking library into 24 files each containing 392 compounds\n",
      "\n",
      "[2023-Mar-14 08:42:26]: Rescoring with GNINA\n"
     ]
    },
    {
     "name": "stderr",
     "output_type": "stream",
     "text": [
      "Submitting GNINA rescoring jobs: 100%|██████████| 24/24 [00:00<00:00, 30.44file/s]\n",
      "Rescoring with GNINA: 100%|██████████| 24/24 [01:38<00:00,  4.10s/file]\n"
     ]
    },
    {
     "name": "stdout",
     "output_type": "stream",
     "text": [
      "\n",
      "[2023-Mar-14 08:44:06]: Rescoring with GNINA complete in 103.2180!\n",
      "\n",
      "[2023-Mar-14 08:44:06]: Rescoring with AD4\n",
      "\n",
      "[2023-Mar-14 08:44:18]: Rescoring with AD4 complete in 11.7862!\n",
      "\n",
      "[2023-Mar-14 08:44:18]: Rescoring with CHEMPLP\n"
     ]
    },
    {
     "name": "stderr",
     "output_type": "stream",
     "text": [
      "9407 molecules converted\n"
     ]
    },
    {
     "name": "stdout",
     "output_type": "stream",
     "text": [
      "\n",
      "[2023-Mar-14 08:44:45]: Rescoring with CHEMPLP complete in 27.4437!\n",
      "\n",
      "[2023-Mar-14 08:44:45]: Rescoring with RFScoreVS\n",
      "\n",
      "[2023-Mar-14 08:45:24]: Rescoring with RF-Score-VS complete in 38.4563!\n",
      "Splitting SDF file 3DScore_clustered.sdf ...\n"
     ]
    },
    {
     "name": "stderr",
     "output_type": "stream",
     "text": [
      "Splitting files: 100%|██████████| 24/24 [00:01<00:00, 20.97it/s]\n"
     ]
    },
    {
     "name": "stdout",
     "output_type": "stream",
     "text": [
      "Split docking library into 24 files each containing 392 compounds\n"
     ]
    },
    {
     "name": "stderr",
     "output_type": "stream",
     "text": [
      "Submitting LinF9 rescoring jobs: 100%|██████████| 24/24 [00:00<00:00, 30.69file/s]\n",
      "Rescoring with LinF9: 100%|██████████| 24/24 [00:02<00:00,  8.87file/s]\n"
     ]
    },
    {
     "name": "stdout",
     "output_type": "stream",
     "text": [
      "\n",
      "[2023-Mar-14 08:45:31]: Rescoring with LinF9 complete in 7.5099!\n",
      "\n",
      "[2023-Mar-14 08:45:31]: Combining all score for /home/mario/holiday/igf1r/temp/rescoring_3DScore_clustered\n"
     ]
    },
    {
     "name": "stderr",
     "output_type": "stream",
     "text": [
      "Combining scores: 100%|██████████| 4/4 [00:00<00:00, 380.78files/s]"
     ]
    },
    {
     "name": "stdout",
     "output_type": "stream",
     "text": [
      "\n",
      "[2023-Mar-14 08:45:31]: Rescoring complete in 188.5140!\n",
      "The folder: /home/mario/holiday/igf1r/temp/rescoring_bestpose_clustered was created\n",
      "Splitting SDF file bestpose_clustered.sdf ...\n"
     ]
    },
    {
     "name": "stderr",
     "output_type": "stream",
     "text": [
      "\n",
      "Splitting files: 100%|██████████| 24/24 [00:03<00:00,  7.29it/s]\n"
     ]
    },
    {
     "name": "stdout",
     "output_type": "stream",
     "text": [
      "Split docking library into 24 files each containing 1150 compounds\n",
      "\n",
      "[2023-Mar-14 08:45:41]: Rescoring with GNINA\n"
     ]
    },
    {
     "name": "stderr",
     "output_type": "stream",
     "text": [
      "Submitting GNINA rescoring jobs: 100%|██████████| 24/24 [00:00<00:00, 30.62file/s]\n",
      "Rescoring with GNINA: 100%|██████████| 24/24 [04:31<00:00, 11.31s/file]\n"
     ]
    },
    {
     "name": "stdout",
     "output_type": "stream",
     "text": [
      "\n",
      "[2023-Mar-14 08:50:15]: Rescoring with GNINA complete in 283.9661!\n",
      "\n",
      "[2023-Mar-14 08:50:15]: Rescoring with AD4\n",
      "\n",
      "[2023-Mar-14 08:50:47]: Rescoring with AD4 complete in 31.5125!\n",
      "\n",
      "[2023-Mar-14 08:50:47]: Rescoring with CHEMPLP\n"
     ]
    },
    {
     "name": "stderr",
     "output_type": "stream",
     "text": [
      "27600 molecules converted\n"
     ]
    },
    {
     "name": "stdout",
     "output_type": "stream",
     "text": [
      "\n",
      "[2023-Mar-14 08:52:06]: Rescoring with CHEMPLP complete in 79.2698!\n",
      "\n",
      "[2023-Mar-14 08:52:06]: Rescoring with RFScoreVS\n",
      "\n",
      "[2023-Mar-14 08:53:53]: Rescoring with RF-Score-VS complete in 106.3255!\n",
      "Splitting SDF file bestpose_clustered.sdf ...\n"
     ]
    },
    {
     "name": "stderr",
     "output_type": "stream",
     "text": [
      "Splitting files: 100%|██████████| 24/24 [00:03<00:00,  7.34it/s]\n"
     ]
    },
    {
     "name": "stdout",
     "output_type": "stream",
     "text": [
      "Split docking library into 24 files each containing 1150 compounds\n"
     ]
    },
    {
     "name": "stderr",
     "output_type": "stream",
     "text": [
      "Submitting LinF9 rescoring jobs: 100%|██████████| 24/24 [00:00<00:00, 30.58file/s]\n",
      "Rescoring with LinF9: 100%|██████████| 24/24 [00:05<00:00,  4.11file/s]\n"
     ]
    },
    {
     "name": "stdout",
     "output_type": "stream",
     "text": [
      "\n",
      "[2023-Mar-14 08:54:11]: Rescoring with LinF9 complete in 18.0955!\n",
      "\n",
      "[2023-Mar-14 08:54:11]: Combining all score for /home/mario/holiday/igf1r/temp/rescoring_bestpose_clustered\n"
     ]
    },
    {
     "name": "stderr",
     "output_type": "stream",
     "text": [
      "Combining scores: 100%|██████████| 4/4 [00:00<00:00, 175.49files/s]\n"
     ]
    },
    {
     "name": "stdout",
     "output_type": "stream",
     "text": [
      "\n",
      "[2023-Mar-14 08:54:11]: Rescoring complete in 519.4264!\n",
      "The folder: /home/mario/holiday/igf1r/temp/rescoring_bestpose_GNINA_clustered was created\n",
      "Splitting SDF file bestpose_GNINA_clustered.sdf ...\n"
     ]
    },
    {
     "name": "stderr",
     "output_type": "stream",
     "text": [
      "Splitting files: 100%|██████████| 25/25 [00:01<00:00, 22.31it/s]\n"
     ]
    },
    {
     "name": "stdout",
     "output_type": "stream",
     "text": [
      "Split docking library into 25 files each containing 389 compounds\n",
      "\n",
      "[2023-Mar-14 08:54:14]: Rescoring with GNINA\n"
     ]
    },
    {
     "name": "stderr",
     "output_type": "stream",
     "text": [
      "Submitting GNINA rescoring jobs: 100%|██████████| 25/25 [00:00<00:00, 31.87file/s]\n",
      "Rescoring with GNINA: 100%|██████████| 25/25 [01:36<00:00,  3.88s/file]\n"
     ]
    },
    {
     "name": "stdout",
     "output_type": "stream",
     "text": [
      "\n",
      "[2023-Mar-14 08:55:53]: Rescoring with GNINA complete in 101.7704!\n",
      "\n",
      "[2023-Mar-14 08:55:53]: Rescoring with AD4\n",
      "\n",
      "[2023-Mar-14 08:56:04]: Rescoring with AD4 complete in 11.7403!\n",
      "\n",
      "[2023-Mar-14 08:56:04]: Rescoring with CHEMPLP\n"
     ]
    },
    {
     "name": "stderr",
     "output_type": "stream",
     "text": [
      "9343 molecules converted\n"
     ]
    },
    {
     "name": "stdout",
     "output_type": "stream",
     "text": [
      "\n",
      "[2023-Mar-14 08:56:32]: Rescoring with CHEMPLP complete in 27.3490!\n",
      "\n",
      "[2023-Mar-14 08:56:32]: Rescoring with RFScoreVS\n",
      "\n",
      "[2023-Mar-14 08:57:10]: Rescoring with RF-Score-VS complete in 38.0546!\n",
      "Splitting SDF file bestpose_GNINA_clustered.sdf ...\n"
     ]
    },
    {
     "name": "stderr",
     "output_type": "stream",
     "text": [
      "Splitting files: 100%|██████████| 25/25 [00:01<00:00, 22.45it/s]\n"
     ]
    },
    {
     "name": "stdout",
     "output_type": "stream",
     "text": [
      "Split docking library into 25 files each containing 389 compounds\n"
     ]
    },
    {
     "name": "stderr",
     "output_type": "stream",
     "text": [
      "Submitting LinF9 rescoring jobs: 100%|██████████| 25/25 [00:00<00:00, 31.75file/s]\n",
      "Rescoring with LinF9: 100%|██████████| 25/25 [00:02<00:00,  8.34file/s]\n"
     ]
    },
    {
     "name": "stdout",
     "output_type": "stream",
     "text": [
      "\n",
      "[2023-Mar-14 08:57:18]: Rescoring with LinF9 complete in 7.7469!\n",
      "\n",
      "[2023-Mar-14 08:57:18]: Combining all score for /home/mario/holiday/igf1r/temp/rescoring_bestpose_GNINA_clustered\n"
     ]
    },
    {
     "name": "stderr",
     "output_type": "stream",
     "text": [
      "Combining scores: 100%|██████████| 4/4 [00:00<00:00, 459.96files/s]"
     ]
    },
    {
     "name": "stdout",
     "output_type": "stream",
     "text": [
      "\n",
      "[2023-Mar-14 08:57:18]: Rescoring complete in 186.7548!\n",
      "The folder: /home/mario/holiday/igf1r/temp/rescoring_bestpose_SMINA_clustered was created\n",
      "Splitting SDF file bestpose_SMINA_clustered.sdf ...\n"
     ]
    },
    {
     "name": "stderr",
     "output_type": "stream",
     "text": [
      "\n",
      "Splitting files: 100%|██████████| 25/25 [00:01<00:00, 22.28it/s]\n"
     ]
    },
    {
     "name": "stdout",
     "output_type": "stream",
     "text": [
      "Split docking library into 25 files each containing 389 compounds\n",
      "\n",
      "[2023-Mar-14 08:57:21]: Rescoring with GNINA\n"
     ]
    },
    {
     "name": "stderr",
     "output_type": "stream",
     "text": [
      "Submitting GNINA rescoring jobs: 100%|██████████| 25/25 [00:00<00:00, 31.14file/s]\n",
      "Rescoring with GNINA: 100%|██████████| 25/25 [01:37<00:00,  3.91s/file]\n"
     ]
    },
    {
     "name": "stdout",
     "output_type": "stream",
     "text": [
      "\n",
      "[2023-Mar-14 08:59:00]: Rescoring with GNINA complete in 102.6211!\n",
      "\n",
      "[2023-Mar-14 08:59:00]: Rescoring with AD4\n",
      "\n",
      "[2023-Mar-14 08:59:12]: Rescoring with AD4 complete in 11.6865!\n",
      "\n",
      "[2023-Mar-14 08:59:12]: Rescoring with CHEMPLP\n"
     ]
    },
    {
     "name": "stderr",
     "output_type": "stream",
     "text": [
      "9343 molecules converted\n"
     ]
    },
    {
     "name": "stdout",
     "output_type": "stream",
     "text": [
      "\n",
      "[2023-Mar-14 08:59:39]: Rescoring with CHEMPLP complete in 27.2043!\n",
      "\n",
      "[2023-Mar-14 08:59:39]: Rescoring with RFScoreVS\n",
      "\n",
      "[2023-Mar-14 09:00:18]: Rescoring with RF-Score-VS complete in 38.3560!\n",
      "Splitting SDF file bestpose_SMINA_clustered.sdf ...\n"
     ]
    },
    {
     "name": "stderr",
     "output_type": "stream",
     "text": [
      "Splitting files: 100%|██████████| 25/25 [00:01<00:00, 22.46it/s]\n"
     ]
    },
    {
     "name": "stdout",
     "output_type": "stream",
     "text": [
      "Split docking library into 25 files each containing 389 compounds\n"
     ]
    },
    {
     "name": "stderr",
     "output_type": "stream",
     "text": [
      "Submitting LinF9 rescoring jobs: 100%|██████████| 25/25 [00:00<00:00, 31.12file/s]\n",
      "Rescoring with LinF9: 100%|██████████| 25/25 [00:02<00:00,  9.02file/s]\n"
     ]
    },
    {
     "name": "stdout",
     "output_type": "stream",
     "text": [
      "\n",
      "[2023-Mar-14 09:00:25]: Rescoring with LinF9 complete in 7.5598!\n",
      "\n",
      "[2023-Mar-14 09:00:25]: Combining all score for /home/mario/holiday/igf1r/temp/rescoring_bestpose_SMINA_clustered\n"
     ]
    },
    {
     "name": "stderr",
     "output_type": "stream",
     "text": [
      "Combining scores: 100%|██████████| 4/4 [00:00<00:00, 455.05files/s]"
     ]
    },
    {
     "name": "stdout",
     "output_type": "stream",
     "text": [
      "\n",
      "[2023-Mar-14 09:00:25]: Rescoring complete in 187.5238!\n",
      "The folder: /home/mario/holiday/igf1r/temp/rescoring_bestpose_PLANTS_clustered was created\n",
      "Splitting SDF file bestpose_PLANTS_clustered.sdf ...\n"
     ]
    },
    {
     "name": "stderr",
     "output_type": "stream",
     "text": [
      "\n",
      "Splitting files: 100%|██████████| 25/25 [00:01<00:00, 23.57it/s]\n"
     ]
    },
    {
     "name": "stdout",
     "output_type": "stream",
     "text": [
      "Split docking library into 25 files each containing 371 compounds\n",
      "\n",
      "[2023-Mar-14 09:00:28]: Rescoring with GNINA\n"
     ]
    },
    {
     "name": "stderr",
     "output_type": "stream",
     "text": [
      "Submitting GNINA rescoring jobs: 100%|██████████| 25/25 [00:00<00:00, 31.75file/s]\n",
      "Rescoring with GNINA: 100%|██████████| 25/25 [01:32<00:00,  3.70s/file]\n"
     ]
    },
    {
     "name": "stdout",
     "output_type": "stream",
     "text": [
      "\n",
      "[2023-Mar-14 09:02:02]: Rescoring with GNINA complete in 97.1404!\n",
      "\n",
      "[2023-Mar-14 09:02:02]: Rescoring with AD4\n",
      "\n",
      "[2023-Mar-14 09:02:14]: Rescoring with AD4 complete in 11.1857!\n",
      "\n",
      "[2023-Mar-14 09:02:14]: Rescoring with CHEMPLP\n"
     ]
    },
    {
     "name": "stderr",
     "output_type": "stream",
     "text": [
      "8914 molecules converted\n"
     ]
    },
    {
     "name": "stdout",
     "output_type": "stream",
     "text": [
      "\n",
      "[2023-Mar-14 09:02:40]: Rescoring with CHEMPLP complete in 26.3090!\n",
      "\n",
      "[2023-Mar-14 09:02:40]: Rescoring with RFScoreVS\n",
      "\n",
      "[2023-Mar-14 09:03:16]: Rescoring with RF-Score-VS complete in 36.4663!\n",
      "Splitting SDF file bestpose_PLANTS_clustered.sdf ...\n"
     ]
    },
    {
     "name": "stderr",
     "output_type": "stream",
     "text": [
      "Splitting files: 100%|██████████| 25/25 [00:01<00:00, 23.28it/s]\n"
     ]
    },
    {
     "name": "stdout",
     "output_type": "stream",
     "text": [
      "Split docking library into 25 files each containing 371 compounds\n"
     ]
    },
    {
     "name": "stderr",
     "output_type": "stream",
     "text": [
      "Submitting LinF9 rescoring jobs: 100%|██████████| 25/25 [00:00<00:00, 31.47file/s]\n",
      "Rescoring with LinF9: 100%|██████████| 25/25 [00:02<00:00,  9.07file/s]\n"
     ]
    },
    {
     "name": "stdout",
     "output_type": "stream",
     "text": [
      "\n",
      "[2023-Mar-14 09:03:24]: Rescoring with LinF9 complete in 7.3387!\n",
      "\n",
      "[2023-Mar-14 09:03:24]: Combining all score for /home/mario/holiday/igf1r/temp/rescoring_bestpose_PLANTS_clustered\n"
     ]
    },
    {
     "name": "stderr",
     "output_type": "stream",
     "text": [
      "Combining scores: 100%|██████████| 4/4 [00:00<00:00, 453.39files/s]"
     ]
    },
    {
     "name": "stdout",
     "output_type": "stream",
     "text": [
      "\n",
      "[2023-Mar-14 09:03:24]: Rescoring complete in 178.5324!\n"
     ]
    },
    {
     "name": "stderr",
     "output_type": "stream",
     "text": [
      "\n"
     ]
    }
   ],
   "source": [
    "for metric in clustering_metrics:\n",
    "    rescore_all(w_dir, protein_file, ref_file, software, w_dir+f'/temp/clustering/{metric}_clustered.sdf', rescoring_functions, 1, ncpus)"
   ]
  },
  {
   "cell_type": "markdown",
   "metadata": {},
   "source": [
    "**Final ranking methods**\n",
    "\n",
    "This code calculates the final ranking of compounds using various methods.\n",
    "*Method 1* : Calculates ECR value for each cluster center, then outputs the top ranked center.\n",
    "*Method 2* : Calculates ECR value for each cluster center, then outputs the average ECR value for each compound.\n",
    "*Method 3* : Calculates the average rank of each compound, then ouputs the corresponding ECR value for each compound.\n",
    "*Method 6* : Calculates Z-score for each cluster center, then ouputs the top ranked center.\n",
    "*Method 7* : Calculates Z-score for each cluster center, then ouputs the average Z-score for each compound.\n",
    "\n",
    "All methods are then combined into a single dataframe for comparison purposes."
   ]
  },
  {
   "cell_type": "code",
   "execution_count": 5,
   "metadata": {},
   "outputs": [
    {
     "name": "stdout",
     "output_type": "stream",
     "text": [
      "The folder: /home/mario/holiday/igf1r/temp/ranking was created\n",
      "The folder: /home/mario/holiday/igf1r/temp/consensus was created\n"
     ]
    }
   ],
   "source": [
    "apply_consensus_methods(w_dir, clustering_metrics)"
   ]
  },
  {
   "cell_type": "code",
   "execution_count": 6,
   "metadata": {},
   "outputs": [],
   "source": [
    "calculate_EFs(w_dir, docking_library)"
   ]
  },
  {
   "cell_type": "code",
   "execution_count": null,
   "metadata": {},
   "outputs": [],
   "source": [
    "dfs = []\n",
    "for root, dirs, files in os.walk('/home/mario/CADD22/'):\n",
    "    for file in files:\n",
    "        if file == 'enrichement_factors.csv':\n",
    "            file_path = os.path.join(root, file)\n",
    "            print(root)\n",
    "            df = pd.read_csv(file_path)\n",
    "            df = df.rename(columns={df.columns[0]: 'Method'})\n",
    "            df = df.rename(columns={'EF1%': root.replace('/home/tony/CADD22/', '').replace('wocondock_performance_', '').replace('/temp/consensus', '')})\n",
    "            dfs.append(df)\n",
    "merged_df = pd.concat(dfs, axis=0, ignore_index=True)\n",
    "merged_df = merged_df.groupby('Method', as_index=False).sum()\n",
    "display(merged_df)\n",
    "merged_df.to_csv('/home/tony/CADD22/results.csv', index=None)"
   ]
  }
 ],
 "metadata": {
  "kernelspec": {
   "display_name": "wocondock",
   "language": "python",
   "name": "python3"
  },
  "language_info": {
   "codemirror_mode": {
    "name": "ipython",
    "version": 3
   },
   "file_extension": ".py",
   "mimetype": "text/x-python",
   "name": "python",
   "nbconvert_exporter": "python",
   "pygments_lexer": "ipython3",
   "version": "3.8.15"
  },
  "orig_nbformat": 4,
  "vscode": {
   "interpreter": {
    "hash": "10164e316682d9b4b376ca14144ea8a4ff51ebef10350aaa3c3bfce49f02faa4"
   }
  }
 },
 "nbformat": 4,
 "nbformat_minor": 2
}
