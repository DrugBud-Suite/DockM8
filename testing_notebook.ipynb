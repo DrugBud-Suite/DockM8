{
 "cells": [
  {
   "cell_type": "markdown",
   "metadata": {},
   "source": [
    "**Import required libraries and scripts**"
   ]
  },
  {
   "cell_type": "code",
   "execution_count": 1,
   "metadata": {},
   "outputs": [
    {
     "name": "stderr",
     "output_type": "stream",
     "text": [
      "[11:51:16] Initializing Normalizer\n"
     ]
    },
    {
     "name": "stdout",
     "output_type": "stream",
     "text": [
      "The working directory has been set to: /home/tony/CADD22/wocondock_main\n",
      "The folder: /home/tony/CADD22/wocondock_main/temp already exists\n"
     ]
    }
   ],
   "source": [
    "#Import required libraries and scripts\n",
    "from scripts.library_preparation import *\n",
    "from scripts.utilities import *\n",
    "from scripts.docking_functions import *\n",
    "from scripts.clustering_functions import *\n",
    "from scripts.rescoring_functions import *\n",
    "from scripts.ranking_functions import *\n",
    "from scripts.performance_calculation import *\n",
    "from scripts.dogsitescorer import *\n",
    "from scripts.get_pocket import *\n",
    "import numpy as np\n",
    "import os\n",
    "\n",
    "software = '/home/tony/CADD22/software'\n",
    "protein_file = '/home/tony/CADD22/wocondock_main/2o1x_A_apo_protoss.pdb'\n",
    "ref_file = '/home/tony/CADD22/wocondock_main/2o1x_A_lig_protoss.sdf'\n",
    "docking_library = '/home/tony/CADD22/wocondock_main/Selection_of_FCHGroup_LeadLike.sdf'\n",
    "docking_programs = ['GNINA', 'SMINA', 'PLANTS']\n",
    "clustering_metrics = ['RMSD', 'spyRMSD', 'espsim', '3DScore', 'bestpose', 'bestpose_GNINA', 'bestpose_SMINA', 'bestpose_PLANTS']\n",
    "rescoring_functions = ['gnina', 'AD4', 'chemplp', 'rfscorevs', 'LinF9', 'AAScore']\n",
    "id_column = 'ID'\n",
    "n_poses = 10\n",
    "exhaustiveness = 4\n",
    "ncpus = int(os.cpu_count()/2)\n",
    "#Initialise variables and create a temporary folder\n",
    "w_dir = os.path.dirname(protein_file)\n",
    "print('The working directory has been set to:', w_dir)\n",
    "create_temp_folder(w_dir+'/temp')"
   ]
  },
  {
   "cell_type": "code",
   "execution_count": null,
   "metadata": {},
   "outputs": [],
   "source": [
    "pocket_definition = binding_site_coordinates_dogsitescorer(protein_file, w_dir, method='volume')"
   ]
  },
  {
   "cell_type": "code",
   "execution_count": null,
   "metadata": {},
   "outputs": [],
   "source": [
    "pocket = GetPocket(ref_file, protein_file, 8)"
   ]
  },
  {
   "cell_type": "code",
   "execution_count": null,
   "metadata": {},
   "outputs": [],
   "source": [
    "cleaned_pkasolver_df = prepare_library(docking_library, id_column, software, 'pkasolver')"
   ]
  },
  {
   "cell_type": "code",
   "execution_count": null,
   "metadata": {},
   "outputs": [],
   "source": [
    "all_poses = docking(protein_file, ref_file, software, docking_programs, exhaustiveness, n_poses)"
   ]
  },
  {
   "cell_type": "code",
   "execution_count": null,
   "metadata": {},
   "outputs": [],
   "source": [
    "docking_splitted(w_dir, protein_file, ref_file, software, docking_programs, exhaustiveness, n_poses)"
   ]
  },
  {
   "cell_type": "code",
   "execution_count": null,
   "metadata": {},
   "outputs": [],
   "source": [
    "fetch_poses_splitted(w_dir, n_poses, split_files_folder=w_dir+'/temp/split_final_library')"
   ]
  },
  {
   "cell_type": "code",
   "execution_count": null,
   "metadata": {},
   "outputs": [],
   "source": [
    "print('Loading all poses SDF file...')\n",
    "tic = time.perf_counter()\n",
    "all_poses = PandasTools.LoadSDF(w_dir+'/temp/allposes.sdf', idName='Pose ID', molColName='Molecule', includeFingerprints=False, strictParsing=True)\n",
    "toc = time.perf_counter()\n",
    "print(f'Finished loading all poses SDF in {toc-tic:0.4f}!...')"
   ]
  },
  {
   "cell_type": "code",
   "execution_count": null,
   "metadata": {},
   "outputs": [],
   "source": [
    "for metric in clustering_metrics:\n",
    "    cluster_futures(f'{metric}', 'KMedoids', w_dir, protein_file, all_poses, ncpus)"
   ]
  },
  {
   "cell_type": "markdown",
   "metadata": {},
   "source": [
    "**Rescoring**\n",
    "\n",
    "The file containing all the cluster centers is then rescored using all scoring functions available (GNINA, Vina, AutoDock4, PLP, CHEMPLP, RF-Score-VS). The rescored output is return as a dataframe."
   ]
  },
  {
   "cell_type": "code",
   "execution_count": 2,
   "metadata": {},
   "outputs": [
    {
     "name": "stdout",
     "output_type": "stream",
     "text": [
      "The folder: /home/tony/CADD22/wocondock_main/temp/rescoring_RMSD_clustered was created\n",
      "The folder: /home/tony/CADD22/wocondock_main/temp/rescoring_RMSD_clustered/gnina_rescoring/ was created\n",
      "Splitting RMSD_clustered.sdf...\n",
      "Splitting SDF file RMSD_clustered.sdf ...\n",
      "The folder: /home/tony/CADD22/wocondock_main/temp/rescoring_RMSD_clustered/gnina_rescoring/split_RMSD_clustered was created\n"
     ]
    },
    {
     "name": "stderr",
     "output_type": "stream",
     "text": [
      "Splitting files: 100%|██████████| 7/7 [00:00<00:00, 318.66it/s]\n"
     ]
    },
    {
     "name": "stdout",
     "output_type": "stream",
     "text": [
      "Split docking library into 7 files each containing 4 compounds\n",
      "Rescoring with GNINA\n"
     ]
    },
    {
     "name": "stderr",
     "output_type": "stream",
     "text": [
      "Submitting GNINA rescoring jobs: 100%|██████████| 7/7 [00:00<00:00, 145.49file/s]\n",
      "Rescoring with GNINA: 100%|██████████| 7/7 [00:04<00:00,  1.74file/s]\n"
     ]
    },
    {
     "name": "stdout",
     "output_type": "stream",
     "text": [
      "Rescoring with GNINA complete in 4.1709!\n",
      "Rescoring with AD4\n",
      "The folder: /home/tony/CADD22/wocondock_main/temp/rescoring_RMSD_clustered/AD4_rescoring/ was created\n",
      "Rescoring with AD4 complete in 0.8337!\n",
      "Rescoring with CHEMPLP\n",
      "The folder: /home/tony/CADD22/wocondock_main/temp/rescoring_RMSD_clustered/chemplp_rescoring/ was created\n"
     ]
    },
    {
     "name": "stderr",
     "output_type": "stream",
     "text": [
      "28 molecules converted\n"
     ]
    },
    {
     "name": "stdout",
     "output_type": "stream",
     "text": [
      "Rescoring with CHEMPLP complete in 1.7547!\n",
      "Rescoring with RFScoreVS\n",
      "The folder: /home/tony/CADD22/wocondock_main/temp/rescoring_RMSD_clustered/rfscorevs_rescoring was created\n",
      "Rescoring with RF-Score-VS complete in 6.4185!\n",
      "The folder: /home/tony/CADD22/wocondock_main/temp/rescoring_RMSD_clustered/LinF9_rescoring/ was created\n",
      "Splitting RMSD_clustered.sdf...\n",
      "Splitting SDF file RMSD_clustered.sdf ...\n",
      "The folder: /home/tony/CADD22/wocondock_main/temp/rescoring_RMSD_clustered/LinF9_rescoring/split_RMSD_clustered was created\n"
     ]
    },
    {
     "name": "stderr",
     "output_type": "stream",
     "text": [
      "Splitting files: 100%|██████████| 7/7 [00:00<00:00, 534.00it/s]\n"
     ]
    },
    {
     "name": "stdout",
     "output_type": "stream",
     "text": [
      "Split docking library into 7 files each containing 4 compounds\n",
      "Rescoring with LinF9\n"
     ]
    },
    {
     "name": "stderr",
     "output_type": "stream",
     "text": [
      "Submitting LinF9 rescoring jobs: 100%|██████████| 7/7 [00:00<00:00, 154.89file/s]\n",
      "Rescoring with LinF9: 100%|██████████| 7/7 [00:02<00:00,  2.94file/s]\n"
     ]
    },
    {
     "name": "stdout",
     "output_type": "stream",
     "text": [
      "Rescoring with LinF9 complete in 2.5018!\n",
      "The folder: /home/tony/CADD22/wocondock_main/temp/rescoring_RMSD_clustered/AAScore_rescoring/ was created\n",
      "Splitting RMSD_clustered.sdf...\n",
      "Splitting SDF file RMSD_clustered.sdf ...\n",
      "The folder: /home/tony/CADD22/wocondock_main/temp/rescoring_RMSD_clustered/AAScore_rescoring/split_RMSD_clustered was created\n"
     ]
    },
    {
     "name": "stderr",
     "output_type": "stream",
     "text": [
      "Splitting files: 100%|██████████| 7/7 [00:00<00:00, 510.94it/s]\n"
     ]
    },
    {
     "name": "stdout",
     "output_type": "stream",
     "text": [
      "Split docking library into 7 files each containing 4 compounds\n",
      "Rescoring with AAScore\n"
     ]
    },
    {
     "name": "stderr",
     "output_type": "stream",
     "text": [
      "Submitting AAScore rescoring jobs: 100%|██████████| 7/7 [00:00<00:00, 152.43file/s]\n",
      "Rescoring with AAScore: 100%|██████████| 7/7 [00:27<00:00,  3.98s/file]\n"
     ]
    },
    {
     "name": "stdout",
     "output_type": "stream",
     "text": [
      "Rescoring with AAScore complete in 27.9507!\n",
      "Combining all score for /home/tony/CADD22/wocondock_main/temp/rescoring_RMSD_clustered\n"
     ]
    },
    {
     "name": "stderr",
     "output_type": "stream",
     "text": [
      "Combining scores: 100%|██████████| 5/5 [00:00<00:00, 383.46files/s]\n"
     ]
    },
    {
     "name": "stdout",
     "output_type": "stream",
     "text": [
      "Rescoring complete in 43.6668!\n",
      "The folder: /home/tony/CADD22/wocondock_main/temp/rescoring_spyRMSD_clustered was created\n",
      "The folder: /home/tony/CADD22/wocondock_main/temp/rescoring_spyRMSD_clustered/gnina_rescoring/ was created\n",
      "Splitting spyRMSD_clustered.sdf...\n",
      "Splitting SDF file spyRMSD_clustered.sdf ...\n",
      "The folder: /home/tony/CADD22/wocondock_main/temp/rescoring_spyRMSD_clustered/gnina_rescoring/split_spyRMSD_clustered was created\n"
     ]
    },
    {
     "name": "stderr",
     "output_type": "stream",
     "text": [
      "Splitting files: 100%|██████████| 8/8 [00:00<00:00, 386.22it/s]\n"
     ]
    },
    {
     "name": "stdout",
     "output_type": "stream",
     "text": [
      "Split docking library into 8 files each containing 4 compounds\n",
      "Rescoring with GNINA\n"
     ]
    },
    {
     "name": "stderr",
     "output_type": "stream",
     "text": [
      "Submitting GNINA rescoring jobs: 100%|██████████| 8/8 [00:00<00:00, 154.06file/s]\n",
      "Rescoring with GNINA: 100%|██████████| 8/8 [00:03<00:00,  2.05file/s]\n"
     ]
    },
    {
     "name": "stdout",
     "output_type": "stream",
     "text": [
      "Rescoring with GNINA complete in 4.0593!\n",
      "Rescoring with AD4\n",
      "The folder: /home/tony/CADD22/wocondock_main/temp/rescoring_spyRMSD_clustered/AD4_rescoring/ was created\n",
      "Rescoring with AD4 complete in 0.7924!\n",
      "Rescoring with CHEMPLP\n",
      "The folder: /home/tony/CADD22/wocondock_main/temp/rescoring_spyRMSD_clustered/chemplp_rescoring/ was created\n"
     ]
    },
    {
     "name": "stderr",
     "output_type": "stream",
     "text": [
      "29 molecules converted\n"
     ]
    },
    {
     "name": "stdout",
     "output_type": "stream",
     "text": [
      "Rescoring with CHEMPLP complete in 1.6750!\n",
      "Rescoring with RFScoreVS\n",
      "The folder: /home/tony/CADD22/wocondock_main/temp/rescoring_spyRMSD_clustered/rfscorevs_rescoring was created\n",
      "Rescoring with RF-Score-VS complete in 6.2313!\n",
      "The folder: /home/tony/CADD22/wocondock_main/temp/rescoring_spyRMSD_clustered/LinF9_rescoring/ was created\n",
      "Splitting spyRMSD_clustered.sdf...\n",
      "Splitting SDF file spyRMSD_clustered.sdf ...\n",
      "The folder: /home/tony/CADD22/wocondock_main/temp/rescoring_spyRMSD_clustered/LinF9_rescoring/split_spyRMSD_clustered was created\n"
     ]
    },
    {
     "name": "stderr",
     "output_type": "stream",
     "text": [
      "Splitting files: 100%|██████████| 8/8 [00:00<00:00, 503.35it/s]\n"
     ]
    },
    {
     "name": "stdout",
     "output_type": "stream",
     "text": [
      "Split docking library into 8 files each containing 4 compounds\n",
      "Rescoring with LinF9\n"
     ]
    },
    {
     "name": "stderr",
     "output_type": "stream",
     "text": [
      "Submitting LinF9 rescoring jobs: 100%|██████████| 8/8 [00:00<00:00, 172.50file/s]\n",
      "Rescoring with LinF9: 100%|██████████| 8/8 [00:02<00:00,  3.02file/s]\n"
     ]
    },
    {
     "name": "stdout",
     "output_type": "stream",
     "text": [
      "Rescoring with LinF9 complete in 2.7707!\n",
      "The folder: /home/tony/CADD22/wocondock_main/temp/rescoring_spyRMSD_clustered/AAScore_rescoring/ was created\n",
      "Splitting spyRMSD_clustered.sdf...\n",
      "Splitting SDF file spyRMSD_clustered.sdf ...\n",
      "The folder: /home/tony/CADD22/wocondock_main/temp/rescoring_spyRMSD_clustered/AAScore_rescoring/split_spyRMSD_clustered was created\n"
     ]
    },
    {
     "name": "stderr",
     "output_type": "stream",
     "text": [
      "Splitting files: 100%|██████████| 8/8 [00:00<00:00, 563.18it/s]\n"
     ]
    },
    {
     "name": "stdout",
     "output_type": "stream",
     "text": [
      "Split docking library into 8 files each containing 4 compounds\n",
      "Rescoring with AAScore\n"
     ]
    },
    {
     "name": "stderr",
     "output_type": "stream",
     "text": [
      "Submitting AAScore rescoring jobs: 100%|██████████| 8/8 [00:00<00:00, 116.17file/s]\n",
      "Rescoring with AAScore:  62%|██████▎   | 5/8 [00:19<00:08,  2.89s/file]Traceback (most recent call last):\n",
      "Rescoring with AAScore:  62%|██████▎   | 5/8 [00:19<00:11,  3.95s/file]Process ForkProcess-21:\n",
      "Traceback (most recent call last):\n",
      "  File \"/home/tony/.conda/envs/wocondock/lib/python3.8/multiprocessing/process.py\", line 315, in _bootstrap\n",
      "    self.run()\n",
      "  File \"/home/tony/.conda/envs/wocondock/lib/python3.8/multiprocessing/process.py\", line 108, in run\n",
      "    self._target(*self._args, **self._kwargs)\n",
      "  File \"/home/tony/.conda/envs/wocondock/lib/python3.8/concurrent/futures/process.py\", line 233, in _process_worker\n",
      "    call_item = call_queue.get(block=True)\n",
      "  File \"/home/tony/.conda/envs/wocondock/lib/python3.8/multiprocessing/queues.py\", line 97, in get\n",
      "    res = self._recv_bytes()\n",
      "  File \"/home/tony/.conda/envs/wocondock/lib/python3.8/multiprocessing/connection.py\", line 216, in recv_bytes\n",
      "    buf = self._recv_bytes(maxlength)\n",
      "  File \"/home/tony/.conda/envs/wocondock/lib/python3.8/multiprocessing/connection.py\", line 414, in _recv_bytes\n",
      "    buf = self._recv(4)\n",
      "  File \"/home/tony/.conda/envs/wocondock/lib/python3.8/multiprocessing/connection.py\", line 379, in _recv\n",
      "    chunk = read(handle, remaining)\n",
      "KeyboardInterrupt\n",
      "  File \"/home/tony/CADD22/software/AA-Score-Tool-main/AA_Score.py\", line 358, in <module>\n",
      "    func()\n",
      "  File \"/home/tony/CADD22/software/AA-Score-Tool-main/AA_Score.py\", line 345, in func\n",
      "    calc_batch(mol_prot, mol_ligs, output_file, clf)\n",
      "  File \"/home/tony/CADD22/software/AA-Score-Tool-main/AA_Score.py\", line 282, in calc_batch\n",
      "    score = calc_score(mol_lig, mol_prot, clf)\n",
      "  File \"/home/tony/CADD22/software/AA-Score-Tool-main/AA_Score.py\", line 253, in calc_score\n",
      "    ele_same_dict, ele_opposite_dict = calc_ele_descriptor(\n",
      "  File \"/home/tony/CADD22/software/AA-Score-Tool-main/AA_Score.py\", line 119, in calc_ele_descriptor\n",
      "    ele = Electrostatic(res, mol_lig, mol_prot)\n",
      "  File \"/home/tony/CADD22/software/AA-Score-Tool-main/utils/electrostatic.py\", line 42, in __init__\n",
      "    self.main_charges = self.get_partial_charge(self.main_atoms, self.pmol_prot)\n",
      "  File \"/home/tony/CADD22/software/AA-Score-Tool-main/utils/electrostatic.py\", line 60, in get_partial_charge\n",
      "    patoms = [pmol.atoms[aidx] for aidx in aidxs]\n",
      "  File \"/home/tony/CADD22/software/AA-Score-Tool-main/utils/electrostatic.py\", line 60, in <listcomp>\n",
      "    patoms = [pmol.atoms[aidx] for aidx in aidxs]\n",
      "  File \"/home/tony/.conda/envs/wocondock/lib/python3.8/site-packages/openbabel/pybel.py\", line 331, in atoms\n",
      "    return [Atom(self.OBMol.GetAtom(i + 1))\n",
      "  File \"/home/tony/.conda/envs/wocondock/lib/python3.8/site-packages/openbabel/pybel.py\", line 331, in <listcomp>\n",
      "    return [Atom(self.OBMol.GetAtom(i + 1))\n",
      "KeyboardInterrupt\n",
      "\n",
      "Traceback (most recent call last):\n",
      "  File \"/home/tony/CADD22/software/AA-Score-Tool-main/AA_Score.py\", line 358, in <module>\n",
      "    func()\n",
      "  File \"/home/tony/CADD22/software/AA-Score-Tool-main/AA_Score.py\", line 345, in func\n",
      "    calc_batch(mol_prot, mol_ligs, output_file, clf)\n",
      "  File \"/home/tony/CADD22/software/AA-Score-Tool-main/AA_Score.py\", line 282, in calc_batch\n",
      "    score = calc_score(mol_lig, mol_prot, clf)\n",
      "  File \"/home/tony/CADD22/software/AA-Score-Tool-main/AA_Score.py\", line 253, in calc_score\n",
      "    ele_same_dict, ele_opposite_dict = calc_ele_descriptor(\n",
      "  File \"/home/tony/CADD22/software/AA-Score-Tool-main/AA_Score.py\", line 119, in calc_ele_descriptor\n",
      "    ele = Electrostatic(res, mol_lig, mol_prot)\n",
      "  File \"/home/tony/CADD22/software/AA-Score-Tool-main/utils/electrostatic.py\", line 36, in __init__\n",
      "    self.pmol_prot = pybel.readstring(\"pdb\", Chem.MolToPDBBlock(mol_prot))\n",
      "  File \"/home/tony/.conda/envs/wocondock/lib/python3.8/site-packages/openbabel/pybel.py\", line 207, in readstring\n",
      "    success = obconversion.ReadString(obmol, string)\n",
      "KeyboardInterrupt\n",
      "Traceback (most recent call last):\n",
      "  File \"/home/tony/CADD22/software/AA-Score-Tool-main/AA_Score.py\", line 358, in <module>\n",
      "    func()\n",
      "  File \"/home/tony/CADD22/software/AA-Score-Tool-main/AA_Score.py\", line 345, in func\n",
      "    calc_batch(mol_prot, mol_ligs, output_file, clf)\n",
      "  File \"/home/tony/CADD22/software/AA-Score-Tool-main/AA_Score.py\", line 282, in calc_batch\n",
      "    score = calc_score(mol_lig, mol_prot, clf)\n",
      "  File \"/home/tony/CADD22/software/AA-Score-Tool-main/AA_Score.py\", line 253, in calc_score\n",
      "    ele_same_dict, ele_opposite_dict = calc_ele_descriptor(\n",
      "  File \"/home/tony/CADD22/software/AA-Score-Tool-main/AA_Score.py\", line 119, in calc_ele_descriptor\n",
      "    ele = Electrostatic(res, mol_lig, mol_prot)\n",
      "  File \"/home/tony/CADD22/software/AA-Score-Tool-main/utils/electrostatic.py\", line 36, in __init__\n",
      "    self.pmol_prot = pybel.readstring(\"pdb\", Chem.MolToPDBBlock(mol_prot))\n",
      "  File \"/home/tony/.conda/envs/wocondock/lib/python3.8/site-packages/openbabel/pybel.py\", line 207, in readstring\n",
      "    success = obconversion.ReadString(obmol, string)\n",
      "KeyboardInterrupt\n"
     ]
    },
    {
     "ename": "KeyboardInterrupt",
     "evalue": "",
     "output_type": "error",
     "traceback": [
      "\u001b[0;31m---------------------------------------------------------------------------\u001b[0m",
      "\u001b[0;31mKeyboardInterrupt\u001b[0m                         Traceback (most recent call last)",
      "Cell \u001b[0;32mIn[2], line 2\u001b[0m\n\u001b[1;32m      1\u001b[0m \u001b[39mfor\u001b[39;00m metric \u001b[39min\u001b[39;00m clustering_metrics:\n\u001b[0;32m----> 2\u001b[0m     rescore_all(w_dir, protein_file, ref_file, software, w_dir\u001b[39m+\u001b[39;49m\u001b[39mf\u001b[39;49m\u001b[39m'\u001b[39;49m\u001b[39m/temp/clustering/\u001b[39;49m\u001b[39m{\u001b[39;49;00mmetric\u001b[39m}\u001b[39;49;00m\u001b[39m_clustered.sdf\u001b[39;49m\u001b[39m'\u001b[39;49m, rescoring_functions, \u001b[39m1\u001b[39;49m, ncpus)\n",
      "File \u001b[0;32m~/CADD22/scripts/rescoring_functions.py:564\u001b[0m, in \u001b[0;36mrescore_all\u001b[0;34m(w_dir, protein_file, ref_file, software, clustered_sdf, functions, mp, ncpus)\u001b[0m\n\u001b[1;32m    562\u001b[0m \u001b[39mfor\u001b[39;00m function \u001b[39min\u001b[39;00m functions:\n\u001b[1;32m    563\u001b[0m     \u001b[39mif\u001b[39;00m os\u001b[39m.\u001b[39mpath\u001b[39m.\u001b[39misdir(rescoring_folder\u001b[39m+\u001b[39m\u001b[39mf\u001b[39m\u001b[39m'\u001b[39m\u001b[39m/\u001b[39m\u001b[39m{\u001b[39;00mfunction\u001b[39m}\u001b[39;00m\u001b[39m_rescoring\u001b[39m\u001b[39m'\u001b[39m) \u001b[39m==\u001b[39m \u001b[39mFalse\u001b[39;00m:\n\u001b[0;32m--> 564\u001b[0m         rescoring_functions[function](clustered_sdf, mp)\n\u001b[1;32m    565\u001b[0m     \u001b[39melse\u001b[39;00m:\n\u001b[1;32m    566\u001b[0m         \u001b[39mprint\u001b[39m(\u001b[39mf\u001b[39m\u001b[39m'\u001b[39m\u001b[39m/\u001b[39m\u001b[39m{\u001b[39;00mfunction\u001b[39m}\u001b[39;00m\u001b[39m_rescoring folder already exists, skipping \u001b[39m\u001b[39m{\u001b[39;00mfunction\u001b[39m}\u001b[39;00m\u001b[39m rescoring\u001b[39m\u001b[39m'\u001b[39m)\n",
      "File \u001b[0;32m~/CADD22/scripts/rescoring_functions.py:537\u001b[0m, in \u001b[0;36mrescore_all.<locals>.AAScore_rescoring\u001b[0;34m(sdf, mp)\u001b[0m\n\u001b[1;32m    535\u001b[0m     \u001b[39mexcept\u001b[39;00m \u001b[39mException\u001b[39;00m \u001b[39mas\u001b[39;00m e:\n\u001b[1;32m    536\u001b[0m         \u001b[39mprint\u001b[39m(\u001b[39m\"\u001b[39m\u001b[39mError in concurrent futures job creation: \u001b[39m\u001b[39m\"\u001b[39m, \u001b[39mstr\u001b[39m(e))\n\u001b[0;32m--> 537\u001b[0m \u001b[39mfor\u001b[39;00m job \u001b[39min\u001b[39;00m tqdm(concurrent\u001b[39m.\u001b[39mfutures\u001b[39m.\u001b[39mas_completed(jobs), total\u001b[39m=\u001b[39m\u001b[39mlen\u001b[39m(split_files_sdfs), desc\u001b[39m=\u001b[39m\u001b[39m'\u001b[39m\u001b[39mRescoring with AAScore\u001b[39m\u001b[39m'\u001b[39m, unit\u001b[39m=\u001b[39m\u001b[39m'\u001b[39m\u001b[39mfile\u001b[39m\u001b[39m'\u001b[39m):\n\u001b[1;32m    538\u001b[0m     \u001b[39mtry\u001b[39;00m:\n\u001b[1;32m    539\u001b[0m         res \u001b[39m=\u001b[39m job\u001b[39m.\u001b[39mresult()\n",
      "File \u001b[0;32m~/.conda/envs/wocondock/lib/python3.8/site-packages/tqdm/std.py:1195\u001b[0m, in \u001b[0;36mtqdm.__iter__\u001b[0;34m(self)\u001b[0m\n\u001b[1;32m   1192\u001b[0m time \u001b[39m=\u001b[39m \u001b[39mself\u001b[39m\u001b[39m.\u001b[39m_time\n\u001b[1;32m   1194\u001b[0m \u001b[39mtry\u001b[39;00m:\n\u001b[0;32m-> 1195\u001b[0m     \u001b[39mfor\u001b[39;00m obj \u001b[39min\u001b[39;00m iterable:\n\u001b[1;32m   1196\u001b[0m         \u001b[39myield\u001b[39;00m obj\n\u001b[1;32m   1197\u001b[0m         \u001b[39m# Update and possibly print the progressbar.\u001b[39;00m\n\u001b[1;32m   1198\u001b[0m         \u001b[39m# Note: does not call self.update(1) for speed optimisation.\u001b[39;00m\n",
      "File \u001b[0;32m~/.conda/envs/wocondock/lib/python3.8/concurrent/futures/_base.py:244\u001b[0m, in \u001b[0;36mas_completed\u001b[0;34m(fs, timeout)\u001b[0m\n\u001b[1;32m    239\u001b[0m     \u001b[39mif\u001b[39;00m wait_timeout \u001b[39m<\u001b[39m \u001b[39m0\u001b[39m:\n\u001b[1;32m    240\u001b[0m         \u001b[39mraise\u001b[39;00m \u001b[39mTimeoutError\u001b[39;00m(\n\u001b[1;32m    241\u001b[0m                 \u001b[39m'\u001b[39m\u001b[39m%d\u001b[39;00m\u001b[39m (of \u001b[39m\u001b[39m%d\u001b[39;00m\u001b[39m) futures unfinished\u001b[39m\u001b[39m'\u001b[39m \u001b[39m%\u001b[39m (\n\u001b[1;32m    242\u001b[0m                 \u001b[39mlen\u001b[39m(pending), total_futures))\n\u001b[0;32m--> 244\u001b[0m waiter\u001b[39m.\u001b[39;49mevent\u001b[39m.\u001b[39;49mwait(wait_timeout)\n\u001b[1;32m    246\u001b[0m \u001b[39mwith\u001b[39;00m waiter\u001b[39m.\u001b[39mlock:\n\u001b[1;32m    247\u001b[0m     finished \u001b[39m=\u001b[39m waiter\u001b[39m.\u001b[39mfinished_futures\n",
      "File \u001b[0;32m~/.conda/envs/wocondock/lib/python3.8/threading.py:558\u001b[0m, in \u001b[0;36mEvent.wait\u001b[0;34m(self, timeout)\u001b[0m\n\u001b[1;32m    556\u001b[0m signaled \u001b[39m=\u001b[39m \u001b[39mself\u001b[39m\u001b[39m.\u001b[39m_flag\n\u001b[1;32m    557\u001b[0m \u001b[39mif\u001b[39;00m \u001b[39mnot\u001b[39;00m signaled:\n\u001b[0;32m--> 558\u001b[0m     signaled \u001b[39m=\u001b[39m \u001b[39mself\u001b[39;49m\u001b[39m.\u001b[39;49m_cond\u001b[39m.\u001b[39;49mwait(timeout)\n\u001b[1;32m    559\u001b[0m \u001b[39mreturn\u001b[39;00m signaled\n",
      "File \u001b[0;32m~/.conda/envs/wocondock/lib/python3.8/threading.py:302\u001b[0m, in \u001b[0;36mCondition.wait\u001b[0;34m(self, timeout)\u001b[0m\n\u001b[1;32m    300\u001b[0m \u001b[39mtry\u001b[39;00m:    \u001b[39m# restore state no matter what (e.g., KeyboardInterrupt)\u001b[39;00m\n\u001b[1;32m    301\u001b[0m     \u001b[39mif\u001b[39;00m timeout \u001b[39mis\u001b[39;00m \u001b[39mNone\u001b[39;00m:\n\u001b[0;32m--> 302\u001b[0m         waiter\u001b[39m.\u001b[39;49macquire()\n\u001b[1;32m    303\u001b[0m         gotit \u001b[39m=\u001b[39m \u001b[39mTrue\u001b[39;00m\n\u001b[1;32m    304\u001b[0m     \u001b[39melse\u001b[39;00m:\n",
      "\u001b[0;31mKeyboardInterrupt\u001b[0m: "
     ]
    }
   ],
   "source": [
    "for metric in clustering_metrics:\n",
    "    rescore_all(w_dir, protein_file, ref_file, software, w_dir+f'/temp/clustering/{metric}_clustered.sdf', rescoring_functions, 1, ncpus)\n"
   ]
  },
  {
   "cell_type": "markdown",
   "metadata": {},
   "source": [
    "**Final ranking methods**\n",
    "\n",
    "This code calculates the final ranking of compounds using various methods.\n",
    "*Method 1* : Calculates ECR value for each cluster center, then outputs the top ranked center.\n",
    "*Method 2* : Calculates ECR value for each cluster center, then outputs the average ECR value for each compound.\n",
    "*Method 3* : Calculates the average rank of each compound, then ouputs the corresponding ECR value for each compound.\n",
    "*Method 6* : Calculates Z-score for each cluster center, then ouputs the top ranked center.\n",
    "*Method 7* : Calculates Z-score for each cluster center, then ouputs the average Z-score for each compound.\n",
    "\n",
    "All methods are then combined into a single dataframe for comparison purposes."
   ]
  },
  {
   "cell_type": "code",
   "execution_count": null,
   "metadata": {},
   "outputs": [],
   "source": [
    "apply_consensus_methods(w_dir, ['bestpose_GNINA', 'bestpose_SMINA', 'bestpose_PLANTS'])"
   ]
  },
  {
   "cell_type": "code",
   "execution_count": null,
   "metadata": {},
   "outputs": [],
   "source": [
    "calculate_EFs(w_dir, docking_library)"
   ]
  },
  {
   "cell_type": "code",
   "execution_count": null,
   "metadata": {},
   "outputs": [],
   "source": [
    "test=pd.read_csv('/home/tony/CADD22/wocondock_main/AAScore_test.csv', delimiter='\\t', header=None, names=['Pose ID', 'AAScore'])\n",
    "display(test.head(10))"
   ]
  }
 ],
 "metadata": {
  "kernelspec": {
   "display_name": "Python 3.8.13 ('wocondock')",
   "language": "python",
   "name": "python3"
  },
  "language_info": {
   "codemirror_mode": {
    "name": "ipython",
    "version": 3
   },
   "file_extension": ".py",
   "mimetype": "text/x-python",
   "name": "python",
   "nbconvert_exporter": "python",
   "pygments_lexer": "ipython3",
   "version": "3.8.13"
  },
  "orig_nbformat": 4,
  "vscode": {
   "interpreter": {
    "hash": "ac9acbc93af693fb4e01b586b9d883cf48eab2850c268069ebbf85c5f9fbe2b9"
   }
  }
 },
 "nbformat": 4,
 "nbformat_minor": 2
}
