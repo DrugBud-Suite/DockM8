{
 "cells": [
  {
   "cell_type": "markdown",
   "metadata": {},
   "source": [
    "**Import required libraries and scripts**"
   ]
  },
  {
   "cell_type": "code",
   "execution_count": 1,
   "metadata": {},
   "outputs": [
    {
     "name": "stderr",
     "output_type": "stream",
     "text": [
      "[10:37:27] Initializing Normalizer\n"
     ]
    },
    {
     "name": "stdout",
     "output_type": "stream",
     "text": [
      "The working directory has been set to: /home/tony/CADD22/wocondock_main\n",
      "The folder: /home/tony/CADD22/wocondock_main/temp already exists\n"
     ]
    }
   ],
   "source": [
    "#Import required libraries and scripts\n",
    "from scripts.library_preparation import *\n",
    "from scripts.utilities import *\n",
    "from scripts.docking_functions import *\n",
    "from scripts.clustering_functions import *\n",
    "from scripts.rescoring_functions import *\n",
    "from scripts.ranking_functions import *\n",
    "from scripts.performance_calculation import *\n",
    "from scripts.dogsitescorer import *\n",
    "from scripts.get_pocket import *\n",
    "import numpy as np\n",
    "import os\n",
    "\n",
    "software = '/home/tony/CADD22/software'\n",
    "protein_file = '/home/tony/CADD22/wocondock_main/2o1x_A_apo_protoss.pdb'\n",
    "ref_file = '/home/tony/CADD22/wocondock_main/2o1x_A_lig_protoss.sdf'\n",
    "docking_library = '/home/tony/CADD22/wocondock_main/Selection_of_FCHGroup_LeadLike.sdf'\n",
    "docking_programs = ['GNINA', 'SMINA', 'PLANTS']\n",
    "clustering_metrics = ['RMSD', 'spyRMSD', 'espsim', '3DScore', 'bestpose', 'bestpose_GNINA', 'bestpose_SMINA', 'bestpose_PLANTS']\n",
    "rescoring_functions = ['gnina', 'AD4', 'chemplp', 'rfscorevs', 'LinF9', 'AAScore']\n",
    "id_column = 'ID'\n",
    "n_poses = 10\n",
    "exhaustiveness = 4\n",
    "ncpus = int(os.cpu_count()/2)\n",
    "#Initialise variables and create a temporary folder\n",
    "w_dir = os.path.dirname(protein_file)\n",
    "print('The working directory has been set to:', w_dir)\n",
    "create_temp_folder(w_dir+'/temp')"
   ]
  },
  {
   "cell_type": "code",
   "execution_count": null,
   "metadata": {},
   "outputs": [],
   "source": [
    "pocket_definition = binding_site_coordinates_dogsitescorer(protein_file, w_dir, method='volume')"
   ]
  },
  {
   "cell_type": "code",
   "execution_count": null,
   "metadata": {},
   "outputs": [],
   "source": [
    "pocket = GetPocket(ref_file, protein_file, 8)"
   ]
  },
  {
   "cell_type": "code",
   "execution_count": null,
   "metadata": {},
   "outputs": [],
   "source": [
    "cleaned_pkasolver_df = prepare_library(docking_library, id_column, software, 'pkasolver')"
   ]
  },
  {
   "cell_type": "code",
   "execution_count": null,
   "metadata": {},
   "outputs": [],
   "source": [
    "all_poses = docking(protein_file, ref_file, software, docking_programs, exhaustiveness, n_poses)"
   ]
  },
  {
   "cell_type": "code",
   "execution_count": null,
   "metadata": {},
   "outputs": [],
   "source": [
    "docking_splitted(w_dir, protein_file, ref_file, software, docking_programs, exhaustiveness, n_poses)"
   ]
  },
  {
   "cell_type": "code",
   "execution_count": null,
   "metadata": {},
   "outputs": [],
   "source": [
    "fetch_poses_splitted(w_dir, n_poses, split_files_folder=w_dir+'/temp/split_final_library')"
   ]
  },
  {
   "cell_type": "code",
   "execution_count": null,
   "metadata": {},
   "outputs": [],
   "source": [
    "print('Loading all poses SDF file...')\n",
    "tic = time.perf_counter()\n",
    "all_poses = PandasTools.LoadSDF(w_dir+'/temp/allposes.sdf', idName='Pose ID', molColName='Molecule', includeFingerprints=False, strictParsing=True)\n",
    "toc = time.perf_counter()\n",
    "print(f'Finished loading all poses SDF in {toc-tic:0.4f}!...')"
   ]
  },
  {
   "cell_type": "code",
   "execution_count": null,
   "metadata": {},
   "outputs": [],
   "source": [
    "for metric in clustering_metrics:\n",
    "    cluster_futures(f'{metric}', 'KMedoids', w_dir, protein_file, all_poses, ncpus)"
   ]
  },
  {
   "cell_type": "markdown",
   "metadata": {},
   "source": [
    "**Rescoring**\n",
    "\n",
    "The file containing all the cluster centers is then rescored using all scoring functions available (GNINA, Vina, AutoDock4, PLP, CHEMPLP, RF-Score-VS). The rescored output is return as a dataframe."
   ]
  },
  {
   "cell_type": "code",
   "execution_count": 2,
   "metadata": {},
   "outputs": [
    {
     "name": "stdout",
     "output_type": "stream",
     "text": [
      "The folder: /home/tony/CADD22/wocondock_main/temp/rescoring_RMSD_clustered already exists\n",
      "/gnina_rescoring folder already exists, skipping gnina rescoring\n",
      "/AD4_rescoring folder already exists, skipping AD4 rescoring\n",
      "/chemplp_rescoring folder already exists, skipping chemplp rescoring\n",
      "/rfscorevs_rescoring folder already exists, skipping rfscorevs rescoring\n",
      "The folder: /home/tony/CADD22/wocondock_main/temp/rescoring_RMSD_clustered/LinF9_rescoring/ was created\n",
      "Splitting RMSD_clustered.sdf...\n",
      "Splitting SDF file RMSD_clustered.sdf ...\n",
      "The folder: /home/tony/CADD22/wocondock_main/temp/rescoring_RMSD_clustered/LinF9_rescoring/split_RMSD_clustered was created\n"
     ]
    },
    {
     "name": "stderr",
     "output_type": "stream",
     "text": [
      "Splitting files: 100%|██████████| 7/7 [00:00<00:00, 329.56it/s]\n"
     ]
    },
    {
     "name": "stdout",
     "output_type": "stream",
     "text": [
      "Split docking library into 7 files each containing 4 compounds\n",
      "Rescoring with LinF9\n"
     ]
    },
    {
     "name": "stderr",
     "output_type": "stream",
     "text": [
      "Submitting LinF9 rescoring jobs: 100%|██████████| 7/7 [00:00<00:00, 118.15file/s]\n",
      "Rescoring with LinF9: 100%|██████████| 7/7 [00:02<00:00,  2.53file/s]\n"
     ]
    },
    {
     "name": "stdout",
     "output_type": "stream",
     "text": [
      "Rescoring with LinF9 complete in 2.9260!\n",
      "/AAScore_rescoring folder already exists, skipping AAScore rescoring\n",
      "Combining all score for /home/tony/CADD22/wocondock_main/temp/rescoring_RMSD_clustered\n"
     ]
    },
    {
     "name": "stderr",
     "output_type": "stream",
     "text": [
      "Combining scores: 100%|██████████| 5/5 [00:00<00:00, 495.25files/s]\n"
     ]
    },
    {
     "name": "stdout",
     "output_type": "stream",
     "text": [
      "Rescoring complete in 2.9554!\n",
      "The folder: /home/tony/CADD22/wocondock_main/temp/rescoring_spyRMSD_clustered already exists\n",
      "/gnina_rescoring folder already exists, skipping gnina rescoring\n",
      "/AD4_rescoring folder already exists, skipping AD4 rescoring\n",
      "/chemplp_rescoring folder already exists, skipping chemplp rescoring\n",
      "/rfscorevs_rescoring folder already exists, skipping rfscorevs rescoring\n",
      "/LinF9_rescoring folder already exists, skipping LinF9 rescoring\n",
      "The folder: /home/tony/CADD22/wocondock_main/temp/rescoring_spyRMSD_clustered/AAScore_rescoring/ was created\n",
      "Splitting spyRMSD_clustered.sdf...\n",
      "Splitting SDF file spyRMSD_clustered.sdf ...\n",
      "The folder: /home/tony/CADD22/wocondock_main/temp/rescoring_spyRMSD_clustered/AAScore_rescoring/split_spyRMSD_clustered was created\n"
     ]
    },
    {
     "name": "stderr",
     "output_type": "stream",
     "text": [
      "Splitting files: 100%|██████████| 8/8 [00:00<00:00, 386.62it/s]\n"
     ]
    },
    {
     "name": "stdout",
     "output_type": "stream",
     "text": [
      "Split docking library into 8 files each containing 4 compounds\n",
      "Rescoring with AAScore\n"
     ]
    },
    {
     "name": "stderr",
     "output_type": "stream",
     "text": [
      "Submitting AAScore rescoring jobs: 100%|██████████| 8/8 [00:00<00:00, 152.51file/s]\n",
      "Rescoring with AAScore:   0%|          | 0/8 [00:03<?, ?file/s]Traceback (most recent call last):\n",
      "Traceback (most recent call last):\n",
      "  File \"/home/tony/CADD22/software/AA-Score-Tool-main/AA_Score.py\", line 358, in <module>\n",
      "  File \"/home/tony/CADD22/software/AA-Score-Tool-main/AA_Score.py\", line 358, in <module>\n",
      "    func()\n",
      "  File \"/home/tony/CADD22/software/AA-Score-Tool-main/AA_Score.py\", line 345, in func\n",
      "    func()\n",
      "  File \"/home/tony/CADD22/software/AA-Score-Tool-main/AA_Score.py\", line 345, in func\n",
      "Traceback (most recent call last):\n",
      "  File \"/home/tony/CADD22/software/AA-Score-Tool-main/AA_Score.py\", line 358, in <module>\n",
      "    calc_batch(mol_prot, mol_ligs, output_file, clf)\n",
      "  File \"/home/tony/CADD22/software/AA-Score-Tool-main/AA_Score.py\", line 282, in calc_batch\n",
      "    calc_batch(mol_prot, mol_ligs, output_file, clf)\n",
      "  File \"/home/tony/CADD22/software/AA-Score-Tool-main/AA_Score.py\", line 282, in calc_batch\n",
      "    score = calc_score(mol_lig, mol_prot, clf)\n",
      "  File \"/home/tony/CADD22/software/AA-Score-Tool-main/AA_Score.py\", line 253, in calc_score\n",
      "    score = calc_score(mol_lig, mol_prot, clf)\n",
      "  File \"/home/tony/CADD22/software/AA-Score-Tool-main/AA_Score.py\", line 253, in calc_score\n",
      "    func()\n",
      "  File \"/home/tony/CADD22/software/AA-Score-Tool-main/AA_Score.py\", line 345, in func\n",
      "    ele_same_dict, ele_opposite_dict = calc_ele_descriptor(\n",
      "  File \"/home/tony/CADD22/software/AA-Score-Tool-main/AA_Score.py\", line 119, in calc_ele_descriptor\n",
      "    ele_same_dict, ele_opposite_dict = calc_ele_descriptor(\n",
      "  File \"/home/tony/CADD22/software/AA-Score-Tool-main/AA_Score.py\", line 119, in calc_ele_descriptor\n",
      "        calc_batch(mol_prot, mol_ligs, output_file, clf)ele = Electrostatic(res, mol_lig, mol_prot)\n",
      "\n",
      "      File \"/home/tony/CADD22/software/AA-Score-Tool-main/AA_Score.py\", line 282, in calc_batch\n",
      "ele = Electrostatic(res, mol_lig, mol_prot)  File \"/home/tony/CADD22/software/AA-Score-Tool-main/utils/electrostatic.py\", line 35, in __init__\n",
      "\n",
      "  File \"/home/tony/CADD22/software/AA-Score-Tool-main/utils/electrostatic.py\", line 42, in __init__\n",
      "    self.main_charges = self.get_partial_charge(self.main_atoms, self.pmol_prot)\n",
      "  File \"/home/tony/CADD22/software/AA-Score-Tool-main/utils/electrostatic.py\", line 60, in get_partial_charge\n",
      "    self.pmol_lig = pybel.readstring(\"pdb\", Chem.MolToPDBBlock(mol_lig))\n",
      "KeyboardInterrupt\n",
      "        patoms = [pmol.atoms[aidx] for aidx in aidxs]\n",
      "  File \"/home/tony/CADD22/software/AA-Score-Tool-main/utils/electrostatic.py\", line 60, in <listcomp>\n",
      "score = calc_score(mol_lig, mol_prot, clf)\n",
      "  File \"/home/tony/CADD22/software/AA-Score-Tool-main/AA_Score.py\", line 253, in calc_score\n",
      "    patoms = [pmol.atoms[aidx] for aidx in aidxs]\n",
      "  File \"/home/tony/.conda/envs/wocondock/lib/python3.8/site-packages/openbabel/pybel.py\", line 331, in atoms\n",
      "    ele_same_dict, ele_opposite_dict = calc_ele_descriptor(\n",
      "  File \"/home/tony/CADD22/software/AA-Score-Tool-main/AA_Score.py\", line 120, in calc_ele_descriptor\n",
      "    restype = res.residue_name\n",
      "    KeyboardInterruptreturn [Atom(self.OBMol.GetAtom(i + 1))\n",
      "\n",
      "  File \"/home/tony/.conda/envs/wocondock/lib/python3.8/site-packages/openbabel/pybel.py\", line 331, in <listcomp>\n",
      "    return [Atom(self.OBMol.GetAtom(i + 1))\n",
      "  File \"/home/tony/.conda/envs/wocondock/lib/python3.8/site-packages/openbabel/pybel.py\", line 729, in __init__\n",
      "    def __init__(self, OBAtom):\n",
      "KeyboardInterrupt\n",
      "\n",
      "Traceback (most recent call last):\n",
      "  File \"/home/tony/CADD22/software/AA-Score-Tool-main/AA_Score.py\", line 358, in <module>\n",
      "    func()\n",
      "  File \"/home/tony/CADD22/software/AA-Score-Tool-main/AA_Score.py\", line 345, in func\n",
      "    calc_batch(mol_prot, mol_ligs, output_file, clf)\n",
      "  File \"/home/tony/CADD22/software/AA-Score-Tool-main/AA_Score.py\", line 282, in calc_batch\n",
      "    score = calc_score(mol_lig, mol_prot, clf)\n",
      "  File \"/home/tony/CADD22/software/AA-Score-Tool-main/AA_Score.py\", line 253, in calc_score\n",
      "    ele_same_dict, ele_opposite_dict = calc_ele_descriptor(\n",
      "  File \"/home/tony/CADD22/software/AA-Score-Tool-main/AA_Score.py\", line 119, in calc_ele_descriptor\n",
      "    ele = Electrostatic(res, mol_lig, mol_prot)\n",
      "  File \"/home/tony/CADD22/software/AA-Score-Tool-main/utils/electrostatic.py\", line 36, in __init__\n",
      "    self.pmol_prot = pybel.readstring(\"pdb\", Chem.MolToPDBBlock(mol_prot))\n",
      "  File \"/home/tony/.conda/envs/wocondock/lib/python3.8/site-packages/openbabel/pybel.py\", line 207, in readstring\n",
      "    success = obconversion.ReadString(obmol, string)\n",
      "KeyboardInterrupt\n"
     ]
    }
   ],
   "source": [
    "for metric in clustering_metrics:\n",
    "    rescore_all(w_dir, protein_file, ref_file, software, w_dir+f'/temp/clustering/{metric}_clustered.sdf', rescoring_functions, 1, ncpus)\n"
   ]
  },
  {
   "cell_type": "markdown",
   "metadata": {},
   "source": [
    "**Final ranking methods**\n",
    "\n",
    "This code calculates the final ranking of compounds using various methods.\n",
    "*Method 1* : Calculates ECR value for each cluster center, then outputs the top ranked center.\n",
    "*Method 2* : Calculates ECR value for each cluster center, then outputs the average ECR value for each compound.\n",
    "*Method 3* : Calculates the average rank of each compound, then ouputs the corresponding ECR value for each compound.\n",
    "*Method 6* : Calculates Z-score for each cluster center, then ouputs the top ranked center.\n",
    "*Method 7* : Calculates Z-score for each cluster center, then ouputs the average Z-score for each compound.\n",
    "\n",
    "All methods are then combined into a single dataframe for comparison purposes."
   ]
  },
  {
   "cell_type": "code",
   "execution_count": null,
   "metadata": {},
   "outputs": [],
   "source": [
    "apply_consensus_methods(w_dir, ['bestpose_GNINA', 'bestpose_SMINA', 'bestpose_PLANTS'])"
   ]
  },
  {
   "cell_type": "code",
   "execution_count": null,
   "metadata": {},
   "outputs": [],
   "source": [
    "calculate_EFs(w_dir, docking_library)"
   ]
  },
  {
   "cell_type": "code",
   "execution_count": null,
   "metadata": {},
   "outputs": [],
   "source": [
    "test=pd.read_csv('/home/tony/CADD22/wocondock_main/AAScore_test.csv', delimiter='\\t', header=None, names=['Pose ID', 'AAScore'])\n",
    "display(test.head(10))"
   ]
  }
 ],
 "metadata": {
  "kernelspec": {
   "display_name": "Python 3.8.13 ('wocondock')",
   "language": "python",
   "name": "python3"
  },
  "language_info": {
   "codemirror_mode": {
    "name": "ipython",
    "version": 3
   },
   "file_extension": ".py",
   "mimetype": "text/x-python",
   "name": "python",
   "nbconvert_exporter": "python",
   "pygments_lexer": "ipython3",
   "version": "3.8.13"
  },
  "orig_nbformat": 4,
  "vscode": {
   "interpreter": {
    "hash": "ac9acbc93af693fb4e01b586b9d883cf48eab2850c268069ebbf85c5f9fbe2b9"
   }
  }
 },
 "nbformat": 4,
 "nbformat_minor": 2
}
