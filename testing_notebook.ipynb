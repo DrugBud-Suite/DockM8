{
 "cells": [
  {
   "cell_type": "markdown",
   "metadata": {},
   "source": [
    "**Import required libraries and scripts**"
   ]
  },
  {
   "cell_type": "code",
   "execution_count": 20,
   "metadata": {},
   "outputs": [
    {
     "name": "stdout",
     "output_type": "stream",
     "text": [
      "The working directory has been set to: /home/tony/CADD22/wocondock_performance_aldr\n",
      "The folder: /home/tony/CADD22/wocondock_performance_aldr/temp already exists\n"
     ]
    }
   ],
   "source": [
    "#Import required libraries and scripts\n",
    "from scripts.library_preparation import *\n",
    "from scripts.utilities import *\n",
    "from scripts.docking_functions import *\n",
    "from scripts.clustering_functions import *\n",
    "from scripts.rescoring_functions import *\n",
    "from scripts.ranking_functions import *\n",
    "from scripts.performance_calculation import *\n",
    "from scripts.dogsitescorer import *\n",
    "from scripts.get_pocket import *\n",
    "import numpy as np\n",
    "import os\n",
    "\n",
    "software = '/home/tony/CADD22/software'\n",
    "protein_file = '/home/tony/CADD22/wocondock_performance_aldr/receptor_protoss_prepared.pdb'\n",
    "ref_file = '/home/tony/CADD22/wocondock_performance_aldr/crystal_ligand_protoss.sdf'\n",
    "docking_library = '/home/tony/CADD22/wocondock_performance_aldr/merged_actives_decoys.sdf'\n",
    "docking_programs = ['GNINA', 'SMINA', 'PLANTS']\n",
    "clustering_metrics = ['RMSD', 'spyRMSD', 'espsim', '3DScore', 'bestpose', 'bestpose_GNINA', 'bestpose_SMINA', 'bestpose_PLANTS']\n",
    "rescoring_functions = ['gnina', 'AD4', 'chemplp', 'rfscorevs', 'LinF9']\n",
    "id_column = 'ID'\n",
    "n_poses = 10\n",
    "exhaustiveness = 4\n",
    "ncpus = int(os.cpu_count()/2)\n",
    "#Initialise variables and create a temporary folder\n",
    "w_dir = os.path.dirname(protein_file)\n",
    "print('The working directory has been set to:', w_dir)\n",
    "create_temp_folder(w_dir+'/temp')"
   ]
  },
  {
   "cell_type": "code",
   "execution_count": null,
   "metadata": {},
   "outputs": [],
   "source": [
    "pocket_definition = binding_site_coordinates_dogsitescorer(protein_file, w_dir, method='volume')"
   ]
  },
  {
   "cell_type": "code",
   "execution_count": null,
   "metadata": {},
   "outputs": [],
   "source": [
    "pocket = GetPocket(ref_file, protein_file, 8)"
   ]
  },
  {
   "cell_type": "code",
   "execution_count": null,
   "metadata": {},
   "outputs": [],
   "source": [
    "cleaned_pkasolver_df = prepare_library(docking_library, id_column, software, 'pkasolver')"
   ]
  },
  {
   "cell_type": "code",
   "execution_count": null,
   "metadata": {},
   "outputs": [],
   "source": [
    "all_poses = docking(protein_file, ref_file, software, docking_programs, exhaustiveness, n_poses)"
   ]
  },
  {
   "cell_type": "code",
   "execution_count": null,
   "metadata": {},
   "outputs": [],
   "source": [
    "docking_splitted(w_dir, protein_file, ref_file, software, docking_programs, exhaustiveness, n_poses)"
   ]
  },
  {
   "cell_type": "code",
   "execution_count": null,
   "metadata": {},
   "outputs": [],
   "source": [
    "fetch_poses_splitted(w_dir, n_poses, split_files_folder=w_dir+'/temp/split_final_library')"
   ]
  },
  {
   "cell_type": "code",
   "execution_count": null,
   "metadata": {},
   "outputs": [],
   "source": [
    "print('Loading all poses SDF file...')\n",
    "tic = time.perf_counter()\n",
    "all_poses = PandasTools.LoadSDF(w_dir+'/temp/allposes.sdf', idName='Pose ID', molColName='Molecule', includeFingerprints=False, strictParsing=True)\n",
    "toc = time.perf_counter()\n",
    "print(f'Finished loading all poses SDF in {toc-tic:0.4f}!...')"
   ]
  },
  {
   "cell_type": "code",
   "execution_count": null,
   "metadata": {},
   "outputs": [],
   "source": [
    "for metric in clustering_metrics:\n",
    "    cluster_futures(f'{metric}', 'KMedoids', w_dir, protein_file, all_poses, ncpus)"
   ]
  },
  {
   "cell_type": "markdown",
   "metadata": {},
   "source": [
    "**Rescoring**\n",
    "\n",
    "The file containing all the cluster centers is then rescored using all scoring functions available (GNINA, Vina, AutoDock4, PLP, CHEMPLP, RF-Score-VS). The rescored output is return as a dataframe."
   ]
  },
  {
   "cell_type": "code",
   "execution_count": 21,
   "metadata": {},
   "outputs": [
    {
     "name": "stdout",
     "output_type": "stream",
     "text": [
      "The folder: /home/tony/CADD22/wocondock_performance_aldr/temp/rescoring_RMSD_clustered already exists\n",
      "/gnina_rescoring folder already exists, skipping gnina rescoring\n",
      "/AD4_rescoring folder already exists, skipping AD4 rescoring\n",
      "/chemplp_rescoring folder already exists, skipping chemplp rescoring\n",
      "/rfscorevs_rescoring folder already exists, skipping rfscorevs rescoring\n",
      "/LinF9_rescoring folder already exists, skipping LinF9 rescoring\n",
      "Combining all score for /home/tony/CADD22/wocondock_performance_aldr/temp/rescoring_RMSD_clustered\n"
     ]
    },
    {
     "name": "stderr",
     "output_type": "stream",
     "text": [
      "Combining scores: 100%|██████████| 4/4 [00:00<00:00, 51.08files/s]\n"
     ]
    },
    {
     "name": "stdout",
     "output_type": "stream",
     "text": [
      "Rescoring complete in 0.7230!\n",
      "The folder: /home/tony/CADD22/wocondock_performance_aldr/temp/rescoring_spyRMSD_clustered already exists\n",
      "/gnina_rescoring folder already exists, skipping gnina rescoring\n",
      "/AD4_rescoring folder already exists, skipping AD4 rescoring\n",
      "/chemplp_rescoring folder already exists, skipping chemplp rescoring\n",
      "/rfscorevs_rescoring folder already exists, skipping rfscorevs rescoring\n",
      "/LinF9_rescoring folder already exists, skipping LinF9 rescoring\n",
      "Combining all score for /home/tony/CADD22/wocondock_performance_aldr/temp/rescoring_spyRMSD_clustered\n"
     ]
    },
    {
     "name": "stderr",
     "output_type": "stream",
     "text": [
      "Combining scores: 100%|██████████| 4/4 [00:00<00:00, 40.59files/s]\n"
     ]
    },
    {
     "name": "stdout",
     "output_type": "stream",
     "text": [
      "Rescoring complete in 0.7531!\n",
      "The folder: /home/tony/CADD22/wocondock_performance_aldr/temp/rescoring_espsim_clustered already exists\n",
      "/gnina_rescoring folder already exists, skipping gnina rescoring\n",
      "/AD4_rescoring folder already exists, skipping AD4 rescoring\n",
      "/chemplp_rescoring folder already exists, skipping chemplp rescoring\n",
      "/rfscorevs_rescoring folder already exists, skipping rfscorevs rescoring\n",
      "/LinF9_rescoring folder already exists, skipping LinF9 rescoring\n",
      "Combining all score for /home/tony/CADD22/wocondock_performance_aldr/temp/rescoring_espsim_clustered\n"
     ]
    },
    {
     "name": "stderr",
     "output_type": "stream",
     "text": [
      "Combining scores: 100%|██████████| 4/4 [00:00<00:00, 73.06files/s]\n"
     ]
    },
    {
     "name": "stdout",
     "output_type": "stream",
     "text": [
      "Rescoring complete in 0.5849!\n",
      "The folder: /home/tony/CADD22/wocondock_performance_aldr/temp/rescoring_3DScore_clustered already exists\n",
      "/gnina_rescoring folder already exists, skipping gnina rescoring\n",
      "/AD4_rescoring folder already exists, skipping AD4 rescoring\n",
      "/chemplp_rescoring folder already exists, skipping chemplp rescoring\n",
      "/rfscorevs_rescoring folder already exists, skipping rfscorevs rescoring\n",
      "/LinF9_rescoring folder already exists, skipping LinF9 rescoring\n",
      "Combining all score for /home/tony/CADD22/wocondock_performance_aldr/temp/rescoring_3DScore_clustered\n"
     ]
    },
    {
     "name": "stderr",
     "output_type": "stream",
     "text": [
      "Combining scores: 100%|██████████| 4/4 [00:00<00:00, 181.37files/s]\n"
     ]
    },
    {
     "name": "stdout",
     "output_type": "stream",
     "text": [
      "Rescoring complete in 0.2522!\n",
      "The folder: /home/tony/CADD22/wocondock_performance_aldr/temp/rescoring_bestpose_clustered already exists\n",
      "/gnina_rescoring folder already exists, skipping gnina rescoring\n",
      "/AD4_rescoring folder already exists, skipping AD4 rescoring\n",
      "/chemplp_rescoring folder already exists, skipping chemplp rescoring\n",
      "/rfscorevs_rescoring folder already exists, skipping rfscorevs rescoring\n",
      "/LinF9_rescoring folder already exists, skipping LinF9 rescoring\n",
      "Combining all score for /home/tony/CADD22/wocondock_performance_aldr/temp/rescoring_bestpose_clustered\n"
     ]
    },
    {
     "name": "stderr",
     "output_type": "stream",
     "text": [
      "Combining scores: 100%|██████████| 4/4 [00:00<00:00, 47.08files/s]\n"
     ]
    },
    {
     "name": "stdout",
     "output_type": "stream",
     "text": [
      "Rescoring complete in 0.7408!\n",
      "The folder: /home/tony/CADD22/wocondock_performance_aldr/temp/rescoring_bestpose_GNINA_clustered already exists\n",
      "/gnina_rescoring folder already exists, skipping gnina rescoring\n",
      "/AD4_rescoring folder already exists, skipping AD4 rescoring\n",
      "/chemplp_rescoring folder already exists, skipping chemplp rescoring\n",
      "/rfscorevs_rescoring folder already exists, skipping rfscorevs rescoring\n",
      "/LinF9_rescoring folder already exists, skipping LinF9 rescoring\n",
      "Combining all score for /home/tony/CADD22/wocondock_performance_aldr/temp/rescoring_bestpose_GNINA_clustered\n"
     ]
    },
    {
     "name": "stderr",
     "output_type": "stream",
     "text": [
      "Combining scores: 100%|██████████| 4/4 [00:00<00:00, 165.62files/s]\n"
     ]
    },
    {
     "name": "stdout",
     "output_type": "stream",
     "text": [
      "Rescoring complete in 0.2785!\n",
      "The folder: /home/tony/CADD22/wocondock_performance_aldr/temp/rescoring_bestpose_SMINA_clustered already exists\n",
      "/gnina_rescoring folder already exists, skipping gnina rescoring\n",
      "/AD4_rescoring folder already exists, skipping AD4 rescoring\n",
      "/chemplp_rescoring folder already exists, skipping chemplp rescoring\n",
      "/rfscorevs_rescoring folder already exists, skipping rfscorevs rescoring\n",
      "/LinF9_rescoring folder already exists, skipping LinF9 rescoring\n",
      "Combining all score for /home/tony/CADD22/wocondock_performance_aldr/temp/rescoring_bestpose_SMINA_clustered\n"
     ]
    },
    {
     "name": "stderr",
     "output_type": "stream",
     "text": [
      "Combining scores: 100%|██████████| 4/4 [00:00<00:00, 108.31files/s]\n"
     ]
    },
    {
     "name": "stdout",
     "output_type": "stream",
     "text": [
      "Rescoring complete in 0.3494!\n",
      "The folder: /home/tony/CADD22/wocondock_performance_aldr/temp/rescoring_bestpose_PLANTS_clustered already exists\n",
      "/gnina_rescoring folder already exists, skipping gnina rescoring\n",
      "/AD4_rescoring folder already exists, skipping AD4 rescoring\n",
      "/chemplp_rescoring folder already exists, skipping chemplp rescoring\n",
      "/rfscorevs_rescoring folder already exists, skipping rfscorevs rescoring\n",
      "/LinF9_rescoring folder already exists, skipping LinF9 rescoring\n",
      "Combining all score for /home/tony/CADD22/wocondock_performance_aldr/temp/rescoring_bestpose_PLANTS_clustered\n"
     ]
    },
    {
     "name": "stderr",
     "output_type": "stream",
     "text": [
      "Combining scores: 100%|██████████| 4/4 [00:00<00:00, 156.49files/s]\n"
     ]
    },
    {
     "name": "stdout",
     "output_type": "stream",
     "text": [
      "Rescoring complete in 0.3214!\n"
     ]
    }
   ],
   "source": [
    "for metric in clustering_metrics:\n",
    "    rescore_all(w_dir, protein_file, ref_file, software, w_dir+f'/temp/clustering/{metric}_clustered.sdf', rescoring_functions, 1, ncpus)"
   ]
  },
  {
   "cell_type": "markdown",
   "metadata": {},
   "source": [
    "**Final ranking methods**\n",
    "\n",
    "This code calculates the final ranking of compounds using various methods.\n",
    "*Method 1* : Calculates ECR value for each cluster center, then outputs the top ranked center.\n",
    "*Method 2* : Calculates ECR value for each cluster center, then outputs the average ECR value for each compound.\n",
    "*Method 3* : Calculates the average rank of each compound, then ouputs the corresponding ECR value for each compound.\n",
    "*Method 6* : Calculates Z-score for each cluster center, then ouputs the top ranked center.\n",
    "*Method 7* : Calculates Z-score for each cluster center, then ouputs the average Z-score for each compound.\n",
    "\n",
    "All methods are then combined into a single dataframe for comparison purposes."
   ]
  },
  {
   "cell_type": "code",
   "execution_count": 22,
   "metadata": {},
   "outputs": [
    {
     "name": "stdout",
     "output_type": "stream",
     "text": [
      "The folder: /home/tony/CADD22/wocondock_performance_aldr/temp/ranking already exists\n",
      "The folder: /home/tony/CADD22/wocondock_performance_aldr/temp/consensus already exists\n"
     ]
    }
   ],
   "source": [
    "apply_consensus_methods(w_dir, clustering_metrics)"
   ]
  },
  {
   "cell_type": "code",
   "execution_count": 23,
   "metadata": {},
   "outputs": [],
   "source": [
    "calculate_EFs(w_dir, docking_library)"
   ]
  },
  {
   "cell_type": "code",
   "execution_count": 24,
   "metadata": {},
   "outputs": [
    {
     "name": "stdout",
     "output_type": "stream",
     "text": [
      "/home/tony/CADD22/wocondock_performance_cdk2/temp/consensus\n",
      "/home/tony/CADD22/wocondock_performance_ace/temp/consensus\n",
      "/home/tony/CADD22/wocondock_performance_aldr/temp/consensus\n",
      "/home/tony/CADD22/xiap/temp/consensus\n",
      "/home/tony/CADD22/wocondock_performance_andr/temp/consensus\n"
     ]
    },
    {
     "data": {
      "text/html": [
       "<div>\n",
       "<style scoped>\n",
       "    .dataframe tbody tr th:only-of-type {\n",
       "        vertical-align: middle;\n",
       "    }\n",
       "\n",
       "    .dataframe tbody tr th {\n",
       "        vertical-align: top;\n",
       "    }\n",
       "\n",
       "    .dataframe thead th {\n",
       "        text-align: right;\n",
       "    }\n",
       "</style>\n",
       "<table border=\"1\" class=\"dataframe\">\n",
       "  <thead>\n",
       "    <tr style=\"text-align: right;\">\n",
       "      <th></th>\n",
       "      <th>Method</th>\n",
       "      <th>EF10%</th>\n",
       "      <th>cdk2</th>\n",
       "      <th>ace</th>\n",
       "      <th>aldr</th>\n",
       "      <th>xiap</th>\n",
       "      <th>andr</th>\n",
       "    </tr>\n",
       "  </thead>\n",
       "  <tbody>\n",
       "    <tr>\n",
       "      <th>0</th>\n",
       "      <td>AAScore_S_3DScore</td>\n",
       "      <td>2.20</td>\n",
       "      <td>0.00</td>\n",
       "      <td>4.61</td>\n",
       "      <td>0.00</td>\n",
       "      <td>0.00</td>\n",
       "      <td>0.00</td>\n",
       "    </tr>\n",
       "    <tr>\n",
       "      <th>1</th>\n",
       "      <td>AAScore_S_RMSD</td>\n",
       "      <td>1.45</td>\n",
       "      <td>0.00</td>\n",
       "      <td>2.84</td>\n",
       "      <td>0.00</td>\n",
       "      <td>0.00</td>\n",
       "      <td>0.00</td>\n",
       "    </tr>\n",
       "    <tr>\n",
       "      <th>2</th>\n",
       "      <td>AAScore_S_bestpose</td>\n",
       "      <td>1.70</td>\n",
       "      <td>0.00</td>\n",
       "      <td>3.55</td>\n",
       "      <td>0.00</td>\n",
       "      <td>0.00</td>\n",
       "      <td>0.00</td>\n",
       "    </tr>\n",
       "    <tr>\n",
       "      <th>3</th>\n",
       "      <td>AAScore_S_bestpose_GNINA</td>\n",
       "      <td>1.91</td>\n",
       "      <td>0.00</td>\n",
       "      <td>2.83</td>\n",
       "      <td>0.00</td>\n",
       "      <td>0.00</td>\n",
       "      <td>0.00</td>\n",
       "    </tr>\n",
       "    <tr>\n",
       "      <th>4</th>\n",
       "      <td>AAScore_S_bestpose_PLANTS</td>\n",
       "      <td>1.35</td>\n",
       "      <td>0.00</td>\n",
       "      <td>3.92</td>\n",
       "      <td>0.00</td>\n",
       "      <td>0.00</td>\n",
       "      <td>0.00</td>\n",
       "    </tr>\n",
       "    <tr>\n",
       "      <th>...</th>\n",
       "      <td>...</td>\n",
       "      <td>...</td>\n",
       "      <td>...</td>\n",
       "      <td>...</td>\n",
       "      <td>...</td>\n",
       "      <td>...</td>\n",
       "      <td>...</td>\n",
       "    </tr>\n",
       "    <tr>\n",
       "      <th>115</th>\n",
       "      <td>RFScoreVS_S_bestpose_GNINA</td>\n",
       "      <td>22.65</td>\n",
       "      <td>12.08</td>\n",
       "      <td>13.09</td>\n",
       "      <td>17.68</td>\n",
       "      <td>1.01</td>\n",
       "      <td>15.70</td>\n",
       "    </tr>\n",
       "    <tr>\n",
       "      <th>116</th>\n",
       "      <td>RFScoreVS_S_bestpose_PLANTS</td>\n",
       "      <td>28.45</td>\n",
       "      <td>10.76</td>\n",
       "      <td>11.75</td>\n",
       "      <td>30.96</td>\n",
       "      <td>3.40</td>\n",
       "      <td>36.83</td>\n",
       "    </tr>\n",
       "    <tr>\n",
       "      <th>117</th>\n",
       "      <td>RFScoreVS_S_bestpose_SMINA</td>\n",
       "      <td>31.96</td>\n",
       "      <td>11.68</td>\n",
       "      <td>17.33</td>\n",
       "      <td>15.15</td>\n",
       "      <td>43.78</td>\n",
       "      <td>29.65</td>\n",
       "    </tr>\n",
       "    <tr>\n",
       "      <th>118</th>\n",
       "      <td>RFScoreVS_S_espsim</td>\n",
       "      <td>30.21</td>\n",
       "      <td>14.33</td>\n",
       "      <td>10.29</td>\n",
       "      <td>15.81</td>\n",
       "      <td>21.46</td>\n",
       "      <td>27.23</td>\n",
       "    </tr>\n",
       "    <tr>\n",
       "      <th>119</th>\n",
       "      <td>RFScoreVS_S_spyRMSD</td>\n",
       "      <td>33.07</td>\n",
       "      <td>13.91</td>\n",
       "      <td>13.84</td>\n",
       "      <td>25.92</td>\n",
       "      <td>35.91</td>\n",
       "      <td>33.94</td>\n",
       "    </tr>\n",
       "  </tbody>\n",
       "</table>\n",
       "<p>120 rows × 7 columns</p>\n",
       "</div>"
      ],
      "text/plain": [
       "                          Method  EF10%   cdk2    ace   aldr   xiap   andr\n",
       "0              AAScore_S_3DScore   2.20   0.00   4.61   0.00   0.00   0.00\n",
       "1                 AAScore_S_RMSD   1.45   0.00   2.84   0.00   0.00   0.00\n",
       "2             AAScore_S_bestpose   1.70   0.00   3.55   0.00   0.00   0.00\n",
       "3       AAScore_S_bestpose_GNINA   1.91   0.00   2.83   0.00   0.00   0.00\n",
       "4      AAScore_S_bestpose_PLANTS   1.35   0.00   3.92   0.00   0.00   0.00\n",
       "..                           ...    ...    ...    ...    ...    ...    ...\n",
       "115   RFScoreVS_S_bestpose_GNINA  22.65  12.08  13.09  17.68   1.01  15.70\n",
       "116  RFScoreVS_S_bestpose_PLANTS  28.45  10.76  11.75  30.96   3.40  36.83\n",
       "117   RFScoreVS_S_bestpose_SMINA  31.96  11.68  17.33  15.15  43.78  29.65\n",
       "118           RFScoreVS_S_espsim  30.21  14.33  10.29  15.81  21.46  27.23\n",
       "119          RFScoreVS_S_spyRMSD  33.07  13.91  13.84  25.92  35.91  33.94\n",
       "\n",
       "[120 rows x 7 columns]"
      ]
     },
     "metadata": {},
     "output_type": "display_data"
    }
   ],
   "source": [
    "dfs = []\n",
    "for root, dirs, files in os.walk('/home/tony/CADD22/'):\n",
    "    for file in files:\n",
    "        if file == 'enrichement_factors.csv':\n",
    "            file_path = os.path.join(root, file)\n",
    "            print(root)\n",
    "            df = pd.read_csv(file_path)\n",
    "            df = df.rename(columns={df.columns[0]: 'Method'})\n",
    "            df = df.rename(columns={'EF1%': root.replace('/home/tony/CADD22/', '').replace('wocondock_performance_', '').replace('/temp/consensus', '')})\n",
    "            dfs.append(df)\n",
    "merged_df = pd.concat(dfs, axis=0, ignore_index=True)\n",
    "merged_df = merged_df.groupby('Method', as_index=False).sum()\n",
    "display(merged_df)\n",
    "merged_df.to_csv('/home/tony/CADD22/results.csv', index=None)"
   ]
  }
 ],
 "metadata": {
  "kernelspec": {
   "display_name": "Python 3.8.13 ('wocondock')",
   "language": "python",
   "name": "python3"
  },
  "language_info": {
   "codemirror_mode": {
    "name": "ipython",
    "version": 3
   },
   "file_extension": ".py",
   "mimetype": "text/x-python",
   "name": "python",
   "nbconvert_exporter": "python",
   "pygments_lexer": "ipython3",
   "version": "3.8.13"
  },
  "orig_nbformat": 4,
  "vscode": {
   "interpreter": {
    "hash": "ac9acbc93af693fb4e01b586b9d883cf48eab2850c268069ebbf85c5f9fbe2b9"
   }
  }
 },
 "nbformat": 4,
 "nbformat_minor": 2
}
