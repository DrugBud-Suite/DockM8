{
 "cells": [
  {
   "attachments": {},
   "cell_type": "markdown",
   "metadata": {},
   "source": [
    "**Import required libraries and scripts**"
   ]
  },
  {
   "cell_type": "code",
   "execution_count": 1,
   "metadata": {},
   "outputs": [
    {
     "name": "stderr",
     "output_type": "stream",
     "text": [
      "[19:49:28] Initializing Normalizer\n",
      "/home/tony/.conda/envs/dockm8/lib/python3.10/site-packages/matplotlib/__init__.py:152: DeprecationWarning: distutils Version classes are deprecated. Use packaging.version instead.\n",
      "  if LooseVersion(module.__version__) < minver:\n",
      "/home/tony/.conda/envs/dockm8/lib/python3.10/site-packages/setuptools/_distutils/version.py:345: DeprecationWarning: distutils Version classes are deprecated. Use packaging.version instead.\n",
      "  other = LooseVersion(other)\n",
      "/home/tony/.conda/envs/dockm8/lib/python3.10/site-packages/sklearn_extra/cluster/_commonnn.py:18: DeprecationWarning: distutils Version classes are deprecated. Use packaging.version instead.\n",
      "  if LooseVersion(sklearn.__version__) < LooseVersion(\"0.23.0\"):\n",
      "/home/tony/.conda/envs/dockm8/lib/python3.10/site-packages/tqdm/auto.py:21: TqdmWarning: IProgress not found. Please update jupyter and ipywidgets. See https://ipywidgets.readthedocs.io/en/stable/user_install.html\n",
      "  from .autonotebook import tqdm as notebook_tqdm\n",
      "/home/tony/.conda/envs/dockm8/lib/python3.10/site-packages/MDAnalysis/coordinates/chemfiles.py:108: DeprecationWarning: distutils Version classes are deprecated. Use packaging.version instead.\n",
      "  MIN_CHEMFILES_VERSION = LooseVersion(\"0.9\")\n",
      "[TRJ.py:171 - <module>()] netCDF4 is not available. Writing AMBER ncdf files will be slow.\n",
      "/home/tony/.conda/envs/dockm8/lib/python3.10/site-packages/MDAnalysis/coordinates/TRJ.py:1209: DeprecationWarning: Please use `netcdf_file` from the `scipy.io` namespace, the `scipy.io.netcdf` namespace is deprecated.\n",
      "  class NCDFPicklable(scipy.io.netcdf.netcdf_file):\n",
      "/home/tony/.conda/envs/dockm8/lib/python3.10/site-packages/biopandas/pdb/pandas_pdb.py:27: DeprecationWarning: distutils Version classes are deprecated. Use packaging.version instead.\n",
      "  pd_version = LooseVersion(pd.__version__)\n"
     ]
    }
   ],
   "source": [
    "#Import required libraries and scripts\n",
    "from scripts.library_preparation import *\n",
    "from scripts.utilities import *\n",
    "from scripts.docking_functions import *\n",
    "from scripts.clustering_functions import *\n",
    "from scripts.rescoring_functions import *\n",
    "from scripts.consensus_methods import *\n",
    "from scripts.performance_calculation import *\n",
    "from scripts.dogsitescorer import *\n",
    "from scripts.get_pocket import *\n"
   ]
  },
  {
   "cell_type": "code",
   "execution_count": 2,
   "metadata": {},
   "outputs": [
    {
     "name": "stdout",
     "output_type": "stream",
     "text": [
      "The working directory has been set to: /home/tony/DockM8/wocondock_main\n",
      "\n",
      "[2023-Oct-23 19:49:32]: Extracting pocket from /home/tony/DockM8/wocondock_main/protein.pdb using /home/tony/DockM8/wocondock_main/ref.sdf as reference ligand\n",
      "\n",
      "[2023-Oct-23 19:49:49]: Finished extracting pocket from /home/tony/DockM8/wocondock_main/protein.pdb using /home/tony/DockM8/wocondock_main/ref.sdf as reference ligand\n",
      "{'center': [16.7, -2.69, 17.61], 'size': [16.0, 16.0, 16.0]}\n"
     ]
    },
    {
     "name": "stderr",
     "output_type": "stream",
     "text": [
      "/home/tony/.conda/envs/dockm8/lib/python3.10/site-packages/biopandas/pdb/pandas_pdb.py:631: DeprecationWarning: distutils Version classes are deprecated. Use packaging.version instead.\n",
      "  if pd_version < LooseVersion(\"0.17.0\"):\n",
      "/home/tony/.conda/envs/dockm8/lib/python3.10/site-packages/biopandas/pdb/pandas_pdb.py:641: DeprecationWarning: distutils Version classes are deprecated. Use packaging.version instead.\n",
      "  elif pd_version < LooseVersion(\"0.23.0\"):\n"
     ]
    }
   ],
   "source": [
    "software = Path('/home/tony/DockM8/software')\n",
    "protein_file = Path('/home/tony/DockM8/wocondock_main/protein.pdb')\n",
    "ref_file = Path('/home/tony/DockM8/wocondock_main/ref.sdf')\n",
    "docking_library = Path('/home/tony/DockM8/wocondock_main/library.sdf')\n",
    "docking_programs = ['GNINA', 'SMINA', 'PLANTS', 'QVINAW', 'QVINA2']\n",
    "clustering_metrics = ['spyRMSD', 'espsim', '3DScore', 'bestpose', 'bestpose_GNINA', 'bestpose_SMINA', 'bestpose_PLANTS', 'bestpose_QVINAW', 'bestpose_QVINA2']\n",
    "rescoring_functions = ['gnina', 'AD4', 'chemplp', 'rfscorevs', 'LinF9', 'SCORCH', 'vinardo', 'plecscore', 'nnscore', 'KORPL', 'ConvexPLR', 'RTMScore', 'AAScore']\n",
    "id_column = 'ID'\n",
    "n_poses = 10\n",
    "exhaustiveness = 8\n",
    "protonation = 'pkasolver'\n",
    "# ncpus = int(os.cpu_count()-2)\n",
    "ncpus = 5\n",
    "pocket = 'reference'\n",
    "#Create a temporary folder for all further calculations\n",
    "w_dir = protein_file.parent\n",
    "print('The working directory has been set to:', w_dir)\n",
    "(w_dir / 'temp').mkdir(parents=True, exist_ok=True)\n",
    "if pocket == 'reference':\n",
    "    pocket_definition = get_pocket(ref_file, protein_file, 8)\n",
    "    print(pocket_definition)\n",
    "elif pocket == 'dogsitescorer':\n",
    "    pocket_definition = binding_site_coordinates_dogsitescorer(protein_file, w_dir, method='volume')"
   ]
  },
  {
   "cell_type": "code",
   "execution_count": null,
   "metadata": {},
   "outputs": [],
   "source": [
    "if (w_dir / 'temp' / 'final_library.sdf').is_file() == False:\n",
    "    prepare_library(docking_library, id_column, software, protonation, ncpus)"
   ]
  },
  {
   "cell_type": "code",
   "execution_count": null,
   "metadata": {},
   "outputs": [],
   "source": [
    "docking(w_dir, protein_file, pocket_definition, software, docking_programs, exhaustiveness, n_poses, 5)"
   ]
  },
  {
   "cell_type": "code",
   "execution_count": null,
   "metadata": {},
   "outputs": [],
   "source": [
    "print('Loading all poses SDF file...')\n",
    "tic = time.perf_counter()\n",
    "all_poses = PandasTools.LoadSDF(str(w_dir / 'temp' / 'allposes.sdf'), idName='Pose ID', molColName='Molecule', includeFingerprints=False, strictParsing=True)\n",
    "toc = time.perf_counter()\n",
    "print(f'Finished loading all poses SDF in {toc-tic:0.4f}!...')"
   ]
  },
  {
   "cell_type": "code",
   "execution_count": null,
   "metadata": {},
   "outputs": [],
   "source": [
    "for metric in clustering_metrics:\n",
    "        if os.path.isfile(w_dir/'temp'/'clustering/'f'{metric}_clustered.sdf') == False:\n",
    "            cluster_pebble(metric, 'KMedoids', w_dir, protein_file, all_poses, ncpus)"
   ]
  },
  {
   "cell_type": "code",
   "execution_count": 3,
   "metadata": {},
   "outputs": [
    {
     "name": "stdout",
     "output_type": "stream",
     "text": [
      "\n",
      "[2023-Oct-23 19:49:49]: Skipping functions: gnina, AD4, chemplp, rfscorevs, LinF9, SCORCH, vinardo, plecscore, nnscore, KORPL, ConvexPLR\n",
      "\n",
      "[2023-Oct-23 19:49:49]: Combining all scores for /home/tony/DockM8/wocondock_main/temp/rescoring_spyRMSD_clustered\n"
     ]
    },
    {
     "name": "stderr",
     "output_type": "stream",
     "text": [
      "Combining scores: 100%|██████████| 10/10 [00:00<00:00, 482.21files/s]\n"
     ]
    },
    {
     "name": "stdout",
     "output_type": "stream",
     "text": [
      "\n",
      "[2023-Oct-23 19:49:49]: Rescoring complete in 0.0512!\n",
      "Splitting SDF file espsim_clustered.sdf ...\n"
     ]
    },
    {
     "name": "stderr",
     "output_type": "stream",
     "text": [
      "Splitting files: 100%|██████████| 9/9 [00:00<00:00, 346.95it/s]"
     ]
    },
    {
     "name": "stdout",
     "output_type": "stream",
     "text": [
      "Split docking library into 9 files each containing 3 compounds\n"
     ]
    },
    {
     "name": "stderr",
     "output_type": "stream",
     "text": [
      "\n",
      "100%|██████████| 9/9 [00:04<00:00,  2.03it/s]\n"
     ]
    },
    {
     "name": "stdout",
     "output_type": "stream",
     "text": [
      "\n",
      "[2023-Oct-23 19:49:53]: Rescoring with GNINA complete in 4.6147!\n",
      "\n",
      "[2023-Oct-23 19:49:53]: Rescoring with AD4\n",
      "\n",
      "[2023-Oct-23 19:49:54]: Rescoring with AD4 complete in 0.9207!\n",
      "\n",
      "[2023-Oct-23 19:49:54]: Rescoring with CHEMPLP\n",
      "\n",
      "[2023-Oct-23 19:49:54]: Converting protein file to .mol2 format for PLANTS docking...\n"
     ]
    },
    {
     "name": "stderr",
     "output_type": "stream",
     "text": [
      "25 molecules converted\n"
     ]
    },
    {
     "name": "stdout",
     "output_type": "stream",
     "text": [
      "\n",
      "[2023-Oct-23 19:49:56]: Rescoring with CHEMPLP complete in 1.7832!\n",
      "\n",
      "[2023-Oct-23 19:49:56]: Rescoring with RFScoreVS\n",
      "\n",
      "[2023-Oct-23 19:50:05]: Rescoring with RFScoreVS complete in 9.0803!\n",
      "Splitting SDF file espsim_clustered.sdf ...\n"
     ]
    },
    {
     "name": "stderr",
     "output_type": "stream",
     "text": [
      "Splitting files: 100%|██████████| 9/9 [00:00<00:00, 379.33it/s]"
     ]
    },
    {
     "name": "stdout",
     "output_type": "stream",
     "text": [
      "Split docking library into 9 files each containing 3 compounds\n"
     ]
    },
    {
     "name": "stderr",
     "output_type": "stream",
     "text": [
      "\n",
      "100%|██████████| 9/9 [00:03<00:00,  2.40it/s]\n"
     ]
    },
    {
     "name": "stdout",
     "output_type": "stream",
     "text": [
      "\n",
      "[2023-Oct-23 19:50:09]: Rescoring with LinF9 complete in 3.9603!\n",
      "\n",
      "[2023-Oct-23 19:50:09]: Converting protein file to .pdbqt ...\n",
      "\n",
      "[2023-Oct-23 19:50:49]: Converting SDF file espsim_clustered.sdf to .pdbqt files...\n",
      "Converted 25 molecules.\n",
      "\n",
      "[2023-Oct-23 19:50:49]: Rescoring with SCORCH\n",
      "\n",
      "[2023-Oct-23 19:51:11]: Rescoring with SCORCH complete in 62.1067!\n",
      "\n",
      "[2023-Oct-23 19:51:11]: Rescoring with Vinardo\n",
      "\n",
      "[2023-Oct-23 19:51:12]: Rescoring with Vinardo complete in 0.7529!\n",
      "\n",
      "[2023-Oct-23 19:51:12]: Rescoring with PLECscore\n"
     ]
    },
    {
     "name": "stderr",
     "output_type": "stream",
     "text": [
      "/home/tony/.conda/envs/dockm8/lib/python3.10/site-packages/sklearn/base.py:329: UserWarning: Trying to unpickle estimator MLPRegressor from version 1.2.2 when using version 1.0.2. This might lead to breaking code or invalid results. Use at your own risk. For more info please refer to:\n",
      "https://scikit-learn.org/stable/modules/model_persistence.html#security-maintainability-limitations\n",
      "  warnings.warn(\n",
      "/home/tony/.conda/envs/dockm8/lib/python3.10/site-packages/oddt/virtualscreening.py:348: UserWarning: The chunksize (100) seams to be to large.\n",
      "  warnings.warn('The chunksize (%i) seams to be to large.'\n"
     ]
    },
    {
     "name": "stdout",
     "output_type": "stream",
     "text": [
      "\n",
      "[2023-Oct-23 19:51:29]: Rescoring with PLECScore complete in 17.1480!\n",
      "\n",
      "[2023-Oct-23 19:51:29]: Rescoring with NNscore\n",
      "\n",
      "[2023-Oct-23 19:51:42]: Rescoring with NNscore complete in 13.3530!\n",
      "Splitting SDF file espsim_clustered.sdf ...\n"
     ]
    },
    {
     "name": "stderr",
     "output_type": "stream",
     "text": [
      "Splitting files: 100%|██████████| 9/9 [00:00<00:00, 668.04it/s]"
     ]
    },
    {
     "name": "stdout",
     "output_type": "stream",
     "text": [
      "Split docking library into 9 files each containing 3 compounds\n"
     ]
    },
    {
     "name": "stderr",
     "output_type": "stream",
     "text": [
      "\n",
      "100%|██████████| 9/9 [00:00<00:00, 63.95it/s]\n"
     ]
    },
    {
     "name": "stdout",
     "output_type": "stream",
     "text": [
      "Combining KORPL scores\n",
      "\n",
      "[2023-Oct-23 19:51:43]: Rescoring with KORPL complete in 0.3060!\n",
      "Splitting SDF file espsim_clustered.sdf ...\n"
     ]
    },
    {
     "name": "stderr",
     "output_type": "stream",
     "text": [
      "Splitting files: 100%|██████████| 9/9 [00:00<00:00, 664.03it/s]"
     ]
    },
    {
     "name": "stdout",
     "output_type": "stream",
     "text": [
      "Split docking library into 9 files each containing 3 compounds\n"
     ]
    },
    {
     "name": "stderr",
     "output_type": "stream",
     "text": [
      "\n",
      "100%|██████████| 9/9 [00:00<00:00, 42.48it/s]\n"
     ]
    },
    {
     "name": "stdout",
     "output_type": "stream",
     "text": [
      "\n",
      "[2023-Oct-23 19:51:43]: Rescoring with ConvexPLR complete in 0.3776!\n",
      "\n",
      "[2023-Oct-23 19:51:43]: Combining all scores for /home/tony/DockM8/wocondock_main/temp/rescoring_espsim_clustered\n"
     ]
    },
    {
     "name": "stderr",
     "output_type": "stream",
     "text": [
      "Combining scores: 100%|██████████| 10/10 [00:00<00:00, 529.22files/s]\n"
     ]
    },
    {
     "name": "stdout",
     "output_type": "stream",
     "text": [
      "\n",
      "[2023-Oct-23 19:51:43]: Rescoring complete in 114.4584!\n",
      "Splitting SDF file 3DScore_clustered.sdf ...\n"
     ]
    },
    {
     "name": "stderr",
     "output_type": "stream",
     "text": [
      "Splitting files: 100%|██████████| 10/10 [00:00<00:00, 728.92it/s]"
     ]
    },
    {
     "name": "stdout",
     "output_type": "stream",
     "text": [
      "Split docking library into 10 files each containing 1 compounds\n"
     ]
    },
    {
     "name": "stderr",
     "output_type": "stream",
     "text": [
      "\n",
      "100%|██████████| 10/10 [00:04<00:00,  2.47it/s]\n"
     ]
    },
    {
     "name": "stdout",
     "output_type": "stream",
     "text": [
      "\n",
      "[2023-Oct-23 19:51:47]: Rescoring with GNINA complete in 4.2235!\n",
      "\n",
      "[2023-Oct-23 19:51:47]: Rescoring with AD4\n",
      "\n",
      "[2023-Oct-23 19:51:48]: Rescoring with AD4 complete in 0.7561!\n",
      "\n",
      "[2023-Oct-23 19:51:48]: Rescoring with CHEMPLP\n",
      "\n",
      "[2023-Oct-23 19:51:48]: Converting protein file to .mol2 format for PLANTS docking...\n"
     ]
    },
    {
     "name": "stderr",
     "output_type": "stream",
     "text": [
      "10 molecules converted\n"
     ]
    },
    {
     "name": "stdout",
     "output_type": "stream",
     "text": [
      "\n",
      "[2023-Oct-23 19:51:54]: Rescoring with CHEMPLP complete in 6.3202!\n",
      "\n",
      "[2023-Oct-23 19:51:55]: Rescoring with RFScoreVS\n",
      "\n",
      "[2023-Oct-23 19:52:56]: Rescoring with RFScoreVS complete in 61.3930!\n",
      "Splitting SDF file 3DScore_clustered.sdf ...\n"
     ]
    },
    {
     "name": "stderr",
     "output_type": "stream",
     "text": [
      "Splitting files: 100%|██████████| 10/10 [00:00<00:00, 77.01it/s]"
     ]
    },
    {
     "name": "stdout",
     "output_type": "stream",
     "text": [
      "Split docking library into 10 files each containing 1 compounds\n"
     ]
    },
    {
     "name": "stderr",
     "output_type": "stream",
     "text": [
      "\n",
      "100%|██████████| 10/10 [00:04<00:00,  2.03it/s]\n"
     ]
    },
    {
     "name": "stdout",
     "output_type": "stream",
     "text": [
      "\n",
      "[2023-Oct-23 19:53:02]: Rescoring with LinF9 complete in 5.8525!\n",
      "\n",
      "[2023-Oct-23 19:53:02]: Converting protein file to .pdbqt ...\n",
      "\n",
      "[2023-Oct-23 19:53:33]: Converting SDF file 3DScore_clustered.sdf to .pdbqt files...\n",
      "Converted 10 molecules.\n",
      "\n",
      "[2023-Oct-23 19:53:34]: Rescoring with SCORCH\n",
      "\n",
      "[2023-Oct-23 19:53:50]: Rescoring with SCORCH complete in 48.2460!\n",
      "\n",
      "[2023-Oct-23 19:53:50]: Rescoring with Vinardo\n",
      "\n",
      "[2023-Oct-23 19:53:51]: Rescoring with Vinardo complete in 0.6683!\n",
      "\n",
      "[2023-Oct-23 19:53:51]: Rescoring with PLECscore\n"
     ]
    },
    {
     "name": "stderr",
     "output_type": "stream",
     "text": [
      "/home/tony/.conda/envs/dockm8/lib/python3.10/site-packages/sklearn/base.py:329: UserWarning: Trying to unpickle estimator MLPRegressor from version 1.2.2 when using version 1.0.2. This might lead to breaking code or invalid results. Use at your own risk. For more info please refer to:\n",
      "https://scikit-learn.org/stable/modules/model_persistence.html#security-maintainability-limitations\n",
      "  warnings.warn(\n",
      "/home/tony/.conda/envs/dockm8/lib/python3.10/site-packages/oddt/virtualscreening.py:348: UserWarning: The chunksize (100) seams to be to large.\n",
      "  warnings.warn('The chunksize (%i) seams to be to large.'\n"
     ]
    },
    {
     "name": "stdout",
     "output_type": "stream",
     "text": [
      "\n",
      "[2023-Oct-23 19:54:06]: Rescoring with PLECScore complete in 15.8144!\n",
      "\n",
      "[2023-Oct-23 19:54:06]: Rescoring with NNscore\n",
      "\n",
      "[2023-Oct-23 19:54:19]: Rescoring with NNscore complete in 12.5905!\n",
      "Splitting SDF file 3DScore_clustered.sdf ...\n"
     ]
    },
    {
     "name": "stderr",
     "output_type": "stream",
     "text": [
      "Splitting files: 100%|██████████| 10/10 [00:00<00:00, 1059.70it/s]"
     ]
    },
    {
     "name": "stdout",
     "output_type": "stream",
     "text": [
      "Split docking library into 10 files each containing 1 compounds\n"
     ]
    },
    {
     "name": "stderr",
     "output_type": "stream",
     "text": [
      "\n",
      "100%|██████████| 10/10 [00:00<00:00, 65.69it/s]\n"
     ]
    },
    {
     "name": "stdout",
     "output_type": "stream",
     "text": [
      "Combining KORPL scores\n",
      "\n",
      "[2023-Oct-23 19:54:19]: Rescoring with KORPL complete in 0.3162!\n",
      "Splitting SDF file 3DScore_clustered.sdf ...\n"
     ]
    },
    {
     "name": "stderr",
     "output_type": "stream",
     "text": [
      "Splitting files: 100%|██████████| 10/10 [00:00<00:00, 1018.11it/s]"
     ]
    },
    {
     "name": "stdout",
     "output_type": "stream",
     "text": [
      "Split docking library into 10 files each containing 1 compounds\n"
     ]
    },
    {
     "name": "stderr",
     "output_type": "stream",
     "text": [
      "\n",
      "100%|██████████| 10/10 [00:00<00:00, 46.33it/s]\n"
     ]
    },
    {
     "name": "stdout",
     "output_type": "stream",
     "text": [
      "\n",
      "[2023-Oct-23 19:54:20]: Rescoring with ConvexPLR complete in 0.3626!\n",
      "\n",
      "[2023-Oct-23 19:54:20]: Combining all scores for /home/tony/DockM8/wocondock_main/temp/rescoring_3DScore_clustered\n"
     ]
    },
    {
     "name": "stderr",
     "output_type": "stream",
     "text": [
      "Combining scores: 100%|██████████| 10/10 [00:00<00:00, 494.94files/s]\n"
     ]
    },
    {
     "name": "stdout",
     "output_type": "stream",
     "text": [
      "\n",
      "[2023-Oct-23 19:54:20]: Rescoring complete in 156.6025!\n",
      "Splitting SDF file bestpose_clustered.sdf ...\n"
     ]
    },
    {
     "name": "stderr",
     "output_type": "stream",
     "text": [
      "Splitting files: 100%|██████████| 10/10 [00:00<00:00, 336.66it/s]"
     ]
    },
    {
     "name": "stdout",
     "output_type": "stream",
     "text": [
      "Split docking library into 10 files each containing 5 compounds\n"
     ]
    },
    {
     "name": "stderr",
     "output_type": "stream",
     "text": [
      "\n",
      "100%|██████████| 10/10 [00:05<00:00,  1.80it/s]\n"
     ]
    },
    {
     "name": "stdout",
     "output_type": "stream",
     "text": [
      "\n",
      "[2023-Oct-23 19:54:26]: Rescoring with GNINA complete in 5.7746!\n",
      "\n",
      "[2023-Oct-23 19:54:26]: Rescoring with AD4\n",
      "\n",
      "[2023-Oct-23 19:54:26]: Rescoring with AD4 complete in 0.8729!\n",
      "\n",
      "[2023-Oct-23 19:54:26]: Rescoring with CHEMPLP\n",
      "\n",
      "[2023-Oct-23 19:54:26]: Converting protein file to .mol2 format for PLANTS docking...\n"
     ]
    },
    {
     "name": "stderr",
     "output_type": "stream",
     "text": [
      "50 molecules converted\n"
     ]
    },
    {
     "name": "stdout",
     "output_type": "stream",
     "text": [
      "\n",
      "[2023-Oct-23 19:54:28]: Rescoring with CHEMPLP complete in 1.3109!\n",
      "\n",
      "[2023-Oct-23 19:54:28]: Rescoring with RFScoreVS\n",
      "\n",
      "[2023-Oct-23 19:54:34]: Rescoring with RFScoreVS complete in 6.6654!\n",
      "Splitting SDF file bestpose_clustered.sdf ...\n"
     ]
    },
    {
     "name": "stderr",
     "output_type": "stream",
     "text": [
      "Splitting files: 100%|██████████| 10/10 [00:00<00:00, 466.83it/s]"
     ]
    },
    {
     "name": "stdout",
     "output_type": "stream",
     "text": [
      "Split docking library into 10 files each containing 5 compounds\n"
     ]
    },
    {
     "name": "stderr",
     "output_type": "stream",
     "text": [
      "\n",
      "100%|██████████| 10/10 [00:03<00:00,  2.85it/s]\n"
     ]
    },
    {
     "name": "stdout",
     "output_type": "stream",
     "text": [
      "\n",
      "[2023-Oct-23 19:54:38]: Rescoring with LinF9 complete in 3.6971!\n",
      "\n",
      "[2023-Oct-23 19:54:38]: Converting protein file to .pdbqt ...\n",
      "\n",
      "[2023-Oct-23 19:55:09]: Converting SDF file bestpose_clustered.sdf to .pdbqt files...\n",
      "Converted 50 molecules.\n",
      "\n",
      "[2023-Oct-23 19:55:09]: Rescoring with SCORCH\n",
      "\n",
      "[2023-Oct-23 19:55:49]: Rescoring with SCORCH complete in 71.3510!\n",
      "\n",
      "[2023-Oct-23 19:55:49]: Rescoring with Vinardo\n",
      "\n",
      "[2023-Oct-23 19:55:50]: Rescoring with Vinardo complete in 0.8014!\n",
      "\n",
      "[2023-Oct-23 19:55:50]: Rescoring with PLECscore\n"
     ]
    },
    {
     "name": "stderr",
     "output_type": "stream",
     "text": [
      "/home/tony/.conda/envs/dockm8/lib/python3.10/site-packages/sklearn/base.py:329: UserWarning: Trying to unpickle estimator MLPRegressor from version 1.2.2 when using version 1.0.2. This might lead to breaking code or invalid results. Use at your own risk. For more info please refer to:\n",
      "https://scikit-learn.org/stable/modules/model_persistence.html#security-maintainability-limitations\n",
      "  warnings.warn(\n",
      "/home/tony/.conda/envs/dockm8/lib/python3.10/site-packages/oddt/virtualscreening.py:348: UserWarning: The chunksize (100) seams to be to large.\n",
      "  warnings.warn('The chunksize (%i) seams to be to large.'\n"
     ]
    },
    {
     "name": "stdout",
     "output_type": "stream",
     "text": [
      "\n",
      "[2023-Oct-23 19:56:13]: Rescoring with PLECScore complete in 22.6025!\n",
      "\n",
      "[2023-Oct-23 19:56:13]: Rescoring with NNscore\n",
      "\n",
      "[2023-Oct-23 19:56:29]: Rescoring with NNscore complete in 15.8811!\n",
      "Splitting SDF file bestpose_clustered.sdf ...\n"
     ]
    },
    {
     "name": "stderr",
     "output_type": "stream",
     "text": [
      "Splitting files: 100%|██████████| 10/10 [00:00<00:00, 427.15it/s]"
     ]
    },
    {
     "name": "stdout",
     "output_type": "stream",
     "text": [
      "Split docking library into 10 files each containing 5 compounds\n"
     ]
    },
    {
     "name": "stderr",
     "output_type": "stream",
     "text": [
      "\n",
      "100%|██████████| 10/10 [00:00<00:00, 57.62it/s]\n"
     ]
    },
    {
     "name": "stdout",
     "output_type": "stream",
     "text": [
      "Combining KORPL scores\n",
      "\n",
      "[2023-Oct-23 19:56:29]: Rescoring with KORPL complete in 0.3632!\n",
      "Splitting SDF file bestpose_clustered.sdf ...\n"
     ]
    },
    {
     "name": "stderr",
     "output_type": "stream",
     "text": [
      "Splitting files: 100%|██████████| 10/10 [00:00<00:00, 304.29it/s]"
     ]
    },
    {
     "name": "stdout",
     "output_type": "stream",
     "text": [
      "Split docking library into 10 files each containing 5 compounds\n"
     ]
    },
    {
     "name": "stderr",
     "output_type": "stream",
     "text": [
      "\n",
      "100%|██████████| 10/10 [00:00<00:00, 35.99it/s]\n"
     ]
    },
    {
     "name": "stdout",
     "output_type": "stream",
     "text": [
      "\n",
      "[2023-Oct-23 19:56:30]: Rescoring with ConvexPLR complete in 0.5105!\n",
      "\n",
      "[2023-Oct-23 19:56:30]: Combining all scores for /home/tony/DockM8/wocondock_main/temp/rescoring_bestpose_clustered\n"
     ]
    },
    {
     "name": "stderr",
     "output_type": "stream",
     "text": [
      "Combining scores: 100%|██████████| 10/10 [00:00<00:00, 393.78files/s]\n"
     ]
    },
    {
     "name": "stdout",
     "output_type": "stream",
     "text": [
      "\n",
      "[2023-Oct-23 19:56:30]: Rescoring complete in 129.8946!\n",
      "Splitting SDF file bestpose_GNINA_clustered.sdf ...\n"
     ]
    },
    {
     "name": "stderr",
     "output_type": "stream",
     "text": [
      "Splitting files: 100%|██████████| 10/10 [00:00<00:00, 807.79it/s]"
     ]
    },
    {
     "name": "stdout",
     "output_type": "stream",
     "text": [
      "Split docking library into 10 files each containing 1 compounds\n"
     ]
    },
    {
     "name": "stderr",
     "output_type": "stream",
     "text": [
      "\n",
      "100%|██████████| 10/10 [00:04<00:00,  2.14it/s]\n"
     ]
    },
    {
     "name": "stdout",
     "output_type": "stream",
     "text": [
      "\n",
      "[2023-Oct-23 19:56:35]: Rescoring with GNINA complete in 4.8278!\n",
      "\n",
      "[2023-Oct-23 19:56:35]: Rescoring with AD4\n",
      "\n",
      "[2023-Oct-23 19:56:36]: Rescoring with AD4 complete in 1.0930!\n",
      "\n",
      "[2023-Oct-23 19:56:36]: Rescoring with CHEMPLP\n",
      "\n",
      "[2023-Oct-23 19:56:36]: Converting protein file to .mol2 format for PLANTS docking...\n"
     ]
    },
    {
     "name": "stderr",
     "output_type": "stream",
     "text": [
      "10 molecules converted\n"
     ]
    },
    {
     "name": "stdout",
     "output_type": "stream",
     "text": [
      "\n",
      "[2023-Oct-23 19:56:37]: Rescoring with CHEMPLP complete in 1.4459!\n",
      "\n",
      "[2023-Oct-23 19:56:37]: Rescoring with RFScoreVS\n",
      "\n",
      "[2023-Oct-23 19:56:44]: Rescoring with RFScoreVS complete in 6.9933!\n",
      "Splitting SDF file bestpose_GNINA_clustered.sdf ...\n"
     ]
    },
    {
     "name": "stderr",
     "output_type": "stream",
     "text": [
      "Splitting files: 100%|██████████| 10/10 [00:00<00:00, 991.87it/s]"
     ]
    },
    {
     "name": "stdout",
     "output_type": "stream",
     "text": [
      "Split docking library into 10 files each containing 1 compounds\n"
     ]
    },
    {
     "name": "stderr",
     "output_type": "stream",
     "text": [
      "\n",
      "100%|██████████| 10/10 [00:03<00:00,  2.66it/s]\n"
     ]
    },
    {
     "name": "stdout",
     "output_type": "stream",
     "text": [
      "\n",
      "[2023-Oct-23 19:56:48]: Rescoring with LinF9 complete in 3.9254!\n",
      "\n",
      "[2023-Oct-23 19:56:48]: Converting protein file to .pdbqt ...\n",
      "\n",
      "[2023-Oct-23 19:57:20]: Converting SDF file bestpose_GNINA_clustered.sdf to .pdbqt files...\n",
      "Converted 10 molecules.\n",
      "\n",
      "[2023-Oct-23 19:57:20]: Rescoring with SCORCH\n",
      "\n",
      "[2023-Oct-23 19:57:40]: Rescoring with SCORCH complete in 51.7884!\n",
      "\n",
      "[2023-Oct-23 19:57:40]: Rescoring with Vinardo\n",
      "\n",
      "[2023-Oct-23 19:57:41]: Rescoring with Vinardo complete in 0.7272!\n",
      "\n",
      "[2023-Oct-23 19:57:41]: Rescoring with PLECscore\n"
     ]
    },
    {
     "name": "stderr",
     "output_type": "stream",
     "text": [
      "/home/tony/.conda/envs/dockm8/lib/python3.10/site-packages/sklearn/base.py:329: UserWarning: Trying to unpickle estimator MLPRegressor from version 1.2.2 when using version 1.0.2. This might lead to breaking code or invalid results. Use at your own risk. For more info please refer to:\n",
      "https://scikit-learn.org/stable/modules/model_persistence.html#security-maintainability-limitations\n",
      "  warnings.warn(\n",
      "/home/tony/.conda/envs/dockm8/lib/python3.10/site-packages/oddt/virtualscreening.py:348: UserWarning: The chunksize (100) seams to be to large.\n",
      "  warnings.warn('The chunksize (%i) seams to be to large.'\n"
     ]
    },
    {
     "name": "stdout",
     "output_type": "stream",
     "text": [
      "\n",
      "[2023-Oct-23 19:57:58]: Rescoring with PLECScore complete in 17.9124!\n",
      "\n",
      "[2023-Oct-23 19:57:58]: Rescoring with NNscore\n",
      "\n",
      "[2023-Oct-23 19:58:13]: Rescoring with NNscore complete in 14.5701!\n",
      "Splitting SDF file bestpose_GNINA_clustered.sdf ...\n"
     ]
    },
    {
     "name": "stderr",
     "output_type": "stream",
     "text": [
      "Splitting files: 100%|██████████| 10/10 [00:00<00:00, 967.37it/s]"
     ]
    },
    {
     "name": "stdout",
     "output_type": "stream",
     "text": [
      "Split docking library into 10 files each containing 1 compounds\n"
     ]
    },
    {
     "name": "stderr",
     "output_type": "stream",
     "text": [
      "\n",
      "100%|██████████| 10/10 [00:00<00:00, 71.08it/s]\n"
     ]
    },
    {
     "name": "stdout",
     "output_type": "stream",
     "text": [
      "Combining KORPL scores\n",
      "\n",
      "[2023-Oct-23 19:58:13]: Rescoring with KORPL complete in 0.2998!\n",
      "Splitting SDF file bestpose_GNINA_clustered.sdf ...\n"
     ]
    },
    {
     "name": "stderr",
     "output_type": "stream",
     "text": [
      "Splitting files: 100%|██████████| 10/10 [00:00<00:00, 997.03it/s]"
     ]
    },
    {
     "name": "stdout",
     "output_type": "stream",
     "text": [
      "Split docking library into 10 files each containing 1 compounds\n"
     ]
    },
    {
     "name": "stderr",
     "output_type": "stream",
     "text": [
      "\n",
      "100%|██████████| 10/10 [00:00<00:00, 57.61it/s]\n"
     ]
    },
    {
     "name": "stdout",
     "output_type": "stream",
     "text": [
      "\n",
      "[2023-Oct-23 19:58:14]: Rescoring with ConvexPLR complete in 0.3348!\n",
      "\n",
      "[2023-Oct-23 19:58:14]: Combining all scores for /home/tony/DockM8/wocondock_main/temp/rescoring_bestpose_GNINA_clustered\n"
     ]
    },
    {
     "name": "stderr",
     "output_type": "stream",
     "text": [
      "Combining scores: 100%|██████████| 10/10 [00:00<00:00, 476.57files/s]\n"
     ]
    },
    {
     "name": "stdout",
     "output_type": "stream",
     "text": [
      "\n",
      "[2023-Oct-23 19:58:14]: Rescoring complete in 103.9761!\n",
      "Splitting SDF file bestpose_SMINA_clustered.sdf ...\n"
     ]
    },
    {
     "name": "stderr",
     "output_type": "stream",
     "text": [
      "Splitting files: 100%|██████████| 10/10 [00:00<00:00, 711.37it/s]"
     ]
    },
    {
     "name": "stdout",
     "output_type": "stream",
     "text": [
      "Split docking library into 10 files each containing 1 compounds\n"
     ]
    },
    {
     "name": "stderr",
     "output_type": "stream",
     "text": [
      "\n",
      "100%|██████████| 10/10 [00:04<00:00,  2.15it/s]\n"
     ]
    },
    {
     "name": "stdout",
     "output_type": "stream",
     "text": [
      "\n",
      "[2023-Oct-23 19:58:19]: Rescoring with GNINA complete in 4.8637!\n",
      "\n",
      "[2023-Oct-23 19:58:19]: Rescoring with AD4\n",
      "\n",
      "[2023-Oct-23 19:58:20]: Rescoring with AD4 complete in 1.0424!\n",
      "\n",
      "[2023-Oct-23 19:58:20]: Rescoring with CHEMPLP\n",
      "\n",
      "[2023-Oct-23 19:58:20]: Converting protein file to .mol2 format for PLANTS docking...\n"
     ]
    },
    {
     "name": "stderr",
     "output_type": "stream",
     "text": [
      "10 molecules converted\n"
     ]
    },
    {
     "name": "stdout",
     "output_type": "stream",
     "text": [
      "\n",
      "[2023-Oct-23 19:58:21]: Rescoring with CHEMPLP complete in 1.4967!\n",
      "\n",
      "[2023-Oct-23 19:58:21]: Rescoring with RFScoreVS\n",
      "\n",
      "[2023-Oct-23 19:58:28]: Rescoring with RFScoreVS complete in 6.8387!\n",
      "Splitting SDF file bestpose_SMINA_clustered.sdf ...\n"
     ]
    },
    {
     "name": "stderr",
     "output_type": "stream",
     "text": [
      "Splitting files: 100%|██████████| 10/10 [00:00<00:00, 1137.53it/s]"
     ]
    },
    {
     "name": "stdout",
     "output_type": "stream",
     "text": [
      "Split docking library into 10 files each containing 1 compounds\n"
     ]
    },
    {
     "name": "stderr",
     "output_type": "stream",
     "text": [
      "\n",
      "100%|██████████| 10/10 [00:04<00:00,  2.43it/s]\n"
     ]
    },
    {
     "name": "stdout",
     "output_type": "stream",
     "text": [
      "\n",
      "[2023-Oct-23 19:58:32]: Rescoring with LinF9 complete in 4.2629!\n",
      "\n",
      "[2023-Oct-23 19:58:32]: Converting protein file to .pdbqt ...\n",
      "\n",
      "[2023-Oct-23 19:59:05]: Converting SDF file bestpose_SMINA_clustered.sdf to .pdbqt files...\n",
      "Converted 10 molecules.\n",
      "\n",
      "[2023-Oct-23 19:59:05]: Rescoring with SCORCH\n",
      "\n",
      "[2023-Oct-23 19:59:24]: Rescoring with SCORCH complete in 51.8161!\n",
      "\n",
      "[2023-Oct-23 19:59:24]: Rescoring with Vinardo\n",
      "\n",
      "[2023-Oct-23 19:59:25]: Rescoring with Vinardo complete in 0.7034!\n",
      "\n",
      "[2023-Oct-23 19:59:25]: Rescoring with PLECscore\n"
     ]
    },
    {
     "name": "stderr",
     "output_type": "stream",
     "text": [
      "/home/tony/.conda/envs/dockm8/lib/python3.10/site-packages/sklearn/base.py:329: UserWarning: Trying to unpickle estimator MLPRegressor from version 1.2.2 when using version 1.0.2. This might lead to breaking code or invalid results. Use at your own risk. For more info please refer to:\n",
      "https://scikit-learn.org/stable/modules/model_persistence.html#security-maintainability-limitations\n",
      "  warnings.warn(\n",
      "/home/tony/.conda/envs/dockm8/lib/python3.10/site-packages/oddt/virtualscreening.py:348: UserWarning: The chunksize (100) seams to be to large.\n",
      "  warnings.warn('The chunksize (%i) seams to be to large.'\n"
     ]
    },
    {
     "name": "stdout",
     "output_type": "stream",
     "text": [
      "\n",
      "[2023-Oct-23 19:59:43]: Rescoring with PLECScore complete in 18.5406!\n",
      "\n",
      "[2023-Oct-23 19:59:43]: Rescoring with NNscore\n",
      "\n",
      "[2023-Oct-23 20:00:03]: Rescoring with NNscore complete in 20.1095!\n",
      "Splitting SDF file bestpose_SMINA_clustered.sdf ...\n"
     ]
    },
    {
     "name": "stderr",
     "output_type": "stream",
     "text": [
      "Splitting files: 100%|██████████| 10/10 [00:00<00:00, 944.09it/s]"
     ]
    },
    {
     "name": "stdout",
     "output_type": "stream",
     "text": [
      "Split docking library into 10 files each containing 1 compounds\n"
     ]
    },
    {
     "name": "stderr",
     "output_type": "stream",
     "text": [
      "\n",
      "100%|██████████| 10/10 [00:00<00:00, 82.71it/s]\n"
     ]
    },
    {
     "name": "stdout",
     "output_type": "stream",
     "text": [
      "Combining KORPL scores\n",
      "\n",
      "[2023-Oct-23 20:00:04]: Rescoring with KORPL complete in 0.2566!\n",
      "Splitting SDF file bestpose_SMINA_clustered.sdf ...\n"
     ]
    },
    {
     "name": "stderr",
     "output_type": "stream",
     "text": [
      "Splitting files: 100%|██████████| 10/10 [00:00<00:00, 1031.63it/s]"
     ]
    },
    {
     "name": "stdout",
     "output_type": "stream",
     "text": [
      "Split docking library into 10 files each containing 1 compounds\n"
     ]
    },
    {
     "name": "stderr",
     "output_type": "stream",
     "text": [
      "\n",
      "100%|██████████| 10/10 [00:00<00:00, 55.50it/s]\n"
     ]
    },
    {
     "name": "stdout",
     "output_type": "stream",
     "text": [
      "\n",
      "[2023-Oct-23 20:00:04]: Rescoring with ConvexPLR complete in 0.3156!\n",
      "\n",
      "[2023-Oct-23 20:00:04]: Combining all scores for /home/tony/DockM8/wocondock_main/temp/rescoring_bestpose_SMINA_clustered\n"
     ]
    },
    {
     "name": "stderr",
     "output_type": "stream",
     "text": [
      "Combining scores: 100%|██████████| 10/10 [00:00<00:00, 542.86files/s]\n"
     ]
    },
    {
     "name": "stdout",
     "output_type": "stream",
     "text": [
      "\n",
      "[2023-Oct-23 20:00:04]: Rescoring complete in 110.2963!\n",
      "Splitting SDF file bestpose_PLANTS_clustered.sdf ...\n"
     ]
    },
    {
     "name": "stderr",
     "output_type": "stream",
     "text": [
      "Splitting files: 100%|██████████| 10/10 [00:00<00:00, 1104.40it/s]"
     ]
    },
    {
     "name": "stdout",
     "output_type": "stream",
     "text": [
      "Split docking library into 10 files each containing 1 compounds\n"
     ]
    },
    {
     "name": "stderr",
     "output_type": "stream",
     "text": [
      "\n",
      "100%|██████████| 10/10 [00:04<00:00,  2.16it/s]\n"
     ]
    },
    {
     "name": "stdout",
     "output_type": "stream",
     "text": [
      "\n",
      "[2023-Oct-23 20:00:09]: Rescoring with GNINA complete in 4.7718!\n",
      "\n",
      "[2023-Oct-23 20:00:09]: Rescoring with AD4\n",
      "\n",
      "[2023-Oct-23 20:00:11]: Rescoring with AD4 complete in 1.8837!\n",
      "\n",
      "[2023-Oct-23 20:00:11]: Rescoring with CHEMPLP\n",
      "\n",
      "[2023-Oct-23 20:00:11]: Converting protein file to .mol2 format for PLANTS docking...\n"
     ]
    },
    {
     "name": "stderr",
     "output_type": "stream",
     "text": [
      "10 molecules converted\n"
     ]
    },
    {
     "name": "stdout",
     "output_type": "stream",
     "text": [
      "\n",
      "[2023-Oct-23 20:00:14]: Rescoring with CHEMPLP complete in 3.7212!\n",
      "\n",
      "[2023-Oct-23 20:00:14]: Rescoring with RFScoreVS\n",
      "\n",
      "[2023-Oct-23 20:00:27]: Rescoring with RFScoreVS complete in 12.4448!\n",
      "Splitting SDF file bestpose_PLANTS_clustered.sdf ...\n"
     ]
    },
    {
     "name": "stderr",
     "output_type": "stream",
     "text": [
      "Splitting files: 100%|██████████| 10/10 [00:00<00:00, 284.39it/s]"
     ]
    },
    {
     "name": "stdout",
     "output_type": "stream",
     "text": [
      "Split docking library into 10 files each containing 1 compounds\n"
     ]
    },
    {
     "name": "stderr",
     "output_type": "stream",
     "text": [
      "\n",
      "100%|██████████| 10/10 [00:09<00:00,  1.06it/s]\n"
     ]
    },
    {
     "name": "stdout",
     "output_type": "stream",
     "text": [
      "\n",
      "[2023-Oct-23 20:00:37]: Rescoring with LinF9 complete in 9.7077!\n",
      "\n",
      "[2023-Oct-23 20:00:37]: Converting protein file to .pdbqt ...\n",
      "\n",
      "[2023-Oct-23 20:02:39]: Converting SDF file bestpose_PLANTS_clustered.sdf to .pdbqt files...\n",
      "Converted 10 molecules.\n",
      "\n",
      "[2023-Oct-23 20:02:39]: Rescoring with SCORCH\n",
      "\n",
      "[2023-Oct-23 20:02:56]: Rescoring with SCORCH complete in 139.1388!\n",
      "\n",
      "[2023-Oct-23 20:02:56]: Rescoring with Vinardo\n",
      "\n",
      "[2023-Oct-23 20:02:56]: Rescoring with Vinardo complete in 0.6403!\n",
      "\n",
      "[2023-Oct-23 20:02:56]: Rescoring with PLECscore\n"
     ]
    },
    {
     "name": "stderr",
     "output_type": "stream",
     "text": [
      "/home/tony/.conda/envs/dockm8/lib/python3.10/site-packages/sklearn/base.py:329: UserWarning: Trying to unpickle estimator MLPRegressor from version 1.2.2 when using version 1.0.2. This might lead to breaking code or invalid results. Use at your own risk. For more info please refer to:\n",
      "https://scikit-learn.org/stable/modules/model_persistence.html#security-maintainability-limitations\n",
      "  warnings.warn(\n",
      "/home/tony/.conda/envs/dockm8/lib/python3.10/site-packages/oddt/virtualscreening.py:348: UserWarning: The chunksize (100) seams to be to large.\n",
      "  warnings.warn('The chunksize (%i) seams to be to large.'\n"
     ]
    },
    {
     "name": "stdout",
     "output_type": "stream",
     "text": [
      "\n",
      "[2023-Oct-23 20:03:12]: Rescoring with PLECScore complete in 16.1771!\n",
      "\n",
      "[2023-Oct-23 20:03:12]: Rescoring with NNscore\n",
      "\n",
      "[2023-Oct-23 20:03:26]: Rescoring with NNscore complete in 13.6484!\n",
      "Splitting SDF file bestpose_PLANTS_clustered.sdf ...\n"
     ]
    },
    {
     "name": "stderr",
     "output_type": "stream",
     "text": [
      "Splitting files: 100%|██████████| 10/10 [00:00<00:00, 702.85it/s]"
     ]
    },
    {
     "name": "stdout",
     "output_type": "stream",
     "text": [
      "Split docking library into 10 files each containing 1 compounds\n"
     ]
    },
    {
     "name": "stderr",
     "output_type": "stream",
     "text": [
      "\n",
      "100%|██████████| 10/10 [00:00<00:00, 64.40it/s]\n"
     ]
    },
    {
     "name": "stdout",
     "output_type": "stream",
     "text": [
      "Combining KORPL scores\n",
      "\n",
      "[2023-Oct-23 20:03:26]: Rescoring with KORPL complete in 0.3182!\n",
      "Splitting SDF file bestpose_PLANTS_clustered.sdf ...\n"
     ]
    },
    {
     "name": "stderr",
     "output_type": "stream",
     "text": [
      "Splitting files: 100%|██████████| 10/10 [00:00<00:00, 922.98it/s]"
     ]
    },
    {
     "name": "stdout",
     "output_type": "stream",
     "text": [
      "Split docking library into 10 files each containing 1 compounds\n"
     ]
    },
    {
     "name": "stderr",
     "output_type": "stream",
     "text": [
      "\n",
      "100%|██████████| 10/10 [00:00<00:00, 54.62it/s]\n"
     ]
    },
    {
     "name": "stdout",
     "output_type": "stream",
     "text": [
      "\n",
      "[2023-Oct-23 20:03:27]: Rescoring with ConvexPLR complete in 0.3427!\n",
      "\n",
      "[2023-Oct-23 20:03:27]: Combining all scores for /home/tony/DockM8/wocondock_main/temp/rescoring_bestpose_PLANTS_clustered\n"
     ]
    },
    {
     "name": "stderr",
     "output_type": "stream",
     "text": [
      "Combining scores: 100%|██████████| 10/10 [00:00<00:00, 486.50files/s]\n"
     ]
    },
    {
     "name": "stdout",
     "output_type": "stream",
     "text": [
      "\n",
      "[2023-Oct-23 20:03:27]: Rescoring complete in 202.8546!\n",
      "Splitting SDF file bestpose_QVINAW_clustered.sdf ...\n"
     ]
    },
    {
     "name": "stderr",
     "output_type": "stream",
     "text": [
      "Splitting files: 100%|██████████| 10/10 [00:00<00:00, 595.25it/s]"
     ]
    },
    {
     "name": "stdout",
     "output_type": "stream",
     "text": [
      "Split docking library into 10 files each containing 1 compounds\n"
     ]
    },
    {
     "name": "stderr",
     "output_type": "stream",
     "text": [
      "\n",
      "100%|██████████| 10/10 [00:03<00:00,  2.56it/s]\n"
     ]
    },
    {
     "name": "stdout",
     "output_type": "stream",
     "text": [
      "\n",
      "[2023-Oct-23 20:03:31]: Rescoring with GNINA complete in 4.0623!\n",
      "\n",
      "[2023-Oct-23 20:03:31]: Rescoring with AD4\n",
      "\n",
      "[2023-Oct-23 20:03:32]: Rescoring with AD4 complete in 0.7490!\n",
      "\n",
      "[2023-Oct-23 20:03:32]: Rescoring with CHEMPLP\n",
      "\n",
      "[2023-Oct-23 20:03:32]: Converting protein file to .mol2 format for PLANTS docking...\n"
     ]
    },
    {
     "name": "stderr",
     "output_type": "stream",
     "text": [
      "10 molecules converted\n"
     ]
    },
    {
     "name": "stdout",
     "output_type": "stream",
     "text": [
      "\n",
      "[2023-Oct-23 20:03:33]: Rescoring with CHEMPLP complete in 1.2244!\n",
      "\n",
      "[2023-Oct-23 20:03:33]: Rescoring with RFScoreVS\n"
     ]
    }
   ],
   "source": [
    "for metric in clustering_metrics:\n",
    "        rescore_all(w_dir, protein_file, pocket_definition, software, w_dir / 'temp' / 'clustering' / f'{metric}_clustered.sdf', rescoring_functions , ncpus)\n"
   ]
  },
  {
   "cell_type": "code",
   "execution_count": null,
   "metadata": {},
   "outputs": [],
   "source": [
    "calculate_EF_single_functions(w_dir, docking_library, clustering_metrics)"
   ]
  },
  {
   "cell_type": "code",
   "execution_count": null,
   "metadata": {},
   "outputs": [],
   "source": [
    "apply_consensus_methods_combinations(w_dir, docking_library, clustering_metrics)"
   ]
  },
  {
   "cell_type": "code",
   "execution_count": null,
   "metadata": {},
   "outputs": [],
   "source": [
    "apply_consensus_methods(w_dir, 'bestpose', 'method6', ['gnina', 'LinF9'])"
   ]
  }
 ],
 "metadata": {
  "kernelspec": {
   "display_name": "wocondock",
   "language": "python",
   "name": "python3"
  },
  "language_info": {
   "codemirror_mode": {
    "name": "ipython",
    "version": 3
   },
   "file_extension": ".py",
   "mimetype": "text/x-python",
   "name": "python",
   "nbconvert_exporter": "python",
   "pygments_lexer": "ipython3",
   "version": "3.10.13"
  },
  "orig_nbformat": 4,
  "vscode": {
   "interpreter": {
    "hash": "10164e316682d9b4b376ca14144ea8a4ff51ebef10350aaa3c3bfce49f02faa4"
   }
  }
 },
 "nbformat": 4,
 "nbformat_minor": 2
}
