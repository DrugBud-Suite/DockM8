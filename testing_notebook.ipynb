{
 "cells": [
  {
   "attachments": {},
   "cell_type": "markdown",
   "metadata": {},
   "source": [
    "**Import required libraries and scripts**"
   ]
  },
  {
   "cell_type": "code",
   "execution_count": 1,
   "metadata": {},
   "outputs": [
    {
     "name": "stderr",
     "output_type": "stream",
     "text": [
      "[21:49:04] Initializing Normalizer\n",
      "/home/tony/.conda/envs/dockm8/lib/python3.10/site-packages/tqdm/auto.py:21: TqdmWarning: IProgress not found. Please update jupyter and ipywidgets. See https://ipywidgets.readthedocs.io/en/stable/user_install.html\n",
      "  from .autonotebook import tqdm as notebook_tqdm\n",
      "/home/tony/.conda/envs/dockm8/lib/python3.10/site-packages/MDAnalysis/coordinates/chemfiles.py:108: DeprecationWarning: distutils Version classes are deprecated. Use packaging.version instead.\n",
      "  MIN_CHEMFILES_VERSION = LooseVersion(\"0.9\")\n",
      "[TRJ.py:171 - <module>()] netCDF4 is not available. Writing AMBER ncdf files will be slow.\n",
      "/home/tony/.conda/envs/dockm8/lib/python3.10/site-packages/MDAnalysis/coordinates/TRJ.py:1209: DeprecationWarning: Please use `netcdf_file` from the `scipy.io` namespace, the `scipy.io.netcdf` namespace is deprecated.\n",
      "  class NCDFPicklable(scipy.io.netcdf.netcdf_file):\n",
      "/home/tony/.conda/envs/dockm8/lib/python3.10/site-packages/matplotlib/__init__.py:152: DeprecationWarning: distutils Version classes are deprecated. Use packaging.version instead.\n",
      "  if LooseVersion(module.__version__) < minver:\n",
      "/home/tony/.conda/envs/dockm8/lib/python3.10/site-packages/setuptools/_distutils/version.py:345: DeprecationWarning: distutils Version classes are deprecated. Use packaging.version instead.\n",
      "  other = LooseVersion(other)\n"
     ]
    }
   ],
   "source": [
    "#Import required libraries and scripts\n",
    "from scripts.library_preparation import *\n",
    "from scripts.utilities import *\n",
    "from scripts.docking_functions import *\n",
    "from scripts.clustering_functions import *\n",
    "from scripts.rescoring_functions import *\n",
    "from scripts.consensus_methods import *\n",
    "from scripts.performance_calculation import *\n",
    "from scripts.dogsitescorer import *\n",
    "from scripts.get_pocket import *\n",
    "from scripts.postprocessing import *\n",
    "from scripts.protein_preparation import *"
   ]
  },
  {
   "cell_type": "code",
   "execution_count": 2,
   "metadata": {},
   "outputs": [],
   "source": [
    "software = Path('/home/tony/DockM8/software')\n",
    "receptor = Path('/home/tony/DockM8/testing_single_docking/protein.pdb')\n",
    "ref_file = Path('/home/tony/DockM8/testing_single_docking/ref.sdf')\n",
    "docking_library = Path('/home/tony/DockM8/testing_single_docking/library.sdf')\n",
    "docking_programs = ['GNINA', 'SMINA', 'PLANTS', 'QVINAW', 'QVINA2']\n",
    "clustering_metrics = ['RMSD', 'spyRMSD', 'espsim', '3DScore', 'bestpose', 'bestpose_GNINA', 'bestpose_SMINA', 'bestpose_PLANTS', 'bestpose_QVINAW', 'bestpose_QVINA2']\n",
    "rescoring_functions = ['GNINA_Affinity','CNN-Score','CNN-Affinity', 'AD4', 'CHEMPLP', 'RFScoreVS', 'LinF9', 'SCORCH', 'Vinardo', 'PLECScore', 'NNScore', 'KORPL', 'ConvexPLR', 'AAScore']\n",
    "id_column = 'ID'\n",
    "n_poses = 10\n",
    "exhaustiveness = 8\n",
    "protonation = 'GypsumDL'\n",
    "ncpus = 5\n",
    "pocket = 'reference'\n",
    "prepare_protein = 1\n",
    "open('log.txt', 'w').close()\n"
   ]
  },
  {
   "cell_type": "code",
   "execution_count": 3,
   "metadata": {},
   "outputs": [
    {
     "name": "stdout",
     "output_type": "stream",
     "text": [
      "\n",
      "[2023-Nov-20 21:49:12]: Preparing protein with ProtoSS ...\n",
      "Job 2f7717e1-2782-41dc-af34-a32d7a9f1099 completed with success\n",
      "The working directory has been set to: /home/tony/DockM8/testing_single_docking/protein_protoss\n",
      "\n",
      "[2023-Nov-20 21:49:14]: Extracting pocket from protein_protoss using ref as reference ligand\n",
      "\n",
      "[2023-Nov-20 21:49:59]: Finished extracting pocket from protein_protoss using ref as reference ligand\n",
      "{'center': [16.7, -2.69, 17.61], 'size': [16.0, 16.0, 16.0]}\n"
     ]
    }
   ],
   "source": [
    "if prepare_protein == 1:\n",
    "    #Prepare the protein\n",
    "    prepared_receptor = prepare_protein_protoss(receptor)\n",
    "else:\n",
    "    prepared_receptor = receptor\n",
    "\n",
    "#Create a temporary folder for all further calculations\n",
    "w_dir = prepared_receptor.parent / prepared_receptor.stem\n",
    "print('The working directory has been set to:', w_dir)\n",
    "(w_dir).mkdir(exist_ok=True)\n",
    "\n",
    "if pocket == 'reference':\n",
    "    pocket_definition = get_pocket(ref_file, prepared_receptor, 8)\n",
    "    print(pocket_definition)\n",
    "if pocket == 'RoG':\n",
    "    pocket_definition = get_pocket_RoG(ref_file, prepared_receptor)\n",
    "    print(pocket_definition)\n",
    "elif pocket == 'dogsitescorer':\n",
    "    pocket_definition = binding_site_coordinates_dogsitescorer(prepared_receptor, w_dir, method='volume')\n",
    "    print(pocket_definition)"
   ]
  },
  {
   "cell_type": "code",
   "execution_count": null,
   "metadata": {},
   "outputs": [],
   "source": [
    "if (w_dir / 'final_library.sdf').is_file() == False:\n",
    "    prepare_library(docking_library, w_dir, id_column, protonation, software, ncpus)"
   ]
  },
  {
   "cell_type": "code",
   "execution_count": 4,
   "metadata": {},
   "outputs": [
    {
     "name": "stdout",
     "output_type": "stream",
     "text": [
      "\n",
      "[2023-Nov-20 21:50:00]: Split final library folder already exists...\n"
     ]
    },
    {
     "name": "stderr",
     "output_type": "stream",
     "text": [
      "Fetching PLANTS docking poses: 100%|██████████| 1/1 [00:00<00:00, 929.79it/s]"
     ]
    },
    {
     "name": "stdout",
     "output_type": "stream",
     "text": [
      "\n",
      "[2023-Nov-20 21:50:00]: ERROR: Failed to write combined PLANTS docking poses\n",
      "\n",
      "[2023-Nov-20 21:50:00]: No objects to concatenate\n",
      "\n",
      "[2023-Nov-20 21:50:00]: Docking split files using SMINA...\n"
     ]
    },
    {
     "name": "stderr",
     "output_type": "stream",
     "text": [
      "\n",
      "100%|██████████| 10/10 [05:07<00:00, 30.75s/it]\n"
     ]
    },
    {
     "name": "stdout",
     "output_type": "stream",
     "text": [
      "\n",
      "[2023-Nov-20 21:55:07]: Docking with SMINA complete in 307.7900!\n"
     ]
    },
    {
     "name": "stderr",
     "output_type": "stream",
     "text": [
      "Loading SMINA poses: 100%|██████████| 10/10 [00:00<00:00, 131.21it/s]"
     ]
    },
    {
     "name": "stdout",
     "output_type": "stream",
     "text": [
      "\n",
      "[2023-Nov-20 21:55:07]: Docking split files using GNINA...\n"
     ]
    },
    {
     "name": "stderr",
     "output_type": "stream",
     "text": [
      "\n",
      "100%|██████████| 10/10 [04:33<00:00, 27.37s/it]\n"
     ]
    },
    {
     "name": "stdout",
     "output_type": "stream",
     "text": [
      "\n",
      "[2023-Nov-20 21:59:41]: Docking with GNINA complete in 273.8531!\n"
     ]
    },
    {
     "name": "stderr",
     "output_type": "stream",
     "text": [
      "Loading GNINA poses: 100%|██████████| 10/10 [00:00<00:00, 98.76it/s]\n"
     ]
    },
    {
     "name": "stdout",
     "output_type": "stream",
     "text": [
      "\n",
      "[2023-Nov-20 21:59:41]: Docking split files using QVINAW...\n"
     ]
    },
    {
     "name": "stderr",
     "output_type": "stream",
     "text": [
      "  0%|          | 0/10 [00:00<?, ?it/s]"
     ]
    },
    {
     "name": "stdout",
     "output_type": "stream",
     "text": [
      "Converting molecules to .pdbqt using MeekoConverting molecules to .pdbqt using MeekoConverting molecules to .pdbqt using MeekoConverting molecules to .pdbqt using Meeko\n",
      "\n",
      "Converting molecules to .pdbqt using Meeko\n",
      "\n",
      "\n",
      "Converting molecules to .pdbqt using MeekoConverting molecules to .pdbqt using MeekoConverting molecules to .pdbqt using Meeko\n",
      "\n",
      "\n",
      "Converting molecules to .pdbqt using MeekoConverting molecules to .pdbqt using Meeko\n",
      "\n"
     ]
    },
    {
     "name": "stderr",
     "output_type": "stream",
     "text": [
      "100%|██████████| 10/10 [00:00<00:00, 102.36it/s]\n"
     ]
    },
    {
     "name": "stdout",
     "output_type": "stream",
     "text": [
      "\n",
      "[2023-Nov-20 21:59:42]: Docking with QVINAW complete in 0.3610!\n"
     ]
    },
    {
     "name": "stderr",
     "output_type": "stream",
     "text": [
      "Loading QVINAW poses: 100%|██████████| 10/10 [00:00<00:00, 813.81it/s]\n"
     ]
    },
    {
     "name": "stdout",
     "output_type": "stream",
     "text": [
      "\n",
      "[2023-Nov-20 21:59:42]: Docking split files using QVINA2...\n"
     ]
    },
    {
     "name": "stderr",
     "output_type": "stream",
     "text": [
      "  0%|          | 0/10 [00:00<?, ?it/s]"
     ]
    },
    {
     "name": "stdout",
     "output_type": "stream",
     "text": [
      "Converting molecules to .pdbqt using Meeko\n",
      "Converting molecules to .pdbqt using MeekoConverting molecules to .pdbqt using MeekoConverting molecules to .pdbqt using Meeko\n",
      "\n",
      "\n",
      "Converting molecules to .pdbqt using Meeko\n",
      "Converting molecules to .pdbqt using Meeko\n",
      "Converting molecules to .pdbqt using MeekoConverting molecules to .pdbqt using Meeko\n",
      "Converting molecules to .pdbqt using Meeko\n",
      "\n",
      "Converting molecules to .pdbqt using Meeko\n"
     ]
    },
    {
     "name": "stderr",
     "output_type": "stream",
     "text": [
      "100%|██████████| 10/10 [00:00<00:00, 109.26it/s]\n"
     ]
    },
    {
     "name": "stdout",
     "output_type": "stream",
     "text": [
      "\n",
      "[2023-Nov-20 21:59:42]: Docking with QVINA2 complete in 0.4188!\n"
     ]
    },
    {
     "name": "stderr",
     "output_type": "stream",
     "text": [
      "Loading QVINA2 poses: 0it [00:00, ?it/s]\n",
      "[posebusters.py:55 - __init__()] Using configuration dictionary provided by user.\n"
     ]
    },
    {
     "name": "stdout",
     "output_type": "stream",
     "text": [
      "\n",
      "[2023-Nov-20 21:59:42]: ERROR: Failed to Load QVINA2 poses SDF file!\n",
      "\n",
      "[2023-Nov-20 21:59:42]: No objects to concatenate\n",
      "\n",
      "[2023-Nov-20 21:59:42]: ERROR: Failed to write combined QVINA2 poses SDF file!\n",
      "\n",
      "[2023-Nov-20 21:59:42]: local variable 'qvina2_df' referenced before assignment\n",
      "\n",
      "[2023-Nov-20 21:59:42]: ERROR: Failed to load PLANTS SDF file!\n",
      "\n",
      "[2023-Nov-20 21:59:42]: [Errno 2] No such file or directory: '/home/tony/DockM8/testing_single_docking/protein_protoss/plants/plants_poses.sdf'\n",
      "\n",
      "[2023-Nov-20 21:59:42]: ERROR: Failed to load QVINA2 SDF file!\n",
      "\n",
      "[2023-Nov-20 21:59:42]: [Errno 2] No such file or directory: '/home/tony/DockM8/testing_single_docking/protein_protoss/qvina2/qvina2_poses.sdf'\n",
      "\n",
      "[2023-Nov-20 22:00:36]: PoseBusters checking completed in 53.25 seconds.\n",
      "\n",
      "[2023-Nov-20 22:00:36]: All poses succesfully checked and combined!\n"
     ]
    }
   ],
   "source": [
    "docking(w_dir, prepared_receptor, pocket_definition, software, 'PLANTS', exhaustiveness, n_poses, 5, 'multiprocessing')\n",
    "concat_all_poses(w_dir, docking_programs, prepared_receptor)\n"
   ]
  },
  {
   "cell_type": "code",
   "execution_count": null,
   "metadata": {},
   "outputs": [],
   "source": [
    "print('Loading all poses SDF file...')\n",
    "tic = time.perf_counter()\n",
    "all_poses = PandasTools.LoadSDF(str(w_dir / 'allposes.sdf'), idName='Pose ID', molColName='Molecule', includeFingerprints=False, strictParsing=True)\n",
    "print(f'Loaded {len(all_poses)} poses.')\n",
    "toc = time.perf_counter()\n",
    "print(f'Finished loading all poses SDF in {toc-tic:0.4f}!...')\n",
    "\n",
    "for metric in clustering_metrics:\n",
    "    if os.path.isfile(w_dir / f'clustering/{metric}_clustered.sdf') == False:\n",
    "        filtered_poses = cluster_pebble(metric, 'KMedoids', w_dir, prepared_receptor, pocket_definition, software, all_poses, ncpus)\n"
   ]
  },
  {
   "cell_type": "code",
   "execution_count": null,
   "metadata": {},
   "outputs": [],
   "source": [
    "for metric in clustering_metrics:\n",
    "        rescore_poses(w_dir, prepared_receptor, pocket_definition, software, w_dir / 'clustering' / f'{metric}_clustered.sdf', rescoring_functions , ncpus)\n"
   ]
  },
  {
   "cell_type": "code",
   "execution_count": null,
   "metadata": {},
   "outputs": [],
   "source": [
    "apply_consensus_methods(w_dir, 'bestpose', 'method6', rescoring_functions, 'min_max')"
   ]
  }
 ],
 "metadata": {
  "kernelspec": {
   "display_name": "wocondock",
   "language": "python",
   "name": "python3"
  },
  "language_info": {
   "codemirror_mode": {
    "name": "ipython",
    "version": 3
   },
   "file_extension": ".py",
   "mimetype": "text/x-python",
   "name": "python",
   "nbconvert_exporter": "python",
   "pygments_lexer": "ipython3",
   "version": "3.10.13"
  },
  "orig_nbformat": 4,
  "vscode": {
   "interpreter": {
    "hash": "10164e316682d9b4b376ca14144ea8a4ff51ebef10350aaa3c3bfce49f02faa4"
   }
  }
 },
 "nbformat": 4,
 "nbformat_minor": 2
}
