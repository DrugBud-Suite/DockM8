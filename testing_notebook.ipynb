{
 "cells": [
  {
   "attachments": {},
   "cell_type": "markdown",
   "metadata": {},
   "source": [
    "**Import required libraries and scripts**"
   ]
  },
  {
   "cell_type": "code",
   "execution_count": 4,
   "metadata": {},
   "outputs": [],
   "source": [
    "#Import required libraries and scripts\n",
    "from scripts.library_preparation import *\n",
    "from scripts.utilities import *\n",
    "from scripts.docking_functions import *\n",
    "from scripts.clustering_functions import *\n",
    "from scripts.rescoring_functions import *\n",
    "from scripts.consensus_methods import *\n",
    "from scripts.performance_calculation import *\n",
    "from scripts.dogsitescorer import *\n",
    "from scripts.get_pocket import *\n"
   ]
  },
  {
   "cell_type": "code",
   "execution_count": 5,
   "metadata": {},
   "outputs": [
    {
     "name": "stdout",
     "output_type": "stream",
     "text": [
      "The working directory has been set to: /home/tony/DockM8/wocondock_main/protein\n",
      "\n",
      "[2023-Oct-24 12:07:25]: Extracting pocket from /home/tony/DockM8/wocondock_main/protein.pdb using /home/tony/DockM8/wocondock_main/ref.sdf as reference ligand\n",
      "\n",
      "[2023-Oct-24 12:07:43]: Finished extracting pocket from /home/tony/DockM8/wocondock_main/protein.pdb using /home/tony/DockM8/wocondock_main/ref.sdf as reference ligand\n",
      "{'center': [16.7, -2.69, 17.61], 'size': [16.0, 16.0, 16.0]}\n"
     ]
    },
    {
     "name": "stderr",
     "output_type": "stream",
     "text": [
      "/home/tony/.conda/envs/dockm8/lib/python3.10/site-packages/biopandas/pdb/pandas_pdb.py:631: DeprecationWarning: distutils Version classes are deprecated. Use packaging.version instead.\n",
      "  if pd_version < LooseVersion(\"0.17.0\"):\n",
      "/home/tony/.conda/envs/dockm8/lib/python3.10/site-packages/biopandas/pdb/pandas_pdb.py:641: DeprecationWarning: distutils Version classes are deprecated. Use packaging.version instead.\n",
      "  elif pd_version < LooseVersion(\"0.23.0\"):\n"
     ]
    }
   ],
   "source": [
    "software = Path('/home/tony/DockM8/software')\n",
    "protein_file = Path('/home/tony/DockM8/wocondock_main/protein.pdb')\n",
    "ref_file = Path('/home/tony/DockM8/wocondock_main/ref.sdf')\n",
    "docking_library = Path('/home/tony/DockM8/wocondock_main/library.sdf')\n",
    "docking_programs = ['GNINA', 'SMINA', 'PLANTS', 'QVINAW', 'QVINA2']\n",
    "clustering_metrics = ['spyRMSD', 'espsim', '3DScore', 'bestpose', 'bestpose_GNINA', 'bestpose_SMINA', 'bestpose_PLANTS', 'bestpose_QVINAW', 'bestpose_QVINA2']\n",
    "rescoring_functions = ['GNINA_Affinity','CNN-Score','CNN-Affinity', 'AD4', 'CHEMPLP', 'RFScoreVS', 'LinF9', 'SCORCH', 'Vinardo', 'PLECnn', 'NNScore', 'KORPL', 'ConvexPLR', 'RTMScore', 'AAScore']\n",
    "id_column = 'ID'\n",
    "n_poses = 10\n",
    "exhaustiveness = 8\n",
    "protonation = 'pkasolver'\n",
    "ncpus = 5\n",
    "pocket = 'reference'\n",
    "\n",
    "#Create a temporary folder for all further calculations\n",
    "w_dir = protein_file.parent / protein_file.stem\n",
    "print('The working directory has been set to:', w_dir)\n",
    "(w_dir).mkdir(exist_ok=True)\n",
    "\n",
    "if pocket == 'reference':\n",
    "    pocket_definition = get_pocket(ref_file, protein_file, 8)\n",
    "    print(pocket_definition)\n",
    "if pocket == 'RoG':\n",
    "    pocket_definition = get_pocket_RoG(ref_file, protein_file)\n",
    "    print(pocket_definition)\n",
    "elif pocket == 'dogsitescorer':\n",
    "    pocket_definition = binding_site_coordinates_dogsitescorer(protein_file, w_dir, method='volume')\n",
    "    print(pocket_definition)"
   ]
  },
  {
   "cell_type": "code",
   "execution_count": 6,
   "metadata": {},
   "outputs": [
    {
     "name": "stdout",
     "output_type": "stream",
     "text": [
      "\n",
      "[2023-Oct-24 12:09:08]: Standardizing docking library using ChemBL Structure Pipeline...\n"
     ]
    },
    {
     "name": "stderr",
     "output_type": "stream",
     "text": [
      "Standardizing molecules: 100%|██████████| 10/10 [00:00<00:00, 267.31mol/s]"
     ]
    },
    {
     "name": "stdout",
     "output_type": "stream",
     "text": [
      "\n",
      "[2023-Oct-24 12:09:08]: Standardization of compound library finished: Started with 10, ended with 10 : 0 compounds lost"
     ]
    },
    {
     "name": "stderr",
     "output_type": "stream",
     "text": [
      "\n"
     ]
    },
    {
     "name": "stdout",
     "output_type": "stream",
     "text": [
      "\n"
     ]
    },
    {
     "ename": "OSError",
     "evalue": "File error: Bad output file /home/tony/DockM8/wocondock_main/temp/standardized_library.sdf",
     "output_type": "error",
     "traceback": [
      "\u001b[0;31m---------------------------------------------------------------------------\u001b[0m",
      "\u001b[0;31mOSError\u001b[0m                                   Traceback (most recent call last)",
      "\u001b[1;32m/home/tony/DockM8/testing_notebook.ipynb Cell 4\u001b[0m line \u001b[0;36m2\n\u001b[1;32m      <a href='vscode-notebook-cell:/home/tony/DockM8/testing_notebook.ipynb#W3sZmlsZQ%3D%3D?line=0'>1</a>\u001b[0m \u001b[39mif\u001b[39;00m (w_dir \u001b[39m/\u001b[39m \u001b[39m'\u001b[39m\u001b[39mfinal_library.sdf\u001b[39m\u001b[39m'\u001b[39m)\u001b[39m.\u001b[39mis_file() \u001b[39m==\u001b[39m \u001b[39mFalse\u001b[39;00m:\n\u001b[0;32m----> <a href='vscode-notebook-cell:/home/tony/DockM8/testing_notebook.ipynb#W3sZmlsZQ%3D%3D?line=1'>2</a>\u001b[0m     prepare_library(docking_library, id_column, software, protonation, ncpus)\n",
      "File \u001b[0;32m~/DockM8/scripts/library_preparation.py:248\u001b[0m, in \u001b[0;36mprepare_library\u001b[0;34m(input_sdf, id_column, protonation, software, ncpus)\u001b[0m\n\u001b[1;32m    246\u001b[0m     protonate_library_pkasolver(standardized_sdf, output_dir)\n\u001b[1;32m    247\u001b[0m     generate_conformers_GypsumDL_noprotonation(protonated_sdf, output_dir, software, ncpus)\n\u001b[0;32m--> 248\u001b[0m \u001b[39melif\u001b[39;00m protonation \u001b[39m==\u001b[39m \u001b[39m'\u001b[39m\u001b[39mGypsumDL\u001b[39m\u001b[39m'\u001b[39m:\n\u001b[1;32m    249\u001b[0m     generate_conformers_GypsumDL_withprotonation(standardized_sdf, output_dir, software, ncpus)\n\u001b[1;32m    250\u001b[0m \u001b[39melse\u001b[39;00m:\n",
      "File \u001b[0;32m~/DockM8/scripts/library_preparation.py:121\u001b[0m, in \u001b[0;36mstandardize_library_futures\u001b[0;34m(input_sdf, id_column, ncpus)\u001b[0m\n\u001b[1;32m    119\u001b[0m \u001b[39mdef\u001b[39;00m \u001b[39mprotonate_library_pkasolver\u001b[39m(input_sdf, output_dir):\n\u001b[1;32m    120\u001b[0m     printlog(\u001b[39m'\u001b[39m\u001b[39mCalculating protonation states using pkaSolver...\u001b[39m\u001b[39m'\u001b[39m)\n\u001b[0;32m--> 121\u001b[0m     \u001b[39mtry\u001b[39;00m:\n\u001b[1;32m    122\u001b[0m         input_df \u001b[39m=\u001b[39m PandasTools\u001b[39m.\u001b[39mLoadSDF(\u001b[39mstr\u001b[39m(input_sdf),\n\u001b[1;32m    123\u001b[0m                                         molColName\u001b[39m=\u001b[39m\u001b[39m'\u001b[39m\u001b[39mMolecule\u001b[39m\u001b[39m'\u001b[39m,\n\u001b[1;32m    124\u001b[0m                                         idName\u001b[39m=\u001b[39m\u001b[39m'\u001b[39m\u001b[39mID\u001b[39m\u001b[39m'\u001b[39m,\n\u001b[1;32m    125\u001b[0m                                         removeHs\u001b[39m=\u001b[39m\u001b[39mTrue\u001b[39;00m,\n\u001b[1;32m    126\u001b[0m                                         strictParsing\u001b[39m=\u001b[39m\u001b[39mTrue\u001b[39;00m,\n\u001b[1;32m    127\u001b[0m                                         smilesName\u001b[39m=\u001b[39m\u001b[39m'\u001b[39m\u001b[39mSMILES\u001b[39m\u001b[39m'\u001b[39m)\n\u001b[1;32m    128\u001b[0m         input_df[\u001b[39m'\u001b[39m\u001b[39mMolecule\u001b[39m\u001b[39m'\u001b[39m] \u001b[39m=\u001b[39m [Chem\u001b[39m.\u001b[39mMolFromSmiles(smiles) \u001b[39mfor\u001b[39;00m smiles \u001b[39min\u001b[39;00m input_df[\u001b[39m'\u001b[39m\u001b[39mSMILES\u001b[39m\u001b[39m'\u001b[39m]]\n",
      "File \u001b[0;32m~/.conda/envs/dockm8/lib/python3.10/site-packages/rdkit/Chem/PandasTools.py:414\u001b[0m, in \u001b[0;36mWriteSDF\u001b[0;34m(df, out, molColName, idName, properties, allNumeric, forceV3000)\u001b[0m\n\u001b[1;32m    411\u001b[0m     out \u001b[39m=\u001b[39m gzip\u001b[39m.\u001b[39mopen(out, \u001b[39m\"\u001b[39m\u001b[39mwt\u001b[39m\u001b[39m\"\u001b[39m)\n\u001b[1;32m    412\u001b[0m     close \u001b[39m=\u001b[39m out\u001b[39m.\u001b[39mclose\n\u001b[0;32m--> 414\u001b[0m writer \u001b[39m=\u001b[39m SDWriter(out)\n\u001b[1;32m    415\u001b[0m \u001b[39mif\u001b[39;00m forceV3000:\n\u001b[1;32m    416\u001b[0m   writer\u001b[39m.\u001b[39mSetForceV3000(\u001b[39mTrue\u001b[39;00m)\n",
      "\u001b[0;31mOSError\u001b[0m: File error: Bad output file /home/tony/DockM8/wocondock_main/temp/standardized_library.sdf"
     ]
    }
   ],
   "source": [
    "if (w_dir / 'final_library.sdf').is_file() == False:\n",
    "    prepare_library(docking_library, w_dir, id_column, software, protonation, ncpus)"
   ]
  },
  {
   "cell_type": "code",
   "execution_count": null,
   "metadata": {},
   "outputs": [],
   "source": [
    "docking(w_dir, protein_file, pocket_definition, software, docking_programs, exhaustiveness, n_poses, 5)\n",
    "concat_all_poses(w_dir, docking_programs)"
   ]
  },
  {
   "cell_type": "code",
   "execution_count": null,
   "metadata": {},
   "outputs": [],
   "source": [
    "print('Loading all poses SDF file...')\n",
    "tic = time.perf_counter()\n",
    "all_poses = PandasTools.LoadSDF(str(w_dir / 'allposes.sdf'), idName='Pose ID', molColName='Molecule', includeFingerprints=False, strictParsing=True)\n",
    "toc = time.perf_counter()\n",
    "print(f'Finished loading all poses SDF in {toc-tic:0.4f}!...')"
   ]
  },
  {
   "cell_type": "code",
   "execution_count": null,
   "metadata": {},
   "outputs": [],
   "source": [
    "for metric in clustering_metrics:\n",
    "        if os.path.isfile(w_dir / 'clustering/'f'{metric}_clustered.sdf') == False:\n",
    "            cluster_pebble(metric, 'KMedoids', w_dir, protein_file, all_poses, ncpus)"
   ]
  },
  {
   "cell_type": "code",
   "execution_count": null,
   "metadata": {},
   "outputs": [],
   "source": [
    "for metric in clustering_metrics:\n",
    "        rescore_all(w_dir, protein_file, pocket_definition, software, w_dir / 'clustering' / f'{metric}_clustered.sdf', rescoring_functions , ncpus)\n"
   ]
  },
  {
   "cell_type": "code",
   "execution_count": null,
   "metadata": {},
   "outputs": [],
   "source": [
    "calculate_EF_single_functions(w_dir, docking_library, clustering_metrics)"
   ]
  },
  {
   "cell_type": "code",
   "execution_count": null,
   "metadata": {},
   "outputs": [],
   "source": [
    "apply_consensus_methods_combinations(w_dir, docking_library, clustering_metrics)"
   ]
  },
  {
   "cell_type": "code",
   "execution_count": null,
   "metadata": {},
   "outputs": [],
   "source": [
    "apply_consensus_methods(w_dir, 'bestpose', 'method6', ['gnina', 'LinF9'])"
   ]
  }
 ],
 "metadata": {
  "kernelspec": {
   "display_name": "wocondock",
   "language": "python",
   "name": "python3"
  },
  "language_info": {
   "codemirror_mode": {
    "name": "ipython",
    "version": 3
   },
   "file_extension": ".py",
   "mimetype": "text/x-python",
   "name": "python",
   "nbconvert_exporter": "python",
   "pygments_lexer": "ipython3",
   "version": "3.10.13"
  },
  "orig_nbformat": 4,
  "vscode": {
   "interpreter": {
    "hash": "10164e316682d9b4b376ca14144ea8a4ff51ebef10350aaa3c3bfce49f02faa4"
   }
  }
 },
 "nbformat": 4,
 "nbformat_minor": 2
}
