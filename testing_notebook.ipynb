{
 "cells": [
  {
   "attachments": {},
   "cell_type": "markdown",
   "metadata": {},
   "source": [
    "**Import required libraries and scripts**"
   ]
  },
  {
   "cell_type": "code",
   "execution_count": 1,
   "metadata": {},
   "outputs": [
    {
     "name": "stderr",
     "output_type": "stream",
     "text": [
      "[16:13:45] Initializing Normalizer\n",
      "/home/tony/.conda/envs/dockm8/lib/python3.10/site-packages/tqdm/auto.py:21: TqdmWarning: IProgress not found. Please update jupyter and ipywidgets. See https://ipywidgets.readthedocs.io/en/stable/user_install.html\n",
      "  from .autonotebook import tqdm as notebook_tqdm\n",
      "/home/tony/.conda/envs/dockm8/lib/python3.10/site-packages/MDAnalysis/coordinates/chemfiles.py:108: DeprecationWarning: distutils Version classes are deprecated. Use packaging.version instead.\n",
      "  MIN_CHEMFILES_VERSION = LooseVersion(\"0.9\")\n",
      "[TRJ.py:171 - <module>()] netCDF4 is not available. Writing AMBER ncdf files will be slow.\n",
      "/home/tony/.conda/envs/dockm8/lib/python3.10/site-packages/MDAnalysis/coordinates/TRJ.py:1209: DeprecationWarning: Please use `netcdf_file` from the `scipy.io` namespace, the `scipy.io.netcdf` namespace is deprecated.\n",
      "  class NCDFPicklable(scipy.io.netcdf.netcdf_file):\n",
      "/home/tony/.conda/envs/dockm8/lib/python3.10/site-packages/matplotlib/__init__.py:152: DeprecationWarning: distutils Version classes are deprecated. Use packaging.version instead.\n",
      "  if LooseVersion(module.__version__) < minver:\n",
      "/home/tony/.conda/envs/dockm8/lib/python3.10/site-packages/setuptools/_distutils/version.py:345: DeprecationWarning: distutils Version classes are deprecated. Use packaging.version instead.\n",
      "  other = LooseVersion(other)\n"
     ]
    }
   ],
   "source": [
    "#Import required libraries and scripts\n",
    "from scripts.library_preparation import *\n",
    "from scripts.utilities import *\n",
    "from scripts.docking_functions import *\n",
    "from scripts.clustering_functions import *\n",
    "from scripts.rescoring_functions import *\n",
    "from scripts.consensus_methods import *\n",
    "from scripts.performance_calculation import *\n",
    "from scripts.dogsitescorer import *\n",
    "from scripts.get_pocket import *\n",
    "from scripts.postprocessing import *\n",
    "from scripts.protein_preparation import *"
   ]
  },
  {
   "cell_type": "code",
   "execution_count": 2,
   "metadata": {},
   "outputs": [],
   "source": [
    "software = Path('/home/tony/DockM8/software')\n",
    "receptor = Path('/home/tony/DockM8/testing_single_docking/protein.pdb')\n",
    "ref_file = Path('/home/tony/DockM8/testing_single_docking/ref.sdf')\n",
    "docking_library = Path('/home/tony/DockM8/testing_single_docking/library1.sdf')\n",
    "docking_programs = DOCKING_PROGRAMS\n",
    "clustering_metrics = list(CLUSTERING_METRICS.keys())+['bestpose', 'bestpose_GNINA', 'bestpose_SMINA', 'bestpose_PLANTS', 'bestpose_QVINAW', 'bestpose_QVINA2']\n",
    "rescoring_functions = list(RESCORING_FUNCTIONS.keys())\n",
    "id_column = 'ID'\n",
    "n_poses = 10\n",
    "exhaustiveness = 8\n",
    "protonation = 'GypsumDL'\n",
    "ncpus = 5\n",
    "pocket = 'reference'\n",
    "prepare_protein = 1\n",
    "open('log.txt', 'w').close()\n"
   ]
  },
  {
   "cell_type": "code",
   "execution_count": 3,
   "metadata": {},
   "outputs": [
    {
     "name": "stdout",
     "output_type": "stream",
     "text": [
      "\n",
      "[2023-Nov-21 16:13:51]: Preparing protein with ProtoSS ...\n",
      "Job 2f7717e1-2782-41dc-af34-a32d7a9f1099 completed with success\n",
      "The working directory has been set to: /home/tony/DockM8/testing_single_docking/protein_protoss\n",
      "\n",
      "[2023-Nov-21 16:13:53]: Extracting pocket from protein_protoss using ref as reference ligand\n",
      "\n",
      "[2023-Nov-21 16:14:08]: Finished extracting pocket from protein_protoss using ref as reference ligand\n",
      "{'center': [16.7, -2.69, 17.61], 'size': [16.0, 16.0, 16.0]}\n"
     ]
    }
   ],
   "source": [
    "if prepare_protein == 1:\n",
    "    #Prepare the protein\n",
    "    prepared_receptor = prepare_protein_protoss(receptor)\n",
    "else:\n",
    "    prepared_receptor = receptor\n",
    "\n",
    "#Create a temporary folder for all further calculations\n",
    "w_dir = prepared_receptor.parent / prepared_receptor.stem\n",
    "print('The working directory has been set to:', w_dir)\n",
    "(w_dir).mkdir(exist_ok=True)\n",
    "\n",
    "if pocket == 'reference':\n",
    "    pocket_definition = get_pocket(ref_file, prepared_receptor, 8)\n",
    "    print(pocket_definition)\n",
    "if pocket == 'RoG':\n",
    "    pocket_definition = get_pocket_RoG(ref_file, prepared_receptor)\n",
    "    print(pocket_definition)\n",
    "elif pocket == 'dogsitescorer':\n",
    "    pocket_definition = binding_site_coordinates_dogsitescorer(prepared_receptor, w_dir, method='volume')\n",
    "    print(pocket_definition)"
   ]
  },
  {
   "cell_type": "code",
   "execution_count": null,
   "metadata": {},
   "outputs": [],
   "source": [
    "if (w_dir / 'final_library.sdf').is_file() == False:\n",
    "    prepare_library(docking_library, w_dir, id_column, protonation, software, ncpus)"
   ]
  },
  {
   "cell_type": "code",
   "execution_count": null,
   "metadata": {},
   "outputs": [],
   "source": [
    "docking(w_dir, prepared_receptor, pocket_definition, software, docking_programs, exhaustiveness, n_poses, 5, 'multiprocessing')"
   ]
  },
  {
   "cell_type": "code",
   "execution_count": null,
   "metadata": {},
   "outputs": [],
   "source": [
    "concat_all_poses(w_dir, docking_programs, prepared_receptor)"
   ]
  },
  {
   "cell_type": "code",
   "execution_count": null,
   "metadata": {},
   "outputs": [],
   "source": [
    "print('Loading all poses SDF file...')\n",
    "tic = time.perf_counter()\n",
    "all_poses = PandasTools.LoadSDF(str(w_dir / 'allposes.sdf'), idName='Pose ID', molColName='Molecule', includeFingerprints=False, strictParsing=True)\n",
    "print(f'Loaded {len(all_poses)} poses.')\n",
    "toc = time.perf_counter()\n",
    "print(f'Finished loading all poses SDF in {toc-tic:0.4f}!...')\n"
   ]
  },
  {
   "cell_type": "code",
   "execution_count": null,
   "metadata": {},
   "outputs": [],
   "source": [
    "for metric in clustering_metrics:\n",
    "    if os.path.isfile(w_dir / f'clustering/{metric}_clustered.sdf') == False:\n",
    "        filtered_poses = cluster_pebble(metric, 'KMedoids', w_dir, prepared_receptor, pocket_definition, software, all_poses, ncpus)"
   ]
  },
  {
   "cell_type": "code",
   "execution_count": 4,
   "metadata": {},
   "outputs": [
    {
     "name": "stdout",
     "output_type": "stream",
     "text": [
      "\n",
      "[2023-Nov-21 16:14:08]: Rescoring with ECIF\n"
     ]
    },
    {
     "name": "stderr",
     "output_type": "stream",
     "text": [
      "Splitting files: 100%|██████████| 4/4 [00:00<00:00, 838.69it/s]"
     ]
    },
    {
     "name": "stdout",
     "output_type": "stream",
     "text": [
      "Split SDF file into 4 files, each containing 1 compound\n"
     ]
    },
    {
     "name": "stderr",
     "output_type": "stream",
     "text": [
      "\n",
      "100%|██████████| 4/4 [00:00<00:00, 69.63it/s]"
     ]
    },
    {
     "name": "stdout",
     "output_type": "stream",
     "text": [
      "\n",
      "[2023-Nov-21 16:14:08]: Error in concurrent futures job run: Can't pickle <class 'Boost.Python.ArgumentError'>: import of module 'Boost.Python' failed\n",
      "\n",
      "[2023-Nov-21 16:14:08]: Error in concurrent futures job run: Can't pickle <class 'Boost.Python.ArgumentError'>: import of module 'Boost.Python' failed\n",
      "\n",
      "[2023-Nov-21 16:14:08]: Error in concurrent futures job run: Can't pickle <class 'Boost.Python.ArgumentError'>: import of module 'Boost.Python' failed\n",
      "\n",
      "[2023-Nov-21 16:14:08]: Error in concurrent futures job run: Can't pickle <class 'Boost.Python.ArgumentError'>: import of module 'Boost.Python' failed\n"
     ]
    },
    {
     "name": "stderr",
     "output_type": "stream",
     "text": [
      "\n"
     ]
    },
    {
     "ename": "UnboundLocalError",
     "evalue": "local variable 'res' referenced before assignment",
     "output_type": "error",
     "traceback": [
      "\u001b[0;31m---------------------------------------------------------------------------\u001b[0m",
      "\u001b[0;31mUnboundLocalError\u001b[0m                         Traceback (most recent call last)",
      "\u001b[1;32m/home/tony/DockM8/testing_notebook.ipynb Cell 10\u001b[0m line \u001b[0;36m2\n\u001b[1;32m      <a href='vscode-notebook-cell:/home/tony/DockM8/testing_notebook.ipynb#X12sZmlsZQ%3D%3D?line=0'>1</a>\u001b[0m \u001b[39mfor\u001b[39;00m metric \u001b[39min\u001b[39;00m clustering_metrics:\n\u001b[0;32m----> <a href='vscode-notebook-cell:/home/tony/DockM8/testing_notebook.ipynb#X12sZmlsZQ%3D%3D?line=1'>2</a>\u001b[0m         rescore_poses(w_dir, prepared_receptor, pocket_definition, software, w_dir \u001b[39m/\u001b[39;49m \u001b[39m'\u001b[39;49m\u001b[39mclustering\u001b[39;49m\u001b[39m'\u001b[39;49m \u001b[39m/\u001b[39;49m \u001b[39mf\u001b[39;49m\u001b[39m'\u001b[39;49m\u001b[39m{\u001b[39;49;00mmetric\u001b[39m}\u001b[39;49;00m\u001b[39m_clustered.sdf\u001b[39;49m\u001b[39m'\u001b[39;49m, rescoring_functions , ncpus)\n",
      "File \u001b[0;32m~/DockM8/scripts/rescoring_functions.py:988\u001b[0m, in \u001b[0;36mrescore_poses\u001b[0;34m(w_dir, protein_file, pocket_definition, software, clustered_sdf, functions, ncpus)\u001b[0m\n\u001b[1;32m    986\u001b[0m function_info \u001b[39m=\u001b[39m RESCORING_FUNCTIONS\u001b[39m.\u001b[39mget(function)\n\u001b[1;32m    987\u001b[0m \u001b[39mif\u001b[39;00m \u001b[39mnot\u001b[39;00m (rescoring_folder \u001b[39m/\u001b[39m \u001b[39mf\u001b[39m\u001b[39m'\u001b[39m\u001b[39m{\u001b[39;00mfunction\u001b[39m}\u001b[39;00m\u001b[39m_rescoring\u001b[39m\u001b[39m'\u001b[39m \u001b[39m/\u001b[39m \u001b[39mf\u001b[39m\u001b[39m'\u001b[39m\u001b[39m{\u001b[39;00mfunction\u001b[39m}\u001b[39;00m\u001b[39m_scores.csv\u001b[39m\u001b[39m'\u001b[39m)\u001b[39m.\u001b[39mis_file():\n\u001b[0;32m--> 988\u001b[0m     function_info[\u001b[39m'\u001b[39;49m\u001b[39mfunction\u001b[39;49m\u001b[39m'\u001b[39;49m](clustered_sdf, ncpus, function_info[\u001b[39m'\u001b[39;49m\u001b[39mcolumn_name\u001b[39;49m\u001b[39m'\u001b[39;49m], protein_file\u001b[39m=\u001b[39;49mprotein_file, pocket_definition\u001b[39m=\u001b[39;49mpocket_definition, software\u001b[39m=\u001b[39;49msoftware, rescoring_folder\u001b[39m=\u001b[39;49mrescoring_folder)\n\u001b[1;32m    989\u001b[0m \u001b[39melse\u001b[39;00m:\n\u001b[1;32m    990\u001b[0m     skipped_functions\u001b[39m.\u001b[39mappend(function)\n",
      "File \u001b[0;32m~/DockM8/scripts/rescoring_functions.py:480\u001b[0m, in \u001b[0;36mECIF_rescoring\u001b[0;34m(sdf, ncpus, column_name, **kwargs)\u001b[0m\n\u001b[1;32m    477\u001b[0m     all_descriptors_single \u001b[39m=\u001b[39m pd\u001b[39m.\u001b[39mDataFrame(ECIF, columns\u001b[39m=\u001b[39mPossibleECIF)\u001b[39m.\u001b[39mjoin(pd\u001b[39m.\u001b[39mDataFrame(ligand_descriptors, columns\u001b[39m=\u001b[39mLigandDescriptors))\n\u001b[1;32m    478\u001b[0m     \u001b[39mreturn\u001b[39;00m all_descriptors_single\n\u001b[0;32m--> 480\u001b[0m results \u001b[39m=\u001b[39m parallel_executor(ECIF_rescoring_single, ligands, ncpus, protein_file\u001b[39m=\u001b[39;49mprotein_file)\n\u001b[1;32m    481\u001b[0m all_descriptors \u001b[39m=\u001b[39m pd\u001b[39m.\u001b[39mconcat(results)\n\u001b[1;32m    483\u001b[0m model \u001b[39m=\u001b[39m pickle\u001b[39m.\u001b[39mload(\u001b[39mopen\u001b[39m(\u001b[39mf\u001b[39m\u001b[39m'\u001b[39m\u001b[39m{\u001b[39;00msoftware\u001b[39m}\u001b[39;00m\u001b[39m/ECIF6_LD_GBT.pkl\u001b[39m\u001b[39m'\u001b[39m, \u001b[39m'\u001b[39m\u001b[39mrb\u001b[39m\u001b[39m'\u001b[39m))\n",
      "File \u001b[0;32m~/DockM8/scripts/utilities.py:292\u001b[0m, in \u001b[0;36mparallel_executor\u001b[0;34m(function, split_files_sdfs, ncpus, **kwargs)\u001b[0m\n\u001b[1;32m    290\u001b[0m         \u001b[39mexcept\u001b[39;00m \u001b[39mException\u001b[39;00m \u001b[39mas\u001b[39;00m e:\n\u001b[1;32m    291\u001b[0m             printlog(\u001b[39m\"\u001b[39m\u001b[39mError in concurrent futures job run: \u001b[39m\u001b[39m\"\u001b[39m \u001b[39m+\u001b[39m \u001b[39mstr\u001b[39m(e))\n\u001b[0;32m--> 292\u001b[0m \u001b[39mreturn\u001b[39;00m res\n",
      "\u001b[0;31mUnboundLocalError\u001b[0m: local variable 'res' referenced before assignment"
     ]
    }
   ],
   "source": [
    "for metric in clustering_metrics:\n",
    "        rescore_poses(w_dir, prepared_receptor, pocket_definition, software, w_dir / 'clustering' / f'{metric}_clustered.sdf', rescoring_functions , ncpus)\n"
   ]
  },
  {
   "cell_type": "code",
   "execution_count": null,
   "metadata": {},
   "outputs": [],
   "source": [
    "apply_consensus_methods(w_dir, 'bestpose', 'method6', rescoring_functions, 'min_max')"
   ]
  }
 ],
 "metadata": {
  "kernelspec": {
   "display_name": "wocondock",
   "language": "python",
   "name": "python3"
  },
  "language_info": {
   "codemirror_mode": {
    "name": "ipython",
    "version": 3
   },
   "file_extension": ".py",
   "mimetype": "text/x-python",
   "name": "python",
   "nbconvert_exporter": "python",
   "pygments_lexer": "ipython3",
   "version": "3.10.13"
  },
  "orig_nbformat": 4,
  "vscode": {
   "interpreter": {
    "hash": "10164e316682d9b4b376ca14144ea8a4ff51ebef10350aaa3c3bfce49f02faa4"
   }
  }
 },
 "nbformat": 4,
 "nbformat_minor": 2
}
