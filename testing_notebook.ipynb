{
 "cells": [
  {
   "cell_type": "markdown",
   "metadata": {},
   "source": [
    "**Import required libraries and scripts**"
   ]
  },
  {
   "cell_type": "code",
   "execution_count": 1,
   "metadata": {},
   "outputs": [
    {
     "name": "stderr",
     "output_type": "stream",
     "text": [
      "[00:52:24] Initializing Normalizer\n"
     ]
    },
    {
     "name": "stdout",
     "output_type": "stream",
     "text": [
      "The working directory has been set to: /home/tony/CADD22/wocondock_main\n",
      "The folder: /home/tony/CADD22/wocondock_main/temp already exists\n"
     ]
    }
   ],
   "source": [
    "#Import required libraries and scripts\n",
    "from scripts.library_preparation import *\n",
    "from scripts.utilities import *\n",
    "from scripts.docking_functions import *\n",
    "from scripts.clustering_functions import *\n",
    "from scripts.rescoring_functions import *\n",
    "from scripts.ranking_functions import *\n",
    "from scripts.performance_calculation import *\n",
    "import numpy as np\n",
    "import os\n",
    "\n",
    "software = '/home/tony/CADD22/software'\n",
    "protein_file = '/home/tony/CADD22/wocondock_main/2o1x_A_apo_protoss.pdb'\n",
    "ref_file = '/home/tony/CADD22/wocondock_main/2o1x_A_lig_protoss.sdf'\n",
    "docking_library = '/home/tony/CADD22/wocondock_main/500_of_FCHGroup_LeadLike.sdf'\n",
    "docking_programs = ['SMINA','GNINA','PLANTS']\n",
    "id_column = 'ID'\n",
    "n_poses = 10\n",
    "exhaustiveness = 4\n",
    "\n",
    "#Initialise variables and create a temporary folder\n",
    "w_dir = os.path.dirname(protein_file)\n",
    "print('The working directory has been set to:', w_dir)\n",
    "create_temp_folder(w_dir+'/temp')"
   ]
  },
  {
   "cell_type": "code",
   "execution_count": null,
   "metadata": {},
   "outputs": [],
   "source": [
    "cleaned_pkasolver_df = prepare_library(docking_library, id_column, software, 'pkasolver')"
   ]
  },
  {
   "cell_type": "markdown",
   "metadata": {},
   "source": [
    "**Docking**\n",
    "\n",
    "This function will dock all compounds in the receptor, using the reference ligand as a way to define the binding site. The docking results are written to the temporary folder. "
   ]
  },
  {
   "cell_type": "code",
   "execution_count": 5,
   "metadata": {},
   "outputs": [
    {
     "name": "stdout",
     "output_type": "stream",
     "text": [
      "Splitting docking library into 6 files\n"
     ]
    }
   ],
   "source": [
    "print(f'Splitting docking library into {str(multiprocessing.cpu_count()-2)} files')"
   ]
  },
  {
   "cell_type": "code",
   "execution_count": 4,
   "metadata": {},
   "outputs": [
    {
     "name": "stdout",
     "output_type": "stream",
     "text": [
      "The folder: /home/tony/CADD22/wocondock_main/temp/split_files was created\n",
      "The folder: /home/tony/CADD22/wocondock_main/temp/plants was created\n",
      "Converting protein file to .mol2 format for PLANTS docking...\n",
      "Converting reference file from .sdf to .mol2 format for PLANTS docking...\n",
      "Determining binding site coordinates using PLANTS...\n",
      "Docking with PLANTS complete in 73.2442!\n",
      "Docking with SMINA complete in 52.2637!\n",
      "Docking with GNINA complete in 87.3236!\n"
     ]
    }
   ],
   "source": [
    "docking_splitted(w_dir, protein_file, ref_file, software, docking_programs, exhaustiveness, n_poses)"
   ]
  },
  {
   "cell_type": "code",
   "execution_count": 16,
   "metadata": {},
   "outputs": [
    {
     "name": "stdout",
     "output_type": "stream",
     "text": [
      "['ref.mol2', 'results_split_0', 'config_split_1.config', 'results_split_6', 'split_0.mol2', 'config_split_3.config', 'split_6.mol2', 'results_split_1', 'results_split_4', 'split_7.mol2', 'config_split_5.config', 'config_split_4.config', 'results_split_7', 'results_split_2', 'results_split_8', 'results_split_3', 'results_split_9', 'config_split_7.config', 'split_5.mol2', 'split_1.mol2', 'config_split_2.config', 'config_split_0.config', 'protein.mol2', 'split_2.mol2', 'split_8.mol2', 'split_4.mol2', 'results_split_5']\n",
      "results_split_0\n",
      "Will delete:config_split_1.config\n",
      "results_split_6\n",
      "Will delete:split_0.mol2\n",
      "Will delete:config_split_3.config\n",
      "Will delete:split_6.mol2\n",
      "results_split_1\n",
      "results_split_4\n",
      "Will delete:split_7.mol2\n",
      "Will delete:config_split_5.config\n",
      "Will delete:config_split_4.config\n",
      "results_split_7\n",
      "results_split_2\n",
      "results_split_8\n",
      "results_split_3\n",
      "results_split_9\n",
      "Will delete:config_split_7.config\n",
      "Will delete:split_5.mol2\n",
      "Will delete:split_1.mol2\n",
      "Will delete:config_split_2.config\n",
      "Will delete:config_split_0.config\n",
      "Will delete:split_2.mol2\n",
      "Will delete:split_8.mol2\n",
      "Will delete:split_4.mol2\n",
      "results_split_5\n",
      "ERROR: Failed to Load SMINA poses SDF file!\n",
      "[Errno 2] No such file or directory: 'split_9_smina.sdf'\n",
      "ERROR: Failed to Load GNINA poses SDF file!\n",
      "[Errno 2] No such file or directory: 'split_7_gnina.sdf'\n",
      "ERROR: Failed to Load GNINA poses SDF file!\n",
      "[Errno 2] No such file or directory: 'split_1_gnina.sdf'\n",
      "ERROR: Failed to Load GNINA poses SDF file!\n",
      "[Errno 2] No such file or directory: 'split_3_gnina.sdf'\n",
      "ERROR: Failed to Load GNINA poses SDF file!\n",
      "[Errno 2] No such file or directory: 'split_4_gnina.sdf'\n",
      "ERROR: Failed to Load GNINA poses SDF file!\n",
      "[Errno 2] No such file or directory: 'split_9_gnina.sdf'\n",
      "ERROR: Failed to Load GNINA poses SDF file!\n",
      "[Errno 2] No such file or directory: 'split_6_gnina.sdf'\n",
      "ERROR: Failed to Load GNINA poses SDF file!\n",
      "[Errno 2] No such file or directory: 'split_5_gnina.sdf'\n",
      "ERROR: Failed to Load GNINA poses SDF file!\n",
      "[Errno 2] No such file or directory: 'split_2_gnina.sdf'\n",
      "ERROR: Failed to Load GNINA poses SDF file!\n",
      "[Errno 2] No such file or directory: 'split_8_gnina.sdf'\n",
      "ERROR: Failed to Load GNINA poses SDF file!\n",
      "[Errno 2] No such file or directory: 'split_0_gnina.sdf'\n"
     ]
    },
    {
     "ename": "ValueError",
     "evalue": "No objects to concatenate",
     "output_type": "error",
     "traceback": [
      "\u001b[0;31m---------------------------------------------------------------------------\u001b[0m",
      "\u001b[0;31mValueError\u001b[0m                                Traceback (most recent call last)",
      "Cell \u001b[0;32mIn[16], line 77\u001b[0m\n\u001b[1;32m     74\u001b[0m     \u001b[39mprint\u001b[39m(\u001b[39mf\u001b[39m\u001b[39m'\u001b[39m\u001b[39mCombined all docking poses in \u001b[39m\u001b[39m{\u001b[39;00mtoc\u001b[39m-\u001b[39mtic\u001b[39m:\u001b[39;00m\u001b[39m0.4f\u001b[39m\u001b[39m}\u001b[39;00m\u001b[39m!\u001b[39m\u001b[39m'\u001b[39m)\n\u001b[1;32m     75\u001b[0m     \u001b[39mreturn\u001b[39;00m all_poses\n\u001b[0;32m---> 77\u001b[0m all_poses \u001b[39m=\u001b[39m fetch_poses_splitted(w_dir, n_poses)\n\u001b[1;32m     79\u001b[0m display(all_poses)\n",
      "Cell \u001b[0;32mIn[16], line 70\u001b[0m, in \u001b[0;36mfetch_poses_splitted\u001b[0;34m(w_dir, n_poses)\u001b[0m\n\u001b[1;32m     68\u001b[0m             \u001b[39mprint\u001b[39m(\u001b[39m'\u001b[39m\u001b[39mERROR: Failed to Load GNINA poses SDF file!\u001b[39m\u001b[39m'\u001b[39m)\n\u001b[1;32m     69\u001b[0m             \u001b[39mprint\u001b[39m(e)\n\u001b[0;32m---> 70\u001b[0m gnina_df \u001b[39m=\u001b[39m pd\u001b[39m.\u001b[39;49mconcat(gnina_dataframes)\n\u001b[1;32m     71\u001b[0m all_poses \u001b[39m=\u001b[39m pd\u001b[39m.\u001b[39mconcat([plants_df, smina_df, gnina_df]) \n\u001b[1;32m     72\u001b[0m PandasTools\u001b[39m.\u001b[39mWriteSDF(all_poses, w_dir\u001b[39m+\u001b[39m\u001b[39m'\u001b[39m\u001b[39m/temp/allposes_splitted.sdf\u001b[39m\u001b[39m'\u001b[39m, molColName\u001b[39m=\u001b[39m\u001b[39m'\u001b[39m\u001b[39mMolecule\u001b[39m\u001b[39m'\u001b[39m, idName\u001b[39m=\u001b[39m\u001b[39m'\u001b[39m\u001b[39mPose ID\u001b[39m\u001b[39m'\u001b[39m, properties\u001b[39m=\u001b[39m\u001b[39mlist\u001b[39m(all_poses\u001b[39m.\u001b[39mcolumns))\n",
      "File \u001b[0;32m~/.conda/envs/wocondock/lib/python3.8/site-packages/pandas/util/_decorators.py:331\u001b[0m, in \u001b[0;36mdeprecate_nonkeyword_arguments.<locals>.decorate.<locals>.wrapper\u001b[0;34m(*args, **kwargs)\u001b[0m\n\u001b[1;32m    325\u001b[0m \u001b[39mif\u001b[39;00m \u001b[39mlen\u001b[39m(args) \u001b[39m>\u001b[39m num_allow_args:\n\u001b[1;32m    326\u001b[0m     warnings\u001b[39m.\u001b[39mwarn(\n\u001b[1;32m    327\u001b[0m         msg\u001b[39m.\u001b[39mformat(arguments\u001b[39m=\u001b[39m_format_argument_list(allow_args)),\n\u001b[1;32m    328\u001b[0m         \u001b[39mFutureWarning\u001b[39;00m,\n\u001b[1;32m    329\u001b[0m         stacklevel\u001b[39m=\u001b[39mfind_stack_level(),\n\u001b[1;32m    330\u001b[0m     )\n\u001b[0;32m--> 331\u001b[0m \u001b[39mreturn\u001b[39;00m func(\u001b[39m*\u001b[39;49margs, \u001b[39m*\u001b[39;49m\u001b[39m*\u001b[39;49mkwargs)\n",
      "File \u001b[0;32m~/.conda/envs/wocondock/lib/python3.8/site-packages/pandas/core/reshape/concat.py:368\u001b[0m, in \u001b[0;36mconcat\u001b[0;34m(objs, axis, join, ignore_index, keys, levels, names, verify_integrity, sort, copy)\u001b[0m\n\u001b[1;32m    146\u001b[0m \u001b[39m@deprecate_nonkeyword_arguments\u001b[39m(version\u001b[39m=\u001b[39m\u001b[39mNone\u001b[39;00m, allowed_args\u001b[39m=\u001b[39m[\u001b[39m\"\u001b[39m\u001b[39mobjs\u001b[39m\u001b[39m\"\u001b[39m])\n\u001b[1;32m    147\u001b[0m \u001b[39mdef\u001b[39;00m \u001b[39mconcat\u001b[39m(\n\u001b[1;32m    148\u001b[0m     objs: Iterable[NDFrame] \u001b[39m|\u001b[39m Mapping[HashableT, NDFrame],\n\u001b[0;32m   (...)\u001b[0m\n\u001b[1;32m    157\u001b[0m     copy: \u001b[39mbool\u001b[39m \u001b[39m=\u001b[39m \u001b[39mTrue\u001b[39;00m,\n\u001b[1;32m    158\u001b[0m ) \u001b[39m-\u001b[39m\u001b[39m>\u001b[39m DataFrame \u001b[39m|\u001b[39m Series:\n\u001b[1;32m    159\u001b[0m     \u001b[39m\"\"\"\u001b[39;00m\n\u001b[1;32m    160\u001b[0m \u001b[39m    Concatenate pandas objects along a particular axis.\u001b[39;00m\n\u001b[1;32m    161\u001b[0m \n\u001b[0;32m   (...)\u001b[0m\n\u001b[1;32m    366\u001b[0m \u001b[39m    1   3   4\u001b[39;00m\n\u001b[1;32m    367\u001b[0m \u001b[39m    \"\"\"\u001b[39;00m\n\u001b[0;32m--> 368\u001b[0m     op \u001b[39m=\u001b[39m _Concatenator(\n\u001b[1;32m    369\u001b[0m         objs,\n\u001b[1;32m    370\u001b[0m         axis\u001b[39m=\u001b[39;49maxis,\n\u001b[1;32m    371\u001b[0m         ignore_index\u001b[39m=\u001b[39;49mignore_index,\n\u001b[1;32m    372\u001b[0m         join\u001b[39m=\u001b[39;49mjoin,\n\u001b[1;32m    373\u001b[0m         keys\u001b[39m=\u001b[39;49mkeys,\n\u001b[1;32m    374\u001b[0m         levels\u001b[39m=\u001b[39;49mlevels,\n\u001b[1;32m    375\u001b[0m         names\u001b[39m=\u001b[39;49mnames,\n\u001b[1;32m    376\u001b[0m         verify_integrity\u001b[39m=\u001b[39;49mverify_integrity,\n\u001b[1;32m    377\u001b[0m         copy\u001b[39m=\u001b[39;49mcopy,\n\u001b[1;32m    378\u001b[0m         sort\u001b[39m=\u001b[39;49msort,\n\u001b[1;32m    379\u001b[0m     )\n\u001b[1;32m    381\u001b[0m     \u001b[39mreturn\u001b[39;00m op\u001b[39m.\u001b[39mget_result()\n",
      "File \u001b[0;32m~/.conda/envs/wocondock/lib/python3.8/site-packages/pandas/core/reshape/concat.py:425\u001b[0m, in \u001b[0;36m_Concatenator.__init__\u001b[0;34m(self, objs, axis, join, keys, levels, names, ignore_index, verify_integrity, copy, sort)\u001b[0m\n\u001b[1;32m    422\u001b[0m     objs \u001b[39m=\u001b[39m \u001b[39mlist\u001b[39m(objs)\n\u001b[1;32m    424\u001b[0m \u001b[39mif\u001b[39;00m \u001b[39mlen\u001b[39m(objs) \u001b[39m==\u001b[39m \u001b[39m0\u001b[39m:\n\u001b[0;32m--> 425\u001b[0m     \u001b[39mraise\u001b[39;00m \u001b[39mValueError\u001b[39;00m(\u001b[39m\"\u001b[39m\u001b[39mNo objects to concatenate\u001b[39m\u001b[39m\"\u001b[39m)\n\u001b[1;32m    427\u001b[0m \u001b[39mif\u001b[39;00m keys \u001b[39mis\u001b[39;00m \u001b[39mNone\u001b[39;00m:\n\u001b[1;32m    428\u001b[0m     objs \u001b[39m=\u001b[39m \u001b[39mlist\u001b[39m(com\u001b[39m.\u001b[39mnot_none(\u001b[39m*\u001b[39mobjs))\n",
      "\u001b[0;31mValueError\u001b[0m: No objects to concatenate"
     ]
    }
   ],
   "source": [
    "def fetch_poses_splitted(w_dir, n_poses):\n",
    "    '''\n",
    "    This function is used to fetch the poses from different docking results (SMINA, GNINA, PLANTS) and create a new dataframe with the poses and their corresponding scores.\n",
    "    It takes two input parameters:\n",
    "\n",
    "    w_dir: the path of the working_directory\n",
    "    n_poses: number of poses to be fetched\n",
    "    The function uses the PandasTools library to load the SDF files and creates a new dataframe with the poses and scores. It also renames the columns and modifies the ID column to include the source of the pose (SMINA, GNINA, PLANTS). In case of an error, the function will print an error message.\n",
    "    '''\n",
    "    tic = time.perf_counter()\n",
    "    #Fetch PLANTS poses\n",
    "    plants_dataframes = []\n",
    "    results_folders = [item for item in os.listdir(w_dir+'/temp/plants')]\n",
    "    for item in results_folders:\n",
    "        if item.startswith('results'):\n",
    "            file_path = os.path.join(w_dir+'/temp/plants', item, 'docked_ligands.mol2')\n",
    "            if os.path.isfile(file_path):\n",
    "                try:\n",
    "                    obabel_command = f'obabel -imol2 {file_path} -O {file_path.replace(\".mol2\",\".sdf\")}'\n",
    "                    subprocess.call(obabel_command, shell=True, stdout=DEVNULL, stderr=STDOUT)\n",
    "                    plants_poses = PandasTools.LoadSDF(file_path.replace('.mol2','.sdf'), idName='ID', molColName='Molecule',includeFingerprints=False, embedProps=False, removeHs=False, strictParsing=True)\n",
    "                    plants_scores = pd.read_csv(file_path.replace('docked_ligands.mol2','ranking.csv')).rename(columns={'LIGAND_ENTRY':'ID', 'TOTAL_SCORE':'CHEMPLP'})[['ID', 'CHEMPLP']]\n",
    "                    plants_df = pd.merge(plants_scores, plants_poses, on='ID')\n",
    "                    for i, row in plants_df.iterrows():\n",
    "                        split = row['ID'].split(\"_\")\n",
    "                        conformer_id = str(split[4])\n",
    "                        plants_df.loc[i, ['Pose ID']] = split[0]+\"_PLANTS_\"+conformer_id\n",
    "                        plants_df.loc[i, ['ID']] = split[0]\n",
    "                    plants_dataframes.append(plants_df)\n",
    "                except Exception as e:\n",
    "                    print('ERROR: Failed to convert PLANTS docking results file to .sdf!')\n",
    "                    print(e)\n",
    "        elif item in ['protein.mol2', 'ref.mol2']:\n",
    "            pass\n",
    "        else:\n",
    "            Path(os.path.join(w_dir+'/temp/plants', item)).unlink(missing_ok=True)\n",
    "    plants_df = pd.concat(plants_dataframes)\n",
    "    #Fetch SMINA poses\n",
    "    try:\n",
    "        smina_dataframes = [PandasTools.LoadSDF(w_dir+'/temp/smina/'+file, idName='ID', molColName='Molecule',includeFingerprints=False, embedProps=False, removeHs=False, strictParsing=True) for file in os.listdir(w_dir+'/temp/smina/') if file.endswith('.sdf')]\n",
    "        smina_df = pd.concat(smina_dataframes)\n",
    "        smina_df['number'] = [*range(1, int(n_poses)+1, 1)] * int(len(smina_df)/int(n_poses)) + [*range(1, len(smina_df)%int(n_poses)+1, 1)]\n",
    "        smina_df['Pose ID'] = smina_df['ID']+'_SMINA_'+smina_df['number'].apply(str)\n",
    "        smina_df.drop('number', axis=1, inplace=True)\n",
    "        smina_df = smina_df.rename(columns={'minimizedAffinity':'SMINA_Affinity'})\n",
    "    except Exception as e:\n",
    "        print('ERROR: Failed to Load SMINA poses SDF file!')\n",
    "        print(e)\n",
    "\n",
    "    #Fetch GNINA poses\n",
    "    gnina_dataframes = []\n",
    "    for file in os.listdir(w_dir+'/temp/gnina/'):\n",
    "        if file.endswith('.sdf'):\n",
    "            try:\n",
    "                gnina_df = PandasTools.LoadSDF(w_dir+'/temp/gnina/'+file, idName='ID', molColName='Molecule',includeFingerprints=False, embedProps=False, removeHs=False, strictParsing=True)\n",
    "                list_ = [*range(1, int(n_poses)+1, 1)]\n",
    "                ser = list_ * int(len(gnina_df)/len(list_))\n",
    "                gnina_df['number'] = ser + list_[:len(gnina_df)-len(ser)]\n",
    "                for i, row in gnina_df.iterrows():\n",
    "                    gnina_df.loc[i, ['Pose ID']] = row['ID']+'_GNINA_'+str(row['number'])\n",
    "                gnina_df.drop('number', axis=1, inplace=True)\n",
    "                gnina_df = gnina_df.rename(columns={'minimizedAffinity':'GNINA_Affinity'})\n",
    "                gnina_dataframes.append(gnina_df)\n",
    "            except Exception as e:\n",
    "                print('ERROR: Failed to Load GNINA poses SDF file!')\n",
    "                print(e)\n",
    "    gnina_df = pd.concat(gnina_dataframes)\n",
    "    all_poses = pd.concat([plants_df, smina_df, gnina_df]) \n",
    "    PandasTools.WriteSDF(all_poses, w_dir+'/temp/allposes_splitted.sdf', molColName='Molecule', idName='Pose ID', properties=list(all_poses.columns))\n",
    "    toc = time.perf_counter()\n",
    "    print(f'Combined all docking poses in {toc-tic:0.4f}!')\n",
    "    return all_poses\n",
    "\n",
    "all_poses = fetch_poses_splitted(w_dir, n_poses)\n",
    "\n",
    "display(all_poses)"
   ]
  },
  {
   "cell_type": "code",
   "execution_count": 3,
   "metadata": {},
   "outputs": [
    {
     "name": "stdout",
     "output_type": "stream",
     "text": [
      "Docking with SMINA complete in 96.0203!\n",
      "Docking with GNINA complete in 139.5086!\n",
      "Converting protein file to .mol2 format for PLANTS docking...\n",
      "Converting reference file from .sdf to .mol2 format for PLANTS docking...\n",
      "Determining binding site coordinates using PLANTS...\n",
      "Writing PLANTS config file...\n",
      "Starting PLANTS docking...\n"
     ]
    },
    {
     "name": "stderr",
     "output_type": "stream",
     "text": [
      "1 molecule converted\n",
      "10 molecules converted\n"
     ]
    },
    {
     "name": "stdout",
     "output_type": "stream",
     "text": [
      "Converting PLANTS poses to .sdf format...\n",
      "Docking with PLANTS complete in 212.2481!\n",
      "Combined all docking poses in 0.6044!\n",
      "Finished docking in 448.3839!\n"
     ]
    }
   ],
   "source": [
    "all_poses = docking(protein_file, ref_file, software, docking_programs, exhaustiveness, n_poses)"
   ]
  },
  {
   "cell_type": "markdown",
   "metadata": {},
   "source": [
    "**Clustering**\n",
    "\n",
    "We will first load all the poses generated from the docking run. The cluster() function performs the calculation of the clustering metrics (for now simpleRMSD and electroshape similarity), then performs the clustering using the k-medoids clustering algorithm with the number of clusters optimised using silhouette score. Finally, all cluster centers are collected and written to a file in the temporary directory (/temp/clustering/) (one file per clustering metric)."
   ]
  },
  {
   "cell_type": "code",
   "execution_count": null,
   "metadata": {},
   "outputs": [],
   "source": [
    "cluster_dask('RMSD', w_dir, protein_file)"
   ]
  },
  {
   "cell_type": "code",
   "execution_count": null,
   "metadata": {},
   "outputs": [],
   "source": [
    "cluster('bestpose', w_dir, protein_file)"
   ]
  },
  {
   "cell_type": "code",
   "execution_count": null,
   "metadata": {},
   "outputs": [],
   "source": [
    "cluster('espsim', w_dir, protein_file)\n",
    "cluster('spyRMSD', w_dir, protein_file)\n",
    "cluster('USRCAT', w_dir, protein_file)\n",
    "cluster('RMSD', w_dir, protein_file)\n",
    "cluster('3DScore', w_dir, protein_file)"
   ]
  },
  {
   "cell_type": "markdown",
   "metadata": {},
   "source": [
    "**Rescoring**\n",
    "\n",
    "The file containing all the cluster centers is then rescored using all scoring functions available (GNINA, Vina, AutoDock4, PLP, CHEMPLP, RF-Score-VS). The rescored output is return as a dataframe."
   ]
  },
  {
   "cell_type": "code",
   "execution_count": null,
   "metadata": {},
   "outputs": [],
   "source": [
    "RMSD_rescored = rescore_all(w_dir, protein_file, ref_file, software, w_dir+'/temp/clustering/RMSD_clustered.sdf')\n",
    "espsim_rescored = rescore_all(w_dir, protein_file, ref_file, software, w_dir+'/temp/clustering/espsim_clustered.sdf')\n",
    "spyRMSD_rescored = rescore_all(w_dir, protein_file, ref_file, software, w_dir+'/temp/clustering/spyRMSD_clustered.sdf')\n",
    "USRCAT_rescored = rescore_all(w_dir, protein_file, ref_file, software, w_dir+'/temp/clustering/USRCAT_clustered.sdf')\n",
    "DScore_rescored = rescore_all(w_dir, protein_file, ref_file, software, w_dir+'/temp/clustering/3DScore_clustered.sdf')\n",
    "bestpose_rescored = rescore_all(w_dir, protein_file, ref_file, software, w_dir+'/temp/clustering/bestpose_clustered.sdf')\n",
    "\n"
   ]
  },
  {
   "cell_type": "markdown",
   "metadata": {},
   "source": [
    "**Final ranking methods**\n",
    "\n",
    "This code calculates the final ranking of compounds using various methods.\n",
    "*Method 1* : Calculates ECR value for each cluster center, then outputs the top ranked center.\n",
    "*Method 2* : Calculates ECR value for each cluster center, then outputs the average ECR value for each compound.\n",
    "*Method 3* : Calculates the average rank of each compound, then ouputs the corresponding ECR value for each compound.\n",
    "*Method 6* : Calculates Z-score for each cluster center, then ouputs the top ranked center.\n",
    "*Method 7* : Calculates Z-score for each cluster center, then ouputs the average Z-score for each compound.\n",
    "\n",
    "All methods are then combined into a single dataframe for comparison purposes."
   ]
  },
  {
   "cell_type": "code",
   "execution_count": null,
   "metadata": {},
   "outputs": [],
   "source": [
    "apply_ranking_methods_simplified(w_dir)"
   ]
  },
  {
   "cell_type": "code",
   "execution_count": null,
   "metadata": {},
   "outputs": [],
   "source": [
    "test_df = pd.read_csv('/home/tony/CADD22/wocondock_refactored_chatgpt/temp/ranking/ranking_results.csv')\n",
    "def show_correlation(dataframe):\n",
    "    matrix = dataframe.corr().round(2)\n",
    "    mask = np.triu(np.ones_like(matrix, dtype=bool))\n",
    "    sns.heatmap(matrix, mask = mask, annot=False, vmax=1, vmin=-1, center=0, linewidths=.5, cmap='coolwarm')\n",
    "    plt.show()\n",
    "\n",
    "show_correlation(test_df)"
   ]
  },
  {
   "cell_type": "code",
   "execution_count": null,
   "metadata": {},
   "outputs": [],
   "source": [
    "calculate_EFs(w_dir, docking_library)"
   ]
  }
 ],
 "metadata": {
  "kernelspec": {
   "display_name": "Python 3.8.13 ('wocondock')",
   "language": "python",
   "name": "python3"
  },
  "language_info": {
   "codemirror_mode": {
    "name": "ipython",
    "version": 3
   },
   "file_extension": ".py",
   "mimetype": "text/x-python",
   "name": "python",
   "nbconvert_exporter": "python",
   "pygments_lexer": "ipython3",
   "version": "3.8.13"
  },
  "orig_nbformat": 4,
  "vscode": {
   "interpreter": {
    "hash": "ac9acbc93af693fb4e01b586b9d883cf48eab2850c268069ebbf85c5f9fbe2b9"
   }
  }
 },
 "nbformat": 4,
 "nbformat_minor": 2
}
