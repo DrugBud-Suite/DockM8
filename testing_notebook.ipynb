{
 "cells": [
  {
   "attachments": {},
   "cell_type": "markdown",
   "metadata": {},
   "source": [
    "**Import required libraries and scripts**"
   ]
  },
  {
   "cell_type": "code",
   "execution_count": null,
   "metadata": {},
   "outputs": [
    {
     "name": "stderr",
     "output_type": "stream",
     "text": [
      "[16:55:38] Initializing Normalizer\n"
     ]
    },
    {
     "ename": "ModuleNotFoundError",
     "evalue": "No module named 'meeko'",
     "output_type": "error",
     "traceback": [
      "\u001b[0;31m---------------------------------------------------------------------------\u001b[0m",
      "\u001b[0;31mModuleNotFoundError\u001b[0m                       Traceback (most recent call last)",
      "\u001b[1;32m/home/tony/DockM8/testing_notebook.ipynb Cell 2\u001b[0m line \u001b[0;36m2\n\u001b[1;32m      <a href='vscode-notebook-cell:/home/tony/DockM8/testing_notebook.ipynb#W1sZmlsZQ%3D%3D?line=0'>1</a>\u001b[0m \u001b[39m#Import required libraries and scripts\u001b[39;00m\n\u001b[0;32m----> <a href='vscode-notebook-cell:/home/tony/DockM8/testing_notebook.ipynb#W1sZmlsZQ%3D%3D?line=1'>2</a>\u001b[0m \u001b[39mfrom\u001b[39;00m \u001b[39mscripts\u001b[39;00m\u001b[39m.\u001b[39;00m\u001b[39mlibrary_preparation\u001b[39;00m \u001b[39mimport\u001b[39;00m \u001b[39m*\u001b[39m\n\u001b[1;32m      <a href='vscode-notebook-cell:/home/tony/DockM8/testing_notebook.ipynb#W1sZmlsZQ%3D%3D?line=2'>3</a>\u001b[0m \u001b[39mfrom\u001b[39;00m \u001b[39mscripts\u001b[39;00m\u001b[39m.\u001b[39;00m\u001b[39mutilities\u001b[39;00m \u001b[39mimport\u001b[39;00m \u001b[39m*\u001b[39m\n\u001b[1;32m      <a href='vscode-notebook-cell:/home/tony/DockM8/testing_notebook.ipynb#W1sZmlsZQ%3D%3D?line=3'>4</a>\u001b[0m \u001b[39mfrom\u001b[39;00m \u001b[39mscripts\u001b[39;00m\u001b[39m.\u001b[39;00m\u001b[39mdocking_functions\u001b[39;00m \u001b[39mimport\u001b[39;00m \u001b[39m*\u001b[39m\n",
      "File \u001b[0;32m~/DockM8/scripts/library_preparation.py:9\u001b[0m\n\u001b[1;32m      7\u001b[0m \u001b[39mfrom\u001b[39;00m \u001b[39mrdkit\u001b[39;00m\u001b[39m.\u001b[39;00m\u001b[39mChem\u001b[39;00m \u001b[39mimport\u001b[39;00m PandasTools\n\u001b[1;32m      8\u001b[0m \u001b[39mfrom\u001b[39;00m \u001b[39mchembl_structure_pipeline\u001b[39;00m \u001b[39mimport\u001b[39;00m standardizer\n\u001b[0;32m----> 9\u001b[0m \u001b[39mfrom\u001b[39;00m \u001b[39mscripts\u001b[39;00m\u001b[39m.\u001b[39;00m\u001b[39mutilities\u001b[39;00m \u001b[39mimport\u001b[39;00m \u001b[39m*\u001b[39m\n\u001b[1;32m     10\u001b[0m \u001b[39mfrom\u001b[39;00m \u001b[39mpathlib\u001b[39;00m \u001b[39mimport\u001b[39;00m Path\n\u001b[1;32m     11\u001b[0m \u001b[39mimport\u001b[39;00m \u001b[39mtqdm\u001b[39;00m\n",
      "File \u001b[0;32m~/DockM8/scripts/utilities.py:7\u001b[0m\n\u001b[1;32m      5\u001b[0m \u001b[39mimport\u001b[39;00m \u001b[39msubprocess\u001b[39;00m\n\u001b[1;32m      6\u001b[0m \u001b[39mfrom\u001b[39;00m \u001b[39mrdkit\u001b[39;00m \u001b[39mimport\u001b[39;00m Chem\n\u001b[0;32m----> 7\u001b[0m \u001b[39mfrom\u001b[39;00m \u001b[39mmeeko\u001b[39;00m \u001b[39mimport\u001b[39;00m MoleculePreparation\n\u001b[1;32m      8\u001b[0m \u001b[39mfrom\u001b[39;00m \u001b[39mmeeko\u001b[39;00m \u001b[39mimport\u001b[39;00m PDBQTWriterLegacy\n\u001b[1;32m      9\u001b[0m \u001b[39mimport\u001b[39;00m \u001b[39mopenbabel\u001b[39;00m\n",
      "\u001b[0;31mModuleNotFoundError\u001b[0m: No module named 'meeko'"
     ]
    }
   ],
   "source": [
    "#Import required libraries and scripts\n",
    "from scripts.library_preparation import *\n",
    "from scripts.utilities import *\n",
    "from scripts.docking_functions import *\n",
    "from scripts.clustering_functions import *\n",
    "from scripts.rescoring_functions import *\n",
    "from scripts.consensus_methods import *\n",
    "from scripts.performance_calculation import *\n",
    "from scripts.dogsitescorer import *\n",
    "from scripts.get_pocket import *\n",
    "from scripts.postprocessing import *\n",
    "from scripts.protein_preparation import *"
   ]
  },
  {
   "cell_type": "code",
   "execution_count": null,
   "metadata": {},
   "outputs": [],
   "source": [
    "software = Path('/home/tony/DockM8/software')\n",
    "receptor = Path('/home/tony/DockM8/testing_single_docking/protein.pdb')\n",
    "ref_file = Path('/home/tony/DockM8/testing_single_docking/ref.sdf')\n",
    "docking_library = Path('/home/tony/DockM8/testing_single_docking/library.sdf')\n",
    "docking_programs = DOCKING_PROGRAMS\n",
    "clustering_metrics = list(CLUSTERING_METRICS.keys())+['bestpose', 'bestpose_GNINA', 'bestpose_SMINA', 'bestpose_PLANTS', 'bestpose_QVINAW', 'bestpose_QVINA2']\n",
    "rescoring_functions = list(RESCORING_FUNCTIONS.keys())\n",
    "rescoring_functions.remove('RTMScore')\n",
    "id_column = 'ID'\n",
    "n_poses = 10\n",
    "exhaustiveness = 8\n",
    "protonation = 'pkasolver'\n",
    "ncpus = 5\n",
    "pocket = 'reference'\n",
    "prepare_protein = 1\n",
    "open('log.txt', 'w').close()\n"
   ]
  },
  {
   "cell_type": "code",
   "execution_count": null,
   "metadata": {},
   "outputs": [],
   "source": [
    "if prepare_protein == 1:\n",
    "    #Prepare the protein\n",
    "    prepared_receptor = prepare_protein_protoss(receptor)\n",
    "else:\n",
    "    prepared_receptor = receptor\n",
    "\n",
    "#Create a temporary folder for all further calculations\n",
    "w_dir = prepared_receptor.parent / prepared_receptor.stem\n",
    "print('The working directory has been set to:', w_dir)\n",
    "(w_dir).mkdir(exist_ok=True)\n",
    "\n",
    "if pocket == 'reference':\n",
    "    pocket_definition = get_pocket(ref_file, prepared_receptor, 8)\n",
    "    print(pocket_definition)\n",
    "if pocket == 'RoG':\n",
    "    pocket_definition = get_pocket_RoG(ref_file, prepared_receptor)\n",
    "    print(pocket_definition)\n",
    "elif pocket == 'dogsitescorer':\n",
    "    pocket_definition = binding_site_coordinates_dogsitescorer(prepared_receptor, w_dir, method='volume')\n",
    "    print(pocket_definition)"
   ]
  },
  {
   "cell_type": "code",
   "execution_count": null,
   "metadata": {},
   "outputs": [],
   "source": [
    "if (w_dir / 'final_library.sdf').is_file() == False:\n",
    "    prepare_library(docking_library, w_dir, id_column, protonation, software, ncpus)"
   ]
  },
  {
   "cell_type": "code",
   "execution_count": null,
   "metadata": {},
   "outputs": [],
   "source": [
    "docking(w_dir, prepared_receptor, pocket_definition, software, docking_programs, exhaustiveness, n_poses, 5, 'multiprocessing')"
   ]
  },
  {
   "cell_type": "code",
   "execution_count": null,
   "metadata": {},
   "outputs": [],
   "source": [
    "concat_all_poses(w_dir, docking_programs, prepared_receptor)"
   ]
  },
  {
   "cell_type": "code",
   "execution_count": null,
   "metadata": {},
   "outputs": [],
   "source": [
    "print('Loading all poses SDF file...')\n",
    "tic = time.perf_counter()\n",
    "all_poses = PandasTools.LoadSDF(str(w_dir / 'allposes.sdf'), idName='Pose ID', molColName='Molecule', includeFingerprints=False, strictParsing=True)\n",
    "print(f'Loaded {len(all_poses)} poses.')\n",
    "toc = time.perf_counter()\n",
    "print(f'Finished loading all poses SDF in {toc-tic:0.4f}!...')\n"
   ]
  },
  {
   "cell_type": "code",
   "execution_count": null,
   "metadata": {},
   "outputs": [],
   "source": [
    "for metric in clustering_metrics:\n",
    "    if os.path.isfile(w_dir / f'clustering/{metric}_clustered.sdf') == False:\n",
    "        cluster_pebble(metric, 'KMedoids', w_dir, prepared_receptor, pocket_definition, software, all_poses, ncpus)"
   ]
  },
  {
   "cell_type": "code",
   "execution_count": null,
   "metadata": {},
   "outputs": [],
   "source": [
    "for metric in clustering_metrics:\n",
    "        rescore_poses(w_dir, prepared_receptor, pocket_definition, software, w_dir / 'clustering' / f'{metric}_clustered.sdf', rescoring_functions , ncpus)"
   ]
  },
  {
   "cell_type": "code",
   "execution_count": null,
   "metadata": {},
   "outputs": [],
   "source": [
    "apply_consensus_methods(w_dir, 'bestpose', 'ECR_best', rescoring_functions, 'min_max')"
   ]
  }
 ],
 "metadata": {
  "kernelspec": {
   "display_name": "wocondock",
   "language": "python",
   "name": "python3"
  },
  "language_info": {
   "codemirror_mode": {
    "name": "ipython",
    "version": 3
   },
   "file_extension": ".py",
   "mimetype": "text/x-python",
   "name": "python",
   "nbconvert_exporter": "python",
   "pygments_lexer": "ipython3",
   "version": "3.10.13"
  },
  "orig_nbformat": 4,
  "vscode": {
   "interpreter": {
    "hash": "10164e316682d9b4b376ca14144ea8a4ff51ebef10350aaa3c3bfce49f02faa4"
   }
  }
 },
 "nbformat": 4,
 "nbformat_minor": 2
}
