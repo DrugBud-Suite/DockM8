{
 "cells": [
  {
   "attachments": {},
   "cell_type": "markdown",
   "metadata": {},
   "source": [
    "**Import required libraries and scripts**"
   ]
  },
  {
   "cell_type": "code",
   "execution_count": 2,
   "metadata": {},
   "outputs": [
    {
     "name": "stderr",
     "output_type": "stream",
     "text": [
      "[10:41:30] Initializing Normalizer\n",
      "/home/alacournola/anaconda3/envs/dockm8/lib/python3.8/site-packages/MDAnalysis/coordinates/chemfiles.py:108: DeprecationWarning: distutils Version classes are deprecated. Use packaging.version instead.\n",
      "  MIN_CHEMFILES_VERSION = LooseVersion(\"0.9\")\n",
      "[TRJ.py:171 - <module>()] netCDF4 is not available. Writing AMBER ncdf files will be slow.\n",
      "/home/alacournola/anaconda3/envs/dockm8/lib/python3.8/site-packages/MDAnalysis/coordinates/TRJ.py:1209: DeprecationWarning: Please use `netcdf_file` from the `scipy.io` namespace, the `scipy.io.netcdf` namespace is deprecated.\n",
      "  class NCDFPicklable(scipy.io.netcdf.netcdf_file):\n"
     ]
    }
   ],
   "source": [
    "import os\n",
    "from scripts.library_preparation import *\n",
    "from scripts.utilities import *\n",
    "from scripts.docking_functions import *\n",
    "from scripts.clustering_functions import *\n",
    "from scripts.rescoring_functions import *\n",
    "from scripts.performance_calculation import *\n",
    "from scripts.performance_calculation import *\n",
    "from scripts.dogsitescorer import *\n",
    "from scripts.get_pocket import *\n"
   ]
  },
  {
   "cell_type": "code",
   "execution_count": 1,
   "metadata": {},
   "outputs": [],
   "source": [
    "%load_ext memory_profiler"
   ]
  },
  {
   "cell_type": "code",
   "execution_count": 3,
   "metadata": {},
   "outputs": [
    {
     "name": "stdout",
     "output_type": "stream",
     "text": [
      "hdac2\n",
      "The working directory has been set to: /home/alacournola/DEKOIS-noprot/hdac2\n",
      "The folder: /home/alacournola/DEKOIS-noprot/hdac2/temp already exists\n",
      "The folder: /home/alacournola/DEKOIS-noprot/hdac2/temp/rescoring_RMSD_clustered already exists\n",
      "\n",
      "[2023-May-11 10:41:34]: /gnina_rescoring folder already exists, skipping gnina rescoring\n",
      "\n",
      "[2023-May-11 10:41:34]: /AD4_rescoring folder already exists, skipping AD4 rescoring\n",
      "\n",
      "[2023-May-11 10:41:34]: /chemplp_rescoring folder already exists, skipping chemplp rescoring\n",
      "\n",
      "[2023-May-11 10:41:34]: /rfscorevs_rescoring folder already exists, skipping rfscorevs rescoring\n",
      "\n",
      "[2023-May-11 10:41:34]: /LinF9_rescoring folder already exists, skipping LinF9 rescoring\n",
      "\n",
      "[2023-May-11 10:41:34]: /SCORCH_rescoring folder already exists, skipping SCORCH rescoring\n",
      "\n",
      "[2023-May-11 10:41:34]: /RTMScore_rescoring folder already exists, skipping RTMScore rescoring\n",
      "\n",
      "[2023-May-11 10:41:34]: /vinardo_rescoring folder already exists, skipping vinardo rescoring\n",
      "\n",
      "[2023-May-11 10:41:34]: Rescoring complete in 0.0046!\n",
      "peak memory: 449.52 MiB, increment: 0.01 MiB\n",
      "The folder: /home/alacournola/DEKOIS-noprot/hdac2/temp/rescoring_spyRMSD_clustered already exists\n",
      "\n",
      "[2023-May-11 10:41:34]: /gnina_rescoring folder already exists, skipping gnina rescoring\n",
      "\n",
      "[2023-May-11 10:41:34]: /AD4_rescoring folder already exists, skipping AD4 rescoring\n",
      "\n",
      "[2023-May-11 10:41:34]: /chemplp_rescoring folder already exists, skipping chemplp rescoring\n",
      "\n",
      "[2023-May-11 10:41:34]: /rfscorevs_rescoring folder already exists, skipping rfscorevs rescoring\n",
      "\n",
      "[2023-May-11 10:41:34]: /LinF9_rescoring folder already exists, skipping LinF9 rescoring\n",
      "\n",
      "[2023-May-11 10:41:34]: /SCORCH_rescoring folder already exists, skipping SCORCH rescoring\n",
      "\n",
      "[2023-May-11 10:41:34]: /RTMScore_rescoring folder already exists, skipping RTMScore rescoring\n",
      "\n",
      "[2023-May-11 10:41:34]: /vinardo_rescoring folder already exists, skipping vinardo rescoring\n",
      "\n",
      "[2023-May-11 10:41:34]: Rescoring complete in 0.0038!\n",
      "peak memory: 449.52 MiB, increment: 0.00 MiB\n",
      "The folder: /home/alacournola/DEKOIS-noprot/hdac2/temp/rescoring_espsim_clustered already exists\n",
      "\n",
      "[2023-May-11 10:41:34]: /gnina_rescoring folder already exists, skipping gnina rescoring\n",
      "\n",
      "[2023-May-11 10:41:34]: /AD4_rescoring folder already exists, skipping AD4 rescoring\n",
      "\n",
      "[2023-May-11 10:41:34]: /chemplp_rescoring folder already exists, skipping chemplp rescoring\n",
      "\n",
      "[2023-May-11 10:41:34]: /rfscorevs_rescoring folder already exists, skipping rfscorevs rescoring\n",
      "\n",
      "[2023-May-11 10:41:34]: /LinF9_rescoring folder already exists, skipping LinF9 rescoring\n",
      "\n",
      "[2023-May-11 10:41:34]: /SCORCH_rescoring folder already exists, skipping SCORCH rescoring\n",
      "\n",
      "[2023-May-11 10:41:34]: /RTMScore_rescoring folder already exists, skipping RTMScore rescoring\n",
      "\n",
      "[2023-May-11 10:41:34]: /vinardo_rescoring folder already exists, skipping vinardo rescoring\n",
      "\n",
      "[2023-May-11 10:41:34]: Rescoring complete in 0.0038!\n",
      "peak memory: 449.52 MiB, increment: 0.00 MiB\n",
      "The folder: /home/alacournola/DEKOIS-noprot/hdac2/temp/rescoring_3DScore_clustered already exists\n",
      "\n",
      "[2023-May-11 10:41:35]: /gnina_rescoring folder already exists, skipping gnina rescoring\n",
      "\n",
      "[2023-May-11 10:41:35]: /AD4_rescoring folder already exists, skipping AD4 rescoring\n",
      "\n",
      "[2023-May-11 10:41:35]: /chemplp_rescoring folder already exists, skipping chemplp rescoring\n",
      "\n",
      "[2023-May-11 10:41:35]: /rfscorevs_rescoring folder already exists, skipping rfscorevs rescoring\n",
      "\n",
      "[2023-May-11 10:41:35]: /LinF9_rescoring folder already exists, skipping LinF9 rescoring\n",
      "\n",
      "[2023-May-11 10:41:35]: /SCORCH_rescoring folder already exists, skipping SCORCH rescoring\n",
      "\n",
      "[2023-May-11 10:41:35]: /RTMScore_rescoring folder already exists, skipping RTMScore rescoring\n",
      "\n",
      "[2023-May-11 10:41:35]: /vinardo_rescoring folder already exists, skipping vinardo rescoring\n",
      "\n",
      "[2023-May-11 10:41:35]: Rescoring complete in 0.0039!\n",
      "peak memory: 449.52 MiB, increment: 0.00 MiB\n",
      "The folder: /home/alacournola/DEKOIS-noprot/hdac2/temp/rescoring_bestpose_clustered already exists\n",
      "\n",
      "[2023-May-11 10:41:35]: /gnina_rescoring folder already exists, skipping gnina rescoring\n",
      "\n",
      "[2023-May-11 10:41:35]: /AD4_rescoring folder already exists, skipping AD4 rescoring\n",
      "\n",
      "[2023-May-11 10:41:35]: /chemplp_rescoring folder already exists, skipping chemplp rescoring\n",
      "\n",
      "[2023-May-11 10:41:35]: /rfscorevs_rescoring folder already exists, skipping rfscorevs rescoring\n",
      "\n",
      "[2023-May-11 10:41:35]: /LinF9_rescoring folder already exists, skipping LinF9 rescoring\n",
      "\n",
      "[2023-May-11 10:41:35]: /SCORCH_rescoring folder already exists, skipping SCORCH rescoring\n",
      "\n",
      "[2023-May-11 10:41:35]: /RTMScore_rescoring folder already exists, skipping RTMScore rescoring\n",
      "\n",
      "[2023-May-11 10:41:35]: /vinardo_rescoring folder already exists, skipping vinardo rescoring\n",
      "\n",
      "[2023-May-11 10:41:35]: Rescoring complete in 0.0037!\n",
      "peak memory: 449.52 MiB, increment: 0.00 MiB\n",
      "The folder: /home/alacournola/DEKOIS-noprot/hdac2/temp/rescoring_bestpose_GNINA_clustered already exists\n",
      "\n",
      "[2023-May-11 10:41:35]: /gnina_rescoring folder already exists, skipping gnina rescoring\n",
      "\n",
      "[2023-May-11 10:41:35]: /AD4_rescoring folder already exists, skipping AD4 rescoring\n",
      "\n",
      "[2023-May-11 10:41:35]: /chemplp_rescoring folder already exists, skipping chemplp rescoring\n",
      "\n",
      "[2023-May-11 10:41:35]: /rfscorevs_rescoring folder already exists, skipping rfscorevs rescoring\n",
      "\n",
      "[2023-May-11 10:41:35]: /LinF9_rescoring folder already exists, skipping LinF9 rescoring\n",
      "\n",
      "[2023-May-11 10:41:35]: /SCORCH_rescoring folder already exists, skipping SCORCH rescoring\n",
      "\n",
      "[2023-May-11 10:41:35]: /RTMScore_rescoring folder already exists, skipping RTMScore rescoring\n",
      "\n",
      "[2023-May-11 10:41:35]: /vinardo_rescoring folder already exists, skipping vinardo rescoring\n",
      "\n",
      "[2023-May-11 10:41:35]: Rescoring complete in 0.0040!\n",
      "peak memory: 449.52 MiB, increment: 0.00 MiB\n",
      "The folder: /home/alacournola/DEKOIS-noprot/hdac2/temp/rescoring_bestpose_SMINA_clustered already exists\n",
      "\n",
      "[2023-May-11 10:41:36]: /gnina_rescoring folder already exists, skipping gnina rescoring\n",
      "\n",
      "[2023-May-11 10:41:36]: /AD4_rescoring folder already exists, skipping AD4 rescoring\n",
      "\n",
      "[2023-May-11 10:41:36]: /chemplp_rescoring folder already exists, skipping chemplp rescoring\n",
      "\n",
      "[2023-May-11 10:41:36]: /rfscorevs_rescoring folder already exists, skipping rfscorevs rescoring\n",
      "\n",
      "[2023-May-11 10:41:36]: /LinF9_rescoring folder already exists, skipping LinF9 rescoring\n",
      "\n",
      "[2023-May-11 10:41:36]: /SCORCH_rescoring folder already exists, skipping SCORCH rescoring\n",
      "\n",
      "[2023-May-11 10:41:36]: /RTMScore_rescoring folder already exists, skipping RTMScore rescoring\n",
      "\n",
      "[2023-May-11 10:41:36]: /vinardo_rescoring folder already exists, skipping vinardo rescoring\n",
      "\n",
      "[2023-May-11 10:41:36]: Rescoring complete in 0.0036!\n",
      "peak memory: 449.53 MiB, increment: 0.00 MiB\n",
      "The folder: /home/alacournola/DEKOIS-noprot/hdac2/temp/rescoring_bestpose_PLANTS_clustered already exists\n",
      "\n",
      "[2023-May-11 10:41:36]: /gnina_rescoring folder already exists, skipping gnina rescoring\n",
      "\n",
      "[2023-May-11 10:41:36]: /AD4_rescoring folder already exists, skipping AD4 rescoring\n",
      "\n",
      "[2023-May-11 10:41:36]: /chemplp_rescoring folder already exists, skipping chemplp rescoring\n",
      "\n",
      "[2023-May-11 10:41:36]: /rfscorevs_rescoring folder already exists, skipping rfscorevs rescoring\n",
      "\n",
      "[2023-May-11 10:41:36]: /LinF9_rescoring folder already exists, skipping LinF9 rescoring\n",
      "\n",
      "[2023-May-11 10:41:36]: /SCORCH_rescoring folder already exists, skipping SCORCH rescoring\n",
      "\n",
      "[2023-May-11 10:41:36]: /RTMScore_rescoring folder already exists, skipping RTMScore rescoring\n",
      "\n",
      "[2023-May-11 10:41:36]: /vinardo_rescoring folder already exists, skipping vinardo rescoring\n",
      "\n",
      "[2023-May-11 10:41:36]: Rescoring complete in 0.0041!\n",
      "peak memory: 449.53 MiB, increment: 0.00 MiB\n",
      "cdk2\n",
      "The working directory has been set to: /home/alacournola/DEKOIS-noprot/cdk2\n",
      "The folder: /home/alacournola/DEKOIS-noprot/cdk2/temp already exists\n",
      "The folder: /home/alacournola/DEKOIS-noprot/cdk2/temp/rescoring_RMSD_clustered already exists\n",
      "\n",
      "[2023-May-11 10:41:36]: /gnina_rescoring folder already exists, skipping gnina rescoring\n",
      "\n",
      "[2023-May-11 10:41:36]: /AD4_rescoring folder already exists, skipping AD4 rescoring\n",
      "\n",
      "[2023-May-11 10:41:36]: /chemplp_rescoring folder already exists, skipping chemplp rescoring\n",
      "\n",
      "[2023-May-11 10:41:36]: /rfscorevs_rescoring folder already exists, skipping rfscorevs rescoring\n",
      "\n",
      "[2023-May-11 10:41:36]: /LinF9_rescoring folder already exists, skipping LinF9 rescoring\n",
      "\n",
      "[2023-May-11 10:41:36]: /SCORCH_rescoring folder already exists, skipping SCORCH rescoring\n",
      "\n",
      "[2023-May-11 10:41:36]: /RTMScore_rescoring folder already exists, skipping RTMScore rescoring\n",
      "\n",
      "[2023-May-11 10:41:36]: /vinardo_rescoring folder already exists, skipping vinardo rescoring\n",
      "\n",
      "[2023-May-11 10:41:36]: Rescoring complete in 0.0038!\n",
      "peak memory: 449.53 MiB, increment: 0.00 MiB\n",
      "The folder: /home/alacournola/DEKOIS-noprot/cdk2/temp/rescoring_spyRMSD_clustered already exists\n",
      "\n",
      "[2023-May-11 10:41:37]: /gnina_rescoring folder already exists, skipping gnina rescoring\n",
      "\n",
      "[2023-May-11 10:41:37]: /AD4_rescoring folder already exists, skipping AD4 rescoring\n",
      "\n",
      "[2023-May-11 10:41:37]: /chemplp_rescoring folder already exists, skipping chemplp rescoring\n",
      "\n",
      "[2023-May-11 10:41:37]: /rfscorevs_rescoring folder already exists, skipping rfscorevs rescoring\n",
      "\n",
      "[2023-May-11 10:41:37]: /LinF9_rescoring folder already exists, skipping LinF9 rescoring\n",
      "\n",
      "[2023-May-11 10:41:37]: /SCORCH_rescoring folder already exists, skipping SCORCH rescoring\n",
      "\n",
      "[2023-May-11 10:41:37]: /RTMScore_rescoring folder already exists, skipping RTMScore rescoring\n",
      "\n",
      "[2023-May-11 10:41:37]: /vinardo_rescoring folder already exists, skipping vinardo rescoring\n",
      "\n",
      "[2023-May-11 10:41:37]: Rescoring complete in 0.0039!\n",
      "peak memory: 449.54 MiB, increment: 0.01 MiB\n",
      "The folder: /home/alacournola/DEKOIS-noprot/cdk2/temp/rescoring_espsim_clustered already exists\n",
      "\n",
      "[2023-May-11 10:41:37]: /gnina_rescoring folder already exists, skipping gnina rescoring\n",
      "\n",
      "[2023-May-11 10:41:37]: /AD4_rescoring folder already exists, skipping AD4 rescoring\n",
      "\n",
      "[2023-May-11 10:41:37]: /chemplp_rescoring folder already exists, skipping chemplp rescoring\n",
      "\n",
      "[2023-May-11 10:41:37]: /rfscorevs_rescoring folder already exists, skipping rfscorevs rescoring\n",
      "\n",
      "[2023-May-11 10:41:37]: /LinF9_rescoring folder already exists, skipping LinF9 rescoring\n",
      "\n",
      "[2023-May-11 10:41:37]: /SCORCH_rescoring folder already exists, skipping SCORCH rescoring\n",
      "\n",
      "[2023-May-11 10:41:37]: /RTMScore_rescoring folder already exists, skipping RTMScore rescoring\n",
      "\n",
      "[2023-May-11 10:41:37]: /vinardo_rescoring folder already exists, skipping vinardo rescoring\n",
      "\n",
      "[2023-May-11 10:41:37]: Rescoring complete in 0.0036!\n",
      "peak memory: 449.54 MiB, increment: 0.00 MiB\n",
      "The folder: /home/alacournola/DEKOIS-noprot/cdk2/temp/rescoring_3DScore_clustered already exists\n",
      "\n",
      "[2023-May-11 10:41:37]: /gnina_rescoring folder already exists, skipping gnina rescoring\n",
      "\n",
      "[2023-May-11 10:41:37]: /AD4_rescoring folder already exists, skipping AD4 rescoring\n",
      "\n",
      "[2023-May-11 10:41:37]: /chemplp_rescoring folder already exists, skipping chemplp rescoring\n",
      "\n",
      "[2023-May-11 10:41:37]: /rfscorevs_rescoring folder already exists, skipping rfscorevs rescoring\n",
      "\n",
      "[2023-May-11 10:41:37]: /LinF9_rescoring folder already exists, skipping LinF9 rescoring\n",
      "\n",
      "[2023-May-11 10:41:37]: /SCORCH_rescoring folder already exists, skipping SCORCH rescoring\n",
      "\n",
      "[2023-May-11 10:41:37]: /RTMScore_rescoring folder already exists, skipping RTMScore rescoring\n",
      "\n",
      "[2023-May-11 10:41:37]: /vinardo_rescoring folder already exists, skipping vinardo rescoring\n",
      "\n",
      "[2023-May-11 10:41:37]: Rescoring complete in 0.0038!\n",
      "peak memory: 449.54 MiB, increment: 0.00 MiB\n",
      "The folder: /home/alacournola/DEKOIS-noprot/cdk2/temp/rescoring_bestpose_clustered already exists\n",
      "\n",
      "[2023-May-11 10:41:37]: /gnina_rescoring folder already exists, skipping gnina rescoring\n",
      "\n",
      "[2023-May-11 10:41:37]: /AD4_rescoring folder already exists, skipping AD4 rescoring\n",
      "\n",
      "[2023-May-11 10:41:37]: /chemplp_rescoring folder already exists, skipping chemplp rescoring\n",
      "\n",
      "[2023-May-11 10:41:37]: /rfscorevs_rescoring folder already exists, skipping rfscorevs rescoring\n",
      "\n",
      "[2023-May-11 10:41:37]: /LinF9_rescoring folder already exists, skipping LinF9 rescoring\n",
      "\n",
      "[2023-May-11 10:41:37]: /SCORCH_rescoring folder already exists, skipping SCORCH rescoring\n",
      "\n",
      "[2023-May-11 10:41:37]: /RTMScore_rescoring folder already exists, skipping RTMScore rescoring\n",
      "\n",
      "[2023-May-11 10:41:37]: /vinardo_rescoring folder already exists, skipping vinardo rescoring\n",
      "\n",
      "[2023-May-11 10:41:37]: Rescoring complete in 0.0038!\n",
      "peak memory: 449.54 MiB, increment: 0.00 MiB\n",
      "The folder: /home/alacournola/DEKOIS-noprot/cdk2/temp/rescoring_bestpose_GNINA_clustered already exists\n",
      "\n",
      "[2023-May-11 10:41:38]: /gnina_rescoring folder already exists, skipping gnina rescoring\n",
      "\n",
      "[2023-May-11 10:41:38]: /AD4_rescoring folder already exists, skipping AD4 rescoring\n",
      "\n",
      "[2023-May-11 10:41:38]: /chemplp_rescoring folder already exists, skipping chemplp rescoring\n",
      "\n",
      "[2023-May-11 10:41:38]: /rfscorevs_rescoring folder already exists, skipping rfscorevs rescoring\n",
      "\n",
      "[2023-May-11 10:41:38]: /LinF9_rescoring folder already exists, skipping LinF9 rescoring\n",
      "\n",
      "[2023-May-11 10:41:38]: /SCORCH_rescoring folder already exists, skipping SCORCH rescoring\n",
      "\n",
      "[2023-May-11 10:41:38]: /RTMScore_rescoring folder already exists, skipping RTMScore rescoring\n",
      "\n",
      "[2023-May-11 10:41:38]: /vinardo_rescoring folder already exists, skipping vinardo rescoring\n",
      "\n",
      "[2023-May-11 10:41:38]: Rescoring complete in 0.0038!\n",
      "peak memory: 449.54 MiB, increment: 0.00 MiB\n",
      "The folder: /home/alacournola/DEKOIS-noprot/cdk2/temp/rescoring_bestpose_SMINA_clustered already exists\n",
      "\n",
      "[2023-May-11 10:41:38]: /gnina_rescoring folder already exists, skipping gnina rescoring\n",
      "\n",
      "[2023-May-11 10:41:38]: /AD4_rescoring folder already exists, skipping AD4 rescoring\n",
      "\n",
      "[2023-May-11 10:41:38]: /chemplp_rescoring folder already exists, skipping chemplp rescoring\n",
      "\n",
      "[2023-May-11 10:41:38]: /rfscorevs_rescoring folder already exists, skipping rfscorevs rescoring\n",
      "\n",
      "[2023-May-11 10:41:38]: /LinF9_rescoring folder already exists, skipping LinF9 rescoring\n",
      "\n",
      "[2023-May-11 10:41:38]: /SCORCH_rescoring folder already exists, skipping SCORCH rescoring\n",
      "\n",
      "[2023-May-11 10:41:38]: /RTMScore_rescoring folder already exists, skipping RTMScore rescoring\n",
      "\n",
      "[2023-May-11 10:41:38]: /vinardo_rescoring folder already exists, skipping vinardo rescoring\n",
      "\n",
      "[2023-May-11 10:41:38]: Rescoring complete in 0.0049!\n",
      "peak memory: 449.54 MiB, increment: 0.00 MiB\n",
      "The folder: /home/alacournola/DEKOIS-noprot/cdk2/temp/rescoring_bestpose_PLANTS_clustered already exists\n",
      "\n",
      "[2023-May-11 10:41:38]: /gnina_rescoring folder already exists, skipping gnina rescoring\n",
      "\n",
      "[2023-May-11 10:41:38]: /AD4_rescoring folder already exists, skipping AD4 rescoring\n",
      "\n",
      "[2023-May-11 10:41:38]: /chemplp_rescoring folder already exists, skipping chemplp rescoring\n",
      "\n",
      "[2023-May-11 10:41:38]: /rfscorevs_rescoring folder already exists, skipping rfscorevs rescoring\n",
      "\n",
      "[2023-May-11 10:41:38]: /LinF9_rescoring folder already exists, skipping LinF9 rescoring\n",
      "\n",
      "[2023-May-11 10:41:38]: /SCORCH_rescoring folder already exists, skipping SCORCH rescoring\n",
      "\n",
      "[2023-May-11 10:41:38]: /RTMScore_rescoring folder already exists, skipping RTMScore rescoring\n",
      "\n",
      "[2023-May-11 10:41:38]: /vinardo_rescoring folder already exists, skipping vinardo rescoring\n",
      "\n",
      "[2023-May-11 10:41:38]: Rescoring complete in 0.0038!\n",
      "peak memory: 449.55 MiB, increment: 0.01 MiB\n",
      "igf1r\n",
      "The working directory has been set to: /home/alacournola/DEKOIS-noprot/igf1r\n",
      "The folder: /home/alacournola/DEKOIS-noprot/igf1r/temp already exists\n",
      "The folder: /home/alacournola/DEKOIS-noprot/igf1r/temp/rescoring_RMSD_clustered already exists\n",
      "\n",
      "[2023-May-11 10:41:39]: /gnina_rescoring folder already exists, skipping gnina rescoring\n",
      "\n",
      "[2023-May-11 10:41:39]: /AD4_rescoring folder already exists, skipping AD4 rescoring\n",
      "\n",
      "[2023-May-11 10:41:39]: /chemplp_rescoring folder already exists, skipping chemplp rescoring\n",
      "\n",
      "[2023-May-11 10:41:39]: /rfscorevs_rescoring folder already exists, skipping rfscorevs rescoring\n",
      "\n",
      "[2023-May-11 10:41:39]: /LinF9_rescoring folder already exists, skipping LinF9 rescoring\n",
      "\n",
      "[2023-May-11 10:41:39]: /SCORCH_rescoring folder already exists, skipping SCORCH rescoring\n",
      "\n",
      "[2023-May-11 10:41:39]: /RTMScore_rescoring folder already exists, skipping RTMScore rescoring\n",
      "\n",
      "[2023-May-11 10:41:39]: /vinardo_rescoring folder already exists, skipping vinardo rescoring\n",
      "\n",
      "[2023-May-11 10:41:39]: Rescoring complete in 0.0056!\n",
      "peak memory: 449.55 MiB, increment: 0.00 MiB\n",
      "The folder: /home/alacournola/DEKOIS-noprot/igf1r/temp/rescoring_spyRMSD_clustered already exists\n",
      "\n",
      "[2023-May-11 10:41:39]: /gnina_rescoring folder already exists, skipping gnina rescoring\n",
      "\n",
      "[2023-May-11 10:41:39]: /AD4_rescoring folder already exists, skipping AD4 rescoring\n",
      "\n",
      "[2023-May-11 10:41:39]: /chemplp_rescoring folder already exists, skipping chemplp rescoring\n",
      "\n",
      "[2023-May-11 10:41:39]: /rfscorevs_rescoring folder already exists, skipping rfscorevs rescoring\n",
      "\n",
      "[2023-May-11 10:41:39]: /LinF9_rescoring folder already exists, skipping LinF9 rescoring\n",
      "\n",
      "[2023-May-11 10:41:39]: /SCORCH_rescoring folder already exists, skipping SCORCH rescoring\n",
      "\n",
      "[2023-May-11 10:41:39]: /RTMScore_rescoring folder already exists, skipping RTMScore rescoring\n",
      "\n",
      "[2023-May-11 10:41:39]: /vinardo_rescoring folder already exists, skipping vinardo rescoring\n",
      "\n",
      "[2023-May-11 10:41:39]: Rescoring complete in 0.0049!\n",
      "peak memory: 449.55 MiB, increment: 0.00 MiB\n",
      "The folder: /home/alacournola/DEKOIS-noprot/igf1r/temp/rescoring_espsim_clustered already exists\n",
      "\n",
      "[2023-May-11 10:41:39]: /gnina_rescoring folder already exists, skipping gnina rescoring\n",
      "\n",
      "[2023-May-11 10:41:39]: /AD4_rescoring folder already exists, skipping AD4 rescoring\n",
      "\n",
      "[2023-May-11 10:41:39]: /chemplp_rescoring folder already exists, skipping chemplp rescoring\n",
      "\n",
      "[2023-May-11 10:41:39]: /rfscorevs_rescoring folder already exists, skipping rfscorevs rescoring\n",
      "\n",
      "[2023-May-11 10:41:39]: /LinF9_rescoring folder already exists, skipping LinF9 rescoring\n",
      "The folder: /home/alacournola/DEKOIS-noprot/igf1r/temp/rescoring_espsim_clustered/SCORCH_rescoring/ already exists\n",
      "\n",
      "[2023-May-11 10:41:39]: Converting protein file to .pdbqt ...\n",
      "\n",
      "[2023-May-11 10:41:49]: Converting SDF file espsim_clustered.sdf to .pdbqt files...\n",
      "Converted 2673 molecules.\n",
      "\n",
      "[2023-May-11 10:41:55]: Rescoring with SCORCH\n",
      "\n",
      "[2023-May-11 10:46:09]: Rescoring with SCORCH complete in 269.5325!\n",
      "The folder: /home/alacournola/DEKOIS-noprot/igf1r/temp/rescoring_espsim_clustered/RTMScore_rescoring/ was created\n",
      "Splitting SDF file espsim_clustered.sdf ...\n"
     ]
    },
    {
     "name": "stderr",
     "output_type": "stream",
     "text": [
      "Splitting files: 100%|██████████| 56/56 [00:02<00:00, 20.37it/s]\n"
     ]
    },
    {
     "name": "stdout",
     "output_type": "stream",
     "text": [
      "Split docking library into 56 files each containing 48 compounds\n"
     ]
    },
    {
     "name": "stderr",
     "output_type": "stream",
     "text": [
      "Submitting RTMScore rescoring jobs: 100%|██████████| 56/56 [00:00<00:00, 242.00file/s]\n",
      "Rescoring with RTMScore:   0%|          | 0/56 [00:00<?, ?file/s]"
     ]
    },
    {
     "name": "stdout",
     "output_type": "stream",
     "text": [
      "Filename: /home/alacournola/DockM8/scripts/rescoring_functions.py\n",
      "\n",
      "Line #    Mem usage    Increment  Occurrences   Line Contents\n",
      "=============================================================\n",
      "   524    344.7 MiB    344.7 MiB           1               @profile\n",
      "   525                                                     def RTMScore_rescoring_splitted(split_file, protein_file, software, ncpus):\n",
      "   526    344.8 MiB      0.1 MiB           1                   output_file = RTMScore_rescoring_folder + os.path.basename(split_file).split('.')[0] + '_RTMScore.csv'\n",
      "   527    344.8 MiB      0.0 MiB           1                   try:\n",
      "   528    513.8 MiB    169.0 MiB           1                       rtmscore(prot=protein_file, lig=split_file, output=output_file, model=f'{software}/RTMScore/trained_models/rtmscore_model1.pth', ncpus=1)\n",
      "   529                                                         except:\n",
      "   530                                                             printlog('RTMScore scoring with pocket failed, scoring with whole protein...')\n",
      "   531                                                             rtmscore(prot=RTMScore_pocket, lig=split_file, output=output_file, model=f'{software}/RTMScore/trained_models/rtmscore_model1.pth', ncpus=1)\n",
      "   532    513.8 MiB      0.0 MiB           1                   return\n",
      "\n",
      "\n"
     ]
    },
    {
     "name": "stderr",
     "output_type": "stream",
     "text": [
      "Rescoring with RTMScore:   2%|▏         | 1/56 [04:42<4:18:58, 282.52s/file]"
     ]
    },
    {
     "name": "stdout",
     "output_type": "stream",
     "text": [
      "Filename: /home/alacournola/DockM8/scripts/rescoring_functions.py\n",
      "\n",
      "Line #    Mem usage    Increment  Occurrences   Line Contents\n",
      "=============================================================\n",
      "   524    344.7 MiB    344.7 MiB           1               @profile\n",
      "   525                                                     def RTMScore_rescoring_splitted(split_file, protein_file, software, ncpus):\n",
      "   526    344.7 MiB      0.1 MiB           1                   output_file = RTMScore_rescoring_folder + os.path.basename(split_file).split('.')[0] + '_RTMScore.csv'\n",
      "   527    344.7 MiB      0.0 MiB           1                   try:\n",
      "   528    583.8 MiB    239.0 MiB           1                       rtmscore(prot=protein_file, lig=split_file, output=output_file, model=f'{software}/RTMScore/trained_models/rtmscore_model1.pth', ncpus=1)\n",
      "   529                                                         except:\n",
      "   530                                                             printlog('RTMScore scoring with pocket failed, scoring with whole protein...')\n",
      "   531                                                             rtmscore(prot=RTMScore_pocket, lig=split_file, output=output_file, model=f'{software}/RTMScore/trained_models/rtmscore_model1.pth', ncpus=1)\n",
      "   532    583.8 MiB      0.0 MiB           1                   return\n",
      "\n",
      "\n"
     ]
    },
    {
     "name": "stderr",
     "output_type": "stream",
     "text": [
      "Rescoring with RTMScore:   4%|▎         | 2/56 [04:45<1:46:32, 118.38s/file]"
     ]
    },
    {
     "name": "stdout",
     "output_type": "stream",
     "text": [
      "Filename: /home/alacournola/DockM8/scripts/rescoring_functions.py\n",
      "\n",
      "Line #    Mem usage    Increment  Occurrences   Line Contents\n",
      "=============================================================\n",
      "   524    344.7 MiB    344.7 MiB           1               @profile\n",
      "   525                                                     def RTMScore_rescoring_splitted(split_file, protein_file, software, ncpus):\n",
      "   526    344.7 MiB      0.1 MiB           1                   output_file = RTMScore_rescoring_folder + os.path.basename(split_file).split('.')[0] + '_RTMScore.csv'\n",
      "   527    344.7 MiB      0.0 MiB           1                   try:\n",
      "   528    534.4 MiB    189.7 MiB           1                       rtmscore(prot=protein_file, lig=split_file, output=output_file, model=f'{software}/RTMScore/trained_models/rtmscore_model1.pth', ncpus=1)\n",
      "   529                                                         except:\n",
      "   530                                                             printlog('RTMScore scoring with pocket failed, scoring with whole protein...')\n",
      "   531                                                             rtmscore(prot=RTMScore_pocket, lig=split_file, output=output_file, model=f'{software}/RTMScore/trained_models/rtmscore_model1.pth', ncpus=1)\n",
      "   532    534.4 MiB      0.0 MiB           1                   return\n",
      "\n",
      "\n"
     ]
    },
    {
     "name": "stderr",
     "output_type": "stream",
     "text": [
      "Rescoring with RTMScore:   5%|▌         | 3/56 [04:51<58:56, 66.73s/file]   "
     ]
    },
    {
     "name": "stdout",
     "output_type": "stream",
     "text": [
      "Filename: /home/alacournola/DockM8/scripts/rescoring_functions.py\n",
      "\n",
      "Line #    Mem usage    Increment  Occurrences   Line Contents\n",
      "=============================================================\n",
      "   524    344.7 MiB    344.7 MiB           1               @profile\n",
      "   525                                                     def RTMScore_rescoring_splitted(split_file, protein_file, software, ncpus):\n",
      "   526    344.7 MiB      0.1 MiB           1                   output_file = RTMScore_rescoring_folder + os.path.basename(split_file).split('.')[0] + '_RTMScore.csv'\n",
      "   527    344.7 MiB      0.0 MiB           1                   try:\n",
      "   528    463.8 MiB    119.0 MiB           1                       rtmscore(prot=protein_file, lig=split_file, output=output_file, model=f'{software}/RTMScore/trained_models/rtmscore_model1.pth', ncpus=1)\n",
      "   529                                                         except:\n",
      "   530                                                             printlog('RTMScore scoring with pocket failed, scoring with whole protein...')\n",
      "   531                                                             rtmscore(prot=RTMScore_pocket, lig=split_file, output=output_file, model=f'{software}/RTMScore/trained_models/rtmscore_model1.pth', ncpus=1)\n",
      "   532    463.8 MiB      0.0 MiB           1                   return\n",
      "\n",
      "\n"
     ]
    },
    {
     "name": "stderr",
     "output_type": "stream",
     "text": [
      "Rescoring with RTMScore:   7%|▋         | 4/56 [04:54<36:15, 41.83s/file]"
     ]
    },
    {
     "name": "stdout",
     "output_type": "stream",
     "text": [
      "Filename: /home/alacournola/DockM8/scripts/rescoring_functions.py\n",
      "\n",
      "Line #    Mem usage    Increment  Occurrences   Line Contents\n",
      "=============================================================\n",
      "   524    344.7 MiB    344.7 MiB           1               @profile\n",
      "   525                                                     def RTMScore_rescoring_splitted(split_file, protein_file, software, ncpus):\n",
      "   526    344.7 MiB      0.1 MiB           1                   output_file = RTMScore_rescoring_folder + os.path.basename(split_file).split('.')[0] + '_RTMScore.csv'\n",
      "   527    344.7 MiB      0.0 MiB           1                   try:\n",
      "   528    472.6 MiB    127.9 MiB           1                       rtmscore(prot=protein_file, lig=split_file, output=output_file, model=f'{software}/RTMScore/trained_models/rtmscore_model1.pth', ncpus=1)\n",
      "   529                                                         except:\n",
      "   530                                                             printlog('RTMScore scoring with pocket failed, scoring with whole protein...')\n",
      "   531                                                             rtmscore(prot=RTMScore_pocket, lig=split_file, output=output_file, model=f'{software}/RTMScore/trained_models/rtmscore_model1.pth', ncpus=1)\n",
      "   532    472.6 MiB      0.0 MiB           1                   return\n",
      "\n",
      "\n"
     ]
    },
    {
     "name": "stderr",
     "output_type": "stream",
     "text": [
      "Rescoring with RTMScore:   9%|▉         | 5/56 [04:55<23:00, 27.06s/file]"
     ]
    },
    {
     "name": "stdout",
     "output_type": "stream",
     "text": [
      "Filename: /home/alacournola/DockM8/scripts/rescoring_functions.py\n",
      "\n",
      "Line #    Mem usage    Increment  Occurrences   Line Contents\n",
      "=============================================================\n",
      "   524    344.7 MiB    344.7 MiB           1               @profile\n",
      "   525                                                     def RTMScore_rescoring_splitted(split_file, protein_file, software, ncpus):\n",
      "   526    344.7 MiB      0.1 MiB           1                   output_file = RTMScore_rescoring_folder + os.path.basename(split_file).split('.')[0] + '_RTMScore.csv'\n",
      "   527    344.7 MiB      0.0 MiB           1                   try:\n",
      "   528    470.4 MiB    125.7 MiB           1                       rtmscore(prot=protein_file, lig=split_file, output=output_file, model=f'{software}/RTMScore/trained_models/rtmscore_model1.pth', ncpus=1)\n",
      "   529                                                         except:\n",
      "   530                                                             printlog('RTMScore scoring with pocket failed, scoring with whole protein...')\n",
      "   531                                                             rtmscore(prot=RTMScore_pocket, lig=split_file, output=output_file, model=f'{software}/RTMScore/trained_models/rtmscore_model1.pth', ncpus=1)\n",
      "   532    470.4 MiB      0.0 MiB           1                   return\n",
      "\n",
      "\n"
     ]
    },
    {
     "name": "stderr",
     "output_type": "stream",
     "text": [
      "Rescoring with RTMScore:  11%|█         | 6/56 [04:58<15:47, 18.95s/file]"
     ]
    },
    {
     "name": "stdout",
     "output_type": "stream",
     "text": [
      "Filename: /home/alacournola/DockM8/scripts/rescoring_functions.py\n",
      "\n",
      "Line #    Mem usage    Increment  Occurrences   Line Contents\n",
      "=============================================================\n",
      "   524    344.7 MiB    344.7 MiB           1               @profile\n",
      "   525                                                     def RTMScore_rescoring_splitted(split_file, protein_file, software, ncpus):\n",
      "   526    344.7 MiB      0.1 MiB           1                   output_file = RTMScore_rescoring_folder + os.path.basename(split_file).split('.')[0] + '_RTMScore.csv'\n",
      "   527    344.7 MiB      0.0 MiB           1                   try:\n",
      "   528    457.2 MiB    112.5 MiB           1                       rtmscore(prot=protein_file, lig=split_file, output=output_file, model=f'{software}/RTMScore/trained_models/rtmscore_model1.pth', ncpus=1)\n",
      "   529                                                         except:\n",
      "   530                                                             printlog('RTMScore scoring with pocket failed, scoring with whole protein...')\n",
      "   531                                                             rtmscore(prot=RTMScore_pocket, lig=split_file, output=output_file, model=f'{software}/RTMScore/trained_models/rtmscore_model1.pth', ncpus=1)\n",
      "   532    457.2 MiB      0.0 MiB           1                   return\n",
      "\n",
      "\n"
     ]
    },
    {
     "name": "stderr",
     "output_type": "stream",
     "text": [
      "Rescoring with RTMScore:  12%|█▎        | 7/56 [05:02<11:18, 13.86s/file]"
     ]
    },
    {
     "name": "stdout",
     "output_type": "stream",
     "text": [
      "Filename: /home/alacournola/DockM8/scripts/rescoring_functions.py\n",
      "\n",
      "Line #    Mem usage    Increment  Occurrences   Line Contents\n",
      "=============================================================\n",
      "   524    344.7 MiB    344.7 MiB           1               @profile\n",
      "   525                                                     def RTMScore_rescoring_splitted(split_file, protein_file, software, ncpus):\n",
      "   526    344.7 MiB      0.1 MiB           1                   output_file = RTMScore_rescoring_folder + os.path.basename(split_file).split('.')[0] + '_RTMScore.csv'\n",
      "   527    344.7 MiB      0.0 MiB           1                   try:\n",
      "   528    605.6 MiB    260.9 MiB           1                       rtmscore(prot=protein_file, lig=split_file, output=output_file, model=f'{software}/RTMScore/trained_models/rtmscore_model1.pth', ncpus=1)\n",
      "   529                                                         except:\n",
      "   530                                                             printlog('RTMScore scoring with pocket failed, scoring with whole protein...')\n",
      "   531                                                             rtmscore(prot=RTMScore_pocket, lig=split_file, output=output_file, model=f'{software}/RTMScore/trained_models/rtmscore_model1.pth', ncpus=1)\n",
      "   532    605.6 MiB      0.0 MiB           1                   return\n",
      "\n",
      "\n"
     ]
    },
    {
     "name": "stderr",
     "output_type": "stream",
     "text": [
      "Rescoring with RTMScore:  14%|█▍        | 8/56 [05:05<08:26, 10.55s/file]"
     ]
    },
    {
     "name": "stdout",
     "output_type": "stream",
     "text": [
      "Filename: /home/alacournola/DockM8/scripts/rescoring_functions.py\n",
      "\n",
      "Line #    Mem usage    Increment  Occurrences   Line Contents\n",
      "=============================================================\n",
      "   524    344.7 MiB    344.7 MiB           1               @profile\n",
      "   525                                                     def RTMScore_rescoring_splitted(split_file, protein_file, software, ncpus):\n",
      "   526    344.7 MiB      0.1 MiB           1                   output_file = RTMScore_rescoring_folder + os.path.basename(split_file).split('.')[0] + '_RTMScore.csv'\n",
      "   527    344.7 MiB      0.0 MiB           1                   try:\n",
      "   528    459.6 MiB    114.9 MiB           1                       rtmscore(prot=protein_file, lig=split_file, output=output_file, model=f'{software}/RTMScore/trained_models/rtmscore_model1.pth', ncpus=1)\n",
      "   529                                                         except:\n",
      "   530                                                             printlog('RTMScore scoring with pocket failed, scoring with whole protein...')\n",
      "   531                                                             rtmscore(prot=RTMScore_pocket, lig=split_file, output=output_file, model=f'{software}/RTMScore/trained_models/rtmscore_model1.pth', ncpus=1)\n",
      "   532    459.6 MiB      0.0 MiB           1                   return\n",
      "\n",
      "\n"
     ]
    },
    {
     "name": "stderr",
     "output_type": "stream",
     "text": [
      "Rescoring with RTMScore:  16%|█▌        | 9/56 [05:15<08:04, 10.31s/file]"
     ]
    },
    {
     "name": "stdout",
     "output_type": "stream",
     "text": [
      "Filename: /home/alacournola/DockM8/scripts/rescoring_functions.py\n",
      "\n",
      "Line #    Mem usage    Increment  Occurrences   Line Contents\n",
      "=============================================================\n",
      "   524    584.8 MiB    584.8 MiB           1               @profile\n",
      "   525                                                     def RTMScore_rescoring_splitted(split_file, protein_file, software, ncpus):\n",
      "   526    584.8 MiB      0.0 MiB           1                   output_file = RTMScore_rescoring_folder + os.path.basename(split_file).split('.')[0] + '_RTMScore.csv'\n",
      "   527    584.8 MiB      0.0 MiB           1                   try:\n",
      "   528    592.8 MiB      7.9 MiB           1                       rtmscore(prot=protein_file, lig=split_file, output=output_file, model=f'{software}/RTMScore/trained_models/rtmscore_model1.pth', ncpus=1)\n",
      "   529                                                         except:\n",
      "   530                                                             printlog('RTMScore scoring with pocket failed, scoring with whole protein...')\n",
      "   531                                                             rtmscore(prot=RTMScore_pocket, lig=split_file, output=output_file, model=f'{software}/RTMScore/trained_models/rtmscore_model1.pth', ncpus=1)\n",
      "   532    592.8 MiB      0.0 MiB           1                   return\n",
      "\n",
      "\n"
     ]
    },
    {
     "name": "stderr",
     "output_type": "stream",
     "text": [
      "Rescoring with RTMScore:  18%|█▊        | 10/56 [09:32<1:06:17, 86.46s/file]"
     ]
    },
    {
     "name": "stdout",
     "output_type": "stream",
     "text": [
      "Filename: /home/alacournola/DockM8/scripts/rescoring_functions.py\n",
      "\n",
      "Line #    Mem usage    Increment  Occurrences   Line Contents\n",
      "=============================================================\n",
      "   524    535.5 MiB    535.5 MiB           1               @profile\n",
      "   525                                                     def RTMScore_rescoring_splitted(split_file, protein_file, software, ncpus):\n",
      "   526    535.5 MiB      0.0 MiB           1                   output_file = RTMScore_rescoring_folder + os.path.basename(split_file).split('.')[0] + '_RTMScore.csv'\n",
      "   527    535.5 MiB      0.0 MiB           1                   try:\n",
      "   528    542.5 MiB      7.1 MiB           1                       rtmscore(prot=protein_file, lig=split_file, output=output_file, model=f'{software}/RTMScore/trained_models/rtmscore_model1.pth', ncpus=1)\n",
      "   529                                                         except:\n",
      "   530                                                             printlog('RTMScore scoring with pocket failed, scoring with whole protein...')\n",
      "   531                                                             rtmscore(prot=RTMScore_pocket, lig=split_file, output=output_file, model=f'{software}/RTMScore/trained_models/rtmscore_model1.pth', ncpus=1)\n",
      "   532    542.5 MiB      0.0 MiB           1                   return\n",
      "\n",
      "\n"
     ]
    },
    {
     "name": "stderr",
     "output_type": "stream",
     "text": [
      "Rescoring with RTMScore:  20%|█▉        | 11/56 [09:38<46:26, 61.93s/file]  "
     ]
    },
    {
     "name": "stdout",
     "output_type": "stream",
     "text": [
      "Filename: /home/alacournola/DockM8/scripts/rescoring_functions.py\n",
      "\n",
      "Line #    Mem usage    Increment  Occurrences   Line Contents\n",
      "=============================================================\n",
      "   524    420.0 MiB    420.0 MiB           1               @profile\n",
      "   525                                                     def RTMScore_rescoring_splitted(split_file, protein_file, software, ncpus):\n",
      "   526    420.0 MiB      0.0 MiB           1                   output_file = RTMScore_rescoring_folder + os.path.basename(split_file).split('.')[0] + '_RTMScore.csv'\n",
      "   527    420.0 MiB      0.0 MiB           1                   try:\n",
      "   528    427.7 MiB      7.8 MiB           1                       rtmscore(prot=protein_file, lig=split_file, output=output_file, model=f'{software}/RTMScore/trained_models/rtmscore_model1.pth', ncpus=1)\n",
      "   529                                                         except:\n",
      "   530                                                             printlog('RTMScore scoring with pocket failed, scoring with whole protein...')\n",
      "   531                                                             rtmscore(prot=RTMScore_pocket, lig=split_file, output=output_file, model=f'{software}/RTMScore/trained_models/rtmscore_model1.pth', ncpus=1)\n",
      "   532    427.7 MiB      0.0 MiB           1                   return\n",
      "\n",
      "\n"
     ]
    },
    {
     "name": "stderr",
     "output_type": "stream",
     "text": [
      "Rescoring with RTMScore:  21%|██▏       | 12/56 [09:44<32:44, 44.64s/file]"
     ]
    },
    {
     "name": "stdout",
     "output_type": "stream",
     "text": [
      "Filename: /home/alacournola/DockM8/scripts/rescoring_functions.py\n",
      "\n",
      "Line #    Mem usage    Increment  Occurrences   Line Contents\n",
      "=============================================================\n",
      "   524    471.5 MiB    471.5 MiB           1               @profile\n",
      "   525                                                     def RTMScore_rescoring_splitted(split_file, protein_file, software, ncpus):\n",
      "   526    471.5 MiB      0.0 MiB           1                   output_file = RTMScore_rescoring_folder + os.path.basename(split_file).split('.')[0] + '_RTMScore.csv'\n",
      "   527    471.5 MiB      0.0 MiB           1                   try:\n",
      "   528    479.4 MiB      7.9 MiB           1                       rtmscore(prot=protein_file, lig=split_file, output=output_file, model=f'{software}/RTMScore/trained_models/rtmscore_model1.pth', ncpus=1)\n",
      "   529                                                         except:\n",
      "   530                                                             printlog('RTMScore scoring with pocket failed, scoring with whole protein...')\n",
      "   531                                                             rtmscore(prot=RTMScore_pocket, lig=split_file, output=output_file, model=f'{software}/RTMScore/trained_models/rtmscore_model1.pth', ncpus=1)\n",
      "   532    479.4 MiB      0.0 MiB           1                   return\n",
      "\n",
      "\n"
     ]
    },
    {
     "name": "stderr",
     "output_type": "stream",
     "text": [
      "Rescoring with RTMScore:  23%|██▎       | 13/56 [09:44<22:27, 31.34s/file]"
     ]
    },
    {
     "name": "stdout",
     "output_type": "stream",
     "text": [
      "Filename: /home/alacournola/DockM8/scripts/rescoring_functions.py\n",
      "\n",
      "Line #    Mem usage    Increment  Occurrences   Line Contents\n",
      "=============================================================\n",
      "   524    464.8 MiB    464.8 MiB           1               @profile\n",
      "   525                                                     def RTMScore_rescoring_splitted(split_file, protein_file, software, ncpus):\n",
      "   526    464.8 MiB      0.0 MiB           1                   output_file = RTMScore_rescoring_folder + os.path.basename(split_file).split('.')[0] + '_RTMScore.csv'\n",
      "   527    464.8 MiB      0.0 MiB           1                   try:\n",
      "   528    441.1 MiB    -23.7 MiB           1                       rtmscore(prot=protein_file, lig=split_file, output=output_file, model=f'{software}/RTMScore/trained_models/rtmscore_model1.pth', ncpus=1)\n",
      "   529                                                         except:\n",
      "   530                                                             printlog('RTMScore scoring with pocket failed, scoring with whole protein...')\n",
      "   531                                                             rtmscore(prot=RTMScore_pocket, lig=split_file, output=output_file, model=f'{software}/RTMScore/trained_models/rtmscore_model1.pth', ncpus=1)\n",
      "   532    441.1 MiB      0.0 MiB           1                   return\n",
      "\n",
      "\n"
     ]
    },
    {
     "name": "stderr",
     "output_type": "stream",
     "text": [
      "Rescoring with RTMScore:  25%|██▌       | 14/56 [09:46<15:39, 22.36s/file]"
     ]
    },
    {
     "name": "stdout",
     "output_type": "stream",
     "text": [
      "Filename: /home/alacournola/DockM8/scripts/rescoring_functions.py\n",
      "\n",
      "Line #    Mem usage    Increment  Occurrences   Line Contents\n",
      "=============================================================\n",
      "   524    606.7 MiB    606.7 MiB           1               @profile\n",
      "   525                                                     def RTMScore_rescoring_splitted(split_file, protein_file, software, ncpus):\n",
      "   526    606.7 MiB      0.0 MiB           1                   output_file = RTMScore_rescoring_folder + os.path.basename(split_file).split('.')[0] + '_RTMScore.csv'\n",
      "   527    606.7 MiB      0.0 MiB           1                   try:\n",
      "   528    614.4 MiB      7.7 MiB           1                       rtmscore(prot=protein_file, lig=split_file, output=output_file, model=f'{software}/RTMScore/trained_models/rtmscore_model1.pth', ncpus=1)\n",
      "   529                                                         except:\n",
      "   530                                                             printlog('RTMScore scoring with pocket failed, scoring with whole protein...')\n",
      "   531                                                             rtmscore(prot=RTMScore_pocket, lig=split_file, output=output_file, model=f'{software}/RTMScore/trained_models/rtmscore_model1.pth', ncpus=1)\n",
      "   532    614.4 MiB      0.0 MiB           1                   return\n",
      "\n",
      "\n"
     ]
    },
    {
     "name": "stderr",
     "output_type": "stream",
     "text": [
      "Rescoring with RTMScore:  27%|██▋       | 15/56 [09:58<13:15, 19.41s/file]"
     ]
    },
    {
     "name": "stdout",
     "output_type": "stream",
     "text": [
      "Filename: /home/alacournola/DockM8/scripts/rescoring_functions.py\n",
      "\n",
      "Line #    Mem usage    Increment  Occurrences   Line Contents\n",
      "=============================================================\n",
      "   524    460.7 MiB    460.7 MiB           1               @profile\n",
      "   525                                                     def RTMScore_rescoring_splitted(split_file, protein_file, software, ncpus):\n",
      "   526    460.7 MiB      0.0 MiB           1                   output_file = RTMScore_rescoring_folder + os.path.basename(split_file).split('.')[0] + '_RTMScore.csv'\n",
      "   527    460.7 MiB      0.0 MiB           1                   try:\n",
      "   528    504.3 MiB     43.6 MiB           1                       rtmscore(prot=protein_file, lig=split_file, output=output_file, model=f'{software}/RTMScore/trained_models/rtmscore_model1.pth', ncpus=1)\n",
      "   529                                                         except:\n",
      "   530                                                             printlog('RTMScore scoring with pocket failed, scoring with whole protein...')\n",
      "   531                                                             rtmscore(prot=RTMScore_pocket, lig=split_file, output=output_file, model=f'{software}/RTMScore/trained_models/rtmscore_model1.pth', ncpus=1)\n",
      "   532    504.3 MiB      0.0 MiB           1                   return\n",
      "\n",
      "\n"
     ]
    },
    {
     "name": "stderr",
     "output_type": "stream",
     "text": [
      "Rescoring with RTMScore:  29%|██▊       | 16/56 [10:02<09:45, 14.65s/file]"
     ]
    },
    {
     "name": "stdout",
     "output_type": "stream",
     "text": [
      "Filename: /home/alacournola/DockM8/scripts/rescoring_functions.py\n",
      "\n",
      "Line #    Mem usage    Increment  Occurrences   Line Contents\n",
      "=============================================================\n",
      "   524    514.8 MiB    514.8 MiB           1               @profile\n",
      "   525                                                     def RTMScore_rescoring_splitted(split_file, protein_file, software, ncpus):\n",
      "   526    514.8 MiB      0.0 MiB           1                   output_file = RTMScore_rescoring_folder + os.path.basename(split_file).split('.')[0] + '_RTMScore.csv'\n",
      "   527    514.8 MiB      0.0 MiB           1                   try:\n",
      "   528    540.4 MiB     25.5 MiB           1                       rtmscore(prot=protein_file, lig=split_file, output=output_file, model=f'{software}/RTMScore/trained_models/rtmscore_model1.pth', ncpus=1)\n",
      "   529                                                         except:\n",
      "   530                                                             printlog('RTMScore scoring with pocket failed, scoring with whole protein...')\n",
      "   531                                                             rtmscore(prot=RTMScore_pocket, lig=split_file, output=output_file, model=f'{software}/RTMScore/trained_models/rtmscore_model1.pth', ncpus=1)\n",
      "   532    540.4 MiB      0.0 MiB           1                   return\n",
      "\n",
      "\n"
     ]
    },
    {
     "name": "stderr",
     "output_type": "stream",
     "text": [
      "Rescoring with RTMScore:  30%|███       | 17/56 [10:10<08:15, 12.71s/file]"
     ]
    },
    {
     "name": "stdout",
     "output_type": "stream",
     "text": [
      "Filename: /home/alacournola/DockM8/scripts/rescoring_functions.py\n",
      "\n",
      "Line #    Mem usage    Increment  Occurrences   Line Contents\n",
      "=============================================================\n",
      "   524    473.7 MiB    473.7 MiB           1               @profile\n",
      "   525                                                     def RTMScore_rescoring_splitted(split_file, protein_file, software, ncpus):\n",
      "   526    473.7 MiB      0.0 MiB           1                   output_file = RTMScore_rescoring_folder + os.path.basename(split_file).split('.')[0] + '_RTMScore.csv'\n",
      "   527    473.7 MiB      0.0 MiB           1                   try:\n",
      "   528    476.1 MiB      2.5 MiB           1                       rtmscore(prot=protein_file, lig=split_file, output=output_file, model=f'{software}/RTMScore/trained_models/rtmscore_model1.pth', ncpus=1)\n",
      "   529                                                         except:\n",
      "   530                                                             printlog('RTMScore scoring with pocket failed, scoring with whole protein...')\n",
      "   531                                                             rtmscore(prot=RTMScore_pocket, lig=split_file, output=output_file, model=f'{software}/RTMScore/trained_models/rtmscore_model1.pth', ncpus=1)\n",
      "   532    476.1 MiB      0.0 MiB           1                   return\n",
      "\n",
      "\n"
     ]
    },
    {
     "name": "stderr",
     "output_type": "stream",
     "text": [
      "Rescoring with RTMScore:  32%|███▏      | 18/56 [10:13<06:12,  9.81s/file]"
     ]
    },
    {
     "name": "stdout",
     "output_type": "stream",
     "text": [
      "Filename: /home/alacournola/DockM8/scripts/rescoring_functions.py\n",
      "\n",
      "Line #    Mem usage    Increment  Occurrences   Line Contents\n",
      "=============================================================\n",
      "   524    476.1 MiB    476.1 MiB           1               @profile\n",
      "   525                                                     def RTMScore_rescoring_splitted(split_file, protein_file, software, ncpus):\n",
      "   526    476.1 MiB      0.0 MiB           1                   output_file = RTMScore_rescoring_folder + os.path.basename(split_file).split('.')[0] + '_RTMScore.csv'\n",
      "   527    476.1 MiB      0.0 MiB           1                   try:\n",
      "   528    515.6 MiB     39.4 MiB           1                       rtmscore(prot=protein_file, lig=split_file, output=output_file, model=f'{software}/RTMScore/trained_models/rtmscore_model1.pth', ncpus=1)\n",
      "   529                                                         except:\n",
      "   530                                                             printlog('RTMScore scoring with pocket failed, scoring with whole protein...')\n",
      "   531                                                             rtmscore(prot=RTMScore_pocket, lig=split_file, output=output_file, model=f'{software}/RTMScore/trained_models/rtmscore_model1.pth', ncpus=1)\n",
      "   532    515.6 MiB      0.0 MiB           1                   return\n",
      "\n",
      "\n"
     ]
    },
    {
     "name": "stderr",
     "output_type": "stream",
     "text": [
      "Rescoring with RTMScore:  34%|███▍      | 19/56 [14:11<48:18, 78.33s/file]"
     ]
    },
    {
     "name": "stdout",
     "output_type": "stream",
     "text": [
      "Filename: /home/alacournola/DockM8/scripts/rescoring_functions.py\n",
      "\n",
      "Line #    Mem usage    Increment  Occurrences   Line Contents\n",
      "=============================================================\n",
      "   524    592.8 MiB    592.8 MiB           1               @profile\n",
      "   525                                                     def RTMScore_rescoring_splitted(split_file, protein_file, software, ncpus):\n",
      "   526    592.8 MiB      0.0 MiB           1                   output_file = RTMScore_rescoring_folder + os.path.basename(split_file).split('.')[0] + '_RTMScore.csv'\n",
      "   527    592.8 MiB      0.0 MiB           1                   try:\n",
      "   528    610.0 MiB     17.2 MiB           1                       rtmscore(prot=protein_file, lig=split_file, output=output_file, model=f'{software}/RTMScore/trained_models/rtmscore_model1.pth', ncpus=1)\n",
      "   529                                                         except:\n",
      "   530                                                             printlog('RTMScore scoring with pocket failed, scoring with whole protein...')\n",
      "   531                                                             rtmscore(prot=RTMScore_pocket, lig=split_file, output=output_file, model=f'{software}/RTMScore/trained_models/rtmscore_model1.pth', ncpus=1)\n",
      "   532    610.0 MiB      0.0 MiB           1                   return\n",
      "\n",
      "\n"
     ]
    },
    {
     "name": "stderr",
     "output_type": "stream",
     "text": [
      "Rescoring with RTMScore:  36%|███▌      | 20/56 [14:20<34:30, 57.51s/file]"
     ]
    },
    {
     "name": "stdout",
     "output_type": "stream",
     "text": [
      "Filename: /home/alacournola/DockM8/scripts/rescoring_functions.py\n",
      "\n",
      "Line #    Mem usage    Increment  Occurrences   Line Contents\n",
      "=============================================================\n",
      "   524    427.7 MiB    427.7 MiB           1               @profile\n",
      "   525                                                     def RTMScore_rescoring_splitted(split_file, protein_file, software, ncpus):\n",
      "   526    427.7 MiB      0.0 MiB           1                   output_file = RTMScore_rescoring_folder + os.path.basename(split_file).split('.')[0] + '_RTMScore.csv'\n",
      "   527    427.7 MiB      0.0 MiB           1                   try:\n",
      "   528    500.2 MiB     72.5 MiB           1                       rtmscore(prot=protein_file, lig=split_file, output=output_file, model=f'{software}/RTMScore/trained_models/rtmscore_model1.pth', ncpus=1)\n",
      "   529                                                         except:\n",
      "   530                                                             printlog('RTMScore scoring with pocket failed, scoring with whole protein...')\n",
      "   531                                                             rtmscore(prot=RTMScore_pocket, lig=split_file, output=output_file, model=f'{software}/RTMScore/trained_models/rtmscore_model1.pth', ncpus=1)\n",
      "   532    500.2 MiB      0.0 MiB           1                   return\n",
      "\n",
      "\n"
     ]
    },
    {
     "name": "stderr",
     "output_type": "stream",
     "text": [
      "Rescoring with RTMScore:  38%|███▊      | 21/56 [14:32<25:32, 43.78s/file]"
     ]
    },
    {
     "name": "stdout",
     "output_type": "stream",
     "text": [
      "Filename: /home/alacournola/DockM8/scripts/rescoring_functions.py\n",
      "\n",
      "Line #    Mem usage    Increment  Occurrences   Line Contents\n",
      "=============================================================\n",
      "   524    441.1 MiB    441.1 MiB           1               @profile\n",
      "   525                                                     def RTMScore_rescoring_splitted(split_file, protein_file, software, ncpus):\n",
      "   526    441.1 MiB      0.0 MiB           1                   output_file = RTMScore_rescoring_folder + os.path.basename(split_file).split('.')[0] + '_RTMScore.csv'\n",
      "   527    441.1 MiB      0.0 MiB           1                   try:\n",
      "   528    471.1 MiB     30.0 MiB           1                       rtmscore(prot=protein_file, lig=split_file, output=output_file, model=f'{software}/RTMScore/trained_models/rtmscore_model1.pth', ncpus=1)\n",
      "   529                                                         except:\n",
      "   530                                                             printlog('RTMScore scoring with pocket failed, scoring with whole protein...')\n",
      "   531                                                             rtmscore(prot=RTMScore_pocket, lig=split_file, output=output_file, model=f'{software}/RTMScore/trained_models/rtmscore_model1.pth', ncpus=1)\n",
      "   532    471.1 MiB      0.0 MiB           1                   return\n",
      "\n",
      "\n"
     ]
    },
    {
     "name": "stderr",
     "output_type": "stream",
     "text": [
      "Rescoring with RTMScore:  39%|███▉      | 22/56 [14:36<18:00, 31.78s/file]"
     ]
    },
    {
     "name": "stdout",
     "output_type": "stream",
     "text": [
      "Filename: /home/alacournola/DockM8/scripts/rescoring_functions.py\n",
      "\n",
      "Line #    Mem usage    Increment  Occurrences   Line Contents\n",
      "=============================================================\n",
      "   524    542.5 MiB    542.5 MiB           1               @profile\n",
      "   525                                                     def RTMScore_rescoring_splitted(split_file, protein_file, software, ncpus):\n",
      "   526    542.5 MiB      0.0 MiB           1                   output_file = RTMScore_rescoring_folder + os.path.basename(split_file).split('.')[0] + '_RTMScore.csv'\n",
      "   527    542.5 MiB      0.0 MiB           1                   try:\n",
      "   528    526.0 MiB    -16.5 MiB           1                       rtmscore(prot=protein_file, lig=split_file, output=output_file, model=f'{software}/RTMScore/trained_models/rtmscore_model1.pth', ncpus=1)\n",
      "   529                                                         except:\n",
      "   530                                                             printlog('RTMScore scoring with pocket failed, scoring with whole protein...')\n",
      "   531                                                             rtmscore(prot=RTMScore_pocket, lig=split_file, output=output_file, model=f'{software}/RTMScore/trained_models/rtmscore_model1.pth', ncpus=1)\n",
      "   532    526.0 MiB      0.0 MiB           1                   return\n",
      "\n",
      "\n"
     ]
    },
    {
     "name": "stderr",
     "output_type": "stream",
     "text": [
      "Rescoring with RTMScore:  41%|████      | 23/56 [14:51<14:42, 26.75s/file]"
     ]
    },
    {
     "name": "stdout",
     "output_type": "stream",
     "text": [
      "Filename: /home/alacournola/DockM8/scripts/rescoring_functions.py\n",
      "\n",
      "Line #    Mem usage    Increment  Occurrences   Line Contents\n",
      "=============================================================\n",
      "   524    504.3 MiB    504.3 MiB           1               @profile\n",
      "   525                                                     def RTMScore_rescoring_splitted(split_file, protein_file, software, ncpus):\n",
      "   526    504.3 MiB      0.0 MiB           1                   output_file = RTMScore_rescoring_folder + os.path.basename(split_file).split('.')[0] + '_RTMScore.csv'\n",
      "   527    504.3 MiB      0.0 MiB           1                   try:\n",
      "   528    477.7 MiB    -26.6 MiB           1                       rtmscore(prot=protein_file, lig=split_file, output=output_file, model=f'{software}/RTMScore/trained_models/rtmscore_model1.pth', ncpus=1)\n",
      "   529                                                         except:\n",
      "   530                                                             printlog('RTMScore scoring with pocket failed, scoring with whole protein...')\n",
      "   531                                                             rtmscore(prot=RTMScore_pocket, lig=split_file, output=output_file, model=f'{software}/RTMScore/trained_models/rtmscore_model1.pth', ncpus=1)\n",
      "   532    477.7 MiB      0.0 MiB           1                   return\n",
      "\n",
      "\n"
     ]
    },
    {
     "name": "stderr",
     "output_type": "stream",
     "text": [
      "Rescoring with RTMScore:  43%|████▎     | 24/56 [15:01<11:38, 21.83s/file]"
     ]
    },
    {
     "name": "stdout",
     "output_type": "stream",
     "text": [
      "Filename: /home/alacournola/DockM8/scripts/rescoring_functions.py\n",
      "\n",
      "Line #    Mem usage    Increment  Occurrences   Line Contents\n",
      "=============================================================\n",
      "   524    614.4 MiB    614.4 MiB           1               @profile\n",
      "   525                                                     def RTMScore_rescoring_splitted(split_file, protein_file, software, ncpus):\n",
      "   526    614.4 MiB      0.0 MiB           1                   output_file = RTMScore_rescoring_folder + os.path.basename(split_file).split('.')[0] + '_RTMScore.csv'\n",
      "   527    614.4 MiB      0.0 MiB           1                   try:\n",
      "   528    615.6 MiB      1.2 MiB           1                       rtmscore(prot=protein_file, lig=split_file, output=output_file, model=f'{software}/RTMScore/trained_models/rtmscore_model1.pth', ncpus=1)\n",
      "   529                                                         except:\n",
      "   530                                                             printlog('RTMScore scoring with pocket failed, scoring with whole protein...')\n",
      "   531                                                             rtmscore(prot=RTMScore_pocket, lig=split_file, output=output_file, model=f'{software}/RTMScore/trained_models/rtmscore_model1.pth', ncpus=1)\n",
      "   532    615.6 MiB      0.0 MiB           1                   return\n",
      "\n",
      "\n"
     ]
    },
    {
     "name": "stderr",
     "output_type": "stream",
     "text": [
      "Rescoring with RTMScore:  45%|████▍     | 25/56 [15:05<08:33, 16.57s/file]"
     ]
    },
    {
     "name": "stdout",
     "output_type": "stream",
     "text": [
      "Filename: /home/alacournola/DockM8/scripts/rescoring_functions.py\n",
      "\n",
      "Line #    Mem usage    Increment  Occurrences   Line Contents\n",
      "=============================================================\n",
      "   524    479.4 MiB    479.4 MiB           1               @profile\n",
      "   525                                                     def RTMScore_rescoring_splitted(split_file, protein_file, software, ncpus):\n",
      "   526    479.4 MiB      0.0 MiB           1                   output_file = RTMScore_rescoring_folder + os.path.basename(split_file).split('.')[0] + '_RTMScore.csv'\n",
      "   527    479.4 MiB      0.0 MiB           1                   try:\n",
      "   528    499.8 MiB     20.4 MiB           1                       rtmscore(prot=protein_file, lig=split_file, output=output_file, model=f'{software}/RTMScore/trained_models/rtmscore_model1.pth', ncpus=1)\n",
      "   529                                                         except:\n",
      "   530                                                             printlog('RTMScore scoring with pocket failed, scoring with whole protein...')\n",
      "   531                                                             rtmscore(prot=RTMScore_pocket, lig=split_file, output=output_file, model=f'{software}/RTMScore/trained_models/rtmscore_model1.pth', ncpus=1)\n",
      "   532    499.8 MiB      0.0 MiB           1                   return\n",
      "\n",
      "\n"
     ]
    },
    {
     "name": "stderr",
     "output_type": "stream",
     "text": [
      "Rescoring with RTMScore:  46%|████▋     | 26/56 [15:07<05:58, 11.95s/file]"
     ]
    },
    {
     "name": "stdout",
     "output_type": "stream",
     "text": [
      "Filename: /home/alacournola/DockM8/scripts/rescoring_functions.py\n",
      "\n",
      "Line #    Mem usage    Increment  Occurrences   Line Contents\n",
      "=============================================================\n",
      "   524    540.4 MiB    540.4 MiB           1               @profile\n",
      "   525                                                     def RTMScore_rescoring_splitted(split_file, protein_file, software, ncpus):\n",
      "   526    540.4 MiB      0.0 MiB           1                   output_file = RTMScore_rescoring_folder + os.path.basename(split_file).split('.')[0] + '_RTMScore.csv'\n",
      "   527    540.4 MiB      0.0 MiB           1                   try:\n",
      "   528    523.7 MiB    -16.7 MiB           1                       rtmscore(prot=protein_file, lig=split_file, output=output_file, model=f'{software}/RTMScore/trained_models/rtmscore_model1.pth', ncpus=1)\n",
      "   529                                                         except:\n",
      "   530                                                             printlog('RTMScore scoring with pocket failed, scoring with whole protein...')\n",
      "   531                                                             rtmscore(prot=RTMScore_pocket, lig=split_file, output=output_file, model=f'{software}/RTMScore/trained_models/rtmscore_model1.pth', ncpus=1)\n",
      "   532    523.7 MiB      0.0 MiB           1                   return\n",
      "\n",
      "\n"
     ]
    },
    {
     "name": "stderr",
     "output_type": "stream",
     "text": [
      "Rescoring with RTMScore:  48%|████▊     | 27/56 [15:23<06:26, 13.34s/file]"
     ]
    }
   ],
   "source": [
    "for dir in os.listdir('/home/alacournola/DEKOIS-noprot/'):\n",
    "    print(dir)\n",
    "    software = '/home/alacournola/DockM8/software'\n",
    "    protein_file = f'/home/alacournola/DEKOIS-noprot/{dir}/receptor_protoss_prepared.pdb'\n",
    "    ref_file = f'/home/alacournola/DEKOIS-noprot/{dir}/crystal_ligand_protoss.sdf'\n",
    "    pocket = 'reference'\n",
    "    protonation = 'none'\n",
    "    docking_library = f'/home/alacournola/DEKOIS-noprot/{dir}/merged_actives_decoys.sdf'\n",
    "    docking_programs = ['GNINA', 'SMINA', 'PLANTS']\n",
    "    clustering_metrics = ['RMSD', 'spyRMSD', 'espsim', '3DScore', 'bestpose', 'bestpose_GNINA', 'bestpose_SMINA', 'bestpose_PLANTS']\n",
    "    clustering_method = 'KMedoids'\n",
    "    rescoring= ['gnina', 'AD4', 'chemplp', 'rfscorevs', 'LinF9', 'SCORCH', 'RTMScore', 'vinardo']\n",
    "    id_column = 'ID'\n",
    "    n_poses = 10\n",
    "    exhaustiveness = 8\n",
    "    #ncpus = 1\n",
    "    ncpus = int(os.cpu_count()-2)\n",
    "    #Create a temporary folder for all further calculations\n",
    "    w_dir = os.path.dirname(protein_file)\n",
    "    print('The working directory has been set to:', w_dir)\n",
    "    create_temp_folder(w_dir+'/temp')\n",
    "    \n",
    "    try:\n",
    "        for metric in clustering_metrics:\n",
    "            %memit rescore_all(w_dir, protein_file, ref_file, software, w_dir+f'/temp/clustering/{metric}_clustered.sdf', rescoring, ncpus)\n",
    "            \n",
    "    except Exception as e:\n",
    "        printlog(f'Failed for {dir}')\n",
    "        print(e)\n",
    "        \n"
   ]
  },
  {
   "cell_type": "code",
   "execution_count": null,
   "metadata": {},
   "outputs": [],
   "source": [
    "def rename_columns_in_csv(root_dir, target_file, col_rename_dict):\n",
    "    for dirpath, dirnames, filenames in os.walk(root_dir):\n",
    "        for filename in filenames:\n",
    "            if target_file in filename:\n",
    "                filepath = os.path.join(dirpath, filename)\n",
    "                df = pd.read_csv(filepath)\n",
    "                df.rename(columns=col_rename_dict, inplace=True)\n",
    "                df.to_csv(filepath, index=False)\n",
    "                print(f\"Columns renamed in: {filepath}\")\n",
    "\n",
    "root_directory = \"/media/mario/T7/FINISHED/FINISHED/\"\n",
    "target_csv_file = \"allposes_rescored.csv\"\n",
    "column_rename_dict = {\n",
    "    \"AD4_Affinity\": \"AD4\",\n",
    "    \"Vinardo_Affinity\": \"Vinardo\",\n",
    "    \"GNINA_Affinity\": \"GNINA\",\n",
    "    \"GNINA_CNN_Score\": \"CNN-Score\",\n",
    "    \"GNINA_CNN_Affinity\": \"CNN-Affinity\",\n",
    "    'LinF9_Affinity':'LinF9',\n",
    "    'SCORCH_pose_score':'SCORCH',\n",
    "    # Add more column names to be renamed here\n",
    "}\n",
    "rename_columns_in_csv(root_directory, target_csv_file, column_rename_dict)"
   ]
  },
  {
   "cell_type": "code",
   "execution_count": null,
   "metadata": {},
   "outputs": [],
   "source": [
    "import os\n",
    "import pandas as pd\n",
    "\n",
    "def rename_and_merge_csv_files(root_dir, target_file, output_file):\n",
    "    merged_df = None\n",
    "\n",
    "    for dirpath, dirnames, filenames in os.walk(root_dir):\n",
    "        for filename in filenames:\n",
    "            if filename == target_file:\n",
    "                filepath = os.path.join(dirpath, filename)\n",
    "                df = pd.read_csv(filepath, index_col=0)\n",
    "                dirname = os.path.basename(dirpath)\n",
    "                print(dirpath.replace('/media/mario/T7/FINISHED/FINISHED/', '').replace('/temp/consensus', ''))\n",
    "                df.rename(columns={\"EF1%\": dirpath.replace('/media/mario/T7/FINISHED/FINISHED/', '').replace('/temp/consensus', '')}, inplace=True)\n",
    "                df.drop(columns='EF10%', inplace=True)\n",
    "                if merged_df is None:\n",
    "                    merged_df = df\n",
    "                else:\n",
    "                    merged_df = pd.merge(merged_df, df, on=[\"Scoring Function\", \"Clustering Metric\"])\n",
    "\n",
    "    if merged_df is not None:\n",
    "        # Adding the average column\n",
    "        columns_to_exclude = ['method_name', 'selected_columns', 'clustering_metric']\n",
    "        numeric_columns = [col for col in merged_df.columns if col not in columns_to_exclude]\n",
    "        merged_df['Average'] = merged_df[numeric_columns].mean(axis=1)\n",
    "        merged_df.to_csv(output_file)\n",
    "        print(f\"Merged CSV file saved to: {output_file}\")\n",
    "\n",
    "\n",
    "root_directory = \"/media/mario/T7/FINISHED/FINISHED/\"\n",
    "target_csv_file = \"EF_single_functions.csv\"\n",
    "output_csv_file = \"merged_output_DUD-E.csv\"\n",
    "\n",
    "rename_and_merge_csv_files(root_directory, target_csv_file, output_csv_file)\n"
   ]
  },
  {
   "cell_type": "code",
   "execution_count": null,
   "metadata": {},
   "outputs": [],
   "source": [
    "import os\n",
    "import pandas as pd\n",
    "\n",
    "def rename_and_merge_csv_files(root_dir, target_file, output_file):\n",
    "    merged_df = None\n",
    "\n",
    "    for dirpath, dirnames, filenames in os.walk(root_dir):\n",
    "        for filename in filenames:\n",
    "            if filename == target_file:\n",
    "                filepath = os.path.join(dirpath, filename)\n",
    "                df = pd.read_csv(filepath, index_col=0)\n",
    "                dirname = os.path.basename(dirpath)\n",
    "                df.rename(columns={\"EF1%\": dirpath.replace('/media/mario/T7/FINISHED/FINISHED/', '').replace('/temp/consensus', '')}, inplace=True)\n",
    "                if merged_df is None:\n",
    "                    merged_df = df\n",
    "                else:\n",
    "                    merged_df = pd.merge(merged_df, df, on=[\"clustering_method\", \"selected_columns\", 'method_name'])\n",
    "                    print(merged_df.head())\n",
    "\n",
    "    if merged_df is not None:\n",
    "        # Adding the average column\n",
    "        columns_to_exclude = ['method_name', 'selected_columns', 'clustering_metric']\n",
    "        numeric_columns = [col for col in merged_df.columns if col not in columns_to_exclude]\n",
    "        merged_df['Average'] = merged_df[numeric_columns].mean(axis=1)\n",
    "        print(merged_df.head())\n",
    "        merged_df.to_csv(output_file)\n",
    "        print(f\"Merged CSV file saved to: {output_file}\")\n",
    "\n",
    "root_directory = \"/media/mario/T7/FINISHED/FINISHED/\"\n",
    "target_csv_file = \"consensus_summary.csv\"\n",
    "output_csv_file = \"merged_output_consensus_DUD-E.csv\"\n",
    "\n",
    "rename_and_merge_csv_files(root_directory, target_csv_file, output_csv_file)\n"
   ]
  }
 ],
 "metadata": {
  "kernelspec": {
   "display_name": "wocondock",
   "language": "python",
   "name": "python3"
  },
  "language_info": {
   "codemirror_mode": {
    "name": "ipython",
    "version": 3
   },
   "file_extension": ".py",
   "mimetype": "text/x-python",
   "name": "python",
   "nbconvert_exporter": "python",
   "pygments_lexer": "ipython3",
   "version": "3.8.16"
  },
  "orig_nbformat": 4,
  "vscode": {
   "interpreter": {
    "hash": "10164e316682d9b4b376ca14144ea8a4ff51ebef10350aaa3c3bfce49f02faa4"
   }
  }
 },
 "nbformat": 4,
 "nbformat_minor": 2
}
