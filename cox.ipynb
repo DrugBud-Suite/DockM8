{
 "cells": [
  {
   "cell_type": "markdown",
   "metadata": {},
   "source": [
    "**Import required libraries and scripts**"
   ]
  },
  {
   "cell_type": "code",
   "execution_count": null,
   "metadata": {},
   "outputs": [],
   "source": [
    "#Import required libraries and scripts\n",
    "from scripts.library_preparation import *\n",
    "from scripts.utilities import *\n",
    "from scripts.docking_functions import *\n",
    "from scripts.clustering_functions_mario import *\n",
    "from scripts.rescoring_functions import *\n",
    "from scripts.ranking_functions import *\n",
    "from scripts.performance_calculation import *\n",
    "import numpy as np\n",
    "import os"
   ]
  },
  {
   "cell_type": "markdown",
   "metadata": {},
   "source": [
    "**Define initial variables**\n",
    "- software : path to the software directory cloned from the git repository\n",
    "- protein_file : path to the file containing the prepared protein/receptor (.pdb format)\n",
    "- ref_file : path to the file containing the reference ligand used for binding pocket definition (.mol2 format)\n",
    "- docking_library : path to the file containing the compounds to be used for docking (.sdf format)\n",
    "- id_column : name of the column containing a unique identifier for each compound in the docking_library file (string)\n",
    "- n_poses : number of to generate for each compound\n",
    "- exhaustiveness : exhaustiveness of the docking algorithm (GNINA and SMINA only)\n",
    "\n",
    "The software will then create a temporary directory to store the output of the various functions."
   ]
  },
  {
   "cell_type": "code",
   "execution_count": null,
   "metadata": {},
   "outputs": [],
   "source": [
    "software = '/home/mario/CADD22/software'\n",
    "protein_file = '/home/mario/CADD22/cox1_test/receptor_protoss_prepared.pdb'\n",
    "ref_file = '/home/mario/CADD22/cox1_test/crystal_ligand.mol2'\n",
    "docking_library = '/home/mario/CADD22/cox1_test/Selection_of_FCHGroup_LeadLike.sdf'\n",
    "id_column = 'ID'\n",
    "n_poses = 10\n",
    "exhaustiveness = 8\n",
    "\n",
    "#Initialise variables and create a temporary folder\n",
    "w_dir = os.path.dirname(protein_file)\n",
    "print('The working directory has been set to:', w_dir)\n",
    "create_temp_folder(w_dir+'/temp')"
   ]
  },
  {
   "cell_type": "markdown",
   "metadata": {},
   "source": [
    "**Library preparation**\n",
    "\n",
    "This function will first standardize the library using the ChemBL structure pipeline. This will remove salts and make the library consistent.\n",
    "Then a single protonation state is predicted using pka_solver. This step may take a while depending on the number of compounds.\n",
    "Finally, one conformer is generated per molecule using GypsumDL.\n",
    "The final_library is then written to a file in the main directory (final_library.sdf)"
   ]
  },
  {
   "cell_type": "code",
   "execution_count": null,
   "metadata": {},
   "outputs": [],
   "source": [
    "cleaned_pkasolver_df = prepare_library_pkasolver_GypsumDL_simplified(docking_library, id_column, software)"
   ]
  },
  {
   "cell_type": "code",
   "execution_count": null,
   "metadata": {},
   "outputs": [],
   "source": [
    "test=PandasTools.LoadSDF(\"/home/mario/CADD22/wocondock_refactored_chatgpt/temp/final_library.sdf\", idName=\"ID\")"
   ]
  },
  {
   "cell_type": "markdown",
   "metadata": {},
   "source": [
    "**Docking**\n",
    "\n",
    "This function will dock all compounds in the receptor, using the reference ligand as a way to define the binding site. The docking results are written to the temporary folder. "
   ]
  },
  {
   "cell_type": "code",
   "execution_count": null,
   "metadata": {},
   "outputs": [],
   "source": [
    "all_poses = docking(protein_file, ref_file, software, exhaustiveness, n_poses)"
   ]
  },
  {
   "cell_type": "code",
   "execution_count": null,
   "metadata": {},
   "outputs": [],
   "source": [
    "all_poses = PandasTools.LoadSDF(w_dir+'/temp/allposes.sdf', idName='Pose ID', molColName='Molecule', includeFingerprints=False, embedProps=True, removeHs=True, strictParsing=True)"
   ]
  },
  {
   "cell_type": "markdown",
   "metadata": {},
   "source": [
    "**Clustering**\n",
    "\n",
    "We will first load all the poses generated from the docking run. The cluster() function performs the calculation of the clustering metrics (for now simpleRMSD and electroshape similarity), then performs the clustering using the k-medoids clustering algorithm with the number of clusters optimised using silhouette score. Finally, all cluster centers are collected and written to a file in the temporary directory (/temp/clustering/) (one file per clustering metric)."
   ]
  },
  {
   "cell_type": "code",
   "execution_count": 1,
   "metadata": {},
   "outputs": [
    {
     "name": "stderr",
     "output_type": "stream",
     "text": [
      "[16:01:31] Initializing Normalizer\n"
     ]
    },
    {
     "name": "stdout",
     "output_type": "stream",
     "text": [
      "The working directory has been set to: /home/tony/CADD22/wocondock_test_1k\n",
      "The folder: /home/tony/CADD22/wocondock_test_1k/temp already exists\n"
     ]
    }
   ],
   "source": [
    "\n",
    "#Import required libraries and scripts\n",
    "from scripts.library_preparation import *\n",
    "from scripts.utilities import *\n",
    "from scripts.docking_functions import *\n",
    "from scripts.clustering_functions_mario import *\n",
    "from scripts.rescoring_functions import *\n",
    "from scripts.ranking_functions import *\n",
    "from scripts.performance_calculation import *\n",
    "import numpy as np\n",
    "import os\n",
    "software = '/home/mario/CADD22/software'\n",
    "protein_file = '/home/tony/CADD22/wocondock_test_1k/receptor_protoss_prepared.pdb'\n",
    "ref_file = '/home/tony/CADD22/wocondock_test_1k/crystal_ligand.mol2'\n",
    "docking_library = '/home/tony/CADD22/wocondock_test_1k/merged_actives_decoys.sdf'\n",
    "id_column = 'ID'\n",
    "n_poses = 10\n",
    "exhaustiveness = 8\n",
    "w_dir = os.path.dirname(protein_file)\n",
    "print('The working directory has been set to:', w_dir)\n",
    "create_temp_folder(w_dir+'/temp')"
   ]
  },
  {
   "cell_type": "code",
   "execution_count": 2,
   "metadata": {},
   "outputs": [],
   "source": [
    "def simpleRMSD_calc(arg1,arg2):\n",
    "# MCS identification between reference pose and target pose\n",
    "    r=rdFMCS.FindMCS([arg1,arg2])\n",
    "# Atom map for reference and target              \n",
    "    a=arg1.GetSubstructMatch(Chem.MolFromSmarts(r.smartsString))\n",
    "    b=arg2.GetSubstructMatch(Chem.MolFromSmarts(r.smartsString))\n",
    "# Atom map generation     \n",
    "    amap=list(zip(a,b))\n",
    "# distance calculation per atom pair\n",
    "    distances=[]\n",
    "    for atomA, atomB in amap:\n",
    "        pos_A=arg1.GetConformer().GetAtomPosition (atomA)\n",
    "        pos_B=arg2.GetConformer().GetAtomPosition (atomB)\n",
    "        coord_A=np.array((pos_A.x,pos_A.y,pos_A.z))\n",
    "        coord_B=np.array ((pos_B.x,pos_B.y,pos_B.z))\n",
    "        dist_numpy = np.linalg.norm(coord_A-coord_B)        \n",
    "        distances.append(dist_numpy)      \n",
    "# This is the RMSD formula from wikipedia\n",
    "    rmsd=math.sqrt(1/len(distances)*sum([i*i for i in distances]))\n",
    "    return round(rmsd, 3)\n"
   ]
  },
  {
   "cell_type": "code",
   "execution_count": 3,
   "metadata": {},
   "outputs": [],
   "source": [
    "import concurrent.futures\n",
    "import progressbar\n",
    "def matrix_calculation_and_clustering(method, df_name, protein_file): \n",
    "    methods = {'RMSD': simpleRMSD_calc, 'spyRMSD': spyRMSD_calc, 'espsim': espsim_calc, 'USRCAT': USRCAT_calc, 'SPLIF': SPLIF_calc, '3DScore': '3DScore'}\n",
    "    df_name.index = range(len(df_name['Molecule']))\n",
    "    table = pd.DataFrame(0.0, index=[df_name['Pose ID']], columns=df_name['Molecule'])\n",
    "    if method == '3DScore':\n",
    "        for subset in itertools.combinations(df_name['Molecule'], 2):\n",
    "            result = methods['spyRMSD'](subset[0], subset[1])\n",
    "            table.iloc[df_name[df_name['Molecule']==subset[0]].index.values, df_name[df_name['Molecule']==subset[1]].index.values] = 0 if np.isnan(result) else result\n",
    "            table.iloc[df_name[df_name['Molecule']==subset[1]].index.values, df_name[df_name['Molecule']==subset[0]].index.values] = 0 if np.isnan(result) else result\n",
    "        table['3DScore'] = table.sum(axis=1)\n",
    "        table.sort_values(by='3DScore', ascending=True)\n",
    "        table = table.head(1)\n",
    "        table.reset_index(inplace=True)\n",
    "        table = pd.DataFrame(table['Pose ID'])\n",
    "        table['Pose ID'] = table['Pose ID'].astype(str).str.replace('[()\\',]','', regex=False)\n",
    "        #clustered_dataframes.append(table)\n",
    "        return table\n",
    "    else:\n",
    "        \n",
    "        for subset in itertools.combinations(df_name['Molecule'], 2):\n",
    "            #print(\"subset[0]\",str(subset[0]),\" subset[1]: \", str(subset[1]), \"protein_file: \",str(protein_file))\n",
    "            try:\n",
    "                result = simpleRMSD_calc(subset[0], subset[1])\n",
    "            except Exception as e:\n",
    "                print(\"Exception in method:\", e)\n",
    "            table.iloc[df_name[df_name['Molecule']==subset[0]].index.values, df_name[df_name['Molecule']==subset[1]].index.values] = 0 if np.isnan(result) else result\n",
    "            table.iloc[df_name[df_name['Molecule']==subset[1]].index.values, df_name[df_name['Molecule']==subset[0]].index.values] = 0 if np.isnan(result) else result\n",
    "        clust_df = kmedoids_S_clustering(table)\n",
    "        clust_df=clust_df['Pose ID']\n",
    "        return clust_df\n",
    "        #clustered_dataframes.append(clust_df)\n",
    "    #full_df = functools.reduce(lambda  left,right: pd.merge(left,right,on=['Pose ID'], how='outer'), clustered_dataframes)\n",
    "    #full_df['Pose ID'] = full_df['Pose ID'].astype(str).replace('[()\\',]','', regex=True)\n",
    "    #return full_df\n",
    "def cluster(method, w_dir, protein_file):\n",
    "    #all_poses = all_poses.groupBy()\n",
    "    id_list = np.unique(np.array(all_poses['ID']))\n",
    "    create_clustering_folder(w_dir+'/temp/clustering/')\n",
    "    clustered_dataframes = []\n",
    "    print(\"*Calculating {} metrics and clustering*\".format(method))\n",
    "    methods = {'RMSD': simpleRMSD_calc, 'spyRMSD': spyRMSD_calc, 'espsim': espsim_calc, 'USRCAT': USRCAT_calc, 'SPLIF': SPLIF_calc, '3DScore': '3DScore'}\n",
    "    with concurrent.futures.ProcessPoolExecutor() as executor:\n",
    "        jobs = []\n",
    "        numMol=0\n",
    "        for current_id in id_list:\n",
    "            try:\n",
    "                job = executor.submit(matrix_calculation_and_clustering, methods[method], all_poses[all_poses['ID']==current_id], protein_file)\n",
    "                jobs.append(job)\n",
    "            except Exception as e:\n",
    "                print(\"Error: \", str(e))\n",
    "            #numMol = numMol+1\n",
    "        widgets = [\"Generating conformations; \", progressbar.Percentage(), \" \", progressbar.ETA(), \" \", progressbar.Bar()]\n",
    "        pbar = progressbar.ProgressBar(widgets=widgets, maxval=len(jobs))\n",
    "        for job in pbar(concurrent.futures.as_completed(jobs)):\t\t\n",
    "            try:\n",
    "                res = job.result()\n",
    "                clustered_dataframes.append(res)\n",
    "            except Exception as e:\n",
    "                print(\"Error: \", str(e))\n",
    "    full_df = functools.reduce(lambda  left,right: pd.merge(left,right,on=['Pose ID'], how='outer'), clustered_dataframes)\n",
    "    full_df['Pose ID'] = full_df['Pose ID'].astype(str).replace('[()\\',]','', regex=True)\n",
    "    #return full_df\n",
    "    #clustered_poses = matrix_calculation_and_clustering(method, all_poses, id_list, protein_file, w_dir)\n",
    "    clustered_poses = pd.merge(all_poses, full_df, on='Pose ID')\n",
    "    # keep only the necessary columns\n",
    "    clustered_poses = clustered_poses[['Pose ID', 'Molecule']]\n",
    "    save_path = w_dir + '/temp/clustering/' + method + '_clustered.sdf'\n",
    "    PandasTools.WriteSDF(clustered_poses, save_path, molColName='Molecule', idName='Pose ID')\n",
    "    return clustered_poses\n"
   ]
  },
  {
   "cell_type": "code",
   "execution_count": 5,
   "metadata": {},
   "outputs": [],
   "source": [
    "all_poses = PandasTools.LoadSDF(w_dir+'/temp/allposes.sdf', idName='Pose ID', molColName='Molecule', includeFingerprints=False, embedProps=True, removeHs=True, strictParsing=True)"
   ]
  },
  {
   "cell_type": "code",
   "execution_count": 6,
   "metadata": {},
   "outputs": [
    {
     "name": "stdout",
     "output_type": "stream",
     "text": [
      "Clustering folder already exists\n",
      "*Calculating RMSD metrics and clustering*\n"
     ]
    },
    {
     "name": "stderr",
     "output_type": "stream",
     "text": [
      "Generating conformations; 100% Time:  0:05:23 |###############################|\n"
     ]
    },
    {
     "data": {
      "text/plain": [
       "54230"
      ]
     },
     "execution_count": 6,
     "metadata": {},
     "output_type": "execute_result"
    }
   ],
   "source": [
    "cp = cluster('RMSD', w_dir, protein_file)\n",
    "len(cp.index)"
   ]
  },
  {
   "cell_type": "code",
   "execution_count": null,
   "metadata": {},
   "outputs": [],
   "source": [
    "cluster('espsim', w_dir, protein_file)\n",
    "cluster('spyRMSD', w_dir, protein_file)\n",
    "cluster('USRCAT', w_dir, protein_file)"
   ]
  },
  {
   "cell_type": "markdown",
   "metadata": {},
   "source": [
    "**Rescoring**\n",
    "\n",
    "The file containing all the cluster centers is then rescored using all scoring functions available (GNINA, Vina, AutoDock4, PLP, CHEMPLP, RF-Score-VS). The rescored output is return as a dataframe."
   ]
  },
  {
   "cell_type": "code",
   "execution_count": null,
   "metadata": {},
   "outputs": [],
   "source": [
    "RMSD_rescored = rescore_all(w_dir, protein_file, ref_file, software, w_dir+'/temp/clustering/RMSD_clustered.sdf')\n",
    "espsim_rescored = rescore_all(w_dir, protein_file, ref_file, software, w_dir+'/temp/clustering/espsim_clustered.sdf')\n",
    "spyRMSD_rescored = rescore_all(w_dir, protein_file, ref_file, software, w_dir+'/temp/clustering/spyRMSD_clustered.sdf')\n",
    "USRCAT_rescored = rescore_all(w_dir, protein_file, ref_file, software, w_dir+'/temp/clustering/USRCAT_clustered.sdf')\n"
   ]
  },
  {
   "cell_type": "markdown",
   "metadata": {},
   "source": [
    "**Final ranking methods**\n",
    "\n",
    "This code calculates the final ranking of compounds using various methods.\n",
    "*Method 1* : Calculates ECR value for each cluster center, then outputs the top ranked center.\n",
    "*Method 2* : Calculates ECR value for each cluster center, then outputs the average ECR value for each compound.\n",
    "*Method 3* : Calculates the average rank of each compound, then ouputs the corresponding ECR value for each compound.\n",
    "*Method 6* : Calculates Z-score for each cluster center, then ouputs the top ranked center.\n",
    "*Method 7* : Calculates Z-score for each cluster center, then ouputs the average Z-score for each compound.\n",
    "\n",
    "All methods are then combined into a single dataframe for comparison purposes."
   ]
  },
  {
   "cell_type": "code",
   "execution_count": null,
   "metadata": {},
   "outputs": [],
   "source": [
    "from scripts.ranking_functions import *\n",
    "apply_ranking_methods_simplified(w_dir)"
   ]
  },
  {
   "cell_type": "code",
   "execution_count": null,
   "metadata": {},
   "outputs": [],
   "source": [
    "test_df = pd.read_csv('/home/tony/CADD22/wocondock_refactored_chatgpt/temp/ranking/ranking_results.csv')\n",
    "def show_correlation(dataframe):\n",
    "    matrix = dataframe.corr().round(2)\n",
    "    mask = np.triu(np.ones_like(matrix, dtype=bool))\n",
    "    sns.heatmap(matrix, mask = mask, annot=False, vmax=1, vmin=-1, center=0, linewidths=.5, cmap='coolwarm')\n",
    "    plt.show()\n",
    "\n",
    "show_correlation(test_df)"
   ]
  },
  {
   "cell_type": "code",
   "execution_count": null,
   "metadata": {},
   "outputs": [],
   "source": [
    "#calculate_EFs(w_dir, docking_library)"
   ]
  }
 ],
 "metadata": {
  "kernelspec": {
   "display_name": "wocondock",
   "language": "python",
   "name": "python3"
  },
  "language_info": {
   "codemirror_mode": {
    "name": "ipython",
    "version": 3
   },
   "file_extension": ".py",
   "mimetype": "text/x-python",
   "name": "python",
   "nbconvert_exporter": "python",
   "pygments_lexer": "ipython3",
   "version": "3.8.13"
  },
  "orig_nbformat": 4,
  "vscode": {
   "interpreter": {
    "hash": "ac9acbc93af693fb4e01b586b9d883cf48eab2850c268069ebbf85c5f9fbe2b9"
   }
  }
 },
 "nbformat": 4,
 "nbformat_minor": 2
}
