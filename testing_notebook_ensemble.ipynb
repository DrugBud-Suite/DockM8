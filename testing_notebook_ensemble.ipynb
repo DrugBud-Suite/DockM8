{
 "cells": [
  {
   "attachments": {},
   "cell_type": "markdown",
   "metadata": {},
   "source": [
    "**Import required libraries and scripts**"
   ]
  },
  {
   "cell_type": "code",
   "execution_count": 1,
   "metadata": {},
   "outputs": [
    {
     "name": "stderr",
     "output_type": "stream",
     "text": [
      "[00:58:28] Initializing Normalizer\n",
      "/home/tony/.conda/envs/dockm8/lib/python3.10/site-packages/matplotlib/__init__.py:152: DeprecationWarning: distutils Version classes are deprecated. Use packaging.version instead.\n",
      "  if LooseVersion(module.__version__) < minver:\n",
      "/home/tony/.conda/envs/dockm8/lib/python3.10/site-packages/setuptools/_distutils/version.py:345: DeprecationWarning: distutils Version classes are deprecated. Use packaging.version instead.\n",
      "  other = LooseVersion(other)\n",
      "/home/tony/.conda/envs/dockm8/lib/python3.10/site-packages/sklearn_extra/cluster/_commonnn.py:18: DeprecationWarning: distutils Version classes are deprecated. Use packaging.version instead.\n",
      "  if LooseVersion(sklearn.__version__) < LooseVersion(\"0.23.0\"):\n",
      "/home/tony/.conda/envs/dockm8/lib/python3.10/site-packages/tqdm/auto.py:21: TqdmWarning: IProgress not found. Please update jupyter and ipywidgets. See https://ipywidgets.readthedocs.io/en/stable/user_install.html\n",
      "  from .autonotebook import tqdm as notebook_tqdm\n",
      "/home/tony/.conda/envs/dockm8/lib/python3.10/site-packages/MDAnalysis/coordinates/chemfiles.py:108: DeprecationWarning: distutils Version classes are deprecated. Use packaging.version instead.\n",
      "  MIN_CHEMFILES_VERSION = LooseVersion(\"0.9\")\n",
      "[TRJ.py:171 - <module>()] netCDF4 is not available. Writing AMBER ncdf files will be slow.\n",
      "/home/tony/.conda/envs/dockm8/lib/python3.10/site-packages/MDAnalysis/coordinates/TRJ.py:1209: DeprecationWarning: Please use `netcdf_file` from the `scipy.io` namespace, the `scipy.io.netcdf` namespace is deprecated.\n",
      "  class NCDFPicklable(scipy.io.netcdf.netcdf_file):\n",
      "/home/tony/.conda/envs/dockm8/lib/python3.10/site-packages/biopandas/pdb/pandas_pdb.py:27: DeprecationWarning: distutils Version classes are deprecated. Use packaging.version instead.\n",
      "  pd_version = LooseVersion(pd.__version__)\n"
     ]
    }
   ],
   "source": [
    "#Import required libraries and scripts\n",
    "from scripts.library_preparation import *\n",
    "from scripts.utilities import *\n",
    "from scripts.docking_functions import *\n",
    "from scripts.clustering_functions import *\n",
    "from scripts.rescoring_functions import *\n",
    "from scripts.consensus_methods import *\n",
    "from scripts.performance_calculation import *\n",
    "from scripts.dogsitescorer import *\n",
    "from scripts.get_pocket import *\n",
    "from scripts.postprocessing import *"
   ]
  },
  {
   "cell_type": "code",
   "execution_count": 4,
   "metadata": {},
   "outputs": [
    {
     "name": "stdout",
     "output_type": "stream",
     "text": [
      "DockM8 is running in ensemble mode...\n",
      "The working directory has been set to: /home/tony/DockM8/testing_ensemble_docking/protein1\n",
      "\n",
      "[2023-Oct-25 01:01:32]: Extracting pocket from /home/tony/DockM8/testing_ensemble_docking/protein1.pdb using /home/tony/DockM8/testing_ensemble_docking/ref1.sdf as reference ligand\n"
     ]
    },
    {
     "name": "stderr",
     "output_type": "stream",
     "text": [
      "/home/tony/.conda/envs/dockm8/lib/python3.10/site-packages/biopandas/pdb/pandas_pdb.py:631: DeprecationWarning: distutils Version classes are deprecated. Use packaging.version instead.\n",
      "  if pd_version < LooseVersion(\"0.17.0\"):\n",
      "/home/tony/.conda/envs/dockm8/lib/python3.10/site-packages/biopandas/pdb/pandas_pdb.py:641: DeprecationWarning: distutils Version classes are deprecated. Use packaging.version instead.\n",
      "  elif pd_version < LooseVersion(\"0.23.0\"):\n"
     ]
    },
    {
     "name": "stdout",
     "output_type": "stream",
     "text": [
      "\n",
      "[2023-Oct-25 01:01:48]: Finished extracting pocket from /home/tony/DockM8/testing_ensemble_docking/protein1.pdb using /home/tony/DockM8/testing_ensemble_docking/ref1.sdf as reference ligand\n",
      "{'center': [16.7, -2.69, 17.61], 'size': [16.0, 16.0, 16.0]}\n",
      "Splitting SDF file final_library.sdf ...\n"
     ]
    },
    {
     "name": "stderr",
     "output_type": "stream",
     "text": [
      "Splitting files: 100%|██████████| 10/10 [00:00<00:00, 1124.99it/s]\n"
     ]
    },
    {
     "name": "stdout",
     "output_type": "stream",
     "text": [
      "Split docking library into 10 files each containing 1 compounds\n",
      "\n",
      "[2023-Oct-25 01:01:48]: All poses succesfully combined!\n",
      "Loading all poses SDF file...\n",
      "Loaded 100 poses.\n",
      "Finished loading all poses SDF in 0.0578!...\n",
      "\n",
      "[2023-Oct-25 01:01:48]: Skipping functions: GNINA_Affinity, CNN-Score, CNN-Affinity, AD4, CHEMPLP, RFScoreVS\n",
      "\n",
      "[2023-Oct-25 01:01:48]: Combining all scores for /home/tony/DockM8/testing_ensemble_docking/protein1/rescoring_bestpose_PLANTS_clustered\n"
     ]
    },
    {
     "name": "stderr",
     "output_type": "stream",
     "text": [
      "Combining scores: 100%|██████████| 5/5 [00:00<00:00, 544.97files/s]\n"
     ]
    },
    {
     "name": "stdout",
     "output_type": "stream",
     "text": [
      "\n",
      "[2023-Oct-25 01:01:48]: Rescoring complete in 0.0236!\n",
      "The working directory has been set to: /home/tony/DockM8/testing_ensemble_docking/protein2\n",
      "\n",
      "[2023-Oct-25 01:01:48]: Extracting pocket from /home/tony/DockM8/testing_ensemble_docking/protein2.pdb using /home/tony/DockM8/testing_ensemble_docking/ref2.sdf as reference ligand\n"
     ]
    },
    {
     "name": "stderr",
     "output_type": "stream",
     "text": [
      "/home/tony/.conda/envs/dockm8/lib/python3.10/site-packages/biopandas/pdb/pandas_pdb.py:631: DeprecationWarning: distutils Version classes are deprecated. Use packaging.version instead.\n",
      "  if pd_version < LooseVersion(\"0.17.0\"):\n",
      "/home/tony/.conda/envs/dockm8/lib/python3.10/site-packages/biopandas/pdb/pandas_pdb.py:641: DeprecationWarning: distutils Version classes are deprecated. Use packaging.version instead.\n",
      "  elif pd_version < LooseVersion(\"0.23.0\"):\n"
     ]
    },
    {
     "name": "stdout",
     "output_type": "stream",
     "text": [
      "\n",
      "[2023-Oct-25 01:02:21]: Finished extracting pocket from /home/tony/DockM8/testing_ensemble_docking/protein2.pdb using /home/tony/DockM8/testing_ensemble_docking/ref2.sdf as reference ligand\n",
      "{'center': [-12.4, -13.78, -15.95], 'size': [16.0, 16.0, 16.0]}\n",
      "Splitting SDF file final_library.sdf ...\n"
     ]
    },
    {
     "name": "stderr",
     "output_type": "stream",
     "text": [
      "Splitting files: 100%|██████████| 10/10 [00:00<00:00, 1089.85it/s]\n"
     ]
    },
    {
     "name": "stdout",
     "output_type": "stream",
     "text": [
      "Split docking library into 10 files each containing 1 compounds\n",
      "\n",
      "[2023-Oct-25 01:02:21]: All poses succesfully combined!\n",
      "Loading all poses SDF file...\n",
      "Loaded 100 poses.\n",
      "Finished loading all poses SDF in 0.0570!...\n",
      "\n",
      "[2023-Oct-25 01:02:21]: Skipping functions: GNINA_Affinity, CNN-Score, CNN-Affinity, AD4, CHEMPLP, RFScoreVS\n",
      "\n",
      "[2023-Oct-25 01:02:21]: Combining all scores for /home/tony/DockM8/testing_ensemble_docking/protein2/rescoring_bestpose_PLANTS_clustered\n"
     ]
    },
    {
     "name": "stderr",
     "output_type": "stream",
     "text": [
      "Combining scores: 100%|██████████| 5/5 [00:00<00:00, 463.43files/s]\n"
     ]
    },
    {
     "name": "stdout",
     "output_type": "stream",
     "text": [
      "\n",
      "[2023-Oct-25 01:02:21]: Rescoring complete in 0.0252!\n",
      "[]\n"
     ]
    }
   ],
   "source": [
    "software = Path('/home/tony/DockM8/software')\n",
    "receptors = [Path('/home/tony/DockM8/testing_ensemble_docking/protein1.pdb'), Path('/home/tony/DockM8/testing_ensemble_docking/protein2.pdb')]\n",
    "ref_files = [Path('/home/tony/DockM8/testing_ensemble_docking/ref1.sdf'), Path('/home/tony/DockM8/testing_ensemble_docking/ref2.sdf')]\n",
    "docking_library = Path('/home/tony/DockM8/testing_ensemble_docking/library.sdf')\n",
    "docking_programs = ['PLANTS']\n",
    "clustering_metric = 'bestpose_PLANTS'\n",
    "rescoring_functions = ['GNINA_Affinity','CNN-Score','CNN-Affinity', 'AD4', 'CHEMPLP', 'RFScoreVS']\n",
    "id_column = 'ID'\n",
    "n_poses = 10\n",
    "exhaustiveness = 8\n",
    "protonation = 'GypsumDL'\n",
    "ncpus = 5\n",
    "pocket = 'reference'\n",
    "consensus_method = 'method6'\n",
    "\n",
    "print('DockM8 is running in ensemble mode...')\n",
    "        \n",
    "receptor_dict = {}\n",
    "for i, receptor in enumerate(receptors):\n",
    "    receptor_dict[receptor] = ref_files[i]\n",
    "    \n",
    "for receptor, ref_file in receptor_dict.items():\n",
    "\n",
    "    w_dir = Path(receptor).parent / Path(receptor).stem\n",
    "    print('The working directory has been set to:', w_dir)\n",
    "    (w_dir).mkdir(exist_ok=True)\n",
    "    \n",
    "    #if os.path.isfile(str(receptor).replace('.pdb', '_pocket.pdb')) == False:\n",
    "    if pocket == 'reference':\n",
    "        pocket_definition = get_pocket(ref_file, receptor, 8)\n",
    "        print(pocket_definition)\n",
    "    if pocket == 'RoG':\n",
    "        pocket_definition = get_pocket_RoG(ref_file, receptor)\n",
    "        print(pocket_definition)\n",
    "    elif pocket == 'dogsitescorer':\n",
    "        pocket_definition = binding_site_coordinates_dogsitescorer(receptor, w_dir, method='volume')\n",
    "        print(pocket_definition)\n",
    "    #else:\n",
    "        #pocket_definition = calculate_pocket_coordinates_from_pocket_pdb_file((str(receptor).replace('.pdb', '_pocket.pdb')))\n",
    "        \n",
    "    if (w_dir / 'final_library.sdf').is_file() == False:\n",
    "        prepare_library(docking_library, w_dir, id_column, protonation, software, ncpus)\n",
    "        \n",
    "    docking(w_dir, receptor, pocket_definition, software, docking_programs, exhaustiveness, n_poses, 5)\n",
    "    concat_all_poses(w_dir, docking_programs)\n",
    "\n",
    "    print('Loading all poses SDF file...')\n",
    "    tic = time.perf_counter()\n",
    "    all_poses = PandasTools.LoadSDF(str(w_dir / 'allposes.sdf'), idName='Pose ID', molColName='Molecule', includeFingerprints=False, strictParsing=True)\n",
    "    print(f'Loaded {len(all_poses)} poses.')\n",
    "    toc = time.perf_counter()\n",
    "    print(f'Finished loading all poses SDF in {toc-tic:0.4f}!...')\n",
    "\n",
    "    if os.path.isfile(w_dir / 'clustering/'f'{clustering_metric}_clustered.sdf') == False:\n",
    "        cluster_pebble(clustering_metric, 'KMedoids', w_dir, receptor, all_poses, ncpus)\n",
    "        \n",
    "    rescore_all(w_dir, receptor, pocket_definition, software, w_dir / 'clustering' / f'{clustering_metric}_clustered.sdf', rescoring_functions , ncpus)\n",
    "\n",
    "    apply_consensus_methods(w_dir, clustering_metric, consensus_method, rescoring_functions, 'min_max')\n",
    "    \n",
    "ensemble_results = ensemble_consensus(receptors, clustering_metric, consensus_method, 30)\n",
    "\n",
    "print(ensemble_results)\n"
   ]
  }
 ],
 "metadata": {
  "kernelspec": {
   "display_name": "wocondock",
   "language": "python",
   "name": "python3"
  },
  "language_info": {
   "codemirror_mode": {
    "name": "ipython",
    "version": 3
   },
   "file_extension": ".py",
   "mimetype": "text/x-python",
   "name": "python",
   "nbconvert_exporter": "python",
   "pygments_lexer": "ipython3",
   "version": "3.10.13"
  },
  "orig_nbformat": 4,
  "vscode": {
   "interpreter": {
    "hash": "10164e316682d9b4b376ca14144ea8a4ff51ebef10350aaa3c3bfce49f02faa4"
   }
  }
 },
 "nbformat": 4,
 "nbformat_minor": 2
}
