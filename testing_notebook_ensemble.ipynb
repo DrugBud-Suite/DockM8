{
 "cells": [
  {
   "attachments": {},
   "cell_type": "markdown",
   "metadata": {},
   "source": [
    "**Import required libraries and scripts**"
   ]
  },
  {
   "cell_type": "code",
   "execution_count": 1,
   "metadata": {},
   "outputs": [
    {
     "name": "stderr",
     "output_type": "stream",
     "text": [
      "[00:58:28] Initializing Normalizer\n",
      "/home/tony/.conda/envs/dockm8/lib/python3.10/site-packages/matplotlib/__init__.py:152: DeprecationWarning: distutils Version classes are deprecated. Use packaging.version instead.\n",
      "  if LooseVersion(module.__version__) < minver:\n",
      "/home/tony/.conda/envs/dockm8/lib/python3.10/site-packages/setuptools/_distutils/version.py:345: DeprecationWarning: distutils Version classes are deprecated. Use packaging.version instead.\n",
      "  other = LooseVersion(other)\n",
      "/home/tony/.conda/envs/dockm8/lib/python3.10/site-packages/sklearn_extra/cluster/_commonnn.py:18: DeprecationWarning: distutils Version classes are deprecated. Use packaging.version instead.\n",
      "  if LooseVersion(sklearn.__version__) < LooseVersion(\"0.23.0\"):\n",
      "/home/tony/.conda/envs/dockm8/lib/python3.10/site-packages/tqdm/auto.py:21: TqdmWarning: IProgress not found. Please update jupyter and ipywidgets. See https://ipywidgets.readthedocs.io/en/stable/user_install.html\n",
      "  from .autonotebook import tqdm as notebook_tqdm\n",
      "/home/tony/.conda/envs/dockm8/lib/python3.10/site-packages/MDAnalysis/coordinates/chemfiles.py:108: DeprecationWarning: distutils Version classes are deprecated. Use packaging.version instead.\n",
      "  MIN_CHEMFILES_VERSION = LooseVersion(\"0.9\")\n",
      "[TRJ.py:171 - <module>()] netCDF4 is not available. Writing AMBER ncdf files will be slow.\n",
      "/home/tony/.conda/envs/dockm8/lib/python3.10/site-packages/MDAnalysis/coordinates/TRJ.py:1209: DeprecationWarning: Please use `netcdf_file` from the `scipy.io` namespace, the `scipy.io.netcdf` namespace is deprecated.\n",
      "  class NCDFPicklable(scipy.io.netcdf.netcdf_file):\n",
      "/home/tony/.conda/envs/dockm8/lib/python3.10/site-packages/biopandas/pdb/pandas_pdb.py:27: DeprecationWarning: distutils Version classes are deprecated. Use packaging.version instead.\n",
      "  pd_version = LooseVersion(pd.__version__)\n"
     ]
    }
   ],
   "source": [
    "#Import required libraries and scripts\n",
    "from scripts.library_preparation import *\n",
    "from scripts.utilities import *\n",
    "from scripts.docking_functions import *\n",
    "from scripts.clustering_functions import *\n",
    "from scripts.rescoring_functions import *\n",
    "from scripts.consensus_methods import *\n",
    "from scripts.performance_calculation import *\n",
    "from scripts.dogsitescorer import *\n",
    "from scripts.get_pocket import *\n",
    "from scripts.postprocessing import *"
   ]
  },
  {
   "cell_type": "code",
   "execution_count": 3,
   "metadata": {},
   "outputs": [
    {
     "name": "stdout",
     "output_type": "stream",
     "text": [
      "DockM8 is running in ensemble mode...\n",
      "The working directory has been set to: /home/tony/DockM8/testing_ensemble_docking/protein1\n",
      "\n",
      "[2023-Oct-25 01:00:30]: Extracting pocket from /home/tony/DockM8/testing_ensemble_docking/protein1.pdb using /home/tony/DockM8/testing_ensemble_docking/ref1.sdf as reference ligand\n"
     ]
    },
    {
     "name": "stderr",
     "output_type": "stream",
     "text": [
      "/home/tony/.conda/envs/dockm8/lib/python3.10/site-packages/biopandas/pdb/pandas_pdb.py:631: DeprecationWarning: distutils Version classes are deprecated. Use packaging.version instead.\n",
      "  if pd_version < LooseVersion(\"0.17.0\"):\n",
      "/home/tony/.conda/envs/dockm8/lib/python3.10/site-packages/biopandas/pdb/pandas_pdb.py:641: DeprecationWarning: distutils Version classes are deprecated. Use packaging.version instead.\n",
      "  elif pd_version < LooseVersion(\"0.23.0\"):\n"
     ]
    },
    {
     "name": "stdout",
     "output_type": "stream",
     "text": [
      "\n",
      "[2023-Oct-25 01:00:46]: Finished extracting pocket from /home/tony/DockM8/testing_ensemble_docking/protein1.pdb using /home/tony/DockM8/testing_ensemble_docking/ref1.sdf as reference ligand\n",
      "{'center': [16.7, -2.69, 17.61], 'size': [16.0, 16.0, 16.0]}\n",
      "Splitting SDF file final_library.sdf ...\n"
     ]
    },
    {
     "name": "stderr",
     "output_type": "stream",
     "text": [
      "Splitting files: 100%|██████████| 10/10 [00:00<00:00, 1190.14it/s]\n"
     ]
    },
    {
     "name": "stdout",
     "output_type": "stream",
     "text": [
      "Split docking library into 10 files each containing 1 compounds\n",
      "\n",
      "[2023-Oct-25 01:00:46]: All poses succesfully combined!\n",
      "Loading all poses SDF file...\n",
      "Loaded 100 poses.\n",
      "Finished loading all poses SDF in 0.0594!...\n",
      "\n",
      "[2023-Oct-25 01:00:46]: *Calculating b metrics and clustering*\n"
     ]
    },
    {
     "name": "stderr",
     "output_type": "stream",
     "text": [
      "Submitting b jobs...: 100%|██████████| 10/10 [00:00<00:00, 82.42IDs/s]\n",
      "Running b clustering...: 100%|██████████| 10/10 [00:00<00:00, 321.88jobs/s]\n"
     ]
    },
    {
     "name": "stdout",
     "output_type": "stream",
     "text": [
      "Invalid metric 'b'\n",
      "Invalid metric 'b'\n",
      "Invalid metric 'b'\n",
      "Invalid metric 'b'\n",
      "Invalid metric 'b'\n",
      "Invalid metric 'b'\n",
      "Invalid metric 'b'\n",
      "Invalid metric 'b'\n",
      "Invalid metric 'b'\n",
      "Invalid metric 'b'\n"
     ]
    },
    {
     "ename": "ValueError",
     "evalue": "No objects to concatenate",
     "output_type": "error",
     "traceback": [
      "\u001b[0;31m---------------------------------------------------------------------------\u001b[0m",
      "\u001b[0;31mValueError\u001b[0m                                Traceback (most recent call last)",
      "\u001b[1;32m/home/tony/DockM8/testing_notebook_ensemble.ipynb Cell 3\u001b[0m line \u001b[0;36m5\n\u001b[1;32m     <a href='vscode-notebook-cell:/home/tony/DockM8/testing_notebook_ensemble.ipynb#W2sZmlsZQ%3D%3D?line=53'>54</a>\u001b[0m \u001b[39mfor\u001b[39;00m metric \u001b[39min\u001b[39;00m clustering_metrics:\n\u001b[1;32m     <a href='vscode-notebook-cell:/home/tony/DockM8/testing_notebook_ensemble.ipynb#W2sZmlsZQ%3D%3D?line=54'>55</a>\u001b[0m         \u001b[39mif\u001b[39;00m os\u001b[39m.\u001b[39mpath\u001b[39m.\u001b[39misfile(w_dir \u001b[39m/\u001b[39m \u001b[39m'\u001b[39m\u001b[39mclustering/\u001b[39m\u001b[39m'\u001b[39m\u001b[39mf\u001b[39m\u001b[39m'\u001b[39m\u001b[39m{\u001b[39;00mmetric\u001b[39m}\u001b[39;00m\u001b[39m_clustered.sdf\u001b[39m\u001b[39m'\u001b[39m) \u001b[39m==\u001b[39m \u001b[39mFalse\u001b[39;00m:\n\u001b[0;32m---> <a href='vscode-notebook-cell:/home/tony/DockM8/testing_notebook_ensemble.ipynb#W2sZmlsZQ%3D%3D?line=55'>56</a>\u001b[0m             cluster_pebble(metric, \u001b[39m'\u001b[39;49m\u001b[39mKMedoids\u001b[39;49m\u001b[39m'\u001b[39;49m, w_dir, receptor, all_poses, ncpus)\n\u001b[1;32m     <a href='vscode-notebook-cell:/home/tony/DockM8/testing_notebook_ensemble.ipynb#W2sZmlsZQ%3D%3D?line=57'>58</a>\u001b[0m \u001b[39mfor\u001b[39;00m metric \u001b[39min\u001b[39;00m clustering_metrics:\n\u001b[1;32m     <a href='vscode-notebook-cell:/home/tony/DockM8/testing_notebook_ensemble.ipynb#W2sZmlsZQ%3D%3D?line=58'>59</a>\u001b[0m         rescore_all(w_dir, receptor, pocket_definition, software, w_dir \u001b[39m/\u001b[39m \u001b[39m'\u001b[39m\u001b[39mclustering\u001b[39m\u001b[39m'\u001b[39m \u001b[39m/\u001b[39m \u001b[39mf\u001b[39m\u001b[39m'\u001b[39m\u001b[39m{\u001b[39;00mmetric\u001b[39m}\u001b[39;00m\u001b[39m_clustered.sdf\u001b[39m\u001b[39m'\u001b[39m, rescoring_functions , ncpus)\n",
      "File \u001b[0;32m~/DockM8/scripts/clustering_functions.py:234\u001b[0m, in \u001b[0;36mcluster_pebble\u001b[0;34m(metric, method, w_dir, protein_file, all_poses, ncpus)\u001b[0m\n\u001b[1;32m    232\u001b[0m                 \u001b[39mprint\u001b[39m(e)\n\u001b[1;32m    233\u001b[0m                 \u001b[39mpass\u001b[39;00m\n\u001b[0;32m--> 234\u001b[0m     clustered_poses \u001b[39m=\u001b[39m pd\u001b[39m.\u001b[39;49mconcat(clustered_dataframes)\n\u001b[1;32m    235\u001b[0m clustered_poses[\u001b[39m'\u001b[39m\u001b[39mPose ID\u001b[39m\u001b[39m'\u001b[39m] \u001b[39m=\u001b[39m clustered_poses[\u001b[39m'\u001b[39m\u001b[39mPose ID\u001b[39m\u001b[39m'\u001b[39m]\u001b[39m.\u001b[39mastype(\u001b[39mstr\u001b[39m)\u001b[39m.\u001b[39mreplace(\u001b[39m'\u001b[39m\u001b[39m[()\u001b[39m\u001b[39m\\'\u001b[39;00m\u001b[39m,]\u001b[39m\u001b[39m'\u001b[39m, \u001b[39m'\u001b[39m\u001b[39m'\u001b[39m, regex\u001b[39m=\u001b[39m\u001b[39mTrue\u001b[39;00m)\n\u001b[1;32m    236\u001b[0m filtered_poses \u001b[39m=\u001b[39m all_poses[all_poses[\u001b[39m'\u001b[39m\u001b[39mPose ID\u001b[39m\u001b[39m'\u001b[39m]\u001b[39m.\u001b[39misin(clustered_poses[\u001b[39m'\u001b[39m\u001b[39mPose ID\u001b[39m\u001b[39m'\u001b[39m])]\n",
      "File \u001b[0;32m~/.conda/envs/dockm8/lib/python3.10/site-packages/pandas/util/_decorators.py:331\u001b[0m, in \u001b[0;36mdeprecate_nonkeyword_arguments.<locals>.decorate.<locals>.wrapper\u001b[0;34m(*args, **kwargs)\u001b[0m\n\u001b[1;32m    325\u001b[0m \u001b[39mif\u001b[39;00m \u001b[39mlen\u001b[39m(args) \u001b[39m>\u001b[39m num_allow_args:\n\u001b[1;32m    326\u001b[0m     warnings\u001b[39m.\u001b[39mwarn(\n\u001b[1;32m    327\u001b[0m         msg\u001b[39m.\u001b[39mformat(arguments\u001b[39m=\u001b[39m_format_argument_list(allow_args)),\n\u001b[1;32m    328\u001b[0m         \u001b[39mFutureWarning\u001b[39;00m,\n\u001b[1;32m    329\u001b[0m         stacklevel\u001b[39m=\u001b[39mfind_stack_level(),\n\u001b[1;32m    330\u001b[0m     )\n\u001b[0;32m--> 331\u001b[0m \u001b[39mreturn\u001b[39;00m func(\u001b[39m*\u001b[39;49margs, \u001b[39m*\u001b[39;49m\u001b[39m*\u001b[39;49mkwargs)\n",
      "File \u001b[0;32m~/.conda/envs/dockm8/lib/python3.10/site-packages/pandas/core/reshape/concat.py:368\u001b[0m, in \u001b[0;36mconcat\u001b[0;34m(objs, axis, join, ignore_index, keys, levels, names, verify_integrity, sort, copy)\u001b[0m\n\u001b[1;32m    146\u001b[0m \u001b[39m@deprecate_nonkeyword_arguments\u001b[39m(version\u001b[39m=\u001b[39m\u001b[39mNone\u001b[39;00m, allowed_args\u001b[39m=\u001b[39m[\u001b[39m\"\u001b[39m\u001b[39mobjs\u001b[39m\u001b[39m\"\u001b[39m])\n\u001b[1;32m    147\u001b[0m \u001b[39mdef\u001b[39;00m \u001b[39mconcat\u001b[39m(\n\u001b[1;32m    148\u001b[0m     objs: Iterable[NDFrame] \u001b[39m|\u001b[39m Mapping[HashableT, NDFrame],\n\u001b[0;32m   (...)\u001b[0m\n\u001b[1;32m    157\u001b[0m     copy: \u001b[39mbool\u001b[39m \u001b[39m=\u001b[39m \u001b[39mTrue\u001b[39;00m,\n\u001b[1;32m    158\u001b[0m ) \u001b[39m-\u001b[39m\u001b[39m>\u001b[39m DataFrame \u001b[39m|\u001b[39m Series:\n\u001b[1;32m    159\u001b[0m \u001b[39m    \u001b[39m\u001b[39m\"\"\"\u001b[39;00m\n\u001b[1;32m    160\u001b[0m \u001b[39m    Concatenate pandas objects along a particular axis.\u001b[39;00m\n\u001b[1;32m    161\u001b[0m \n\u001b[0;32m   (...)\u001b[0m\n\u001b[1;32m    366\u001b[0m \u001b[39m    1   3   4\u001b[39;00m\n\u001b[1;32m    367\u001b[0m \u001b[39m    \"\"\"\u001b[39;00m\n\u001b[0;32m--> 368\u001b[0m     op \u001b[39m=\u001b[39m _Concatenator(\n\u001b[1;32m    369\u001b[0m         objs,\n\u001b[1;32m    370\u001b[0m         axis\u001b[39m=\u001b[39;49maxis,\n\u001b[1;32m    371\u001b[0m         ignore_index\u001b[39m=\u001b[39;49mignore_index,\n\u001b[1;32m    372\u001b[0m         join\u001b[39m=\u001b[39;49mjoin,\n\u001b[1;32m    373\u001b[0m         keys\u001b[39m=\u001b[39;49mkeys,\n\u001b[1;32m    374\u001b[0m         levels\u001b[39m=\u001b[39;49mlevels,\n\u001b[1;32m    375\u001b[0m         names\u001b[39m=\u001b[39;49mnames,\n\u001b[1;32m    376\u001b[0m         verify_integrity\u001b[39m=\u001b[39;49mverify_integrity,\n\u001b[1;32m    377\u001b[0m         copy\u001b[39m=\u001b[39;49mcopy,\n\u001b[1;32m    378\u001b[0m         sort\u001b[39m=\u001b[39;49msort,\n\u001b[1;32m    379\u001b[0m     )\n\u001b[1;32m    381\u001b[0m     \u001b[39mreturn\u001b[39;00m op\u001b[39m.\u001b[39mget_result()\n",
      "File \u001b[0;32m~/.conda/envs/dockm8/lib/python3.10/site-packages/pandas/core/reshape/concat.py:425\u001b[0m, in \u001b[0;36m_Concatenator.__init__\u001b[0;34m(self, objs, axis, join, keys, levels, names, ignore_index, verify_integrity, copy, sort)\u001b[0m\n\u001b[1;32m    422\u001b[0m     objs \u001b[39m=\u001b[39m \u001b[39mlist\u001b[39m(objs)\n\u001b[1;32m    424\u001b[0m \u001b[39mif\u001b[39;00m \u001b[39mlen\u001b[39m(objs) \u001b[39m==\u001b[39m \u001b[39m0\u001b[39m:\n\u001b[0;32m--> 425\u001b[0m     \u001b[39mraise\u001b[39;00m \u001b[39mValueError\u001b[39;00m(\u001b[39m\"\u001b[39m\u001b[39mNo objects to concatenate\u001b[39m\u001b[39m\"\u001b[39m)\n\u001b[1;32m    427\u001b[0m \u001b[39mif\u001b[39;00m keys \u001b[39mis\u001b[39;00m \u001b[39mNone\u001b[39;00m:\n\u001b[1;32m    428\u001b[0m     objs \u001b[39m=\u001b[39m \u001b[39mlist\u001b[39m(com\u001b[39m.\u001b[39mnot_none(\u001b[39m*\u001b[39mobjs))\n",
      "\u001b[0;31mValueError\u001b[0m: No objects to concatenate"
     ]
    }
   ],
   "source": [
    "software = Path('/home/tony/DockM8/software')\n",
    "receptors = [Path('/home/tony/DockM8/testing_ensemble_docking/protein1.pdb'), Path('/home/tony/DockM8/testing_ensemble_docking/protein2.pdb')]\n",
    "ref_files = [Path('/home/tony/DockM8/testing_ensemble_docking/ref1.sdf'), Path('/home/tony/DockM8/testing_ensemble_docking/ref2.sdf')]\n",
    "docking_library = Path('/home/tony/DockM8/testing_ensemble_docking/library.sdf')\n",
    "docking_programs = ['PLANTS']\n",
    "clustering_metric = 'bestpose_PLANTS'\n",
    "rescoring_functions = ['GNINA_Affinity','CNN-Score','CNN-Affinity', 'AD4', 'CHEMPLP', 'RFScoreVS']\n",
    "id_column = 'ID'\n",
    "n_poses = 10\n",
    "exhaustiveness = 8\n",
    "protonation = 'GypsumDL'\n",
    "ncpus = 5\n",
    "pocket = 'reference'\n",
    "consensus_method = 'method6'\n",
    "\n",
    "print('DockM8 is running in ensemble mode...')\n",
    "        \n",
    "receptor_dict = {}\n",
    "for i, receptor in enumerate(receptors):\n",
    "    receptor_dict[receptor] = ref_files[i]\n",
    "    \n",
    "for receptor, ref_file in receptor_dict.items():\n",
    "\n",
    "    w_dir = Path(receptor).parent / Path(receptor).stem\n",
    "    print('The working directory has been set to:', w_dir)\n",
    "    (w_dir).mkdir(exist_ok=True)\n",
    "    \n",
    "    #if os.path.isfile(str(receptor).replace('.pdb', '_pocket.pdb')) == False:\n",
    "    if pocket == 'reference':\n",
    "        pocket_definition = get_pocket(ref_file, receptor, 8)\n",
    "        print(pocket_definition)\n",
    "    if pocket == 'RoG':\n",
    "        pocket_definition = get_pocket_RoG(ref_file, receptor)\n",
    "        print(pocket_definition)\n",
    "    elif pocket == 'dogsitescorer':\n",
    "        pocket_definition = binding_site_coordinates_dogsitescorer(receptor, w_dir, method='volume')\n",
    "        print(pocket_definition)\n",
    "    #else:\n",
    "        #pocket_definition = calculate_pocket_coordinates_from_pocket_pdb_file((str(receptor).replace('.pdb', '_pocket.pdb')))\n",
    "        \n",
    "    if (w_dir / 'final_library.sdf').is_file() == False:\n",
    "        prepare_library(docking_library, w_dir, id_column, protonation, software, ncpus)\n",
    "        \n",
    "    docking(w_dir, receptor, pocket_definition, software, docking_programs, exhaustiveness, n_poses, 5)\n",
    "    concat_all_poses(w_dir, docking_programs)\n",
    "\n",
    "    print('Loading all poses SDF file...')\n",
    "    tic = time.perf_counter()\n",
    "    all_poses = PandasTools.LoadSDF(str(w_dir / 'allposes.sdf'), idName='Pose ID', molColName='Molecule', includeFingerprints=False, strictParsing=True)\n",
    "    print(f'Loaded {len(all_poses)} poses.')\n",
    "    toc = time.perf_counter()\n",
    "    print(f'Finished loading all poses SDF in {toc-tic:0.4f}!...')\n",
    "\n",
    "    if os.path.isfile(w_dir / 'clustering/'f'{clustering_metric}_clustered.sdf') == False:\n",
    "        cluster_pebble(clustering_metric, 'KMedoids', w_dir, receptor, all_poses, ncpus)\n",
    "        \n",
    "    rescore_all(w_dir, receptor, pocket_definition, software, w_dir / 'clustering' / f'{clustering_metric}_clustered.sdf', rescoring_functions , ncpus)\n",
    "\n",
    "    apply_consensus_methods(w_dir, clustering_metric, consensus_method, rescoring_functions, 'min_max')\n",
    "    \n",
    "ensemble_results = ensemble_consensus(receptors, clustering_metric, consensus_method, 20)\n",
    "\n",
    "print(ensemble_results)"
   ]
  }
 ],
 "metadata": {
  "kernelspec": {
   "display_name": "wocondock",
   "language": "python",
   "name": "python3"
  },
  "language_info": {
   "codemirror_mode": {
    "name": "ipython",
    "version": 3
   },
   "file_extension": ".py",
   "mimetype": "text/x-python",
   "name": "python",
   "nbconvert_exporter": "python",
   "pygments_lexer": "ipython3",
   "version": "3.10.13"
  },
  "orig_nbformat": 4,
  "vscode": {
   "interpreter": {
    "hash": "10164e316682d9b4b376ca14144ea8a4ff51ebef10350aaa3c3bfce49f02faa4"
   }
  }
 },
 "nbformat": 4,
 "nbformat_minor": 2
}
