{
 "cells": [
  {
   "attachments": {},
   "cell_type": "markdown",
   "metadata": {},
   "source": [
    "**Import required libraries and scripts**"
   ]
  },
  {
   "cell_type": "code",
   "execution_count": null,
   "metadata": {},
   "outputs": [],
   "source": [
    "#Import required libraries and scripts\n",
    "from scripts.library_preparation import *\n",
    "from scripts.utilities import *\n",
    "from scripts.docking_functions import *\n",
    "from scripts.clustering_functions import *\n",
    "from scripts.rescoring_functions import *\n",
    "from scripts.consensus_methods import *\n",
    "from scripts.performance_calculation import *\n",
    "from scripts.dogsitescorer import *\n",
    "from scripts.get_pocket import *\n",
    "from scripts.postprocessing import *"
   ]
  },
  {
   "cell_type": "code",
   "execution_count": null,
   "metadata": {},
   "outputs": [],
   "source": [
    "software = Path('/home/tony/DockM8/software')\n",
    "receptors = [Path('/home/tony/DockM8/testing_ensemble_docking/protein1.pdb'), Path('/home/tony/DockM8/testing_ensemble_docking/protein2.pdb')]\n",
    "ref_files = [Path('/home/tony/DockM8/testing_ensemble_docking/ref1.sdf'), Path('/home/tony/DockM8/testing_ensemble_docking/ref2.sdf')]\n",
    "docking_library = Path('/home/tony/DockM8/testing_ensemble_docking/library.sdf')\n",
    "docking_programs = ['PLANTS']\n",
    "clustering_metrics = ['bestpose_PLANTS']\n",
    "rescoring_functions = ['GNINA_Affinity','CNN-Score','CNN-Affinity', 'AD4', 'CHEMPLP', 'RFScoreVS']\n",
    "id_column = 'ID'\n",
    "n_poses = 10\n",
    "exhaustiveness = 8\n",
    "protonation = 'GypsumDL'\n",
    "ncpus = 5\n",
    "pocket = 'reference'\n",
    "\n",
    "\n",
    "print('DockM8 is running in ensemble mode...')\n",
    "        \n",
    "receptor_dict = {}\n",
    "for i, receptor in enumerate(receptors):\n",
    "    receptor_dict[receptor] = ref_files[i]\n",
    "    \n",
    "for receptor, ref_file in receptor_dict.items():\n",
    "\n",
    "    w_dir = Path(receptor).parent / Path(receptor).stem\n",
    "    print('The working directory has been set to:', w_dir)\n",
    "    (w_dir).mkdir(exist_ok=True)\n",
    "    \n",
    "    #if os.path.isfile(str(receptor).replace('.pdb', '_pocket.pdb')) == False:\n",
    "    if pocket == 'reference':\n",
    "        pocket_definition = get_pocket(ref_file, receptor, 8)\n",
    "        print(pocket_definition)\n",
    "    if pocket == 'RoG':\n",
    "        pocket_definition = get_pocket_RoG(ref_file, receptor)\n",
    "        print(pocket_definition)\n",
    "    elif pocket == 'dogsitescorer':\n",
    "        pocket_definition = binding_site_coordinates_dogsitescorer(receptor, w_dir, method='volume')\n",
    "        print(pocket_definition)\n",
    "    #else:\n",
    "        #pocket_definition = calculate_pocket_coordinates_from_pocket_pdb_file((str(receptor).replace('.pdb', '_pocket.pdb')))\n",
    "        \n",
    "    if (w_dir / 'final_library.sdf').is_file() == False:\n",
    "        prepare_library(docking_library, w_dir, id_column, protonation, software, ncpus)\n",
    "        \n",
    "    docking(w_dir, receptor, pocket_definition, software, docking_programs, exhaustiveness, n_poses, 5)\n",
    "    concat_all_poses(w_dir, docking_programs)\n",
    "\n",
    "    print('Loading all poses SDF file...')\n",
    "    tic = time.perf_counter()\n",
    "    all_poses = PandasTools.LoadSDF(str(w_dir / 'allposes.sdf'), idName='Pose ID', molColName='Molecule', includeFingerprints=False, strictParsing=True)\n",
    "    print(f'Loaded {len(all_poses)} poses.')\n",
    "    toc = time.perf_counter()\n",
    "    print(f'Finished loading all poses SDF in {toc-tic:0.4f}!...')\n",
    "\n",
    "    for metric in clustering_metrics:\n",
    "            if os.path.isfile(w_dir / 'clustering/'f'{metric}_clustered.sdf') == False:\n",
    "                cluster_pebble(metric, 'KMedoids', w_dir, receptor, all_poses, ncpus)\n",
    "                \n",
    "    for metric in clustering_metrics:\n",
    "            rescore_all(w_dir, receptor, pocket_definition, software, w_dir / 'clustering' / f'{metric}_clustered.sdf', rescoring_functions , ncpus)\n",
    "\n",
    "    apply_consensus_methods(w_dir, 'bestpose_PLANTS', 'method6', ['GNINA_Affinity','CNN-Score','CNN-Affinity', 'AD4', 'CHEMPLP', 'RFScoreVS'], 'min_max')"
   ]
  }
 ],
 "metadata": {
  "kernelspec": {
   "display_name": "wocondock",
   "language": "python",
   "name": "python3"
  },
  "language_info": {
   "codemirror_mode": {
    "name": "ipython",
    "version": 3
   },
   "file_extension": ".py",
   "mimetype": "text/x-python",
   "name": "python",
   "nbconvert_exporter": "python",
   "pygments_lexer": "ipython3",
   "version": "3.10.13"
  },
  "orig_nbformat": 4,
  "vscode": {
   "interpreter": {
    "hash": "10164e316682d9b4b376ca14144ea8a4ff51ebef10350aaa3c3bfce49f02faa4"
   }
  }
 },
 "nbformat": 4,
 "nbformat_minor": 2
}
