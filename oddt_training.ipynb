{
 "cells": [
  {
   "cell_type": "code",
   "execution_count": 9,
   "metadata": {},
   "outputs": [
    {
     "ename": "Exception",
     "evalue": "There is no PDBbind set availabe",
     "output_type": "error",
     "traceback": [
      "\u001b[0;31m---------------------------------------------------------------------------\u001b[0m",
      "\u001b[0;31mException\u001b[0m                                 Traceback (most recent call last)",
      "Cell \u001b[0;32mIn[9], line 23\u001b[0m\n\u001b[1;32m     21\u001b[0m rescorers \u001b[39m=\u001b[39m {\u001b[39m'\u001b[39m\u001b[39mnnscore\u001b[39m\u001b[39m'\u001b[39m:NNScore\u001b[39m.\u001b[39mnnscore()}\n\u001b[1;32m     22\u001b[0m scorer \u001b[39m=\u001b[39m rescorers[\u001b[39m'\u001b[39m\u001b[39mnnscore\u001b[39m\u001b[39m'\u001b[39m]\n\u001b[0;32m---> 23\u001b[0m scorer\u001b[39m.\u001b[39;49mgen_training_data(pdbbind_dir\u001b[39m=\u001b[39;49m \u001b[39m'\u001b[39;49m\u001b[39m/home/tony/CADD22/software/pdbbind\u001b[39;49m\u001b[39m'\u001b[39;49m, pdbbind_versions\u001b[39m=\u001b[39;49m(\u001b[39m2015\u001b[39;49m, \u001b[39m2016\u001b[39;49m))\n",
      "File \u001b[0;32m~/.conda/envs/wocondock/lib/python3.8/site-packages/oddt/scoring/functions/NNScore.py:63\u001b[0m, in \u001b[0;36mnnscore.gen_training_data\u001b[0;34m(self, pdbbind_dir, pdbbind_versions, home_dir, use_proteins)\u001b[0m\n\u001b[1;32m     60\u001b[0m     home_dir \u001b[39m=\u001b[39m dirname(\u001b[39m__file__\u001b[39m) \u001b[39m+\u001b[39m \u001b[39m'\u001b[39m\u001b[39m/NNScore\u001b[39m\u001b[39m'\u001b[39m\n\u001b[1;32m     61\u001b[0m filename \u001b[39m=\u001b[39m path_join(home_dir, \u001b[39m'\u001b[39m\u001b[39mnnscore_descs.csv\u001b[39m\u001b[39m'\u001b[39m)\n\u001b[0;32m---> 63\u001b[0m \u001b[39msuper\u001b[39;49m(nnscore, \u001b[39mself\u001b[39;49m)\u001b[39m.\u001b[39;49m_gen_pdbbind_desc(\n\u001b[1;32m     64\u001b[0m     pdbbind_dir\u001b[39m=\u001b[39;49mpdbbind_dir,\n\u001b[1;32m     65\u001b[0m     pdbbind_versions\u001b[39m=\u001b[39;49mpdbbind_versions,\n\u001b[1;32m     66\u001b[0m     desc_path\u001b[39m=\u001b[39;49mfilename,\n\u001b[1;32m     67\u001b[0m     use_proteins\u001b[39m=\u001b[39;49muse_proteins\n\u001b[1;32m     68\u001b[0m )\n",
      "File \u001b[0;32m~/.conda/envs/wocondock/lib/python3.8/site-packages/oddt/scoring/__init__.py:94\u001b[0m, in \u001b[0;36mscorer._gen_pdbbind_desc\u001b[0;34m(self, pdbbind_dir, pdbbind_versions, desc_path, include_general_set, use_proteins, **kwargs)\u001b[0m\n\u001b[1;32m     92\u001b[0m df \u001b[39m=\u001b[39m \u001b[39mNone\u001b[39;00m\n\u001b[1;32m     93\u001b[0m \u001b[39mfor\u001b[39;00m pdbbind_version \u001b[39min\u001b[39;00m pdbbind_versions:\n\u001b[0;32m---> 94\u001b[0m     p \u001b[39m=\u001b[39m pdbbind(\u001b[39m'\u001b[39;49m\u001b[39m%s\u001b[39;49;00m\u001b[39m/v\u001b[39;49m\u001b[39m%i\u001b[39;49;00m\u001b[39m/\u001b[39;49m\u001b[39m'\u001b[39;49m \u001b[39m%\u001b[39;49m (pdbbind_dir, pdbbind_version),\n\u001b[1;32m     95\u001b[0m                 version\u001b[39m=\u001b[39;49mpdbbind_version,\n\u001b[1;32m     96\u001b[0m                 opt\u001b[39m=\u001b[39;49mopt)\n\u001b[1;32m     97\u001b[0m     \u001b[39m# Core set\u001b[39;00m\n\u001b[1;32m     99\u001b[0m     \u001b[39mfor\u001b[39;00m set_name \u001b[39min\u001b[39;00m p\u001b[39m.\u001b[39mpdbind_sets:\n",
      "File \u001b[0;32m~/.conda/envs/wocondock/lib/python3.8/site-packages/oddt/datasets.py:85\u001b[0m, in \u001b[0;36mpdbbind.__init__\u001b[0;34m(self, home, version, default_set, opt)\u001b[0m\n\u001b[1;32m     82\u001b[0m         \u001b[39mself\u001b[39m\u001b[39m.\u001b[39msets[pdbind_set] \u001b[39m=\u001b[39m \u001b[39mdict\u001b[39m(\u001b[39mzip\u001b[39m(\u001b[39mself\u001b[39m\u001b[39m.\u001b[39m_set_ids[pdbind_set],\n\u001b[1;32m     83\u001b[0m                                          \u001b[39mself\u001b[39m\u001b[39m.\u001b[39m_set_act[pdbind_set]))\n\u001b[1;32m     84\u001b[0m \u001b[39mif\u001b[39;00m \u001b[39mlen\u001b[39m(\u001b[39mself\u001b[39m\u001b[39m.\u001b[39msets) \u001b[39m==\u001b[39m \u001b[39m0\u001b[39m:\n\u001b[0;32m---> 85\u001b[0m     \u001b[39mraise\u001b[39;00m \u001b[39mException\u001b[39;00m(\u001b[39m'\u001b[39m\u001b[39mThere is no PDBbind set availabe\u001b[39m\u001b[39m'\u001b[39m)\n",
      "\u001b[0;31mException\u001b[0m: There is no PDBbind set availabe"
     ]
    }
   ],
   "source": [
    "import os\n",
    "import shutil\n",
    "import subprocess\n",
    "from subprocess import DEVNULL, STDOUT, PIPE\n",
    "import pandas as pd\n",
    "import functools\n",
    "from rdkit import Chem\n",
    "from rdkit.Chem import PandasTools\n",
    "import oddt\n",
    "from oddt.scoring.functions import NNScore\n",
    "from oddt.scoring.functions import RFScore\n",
    "from oddt.scoring.functions.PLECscore import PLECscore\n",
    "from tqdm import tqdm\n",
    "import multiprocessing\n",
    "import time\n",
    "from scripts.utilities import *\n",
    "from tqdm import tqdm\n",
    "from IPython.display import display\n",
    "\n",
    "#NNScore.nnscore.train(home_dir = '/home/tony/CADD22/software/pdbbind', sf_pickle = '/home/tony/CADD22/software/NNScore_pdbbind2016.pickle', pdbbind_version=2016)\n",
    "rescorers = {'nnscore':NNScore.nnscore()}\n",
    "scorer = rescorers['nnscore']\n",
    "scorer.gen_training_data(pdbbind_dir= '/home/tony/CADD22/software/pdbbind', pdbbind_versions=(2015, 2016))\n",
    "#scorer.train(home_dir = '/home/tony/CADD22/software/pdbbind', sf_pickle = '/home/tony/CADD22/software/NNScore_pdbbind2016.pickle', pdbbind_version=2016)\n"
   ]
  },
  {
   "cell_type": "code",
   "execution_count": 11,
   "metadata": {},
   "outputs": [],
   "source": [
    "oddt_prot=next(oddt.toolkit.readfile('pdb', '/home/tony/CADD22/wocondock_performance_aldr/receptor_protoss_prepared.pdb'))\n",
    "oddt_prot.protein = True\n",
    "scorer.set_protein(oddt_prot)\n",
    "re_scores = []\n",
    "df = PandasTools.LoadSDF('/home/tony/CADD22/wocondock_performance_aldr/temp/clustering/bestpose_clustered.sdf', idName='Pose ID', molColName='Molecule', removeHs=False)"
   ]
  },
  {
   "cell_type": "code",
   "execution_count": null,
   "metadata": {},
   "outputs": [],
   "source": []
  },
  {
   "cell_type": "code",
   "execution_count": 14,
   "metadata": {},
   "outputs": [
    {
     "name": "stderr",
     "output_type": "stream",
     "text": [
      "No pickle, training new scoring function.\n",
      "[Parallel(n_jobs=-1)]: Using backend LokyBackend with 8 concurrent workers.\n",
      "[Parallel(n_jobs=-1)]: Done  92 out of 1000 | elapsed:  1.6min remaining: 15.4min\n",
      "[Parallel(n_jobs=-1)]: Done 193 out of 1000 | elapsed:  3.0min remaining: 12.6min\n",
      "[Parallel(n_jobs=-1)]: Done 294 out of 1000 | elapsed:  4.5min remaining: 10.7min\n",
      "[Parallel(n_jobs=-1)]: Done 395 out of 1000 | elapsed:  5.9min remaining:  9.0min\n",
      "[Parallel(n_jobs=-1)]: Done 496 out of 1000 | elapsed:  7.4min remaining:  7.5min\n",
      "[Parallel(n_jobs=-1)]: Done 597 out of 1000 | elapsed:  8.9min remaining:  6.0min\n",
      "[Parallel(n_jobs=-1)]: Done 698 out of 1000 | elapsed: 10.5min remaining:  4.6min\n",
      "[Parallel(n_jobs=-1)]: Done 799 out of 1000 | elapsed: 12.1min remaining:  3.0min\n",
      "[Parallel(n_jobs=-1)]: Done 900 out of 1000 | elapsed: 13.6min remaining:  1.5min\n",
      "[Parallel(n_jobs=-1)]: Done 1000 out of 1000 | elapsed: 15.1min finished\n",
      "Test set:\tR2_score: 0.6377\tRp: 0.8161\tRMSE: 1.3082\tSD: 1.2583\n",
      "Train set:\tR2_score: 0.8094\tRp: 0.9090\tRMSE: 0.8711\tSD: 0.8315\n",
      "  0%|          | 0/23872 [00:00<?, ?it/s]\n"
     ]
    },
    {
     "ename": "AttributeError",
     "evalue": "'NoneType' object has no attribute 'predict'",
     "output_type": "error",
     "traceback": [
      "\u001b[0;31m---------------------------------------------------------------------------\u001b[0m",
      "\u001b[0;31mAttributeError\u001b[0m                            Traceback (most recent call last)",
      "Cell \u001b[0;32mIn[14], line 4\u001b[0m\n\u001b[1;32m      2\u001b[0m \u001b[39mfor\u001b[39;00m mol \u001b[39min\u001b[39;00m tqdm(df[\u001b[39m'\u001b[39m\u001b[39mMolecule\u001b[39m\u001b[39m'\u001b[39m]):\n\u001b[1;32m      3\u001b[0m     oddt_mol \u001b[39m=\u001b[39m oddt\u001b[39m.\u001b[39mtoolkit\u001b[39m.\u001b[39mMolecule(mol)\n\u001b[0;32m----> 4\u001b[0m     scored_mol \u001b[39m=\u001b[39m scorer\u001b[39m.\u001b[39;49mpredict_ligand(oddt_mol)\n",
      "File \u001b[0;32m~/.conda/envs/wocondock/lib/python3.8/site-packages/oddt/scoring/__init__.py:296\u001b[0m, in \u001b[0;36mscorer.predict_ligand\u001b[0;34m(self, ligand)\u001b[0m\n\u001b[1;32m    283\u001b[0m \u001b[39mdef\u001b[39;00m \u001b[39mpredict_ligand\u001b[39m(\u001b[39mself\u001b[39m, ligand):\n\u001b[1;32m    284\u001b[0m     \u001b[39m\"\"\"Local method to score one ligand and update it's scores.\u001b[39;00m\n\u001b[1;32m    285\u001b[0m \n\u001b[1;32m    286\u001b[0m \u001b[39m    Parameters\u001b[39;00m\n\u001b[0;32m   (...)\u001b[0m\n\u001b[1;32m    294\u001b[0m \u001b[39m        Scored ligand with updated scores\u001b[39;00m\n\u001b[1;32m    295\u001b[0m \u001b[39m    \"\"\"\u001b[39;00m\n\u001b[0;32m--> 296\u001b[0m     score \u001b[39m=\u001b[39m \u001b[39mself\u001b[39;49m\u001b[39m.\u001b[39;49mpredict([ligand])[\u001b[39m0\u001b[39m]\n\u001b[1;32m    297\u001b[0m     ligand\u001b[39m.\u001b[39mdata\u001b[39m.\u001b[39mupdate({\u001b[39mself\u001b[39m\u001b[39m.\u001b[39mscore_title: score})\n\u001b[1;32m    298\u001b[0m     \u001b[39mreturn\u001b[39;00m ligand\n",
      "File \u001b[0;32m~/.conda/envs/wocondock/lib/python3.8/site-packages/oddt/scoring/__init__.py:261\u001b[0m, in \u001b[0;36mscorer.predict\u001b[0;34m(self, ligands, *args, **kwargs)\u001b[0m\n\u001b[1;32m    248\u001b[0m \u001b[39m\"\"\"Predicts values (eg. affinity) for supplied ligands.\u001b[39;00m\n\u001b[1;32m    249\u001b[0m \n\u001b[1;32m    250\u001b[0m \u001b[39mParameters\u001b[39;00m\n\u001b[0;32m   (...)\u001b[0m\n\u001b[1;32m    258\u001b[0m \u001b[39m    Predicted scores for ligands\u001b[39;00m\n\u001b[1;32m    259\u001b[0m \u001b[39m\"\"\"\u001b[39;00m\n\u001b[1;32m    260\u001b[0m descs \u001b[39m=\u001b[39m \u001b[39mself\u001b[39m\u001b[39m.\u001b[39mdescriptor_generator\u001b[39m.\u001b[39mbuild(ligands)\n\u001b[0;32m--> 261\u001b[0m \u001b[39mreturn\u001b[39;00m \u001b[39mself\u001b[39;49m\u001b[39m.\u001b[39;49mmodel\u001b[39m.\u001b[39;49mpredict(descs)\n",
      "\u001b[0;31mAttributeError\u001b[0m: 'NoneType' object has no attribute 'predict'"
     ]
    }
   ],
   "source": [
    "scorer.load()\n",
    "for mol in tqdm(df['Molecule']):\n",
    "    oddt_mol = oddt.toolkit.Molecule(mol)\n",
    "    scored_mol = scorer.predict_ligand(oddt_mol)\n"
   ]
  },
  {
   "cell_type": "code",
   "execution_count": null,
   "metadata": {},
   "outputs": [],
   "source": [
    "def oddt_nnscore_rescoring(sdf, mp):\n",
    "    tic = time.perf_counter()\n",
    "    print('Rescoring with NNScore')\n",
    "    rescorers = {'nnscore':NNScore.nnscore()}\n",
    "    nnscore_rescoring_folder = rescoring_folder+'/nnscore_rescoring/'\n",
    "    create_temp_folder(nnscore_rescoring_folder)\n",
    "    scorer = rescorers['nnscore']\n",
    "    pickle = software+'/NNScore_pdbbind2016.pickle'\n",
    "    scorer = scorer.load(pickle)\n",
    "    oddt_prot=next(oddt.toolkit.readfile('pdb', protein_file))\n",
    "    oddt_prot.protein = True\n",
    "    scorer.set_protein(oddt_prot)\n",
    "    re_scores = []\n",
    "    df = PandasTools.LoadSDF(sdf, idName='Pose ID', molColName='Molecule', removeHs=False)\n",
    "    if mp == 0:\n",
    "        for mol in tqdm(df['Molecule']):\n",
    "            Chem.MolToMolFile(mol, nnscore_rescoring_folder+'/temp.sdf')\n",
    "            oddt_lig = next(oddt.toolkit.readfile('sdf', nnscore_rescoring_folder+'/temp.sdf'))\n",
    "            scored_mol = scorer.predict_ligand(oddt_lig)\n",
    "            re_scores.append(float(scored_mol.data['nnscore']))\n",
    "    return re_scores"
   ]
  }
 ],
 "metadata": {
  "kernelspec": {
   "display_name": "wocondock",
   "language": "python",
   "name": "python3"
  },
  "language_info": {
   "codemirror_mode": {
    "name": "ipython",
    "version": 3
   },
   "file_extension": ".py",
   "mimetype": "text/x-python",
   "name": "python",
   "nbconvert_exporter": "python",
   "pygments_lexer": "ipython3",
   "version": "3.8.13"
  },
  "orig_nbformat": 4,
  "vscode": {
   "interpreter": {
    "hash": "ac9acbc93af693fb4e01b586b9d883cf48eab2850c268069ebbf85c5f9fbe2b9"
   }
  }
 },
 "nbformat": 4,
 "nbformat_minor": 2
}
