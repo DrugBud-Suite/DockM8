{
 "cells": [
  {
   "attachments": {},
   "cell_type": "markdown",
   "metadata": {},
   "source": [
    "**Import required libraries and scripts**"
   ]
  },
  {
   "cell_type": "code",
   "execution_count": 1,
   "metadata": {},
   "outputs": [
    {
     "name": "stderr",
     "output_type": "stream",
     "text": [
      "[11:50:51] Initializing Normalizer\n"
     ]
    }
   ],
   "source": [
    "#Import required libraries and scripts\n",
    "from scripts.library_preparation import *\n",
    "from scripts.utilities import *\n",
    "from scripts.docking_functions import *\n",
    "from scripts.clustering_functions import *\n",
    "from scripts.rescoring_functions import *\n",
    "from scripts.consensus_methods import *\n",
    "from scripts.performance_calculation import *\n",
    "from scripts.dogsitescorer import *\n",
    "from scripts.get_pocket import *"
   ]
  },
  {
   "attachments": {},
   "cell_type": "markdown",
   "metadata": {},
   "source": [
    "**Set up**\n",
    "- **software**: The path to the software folder.\n",
    "- **proteinfile**: The path to the protein file (.pdb).\n",
    "- **pocket**: The method to use for pocket determination. Must be one of 'reference' or 'dogsitescorer'.\n",
    "- **dockinglibrary: The path to the docking library file (.sdf).\n",
    "- **idcolumn**: The unique identifier column used in the docking library.\n",
    "- **protonation**: The method to use for compound protonation. Must be one of 'pkasolver', 'GypsumDL', or 'None'.\n",
    "- **docking**: The method(s) to use for docking. Must be one or more of 'GNINA', 'SMINA', or 'PLANTS'.\n",
    "- **metric**: The method(s) to use for pose clustering. Must be one or more of 'RMSD', 'spyRMSD', 'espsim', 'USRCAT', '3DScore', 'bestpose', 'bestpose_GNINA', 'bestpose_SMINA', or 'bestpose_PLANTS'.\n",
    "- **nposes**: The number of poses to generate for each docking software. Default=10\n",
    "- **exhaustiveness**: The precision used if docking with SMINA/GNINA. Default=8\n",
    "- **parallel**: Whether or not to run the workflow in parallel. Default=1 (on). Can be set to 1 (on) or 0 (off).\n",
    "- **ncpus**: The number of cpus to use for the workflow. Default behavior is to use half of the available cpus.\n",
    "- **clustering**: Which algorithm to use for clustering. Must be one of 'KMedoids', 'Aff_prop'.\n",
    "- **rescoring**: Which scoring functions to use for rescoring. Must be one or more of 'gnina', 'AD4', 'chemplp', 'rfscorevs', 'LinF9', 'vinardo', 'plp', 'AAScore'.\n",
    "\n",
    "The software will then create a temporary directory to store the output of the various functions."
   ]
  },
  {
   "cell_type": "code",
   "execution_count": 2,
   "metadata": {},
   "outputs": [
    {
     "name": "stdout",
     "output_type": "stream",
     "text": [
      "The working directory has been set to: /home/mario/LitPCBA/ESR1_ago\n",
      "\n",
      "[2023-Jun-28 11:50:54]: Extracting pocket from /home/mario/LitPCBA/ESR1_ago/1l2i.pdb using /home/mario/LitPCBA/ESR1_ago/1l2i_ligand.sdf as reference ligand\n",
      "\n",
      "[2023-Jun-28 11:50:56]: Finished extracting pocket from /home/mario/LitPCBA/ESR1_ago/1l2i.pdb using /home/mario/LitPCBA/ESR1_ago/1l2i_ligand.sdf as reference ligand\n",
      "{'center': [5.48, -0.05, -5.55], 'size': [16.0, 16.0, 16.0]}\n"
     ]
    }
   ],
   "source": [
    "software = Path('/home/mario/DockM8/software')\n",
    "protein_file = Path('/home/mario/LitPCBA/ESR1_ago/1l2i.pdb')\n",
    "ref_file = Path('/home/mario/LitPCBA/ESR1_ago/1l2i_ligand.sdf')\n",
    "pocket = 'reference'\n",
    "protonation = 'pkasolver'\n",
    "docking_library = Path('/home/mario/LitPCBA/ESR1_ago/merged.sdf')\n",
    "docking_programs = ['GNINA', 'SMINA', 'PLANTS', 'QVINAW', 'QVINA2']\n",
    "clustering_metrics = ['RMSD', 'spyRMSD', 'espsim', 'bestpose', 'bestpose_PLANTS', 'bestpose_GNINA', 'bestpose_SMINA', 'bestpose_QVINA2', 'bestpose_QVINAW']\n",
    "clustering_method = 'KMedoids'\n",
    "rescoring= ['gnina', 'AD4', 'chemplp', 'rfscorevs', 'LinF9', 'RTMScore', 'vinardo', 'SCORCH', 'plecscore', 'nnscore']\n",
    "id_column = 'ID'\n",
    "n_poses = 10\n",
    "exhaustiveness = 8\n",
    "ncpus = 22\n",
    "#Create a temporary folder for all further calculations\n",
    "w_dir = protein_file.parent\n",
    "print('The working directory has been set to:', w_dir)\n",
    "(w_dir / 'temp').mkdir(parents=True, exist_ok=True)\n",
    "if pocket == 'reference':\n",
    "    pocket_definition = get_pocket(ref_file, protein_file, 8)\n",
    "    print(pocket_definition)\n",
    "elif pocket == 'dogsitescorer':\n",
    "    pocket_definition = binding_site_coordinates_dogsitescorer(protein_file, w_dir, method='volume')\n"
   ]
  },
  {
   "attachments": {},
   "cell_type": "markdown",
   "metadata": {},
   "source": [
    "**Pocket Extraction**  \n",
    "\n",
    "This cell will extract the pocket based on the method specified in the 'pocket' variable. Using 'reference' will use the reference ligand to define the pocket. Using 'dogsitescore' will query the dogsitescorer server and use the pocket with the largest volume."
   ]
  },
  {
   "cell_type": "code",
   "execution_count": 3,
   "metadata": {},
   "outputs": [
    {
     "name": "stdout",
     "output_type": "stream",
     "text": [
      "\n",
      "[2023-Jun-28 11:50:57]: Extracting pocket from /home/mario/LitPCBA/ESR1_ago/1l2i.pdb using /home/mario/LitPCBA/ESR1_ago/1l2i_ligand.sdf as reference ligand\n",
      "\n",
      "[2023-Jun-28 11:50:59]: Finished extracting pocket from /home/mario/LitPCBA/ESR1_ago/1l2i.pdb using /home/mario/LitPCBA/ESR1_ago/1l2i_ligand.sdf as reference ligand\n",
      "{'center': [5.48, -0.05, -5.55], 'size': [20.0, 20.0, 20.0]}\n"
     ]
    }
   ],
   "source": [
    "if pocket == 'reference':\n",
    "    pocket_definition = get_pocket(ref_file, protein_file, 10)\n",
    "    print(pocket_definition)\n",
    "if pocket == 'RoG':\n",
    "    pocket_definition = get_pocket_RoG(ref_file, protein_file)\n",
    "    print(pocket_definition)\n",
    "elif pocket == 'dogsitescorer':\n",
    "    pocket_definition = binding_site_coordinates_dogsitescorer(protein_file, w_dir, method='volume')"
   ]
  },
  {
   "attachments": {},
   "cell_type": "markdown",
   "metadata": {},
   "source": [
    "**Library preparation**  "
   ]
  },
  {
   "cell_type": "code",
   "execution_count": 4,
   "metadata": {},
   "outputs": [
    {
     "name": "stdout",
     "output_type": "stream",
     "text": [
      "\n",
      "[2023-Jun-28 11:51:01]: Calculating protonation states using pkaSolver...\n"
     ]
    },
    {
     "name": "stderr",
     "output_type": "stream",
     "text": [
      "[query.py:297 - calculate_microstate_pka_values()] Using dimorphite-dl to identify protonation sites.\n"
     ]
    },
    {
     "name": "stdout",
     "output_type": "stream",
     "text": [
      "COC=C(C(=O)OC)c1ccccc1Oc1cc(Oc2ccccc2C#N)ncn1\n",
      "<rdkit.Chem.rdchem.Mol object at 0x7f406f72daf0>\n",
      "\n",
      "For help, use: python dimorphite_dl.py --help\n",
      "\n",
      "If you use Dimorphite-DL in your research, please cite:\n",
      "Ropp PJ, Kaminsky JC, Yablonski S, Durrant JD (2019) Dimorphite-DL: An\n",
      "open-source program for enumerating the ionization states of drug-like small\n",
      "molecules. J Cheminform 11:14. doi:10.1186/s13321-019-0336-9.\n",
      "\n",
      "COC=C(C(=O)OC)c1ccccc1Oc1cc(Oc2ccccc2C#N)ncn1\n",
      "<rdkit.Chem.rdchem.Mol object at 0x7fe1366edaf0>\n",
      "\n",
      "For help, use: python dimorphite_dl.py --help\n",
      "\n",
      "If you use Dimorphite-DL in your research, please cite:\n",
      "Ropp PJ, Kaminsky JC, Yablonski S, Durrant JD (2019) Dimorphite-DL: An\n",
      "open-source program for enumerating the ionization states of drug-like small\n",
      "molecules. J Cheminform 11:14. doi:10.1186/s13321-019-0336-9.\n",
      "\n",
      "Proposed mol at pH 7.4: COC=C(C(=O)OC)c1ccccc1Oc1cc(Oc2ccccc2C#N)ncn1\n"
     ]
    },
    {
     "name": "stderr",
     "output_type": "stream",
     "text": [
      "[query.py:297 - calculate_microstate_pka_values()] Using dimorphite-dl to identify protonation sites.\n"
     ]
    },
    {
     "name": "stdout",
     "output_type": "stream",
     "text": [
      "CCCCOCCOCCOCc1cc2c(cc1CCC)OCO2\n",
      "<rdkit.Chem.rdchem.Mol object at 0x7fb3fad31af0>\n",
      "\n",
      "For help, use: python dimorphite_dl.py --help\n",
      "\n",
      "If you use Dimorphite-DL in your research, please cite:\n",
      "Ropp PJ, Kaminsky JC, Yablonski S, Durrant JD (2019) Dimorphite-DL: An\n",
      "open-source program for enumerating the ionization states of drug-like small\n",
      "molecules. J Cheminform 11:14. doi:10.1186/s13321-019-0336-9.\n",
      "\n",
      "CCCCOCCOCCOCc1cc2c(cc1CCC)OCO2\n",
      "<rdkit.Chem.rdchem.Mol object at 0x7fcc5886daf0>\n",
      "\n",
      "For help, use: python dimorphite_dl.py --help\n",
      "\n",
      "If you use Dimorphite-DL in your research, please cite:\n",
      "Ropp PJ, Kaminsky JC, Yablonski S, Durrant JD (2019) Dimorphite-DL: An\n",
      "open-source program for enumerating the ionization states of drug-like small\n",
      "molecules. J Cheminform 11:14. doi:10.1186/s13321-019-0336-9.\n",
      "\n",
      "Proposed mol at pH 7.4: CCCCOCCOCCOCc1cc2c(cc1CCC)OCO2\n",
      "#########################\n",
      "Could not identify any ionizable group. Aborting.\n",
      "#########################\n"
     ]
    },
    {
     "name": "stderr",
     "output_type": "stream",
     "text": [
      "[query.py:297 - calculate_microstate_pka_values()] Using dimorphite-dl to identify protonation sites.\n"
     ]
    },
    {
     "name": "stdout",
     "output_type": "stream",
     "text": [
      "CC(C)Oc1cccc(NC(=O)c2ccccc2C(F)(F)F)c1\n",
      "<rdkit.Chem.rdchem.Mol object at 0x7fb0af3f9af0>\n",
      "\n",
      "For help, use: python dimorphite_dl.py --help\n",
      "\n",
      "If you use Dimorphite-DL in your research, please cite:\n",
      "Ropp PJ, Kaminsky JC, Yablonski S, Durrant JD (2019) Dimorphite-DL: An\n",
      "open-source program for enumerating the ionization states of drug-like small\n",
      "molecules. J Cheminform 11:14. doi:10.1186/s13321-019-0336-9.\n",
      "\n",
      "CC(C)Oc1cccc(NC(=O)c2ccccc2C(F)(F)F)c1\n",
      "<rdkit.Chem.rdchem.Mol object at 0x7f0d5f641af0>\n",
      "\n",
      "For help, use: python dimorphite_dl.py --help\n",
      "\n",
      "If you use Dimorphite-DL in your research, please cite:\n",
      "Ropp PJ, Kaminsky JC, Yablonski S, Durrant JD (2019) Dimorphite-DL: An\n",
      "open-source program for enumerating the ionization states of drug-like small\n",
      "molecules. J Cheminform 11:14. doi:10.1186/s13321-019-0336-9.\n",
      "\n",
      "Proposed mol at pH 7.4: CC(C)Oc1cccc(NC(=O)c2ccccc2C(F)(F)F)c1\n"
     ]
    },
    {
     "name": "stderr",
     "output_type": "stream",
     "text": [
      "[query.py:297 - calculate_microstate_pka_values()] Using dimorphite-dl to identify protonation sites.\n"
     ]
    },
    {
     "name": "stdout",
     "output_type": "stream",
     "text": [
      "O=S(=O)(O)C(F)(F)C(F)(F)C(F)(F)C(F)(F)C(F)(F)C(F)(F)C(F)(F)C(F)(F)F\n",
      "<rdkit.Chem.rdchem.Mol object at 0x7fe60432daf0>\n",
      "\n",
      "For help, use: python dimorphite_dl.py --help\n",
      "\n",
      "If you use Dimorphite-DL in your research, please cite:\n",
      "Ropp PJ, Kaminsky JC, Yablonski S, Durrant JD (2019) Dimorphite-DL: An\n",
      "open-source program for enumerating the ionization states of drug-like small\n",
      "molecules. J Cheminform 11:14. doi:10.1186/s13321-019-0336-9.\n",
      "\n",
      "O=S(=O)(O)C(F)(F)C(F)(F)C(F)(F)C(F)(F)C(F)(F)C(F)(F)C(F)(F)C(F)(F)F\n",
      "<rdkit.Chem.rdchem.Mol object at 0x7fbb6e749af0>\n",
      "\n",
      "For help, use: python dimorphite_dl.py --help\n",
      "\n",
      "If you use Dimorphite-DL in your research, please cite:\n",
      "Ropp PJ, Kaminsky JC, Yablonski S, Durrant JD (2019) Dimorphite-DL: An\n",
      "open-source program for enumerating the ionization states of drug-like small\n",
      "molecules. J Cheminform 11:14. doi:10.1186/s13321-019-0336-9.\n",
      "\n",
      "Proposed mol at pH 7.4: O=S(=O)([O-])C(F)(F)C(F)(F)C(F)(F)C(F)(F)C(F)(F)C(F)(F)C(F)(F)C(F)(F)F\n",
      "#########################\n",
      "Could not identify any ionizable group. Aborting.\n",
      "#########################\n"
     ]
    },
    {
     "name": "stderr",
     "output_type": "stream",
     "text": [
      "[query.py:297 - calculate_microstate_pka_values()] Using dimorphite-dl to identify protonation sites.\n"
     ]
    },
    {
     "name": "stdout",
     "output_type": "stream",
     "text": [
      "CCCSP(=O)(OCC)SCCC\n",
      "<rdkit.Chem.rdchem.Mol object at 0x7f4ce4921af0>\n",
      "\n",
      "For help, use: python dimorphite_dl.py --help\n",
      "\n",
      "If you use Dimorphite-DL in your research, please cite:\n",
      "Ropp PJ, Kaminsky JC, Yablonski S, Durrant JD (2019) Dimorphite-DL: An\n",
      "open-source program for enumerating the ionization states of drug-like small\n",
      "molecules. J Cheminform 11:14. doi:10.1186/s13321-019-0336-9.\n",
      "\n",
      "CCCSP(=O)(OCC)SCCC\n",
      "<rdkit.Chem.rdchem.Mol object at 0x7f0b4fea5af0>\n",
      "\n",
      "For help, use: python dimorphite_dl.py --help\n",
      "\n",
      "If you use Dimorphite-DL in your research, please cite:\n",
      "Ropp PJ, Kaminsky JC, Yablonski S, Durrant JD (2019) Dimorphite-DL: An\n",
      "open-source program for enumerating the ionization states of drug-like small\n",
      "molecules. J Cheminform 11:14. doi:10.1186/s13321-019-0336-9.\n",
      "\n",
      "Proposed mol at pH 7.4: CCCSP(=O)(OCC)SCCC\n",
      "#########################\n",
      "Could not identify any ionizable group. Aborting.\n",
      "#########################\n"
     ]
    },
    {
     "name": "stderr",
     "output_type": "stream",
     "text": [
      "[query.py:297 - calculate_microstate_pka_values()] Using dimorphite-dl to identify protonation sites.\n"
     ]
    },
    {
     "name": "stdout",
     "output_type": "stream",
     "text": [
      "CCO[P@](=O)(NC(C)C)Oc1ccc(SC)c(C)c1\n",
      "<rdkit.Chem.rdchem.Mol object at 0x7efcb42edaf0>\n",
      "\n",
      "For help, use: python dimorphite_dl.py --help\n",
      "\n",
      "If you use Dimorphite-DL in your research, please cite:\n",
      "Ropp PJ, Kaminsky JC, Yablonski S, Durrant JD (2019) Dimorphite-DL: An\n",
      "open-source program for enumerating the ionization states of drug-like small\n",
      "molecules. J Cheminform 11:14. doi:10.1186/s13321-019-0336-9.\n",
      "\n",
      "CCO[P@](=O)(NC(C)C)Oc1ccc(SC)c(C)c1\n",
      "<rdkit.Chem.rdchem.Mol object at 0x7f737f561af0>\n",
      "\n",
      "For help, use: python dimorphite_dl.py --help\n",
      "\n",
      "If you use Dimorphite-DL in your research, please cite:\n",
      "Ropp PJ, Kaminsky JC, Yablonski S, Durrant JD (2019) Dimorphite-DL: An\n",
      "open-source program for enumerating the ionization states of drug-like small\n",
      "molecules. J Cheminform 11:14. doi:10.1186/s13321-019-0336-9.\n",
      "\n",
      "Proposed mol at pH 7.4: CCO[P@](=O)([NH2+]C(C)C)Oc1ccc(SC)c(C)c1\n"
     ]
    },
    {
     "name": "stderr",
     "output_type": "stream",
     "text": [
      "[query.py:297 - calculate_microstate_pka_values()] Using dimorphite-dl to identify protonation sites.\n"
     ]
    },
    {
     "name": "stdout",
     "output_type": "stream",
     "text": [
      "O=C(O)CCCOc1ccc(Cl)cc1Cl\n",
      "<rdkit.Chem.rdchem.Mol object at 0x7fd77a205af0>\n",
      "\n",
      "For help, use: python dimorphite_dl.py --help\n",
      "\n",
      "If you use Dimorphite-DL in your research, please cite:\n",
      "Ropp PJ, Kaminsky JC, Yablonski S, Durrant JD (2019) Dimorphite-DL: An\n",
      "open-source program for enumerating the ionization states of drug-like small\n",
      "molecules. J Cheminform 11:14. doi:10.1186/s13321-019-0336-9.\n",
      "\n",
      "O=C(O)CCCOc1ccc(Cl)cc1Cl\n",
      "<rdkit.Chem.rdchem.Mol object at 0x7f7de86ddaf0>\n",
      "\n",
      "For help, use: python dimorphite_dl.py --help\n",
      "\n",
      "If you use Dimorphite-DL in your research, please cite:\n",
      "Ropp PJ, Kaminsky JC, Yablonski S, Durrant JD (2019) Dimorphite-DL: An\n",
      "open-source program for enumerating the ionization states of drug-like small\n",
      "molecules. J Cheminform 11:14. doi:10.1186/s13321-019-0336-9.\n",
      "\n",
      "Proposed mol at pH 7.4: O=C([O-])CCCOc1ccc(Cl)cc1Cl\n"
     ]
    },
    {
     "name": "stderr",
     "output_type": "stream",
     "text": [
      "[query.py:297 - calculate_microstate_pka_values()] Using dimorphite-dl to identify protonation sites.\n"
     ]
    },
    {
     "name": "stdout",
     "output_type": "stream",
     "text": [
      "CCCN(CCC)c1c([N+](=O)[O-])cc(S(N)(=O)=O)cc1[N+](=O)[O-]\n",
      "<rdkit.Chem.rdchem.Mol object at 0x7f15e4d25bd0>\n",
      "\n",
      "For help, use: python dimorphite_dl.py --help\n",
      "\n",
      "If you use Dimorphite-DL in your research, please cite:\n",
      "Ropp PJ, Kaminsky JC, Yablonski S, Durrant JD (2019) Dimorphite-DL: An\n",
      "open-source program for enumerating the ionization states of drug-like small\n",
      "molecules. J Cheminform 11:14. doi:10.1186/s13321-019-0336-9.\n",
      "\n",
      "CCCN(CCC)c1c([N+](=O)[O-])cc(S(N)(=O)=O)cc1[N+](=O)[O-]\n",
      "<rdkit.Chem.rdchem.Mol object at 0x7f734eb1dbd0>\n",
      "\n",
      "For help, use: python dimorphite_dl.py --help\n",
      "\n",
      "If you use Dimorphite-DL in your research, please cite:\n",
      "Ropp PJ, Kaminsky JC, Yablonski S, Durrant JD (2019) Dimorphite-DL: An\n",
      "open-source program for enumerating the ionization states of drug-like small\n",
      "molecules. J Cheminform 11:14. doi:10.1186/s13321-019-0336-9.\n",
      "\n",
      "Proposed mol at pH 7.4: CCCN(CCC)c1c([N+](=O)[O-])cc(S(N)(=O)=O)cc1[N+](=O)[O-]\n"
     ]
    },
    {
     "name": "stderr",
     "output_type": "stream",
     "text": [
      "[query.py:297 - calculate_microstate_pka_values()] Using dimorphite-dl to identify protonation sites.\n"
     ]
    },
    {
     "name": "stdout",
     "output_type": "stream",
     "text": [
      "CC(C)(C)C(O)C(Oc1ccc(Cl)cc1)n1cncn1\n",
      "<rdkit.Chem.rdchem.Mol object at 0x7f234c6f5af0>\n",
      "\n",
      "For help, use: python dimorphite_dl.py --help\n",
      "\n",
      "If you use Dimorphite-DL in your research, please cite:\n",
      "Ropp PJ, Kaminsky JC, Yablonski S, Durrant JD (2019) Dimorphite-DL: An\n",
      "open-source program for enumerating the ionization states of drug-like small\n",
      "molecules. J Cheminform 11:14. doi:10.1186/s13321-019-0336-9.\n",
      "\n",
      "CC(C)(C)C(O)C(Oc1ccc(Cl)cc1)n1cncn1\n",
      "<rdkit.Chem.rdchem.Mol object at 0x7f861c149af0>\n",
      "\n",
      "For help, use: python dimorphite_dl.py --help\n",
      "\n",
      "If you use Dimorphite-DL in your research, please cite:\n",
      "Ropp PJ, Kaminsky JC, Yablonski S, Durrant JD (2019) Dimorphite-DL: An\n",
      "open-source program for enumerating the ionization states of drug-like small\n",
      "molecules. J Cheminform 11:14. doi:10.1186/s13321-019-0336-9.\n",
      "\n",
      "WARNING: Skipping poorly formed SMILES string: CC(C)(C)C([O-])C(Oc1ccc(Cl)cc1)[n+]1cncn1\n",
      "WARNING: Skipping poorly formed SMILES string: CC(C)(C)C(O)C(Oc1ccc(Cl)cc1)[n+]1cncn1\n",
      "WARNING: Skipping poorly formed SMILES string: CC(C)(C)C([O-])C(Oc1ccc(Cl)cc1)[n+]1cncn1\n",
      "WARNING: Skipping poorly formed SMILES string: CC(C)(C)C(O)C(Oc1ccc(Cl)cc1)[n+]1cncn1\n",
      "Proposed mol at pH 7.4: CC(C)(C)C(O)C(Oc1ccc(Cl)cc1)n1cncn1\n"
     ]
    },
    {
     "name": "stderr",
     "output_type": "stream",
     "text": [
      "[query.py:297 - calculate_microstate_pka_values()] Using dimorphite-dl to identify protonation sites.\n"
     ]
    },
    {
     "name": "stdout",
     "output_type": "stream",
     "text": [
      "CCCC[C@H](CC)COC(=O)c1ccccc1C(=O)O\n",
      "<rdkit.Chem.rdchem.Mol object at 0x7f84ed921af0>\n",
      "\n",
      "For help, use: python dimorphite_dl.py --help\n",
      "\n",
      "If you use Dimorphite-DL in your research, please cite:\n",
      "Ropp PJ, Kaminsky JC, Yablonski S, Durrant JD (2019) Dimorphite-DL: An\n",
      "open-source program for enumerating the ionization states of drug-like small\n",
      "molecules. J Cheminform 11:14. doi:10.1186/s13321-019-0336-9.\n",
      "\n",
      "CCCC[C@H](CC)COC(=O)c1ccccc1C(=O)O\n",
      "<rdkit.Chem.rdchem.Mol object at 0x7f1f40891af0>\n",
      "\n",
      "For help, use: python dimorphite_dl.py --help\n",
      "\n",
      "If you use Dimorphite-DL in your research, please cite:\n",
      "Ropp PJ, Kaminsky JC, Yablonski S, Durrant JD (2019) Dimorphite-DL: An\n",
      "open-source program for enumerating the ionization states of drug-like small\n",
      "molecules. J Cheminform 11:14. doi:10.1186/s13321-019-0336-9.\n",
      "\n",
      "Proposed mol at pH 7.4: CCCC[C@H](CC)COC(=O)c1ccccc1C(=O)[O-]\n"
     ]
    },
    {
     "name": "stderr",
     "output_type": "stream",
     "text": [
      "[query.py:297 - calculate_microstate_pka_values()] Using dimorphite-dl to identify protonation sites.\n"
     ]
    },
    {
     "name": "stdout",
     "output_type": "stream",
     "text": [
      "C=CCC1=C(C)C(OC(=O)C2C(C=C(C)C)C2(C)C)CC1=O\n",
      "<rdkit.Chem.rdchem.Mol object at 0x7f41e8105af0>\n",
      "\n",
      "For help, use: python dimorphite_dl.py --help\n",
      "\n",
      "If you use Dimorphite-DL in your research, please cite:\n",
      "Ropp PJ, Kaminsky JC, Yablonski S, Durrant JD (2019) Dimorphite-DL: An\n",
      "open-source program for enumerating the ionization states of drug-like small\n",
      "molecules. J Cheminform 11:14. doi:10.1186/s13321-019-0336-9.\n",
      "\n",
      "C=CCC1=C(C)C(OC(=O)C2C(C=C(C)C)C2(C)C)CC1=O\n",
      "<rdkit.Chem.rdchem.Mol object at 0x7fa75311daf0>\n",
      "\n",
      "For help, use: python dimorphite_dl.py --help\n",
      "\n",
      "If you use Dimorphite-DL in your research, please cite:\n",
      "Ropp PJ, Kaminsky JC, Yablonski S, Durrant JD (2019) Dimorphite-DL: An\n",
      "open-source program for enumerating the ionization states of drug-like small\n",
      "molecules. J Cheminform 11:14. doi:10.1186/s13321-019-0336-9.\n",
      "\n",
      "Proposed mol at pH 7.4: C=CCC1=C(C)C(OC(=O)C2C(C=C(C)C)C2(C)C)CC1=O\n",
      "#########################\n",
      "Could not identify any ionizable group. Aborting.\n",
      "#########################\n"
     ]
    },
    {
     "name": "stderr",
     "output_type": "stream",
     "text": [
      "[query.py:297 - calculate_microstate_pka_values()] Using dimorphite-dl to identify protonation sites.\n"
     ]
    },
    {
     "name": "stdout",
     "output_type": "stream",
     "text": [
      "O=C(O)COc1nc(Cl)c(Cl)cc1Cl\n",
      "<rdkit.Chem.rdchem.Mol object at 0x7f91e4ae9af0>\n",
      "\n",
      "For help, use: python dimorphite_dl.py --help\n",
      "\n",
      "If you use Dimorphite-DL in your research, please cite:\n",
      "Ropp PJ, Kaminsky JC, Yablonski S, Durrant JD (2019) Dimorphite-DL: An\n",
      "open-source program for enumerating the ionization states of drug-like small\n",
      "molecules. J Cheminform 11:14. doi:10.1186/s13321-019-0336-9.\n",
      "\n",
      "O=C(O)COc1nc(Cl)c(Cl)cc1Cl\n",
      "<rdkit.Chem.rdchem.Mol object at 0x7f54dc9f9af0>\n",
      "\n",
      "For help, use: python dimorphite_dl.py --help\n",
      "\n",
      "If you use Dimorphite-DL in your research, please cite:\n",
      "Ropp PJ, Kaminsky JC, Yablonski S, Durrant JD (2019) Dimorphite-DL: An\n",
      "open-source program for enumerating the ionization states of drug-like small\n",
      "molecules. J Cheminform 11:14. doi:10.1186/s13321-019-0336-9.\n",
      "\n",
      "Proposed mol at pH 7.4: O=C([O-])COc1nc(Cl)c(Cl)cc1Cl\n"
     ]
    },
    {
     "name": "stderr",
     "output_type": "stream",
     "text": [
      "[query.py:297 - calculate_microstate_pka_values()] Using dimorphite-dl to identify protonation sites.\n"
     ]
    },
    {
     "name": "stdout",
     "output_type": "stream",
     "text": [
      "COC(=O)c1c(Cl)c(Cl)c(C(=O)OC)c(Cl)c1Cl\n",
      "<rdkit.Chem.rdchem.Mol object at 0x7f66cb2ddaf0>\n",
      "\n",
      "For help, use: python dimorphite_dl.py --help\n",
      "\n",
      "If you use Dimorphite-DL in your research, please cite:\n",
      "Ropp PJ, Kaminsky JC, Yablonski S, Durrant JD (2019) Dimorphite-DL: An\n",
      "open-source program for enumerating the ionization states of drug-like small\n",
      "molecules. J Cheminform 11:14. doi:10.1186/s13321-019-0336-9.\n",
      "\n",
      "COC(=O)c1c(Cl)c(Cl)c(C(=O)OC)c(Cl)c1Cl\n",
      "<rdkit.Chem.rdchem.Mol object at 0x7f6108af1af0>\n",
      "\n",
      "For help, use: python dimorphite_dl.py --help\n",
      "\n",
      "If you use Dimorphite-DL in your research, please cite:\n",
      "Ropp PJ, Kaminsky JC, Yablonski S, Durrant JD (2019) Dimorphite-DL: An\n",
      "open-source program for enumerating the ionization states of drug-like small\n",
      "molecules. J Cheminform 11:14. doi:10.1186/s13321-019-0336-9.\n",
      "\n",
      "Proposed mol at pH 7.4: COC(=O)c1c(Cl)c(Cl)c(C(=O)OC)c(Cl)c1Cl\n",
      "#########################\n",
      "Could not identify any ionizable group. Aborting.\n",
      "#########################\n"
     ]
    },
    {
     "name": "stderr",
     "output_type": "stream",
     "text": [
      "[query.py:297 - calculate_microstate_pka_values()] Using dimorphite-dl to identify protonation sites.\n"
     ]
    },
    {
     "name": "stdout",
     "output_type": "stream",
     "text": [
      "COc1cc(OC)c(OC)cc1C=O\n",
      "<rdkit.Chem.rdchem.Mol object at 0x7fcac2491af0>\n",
      "\n",
      "For help, use: python dimorphite_dl.py --help\n",
      "\n",
      "If you use Dimorphite-DL in your research, please cite:\n",
      "Ropp PJ, Kaminsky JC, Yablonski S, Durrant JD (2019) Dimorphite-DL: An\n",
      "open-source program for enumerating the ionization states of drug-like small\n",
      "molecules. J Cheminform 11:14. doi:10.1186/s13321-019-0336-9.\n",
      "\n",
      "COc1cc(OC)c(OC)cc1C=O\n",
      "<rdkit.Chem.rdchem.Mol object at 0x7fe29d655af0>\n",
      "\n",
      "For help, use: python dimorphite_dl.py --help\n",
      "\n",
      "If you use Dimorphite-DL in your research, please cite:\n",
      "Ropp PJ, Kaminsky JC, Yablonski S, Durrant JD (2019) Dimorphite-DL: An\n",
      "open-source program for enumerating the ionization states of drug-like small\n",
      "molecules. J Cheminform 11:14. doi:10.1186/s13321-019-0336-9.\n",
      "\n",
      "Proposed mol at pH 7.4: COc1cc(OC)c(OC)cc1C=O\n",
      "#########################\n",
      "Could not identify any ionizable group. Aborting.\n",
      "#########################\n"
     ]
    },
    {
     "name": "stderr",
     "output_type": "stream",
     "text": [
      "[query.py:297 - calculate_microstate_pka_values()] Using dimorphite-dl to identify protonation sites.\n"
     ]
    },
    {
     "name": "stdout",
     "output_type": "stream",
     "text": [
      "Cc1[nH]c(=O)c(C#N)cc1-c1ccncc1\n",
      "<rdkit.Chem.rdchem.Mol object at 0x7fd888ef5af0>\n",
      "\n",
      "For help, use: python dimorphite_dl.py --help\n",
      "\n",
      "If you use Dimorphite-DL in your research, please cite:\n",
      "Ropp PJ, Kaminsky JC, Yablonski S, Durrant JD (2019) Dimorphite-DL: An\n",
      "open-source program for enumerating the ionization states of drug-like small\n",
      "molecules. J Cheminform 11:14. doi:10.1186/s13321-019-0336-9.\n",
      "\n",
      "Cc1[nH]c(=O)c(C#N)cc1-c1ccncc1\n",
      "<rdkit.Chem.rdchem.Mol object at 0x7f4c08945af0>\n",
      "\n",
      "For help, use: python dimorphite_dl.py --help\n",
      "\n",
      "If you use Dimorphite-DL in your research, please cite:\n",
      "Ropp PJ, Kaminsky JC, Yablonski S, Durrant JD (2019) Dimorphite-DL: An\n",
      "open-source program for enumerating the ionization states of drug-like small\n",
      "molecules. J Cheminform 11:14. doi:10.1186/s13321-019-0336-9.\n",
      "\n",
      "Proposed mol at pH 7.4: Cc1[nH]c(=O)c(C#N)cc1-c1ccncc1\n"
     ]
    },
    {
     "name": "stderr",
     "output_type": "stream",
     "text": [
      "[query.py:297 - calculate_microstate_pka_values()] Using dimorphite-dl to identify protonation sites.\n"
     ]
    },
    {
     "name": "stdout",
     "output_type": "stream",
     "text": [
      "Cc1cc([N+](=O)[O-])cc([N+](=O)[O-])c1O\n",
      "<rdkit.Chem.rdchem.Mol object at 0x7fe87baa5af0>\n",
      "\n",
      "For help, use: python dimorphite_dl.py --help\n",
      "\n",
      "If you use Dimorphite-DL in your research, please cite:\n",
      "Ropp PJ, Kaminsky JC, Yablonski S, Durrant JD (2019) Dimorphite-DL: An\n",
      "open-source program for enumerating the ionization states of drug-like small\n",
      "molecules. J Cheminform 11:14. doi:10.1186/s13321-019-0336-9.\n",
      "\n",
      "Cc1cc([N+](=O)[O-])cc([N+](=O)[O-])c1O\n",
      "<rdkit.Chem.rdchem.Mol object at 0x7f02d3d31af0>\n",
      "\n",
      "For help, use: python dimorphite_dl.py --help\n",
      "\n",
      "If you use Dimorphite-DL in your research, please cite:\n",
      "Ropp PJ, Kaminsky JC, Yablonski S, Durrant JD (2019) Dimorphite-DL: An\n",
      "open-source program for enumerating the ionization states of drug-like small\n",
      "molecules. J Cheminform 11:14. doi:10.1186/s13321-019-0336-9.\n",
      "\n",
      "Proposed mol at pH 7.4: Cc1cc([N+](=O)[O-])cc([N+](=O)[O-])c1O\n"
     ]
    },
    {
     "name": "stderr",
     "output_type": "stream",
     "text": [
      "[query.py:297 - calculate_microstate_pka_values()] Using dimorphite-dl to identify protonation sites.\n"
     ]
    },
    {
     "name": "stdout",
     "output_type": "stream",
     "text": [
      "CC(C)OC(=O)c1cc(C(=O)OC(C)C)cc([N+](=O)[O-])c1\n",
      "<rdkit.Chem.rdchem.Mol object at 0x7f6a7dd1daf0>\n",
      "\n",
      "For help, use: python dimorphite_dl.py --help\n",
      "\n",
      "If you use Dimorphite-DL in your research, please cite:\n",
      "Ropp PJ, Kaminsky JC, Yablonski S, Durrant JD (2019) Dimorphite-DL: An\n",
      "open-source program for enumerating the ionization states of drug-like small\n",
      "molecules. J Cheminform 11:14. doi:10.1186/s13321-019-0336-9.\n",
      "\n",
      "CC(C)OC(=O)c1cc(C(=O)OC(C)C)cc([N+](=O)[O-])c1\n",
      "<rdkit.Chem.rdchem.Mol object at 0x7f52d6cf5af0>\n",
      "\n",
      "For help, use: python dimorphite_dl.py --help\n",
      "\n",
      "If you use Dimorphite-DL in your research, please cite:\n",
      "Ropp PJ, Kaminsky JC, Yablonski S, Durrant JD (2019) Dimorphite-DL: An\n",
      "open-source program for enumerating the ionization states of drug-like small\n",
      "molecules. J Cheminform 11:14. doi:10.1186/s13321-019-0336-9.\n",
      "\n",
      "Proposed mol at pH 7.4: CC(C)OC(=O)c1cc(C(=O)OC(C)C)cc([N+](=O)[O-])c1\n",
      "#########################\n",
      "Could not identify any ionizable group. Aborting.\n",
      "#########################\n"
     ]
    },
    {
     "name": "stderr",
     "output_type": "stream",
     "text": [
      "[query.py:297 - calculate_microstate_pka_values()] Using dimorphite-dl to identify protonation sites.\n"
     ]
    },
    {
     "name": "stdout",
     "output_type": "stream",
     "text": [
      "S=P(N1CC1)(N1CC1)N1CC1\n",
      "<rdkit.Chem.rdchem.Mol object at 0x7f5eeb259af0>\n",
      "\n",
      "For help, use: python dimorphite_dl.py --help\n",
      "\n",
      "If you use Dimorphite-DL in your research, please cite:\n",
      "Ropp PJ, Kaminsky JC, Yablonski S, Durrant JD (2019) Dimorphite-DL: An\n",
      "open-source program for enumerating the ionization states of drug-like small\n",
      "molecules. J Cheminform 11:14. doi:10.1186/s13321-019-0336-9.\n",
      "\n",
      "S=P(N1CC1)(N1CC1)N1CC1\n",
      "<rdkit.Chem.rdchem.Mol object at 0x7f37a0829af0>\n",
      "\n",
      "For help, use: python dimorphite_dl.py --help\n",
      "\n",
      "If you use Dimorphite-DL in your research, please cite:\n",
      "Ropp PJ, Kaminsky JC, Yablonski S, Durrant JD (2019) Dimorphite-DL: An\n",
      "open-source program for enumerating the ionization states of drug-like small\n",
      "molecules. J Cheminform 11:14. doi:10.1186/s13321-019-0336-9.\n",
      "\n",
      "Proposed mol at pH 7.4: S=P([NH+]1CC1)([NH+]1CC1)[NH+]1CC1\n"
     ]
    },
    {
     "name": "stderr",
     "output_type": "stream",
     "text": [
      "[query.py:297 - calculate_microstate_pka_values()] Using dimorphite-dl to identify protonation sites.\n"
     ]
    },
    {
     "name": "stdout",
     "output_type": "stream",
     "text": [
      "O=C(O)c1ccc(Cl)cc1\n",
      "<rdkit.Chem.rdchem.Mol object at 0x7fbeeea15af0>\n",
      "\n",
      "For help, use: python dimorphite_dl.py --help\n",
      "\n",
      "If you use Dimorphite-DL in your research, please cite:\n",
      "Ropp PJ, Kaminsky JC, Yablonski S, Durrant JD (2019) Dimorphite-DL: An\n",
      "open-source program for enumerating the ionization states of drug-like small\n",
      "molecules. J Cheminform 11:14. doi:10.1186/s13321-019-0336-9.\n",
      "\n",
      "O=C(O)c1ccc(Cl)cc1\n",
      "<rdkit.Chem.rdchem.Mol object at 0x7fd1a3045af0>\n",
      "\n",
      "For help, use: python dimorphite_dl.py --help\n",
      "\n",
      "If you use Dimorphite-DL in your research, please cite:\n",
      "Ropp PJ, Kaminsky JC, Yablonski S, Durrant JD (2019) Dimorphite-DL: An\n",
      "open-source program for enumerating the ionization states of drug-like small\n",
      "molecules. J Cheminform 11:14. doi:10.1186/s13321-019-0336-9.\n",
      "\n",
      "Proposed mol at pH 7.4: O=C([O-])c1ccc(Cl)cc1\n"
     ]
    },
    {
     "name": "stderr",
     "output_type": "stream",
     "text": [
      "[query.py:297 - calculate_microstate_pka_values()] Using dimorphite-dl to identify protonation sites.\n"
     ]
    },
    {
     "name": "stdout",
     "output_type": "stream",
     "text": [
      "O=C(NC(CO)C(O)c1ccc([N+](=O)[O-])cc1)C(Cl)Cl\n",
      "<rdkit.Chem.rdchem.Mol object at 0x7f14ae68daf0>\n",
      "\n",
      "For help, use: python dimorphite_dl.py --help\n",
      "\n",
      "If you use Dimorphite-DL in your research, please cite:\n",
      "Ropp PJ, Kaminsky JC, Yablonski S, Durrant JD (2019) Dimorphite-DL: An\n",
      "open-source program for enumerating the ionization states of drug-like small\n",
      "molecules. J Cheminform 11:14. doi:10.1186/s13321-019-0336-9.\n",
      "\n",
      "O=C(NC(CO)C(O)c1ccc([N+](=O)[O-])cc1)C(Cl)Cl\n",
      "<rdkit.Chem.rdchem.Mol object at 0x7f6ee302daf0>\n",
      "\n",
      "For help, use: python dimorphite_dl.py --help\n",
      "\n",
      "If you use Dimorphite-DL in your research, please cite:\n",
      "Ropp PJ, Kaminsky JC, Yablonski S, Durrant JD (2019) Dimorphite-DL: An\n",
      "open-source program for enumerating the ionization states of drug-like small\n",
      "molecules. J Cheminform 11:14. doi:10.1186/s13321-019-0336-9.\n",
      "\n",
      "Proposed mol at pH 7.4: O=C(NC(CO)C(O)c1ccc([N+](=O)[O-])cc1)C(Cl)Cl\n"
     ]
    },
    {
     "name": "stderr",
     "output_type": "stream",
     "text": [
      "[query.py:297 - calculate_microstate_pka_values()] Using dimorphite-dl to identify protonation sites.\n"
     ]
    },
    {
     "name": "stdout",
     "output_type": "stream",
     "text": [
      "O=[N+]([O-])c1cc([N+](=O)[O-])c2ccccc2c1\n",
      "<rdkit.Chem.rdchem.Mol object at 0x7f028615daf0>\n",
      "\n",
      "For help, use: python dimorphite_dl.py --help\n",
      "\n",
      "If you use Dimorphite-DL in your research, please cite:\n",
      "Ropp PJ, Kaminsky JC, Yablonski S, Durrant JD (2019) Dimorphite-DL: An\n",
      "open-source program for enumerating the ionization states of drug-like small\n",
      "molecules. J Cheminform 11:14. doi:10.1186/s13321-019-0336-9.\n",
      "\n",
      "O=[N+]([O-])c1cc([N+](=O)[O-])c2ccccc2c1\n",
      "<rdkit.Chem.rdchem.Mol object at 0x7fa84ef2daf0>\n",
      "\n",
      "For help, use: python dimorphite_dl.py --help\n",
      "\n",
      "If you use Dimorphite-DL in your research, please cite:\n",
      "Ropp PJ, Kaminsky JC, Yablonski S, Durrant JD (2019) Dimorphite-DL: An\n",
      "open-source program for enumerating the ionization states of drug-like small\n",
      "molecules. J Cheminform 11:14. doi:10.1186/s13321-019-0336-9.\n",
      "\n",
      "Proposed mol at pH 7.4: O=[N+]([O-])c1cc([N+](=O)[O-])c2ccccc2c1\n",
      "#########################\n",
      "Could not identify any ionizable group. Aborting.\n",
      "#########################\n"
     ]
    },
    {
     "name": "stderr",
     "output_type": "stream",
     "text": [
      "[query.py:297 - calculate_microstate_pka_values()] Using dimorphite-dl to identify protonation sites.\n"
     ]
    },
    {
     "name": "stdout",
     "output_type": "stream",
     "text": [
      "CN1C(=O)c2ccccc2C1=O\n",
      "<rdkit.Chem.rdchem.Mol object at 0x7fd43f345af0>\n",
      "\n",
      "For help, use: python dimorphite_dl.py --help\n",
      "\n",
      "If you use Dimorphite-DL in your research, please cite:\n",
      "Ropp PJ, Kaminsky JC, Yablonski S, Durrant JD (2019) Dimorphite-DL: An\n",
      "open-source program for enumerating the ionization states of drug-like small\n",
      "molecules. J Cheminform 11:14. doi:10.1186/s13321-019-0336-9.\n",
      "\n",
      "CN1C(=O)c2ccccc2C1=O\n",
      "<rdkit.Chem.rdchem.Mol object at 0x7f988412daf0>\n",
      "\n",
      "For help, use: python dimorphite_dl.py --help\n",
      "\n",
      "If you use Dimorphite-DL in your research, please cite:\n",
      "Ropp PJ, Kaminsky JC, Yablonski S, Durrant JD (2019) Dimorphite-DL: An\n",
      "open-source program for enumerating the ionization states of drug-like small\n",
      "molecules. J Cheminform 11:14. doi:10.1186/s13321-019-0336-9.\n",
      "\n",
      "Proposed mol at pH 7.4: C[NH+]1C(=O)c2ccccc2C1=O\n"
     ]
    },
    {
     "name": "stderr",
     "output_type": "stream",
     "text": [
      "[query.py:297 - calculate_microstate_pka_values()] Using dimorphite-dl to identify protonation sites.\n"
     ]
    },
    {
     "name": "stdout",
     "output_type": "stream",
     "text": [
      "CCCC(=O)c1cc(O)c(O)cc1O\n",
      "<rdkit.Chem.rdchem.Mol object at 0x7f3115d09af0>\n",
      "\n",
      "For help, use: python dimorphite_dl.py --help\n",
      "\n",
      "If you use Dimorphite-DL in your research, please cite:\n",
      "Ropp PJ, Kaminsky JC, Yablonski S, Durrant JD (2019) Dimorphite-DL: An\n",
      "open-source program for enumerating the ionization states of drug-like small\n",
      "molecules. J Cheminform 11:14. doi:10.1186/s13321-019-0336-9.\n",
      "\n",
      "CCCC(=O)c1cc(O)c(O)cc1O\n",
      "<rdkit.Chem.rdchem.Mol object at 0x7f8d4f841af0>\n",
      "\n",
      "For help, use: python dimorphite_dl.py --help\n",
      "\n",
      "If you use Dimorphite-DL in your research, please cite:\n",
      "Ropp PJ, Kaminsky JC, Yablonski S, Durrant JD (2019) Dimorphite-DL: An\n",
      "open-source program for enumerating the ionization states of drug-like small\n",
      "molecules. J Cheminform 11:14. doi:10.1186/s13321-019-0336-9.\n",
      "\n",
      "Proposed mol at pH 7.4: CCCC(=O)c1cc(O)c(O)cc1O\n"
     ]
    },
    {
     "name": "stderr",
     "output_type": "stream",
     "text": [
      "[query.py:297 - calculate_microstate_pka_values()] Using dimorphite-dl to identify protonation sites.\n"
     ]
    },
    {
     "name": "stdout",
     "output_type": "stream",
     "text": [
      "O=S(=O)(O)C(F)(F)C(F)(F)C(F)(F)C(F)(F)F\n",
      "<rdkit.Chem.rdchem.Mol object at 0x7fbd5b71daf0>\n",
      "\n",
      "For help, use: python dimorphite_dl.py --help\n",
      "\n",
      "If you use Dimorphite-DL in your research, please cite:\n",
      "Ropp PJ, Kaminsky JC, Yablonski S, Durrant JD (2019) Dimorphite-DL: An\n",
      "open-source program for enumerating the ionization states of drug-like small\n",
      "molecules. J Cheminform 11:14. doi:10.1186/s13321-019-0336-9.\n",
      "\n",
      "O=S(=O)(O)C(F)(F)C(F)(F)C(F)(F)C(F)(F)F\n",
      "<rdkit.Chem.rdchem.Mol object at 0x7f2d20715af0>\n",
      "\n",
      "For help, use: python dimorphite_dl.py --help\n",
      "\n",
      "If you use Dimorphite-DL in your research, please cite:\n",
      "Ropp PJ, Kaminsky JC, Yablonski S, Durrant JD (2019) Dimorphite-DL: An\n",
      "open-source program for enumerating the ionization states of drug-like small\n",
      "molecules. J Cheminform 11:14. doi:10.1186/s13321-019-0336-9.\n",
      "\n",
      "Proposed mol at pH 7.4: O=S(=O)([O-])C(F)(F)C(F)(F)C(F)(F)C(F)(F)F\n",
      "#########################\n",
      "Could not identify any ionizable group. Aborting.\n",
      "#########################\n"
     ]
    },
    {
     "name": "stderr",
     "output_type": "stream",
     "text": [
      "[query.py:297 - calculate_microstate_pka_values()] Using dimorphite-dl to identify protonation sites.\n"
     ]
    },
    {
     "name": "stdout",
     "output_type": "stream",
     "text": [
      "CS(=O)(=O)c1ccc(C(=O)C2C(=O)CCCC2=O)c([N+](=O)[O-])c1\n",
      "<rdkit.Chem.rdchem.Mol object at 0x7fb75f08dbd0>\n",
      "\n",
      "For help, use: python dimorphite_dl.py --help\n",
      "\n",
      "If you use Dimorphite-DL in your research, please cite:\n",
      "Ropp PJ, Kaminsky JC, Yablonski S, Durrant JD (2019) Dimorphite-DL: An\n",
      "open-source program for enumerating the ionization states of drug-like small\n",
      "molecules. J Cheminform 11:14. doi:10.1186/s13321-019-0336-9.\n",
      "\n",
      "CS(=O)(=O)c1ccc(C(=O)C2C(=O)CCCC2=O)c([N+](=O)[O-])c1\n",
      "<rdkit.Chem.rdchem.Mol object at 0x7f0802841bd0>\n",
      "\n",
      "For help, use: python dimorphite_dl.py --help\n",
      "\n",
      "If you use Dimorphite-DL in your research, please cite:\n",
      "Ropp PJ, Kaminsky JC, Yablonski S, Durrant JD (2019) Dimorphite-DL: An\n",
      "open-source program for enumerating the ionization states of drug-like small\n",
      "molecules. J Cheminform 11:14. doi:10.1186/s13321-019-0336-9.\n",
      "\n",
      "Proposed mol at pH 7.4: CS(=O)(=O)c1ccc(C(=O)C2C(=O)CCCC2=O)c([N+](=O)[O-])c1\n",
      "#########################\n",
      "Could not identify any ionizable group. Aborting.\n",
      "#########################\n"
     ]
    },
    {
     "name": "stderr",
     "output_type": "stream",
     "text": [
      "[query.py:297 - calculate_microstate_pka_values()] Using dimorphite-dl to identify protonation sites.\n"
     ]
    },
    {
     "name": "stdout",
     "output_type": "stream",
     "text": [
      "COc1nn(CSP(=S)(OC)OC)c(=O)s1\n",
      "<rdkit.Chem.rdchem.Mol object at 0x7fac0fb39af0>\n",
      "\n",
      "For help, use: python dimorphite_dl.py --help\n",
      "\n",
      "If you use Dimorphite-DL in your research, please cite:\n",
      "Ropp PJ, Kaminsky JC, Yablonski S, Durrant JD (2019) Dimorphite-DL: An\n",
      "open-source program for enumerating the ionization states of drug-like small\n",
      "molecules. J Cheminform 11:14. doi:10.1186/s13321-019-0336-9.\n",
      "\n",
      "COc1nn(CSP(=S)(OC)OC)c(=O)s1\n",
      "<rdkit.Chem.rdchem.Mol object at 0x7febded05af0>\n",
      "\n",
      "For help, use: python dimorphite_dl.py --help\n",
      "\n",
      "If you use Dimorphite-DL in your research, please cite:\n",
      "Ropp PJ, Kaminsky JC, Yablonski S, Durrant JD (2019) Dimorphite-DL: An\n",
      "open-source program for enumerating the ionization states of drug-like small\n",
      "molecules. J Cheminform 11:14. doi:10.1186/s13321-019-0336-9.\n",
      "\n",
      "Proposed mol at pH 7.4: COc1nn(CSP(=S)(OC)OC)c(=O)s1\n"
     ]
    },
    {
     "name": "stderr",
     "output_type": "stream",
     "text": [
      "[query.py:297 - calculate_microstate_pka_values()] Using dimorphite-dl to identify protonation sites.\n"
     ]
    },
    {
     "name": "stdout",
     "output_type": "stream",
     "text": [
      "CCOC(=O)C[C@H](SP(=S)(OC)OC)C(=O)OCC\n",
      "<rdkit.Chem.rdchem.Mol object at 0x7f4cb3279af0>\n",
      "\n",
      "For help, use: python dimorphite_dl.py --help\n",
      "\n",
      "If you use Dimorphite-DL in your research, please cite:\n",
      "Ropp PJ, Kaminsky JC, Yablonski S, Durrant JD (2019) Dimorphite-DL: An\n",
      "open-source program for enumerating the ionization states of drug-like small\n",
      "molecules. J Cheminform 11:14. doi:10.1186/s13321-019-0336-9.\n",
      "\n",
      "CCOC(=O)C[C@H](SP(=S)(OC)OC)C(=O)OCC\n",
      "<rdkit.Chem.rdchem.Mol object at 0x7f477fa7daf0>\n",
      "\n",
      "For help, use: python dimorphite_dl.py --help\n",
      "\n",
      "If you use Dimorphite-DL in your research, please cite:\n",
      "Ropp PJ, Kaminsky JC, Yablonski S, Durrant JD (2019) Dimorphite-DL: An\n",
      "open-source program for enumerating the ionization states of drug-like small\n",
      "molecules. J Cheminform 11:14. doi:10.1186/s13321-019-0336-9.\n",
      "\n",
      "Proposed mol at pH 7.4: CCOC(=O)C[C@H](SP(=S)(OC)OC)C(=O)OCC\n",
      "#########################\n",
      "Could not identify any ionizable group. Aborting.\n",
      "#########################\n"
     ]
    },
    {
     "name": "stderr",
     "output_type": "stream",
     "text": [
      "[query.py:297 - calculate_microstate_pka_values()] Using dimorphite-dl to identify protonation sites.\n"
     ]
    },
    {
     "name": "stdout",
     "output_type": "stream",
     "text": [
      "CC1(C)CC/C(=C\\c2ccc(Cl)cc2)[C@]1(O)Cn1cncn1\n",
      "<rdkit.Chem.rdchem.Mol object at 0x7f6217479af0>\n",
      "\n",
      "For help, use: python dimorphite_dl.py --help\n",
      "\n",
      "If you use Dimorphite-DL in your research, please cite:\n",
      "Ropp PJ, Kaminsky JC, Yablonski S, Durrant JD (2019) Dimorphite-DL: An\n",
      "open-source program for enumerating the ionization states of drug-like small\n",
      "molecules. J Cheminform 11:14. doi:10.1186/s13321-019-0336-9.\n",
      "\n",
      "CC1(C)CC/C(=C\\c2ccc(Cl)cc2)[C@]1(O)Cn1cncn1\n",
      "<rdkit.Chem.rdchem.Mol object at 0x7ff249cddaf0>\n",
      "\n",
      "For help, use: python dimorphite_dl.py --help\n",
      "\n",
      "If you use Dimorphite-DL in your research, please cite:\n",
      "Ropp PJ, Kaminsky JC, Yablonski S, Durrant JD (2019) Dimorphite-DL: An\n",
      "open-source program for enumerating the ionization states of drug-like small\n",
      "molecules. J Cheminform 11:14. doi:10.1186/s13321-019-0336-9.\n",
      "\n",
      "WARNING: Skipping poorly formed SMILES string: CC1(C)CC/C(=C\\c2ccc(Cl)cc2)[C@]1([O-])C[n+]1cncn1\n",
      "WARNING: Skipping poorly formed SMILES string: CC1(C)CC/C(=C\\c2ccc(Cl)cc2)[C@]1(O)C[n+]1cncn1\n",
      "WARNING: Skipping poorly formed SMILES string: CC1(C)CC/C(=C\\c2ccc(Cl)cc2)[C@]1([O-])C[n+]1cncn1\n",
      "WARNING: Skipping poorly formed SMILES string: CC1(C)CC/C(=C\\c2ccc(Cl)cc2)[C@]1(O)C[n+]1cncn1\n",
      "Proposed mol at pH 7.4: CC1(C)CC/C(=C\\c2ccc(Cl)cc2)[C@]1(O)Cn1cncn1\n"
     ]
    },
    {
     "name": "stderr",
     "output_type": "stream",
     "text": [
      "[query.py:297 - calculate_microstate_pka_values()] Using dimorphite-dl to identify protonation sites.\n"
     ]
    },
    {
     "name": "stdout",
     "output_type": "stream",
     "text": [
      "O=C(Nc1ccccc1-c1ccc(Cl)cc1)c1cccnc1Cl\n",
      "<rdkit.Chem.rdchem.Mol object at 0x7f3c7c439af0>\n",
      "\n",
      "For help, use: python dimorphite_dl.py --help\n",
      "\n",
      "If you use Dimorphite-DL in your research, please cite:\n",
      "Ropp PJ, Kaminsky JC, Yablonski S, Durrant JD (2019) Dimorphite-DL: An\n",
      "open-source program for enumerating the ionization states of drug-like small\n",
      "molecules. J Cheminform 11:14. doi:10.1186/s13321-019-0336-9.\n",
      "\n",
      "O=C(Nc1ccccc1-c1ccc(Cl)cc1)c1cccnc1Cl\n",
      "<rdkit.Chem.rdchem.Mol object at 0x7f00b56a5af0>\n",
      "\n",
      "For help, use: python dimorphite_dl.py --help\n",
      "\n",
      "If you use Dimorphite-DL in your research, please cite:\n",
      "Ropp PJ, Kaminsky JC, Yablonski S, Durrant JD (2019) Dimorphite-DL: An\n",
      "open-source program for enumerating the ionization states of drug-like small\n",
      "molecules. J Cheminform 11:14. doi:10.1186/s13321-019-0336-9.\n",
      "\n",
      "Proposed mol at pH 7.4: O=C(Nc1ccccc1-c1ccc(Cl)cc1)c1cccnc1Cl\n"
     ]
    },
    {
     "name": "stderr",
     "output_type": "stream",
     "text": [
      "[query.py:297 - calculate_microstate_pka_values()] Using dimorphite-dl to identify protonation sites.\n"
     ]
    },
    {
     "name": "stdout",
     "output_type": "stream",
     "text": [
      "Nc1nc2ccc([N+](=O)[O-])cc2s1\n",
      "<rdkit.Chem.rdchem.Mol object at 0x7efff20bdaf0>\n",
      "\n",
      "For help, use: python dimorphite_dl.py --help\n",
      "\n",
      "If you use Dimorphite-DL in your research, please cite:\n",
      "Ropp PJ, Kaminsky JC, Yablonski S, Durrant JD (2019) Dimorphite-DL: An\n",
      "open-source program for enumerating the ionization states of drug-like small\n",
      "molecules. J Cheminform 11:14. doi:10.1186/s13321-019-0336-9.\n",
      "\n",
      "Nc1nc2ccc([N+](=O)[O-])cc2s1\n",
      "<rdkit.Chem.rdchem.Mol object at 0x7ff78032daf0>\n",
      "\n",
      "For help, use: python dimorphite_dl.py --help\n",
      "\n",
      "If you use Dimorphite-DL in your research, please cite:\n",
      "Ropp PJ, Kaminsky JC, Yablonski S, Durrant JD (2019) Dimorphite-DL: An\n",
      "open-source program for enumerating the ionization states of drug-like small\n",
      "molecules. J Cheminform 11:14. doi:10.1186/s13321-019-0336-9.\n",
      "\n",
      "Proposed mol at pH 7.4: Nc1nc2ccc([N+](=O)[O-])cc2s1\n"
     ]
    },
    {
     "name": "stderr",
     "output_type": "stream",
     "text": [
      "[query.py:297 - calculate_microstate_pka_values()] Using dimorphite-dl to identify protonation sites.\n"
     ]
    },
    {
     "name": "stdout",
     "output_type": "stream",
     "text": [
      "N=C(Nc1ccccc1)Nc1ccccc1\n",
      "<rdkit.Chem.rdchem.Mol object at 0x7fb6dba41af0>\n",
      "\n",
      "For help, use: python dimorphite_dl.py --help\n",
      "\n",
      "If you use Dimorphite-DL in your research, please cite:\n",
      "Ropp PJ, Kaminsky JC, Yablonski S, Durrant JD (2019) Dimorphite-DL: An\n",
      "open-source program for enumerating the ionization states of drug-like small\n",
      "molecules. J Cheminform 11:14. doi:10.1186/s13321-019-0336-9.\n",
      "\n",
      "N=C(Nc1ccccc1)Nc1ccccc1\n",
      "<rdkit.Chem.rdchem.Mol object at 0x7f2760ef5af0>\n",
      "\n",
      "For help, use: python dimorphite_dl.py --help\n",
      "\n",
      "If you use Dimorphite-DL in your research, please cite:\n",
      "Ropp PJ, Kaminsky JC, Yablonski S, Durrant JD (2019) Dimorphite-DL: An\n",
      "open-source program for enumerating the ionization states of drug-like small\n",
      "molecules. J Cheminform 11:14. doi:10.1186/s13321-019-0336-9.\n",
      "\n",
      "Proposed mol at pH 7.4: [NH2+]=C(Nc1ccccc1)Nc1ccccc1\n"
     ]
    },
    {
     "name": "stderr",
     "output_type": "stream",
     "text": [
      "[query.py:297 - calculate_microstate_pka_values()] Using dimorphite-dl to identify protonation sites.\n"
     ]
    },
    {
     "name": "stdout",
     "output_type": "stream",
     "text": [
      "Nc1cccc2c(N)cccc12\n",
      "<rdkit.Chem.rdchem.Mol object at 0x7fb4db91daf0>\n",
      "\n",
      "For help, use: python dimorphite_dl.py --help\n",
      "\n",
      "If you use Dimorphite-DL in your research, please cite:\n",
      "Ropp PJ, Kaminsky JC, Yablonski S, Durrant JD (2019) Dimorphite-DL: An\n",
      "open-source program for enumerating the ionization states of drug-like small\n",
      "molecules. J Cheminform 11:14. doi:10.1186/s13321-019-0336-9.\n",
      "\n",
      "Nc1cccc2c(N)cccc12\n",
      "<rdkit.Chem.rdchem.Mol object at 0x7fb1e89fdaf0>\n",
      "\n",
      "For help, use: python dimorphite_dl.py --help\n",
      "\n",
      "If you use Dimorphite-DL in your research, please cite:\n",
      "Ropp PJ, Kaminsky JC, Yablonski S, Durrant JD (2019) Dimorphite-DL: An\n",
      "open-source program for enumerating the ionization states of drug-like small\n",
      "molecules. J Cheminform 11:14. doi:10.1186/s13321-019-0336-9.\n",
      "\n",
      "Proposed mol at pH 7.4: Nc1cccc2c(N)cccc12\n"
     ]
    },
    {
     "name": "stderr",
     "output_type": "stream",
     "text": [
      "[query.py:297 - calculate_microstate_pka_values()] Using dimorphite-dl to identify protonation sites.\n"
     ]
    },
    {
     "name": "stdout",
     "output_type": "stream",
     "text": [
      "Brc1ccccc1-c1ccccc1\n",
      "<rdkit.Chem.rdchem.Mol object at 0x7f7152475af0>\n",
      "\n",
      "For help, use: python dimorphite_dl.py --help\n",
      "\n",
      "If you use Dimorphite-DL in your research, please cite:\n",
      "Ropp PJ, Kaminsky JC, Yablonski S, Durrant JD (2019) Dimorphite-DL: An\n",
      "open-source program for enumerating the ionization states of drug-like small\n",
      "molecules. J Cheminform 11:14. doi:10.1186/s13321-019-0336-9.\n",
      "\n",
      "Brc1ccccc1-c1ccccc1\n",
      "<rdkit.Chem.rdchem.Mol object at 0x7fe95ce41af0>\n",
      "\n",
      "For help, use: python dimorphite_dl.py --help\n",
      "\n",
      "If you use Dimorphite-DL in your research, please cite:\n",
      "Ropp PJ, Kaminsky JC, Yablonski S, Durrant JD (2019) Dimorphite-DL: An\n",
      "open-source program for enumerating the ionization states of drug-like small\n",
      "molecules. J Cheminform 11:14. doi:10.1186/s13321-019-0336-9.\n",
      "\n",
      "Proposed mol at pH 7.4: Brc1ccccc1-c1ccccc1\n",
      "#########################\n",
      "Could not identify any ionizable group. Aborting.\n",
      "#########################\n"
     ]
    },
    {
     "name": "stderr",
     "output_type": "stream",
     "text": [
      "[query.py:297 - calculate_microstate_pka_values()] Using dimorphite-dl to identify protonation sites.\n"
     ]
    },
    {
     "name": "stdout",
     "output_type": "stream",
     "text": [
      "C=CC(=O)NCNC(=O)C=C\n",
      "<rdkit.Chem.rdchem.Mol object at 0x7fab73905af0>\n",
      "\n",
      "For help, use: python dimorphite_dl.py --help\n",
      "\n",
      "If you use Dimorphite-DL in your research, please cite:\n",
      "Ropp PJ, Kaminsky JC, Yablonski S, Durrant JD (2019) Dimorphite-DL: An\n",
      "open-source program for enumerating the ionization states of drug-like small\n",
      "molecules. J Cheminform 11:14. doi:10.1186/s13321-019-0336-9.\n",
      "\n",
      "C=CC(=O)NCNC(=O)C=C\n",
      "<rdkit.Chem.rdchem.Mol object at 0x7fc7fd309af0>\n",
      "\n",
      "For help, use: python dimorphite_dl.py --help\n",
      "\n",
      "If you use Dimorphite-DL in your research, please cite:\n",
      "Ropp PJ, Kaminsky JC, Yablonski S, Durrant JD (2019) Dimorphite-DL: An\n",
      "open-source program for enumerating the ionization states of drug-like small\n",
      "molecules. J Cheminform 11:14. doi:10.1186/s13321-019-0336-9.\n",
      "\n",
      "Proposed mol at pH 7.4: C=CC(=O)NCNC(=O)C=C\n"
     ]
    },
    {
     "name": "stderr",
     "output_type": "stream",
     "text": [
      "[query.py:297 - calculate_microstate_pka_values()] Using dimorphite-dl to identify protonation sites.\n"
     ]
    },
    {
     "name": "stdout",
     "output_type": "stream",
     "text": [
      "Nc1ccc([N+](=O)[O-])cc1O\n",
      "<rdkit.Chem.rdchem.Mol object at 0x7f6cdb0ddaf0>\n",
      "\n",
      "For help, use: python dimorphite_dl.py --help\n",
      "\n",
      "If you use Dimorphite-DL in your research, please cite:\n",
      "Ropp PJ, Kaminsky JC, Yablonski S, Durrant JD (2019) Dimorphite-DL: An\n",
      "open-source program for enumerating the ionization states of drug-like small\n",
      "molecules. J Cheminform 11:14. doi:10.1186/s13321-019-0336-9.\n",
      "\n",
      "Nc1ccc([N+](=O)[O-])cc1O\n",
      "<rdkit.Chem.rdchem.Mol object at 0x7f536621daf0>\n",
      "\n",
      "For help, use: python dimorphite_dl.py --help\n",
      "\n",
      "If you use Dimorphite-DL in your research, please cite:\n",
      "Ropp PJ, Kaminsky JC, Yablonski S, Durrant JD (2019) Dimorphite-DL: An\n",
      "open-source program for enumerating the ionization states of drug-like small\n",
      "molecules. J Cheminform 11:14. doi:10.1186/s13321-019-0336-9.\n",
      "\n",
      "Proposed mol at pH 7.4: Nc1ccc([N+](=O)[O-])cc1O\n"
     ]
    },
    {
     "name": "stderr",
     "output_type": "stream",
     "text": [
      "[query.py:297 - calculate_microstate_pka_values()] Using dimorphite-dl to identify protonation sites.\n"
     ]
    },
    {
     "name": "stdout",
     "output_type": "stream",
     "text": [
      "NC(=O)NN=Cc1ccc([N+](=O)[O-])o1\n",
      "<rdkit.Chem.rdchem.Mol object at 0x7f2ef8e29af0>\n",
      "\n",
      "For help, use: python dimorphite_dl.py --help\n",
      "\n",
      "If you use Dimorphite-DL in your research, please cite:\n",
      "Ropp PJ, Kaminsky JC, Yablonski S, Durrant JD (2019) Dimorphite-DL: An\n",
      "open-source program for enumerating the ionization states of drug-like small\n",
      "molecules. J Cheminform 11:14. doi:10.1186/s13321-019-0336-9.\n",
      "\n",
      "NC(=O)NN=Cc1ccc([N+](=O)[O-])o1\n",
      "<rdkit.Chem.rdchem.Mol object at 0x7f4b9262daf0>\n",
      "\n",
      "For help, use: python dimorphite_dl.py --help\n",
      "\n",
      "If you use Dimorphite-DL in your research, please cite:\n",
      "Ropp PJ, Kaminsky JC, Yablonski S, Durrant JD (2019) Dimorphite-DL: An\n",
      "open-source program for enumerating the ionization states of drug-like small\n",
      "molecules. J Cheminform 11:14. doi:10.1186/s13321-019-0336-9.\n",
      "\n",
      "Proposed mol at pH 7.4: NC(=O)[N-]N=Cc1ccc([N+](=O)[O-])o1\n"
     ]
    },
    {
     "name": "stderr",
     "output_type": "stream",
     "text": [
      "[query.py:297 - calculate_microstate_pka_values()] Using dimorphite-dl to identify protonation sites.\n"
     ]
    },
    {
     "name": "stdout",
     "output_type": "stream",
     "text": [
      "Cc1cccc([N+](=O)[O-])c1[N+](=O)[O-]\n",
      "<rdkit.Chem.rdchem.Mol object at 0x7f12fc2a1af0>\n",
      "\n",
      "For help, use: python dimorphite_dl.py --help\n",
      "\n",
      "If you use Dimorphite-DL in your research, please cite:\n",
      "Ropp PJ, Kaminsky JC, Yablonski S, Durrant JD (2019) Dimorphite-DL: An\n",
      "open-source program for enumerating the ionization states of drug-like small\n",
      "molecules. J Cheminform 11:14. doi:10.1186/s13321-019-0336-9.\n",
      "\n",
      "Cc1cccc([N+](=O)[O-])c1[N+](=O)[O-]\n",
      "<rdkit.Chem.rdchem.Mol object at 0x7fbcf85f9af0>\n",
      "\n",
      "For help, use: python dimorphite_dl.py --help\n",
      "\n",
      "If you use Dimorphite-DL in your research, please cite:\n",
      "Ropp PJ, Kaminsky JC, Yablonski S, Durrant JD (2019) Dimorphite-DL: An\n",
      "open-source program for enumerating the ionization states of drug-like small\n",
      "molecules. J Cheminform 11:14. doi:10.1186/s13321-019-0336-9.\n",
      "\n",
      "Proposed mol at pH 7.4: Cc1cccc([N+](=O)[O-])c1[N+](=O)[O-]\n",
      "#########################\n",
      "Could not identify any ionizable group. Aborting.\n",
      "#########################\n"
     ]
    },
    {
     "name": "stderr",
     "output_type": "stream",
     "text": [
      "[query.py:297 - calculate_microstate_pka_values()] Using dimorphite-dl to identify protonation sites.\n"
     ]
    },
    {
     "name": "stdout",
     "output_type": "stream",
     "text": [
      "O=[N+]([O-])c1cccc([N+](=O)[O-])c1\n",
      "<rdkit.Chem.rdchem.Mol object at 0x7f9199055af0>\n",
      "\n",
      "For help, use: python dimorphite_dl.py --help\n",
      "\n",
      "If you use Dimorphite-DL in your research, please cite:\n",
      "Ropp PJ, Kaminsky JC, Yablonski S, Durrant JD (2019) Dimorphite-DL: An\n",
      "open-source program for enumerating the ionization states of drug-like small\n",
      "molecules. J Cheminform 11:14. doi:10.1186/s13321-019-0336-9.\n",
      "\n",
      "O=[N+]([O-])c1cccc([N+](=O)[O-])c1\n",
      "<rdkit.Chem.rdchem.Mol object at 0x7efe4c28daf0>\n",
      "\n",
      "For help, use: python dimorphite_dl.py --help\n",
      "\n",
      "If you use Dimorphite-DL in your research, please cite:\n",
      "Ropp PJ, Kaminsky JC, Yablonski S, Durrant JD (2019) Dimorphite-DL: An\n",
      "open-source program for enumerating the ionization states of drug-like small\n",
      "molecules. J Cheminform 11:14. doi:10.1186/s13321-019-0336-9.\n",
      "\n",
      "Proposed mol at pH 7.4: O=[N+]([O-])c1cccc([N+](=O)[O-])c1\n",
      "#########################\n",
      "Could not identify any ionizable group. Aborting.\n",
      "#########################\n"
     ]
    },
    {
     "name": "stderr",
     "output_type": "stream",
     "text": [
      "[query.py:297 - calculate_microstate_pka_values()] Using dimorphite-dl to identify protonation sites.\n"
     ]
    },
    {
     "name": "stdout",
     "output_type": "stream",
     "text": [
      "Nc1ccc(O)c([N+](=O)[O-])c1\n",
      "<rdkit.Chem.rdchem.Mol object at 0x7f3541bf5af0>\n",
      "\n",
      "For help, use: python dimorphite_dl.py --help\n",
      "\n",
      "If you use Dimorphite-DL in your research, please cite:\n",
      "Ropp PJ, Kaminsky JC, Yablonski S, Durrant JD (2019) Dimorphite-DL: An\n",
      "open-source program for enumerating the ionization states of drug-like small\n",
      "molecules. J Cheminform 11:14. doi:10.1186/s13321-019-0336-9.\n",
      "\n",
      "Nc1ccc(O)c([N+](=O)[O-])c1\n",
      "<rdkit.Chem.rdchem.Mol object at 0x7f6f100e1af0>\n",
      "\n",
      "For help, use: python dimorphite_dl.py --help\n",
      "\n",
      "If you use Dimorphite-DL in your research, please cite:\n",
      "Ropp PJ, Kaminsky JC, Yablonski S, Durrant JD (2019) Dimorphite-DL: An\n",
      "open-source program for enumerating the ionization states of drug-like small\n",
      "molecules. J Cheminform 11:14. doi:10.1186/s13321-019-0336-9.\n",
      "\n",
      "Proposed mol at pH 7.4: Nc1ccc(O)c([N+](=O)[O-])c1\n"
     ]
    },
    {
     "name": "stderr",
     "output_type": "stream",
     "text": [
      "[query.py:297 - calculate_microstate_pka_values()] Using dimorphite-dl to identify protonation sites.\n"
     ]
    },
    {
     "name": "stdout",
     "output_type": "stream",
     "text": [
      "Nc1ccc(N)c([N+](=O)[O-])c1\n",
      "<rdkit.Chem.rdchem.Mol object at 0x7f6b04f1daf0>\n",
      "\n",
      "For help, use: python dimorphite_dl.py --help\n",
      "\n",
      "If you use Dimorphite-DL in your research, please cite:\n",
      "Ropp PJ, Kaminsky JC, Yablonski S, Durrant JD (2019) Dimorphite-DL: An\n",
      "open-source program for enumerating the ionization states of drug-like small\n",
      "molecules. J Cheminform 11:14. doi:10.1186/s13321-019-0336-9.\n",
      "\n",
      "Nc1ccc(N)c([N+](=O)[O-])c1\n",
      "<rdkit.Chem.rdchem.Mol object at 0x7f900bbf9af0>\n",
      "\n",
      "For help, use: python dimorphite_dl.py --help\n",
      "\n",
      "If you use Dimorphite-DL in your research, please cite:\n",
      "Ropp PJ, Kaminsky JC, Yablonski S, Durrant JD (2019) Dimorphite-DL: An\n",
      "open-source program for enumerating the ionization states of drug-like small\n",
      "molecules. J Cheminform 11:14. doi:10.1186/s13321-019-0336-9.\n",
      "\n",
      "Proposed mol at pH 7.4: Nc1ccc(N)c([N+](=O)[O-])c1\n"
     ]
    },
    {
     "name": "stderr",
     "output_type": "stream",
     "text": [
      "[query.py:297 - calculate_microstate_pka_values()] Using dimorphite-dl to identify protonation sites.\n"
     ]
    },
    {
     "name": "stdout",
     "output_type": "stream",
     "text": [
      "Cn1cnc([N+](=O)[O-])c1Sc1ncnc2nc[nH]c12\n",
      "<rdkit.Chem.rdchem.Mol object at 0x7f9005d01af0>\n",
      "\n",
      "For help, use: python dimorphite_dl.py --help\n",
      "\n",
      "If you use Dimorphite-DL in your research, please cite:\n",
      "Ropp PJ, Kaminsky JC, Yablonski S, Durrant JD (2019) Dimorphite-DL: An\n",
      "open-source program for enumerating the ionization states of drug-like small\n",
      "molecules. J Cheminform 11:14. doi:10.1186/s13321-019-0336-9.\n",
      "\n",
      "Cn1cnc([N+](=O)[O-])c1Sc1ncnc2nc[nH]c12\n",
      "<rdkit.Chem.rdchem.Mol object at 0x7fb5e6041af0>\n",
      "\n",
      "For help, use: python dimorphite_dl.py --help\n",
      "\n",
      "If you use Dimorphite-DL in your research, please cite:\n",
      "Ropp PJ, Kaminsky JC, Yablonski S, Durrant JD (2019) Dimorphite-DL: An\n",
      "open-source program for enumerating the ionization states of drug-like small\n",
      "molecules. J Cheminform 11:14. doi:10.1186/s13321-019-0336-9.\n",
      "\n",
      "WARNING: Skipping poorly formed SMILES string: C[n+]1cnc([N+](=O)[O-])c1Sc1ncnc2nc[nH]c12\n",
      "WARNING: Skipping poorly formed SMILES string: C[n+]1cnc([N+](=O)[O-])c1Sc1ncnc2nc[nH]c12\n",
      "Proposed mol at pH 7.4: Cn1cnc([N+](=O)[O-])c1Sc1ncnc2nc[nH]c12\n"
     ]
    },
    {
     "name": "stderr",
     "output_type": "stream",
     "text": [
      "[query.py:297 - calculate_microstate_pka_values()] Using dimorphite-dl to identify protonation sites.\n"
     ]
    },
    {
     "name": "stdout",
     "output_type": "stream",
     "text": [
      "O=C(Oc1ccccc1)c1cccc(C(=O)Oc2ccccc2)c1\n",
      "<rdkit.Chem.rdchem.Mol object at 0x7ff8b031daf0>\n",
      "\n",
      "For help, use: python dimorphite_dl.py --help\n",
      "\n",
      "If you use Dimorphite-DL in your research, please cite:\n",
      "Ropp PJ, Kaminsky JC, Yablonski S, Durrant JD (2019) Dimorphite-DL: An\n",
      "open-source program for enumerating the ionization states of drug-like small\n",
      "molecules. J Cheminform 11:14. doi:10.1186/s13321-019-0336-9.\n",
      "\n",
      "O=C(Oc1ccccc1)c1cccc(C(=O)Oc2ccccc2)c1\n",
      "<rdkit.Chem.rdchem.Mol object at 0x7f2b0812daf0>\n",
      "\n",
      "For help, use: python dimorphite_dl.py --help\n",
      "\n",
      "If you use Dimorphite-DL in your research, please cite:\n",
      "Ropp PJ, Kaminsky JC, Yablonski S, Durrant JD (2019) Dimorphite-DL: An\n",
      "open-source program for enumerating the ionization states of drug-like small\n",
      "molecules. J Cheminform 11:14. doi:10.1186/s13321-019-0336-9.\n",
      "\n",
      "Proposed mol at pH 7.4: O=C(Oc1ccccc1)c1cccc(C(=O)Oc2ccccc2)c1\n",
      "#########################\n",
      "Could not identify any ionizable group. Aborting.\n",
      "#########################\n"
     ]
    },
    {
     "name": "stderr",
     "output_type": "stream",
     "text": [
      "[query.py:297 - calculate_microstate_pka_values()] Using dimorphite-dl to identify protonation sites.\n"
     ]
    },
    {
     "name": "stdout",
     "output_type": "stream",
     "text": [
      "O=C(O)c1cc(-c2ccccc2)nc2ccccc12\n",
      "<rdkit.Chem.rdchem.Mol object at 0x7f8f01cedaf0>\n",
      "\n",
      "For help, use: python dimorphite_dl.py --help\n",
      "\n",
      "If you use Dimorphite-DL in your research, please cite:\n",
      "Ropp PJ, Kaminsky JC, Yablonski S, Durrant JD (2019) Dimorphite-DL: An\n",
      "open-source program for enumerating the ionization states of drug-like small\n",
      "molecules. J Cheminform 11:14. doi:10.1186/s13321-019-0336-9.\n",
      "\n",
      "O=C(O)c1cc(-c2ccccc2)nc2ccccc12\n",
      "<rdkit.Chem.rdchem.Mol object at 0x7fc97b4edaf0>\n",
      "\n",
      "For help, use: python dimorphite_dl.py --help\n",
      "\n",
      "If you use Dimorphite-DL in your research, please cite:\n",
      "Ropp PJ, Kaminsky JC, Yablonski S, Durrant JD (2019) Dimorphite-DL: An\n",
      "open-source program for enumerating the ionization states of drug-like small\n",
      "molecules. J Cheminform 11:14. doi:10.1186/s13321-019-0336-9.\n",
      "\n",
      "Proposed mol at pH 7.4: O=C([O-])c1cc(-c2ccccc2)nc2ccccc12\n"
     ]
    },
    {
     "name": "stderr",
     "output_type": "stream",
     "text": [
      "[query.py:297 - calculate_microstate_pka_values()] Using dimorphite-dl to identify protonation sites.\n"
     ]
    },
    {
     "name": "stdout",
     "output_type": "stream",
     "text": [
      "Nc1c(Cl)c(Cl)c(Cl)c(Cl)c1Cl\n",
      "<rdkit.Chem.rdchem.Mol object at 0x7f3635d21af0>\n",
      "\n",
      "For help, use: python dimorphite_dl.py --help\n",
      "\n",
      "If you use Dimorphite-DL in your research, please cite:\n",
      "Ropp PJ, Kaminsky JC, Yablonski S, Durrant JD (2019) Dimorphite-DL: An\n",
      "open-source program for enumerating the ionization states of drug-like small\n",
      "molecules. J Cheminform 11:14. doi:10.1186/s13321-019-0336-9.\n",
      "\n",
      "Nc1c(Cl)c(Cl)c(Cl)c(Cl)c1Cl\n",
      "<rdkit.Chem.rdchem.Mol object at 0x7f10cdb3daf0>\n",
      "\n",
      "For help, use: python dimorphite_dl.py --help\n",
      "\n",
      "If you use Dimorphite-DL in your research, please cite:\n",
      "Ropp PJ, Kaminsky JC, Yablonski S, Durrant JD (2019) Dimorphite-DL: An\n",
      "open-source program for enumerating the ionization states of drug-like small\n",
      "molecules. J Cheminform 11:14. doi:10.1186/s13321-019-0336-9.\n",
      "\n",
      "Proposed mol at pH 7.4: Nc1c(Cl)c(Cl)c(Cl)c(Cl)c1Cl\n"
     ]
    },
    {
     "name": "stderr",
     "output_type": "stream",
     "text": [
      "[query.py:297 - calculate_microstate_pka_values()] Using dimorphite-dl to identify protonation sites.\n"
     ]
    },
    {
     "name": "stdout",
     "output_type": "stream",
     "text": [
      "Nc1ccc(N=Nc2ccccc2)cc1\n",
      "<rdkit.Chem.rdchem.Mol object at 0x7ff3f18e1af0>\n",
      "\n",
      "For help, use: python dimorphite_dl.py --help\n",
      "\n",
      "If you use Dimorphite-DL in your research, please cite:\n",
      "Ropp PJ, Kaminsky JC, Yablonski S, Durrant JD (2019) Dimorphite-DL: An\n",
      "open-source program for enumerating the ionization states of drug-like small\n",
      "molecules. J Cheminform 11:14. doi:10.1186/s13321-019-0336-9.\n",
      "\n",
      "Nc1ccc(N=Nc2ccccc2)cc1\n",
      "<rdkit.Chem.rdchem.Mol object at 0x7f30c872daf0>\n",
      "\n",
      "For help, use: python dimorphite_dl.py --help\n",
      "\n",
      "If you use Dimorphite-DL in your research, please cite:\n",
      "Ropp PJ, Kaminsky JC, Yablonski S, Durrant JD (2019) Dimorphite-DL: An\n",
      "open-source program for enumerating the ionization states of drug-like small\n",
      "molecules. J Cheminform 11:14. doi:10.1186/s13321-019-0336-9.\n",
      "\n",
      "Proposed mol at pH 7.4: Nc1ccc(N=Nc2ccccc2)cc1\n"
     ]
    },
    {
     "name": "stderr",
     "output_type": "stream",
     "text": [
      "[query.py:297 - calculate_microstate_pka_values()] Using dimorphite-dl to identify protonation sites.\n"
     ]
    },
    {
     "name": "stdout",
     "output_type": "stream",
     "text": [
      "CC(C)C(C)(C)C(C)(C)C(C)(C)S\n",
      "<rdkit.Chem.rdchem.Mol object at 0x7fa86c961af0>\n",
      "\n",
      "For help, use: python dimorphite_dl.py --help\n",
      "\n",
      "If you use Dimorphite-DL in your research, please cite:\n",
      "Ropp PJ, Kaminsky JC, Yablonski S, Durrant JD (2019) Dimorphite-DL: An\n",
      "open-source program for enumerating the ionization states of drug-like small\n",
      "molecules. J Cheminform 11:14. doi:10.1186/s13321-019-0336-9.\n",
      "\n",
      "CC(C)C(C)(C)C(C)(C)C(C)(C)S\n",
      "<rdkit.Chem.rdchem.Mol object at 0x7f343cd05af0>\n",
      "\n",
      "For help, use: python dimorphite_dl.py --help\n",
      "\n",
      "If you use Dimorphite-DL in your research, please cite:\n",
      "Ropp PJ, Kaminsky JC, Yablonski S, Durrant JD (2019) Dimorphite-DL: An\n",
      "open-source program for enumerating the ionization states of drug-like small\n",
      "molecules. J Cheminform 11:14. doi:10.1186/s13321-019-0336-9.\n",
      "\n",
      "Proposed mol at pH 7.4: CC(C)C(C)(C)C(C)(C)C(C)(C)S\n"
     ]
    },
    {
     "name": "stderr",
     "output_type": "stream",
     "text": [
      "[query.py:297 - calculate_microstate_pka_values()] Using dimorphite-dl to identify protonation sites.\n"
     ]
    },
    {
     "name": "stdout",
     "output_type": "stream",
     "text": [
      "Sc1nc2ccccc2s1\n",
      "<rdkit.Chem.rdchem.Mol object at 0x7fabd6aedaf0>\n",
      "\n",
      "For help, use: python dimorphite_dl.py --help\n",
      "\n",
      "If you use Dimorphite-DL in your research, please cite:\n",
      "Ropp PJ, Kaminsky JC, Yablonski S, Durrant JD (2019) Dimorphite-DL: An\n",
      "open-source program for enumerating the ionization states of drug-like small\n",
      "molecules. J Cheminform 11:14. doi:10.1186/s13321-019-0336-9.\n",
      "\n",
      "Sc1nc2ccccc2s1\n",
      "<rdkit.Chem.rdchem.Mol object at 0x7f279e4f5af0>\n",
      "\n",
      "For help, use: python dimorphite_dl.py --help\n",
      "\n",
      "If you use Dimorphite-DL in your research, please cite:\n",
      "Ropp PJ, Kaminsky JC, Yablonski S, Durrant JD (2019) Dimorphite-DL: An\n",
      "open-source program for enumerating the ionization states of drug-like small\n",
      "molecules. J Cheminform 11:14. doi:10.1186/s13321-019-0336-9.\n",
      "\n",
      "Proposed mol at pH 7.4: [S-]c1nc2ccccc2s1\n"
     ]
    },
    {
     "name": "stderr",
     "output_type": "stream",
     "text": [
      "[query.py:297 - calculate_microstate_pka_values()] Using dimorphite-dl to identify protonation sites.\n"
     ]
    },
    {
     "name": "stdout",
     "output_type": "stream",
     "text": [
      "c1ccc2c(c1)Nc1ccccc1S2\n",
      "<rdkit.Chem.rdchem.Mol object at 0x7fa1c6c55af0>\n",
      "\n",
      "For help, use: python dimorphite_dl.py --help\n",
      "\n",
      "If you use Dimorphite-DL in your research, please cite:\n",
      "Ropp PJ, Kaminsky JC, Yablonski S, Durrant JD (2019) Dimorphite-DL: An\n",
      "open-source program for enumerating the ionization states of drug-like small\n",
      "molecules. J Cheminform 11:14. doi:10.1186/s13321-019-0336-9.\n",
      "\n",
      "c1ccc2c(c1)Nc1ccccc1S2\n",
      "<rdkit.Chem.rdchem.Mol object at 0x7fdfe5765af0>\n",
      "\n",
      "For help, use: python dimorphite_dl.py --help\n",
      "\n",
      "If you use Dimorphite-DL in your research, please cite:\n",
      "Ropp PJ, Kaminsky JC, Yablonski S, Durrant JD (2019) Dimorphite-DL: An\n",
      "open-source program for enumerating the ionization states of drug-like small\n",
      "molecules. J Cheminform 11:14. doi:10.1186/s13321-019-0336-9.\n",
      "\n",
      "Proposed mol at pH 7.4: c1ccc2c(c1)Nc1ccccc1S2\n"
     ]
    },
    {
     "name": "stderr",
     "output_type": "stream",
     "text": [
      "[query.py:297 - calculate_microstate_pka_values()] Using dimorphite-dl to identify protonation sites.\n"
     ]
    },
    {
     "name": "stdout",
     "output_type": "stream",
     "text": [
      "O=S(=O)(c1ccc(Cl)cc1)c1ccc(Cl)cc1\n",
      "<rdkit.Chem.rdchem.Mol object at 0x7f7956339af0>\n",
      "\n",
      "For help, use: python dimorphite_dl.py --help\n",
      "\n",
      "If you use Dimorphite-DL in your research, please cite:\n",
      "Ropp PJ, Kaminsky JC, Yablonski S, Durrant JD (2019) Dimorphite-DL: An\n",
      "open-source program for enumerating the ionization states of drug-like small\n",
      "molecules. J Cheminform 11:14. doi:10.1186/s13321-019-0336-9.\n",
      "\n",
      "O=S(=O)(c1ccc(Cl)cc1)c1ccc(Cl)cc1\n",
      "<rdkit.Chem.rdchem.Mol object at 0x7fb56f48daf0>\n",
      "\n",
      "For help, use: python dimorphite_dl.py --help\n",
      "\n",
      "If you use Dimorphite-DL in your research, please cite:\n",
      "Ropp PJ, Kaminsky JC, Yablonski S, Durrant JD (2019) Dimorphite-DL: An\n",
      "open-source program for enumerating the ionization states of drug-like small\n",
      "molecules. J Cheminform 11:14. doi:10.1186/s13321-019-0336-9.\n",
      "\n",
      "Proposed mol at pH 7.4: O=S(=O)(c1ccc(Cl)cc1)c1ccc(Cl)cc1\n",
      "#########################\n",
      "Could not identify any ionizable group. Aborting.\n",
      "#########################\n"
     ]
    },
    {
     "name": "stderr",
     "output_type": "stream",
     "text": [
      "[query.py:297 - calculate_microstate_pka_values()] Using dimorphite-dl to identify protonation sites.\n"
     ]
    },
    {
     "name": "stdout",
     "output_type": "stream",
     "text": [
      "O=C(O)Cc1cccc2ccccc12\n",
      "<rdkit.Chem.rdchem.Mol object at 0x7f9315d31af0>\n",
      "\n",
      "For help, use: python dimorphite_dl.py --help\n",
      "\n",
      "If you use Dimorphite-DL in your research, please cite:\n",
      "Ropp PJ, Kaminsky JC, Yablonski S, Durrant JD (2019) Dimorphite-DL: An\n",
      "open-source program for enumerating the ionization states of drug-like small\n",
      "molecules. J Cheminform 11:14. doi:10.1186/s13321-019-0336-9.\n",
      "\n",
      "O=C(O)Cc1cccc2ccccc12\n",
      "<rdkit.Chem.rdchem.Mol object at 0x7f00c0ee1af0>\n",
      "\n",
      "For help, use: python dimorphite_dl.py --help\n",
      "\n",
      "If you use Dimorphite-DL in your research, please cite:\n",
      "Ropp PJ, Kaminsky JC, Yablonski S, Durrant JD (2019) Dimorphite-DL: An\n",
      "open-source program for enumerating the ionization states of drug-like small\n",
      "molecules. J Cheminform 11:14. doi:10.1186/s13321-019-0336-9.\n",
      "\n",
      "Proposed mol at pH 7.4: O=C([O-])Cc1cccc2ccccc12\n"
     ]
    },
    {
     "name": "stderr",
     "output_type": "stream",
     "text": [
      "[query.py:297 - calculate_microstate_pka_values()] Using dimorphite-dl to identify protonation sites.\n"
     ]
    },
    {
     "name": "stdout",
     "output_type": "stream",
     "text": [
      "CN(C)c1ccc(N=NS(=O)(=O)O)cc1\n",
      "<rdkit.Chem.rdchem.Mol object at 0x7f7280a01af0>\n",
      "\n",
      "For help, use: python dimorphite_dl.py --help\n",
      "\n",
      "If you use Dimorphite-DL in your research, please cite:\n",
      "Ropp PJ, Kaminsky JC, Yablonski S, Durrant JD (2019) Dimorphite-DL: An\n",
      "open-source program for enumerating the ionization states of drug-like small\n",
      "molecules. J Cheminform 11:14. doi:10.1186/s13321-019-0336-9.\n",
      "\n",
      "CN(C)c1ccc(N=NS(=O)(=O)O)cc1\n",
      "<rdkit.Chem.rdchem.Mol object at 0x7efe8c0a5af0>\n",
      "\n",
      "For help, use: python dimorphite_dl.py --help\n",
      "\n",
      "If you use Dimorphite-DL in your research, please cite:\n",
      "Ropp PJ, Kaminsky JC, Yablonski S, Durrant JD (2019) Dimorphite-DL: An\n",
      "open-source program for enumerating the ionization states of drug-like small\n",
      "molecules. J Cheminform 11:14. doi:10.1186/s13321-019-0336-9.\n",
      "\n",
      "Proposed mol at pH 7.4: CN(C)c1ccc(N=NS(=O)(=O)[O-])cc1\n"
     ]
    },
    {
     "name": "stderr",
     "output_type": "stream",
     "text": [
      "[query.py:297 - calculate_microstate_pka_values()] Using dimorphite-dl to identify protonation sites.\n"
     ]
    },
    {
     "name": "stdout",
     "output_type": "stream",
     "text": [
      "CCO/N=C(\\CC)C1=C(O)C[C@H](c2c(C)cc(C)cc2C)CC1=O\n",
      "<rdkit.Chem.rdchem.Mol object at 0x7efd0d921af0>\n",
      "\n",
      "For help, use: python dimorphite_dl.py --help\n",
      "\n",
      "If you use Dimorphite-DL in your research, please cite:\n",
      "Ropp PJ, Kaminsky JC, Yablonski S, Durrant JD (2019) Dimorphite-DL: An\n",
      "open-source program for enumerating the ionization states of drug-like small\n",
      "molecules. J Cheminform 11:14. doi:10.1186/s13321-019-0336-9.\n",
      "\n",
      "CCO/N=C(\\CC)C1=C(O)C[C@H](c2c(C)cc(C)cc2C)CC1=O\n",
      "<rdkit.Chem.rdchem.Mol object at 0x7f46e6501af0>\n",
      "\n",
      "For help, use: python dimorphite_dl.py --help\n",
      "\n",
      "If you use Dimorphite-DL in your research, please cite:\n",
      "Ropp PJ, Kaminsky JC, Yablonski S, Durrant JD (2019) Dimorphite-DL: An\n",
      "open-source program for enumerating the ionization states of drug-like small\n",
      "molecules. J Cheminform 11:14. doi:10.1186/s13321-019-0336-9.\n",
      "\n",
      "Proposed mol at pH 7.4: CCO/N=C(\\CC)C1=C([O-])C[C@H](c2c(C)cc(C)cc2C)CC1=O\n"
     ]
    },
    {
     "name": "stderr",
     "output_type": "stream",
     "text": [
      "[query.py:297 - calculate_microstate_pka_values()] Using dimorphite-dl to identify protonation sites.\n"
     ]
    },
    {
     "name": "stdout",
     "output_type": "stream",
     "text": [
      "CC(C)(O)C(=O)Nc1ccc([N+](=O)[O-])c(C(F)(F)F)c1\n",
      "<rdkit.Chem.rdchem.Mol object at 0x7fe08a149af0>\n",
      "\n",
      "For help, use: python dimorphite_dl.py --help\n",
      "\n",
      "If you use Dimorphite-DL in your research, please cite:\n",
      "Ropp PJ, Kaminsky JC, Yablonski S, Durrant JD (2019) Dimorphite-DL: An\n",
      "open-source program for enumerating the ionization states of drug-like small\n",
      "molecules. J Cheminform 11:14. doi:10.1186/s13321-019-0336-9.\n",
      "\n",
      "CC(C)(O)C(=O)Nc1ccc([N+](=O)[O-])c(C(F)(F)F)c1\n",
      "<rdkit.Chem.rdchem.Mol object at 0x7fa7cdf65af0>\n",
      "\n",
      "For help, use: python dimorphite_dl.py --help\n",
      "\n",
      "If you use Dimorphite-DL in your research, please cite:\n",
      "Ropp PJ, Kaminsky JC, Yablonski S, Durrant JD (2019) Dimorphite-DL: An\n",
      "open-source program for enumerating the ionization states of drug-like small\n",
      "molecules. J Cheminform 11:14. doi:10.1186/s13321-019-0336-9.\n",
      "\n",
      "Proposed mol at pH 7.4: CC(C)(O)C(=O)Nc1ccc([N+](=O)[O-])c(C(F)(F)F)c1\n"
     ]
    },
    {
     "name": "stderr",
     "output_type": "stream",
     "text": [
      "[query.py:297 - calculate_microstate_pka_values()] Using dimorphite-dl to identify protonation sites.\n"
     ]
    },
    {
     "name": "stdout",
     "output_type": "stream",
     "text": [
      "CC12CCC(=O)C=C1CCC1C2C(O)CC2(C)C(C(=O)CO)CCC12\n",
      "<rdkit.Chem.rdchem.Mol object at 0x7fc75e339af0>\n",
      "\n",
      "For help, use: python dimorphite_dl.py --help\n",
      "\n",
      "If you use Dimorphite-DL in your research, please cite:\n",
      "Ropp PJ, Kaminsky JC, Yablonski S, Durrant JD (2019) Dimorphite-DL: An\n",
      "open-source program for enumerating the ionization states of drug-like small\n",
      "molecules. J Cheminform 11:14. doi:10.1186/s13321-019-0336-9.\n",
      "\n",
      "CC12CCC(=O)C=C1CCC1C2C(O)CC2(C)C(C(=O)CO)CCC12\n",
      "<rdkit.Chem.rdchem.Mol object at 0x7fd047441af0>\n",
      "\n",
      "For help, use: python dimorphite_dl.py --help\n",
      "\n",
      "If you use Dimorphite-DL in your research, please cite:\n",
      "Ropp PJ, Kaminsky JC, Yablonski S, Durrant JD (2019) Dimorphite-DL: An\n",
      "open-source program for enumerating the ionization states of drug-like small\n",
      "molecules. J Cheminform 11:14. doi:10.1186/s13321-019-0336-9.\n",
      "\n",
      "Proposed mol at pH 7.4: CC12CCC(=O)C=C1CCC1C2C(O)CC2(C)C(C(=O)CO)CCC12\n"
     ]
    },
    {
     "name": "stderr",
     "output_type": "stream",
     "text": [
      "[query.py:297 - calculate_microstate_pka_values()] Using dimorphite-dl to identify protonation sites.\n"
     ]
    },
    {
     "name": "stdout",
     "output_type": "stream",
     "text": [
      "CC12CC1(C)C(=O)N(c1cc(Cl)cc(Cl)c1)C2=O\n",
      "<rdkit.Chem.rdchem.Mol object at 0x7fcaec7f9af0>\n",
      "\n",
      "For help, use: python dimorphite_dl.py --help\n",
      "\n",
      "If you use Dimorphite-DL in your research, please cite:\n",
      "Ropp PJ, Kaminsky JC, Yablonski S, Durrant JD (2019) Dimorphite-DL: An\n",
      "open-source program for enumerating the ionization states of drug-like small\n",
      "molecules. J Cheminform 11:14. doi:10.1186/s13321-019-0336-9.\n",
      "\n",
      "CC12CC1(C)C(=O)N(c1cc(Cl)cc(Cl)c1)C2=O\n",
      "<rdkit.Chem.rdchem.Mol object at 0x7f3b25f2daf0>\n",
      "\n",
      "For help, use: python dimorphite_dl.py --help\n",
      "\n",
      "If you use Dimorphite-DL in your research, please cite:\n",
      "Ropp PJ, Kaminsky JC, Yablonski S, Durrant JD (2019) Dimorphite-DL: An\n",
      "open-source program for enumerating the ionization states of drug-like small\n",
      "molecules. J Cheminform 11:14. doi:10.1186/s13321-019-0336-9.\n",
      "\n",
      "Proposed mol at pH 7.4: CC12CC1(C)C(=O)N(c1cc(Cl)cc(Cl)c1)C2=O\n"
     ]
    },
    {
     "name": "stderr",
     "output_type": "stream",
     "text": [
      "[query.py:297 - calculate_microstate_pka_values()] Using dimorphite-dl to identify protonation sites.\n"
     ]
    },
    {
     "name": "stdout",
     "output_type": "stream",
     "text": [
      "CC(C)c1ccc(S(=O)(=O)O)cc1\n",
      "<rdkit.Chem.rdchem.Mol object at 0x7f4b8fa91af0>\n",
      "\n",
      "For help, use: python dimorphite_dl.py --help\n",
      "\n",
      "If you use Dimorphite-DL in your research, please cite:\n",
      "Ropp PJ, Kaminsky JC, Yablonski S, Durrant JD (2019) Dimorphite-DL: An\n",
      "open-source program for enumerating the ionization states of drug-like small\n",
      "molecules. J Cheminform 11:14. doi:10.1186/s13321-019-0336-9.\n",
      "\n",
      "CC(C)c1ccc(S(=O)(=O)O)cc1\n",
      "<rdkit.Chem.rdchem.Mol object at 0x7fb046c41af0>\n",
      "\n",
      "For help, use: python dimorphite_dl.py --help\n",
      "\n",
      "If you use Dimorphite-DL in your research, please cite:\n",
      "Ropp PJ, Kaminsky JC, Yablonski S, Durrant JD (2019) Dimorphite-DL: An\n",
      "open-source program for enumerating the ionization states of drug-like small\n",
      "molecules. J Cheminform 11:14. doi:10.1186/s13321-019-0336-9.\n",
      "\n",
      "Proposed mol at pH 7.4: CC(C)c1ccc(S(=O)(=O)[O-])cc1\n",
      "#########################\n",
      "Could not identify any ionizable group. Aborting.\n",
      "#########################\n"
     ]
    },
    {
     "name": "stderr",
     "output_type": "stream",
     "text": [
      "[query.py:297 - calculate_microstate_pka_values()] Using dimorphite-dl to identify protonation sites.\n"
     ]
    },
    {
     "name": "stdout",
     "output_type": "stream",
     "text": [
      "CC(=O)CC(C)(C)C1CCCCC1\n",
      "<rdkit.Chem.rdchem.Mol object at 0x7fc7a7f79af0>\n",
      "\n",
      "For help, use: python dimorphite_dl.py --help\n",
      "\n",
      "If you use Dimorphite-DL in your research, please cite:\n",
      "Ropp PJ, Kaminsky JC, Yablonski S, Durrant JD (2019) Dimorphite-DL: An\n",
      "open-source program for enumerating the ionization states of drug-like small\n",
      "molecules. J Cheminform 11:14. doi:10.1186/s13321-019-0336-9.\n",
      "\n",
      "CC(=O)CC(C)(C)C1CCCCC1\n",
      "<rdkit.Chem.rdchem.Mol object at 0x7fe63268daf0>\n",
      "\n",
      "For help, use: python dimorphite_dl.py --help\n",
      "\n",
      "If you use Dimorphite-DL in your research, please cite:\n",
      "Ropp PJ, Kaminsky JC, Yablonski S, Durrant JD (2019) Dimorphite-DL: An\n",
      "open-source program for enumerating the ionization states of drug-like small\n",
      "molecules. J Cheminform 11:14. doi:10.1186/s13321-019-0336-9.\n",
      "\n",
      "Proposed mol at pH 7.4: CC(=O)CC(C)(C)C1CCCCC1\n",
      "#########################\n",
      "Could not identify any ionizable group. Aborting.\n",
      "#########################\n"
     ]
    },
    {
     "name": "stderr",
     "output_type": "stream",
     "text": [
      "[query.py:297 - calculate_microstate_pka_values()] Using dimorphite-dl to identify protonation sites.\n"
     ]
    },
    {
     "name": "stdout",
     "output_type": "stream",
     "text": [
      "COc1ccccc1C=CC=O\n",
      "<rdkit.Chem.rdchem.Mol object at 0x7f8cdb055af0>\n",
      "\n",
      "For help, use: python dimorphite_dl.py --help\n",
      "\n",
      "If you use Dimorphite-DL in your research, please cite:\n",
      "Ropp PJ, Kaminsky JC, Yablonski S, Durrant JD (2019) Dimorphite-DL: An\n",
      "open-source program for enumerating the ionization states of drug-like small\n",
      "molecules. J Cheminform 11:14. doi:10.1186/s13321-019-0336-9.\n",
      "\n",
      "COc1ccccc1C=CC=O\n",
      "<rdkit.Chem.rdchem.Mol object at 0x7ff48e8b9af0>\n",
      "\n",
      "For help, use: python dimorphite_dl.py --help\n",
      "\n",
      "If you use Dimorphite-DL in your research, please cite:\n",
      "Ropp PJ, Kaminsky JC, Yablonski S, Durrant JD (2019) Dimorphite-DL: An\n",
      "open-source program for enumerating the ionization states of drug-like small\n",
      "molecules. J Cheminform 11:14. doi:10.1186/s13321-019-0336-9.\n",
      "\n",
      "Proposed mol at pH 7.4: COc1ccccc1C=CC=O\n",
      "#########################\n",
      "Could not identify any ionizable group. Aborting.\n",
      "#########################\n"
     ]
    },
    {
     "name": "stderr",
     "output_type": "stream",
     "text": [
      "[query.py:297 - calculate_microstate_pka_values()] Using dimorphite-dl to identify protonation sites.\n"
     ]
    },
    {
     "name": "stdout",
     "output_type": "stream",
     "text": [
      "Cc1ccc(C(C)NC(=O)C(NC(=O)OC(C)C)C(C)C)cc1\n",
      "<rdkit.Chem.rdchem.Mol object at 0x7f2c48a7daf0>\n",
      "\n",
      "For help, use: python dimorphite_dl.py --help\n",
      "\n",
      "If you use Dimorphite-DL in your research, please cite:\n",
      "Ropp PJ, Kaminsky JC, Yablonski S, Durrant JD (2019) Dimorphite-DL: An\n",
      "open-source program for enumerating the ionization states of drug-like small\n",
      "molecules. J Cheminform 11:14. doi:10.1186/s13321-019-0336-9.\n",
      "\n",
      "Cc1ccc(C(C)NC(=O)C(NC(=O)OC(C)C)C(C)C)cc1\n",
      "<rdkit.Chem.rdchem.Mol object at 0x7f4448e9daf0>\n",
      "\n",
      "For help, use: python dimorphite_dl.py --help\n",
      "\n",
      "If you use Dimorphite-DL in your research, please cite:\n",
      "Ropp PJ, Kaminsky JC, Yablonski S, Durrant JD (2019) Dimorphite-DL: An\n",
      "open-source program for enumerating the ionization states of drug-like small\n",
      "molecules. J Cheminform 11:14. doi:10.1186/s13321-019-0336-9.\n",
      "\n",
      "Proposed mol at pH 7.4: Cc1ccc(C(C)NC(=O)C(NC(=O)OC(C)C)C(C)C)cc1\n"
     ]
    },
    {
     "name": "stderr",
     "output_type": "stream",
     "text": [
      "[query.py:297 - calculate_microstate_pka_values()] Using dimorphite-dl to identify protonation sites.\n"
     ]
    },
    {
     "name": "stdout",
     "output_type": "stream",
     "text": [
      "CN(C)CCN(Cc1cccs1)c1ccccn1\n",
      "<rdkit.Chem.rdchem.Mol object at 0x7f8066321af0>\n",
      "\n",
      "For help, use: python dimorphite_dl.py --help\n",
      "\n",
      "If you use Dimorphite-DL in your research, please cite:\n",
      "Ropp PJ, Kaminsky JC, Yablonski S, Durrant JD (2019) Dimorphite-DL: An\n",
      "open-source program for enumerating the ionization states of drug-like small\n",
      "molecules. J Cheminform 11:14. doi:10.1186/s13321-019-0336-9.\n",
      "\n",
      "CN(C)CCN(Cc1cccs1)c1ccccn1\n",
      "<rdkit.Chem.rdchem.Mol object at 0x7f5e8ecf1af0>\n",
      "\n",
      "For help, use: python dimorphite_dl.py --help\n",
      "\n",
      "If you use Dimorphite-DL in your research, please cite:\n",
      "Ropp PJ, Kaminsky JC, Yablonski S, Durrant JD (2019) Dimorphite-DL: An\n",
      "open-source program for enumerating the ionization states of drug-like small\n",
      "molecules. J Cheminform 11:14. doi:10.1186/s13321-019-0336-9.\n",
      "\n",
      "Proposed mol at pH 7.4: C[NH+](C)CCN(Cc1cccs1)c1ccccn1\n"
     ]
    },
    {
     "name": "stderr",
     "output_type": "stream",
     "text": [
      "[query.py:297 - calculate_microstate_pka_values()] Using dimorphite-dl to identify protonation sites.\n"
     ]
    },
    {
     "name": "stdout",
     "output_type": "stream",
     "text": [
      "CC(C)CCOCc1ccccc1\n",
      "<rdkit.Chem.rdchem.Mol object at 0x7fb40933daf0>\n",
      "\n",
      "For help, use: python dimorphite_dl.py --help\n",
      "\n",
      "If you use Dimorphite-DL in your research, please cite:\n",
      "Ropp PJ, Kaminsky JC, Yablonski S, Durrant JD (2019) Dimorphite-DL: An\n",
      "open-source program for enumerating the ionization states of drug-like small\n",
      "molecules. J Cheminform 11:14. doi:10.1186/s13321-019-0336-9.\n",
      "\n",
      "CC(C)CCOCc1ccccc1\n",
      "<rdkit.Chem.rdchem.Mol object at 0x7f4d7fce9af0>\n",
      "\n",
      "For help, use: python dimorphite_dl.py --help\n",
      "\n",
      "If you use Dimorphite-DL in your research, please cite:\n",
      "Ropp PJ, Kaminsky JC, Yablonski S, Durrant JD (2019) Dimorphite-DL: An\n",
      "open-source program for enumerating the ionization states of drug-like small\n",
      "molecules. J Cheminform 11:14. doi:10.1186/s13321-019-0336-9.\n",
      "\n",
      "Proposed mol at pH 7.4: CC(C)CCOCc1ccccc1\n",
      "#########################\n",
      "Could not identify any ionizable group. Aborting.\n",
      "#########################\n"
     ]
    },
    {
     "name": "stderr",
     "output_type": "stream",
     "text": [
      "[query.py:297 - calculate_microstate_pka_values()] Using dimorphite-dl to identify protonation sites.\n"
     ]
    },
    {
     "name": "stdout",
     "output_type": "stream",
     "text": [
      "CCC(=O)C1CC(C(C)C)CC=C1C\n",
      "<rdkit.Chem.rdchem.Mol object at 0x7f5c3508daf0>\n",
      "\n",
      "For help, use: python dimorphite_dl.py --help\n",
      "\n",
      "If you use Dimorphite-DL in your research, please cite:\n",
      "Ropp PJ, Kaminsky JC, Yablonski S, Durrant JD (2019) Dimorphite-DL: An\n",
      "open-source program for enumerating the ionization states of drug-like small\n",
      "molecules. J Cheminform 11:14. doi:10.1186/s13321-019-0336-9.\n",
      "\n",
      "CCC(=O)C1CC(C(C)C)CC=C1C\n",
      "<rdkit.Chem.rdchem.Mol object at 0x7f2474ee1af0>\n",
      "\n",
      "For help, use: python dimorphite_dl.py --help\n",
      "\n",
      "If you use Dimorphite-DL in your research, please cite:\n",
      "Ropp PJ, Kaminsky JC, Yablonski S, Durrant JD (2019) Dimorphite-DL: An\n",
      "open-source program for enumerating the ionization states of drug-like small\n",
      "molecules. J Cheminform 11:14. doi:10.1186/s13321-019-0336-9.\n",
      "\n",
      "Proposed mol at pH 7.4: CCC(=O)C1CC(C(C)C)CC=C1C\n",
      "#########################\n",
      "Could not identify any ionizable group. Aborting.\n",
      "#########################\n"
     ]
    },
    {
     "name": "stderr",
     "output_type": "stream",
     "text": [
      "[query.py:297 - calculate_microstate_pka_values()] Using dimorphite-dl to identify protonation sites.\n"
     ]
    },
    {
     "name": "stdout",
     "output_type": "stream",
     "text": [
      "CCCCCCCCc1ccc(S(=O)(=O)O)cc1\n",
      "<rdkit.Chem.rdchem.Mol object at 0x7f1f77931af0>\n",
      "\n",
      "For help, use: python dimorphite_dl.py --help\n",
      "\n",
      "If you use Dimorphite-DL in your research, please cite:\n",
      "Ropp PJ, Kaminsky JC, Yablonski S, Durrant JD (2019) Dimorphite-DL: An\n",
      "open-source program for enumerating the ionization states of drug-like small\n",
      "molecules. J Cheminform 11:14. doi:10.1186/s13321-019-0336-9.\n",
      "\n",
      "CCCCCCCCc1ccc(S(=O)(=O)O)cc1\n",
      "<rdkit.Chem.rdchem.Mol object at 0x7f91df511af0>\n",
      "\n",
      "For help, use: python dimorphite_dl.py --help\n",
      "\n",
      "If you use Dimorphite-DL in your research, please cite:\n",
      "Ropp PJ, Kaminsky JC, Yablonski S, Durrant JD (2019) Dimorphite-DL: An\n",
      "open-source program for enumerating the ionization states of drug-like small\n",
      "molecules. J Cheminform 11:14. doi:10.1186/s13321-019-0336-9.\n",
      "\n",
      "Proposed mol at pH 7.4: CCCCCCCCc1ccc(S(=O)(=O)[O-])cc1\n",
      "#########################\n",
      "Could not identify any ionizable group. Aborting.\n",
      "#########################\n"
     ]
    },
    {
     "name": "stderr",
     "output_type": "stream",
     "text": [
      "[query.py:297 - calculate_microstate_pka_values()] Using dimorphite-dl to identify protonation sites.\n"
     ]
    },
    {
     "name": "stdout",
     "output_type": "stream",
     "text": [
      "CCC=CCCOC(=O)CC\n",
      "<rdkit.Chem.rdchem.Mol object at 0x7f39ae731af0>\n",
      "\n",
      "For help, use: python dimorphite_dl.py --help\n",
      "\n",
      "If you use Dimorphite-DL in your research, please cite:\n",
      "Ropp PJ, Kaminsky JC, Yablonski S, Durrant JD (2019) Dimorphite-DL: An\n",
      "open-source program for enumerating the ionization states of drug-like small\n",
      "molecules. J Cheminform 11:14. doi:10.1186/s13321-019-0336-9.\n",
      "\n",
      "CCC=CCCOC(=O)CC\n",
      "<rdkit.Chem.rdchem.Mol object at 0x7fbd9a305af0>\n",
      "\n",
      "For help, use: python dimorphite_dl.py --help\n",
      "\n",
      "If you use Dimorphite-DL in your research, please cite:\n",
      "Ropp PJ, Kaminsky JC, Yablonski S, Durrant JD (2019) Dimorphite-DL: An\n",
      "open-source program for enumerating the ionization states of drug-like small\n",
      "molecules. J Cheminform 11:14. doi:10.1186/s13321-019-0336-9.\n",
      "\n",
      "Proposed mol at pH 7.4: CCC=CCCOC(=O)CC\n",
      "#########################\n",
      "Could not identify any ionizable group. Aborting.\n",
      "#########################\n"
     ]
    },
    {
     "name": "stderr",
     "output_type": "stream",
     "text": [
      "[query.py:297 - calculate_microstate_pka_values()] Using dimorphite-dl to identify protonation sites.\n"
     ]
    },
    {
     "name": "stdout",
     "output_type": "stream",
     "text": [
      "CCCC1CCOC(C)S1\n",
      "<rdkit.Chem.rdchem.Mol object at 0x7f83a5469af0>\n",
      "\n",
      "For help, use: python dimorphite_dl.py --help\n",
      "\n",
      "If you use Dimorphite-DL in your research, please cite:\n",
      "Ropp PJ, Kaminsky JC, Yablonski S, Durrant JD (2019) Dimorphite-DL: An\n",
      "open-source program for enumerating the ionization states of drug-like small\n",
      "molecules. J Cheminform 11:14. doi:10.1186/s13321-019-0336-9.\n",
      "\n",
      "CCCC1CCOC(C)S1\n",
      "<rdkit.Chem.rdchem.Mol object at 0x7faadf32daf0>\n",
      "\n",
      "For help, use: python dimorphite_dl.py --help\n",
      "\n",
      "If you use Dimorphite-DL in your research, please cite:\n",
      "Ropp PJ, Kaminsky JC, Yablonski S, Durrant JD (2019) Dimorphite-DL: An\n",
      "open-source program for enumerating the ionization states of drug-like small\n",
      "molecules. J Cheminform 11:14. doi:10.1186/s13321-019-0336-9.\n",
      "\n",
      "Proposed mol at pH 7.4: CCCC1CCOC(C)S1\n",
      "#########################\n",
      "Could not identify any ionizable group. Aborting.\n",
      "#########################\n"
     ]
    },
    {
     "name": "stderr",
     "output_type": "stream",
     "text": [
      "[query.py:297 - calculate_microstate_pka_values()] Using dimorphite-dl to identify protonation sites.\n"
     ]
    },
    {
     "name": "stdout",
     "output_type": "stream",
     "text": [
      "SCCCCCCCCS\n",
      "<rdkit.Chem.rdchem.Mol object at 0x7f11f0029af0>\n",
      "\n",
      "For help, use: python dimorphite_dl.py --help\n",
      "\n",
      "If you use Dimorphite-DL in your research, please cite:\n",
      "Ropp PJ, Kaminsky JC, Yablonski S, Durrant JD (2019) Dimorphite-DL: An\n",
      "open-source program for enumerating the ionization states of drug-like small\n",
      "molecules. J Cheminform 11:14. doi:10.1186/s13321-019-0336-9.\n",
      "\n",
      "SCCCCCCCCS\n",
      "<rdkit.Chem.rdchem.Mol object at 0x7f88e9a8daf0>\n",
      "\n",
      "For help, use: python dimorphite_dl.py --help\n",
      "\n",
      "If you use Dimorphite-DL in your research, please cite:\n",
      "Ropp PJ, Kaminsky JC, Yablonski S, Durrant JD (2019) Dimorphite-DL: An\n",
      "open-source program for enumerating the ionization states of drug-like small\n",
      "molecules. J Cheminform 11:14. doi:10.1186/s13321-019-0336-9.\n",
      "\n",
      "Proposed mol at pH 7.4: SCCCCCCCCS\n"
     ]
    },
    {
     "name": "stderr",
     "output_type": "stream",
     "text": [
      "[query.py:297 - calculate_microstate_pka_values()] Using dimorphite-dl to identify protonation sites.\n"
     ]
    },
    {
     "name": "stdout",
     "output_type": "stream",
     "text": [
      "C=C[C@](C)(CCC=C(C)C)OC(=O)CC(C)C\n",
      "<rdkit.Chem.rdchem.Mol object at 0x7f3bc2b31af0>\n",
      "\n",
      "For help, use: python dimorphite_dl.py --help\n",
      "\n",
      "If you use Dimorphite-DL in your research, please cite:\n",
      "Ropp PJ, Kaminsky JC, Yablonski S, Durrant JD (2019) Dimorphite-DL: An\n",
      "open-source program for enumerating the ionization states of drug-like small\n",
      "molecules. J Cheminform 11:14. doi:10.1186/s13321-019-0336-9.\n",
      "\n",
      "C=C[C@](C)(CCC=C(C)C)OC(=O)CC(C)C\n",
      "<rdkit.Chem.rdchem.Mol object at 0x7f221f92daf0>\n",
      "\n",
      "For help, use: python dimorphite_dl.py --help\n",
      "\n",
      "If you use Dimorphite-DL in your research, please cite:\n",
      "Ropp PJ, Kaminsky JC, Yablonski S, Durrant JD (2019) Dimorphite-DL: An\n",
      "open-source program for enumerating the ionization states of drug-like small\n",
      "molecules. J Cheminform 11:14. doi:10.1186/s13321-019-0336-9.\n",
      "\n",
      "Proposed mol at pH 7.4: C=C[C@](C)(CCC=C(C)C)OC(=O)CC(C)C\n",
      "#########################\n",
      "Could not identify any ionizable group. Aborting.\n",
      "#########################\n"
     ]
    },
    {
     "name": "stderr",
     "output_type": "stream",
     "text": [
      "[query.py:297 - calculate_microstate_pka_values()] Using dimorphite-dl to identify protonation sites.\n"
     ]
    },
    {
     "name": "stdout",
     "output_type": "stream",
     "text": [
      "N#CC1(N=NC2(C#N)CCCCC2)CCCCC1\n",
      "<rdkit.Chem.rdchem.Mol object at 0x7fd9a243daf0>\n",
      "\n",
      "For help, use: python dimorphite_dl.py --help\n",
      "\n",
      "If you use Dimorphite-DL in your research, please cite:\n",
      "Ropp PJ, Kaminsky JC, Yablonski S, Durrant JD (2019) Dimorphite-DL: An\n",
      "open-source program for enumerating the ionization states of drug-like small\n",
      "molecules. J Cheminform 11:14. doi:10.1186/s13321-019-0336-9.\n",
      "\n",
      "N#CC1(N=NC2(C#N)CCCCC2)CCCCC1\n",
      "<rdkit.Chem.rdchem.Mol object at 0x7fa936041af0>\n",
      "\n",
      "For help, use: python dimorphite_dl.py --help\n",
      "\n",
      "If you use Dimorphite-DL in your research, please cite:\n",
      "Ropp PJ, Kaminsky JC, Yablonski S, Durrant JD (2019) Dimorphite-DL: An\n",
      "open-source program for enumerating the ionization states of drug-like small\n",
      "molecules. J Cheminform 11:14. doi:10.1186/s13321-019-0336-9.\n",
      "\n",
      "Proposed mol at pH 7.4: N#CC1(N=NC2(C#N)CCCCC2)CCCCC1\n",
      "#########################\n",
      "Could not identify any ionizable group. Aborting.\n",
      "#########################\n"
     ]
    },
    {
     "name": "stderr",
     "output_type": "stream",
     "text": [
      "[query.py:297 - calculate_microstate_pka_values()] Using dimorphite-dl to identify protonation sites.\n"
     ]
    },
    {
     "name": "stdout",
     "output_type": "stream",
     "text": [
      "N#CCCN(CCO)CCO\n",
      "<rdkit.Chem.rdchem.Mol object at 0x7f0d30e45af0>\n",
      "\n",
      "For help, use: python dimorphite_dl.py --help\n",
      "\n",
      "If you use Dimorphite-DL in your research, please cite:\n",
      "Ropp PJ, Kaminsky JC, Yablonski S, Durrant JD (2019) Dimorphite-DL: An\n",
      "open-source program for enumerating the ionization states of drug-like small\n",
      "molecules. J Cheminform 11:14. doi:10.1186/s13321-019-0336-9.\n",
      "\n",
      "N#CCCN(CCO)CCO\n",
      "<rdkit.Chem.rdchem.Mol object at 0x7f4530225af0>\n",
      "\n",
      "For help, use: python dimorphite_dl.py --help\n",
      "\n",
      "If you use Dimorphite-DL in your research, please cite:\n",
      "Ropp PJ, Kaminsky JC, Yablonski S, Durrant JD (2019) Dimorphite-DL: An\n",
      "open-source program for enumerating the ionization states of drug-like small\n",
      "molecules. J Cheminform 11:14. doi:10.1186/s13321-019-0336-9.\n",
      "\n",
      "Proposed mol at pH 7.4: N#CCC[NH+](CCO)CCO\n"
     ]
    },
    {
     "name": "stderr",
     "output_type": "stream",
     "text": [
      "[query.py:297 - calculate_microstate_pka_values()] Using dimorphite-dl to identify protonation sites.\n"
     ]
    },
    {
     "name": "stdout",
     "output_type": "stream",
     "text": [
      "N#Cc1ccc([C@H]2CCCc3cncn32)cc1\n",
      "<rdkit.Chem.rdchem.Mol object at 0x7fb3ba315af0>\n",
      "\n",
      "For help, use: python dimorphite_dl.py --help\n",
      "\n",
      "If you use Dimorphite-DL in your research, please cite:\n",
      "Ropp PJ, Kaminsky JC, Yablonski S, Durrant JD (2019) Dimorphite-DL: An\n",
      "open-source program for enumerating the ionization states of drug-like small\n",
      "molecules. J Cheminform 11:14. doi:10.1186/s13321-019-0336-9.\n",
      "\n",
      "N#Cc1ccc([C@H]2CCCc3cncn32)cc1\n",
      "<rdkit.Chem.rdchem.Mol object at 0x7f0a42325af0>\n",
      "\n",
      "For help, use: python dimorphite_dl.py --help\n",
      "\n",
      "If you use Dimorphite-DL in your research, please cite:\n",
      "Ropp PJ, Kaminsky JC, Yablonski S, Durrant JD (2019) Dimorphite-DL: An\n",
      "open-source program for enumerating the ionization states of drug-like small\n",
      "molecules. J Cheminform 11:14. doi:10.1186/s13321-019-0336-9.\n",
      "\n",
      "Proposed mol at pH 7.4: N#Cc1ccc([C@H]2CCCc3cncn32)cc1\n"
     ]
    },
    {
     "name": "stderr",
     "output_type": "stream",
     "text": [
      "[query.py:297 - calculate_microstate_pka_values()] Using dimorphite-dl to identify protonation sites.\n"
     ]
    },
    {
     "name": "stdout",
     "output_type": "stream",
     "text": [
      "CN(C)CCC=C1c2ccccc2CCc2ccccc21\n",
      "<rdkit.Chem.rdchem.Mol object at 0x7f6b35bfdaf0>\n",
      "\n",
      "For help, use: python dimorphite_dl.py --help\n",
      "\n",
      "If you use Dimorphite-DL in your research, please cite:\n",
      "Ropp PJ, Kaminsky JC, Yablonski S, Durrant JD (2019) Dimorphite-DL: An\n",
      "open-source program for enumerating the ionization states of drug-like small\n",
      "molecules. J Cheminform 11:14. doi:10.1186/s13321-019-0336-9.\n",
      "\n",
      "CN(C)CCC=C1c2ccccc2CCc2ccccc21\n",
      "<rdkit.Chem.rdchem.Mol object at 0x7fd98df1daf0>\n",
      "\n",
      "For help, use: python dimorphite_dl.py --help\n",
      "\n",
      "If you use Dimorphite-DL in your research, please cite:\n",
      "Ropp PJ, Kaminsky JC, Yablonski S, Durrant JD (2019) Dimorphite-DL: An\n",
      "open-source program for enumerating the ionization states of drug-like small\n",
      "molecules. J Cheminform 11:14. doi:10.1186/s13321-019-0336-9.\n",
      "\n",
      "Proposed mol at pH 7.4: C[NH+](C)CCC=C1c2ccccc2CCc2ccccc21\n"
     ]
    },
    {
     "name": "stderr",
     "output_type": "stream",
     "text": [
      "[query.py:297 - calculate_microstate_pka_values()] Using dimorphite-dl to identify protonation sites.\n"
     ]
    },
    {
     "name": "stdout",
     "output_type": "stream",
     "text": [
      "CC(=Cc1ccccc1)[N+](=O)[O-]\n",
      "<rdkit.Chem.rdchem.Mol object at 0x7fc85a6edaf0>\n",
      "\n",
      "For help, use: python dimorphite_dl.py --help\n",
      "\n",
      "If you use Dimorphite-DL in your research, please cite:\n",
      "Ropp PJ, Kaminsky JC, Yablonski S, Durrant JD (2019) Dimorphite-DL: An\n",
      "open-source program for enumerating the ionization states of drug-like small\n",
      "molecules. J Cheminform 11:14. doi:10.1186/s13321-019-0336-9.\n",
      "\n",
      "CC(=Cc1ccccc1)[N+](=O)[O-]\n",
      "<rdkit.Chem.rdchem.Mol object at 0x7fe05787daf0>\n",
      "\n",
      "For help, use: python dimorphite_dl.py --help\n",
      "\n",
      "If you use Dimorphite-DL in your research, please cite:\n",
      "Ropp PJ, Kaminsky JC, Yablonski S, Durrant JD (2019) Dimorphite-DL: An\n",
      "open-source program for enumerating the ionization states of drug-like small\n",
      "molecules. J Cheminform 11:14. doi:10.1186/s13321-019-0336-9.\n",
      "\n",
      "Proposed mol at pH 7.4: CC(=Cc1ccccc1)[N+](=O)[O-]\n",
      "#########################\n",
      "Could not identify any ionizable group. Aborting.\n",
      "#########################\n"
     ]
    },
    {
     "name": "stderr",
     "output_type": "stream",
     "text": [
      "[query.py:297 - calculate_microstate_pka_values()] Using dimorphite-dl to identify protonation sites.\n"
     ]
    },
    {
     "name": "stdout",
     "output_type": "stream",
     "text": [
      "C=COCC1CCC(CO)CC1\n",
      "<rdkit.Chem.rdchem.Mol object at 0x7f1744041af0>\n",
      "\n",
      "For help, use: python dimorphite_dl.py --help\n",
      "\n",
      "If you use Dimorphite-DL in your research, please cite:\n",
      "Ropp PJ, Kaminsky JC, Yablonski S, Durrant JD (2019) Dimorphite-DL: An\n",
      "open-source program for enumerating the ionization states of drug-like small\n",
      "molecules. J Cheminform 11:14. doi:10.1186/s13321-019-0336-9.\n",
      "\n",
      "C=COCC1CCC(CO)CC1\n",
      "<rdkit.Chem.rdchem.Mol object at 0x7fd67d52daf0>\n",
      "\n",
      "For help, use: python dimorphite_dl.py --help\n",
      "\n",
      "If you use Dimorphite-DL in your research, please cite:\n",
      "Ropp PJ, Kaminsky JC, Yablonski S, Durrant JD (2019) Dimorphite-DL: An\n",
      "open-source program for enumerating the ionization states of drug-like small\n",
      "molecules. J Cheminform 11:14. doi:10.1186/s13321-019-0336-9.\n",
      "\n",
      "Proposed mol at pH 7.4: C=COCC1CCC(CO)CC1\n"
     ]
    },
    {
     "name": "stderr",
     "output_type": "stream",
     "text": [
      "[query.py:297 - calculate_microstate_pka_values()] Using dimorphite-dl to identify protonation sites.\n"
     ]
    },
    {
     "name": "stdout",
     "output_type": "stream",
     "text": [
      "CCC(=CC(=NO)C(N)=O)[C@H](C)[N+](=O)[O-]\n",
      "<rdkit.Chem.rdchem.Mol object at 0x7ff67321daf0>\n",
      "\n",
      "For help, use: python dimorphite_dl.py --help\n",
      "\n",
      "If you use Dimorphite-DL in your research, please cite:\n",
      "Ropp PJ, Kaminsky JC, Yablonski S, Durrant JD (2019) Dimorphite-DL: An\n",
      "open-source program for enumerating the ionization states of drug-like small\n",
      "molecules. J Cheminform 11:14. doi:10.1186/s13321-019-0336-9.\n",
      "\n",
      "CCC(=CC(=NO)C(N)=O)[C@H](C)[N+](=O)[O-]\n",
      "<rdkit.Chem.rdchem.Mol object at 0x7f8a1632daf0>\n",
      "\n",
      "For help, use: python dimorphite_dl.py --help\n",
      "\n",
      "If you use Dimorphite-DL in your research, please cite:\n",
      "Ropp PJ, Kaminsky JC, Yablonski S, Durrant JD (2019) Dimorphite-DL: An\n",
      "open-source program for enumerating the ionization states of drug-like small\n",
      "molecules. J Cheminform 11:14. doi:10.1186/s13321-019-0336-9.\n",
      "\n",
      "Proposed mol at pH 7.4: CCC(=CC(=NO)C(N)=O)[C@H](C)[N+](=O)[O-]\n"
     ]
    }
   ],
   "source": [
    "if (w_dir / 'temp' / 'final_library.sdf').is_file() == False:\n",
    "    prepare_library(docking_library, id_column, software, protonation, ncpus)"
   ]
  },
  {
   "attachments": {},
   "cell_type": "markdown",
   "metadata": {},
   "source": [
    "**Docking**\n",
    "\n",
    "This cell will dock all compounds in the receptor, using the reference ligand as a way to define the binding site. (Note: DogSiteScorer not yet implemented here).\n",
    "\n",
    "The docking algorithms specified in the 'docking' variable will be used.\n",
    "\n",
    "The docking will be done in on parallel CPU cores depending on the value or the 'parallel' variable.\n",
    "\n",
    "The docking results are written to the temporary folder. "
   ]
  },
  {
   "cell_type": "code",
   "execution_count": null,
   "metadata": {},
   "outputs": [],
   "source": [
    "docking(w_dir, protein_file, pocket_definition, software, docking_programs, exhaustiveness, n_poses, 5)"
   ]
  },
  {
   "attachments": {},
   "cell_type": "markdown",
   "metadata": {},
   "source": [
    "All poses are then loaded into memory for clustering"
   ]
  },
  {
   "cell_type": "code",
   "execution_count": null,
   "metadata": {},
   "outputs": [],
   "source": [
    "print('Loading all poses SDF file...')\n",
    "tic = time.perf_counter()\n",
    "all_poses = PandasTools.LoadSDF(str(w_dir / 'temp' / 'allposes.sdf'), idName='Pose ID', molColName='Molecule', includeFingerprints=False, strictParsing=True)\n",
    "toc = time.perf_counter()\n",
    "print(f'Finished loading all poses SDF in {toc-tic:0.4f}!...')"
   ]
  },
  {
   "attachments": {},
   "cell_type": "markdown",
   "metadata": {},
   "source": [
    "**Clustering**\n",
    "\n",
    "This cell will perform the clustering according to the values of the 'clusering_metrics', 'clustering_method' and 'parallel' variables. If it detects that the clustering file for that metric has already been generated, it will skip it."
   ]
  },
  {
   "cell_type": "code",
   "execution_count": null,
   "metadata": {},
   "outputs": [],
   "source": [
    "for metric in clustering_metrics:\n",
    "        if os.path.isfile(w_dir/'temp'/'clustering/'f'{metric}_clustered.sdf') == False:\n",
    "            cluster_pebble(metric, 'KMedoids', w_dir, protein_file, all_poses, ncpus)"
   ]
  },
  {
   "attachments": {},
   "cell_type": "markdown",
   "metadata": {},
   "source": [
    "**Rescoring**\n",
    "\n",
    "This cell will rescore all the clustered .sdf files according to the specified scoring functions and the value of the 'parallel' variable."
   ]
  },
  {
   "cell_type": "code",
   "execution_count": null,
   "metadata": {},
   "outputs": [],
   "source": [
    "for metric in clustering_metrics:\n",
    "        rescore_all(w_dir, protein_file, pocket_definition, software, w_dir / 'temp' / 'clustering' / f'{metric}_clustered.sdf', rescoring_functions, ncpus)\n"
   ]
  },
  {
   "attachments": {},
   "cell_type": "markdown",
   "metadata": {},
   "source": [
    "**Final ranking methods**\n",
    "\n",
    "This code calculates the final ranking of compounds using various methods.\n",
    "- *Method 1* : Calculates ECR value for each cluster center, then outputs the top ranked center.\n",
    "- *Method 2* : Calculates ECR value for each cluster center, then outputs the average ECR value for each compound.\n",
    "- *Method 3* : Calculates the average rank of each compound, then ouputs the corresponding ECR value for each compound.\n",
    "- *Method 4* : Calculates the Rank by Rank consensus\n",
    "- *Method 5* : Calculates the Rank by Vote consensus\n",
    "- *Method 6* : Calculates Z-score for each cluster center, then ouputs the top ranked center.\n",
    "- *Method 7* : Calculates Z-score for each cluster center, then ouputs the average Z-score for each compound.\n",
    "\n",
    "All methods are then combined into a single dataframe for comparison purposes."
   ]
  },
  {
   "cell_type": "code",
   "execution_count": null,
   "metadata": {},
   "outputs": [],
   "source": [
    "calculate_EF_single_functions(w_dir, docking_library, clustering_metrics)\n",
    "apply_consensus_methods_combinations(w_dir, docking_library, clustering_metrics)"
   ]
  }
 ],
 "metadata": {
  "kernelspec": {
   "display_name": "Python 3.8.13 ('wocondock')",
   "language": "python",
   "name": "python3"
  },
  "language_info": {
   "codemirror_mode": {
    "name": "ipython",
    "version": 3
   },
   "file_extension": ".py",
   "mimetype": "text/x-python",
   "name": "python",
   "nbconvert_exporter": "python",
   "pygments_lexer": "ipython3",
   "version": "3.10.12"
  },
  "orig_nbformat": 4,
  "vscode": {
   "interpreter": {
    "hash": "ac9acbc93af693fb4e01b586b9d883cf48eab2850c268069ebbf85c5f9fbe2b9"
   }
  }
 },
 "nbformat": 4,
 "nbformat_minor": 2
}
