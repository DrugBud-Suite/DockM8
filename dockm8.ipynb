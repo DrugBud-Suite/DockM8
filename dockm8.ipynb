{
 "cells": [
  {
   "attachments": {},
   "cell_type": "markdown",
   "metadata": {},
   "source": [
    "**Import required libraries and scripts**"
   ]
  },
  {
   "cell_type": "code",
   "execution_count": 1,
   "metadata": {},
   "outputs": [
    {
     "name": "stderr",
     "output_type": "stream",
     "text": [
      "[14:18:12] Initializing Normalizer\n"
     ]
    }
   ],
   "source": [
    "#Import required libraries and scripts\n",
    "from scripts.library_preparation import *\n",
    "from scripts.utilities import *\n",
    "from scripts.docking_functions import *\n",
    "from scripts.clustering_functions import *\n",
    "from scripts.rescoring_functions import *\n",
    "from scripts.consensus_methods import *\n",
    "from scripts.performance_calculation import *\n",
    "from scripts.dogsitescorer import *\n",
    "from scripts.get_pocket import *"
   ]
  },
  {
   "cell_type": "code",
   "execution_count": 2,
   "metadata": {},
   "outputs": [],
   "source": [
    "protein_name = 'protein.pdb'\n",
    "ligand_library = 'library.sdf'\n",
    "reference_ligand = 'ref.sdf'"
   ]
  },
  {
   "cell_type": "code",
   "execution_count": 3,
   "metadata": {},
   "outputs": [],
   "source": [
    "HERE = Path(_dh[-1])\n",
    "DATA = (HERE / \"wocondock_main\")\n",
    "\n",
    "\n",
    "# Move input data (protein pdb, docking library and reference ligand) to data directory\n",
    "software = str(HERE / \"software\")\n",
    "protein_file = str(DATA / protein_name)\n",
    "docking_library = str(DATA / ligand_library)\n",
    "ref_file = str(DATA / reference_ligand)"
   ]
  },
  {
   "attachments": {},
   "cell_type": "markdown",
   "metadata": {},
   "source": [
    "**Set up**\n",
    "- **software**: The path to the software folder.\n",
    "- **proteinfile**: The path to the protein file (.pdb).\n",
    "- **pocket**: The method to use for pocket determination. Must be one of 'reference' or 'dogsitescorer'.\n",
    "- **dockinglibrary: The path to the docking library file (.sdf).\n",
    "- **idcolumn**: The unique identifier column used in the docking library.\n",
    "- **protonation**: The method to use for compound protonation. Must be one of 'pkasolver', 'GypsumDL', or 'None'.\n",
    "- **docking**: The method(s) to use for docking. Must be one or more of 'GNINA', 'SMINA', or 'PLANTS'.\n",
    "- **metric**: The method(s) to use for pose clustering. Must be one or more of 'RMSD', 'spyRMSD', 'espsim', 'USRCAT', '3DScore', 'bestpose', 'bestpose_GNINA', 'bestpose_SMINA', or 'bestpose_PLANTS'.\n",
    "- **nposes**: The number of poses to generate for each docking software. Default=10\n",
    "- **exhaustiveness**: The precision used if docking with SMINA/GNINA. Default=8\n",
    "- **parallel**: Whether or not to run the workflow in parallel. Default=1 (on). Can be set to 1 (on) or 0 (off).\n",
    "- **ncpus**: The number of cpus to use for the workflow. Default behavior is to use half of the available cpus.\n",
    "- **clustering**: Which algorithm to use for clustering. Must be one of 'KMedoids', 'Aff_prop'.\n",
    "- **rescoring**: Which scoring functions to use for rescoring. Must be one or more of 'gnina', 'AD4', 'chemplp', 'rfscorevs', 'LinF9', 'vinardo', 'plp', 'AAScore'.\n",
    "\n",
    "The software will then create a temporary directory to store the output of the various functions."
   ]
  },
  {
   "cell_type": "code",
   "execution_count": 4,
   "metadata": {},
   "outputs": [
    {
     "name": "stdout",
     "output_type": "stream",
     "text": [
      "The working directory has been set to: /home/ibrahim/Gitlab/DockM8/wocondock_main\n"
     ]
    }
   ],
   "source": [
    "pocket = 'reference'\n",
    "protonation = 'pkasolver'\n",
    "docking_programs = ['GNINA', 'SMINA', 'PLANTS']\n",
    "clustering_metrics = ['RMSD', 'spyRMSD', 'espsim', 'bestpose', 'bestpose_PLANTS', 'bestpose_GNINA', 'bestpose_SMINA']\n",
    "clustering_method = 'KMedoids'\n",
    "rescoring= ['gnina', 'AD4', 'chemplp', 'rfscorevs', 'LinF9', 'RTMScore', 'vinardo', 'SCORCH']\n",
    "id_column = 'ID'\n",
    "n_poses = 10\n",
    "exhaustiveness = 8\n",
    "ncpus = 14\n",
    "#Create a temporary folder for all further calculations\n",
    "w_dir = Path(protein_file).parent\n",
    "print('The working directory has been set to:', w_dir)\n",
    "(DATA/'temp').mkdir(exist_ok=True)"
   ]
  },
  {
   "attachments": {},
   "cell_type": "markdown",
   "metadata": {},
   "source": [
    "**Pocket Extraction**  \n",
    "\n",
    "This cell will extract the pocket based on the method specified in the 'pocket' variable. Using 'reference' will use the reference ligand to define the pocket. Using 'dogsitescore' will query the dogsitescorer server and use the pocket with the largest volume."
   ]
  },
  {
   "cell_type": "code",
   "execution_count": 5,
   "metadata": {},
   "outputs": [
    {
     "name": "stdout",
     "output_type": "stream",
     "text": [
      "\n",
      "[2023-Jun-28 14:18:20]: Extracting pocket from /home/ibrahim/Gitlab/DockM8/wocondock_main/protein.pdb using /home/ibrahim/Gitlab/DockM8/wocondock_main/ref.sdf as reference ligand\n",
      "\n",
      "[2023-Jun-28 14:18:29]: Finished extracting pocket from /home/ibrahim/Gitlab/DockM8/wocondock_main/protein.pdb using /home/ibrahim/Gitlab/DockM8/wocondock_main/ref.sdf as reference ligand\n",
      "{'center': [16.7, -2.69, 17.61], 'size': [20.0, 20.0, 20.0]}\n"
     ]
    }
   ],
   "source": [
    "if pocket == 'reference':\n",
    "    pocket_definition = get_pocket(ref_file, protein_file, 10)\n",
    "    print(pocket_definition)\n",
    "if pocket == 'RoG':\n",
    "    pocket_definition = get_pocket_RoG(ref_file, protein_file)\n",
    "    print(pocket_definition)\n",
    "elif pocket == 'dogsitescorer':\n",
    "    pocket_definition = binding_site_coordinates_dogsitescorer(protein_file, w_dir, method='volume')"
   ]
  },
  {
   "attachments": {},
   "cell_type": "markdown",
   "metadata": {},
   "source": [
    "**Library preparation**  "
   ]
  },
  {
   "cell_type": "code",
   "execution_count": 18,
   "metadata": {},
   "outputs": [
    {
     "name": "stdout",
     "output_type": "stream",
     "text": [
      "\n",
      "[2023-Jun-28 13:44:19]: Standardizing docking library using ChemBL Structure Pipeline...\n"
     ]
    },
    {
     "name": "stderr",
     "output_type": "stream",
     "text": [
      "Standardizing molecules: 100%|██████████| 10/10 [00:00<00:00, 174.41mol/s]\n"
     ]
    },
    {
     "name": "stdout",
     "output_type": "stream",
     "text": [
      "\n",
      "[2023-Jun-28 13:44:19]: Standardization of compound library finished: Started with 10, ended with 10 : 0 compounds lost\n",
      "\n",
      "[2023-Jun-28 13:44:19]: Calculating protonation states using pkaSolver...\n"
     ]
    },
    {
     "name": "stderr",
     "output_type": "stream",
     "text": [
      "[query.py:297 - calculate_microstate_pka_values()] Using dimorphite-dl to identify protonation sites.\n"
     ]
    },
    {
     "name": "stdout",
     "output_type": "stream",
     "text": [
      "CN(C)c1nc(Cc2nnn[nH]2)cs1\n",
      "<rdkit.Chem.rdchem.Mol object at 0x7f830781f060>\n",
      "\n",
      "For help, use: python dimorphite_dl.py --help\n",
      "\n",
      "If you use Dimorphite-DL in your research, please cite:\n",
      "Ropp PJ, Kaminsky JC, Yablonski S, Durrant JD (2019) Dimorphite-DL: An\n",
      "open-source program for enumerating the ionization states of drug-like small\n",
      "molecules. J Cheminform 11:14. doi:10.1186/s13321-019-0336-9.\n",
      "\n",
      "CN(C)c1nc(Cc2nnn[nH]2)cs1\n",
      "<rdkit.Chem.rdchem.Mol object at 0x7f9d212e7060>\n",
      "\n",
      "For help, use: python dimorphite_dl.py --help\n",
      "\n",
      "If you use Dimorphite-DL in your research, please cite:\n",
      "Ropp PJ, Kaminsky JC, Yablonski S, Durrant JD (2019) Dimorphite-DL: An\n",
      "open-source program for enumerating the ionization states of drug-like small\n",
      "molecules. J Cheminform 11:14. doi:10.1186/s13321-019-0336-9.\n",
      "\n",
      "Proposed mol at pH 7.4: CN(C)c1nc(Cc2nnn[nH]2)cs1\n"
     ]
    },
    {
     "name": "stderr",
     "output_type": "stream",
     "text": [
      "[query.py:297 - calculate_microstate_pka_values()] Using dimorphite-dl to identify protonation sites.\n"
     ]
    },
    {
     "name": "stdout",
     "output_type": "stream",
     "text": [
      "Cc1nc(SCc2cc(=O)n3ccsc3n2)c2ccccc2n1\n",
      "<rdkit.Chem.rdchem.Mol object at 0x7f81f7097060>\n",
      "\n",
      "For help, use: python dimorphite_dl.py --help\n",
      "\n",
      "If you use Dimorphite-DL in your research, please cite:\n",
      "Ropp PJ, Kaminsky JC, Yablonski S, Durrant JD (2019) Dimorphite-DL: An\n",
      "open-source program for enumerating the ionization states of drug-like small\n",
      "molecules. J Cheminform 11:14. doi:10.1186/s13321-019-0336-9.\n",
      "\n",
      "Cc1nc(SCc2cc(=O)n3ccsc3n2)c2ccccc2n1\n",
      "<rdkit.Chem.rdchem.Mol object at 0x7fbc2aa63060>\n",
      "\n",
      "For help, use: python dimorphite_dl.py --help\n",
      "\n",
      "If you use Dimorphite-DL in your research, please cite:\n",
      "Ropp PJ, Kaminsky JC, Yablonski S, Durrant JD (2019) Dimorphite-DL: An\n",
      "open-source program for enumerating the ionization states of drug-like small\n",
      "molecules. J Cheminform 11:14. doi:10.1186/s13321-019-0336-9.\n",
      "\n",
      "WARNING: Skipping poorly formed SMILES string: Cc1nc(SCc2cc(=O)[n+]3ccsc3n2)c2ccccc2n1\n",
      "WARNING: Skipping poorly formed SMILES string: Cc1nc2ccccc2c(SCc2cc(=O)[n+]3ccsc3n2)[nH+]1\n",
      "WARNING: Skipping poorly formed SMILES string: Cc1nc(SCc2cc(=O)[n+]3ccsc3n2)c2ccccc2n1\n",
      "WARNING: Skipping poorly formed SMILES string: Cc1nc2ccccc2c(SCc2cc(=O)[n+]3ccsc3n2)[nH+]1\n",
      "Proposed mol at pH 7.4: Cc1nc(SCc2cc(=O)n3ccsc3n2)c2ccccc2n1\n"
     ]
    },
    {
     "name": "stderr",
     "output_type": "stream",
     "text": [
      "[query.py:297 - calculate_microstate_pka_values()] Using dimorphite-dl to identify protonation sites.\n"
     ]
    },
    {
     "name": "stdout",
     "output_type": "stream",
     "text": [
      "Cn1cccc1C(=O)OCc1ccccc1C#N\n",
      "<rdkit.Chem.rdchem.Mol object at 0x7fbbe9bc7060>\n",
      "\n",
      "For help, use: python dimorphite_dl.py --help\n",
      "\n",
      "If you use Dimorphite-DL in your research, please cite:\n",
      "Ropp PJ, Kaminsky JC, Yablonski S, Durrant JD (2019) Dimorphite-DL: An\n",
      "open-source program for enumerating the ionization states of drug-like small\n",
      "molecules. J Cheminform 11:14. doi:10.1186/s13321-019-0336-9.\n",
      "\n",
      "Cn1cccc1C(=O)OCc1ccccc1C#N\n",
      "<rdkit.Chem.rdchem.Mol object at 0x7fa454f8f060>\n",
      "\n",
      "For help, use: python dimorphite_dl.py --help\n",
      "\n",
      "If you use Dimorphite-DL in your research, please cite:\n",
      "Ropp PJ, Kaminsky JC, Yablonski S, Durrant JD (2019) Dimorphite-DL: An\n",
      "open-source program for enumerating the ionization states of drug-like small\n",
      "molecules. J Cheminform 11:14. doi:10.1186/s13321-019-0336-9.\n",
      "\n",
      "Proposed mol at pH 7.4: Cn1cccc1C(=O)OCc1ccccc1C#N\n",
      "#########################\n",
      "Could not identify any ionizable group. Aborting.\n",
      "#########################\n"
     ]
    },
    {
     "name": "stderr",
     "output_type": "stream",
     "text": [
      "[query.py:297 - calculate_microstate_pka_values()] Using dimorphite-dl to identify protonation sites.\n"
     ]
    },
    {
     "name": "stdout",
     "output_type": "stream",
     "text": [
      "C[C@H](OC(=O)c1cc2c(s1)CCC2)c1nc2ccccc2c(=O)[nH]1\n",
      "<rdkit.Chem.rdchem.Mol object at 0x7f036f0c3140>\n",
      "\n",
      "For help, use: python dimorphite_dl.py --help\n",
      "\n",
      "If you use Dimorphite-DL in your research, please cite:\n",
      "Ropp PJ, Kaminsky JC, Yablonski S, Durrant JD (2019) Dimorphite-DL: An\n",
      "open-source program for enumerating the ionization states of drug-like small\n",
      "molecules. J Cheminform 11:14. doi:10.1186/s13321-019-0336-9.\n",
      "\n",
      "C[C@H](OC(=O)c1cc2c(s1)CCC2)c1nc2ccccc2c(=O)[nH]1\n",
      "<rdkit.Chem.rdchem.Mol object at 0x7f38b3a33140>\n",
      "\n",
      "For help, use: python dimorphite_dl.py --help\n",
      "\n",
      "If you use Dimorphite-DL in your research, please cite:\n",
      "Ropp PJ, Kaminsky JC, Yablonski S, Durrant JD (2019) Dimorphite-DL: An\n",
      "open-source program for enumerating the ionization states of drug-like small\n",
      "molecules. J Cheminform 11:14. doi:10.1186/s13321-019-0336-9.\n",
      "\n",
      "Proposed mol at pH 7.4: C[C@H](OC(=O)c1cc2c(s1)CCC2)c1nc2ccccc2c(=O)[nH]1\n"
     ]
    },
    {
     "name": "stderr",
     "output_type": "stream",
     "text": [
      "[query.py:297 - calculate_microstate_pka_values()] Using dimorphite-dl to identify protonation sites.\n"
     ]
    },
    {
     "name": "stdout",
     "output_type": "stream",
     "text": [
      "CC(=O)NCc1ccc(C(=O)COC(=O)c2cc3c(s2)CCCCC3)o1\n",
      "<rdkit.Chem.rdchem.Mol object at 0x7f4207c0f060>\n",
      "\n",
      "For help, use: python dimorphite_dl.py --help\n",
      "\n",
      "If you use Dimorphite-DL in your research, please cite:\n",
      "Ropp PJ, Kaminsky JC, Yablonski S, Durrant JD (2019) Dimorphite-DL: An\n",
      "open-source program for enumerating the ionization states of drug-like small\n",
      "molecules. J Cheminform 11:14. doi:10.1186/s13321-019-0336-9.\n",
      "\n",
      "CC(=O)NCc1ccc(C(=O)COC(=O)c2cc3c(s2)CCCCC3)o1\n",
      "<rdkit.Chem.rdchem.Mol object at 0x7f8c5aaaf060>\n",
      "\n",
      "For help, use: python dimorphite_dl.py --help\n",
      "\n",
      "If you use Dimorphite-DL in your research, please cite:\n",
      "Ropp PJ, Kaminsky JC, Yablonski S, Durrant JD (2019) Dimorphite-DL: An\n",
      "open-source program for enumerating the ionization states of drug-like small\n",
      "molecules. J Cheminform 11:14. doi:10.1186/s13321-019-0336-9.\n",
      "\n",
      "Proposed mol at pH 7.4: CC(=O)NCc1ccc(C(=O)COC(=O)c2cc3c(s2)CCCCC3)o1\n"
     ]
    },
    {
     "name": "stderr",
     "output_type": "stream",
     "text": [
      "[query.py:297 - calculate_microstate_pka_values()] Using dimorphite-dl to identify protonation sites.\n"
     ]
    },
    {
     "name": "stdout",
     "output_type": "stream",
     "text": [
      "CCN(C(=O)COc1cccc(-n2cnnn2)c1)c1cccc2ccccc12\n",
      "<rdkit.Chem.rdchem.Mol object at 0x7f3810847060>\n",
      "\n",
      "For help, use: python dimorphite_dl.py --help\n",
      "\n",
      "If you use Dimorphite-DL in your research, please cite:\n",
      "Ropp PJ, Kaminsky JC, Yablonski S, Durrant JD (2019) Dimorphite-DL: An\n",
      "open-source program for enumerating the ionization states of drug-like small\n",
      "molecules. J Cheminform 11:14. doi:10.1186/s13321-019-0336-9.\n",
      "\n",
      "CCN(C(=O)COc1cccc(-n2cnnn2)c1)c1cccc2ccccc12\n",
      "<rdkit.Chem.rdchem.Mol object at 0x7efc9304f060>\n",
      "\n",
      "For help, use: python dimorphite_dl.py --help\n",
      "\n",
      "If you use Dimorphite-DL in your research, please cite:\n",
      "Ropp PJ, Kaminsky JC, Yablonski S, Durrant JD (2019) Dimorphite-DL: An\n",
      "open-source program for enumerating the ionization states of drug-like small\n",
      "molecules. J Cheminform 11:14. doi:10.1186/s13321-019-0336-9.\n",
      "\n",
      "WARNING: Skipping poorly formed SMILES string: CCN(C(=O)COc1cccc(-[n+]2cnnn2)c1)c1cccc2ccccc12\n",
      "WARNING: Skipping poorly formed SMILES string: CC[NH+](C(=O)COc1cccc(-[n+]2cnnn2)c1)c1cccc2ccccc12\n",
      "WARNING: Skipping poorly formed SMILES string: CCN(C(=O)COc1cccc(-[n+]2cnnn2)c1)c1cccc2ccccc12\n",
      "WARNING: Skipping poorly formed SMILES string: CC[NH+](C(=O)COc1cccc(-[n+]2cnnn2)c1)c1cccc2ccccc12\n",
      "Proposed mol at pH 7.4: CCN(C(=O)COc1cccc(-n2cnnn2)c1)c1cccc2ccccc12\n"
     ]
    },
    {
     "name": "stderr",
     "output_type": "stream",
     "text": [
      "[query.py:297 - calculate_microstate_pka_values()] Using dimorphite-dl to identify protonation sites.\n"
     ]
    },
    {
     "name": "stdout",
     "output_type": "stream",
     "text": [
      "Cn1c(Cc2ccccc2)nnc1SCc1nc2ccsc2c(=O)[nH]1\n",
      "<rdkit.Chem.rdchem.Mol object at 0x7f3835f4f060>\n",
      "\n",
      "For help, use: python dimorphite_dl.py --help\n",
      "\n",
      "If you use Dimorphite-DL in your research, please cite:\n",
      "Ropp PJ, Kaminsky JC, Yablonski S, Durrant JD (2019) Dimorphite-DL: An\n",
      "open-source program for enumerating the ionization states of drug-like small\n",
      "molecules. J Cheminform 11:14. doi:10.1186/s13321-019-0336-9.\n",
      "\n",
      "Cn1c(Cc2ccccc2)nnc1SCc1nc2ccsc2c(=O)[nH]1\n",
      "<rdkit.Chem.rdchem.Mol object at 0x7f18428df060>\n",
      "\n",
      "For help, use: python dimorphite_dl.py --help\n",
      "\n",
      "If you use Dimorphite-DL in your research, please cite:\n",
      "Ropp PJ, Kaminsky JC, Yablonski S, Durrant JD (2019) Dimorphite-DL: An\n",
      "open-source program for enumerating the ionization states of drug-like small\n",
      "molecules. J Cheminform 11:14. doi:10.1186/s13321-019-0336-9.\n",
      "\n",
      "WARNING: Skipping poorly formed SMILES string: C[n+]1c(Cc2ccccc2)nnc1SCc1nc2ccsc2c(=O)[nH]1\n",
      "WARNING: Skipping poorly formed SMILES string: C[n+]1c(Cc2ccccc2)nnc1SCc1nc2ccsc2c(=O)[nH]1\n",
      "Proposed mol at pH 7.4: Cn1c(Cc2ccccc2)nnc1SCc1nc2ccsc2c(=O)[nH]1\n"
     ]
    },
    {
     "name": "stderr",
     "output_type": "stream",
     "text": [
      "[query.py:297 - calculate_microstate_pka_values()] Using dimorphite-dl to identify protonation sites.\n"
     ]
    },
    {
     "name": "stdout",
     "output_type": "stream",
     "text": [
      "N#Cc1ccc(CSc2nnc(CN3CCCC3)o2)cc1\n",
      "<rdkit.Chem.rdchem.Mol object at 0x7f134b61b060>\n",
      "\n",
      "For help, use: python dimorphite_dl.py --help\n",
      "\n",
      "If you use Dimorphite-DL in your research, please cite:\n",
      "Ropp PJ, Kaminsky JC, Yablonski S, Durrant JD (2019) Dimorphite-DL: An\n",
      "open-source program for enumerating the ionization states of drug-like small\n",
      "molecules. J Cheminform 11:14. doi:10.1186/s13321-019-0336-9.\n",
      "\n",
      "N#Cc1ccc(CSc2nnc(CN3CCCC3)o2)cc1\n",
      "<rdkit.Chem.rdchem.Mol object at 0x7f8eb756b060>\n",
      "\n",
      "For help, use: python dimorphite_dl.py --help\n",
      "\n",
      "If you use Dimorphite-DL in your research, please cite:\n",
      "Ropp PJ, Kaminsky JC, Yablonski S, Durrant JD (2019) Dimorphite-DL: An\n",
      "open-source program for enumerating the ionization states of drug-like small\n",
      "molecules. J Cheminform 11:14. doi:10.1186/s13321-019-0336-9.\n",
      "\n",
      "Proposed mol at pH 7.4: N#Cc1ccc(CSc2nnc(C[NH+]3CCCC3)o2)cc1\n"
     ]
    },
    {
     "name": "stderr",
     "output_type": "stream",
     "text": [
      "[query.py:297 - calculate_microstate_pka_values()] Using dimorphite-dl to identify protonation sites.\n"
     ]
    },
    {
     "name": "stdout",
     "output_type": "stream",
     "text": [
      "Cc1noc(C)c1CSCC(=O)Nc1ccccc1\n",
      "<rdkit.Chem.rdchem.Mol object at 0x7fcfc803f060>\n",
      "\n",
      "For help, use: python dimorphite_dl.py --help\n",
      "\n",
      "If you use Dimorphite-DL in your research, please cite:\n",
      "Ropp PJ, Kaminsky JC, Yablonski S, Durrant JD (2019) Dimorphite-DL: An\n",
      "open-source program for enumerating the ionization states of drug-like small\n",
      "molecules. J Cheminform 11:14. doi:10.1186/s13321-019-0336-9.\n",
      "\n",
      "Cc1noc(C)c1CSCC(=O)Nc1ccccc1\n",
      "<rdkit.Chem.rdchem.Mol object at 0x7f3031cd7060>\n",
      "\n",
      "For help, use: python dimorphite_dl.py --help\n",
      "\n",
      "If you use Dimorphite-DL in your research, please cite:\n",
      "Ropp PJ, Kaminsky JC, Yablonski S, Durrant JD (2019) Dimorphite-DL: An\n",
      "open-source program for enumerating the ionization states of drug-like small\n",
      "molecules. J Cheminform 11:14. doi:10.1186/s13321-019-0336-9.\n",
      "\n",
      "Proposed mol at pH 7.4: Cc1noc(C)c1CSCC(=O)Nc1ccccc1\n"
     ]
    },
    {
     "name": "stderr",
     "output_type": "stream",
     "text": [
      "[query.py:297 - calculate_microstate_pka_values()] Using dimorphite-dl to identify protonation sites.\n"
     ]
    },
    {
     "name": "stdout",
     "output_type": "stream",
     "text": [
      "CC1CCCC(NC(=O)Cn2nnc(-c3ccccc3Br)n2)C1C\n",
      "<rdkit.Chem.rdchem.Mol object at 0x7fabfca43060>\n",
      "\n",
      "For help, use: python dimorphite_dl.py --help\n",
      "\n",
      "If you use Dimorphite-DL in your research, please cite:\n",
      "Ropp PJ, Kaminsky JC, Yablonski S, Durrant JD (2019) Dimorphite-DL: An\n",
      "open-source program for enumerating the ionization states of drug-like small\n",
      "molecules. J Cheminform 11:14. doi:10.1186/s13321-019-0336-9.\n",
      "\n",
      "CC1CCCC(NC(=O)Cn2nnc(-c3ccccc3Br)n2)C1C\n",
      "<rdkit.Chem.rdchem.Mol object at 0x7f35a4bdf060>\n",
      "\n",
      "For help, use: python dimorphite_dl.py --help\n",
      "\n",
      "If you use Dimorphite-DL in your research, please cite:\n",
      "Ropp PJ, Kaminsky JC, Yablonski S, Durrant JD (2019) Dimorphite-DL: An\n",
      "open-source program for enumerating the ionization states of drug-like small\n",
      "molecules. J Cheminform 11:14. doi:10.1186/s13321-019-0336-9.\n",
      "\n",
      "WARNING: Skipping poorly formed SMILES string: CC1CCCC([N-]C(=O)C[n+]2nnc(-c3ccccc3Br)n2)C1C\n",
      "WARNING: Skipping poorly formed SMILES string: CC1CCCC(NC(=O)C[n+]2nnc(-c3ccccc3Br)n2)C1C\n",
      "WARNING: Skipping poorly formed SMILES string: CC1CCCC([N-]C(=O)C[n+]2nnc(-c3ccccc3Br)n2)C1C\n",
      "WARNING: Skipping poorly formed SMILES string: CC1CCCC(NC(=O)C[n+]2nnc(-c3ccccc3Br)n2)C1C\n",
      "Proposed mol at pH 7.4: CC1CCCC(NC(=O)Cn2nnc(-c3ccccc3Br)n2)C1C\n",
      "\n",
      "[2023-Jun-28 13:44:33]: ERROR in adding missing protonating state\n",
      "\n",
      "[2023-Jun-28 13:44:33]: 'Rdkit_mol'\n",
      "\n",
      "[2023-Jun-28 13:44:33]: Protonation of compound library finished: Started with 10, ended with 10 : 0 compounds lost\n",
      "\n",
      "[2023-Jun-28 13:44:33]: Generating 3D conformers using GypsumDL...\n",
      "\n",
      "[2023-Jun-28 13:44:34]: Cleaning up files...\n",
      "\n",
      "[2023-Jun-28 13:44:34]: Preparation of compound library finished: ended with 9\n"
     ]
    }
   ],
   "source": [
    "if os.path.isfile(w_dir / 'temp' / 'final_library.sdf') == False:\n",
    "    prepare_library(docking_library, id_column, protonation, ncpus)"
   ]
  },
  {
   "attachments": {},
   "cell_type": "markdown",
   "metadata": {},
   "source": [
    "**Docking**\n",
    "\n",
    "This cell will dock all compounds in the receptor, using the reference ligand as a way to define the binding site. (Note: DogSiteScorer not yet implemented here).\n",
    "\n",
    "The docking algorithms specified in the 'docking' variable will be used.\n",
    "\n",
    "The docking will be done in on parallel CPU cores depending on the value or the 'parallel' variable.\n",
    "\n",
    "The docking results are written to the temporary folder. "
   ]
  },
  {
   "cell_type": "code",
   "execution_count": 6,
   "metadata": {},
   "outputs": [
    {
     "name": "stdout",
     "output_type": "stream",
     "text": [
      "\n",
      "[2023-Jun-28 14:19:11]: Split final library folder already exists...\n"
     ]
    }
   ],
   "source": [
    "docking(w_dir, protein_file, pocket_definition, docking_programs, exhaustiveness, n_poses, ncpus)"
   ]
  },
  {
   "cell_type": "code",
   "execution_count": 7,
   "metadata": {},
   "outputs": [
    {
     "name": "stdout",
     "output_type": "stream",
     "text": [
      "\n",
      "[2023-Jun-28 14:19:13]: All poses succesfully combined!\n"
     ]
    }
   ],
   "source": [
    "concat_all_poses(w_dir, docking_programs)"
   ]
  },
  {
   "attachments": {},
   "cell_type": "markdown",
   "metadata": {},
   "source": [
    "All poses are then loaded into memory for clustering"
   ]
  },
  {
   "cell_type": "code",
   "execution_count": 8,
   "metadata": {},
   "outputs": [
    {
     "name": "stdout",
     "output_type": "stream",
     "text": [
      "Loading all poses SDF file...\n",
      "Finished loading all poses SDF in 0.0837!...\n"
     ]
    }
   ],
   "source": [
    "print('Loading all poses SDF file...')\n",
    "tic = time.perf_counter()\n",
    "all_poses = PandasTools.LoadSDF(str(w_dir / 'temp' / 'allposes.sdf'), idName='Pose ID', molColName='Molecule', includeFingerprints=False, strictParsing=True)\n",
    "toc = time.perf_counter()\n",
    "print(f'Finished loading all poses SDF in {toc-tic:0.4f}!...')"
   ]
  },
  {
   "attachments": {},
   "cell_type": "markdown",
   "metadata": {},
   "source": [
    "**Clustering**\n",
    "\n",
    "This cell will perform the clustering according to the values of the 'clusering_metrics', 'clustering_method' and 'parallel' variables. If it detects that the clustering file for that metric has already been generated, it will skip it."
   ]
  },
  {
   "cell_type": "code",
   "execution_count": 9,
   "metadata": {},
   "outputs": [],
   "source": [
    "for metric in clustering_metrics:\n",
    "        if os.path.isfile(w_dir / 'temp' / f'clustering/{metric}_clustered.sdf') == False:\n",
    "            cluster_pebble(metric, 'KMedoids', w_dir, protein_file, all_poses, ncpus)"
   ]
  },
  {
   "attachments": {},
   "cell_type": "markdown",
   "metadata": {},
   "source": [
    "**Rescoring**\n",
    "\n",
    "This cell will rescore all the clustered .sdf files according to the specified scoring functions and the value of the 'parallel' variable."
   ]
  },
  {
   "cell_type": "code",
   "execution_count": 10,
   "metadata": {},
   "outputs": [
    {
     "name": "stdout",
     "output_type": "stream",
     "text": [
      "\n",
      "[2023-Jun-28 14:19:20]: Skipping gnina rescoring...\n",
      "\n",
      "[2023-Jun-28 14:19:20]: Skipping AD4 rescoring...\n",
      "\n",
      "[2023-Jun-28 14:19:20]: Skipping chemplp rescoring...\n",
      "\n",
      "[2023-Jun-28 14:19:20]: Skipping rfscorevs rescoring...\n",
      "\n",
      "[2023-Jun-28 14:19:20]: Skipping LinF9 rescoring...\n",
      "/home/ibrahim/Gitlab/DockM8/wocondock_main/protein_pocket.pdb\n",
      "Splitting SDF file RMSD_clustered.sdf ...\n"
     ]
    },
    {
     "name": "stderr",
     "output_type": "stream",
     "text": [
      "Splitting files: 100%|██████████| 28/28 [00:00<00:00, 1068.88it/s]"
     ]
    },
    {
     "name": "stdout",
     "output_type": "stream",
     "text": [
      "Split docking library into 28 files each containing 1 compounds\n",
      "\n",
      "[2023-Jun-28 14:19:20]: Skipping vinardo rescoring...\n",
      "\n",
      "[2023-Jun-28 14:19:20]: Converting protein file to .pdbqt ...\n"
     ]
    },
    {
     "name": "stderr",
     "output_type": "stream",
     "text": [
      "\n"
     ]
    },
    {
     "ename": "AttributeError",
     "evalue": "'str' object has no attribute 'stem'",
     "output_type": "error",
     "traceback": [
      "\u001b[0;31m---------------------------------------------------------------------------\u001b[0m",
      "\u001b[0;31mAttributeError\u001b[0m                            Traceback (most recent call last)",
      "Cell \u001b[0;32mIn[10], line 2\u001b[0m\n\u001b[1;32m      1\u001b[0m \u001b[38;5;28;01mfor\u001b[39;00m metric \u001b[38;5;129;01min\u001b[39;00m clustering_metrics:\n\u001b[0;32m----> 2\u001b[0m         \u001b[43mrescore_all\u001b[49m\u001b[43m(\u001b[49m\u001b[43mw_dir\u001b[49m\u001b[43m,\u001b[49m\u001b[43m \u001b[49m\u001b[43mprotein_file\u001b[49m\u001b[43m,\u001b[49m\u001b[43m \u001b[49m\u001b[43mpocket_definition\u001b[49m\u001b[43m,\u001b[49m\u001b[43m \u001b[49m\u001b[38;5;28;43mstr\u001b[39;49m\u001b[43m(\u001b[49m\u001b[43mw_dir\u001b[49m\u001b[43m \u001b[49m\u001b[38;5;241;43m/\u001b[39;49m\u001b[43m \u001b[49m\u001b[38;5;124;43m'\u001b[39;49m\u001b[38;5;124;43mtemp\u001b[39;49m\u001b[38;5;124;43m'\u001b[39;49m\u001b[43m \u001b[49m\u001b[38;5;241;43m/\u001b[39;49m\u001b[43m \u001b[49m\u001b[38;5;124;43mf\u001b[39;49m\u001b[38;5;124;43m'\u001b[39;49m\u001b[38;5;124;43mclustering/\u001b[39;49m\u001b[38;5;132;43;01m{\u001b[39;49;00m\u001b[43mmetric\u001b[49m\u001b[38;5;132;43;01m}\u001b[39;49;00m\u001b[38;5;124;43m_clustered.sdf\u001b[39;49m\u001b[38;5;124;43m'\u001b[39;49m\u001b[43m)\u001b[49m\u001b[43m,\u001b[49m\u001b[43m \u001b[49m\u001b[43mrescoring\u001b[49m\u001b[43m,\u001b[49m\u001b[43m \u001b[49m\u001b[43mncpus\u001b[49m\u001b[43m)\u001b[49m\n",
      "File \u001b[0;32m~/Gitlab/DockM8/scripts/rescoring_functions.py:1105\u001b[0m, in \u001b[0;36mrescore_all\u001b[0;34m(w_dir, protein_file, pocket_definition, clustered_sdf, functions, ncpus)\u001b[0m\n\u001b[1;32m   1100\u001b[0m \u001b[38;5;28;01mfor\u001b[39;00m function \u001b[38;5;129;01min\u001b[39;00m functions:\n\u001b[1;32m   1101\u001b[0m     \u001b[38;5;28;01mif\u001b[39;00m \u001b[38;5;129;01mnot\u001b[39;00m (\n\u001b[1;32m   1102\u001b[0m         rescoring_folder \u001b[38;5;241m/\u001b[39m\n\u001b[1;32m   1103\u001b[0m         \u001b[38;5;124mf\u001b[39m\u001b[38;5;124m'\u001b[39m\u001b[38;5;132;01m{\u001b[39;00mfunction\u001b[38;5;132;01m}\u001b[39;00m\u001b[38;5;124m_rescoring\u001b[39m\u001b[38;5;124m'\u001b[39m \u001b[38;5;241m/\u001b[39m\n\u001b[1;32m   1104\u001b[0m             \u001b[38;5;124mf\u001b[39m\u001b[38;5;124m'\u001b[39m\u001b[38;5;132;01m{\u001b[39;00mfunction\u001b[38;5;132;01m}\u001b[39;00m\u001b[38;5;124m_scores.csv\u001b[39m\u001b[38;5;124m'\u001b[39m)\u001b[38;5;241m.\u001b[39mis_file():\n\u001b[0;32m-> 1105\u001b[0m         \u001b[43mrescoring_functions\u001b[49m\u001b[43m[\u001b[49m\u001b[43mfunction\u001b[49m\u001b[43m]\u001b[49m\u001b[43m(\u001b[49m\u001b[43mclustered_sdf\u001b[49m\u001b[43m,\u001b[49m\u001b[43m \u001b[49m\u001b[43mncpus\u001b[49m\u001b[43m)\u001b[49m\n\u001b[1;32m   1106\u001b[0m     \u001b[38;5;28;01melse\u001b[39;00m:\n\u001b[1;32m   1107\u001b[0m         printlog(\u001b[38;5;124mf\u001b[39m\u001b[38;5;124m'\u001b[39m\u001b[38;5;124mSkipping \u001b[39m\u001b[38;5;132;01m{\u001b[39;00mfunction\u001b[38;5;132;01m}\u001b[39;00m\u001b[38;5;124m rescoring...\u001b[39m\u001b[38;5;124m'\u001b[39m)\n",
      "File \u001b[0;32m~/Gitlab/DockM8/scripts/rescoring_functions.py:664\u001b[0m, in \u001b[0;36mrescore_all.<locals>.SCORCH_rescoring\u001b[0;34m(sdf, ncpus)\u001b[0m\n\u001b[1;32m    658\u001b[0m subprocess\u001b[38;5;241m.\u001b[39mcall(\n\u001b[1;32m    659\u001b[0m     obabel_command,\n\u001b[1;32m    660\u001b[0m     shell\u001b[38;5;241m=\u001b[39m\u001b[38;5;28;01mTrue\u001b[39;00m,\n\u001b[1;32m    661\u001b[0m     stdout\u001b[38;5;241m=\u001b[39msubprocess\u001b[38;5;241m.\u001b[39mDEVNULL,\n\u001b[1;32m    662\u001b[0m     stderr\u001b[38;5;241m=\u001b[39msubprocess\u001b[38;5;241m.\u001b[39mSTDOUT)\n\u001b[1;32m    663\u001b[0m \u001b[38;5;66;03m# Convert ligands to pdbqt\u001b[39;00m\n\u001b[0;32m--> 664\u001b[0m sdf_file_name \u001b[38;5;241m=\u001b[39m \u001b[43msdf\u001b[49m\u001b[38;5;241;43m.\u001b[39;49m\u001b[43mstem\u001b[49m\n\u001b[1;32m    665\u001b[0m printlog(\u001b[38;5;124mf\u001b[39m\u001b[38;5;124m'\u001b[39m\u001b[38;5;124mConverting SDF file \u001b[39m\u001b[38;5;132;01m{\u001b[39;00msdf_file_name\u001b[38;5;132;01m}\u001b[39;00m\u001b[38;5;124m.sdf to .pdbqt files...\u001b[39m\u001b[38;5;124m'\u001b[39m)\n\u001b[1;32m    666\u001b[0m split_files_folder \u001b[38;5;241m=\u001b[39m SCORCH_rescoring_folder \u001b[38;5;241m/\u001b[39m \u001b[38;5;124mf\u001b[39m\u001b[38;5;124m'\u001b[39m\u001b[38;5;124msplit_\u001b[39m\u001b[38;5;132;01m{\u001b[39;00msdf_file_name\u001b[38;5;132;01m}\u001b[39;00m\u001b[38;5;124m'\u001b[39m\n",
      "\u001b[0;31mAttributeError\u001b[0m: 'str' object has no attribute 'stem'"
     ]
    }
   ],
   "source": [
    "for metric in clustering_metrics:\n",
    "        rescore_all(w_dir, protein_file, pocket_definition, str(w_dir / 'temp' / f'clustering/{metric}_clustered.sdf'), rescoring, ncpus)"
   ]
  },
  {
   "attachments": {},
   "cell_type": "markdown",
   "metadata": {},
   "source": [
    "**Final ranking methods**\n",
    "\n",
    "This code calculates the final ranking of compounds using various methods.\n",
    "- *Method 1* : Calculates ECR value for each cluster center, then outputs the top ranked center.\n",
    "- *Method 2* : Calculates ECR value for each cluster center, then outputs the average ECR value for each compound.\n",
    "- *Method 3* : Calculates the average rank of each compound, then ouputs the corresponding ECR value for each compound.\n",
    "- *Method 4* : Calculates the Rank by Rank consensus\n",
    "- *Method 5* : Calculates the Rank by Vote consensus\n",
    "- *Method 6* : Calculates Z-score for each cluster center, then ouputs the top ranked center.\n",
    "- *Method 7* : Calculates Z-score for each cluster center, then ouputs the average Z-score for each compound.\n",
    "\n",
    "All methods are then combined into a single dataframe for comparison purposes."
   ]
  },
  {
   "cell_type": "code",
   "execution_count": null,
   "metadata": {},
   "outputs": [
    {
     "ename": "KeyError",
     "evalue": "\"['Activity'] not in index\"",
     "output_type": "error",
     "traceback": [
      "\u001b[0;31m---------------------------------------------------------------------------\u001b[0m",
      "\u001b[0;31mKeyError\u001b[0m                                  Traceback (most recent call last)",
      "Cell \u001b[0;32mIn[11], line 1\u001b[0m\n\u001b[0;32m----> 1\u001b[0m \u001b[43mcalculate_EF_single_functions\u001b[49m\u001b[43m(\u001b[49m\u001b[43mw_dir\u001b[49m\u001b[43m,\u001b[49m\u001b[43m \u001b[49m\u001b[43mdocking_library\u001b[49m\u001b[43m,\u001b[49m\u001b[43m \u001b[49m\u001b[43mclustering_metrics\u001b[49m\u001b[43m)\u001b[49m\n\u001b[1;32m      2\u001b[0m apply_consensus_methods_combinations(w_dir, docking_library, clustering_metrics)\n",
      "File \u001b[0;32m~/Gitlab/DockM8/scripts/performance_calculation.py:246\u001b[0m, in \u001b[0;36mcalculate_EF_single_functions\u001b[0;34m(w_dir, docking_library, clustering_metrics)\u001b[0m\n\u001b[1;32m    237\u001b[0m         df\u001b[38;5;241m.\u001b[39mto_csv(\n\u001b[1;32m    238\u001b[0m             Path(w_dir) \u001b[38;5;241m/\u001b[39m\n\u001b[1;32m    239\u001b[0m             \u001b[38;5;124m'\u001b[39m\u001b[38;5;124mtemp\u001b[39m\u001b[38;5;124m'\u001b[39m \u001b[38;5;241m/\u001b[39m\n\u001b[1;32m    240\u001b[0m             \u001b[38;5;124m'\u001b[39m\u001b[38;5;124mranking\u001b[39m\u001b[38;5;124m'\u001b[39m \u001b[38;5;241m/\u001b[39m\n\u001b[1;32m    241\u001b[0m             \u001b[38;5;124mf\u001b[39m\u001b[38;5;124m'\u001b[39m\u001b[38;5;132;01m{\u001b[39;00mdf_name\u001b[38;5;132;01m}\u001b[39;00m\u001b[38;5;124m.csv\u001b[39m\u001b[38;5;124m'\u001b[39m,\n\u001b[1;32m    242\u001b[0m             index\u001b[38;5;241m=\u001b[39m\u001b[38;5;28;01mFalse\u001b[39;00m)\n\u001b[1;32m    244\u001b[0m original_df \u001b[38;5;241m=\u001b[39m PandasTools\u001b[38;5;241m.\u001b[39mLoadSDF(\n\u001b[1;32m    245\u001b[0m     \u001b[38;5;28mstr\u001b[39m(docking_library), molColName\u001b[38;5;241m=\u001b[39m\u001b[38;5;28;01mNone\u001b[39;00m, idName\u001b[38;5;241m=\u001b[39m\u001b[38;5;124m'\u001b[39m\u001b[38;5;124mID\u001b[39m\u001b[38;5;124m'\u001b[39m)\n\u001b[0;32m--> 246\u001b[0m original_df \u001b[38;5;241m=\u001b[39m \u001b[43moriginal_df\u001b[49m\u001b[43m[\u001b[49m\u001b[43m[\u001b[49m\u001b[38;5;124;43m'\u001b[39;49m\u001b[38;5;124;43mID\u001b[39;49m\u001b[38;5;124;43m'\u001b[39;49m\u001b[43m,\u001b[49m\u001b[43m \u001b[49m\u001b[38;5;124;43m'\u001b[39;49m\u001b[38;5;124;43mActivity\u001b[39;49m\u001b[38;5;124;43m'\u001b[39;49m\u001b[43m]\u001b[49m\u001b[43m]\u001b[49m\n\u001b[1;32m    247\u001b[0m original_df[\u001b[38;5;124m'\u001b[39m\u001b[38;5;124mActivity\u001b[39m\u001b[38;5;124m'\u001b[39m] \u001b[38;5;241m=\u001b[39m pd\u001b[38;5;241m.\u001b[39mto_numeric(original_df[\u001b[38;5;124m'\u001b[39m\u001b[38;5;124mActivity\u001b[39m\u001b[38;5;124m'\u001b[39m])\n\u001b[1;32m    248\u001b[0m EF_results \u001b[38;5;241m=\u001b[39m pd\u001b[38;5;241m.\u001b[39mDataFrame(\n\u001b[1;32m    249\u001b[0m     columns\u001b[38;5;241m=\u001b[39m[\n\u001b[1;32m    250\u001b[0m         \u001b[38;5;124m'\u001b[39m\u001b[38;5;124mScoring Function\u001b[39m\u001b[38;5;124m'\u001b[39m,\n\u001b[1;32m    251\u001b[0m         \u001b[38;5;124m'\u001b[39m\u001b[38;5;124mClustering Metric\u001b[39m\u001b[38;5;124m'\u001b[39m,\n\u001b[1;32m    252\u001b[0m         \u001b[38;5;124m'\u001b[39m\u001b[38;5;124mEF10\u001b[39m\u001b[38;5;124m%\u001b[39m\u001b[38;5;124m'\u001b[39m,\n\u001b[1;32m    253\u001b[0m         \u001b[38;5;124m'\u001b[39m\u001b[38;5;124mEF1\u001b[39m\u001b[38;5;124m%\u001b[39m\u001b[38;5;124m'\u001b[39m])\n",
      "File \u001b[0;32m~/mambaforge-pypy3/envs/dockm8/lib/python3.10/site-packages/pandas/core/frame.py:3767\u001b[0m, in \u001b[0;36mDataFrame.__getitem__\u001b[0;34m(self, key)\u001b[0m\n\u001b[1;32m   3765\u001b[0m     \u001b[38;5;28;01mif\u001b[39;00m is_iterator(key):\n\u001b[1;32m   3766\u001b[0m         key \u001b[38;5;241m=\u001b[39m \u001b[38;5;28mlist\u001b[39m(key)\n\u001b[0;32m-> 3767\u001b[0m     indexer \u001b[38;5;241m=\u001b[39m \u001b[38;5;28;43mself\u001b[39;49m\u001b[38;5;241;43m.\u001b[39;49m\u001b[43mcolumns\u001b[49m\u001b[38;5;241;43m.\u001b[39;49m\u001b[43m_get_indexer_strict\u001b[49m\u001b[43m(\u001b[49m\u001b[43mkey\u001b[49m\u001b[43m,\u001b[49m\u001b[43m \u001b[49m\u001b[38;5;124;43m\"\u001b[39;49m\u001b[38;5;124;43mcolumns\u001b[39;49m\u001b[38;5;124;43m\"\u001b[39;49m\u001b[43m)\u001b[49m[\u001b[38;5;241m1\u001b[39m]\n\u001b[1;32m   3769\u001b[0m \u001b[38;5;66;03m# take() does not accept boolean indexers\u001b[39;00m\n\u001b[1;32m   3770\u001b[0m \u001b[38;5;28;01mif\u001b[39;00m \u001b[38;5;28mgetattr\u001b[39m(indexer, \u001b[38;5;124m\"\u001b[39m\u001b[38;5;124mdtype\u001b[39m\u001b[38;5;124m\"\u001b[39m, \u001b[38;5;28;01mNone\u001b[39;00m) \u001b[38;5;241m==\u001b[39m \u001b[38;5;28mbool\u001b[39m:\n",
      "File \u001b[0;32m~/mambaforge-pypy3/envs/dockm8/lib/python3.10/site-packages/pandas/core/indexes/base.py:5876\u001b[0m, in \u001b[0;36mIndex._get_indexer_strict\u001b[0;34m(self, key, axis_name)\u001b[0m\n\u001b[1;32m   5873\u001b[0m \u001b[38;5;28;01melse\u001b[39;00m:\n\u001b[1;32m   5874\u001b[0m     keyarr, indexer, new_indexer \u001b[38;5;241m=\u001b[39m \u001b[38;5;28mself\u001b[39m\u001b[38;5;241m.\u001b[39m_reindex_non_unique(keyarr)\n\u001b[0;32m-> 5876\u001b[0m \u001b[38;5;28;43mself\u001b[39;49m\u001b[38;5;241;43m.\u001b[39;49m\u001b[43m_raise_if_missing\u001b[49m\u001b[43m(\u001b[49m\u001b[43mkeyarr\u001b[49m\u001b[43m,\u001b[49m\u001b[43m \u001b[49m\u001b[43mindexer\u001b[49m\u001b[43m,\u001b[49m\u001b[43m \u001b[49m\u001b[43maxis_name\u001b[49m\u001b[43m)\u001b[49m\n\u001b[1;32m   5878\u001b[0m keyarr \u001b[38;5;241m=\u001b[39m \u001b[38;5;28mself\u001b[39m\u001b[38;5;241m.\u001b[39mtake(indexer)\n\u001b[1;32m   5879\u001b[0m \u001b[38;5;28;01mif\u001b[39;00m \u001b[38;5;28misinstance\u001b[39m(key, Index):\n\u001b[1;32m   5880\u001b[0m     \u001b[38;5;66;03m# GH 42790 - Preserve name from an Index\u001b[39;00m\n",
      "File \u001b[0;32m~/mambaforge-pypy3/envs/dockm8/lib/python3.10/site-packages/pandas/core/indexes/base.py:5938\u001b[0m, in \u001b[0;36mIndex._raise_if_missing\u001b[0;34m(self, key, indexer, axis_name)\u001b[0m\n\u001b[1;32m   5935\u001b[0m     \u001b[38;5;28;01mraise\u001b[39;00m \u001b[38;5;167;01mKeyError\u001b[39;00m(\u001b[38;5;124mf\u001b[39m\u001b[38;5;124m\"\u001b[39m\u001b[38;5;124mNone of [\u001b[39m\u001b[38;5;132;01m{\u001b[39;00mkey\u001b[38;5;132;01m}\u001b[39;00m\u001b[38;5;124m] are in the [\u001b[39m\u001b[38;5;132;01m{\u001b[39;00maxis_name\u001b[38;5;132;01m}\u001b[39;00m\u001b[38;5;124m]\u001b[39m\u001b[38;5;124m\"\u001b[39m)\n\u001b[1;32m   5937\u001b[0m not_found \u001b[38;5;241m=\u001b[39m \u001b[38;5;28mlist\u001b[39m(ensure_index(key)[missing_mask\u001b[38;5;241m.\u001b[39mnonzero()[\u001b[38;5;241m0\u001b[39m]]\u001b[38;5;241m.\u001b[39munique())\n\u001b[0;32m-> 5938\u001b[0m \u001b[38;5;28;01mraise\u001b[39;00m \u001b[38;5;167;01mKeyError\u001b[39;00m(\u001b[38;5;124mf\u001b[39m\u001b[38;5;124m\"\u001b[39m\u001b[38;5;132;01m{\u001b[39;00mnot_found\u001b[38;5;132;01m}\u001b[39;00m\u001b[38;5;124m not in index\u001b[39m\u001b[38;5;124m\"\u001b[39m)\n",
      "\u001b[0;31mKeyError\u001b[0m: \"['Activity'] not in index\""
     ]
    }
   ],
   "source": [
    "calculate_EF_single_functions(w_dir, docking_library, clustering_metrics)\n",
    "apply_consensus_methods_combinations(w_dir, docking_library, clustering_metrics)"
   ]
  }
 ],
 "metadata": {
  "kernelspec": {
   "display_name": "Python 3.8.13 ('wocondock')",
   "language": "python",
   "name": "python3"
  },
  "language_info": {
   "codemirror_mode": {
    "name": "ipython",
    "version": 3
   },
   "file_extension": ".py",
   "mimetype": "text/x-python",
   "name": "python",
   "nbconvert_exporter": "python",
   "pygments_lexer": "ipython3",
   "version": "3.10.12"
  },
  "orig_nbformat": 4,
  "vscode": {
   "interpreter": {
    "hash": "ac9acbc93af693fb4e01b586b9d883cf48eab2850c268069ebbf85c5f9fbe2b9"
   }
  }
 },
 "nbformat": 4,
 "nbformat_minor": 2
}
