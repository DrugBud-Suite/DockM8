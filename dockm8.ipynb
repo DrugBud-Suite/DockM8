{
 "cells": [
  {
   "attachments": {},
   "cell_type": "markdown",
   "metadata": {},
   "source": [
    "**Import required libraries and scripts**"
   ]
  },
  {
   "cell_type": "code",
   "execution_count": 1,
   "metadata": {},
   "outputs": [
    {
     "name": "stderr",
     "output_type": "stream",
     "text": [
      "[15:08:21] Initializing Normalizer\n"
     ]
    }
   ],
   "source": [
    "#Import required libraries and scripts\n",
    "from scripts.library_preparation import *\n",
    "from scripts.utilities import *\n",
    "from scripts.docking_functions import *\n",
    "from scripts.clustering_functions import *\n",
    "from scripts.rescoring_functions import *\n",
    "from scripts.consensus_methods import *\n",
    "from scripts.performance_calculation import *\n",
    "from scripts.dogsitescorer import *\n",
    "from scripts.get_pocket import *"
   ]
  },
  {
   "attachments": {},
   "cell_type": "markdown",
   "metadata": {},
   "source": [
    "**Set up**\n",
    "- **software**: The path to the software folder.\n",
    "- **proteinfile**: The path to the protein file (.pdb).\n",
    "- **pocket**: The method to use for pocket determination. Must be one of 'reference' or 'dogsitescorer'.\n",
    "- **dockinglibrary: The path to the docking library file (.sdf).\n",
    "- **idcolumn**: The unique identifier column used in the docking library.\n",
    "- **protonation**: The method to use for compound protonation. Must be one of 'pkasolver', 'GypsumDL', or 'None'.\n",
    "- **docking**: The method(s) to use for docking. Must be one or more of 'GNINA', 'SMINA', or 'PLANTS'.\n",
    "- **metric**: The method(s) to use for pose clustering. Must be one or more of 'RMSD', 'spyRMSD', 'espsim', 'USRCAT', '3DScore', 'bestpose', 'bestpose_GNINA', 'bestpose_SMINA', or 'bestpose_PLANTS'.\n",
    "- **nposes**: The number of poses to generate for each docking software. Default=10\n",
    "- **exhaustiveness**: The precision used if docking with SMINA/GNINA. Default=8\n",
    "- **parallel**: Whether or not to run the workflow in parallel. Default=1 (on). Can be set to 1 (on) or 0 (off).\n",
    "- **ncpus**: The number of cpus to use for the workflow. Default behavior is to use half of the available cpus.\n",
    "- **clustering**: Which algorithm to use for clustering. Must be one of 'KMedoids', 'Aff_prop'.\n",
    "- **rescoring**: Which scoring functions to use for rescoring. Must be one or more of 'gnina', 'AD4', 'chemplp', 'rfscorevs', 'LinF9', 'vinardo', 'plp', 'AAScore'.\n",
    "\n",
    "The software will then create a temporary directory to store the output of the various functions."
   ]
  },
  {
   "cell_type": "code",
   "execution_count": 14,
   "metadata": {},
   "outputs": [
    {
     "name": "stdout",
     "output_type": "stream",
     "text": [
      "The working directory has been set to: /home/ibrahim/Gitlab/DockM8/wocondock_main\n"
     ]
    },
    {
     "data": {
      "text/plain": [
       "'2.0.0'"
      ]
     },
     "execution_count": 14,
     "metadata": {},
     "output_type": "execute_result"
    }
   ],
   "source": [
    "software = '/home/ibrahim/Gitlab/DockM8/software'\n",
    "protein_file = '/home/ibrahim/Gitlab/DockM8/wocondock_main/protein.pdb'\n",
    "ref_file = '/home/ibrahim/Gitlab/DockM8/wocondock_main/ref.sdf'\n",
    "pocket = 'reference'\n",
    "protonation = 'pkasolver'\n",
    "docking_library = '/home/ibrahim/Gitlab/DockM8/wocondock_main/library.sdf'\n",
    "docking_programs = ['GNINA', 'SMINA', 'PLANTS']\n",
    "clustering_metrics = ['RMSD', 'spyRMSD', 'espsim', 'bestpose', 'bestpose_PLANTS', 'bestpose_GNINA', 'bestpose_SMINA']\n",
    "clustering_method = 'KMedoids'\n",
    "rescoring= ['gnina', 'AD4', 'chemplp', 'rfscorevs', 'LinF9', 'RTMScore', 'vinardo', 'SCORCH', 'plecscore', 'nnscore']\n",
    "id_column = 'ID'\n",
    "n_poses = 10\n",
    "exhaustiveness = 8\n",
    "ncpus = 14\n",
    "#Create a temporary folder for all further calculations\n",
    "w_dir = os.path.dirname(protein_file)\n",
    "print('The working directory has been set to:', w_dir)\n",
    "create_temp_folder(w_dir+'/temp')\n"
   ]
  },
  {
   "cell_type": "code",
   "execution_count": 16,
   "metadata": {},
   "outputs": [
    {
     "name": "stdout",
     "output_type": "stream",
     "text": [
      "PyTorch Scatter version: 2.1.1\n",
      "PyTorch Sparse version: 0.6.17\n"
     ]
    },
    {
     "ename": "ModuleNotFoundError",
     "evalue": "No module named 'torch_spline_conv'",
     "output_type": "error",
     "traceback": [
      "\u001b[0;31m---------------------------------------------------------------------------\u001b[0m",
      "\u001b[0;31mModuleNotFoundError\u001b[0m                       Traceback (most recent call last)",
      "Cell \u001b[0;32mIn[16], line 7\u001b[0m\n\u001b[1;32m      4\u001b[0m \u001b[38;5;28;01mimport\u001b[39;00m \u001b[38;5;21;01mtorch_sparse\u001b[39;00m\n\u001b[1;32m      5\u001b[0m \u001b[38;5;28mprint\u001b[39m(\u001b[38;5;124m\"\u001b[39m\u001b[38;5;124mPyTorch Sparse version:\u001b[39m\u001b[38;5;124m\"\u001b[39m, torch_sparse\u001b[38;5;241m.\u001b[39m__version__)\n\u001b[0;32m----> 7\u001b[0m \u001b[38;5;28;01mimport\u001b[39;00m \u001b[38;5;21;01mtorch_spline_conv\u001b[39;00m\n\u001b[1;32m      8\u001b[0m \u001b[38;5;28mprint\u001b[39m(\u001b[38;5;124m\"\u001b[39m\u001b[38;5;124mPyTorch Cluster version:\u001b[39m\u001b[38;5;124m\"\u001b[39m, torch_spline_conv\u001b[38;5;241m.\u001b[39m__version__)\n",
      "\u001b[0;31mModuleNotFoundError\u001b[0m: No module named 'torch_spline_conv'"
     ]
    }
   ],
   "source": [
    "import torch_scatter\n",
    "print(\"PyTorch Scatter version:\", torch_scatter.__version__)\n",
    "\n",
    "import torch_sparse\n",
    "print(\"PyTorch Sparse version:\", torch_sparse.__version__)\n",
    "\n",
    "import torch_spline_conv\n",
    "print(\"PyTorch Cluster version:\", torch_spline_conv.__version__)"
   ]
  },
  {
   "attachments": {},
   "cell_type": "markdown",
   "metadata": {},
   "source": [
    "**Pocket Extraction**  \n",
    "\n",
    "This cell will extract the pocket based on the method specified in the 'pocket' variable. Using 'reference' will use the reference ligand to define the pocket. Using 'dogsitescore' will query the dogsitescorer server and use the pocket with the largest volume."
   ]
  },
  {
   "cell_type": "code",
   "execution_count": 8,
   "metadata": {},
   "outputs": [
    {
     "name": "stdout",
     "output_type": "stream",
     "text": [
      "\n",
      "[2023-Jun-16 15:11:05]: Extracting pocket from /home/ibrahim/Gitlab/DockM8/wocondock_main/protein.pdb using /home/ibrahim/Gitlab/DockM8/wocondock_main/ref.sdf as reference ligand\n",
      "\n",
      "[2023-Jun-16 15:11:15]: Finished extracting pocket from /home/ibrahim/Gitlab/DockM8/wocondock_main/protein.pdb using /home/ibrahim/Gitlab/DockM8/wocondock_main/ref.sdf as reference ligand\n",
      "{'center': [16.7, -2.69, 17.61], 'size': [20.0, 20.0, 20.0]}\n"
     ]
    }
   ],
   "source": [
    "if pocket == 'reference':\n",
    "    pocket_definition = get_pocket(ref_file, protein_file, 10)\n",
    "    print(pocket_definition)\n",
    "if pocket == 'RoG':\n",
    "    pocket_definition = get_pocket_RoG(ref_file, protein_file)\n",
    "    print(pocket_definition)\n",
    "elif pocket == 'dogsitescorer':\n",
    "    pocket_definition = binding_site_coordinates_dogsitescorer(protein_file, w_dir, method='volume')"
   ]
  },
  {
   "attachments": {},
   "cell_type": "markdown",
   "metadata": {},
   "source": [
    "**Library preparation**  "
   ]
  },
  {
   "cell_type": "code",
   "execution_count": 10,
   "metadata": {},
   "outputs": [
    {
     "name": "stdout",
     "output_type": "stream",
     "text": [
      "\n",
      "[2023-Jun-16 15:11:31]: Standardizing docking library using ChemBL Structure Pipeline...\n"
     ]
    },
    {
     "name": "stderr",
     "output_type": "stream",
     "text": [
      "Standardizing molecules: 100%|██████████| 10/10 [00:00<00:00, 185.00mol/s]\n"
     ]
    },
    {
     "name": "stdout",
     "output_type": "stream",
     "text": [
      "\n",
      "[2023-Jun-16 15:11:31]: Standardization of compound library finished: Started with 10, ended with 10 : 0 compounds lost\n",
      "\n",
      "[2023-Jun-16 15:11:31]: Calculating protonation states using pkaSolver...\n"
     ]
    },
    {
     "name": "stderr",
     "output_type": "stream",
     "text": [
      "[query.py:297 - calculate_microstate_pka_values()] Using dimorphite-dl to identify protonation sites.\n"
     ]
    },
    {
     "name": "stdout",
     "output_type": "stream",
     "text": [
      "CN(C)c1nc(Cc2nnn[nH]2)cs1\n",
      "<rdkit.Chem.rdchem.Mol object at 0x7f3abf777d10>\n",
      "\n",
      "For help, use: python dimorphite_dl.py --help\n",
      "\n",
      "If you use Dimorphite-DL in your research, please cite:\n",
      "Ropp PJ, Kaminsky JC, Yablonski S, Durrant JD (2019) Dimorphite-DL: An\n",
      "open-source program for enumerating the ionization states of drug-like small\n",
      "molecules. J Cheminform 11:14. doi:10.1186/s13321-019-0336-9.\n",
      "\n",
      "CN(C)c1nc(Cc2nnn[nH]2)cs1\n",
      "<rdkit.Chem.rdchem.Mol object at 0x7fc03abc7d10>\n",
      "\n",
      "For help, use: python dimorphite_dl.py --help\n",
      "\n",
      "If you use Dimorphite-DL in your research, please cite:\n",
      "Ropp PJ, Kaminsky JC, Yablonski S, Durrant JD (2019) Dimorphite-DL: An\n",
      "open-source program for enumerating the ionization states of drug-like small\n",
      "molecules. J Cheminform 11:14. doi:10.1186/s13321-019-0336-9.\n",
      "\n",
      "Proposed mol at pH 7.4: CN(C)c1nc(Cc2nnn[nH]2)cs1\n"
     ]
    },
    {
     "name": "stderr",
     "output_type": "stream",
     "text": [
      "[query.py:297 - calculate_microstate_pka_values()] Using dimorphite-dl to identify protonation sites.\n"
     ]
    },
    {
     "name": "stdout",
     "output_type": "stream",
     "text": [
      "Cc1nc(SCc2cc(=O)n3ccsc3n2)c2ccccc2n1\n",
      "<rdkit.Chem.rdchem.Mol object at 0x7fb085af7d10>\n",
      "\n",
      "For help, use: python dimorphite_dl.py --help\n",
      "\n",
      "If you use Dimorphite-DL in your research, please cite:\n",
      "Ropp PJ, Kaminsky JC, Yablonski S, Durrant JD (2019) Dimorphite-DL: An\n",
      "open-source program for enumerating the ionization states of drug-like small\n",
      "molecules. J Cheminform 11:14. doi:10.1186/s13321-019-0336-9.\n",
      "\n",
      "Cc1nc(SCc2cc(=O)n3ccsc3n2)c2ccccc2n1\n",
      "<rdkit.Chem.rdchem.Mol object at 0x7f30aa737d10>\n",
      "\n",
      "For help, use: python dimorphite_dl.py --help\n",
      "\n",
      "If you use Dimorphite-DL in your research, please cite:\n",
      "Ropp PJ, Kaminsky JC, Yablonski S, Durrant JD (2019) Dimorphite-DL: An\n",
      "open-source program for enumerating the ionization states of drug-like small\n",
      "molecules. J Cheminform 11:14. doi:10.1186/s13321-019-0336-9.\n",
      "\n",
      "WARNING: Skipping poorly formed SMILES string: Cc1nc(SCc2cc(=O)[n+]3ccsc3n2)c2ccccc2n1\n",
      "WARNING: Skipping poorly formed SMILES string: Cc1nc2ccccc2c(SCc2cc(=O)[n+]3ccsc3n2)[nH+]1\n",
      "WARNING: Skipping poorly formed SMILES string: Cc1nc(SCc2cc(=O)[n+]3ccsc3n2)c2ccccc2n1\n",
      "WARNING: Skipping poorly formed SMILES string: Cc1nc2ccccc2c(SCc2cc(=O)[n+]3ccsc3n2)[nH+]1\n",
      "Proposed mol at pH 7.4: Cc1nc(SCc2cc(=O)n3ccsc3n2)c2ccccc2n1\n"
     ]
    },
    {
     "name": "stderr",
     "output_type": "stream",
     "text": [
      "[query.py:297 - calculate_microstate_pka_values()] Using dimorphite-dl to identify protonation sites.\n"
     ]
    },
    {
     "name": "stdout",
     "output_type": "stream",
     "text": [
      "Cn1cccc1C(=O)OCc1ccccc1C#N\n",
      "<rdkit.Chem.rdchem.Mol object at 0x7ff0ba363d10>\n",
      "\n",
      "For help, use: python dimorphite_dl.py --help\n",
      "\n",
      "If you use Dimorphite-DL in your research, please cite:\n",
      "Ropp PJ, Kaminsky JC, Yablonski S, Durrant JD (2019) Dimorphite-DL: An\n",
      "open-source program for enumerating the ionization states of drug-like small\n",
      "molecules. J Cheminform 11:14. doi:10.1186/s13321-019-0336-9.\n",
      "\n",
      "Cn1cccc1C(=O)OCc1ccccc1C#N\n",
      "<rdkit.Chem.rdchem.Mol object at 0x7fb8ae7cbd10>\n",
      "\n",
      "For help, use: python dimorphite_dl.py --help\n",
      "\n",
      "If you use Dimorphite-DL in your research, please cite:\n",
      "Ropp PJ, Kaminsky JC, Yablonski S, Durrant JD (2019) Dimorphite-DL: An\n",
      "open-source program for enumerating the ionization states of drug-like small\n",
      "molecules. J Cheminform 11:14. doi:10.1186/s13321-019-0336-9.\n",
      "\n",
      "Proposed mol at pH 7.4: Cn1cccc1C(=O)OCc1ccccc1C#N\n",
      "#########################\n",
      "Could not identify any ionizable group. Aborting.\n",
      "#########################\n"
     ]
    },
    {
     "name": "stderr",
     "output_type": "stream",
     "text": [
      "[query.py:297 - calculate_microstate_pka_values()] Using dimorphite-dl to identify protonation sites.\n"
     ]
    },
    {
     "name": "stdout",
     "output_type": "stream",
     "text": [
      "C[C@H](OC(=O)c1cc2c(s1)CCC2)c1nc2ccccc2c(=O)[nH]1\n",
      "<rdkit.Chem.rdchem.Mol object at 0x7f693dd13df0>\n",
      "\n",
      "For help, use: python dimorphite_dl.py --help\n",
      "\n",
      "If you use Dimorphite-DL in your research, please cite:\n",
      "Ropp PJ, Kaminsky JC, Yablonski S, Durrant JD (2019) Dimorphite-DL: An\n",
      "open-source program for enumerating the ionization states of drug-like small\n",
      "molecules. J Cheminform 11:14. doi:10.1186/s13321-019-0336-9.\n",
      "\n",
      "C[C@H](OC(=O)c1cc2c(s1)CCC2)c1nc2ccccc2c(=O)[nH]1\n",
      "<rdkit.Chem.rdchem.Mol object at 0x7f0aff48bdf0>\n",
      "\n",
      "For help, use: python dimorphite_dl.py --help\n",
      "\n",
      "If you use Dimorphite-DL in your research, please cite:\n",
      "Ropp PJ, Kaminsky JC, Yablonski S, Durrant JD (2019) Dimorphite-DL: An\n",
      "open-source program for enumerating the ionization states of drug-like small\n",
      "molecules. J Cheminform 11:14. doi:10.1186/s13321-019-0336-9.\n",
      "\n",
      "Proposed mol at pH 7.4: C[C@H](OC(=O)c1cc2c(s1)CCC2)c1nc2ccccc2c(=O)[nH]1\n"
     ]
    },
    {
     "name": "stderr",
     "output_type": "stream",
     "text": [
      "[query.py:297 - calculate_microstate_pka_values()] Using dimorphite-dl to identify protonation sites.\n"
     ]
    },
    {
     "name": "stdout",
     "output_type": "stream",
     "text": [
      "CC(=O)NCc1ccc(C(=O)COC(=O)c2cc3c(s2)CCCCC3)o1\n",
      "<rdkit.Chem.rdchem.Mol object at 0x7f4d1a393d10>\n",
      "\n",
      "For help, use: python dimorphite_dl.py --help\n",
      "\n",
      "If you use Dimorphite-DL in your research, please cite:\n",
      "Ropp PJ, Kaminsky JC, Yablonski S, Durrant JD (2019) Dimorphite-DL: An\n",
      "open-source program for enumerating the ionization states of drug-like small\n",
      "molecules. J Cheminform 11:14. doi:10.1186/s13321-019-0336-9.\n",
      "\n",
      "CC(=O)NCc1ccc(C(=O)COC(=O)c2cc3c(s2)CCCCC3)o1\n",
      "<rdkit.Chem.rdchem.Mol object at 0x7f17bbfa7d10>\n",
      "\n",
      "For help, use: python dimorphite_dl.py --help\n",
      "\n",
      "If you use Dimorphite-DL in your research, please cite:\n",
      "Ropp PJ, Kaminsky JC, Yablonski S, Durrant JD (2019) Dimorphite-DL: An\n",
      "open-source program for enumerating the ionization states of drug-like small\n",
      "molecules. J Cheminform 11:14. doi:10.1186/s13321-019-0336-9.\n",
      "\n",
      "Proposed mol at pH 7.4: CC(=O)NCc1ccc(C(=O)COC(=O)c2cc3c(s2)CCCCC3)o1\n"
     ]
    },
    {
     "name": "stderr",
     "output_type": "stream",
     "text": [
      "[query.py:297 - calculate_microstate_pka_values()] Using dimorphite-dl to identify protonation sites.\n"
     ]
    },
    {
     "name": "stdout",
     "output_type": "stream",
     "text": [
      "CCN(C(=O)COc1cccc(-n2cnnn2)c1)c1cccc2ccccc12\n",
      "<rdkit.Chem.rdchem.Mol object at 0x7fcd1bdabd10>\n",
      "\n",
      "For help, use: python dimorphite_dl.py --help\n",
      "\n",
      "If you use Dimorphite-DL in your research, please cite:\n",
      "Ropp PJ, Kaminsky JC, Yablonski S, Durrant JD (2019) Dimorphite-DL: An\n",
      "open-source program for enumerating the ionization states of drug-like small\n",
      "molecules. J Cheminform 11:14. doi:10.1186/s13321-019-0336-9.\n",
      "\n",
      "CCN(C(=O)COc1cccc(-n2cnnn2)c1)c1cccc2ccccc12\n",
      "<rdkit.Chem.rdchem.Mol object at 0x7f5ffb853d10>\n",
      "\n",
      "For help, use: python dimorphite_dl.py --help\n",
      "\n",
      "If you use Dimorphite-DL in your research, please cite:\n",
      "Ropp PJ, Kaminsky JC, Yablonski S, Durrant JD (2019) Dimorphite-DL: An\n",
      "open-source program for enumerating the ionization states of drug-like small\n",
      "molecules. J Cheminform 11:14. doi:10.1186/s13321-019-0336-9.\n",
      "\n",
      "WARNING: Skipping poorly formed SMILES string: CCN(C(=O)COc1cccc(-[n+]2cnnn2)c1)c1cccc2ccccc12\n",
      "WARNING: Skipping poorly formed SMILES string: CC[NH+](C(=O)COc1cccc(-[n+]2cnnn2)c1)c1cccc2ccccc12\n",
      "WARNING: Skipping poorly formed SMILES string: CCN(C(=O)COc1cccc(-[n+]2cnnn2)c1)c1cccc2ccccc12\n",
      "WARNING: Skipping poorly formed SMILES string: CC[NH+](C(=O)COc1cccc(-[n+]2cnnn2)c1)c1cccc2ccccc12\n",
      "Proposed mol at pH 7.4: CCN(C(=O)COc1cccc(-n2cnnn2)c1)c1cccc2ccccc12\n"
     ]
    },
    {
     "name": "stderr",
     "output_type": "stream",
     "text": [
      "[query.py:297 - calculate_microstate_pka_values()] Using dimorphite-dl to identify protonation sites.\n"
     ]
    },
    {
     "name": "stdout",
     "output_type": "stream",
     "text": [
      "Cn1c(Cc2ccccc2)nnc1SCc1nc2ccsc2c(=O)[nH]1\n",
      "<rdkit.Chem.rdchem.Mol object at 0x7f54b7e5bd10>\n",
      "\n",
      "For help, use: python dimorphite_dl.py --help\n",
      "\n",
      "If you use Dimorphite-DL in your research, please cite:\n",
      "Ropp PJ, Kaminsky JC, Yablonski S, Durrant JD (2019) Dimorphite-DL: An\n",
      "open-source program for enumerating the ionization states of drug-like small\n",
      "molecules. J Cheminform 11:14. doi:10.1186/s13321-019-0336-9.\n",
      "\n",
      "Cn1c(Cc2ccccc2)nnc1SCc1nc2ccsc2c(=O)[nH]1\n",
      "<rdkit.Chem.rdchem.Mol object at 0x7f6b63f07d10>\n",
      "\n",
      "For help, use: python dimorphite_dl.py --help\n",
      "\n",
      "If you use Dimorphite-DL in your research, please cite:\n",
      "Ropp PJ, Kaminsky JC, Yablonski S, Durrant JD (2019) Dimorphite-DL: An\n",
      "open-source program for enumerating the ionization states of drug-like small\n",
      "molecules. J Cheminform 11:14. doi:10.1186/s13321-019-0336-9.\n",
      "\n",
      "WARNING: Skipping poorly formed SMILES string: C[n+]1c(Cc2ccccc2)nnc1SCc1nc2ccsc2c(=O)[nH]1\n",
      "WARNING: Skipping poorly formed SMILES string: C[n+]1c(Cc2ccccc2)nnc1SCc1nc2ccsc2c(=O)[nH]1\n",
      "Proposed mol at pH 7.4: Cn1c(Cc2ccccc2)nnc1SCc1nc2ccsc2c(=O)[nH]1\n"
     ]
    },
    {
     "name": "stderr",
     "output_type": "stream",
     "text": [
      "[query.py:297 - calculate_microstate_pka_values()] Using dimorphite-dl to identify protonation sites.\n"
     ]
    },
    {
     "name": "stdout",
     "output_type": "stream",
     "text": [
      "N#Cc1ccc(CSc2nnc(CN3CCCC3)o2)cc1\n",
      "<rdkit.Chem.rdchem.Mol object at 0x7f4ab5a6fd10>\n",
      "\n",
      "For help, use: python dimorphite_dl.py --help\n",
      "\n",
      "If you use Dimorphite-DL in your research, please cite:\n",
      "Ropp PJ, Kaminsky JC, Yablonski S, Durrant JD (2019) Dimorphite-DL: An\n",
      "open-source program for enumerating the ionization states of drug-like small\n",
      "molecules. J Cheminform 11:14. doi:10.1186/s13321-019-0336-9.\n",
      "\n",
      "N#Cc1ccc(CSc2nnc(CN3CCCC3)o2)cc1\n",
      "<rdkit.Chem.rdchem.Mol object at 0x7f0ac185fd10>\n",
      "\n",
      "For help, use: python dimorphite_dl.py --help\n",
      "\n",
      "If you use Dimorphite-DL in your research, please cite:\n",
      "Ropp PJ, Kaminsky JC, Yablonski S, Durrant JD (2019) Dimorphite-DL: An\n",
      "open-source program for enumerating the ionization states of drug-like small\n",
      "molecules. J Cheminform 11:14. doi:10.1186/s13321-019-0336-9.\n",
      "\n",
      "Proposed mol at pH 7.4: N#Cc1ccc(CSc2nnc(C[NH+]3CCCC3)o2)cc1\n"
     ]
    },
    {
     "name": "stderr",
     "output_type": "stream",
     "text": [
      "[query.py:297 - calculate_microstate_pka_values()] Using dimorphite-dl to identify protonation sites.\n"
     ]
    },
    {
     "name": "stdout",
     "output_type": "stream",
     "text": [
      "Cc1noc(C)c1CSCC(=O)Nc1ccccc1\n",
      "<rdkit.Chem.rdchem.Mol object at 0x7f5cd63cfd10>\n",
      "\n",
      "For help, use: python dimorphite_dl.py --help\n",
      "\n",
      "If you use Dimorphite-DL in your research, please cite:\n",
      "Ropp PJ, Kaminsky JC, Yablonski S, Durrant JD (2019) Dimorphite-DL: An\n",
      "open-source program for enumerating the ionization states of drug-like small\n",
      "molecules. J Cheminform 11:14. doi:10.1186/s13321-019-0336-9.\n",
      "\n",
      "Cc1noc(C)c1CSCC(=O)Nc1ccccc1\n",
      "<rdkit.Chem.rdchem.Mol object at 0x7fd53ef13d10>\n",
      "\n",
      "For help, use: python dimorphite_dl.py --help\n",
      "\n",
      "If you use Dimorphite-DL in your research, please cite:\n",
      "Ropp PJ, Kaminsky JC, Yablonski S, Durrant JD (2019) Dimorphite-DL: An\n",
      "open-source program for enumerating the ionization states of drug-like small\n",
      "molecules. J Cheminform 11:14. doi:10.1186/s13321-019-0336-9.\n",
      "\n",
      "Proposed mol at pH 7.4: Cc1noc(C)c1CSCC(=O)Nc1ccccc1\n"
     ]
    },
    {
     "name": "stderr",
     "output_type": "stream",
     "text": [
      "[query.py:297 - calculate_microstate_pka_values()] Using dimorphite-dl to identify protonation sites.\n"
     ]
    },
    {
     "name": "stdout",
     "output_type": "stream",
     "text": [
      "CC1CCCC(NC(=O)Cn2nnc(-c3ccccc3Br)n2)C1C\n",
      "<rdkit.Chem.rdchem.Mol object at 0x7ffb6a52bd10>\n",
      "\n",
      "For help, use: python dimorphite_dl.py --help\n",
      "\n",
      "If you use Dimorphite-DL in your research, please cite:\n",
      "Ropp PJ, Kaminsky JC, Yablonski S, Durrant JD (2019) Dimorphite-DL: An\n",
      "open-source program for enumerating the ionization states of drug-like small\n",
      "molecules. J Cheminform 11:14. doi:10.1186/s13321-019-0336-9.\n",
      "\n",
      "CC1CCCC(NC(=O)Cn2nnc(-c3ccccc3Br)n2)C1C\n",
      "<rdkit.Chem.rdchem.Mol object at 0x7fe9f749bd10>\n",
      "\n",
      "For help, use: python dimorphite_dl.py --help\n",
      "\n",
      "If you use Dimorphite-DL in your research, please cite:\n",
      "Ropp PJ, Kaminsky JC, Yablonski S, Durrant JD (2019) Dimorphite-DL: An\n",
      "open-source program for enumerating the ionization states of drug-like small\n",
      "molecules. J Cheminform 11:14. doi:10.1186/s13321-019-0336-9.\n",
      "\n",
      "WARNING: Skipping poorly formed SMILES string: CC1CCCC([N-]C(=O)C[n+]2nnc(-c3ccccc3Br)n2)C1C\n",
      "WARNING: Skipping poorly formed SMILES string: CC1CCCC(NC(=O)C[n+]2nnc(-c3ccccc3Br)n2)C1C\n",
      "WARNING: Skipping poorly formed SMILES string: CC1CCCC([N-]C(=O)C[n+]2nnc(-c3ccccc3Br)n2)C1C\n",
      "WARNING: Skipping poorly formed SMILES string: CC1CCCC(NC(=O)C[n+]2nnc(-c3ccccc3Br)n2)C1C\n",
      "Proposed mol at pH 7.4: CC1CCCC(NC(=O)Cn2nnc(-c3ccccc3Br)n2)C1C\n",
      "\n",
      "[2023-Jun-16 15:11:45]: ERROR in adding missing protonating state\n",
      "\n",
      "[2023-Jun-16 15:11:45]: 'Rdkit_mol'\n",
      "\n",
      "[2023-Jun-16 15:11:45]: Protonation of compound library finished: Started with 10, ended with 10 : 0 compounds lost\n",
      "\n",
      "[2023-Jun-16 15:11:45]: Generating 3D conformers using GypsumDL...\n",
      "\n",
      "[2023-Jun-16 15:11:46]: Cleaning up files...\n",
      "\n",
      "[2023-Jun-16 15:11:46]: Preparation of compound library finished: ended with 9\n"
     ]
    }
   ],
   "source": [
    "if os.path.isfile(w_dir+'/temp/final_library.sdf') == False:\n",
    "    prepare_library(docking_library, id_column, software, protonation, ncpus)"
   ]
  },
  {
   "attachments": {},
   "cell_type": "markdown",
   "metadata": {},
   "source": [
    "**Docking**\n",
    "\n",
    "This cell will dock all compounds in the receptor, using the reference ligand as a way to define the binding site. (Note: DogSiteScorer not yet implemented here).\n",
    "\n",
    "The docking algorithms specified in the 'docking' variable will be used.\n",
    "\n",
    "The docking will be done in on parallel CPU cores depending on the value or the 'parallel' variable.\n",
    "\n",
    "The docking results are written to the temporary folder. "
   ]
  },
  {
   "cell_type": "code",
   "execution_count": null,
   "metadata": {},
   "outputs": [],
   "source": [
    "docking(w_dir, protein_file, ref_file, software, docking_programs, exhaustiveness, n_poses, ncpus, pocket_definition)"
   ]
  },
  {
   "attachments": {},
   "cell_type": "markdown",
   "metadata": {},
   "source": [
    "All poses are then loaded into memory for clustering"
   ]
  },
  {
   "cell_type": "code",
   "execution_count": null,
   "metadata": {},
   "outputs": [],
   "source": [
    "print('Loading all poses SDF file...')\n",
    "tic = time.perf_counter()\n",
    "all_poses = PandasTools.LoadSDF(w_dir+'/temp/allposes.sdf', idName='Pose ID', molColName='Molecule', includeFingerprints=False, strictParsing=True)\n",
    "toc = time.perf_counter()\n",
    "print(f'Finished loading all poses SDF in {toc-tic:0.4f}!...')\n"
   ]
  },
  {
   "attachments": {},
   "cell_type": "markdown",
   "metadata": {},
   "source": [
    "**Clustering**\n",
    "\n",
    "This cell will perform the clustering according to the values of the 'clusering_metrics', 'clustering_method' and 'parallel' variables. If it detects that the clustering file for that metric has already been generated, it will skip it."
   ]
  },
  {
   "cell_type": "code",
   "execution_count": null,
   "metadata": {},
   "outputs": [],
   "source": [
    "for metric in clustering_metrics:\n",
    "        if os.path.isfile(w_dir+f'/temp/clustering/{metric}_clustered.sdf') == False:\n",
    "            cluster_pebble(metric, 'KMedoids', w_dir, protein_file, all_poses, ncpus)"
   ]
  },
  {
   "attachments": {},
   "cell_type": "markdown",
   "metadata": {},
   "source": [
    "**Rescoring**\n",
    "\n",
    "This cell will rescore all the clustered .sdf files according to the specified scoring functions and the value of the 'parallel' variable."
   ]
  },
  {
   "cell_type": "code",
   "execution_count": null,
   "metadata": {},
   "outputs": [],
   "source": [
    "for metric in clustering_metrics:\n",
    "        rescore_all(w_dir, protein_file, pocket_definition, software, w_dir+f'/temp/clustering/{metric}_clustered.sdf', rescoring, ncpus)\n"
   ]
  },
  {
   "attachments": {},
   "cell_type": "markdown",
   "metadata": {},
   "source": [
    "**Final ranking methods**\n",
    "\n",
    "This code calculates the final ranking of compounds using various methods.\n",
    "- *Method 1* : Calculates ECR value for each cluster center, then outputs the top ranked center.\n",
    "- *Method 2* : Calculates ECR value for each cluster center, then outputs the average ECR value for each compound.\n",
    "- *Method 3* : Calculates the average rank of each compound, then ouputs the corresponding ECR value for each compound.\n",
    "- *Method 4* : Calculates the Rank by Rank consensus\n",
    "- *Method 5* : Calculates the Rank by Vote consensus\n",
    "- *Method 6* : Calculates Z-score for each cluster center, then ouputs the top ranked center.\n",
    "- *Method 7* : Calculates Z-score for each cluster center, then ouputs the average Z-score for each compound.\n",
    "\n",
    "All methods are then combined into a single dataframe for comparison purposes."
   ]
  },
  {
   "cell_type": "code",
   "execution_count": null,
   "metadata": {},
   "outputs": [],
   "source": [
    "calculate_EF_single_functions(w_dir, docking_library, clustering_metrics)\n",
    "apply_consensus_methods_combinations(w_dir, docking_library, clustering_metrics)"
   ]
  }
 ],
 "metadata": {
  "kernelspec": {
   "display_name": "Python 3.8.13 ('wocondock')",
   "language": "python",
   "name": "python3"
  },
  "language_info": {
   "codemirror_mode": {
    "name": "ipython",
    "version": 3
   },
   "file_extension": ".py",
   "mimetype": "text/x-python",
   "name": "python",
   "nbconvert_exporter": "python",
   "pygments_lexer": "ipython3",
   "version": "3.10.11"
  },
  "orig_nbformat": 4,
  "vscode": {
   "interpreter": {
    "hash": "ac9acbc93af693fb4e01b586b9d883cf48eab2850c268069ebbf85c5f9fbe2b9"
   }
  }
 },
 "nbformat": 4,
 "nbformat_minor": 2
}
