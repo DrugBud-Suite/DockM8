{
 "cells": [
  {
   "attachments": {},
   "cell_type": "markdown",
   "metadata": {},
   "source": [
    "**Import required libraries and scripts**"
   ]
  },
  {
   "cell_type": "code",
   "execution_count": 1,
   "metadata": {},
   "outputs": [
    {
     "name": "stderr",
     "output_type": "stream",
     "text": [
      "[14:18:08] Initializing Normalizer\n",
      "/home/alacournola/anaconda3/envs/dockm8/lib/python3.8/site-packages/MDAnalysis/coordinates/chemfiles.py:108: DeprecationWarning: distutils Version classes are deprecated. Use packaging.version instead.\n",
      "  MIN_CHEMFILES_VERSION = LooseVersion(\"0.9\")\n",
      "[TRJ.py:171 - <module>()] netCDF4 is not available. Writing AMBER ncdf files will be slow.\n",
      "/home/alacournola/anaconda3/envs/dockm8/lib/python3.8/site-packages/MDAnalysis/coordinates/TRJ.py:1209: DeprecationWarning: Please use `netcdf_file` from the `scipy.io` namespace, the `scipy.io.netcdf` namespace is deprecated.\n",
      "  class NCDFPicklable(scipy.io.netcdf.netcdf_file):\n"
     ]
    }
   ],
   "source": [
    "#Import required libraries and scripts\n",
    "from scripts.library_preparation import *\n",
    "from scripts.utilities import *\n",
    "from scripts.docking_functions import *\n",
    "from scripts.clustering_functions import *\n",
    "from scripts.rescoring_functions import *\n",
    "from scripts.performance_calculation import *\n",
    "from scripts.dogsitescorer import *\n",
    "from scripts.get_pocket import *"
   ]
  },
  {
   "attachments": {},
   "cell_type": "markdown",
   "metadata": {},
   "source": [
    "**Set up**\n",
    "- **software**: The path to the software folder.\n",
    "- **proteinfile**: The path to the protein file (.pdb).\n",
    "- **pocket**: The method to use for pocket determination. Must be one of 'reference' or 'dogsitescorer'.\n",
    "- **dockinglibrary: The path to the docking library file (.sdf).\n",
    "- **idcolumn**: The unique identifier column used in the docking library.\n",
    "- **protonation**: The method to use for compound protonation. Must be one of 'pkasolver', 'GypsumDL', or 'None'.\n",
    "- **docking**: The method(s) to use for docking. Must be one or more of 'GNINA', 'SMINA', or 'PLANTS'.\n",
    "- **metric**: The method(s) to use for pose clustering. Must be one or more of 'RMSD', 'spyRMSD', 'espsim', 'USRCAT', '3DScore', 'bestpose', 'bestpose_GNINA', 'bestpose_SMINA', or 'bestpose_PLANTS'.\n",
    "- **nposes**: The number of poses to generate for each docking software. Default=10\n",
    "- **exhaustiveness**: The precision used if docking with SMINA/GNINA. Default=8\n",
    "- **parallel**: Whether or not to run the workflow in parallel. Default=1 (on). Can be set to 1 (on) or 0 (off).\n",
    "- **ncpus**: The number of cpus to use for the workflow. Default behavior is to use half of the available cpus.\n",
    "- **clustering**: Which algorithm to use for clustering. Must be one of 'KMedoids', 'Aff_prop'.\n",
    "- **rescoring**: Which scoring functions to use for rescoring. Must be one or more of 'gnina', 'AD4', 'chemplp', 'rfscorevs', 'LinF9', 'vinardo', 'plp', 'AAScore'.\n",
    "\n",
    "The software will then create a temporary directory to store the output of the various functions."
   ]
  },
  {
   "cell_type": "code",
   "execution_count": 2,
   "metadata": {},
   "outputs": [
    {
     "name": "stdout",
     "output_type": "stream",
     "text": [
      "The working directory has been set to: /home/alacournola/LecB\n",
      "The folder: /home/alacournola/LecB/temp already exists\n"
     ]
    }
   ],
   "source": [
    "software = '/home/alacournola/DockM8/software'\n",
    "protein_file = '/home/alacournola/LecB/8aiy_nowater_protoss_CA_noligand.pdb'\n",
    "ref_file = '/home/alacournola/LecB/8aiy_nowater_protoss_CA_referenceligand.sdf'\n",
    "pocket = 'reference'\n",
    "protonation = 'pkasolver'\n",
    "docking_library = '/home/alacournola/LecB/8aiy_nowater_protoss_CA_HYDE.sdf'\n",
    "docking_programs = ['GNINA', 'SMINA', 'PLANTS']\n",
    "clustering_metrics = ['RMSD', 'spyRMSD', 'espsim', '3DScore', 'bestpose', 'bestpose_GNINA', 'bestpose_SMINA', 'bestpose_PLANTS']\n",
    "clustering_method = 'KMedoids'\n",
    "rescoring= ['gnina', 'AD4', 'chemplp', 'rfscorevs', 'LinF9', 'RTMScore', 'vinardo']\n",
    "id_column = 'ID'\n",
    "n_poses = 10\n",
    "exhaustiveness = 8\n",
    "ncpus = 1\n",
    "#Create a temporary folder for all further calculations\n",
    "w_dir = os.path.dirname(protein_file)\n",
    "print('The working directory has been set to:', w_dir)\n",
    "create_temp_folder(w_dir+'/temp')"
   ]
  },
  {
   "attachments": {},
   "cell_type": "markdown",
   "metadata": {},
   "source": [
    "**Pocket Extraction**  \n",
    "\n",
    "This cell will extract the pocket based on the method specified in the 'pocket' variable. Using 'reference' will use the reference ligand to define the pocket. Using 'dogsitescore' will query the dogsitescorer server and use the pocket with the largest volume."
   ]
  },
  {
   "cell_type": "code",
   "execution_count": null,
   "metadata": {},
   "outputs": [],
   "source": [
    "if os.path.isfile(protein_file.replace('.pdb', '_pocket.pdb')) == False:\n",
    "    if pocket == 'reference':\n",
    "        pocket_definition = GetPocket(ref_file, protein_file, 8)\n",
    "    elif pocket == 'dogsitescorer':\n",
    "        pocket_definition = binding_site_coordinates_dogsitescorer(protein_file, w_dir, method='volume')"
   ]
  },
  {
   "attachments": {},
   "cell_type": "markdown",
   "metadata": {},
   "source": [
    "**Library preparation**\n",
    "\n",
    "This function will first standardize the library using the ChemBL structure pipeline. This will remove salts and make the library consistent.\n",
    "\n",
    "Protonation states can be calculated by one of three methods depending on the value of the 'protonation' variable:\n",
    "- pkasolver : will use the pkasolver library to predict a single protonation state\n",
    "- GypsumDL : will use the GypsumDL program to predict a single protonation state\n",
    "- None : will skip protonation and use the protonation state supplied in the docking library\n",
    "\n",
    "Finally, one 3D conformer is generated per molecule using GypsumDL.\n",
    "\n",
    "The final_library is then written to a file in the main directory (final_library.sdf)"
   ]
  },
  {
   "cell_type": "code",
   "execution_count": null,
   "metadata": {},
   "outputs": [],
   "source": [
    "if os.path.isfile(w_dir+'/temp/final_library.sdf') == False:\n",
    "    prepare_library(docking_library, id_column, software, protonation, ncpus)"
   ]
  },
  {
   "attachments": {},
   "cell_type": "markdown",
   "metadata": {},
   "source": [
    "**Docking**\n",
    "\n",
    "This cell will dock all compounds in the receptor, using the reference ligand as a way to define the binding site. (Note: DogSiteScorer not yet implemented here).\n",
    "\n",
    "The docking algorithms specified in the 'docking' variable will be used.\n",
    "\n",
    "The docking will be done in on parallel CPU cores depending on the value or the 'parallel' variable.\n",
    "\n",
    "The docking results are written to the temporary folder. "
   ]
  },
  {
   "cell_type": "code",
   "execution_count": null,
   "metadata": {},
   "outputs": [],
   "source": [
    "docking(w_dir, protein_file, ref_file, software, docking_programs, exhaustiveness, n_poses, ncpus)\n"
   ]
  },
  {
   "attachments": {},
   "cell_type": "markdown",
   "metadata": {},
   "source": [
    "All poses are then loaded into memory for clustering"
   ]
  },
  {
   "cell_type": "code",
   "execution_count": null,
   "metadata": {},
   "outputs": [],
   "source": [
    "print('Loading all poses SDF file...')\n",
    "tic = time.perf_counter()\n",
    "all_poses = PandasTools.LoadSDF(w_dir+'/temp/allposes.sdf', idName='Pose ID', molColName='Molecule', includeFingerprints=False, strictParsing=True)\n",
    "toc = time.perf_counter()\n",
    "print(f'Finished loading all poses SDF in {toc-tic:0.4f}!...')\n"
   ]
  },
  {
   "attachments": {},
   "cell_type": "markdown",
   "metadata": {},
   "source": [
    "**Clustering**\n",
    "\n",
    "This cell will perform the clustering according to the values of the 'clusering_metrics', 'clustering_method' and 'parallel' variables. If it detects that the clustering file for that metric has already been generated, it will skip it."
   ]
  },
  {
   "cell_type": "code",
   "execution_count": null,
   "metadata": {},
   "outputs": [],
   "source": [
    "for metric in clustering_metrics:\n",
    "        if os.path.isfile(w_dir+f'/temp/clustering/{metric}_clustered.sdf') == False:\n",
    "            cluster_pebble(metric, 'KMedoids', w_dir, protein_file, all_poses, ncpus)"
   ]
  },
  {
   "attachments": {},
   "cell_type": "markdown",
   "metadata": {},
   "source": [
    "**Rescoring**\n",
    "\n",
    "This cell will rescore all the clustered .sdf files according to the specified scoring functions and the value of the 'parallel' variable."
   ]
  },
  {
   "cell_type": "code",
   "execution_count": 3,
   "metadata": {},
   "outputs": [
    {
     "name": "stdout",
     "output_type": "stream",
     "text": [
      "The folder: /home/alacournola/LecB/temp/rescoring_RMSD_clustered already exists\n",
      "\n",
      "[2023-May-12 14:18:15]: /gnina_rescoring folder already exists, skipping gnina rescoring\n",
      "\n",
      "[2023-May-12 14:18:15]: /AD4_rescoring folder already exists, skipping AD4 rescoring\n",
      "\n",
      "[2023-May-12 14:18:15]: /chemplp_rescoring folder already exists, skipping chemplp rescoring\n",
      "\n",
      "[2023-May-12 14:18:15]: /rfscorevs_rescoring folder already exists, skipping rfscorevs rescoring\n",
      "\n",
      "[2023-May-12 14:18:15]: /LinF9_rescoring folder already exists, skipping LinF9 rescoring\n",
      "\n",
      "[2023-May-12 14:18:15]: /RTMScore_rescoring folder already exists, skipping RTMScore rescoring\n",
      "\n",
      "[2023-May-12 14:18:15]: /vinardo_rescoring folder already exists, skipping vinardo rescoring\n",
      "\n",
      "[2023-May-12 14:18:15]: Rescoring complete in 0.0079!\n",
      "The folder: /home/alacournola/LecB/temp/rescoring_spyRMSD_clustered already exists\n",
      "\n",
      "[2023-May-12 14:18:15]: /gnina_rescoring folder already exists, skipping gnina rescoring\n",
      "\n",
      "[2023-May-12 14:18:15]: /AD4_rescoring folder already exists, skipping AD4 rescoring\n",
      "\n",
      "[2023-May-12 14:18:15]: /chemplp_rescoring folder already exists, skipping chemplp rescoring\n",
      "\n",
      "[2023-May-12 14:18:15]: /rfscorevs_rescoring folder already exists, skipping rfscorevs rescoring\n",
      "\n",
      "[2023-May-12 14:18:15]: /LinF9_rescoring folder already exists, skipping LinF9 rescoring\n",
      "\n",
      "[2023-May-12 14:18:15]: /RTMScore_rescoring folder already exists, skipping RTMScore rescoring\n",
      "\n",
      "[2023-May-12 14:18:15]: /vinardo_rescoring folder already exists, skipping vinardo rescoring\n",
      "\n",
      "[2023-May-12 14:18:15]: Rescoring complete in 0.0053!\n",
      "The folder: /home/alacournola/LecB/temp/rescoring_espsim_clustered already exists\n",
      "\n",
      "[2023-May-12 14:18:15]: /gnina_rescoring folder already exists, skipping gnina rescoring\n",
      "\n",
      "[2023-May-12 14:18:15]: /AD4_rescoring folder already exists, skipping AD4 rescoring\n",
      "\n",
      "[2023-May-12 14:18:15]: /chemplp_rescoring folder already exists, skipping chemplp rescoring\n",
      "\n",
      "[2023-May-12 14:18:15]: /rfscorevs_rescoring folder already exists, skipping rfscorevs rescoring\n",
      "\n",
      "[2023-May-12 14:18:15]: /LinF9_rescoring folder already exists, skipping LinF9 rescoring\n",
      "\n",
      "[2023-May-12 14:18:15]: /RTMScore_rescoring folder already exists, skipping RTMScore rescoring\n",
      "\n",
      "[2023-May-12 14:18:15]: /vinardo_rescoring folder already exists, skipping vinardo rescoring\n",
      "\n",
      "[2023-May-12 14:18:15]: Rescoring complete in 0.0050!\n",
      "The folder: /home/alacournola/LecB/temp/rescoring_3DScore_clustered already exists\n",
      "\n",
      "[2023-May-12 14:18:15]: /gnina_rescoring folder already exists, skipping gnina rescoring\n",
      "\n",
      "[2023-May-12 14:18:15]: /AD4_rescoring folder already exists, skipping AD4 rescoring\n",
      "\n",
      "[2023-May-12 14:18:15]: /chemplp_rescoring folder already exists, skipping chemplp rescoring\n",
      "\n",
      "[2023-May-12 14:18:15]: /rfscorevs_rescoring folder already exists, skipping rfscorevs rescoring\n",
      "\n",
      "[2023-May-12 14:18:15]: /LinF9_rescoring folder already exists, skipping LinF9 rescoring\n",
      "\n",
      "[2023-May-12 14:18:15]: /RTMScore_rescoring folder already exists, skipping RTMScore rescoring\n",
      "\n",
      "[2023-May-12 14:18:15]: /vinardo_rescoring folder already exists, skipping vinardo rescoring\n",
      "\n",
      "[2023-May-12 14:18:15]: Combining all score for /home/alacournola/LecB/temp/rescoring_3DScore_clustered\n"
     ]
    },
    {
     "name": "stderr",
     "output_type": "stream",
     "text": [
      "Combining scores:  50%|█████     | 3/6 [00:01<00:01,  1.56files/s]"
     ]
    },
    {
     "ename": "",
     "evalue": "",
     "output_type": "error",
     "traceback": [
      "\u001b[1;31mCanceled future for execute_request message before replies were done"
     ]
    },
    {
     "ename": "",
     "evalue": "",
     "output_type": "error",
     "traceback": [
      "\u001b[1;31mThe Kernel crashed while executing code in the the current cell or a previous cell. Please review the code in the cell(s) to identify a possible cause of the failure. Click <a href='https://aka.ms/vscodeJupyterKernelCrash'>here</a> for more info. View Jupyter <a href='command:jupyter.viewOutput'>log</a> for further details."
     ]
    }
   ],
   "source": [
    "for metric in clustering_metrics:\n",
    "        rescore_all(w_dir, protein_file, ref_file, software, w_dir+f'/temp/clustering/{metric}_clustered.sdf', rescoring, ncpus)\n"
   ]
  },
  {
   "attachments": {},
   "cell_type": "markdown",
   "metadata": {},
   "source": [
    "**Final ranking methods**\n",
    "\n",
    "This code calculates the final ranking of compounds using various methods.\n",
    "- *Method 1* : Calculates ECR value for each cluster center, then outputs the top ranked center.\n",
    "- *Method 2* : Calculates ECR value for each cluster center, then outputs the average ECR value for each compound.\n",
    "- *Method 3* : Calculates the average rank of each compound, then ouputs the corresponding ECR value for each compound.\n",
    "- *Method 4* : Calculates the Rank by Rank consensus\n",
    "- *Method 5* : Calculates the Rank by Vote consensus\n",
    "- *Method 6* : Calculates Z-score for each cluster center, then ouputs the top ranked center.\n",
    "- *Method 7* : Calculates Z-score for each cluster center, then ouputs the average Z-score for each compound.\n",
    "\n",
    "All methods are then combined into a single dataframe for comparison purposes."
   ]
  },
  {
   "cell_type": "code",
   "execution_count": null,
   "metadata": {},
   "outputs": [],
   "source": [
    "calculate_EF_single_functions(w_dir, docking_library, clustering_metrics)\n",
    "apply_consensus_methods_combinations(w_dir, docking_library, clustering_metrics)"
   ]
  }
 ],
 "metadata": {
  "kernelspec": {
   "display_name": "Python 3.8.13 ('wocondock')",
   "language": "python",
   "name": "python3"
  },
  "language_info": {
   "codemirror_mode": {
    "name": "ipython",
    "version": 3
   },
   "file_extension": ".py",
   "mimetype": "text/x-python",
   "name": "python",
   "nbconvert_exporter": "python",
   "pygments_lexer": "ipython3",
   "version": "3.8.16"
  },
  "orig_nbformat": 4,
  "vscode": {
   "interpreter": {
    "hash": "ac9acbc93af693fb4e01b586b9d883cf48eab2850c268069ebbf85c5f9fbe2b9"
   }
  }
 },
 "nbformat": 4,
 "nbformat_minor": 2
}
