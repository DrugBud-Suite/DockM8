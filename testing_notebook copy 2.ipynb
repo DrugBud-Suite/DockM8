{
 "cells": [
  {
   "cell_type": "markdown",
   "metadata": {},
   "source": [
    "**Import required libraries and scripts**"
   ]
  },
  {
   "cell_type": "code",
   "execution_count": 1,
   "metadata": {},
   "outputs": [
    {
     "name": "stderr",
     "output_type": "stream",
     "text": [
      "[21:45:01] Initializing Normalizer\n"
     ]
    },
    {
     "name": "stdout",
     "output_type": "stream",
     "text": [
      "The working directory has been set to: /home/mario/holiday/hadc2\n"
     ]
    },
    {
     "ename": "FileNotFoundError",
     "evalue": "[Errno 2] No such file or directory: '/home/mario/holiday/hadc2/temp'",
     "output_type": "error",
     "traceback": [
      "\u001b[0;31m---------------------------------------------------------------------------\u001b[0m",
      "\u001b[0;31mFileNotFoundError\u001b[0m                         Traceback (most recent call last)",
      "Cell \u001b[0;32mIn[1], line 30\u001b[0m\n\u001b[1;32m     28\u001b[0m w_dir \u001b[39m=\u001b[39m os\u001b[39m.\u001b[39mpath\u001b[39m.\u001b[39mdirname(protein_file)\n\u001b[1;32m     29\u001b[0m \u001b[39mprint\u001b[39m(\u001b[39m'\u001b[39m\u001b[39mThe working directory has been set to:\u001b[39m\u001b[39m'\u001b[39m, w_dir)\n\u001b[0;32m---> 30\u001b[0m create_temp_folder(w_dir\u001b[39m+\u001b[39;49m\u001b[39m'\u001b[39;49m\u001b[39m/temp\u001b[39;49m\u001b[39m'\u001b[39;49m)\n",
      "File \u001b[0;32m~/DockM8/scripts/utilities.py:7\u001b[0m, in \u001b[0;36mcreate_temp_folder\u001b[0;34m(path, silent)\u001b[0m\n\u001b[1;32m      5\u001b[0m     \u001b[39mprint\u001b[39m(\u001b[39mf\u001b[39m\u001b[39m'\u001b[39m\u001b[39mThe folder: \u001b[39m\u001b[39m{\u001b[39;00mpath\u001b[39m}\u001b[39;00m\u001b[39m already exists\u001b[39m\u001b[39m'\u001b[39m)\n\u001b[1;32m      6\u001b[0m \u001b[39melse\u001b[39;00m:\n\u001b[0;32m----> 7\u001b[0m     os\u001b[39m.\u001b[39;49mmkdir(path)\n\u001b[1;32m      8\u001b[0m     \u001b[39mif\u001b[39;00m silent \u001b[39m==\u001b[39m \u001b[39mFalse\u001b[39;00m:\n\u001b[1;32m      9\u001b[0m         \u001b[39mprint\u001b[39m(\u001b[39mf\u001b[39m\u001b[39m'\u001b[39m\u001b[39mThe folder: \u001b[39m\u001b[39m{\u001b[39;00mpath\u001b[39m}\u001b[39;00m\u001b[39m was created\u001b[39m\u001b[39m'\u001b[39m)\n",
      "\u001b[0;31mFileNotFoundError\u001b[0m: [Errno 2] No such file or directory: '/home/mario/holiday/hadc2/temp'"
     ]
    }
   ],
   "source": [
    "#Import required libraries and scripts\n",
    "from scripts.library_preparation import *\n",
    "from scripts.utilities import *\n",
    "from scripts.docking_functions import *\n",
    "from scripts.clustering_functions import *\n",
    "from scripts.rescoring_functions import *\n",
    "from scripts.ranking_functions import *\n",
    "from scripts.performance_calculation import *\n",
    "from scripts.dogsitescorer import *\n",
    "from scripts.get_pocket import *\n",
    "\n",
    "software = '/home/mario/DockM8/software'\n",
    "protein_file = '/home/mario/holiday/hdac2/receptor_protoss_prepared.pdb'\n",
    "ref_file = '/home/mario/holiday/hdac2/crystal_ligand_protoss.sdf'\n",
    "pocket = 'reference'\n",
    "protonation = 'pkasolver'\n",
    "docking_library = '/home/mario/holiday/hdac2/merged_actives_decoys.sdf'\n",
    "docking_programs = ['GNINA', 'SMINA', 'PLANTS']\n",
    "clustering_metrics = ['RMSD', 'spyRMSD', 'espsim', '3DScore', 'bestpose', 'bestpose_GNINA', 'bestpose_SMINA', 'bestpose_PLANTS']\n",
    "clustering_method = 'KMedoids'\n",
    "rescoring= ['gnina', 'AD4', 'chemplp', 'rfscorevs', 'LinF9', 'SCORCH']\n",
    "id_column = 'ID'\n",
    "n_poses = 10\n",
    "exhaustiveness = 8\n",
    "parallel = 1\n",
    "ncpus = int(os.cpu_count()/2)\n",
    "#Create a temporary folder for all further calculations\n",
    "w_dir = os.path.dirname(protein_file)\n",
    "print('The working directory has been set to:', w_dir)\n",
    "create_temp_folder(w_dir+'/temp')"
   ]
  },
  {
   "cell_type": "code",
   "execution_count": null,
   "metadata": {},
   "outputs": [],
   "source": [
    "if os.path.isfile(protein_file.replace('.pdb', '_pocket.pdb')) == False:\n",
    "    if pocket == 'reference':\n",
    "        pocket_definition = GetPocket(ref_file, protein_file, 8)\n",
    "    elif pocket == 'dogsitescorer':\n",
    "        pocket_definition = binding_site_coordinates_dogsitescorer(protein_file, w_dir, method='volume')"
   ]
  },
  {
   "cell_type": "code",
   "execution_count": null,
   "metadata": {},
   "outputs": [],
   "source": [
    "if os.path.isfile(w_dir+'/temp/final_library.sdf') == False:\n",
    "    prepare_library(docking_library, id_column, software, protonation, ncpus)"
   ]
  },
  {
   "cell_type": "code",
   "execution_count": null,
   "metadata": {},
   "outputs": [],
   "source": [
    "docking_programs = {'GNINA': w_dir+'/temp/gnina/', 'SMINA': w_dir+'/temp/smina/', 'PLANTS': w_dir+'/temp/plants/'}\n",
    "if parallel == 1:\n",
    "    for program, file_path in docking_programs.items():\n",
    "        if os.path.isdir(file_path) == False and program in docking_programs:\n",
    "            docking_splitted(w_dir, protein_file, ref_file, software, [program], exhaustiveness, n_poses, ncpus)\n",
    "else:\n",
    "    for program, file_path in docking_programs.items():\n",
    "        if os.path.isdir(file_path) == False and program in docking_programs:\n",
    "            docking(w_dir, protein_file, ref_file, software, [program], exhaustiveness, n_poses, ncpus)\n"
   ]
  },
  {
   "cell_type": "code",
   "execution_count": null,
   "metadata": {},
   "outputs": [],
   "source": [
    "print('Loading all poses SDF file...')\n",
    "tic = time.perf_counter()\n",
    "all_poses = PandasTools.LoadSDF(w_dir+'/temp/allposes.sdf', idName='Pose ID', molColName='Molecule', includeFingerprints=False, strictParsing=True)\n",
    "toc = time.perf_counter()\n",
    "print(f'Finished loading all poses SDF in {toc-tic:0.4f}!...')\n"
   ]
  },
  {
   "cell_type": "code",
   "execution_count": null,
   "metadata": {},
   "outputs": [],
   "source": [
    "if parallel == 1:\n",
    "    for metric in clustering_metrics:\n",
    "        if os.path.isfile(w_dir+f'/temp/clustering/{metric}_clustered.sdf') == False:\n",
    "            cluster_futures(metric, clustering_method, w_dir, protein_file, all_poses, ncpus)\n",
    "else:\n",
    "    for metric in clustering_metrics:\n",
    "        if os.path.isfile(w_dir+f'/temp/clustering/{metric}_clustered.sdf') == False:\n",
    "            cluster(metric, clustering_method, w_dir, protein_file, all_poses, ncpus)"
   ]
  },
  {
   "cell_type": "code",
   "execution_count": null,
   "metadata": {},
   "outputs": [],
   "source": [
    "for metric in clustering_metrics:\n",
    "        rescore_all(w_dir, protein_file, ref_file, software, w_dir+f'/temp/clustering/{metric}_clustered.sdf', rescoring, parallel, ncpus)\n"
   ]
  },
  {
   "cell_type": "code",
   "execution_count": null,
   "metadata": {},
   "outputs": [],
   "source": [
    "apply_consensus_methods(w_dir, clustering_metrics)\n",
    "calculate_EFs(w_dir, docking_library)"
   ]
  },
  {
   "cell_type": "code",
   "execution_count": null,
   "metadata": {},
   "outputs": [],
   "source": [
    "apply_consensus_methods_combinations(w_dir, clustering_metrics)\n",
    "calculate_EFs_combinations(w_dir, docking_library)"
   ]
  }
 ],
 "metadata": {
  "kernelspec": {
   "display_name": "Python 3.8.13 ('wocondock')",
   "language": "python",
   "name": "python3"
  },
  "language_info": {
   "codemirror_mode": {
    "name": "ipython",
    "version": 3
   },
   "file_extension": ".py",
   "mimetype": "text/x-python",
   "name": "python",
   "nbconvert_exporter": "python",
   "pygments_lexer": "ipython3",
   "version": "3.8.15"
  },
  "orig_nbformat": 4,
  "vscode": {
   "interpreter": {
    "hash": "ac9acbc93af693fb4e01b586b9d883cf48eab2850c268069ebbf85c5f9fbe2b9"
   }
  }
 },
 "nbformat": 4,
 "nbformat_minor": 2
}
