{
 "cells": [
  {
   "attachments": {},
   "cell_type": "markdown",
   "metadata": {},
   "source": [
    "**Import required libraries and scripts**"
   ]
  },
  {
   "cell_type": "code",
   "execution_count": null,
   "metadata": {},
   "outputs": [],
   "source": [
    "#Import required libraries and scripts\n",
    "from scripts.library_preparation import *\n",
    "from scripts.utilities import *\n",
    "from scripts.docking_functions2 import *\n",
    "from scripts.clustering_functions import *\n",
    "from scripts.rescoring_functions import *\n",
    "from scripts.consensus_methods import *\n",
    "from scripts.performance_calculation import *\n",
    "from scripts.dogsitescorer import *\n",
    "from scripts.get_pocket import *\n",
    "\n",
    "software = '/home/mario/DockM8/software'\n",
    "protein_file = '/media/mario/T7/FINISHED/FINISHED/xiap/receptor_protoss_prepared.pdb'\n",
    "ref_file = '/media/mario/T7/FINISHED/FINISHED/xiap/crystal_ligand_protoss.sdf'\n",
    "docking_library = '/media/mario/T7/FINISHED/FINISHED/xiap/merged_actives_decoys.sdf'\n",
    "docking_programs = ['GNINA', 'SMINA', 'PLANTS']\n",
    "clustering_metrics = ['RMSD', 'spyRMSD', 'espsim', '3DScore', 'bestpose', 'bestpose_GNINA', 'bestpose_SMINA', 'bestpose_PLANTS']\n",
    "rescoring_functions = ['gnina', 'AD4', 'chemplp', 'rfscorevs', 'LinF9', 'SCORCH', 'RTMScore', 'vinardo']\n",
    "id_column = 'ID'\n",
    "n_poses = 10\n",
    "exhaustiveness = 8\n",
    "protonation = 'pkasolver'\n",
    "parallel = 1\n",
    "ncpus = int(os.cpu_count()/2)\n",
    "pocket = 'reference'\n",
    "#Create a temporary folder for all further calculations\n",
    "w_dir = os.path.dirname(protein_file)\n",
    "print('The working directory has been set to:', w_dir)\n",
    "create_temp_folder(w_dir+'/temp')"
   ]
  },
  {
   "cell_type": "code",
   "execution_count": null,
   "metadata": {},
   "outputs": [],
   "source": [
    "if os.path.isfile(protein_file.replace('.pdb', '_pocket.pdb')) == False:\n",
    "    if pocket == 'reference':\n",
    "        pocket_definition = GetPocket(ref_file, protein_file, 8)\n",
    "    elif pocket == 'dogsitescorer':\n",
    "        pocket_definition = binding_site_coordinates_dogsitescorer(protein_file, w_dir, method='volume')"
   ]
  },
  {
   "cell_type": "code",
   "execution_count": null,
   "metadata": {},
   "outputs": [],
   "source": [
    "if os.path.isfile(w_dir+'/temp/final_library.sdf') == False:\n",
    "    prepare_library(docking_library, id_column, software, protonation, ncpus)"
   ]
  },
  {
   "cell_type": "code",
   "execution_count": null,
   "metadata": {},
   "outputs": [],
   "source": [
    "docking(w_dir, protein_file, ref_file, software, docking_programs, exhaustiveness, n_poses, ncpus)"
   ]
  },
  {
   "cell_type": "code",
   "execution_count": null,
   "metadata": {},
   "outputs": [],
   "source": [
    "print('Loading all poses SDF file...')\n",
    "tic = time.perf_counter()\n",
    "all_poses = PandasTools.LoadSDF(w_dir+'/temp/allposes.sdf', idName='Pose ID', molColName='Molecule', includeFingerprints=False, strictParsing=True)\n",
    "toc = time.perf_counter()\n",
    "print(f'Finished loading all poses SDF in {toc-tic:0.4f}!...')\n"
   ]
  },
  {
   "cell_type": "code",
   "execution_count": null,
   "metadata": {},
   "outputs": [],
   "source": [
    "for metric in clustering_metrics:\n",
    "        if os.path.isfile(w_dir+f'/temp/clustering/{metric}_clustered.sdf') == False:\n",
    "            cluster_pebble(metric, 'KMedoids', w_dir, protein_file, all_poses, ncpus)"
   ]
  },
  {
   "cell_type": "code",
   "execution_count": null,
   "metadata": {},
   "outputs": [],
   "source": [
    "for metric in clustering_metrics:\n",
    "        rescore_all(w_dir, protein_file, ref_file, software, w_dir+f'/temp/clustering/{metric}_clustered.sdf', rescoring_functions, ncpus)\n"
   ]
  },
  {
   "cell_type": "code",
   "execution_count": null,
   "metadata": {},
   "outputs": [],
   "source": [
    "calculate_EF_single_functions(w_dir, docking_library, clustering_metrics)\n",
    "apply_consensus_methods_combinations(w_dir, docking_library, clustering_metrics)"
   ]
  },
  {
   "cell_type": "code",
   "execution_count": null,
   "metadata": {},
   "outputs": [],
   "source": [
    "def apply_consensus_methods(w_dir, clustering_metric, method, rescoring_functions):\n",
    "    create_temp_folder(w_dir+'/temp/ranking')\n",
    "    rescoring_folder = f'rescoring_{clustering_metric}_clustered'\n",
    "    rescored_dataframe = pd.read_csv(w_dir + f'/temp/{rescoring_folder}/allposes_rescored.csv')\n",
    "    standardised_dataframe = standardize_scores(rescored_dataframe)\n",
    "    col_dict = {'gnina':['GNINA', 'CNN-Score', 'CNN-Affinity'], 'vinardo':'Vinardo', 'AD4':'AD4', 'LinF9':'LinF9', 'rfscorevs':'RFScoreVS', 'plp':'PLP', 'chemplp':'CHEMPLP', 'NNScore':'NNScore', \n",
    "               'PLECnn':'PLECnn', 'AAScore':'AAScore', 'ECIF':'ECIF', 'SCORCH':'SCORCH','RTMScore':'RTMScore'}\n",
    "    col_list = ['Pose ID', 'GNINA', 'CNN-Score', 'RTMScore']\n",
    "    # for function in rescoring_functions:\n",
    "    #     cols = col_dict[function]\n",
    "    #     if isinstance(cols, list):\n",
    "    #         col_list.extend(cols)\n",
    "    #     else:\n",
    "    #         col_list.append(cols)\n",
    "    # print(col_list)\n",
    "    filtered_dataframe = standardised_dataframe[col_list]\n",
    "    print(filtered_dataframe)\n",
    "    standardised_dataframes, ranked_dataframes = process_dataframes(w_dir, {clustering_metric: rescoring_folder})\n",
    "    for name, df_dict in {'standardised': standardised_dataframes, 'ranked': ranked_dataframes}.items():\n",
    "        for df_name, df in df_dict.items():\n",
    "            df['ID'] = df['Pose ID'].str.split('_').str[0]\n",
    "            df.to_csv(w_dir + f'/temp/ranking/{df_name}.csv', index=False)\n",
    "\n",
    "    create_temp_folder(w_dir+'/temp/consensus')\n",
    "    rank_methods = {'method1': method1_ECR_best, 'method2': method2_ECR_average, 'method3': method3_avg_ECR, 'method4': method4_RbR}\n",
    "    score_methods = {'method5': method5_RbV, 'method6': method6_Zscore_best, 'method7': method7_Zscore_avg}\n",
    "\n",
    "    if method in rank_methods:\n",
    "        method_function = rank_methods[method]\n",
    "        analysed_dataframe = method_function(ranked_dataframes[clustering_metric+'_ranked'], clustering_metric, [col for col in ranked_dataframes[clustering_metric+'_ranked'] if col not in ['Pose ID', 'ID']])\n",
    "    elif method in score_methods:\n",
    "        method_function = score_methods[method]\n",
    "        analysed_dataframe = method_function(standardised_dataframes[clustering_metric+'_standardised'], clustering_metric, [col for col in standardised_dataframes[clustering_metric+'_standardised'] if col not in ['Pose ID', 'ID']])\n",
    "    else:\n",
    "        raise ValueError(f\"Invalid method: {method}\")\n",
    "\n",
    "    print(analysed_dataframe)\n",
    "    analysed_dataframe = analysed_dataframe.drop(columns=\"Pose ID\", errors='ignore')\n",
    "    analysed_dataframe.to_csv(w_dir+f'/temp/consensus/{clustering_metric}_{method}_results.csv', index=False)\n",
    "\n",
    "apply_consensus_methods(w_dir, 'bestpose', 'method6', ['gnina', 'RTMScore'])"
   ]
  },
  {
   "cell_type": "code",
   "execution_count": null,
   "metadata": {},
   "outputs": [],
   "source": [
    "results = pd.read_csv('/home/mario/DockM8/cdk2/temp/consensus/bestpose_method6_results.csv')\n",
    "database = PandasTools.LoadSDF('/home/mario/DockM8/cdk2/temp/final_library.sdf', molColName=None, smilesName='SMILES', idName='ID')\n",
    "final = pd.merge(database, results, on='ID', how='inner')\n",
    "final.to_csv('/home/mario/DockM8/cdk2/temp/consensus/results_for_ML.csv', index=False)"
   ]
  },
  {
   "cell_type": "code",
   "execution_count": null,
   "metadata": {},
   "outputs": [],
   "source": [
    "./gnina -r /media/mario/T7/FINISHED/FINISHED/ace/receptor_prepared_protoss.pdb -l /media/mario/T7/FINISHED/FINISHED/ace/temp/clustering/RMSD_clustered.sdf --autobox_ligand /media/mario/T7/FINISHED/FINISHED/ace/crystal_ligand_protoss.sdf -o /media/mario/T7/FINISHED/FINISHED/ace/temp/rescoring_RMSD_clustered/vinardo_rescoring/vinardo_scores.csv --score_only --scoring vinardo --cnn_scoring none --no_gpu"
   ]
  }
 ],
 "metadata": {
  "kernelspec": {
   "display_name": "wocondock",
   "language": "python",
   "name": "python3"
  },
  "language_info": {
   "codemirror_mode": {
    "name": "ipython",
    "version": 3
   },
   "file_extension": ".py",
   "mimetype": "text/x-python",
   "name": "python",
   "nbconvert_exporter": "python",
   "pygments_lexer": "ipython3",
   "version": "3.8.15"
  },
  "orig_nbformat": 4,
  "vscode": {
   "interpreter": {
    "hash": "10164e316682d9b4b376ca14144ea8a4ff51ebef10350aaa3c3bfce49f02faa4"
   }
  }
 },
 "nbformat": 4,
 "nbformat_minor": 2
}
