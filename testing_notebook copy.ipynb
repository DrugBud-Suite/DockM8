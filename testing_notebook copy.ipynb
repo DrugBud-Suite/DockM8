{
 "cells": [
  {
   "cell_type": "markdown",
   "metadata": {},
   "source": [
    "**Import required libraries and scripts**"
   ]
  },
  {
   "cell_type": "code",
   "execution_count": 7,
   "metadata": {},
   "outputs": [
    {
     "name": "stdout",
     "output_type": "stream",
     "text": [
      "The working directory has been set to: /home/mario/holiday/gria2\n",
      "The folder: /home/mario/holiday/gria2/temp already exists\n"
     ]
    }
   ],
   "source": [
    "#Import required libraries and scripts\n",
    "from scripts.library_preparation import *\n",
    "from scripts.utilities import *\n",
    "from scripts.docking_functions import *\n",
    "from scripts.clustering_functions import *\n",
    "from scripts.rescoring_functions import *\n",
    "from scripts.ranking_functions import *\n",
    "from scripts.performance_calculation import *\n",
    "from scripts.dogsitescorer import *\n",
    "from scripts.get_pocket import *\n",
    "import numpy as np\n",
    "import os\n",
    "\n",
    "software = '/home/mario/DockM8/software'\n",
    "protein_file = '/home/mario/holiday/gria2/receptor_protoss_prepared.pdb'\n",
    "ref_file = '/home/mario/holiday/gria2/crystal_ligand_protoss.sdf'\n",
    "docking_library = '/home/mario/holiday/gria2/merged_actives_decoys.sdf'\n",
    "docking_programs = ['GNINA', 'SMINA', 'PLANTS']\n",
    "clustering_metrics = ['RMSD', 'spyRMSD', 'espsim', '3DScore', 'bestpose', 'bestpose_GNINA', 'bestpose_SMINA', 'bestpose_PLANTS']\n",
    "rescoring_functions = ['gnina', 'AD4', 'chemplp', 'rfscorevs', 'LinF9']\n",
    "id_column = 'ID'\n",
    "n_poses = 10\n",
    "exhaustiveness = 4\n",
    "ncpus = int(os.cpu_count()/2)\n",
    "#Initialise variables and create a temporary folder\n",
    "w_dir = os.path.dirname(protein_file)\n",
    "print('The working directory has been set to:', w_dir)\n",
    "create_temp_folder(w_dir+'/temp')"
   ]
  },
  {
   "cell_type": "code",
   "execution_count": null,
   "metadata": {},
   "outputs": [],
   "source": [
    "pocket_definition = binding_site_coordinates_dogsitescorer(protein_file, w_dir, method='volume')"
   ]
  },
  {
   "cell_type": "code",
   "execution_count": null,
   "metadata": {},
   "outputs": [],
   "source": [
    "pocket = GetPocket(ref_file, protein_file, 8)"
   ]
  },
  {
   "cell_type": "code",
   "execution_count": null,
   "metadata": {},
   "outputs": [],
   "source": [
    "cleaned_pkasolver_df = prepare_library(docking_library, id_column, software, 'pkasolver', ncpus)"
   ]
  },
  {
   "cell_type": "code",
   "execution_count": null,
   "metadata": {},
   "outputs": [],
   "source": [
    "all_poses = docking(protein_file, ref_file, software, docking_programs, exhaustiveness, n_poses)"
   ]
  },
  {
   "cell_type": "code",
   "execution_count": null,
   "metadata": {},
   "outputs": [],
   "source": [
    "docking_splitted(w_dir, protein_file, ref_file, software, docking_programs, exhaustiveness, n_poses)"
   ]
  },
  {
   "cell_type": "code",
   "execution_count": null,
   "metadata": {},
   "outputs": [],
   "source": [
    "fetch_poses_splitted(w_dir, n_poses, split_files_folder=w_dir+'/temp/split_final_library')"
   ]
  },
  {
   "cell_type": "code",
   "execution_count": 8,
   "metadata": {},
   "outputs": [
    {
     "name": "stdout",
     "output_type": "stream",
     "text": [
      "Loading all poses SDF file...\n",
      "Finished loading all poses SDF in 63.9150!...\n"
     ]
    }
   ],
   "source": [
    "print('Loading all poses SDF file...')\n",
    "tic = time.perf_counter()\n",
    "all_poses = PandasTools.LoadSDF(w_dir+'/temp/allposes.sdf', idName='Pose ID', molColName='Molecule', includeFingerprints=False, strictParsing=True)\n",
    "toc = time.perf_counter()\n",
    "print(f'Finished loading all poses SDF in {toc-tic:0.4f}!...')"
   ]
  },
  {
   "cell_type": "code",
   "execution_count": 9,
   "metadata": {},
   "outputs": [
    {
     "name": "stdout",
     "output_type": "stream",
     "text": [
      "The folder: /home/mario/holiday/gria2/temp/clustering/ already exists\n",
      "\n",
      "[2023-Mar-12 16:35:57]: *Calculating RMSD metrics and clustering*\n",
      "\n",
      "[2023-Mar-12 16:35:57]: Submitting parallel jobs...\n"
     ]
    },
    {
     "name": "stderr",
     "output_type": "stream",
     "text": [
      "Submitting parallel jobs...: 100%|██████████| 11838/11838 [05:33<00:00, 35.51IDs/s]\n"
     ]
    },
    {
     "name": "stdout",
     "output_type": "stream",
     "text": [
      "\n",
      "[2023-Mar-12 16:41:30]: Finished submitting jobs in 333.3502, now running jobs...\n"
     ]
    },
    {
     "name": "stderr",
     "output_type": "stream",
     "text": [
      "Running clustering jobs...: 100%|██████████| 11838/11838 [24:03<00:00,  8.20jobs/s]  \n"
     ]
    },
    {
     "name": "stdout",
     "output_type": "stream",
     "text": [
      "The folder: /home/mario/holiday/gria2/temp/clustering/ already exists\n",
      "\n",
      "[2023-Mar-12 17:05:38]: *Calculating spyRMSD metrics and clustering*\n",
      "\n",
      "[2023-Mar-12 17:05:38]: Submitting parallel jobs...\n"
     ]
    },
    {
     "name": "stderr",
     "output_type": "stream",
     "text": [
      "Submitting parallel jobs...: 100%|██████████| 11838/11838 [04:48<00:00, 41.09IDs/s]\n"
     ]
    },
    {
     "name": "stdout",
     "output_type": "stream",
     "text": [
      "\n",
      "[2023-Mar-12 17:10:27]: Finished submitting jobs in 288.1305, now running jobs...\n"
     ]
    },
    {
     "name": "stderr",
     "output_type": "stream",
     "text": [
      "Running clustering jobs...: 100%|██████████| 11838/11838 [29:18<00:00,  6.73jobs/s] \n"
     ]
    },
    {
     "name": "stdout",
     "output_type": "stream",
     "text": [
      "The folder: /home/mario/holiday/gria2/temp/clustering/ already exists\n",
      "\n",
      "[2023-Mar-12 17:39:52]: *Calculating espsim metrics and clustering*\n",
      "\n",
      "[2023-Mar-12 17:39:52]: Submitting parallel jobs...\n"
     ]
    },
    {
     "name": "stderr",
     "output_type": "stream",
     "text": [
      "Submitting parallel jobs...: 100%|██████████| 11838/11838 [04:41<00:00, 42.05IDs/s]\n"
     ]
    },
    {
     "name": "stdout",
     "output_type": "stream",
     "text": [
      "\n",
      "[2023-Mar-12 17:44:34]: Finished submitting jobs in 281.5084, now running jobs...\n"
     ]
    },
    {
     "name": "stderr",
     "output_type": "stream",
     "text": [
      "Running clustering jobs...: 100%|██████████| 11838/11838 [01:38<00:00, 120.63jobs/s] \n"
     ]
    },
    {
     "name": "stdout",
     "output_type": "stream",
     "text": [
      "The folder: /home/mario/holiday/gria2/temp/clustering/ already exists\n",
      "\n",
      "[2023-Mar-12 17:46:18]: *Calculating 3DScore metrics and clustering*\n",
      "\n",
      "[2023-Mar-12 17:46:18]: Submitting parallel jobs...\n"
     ]
    },
    {
     "name": "stderr",
     "output_type": "stream",
     "text": [
      "Submitting parallel jobs...: 100%|██████████| 11838/11838 [04:43<00:00, 41.81IDs/s]\n"
     ]
    },
    {
     "name": "stdout",
     "output_type": "stream",
     "text": [
      "\n",
      "[2023-Mar-12 17:51:01]: Finished submitting jobs in 283.1293, now running jobs...\n"
     ]
    },
    {
     "name": "stderr",
     "output_type": "stream",
     "text": [
      "Running clustering jobs...: 100%|██████████| 11838/11838 [29:05<00:00,  6.78jobs/s] \n"
     ]
    },
    {
     "name": "stdout",
     "output_type": "stream",
     "text": [
      "The folder: /home/mario/holiday/gria2/temp/clustering/ already exists\n",
      "\n",
      "[2023-Mar-12 18:20:10]: *Calculating bestpose metrics and clustering*\n",
      "The folder: /home/mario/holiday/gria2/temp/clustering/ already exists\n",
      "\n",
      "[2023-Mar-12 18:20:16]: *Calculating bestpose_GNINA metrics and clustering*\n",
      "The folder: /home/mario/holiday/gria2/temp/clustering/ already exists\n",
      "\n",
      "[2023-Mar-12 18:20:18]: *Calculating bestpose_SMINA metrics and clustering*\n",
      "The folder: /home/mario/holiday/gria2/temp/clustering/ already exists\n",
      "\n",
      "[2023-Mar-12 18:20:20]: *Calculating bestpose_PLANTS metrics and clustering*\n"
     ]
    }
   ],
   "source": [
    "for metric in clustering_metrics:\n",
    "    cluster_futures(f'{metric}', 'KMedoids', w_dir, protein_file, all_poses, ncpus)"
   ]
  },
  {
   "cell_type": "markdown",
   "metadata": {},
   "source": [
    "**Rescoring**\n",
    "\n",
    "The file containing all the cluster centers is then rescored using all scoring functions available (GNINA, Vina, AutoDock4, PLP, CHEMPLP, RF-Score-VS). The rescored output is return as a dataframe."
   ]
  },
  {
   "cell_type": "code",
   "execution_count": 10,
   "metadata": {},
   "outputs": [
    {
     "name": "stdout",
     "output_type": "stream",
     "text": [
      "The folder: /home/mario/holiday/gria2/temp/rescoring_RMSD_clustered was created\n",
      "Splitting SDF file RMSD_clustered.sdf ...\n"
     ]
    },
    {
     "name": "stderr",
     "output_type": "stream",
     "text": [
      "Splitting files: 100%|██████████| 25/25 [00:03<00:00,  6.27it/s]\n"
     ]
    },
    {
     "name": "stdout",
     "output_type": "stream",
     "text": [
      "Split docking library into 25 files each containing 1352 compounds\n",
      "\n",
      "[2023-Mar-12 18:20:33]: Rescoring with GNINA\n"
     ]
    },
    {
     "name": "stderr",
     "output_type": "stream",
     "text": [
      "Submitting GNINA rescoring jobs: 100%|██████████| 25/25 [00:00<00:00, 35.63file/s]\n",
      "Rescoring with GNINA: 100%|██████████| 25/25 [07:10<00:00, 17.21s/file]\n"
     ]
    },
    {
     "name": "stdout",
     "output_type": "stream",
     "text": [
      "\n",
      "[2023-Mar-12 18:27:47]: Rescoring with GNINA complete in 445.0534!\n",
      "\n",
      "[2023-Mar-12 18:27:47]: Rescoring with AD4\n",
      "\n",
      "[2023-Mar-12 18:28:28]: Rescoring with AD4 complete in 41.1607!\n",
      "\n",
      "[2023-Mar-12 18:28:28]: Rescoring with CHEMPLP\n"
     ]
    },
    {
     "name": "stderr",
     "output_type": "stream",
     "text": [
      "32458 molecules converted\n"
     ]
    },
    {
     "name": "stdout",
     "output_type": "stream",
     "text": [
      "\n",
      "[2023-Mar-12 18:30:24]: Rescoring with CHEMPLP complete in 115.1741!\n",
      "\n",
      "[2023-Mar-12 18:30:24]: Rescoring with RFScoreVS\n",
      "\n",
      "[2023-Mar-12 18:33:45]: Rescoring with RF-Score-VS complete in 201.0181!\n",
      "Splitting SDF file RMSD_clustered.sdf ...\n"
     ]
    },
    {
     "name": "stderr",
     "output_type": "stream",
     "text": [
      "Splitting files: 100%|██████████| 25/25 [00:04<00:00,  5.52it/s]\n"
     ]
    },
    {
     "name": "stdout",
     "output_type": "stream",
     "text": [
      "Split docking library into 25 files each containing 1352 compounds\n"
     ]
    },
    {
     "name": "stderr",
     "output_type": "stream",
     "text": [
      "Submitting LinF9 rescoring jobs: 100%|██████████| 25/25 [00:01<00:00, 23.88file/s]\n",
      "Rescoring with LinF9: 100%|██████████| 25/25 [00:08<00:00,  2.96file/s]\n"
     ]
    },
    {
     "name": "stdout",
     "output_type": "stream",
     "text": [
      "\n",
      "[2023-Mar-12 18:34:10]: Rescoring with LinF9 complete in 25.5444!\n",
      "\n",
      "[2023-Mar-12 18:34:10]: Combining all score for /home/mario/holiday/gria2/temp/rescoring_RMSD_clustered\n"
     ]
    },
    {
     "name": "stderr",
     "output_type": "stream",
     "text": [
      "Combining scores: 100%|██████████| 4/4 [00:00<00:00, 160.39files/s]\n"
     ]
    },
    {
     "name": "stdout",
     "output_type": "stream",
     "text": [
      "\n",
      "[2023-Mar-12 18:34:10]: Rescoring complete in 828.3340!\n",
      "The folder: /home/mario/holiday/gria2/temp/rescoring_spyRMSD_clustered was created\n",
      "Splitting SDF file spyRMSD_clustered.sdf ...\n"
     ]
    },
    {
     "name": "stderr",
     "output_type": "stream",
     "text": [
      "Splitting files: 100%|██████████| 24/24 [00:04<00:00,  5.09it/s]\n"
     ]
    },
    {
     "name": "stdout",
     "output_type": "stream",
     "text": [
      "Split docking library into 24 files each containing 1362 compounds\n",
      "\n",
      "[2023-Mar-12 18:34:22]: Rescoring with GNINA\n"
     ]
    },
    {
     "name": "stderr",
     "output_type": "stream",
     "text": [
      "Submitting GNINA rescoring jobs: 100%|██████████| 24/24 [00:01<00:00, 23.55file/s]\n",
      "Rescoring with GNINA: 100%|██████████| 24/24 [07:15<00:00, 18.13s/file]  \n"
     ]
    },
    {
     "name": "stdout",
     "output_type": "stream",
     "text": [
      "\n",
      "[2023-Mar-12 18:41:43]: Rescoring with GNINA complete in 452.4569!\n",
      "\n",
      "[2023-Mar-12 18:41:43]: Rescoring with AD4\n",
      "\n",
      "[2023-Mar-12 18:42:24]: Rescoring with AD4 complete in 40.6330!\n",
      "\n",
      "[2023-Mar-12 18:42:24]: Rescoring with CHEMPLP\n"
     ]
    },
    {
     "name": "stderr",
     "output_type": "stream",
     "text": [
      "32686 molecules converted\n"
     ]
    },
    {
     "name": "stdout",
     "output_type": "stream",
     "text": [
      "\n",
      "[2023-Mar-12 18:43:53]: Rescoring with CHEMPLP complete in 89.5879!\n",
      "\n",
      "[2023-Mar-12 18:43:53]: Rescoring with RFScoreVS\n",
      "\n",
      "[2023-Mar-12 18:47:14]: Rescoring with RF-Score-VS complete in 200.4909!\n",
      "Splitting SDF file spyRMSD_clustered.sdf ...\n"
     ]
    },
    {
     "name": "stderr",
     "output_type": "stream",
     "text": [
      "Splitting files: 100%|██████████| 24/24 [00:05<00:00,  4.69it/s]\n"
     ]
    },
    {
     "name": "stdout",
     "output_type": "stream",
     "text": [
      "Split docking library into 24 files each containing 1362 compounds\n"
     ]
    },
    {
     "name": "stderr",
     "output_type": "stream",
     "text": [
      "Submitting LinF9 rescoring jobs: 100%|██████████| 24/24 [00:00<00:00, 30.42file/s]\n",
      "Rescoring with LinF9: 100%|██████████| 24/24 [00:08<00:00,  2.86file/s]\n"
     ]
    },
    {
     "name": "stdout",
     "output_type": "stream",
     "text": [
      "\n",
      "[2023-Mar-12 18:47:42]: Rescoring with LinF9 complete in 28.7621!\n",
      "\n",
      "[2023-Mar-12 18:47:42]: Combining all score for /home/mario/holiday/gria2/temp/rescoring_spyRMSD_clustered\n"
     ]
    },
    {
     "name": "stderr",
     "output_type": "stream",
     "text": [
      "Combining scores: 100%|██████████| 4/4 [00:00<00:00, 86.00files/s]\n"
     ]
    },
    {
     "name": "stdout",
     "output_type": "stream",
     "text": [
      "\n",
      "[2023-Mar-12 18:47:43]: Rescoring complete in 812.4387!\n",
      "The folder: /home/mario/holiday/gria2/temp/rescoring_espsim_clustered was created\n",
      "Splitting SDF file espsim_clustered.sdf ...\n"
     ]
    },
    {
     "name": "stderr",
     "output_type": "stream",
     "text": [
      "Splitting files: 100%|██████████| 24/24 [00:03<00:00,  7.76it/s]\n"
     ]
    },
    {
     "name": "stdout",
     "output_type": "stream",
     "text": [
      "Split docking library into 24 files each containing 1082 compounds\n",
      "\n",
      "[2023-Mar-12 18:47:53]: Rescoring with GNINA\n"
     ]
    },
    {
     "name": "stderr",
     "output_type": "stream",
     "text": [
      "Submitting GNINA rescoring jobs: 100%|██████████| 24/24 [00:00<00:00, 24.08file/s]\n",
      "Rescoring with GNINA: 100%|██████████| 24/24 [05:58<00:00, 14.93s/file]  \n"
     ]
    },
    {
     "name": "stdout",
     "output_type": "stream",
     "text": [
      "\n",
      "[2023-Mar-12 18:53:55]: Rescoring with GNINA complete in 372.5606!\n",
      "\n",
      "[2023-Mar-12 18:53:55]: Rescoring with AD4\n",
      "\n",
      "[2023-Mar-12 18:54:31]: Rescoring with AD4 complete in 35.6774!\n",
      "\n",
      "[2023-Mar-12 18:54:31]: Rescoring with CHEMPLP\n"
     ]
    },
    {
     "name": "stderr",
     "output_type": "stream",
     "text": [
      "25957 molecules converted\n"
     ]
    },
    {
     "name": "stdout",
     "output_type": "stream",
     "text": [
      "\n",
      "[2023-Mar-12 18:56:13]: Rescoring with CHEMPLP complete in 101.8768!\n",
      "\n",
      "[2023-Mar-12 18:56:13]: Rescoring with RFScoreVS\n"
     ]
    }
   ],
   "source": [
    "for metric in clustering_metrics:\n",
    "    rescore_all(w_dir, protein_file, ref_file, software, w_dir+f'/temp/clustering/{metric}_clustered.sdf', rescoring_functions, 1, ncpus)"
   ]
  },
  {
   "cell_type": "markdown",
   "metadata": {},
   "source": [
    "**Final ranking methods**\n",
    "\n",
    "This code calculates the final ranking of compounds using various methods.\n",
    "*Method 1* : Calculates ECR value for each cluster center, then outputs the top ranked center.\n",
    "*Method 2* : Calculates ECR value for each cluster center, then outputs the average ECR value for each compound.\n",
    "*Method 3* : Calculates the average rank of each compound, then ouputs the corresponding ECR value for each compound.\n",
    "*Method 6* : Calculates Z-score for each cluster center, then ouputs the top ranked center.\n",
    "*Method 7* : Calculates Z-score for each cluster center, then ouputs the average Z-score for each compound.\n",
    "\n",
    "All methods are then combined into a single dataframe for comparison purposes."
   ]
  },
  {
   "cell_type": "code",
   "execution_count": null,
   "metadata": {},
   "outputs": [],
   "source": [
    "apply_consensus_methods(w_dir, clustering_metrics)"
   ]
  },
  {
   "cell_type": "code",
   "execution_count": null,
   "metadata": {},
   "outputs": [],
   "source": [
    "calculate_EFs(w_dir, docking_library)"
   ]
  },
  {
   "cell_type": "code",
   "execution_count": null,
   "metadata": {},
   "outputs": [],
   "source": [
    "# dfs = []\n",
    "# for root, dirs, files in os.walk('/home/tony/CADD22/'):\n",
    "#     for file in files:\n",
    "#         if file == 'enrichement_factors.csv':\n",
    "#             file_path = os.path.join(root, file)\n",
    "#             print(root)\n",
    "#             df = pd.read_csv(file_path)\n",
    "#             df = df.rename(columns={df.columns[0]: 'Method'})\n",
    "#             df = df.rename(columns={'EF1%': root.replace('/home/tony/CADD22/', '').replace('wocondock_performance_', '').replace('/temp/consensus', '')})\n",
    "#             dfs.append(df)\n",
    "# merged_df = pd.concat(dfs, axis=0, ignore_index=True)\n",
    "# merged_df = merged_df.groupby('Method', as_index=False).sum()\n",
    "# display(merged_df)\n",
    "# merged_df.to_csv('/home/tony/CADD22/results.csv', index=None)"
   ]
  }
 ],
 "metadata": {
  "kernelspec": {
   "display_name": "wocondock",
   "language": "python",
   "name": "python3"
  },
  "language_info": {
   "codemirror_mode": {
    "name": "ipython",
    "version": 3
   },
   "file_extension": ".py",
   "mimetype": "text/x-python",
   "name": "python",
   "nbconvert_exporter": "python",
   "pygments_lexer": "ipython3",
   "version": "3.8.15"
  },
  "orig_nbformat": 4,
  "vscode": {
   "interpreter": {
    "hash": "10164e316682d9b4b376ca14144ea8a4ff51ebef10350aaa3c3bfce49f02faa4"
   }
  }
 },
 "nbformat": 4,
 "nbformat_minor": 2
}
